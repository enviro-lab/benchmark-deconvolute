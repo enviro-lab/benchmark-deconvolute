{
 "cells": [
  {
   "cell_type": "code",
   "execution_count": 37,
   "metadata": {},
   "outputs": [],
   "source": [
    "from pathlib import Path # type: ignore\n",
    "from freyja_plot import FreyjaPlotter\n",
    "import plotly.io as pio\n",
    "import numpy as np\n",
    "import sys\n",
    "if (module_path:=str(Path(\".\").absolute().resolve().parent)) not in sys.path:\n",
    "    sys.path.insert(0, module_path)\n",
    "from sample_info import colormap, summary_dict, expected, artic_runs as runs, plotting_dir, renameSamples"
   ]
  },
  {
   "cell_type": "code",
   "execution_count": 14,
   "metadata": {},
   "outputs": [],
   "source": [
    "outdir = plotting_dir / \"detection_plots/detection_plots\"\n",
    "outdir.mkdir(exist_ok=True)"
   ]
  },
  {
   "cell_type": "code",
   "execution_count": 15,
   "metadata": {},
   "outputs": [],
   "source": [
    "file_map = {expected:\"Expected\"}\n",
    "file_map.update({runs[tool][\"WB\"]:tool for tool in runs.keys()})\n",
    "# for tool, files in runs.items():\n",
    "#     for name,file in files.items():\n",
    "#         if name == \"WB\":\n",
    "#             # file_map[file] = f\"{tool}: {name}\"\n",
    "#             file_map[file] = tool\n",
    "\n",
    "plotter = FreyjaPlotter(file_map=file_map,summary_dict=summary_dict,colormap=colormap)\n",
    "plotter = renameSamples(plotter)"
   ]
  },
  {
   "cell_type": "markdown",
   "metadata": {},
   "source": [
    "### Dectection of expected lineages (Fig 5a in the paper)"
   ]
  },
  {
   "cell_type": "code",
   "execution_count": 16,
   "metadata": {},
   "outputs": [],
   "source": [
    "fig1 = plotter.plotLineageDetections(show_counts=True,summarized=True,height=800,include_unexpected_lineages=True)\n",
    "fn1 = outdir / \"detection-summary.jpg\""
   ]
  },
  {
   "cell_type": "code",
   "execution_count": 17,
   "metadata": {},
   "outputs": [
    {
     "data": {
      "application/vnd.plotly.v1+json": {
       "config": {
        "plotlyServerURL": "https://plot.ly"
       },
       "data": [
        {
         "alignmentgroup": "True",
         "hovertemplate": "Result=Correctly detected<br>scheme=Alcov<br>Sample=%{x}<br>Count=%{y}<extra></extra>",
         "legendgroup": "Correctly detected",
         "marker": {
          "color": "#636efa",
          "pattern": {
           "shape": ""
          }
         },
         "name": "Correctly detected",
         "offsetgroup": "Correctly detected",
         "orientation": "v",
         "showlegend": true,
         "textposition": "auto",
         "texttemplate": "%{y}",
         "type": "bar",
         "x": [
          "0",
          "0-2",
          "0-3",
          "0-4",
          "0adgio1",
          "0adgio1-2",
          "0adgio1o2o3o4o5",
          "0agio1o2",
          "0aio1o2o3o4o5",
          "0o5o3o4",
          "a",
          "a-2",
          "adgio1o2o3",
          "agio3o4o5",
          "d",
          "d-2",
          "g",
          "g-2",
          "i",
          "i-2",
          "o1-2",
          "o1o2",
          "o1o2o3o4o5",
          "o2-2",
          "o2-3",
          "o2o3o4o5",
          "o2o3o4o5-2",
          "o2o3o4o5-3",
          "o3",
          "o3-2",
          "o3-3",
          "o3-4",
          "o4",
          "o4-2",
          "o4-3",
          "o5",
          "o5-2",
          "o5-3"
         ],
         "xaxis": "x9",
         "y": [
          0,
          0,
          0,
          0,
          5,
          5,
          9,
          5,
          7,
          3,
          1,
          1,
          7,
          6,
          1,
          1,
          1,
          1,
          1,
          1,
          1,
          2,
          5,
          1,
          1,
          4,
          4,
          4,
          1,
          1,
          1,
          1,
          1,
          1,
          1,
          1,
          1,
          1
         ],
         "yaxis": "y9"
        },
        {
         "alignmentgroup": "True",
         "hovertemplate": "Result=Correctly detected<br>scheme=Freyja<br>Sample=%{x}<br>Count=%{y}<extra></extra>",
         "legendgroup": "Correctly detected",
         "marker": {
          "color": "#636efa",
          "pattern": {
           "shape": ""
          }
         },
         "name": "Correctly detected",
         "offsetgroup": "Correctly detected",
         "orientation": "v",
         "showlegend": false,
         "textposition": "auto",
         "texttemplate": "%{y}",
         "type": "bar",
         "x": [
          "0",
          "0-2",
          "0-3",
          "0-4",
          "0adgio1",
          "0adgio1-2",
          "0adgio1o2o3o4o5",
          "0agio1o2",
          "0aio1o2o3o4o5",
          "0o5o3o4",
          "a",
          "a-2",
          "adgio1o2o3",
          "agio3o4o5",
          "d",
          "d-2",
          "g",
          "g-2",
          "i",
          "i-2",
          "o1-2",
          "o1o2",
          "o1o2o3o4o5",
          "o2-2",
          "o2-3",
          "o2o3o4o5",
          "o2o3o4o5-2",
          "o2o3o4o5-3",
          "o3",
          "o3-2",
          "o3-3",
          "o3-4",
          "o4",
          "o4-2",
          "o4-3",
          "o5",
          "o5-2",
          "o5-3"
         ],
         "xaxis": "x8",
         "y": [
          1,
          1,
          1,
          1,
          5,
          6,
          10,
          5,
          7,
          4,
          1,
          1,
          7,
          6,
          1,
          1,
          1,
          1,
          1,
          1,
          1,
          2,
          5,
          1,
          1,
          4,
          4,
          4,
          1,
          1,
          1,
          1,
          1,
          1,
          1,
          1,
          1,
          1
         ],
         "yaxis": "y8"
        },
        {
         "alignmentgroup": "True",
         "hovertemplate": "Result=Correctly detected<br>scheme=kallisto<br>Sample=%{x}<br>Count=%{y}<extra></extra>",
         "legendgroup": "Correctly detected",
         "marker": {
          "color": "#636efa",
          "pattern": {
           "shape": ""
          }
         },
         "name": "Correctly detected",
         "offsetgroup": "Correctly detected",
         "orientation": "v",
         "showlegend": false,
         "textposition": "auto",
         "texttemplate": "%{y}",
         "type": "bar",
         "x": [
          "0",
          "0-2",
          "0-3",
          "0-4",
          "0adgio1",
          "0adgio1-2",
          "0adgio1o2o3o4o5",
          "0agio1o2",
          "0aio1o2o3o4o5",
          "0o5o3o4",
          "a",
          "a-2",
          "adgio1o2o3",
          "agio3o4o5",
          "d",
          "d-2",
          "g",
          "g-2",
          "i",
          "i-2",
          "o1-2",
          "o1o2",
          "o1o2o3o4o5",
          "o2-2",
          "o2-3",
          "o2o3o4o5",
          "o2o3o4o5-2",
          "o2o3o4o5-3",
          "o3",
          "o3-2",
          "o3-3",
          "o3-4",
          "o4",
          "o4-2",
          "o4-3",
          "o5",
          "o5-2",
          "o5-3"
         ],
         "xaxis": "x7",
         "y": [
          1,
          1,
          1,
          1,
          6,
          6,
          10,
          6,
          7,
          4,
          1,
          1,
          7,
          6,
          1,
          1,
          1,
          1,
          1,
          1,
          1,
          2,
          5,
          1,
          1,
          4,
          4,
          4,
          1,
          1,
          1,
          1,
          1,
          1,
          1,
          1,
          1,
          1
         ],
         "yaxis": "y7"
        },
        {
         "alignmentgroup": "True",
         "hovertemplate": "Result=Correctly detected<br>scheme=kallisto (C-WAP)<br>Sample=%{x}<br>Count=%{y}<extra></extra>",
         "legendgroup": "Correctly detected",
         "marker": {
          "color": "#636efa",
          "pattern": {
           "shape": ""
          }
         },
         "name": "Correctly detected",
         "offsetgroup": "Correctly detected",
         "orientation": "v",
         "showlegend": false,
         "textposition": "auto",
         "texttemplate": "%{y}",
         "type": "bar",
         "x": [
          "0",
          "0-2",
          "0-3",
          "0-4",
          "0adgio1",
          "0adgio1-2",
          "0adgio1o2o3o4o5",
          "0agio1o2",
          "0aio1o2o3o4o5",
          "0o5o3o4",
          "a",
          "a-2",
          "adgio1o2o3",
          "agio3o4o5",
          "d",
          "d-2",
          "g",
          "g-2",
          "i",
          "i-2",
          "o1-2",
          "o1o2",
          "o1o2o3o4o5",
          "o2-2",
          "o2-3",
          "o2o3o4o5",
          "o2o3o4o5-2",
          "o2o3o4o5-3",
          "o3",
          "o3-2",
          "o3-3",
          "o3-4",
          "o4",
          "o4-2",
          "o4-3",
          "o5",
          "o5-2",
          "o5-3"
         ],
         "xaxis": "x6",
         "y": [
          1,
          1,
          1,
          1,
          6,
          6,
          9,
          6,
          7,
          3,
          1,
          1,
          6,
          5,
          1,
          1,
          1,
          1,
          1,
          1,
          1,
          2,
          4,
          1,
          1,
          3,
          3,
          3,
          0,
          0,
          0,
          0,
          1,
          1,
          1,
          1,
          1,
          1
         ],
         "yaxis": "y6"
        },
        {
         "alignmentgroup": "True",
         "hovertemplate": "Result=Correctly detected<br>scheme=Kraken 2 (C-WAP)<br>Sample=%{x}<br>Count=%{y}<extra></extra>",
         "legendgroup": "Correctly detected",
         "marker": {
          "color": "#636efa",
          "pattern": {
           "shape": ""
          }
         },
         "name": "Correctly detected",
         "offsetgroup": "Correctly detected",
         "orientation": "v",
         "showlegend": false,
         "textposition": "auto",
         "texttemplate": "%{y}",
         "type": "bar",
         "x": [
          "0",
          "0-2",
          "0-3",
          "0-4",
          "0adgio1",
          "0adgio1-2",
          "0adgio1o2o3o4o5",
          "0agio1o2",
          "0aio1o2o3o4o5",
          "0o5o3o4",
          "a",
          "a-2",
          "adgio1o2o3",
          "agio3o4o5",
          "d",
          "d-2",
          "g",
          "g-2",
          "i",
          "i-2",
          "o1-2",
          "o1o2",
          "o1o2o3o4o5",
          "o2-2",
          "o2-3",
          "o2o3o4o5",
          "o2o3o4o5-2",
          "o2o3o4o5-3",
          "o3",
          "o3-2",
          "o3-3",
          "o3-4",
          "o4",
          "o4-2",
          "o4-3",
          "o5",
          "o5-2",
          "o5-3"
         ],
         "xaxis": "x5",
         "y": [
          0,
          0,
          0,
          0,
          1,
          1,
          4,
          2,
          4,
          2,
          0,
          0,
          2,
          2,
          0,
          0,
          0,
          0,
          0,
          0,
          1,
          2,
          4,
          1,
          1,
          3,
          3,
          3,
          0,
          0,
          0,
          0,
          1,
          1,
          1,
          1,
          1,
          1
         ],
         "yaxis": "y5"
        },
        {
         "alignmentgroup": "True",
         "hovertemplate": "Result=Correctly detected<br>scheme=LCS<br>Sample=%{x}<br>Count=%{y}<extra></extra>",
         "legendgroup": "Correctly detected",
         "marker": {
          "color": "#636efa",
          "pattern": {
           "shape": ""
          }
         },
         "name": "Correctly detected",
         "offsetgroup": "Correctly detected",
         "orientation": "v",
         "showlegend": false,
         "textposition": "auto",
         "texttemplate": "%{y}",
         "type": "bar",
         "x": [
          "0",
          "0-2",
          "0-3",
          "0-4",
          "0adgio1",
          "0adgio1-2",
          "0adgio1o2o3o4o5",
          "0agio1o2",
          "0aio1o2o3o4o5",
          "0o5o3o4",
          "a",
          "a-2",
          "adgio1o2o3",
          "agio3o4o5",
          "d",
          "d-2",
          "g",
          "g-2",
          "i",
          "i-2",
          "o1-2",
          "o1o2",
          "o1o2o3o4o5",
          "o2-2",
          "o2-3",
          "o2o3o4o5",
          "o2o3o4o5-2",
          "o2o3o4o5-3",
          "o3",
          "o3-2",
          "o3-3",
          "o3-4",
          "o4",
          "o4-2",
          "o4-3",
          "o5",
          "o5-2",
          "o5-3"
         ],
         "xaxis": "x4",
         "y": [
          0,
          0,
          0,
          0,
          5,
          5,
          8,
          5,
          6,
          3,
          1,
          1,
          7,
          6,
          1,
          1,
          1,
          1,
          1,
          1,
          1,
          2,
          5,
          1,
          1,
          4,
          4,
          4,
          1,
          1,
          1,
          1,
          1,
          1,
          1,
          1,
          1,
          1
         ],
         "yaxis": "y4"
        },
        {
         "alignmentgroup": "True",
         "hovertemplate": "Result=Correctly detected<br>scheme=lineagespot<br>Sample=%{x}<br>Count=%{y}<extra></extra>",
         "legendgroup": "Correctly detected",
         "marker": {
          "color": "#636efa",
          "pattern": {
           "shape": ""
          }
         },
         "name": "Correctly detected",
         "offsetgroup": "Correctly detected",
         "orientation": "v",
         "showlegend": false,
         "textposition": "auto",
         "texttemplate": "%{y}",
         "type": "bar",
         "x": [
          "0",
          "0-2",
          "0-3",
          "0-4",
          "0adgio1",
          "0adgio1-2",
          "0adgio1o2o3o4o5",
          "0agio1o2",
          "0aio1o2o3o4o5",
          "0o5o3o4",
          "a",
          "a-2",
          "adgio1o2o3",
          "agio3o4o5",
          "d",
          "d-2",
          "g",
          "g-2",
          "i",
          "i-2",
          "o1-2",
          "o1o2",
          "o1o2o3o4o5",
          "o2-2",
          "o2-3",
          "o2o3o4o5",
          "o2o3o4o5-2",
          "o2o3o4o5-3",
          "o3",
          "o3-2",
          "o3-3",
          "o3-4",
          "o4",
          "o4-2",
          "o4-3",
          "o5",
          "o5-2",
          "o5-3"
         ],
         "xaxis": "x3",
         "y": [
          0,
          0,
          0,
          0,
          0,
          0,
          1,
          0,
          0,
          0,
          1,
          1,
          1,
          0,
          1,
          1,
          1,
          0,
          0,
          0,
          0,
          0,
          0,
          0,
          0,
          0,
          0,
          0,
          0,
          0,
          0,
          0,
          0,
          0,
          0,
          0,
          0,
          0
         ],
         "yaxis": "y3"
        },
        {
         "alignmentgroup": "True",
         "hovertemplate": "Result=Correctly detected<br>scheme=LolliPop<br>Sample=%{x}<br>Count=%{y}<extra></extra>",
         "legendgroup": "Correctly detected",
         "marker": {
          "color": "#636efa",
          "pattern": {
           "shape": ""
          }
         },
         "name": "Correctly detected",
         "offsetgroup": "Correctly detected",
         "orientation": "v",
         "showlegend": false,
         "textposition": "auto",
         "texttemplate": "%{y}",
         "type": "bar",
         "x": [
          "0",
          "0-2",
          "0-3",
          "0-4",
          "0adgio1",
          "0adgio1-2",
          "0adgio1o2o3o4o5",
          "0agio1o2",
          "0aio1o2o3o4o5",
          "0o5o3o4",
          "a",
          "a-2",
          "adgio1o2o3",
          "agio3o4o5",
          "d",
          "d-2",
          "g",
          "g-2",
          "i",
          "i-2",
          "o1-2",
          "o1o2",
          "o1o2o3o4o5",
          "o2-2",
          "o2-3",
          "o2o3o4o5",
          "o2o3o4o5-2",
          "o2o3o4o5-3",
          "o3",
          "o3-2",
          "o3-3",
          "o3-4",
          "o4",
          "o4-2",
          "o4-3",
          "o5",
          "o5-2",
          "o5-3"
         ],
         "xaxis": "x2",
         "y": [
          0,
          0,
          0,
          0,
          4,
          4,
          7,
          4,
          5,
          2,
          1,
          1,
          5,
          4,
          1,
          1,
          1,
          1,
          0,
          0,
          1,
          2,
          4,
          1,
          1,
          3,
          3,
          3,
          0,
          0,
          0,
          0,
          1,
          1,
          1,
          1,
          1,
          1
         ],
         "yaxis": "y2"
        },
        {
         "alignmentgroup": "True",
         "hovertemplate": "Result=Correctly detected<br>scheme=VaQuERo<br>Sample=%{x}<br>Count=%{y}<extra></extra>",
         "legendgroup": "Correctly detected",
         "marker": {
          "color": "#636efa",
          "pattern": {
           "shape": ""
          }
         },
         "name": "Correctly detected",
         "offsetgroup": "Correctly detected",
         "orientation": "v",
         "showlegend": false,
         "textposition": "auto",
         "texttemplate": "%{y}",
         "type": "bar",
         "x": [
          "0",
          "0-2",
          "0-3",
          "0-4",
          "0adgio1",
          "0adgio1-2",
          "0adgio1o2o3o4o5",
          "0agio1o2",
          "0aio1o2o3o4o5",
          "0o5o3o4",
          "a",
          "a-2",
          "adgio1o2o3",
          "agio3o4o5",
          "d",
          "d-2",
          "g",
          "g-2",
          "i",
          "i-2",
          "o1-2",
          "o1o2",
          "o1o2o3o4o5",
          "o2-2",
          "o2-3",
          "o2o3o4o5",
          "o2o3o4o5-2",
          "o2o3o4o5-3",
          "o3",
          "o3-2",
          "o3-3",
          "o3-4",
          "o4",
          "o4-2",
          "o4-3",
          "o5",
          "o5-2",
          "o5-3"
         ],
         "xaxis": "x",
         "y": [
          0,
          0,
          0,
          0,
          4,
          5,
          6,
          5,
          7,
          3,
          1,
          1,
          5,
          6,
          1,
          1,
          1,
          1,
          1,
          1,
          1,
          2,
          5,
          1,
          1,
          4,
          4,
          4,
          1,
          1,
          1,
          1,
          1,
          1,
          1,
          1,
          1,
          1
         ],
         "yaxis": "y"
        },
        {
         "alignmentgroup": "True",
         "hovertemplate": "Result=Failed to detect<br>scheme=Alcov<br>Sample=%{x}<br>Count=%{y}<extra></extra>",
         "legendgroup": "Failed to detect",
         "marker": {
          "color": "#EF553B",
          "pattern": {
           "shape": ""
          }
         },
         "name": "Failed to detect",
         "offsetgroup": "Failed to detect",
         "orientation": "v",
         "showlegend": true,
         "textposition": "auto",
         "texttemplate": "%{y}",
         "type": "bar",
         "x": [
          "0",
          "0-2",
          "0-3",
          "0-4",
          "0adgio1",
          "0adgio1-2",
          "0adgio1o2o3o4o5",
          "0agio1o2",
          "0aio1o2o3o4o5",
          "0o5o3o4",
          "a",
          "a-2",
          "adgio1o2o3",
          "agio3o4o5",
          "d",
          "d-2",
          "g",
          "g-2",
          "i",
          "i-2",
          "o1-2",
          "o1o2",
          "o1o2o3o4o5",
          "o2-2",
          "o2-3",
          "o2o3o4o5",
          "o2o3o4o5-2",
          "o2o3o4o5-3",
          "o3",
          "o3-2",
          "o3-3",
          "o3-4",
          "o4",
          "o4-2",
          "o4-3",
          "o5",
          "o5-2",
          "o5-3"
         ],
         "xaxis": "x9",
         "y": [
          1,
          1,
          1,
          1,
          1,
          1,
          1,
          1,
          1,
          1,
          0,
          0,
          0,
          0,
          0,
          0,
          0,
          0,
          0,
          0,
          0,
          0,
          0,
          0,
          0,
          0,
          0,
          0,
          0,
          0,
          0,
          0,
          0,
          0,
          0,
          0,
          0,
          0
         ],
         "yaxis": "y9"
        },
        {
         "alignmentgroup": "True",
         "hovertemplate": "Result=Failed to detect<br>scheme=Freyja<br>Sample=%{x}<br>Count=%{y}<extra></extra>",
         "legendgroup": "Failed to detect",
         "marker": {
          "color": "#EF553B",
          "pattern": {
           "shape": ""
          }
         },
         "name": "Failed to detect",
         "offsetgroup": "Failed to detect",
         "orientation": "v",
         "showlegend": false,
         "textposition": "auto",
         "texttemplate": "%{y}",
         "type": "bar",
         "x": [
          "0",
          "0-2",
          "0-3",
          "0-4",
          "0adgio1",
          "0adgio1-2",
          "0adgio1o2o3o4o5",
          "0agio1o2",
          "0aio1o2o3o4o5",
          "0o5o3o4",
          "a",
          "a-2",
          "adgio1o2o3",
          "agio3o4o5",
          "d",
          "d-2",
          "g",
          "g-2",
          "i",
          "i-2",
          "o1-2",
          "o1o2",
          "o1o2o3o4o5",
          "o2-2",
          "o2-3",
          "o2o3o4o5",
          "o2o3o4o5-2",
          "o2o3o4o5-3",
          "o3",
          "o3-2",
          "o3-3",
          "o3-4",
          "o4",
          "o4-2",
          "o4-3",
          "o5",
          "o5-2",
          "o5-3"
         ],
         "xaxis": "x8",
         "y": [
          0,
          0,
          0,
          0,
          1,
          0,
          0,
          1,
          1,
          0,
          0,
          0,
          0,
          0,
          0,
          0,
          0,
          0,
          0,
          0,
          0,
          0,
          0,
          0,
          0,
          0,
          0,
          0,
          0,
          0,
          0,
          0,
          0,
          0,
          0,
          0,
          0,
          0
         ],
         "yaxis": "y8"
        },
        {
         "alignmentgroup": "True",
         "hovertemplate": "Result=Failed to detect<br>scheme=kallisto<br>Sample=%{x}<br>Count=%{y}<extra></extra>",
         "legendgroup": "Failed to detect",
         "marker": {
          "color": "#EF553B",
          "pattern": {
           "shape": ""
          }
         },
         "name": "Failed to detect",
         "offsetgroup": "Failed to detect",
         "orientation": "v",
         "showlegend": false,
         "textposition": "auto",
         "texttemplate": "%{y}",
         "type": "bar",
         "x": [
          "0",
          "0-2",
          "0-3",
          "0-4",
          "0adgio1",
          "0adgio1-2",
          "0adgio1o2o3o4o5",
          "0agio1o2",
          "0aio1o2o3o4o5",
          "0o5o3o4",
          "a",
          "a-2",
          "adgio1o2o3",
          "agio3o4o5",
          "d",
          "d-2",
          "g",
          "g-2",
          "i",
          "i-2",
          "o1-2",
          "o1o2",
          "o1o2o3o4o5",
          "o2-2",
          "o2-3",
          "o2o3o4o5",
          "o2o3o4o5-2",
          "o2o3o4o5-3",
          "o3",
          "o3-2",
          "o3-3",
          "o3-4",
          "o4",
          "o4-2",
          "o4-3",
          "o5",
          "o5-2",
          "o5-3"
         ],
         "xaxis": "x7",
         "y": [
          0,
          0,
          0,
          0,
          0,
          0,
          0,
          0,
          1,
          0,
          0,
          0,
          0,
          0,
          0,
          0,
          0,
          0,
          0,
          0,
          0,
          0,
          0,
          0,
          0,
          0,
          0,
          0,
          0,
          0,
          0,
          0,
          0,
          0,
          0,
          0,
          0,
          0
         ],
         "yaxis": "y7"
        },
        {
         "alignmentgroup": "True",
         "hovertemplate": "Result=Failed to detect<br>scheme=kallisto (C-WAP)<br>Sample=%{x}<br>Count=%{y}<extra></extra>",
         "legendgroup": "Failed to detect",
         "marker": {
          "color": "#EF553B",
          "pattern": {
           "shape": ""
          }
         },
         "name": "Failed to detect",
         "offsetgroup": "Failed to detect",
         "orientation": "v",
         "showlegend": false,
         "textposition": "auto",
         "texttemplate": "%{y}",
         "type": "bar",
         "x": [
          "0",
          "0-2",
          "0-3",
          "0-4",
          "0adgio1",
          "0adgio1-2",
          "0adgio1o2o3o4o5",
          "0agio1o2",
          "0aio1o2o3o4o5",
          "0o5o3o4",
          "a",
          "a-2",
          "adgio1o2o3",
          "agio3o4o5",
          "d",
          "d-2",
          "g",
          "g-2",
          "i",
          "i-2",
          "o1-2",
          "o1o2",
          "o1o2o3o4o5",
          "o2-2",
          "o2-3",
          "o2o3o4o5",
          "o2o3o4o5-2",
          "o2o3o4o5-3",
          "o3",
          "o3-2",
          "o3-3",
          "o3-4",
          "o4",
          "o4-2",
          "o4-3",
          "o5",
          "o5-2",
          "o5-3"
         ],
         "xaxis": "x6",
         "y": [
          0,
          0,
          0,
          0,
          0,
          0,
          1,
          0,
          1,
          1,
          0,
          0,
          1,
          1,
          0,
          0,
          0,
          0,
          0,
          0,
          0,
          0,
          1,
          0,
          0,
          1,
          1,
          1,
          1,
          1,
          1,
          1,
          0,
          0,
          0,
          0,
          0,
          0
         ],
         "yaxis": "y6"
        },
        {
         "alignmentgroup": "True",
         "hovertemplate": "Result=Failed to detect<br>scheme=Kraken 2 (C-WAP)<br>Sample=%{x}<br>Count=%{y}<extra></extra>",
         "legendgroup": "Failed to detect",
         "marker": {
          "color": "#EF553B",
          "pattern": {
           "shape": ""
          }
         },
         "name": "Failed to detect",
         "offsetgroup": "Failed to detect",
         "orientation": "v",
         "showlegend": false,
         "textposition": "auto",
         "texttemplate": "%{y}",
         "type": "bar",
         "x": [
          "0",
          "0-2",
          "0-3",
          "0-4",
          "0adgio1",
          "0adgio1-2",
          "0adgio1o2o3o4o5",
          "0agio1o2",
          "0aio1o2o3o4o5",
          "0o5o3o4",
          "a",
          "a-2",
          "adgio1o2o3",
          "agio3o4o5",
          "d",
          "d-2",
          "g",
          "g-2",
          "i",
          "i-2",
          "o1-2",
          "o1o2",
          "o1o2o3o4o5",
          "o2-2",
          "o2-3",
          "o2o3o4o5",
          "o2o3o4o5-2",
          "o2o3o4o5-3",
          "o3",
          "o3-2",
          "o3-3",
          "o3-4",
          "o4",
          "o4-2",
          "o4-3",
          "o5",
          "o5-2",
          "o5-3"
         ],
         "xaxis": "x5",
         "y": [
          1,
          1,
          1,
          1,
          5,
          5,
          6,
          4,
          4,
          2,
          1,
          1,
          5,
          4,
          1,
          1,
          1,
          1,
          1,
          1,
          0,
          0,
          1,
          0,
          0,
          1,
          1,
          1,
          1,
          1,
          1,
          1,
          0,
          0,
          0,
          0,
          0,
          0
         ],
         "yaxis": "y5"
        },
        {
         "alignmentgroup": "True",
         "hovertemplate": "Result=Failed to detect<br>scheme=LCS<br>Sample=%{x}<br>Count=%{y}<extra></extra>",
         "legendgroup": "Failed to detect",
         "marker": {
          "color": "#EF553B",
          "pattern": {
           "shape": ""
          }
         },
         "name": "Failed to detect",
         "offsetgroup": "Failed to detect",
         "orientation": "v",
         "showlegend": false,
         "textposition": "auto",
         "texttemplate": "%{y}",
         "type": "bar",
         "x": [
          "0",
          "0-2",
          "0-3",
          "0-4",
          "0adgio1",
          "0adgio1-2",
          "0adgio1o2o3o4o5",
          "0agio1o2",
          "0aio1o2o3o4o5",
          "0o5o3o4",
          "a",
          "a-2",
          "adgio1o2o3",
          "agio3o4o5",
          "d",
          "d-2",
          "g",
          "g-2",
          "i",
          "i-2",
          "o1-2",
          "o1o2",
          "o1o2o3o4o5",
          "o2-2",
          "o2-3",
          "o2o3o4o5",
          "o2o3o4o5-2",
          "o2o3o4o5-3",
          "o3",
          "o3-2",
          "o3-3",
          "o3-4",
          "o4",
          "o4-2",
          "o4-3",
          "o5",
          "o5-2",
          "o5-3"
         ],
         "xaxis": "x4",
         "y": [
          1,
          1,
          1,
          1,
          1,
          1,
          2,
          1,
          2,
          1,
          0,
          0,
          0,
          0,
          0,
          0,
          0,
          0,
          0,
          0,
          0,
          0,
          0,
          0,
          0,
          0,
          0,
          0,
          0,
          0,
          0,
          0,
          0,
          0,
          0,
          0,
          0,
          0
         ],
         "yaxis": "y4"
        },
        {
         "alignmentgroup": "True",
         "hovertemplate": "Result=Failed to detect<br>scheme=lineagespot<br>Sample=%{x}<br>Count=%{y}<extra></extra>",
         "legendgroup": "Failed to detect",
         "marker": {
          "color": "#EF553B",
          "pattern": {
           "shape": ""
          }
         },
         "name": "Failed to detect",
         "offsetgroup": "Failed to detect",
         "orientation": "v",
         "showlegend": false,
         "textposition": "auto",
         "texttemplate": "%{y}",
         "type": "bar",
         "x": [
          "0",
          "0-2",
          "0-3",
          "0-4",
          "0adgio1",
          "0adgio1-2",
          "0adgio1o2o3o4o5",
          "0agio1o2",
          "0aio1o2o3o4o5",
          "0o5o3o4",
          "a",
          "a-2",
          "adgio1o2o3",
          "agio3o4o5",
          "d",
          "d-2",
          "g",
          "g-2",
          "i",
          "i-2",
          "o1-2",
          "o1o2",
          "o1o2o3o4o5",
          "o2-2",
          "o2-3",
          "o2o3o4o5",
          "o2o3o4o5-2",
          "o2o3o4o5-3",
          "o3",
          "o3-2",
          "o3-3",
          "o3-4",
          "o4",
          "o4-2",
          "o4-3",
          "o5",
          "o5-2",
          "o5-3"
         ],
         "xaxis": "x3",
         "y": [
          1,
          1,
          1,
          1,
          6,
          6,
          9,
          6,
          8,
          4,
          0,
          0,
          6,
          6,
          0,
          0,
          0,
          1,
          1,
          1,
          1,
          2,
          5,
          1,
          1,
          4,
          4,
          4,
          1,
          1,
          1,
          1,
          1,
          1,
          1,
          1,
          1,
          1
         ],
         "yaxis": "y3"
        },
        {
         "alignmentgroup": "True",
         "hovertemplate": "Result=Failed to detect<br>scheme=LolliPop<br>Sample=%{x}<br>Count=%{y}<extra></extra>",
         "legendgroup": "Failed to detect",
         "marker": {
          "color": "#EF553B",
          "pattern": {
           "shape": ""
          }
         },
         "name": "Failed to detect",
         "offsetgroup": "Failed to detect",
         "orientation": "v",
         "showlegend": false,
         "textposition": "auto",
         "texttemplate": "%{y}",
         "type": "bar",
         "x": [
          "0",
          "0-2",
          "0-3",
          "0-4",
          "0adgio1",
          "0adgio1-2",
          "0adgio1o2o3o4o5",
          "0agio1o2",
          "0aio1o2o3o4o5",
          "0o5o3o4",
          "a",
          "a-2",
          "adgio1o2o3",
          "agio3o4o5",
          "d",
          "d-2",
          "g",
          "g-2",
          "i",
          "i-2",
          "o1-2",
          "o1o2",
          "o1o2o3o4o5",
          "o2-2",
          "o2-3",
          "o2o3o4o5",
          "o2o3o4o5-2",
          "o2o3o4o5-3",
          "o3",
          "o3-2",
          "o3-3",
          "o3-4",
          "o4",
          "o4-2",
          "o4-3",
          "o5",
          "o5-2",
          "o5-3"
         ],
         "xaxis": "x2",
         "y": [
          1,
          1,
          1,
          1,
          2,
          2,
          3,
          2,
          3,
          2,
          0,
          0,
          2,
          2,
          0,
          0,
          0,
          0,
          1,
          1,
          0,
          0,
          1,
          0,
          0,
          1,
          1,
          1,
          1,
          1,
          1,
          1,
          0,
          0,
          0,
          0,
          0,
          0
         ],
         "yaxis": "y2"
        },
        {
         "alignmentgroup": "True",
         "hovertemplate": "Result=Failed to detect<br>scheme=VaQuERo<br>Sample=%{x}<br>Count=%{y}<extra></extra>",
         "legendgroup": "Failed to detect",
         "marker": {
          "color": "#EF553B",
          "pattern": {
           "shape": ""
          }
         },
         "name": "Failed to detect",
         "offsetgroup": "Failed to detect",
         "orientation": "v",
         "showlegend": false,
         "textposition": "auto",
         "texttemplate": "%{y}",
         "type": "bar",
         "x": [
          "0",
          "0-2",
          "0-3",
          "0-4",
          "0adgio1",
          "0adgio1-2",
          "0adgio1o2o3o4o5",
          "0agio1o2",
          "0aio1o2o3o4o5",
          "0o5o3o4",
          "a",
          "a-2",
          "adgio1o2o3",
          "agio3o4o5",
          "d",
          "d-2",
          "g",
          "g-2",
          "i",
          "i-2",
          "o1-2",
          "o1o2",
          "o1o2o3o4o5",
          "o2-2",
          "o2-3",
          "o2o3o4o5",
          "o2o3o4o5-2",
          "o2o3o4o5-3",
          "o3",
          "o3-2",
          "o3-3",
          "o3-4",
          "o4",
          "o4-2",
          "o4-3",
          "o5",
          "o5-2",
          "o5-3"
         ],
         "xaxis": "x",
         "y": [
          1,
          1,
          1,
          1,
          2,
          1,
          4,
          1,
          1,
          1,
          0,
          0,
          2,
          0,
          0,
          0,
          0,
          0,
          0,
          0,
          0,
          0,
          0,
          0,
          0,
          0,
          0,
          0,
          0,
          0,
          0,
          0,
          0,
          0,
          0,
          0,
          0,
          0
         ],
         "yaxis": "y"
        },
        {
         "alignmentgroup": "True",
         "hovertemplate": "Result=Unexpected but detected<br>scheme=Alcov<br>Sample=%{x}<br>Count=%{y}<extra></extra>",
         "legendgroup": "Unexpected but detected",
         "marker": {
          "color": "#00cc96",
          "pattern": {
           "shape": ""
          }
         },
         "name": "Unexpected but detected",
         "offsetgroup": "Unexpected but detected",
         "orientation": "v",
         "showlegend": true,
         "textposition": "auto",
         "texttemplate": "%{y}",
         "type": "bar",
         "x": [
          "0",
          "0-2",
          "0-3",
          "0-4",
          "0adgio1",
          "0adgio1-2",
          "0adgio1o2o3o4o5",
          "0agio1o2",
          "0aio1o2o3o4o5",
          "0o5o3o4",
          "a",
          "a-2",
          "adgio1o2o3",
          "agio3o4o5",
          "d",
          "d-2",
          "g",
          "g-2",
          "i",
          "i-2",
          "o1-2",
          "o1o2",
          "o1o2o3o4o5",
          "o2-2",
          "o2-3",
          "o2o3o4o5",
          "o2o3o4o5-2",
          "o2o3o4o5-3",
          "o3",
          "o3-2",
          "o3-3",
          "o3-4",
          "o4",
          "o4-2",
          "o4-3",
          "o5",
          "o5-2",
          "o5-3"
         ],
         "xaxis": "x9",
         "y": [
          2,
          2,
          2,
          2,
          5,
          5,
          4,
          7,
          4,
          4,
          2,
          2,
          6,
          5,
          3,
          3,
          2,
          2,
          2,
          1,
          3,
          5,
          3,
          4,
          7,
          3,
          3,
          4,
          5,
          7,
          5,
          5,
          4,
          4,
          5,
          3,
          4,
          3
         ],
         "yaxis": "y9"
        },
        {
         "alignmentgroup": "True",
         "hovertemplate": "Result=Unexpected but detected<br>scheme=Freyja<br>Sample=%{x}<br>Count=%{y}<extra></extra>",
         "legendgroup": "Unexpected but detected",
         "marker": {
          "color": "#00cc96",
          "pattern": {
           "shape": ""
          }
         },
         "name": "Unexpected but detected",
         "offsetgroup": "Unexpected but detected",
         "orientation": "v",
         "showlegend": false,
         "textposition": "auto",
         "texttemplate": "%{y}",
         "type": "bar",
         "x": [
          "0",
          "0-2",
          "0-3",
          "0-4",
          "0adgio1",
          "0adgio1-2",
          "0adgio1o2o3o4o5",
          "0agio1o2",
          "0aio1o2o3o4o5",
          "0o5o3o4",
          "a",
          "a-2",
          "adgio1o2o3",
          "agio3o4o5",
          "d",
          "d-2",
          "g",
          "g-2",
          "i",
          "i-2",
          "o1-2",
          "o1o2",
          "o1o2o3o4o5",
          "o2-2",
          "o2-3",
          "o2o3o4o5",
          "o2o3o4o5-2",
          "o2o3o4o5-3",
          "o3",
          "o3-2",
          "o3-3",
          "o3-4",
          "o4",
          "o4-2",
          "o4-3",
          "o5",
          "o5-2",
          "o5-3"
         ],
         "xaxis": "x8",
         "y": [
          1,
          1,
          1,
          1,
          2,
          2,
          2,
          2,
          2,
          1,
          0,
          0,
          2,
          2,
          0,
          0,
          0,
          0,
          0,
          0,
          1,
          1,
          1,
          1,
          0,
          1,
          1,
          0,
          0,
          0,
          0,
          0,
          0,
          0,
          0,
          0,
          0,
          0
         ],
         "yaxis": "y8"
        },
        {
         "alignmentgroup": "True",
         "hovertemplate": "Result=Unexpected but detected<br>scheme=kallisto<br>Sample=%{x}<br>Count=%{y}<extra></extra>",
         "legendgroup": "Unexpected but detected",
         "marker": {
          "color": "#00cc96",
          "pattern": {
           "shape": ""
          }
         },
         "name": "Unexpected but detected",
         "offsetgroup": "Unexpected but detected",
         "orientation": "v",
         "showlegend": false,
         "textposition": "auto",
         "texttemplate": "%{y}",
         "type": "bar",
         "x": [
          "0",
          "0-2",
          "0-3",
          "0-4",
          "0adgio1",
          "0adgio1-2",
          "0adgio1o2o3o4o5",
          "0agio1o2",
          "0aio1o2o3o4o5",
          "0o5o3o4",
          "a",
          "a-2",
          "adgio1o2o3",
          "agio3o4o5",
          "d",
          "d-2",
          "g",
          "g-2",
          "i",
          "i-2",
          "o1-2",
          "o1o2",
          "o1o2o3o4o5",
          "o2-2",
          "o2-3",
          "o2o3o4o5",
          "o2o3o4o5-2",
          "o2o3o4o5-3",
          "o3",
          "o3-2",
          "o3-3",
          "o3-4",
          "o4",
          "o4-2",
          "o4-3",
          "o5",
          "o5-2",
          "o5-3"
         ],
         "xaxis": "x7",
         "y": [
          19,
          19,
          19,
          19,
          16,
          16,
          14,
          17,
          16,
          20,
          19,
          18,
          16,
          17,
          17,
          17,
          18,
          17,
          20,
          20,
          20,
          21,
          17,
          21,
          20,
          17,
          17,
          17,
          20,
          20,
          20,
          20,
          19,
          19,
          20,
          20,
          20,
          20
         ],
         "yaxis": "y7"
        },
        {
         "alignmentgroup": "True",
         "hovertemplate": "Result=Unexpected but detected<br>scheme=kallisto (C-WAP)<br>Sample=%{x}<br>Count=%{y}<extra></extra>",
         "legendgroup": "Unexpected but detected",
         "marker": {
          "color": "#00cc96",
          "pattern": {
           "shape": ""
          }
         },
         "name": "Unexpected but detected",
         "offsetgroup": "Unexpected but detected",
         "orientation": "v",
         "showlegend": false,
         "textposition": "auto",
         "texttemplate": "%{y}",
         "type": "bar",
         "x": [
          "0",
          "0-2",
          "0-3",
          "0-4",
          "0adgio1",
          "0adgio1-2",
          "0adgio1o2o3o4o5",
          "0agio1o2",
          "0aio1o2o3o4o5",
          "0o5o3o4",
          "a",
          "a-2",
          "adgio1o2o3",
          "agio3o4o5",
          "d",
          "d-2",
          "g",
          "g-2",
          "i",
          "i-2",
          "o1-2",
          "o1o2",
          "o1o2o3o4o5",
          "o2-2",
          "o2-3",
          "o2o3o4o5",
          "o2o3o4o5-2",
          "o2o3o4o5-3",
          "o3",
          "o3-2",
          "o3-3",
          "o3-4",
          "o4",
          "o4-2",
          "o4-3",
          "o5",
          "o5-2",
          "o5-3"
         ],
         "xaxis": "x6",
         "y": [
          14,
          14,
          14,
          14,
          9,
          9,
          6,
          9,
          8,
          12,
          14,
          14,
          9,
          10,
          14,
          14,
          14,
          14,
          14,
          14,
          14,
          13,
          11,
          14,
          14,
          12,
          12,
          12,
          15,
          15,
          15,
          15,
          14,
          14,
          14,
          14,
          14,
          14
         ],
         "yaxis": "y6"
        },
        {
         "alignmentgroup": "True",
         "hovertemplate": "Result=Unexpected but detected<br>scheme=Kraken 2 (C-WAP)<br>Sample=%{x}<br>Count=%{y}<extra></extra>",
         "legendgroup": "Unexpected but detected",
         "marker": {
          "color": "#00cc96",
          "pattern": {
           "shape": ""
          }
         },
         "name": "Unexpected but detected",
         "offsetgroup": "Unexpected but detected",
         "orientation": "v",
         "showlegend": false,
         "textposition": "auto",
         "texttemplate": "%{y}",
         "type": "bar",
         "x": [
          "0",
          "0-2",
          "0-3",
          "0-4",
          "0adgio1",
          "0adgio1-2",
          "0adgio1o2o3o4o5",
          "0agio1o2",
          "0aio1o2o3o4o5",
          "0o5o3o4",
          "a",
          "a-2",
          "adgio1o2o3",
          "agio3o4o5",
          "d",
          "d-2",
          "g",
          "g-2",
          "i",
          "i-2",
          "o1-2",
          "o1o2",
          "o1o2o3o4o5",
          "o2-2",
          "o2-3",
          "o2o3o4o5",
          "o2o3o4o5-2",
          "o2o3o4o5-3",
          "o3",
          "o3-2",
          "o3-3",
          "o3-4",
          "o4",
          "o4-2",
          "o4-3",
          "o5",
          "o5-2",
          "o5-3"
         ],
         "xaxis": "x5",
         "y": [
          6,
          6,
          6,
          6,
          5,
          5,
          2,
          4,
          2,
          4,
          6,
          6,
          4,
          4,
          6,
          6,
          6,
          6,
          6,
          6,
          5,
          4,
          2,
          5,
          5,
          3,
          3,
          3,
          6,
          6,
          6,
          6,
          5,
          5,
          5,
          5,
          5,
          5
         ],
         "yaxis": "y5"
        },
        {
         "alignmentgroup": "True",
         "hovertemplate": "Result=Unexpected but detected<br>scheme=LCS<br>Sample=%{x}<br>Count=%{y}<extra></extra>",
         "legendgroup": "Unexpected but detected",
         "marker": {
          "color": "#00cc96",
          "pattern": {
           "shape": ""
          }
         },
         "name": "Unexpected but detected",
         "offsetgroup": "Unexpected but detected",
         "orientation": "v",
         "showlegend": false,
         "textposition": "auto",
         "texttemplate": "%{y}",
         "type": "bar",
         "x": [
          "0",
          "0-2",
          "0-3",
          "0-4",
          "0adgio1",
          "0adgio1-2",
          "0adgio1o2o3o4o5",
          "0agio1o2",
          "0aio1o2o3o4o5",
          "0o5o3o4",
          "a",
          "a-2",
          "adgio1o2o3",
          "agio3o4o5",
          "d",
          "d-2",
          "g",
          "g-2",
          "i",
          "i-2",
          "o1-2",
          "o1o2",
          "o1o2o3o4o5",
          "o2-2",
          "o2-3",
          "o2o3o4o5",
          "o2o3o4o5-2",
          "o2o3o4o5-3",
          "o3",
          "o3-2",
          "o3-3",
          "o3-4",
          "o4",
          "o4-2",
          "o4-3",
          "o5",
          "o5-2",
          "o5-3"
         ],
         "xaxis": "x4",
         "y": [
          14,
          13,
          11,
          13,
          11,
          9,
          7,
          11,
          10,
          12,
          11,
          14,
          9,
          10,
          12,
          13,
          13,
          12,
          14,
          15,
          12,
          15,
          11,
          14,
          14,
          13,
          11,
          13,
          12,
          13,
          14,
          12,
          16,
          13,
          13,
          11,
          14,
          13
         ],
         "yaxis": "y4"
        },
        {
         "alignmentgroup": "True",
         "hovertemplate": "Result=Unexpected but detected<br>scheme=lineagespot<br>Sample=%{x}<br>Count=%{y}<extra></extra>",
         "legendgroup": "Unexpected but detected",
         "marker": {
          "color": "#00cc96",
          "pattern": {
           "shape": ""
          }
         },
         "name": "Unexpected but detected",
         "offsetgroup": "Unexpected but detected",
         "orientation": "v",
         "showlegend": false,
         "textposition": "auto",
         "texttemplate": "%{y}",
         "type": "bar",
         "x": [
          "0",
          "0-2",
          "0-3",
          "0-4",
          "0adgio1",
          "0adgio1-2",
          "0adgio1o2o3o4o5",
          "0agio1o2",
          "0aio1o2o3o4o5",
          "0o5o3o4",
          "a",
          "a-2",
          "adgio1o2o3",
          "agio3o4o5",
          "d",
          "d-2",
          "g",
          "g-2",
          "i",
          "i-2",
          "o1-2",
          "o1o2",
          "o1o2o3o4o5",
          "o2-2",
          "o2-3",
          "o2o3o4o5",
          "o2o3o4o5-2",
          "o2o3o4o5-3",
          "o3",
          "o3-2",
          "o3-3",
          "o3-4",
          "o4",
          "o4-2",
          "o4-3",
          "o5",
          "o5-2",
          "o5-3"
         ],
         "xaxis": "x3",
         "y": [
          1,
          1,
          1,
          1,
          1,
          1,
          1,
          2,
          1,
          1,
          1,
          1,
          1,
          1,
          1,
          1,
          1,
          1,
          1,
          1,
          3,
          4,
          3,
          2,
          3,
          4,
          1,
          4,
          2,
          1,
          5,
          4,
          4,
          3,
          1,
          3,
          2,
          1
         ],
         "yaxis": "y3"
        },
        {
         "alignmentgroup": "True",
         "hovertemplate": "Result=Unexpected but detected<br>scheme=LolliPop<br>Sample=%{x}<br>Count=%{y}<extra></extra>",
         "legendgroup": "Unexpected but detected",
         "marker": {
          "color": "#00cc96",
          "pattern": {
           "shape": ""
          }
         },
         "name": "Unexpected but detected",
         "offsetgroup": "Unexpected but detected",
         "orientation": "v",
         "showlegend": false,
         "textposition": "auto",
         "texttemplate": "%{y}",
         "type": "bar",
         "x": [
          "0",
          "0-2",
          "0-3",
          "0-4",
          "0adgio1",
          "0adgio1-2",
          "0adgio1o2o3o4o5",
          "0agio1o2",
          "0aio1o2o3o4o5",
          "0o5o3o4",
          "a",
          "a-2",
          "adgio1o2o3",
          "agio3o4o5",
          "d",
          "d-2",
          "g",
          "g-2",
          "i",
          "i-2",
          "o1-2",
          "o1o2",
          "o1o2o3o4o5",
          "o2-2",
          "o2-3",
          "o2o3o4o5",
          "o2o3o4o5-2",
          "o2o3o4o5-3",
          "o3",
          "o3-2",
          "o3-3",
          "o3-4",
          "o4",
          "o4-2",
          "o4-3",
          "o5",
          "o5-2",
          "o5-3"
         ],
         "xaxis": "x2",
         "y": [
          22,
          22,
          22,
          22,
          18,
          18,
          15,
          18,
          17,
          20,
          21,
          21,
          17,
          17,
          21,
          21,
          21,
          20,
          22,
          22,
          21,
          20,
          17,
          20,
          21,
          19,
          18,
          18,
          22,
          22,
          22,
          22,
          20,
          20,
          20,
          21,
          20,
          21
         ],
         "yaxis": "y2"
        },
        {
         "alignmentgroup": "True",
         "hovertemplate": "Result=Unexpected but detected<br>scheme=VaQuERo<br>Sample=%{x}<br>Count=%{y}<extra></extra>",
         "legendgroup": "Unexpected but detected",
         "marker": {
          "color": "#00cc96",
          "pattern": {
           "shape": ""
          }
         },
         "name": "Unexpected but detected",
         "offsetgroup": "Unexpected but detected",
         "orientation": "v",
         "showlegend": false,
         "textposition": "auto",
         "texttemplate": "%{y}",
         "type": "bar",
         "x": [
          "0",
          "0-2",
          "0-3",
          "0-4",
          "0adgio1",
          "0adgio1-2",
          "0adgio1o2o3o4o5",
          "0agio1o2",
          "0aio1o2o3o4o5",
          "0o5o3o4",
          "a",
          "a-2",
          "adgio1o2o3",
          "agio3o4o5",
          "d",
          "d-2",
          "g",
          "g-2",
          "i",
          "i-2",
          "o1-2",
          "o1o2",
          "o1o2o3o4o5",
          "o2-2",
          "o2-3",
          "o2o3o4o5",
          "o2o3o4o5-2",
          "o2o3o4o5-3",
          "o3",
          "o3-2",
          "o3-3",
          "o3-4",
          "o4",
          "o4-2",
          "o4-3",
          "o5",
          "o5-2",
          "o5-3"
         ],
         "xaxis": "x",
         "y": [
          0,
          0,
          0,
          0,
          0,
          0,
          0,
          0,
          0,
          0,
          0,
          0,
          0,
          0,
          0,
          0,
          0,
          0,
          0,
          0,
          0,
          0,
          0,
          0,
          0,
          0,
          0,
          0,
          1,
          1,
          1,
          1,
          0,
          0,
          0,
          0,
          0,
          0
         ],
         "yaxis": "y"
        }
       ],
       "layout": {
        "annotations": [
         {
          "font": {},
          "showarrow": false,
          "text": "VaQuERo",
          "textangle": 90,
          "x": 0.98,
          "xanchor": "left",
          "xref": "paper",
          "y": 0.042222222222222223,
          "yanchor": "middle",
          "yref": "paper"
         },
         {
          "font": {},
          "showarrow": false,
          "text": "LolliPop",
          "textangle": 90,
          "x": 0.98,
          "xanchor": "left",
          "xref": "paper",
          "y": 0.15666666666666668,
          "yanchor": "middle",
          "yref": "paper"
         },
         {
          "font": {},
          "showarrow": false,
          "text": "lineagespot",
          "textangle": 90,
          "x": 0.98,
          "xanchor": "left",
          "xref": "paper",
          "y": 0.27111111111111114,
          "yanchor": "middle",
          "yref": "paper"
         },
         {
          "font": {},
          "showarrow": false,
          "text": "LCS",
          "textangle": 90,
          "x": 0.98,
          "xanchor": "left",
          "xref": "paper",
          "y": 0.3855555555555556,
          "yanchor": "middle",
          "yref": "paper"
         },
         {
          "font": {},
          "showarrow": false,
          "text": "Kraken 2<br>(C-WAP)",
          "textangle": 90,
          "x": 0.98,
          "xanchor": "left",
          "xref": "paper",
          "y": 0.5,
          "yanchor": "middle",
          "yref": "paper"
         },
         {
          "font": {},
          "showarrow": false,
          "text": "kallisto<br>(C-WAP)",
          "textangle": 90,
          "x": 0.98,
          "xanchor": "left",
          "xref": "paper",
          "y": 0.6144444444444443,
          "yanchor": "middle",
          "yref": "paper"
         },
         {
          "font": {},
          "showarrow": false,
          "text": "kallisto",
          "textangle": 90,
          "x": 0.98,
          "xanchor": "left",
          "xref": "paper",
          "y": 0.7288888888888889,
          "yanchor": "middle",
          "yref": "paper"
         },
         {
          "font": {},
          "showarrow": false,
          "text": "Freyja",
          "textangle": 90,
          "x": 0.98,
          "xanchor": "left",
          "xref": "paper",
          "y": 0.8433333333333333,
          "yanchor": "middle",
          "yref": "paper"
         },
         {
          "font": {},
          "showarrow": false,
          "text": "Alcov",
          "textangle": 90,
          "x": 0.98,
          "xanchor": "left",
          "xref": "paper",
          "y": 0.9577777777777778,
          "yanchor": "middle",
          "yref": "paper"
         }
        ],
        "barmode": "relative",
        "font": {
         "family": "Inconsolata"
        },
        "height": 800,
        "legend": {
         "title": {
          "text": "Result"
         },
         "tracegroupgap": 0
        },
        "template": {
         "data": {
          "bar": [
           {
            "error_x": {
             "color": "#2a3f5f"
            },
            "error_y": {
             "color": "#2a3f5f"
            },
            "marker": {
             "line": {
              "color": "#E5ECF6",
              "width": 0.5
             },
             "pattern": {
              "fillmode": "overlay",
              "size": 10,
              "solidity": 0.2
             }
            },
            "type": "bar"
           }
          ],
          "barpolar": [
           {
            "marker": {
             "line": {
              "color": "#E5ECF6",
              "width": 0.5
             },
             "pattern": {
              "fillmode": "overlay",
              "size": 10,
              "solidity": 0.2
             }
            },
            "type": "barpolar"
           }
          ],
          "carpet": [
           {
            "aaxis": {
             "endlinecolor": "#2a3f5f",
             "gridcolor": "white",
             "linecolor": "white",
             "minorgridcolor": "white",
             "startlinecolor": "#2a3f5f"
            },
            "baxis": {
             "endlinecolor": "#2a3f5f",
             "gridcolor": "white",
             "linecolor": "white",
             "minorgridcolor": "white",
             "startlinecolor": "#2a3f5f"
            },
            "type": "carpet"
           }
          ],
          "choropleth": [
           {
            "colorbar": {
             "outlinewidth": 0,
             "ticks": ""
            },
            "type": "choropleth"
           }
          ],
          "contour": [
           {
            "colorbar": {
             "outlinewidth": 0,
             "ticks": ""
            },
            "colorscale": [
             [
              0,
              "#0d0887"
             ],
             [
              0.1111111111111111,
              "#46039f"
             ],
             [
              0.2222222222222222,
              "#7201a8"
             ],
             [
              0.3333333333333333,
              "#9c179e"
             ],
             [
              0.4444444444444444,
              "#bd3786"
             ],
             [
              0.5555555555555556,
              "#d8576b"
             ],
             [
              0.6666666666666666,
              "#ed7953"
             ],
             [
              0.7777777777777778,
              "#fb9f3a"
             ],
             [
              0.8888888888888888,
              "#fdca26"
             ],
             [
              1,
              "#f0f921"
             ]
            ],
            "type": "contour"
           }
          ],
          "contourcarpet": [
           {
            "colorbar": {
             "outlinewidth": 0,
             "ticks": ""
            },
            "type": "contourcarpet"
           }
          ],
          "heatmap": [
           {
            "colorbar": {
             "outlinewidth": 0,
             "ticks": ""
            },
            "colorscale": [
             [
              0,
              "#0d0887"
             ],
             [
              0.1111111111111111,
              "#46039f"
             ],
             [
              0.2222222222222222,
              "#7201a8"
             ],
             [
              0.3333333333333333,
              "#9c179e"
             ],
             [
              0.4444444444444444,
              "#bd3786"
             ],
             [
              0.5555555555555556,
              "#d8576b"
             ],
             [
              0.6666666666666666,
              "#ed7953"
             ],
             [
              0.7777777777777778,
              "#fb9f3a"
             ],
             [
              0.8888888888888888,
              "#fdca26"
             ],
             [
              1,
              "#f0f921"
             ]
            ],
            "type": "heatmap"
           }
          ],
          "heatmapgl": [
           {
            "colorbar": {
             "outlinewidth": 0,
             "ticks": ""
            },
            "colorscale": [
             [
              0,
              "#0d0887"
             ],
             [
              0.1111111111111111,
              "#46039f"
             ],
             [
              0.2222222222222222,
              "#7201a8"
             ],
             [
              0.3333333333333333,
              "#9c179e"
             ],
             [
              0.4444444444444444,
              "#bd3786"
             ],
             [
              0.5555555555555556,
              "#d8576b"
             ],
             [
              0.6666666666666666,
              "#ed7953"
             ],
             [
              0.7777777777777778,
              "#fb9f3a"
             ],
             [
              0.8888888888888888,
              "#fdca26"
             ],
             [
              1,
              "#f0f921"
             ]
            ],
            "type": "heatmapgl"
           }
          ],
          "histogram": [
           {
            "marker": {
             "pattern": {
              "fillmode": "overlay",
              "size": 10,
              "solidity": 0.2
             }
            },
            "type": "histogram"
           }
          ],
          "histogram2d": [
           {
            "colorbar": {
             "outlinewidth": 0,
             "ticks": ""
            },
            "colorscale": [
             [
              0,
              "#0d0887"
             ],
             [
              0.1111111111111111,
              "#46039f"
             ],
             [
              0.2222222222222222,
              "#7201a8"
             ],
             [
              0.3333333333333333,
              "#9c179e"
             ],
             [
              0.4444444444444444,
              "#bd3786"
             ],
             [
              0.5555555555555556,
              "#d8576b"
             ],
             [
              0.6666666666666666,
              "#ed7953"
             ],
             [
              0.7777777777777778,
              "#fb9f3a"
             ],
             [
              0.8888888888888888,
              "#fdca26"
             ],
             [
              1,
              "#f0f921"
             ]
            ],
            "type": "histogram2d"
           }
          ],
          "histogram2dcontour": [
           {
            "colorbar": {
             "outlinewidth": 0,
             "ticks": ""
            },
            "colorscale": [
             [
              0,
              "#0d0887"
             ],
             [
              0.1111111111111111,
              "#46039f"
             ],
             [
              0.2222222222222222,
              "#7201a8"
             ],
             [
              0.3333333333333333,
              "#9c179e"
             ],
             [
              0.4444444444444444,
              "#bd3786"
             ],
             [
              0.5555555555555556,
              "#d8576b"
             ],
             [
              0.6666666666666666,
              "#ed7953"
             ],
             [
              0.7777777777777778,
              "#fb9f3a"
             ],
             [
              0.8888888888888888,
              "#fdca26"
             ],
             [
              1,
              "#f0f921"
             ]
            ],
            "type": "histogram2dcontour"
           }
          ],
          "mesh3d": [
           {
            "colorbar": {
             "outlinewidth": 0,
             "ticks": ""
            },
            "type": "mesh3d"
           }
          ],
          "parcoords": [
           {
            "line": {
             "colorbar": {
              "outlinewidth": 0,
              "ticks": ""
             }
            },
            "type": "parcoords"
           }
          ],
          "pie": [
           {
            "automargin": true,
            "type": "pie"
           }
          ],
          "scatter": [
           {
            "fillpattern": {
             "fillmode": "overlay",
             "size": 10,
             "solidity": 0.2
            },
            "type": "scatter"
           }
          ],
          "scatter3d": [
           {
            "line": {
             "colorbar": {
              "outlinewidth": 0,
              "ticks": ""
             }
            },
            "marker": {
             "colorbar": {
              "outlinewidth": 0,
              "ticks": ""
             }
            },
            "type": "scatter3d"
           }
          ],
          "scattercarpet": [
           {
            "marker": {
             "colorbar": {
              "outlinewidth": 0,
              "ticks": ""
             }
            },
            "type": "scattercarpet"
           }
          ],
          "scattergeo": [
           {
            "marker": {
             "colorbar": {
              "outlinewidth": 0,
              "ticks": ""
             }
            },
            "type": "scattergeo"
           }
          ],
          "scattergl": [
           {
            "marker": {
             "colorbar": {
              "outlinewidth": 0,
              "ticks": ""
             }
            },
            "type": "scattergl"
           }
          ],
          "scattermapbox": [
           {
            "marker": {
             "colorbar": {
              "outlinewidth": 0,
              "ticks": ""
             }
            },
            "type": "scattermapbox"
           }
          ],
          "scatterpolar": [
           {
            "marker": {
             "colorbar": {
              "outlinewidth": 0,
              "ticks": ""
             }
            },
            "type": "scatterpolar"
           }
          ],
          "scatterpolargl": [
           {
            "marker": {
             "colorbar": {
              "outlinewidth": 0,
              "ticks": ""
             }
            },
            "type": "scatterpolargl"
           }
          ],
          "scatterternary": [
           {
            "marker": {
             "colorbar": {
              "outlinewidth": 0,
              "ticks": ""
             }
            },
            "type": "scatterternary"
           }
          ],
          "surface": [
           {
            "colorbar": {
             "outlinewidth": 0,
             "ticks": ""
            },
            "colorscale": [
             [
              0,
              "#0d0887"
             ],
             [
              0.1111111111111111,
              "#46039f"
             ],
             [
              0.2222222222222222,
              "#7201a8"
             ],
             [
              0.3333333333333333,
              "#9c179e"
             ],
             [
              0.4444444444444444,
              "#bd3786"
             ],
             [
              0.5555555555555556,
              "#d8576b"
             ],
             [
              0.6666666666666666,
              "#ed7953"
             ],
             [
              0.7777777777777778,
              "#fb9f3a"
             ],
             [
              0.8888888888888888,
              "#fdca26"
             ],
             [
              1,
              "#f0f921"
             ]
            ],
            "type": "surface"
           }
          ],
          "table": [
           {
            "cells": {
             "fill": {
              "color": "#EBF0F8"
             },
             "line": {
              "color": "white"
             }
            },
            "header": {
             "fill": {
              "color": "#C8D4E3"
             },
             "line": {
              "color": "white"
             }
            },
            "type": "table"
           }
          ]
         },
         "layout": {
          "annotationdefaults": {
           "arrowcolor": "#2a3f5f",
           "arrowhead": 0,
           "arrowwidth": 1
          },
          "autotypenumbers": "strict",
          "coloraxis": {
           "colorbar": {
            "outlinewidth": 0,
            "ticks": ""
           }
          },
          "colorscale": {
           "diverging": [
            [
             0,
             "#8e0152"
            ],
            [
             0.1,
             "#c51b7d"
            ],
            [
             0.2,
             "#de77ae"
            ],
            [
             0.3,
             "#f1b6da"
            ],
            [
             0.4,
             "#fde0ef"
            ],
            [
             0.5,
             "#f7f7f7"
            ],
            [
             0.6,
             "#e6f5d0"
            ],
            [
             0.7,
             "#b8e186"
            ],
            [
             0.8,
             "#7fbc41"
            ],
            [
             0.9,
             "#4d9221"
            ],
            [
             1,
             "#276419"
            ]
           ],
           "sequential": [
            [
             0,
             "#0d0887"
            ],
            [
             0.1111111111111111,
             "#46039f"
            ],
            [
             0.2222222222222222,
             "#7201a8"
            ],
            [
             0.3333333333333333,
             "#9c179e"
            ],
            [
             0.4444444444444444,
             "#bd3786"
            ],
            [
             0.5555555555555556,
             "#d8576b"
            ],
            [
             0.6666666666666666,
             "#ed7953"
            ],
            [
             0.7777777777777778,
             "#fb9f3a"
            ],
            [
             0.8888888888888888,
             "#fdca26"
            ],
            [
             1,
             "#f0f921"
            ]
           ],
           "sequentialminus": [
            [
             0,
             "#0d0887"
            ],
            [
             0.1111111111111111,
             "#46039f"
            ],
            [
             0.2222222222222222,
             "#7201a8"
            ],
            [
             0.3333333333333333,
             "#9c179e"
            ],
            [
             0.4444444444444444,
             "#bd3786"
            ],
            [
             0.5555555555555556,
             "#d8576b"
            ],
            [
             0.6666666666666666,
             "#ed7953"
            ],
            [
             0.7777777777777778,
             "#fb9f3a"
            ],
            [
             0.8888888888888888,
             "#fdca26"
            ],
            [
             1,
             "#f0f921"
            ]
           ]
          },
          "colorway": [
           "#636efa",
           "#EF553B",
           "#00cc96",
           "#ab63fa",
           "#FFA15A",
           "#19d3f3",
           "#FF6692",
           "#B6E880",
           "#FF97FF",
           "#FECB52"
          ],
          "font": {
           "color": "#2a3f5f"
          },
          "geo": {
           "bgcolor": "white",
           "lakecolor": "white",
           "landcolor": "#E5ECF6",
           "showlakes": true,
           "showland": true,
           "subunitcolor": "white"
          },
          "hoverlabel": {
           "align": "left"
          },
          "hovermode": "closest",
          "mapbox": {
           "style": "light"
          },
          "paper_bgcolor": "white",
          "plot_bgcolor": "#E5ECF6",
          "polar": {
           "angularaxis": {
            "gridcolor": "white",
            "linecolor": "white",
            "ticks": ""
           },
           "bgcolor": "#E5ECF6",
           "radialaxis": {
            "gridcolor": "white",
            "linecolor": "white",
            "ticks": ""
           }
          },
          "scene": {
           "xaxis": {
            "backgroundcolor": "#E5ECF6",
            "gridcolor": "white",
            "gridwidth": 2,
            "linecolor": "white",
            "showbackground": true,
            "ticks": "",
            "zerolinecolor": "white"
           },
           "yaxis": {
            "backgroundcolor": "#E5ECF6",
            "gridcolor": "white",
            "gridwidth": 2,
            "linecolor": "white",
            "showbackground": true,
            "ticks": "",
            "zerolinecolor": "white"
           },
           "zaxis": {
            "backgroundcolor": "#E5ECF6",
            "gridcolor": "white",
            "gridwidth": 2,
            "linecolor": "white",
            "showbackground": true,
            "ticks": "",
            "zerolinecolor": "white"
           }
          },
          "shapedefaults": {
           "line": {
            "color": "#2a3f5f"
           }
          },
          "ternary": {
           "aaxis": {
            "gridcolor": "white",
            "linecolor": "white",
            "ticks": ""
           },
           "baxis": {
            "gridcolor": "white",
            "linecolor": "white",
            "ticks": ""
           },
           "bgcolor": "#E5ECF6",
           "caxis": {
            "gridcolor": "white",
            "linecolor": "white",
            "ticks": ""
           }
          },
          "title": {
           "x": 0.05
          },
          "xaxis": {
           "automargin": true,
           "gridcolor": "white",
           "linecolor": "white",
           "ticks": "",
           "title": {
            "standoff": 15
           },
           "zerolinecolor": "white",
           "zerolinewidth": 2
          },
          "yaxis": {
           "automargin": true,
           "gridcolor": "white",
           "linecolor": "white",
           "ticks": "",
           "title": {
            "standoff": 15
           },
           "zerolinecolor": "white",
           "zerolinewidth": 2
          }
         }
        },
        "title": {
         "text": "Detection of expected lineages"
        },
        "xaxis": {
         "anchor": "y",
         "domain": [
          0,
          0.98
         ],
         "title": {
          "text": "Sample"
         }
        },
        "xaxis2": {
         "anchor": "y2",
         "domain": [
          0,
          0.98
         ],
         "matches": "x",
         "showticklabels": false
        },
        "xaxis3": {
         "anchor": "y3",
         "domain": [
          0,
          0.98
         ],
         "matches": "x",
         "showticklabels": false
        },
        "xaxis4": {
         "anchor": "y4",
         "domain": [
          0,
          0.98
         ],
         "matches": "x",
         "showticklabels": false
        },
        "xaxis5": {
         "anchor": "y5",
         "domain": [
          0,
          0.98
         ],
         "matches": "x",
         "showticklabels": false
        },
        "xaxis6": {
         "anchor": "y6",
         "domain": [
          0,
          0.98
         ],
         "matches": "x",
         "showticklabels": false
        },
        "xaxis7": {
         "anchor": "y7",
         "domain": [
          0,
          0.98
         ],
         "matches": "x",
         "showticklabels": false
        },
        "xaxis8": {
         "anchor": "y8",
         "domain": [
          0,
          0.98
         ],
         "matches": "x",
         "showticklabels": false
        },
        "xaxis9": {
         "anchor": "y9",
         "domain": [
          0,
          0.98
         ],
         "matches": "x",
         "showticklabels": false
        },
        "yaxis": {
         "anchor": "x",
         "domain": [
          0,
          0.08444444444444445
         ],
         "title": {
          "text": "Count"
         }
        },
        "yaxis2": {
         "anchor": "x2",
         "domain": [
          0.11444444444444445,
          0.1988888888888889
         ],
         "matches": "y",
         "title": {
          "text": "Count"
         }
        },
        "yaxis3": {
         "anchor": "x3",
         "domain": [
          0.2288888888888889,
          0.31333333333333335
         ],
         "matches": "y",
         "title": {
          "text": "Count"
         }
        },
        "yaxis4": {
         "anchor": "x4",
         "domain": [
          0.3433333333333334,
          0.4277777777777778
         ],
         "matches": "y",
         "title": {
          "text": "Count"
         }
        },
        "yaxis5": {
         "anchor": "x5",
         "domain": [
          0.4577777777777778,
          0.5422222222222223
         ],
         "matches": "y",
         "title": {
          "text": "Count"
         }
        },
        "yaxis6": {
         "anchor": "x6",
         "domain": [
          0.5722222222222222,
          0.6566666666666666
         ],
         "matches": "y",
         "title": {
          "text": "Count"
         }
        },
        "yaxis7": {
         "anchor": "x7",
         "domain": [
          0.6866666666666668,
          0.7711111111111112
         ],
         "matches": "y",
         "title": {
          "text": "Count"
         }
        },
        "yaxis8": {
         "anchor": "x8",
         "domain": [
          0.8011111111111111,
          0.8855555555555555
         ],
         "matches": "y",
         "title": {
          "text": "Count"
         }
        },
        "yaxis9": {
         "anchor": "x9",
         "domain": [
          0.9155555555555556,
          1
         ],
         "matches": "y",
         "title": {
          "text": "Count"
         }
        }
       }
      },
      "text/html": [
       "<div>                            <div id=\"9cd246b7-620c-458a-b017-62ba5f14cc55\" class=\"plotly-graph-div\" style=\"height:800px; width:100%;\"></div>            <script type=\"text/javascript\">                require([\"plotly\"], function(Plotly) {                    window.PLOTLYENV=window.PLOTLYENV || {};                                    if (document.getElementById(\"9cd246b7-620c-458a-b017-62ba5f14cc55\")) {                    Plotly.newPlot(                        \"9cd246b7-620c-458a-b017-62ba5f14cc55\",                        [{\"alignmentgroup\":\"True\",\"hovertemplate\":\"Result=Correctly detected\\u003cbr\\u003escheme=Alcov\\u003cbr\\u003eSample=%{x}\\u003cbr\\u003eCount=%{y}\\u003cextra\\u003e\\u003c\\u002fextra\\u003e\",\"legendgroup\":\"Correctly detected\",\"marker\":{\"color\":\"#636efa\",\"pattern\":{\"shape\":\"\"}},\"name\":\"Correctly detected\",\"offsetgroup\":\"Correctly detected\",\"orientation\":\"v\",\"showlegend\":true,\"textposition\":\"auto\",\"texttemplate\":\"%{y}\",\"x\":[\"0\",\"0-2\",\"0-3\",\"0-4\",\"0adgio1\",\"0adgio1-2\",\"0adgio1o2o3o4o5\",\"0agio1o2\",\"0aio1o2o3o4o5\",\"0o5o3o4\",\"a\",\"a-2\",\"adgio1o2o3\",\"agio3o4o5\",\"d\",\"d-2\",\"g\",\"g-2\",\"i\",\"i-2\",\"o1-2\",\"o1o2\",\"o1o2o3o4o5\",\"o2-2\",\"o2-3\",\"o2o3o4o5\",\"o2o3o4o5-2\",\"o2o3o4o5-3\",\"o3\",\"o3-2\",\"o3-3\",\"o3-4\",\"o4\",\"o4-2\",\"o4-3\",\"o5\",\"o5-2\",\"o5-3\"],\"xaxis\":\"x9\",\"y\":[0,0,0,0,5,5,9,5,7,3,1,1,7,6,1,1,1,1,1,1,1,2,5,1,1,4,4,4,1,1,1,1,1,1,1,1,1,1],\"yaxis\":\"y9\",\"type\":\"bar\"},{\"alignmentgroup\":\"True\",\"hovertemplate\":\"Result=Correctly detected\\u003cbr\\u003escheme=Freyja\\u003cbr\\u003eSample=%{x}\\u003cbr\\u003eCount=%{y}\\u003cextra\\u003e\\u003c\\u002fextra\\u003e\",\"legendgroup\":\"Correctly detected\",\"marker\":{\"color\":\"#636efa\",\"pattern\":{\"shape\":\"\"}},\"name\":\"Correctly detected\",\"offsetgroup\":\"Correctly detected\",\"orientation\":\"v\",\"showlegend\":false,\"textposition\":\"auto\",\"texttemplate\":\"%{y}\",\"x\":[\"0\",\"0-2\",\"0-3\",\"0-4\",\"0adgio1\",\"0adgio1-2\",\"0adgio1o2o3o4o5\",\"0agio1o2\",\"0aio1o2o3o4o5\",\"0o5o3o4\",\"a\",\"a-2\",\"adgio1o2o3\",\"agio3o4o5\",\"d\",\"d-2\",\"g\",\"g-2\",\"i\",\"i-2\",\"o1-2\",\"o1o2\",\"o1o2o3o4o5\",\"o2-2\",\"o2-3\",\"o2o3o4o5\",\"o2o3o4o5-2\",\"o2o3o4o5-3\",\"o3\",\"o3-2\",\"o3-3\",\"o3-4\",\"o4\",\"o4-2\",\"o4-3\",\"o5\",\"o5-2\",\"o5-3\"],\"xaxis\":\"x8\",\"y\":[1,1,1,1,5,6,10,5,7,4,1,1,7,6,1,1,1,1,1,1,1,2,5,1,1,4,4,4,1,1,1,1,1,1,1,1,1,1],\"yaxis\":\"y8\",\"type\":\"bar\"},{\"alignmentgroup\":\"True\",\"hovertemplate\":\"Result=Correctly detected\\u003cbr\\u003escheme=kallisto\\u003cbr\\u003eSample=%{x}\\u003cbr\\u003eCount=%{y}\\u003cextra\\u003e\\u003c\\u002fextra\\u003e\",\"legendgroup\":\"Correctly detected\",\"marker\":{\"color\":\"#636efa\",\"pattern\":{\"shape\":\"\"}},\"name\":\"Correctly detected\",\"offsetgroup\":\"Correctly detected\",\"orientation\":\"v\",\"showlegend\":false,\"textposition\":\"auto\",\"texttemplate\":\"%{y}\",\"x\":[\"0\",\"0-2\",\"0-3\",\"0-4\",\"0adgio1\",\"0adgio1-2\",\"0adgio1o2o3o4o5\",\"0agio1o2\",\"0aio1o2o3o4o5\",\"0o5o3o4\",\"a\",\"a-2\",\"adgio1o2o3\",\"agio3o4o5\",\"d\",\"d-2\",\"g\",\"g-2\",\"i\",\"i-2\",\"o1-2\",\"o1o2\",\"o1o2o3o4o5\",\"o2-2\",\"o2-3\",\"o2o3o4o5\",\"o2o3o4o5-2\",\"o2o3o4o5-3\",\"o3\",\"o3-2\",\"o3-3\",\"o3-4\",\"o4\",\"o4-2\",\"o4-3\",\"o5\",\"o5-2\",\"o5-3\"],\"xaxis\":\"x7\",\"y\":[1,1,1,1,6,6,10,6,7,4,1,1,7,6,1,1,1,1,1,1,1,2,5,1,1,4,4,4,1,1,1,1,1,1,1,1,1,1],\"yaxis\":\"y7\",\"type\":\"bar\"},{\"alignmentgroup\":\"True\",\"hovertemplate\":\"Result=Correctly detected\\u003cbr\\u003escheme=kallisto (C-WAP)\\u003cbr\\u003eSample=%{x}\\u003cbr\\u003eCount=%{y}\\u003cextra\\u003e\\u003c\\u002fextra\\u003e\",\"legendgroup\":\"Correctly detected\",\"marker\":{\"color\":\"#636efa\",\"pattern\":{\"shape\":\"\"}},\"name\":\"Correctly detected\",\"offsetgroup\":\"Correctly detected\",\"orientation\":\"v\",\"showlegend\":false,\"textposition\":\"auto\",\"texttemplate\":\"%{y}\",\"x\":[\"0\",\"0-2\",\"0-3\",\"0-4\",\"0adgio1\",\"0adgio1-2\",\"0adgio1o2o3o4o5\",\"0agio1o2\",\"0aio1o2o3o4o5\",\"0o5o3o4\",\"a\",\"a-2\",\"adgio1o2o3\",\"agio3o4o5\",\"d\",\"d-2\",\"g\",\"g-2\",\"i\",\"i-2\",\"o1-2\",\"o1o2\",\"o1o2o3o4o5\",\"o2-2\",\"o2-3\",\"o2o3o4o5\",\"o2o3o4o5-2\",\"o2o3o4o5-3\",\"o3\",\"o3-2\",\"o3-3\",\"o3-4\",\"o4\",\"o4-2\",\"o4-3\",\"o5\",\"o5-2\",\"o5-3\"],\"xaxis\":\"x6\",\"y\":[1,1,1,1,6,6,9,6,7,3,1,1,6,5,1,1,1,1,1,1,1,2,4,1,1,3,3,3,0,0,0,0,1,1,1,1,1,1],\"yaxis\":\"y6\",\"type\":\"bar\"},{\"alignmentgroup\":\"True\",\"hovertemplate\":\"Result=Correctly detected\\u003cbr\\u003escheme=Kraken 2 (C-WAP)\\u003cbr\\u003eSample=%{x}\\u003cbr\\u003eCount=%{y}\\u003cextra\\u003e\\u003c\\u002fextra\\u003e\",\"legendgroup\":\"Correctly detected\",\"marker\":{\"color\":\"#636efa\",\"pattern\":{\"shape\":\"\"}},\"name\":\"Correctly detected\",\"offsetgroup\":\"Correctly detected\",\"orientation\":\"v\",\"showlegend\":false,\"textposition\":\"auto\",\"texttemplate\":\"%{y}\",\"x\":[\"0\",\"0-2\",\"0-3\",\"0-4\",\"0adgio1\",\"0adgio1-2\",\"0adgio1o2o3o4o5\",\"0agio1o2\",\"0aio1o2o3o4o5\",\"0o5o3o4\",\"a\",\"a-2\",\"adgio1o2o3\",\"agio3o4o5\",\"d\",\"d-2\",\"g\",\"g-2\",\"i\",\"i-2\",\"o1-2\",\"o1o2\",\"o1o2o3o4o5\",\"o2-2\",\"o2-3\",\"o2o3o4o5\",\"o2o3o4o5-2\",\"o2o3o4o5-3\",\"o3\",\"o3-2\",\"o3-3\",\"o3-4\",\"o4\",\"o4-2\",\"o4-3\",\"o5\",\"o5-2\",\"o5-3\"],\"xaxis\":\"x5\",\"y\":[0,0,0,0,1,1,4,2,4,2,0,0,2,2,0,0,0,0,0,0,1,2,4,1,1,3,3,3,0,0,0,0,1,1,1,1,1,1],\"yaxis\":\"y5\",\"type\":\"bar\"},{\"alignmentgroup\":\"True\",\"hovertemplate\":\"Result=Correctly detected\\u003cbr\\u003escheme=LCS\\u003cbr\\u003eSample=%{x}\\u003cbr\\u003eCount=%{y}\\u003cextra\\u003e\\u003c\\u002fextra\\u003e\",\"legendgroup\":\"Correctly detected\",\"marker\":{\"color\":\"#636efa\",\"pattern\":{\"shape\":\"\"}},\"name\":\"Correctly detected\",\"offsetgroup\":\"Correctly detected\",\"orientation\":\"v\",\"showlegend\":false,\"textposition\":\"auto\",\"texttemplate\":\"%{y}\",\"x\":[\"0\",\"0-2\",\"0-3\",\"0-4\",\"0adgio1\",\"0adgio1-2\",\"0adgio1o2o3o4o5\",\"0agio1o2\",\"0aio1o2o3o4o5\",\"0o5o3o4\",\"a\",\"a-2\",\"adgio1o2o3\",\"agio3o4o5\",\"d\",\"d-2\",\"g\",\"g-2\",\"i\",\"i-2\",\"o1-2\",\"o1o2\",\"o1o2o3o4o5\",\"o2-2\",\"o2-3\",\"o2o3o4o5\",\"o2o3o4o5-2\",\"o2o3o4o5-3\",\"o3\",\"o3-2\",\"o3-3\",\"o3-4\",\"o4\",\"o4-2\",\"o4-3\",\"o5\",\"o5-2\",\"o5-3\"],\"xaxis\":\"x4\",\"y\":[0,0,0,0,5,5,8,5,6,3,1,1,7,6,1,1,1,1,1,1,1,2,5,1,1,4,4,4,1,1,1,1,1,1,1,1,1,1],\"yaxis\":\"y4\",\"type\":\"bar\"},{\"alignmentgroup\":\"True\",\"hovertemplate\":\"Result=Correctly detected\\u003cbr\\u003escheme=lineagespot\\u003cbr\\u003eSample=%{x}\\u003cbr\\u003eCount=%{y}\\u003cextra\\u003e\\u003c\\u002fextra\\u003e\",\"legendgroup\":\"Correctly detected\",\"marker\":{\"color\":\"#636efa\",\"pattern\":{\"shape\":\"\"}},\"name\":\"Correctly detected\",\"offsetgroup\":\"Correctly detected\",\"orientation\":\"v\",\"showlegend\":false,\"textposition\":\"auto\",\"texttemplate\":\"%{y}\",\"x\":[\"0\",\"0-2\",\"0-3\",\"0-4\",\"0adgio1\",\"0adgio1-2\",\"0adgio1o2o3o4o5\",\"0agio1o2\",\"0aio1o2o3o4o5\",\"0o5o3o4\",\"a\",\"a-2\",\"adgio1o2o3\",\"agio3o4o5\",\"d\",\"d-2\",\"g\",\"g-2\",\"i\",\"i-2\",\"o1-2\",\"o1o2\",\"o1o2o3o4o5\",\"o2-2\",\"o2-3\",\"o2o3o4o5\",\"o2o3o4o5-2\",\"o2o3o4o5-3\",\"o3\",\"o3-2\",\"o3-3\",\"o3-4\",\"o4\",\"o4-2\",\"o4-3\",\"o5\",\"o5-2\",\"o5-3\"],\"xaxis\":\"x3\",\"y\":[0,0,0,0,0,0,1,0,0,0,1,1,1,0,1,1,1,0,0,0,0,0,0,0,0,0,0,0,0,0,0,0,0,0,0,0,0,0],\"yaxis\":\"y3\",\"type\":\"bar\"},{\"alignmentgroup\":\"True\",\"hovertemplate\":\"Result=Correctly detected\\u003cbr\\u003escheme=LolliPop\\u003cbr\\u003eSample=%{x}\\u003cbr\\u003eCount=%{y}\\u003cextra\\u003e\\u003c\\u002fextra\\u003e\",\"legendgroup\":\"Correctly detected\",\"marker\":{\"color\":\"#636efa\",\"pattern\":{\"shape\":\"\"}},\"name\":\"Correctly detected\",\"offsetgroup\":\"Correctly detected\",\"orientation\":\"v\",\"showlegend\":false,\"textposition\":\"auto\",\"texttemplate\":\"%{y}\",\"x\":[\"0\",\"0-2\",\"0-3\",\"0-4\",\"0adgio1\",\"0adgio1-2\",\"0adgio1o2o3o4o5\",\"0agio1o2\",\"0aio1o2o3o4o5\",\"0o5o3o4\",\"a\",\"a-2\",\"adgio1o2o3\",\"agio3o4o5\",\"d\",\"d-2\",\"g\",\"g-2\",\"i\",\"i-2\",\"o1-2\",\"o1o2\",\"o1o2o3o4o5\",\"o2-2\",\"o2-3\",\"o2o3o4o5\",\"o2o3o4o5-2\",\"o2o3o4o5-3\",\"o3\",\"o3-2\",\"o3-3\",\"o3-4\",\"o4\",\"o4-2\",\"o4-3\",\"o5\",\"o5-2\",\"o5-3\"],\"xaxis\":\"x2\",\"y\":[0,0,0,0,4,4,7,4,5,2,1,1,5,4,1,1,1,1,0,0,1,2,4,1,1,3,3,3,0,0,0,0,1,1,1,1,1,1],\"yaxis\":\"y2\",\"type\":\"bar\"},{\"alignmentgroup\":\"True\",\"hovertemplate\":\"Result=Correctly detected\\u003cbr\\u003escheme=VaQuERo\\u003cbr\\u003eSample=%{x}\\u003cbr\\u003eCount=%{y}\\u003cextra\\u003e\\u003c\\u002fextra\\u003e\",\"legendgroup\":\"Correctly detected\",\"marker\":{\"color\":\"#636efa\",\"pattern\":{\"shape\":\"\"}},\"name\":\"Correctly detected\",\"offsetgroup\":\"Correctly detected\",\"orientation\":\"v\",\"showlegend\":false,\"textposition\":\"auto\",\"texttemplate\":\"%{y}\",\"x\":[\"0\",\"0-2\",\"0-3\",\"0-4\",\"0adgio1\",\"0adgio1-2\",\"0adgio1o2o3o4o5\",\"0agio1o2\",\"0aio1o2o3o4o5\",\"0o5o3o4\",\"a\",\"a-2\",\"adgio1o2o3\",\"agio3o4o5\",\"d\",\"d-2\",\"g\",\"g-2\",\"i\",\"i-2\",\"o1-2\",\"o1o2\",\"o1o2o3o4o5\",\"o2-2\",\"o2-3\",\"o2o3o4o5\",\"o2o3o4o5-2\",\"o2o3o4o5-3\",\"o3\",\"o3-2\",\"o3-3\",\"o3-4\",\"o4\",\"o4-2\",\"o4-3\",\"o5\",\"o5-2\",\"o5-3\"],\"xaxis\":\"x\",\"y\":[0,0,0,0,4,5,6,5,7,3,1,1,5,6,1,1,1,1,1,1,1,2,5,1,1,4,4,4,1,1,1,1,1,1,1,1,1,1],\"yaxis\":\"y\",\"type\":\"bar\"},{\"alignmentgroup\":\"True\",\"hovertemplate\":\"Result=Failed to detect\\u003cbr\\u003escheme=Alcov\\u003cbr\\u003eSample=%{x}\\u003cbr\\u003eCount=%{y}\\u003cextra\\u003e\\u003c\\u002fextra\\u003e\",\"legendgroup\":\"Failed to detect\",\"marker\":{\"color\":\"#EF553B\",\"pattern\":{\"shape\":\"\"}},\"name\":\"Failed to detect\",\"offsetgroup\":\"Failed to detect\",\"orientation\":\"v\",\"showlegend\":true,\"textposition\":\"auto\",\"texttemplate\":\"%{y}\",\"x\":[\"0\",\"0-2\",\"0-3\",\"0-4\",\"0adgio1\",\"0adgio1-2\",\"0adgio1o2o3o4o5\",\"0agio1o2\",\"0aio1o2o3o4o5\",\"0o5o3o4\",\"a\",\"a-2\",\"adgio1o2o3\",\"agio3o4o5\",\"d\",\"d-2\",\"g\",\"g-2\",\"i\",\"i-2\",\"o1-2\",\"o1o2\",\"o1o2o3o4o5\",\"o2-2\",\"o2-3\",\"o2o3o4o5\",\"o2o3o4o5-2\",\"o2o3o4o5-3\",\"o3\",\"o3-2\",\"o3-3\",\"o3-4\",\"o4\",\"o4-2\",\"o4-3\",\"o5\",\"o5-2\",\"o5-3\"],\"xaxis\":\"x9\",\"y\":[1,1,1,1,1,1,1,1,1,1,0,0,0,0,0,0,0,0,0,0,0,0,0,0,0,0,0,0,0,0,0,0,0,0,0,0,0,0],\"yaxis\":\"y9\",\"type\":\"bar\"},{\"alignmentgroup\":\"True\",\"hovertemplate\":\"Result=Failed to detect\\u003cbr\\u003escheme=Freyja\\u003cbr\\u003eSample=%{x}\\u003cbr\\u003eCount=%{y}\\u003cextra\\u003e\\u003c\\u002fextra\\u003e\",\"legendgroup\":\"Failed to detect\",\"marker\":{\"color\":\"#EF553B\",\"pattern\":{\"shape\":\"\"}},\"name\":\"Failed to detect\",\"offsetgroup\":\"Failed to detect\",\"orientation\":\"v\",\"showlegend\":false,\"textposition\":\"auto\",\"texttemplate\":\"%{y}\",\"x\":[\"0\",\"0-2\",\"0-3\",\"0-4\",\"0adgio1\",\"0adgio1-2\",\"0adgio1o2o3o4o5\",\"0agio1o2\",\"0aio1o2o3o4o5\",\"0o5o3o4\",\"a\",\"a-2\",\"adgio1o2o3\",\"agio3o4o5\",\"d\",\"d-2\",\"g\",\"g-2\",\"i\",\"i-2\",\"o1-2\",\"o1o2\",\"o1o2o3o4o5\",\"o2-2\",\"o2-3\",\"o2o3o4o5\",\"o2o3o4o5-2\",\"o2o3o4o5-3\",\"o3\",\"o3-2\",\"o3-3\",\"o3-4\",\"o4\",\"o4-2\",\"o4-3\",\"o5\",\"o5-2\",\"o5-3\"],\"xaxis\":\"x8\",\"y\":[0,0,0,0,1,0,0,1,1,0,0,0,0,0,0,0,0,0,0,0,0,0,0,0,0,0,0,0,0,0,0,0,0,0,0,0,0,0],\"yaxis\":\"y8\",\"type\":\"bar\"},{\"alignmentgroup\":\"True\",\"hovertemplate\":\"Result=Failed to detect\\u003cbr\\u003escheme=kallisto\\u003cbr\\u003eSample=%{x}\\u003cbr\\u003eCount=%{y}\\u003cextra\\u003e\\u003c\\u002fextra\\u003e\",\"legendgroup\":\"Failed to detect\",\"marker\":{\"color\":\"#EF553B\",\"pattern\":{\"shape\":\"\"}},\"name\":\"Failed to detect\",\"offsetgroup\":\"Failed to detect\",\"orientation\":\"v\",\"showlegend\":false,\"textposition\":\"auto\",\"texttemplate\":\"%{y}\",\"x\":[\"0\",\"0-2\",\"0-3\",\"0-4\",\"0adgio1\",\"0adgio1-2\",\"0adgio1o2o3o4o5\",\"0agio1o2\",\"0aio1o2o3o4o5\",\"0o5o3o4\",\"a\",\"a-2\",\"adgio1o2o3\",\"agio3o4o5\",\"d\",\"d-2\",\"g\",\"g-2\",\"i\",\"i-2\",\"o1-2\",\"o1o2\",\"o1o2o3o4o5\",\"o2-2\",\"o2-3\",\"o2o3o4o5\",\"o2o3o4o5-2\",\"o2o3o4o5-3\",\"o3\",\"o3-2\",\"o3-3\",\"o3-4\",\"o4\",\"o4-2\",\"o4-3\",\"o5\",\"o5-2\",\"o5-3\"],\"xaxis\":\"x7\",\"y\":[0,0,0,0,0,0,0,0,1,0,0,0,0,0,0,0,0,0,0,0,0,0,0,0,0,0,0,0,0,0,0,0,0,0,0,0,0,0],\"yaxis\":\"y7\",\"type\":\"bar\"},{\"alignmentgroup\":\"True\",\"hovertemplate\":\"Result=Failed to detect\\u003cbr\\u003escheme=kallisto (C-WAP)\\u003cbr\\u003eSample=%{x}\\u003cbr\\u003eCount=%{y}\\u003cextra\\u003e\\u003c\\u002fextra\\u003e\",\"legendgroup\":\"Failed to detect\",\"marker\":{\"color\":\"#EF553B\",\"pattern\":{\"shape\":\"\"}},\"name\":\"Failed to detect\",\"offsetgroup\":\"Failed to detect\",\"orientation\":\"v\",\"showlegend\":false,\"textposition\":\"auto\",\"texttemplate\":\"%{y}\",\"x\":[\"0\",\"0-2\",\"0-3\",\"0-4\",\"0adgio1\",\"0adgio1-2\",\"0adgio1o2o3o4o5\",\"0agio1o2\",\"0aio1o2o3o4o5\",\"0o5o3o4\",\"a\",\"a-2\",\"adgio1o2o3\",\"agio3o4o5\",\"d\",\"d-2\",\"g\",\"g-2\",\"i\",\"i-2\",\"o1-2\",\"o1o2\",\"o1o2o3o4o5\",\"o2-2\",\"o2-3\",\"o2o3o4o5\",\"o2o3o4o5-2\",\"o2o3o4o5-3\",\"o3\",\"o3-2\",\"o3-3\",\"o3-4\",\"o4\",\"o4-2\",\"o4-3\",\"o5\",\"o5-2\",\"o5-3\"],\"xaxis\":\"x6\",\"y\":[0,0,0,0,0,0,1,0,1,1,0,0,1,1,0,0,0,0,0,0,0,0,1,0,0,1,1,1,1,1,1,1,0,0,0,0,0,0],\"yaxis\":\"y6\",\"type\":\"bar\"},{\"alignmentgroup\":\"True\",\"hovertemplate\":\"Result=Failed to detect\\u003cbr\\u003escheme=Kraken 2 (C-WAP)\\u003cbr\\u003eSample=%{x}\\u003cbr\\u003eCount=%{y}\\u003cextra\\u003e\\u003c\\u002fextra\\u003e\",\"legendgroup\":\"Failed to detect\",\"marker\":{\"color\":\"#EF553B\",\"pattern\":{\"shape\":\"\"}},\"name\":\"Failed to detect\",\"offsetgroup\":\"Failed to detect\",\"orientation\":\"v\",\"showlegend\":false,\"textposition\":\"auto\",\"texttemplate\":\"%{y}\",\"x\":[\"0\",\"0-2\",\"0-3\",\"0-4\",\"0adgio1\",\"0adgio1-2\",\"0adgio1o2o3o4o5\",\"0agio1o2\",\"0aio1o2o3o4o5\",\"0o5o3o4\",\"a\",\"a-2\",\"adgio1o2o3\",\"agio3o4o5\",\"d\",\"d-2\",\"g\",\"g-2\",\"i\",\"i-2\",\"o1-2\",\"o1o2\",\"o1o2o3o4o5\",\"o2-2\",\"o2-3\",\"o2o3o4o5\",\"o2o3o4o5-2\",\"o2o3o4o5-3\",\"o3\",\"o3-2\",\"o3-3\",\"o3-4\",\"o4\",\"o4-2\",\"o4-3\",\"o5\",\"o5-2\",\"o5-3\"],\"xaxis\":\"x5\",\"y\":[1,1,1,1,5,5,6,4,4,2,1,1,5,4,1,1,1,1,1,1,0,0,1,0,0,1,1,1,1,1,1,1,0,0,0,0,0,0],\"yaxis\":\"y5\",\"type\":\"bar\"},{\"alignmentgroup\":\"True\",\"hovertemplate\":\"Result=Failed to detect\\u003cbr\\u003escheme=LCS\\u003cbr\\u003eSample=%{x}\\u003cbr\\u003eCount=%{y}\\u003cextra\\u003e\\u003c\\u002fextra\\u003e\",\"legendgroup\":\"Failed to detect\",\"marker\":{\"color\":\"#EF553B\",\"pattern\":{\"shape\":\"\"}},\"name\":\"Failed to detect\",\"offsetgroup\":\"Failed to detect\",\"orientation\":\"v\",\"showlegend\":false,\"textposition\":\"auto\",\"texttemplate\":\"%{y}\",\"x\":[\"0\",\"0-2\",\"0-3\",\"0-4\",\"0adgio1\",\"0adgio1-2\",\"0adgio1o2o3o4o5\",\"0agio1o2\",\"0aio1o2o3o4o5\",\"0o5o3o4\",\"a\",\"a-2\",\"adgio1o2o3\",\"agio3o4o5\",\"d\",\"d-2\",\"g\",\"g-2\",\"i\",\"i-2\",\"o1-2\",\"o1o2\",\"o1o2o3o4o5\",\"o2-2\",\"o2-3\",\"o2o3o4o5\",\"o2o3o4o5-2\",\"o2o3o4o5-3\",\"o3\",\"o3-2\",\"o3-3\",\"o3-4\",\"o4\",\"o4-2\",\"o4-3\",\"o5\",\"o5-2\",\"o5-3\"],\"xaxis\":\"x4\",\"y\":[1,1,1,1,1,1,2,1,2,1,0,0,0,0,0,0,0,0,0,0,0,0,0,0,0,0,0,0,0,0,0,0,0,0,0,0,0,0],\"yaxis\":\"y4\",\"type\":\"bar\"},{\"alignmentgroup\":\"True\",\"hovertemplate\":\"Result=Failed to detect\\u003cbr\\u003escheme=lineagespot\\u003cbr\\u003eSample=%{x}\\u003cbr\\u003eCount=%{y}\\u003cextra\\u003e\\u003c\\u002fextra\\u003e\",\"legendgroup\":\"Failed to detect\",\"marker\":{\"color\":\"#EF553B\",\"pattern\":{\"shape\":\"\"}},\"name\":\"Failed to detect\",\"offsetgroup\":\"Failed to detect\",\"orientation\":\"v\",\"showlegend\":false,\"textposition\":\"auto\",\"texttemplate\":\"%{y}\",\"x\":[\"0\",\"0-2\",\"0-3\",\"0-4\",\"0adgio1\",\"0adgio1-2\",\"0adgio1o2o3o4o5\",\"0agio1o2\",\"0aio1o2o3o4o5\",\"0o5o3o4\",\"a\",\"a-2\",\"adgio1o2o3\",\"agio3o4o5\",\"d\",\"d-2\",\"g\",\"g-2\",\"i\",\"i-2\",\"o1-2\",\"o1o2\",\"o1o2o3o4o5\",\"o2-2\",\"o2-3\",\"o2o3o4o5\",\"o2o3o4o5-2\",\"o2o3o4o5-3\",\"o3\",\"o3-2\",\"o3-3\",\"o3-4\",\"o4\",\"o4-2\",\"o4-3\",\"o5\",\"o5-2\",\"o5-3\"],\"xaxis\":\"x3\",\"y\":[1,1,1,1,6,6,9,6,8,4,0,0,6,6,0,0,0,1,1,1,1,2,5,1,1,4,4,4,1,1,1,1,1,1,1,1,1,1],\"yaxis\":\"y3\",\"type\":\"bar\"},{\"alignmentgroup\":\"True\",\"hovertemplate\":\"Result=Failed to detect\\u003cbr\\u003escheme=LolliPop\\u003cbr\\u003eSample=%{x}\\u003cbr\\u003eCount=%{y}\\u003cextra\\u003e\\u003c\\u002fextra\\u003e\",\"legendgroup\":\"Failed to detect\",\"marker\":{\"color\":\"#EF553B\",\"pattern\":{\"shape\":\"\"}},\"name\":\"Failed to detect\",\"offsetgroup\":\"Failed to detect\",\"orientation\":\"v\",\"showlegend\":false,\"textposition\":\"auto\",\"texttemplate\":\"%{y}\",\"x\":[\"0\",\"0-2\",\"0-3\",\"0-4\",\"0adgio1\",\"0adgio1-2\",\"0adgio1o2o3o4o5\",\"0agio1o2\",\"0aio1o2o3o4o5\",\"0o5o3o4\",\"a\",\"a-2\",\"adgio1o2o3\",\"agio3o4o5\",\"d\",\"d-2\",\"g\",\"g-2\",\"i\",\"i-2\",\"o1-2\",\"o1o2\",\"o1o2o3o4o5\",\"o2-2\",\"o2-3\",\"o2o3o4o5\",\"o2o3o4o5-2\",\"o2o3o4o5-3\",\"o3\",\"o3-2\",\"o3-3\",\"o3-4\",\"o4\",\"o4-2\",\"o4-3\",\"o5\",\"o5-2\",\"o5-3\"],\"xaxis\":\"x2\",\"y\":[1,1,1,1,2,2,3,2,3,2,0,0,2,2,0,0,0,0,1,1,0,0,1,0,0,1,1,1,1,1,1,1,0,0,0,0,0,0],\"yaxis\":\"y2\",\"type\":\"bar\"},{\"alignmentgroup\":\"True\",\"hovertemplate\":\"Result=Failed to detect\\u003cbr\\u003escheme=VaQuERo\\u003cbr\\u003eSample=%{x}\\u003cbr\\u003eCount=%{y}\\u003cextra\\u003e\\u003c\\u002fextra\\u003e\",\"legendgroup\":\"Failed to detect\",\"marker\":{\"color\":\"#EF553B\",\"pattern\":{\"shape\":\"\"}},\"name\":\"Failed to detect\",\"offsetgroup\":\"Failed to detect\",\"orientation\":\"v\",\"showlegend\":false,\"textposition\":\"auto\",\"texttemplate\":\"%{y}\",\"x\":[\"0\",\"0-2\",\"0-3\",\"0-4\",\"0adgio1\",\"0adgio1-2\",\"0adgio1o2o3o4o5\",\"0agio1o2\",\"0aio1o2o3o4o5\",\"0o5o3o4\",\"a\",\"a-2\",\"adgio1o2o3\",\"agio3o4o5\",\"d\",\"d-2\",\"g\",\"g-2\",\"i\",\"i-2\",\"o1-2\",\"o1o2\",\"o1o2o3o4o5\",\"o2-2\",\"o2-3\",\"o2o3o4o5\",\"o2o3o4o5-2\",\"o2o3o4o5-3\",\"o3\",\"o3-2\",\"o3-3\",\"o3-4\",\"o4\",\"o4-2\",\"o4-3\",\"o5\",\"o5-2\",\"o5-3\"],\"xaxis\":\"x\",\"y\":[1,1,1,1,2,1,4,1,1,1,0,0,2,0,0,0,0,0,0,0,0,0,0,0,0,0,0,0,0,0,0,0,0,0,0,0,0,0],\"yaxis\":\"y\",\"type\":\"bar\"},{\"alignmentgroup\":\"True\",\"hovertemplate\":\"Result=Unexpected but detected\\u003cbr\\u003escheme=Alcov\\u003cbr\\u003eSample=%{x}\\u003cbr\\u003eCount=%{y}\\u003cextra\\u003e\\u003c\\u002fextra\\u003e\",\"legendgroup\":\"Unexpected but detected\",\"marker\":{\"color\":\"#00cc96\",\"pattern\":{\"shape\":\"\"}},\"name\":\"Unexpected but detected\",\"offsetgroup\":\"Unexpected but detected\",\"orientation\":\"v\",\"showlegend\":true,\"textposition\":\"auto\",\"texttemplate\":\"%{y}\",\"x\":[\"0\",\"0-2\",\"0-3\",\"0-4\",\"0adgio1\",\"0adgio1-2\",\"0adgio1o2o3o4o5\",\"0agio1o2\",\"0aio1o2o3o4o5\",\"0o5o3o4\",\"a\",\"a-2\",\"adgio1o2o3\",\"agio3o4o5\",\"d\",\"d-2\",\"g\",\"g-2\",\"i\",\"i-2\",\"o1-2\",\"o1o2\",\"o1o2o3o4o5\",\"o2-2\",\"o2-3\",\"o2o3o4o5\",\"o2o3o4o5-2\",\"o2o3o4o5-3\",\"o3\",\"o3-2\",\"o3-3\",\"o3-4\",\"o4\",\"o4-2\",\"o4-3\",\"o5\",\"o5-2\",\"o5-3\"],\"xaxis\":\"x9\",\"y\":[2,2,2,2,5,5,4,7,4,4,2,2,6,5,3,3,2,2,2,1,3,5,3,4,7,3,3,4,5,7,5,5,4,4,5,3,4,3],\"yaxis\":\"y9\",\"type\":\"bar\"},{\"alignmentgroup\":\"True\",\"hovertemplate\":\"Result=Unexpected but detected\\u003cbr\\u003escheme=Freyja\\u003cbr\\u003eSample=%{x}\\u003cbr\\u003eCount=%{y}\\u003cextra\\u003e\\u003c\\u002fextra\\u003e\",\"legendgroup\":\"Unexpected but detected\",\"marker\":{\"color\":\"#00cc96\",\"pattern\":{\"shape\":\"\"}},\"name\":\"Unexpected but detected\",\"offsetgroup\":\"Unexpected but detected\",\"orientation\":\"v\",\"showlegend\":false,\"textposition\":\"auto\",\"texttemplate\":\"%{y}\",\"x\":[\"0\",\"0-2\",\"0-3\",\"0-4\",\"0adgio1\",\"0adgio1-2\",\"0adgio1o2o3o4o5\",\"0agio1o2\",\"0aio1o2o3o4o5\",\"0o5o3o4\",\"a\",\"a-2\",\"adgio1o2o3\",\"agio3o4o5\",\"d\",\"d-2\",\"g\",\"g-2\",\"i\",\"i-2\",\"o1-2\",\"o1o2\",\"o1o2o3o4o5\",\"o2-2\",\"o2-3\",\"o2o3o4o5\",\"o2o3o4o5-2\",\"o2o3o4o5-3\",\"o3\",\"o3-2\",\"o3-3\",\"o3-4\",\"o4\",\"o4-2\",\"o4-3\",\"o5\",\"o5-2\",\"o5-3\"],\"xaxis\":\"x8\",\"y\":[1,1,1,1,2,2,2,2,2,1,0,0,2,2,0,0,0,0,0,0,1,1,1,1,0,1,1,0,0,0,0,0,0,0,0,0,0,0],\"yaxis\":\"y8\",\"type\":\"bar\"},{\"alignmentgroup\":\"True\",\"hovertemplate\":\"Result=Unexpected but detected\\u003cbr\\u003escheme=kallisto\\u003cbr\\u003eSample=%{x}\\u003cbr\\u003eCount=%{y}\\u003cextra\\u003e\\u003c\\u002fextra\\u003e\",\"legendgroup\":\"Unexpected but detected\",\"marker\":{\"color\":\"#00cc96\",\"pattern\":{\"shape\":\"\"}},\"name\":\"Unexpected but detected\",\"offsetgroup\":\"Unexpected but detected\",\"orientation\":\"v\",\"showlegend\":false,\"textposition\":\"auto\",\"texttemplate\":\"%{y}\",\"x\":[\"0\",\"0-2\",\"0-3\",\"0-4\",\"0adgio1\",\"0adgio1-2\",\"0adgio1o2o3o4o5\",\"0agio1o2\",\"0aio1o2o3o4o5\",\"0o5o3o4\",\"a\",\"a-2\",\"adgio1o2o3\",\"agio3o4o5\",\"d\",\"d-2\",\"g\",\"g-2\",\"i\",\"i-2\",\"o1-2\",\"o1o2\",\"o1o2o3o4o5\",\"o2-2\",\"o2-3\",\"o2o3o4o5\",\"o2o3o4o5-2\",\"o2o3o4o5-3\",\"o3\",\"o3-2\",\"o3-3\",\"o3-4\",\"o4\",\"o4-2\",\"o4-3\",\"o5\",\"o5-2\",\"o5-3\"],\"xaxis\":\"x7\",\"y\":[19,19,19,19,16,16,14,17,16,20,19,18,16,17,17,17,18,17,20,20,20,21,17,21,20,17,17,17,20,20,20,20,19,19,20,20,20,20],\"yaxis\":\"y7\",\"type\":\"bar\"},{\"alignmentgroup\":\"True\",\"hovertemplate\":\"Result=Unexpected but detected\\u003cbr\\u003escheme=kallisto (C-WAP)\\u003cbr\\u003eSample=%{x}\\u003cbr\\u003eCount=%{y}\\u003cextra\\u003e\\u003c\\u002fextra\\u003e\",\"legendgroup\":\"Unexpected but detected\",\"marker\":{\"color\":\"#00cc96\",\"pattern\":{\"shape\":\"\"}},\"name\":\"Unexpected but detected\",\"offsetgroup\":\"Unexpected but detected\",\"orientation\":\"v\",\"showlegend\":false,\"textposition\":\"auto\",\"texttemplate\":\"%{y}\",\"x\":[\"0\",\"0-2\",\"0-3\",\"0-4\",\"0adgio1\",\"0adgio1-2\",\"0adgio1o2o3o4o5\",\"0agio1o2\",\"0aio1o2o3o4o5\",\"0o5o3o4\",\"a\",\"a-2\",\"adgio1o2o3\",\"agio3o4o5\",\"d\",\"d-2\",\"g\",\"g-2\",\"i\",\"i-2\",\"o1-2\",\"o1o2\",\"o1o2o3o4o5\",\"o2-2\",\"o2-3\",\"o2o3o4o5\",\"o2o3o4o5-2\",\"o2o3o4o5-3\",\"o3\",\"o3-2\",\"o3-3\",\"o3-4\",\"o4\",\"o4-2\",\"o4-3\",\"o5\",\"o5-2\",\"o5-3\"],\"xaxis\":\"x6\",\"y\":[14,14,14,14,9,9,6,9,8,12,14,14,9,10,14,14,14,14,14,14,14,13,11,14,14,12,12,12,15,15,15,15,14,14,14,14,14,14],\"yaxis\":\"y6\",\"type\":\"bar\"},{\"alignmentgroup\":\"True\",\"hovertemplate\":\"Result=Unexpected but detected\\u003cbr\\u003escheme=Kraken 2 (C-WAP)\\u003cbr\\u003eSample=%{x}\\u003cbr\\u003eCount=%{y}\\u003cextra\\u003e\\u003c\\u002fextra\\u003e\",\"legendgroup\":\"Unexpected but detected\",\"marker\":{\"color\":\"#00cc96\",\"pattern\":{\"shape\":\"\"}},\"name\":\"Unexpected but detected\",\"offsetgroup\":\"Unexpected but detected\",\"orientation\":\"v\",\"showlegend\":false,\"textposition\":\"auto\",\"texttemplate\":\"%{y}\",\"x\":[\"0\",\"0-2\",\"0-3\",\"0-4\",\"0adgio1\",\"0adgio1-2\",\"0adgio1o2o3o4o5\",\"0agio1o2\",\"0aio1o2o3o4o5\",\"0o5o3o4\",\"a\",\"a-2\",\"adgio1o2o3\",\"agio3o4o5\",\"d\",\"d-2\",\"g\",\"g-2\",\"i\",\"i-2\",\"o1-2\",\"o1o2\",\"o1o2o3o4o5\",\"o2-2\",\"o2-3\",\"o2o3o4o5\",\"o2o3o4o5-2\",\"o2o3o4o5-3\",\"o3\",\"o3-2\",\"o3-3\",\"o3-4\",\"o4\",\"o4-2\",\"o4-3\",\"o5\",\"o5-2\",\"o5-3\"],\"xaxis\":\"x5\",\"y\":[6,6,6,6,5,5,2,4,2,4,6,6,4,4,6,6,6,6,6,6,5,4,2,5,5,3,3,3,6,6,6,6,5,5,5,5,5,5],\"yaxis\":\"y5\",\"type\":\"bar\"},{\"alignmentgroup\":\"True\",\"hovertemplate\":\"Result=Unexpected but detected\\u003cbr\\u003escheme=LCS\\u003cbr\\u003eSample=%{x}\\u003cbr\\u003eCount=%{y}\\u003cextra\\u003e\\u003c\\u002fextra\\u003e\",\"legendgroup\":\"Unexpected but detected\",\"marker\":{\"color\":\"#00cc96\",\"pattern\":{\"shape\":\"\"}},\"name\":\"Unexpected but detected\",\"offsetgroup\":\"Unexpected but detected\",\"orientation\":\"v\",\"showlegend\":false,\"textposition\":\"auto\",\"texttemplate\":\"%{y}\",\"x\":[\"0\",\"0-2\",\"0-3\",\"0-4\",\"0adgio1\",\"0adgio1-2\",\"0adgio1o2o3o4o5\",\"0agio1o2\",\"0aio1o2o3o4o5\",\"0o5o3o4\",\"a\",\"a-2\",\"adgio1o2o3\",\"agio3o4o5\",\"d\",\"d-2\",\"g\",\"g-2\",\"i\",\"i-2\",\"o1-2\",\"o1o2\",\"o1o2o3o4o5\",\"o2-2\",\"o2-3\",\"o2o3o4o5\",\"o2o3o4o5-2\",\"o2o3o4o5-3\",\"o3\",\"o3-2\",\"o3-3\",\"o3-4\",\"o4\",\"o4-2\",\"o4-3\",\"o5\",\"o5-2\",\"o5-3\"],\"xaxis\":\"x4\",\"y\":[14,13,11,13,11,9,7,11,10,12,11,14,9,10,12,13,13,12,14,15,12,15,11,14,14,13,11,13,12,13,14,12,16,13,13,11,14,13],\"yaxis\":\"y4\",\"type\":\"bar\"},{\"alignmentgroup\":\"True\",\"hovertemplate\":\"Result=Unexpected but detected\\u003cbr\\u003escheme=lineagespot\\u003cbr\\u003eSample=%{x}\\u003cbr\\u003eCount=%{y}\\u003cextra\\u003e\\u003c\\u002fextra\\u003e\",\"legendgroup\":\"Unexpected but detected\",\"marker\":{\"color\":\"#00cc96\",\"pattern\":{\"shape\":\"\"}},\"name\":\"Unexpected but detected\",\"offsetgroup\":\"Unexpected but detected\",\"orientation\":\"v\",\"showlegend\":false,\"textposition\":\"auto\",\"texttemplate\":\"%{y}\",\"x\":[\"0\",\"0-2\",\"0-3\",\"0-4\",\"0adgio1\",\"0adgio1-2\",\"0adgio1o2o3o4o5\",\"0agio1o2\",\"0aio1o2o3o4o5\",\"0o5o3o4\",\"a\",\"a-2\",\"adgio1o2o3\",\"agio3o4o5\",\"d\",\"d-2\",\"g\",\"g-2\",\"i\",\"i-2\",\"o1-2\",\"o1o2\",\"o1o2o3o4o5\",\"o2-2\",\"o2-3\",\"o2o3o4o5\",\"o2o3o4o5-2\",\"o2o3o4o5-3\",\"o3\",\"o3-2\",\"o3-3\",\"o3-4\",\"o4\",\"o4-2\",\"o4-3\",\"o5\",\"o5-2\",\"o5-3\"],\"xaxis\":\"x3\",\"y\":[1,1,1,1,1,1,1,2,1,1,1,1,1,1,1,1,1,1,1,1,3,4,3,2,3,4,1,4,2,1,5,4,4,3,1,3,2,1],\"yaxis\":\"y3\",\"type\":\"bar\"},{\"alignmentgroup\":\"True\",\"hovertemplate\":\"Result=Unexpected but detected\\u003cbr\\u003escheme=LolliPop\\u003cbr\\u003eSample=%{x}\\u003cbr\\u003eCount=%{y}\\u003cextra\\u003e\\u003c\\u002fextra\\u003e\",\"legendgroup\":\"Unexpected but detected\",\"marker\":{\"color\":\"#00cc96\",\"pattern\":{\"shape\":\"\"}},\"name\":\"Unexpected but detected\",\"offsetgroup\":\"Unexpected but detected\",\"orientation\":\"v\",\"showlegend\":false,\"textposition\":\"auto\",\"texttemplate\":\"%{y}\",\"x\":[\"0\",\"0-2\",\"0-3\",\"0-4\",\"0adgio1\",\"0adgio1-2\",\"0adgio1o2o3o4o5\",\"0agio1o2\",\"0aio1o2o3o4o5\",\"0o5o3o4\",\"a\",\"a-2\",\"adgio1o2o3\",\"agio3o4o5\",\"d\",\"d-2\",\"g\",\"g-2\",\"i\",\"i-2\",\"o1-2\",\"o1o2\",\"o1o2o3o4o5\",\"o2-2\",\"o2-3\",\"o2o3o4o5\",\"o2o3o4o5-2\",\"o2o3o4o5-3\",\"o3\",\"o3-2\",\"o3-3\",\"o3-4\",\"o4\",\"o4-2\",\"o4-3\",\"o5\",\"o5-2\",\"o5-3\"],\"xaxis\":\"x2\",\"y\":[22,22,22,22,18,18,15,18,17,20,21,21,17,17,21,21,21,20,22,22,21,20,17,20,21,19,18,18,22,22,22,22,20,20,20,21,20,21],\"yaxis\":\"y2\",\"type\":\"bar\"},{\"alignmentgroup\":\"True\",\"hovertemplate\":\"Result=Unexpected but detected\\u003cbr\\u003escheme=VaQuERo\\u003cbr\\u003eSample=%{x}\\u003cbr\\u003eCount=%{y}\\u003cextra\\u003e\\u003c\\u002fextra\\u003e\",\"legendgroup\":\"Unexpected but detected\",\"marker\":{\"color\":\"#00cc96\",\"pattern\":{\"shape\":\"\"}},\"name\":\"Unexpected but detected\",\"offsetgroup\":\"Unexpected but detected\",\"orientation\":\"v\",\"showlegend\":false,\"textposition\":\"auto\",\"texttemplate\":\"%{y}\",\"x\":[\"0\",\"0-2\",\"0-3\",\"0-4\",\"0adgio1\",\"0adgio1-2\",\"0adgio1o2o3o4o5\",\"0agio1o2\",\"0aio1o2o3o4o5\",\"0o5o3o4\",\"a\",\"a-2\",\"adgio1o2o3\",\"agio3o4o5\",\"d\",\"d-2\",\"g\",\"g-2\",\"i\",\"i-2\",\"o1-2\",\"o1o2\",\"o1o2o3o4o5\",\"o2-2\",\"o2-3\",\"o2o3o4o5\",\"o2o3o4o5-2\",\"o2o3o4o5-3\",\"o3\",\"o3-2\",\"o3-3\",\"o3-4\",\"o4\",\"o4-2\",\"o4-3\",\"o5\",\"o5-2\",\"o5-3\"],\"xaxis\":\"x\",\"y\":[0,0,0,0,0,0,0,0,0,0,0,0,0,0,0,0,0,0,0,0,0,0,0,0,0,0,0,0,1,1,1,1,0,0,0,0,0,0],\"yaxis\":\"y\",\"type\":\"bar\"}],                        {\"template\":{\"data\":{\"histogram2dcontour\":[{\"type\":\"histogram2dcontour\",\"colorbar\":{\"outlinewidth\":0,\"ticks\":\"\"},\"colorscale\":[[0.0,\"#0d0887\"],[0.1111111111111111,\"#46039f\"],[0.2222222222222222,\"#7201a8\"],[0.3333333333333333,\"#9c179e\"],[0.4444444444444444,\"#bd3786\"],[0.5555555555555556,\"#d8576b\"],[0.6666666666666666,\"#ed7953\"],[0.7777777777777778,\"#fb9f3a\"],[0.8888888888888888,\"#fdca26\"],[1.0,\"#f0f921\"]]}],\"choropleth\":[{\"type\":\"choropleth\",\"colorbar\":{\"outlinewidth\":0,\"ticks\":\"\"}}],\"histogram2d\":[{\"type\":\"histogram2d\",\"colorbar\":{\"outlinewidth\":0,\"ticks\":\"\"},\"colorscale\":[[0.0,\"#0d0887\"],[0.1111111111111111,\"#46039f\"],[0.2222222222222222,\"#7201a8\"],[0.3333333333333333,\"#9c179e\"],[0.4444444444444444,\"#bd3786\"],[0.5555555555555556,\"#d8576b\"],[0.6666666666666666,\"#ed7953\"],[0.7777777777777778,\"#fb9f3a\"],[0.8888888888888888,\"#fdca26\"],[1.0,\"#f0f921\"]]}],\"heatmap\":[{\"type\":\"heatmap\",\"colorbar\":{\"outlinewidth\":0,\"ticks\":\"\"},\"colorscale\":[[0.0,\"#0d0887\"],[0.1111111111111111,\"#46039f\"],[0.2222222222222222,\"#7201a8\"],[0.3333333333333333,\"#9c179e\"],[0.4444444444444444,\"#bd3786\"],[0.5555555555555556,\"#d8576b\"],[0.6666666666666666,\"#ed7953\"],[0.7777777777777778,\"#fb9f3a\"],[0.8888888888888888,\"#fdca26\"],[1.0,\"#f0f921\"]]}],\"heatmapgl\":[{\"type\":\"heatmapgl\",\"colorbar\":{\"outlinewidth\":0,\"ticks\":\"\"},\"colorscale\":[[0.0,\"#0d0887\"],[0.1111111111111111,\"#46039f\"],[0.2222222222222222,\"#7201a8\"],[0.3333333333333333,\"#9c179e\"],[0.4444444444444444,\"#bd3786\"],[0.5555555555555556,\"#d8576b\"],[0.6666666666666666,\"#ed7953\"],[0.7777777777777778,\"#fb9f3a\"],[0.8888888888888888,\"#fdca26\"],[1.0,\"#f0f921\"]]}],\"contourcarpet\":[{\"type\":\"contourcarpet\",\"colorbar\":{\"outlinewidth\":0,\"ticks\":\"\"}}],\"contour\":[{\"type\":\"contour\",\"colorbar\":{\"outlinewidth\":0,\"ticks\":\"\"},\"colorscale\":[[0.0,\"#0d0887\"],[0.1111111111111111,\"#46039f\"],[0.2222222222222222,\"#7201a8\"],[0.3333333333333333,\"#9c179e\"],[0.4444444444444444,\"#bd3786\"],[0.5555555555555556,\"#d8576b\"],[0.6666666666666666,\"#ed7953\"],[0.7777777777777778,\"#fb9f3a\"],[0.8888888888888888,\"#fdca26\"],[1.0,\"#f0f921\"]]}],\"surface\":[{\"type\":\"surface\",\"colorbar\":{\"outlinewidth\":0,\"ticks\":\"\"},\"colorscale\":[[0.0,\"#0d0887\"],[0.1111111111111111,\"#46039f\"],[0.2222222222222222,\"#7201a8\"],[0.3333333333333333,\"#9c179e\"],[0.4444444444444444,\"#bd3786\"],[0.5555555555555556,\"#d8576b\"],[0.6666666666666666,\"#ed7953\"],[0.7777777777777778,\"#fb9f3a\"],[0.8888888888888888,\"#fdca26\"],[1.0,\"#f0f921\"]]}],\"mesh3d\":[{\"type\":\"mesh3d\",\"colorbar\":{\"outlinewidth\":0,\"ticks\":\"\"}}],\"scatter\":[{\"fillpattern\":{\"fillmode\":\"overlay\",\"size\":10,\"solidity\":0.2},\"type\":\"scatter\"}],\"parcoords\":[{\"type\":\"parcoords\",\"line\":{\"colorbar\":{\"outlinewidth\":0,\"ticks\":\"\"}}}],\"scatterpolargl\":[{\"type\":\"scatterpolargl\",\"marker\":{\"colorbar\":{\"outlinewidth\":0,\"ticks\":\"\"}}}],\"bar\":[{\"error_x\":{\"color\":\"#2a3f5f\"},\"error_y\":{\"color\":\"#2a3f5f\"},\"marker\":{\"line\":{\"color\":\"#E5ECF6\",\"width\":0.5},\"pattern\":{\"fillmode\":\"overlay\",\"size\":10,\"solidity\":0.2}},\"type\":\"bar\"}],\"scattergeo\":[{\"type\":\"scattergeo\",\"marker\":{\"colorbar\":{\"outlinewidth\":0,\"ticks\":\"\"}}}],\"scatterpolar\":[{\"type\":\"scatterpolar\",\"marker\":{\"colorbar\":{\"outlinewidth\":0,\"ticks\":\"\"}}}],\"histogram\":[{\"marker\":{\"pattern\":{\"fillmode\":\"overlay\",\"size\":10,\"solidity\":0.2}},\"type\":\"histogram\"}],\"scattergl\":[{\"type\":\"scattergl\",\"marker\":{\"colorbar\":{\"outlinewidth\":0,\"ticks\":\"\"}}}],\"scatter3d\":[{\"type\":\"scatter3d\",\"line\":{\"colorbar\":{\"outlinewidth\":0,\"ticks\":\"\"}},\"marker\":{\"colorbar\":{\"outlinewidth\":0,\"ticks\":\"\"}}}],\"scattermapbox\":[{\"type\":\"scattermapbox\",\"marker\":{\"colorbar\":{\"outlinewidth\":0,\"ticks\":\"\"}}}],\"scatterternary\":[{\"type\":\"scatterternary\",\"marker\":{\"colorbar\":{\"outlinewidth\":0,\"ticks\":\"\"}}}],\"scattercarpet\":[{\"type\":\"scattercarpet\",\"marker\":{\"colorbar\":{\"outlinewidth\":0,\"ticks\":\"\"}}}],\"carpet\":[{\"aaxis\":{\"endlinecolor\":\"#2a3f5f\",\"gridcolor\":\"white\",\"linecolor\":\"white\",\"minorgridcolor\":\"white\",\"startlinecolor\":\"#2a3f5f\"},\"baxis\":{\"endlinecolor\":\"#2a3f5f\",\"gridcolor\":\"white\",\"linecolor\":\"white\",\"minorgridcolor\":\"white\",\"startlinecolor\":\"#2a3f5f\"},\"type\":\"carpet\"}],\"table\":[{\"cells\":{\"fill\":{\"color\":\"#EBF0F8\"},\"line\":{\"color\":\"white\"}},\"header\":{\"fill\":{\"color\":\"#C8D4E3\"},\"line\":{\"color\":\"white\"}},\"type\":\"table\"}],\"barpolar\":[{\"marker\":{\"line\":{\"color\":\"#E5ECF6\",\"width\":0.5},\"pattern\":{\"fillmode\":\"overlay\",\"size\":10,\"solidity\":0.2}},\"type\":\"barpolar\"}],\"pie\":[{\"automargin\":true,\"type\":\"pie\"}]},\"layout\":{\"autotypenumbers\":\"strict\",\"colorway\":[\"#636efa\",\"#EF553B\",\"#00cc96\",\"#ab63fa\",\"#FFA15A\",\"#19d3f3\",\"#FF6692\",\"#B6E880\",\"#FF97FF\",\"#FECB52\"],\"font\":{\"color\":\"#2a3f5f\"},\"hovermode\":\"closest\",\"hoverlabel\":{\"align\":\"left\"},\"paper_bgcolor\":\"white\",\"plot_bgcolor\":\"#E5ECF6\",\"polar\":{\"bgcolor\":\"#E5ECF6\",\"angularaxis\":{\"gridcolor\":\"white\",\"linecolor\":\"white\",\"ticks\":\"\"},\"radialaxis\":{\"gridcolor\":\"white\",\"linecolor\":\"white\",\"ticks\":\"\"}},\"ternary\":{\"bgcolor\":\"#E5ECF6\",\"aaxis\":{\"gridcolor\":\"white\",\"linecolor\":\"white\",\"ticks\":\"\"},\"baxis\":{\"gridcolor\":\"white\",\"linecolor\":\"white\",\"ticks\":\"\"},\"caxis\":{\"gridcolor\":\"white\",\"linecolor\":\"white\",\"ticks\":\"\"}},\"coloraxis\":{\"colorbar\":{\"outlinewidth\":0,\"ticks\":\"\"}},\"colorscale\":{\"sequential\":[[0.0,\"#0d0887\"],[0.1111111111111111,\"#46039f\"],[0.2222222222222222,\"#7201a8\"],[0.3333333333333333,\"#9c179e\"],[0.4444444444444444,\"#bd3786\"],[0.5555555555555556,\"#d8576b\"],[0.6666666666666666,\"#ed7953\"],[0.7777777777777778,\"#fb9f3a\"],[0.8888888888888888,\"#fdca26\"],[1.0,\"#f0f921\"]],\"sequentialminus\":[[0.0,\"#0d0887\"],[0.1111111111111111,\"#46039f\"],[0.2222222222222222,\"#7201a8\"],[0.3333333333333333,\"#9c179e\"],[0.4444444444444444,\"#bd3786\"],[0.5555555555555556,\"#d8576b\"],[0.6666666666666666,\"#ed7953\"],[0.7777777777777778,\"#fb9f3a\"],[0.8888888888888888,\"#fdca26\"],[1.0,\"#f0f921\"]],\"diverging\":[[0,\"#8e0152\"],[0.1,\"#c51b7d\"],[0.2,\"#de77ae\"],[0.3,\"#f1b6da\"],[0.4,\"#fde0ef\"],[0.5,\"#f7f7f7\"],[0.6,\"#e6f5d0\"],[0.7,\"#b8e186\"],[0.8,\"#7fbc41\"],[0.9,\"#4d9221\"],[1,\"#276419\"]]},\"xaxis\":{\"gridcolor\":\"white\",\"linecolor\":\"white\",\"ticks\":\"\",\"title\":{\"standoff\":15},\"zerolinecolor\":\"white\",\"automargin\":true,\"zerolinewidth\":2},\"yaxis\":{\"gridcolor\":\"white\",\"linecolor\":\"white\",\"ticks\":\"\",\"title\":{\"standoff\":15},\"zerolinecolor\":\"white\",\"automargin\":true,\"zerolinewidth\":2},\"scene\":{\"xaxis\":{\"backgroundcolor\":\"#E5ECF6\",\"gridcolor\":\"white\",\"linecolor\":\"white\",\"showbackground\":true,\"ticks\":\"\",\"zerolinecolor\":\"white\",\"gridwidth\":2},\"yaxis\":{\"backgroundcolor\":\"#E5ECF6\",\"gridcolor\":\"white\",\"linecolor\":\"white\",\"showbackground\":true,\"ticks\":\"\",\"zerolinecolor\":\"white\",\"gridwidth\":2},\"zaxis\":{\"backgroundcolor\":\"#E5ECF6\",\"gridcolor\":\"white\",\"linecolor\":\"white\",\"showbackground\":true,\"ticks\":\"\",\"zerolinecolor\":\"white\",\"gridwidth\":2}},\"shapedefaults\":{\"line\":{\"color\":\"#2a3f5f\"}},\"annotationdefaults\":{\"arrowcolor\":\"#2a3f5f\",\"arrowhead\":0,\"arrowwidth\":1},\"geo\":{\"bgcolor\":\"white\",\"landcolor\":\"#E5ECF6\",\"subunitcolor\":\"white\",\"showland\":true,\"showlakes\":true,\"lakecolor\":\"white\"},\"title\":{\"x\":0.05},\"mapbox\":{\"style\":\"light\"}}},\"xaxis\":{\"anchor\":\"y\",\"domain\":[0.0,0.98],\"title\":{\"text\":\"Sample\"}},\"yaxis\":{\"anchor\":\"x\",\"domain\":[0.0,0.08444444444444445],\"title\":{\"text\":\"Count\"}},\"xaxis2\":{\"anchor\":\"y2\",\"domain\":[0.0,0.98],\"matches\":\"x\",\"showticklabels\":false},\"yaxis2\":{\"anchor\":\"x2\",\"domain\":[0.11444444444444445,0.1988888888888889],\"matches\":\"y\",\"title\":{\"text\":\"Count\"}},\"xaxis3\":{\"anchor\":\"y3\",\"domain\":[0.0,0.98],\"matches\":\"x\",\"showticklabels\":false},\"yaxis3\":{\"anchor\":\"x3\",\"domain\":[0.2288888888888889,0.31333333333333335],\"matches\":\"y\",\"title\":{\"text\":\"Count\"}},\"xaxis4\":{\"anchor\":\"y4\",\"domain\":[0.0,0.98],\"matches\":\"x\",\"showticklabels\":false},\"yaxis4\":{\"anchor\":\"x4\",\"domain\":[0.3433333333333334,0.4277777777777778],\"matches\":\"y\",\"title\":{\"text\":\"Count\"}},\"xaxis5\":{\"anchor\":\"y5\",\"domain\":[0.0,0.98],\"matches\":\"x\",\"showticklabels\":false},\"yaxis5\":{\"anchor\":\"x5\",\"domain\":[0.4577777777777778,0.5422222222222223],\"matches\":\"y\",\"title\":{\"text\":\"Count\"}},\"xaxis6\":{\"anchor\":\"y6\",\"domain\":[0.0,0.98],\"matches\":\"x\",\"showticklabels\":false},\"yaxis6\":{\"anchor\":\"x6\",\"domain\":[0.5722222222222222,0.6566666666666666],\"matches\":\"y\",\"title\":{\"text\":\"Count\"}},\"xaxis7\":{\"anchor\":\"y7\",\"domain\":[0.0,0.98],\"matches\":\"x\",\"showticklabels\":false},\"yaxis7\":{\"anchor\":\"x7\",\"domain\":[0.6866666666666668,0.7711111111111112],\"matches\":\"y\",\"title\":{\"text\":\"Count\"}},\"xaxis8\":{\"anchor\":\"y8\",\"domain\":[0.0,0.98],\"matches\":\"x\",\"showticklabels\":false},\"yaxis8\":{\"anchor\":\"x8\",\"domain\":[0.8011111111111111,0.8855555555555555],\"matches\":\"y\",\"title\":{\"text\":\"Count\"}},\"xaxis9\":{\"anchor\":\"y9\",\"domain\":[0.0,0.98],\"matches\":\"x\",\"showticklabels\":false},\"yaxis9\":{\"anchor\":\"x9\",\"domain\":[0.9155555555555556,1.0],\"matches\":\"y\",\"title\":{\"text\":\"Count\"}},\"annotations\":[{\"font\":{},\"showarrow\":false,\"text\":\"VaQuERo\",\"textangle\":90,\"x\":0.98,\"xanchor\":\"left\",\"xref\":\"paper\",\"y\":0.042222222222222223,\"yanchor\":\"middle\",\"yref\":\"paper\"},{\"font\":{},\"showarrow\":false,\"text\":\"LolliPop\",\"textangle\":90,\"x\":0.98,\"xanchor\":\"left\",\"xref\":\"paper\",\"y\":0.15666666666666668,\"yanchor\":\"middle\",\"yref\":\"paper\"},{\"font\":{},\"showarrow\":false,\"text\":\"lineagespot\",\"textangle\":90,\"x\":0.98,\"xanchor\":\"left\",\"xref\":\"paper\",\"y\":0.27111111111111114,\"yanchor\":\"middle\",\"yref\":\"paper\"},{\"font\":{},\"showarrow\":false,\"text\":\"LCS\",\"textangle\":90,\"x\":0.98,\"xanchor\":\"left\",\"xref\":\"paper\",\"y\":0.3855555555555556,\"yanchor\":\"middle\",\"yref\":\"paper\"},{\"font\":{},\"showarrow\":false,\"text\":\"Kraken 2\\u003cbr\\u003e(C-WAP)\",\"textangle\":90,\"x\":0.98,\"xanchor\":\"left\",\"xref\":\"paper\",\"y\":0.5,\"yanchor\":\"middle\",\"yref\":\"paper\"},{\"font\":{},\"showarrow\":false,\"text\":\"kallisto\\u003cbr\\u003e(C-WAP)\",\"textangle\":90,\"x\":0.98,\"xanchor\":\"left\",\"xref\":\"paper\",\"y\":0.6144444444444443,\"yanchor\":\"middle\",\"yref\":\"paper\"},{\"font\":{},\"showarrow\":false,\"text\":\"kallisto\",\"textangle\":90,\"x\":0.98,\"xanchor\":\"left\",\"xref\":\"paper\",\"y\":0.7288888888888889,\"yanchor\":\"middle\",\"yref\":\"paper\"},{\"font\":{},\"showarrow\":false,\"text\":\"Freyja\",\"textangle\":90,\"x\":0.98,\"xanchor\":\"left\",\"xref\":\"paper\",\"y\":0.8433333333333333,\"yanchor\":\"middle\",\"yref\":\"paper\"},{\"font\":{},\"showarrow\":false,\"text\":\"Alcov\",\"textangle\":90,\"x\":0.98,\"xanchor\":\"left\",\"xref\":\"paper\",\"y\":0.9577777777777778,\"yanchor\":\"middle\",\"yref\":\"paper\"}],\"legend\":{\"title\":{\"text\":\"Result\"},\"tracegroupgap\":0},\"title\":{\"text\":\"Detection of expected lineages\"},\"barmode\":\"relative\",\"height\":800,\"font\":{\"family\":\"Inconsolata\"}},                        {\"responsive\": true}                    ).then(function(){\n",
       "                            \n",
       "var gd = document.getElementById('9cd246b7-620c-458a-b017-62ba5f14cc55');\n",
       "var x = new MutationObserver(function (mutations, observer) {{\n",
       "        var display = window.getComputedStyle(gd).display;\n",
       "        if (!display || display === 'none') {{\n",
       "            console.log([gd, 'removed!']);\n",
       "            Plotly.purge(gd);\n",
       "            observer.disconnect();\n",
       "        }}\n",
       "}});\n",
       "\n",
       "// Listen for the removal of the full notebook cells\n",
       "var notebookContainer = gd.closest('#notebook-container');\n",
       "if (notebookContainer) {{\n",
       "    x.observe(notebookContainer, {childList: true});\n",
       "}}\n",
       "\n",
       "// Listen for the clearing of the current output cell\n",
       "var outputEl = gd.closest('.output');\n",
       "if (outputEl) {{\n",
       "    x.observe(outputEl, {childList: true});\n",
       "}}\n",
       "\n",
       "                        })                };                });            </script>        </div>"
      ]
     },
     "metadata": {},
     "output_type": "display_data"
    }
   ],
   "source": [
    "pio.write_image(fig1, fn1, width=1400, height=1400, scale=2)\n",
    "fig1.show()"
   ]
  },
  {
   "cell_type": "markdown",
   "metadata": {},
   "source": [
    "### Detected lineage composition (Freyja) (Fig 5b in the paper)"
   ]
  },
  {
   "cell_type": "code",
   "execution_count": 18,
   "metadata": {},
   "outputs": [],
   "source": [
    "file_map2 = {runs[\"Freyja\"][\"WB\"]: \"Freyja\", expected:\"Expected\"}\n",
    "freyja_plotter = FreyjaPlotter(file_map=file_map2,summary_dict=summary_dict,colormap=colormap)\n",
    "freyja_plotter = renameSamples(freyja_plotter)\n",
    "fig2 = freyja_plotter.plotLineageDetections(\n",
    "    show_counts=False,\n",
    "    summarized=True,\n",
    "    height=600,\n",
    "    include_unexpected_lineages=True,\n",
    "    minimum_abundance=0.00,\n",
    "    title=\"Freyja: Detected lineages (positive: correctly detected, negative: detected but unexpected)\"\n",
    ")\n",
    "fn2 = outdir / \"detection-w-false-pos-freyja-only.jpg\""
   ]
  },
  {
   "cell_type": "code",
   "execution_count": 19,
   "metadata": {},
   "outputs": [
    {
     "data": {
      "application/vnd.plotly.v1+json": {
       "config": {
        "plotlyServerURL": "https://plot.ly"
       },
       "data": [
        {
         "alignmentgroup": "True",
         "hovertemplate": "Lineages=%{text}<br>scheme=Freyja<br>Sample=%{x}<br>Abundances=%{y}<extra></extra>",
         "legendgroup": "Wuhan-hu-1",
         "marker": {
          "color": "#636efa",
          "pattern": {
           "shape": ""
          }
         },
         "name": "Wuhan-hu-1",
         "offsetgroup": "Wuhan-hu-1",
         "orientation": "v",
         "showlegend": true,
         "text": [
          "Wuhan-hu-1",
          "Wuhan-hu-1",
          "Wuhan-hu-1",
          "Wuhan-hu-1",
          "Wuhan-hu-1",
          "Wuhan-hu-1",
          "Wuhan-hu-1"
         ],
         "textposition": "auto",
         "type": "bar",
         "x": [
          "0",
          "0-2",
          "0-3",
          "0-4",
          "0adgio1-2",
          "0adgio1o2o3o4o5",
          "0o5o3o4"
         ],
         "xaxis": "x",
         "y": [
          1,
          1,
          1,
          1,
          1,
          1,
          1
         ],
         "yaxis": "y"
        },
        {
         "alignmentgroup": "True",
         "hovertemplate": "Lineages=%{text}<br>scheme=Freyja<br>Sample=%{x}<br>Abundances=%{y}<extra></extra>",
         "legendgroup": "Iota",
         "marker": {
          "color": "#EF553B",
          "pattern": {
           "shape": ""
          }
         },
         "name": "Iota",
         "offsetgroup": "Iota",
         "orientation": "v",
         "showlegend": true,
         "text": [
          "Iota",
          "Iota",
          "Iota",
          "Iota",
          "Iota",
          "Iota",
          "Iota",
          "Iota",
          "Iota"
         ],
         "textposition": "auto",
         "type": "bar",
         "x": [
          "0adgio1",
          "0adgio1-2",
          "0adgio1o2o3o4o5",
          "0agio1o2",
          "0aio1o2o3o4o5",
          "adgio1o2o3",
          "agio3o4o5",
          "i",
          "i-2"
         ],
         "xaxis": "x",
         "y": [
          1,
          1,
          1,
          1,
          1,
          1,
          1,
          1,
          1
         ],
         "yaxis": "y"
        },
        {
         "alignmentgroup": "True",
         "hovertemplate": "Lineages=%{text}<br>scheme=Freyja<br>Sample=%{x}<br>Abundances=%{y}<extra></extra>",
         "legendgroup": "Alpha",
         "marker": {
          "color": "#00cc96",
          "pattern": {
           "shape": ""
          }
         },
         "name": "Alpha",
         "offsetgroup": "Alpha",
         "orientation": "v",
         "showlegend": true,
         "text": [
          "Alpha",
          "Alpha",
          "Alpha",
          "Alpha",
          "Alpha",
          "Alpha",
          "Alpha",
          "Alpha",
          "Alpha"
         ],
         "textposition": "auto",
         "type": "bar",
         "x": [
          "0adgio1",
          "0adgio1-2",
          "0adgio1o2o3o4o5",
          "0agio1o2",
          "0aio1o2o3o4o5",
          "a",
          "a-2",
          "adgio1o2o3",
          "agio3o4o5"
         ],
         "xaxis": "x",
         "y": [
          1,
          1,
          1,
          1,
          1,
          1,
          1,
          1,
          1
         ],
         "yaxis": "y"
        },
        {
         "alignmentgroup": "True",
         "hovertemplate": "Lineages=%{text}<br>scheme=Freyja<br>Sample=%{x}<br>Abundances=%{y}<extra></extra>",
         "legendgroup": "BA.1.X",
         "marker": {
          "color": "#ab63fa",
          "pattern": {
           "shape": ""
          }
         },
         "name": "BA.1.X",
         "offsetgroup": "BA.1.X",
         "orientation": "v",
         "showlegend": true,
         "text": [
          "BA.1.X",
          "BA.1.X",
          "BA.1.X",
          "BA.1.X",
          "BA.1.X",
          "BA.1.X",
          "BA.1.X",
          "BA.1.X",
          "BA.1.X"
         ],
         "textposition": "auto",
         "type": "bar",
         "x": [
          "0adgio1",
          "0adgio1-2",
          "0adgio1o2o3o4o5",
          "0agio1o2",
          "0aio1o2o3o4o5",
          "adgio1o2o3",
          "o1-2",
          "o1o2",
          "o1o2o3o4o5"
         ],
         "xaxis": "x",
         "y": [
          1,
          1,
          1,
          1,
          1,
          1,
          1,
          1,
          1
         ],
         "yaxis": "y"
        },
        {
         "alignmentgroup": "True",
         "hovertemplate": "Lineages=%{text}<br>scheme=Freyja<br>Sample=%{x}<br>Abundances=%{y}<extra></extra>",
         "legendgroup": "Gamma",
         "marker": {
          "color": "#FFA15A",
          "pattern": {
           "shape": ""
          }
         },
         "name": "Gamma",
         "offsetgroup": "Gamma",
         "orientation": "v",
         "showlegend": true,
         "text": [
          "Gamma",
          "Gamma",
          "Gamma",
          "Gamma",
          "Gamma",
          "Gamma",
          "Gamma",
          "Gamma"
         ],
         "textposition": "auto",
         "type": "bar",
         "x": [
          "0adgio1",
          "0adgio1-2",
          "0adgio1o2o3o4o5",
          "0agio1o2",
          "adgio1o2o3",
          "agio3o4o5",
          "g",
          "g-2"
         ],
         "xaxis": "x",
         "y": [
          1,
          1,
          1,
          1,
          1,
          1,
          1,
          1
         ],
         "yaxis": "y"
        },
        {
         "alignmentgroup": "True",
         "hovertemplate": "Lineages=%{text}<br>scheme=Freyja<br>Sample=%{x}<br>Abundances=%{y}<extra></extra>",
         "legendgroup": "Omicron",
         "marker": {
          "color": "#19d3f3",
          "pattern": {
           "shape": ""
          }
         },
         "name": "Omicron",
         "offsetgroup": "Omicron",
         "orientation": "v",
         "showlegend": true,
         "text": [
          "Omicron",
          "Omicron",
          "Omicron",
          "Omicron",
          "Omicron",
          "Omicron",
          "Omicron",
          "Omicron",
          "Omicron",
          "Omicron",
          "Omicron",
          "Omicron",
          "Omicron"
         ],
         "textposition": "auto",
         "type": "bar",
         "x": [
          "0adgio1",
          "0adgio1-2",
          "0adgio1o2o3o4o5",
          "0agio1o2",
          "0aio1o2o3o4o5",
          "adgio1o2o3",
          "agio3o4o5",
          "o1-2",
          "o1o2",
          "o1o2o3o4o5",
          "o2-2",
          "o2o3o4o5",
          "o2o3o4o5-2"
         ],
         "xaxis": "x",
         "y": [
          -1,
          -1,
          -1,
          -1,
          -1,
          -1,
          -1,
          -1,
          -1,
          -1,
          -1,
          -1,
          -1
         ],
         "yaxis": "y"
        },
        {
         "alignmentgroup": "True",
         "hovertemplate": "Lineages=%{text}<br>scheme=Freyja<br>Sample=%{x}<br>Abundances=%{y}<extra></extra>",
         "legendgroup": "Delta",
         "marker": {
          "color": "#FF6692",
          "pattern": {
           "shape": ""
          }
         },
         "name": "Delta",
         "offsetgroup": "Delta",
         "orientation": "v",
         "showlegend": true,
         "text": [
          "Delta",
          "Delta",
          "Delta",
          "Delta",
          "Delta",
          "Delta"
         ],
         "textposition": "auto",
         "type": "bar",
         "x": [
          "0adgio1",
          "0adgio1-2",
          "0adgio1o2o3o4o5",
          "adgio1o2o3",
          "d",
          "d-2"
         ],
         "xaxis": "x",
         "y": [
          1,
          1,
          1,
          1,
          1,
          1
         ],
         "yaxis": "y"
        },
        {
         "alignmentgroup": "True",
         "hovertemplate": "Lineages=%{text}<br>scheme=Freyja<br>Sample=%{x}<br>Abundances=%{y}<extra></extra>",
         "legendgroup": "BA.4.X",
         "marker": {
          "color": "#B6E880",
          "pattern": {
           "shape": ""
          }
         },
         "name": "BA.4.X",
         "offsetgroup": "BA.4.X",
         "orientation": "v",
         "showlegend": true,
         "text": [
          "BA.4.X",
          "BA.4.X",
          "BA.4.X",
          "BA.4.X",
          "BA.4.X",
          "BA.4.X",
          "BA.4.X",
          "BA.4.X",
          "BA.4.X",
          "BA.4.X",
          "BA.4.X"
         ],
         "textposition": "auto",
         "type": "bar",
         "x": [
          "0adgio1o2o3o4o5",
          "0aio1o2o3o4o5",
          "0o5o3o4",
          "agio3o4o5",
          "o1o2o3o4o5",
          "o2o3o4o5",
          "o2o3o4o5-2",
          "o2o3o4o5-3",
          "o4",
          "o4-2",
          "o4-3"
         ],
         "xaxis": "x",
         "y": [
          1,
          1,
          1,
          1,
          1,
          1,
          1,
          1,
          1,
          1,
          1
         ],
         "yaxis": "y"
        },
        {
         "alignmentgroup": "True",
         "hovertemplate": "Lineages=%{text}<br>scheme=Freyja<br>Sample=%{x}<br>Abundances=%{y}<extra></extra>",
         "legendgroup": "BA.2.X",
         "marker": {
          "color": "#FF97FF",
          "pattern": {
           "shape": ""
          }
         },
         "name": "BA.2.X",
         "offsetgroup": "BA.2.X",
         "orientation": "v",
         "showlegend": true,
         "text": [
          "BA.2.X",
          "BA.2.X",
          "BA.2.X",
          "BA.2.X",
          "BA.2.X",
          "BA.2.X",
          "BA.2.X",
          "BA.2.X",
          "BA.2.X",
          "BA.2.X",
          "BA.2.X"
         ],
         "textposition": "auto",
         "type": "bar",
         "x": [
          "0adgio1o2o3o4o5",
          "0agio1o2",
          "0aio1o2o3o4o5",
          "adgio1o2o3",
          "o1o2",
          "o1o2o3o4o5",
          "o2-2",
          "o2-3",
          "o2o3o4o5",
          "o2o3o4o5-2",
          "o2o3o4o5-3"
         ],
         "xaxis": "x",
         "y": [
          1,
          1,
          1,
          1,
          1,
          1,
          1,
          1,
          1,
          1,
          1
         ],
         "yaxis": "y"
        },
        {
         "alignmentgroup": "True",
         "hovertemplate": "Lineages=%{text}<br>scheme=Freyja<br>Sample=%{x}<br>Abundances=%{y}<extra></extra>",
         "legendgroup": "BG.X",
         "marker": {
          "color": "#FECB52",
          "pattern": {
           "shape": ""
          }
         },
         "name": "BG.X",
         "offsetgroup": "BG.X",
         "orientation": "v",
         "showlegend": true,
         "text": [
          "BG.X",
          "BG.X",
          "BG.X",
          "BG.X",
          "BG.X",
          "BG.X",
          "BG.X",
          "BG.X",
          "BG.X",
          "BG.X",
          "BG.X",
          "BG.X",
          "BG.X"
         ],
         "textposition": "auto",
         "type": "bar",
         "x": [
          "0adgio1o2o3o4o5",
          "0aio1o2o3o4o5",
          "0o5o3o4",
          "adgio1o2o3",
          "agio3o4o5",
          "o1o2o3o4o5",
          "o2o3o4o5",
          "o2o3o4o5-2",
          "o2o3o4o5-3",
          "o3",
          "o3-2",
          "o3-3",
          "o3-4"
         ],
         "xaxis": "x",
         "y": [
          1,
          1,
          1,
          1,
          1,
          1,
          1,
          1,
          1,
          1,
          1,
          1,
          1
         ],
         "yaxis": "y"
        },
        {
         "alignmentgroup": "True",
         "hovertemplate": "Lineages=%{text}<br>scheme=Freyja<br>Sample=%{x}<br>Abundances=%{y}<extra></extra>",
         "legendgroup": "BA.5.X",
         "marker": {
          "color": "#636efa",
          "pattern": {
           "shape": ""
          }
         },
         "name": "BA.5.X",
         "offsetgroup": "BA.5.X",
         "orientation": "v",
         "showlegend": true,
         "text": [
          "BA.5.X",
          "BA.5.X",
          "BA.5.X",
          "BA.5.X",
          "BA.5.X",
          "BA.5.X",
          "BA.5.X",
          "BA.5.X",
          "BA.5.X",
          "BA.5.X",
          "BA.5.X"
         ],
         "textposition": "auto",
         "type": "bar",
         "x": [
          "0adgio1o2o3o4o5",
          "0aio1o2o3o4o5",
          "0o5o3o4",
          "agio3o4o5",
          "o1o2o3o4o5",
          "o2o3o4o5",
          "o2o3o4o5-2",
          "o2o3o4o5-3",
          "o5",
          "o5-2",
          "o5-3"
         ],
         "xaxis": "x",
         "y": [
          1,
          1,
          1,
          1,
          1,
          1,
          1,
          1,
          1,
          1,
          1
         ],
         "yaxis": "y"
        }
       ],
       "layout": {
        "annotations": [
         {
          "showarrow": false,
          "text": "Freyja",
          "textangle": 90,
          "x": 0.98,
          "xanchor": "left",
          "xref": "paper",
          "y": 0.5,
          "yanchor": "middle",
          "yref": "paper"
         },
         {
          "showarrow": false,
          "text": "",
          "x": 1,
          "xanchor": "right",
          "xref": "x domain",
          "y": 0,
          "yanchor": "bottom",
          "yref": "y"
         }
        ],
        "barmode": "relative",
        "font": {
         "family": "Inconsolata"
        },
        "height": 600,
        "legend": {
         "title": {
          "text": "Lineages"
         },
         "tracegroupgap": 0
        },
        "shapes": [
         {
          "line": {
           "dash": "dot"
          },
          "type": "line",
          "x0": 0,
          "x1": 1,
          "xref": "x domain",
          "y0": 0,
          "y1": 0,
          "yref": "y"
         }
        ],
        "template": {
         "data": {
          "bar": [
           {
            "error_x": {
             "color": "#2a3f5f"
            },
            "error_y": {
             "color": "#2a3f5f"
            },
            "marker": {
             "line": {
              "color": "#E5ECF6",
              "width": 0.5
             },
             "pattern": {
              "fillmode": "overlay",
              "size": 10,
              "solidity": 0.2
             }
            },
            "type": "bar"
           }
          ],
          "barpolar": [
           {
            "marker": {
             "line": {
              "color": "#E5ECF6",
              "width": 0.5
             },
             "pattern": {
              "fillmode": "overlay",
              "size": 10,
              "solidity": 0.2
             }
            },
            "type": "barpolar"
           }
          ],
          "carpet": [
           {
            "aaxis": {
             "endlinecolor": "#2a3f5f",
             "gridcolor": "white",
             "linecolor": "white",
             "minorgridcolor": "white",
             "startlinecolor": "#2a3f5f"
            },
            "baxis": {
             "endlinecolor": "#2a3f5f",
             "gridcolor": "white",
             "linecolor": "white",
             "minorgridcolor": "white",
             "startlinecolor": "#2a3f5f"
            },
            "type": "carpet"
           }
          ],
          "choropleth": [
           {
            "colorbar": {
             "outlinewidth": 0,
             "ticks": ""
            },
            "type": "choropleth"
           }
          ],
          "contour": [
           {
            "colorbar": {
             "outlinewidth": 0,
             "ticks": ""
            },
            "colorscale": [
             [
              0,
              "#0d0887"
             ],
             [
              0.1111111111111111,
              "#46039f"
             ],
             [
              0.2222222222222222,
              "#7201a8"
             ],
             [
              0.3333333333333333,
              "#9c179e"
             ],
             [
              0.4444444444444444,
              "#bd3786"
             ],
             [
              0.5555555555555556,
              "#d8576b"
             ],
             [
              0.6666666666666666,
              "#ed7953"
             ],
             [
              0.7777777777777778,
              "#fb9f3a"
             ],
             [
              0.8888888888888888,
              "#fdca26"
             ],
             [
              1,
              "#f0f921"
             ]
            ],
            "type": "contour"
           }
          ],
          "contourcarpet": [
           {
            "colorbar": {
             "outlinewidth": 0,
             "ticks": ""
            },
            "type": "contourcarpet"
           }
          ],
          "heatmap": [
           {
            "colorbar": {
             "outlinewidth": 0,
             "ticks": ""
            },
            "colorscale": [
             [
              0,
              "#0d0887"
             ],
             [
              0.1111111111111111,
              "#46039f"
             ],
             [
              0.2222222222222222,
              "#7201a8"
             ],
             [
              0.3333333333333333,
              "#9c179e"
             ],
             [
              0.4444444444444444,
              "#bd3786"
             ],
             [
              0.5555555555555556,
              "#d8576b"
             ],
             [
              0.6666666666666666,
              "#ed7953"
             ],
             [
              0.7777777777777778,
              "#fb9f3a"
             ],
             [
              0.8888888888888888,
              "#fdca26"
             ],
             [
              1,
              "#f0f921"
             ]
            ],
            "type": "heatmap"
           }
          ],
          "heatmapgl": [
           {
            "colorbar": {
             "outlinewidth": 0,
             "ticks": ""
            },
            "colorscale": [
             [
              0,
              "#0d0887"
             ],
             [
              0.1111111111111111,
              "#46039f"
             ],
             [
              0.2222222222222222,
              "#7201a8"
             ],
             [
              0.3333333333333333,
              "#9c179e"
             ],
             [
              0.4444444444444444,
              "#bd3786"
             ],
             [
              0.5555555555555556,
              "#d8576b"
             ],
             [
              0.6666666666666666,
              "#ed7953"
             ],
             [
              0.7777777777777778,
              "#fb9f3a"
             ],
             [
              0.8888888888888888,
              "#fdca26"
             ],
             [
              1,
              "#f0f921"
             ]
            ],
            "type": "heatmapgl"
           }
          ],
          "histogram": [
           {
            "marker": {
             "pattern": {
              "fillmode": "overlay",
              "size": 10,
              "solidity": 0.2
             }
            },
            "type": "histogram"
           }
          ],
          "histogram2d": [
           {
            "colorbar": {
             "outlinewidth": 0,
             "ticks": ""
            },
            "colorscale": [
             [
              0,
              "#0d0887"
             ],
             [
              0.1111111111111111,
              "#46039f"
             ],
             [
              0.2222222222222222,
              "#7201a8"
             ],
             [
              0.3333333333333333,
              "#9c179e"
             ],
             [
              0.4444444444444444,
              "#bd3786"
             ],
             [
              0.5555555555555556,
              "#d8576b"
             ],
             [
              0.6666666666666666,
              "#ed7953"
             ],
             [
              0.7777777777777778,
              "#fb9f3a"
             ],
             [
              0.8888888888888888,
              "#fdca26"
             ],
             [
              1,
              "#f0f921"
             ]
            ],
            "type": "histogram2d"
           }
          ],
          "histogram2dcontour": [
           {
            "colorbar": {
             "outlinewidth": 0,
             "ticks": ""
            },
            "colorscale": [
             [
              0,
              "#0d0887"
             ],
             [
              0.1111111111111111,
              "#46039f"
             ],
             [
              0.2222222222222222,
              "#7201a8"
             ],
             [
              0.3333333333333333,
              "#9c179e"
             ],
             [
              0.4444444444444444,
              "#bd3786"
             ],
             [
              0.5555555555555556,
              "#d8576b"
             ],
             [
              0.6666666666666666,
              "#ed7953"
             ],
             [
              0.7777777777777778,
              "#fb9f3a"
             ],
             [
              0.8888888888888888,
              "#fdca26"
             ],
             [
              1,
              "#f0f921"
             ]
            ],
            "type": "histogram2dcontour"
           }
          ],
          "mesh3d": [
           {
            "colorbar": {
             "outlinewidth": 0,
             "ticks": ""
            },
            "type": "mesh3d"
           }
          ],
          "parcoords": [
           {
            "line": {
             "colorbar": {
              "outlinewidth": 0,
              "ticks": ""
             }
            },
            "type": "parcoords"
           }
          ],
          "pie": [
           {
            "automargin": true,
            "type": "pie"
           }
          ],
          "scatter": [
           {
            "fillpattern": {
             "fillmode": "overlay",
             "size": 10,
             "solidity": 0.2
            },
            "type": "scatter"
           }
          ],
          "scatter3d": [
           {
            "line": {
             "colorbar": {
              "outlinewidth": 0,
              "ticks": ""
             }
            },
            "marker": {
             "colorbar": {
              "outlinewidth": 0,
              "ticks": ""
             }
            },
            "type": "scatter3d"
           }
          ],
          "scattercarpet": [
           {
            "marker": {
             "colorbar": {
              "outlinewidth": 0,
              "ticks": ""
             }
            },
            "type": "scattercarpet"
           }
          ],
          "scattergeo": [
           {
            "marker": {
             "colorbar": {
              "outlinewidth": 0,
              "ticks": ""
             }
            },
            "type": "scattergeo"
           }
          ],
          "scattergl": [
           {
            "marker": {
             "colorbar": {
              "outlinewidth": 0,
              "ticks": ""
             }
            },
            "type": "scattergl"
           }
          ],
          "scattermapbox": [
           {
            "marker": {
             "colorbar": {
              "outlinewidth": 0,
              "ticks": ""
             }
            },
            "type": "scattermapbox"
           }
          ],
          "scatterpolar": [
           {
            "marker": {
             "colorbar": {
              "outlinewidth": 0,
              "ticks": ""
             }
            },
            "type": "scatterpolar"
           }
          ],
          "scatterpolargl": [
           {
            "marker": {
             "colorbar": {
              "outlinewidth": 0,
              "ticks": ""
             }
            },
            "type": "scatterpolargl"
           }
          ],
          "scatterternary": [
           {
            "marker": {
             "colorbar": {
              "outlinewidth": 0,
              "ticks": ""
             }
            },
            "type": "scatterternary"
           }
          ],
          "surface": [
           {
            "colorbar": {
             "outlinewidth": 0,
             "ticks": ""
            },
            "colorscale": [
             [
              0,
              "#0d0887"
             ],
             [
              0.1111111111111111,
              "#46039f"
             ],
             [
              0.2222222222222222,
              "#7201a8"
             ],
             [
              0.3333333333333333,
              "#9c179e"
             ],
             [
              0.4444444444444444,
              "#bd3786"
             ],
             [
              0.5555555555555556,
              "#d8576b"
             ],
             [
              0.6666666666666666,
              "#ed7953"
             ],
             [
              0.7777777777777778,
              "#fb9f3a"
             ],
             [
              0.8888888888888888,
              "#fdca26"
             ],
             [
              1,
              "#f0f921"
             ]
            ],
            "type": "surface"
           }
          ],
          "table": [
           {
            "cells": {
             "fill": {
              "color": "#EBF0F8"
             },
             "line": {
              "color": "white"
             }
            },
            "header": {
             "fill": {
              "color": "#C8D4E3"
             },
             "line": {
              "color": "white"
             }
            },
            "type": "table"
           }
          ]
         },
         "layout": {
          "annotationdefaults": {
           "arrowcolor": "#2a3f5f",
           "arrowhead": 0,
           "arrowwidth": 1
          },
          "autotypenumbers": "strict",
          "coloraxis": {
           "colorbar": {
            "outlinewidth": 0,
            "ticks": ""
           }
          },
          "colorscale": {
           "diverging": [
            [
             0,
             "#8e0152"
            ],
            [
             0.1,
             "#c51b7d"
            ],
            [
             0.2,
             "#de77ae"
            ],
            [
             0.3,
             "#f1b6da"
            ],
            [
             0.4,
             "#fde0ef"
            ],
            [
             0.5,
             "#f7f7f7"
            ],
            [
             0.6,
             "#e6f5d0"
            ],
            [
             0.7,
             "#b8e186"
            ],
            [
             0.8,
             "#7fbc41"
            ],
            [
             0.9,
             "#4d9221"
            ],
            [
             1,
             "#276419"
            ]
           ],
           "sequential": [
            [
             0,
             "#0d0887"
            ],
            [
             0.1111111111111111,
             "#46039f"
            ],
            [
             0.2222222222222222,
             "#7201a8"
            ],
            [
             0.3333333333333333,
             "#9c179e"
            ],
            [
             0.4444444444444444,
             "#bd3786"
            ],
            [
             0.5555555555555556,
             "#d8576b"
            ],
            [
             0.6666666666666666,
             "#ed7953"
            ],
            [
             0.7777777777777778,
             "#fb9f3a"
            ],
            [
             0.8888888888888888,
             "#fdca26"
            ],
            [
             1,
             "#f0f921"
            ]
           ],
           "sequentialminus": [
            [
             0,
             "#0d0887"
            ],
            [
             0.1111111111111111,
             "#46039f"
            ],
            [
             0.2222222222222222,
             "#7201a8"
            ],
            [
             0.3333333333333333,
             "#9c179e"
            ],
            [
             0.4444444444444444,
             "#bd3786"
            ],
            [
             0.5555555555555556,
             "#d8576b"
            ],
            [
             0.6666666666666666,
             "#ed7953"
            ],
            [
             0.7777777777777778,
             "#fb9f3a"
            ],
            [
             0.8888888888888888,
             "#fdca26"
            ],
            [
             1,
             "#f0f921"
            ]
           ]
          },
          "colorway": [
           "#636efa",
           "#EF553B",
           "#00cc96",
           "#ab63fa",
           "#FFA15A",
           "#19d3f3",
           "#FF6692",
           "#B6E880",
           "#FF97FF",
           "#FECB52"
          ],
          "font": {
           "color": "#2a3f5f"
          },
          "geo": {
           "bgcolor": "white",
           "lakecolor": "white",
           "landcolor": "#E5ECF6",
           "showlakes": true,
           "showland": true,
           "subunitcolor": "white"
          },
          "hoverlabel": {
           "align": "left"
          },
          "hovermode": "closest",
          "mapbox": {
           "style": "light"
          },
          "paper_bgcolor": "white",
          "plot_bgcolor": "#E5ECF6",
          "polar": {
           "angularaxis": {
            "gridcolor": "white",
            "linecolor": "white",
            "ticks": ""
           },
           "bgcolor": "#E5ECF6",
           "radialaxis": {
            "gridcolor": "white",
            "linecolor": "white",
            "ticks": ""
           }
          },
          "scene": {
           "xaxis": {
            "backgroundcolor": "#E5ECF6",
            "gridcolor": "white",
            "gridwidth": 2,
            "linecolor": "white",
            "showbackground": true,
            "ticks": "",
            "zerolinecolor": "white"
           },
           "yaxis": {
            "backgroundcolor": "#E5ECF6",
            "gridcolor": "white",
            "gridwidth": 2,
            "linecolor": "white",
            "showbackground": true,
            "ticks": "",
            "zerolinecolor": "white"
           },
           "zaxis": {
            "backgroundcolor": "#E5ECF6",
            "gridcolor": "white",
            "gridwidth": 2,
            "linecolor": "white",
            "showbackground": true,
            "ticks": "",
            "zerolinecolor": "white"
           }
          },
          "shapedefaults": {
           "line": {
            "color": "#2a3f5f"
           }
          },
          "ternary": {
           "aaxis": {
            "gridcolor": "white",
            "linecolor": "white",
            "ticks": ""
           },
           "baxis": {
            "gridcolor": "white",
            "linecolor": "white",
            "ticks": ""
           },
           "bgcolor": "#E5ECF6",
           "caxis": {
            "gridcolor": "white",
            "linecolor": "white",
            "ticks": ""
           }
          },
          "title": {
           "x": 0.05
          },
          "xaxis": {
           "automargin": true,
           "gridcolor": "white",
           "linecolor": "white",
           "ticks": "",
           "title": {
            "standoff": 15
           },
           "zerolinecolor": "white",
           "zerolinewidth": 2
          },
          "yaxis": {
           "automargin": true,
           "gridcolor": "white",
           "linecolor": "white",
           "ticks": "",
           "title": {
            "standoff": 15
           },
           "zerolinecolor": "white",
           "zerolinewidth": 2
          }
         }
        },
        "title": {
         "text": "Freyja: Detected lineages (positive: correctly detected, negative: detected but unexpected)"
        },
        "xaxis": {
         "anchor": "y",
         "categoryorder": "category ascending",
         "domain": [
          0,
          0.98
         ],
         "title": {
          "text": "Sample"
         }
        },
        "yaxis": {
         "anchor": "x",
         "domain": [
          0,
          1
         ],
         "title": {
          "text": "Abundances"
         }
        }
       }
      },
      "text/html": [
       "<div>                            <div id=\"95bf9205-5fe1-4cf6-839c-3ef1b21a2b0e\" class=\"plotly-graph-div\" style=\"height:600px; width:100%;\"></div>            <script type=\"text/javascript\">                require([\"plotly\"], function(Plotly) {                    window.PLOTLYENV=window.PLOTLYENV || {};                                    if (document.getElementById(\"95bf9205-5fe1-4cf6-839c-3ef1b21a2b0e\")) {                    Plotly.newPlot(                        \"95bf9205-5fe1-4cf6-839c-3ef1b21a2b0e\",                        [{\"alignmentgroup\":\"True\",\"hovertemplate\":\"Lineages=%{text}\\u003cbr\\u003escheme=Freyja\\u003cbr\\u003eSample=%{x}\\u003cbr\\u003eAbundances=%{y}\\u003cextra\\u003e\\u003c\\u002fextra\\u003e\",\"legendgroup\":\"Wuhan-hu-1\",\"marker\":{\"color\":\"#636efa\",\"pattern\":{\"shape\":\"\"}},\"name\":\"Wuhan-hu-1\",\"offsetgroup\":\"Wuhan-hu-1\",\"orientation\":\"v\",\"showlegend\":true,\"text\":[\"Wuhan-hu-1\",\"Wuhan-hu-1\",\"Wuhan-hu-1\",\"Wuhan-hu-1\",\"Wuhan-hu-1\",\"Wuhan-hu-1\",\"Wuhan-hu-1\"],\"textposition\":\"auto\",\"x\":[\"0\",\"0-2\",\"0-3\",\"0-4\",\"0adgio1-2\",\"0adgio1o2o3o4o5\",\"0o5o3o4\"],\"xaxis\":\"x\",\"y\":[1,1,1,1,1,1,1],\"yaxis\":\"y\",\"type\":\"bar\"},{\"alignmentgroup\":\"True\",\"hovertemplate\":\"Lineages=%{text}\\u003cbr\\u003escheme=Freyja\\u003cbr\\u003eSample=%{x}\\u003cbr\\u003eAbundances=%{y}\\u003cextra\\u003e\\u003c\\u002fextra\\u003e\",\"legendgroup\":\"Iota\",\"marker\":{\"color\":\"#EF553B\",\"pattern\":{\"shape\":\"\"}},\"name\":\"Iota\",\"offsetgroup\":\"Iota\",\"orientation\":\"v\",\"showlegend\":true,\"text\":[\"Iota\",\"Iota\",\"Iota\",\"Iota\",\"Iota\",\"Iota\",\"Iota\",\"Iota\",\"Iota\"],\"textposition\":\"auto\",\"x\":[\"0adgio1\",\"0adgio1-2\",\"0adgio1o2o3o4o5\",\"0agio1o2\",\"0aio1o2o3o4o5\",\"adgio1o2o3\",\"agio3o4o5\",\"i\",\"i-2\"],\"xaxis\":\"x\",\"y\":[1,1,1,1,1,1,1,1,1],\"yaxis\":\"y\",\"type\":\"bar\"},{\"alignmentgroup\":\"True\",\"hovertemplate\":\"Lineages=%{text}\\u003cbr\\u003escheme=Freyja\\u003cbr\\u003eSample=%{x}\\u003cbr\\u003eAbundances=%{y}\\u003cextra\\u003e\\u003c\\u002fextra\\u003e\",\"legendgroup\":\"Alpha\",\"marker\":{\"color\":\"#00cc96\",\"pattern\":{\"shape\":\"\"}},\"name\":\"Alpha\",\"offsetgroup\":\"Alpha\",\"orientation\":\"v\",\"showlegend\":true,\"text\":[\"Alpha\",\"Alpha\",\"Alpha\",\"Alpha\",\"Alpha\",\"Alpha\",\"Alpha\",\"Alpha\",\"Alpha\"],\"textposition\":\"auto\",\"x\":[\"0adgio1\",\"0adgio1-2\",\"0adgio1o2o3o4o5\",\"0agio1o2\",\"0aio1o2o3o4o5\",\"a\",\"a-2\",\"adgio1o2o3\",\"agio3o4o5\"],\"xaxis\":\"x\",\"y\":[1,1,1,1,1,1,1,1,1],\"yaxis\":\"y\",\"type\":\"bar\"},{\"alignmentgroup\":\"True\",\"hovertemplate\":\"Lineages=%{text}\\u003cbr\\u003escheme=Freyja\\u003cbr\\u003eSample=%{x}\\u003cbr\\u003eAbundances=%{y}\\u003cextra\\u003e\\u003c\\u002fextra\\u003e\",\"legendgroup\":\"BA.1.X\",\"marker\":{\"color\":\"#ab63fa\",\"pattern\":{\"shape\":\"\"}},\"name\":\"BA.1.X\",\"offsetgroup\":\"BA.1.X\",\"orientation\":\"v\",\"showlegend\":true,\"text\":[\"BA.1.X\",\"BA.1.X\",\"BA.1.X\",\"BA.1.X\",\"BA.1.X\",\"BA.1.X\",\"BA.1.X\",\"BA.1.X\",\"BA.1.X\"],\"textposition\":\"auto\",\"x\":[\"0adgio1\",\"0adgio1-2\",\"0adgio1o2o3o4o5\",\"0agio1o2\",\"0aio1o2o3o4o5\",\"adgio1o2o3\",\"o1-2\",\"o1o2\",\"o1o2o3o4o5\"],\"xaxis\":\"x\",\"y\":[1,1,1,1,1,1,1,1,1],\"yaxis\":\"y\",\"type\":\"bar\"},{\"alignmentgroup\":\"True\",\"hovertemplate\":\"Lineages=%{text}\\u003cbr\\u003escheme=Freyja\\u003cbr\\u003eSample=%{x}\\u003cbr\\u003eAbundances=%{y}\\u003cextra\\u003e\\u003c\\u002fextra\\u003e\",\"legendgroup\":\"Gamma\",\"marker\":{\"color\":\"#FFA15A\",\"pattern\":{\"shape\":\"\"}},\"name\":\"Gamma\",\"offsetgroup\":\"Gamma\",\"orientation\":\"v\",\"showlegend\":true,\"text\":[\"Gamma\",\"Gamma\",\"Gamma\",\"Gamma\",\"Gamma\",\"Gamma\",\"Gamma\",\"Gamma\"],\"textposition\":\"auto\",\"x\":[\"0adgio1\",\"0adgio1-2\",\"0adgio1o2o3o4o5\",\"0agio1o2\",\"adgio1o2o3\",\"agio3o4o5\",\"g\",\"g-2\"],\"xaxis\":\"x\",\"y\":[1,1,1,1,1,1,1,1],\"yaxis\":\"y\",\"type\":\"bar\"},{\"alignmentgroup\":\"True\",\"hovertemplate\":\"Lineages=%{text}\\u003cbr\\u003escheme=Freyja\\u003cbr\\u003eSample=%{x}\\u003cbr\\u003eAbundances=%{y}\\u003cextra\\u003e\\u003c\\u002fextra\\u003e\",\"legendgroup\":\"Omicron\",\"marker\":{\"color\":\"#19d3f3\",\"pattern\":{\"shape\":\"\"}},\"name\":\"Omicron\",\"offsetgroup\":\"Omicron\",\"orientation\":\"v\",\"showlegend\":true,\"text\":[\"Omicron\",\"Omicron\",\"Omicron\",\"Omicron\",\"Omicron\",\"Omicron\",\"Omicron\",\"Omicron\",\"Omicron\",\"Omicron\",\"Omicron\",\"Omicron\",\"Omicron\"],\"textposition\":\"auto\",\"x\":[\"0adgio1\",\"0adgio1-2\",\"0adgio1o2o3o4o5\",\"0agio1o2\",\"0aio1o2o3o4o5\",\"adgio1o2o3\",\"agio3o4o5\",\"o1-2\",\"o1o2\",\"o1o2o3o4o5\",\"o2-2\",\"o2o3o4o5\",\"o2o3o4o5-2\"],\"xaxis\":\"x\",\"y\":[-1,-1,-1,-1,-1,-1,-1,-1,-1,-1,-1,-1,-1],\"yaxis\":\"y\",\"type\":\"bar\"},{\"alignmentgroup\":\"True\",\"hovertemplate\":\"Lineages=%{text}\\u003cbr\\u003escheme=Freyja\\u003cbr\\u003eSample=%{x}\\u003cbr\\u003eAbundances=%{y}\\u003cextra\\u003e\\u003c\\u002fextra\\u003e\",\"legendgroup\":\"Delta\",\"marker\":{\"color\":\"#FF6692\",\"pattern\":{\"shape\":\"\"}},\"name\":\"Delta\",\"offsetgroup\":\"Delta\",\"orientation\":\"v\",\"showlegend\":true,\"text\":[\"Delta\",\"Delta\",\"Delta\",\"Delta\",\"Delta\",\"Delta\"],\"textposition\":\"auto\",\"x\":[\"0adgio1\",\"0adgio1-2\",\"0adgio1o2o3o4o5\",\"adgio1o2o3\",\"d\",\"d-2\"],\"xaxis\":\"x\",\"y\":[1,1,1,1,1,1],\"yaxis\":\"y\",\"type\":\"bar\"},{\"alignmentgroup\":\"True\",\"hovertemplate\":\"Lineages=%{text}\\u003cbr\\u003escheme=Freyja\\u003cbr\\u003eSample=%{x}\\u003cbr\\u003eAbundances=%{y}\\u003cextra\\u003e\\u003c\\u002fextra\\u003e\",\"legendgroup\":\"BA.4.X\",\"marker\":{\"color\":\"#B6E880\",\"pattern\":{\"shape\":\"\"}},\"name\":\"BA.4.X\",\"offsetgroup\":\"BA.4.X\",\"orientation\":\"v\",\"showlegend\":true,\"text\":[\"BA.4.X\",\"BA.4.X\",\"BA.4.X\",\"BA.4.X\",\"BA.4.X\",\"BA.4.X\",\"BA.4.X\",\"BA.4.X\",\"BA.4.X\",\"BA.4.X\",\"BA.4.X\"],\"textposition\":\"auto\",\"x\":[\"0adgio1o2o3o4o5\",\"0aio1o2o3o4o5\",\"0o5o3o4\",\"agio3o4o5\",\"o1o2o3o4o5\",\"o2o3o4o5\",\"o2o3o4o5-2\",\"o2o3o4o5-3\",\"o4\",\"o4-2\",\"o4-3\"],\"xaxis\":\"x\",\"y\":[1,1,1,1,1,1,1,1,1,1,1],\"yaxis\":\"y\",\"type\":\"bar\"},{\"alignmentgroup\":\"True\",\"hovertemplate\":\"Lineages=%{text}\\u003cbr\\u003escheme=Freyja\\u003cbr\\u003eSample=%{x}\\u003cbr\\u003eAbundances=%{y}\\u003cextra\\u003e\\u003c\\u002fextra\\u003e\",\"legendgroup\":\"BA.2.X\",\"marker\":{\"color\":\"#FF97FF\",\"pattern\":{\"shape\":\"\"}},\"name\":\"BA.2.X\",\"offsetgroup\":\"BA.2.X\",\"orientation\":\"v\",\"showlegend\":true,\"text\":[\"BA.2.X\",\"BA.2.X\",\"BA.2.X\",\"BA.2.X\",\"BA.2.X\",\"BA.2.X\",\"BA.2.X\",\"BA.2.X\",\"BA.2.X\",\"BA.2.X\",\"BA.2.X\"],\"textposition\":\"auto\",\"x\":[\"0adgio1o2o3o4o5\",\"0agio1o2\",\"0aio1o2o3o4o5\",\"adgio1o2o3\",\"o1o2\",\"o1o2o3o4o5\",\"o2-2\",\"o2-3\",\"o2o3o4o5\",\"o2o3o4o5-2\",\"o2o3o4o5-3\"],\"xaxis\":\"x\",\"y\":[1,1,1,1,1,1,1,1,1,1,1],\"yaxis\":\"y\",\"type\":\"bar\"},{\"alignmentgroup\":\"True\",\"hovertemplate\":\"Lineages=%{text}\\u003cbr\\u003escheme=Freyja\\u003cbr\\u003eSample=%{x}\\u003cbr\\u003eAbundances=%{y}\\u003cextra\\u003e\\u003c\\u002fextra\\u003e\",\"legendgroup\":\"BG.X\",\"marker\":{\"color\":\"#FECB52\",\"pattern\":{\"shape\":\"\"}},\"name\":\"BG.X\",\"offsetgroup\":\"BG.X\",\"orientation\":\"v\",\"showlegend\":true,\"text\":[\"BG.X\",\"BG.X\",\"BG.X\",\"BG.X\",\"BG.X\",\"BG.X\",\"BG.X\",\"BG.X\",\"BG.X\",\"BG.X\",\"BG.X\",\"BG.X\",\"BG.X\"],\"textposition\":\"auto\",\"x\":[\"0adgio1o2o3o4o5\",\"0aio1o2o3o4o5\",\"0o5o3o4\",\"adgio1o2o3\",\"agio3o4o5\",\"o1o2o3o4o5\",\"o2o3o4o5\",\"o2o3o4o5-2\",\"o2o3o4o5-3\",\"o3\",\"o3-2\",\"o3-3\",\"o3-4\"],\"xaxis\":\"x\",\"y\":[1,1,1,1,1,1,1,1,1,1,1,1,1],\"yaxis\":\"y\",\"type\":\"bar\"},{\"alignmentgroup\":\"True\",\"hovertemplate\":\"Lineages=%{text}\\u003cbr\\u003escheme=Freyja\\u003cbr\\u003eSample=%{x}\\u003cbr\\u003eAbundances=%{y}\\u003cextra\\u003e\\u003c\\u002fextra\\u003e\",\"legendgroup\":\"BA.5.X\",\"marker\":{\"color\":\"#636efa\",\"pattern\":{\"shape\":\"\"}},\"name\":\"BA.5.X\",\"offsetgroup\":\"BA.5.X\",\"orientation\":\"v\",\"showlegend\":true,\"text\":[\"BA.5.X\",\"BA.5.X\",\"BA.5.X\",\"BA.5.X\",\"BA.5.X\",\"BA.5.X\",\"BA.5.X\",\"BA.5.X\",\"BA.5.X\",\"BA.5.X\",\"BA.5.X\"],\"textposition\":\"auto\",\"x\":[\"0adgio1o2o3o4o5\",\"0aio1o2o3o4o5\",\"0o5o3o4\",\"agio3o4o5\",\"o1o2o3o4o5\",\"o2o3o4o5\",\"o2o3o4o5-2\",\"o2o3o4o5-3\",\"o5\",\"o5-2\",\"o5-3\"],\"xaxis\":\"x\",\"y\":[1,1,1,1,1,1,1,1,1,1,1],\"yaxis\":\"y\",\"type\":\"bar\"}],                        {\"template\":{\"data\":{\"histogram2dcontour\":[{\"type\":\"histogram2dcontour\",\"colorbar\":{\"outlinewidth\":0,\"ticks\":\"\"},\"colorscale\":[[0.0,\"#0d0887\"],[0.1111111111111111,\"#46039f\"],[0.2222222222222222,\"#7201a8\"],[0.3333333333333333,\"#9c179e\"],[0.4444444444444444,\"#bd3786\"],[0.5555555555555556,\"#d8576b\"],[0.6666666666666666,\"#ed7953\"],[0.7777777777777778,\"#fb9f3a\"],[0.8888888888888888,\"#fdca26\"],[1.0,\"#f0f921\"]]}],\"choropleth\":[{\"type\":\"choropleth\",\"colorbar\":{\"outlinewidth\":0,\"ticks\":\"\"}}],\"histogram2d\":[{\"type\":\"histogram2d\",\"colorbar\":{\"outlinewidth\":0,\"ticks\":\"\"},\"colorscale\":[[0.0,\"#0d0887\"],[0.1111111111111111,\"#46039f\"],[0.2222222222222222,\"#7201a8\"],[0.3333333333333333,\"#9c179e\"],[0.4444444444444444,\"#bd3786\"],[0.5555555555555556,\"#d8576b\"],[0.6666666666666666,\"#ed7953\"],[0.7777777777777778,\"#fb9f3a\"],[0.8888888888888888,\"#fdca26\"],[1.0,\"#f0f921\"]]}],\"heatmap\":[{\"type\":\"heatmap\",\"colorbar\":{\"outlinewidth\":0,\"ticks\":\"\"},\"colorscale\":[[0.0,\"#0d0887\"],[0.1111111111111111,\"#46039f\"],[0.2222222222222222,\"#7201a8\"],[0.3333333333333333,\"#9c179e\"],[0.4444444444444444,\"#bd3786\"],[0.5555555555555556,\"#d8576b\"],[0.6666666666666666,\"#ed7953\"],[0.7777777777777778,\"#fb9f3a\"],[0.8888888888888888,\"#fdca26\"],[1.0,\"#f0f921\"]]}],\"heatmapgl\":[{\"type\":\"heatmapgl\",\"colorbar\":{\"outlinewidth\":0,\"ticks\":\"\"},\"colorscale\":[[0.0,\"#0d0887\"],[0.1111111111111111,\"#46039f\"],[0.2222222222222222,\"#7201a8\"],[0.3333333333333333,\"#9c179e\"],[0.4444444444444444,\"#bd3786\"],[0.5555555555555556,\"#d8576b\"],[0.6666666666666666,\"#ed7953\"],[0.7777777777777778,\"#fb9f3a\"],[0.8888888888888888,\"#fdca26\"],[1.0,\"#f0f921\"]]}],\"contourcarpet\":[{\"type\":\"contourcarpet\",\"colorbar\":{\"outlinewidth\":0,\"ticks\":\"\"}}],\"contour\":[{\"type\":\"contour\",\"colorbar\":{\"outlinewidth\":0,\"ticks\":\"\"},\"colorscale\":[[0.0,\"#0d0887\"],[0.1111111111111111,\"#46039f\"],[0.2222222222222222,\"#7201a8\"],[0.3333333333333333,\"#9c179e\"],[0.4444444444444444,\"#bd3786\"],[0.5555555555555556,\"#d8576b\"],[0.6666666666666666,\"#ed7953\"],[0.7777777777777778,\"#fb9f3a\"],[0.8888888888888888,\"#fdca26\"],[1.0,\"#f0f921\"]]}],\"surface\":[{\"type\":\"surface\",\"colorbar\":{\"outlinewidth\":0,\"ticks\":\"\"},\"colorscale\":[[0.0,\"#0d0887\"],[0.1111111111111111,\"#46039f\"],[0.2222222222222222,\"#7201a8\"],[0.3333333333333333,\"#9c179e\"],[0.4444444444444444,\"#bd3786\"],[0.5555555555555556,\"#d8576b\"],[0.6666666666666666,\"#ed7953\"],[0.7777777777777778,\"#fb9f3a\"],[0.8888888888888888,\"#fdca26\"],[1.0,\"#f0f921\"]]}],\"mesh3d\":[{\"type\":\"mesh3d\",\"colorbar\":{\"outlinewidth\":0,\"ticks\":\"\"}}],\"scatter\":[{\"fillpattern\":{\"fillmode\":\"overlay\",\"size\":10,\"solidity\":0.2},\"type\":\"scatter\"}],\"parcoords\":[{\"type\":\"parcoords\",\"line\":{\"colorbar\":{\"outlinewidth\":0,\"ticks\":\"\"}}}],\"scatterpolargl\":[{\"type\":\"scatterpolargl\",\"marker\":{\"colorbar\":{\"outlinewidth\":0,\"ticks\":\"\"}}}],\"bar\":[{\"error_x\":{\"color\":\"#2a3f5f\"},\"error_y\":{\"color\":\"#2a3f5f\"},\"marker\":{\"line\":{\"color\":\"#E5ECF6\",\"width\":0.5},\"pattern\":{\"fillmode\":\"overlay\",\"size\":10,\"solidity\":0.2}},\"type\":\"bar\"}],\"scattergeo\":[{\"type\":\"scattergeo\",\"marker\":{\"colorbar\":{\"outlinewidth\":0,\"ticks\":\"\"}}}],\"scatterpolar\":[{\"type\":\"scatterpolar\",\"marker\":{\"colorbar\":{\"outlinewidth\":0,\"ticks\":\"\"}}}],\"histogram\":[{\"marker\":{\"pattern\":{\"fillmode\":\"overlay\",\"size\":10,\"solidity\":0.2}},\"type\":\"histogram\"}],\"scattergl\":[{\"type\":\"scattergl\",\"marker\":{\"colorbar\":{\"outlinewidth\":0,\"ticks\":\"\"}}}],\"scatter3d\":[{\"type\":\"scatter3d\",\"line\":{\"colorbar\":{\"outlinewidth\":0,\"ticks\":\"\"}},\"marker\":{\"colorbar\":{\"outlinewidth\":0,\"ticks\":\"\"}}}],\"scattermapbox\":[{\"type\":\"scattermapbox\",\"marker\":{\"colorbar\":{\"outlinewidth\":0,\"ticks\":\"\"}}}],\"scatterternary\":[{\"type\":\"scatterternary\",\"marker\":{\"colorbar\":{\"outlinewidth\":0,\"ticks\":\"\"}}}],\"scattercarpet\":[{\"type\":\"scattercarpet\",\"marker\":{\"colorbar\":{\"outlinewidth\":0,\"ticks\":\"\"}}}],\"carpet\":[{\"aaxis\":{\"endlinecolor\":\"#2a3f5f\",\"gridcolor\":\"white\",\"linecolor\":\"white\",\"minorgridcolor\":\"white\",\"startlinecolor\":\"#2a3f5f\"},\"baxis\":{\"endlinecolor\":\"#2a3f5f\",\"gridcolor\":\"white\",\"linecolor\":\"white\",\"minorgridcolor\":\"white\",\"startlinecolor\":\"#2a3f5f\"},\"type\":\"carpet\"}],\"table\":[{\"cells\":{\"fill\":{\"color\":\"#EBF0F8\"},\"line\":{\"color\":\"white\"}},\"header\":{\"fill\":{\"color\":\"#C8D4E3\"},\"line\":{\"color\":\"white\"}},\"type\":\"table\"}],\"barpolar\":[{\"marker\":{\"line\":{\"color\":\"#E5ECF6\",\"width\":0.5},\"pattern\":{\"fillmode\":\"overlay\",\"size\":10,\"solidity\":0.2}},\"type\":\"barpolar\"}],\"pie\":[{\"automargin\":true,\"type\":\"pie\"}]},\"layout\":{\"autotypenumbers\":\"strict\",\"colorway\":[\"#636efa\",\"#EF553B\",\"#00cc96\",\"#ab63fa\",\"#FFA15A\",\"#19d3f3\",\"#FF6692\",\"#B6E880\",\"#FF97FF\",\"#FECB52\"],\"font\":{\"color\":\"#2a3f5f\"},\"hovermode\":\"closest\",\"hoverlabel\":{\"align\":\"left\"},\"paper_bgcolor\":\"white\",\"plot_bgcolor\":\"#E5ECF6\",\"polar\":{\"bgcolor\":\"#E5ECF6\",\"angularaxis\":{\"gridcolor\":\"white\",\"linecolor\":\"white\",\"ticks\":\"\"},\"radialaxis\":{\"gridcolor\":\"white\",\"linecolor\":\"white\",\"ticks\":\"\"}},\"ternary\":{\"bgcolor\":\"#E5ECF6\",\"aaxis\":{\"gridcolor\":\"white\",\"linecolor\":\"white\",\"ticks\":\"\"},\"baxis\":{\"gridcolor\":\"white\",\"linecolor\":\"white\",\"ticks\":\"\"},\"caxis\":{\"gridcolor\":\"white\",\"linecolor\":\"white\",\"ticks\":\"\"}},\"coloraxis\":{\"colorbar\":{\"outlinewidth\":0,\"ticks\":\"\"}},\"colorscale\":{\"sequential\":[[0.0,\"#0d0887\"],[0.1111111111111111,\"#46039f\"],[0.2222222222222222,\"#7201a8\"],[0.3333333333333333,\"#9c179e\"],[0.4444444444444444,\"#bd3786\"],[0.5555555555555556,\"#d8576b\"],[0.6666666666666666,\"#ed7953\"],[0.7777777777777778,\"#fb9f3a\"],[0.8888888888888888,\"#fdca26\"],[1.0,\"#f0f921\"]],\"sequentialminus\":[[0.0,\"#0d0887\"],[0.1111111111111111,\"#46039f\"],[0.2222222222222222,\"#7201a8\"],[0.3333333333333333,\"#9c179e\"],[0.4444444444444444,\"#bd3786\"],[0.5555555555555556,\"#d8576b\"],[0.6666666666666666,\"#ed7953\"],[0.7777777777777778,\"#fb9f3a\"],[0.8888888888888888,\"#fdca26\"],[1.0,\"#f0f921\"]],\"diverging\":[[0,\"#8e0152\"],[0.1,\"#c51b7d\"],[0.2,\"#de77ae\"],[0.3,\"#f1b6da\"],[0.4,\"#fde0ef\"],[0.5,\"#f7f7f7\"],[0.6,\"#e6f5d0\"],[0.7,\"#b8e186\"],[0.8,\"#7fbc41\"],[0.9,\"#4d9221\"],[1,\"#276419\"]]},\"xaxis\":{\"gridcolor\":\"white\",\"linecolor\":\"white\",\"ticks\":\"\",\"title\":{\"standoff\":15},\"zerolinecolor\":\"white\",\"automargin\":true,\"zerolinewidth\":2},\"yaxis\":{\"gridcolor\":\"white\",\"linecolor\":\"white\",\"ticks\":\"\",\"title\":{\"standoff\":15},\"zerolinecolor\":\"white\",\"automargin\":true,\"zerolinewidth\":2},\"scene\":{\"xaxis\":{\"backgroundcolor\":\"#E5ECF6\",\"gridcolor\":\"white\",\"linecolor\":\"white\",\"showbackground\":true,\"ticks\":\"\",\"zerolinecolor\":\"white\",\"gridwidth\":2},\"yaxis\":{\"backgroundcolor\":\"#E5ECF6\",\"gridcolor\":\"white\",\"linecolor\":\"white\",\"showbackground\":true,\"ticks\":\"\",\"zerolinecolor\":\"white\",\"gridwidth\":2},\"zaxis\":{\"backgroundcolor\":\"#E5ECF6\",\"gridcolor\":\"white\",\"linecolor\":\"white\",\"showbackground\":true,\"ticks\":\"\",\"zerolinecolor\":\"white\",\"gridwidth\":2}},\"shapedefaults\":{\"line\":{\"color\":\"#2a3f5f\"}},\"annotationdefaults\":{\"arrowcolor\":\"#2a3f5f\",\"arrowhead\":0,\"arrowwidth\":1},\"geo\":{\"bgcolor\":\"white\",\"landcolor\":\"#E5ECF6\",\"subunitcolor\":\"white\",\"showland\":true,\"showlakes\":true,\"lakecolor\":\"white\"},\"title\":{\"x\":0.05},\"mapbox\":{\"style\":\"light\"}}},\"xaxis\":{\"anchor\":\"y\",\"domain\":[0.0,0.98],\"title\":{\"text\":\"Sample\"},\"categoryorder\":\"category ascending\"},\"yaxis\":{\"anchor\":\"x\",\"domain\":[0.0,1.0],\"title\":{\"text\":\"Abundances\"}},\"annotations\":[{\"showarrow\":false,\"text\":\"Freyja\",\"textangle\":90,\"x\":0.98,\"xanchor\":\"left\",\"xref\":\"paper\",\"y\":0.5,\"yanchor\":\"middle\",\"yref\":\"paper\"},{\"showarrow\":false,\"text\":\"\",\"x\":1,\"xanchor\":\"right\",\"xref\":\"x domain\",\"y\":0,\"yanchor\":\"bottom\",\"yref\":\"y\"}],\"legend\":{\"title\":{\"text\":\"Lineages\"},\"tracegroupgap\":0},\"title\":{\"text\":\"Freyja: Detected lineages (positive: correctly detected, negative: detected but unexpected)\"},\"barmode\":\"relative\",\"height\":600,\"shapes\":[{\"line\":{\"dash\":\"dot\"},\"type\":\"line\",\"x0\":0,\"x1\":1,\"xref\":\"x domain\",\"y0\":0,\"y1\":0,\"yref\":\"y\"}],\"font\":{\"family\":\"Inconsolata\"}},                        {\"responsive\": true}                    ).then(function(){\n",
       "                            \n",
       "var gd = document.getElementById('95bf9205-5fe1-4cf6-839c-3ef1b21a2b0e');\n",
       "var x = new MutationObserver(function (mutations, observer) {{\n",
       "        var display = window.getComputedStyle(gd).display;\n",
       "        if (!display || display === 'none') {{\n",
       "            console.log([gd, 'removed!']);\n",
       "            Plotly.purge(gd);\n",
       "            observer.disconnect();\n",
       "        }}\n",
       "}});\n",
       "\n",
       "// Listen for the removal of the full notebook cells\n",
       "var notebookContainer = gd.closest('#notebook-container');\n",
       "if (notebookContainer) {{\n",
       "    x.observe(notebookContainer, {childList: true});\n",
       "}}\n",
       "\n",
       "// Listen for the clearing of the current output cell\n",
       "var outputEl = gd.closest('.output');\n",
       "if (outputEl) {{\n",
       "    x.observe(outputEl, {childList: true});\n",
       "}}\n",
       "\n",
       "                        })                };                });            </script>        </div>"
      ]
     },
     "metadata": {},
     "output_type": "display_data"
    }
   ],
   "source": [
    "pio.write_image(fig2, fn2, width=1400, height=700, scale=2)\n",
    "fig2.show()"
   ]
  },
  {
   "cell_type": "markdown",
   "metadata": {},
   "source": [
    "### Detection plots for each tool (used in supplementary materials)"
   ]
  },
  {
   "cell_type": "code",
   "execution_count": 86,
   "metadata": {},
   "outputs": [],
   "source": [
    "fig3 = plotter.plotLineageDetections(summarized=True,show_counts=False,include_unexpected_lineages=True,minimum_abundance=0.01,height=6000)\n",
    "# rename long names ('XBB.1.5* [Omicron (XBB.1.5.X)]' --> 'XBB.1.5*')\n",
    "newnames = {}\n",
    "for trace in fig3.data:\n",
    "    element = trace.legendgroup\n",
    "    if \"*\" in element:\n",
    "        renamed = element.split(\" \")[0].replace(\"*\",\".X\")\n",
    "        newnames[element] = renamed\n",
    "        trace.text = np.array([renamed] * len(trace.text))\n",
    "    else:\n",
    "        newnames[element] = element\n",
    "fig3.for_each_trace(lambda t: t.update(name = newnames[t.name],\n",
    "                                      legendgroup = newnames[t.name],\n",
    "                                      hovertemplate = t.hovertemplate.replace(t.name, newnames[t.name])\n",
    "                                     )\n",
    "                  )\n",
    "fn3 = outdir / \"detection-with-false-pos-0.01.jpg\""
   ]
  },
  {
   "cell_type": "code",
   "execution_count": 87,
   "metadata": {},
   "outputs": [
    {
     "data": {
      "application/vnd.plotly.v1+json": {
       "config": {
        "plotlyServerURL": "https://plot.ly"
       },
       "data": [
        {
         "alignmentgroup": "True",
         "hovertemplate": "Lineages=%{text}<br>scheme=Alcov<br>Sample=%{x}<br>Abundances=%{y}<extra></extra>",
         "legendgroup": "Iota",
         "marker": {
          "color": "#636efa",
          "pattern": {
           "shape": ""
          }
         },
         "name": "Iota",
         "offsetgroup": "Iota",
         "orientation": "v",
         "showlegend": true,
         "text": [
          "Iota",
          "Iota",
          "Iota",
          "Iota",
          "Iota",
          "Iota",
          "Iota",
          "Iota",
          "Iota"
         ],
         "textposition": "auto",
         "type": "bar",
         "x": [
          "0adgio1",
          "0adgio1-2",
          "0adgio1o2o3o4o5",
          "0agio1o2",
          "0aio1o2o3o4o5",
          "adgio1o2o3",
          "agio3o4o5",
          "i",
          "i-2"
         ],
         "xaxis": "x9",
         "y": [
          1,
          1,
          1,
          1,
          1,
          1,
          1,
          1,
          1
         ],
         "yaxis": "y9"
        },
        {
         "alignmentgroup": "True",
         "hovertemplate": "Lineages=%{text}<br>scheme=Freyja<br>Sample=%{x}<br>Abundances=%{y}<extra></extra>",
         "legendgroup": "Iota",
         "marker": {
          "color": "#636efa",
          "pattern": {
           "shape": ""
          }
         },
         "name": "Iota",
         "offsetgroup": "Iota",
         "orientation": "v",
         "showlegend": false,
         "text": [
          "Iota",
          "Iota",
          "Iota",
          "Iota",
          "Iota",
          "Iota",
          "Iota",
          "Iota",
          "Iota"
         ],
         "textposition": "auto",
         "type": "bar",
         "x": [
          "0adgio1",
          "0adgio1-2",
          "0adgio1o2o3o4o5",
          "0agio1o2",
          "0aio1o2o3o4o5",
          "adgio1o2o3",
          "agio3o4o5",
          "i",
          "i-2"
         ],
         "xaxis": "x8",
         "y": [
          1,
          1,
          1,
          1,
          1,
          1,
          1,
          1,
          1
         ],
         "yaxis": "y8"
        },
        {
         "alignmentgroup": "True",
         "hovertemplate": "Lineages=%{text}<br>scheme=kallisto<br>Sample=%{x}<br>Abundances=%{y}<extra></extra>",
         "legendgroup": "Iota",
         "marker": {
          "color": "#636efa",
          "pattern": {
           "shape": ""
          }
         },
         "name": "Iota",
         "offsetgroup": "Iota",
         "orientation": "v",
         "showlegend": false,
         "text": [
          "Iota",
          "Iota",
          "Iota",
          "Iota",
          "Iota",
          "Iota",
          "Iota",
          "Iota",
          "Iota"
         ],
         "textposition": "auto",
         "type": "bar",
         "x": [
          "0adgio1",
          "0adgio1-2",
          "0adgio1o2o3o4o5",
          "0agio1o2",
          "0aio1o2o3o4o5",
          "adgio1o2o3",
          "agio3o4o5",
          "i",
          "i-2"
         ],
         "xaxis": "x7",
         "y": [
          1,
          1,
          1,
          1,
          1,
          1,
          1,
          1,
          1
         ],
         "yaxis": "y7"
        },
        {
         "alignmentgroup": "True",
         "hovertemplate": "Lineages=%{text}<br>scheme=kallisto (C-WAP)<br>Sample=%{x}<br>Abundances=%{y}<extra></extra>",
         "legendgroup": "Iota",
         "marker": {
          "color": "#636efa",
          "pattern": {
           "shape": ""
          }
         },
         "name": "Iota",
         "offsetgroup": "Iota",
         "orientation": "v",
         "showlegend": false,
         "text": [
          "Iota",
          "Iota",
          "Iota",
          "Iota",
          "Iota",
          "Iota",
          "Iota",
          "Iota",
          "Iota",
          "Iota",
          "Iota",
          "Iota",
          "Iota"
         ],
         "textposition": "auto",
         "type": "bar",
         "x": [
          "0adgio1",
          "0adgio1-2",
          "0adgio1o2o3o4o5",
          "0agio1o2",
          "0aio1o2o3o4o5",
          "a",
          "a-2",
          "adgio1o2o3",
          "agio3o4o5",
          "d",
          "d-2",
          "i",
          "i-2"
         ],
         "xaxis": "x6",
         "y": [
          1,
          1,
          1,
          1,
          1,
          -1,
          -1,
          1,
          1,
          -1,
          -1,
          1,
          1
         ],
         "yaxis": "y6"
        },
        {
         "alignmentgroup": "True",
         "hovertemplate": "Lineages=%{text}<br>scheme=LCS<br>Sample=%{x}<br>Abundances=%{y}<extra></extra>",
         "legendgroup": "Iota",
         "marker": {
          "color": "#636efa",
          "pattern": {
           "shape": ""
          }
         },
         "name": "Iota",
         "offsetgroup": "Iota",
         "orientation": "v",
         "showlegend": false,
         "text": [
          "Iota",
          "Iota",
          "Iota",
          "Iota",
          "Iota",
          "Iota",
          "Iota",
          "Iota",
          "Iota",
          "Iota"
         ],
         "textposition": "auto",
         "type": "bar",
         "x": [
          "0adgio1",
          "0adgio1-2",
          "0agio1o2",
          "0aio1o2o3o4o5",
          "adgio1o2o3",
          "agio3o4o5",
          "d",
          "d-2",
          "i",
          "i-2"
         ],
         "xaxis": "x4",
         "y": [
          1,
          1,
          1,
          1,
          1,
          1,
          -1,
          -1,
          1,
          1
         ],
         "yaxis": "y4"
        },
        {
         "alignmentgroup": "True",
         "hovertemplate": "Lineages=%{text}<br>scheme=VaQuERo<br>Sample=%{x}<br>Abundances=%{y}<extra></extra>",
         "legendgroup": "Iota",
         "marker": {
          "color": "#636efa",
          "pattern": {
           "shape": ""
          }
         },
         "name": "Iota",
         "offsetgroup": "Iota",
         "orientation": "v",
         "showlegend": false,
         "text": [
          "Iota",
          "Iota",
          "Iota",
          "Iota",
          "Iota",
          "Iota",
          "Iota"
         ],
         "textposition": "auto",
         "type": "bar",
         "x": [
          "0adgio1",
          "0adgio1-2",
          "0agio1o2",
          "0aio1o2o3o4o5",
          "agio3o4o5",
          "i",
          "i-2"
         ],
         "xaxis": "x",
         "y": [
          1,
          1,
          1,
          1,
          1,
          1,
          1
         ],
         "yaxis": "y"
        },
        {
         "alignmentgroup": "True",
         "hovertemplate": "Lineages=%{text}<br>scheme=Alcov<br>Sample=%{x}<br>Abundances=%{y}<extra></extra>",
         "legendgroup": "Alpha",
         "marker": {
          "color": "#EF553B",
          "pattern": {
           "shape": ""
          }
         },
         "name": "Alpha",
         "offsetgroup": "Alpha",
         "orientation": "v",
         "showlegend": true,
         "text": [
          "Alpha",
          "Alpha",
          "Alpha",
          "Alpha",
          "Alpha",
          "Alpha",
          "Alpha",
          "Alpha",
          "Alpha"
         ],
         "textposition": "auto",
         "type": "bar",
         "x": [
          "0adgio1",
          "0adgio1-2",
          "0adgio1o2o3o4o5",
          "0agio1o2",
          "0aio1o2o3o4o5",
          "a",
          "a-2",
          "adgio1o2o3",
          "agio3o4o5"
         ],
         "xaxis": "x9",
         "y": [
          1,
          1,
          1,
          1,
          1,
          1,
          1,
          1,
          1
         ],
         "yaxis": "y9"
        },
        {
         "alignmentgroup": "True",
         "hovertemplate": "Lineages=%{text}<br>scheme=Freyja<br>Sample=%{x}<br>Abundances=%{y}<extra></extra>",
         "legendgroup": "Alpha",
         "marker": {
          "color": "#EF553B",
          "pattern": {
           "shape": ""
          }
         },
         "name": "Alpha",
         "offsetgroup": "Alpha",
         "orientation": "v",
         "showlegend": false,
         "text": [
          "Alpha",
          "Alpha",
          "Alpha",
          "Alpha",
          "Alpha",
          "Alpha",
          "Alpha",
          "Alpha",
          "Alpha"
         ],
         "textposition": "auto",
         "type": "bar",
         "x": [
          "0adgio1",
          "0adgio1-2",
          "0adgio1o2o3o4o5",
          "0agio1o2",
          "0aio1o2o3o4o5",
          "a",
          "a-2",
          "adgio1o2o3",
          "agio3o4o5"
         ],
         "xaxis": "x8",
         "y": [
          1,
          1,
          1,
          1,
          1,
          1,
          1,
          1,
          1
         ],
         "yaxis": "y8"
        },
        {
         "alignmentgroup": "True",
         "hovertemplate": "Lineages=%{text}<br>scheme=kallisto<br>Sample=%{x}<br>Abundances=%{y}<extra></extra>",
         "legendgroup": "Alpha",
         "marker": {
          "color": "#EF553B",
          "pattern": {
           "shape": ""
          }
         },
         "name": "Alpha",
         "offsetgroup": "Alpha",
         "orientation": "v",
         "showlegend": false,
         "text": [
          "Alpha",
          "Alpha",
          "Alpha",
          "Alpha",
          "Alpha",
          "Alpha",
          "Alpha",
          "Alpha",
          "Alpha"
         ],
         "textposition": "auto",
         "type": "bar",
         "x": [
          "0adgio1",
          "0adgio1-2",
          "0adgio1o2o3o4o5",
          "0agio1o2",
          "0aio1o2o3o4o5",
          "a",
          "a-2",
          "adgio1o2o3",
          "agio3o4o5"
         ],
         "xaxis": "x7",
         "y": [
          1,
          1,
          1,
          1,
          1,
          1,
          1,
          1,
          1
         ],
         "yaxis": "y7"
        },
        {
         "alignmentgroup": "True",
         "hovertemplate": "Lineages=%{text}<br>scheme=kallisto (C-WAP)<br>Sample=%{x}<br>Abundances=%{y}<extra></extra>",
         "legendgroup": "Alpha",
         "marker": {
          "color": "#EF553B",
          "pattern": {
           "shape": ""
          }
         },
         "name": "Alpha",
         "offsetgroup": "Alpha",
         "orientation": "v",
         "showlegend": false,
         "text": [
          "Alpha",
          "Alpha",
          "Alpha",
          "Alpha",
          "Alpha",
          "Alpha",
          "Alpha",
          "Alpha",
          "Alpha",
          "Alpha",
          "Alpha"
         ],
         "textposition": "auto",
         "type": "bar",
         "x": [
          "0adgio1",
          "0adgio1-2",
          "0adgio1o2o3o4o5",
          "0agio1o2",
          "0aio1o2o3o4o5",
          "a",
          "a-2",
          "adgio1o2o3",
          "agio3o4o5",
          "o1-2",
          "o1o2o3o4o5"
         ],
         "xaxis": "x6",
         "y": [
          1,
          1,
          1,
          1,
          1,
          1,
          1,
          1,
          1,
          -1,
          -1
         ],
         "yaxis": "y6"
        },
        {
         "alignmentgroup": "True",
         "hovertemplate": "Lineages=%{text}<br>scheme=LCS<br>Sample=%{x}<br>Abundances=%{y}<extra></extra>",
         "legendgroup": "Alpha",
         "marker": {
          "color": "#EF553B",
          "pattern": {
           "shape": ""
          }
         },
         "name": "Alpha",
         "offsetgroup": "Alpha",
         "orientation": "v",
         "showlegend": false,
         "text": [
          "Alpha",
          "Alpha",
          "Alpha",
          "Alpha",
          "Alpha",
          "Alpha",
          "Alpha",
          "Alpha",
          "Alpha"
         ],
         "textposition": "auto",
         "type": "bar",
         "x": [
          "0adgio1",
          "0adgio1-2",
          "0adgio1o2o3o4o5",
          "0agio1o2",
          "0aio1o2o3o4o5",
          "a",
          "a-2",
          "adgio1o2o3",
          "agio3o4o5"
         ],
         "xaxis": "x4",
         "y": [
          1,
          1,
          1,
          1,
          1,
          1,
          1,
          1,
          1
         ],
         "yaxis": "y4"
        },
        {
         "alignmentgroup": "True",
         "hovertemplate": "Lineages=%{text}<br>scheme=lineagespot<br>Sample=%{x}<br>Abundances=%{y}<extra></extra>",
         "legendgroup": "Alpha",
         "marker": {
          "color": "#EF553B",
          "pattern": {
           "shape": ""
          }
         },
         "name": "Alpha",
         "offsetgroup": "Alpha",
         "orientation": "v",
         "showlegend": false,
         "text": [
          "Alpha",
          "Alpha",
          "Alpha",
          "Alpha",
          "Alpha",
          "Alpha",
          "Alpha",
          "Alpha",
          "Alpha"
         ],
         "textposition": "auto",
         "type": "bar",
         "x": [
          "a",
          "a-2",
          "adgio1o2o3",
          "o1o2o3o4o5",
          "o2-3",
          "o2o3o4o5",
          "o3-3",
          "o3-4",
          "o4"
         ],
         "xaxis": "x3",
         "y": [
          1,
          1,
          1,
          -1,
          -1,
          -1,
          -1,
          -1,
          -1
         ],
         "yaxis": "y3"
        },
        {
         "alignmentgroup": "True",
         "hovertemplate": "Lineages=%{text}<br>scheme=LolliPop<br>Sample=%{x}<br>Abundances=%{y}<extra></extra>",
         "legendgroup": "Alpha",
         "marker": {
          "color": "#EF553B",
          "pattern": {
           "shape": ""
          }
         },
         "name": "Alpha",
         "offsetgroup": "Alpha",
         "orientation": "v",
         "showlegend": false,
         "text": [
          "Alpha",
          "Alpha",
          "Alpha",
          "Alpha",
          "Alpha",
          "Alpha",
          "Alpha",
          "Alpha",
          "Alpha",
          "Alpha"
         ],
         "textposition": "auto",
         "type": "bar",
         "x": [
          "0adgio1",
          "0adgio1-2",
          "0adgio1o2o3o4o5",
          "0agio1o2",
          "0aio1o2o3o4o5",
          "a",
          "a-2",
          "adgio1o2o3",
          "agio3o4o5",
          "o1-2"
         ],
         "xaxis": "x2",
         "y": [
          1,
          1,
          1,
          1,
          1,
          1,
          1,
          1,
          1,
          -1
         ],
         "yaxis": "y2"
        },
        {
         "alignmentgroup": "True",
         "hovertemplate": "Lineages=%{text}<br>scheme=VaQuERo<br>Sample=%{x}<br>Abundances=%{y}<extra></extra>",
         "legendgroup": "Alpha",
         "marker": {
          "color": "#EF553B",
          "pattern": {
           "shape": ""
          }
         },
         "name": "Alpha",
         "offsetgroup": "Alpha",
         "orientation": "v",
         "showlegend": false,
         "text": [
          "Alpha",
          "Alpha",
          "Alpha",
          "Alpha",
          "Alpha",
          "Alpha",
          "Alpha",
          "Alpha",
          "Alpha"
         ],
         "textposition": "auto",
         "type": "bar",
         "x": [
          "0adgio1",
          "0adgio1-2",
          "0adgio1o2o3o4o5",
          "0agio1o2",
          "0aio1o2o3o4o5",
          "a",
          "a-2",
          "adgio1o2o3",
          "agio3o4o5"
         ],
         "xaxis": "x",
         "y": [
          1,
          1,
          1,
          1,
          1,
          1,
          1,
          1,
          1
         ],
         "yaxis": "y"
        },
        {
         "alignmentgroup": "True",
         "hovertemplate": "Lineages=%{text}<br>scheme=Alcov<br>Sample=%{x}<br>Abundances=%{y}<extra></extra>",
         "legendgroup": "Gamma",
         "marker": {
          "color": "#00cc96",
          "pattern": {
           "shape": ""
          }
         },
         "name": "Gamma",
         "offsetgroup": "Gamma",
         "orientation": "v",
         "showlegend": true,
         "text": [
          "Gamma",
          "Gamma",
          "Gamma",
          "Gamma",
          "Gamma",
          "Gamma",
          "Gamma",
          "Gamma"
         ],
         "textposition": "auto",
         "type": "bar",
         "x": [
          "0adgio1",
          "0adgio1-2",
          "0adgio1o2o3o4o5",
          "0agio1o2",
          "adgio1o2o3",
          "agio3o4o5",
          "g",
          "g-2"
         ],
         "xaxis": "x9",
         "y": [
          1,
          1,
          1,
          1,
          1,
          1,
          1,
          1
         ],
         "yaxis": "y9"
        },
        {
         "alignmentgroup": "True",
         "hovertemplate": "Lineages=%{text}<br>scheme=Freyja<br>Sample=%{x}<br>Abundances=%{y}<extra></extra>",
         "legendgroup": "Gamma",
         "marker": {
          "color": "#00cc96",
          "pattern": {
           "shape": ""
          }
         },
         "name": "Gamma",
         "offsetgroup": "Gamma",
         "orientation": "v",
         "showlegend": false,
         "text": [
          "Gamma",
          "Gamma",
          "Gamma",
          "Gamma",
          "Gamma",
          "Gamma",
          "Gamma",
          "Gamma"
         ],
         "textposition": "auto",
         "type": "bar",
         "x": [
          "0adgio1",
          "0adgio1-2",
          "0adgio1o2o3o4o5",
          "0agio1o2",
          "adgio1o2o3",
          "agio3o4o5",
          "g",
          "g-2"
         ],
         "xaxis": "x8",
         "y": [
          1,
          1,
          1,
          1,
          1,
          1,
          1,
          1
         ],
         "yaxis": "y8"
        },
        {
         "alignmentgroup": "True",
         "hovertemplate": "Lineages=%{text}<br>scheme=kallisto<br>Sample=%{x}<br>Abundances=%{y}<extra></extra>",
         "legendgroup": "Gamma",
         "marker": {
          "color": "#00cc96",
          "pattern": {
           "shape": ""
          }
         },
         "name": "Gamma",
         "offsetgroup": "Gamma",
         "orientation": "v",
         "showlegend": false,
         "text": [
          "Gamma",
          "Gamma",
          "Gamma",
          "Gamma",
          "Gamma",
          "Gamma",
          "Gamma",
          "Gamma",
          "Gamma",
          "Gamma",
          "Gamma",
          "Gamma",
          "Gamma",
          "Gamma",
          "Gamma",
          "Gamma",
          "Gamma",
          "Gamma"
         ],
         "textposition": "auto",
         "type": "bar",
         "x": [
          "0",
          "0-2",
          "0-3",
          "0-4",
          "0adgio1",
          "0adgio1-2",
          "0adgio1o2o3o4o5",
          "0agio1o2",
          "0aio1o2o3o4o5",
          "0o5o3o4",
          "a",
          "a-2",
          "adgio1o2o3",
          "agio3o4o5",
          "g",
          "g-2",
          "i",
          "i-2"
         ],
         "xaxis": "x7",
         "y": [
          -1,
          -1,
          -1,
          -1,
          1,
          1,
          1,
          1,
          -1,
          -1,
          -1,
          -1,
          1,
          1,
          1,
          1,
          -1,
          -1
         ],
         "yaxis": "y7"
        },
        {
         "alignmentgroup": "True",
         "hovertemplate": "Lineages=%{text}<br>scheme=kallisto (C-WAP)<br>Sample=%{x}<br>Abundances=%{y}<extra></extra>",
         "legendgroup": "Gamma",
         "marker": {
          "color": "#00cc96",
          "pattern": {
           "shape": ""
          }
         },
         "name": "Gamma",
         "offsetgroup": "Gamma",
         "orientation": "v",
         "showlegend": false,
         "text": [
          "Gamma",
          "Gamma",
          "Gamma",
          "Gamma",
          "Gamma",
          "Gamma",
          "Gamma",
          "Gamma"
         ],
         "textposition": "auto",
         "type": "bar",
         "x": [
          "0adgio1",
          "0adgio1-2",
          "0adgio1o2o3o4o5",
          "0agio1o2",
          "adgio1o2o3",
          "agio3o4o5",
          "g",
          "g-2"
         ],
         "xaxis": "x6",
         "y": [
          1,
          1,
          1,
          1,
          1,
          1,
          1,
          1
         ],
         "yaxis": "y6"
        },
        {
         "alignmentgroup": "True",
         "hovertemplate": "Lineages=%{text}<br>scheme=LCS<br>Sample=%{x}<br>Abundances=%{y}<extra></extra>",
         "legendgroup": "Gamma",
         "marker": {
          "color": "#00cc96",
          "pattern": {
           "shape": ""
          }
         },
         "name": "Gamma",
         "offsetgroup": "Gamma",
         "orientation": "v",
         "showlegend": false,
         "text": [
          "Gamma",
          "Gamma",
          "Gamma",
          "Gamma",
          "Gamma",
          "Gamma",
          "Gamma",
          "Gamma"
         ],
         "textposition": "auto",
         "type": "bar",
         "x": [
          "0adgio1",
          "0adgio1-2",
          "0adgio1o2o3o4o5",
          "0agio1o2",
          "adgio1o2o3",
          "agio3o4o5",
          "g",
          "g-2"
         ],
         "xaxis": "x4",
         "y": [
          1,
          1,
          1,
          1,
          1,
          1,
          1,
          1
         ],
         "yaxis": "y4"
        },
        {
         "alignmentgroup": "True",
         "hovertemplate": "Lineages=%{text}<br>scheme=lineagespot<br>Sample=%{x}<br>Abundances=%{y}<extra></extra>",
         "legendgroup": "Gamma",
         "marker": {
          "color": "#00cc96",
          "pattern": {
           "shape": ""
          }
         },
         "name": "Gamma",
         "offsetgroup": "Gamma",
         "orientation": "v",
         "showlegend": false,
         "text": [
          "Gamma",
          "Gamma",
          "Gamma",
          "Gamma",
          "Gamma",
          "Gamma",
          "Gamma",
          "Gamma",
          "Gamma",
          "Gamma",
          "Gamma",
          "Gamma",
          "Gamma",
          "Gamma"
         ],
         "textposition": "auto",
         "type": "bar",
         "x": [
          "g",
          "o1-2",
          "o1o2",
          "o1o2o3o4o5",
          "o2-2",
          "o2-3",
          "o2o3o4o5",
          "o2o3o4o5-3",
          "o3",
          "o3-3",
          "o3-4",
          "o4",
          "o5",
          "o5-2"
         ],
         "xaxis": "x3",
         "y": [
          1,
          -1,
          -1,
          -1,
          -1,
          -1,
          -1,
          -1,
          -1,
          -1,
          -1,
          -1,
          -1,
          -1
         ],
         "yaxis": "y3"
        },
        {
         "alignmentgroup": "True",
         "hovertemplate": "Lineages=%{text}<br>scheme=LolliPop<br>Sample=%{x}<br>Abundances=%{y}<extra></extra>",
         "legendgroup": "Gamma",
         "marker": {
          "color": "#00cc96",
          "pattern": {
           "shape": ""
          }
         },
         "name": "Gamma",
         "offsetgroup": "Gamma",
         "orientation": "v",
         "showlegend": false,
         "text": [
          "Gamma",
          "Gamma",
          "Gamma",
          "Gamma",
          "Gamma",
          "Gamma",
          "Gamma",
          "Gamma"
         ],
         "textposition": "auto",
         "type": "bar",
         "x": [
          "0adgio1",
          "0adgio1-2",
          "0adgio1o2o3o4o5",
          "0agio1o2",
          "adgio1o2o3",
          "agio3o4o5",
          "g",
          "g-2"
         ],
         "xaxis": "x2",
         "y": [
          1,
          1,
          1,
          1,
          1,
          1,
          1,
          1
         ],
         "yaxis": "y2"
        },
        {
         "alignmentgroup": "True",
         "hovertemplate": "Lineages=%{text}<br>scheme=VaQuERo<br>Sample=%{x}<br>Abundances=%{y}<extra></extra>",
         "legendgroup": "Gamma",
         "marker": {
          "color": "#00cc96",
          "pattern": {
           "shape": ""
          }
         },
         "name": "Gamma",
         "offsetgroup": "Gamma",
         "orientation": "v",
         "showlegend": false,
         "text": [
          "Gamma",
          "Gamma",
          "Gamma",
          "Gamma",
          "Gamma"
         ],
         "textposition": "auto",
         "type": "bar",
         "x": [
          "0adgio1-2",
          "0agio1o2",
          "agio3o4o5",
          "g",
          "g-2"
         ],
         "xaxis": "x",
         "y": [
          1,
          1,
          1,
          1,
          1
         ],
         "yaxis": "y"
        },
        {
         "alignmentgroup": "True",
         "hovertemplate": "Lineages=%{text}<br>scheme=Alcov<br>Sample=%{x}<br>Abundances=%{y}<extra></extra>",
         "legendgroup": "BA.1.X",
         "marker": {
          "color": "#ab63fa",
          "pattern": {
           "shape": ""
          }
         },
         "name": "BA.1.X",
         "offsetgroup": "BA.1.X",
         "orientation": "v",
         "showlegend": true,
         "text": [
          "BA.1.X",
          "BA.1.X",
          "BA.1.X",
          "BA.1.X",
          "BA.1.X",
          "BA.1.X",
          "BA.1.X",
          "BA.1.X",
          "BA.1.X"
         ],
         "textposition": "auto",
         "type": "bar",
         "x": [
          "0adgio1",
          "0adgio1-2",
          "0adgio1o2o3o4o5",
          "0agio1o2",
          "0aio1o2o3o4o5",
          "adgio1o2o3",
          "o1-2",
          "o1o2",
          "o1o2o3o4o5"
         ],
         "xaxis": "x9",
         "y": [
          1,
          1,
          1,
          1,
          1,
          1,
          1,
          1,
          1
         ],
         "yaxis": "y9"
        },
        {
         "alignmentgroup": "True",
         "hovertemplate": "Lineages=%{text}<br>scheme=Freyja<br>Sample=%{x}<br>Abundances=%{y}<extra></extra>",
         "legendgroup": "BA.1.X",
         "marker": {
          "color": "#ab63fa",
          "pattern": {
           "shape": ""
          }
         },
         "name": "BA.1.X",
         "offsetgroup": "BA.1.X",
         "orientation": "v",
         "showlegend": false,
         "text": [
          "BA.1.X",
          "BA.1.X",
          "BA.1.X",
          "BA.1.X",
          "BA.1.X",
          "BA.1.X",
          "BA.1.X",
          "BA.1.X",
          "BA.1.X"
         ],
         "textposition": "auto",
         "type": "bar",
         "x": [
          "0adgio1",
          "0adgio1-2",
          "0adgio1o2o3o4o5",
          "0agio1o2",
          "0aio1o2o3o4o5",
          "adgio1o2o3",
          "o1-2",
          "o1o2",
          "o1o2o3o4o5"
         ],
         "xaxis": "x8",
         "y": [
          1,
          1,
          1,
          1,
          1,
          1,
          1,
          1,
          1
         ],
         "yaxis": "y8"
        },
        {
         "alignmentgroup": "True",
         "hovertemplate": "Lineages=%{text}<br>scheme=kallisto<br>Sample=%{x}<br>Abundances=%{y}<extra></extra>",
         "legendgroup": "BA.1.X",
         "marker": {
          "color": "#ab63fa",
          "pattern": {
           "shape": ""
          }
         },
         "name": "BA.1.X",
         "offsetgroup": "BA.1.X",
         "orientation": "v",
         "showlegend": false,
         "text": [
          "BA.1.X",
          "BA.1.X",
          "BA.1.X",
          "BA.1.X",
          "BA.1.X",
          "BA.1.X",
          "BA.1.X",
          "BA.1.X",
          "BA.1.X",
          "BA.1.X",
          "BA.1.X",
          "BA.1.X",
          "BA.1.X",
          "BA.1.X",
          "BA.1.X",
          "BA.1.X",
          "BA.1.X",
          "BA.1.X"
         ],
         "textposition": "auto",
         "type": "bar",
         "x": [
          "0adgio1",
          "0adgio1-2",
          "0adgio1o2o3o4o5",
          "0agio1o2",
          "0aio1o2o3o4o5",
          "0o5o3o4",
          "adgio1o2o3",
          "agio3o4o5",
          "o1-2",
          "o1o2",
          "o1o2o3o4o5",
          "o2-2",
          "o2-3",
          "o2o3o4o5",
          "o2o3o4o5-2",
          "o2o3o4o5-3",
          "o3-4",
          "o5"
         ],
         "xaxis": "x7",
         "y": [
          1,
          1,
          1,
          1,
          1,
          -1,
          1,
          -1,
          1,
          1,
          1,
          -1,
          -1,
          -1,
          -1,
          -1,
          -1,
          -1
         ],
         "yaxis": "y7"
        },
        {
         "alignmentgroup": "True",
         "hovertemplate": "Lineages=%{text}<br>scheme=kallisto (C-WAP)<br>Sample=%{x}<br>Abundances=%{y}<extra></extra>",
         "legendgroup": "BA.1.X",
         "marker": {
          "color": "#ab63fa",
          "pattern": {
           "shape": ""
          }
         },
         "name": "BA.1.X",
         "offsetgroup": "BA.1.X",
         "orientation": "v",
         "showlegend": false,
         "text": [
          "BA.1.X",
          "BA.1.X",
          "BA.1.X",
          "BA.1.X",
          "BA.1.X",
          "BA.1.X",
          "BA.1.X",
          "BA.1.X",
          "BA.1.X",
          "BA.1.X",
          "BA.1.X",
          "BA.1.X",
          "BA.1.X",
          "BA.1.X",
          "BA.1.X",
          "BA.1.X",
          "BA.1.X",
          "BA.1.X",
          "BA.1.X"
         ],
         "textposition": "auto",
         "type": "bar",
         "x": [
          "0adgio1",
          "0adgio1-2",
          "0adgio1o2o3o4o5",
          "0agio1o2",
          "0aio1o2o3o4o5",
          "0o5o3o4",
          "adgio1o2o3",
          "agio3o4o5",
          "d",
          "d-2",
          "g",
          "g-2",
          "o1-2",
          "o1o2",
          "o1o2o3o4o5",
          "o2-3",
          "o2o3o4o5",
          "o2o3o4o5-2",
          "o2o3o4o5-3"
         ],
         "xaxis": "x6",
         "y": [
          1,
          1,
          1,
          1,
          1,
          -1,
          1,
          -1,
          -1,
          -1,
          -1,
          -1,
          1,
          1,
          1,
          -1,
          -1,
          -1,
          -1
         ],
         "yaxis": "y6"
        },
        {
         "alignmentgroup": "True",
         "hovertemplate": "Lineages=%{text}<br>scheme=Kraken 2 (C-WAP)<br>Sample=%{x}<br>Abundances=%{y}<extra></extra>",
         "legendgroup": "BA.1.X",
         "marker": {
          "color": "#ab63fa",
          "pattern": {
           "shape": ""
          }
         },
         "name": "BA.1.X",
         "offsetgroup": "BA.1.X",
         "orientation": "v",
         "showlegend": false,
         "text": [
          "BA.1.X",
          "BA.1.X",
          "BA.1.X",
          "BA.1.X",
          "BA.1.X",
          "BA.1.X",
          "BA.1.X",
          "BA.1.X",
          "BA.1.X",
          "BA.1.X",
          "BA.1.X",
          "BA.1.X",
          "BA.1.X",
          "BA.1.X",
          "BA.1.X",
          "BA.1.X",
          "BA.1.X",
          "BA.1.X",
          "BA.1.X",
          "BA.1.X",
          "BA.1.X",
          "BA.1.X",
          "BA.1.X",
          "BA.1.X",
          "BA.1.X",
          "BA.1.X",
          "BA.1.X",
          "BA.1.X",
          "BA.1.X",
          "BA.1.X",
          "BA.1.X",
          "BA.1.X",
          "BA.1.X",
          "BA.1.X",
          "BA.1.X",
          "BA.1.X",
          "BA.1.X",
          "BA.1.X"
         ],
         "textposition": "auto",
         "type": "bar",
         "x": [
          "0",
          "0-2",
          "0-3",
          "0-4",
          "0adgio1",
          "0adgio1-2",
          "0adgio1o2o3o4o5",
          "0agio1o2",
          "0aio1o2o3o4o5",
          "0o5o3o4",
          "a",
          "a-2",
          "adgio1o2o3",
          "agio3o4o5",
          "d",
          "d-2",
          "g",
          "g-2",
          "i",
          "i-2",
          "o1-2",
          "o1o2",
          "o1o2o3o4o5",
          "o2-2",
          "o2-3",
          "o2o3o4o5",
          "o2o3o4o5-2",
          "o2o3o4o5-3",
          "o3",
          "o3-2",
          "o3-3",
          "o3-4",
          "o4",
          "o4-2",
          "o4-3",
          "o5",
          "o5-2",
          "o5-3"
         ],
         "xaxis": "x5",
         "y": [
          -1,
          -1,
          -1,
          -1,
          1,
          1,
          1,
          1,
          1,
          -1,
          -1,
          -1,
          1,
          -1,
          -1,
          -1,
          -1,
          -1,
          -1,
          -1,
          1,
          1,
          1,
          -1,
          -1,
          -1,
          -1,
          -1,
          -1,
          -1,
          -1,
          -1,
          -1,
          -1,
          -1,
          -1,
          -1,
          -1
         ],
         "yaxis": "y5"
        },
        {
         "alignmentgroup": "True",
         "hovertemplate": "Lineages=%{text}<br>scheme=LCS<br>Sample=%{x}<br>Abundances=%{y}<extra></extra>",
         "legendgroup": "BA.1.X",
         "marker": {
          "color": "#ab63fa",
          "pattern": {
           "shape": ""
          }
         },
         "name": "BA.1.X",
         "offsetgroup": "BA.1.X",
         "orientation": "v",
         "showlegend": false,
         "text": [
          "BA.1.X",
          "BA.1.X",
          "BA.1.X",
          "BA.1.X",
          "BA.1.X",
          "BA.1.X",
          "BA.1.X",
          "BA.1.X",
          "BA.1.X",
          "BA.1.X",
          "BA.1.X",
          "BA.1.X",
          "BA.1.X",
          "BA.1.X",
          "BA.1.X",
          "BA.1.X",
          "BA.1.X",
          "BA.1.X",
          "BA.1.X",
          "BA.1.X",
          "BA.1.X",
          "BA.1.X",
          "BA.1.X",
          "BA.1.X",
          "BA.1.X",
          "BA.1.X",
          "BA.1.X",
          "BA.1.X",
          "BA.1.X",
          "BA.1.X",
          "BA.1.X",
          "BA.1.X",
          "BA.1.X",
          "BA.1.X"
         ],
         "textposition": "auto",
         "type": "bar",
         "x": [
          "0-2",
          "0-4",
          "0adgio1",
          "0adgio1-2",
          "0adgio1o2o3o4o5",
          "0agio1o2",
          "0aio1o2o3o4o5",
          "0o5o3o4",
          "a",
          "adgio1o2o3",
          "agio3o4o5",
          "d",
          "g",
          "g-2",
          "i",
          "i-2",
          "o1-2",
          "o1o2",
          "o1o2o3o4o5",
          "o2-2",
          "o2-3",
          "o2o3o4o5",
          "o2o3o4o5-2",
          "o2o3o4o5-3",
          "o3",
          "o3-2",
          "o3-3",
          "o3-4",
          "o4",
          "o4-2",
          "o4-3",
          "o5",
          "o5-2",
          "o5-3"
         ],
         "xaxis": "x4",
         "y": [
          -1,
          -1,
          1,
          1,
          1,
          1,
          1,
          -1,
          -1,
          1,
          -1,
          -1,
          -1,
          -1,
          -1,
          -1,
          1,
          1,
          1,
          -1,
          -1,
          -1,
          -1,
          -1,
          -1,
          -1,
          -1,
          -1,
          -1,
          -1,
          -1,
          -1,
          -1,
          -1
         ],
         "yaxis": "y4"
        },
        {
         "alignmentgroup": "True",
         "hovertemplate": "Lineages=%{text}<br>scheme=LolliPop<br>Sample=%{x}<br>Abundances=%{y}<extra></extra>",
         "legendgroup": "BA.1.X",
         "marker": {
          "color": "#ab63fa",
          "pattern": {
           "shape": ""
          }
         },
         "name": "BA.1.X",
         "offsetgroup": "BA.1.X",
         "orientation": "v",
         "showlegend": false,
         "text": [
          "BA.1.X",
          "BA.1.X",
          "BA.1.X",
          "BA.1.X",
          "BA.1.X",
          "BA.1.X",
          "BA.1.X",
          "BA.1.X",
          "BA.1.X"
         ],
         "textposition": "auto",
         "type": "bar",
         "x": [
          "0adgio1",
          "0adgio1-2",
          "0adgio1o2o3o4o5",
          "0agio1o2",
          "0aio1o2o3o4o5",
          "adgio1o2o3",
          "o1-2",
          "o1o2",
          "o1o2o3o4o5"
         ],
         "xaxis": "x2",
         "y": [
          1,
          1,
          1,
          1,
          1,
          1,
          1,
          1,
          1
         ],
         "yaxis": "y2"
        },
        {
         "alignmentgroup": "True",
         "hovertemplate": "Lineages=%{text}<br>scheme=VaQuERo<br>Sample=%{x}<br>Abundances=%{y}<extra></extra>",
         "legendgroup": "BA.1.X",
         "marker": {
          "color": "#ab63fa",
          "pattern": {
           "shape": ""
          }
         },
         "name": "BA.1.X",
         "offsetgroup": "BA.1.X",
         "orientation": "v",
         "showlegend": false,
         "text": [
          "BA.1.X",
          "BA.1.X",
          "BA.1.X",
          "BA.1.X",
          "BA.1.X",
          "BA.1.X",
          "BA.1.X",
          "BA.1.X"
         ],
         "textposition": "auto",
         "type": "bar",
         "x": [
          "0adgio1",
          "0adgio1-2",
          "0agio1o2",
          "0aio1o2o3o4o5",
          "adgio1o2o3",
          "o1-2",
          "o1o2",
          "o1o2o3o4o5"
         ],
         "xaxis": "x",
         "y": [
          1,
          1,
          1,
          1,
          1,
          1,
          1,
          1
         ],
         "yaxis": "y"
        },
        {
         "alignmentgroup": "True",
         "hovertemplate": "Lineages=%{text}<br>scheme=Alcov<br>Sample=%{x}<br>Abundances=%{y}<extra></extra>",
         "legendgroup": "Delta",
         "marker": {
          "color": "#FFA15A",
          "pattern": {
           "shape": ""
          }
         },
         "name": "Delta",
         "offsetgroup": "Delta",
         "orientation": "v",
         "showlegend": true,
         "text": [
          "Delta",
          "Delta",
          "Delta",
          "Delta",
          "Delta",
          "Delta"
         ],
         "textposition": "auto",
         "type": "bar",
         "x": [
          "0adgio1",
          "0adgio1-2",
          "0adgio1o2o3o4o5",
          "adgio1o2o3",
          "d",
          "d-2"
         ],
         "xaxis": "x9",
         "y": [
          1,
          1,
          1,
          1,
          1,
          1
         ],
         "yaxis": "y9"
        },
        {
         "alignmentgroup": "True",
         "hovertemplate": "Lineages=%{text}<br>scheme=Freyja<br>Sample=%{x}<br>Abundances=%{y}<extra></extra>",
         "legendgroup": "Delta",
         "marker": {
          "color": "#FFA15A",
          "pattern": {
           "shape": ""
          }
         },
         "name": "Delta",
         "offsetgroup": "Delta",
         "orientation": "v",
         "showlegend": false,
         "text": [
          "Delta",
          "Delta",
          "Delta",
          "Delta",
          "Delta",
          "Delta"
         ],
         "textposition": "auto",
         "type": "bar",
         "x": [
          "0adgio1",
          "0adgio1-2",
          "0adgio1o2o3o4o5",
          "adgio1o2o3",
          "d",
          "d-2"
         ],
         "xaxis": "x8",
         "y": [
          1,
          1,
          1,
          1,
          1,
          1
         ],
         "yaxis": "y8"
        },
        {
         "alignmentgroup": "True",
         "hovertemplate": "Lineages=%{text}<br>scheme=kallisto<br>Sample=%{x}<br>Abundances=%{y}<extra></extra>",
         "legendgroup": "Delta",
         "marker": {
          "color": "#FFA15A",
          "pattern": {
           "shape": ""
          }
         },
         "name": "Delta",
         "offsetgroup": "Delta",
         "orientation": "v",
         "showlegend": false,
         "text": [
          "Delta",
          "Delta",
          "Delta",
          "Delta",
          "Delta",
          "Delta",
          "Delta",
          "Delta",
          "Delta",
          "Delta",
          "Delta",
          "Delta",
          "Delta",
          "Delta",
          "Delta",
          "Delta",
          "Delta",
          "Delta",
          "Delta",
          "Delta",
          "Delta",
          "Delta",
          "Delta",
          "Delta",
          "Delta",
          "Delta",
          "Delta",
          "Delta",
          "Delta",
          "Delta",
          "Delta",
          "Delta",
          "Delta",
          "Delta",
          "Delta",
          "Delta",
          "Delta",
          "Delta"
         ],
         "textposition": "auto",
         "type": "bar",
         "x": [
          "0",
          "0-2",
          "0-3",
          "0-4",
          "0adgio1",
          "0adgio1-2",
          "0adgio1o2o3o4o5",
          "0agio1o2",
          "0aio1o2o3o4o5",
          "0o5o3o4",
          "a",
          "a-2",
          "adgio1o2o3",
          "agio3o4o5",
          "d",
          "d-2",
          "g",
          "g-2",
          "i",
          "i-2",
          "o1-2",
          "o1o2",
          "o1o2o3o4o5",
          "o2-2",
          "o2-3",
          "o2o3o4o5",
          "o2o3o4o5-2",
          "o2o3o4o5-3",
          "o3",
          "o3-2",
          "o3-3",
          "o3-4",
          "o4",
          "o4-2",
          "o4-3",
          "o5",
          "o5-2",
          "o5-3"
         ],
         "xaxis": "x7",
         "y": [
          -1,
          -1,
          -1,
          -1,
          1,
          1,
          1,
          -1,
          -1,
          -1,
          -1,
          -1,
          1,
          -1,
          1,
          1,
          -1,
          -1,
          -1,
          -1,
          -1,
          -1,
          -1,
          -1,
          -1,
          -1,
          -1,
          -1,
          -1,
          -1,
          -1,
          -1,
          -1,
          -1,
          -1,
          -1,
          -1,
          -1
         ],
         "yaxis": "y7"
        },
        {
         "alignmentgroup": "True",
         "hovertemplate": "Lineages=%{text}<br>scheme=kallisto (C-WAP)<br>Sample=%{x}<br>Abundances=%{y}<extra></extra>",
         "legendgroup": "Delta",
         "marker": {
          "color": "#FFA15A",
          "pattern": {
           "shape": ""
          }
         },
         "name": "Delta",
         "offsetgroup": "Delta",
         "orientation": "v",
         "showlegend": false,
         "text": [
          "Delta",
          "Delta",
          "Delta",
          "Delta",
          "Delta",
          "Delta"
         ],
         "textposition": "auto",
         "type": "bar",
         "x": [
          "0adgio1",
          "0adgio1-2",
          "0adgio1o2o3o4o5",
          "adgio1o2o3",
          "d",
          "d-2"
         ],
         "xaxis": "x6",
         "y": [
          1,
          1,
          1,
          1,
          1,
          1
         ],
         "yaxis": "y6"
        },
        {
         "alignmentgroup": "True",
         "hovertemplate": "Lineages=%{text}<br>scheme=LCS<br>Sample=%{x}<br>Abundances=%{y}<extra></extra>",
         "legendgroup": "Delta",
         "marker": {
          "color": "#FFA15A",
          "pattern": {
           "shape": ""
          }
         },
         "name": "Delta",
         "offsetgroup": "Delta",
         "orientation": "v",
         "showlegend": false,
         "text": [
          "Delta",
          "Delta",
          "Delta",
          "Delta",
          "Delta",
          "Delta"
         ],
         "textposition": "auto",
         "type": "bar",
         "x": [
          "0adgio1",
          "0adgio1-2",
          "0adgio1o2o3o4o5",
          "adgio1o2o3",
          "d",
          "d-2"
         ],
         "xaxis": "x4",
         "y": [
          1,
          1,
          1,
          1,
          1,
          1
         ],
         "yaxis": "y4"
        },
        {
         "alignmentgroup": "True",
         "hovertemplate": "Lineages=%{text}<br>scheme=lineagespot<br>Sample=%{x}<br>Abundances=%{y}<extra></extra>",
         "legendgroup": "Delta",
         "marker": {
          "color": "#FFA15A",
          "pattern": {
           "shape": ""
          }
         },
         "name": "Delta",
         "offsetgroup": "Delta",
         "orientation": "v",
         "showlegend": false,
         "text": [
          "Delta",
          "Delta",
          "Delta",
          "Delta",
          "Delta",
          "Delta",
          "Delta",
          "Delta",
          "Delta",
          "Delta",
          "Delta",
          "Delta",
          "Delta"
         ],
         "textposition": "auto",
         "type": "bar",
         "x": [
          "0adgio1o2o3o4o5",
          "0agio1o2",
          "d",
          "d-2",
          "o1-2",
          "o1o2",
          "o2o3o4o5",
          "o2o3o4o5-3",
          "o3-3",
          "o3-4",
          "o4",
          "o4-2",
          "o5"
         ],
         "xaxis": "x3",
         "y": [
          1,
          -1,
          1,
          1,
          -1,
          -1,
          -1,
          -1,
          -1,
          -1,
          -1,
          -1,
          -1
         ],
         "yaxis": "y3"
        },
        {
         "alignmentgroup": "True",
         "hovertemplate": "Lineages=%{text}<br>scheme=LolliPop<br>Sample=%{x}<br>Abundances=%{y}<extra></extra>",
         "legendgroup": "Delta",
         "marker": {
          "color": "#FFA15A",
          "pattern": {
           "shape": ""
          }
         },
         "name": "Delta",
         "offsetgroup": "Delta",
         "orientation": "v",
         "showlegend": false,
         "text": [
          "Delta",
          "Delta",
          "Delta",
          "Delta",
          "Delta",
          "Delta",
          "Delta",
          "Delta",
          "Delta",
          "Delta",
          "Delta",
          "Delta",
          "Delta",
          "Delta",
          "Delta",
          "Delta",
          "Delta",
          "Delta"
         ],
         "textposition": "auto",
         "type": "bar",
         "x": [
          "0",
          "0-2",
          "0-3",
          "0-4",
          "0adgio1",
          "0adgio1-2",
          "0adgio1o2o3o4o5",
          "0agio1o2",
          "0o5o3o4",
          "adgio1o2o3",
          "d",
          "d-2",
          "i",
          "i-2",
          "o1-2",
          "o1o2",
          "o3",
          "o5-3"
         ],
         "xaxis": "x2",
         "y": [
          -1,
          -1,
          -1,
          -1,
          1,
          1,
          1,
          -1,
          -1,
          1,
          1,
          1,
          -1,
          -1,
          -1,
          -1,
          -1,
          -1
         ],
         "yaxis": "y2"
        },
        {
         "alignmentgroup": "True",
         "hovertemplate": "Lineages=%{text}<br>scheme=VaQuERo<br>Sample=%{x}<br>Abundances=%{y}<extra></extra>",
         "legendgroup": "Delta",
         "marker": {
          "color": "#FFA15A",
          "pattern": {
           "shape": ""
          }
         },
         "name": "Delta",
         "offsetgroup": "Delta",
         "orientation": "v",
         "showlegend": false,
         "text": [
          "Delta",
          "Delta",
          "Delta",
          "Delta",
          "Delta",
          "Delta"
         ],
         "textposition": "auto",
         "type": "bar",
         "x": [
          "0adgio1",
          "0adgio1-2",
          "0adgio1o2o3o4o5",
          "adgio1o2o3",
          "d",
          "d-2"
         ],
         "xaxis": "x",
         "y": [
          1,
          1,
          1,
          1,
          1,
          1
         ],
         "yaxis": "y"
        },
        {
         "alignmentgroup": "True",
         "hovertemplate": "Lineages=%{text}<br>scheme=Alcov<br>Sample=%{x}<br>Abundances=%{y}<extra></extra>",
         "legendgroup": "BA.4.X",
         "marker": {
          "color": "#19d3f3",
          "pattern": {
           "shape": ""
          }
         },
         "name": "BA.4.X",
         "offsetgroup": "BA.4.X",
         "orientation": "v",
         "showlegend": true,
         "text": [
          "BA.4.X",
          "BA.4.X",
          "BA.4.X",
          "BA.4.X",
          "BA.4.X",
          "BA.4.X",
          "BA.4.X",
          "BA.4.X",
          "BA.4.X",
          "BA.4.X",
          "BA.4.X"
         ],
         "textposition": "auto",
         "type": "bar",
         "x": [
          "0adgio1o2o3o4o5",
          "0aio1o2o3o4o5",
          "0o5o3o4",
          "agio3o4o5",
          "o1o2o3o4o5",
          "o2o3o4o5",
          "o2o3o4o5-2",
          "o2o3o4o5-3",
          "o4",
          "o4-2",
          "o4-3"
         ],
         "xaxis": "x9",
         "y": [
          1,
          1,
          1,
          1,
          1,
          1,
          1,
          1,
          1,
          1,
          1
         ],
         "yaxis": "y9"
        },
        {
         "alignmentgroup": "True",
         "hovertemplate": "Lineages=%{text}<br>scheme=Freyja<br>Sample=%{x}<br>Abundances=%{y}<extra></extra>",
         "legendgroup": "BA.4.X",
         "marker": {
          "color": "#19d3f3",
          "pattern": {
           "shape": ""
          }
         },
         "name": "BA.4.X",
         "offsetgroup": "BA.4.X",
         "orientation": "v",
         "showlegend": false,
         "text": [
          "BA.4.X",
          "BA.4.X",
          "BA.4.X",
          "BA.4.X",
          "BA.4.X",
          "BA.4.X",
          "BA.4.X",
          "BA.4.X",
          "BA.4.X",
          "BA.4.X",
          "BA.4.X"
         ],
         "textposition": "auto",
         "type": "bar",
         "x": [
          "0adgio1o2o3o4o5",
          "0aio1o2o3o4o5",
          "0o5o3o4",
          "agio3o4o5",
          "o1o2o3o4o5",
          "o2o3o4o5",
          "o2o3o4o5-2",
          "o2o3o4o5-3",
          "o4",
          "o4-2",
          "o4-3"
         ],
         "xaxis": "x8",
         "y": [
          1,
          1,
          1,
          1,
          1,
          1,
          1,
          1,
          1,
          1,
          1
         ],
         "yaxis": "y8"
        },
        {
         "alignmentgroup": "True",
         "hovertemplate": "Lineages=%{text}<br>scheme=kallisto<br>Sample=%{x}<br>Abundances=%{y}<extra></extra>",
         "legendgroup": "BA.4.X",
         "marker": {
          "color": "#19d3f3",
          "pattern": {
           "shape": ""
          }
         },
         "name": "BA.4.X",
         "offsetgroup": "BA.4.X",
         "orientation": "v",
         "showlegend": false,
         "text": [
          "BA.4.X",
          "BA.4.X",
          "BA.4.X",
          "BA.4.X",
          "BA.4.X",
          "BA.4.X",
          "BA.4.X",
          "BA.4.X",
          "BA.4.X",
          "BA.4.X",
          "BA.4.X",
          "BA.4.X",
          "BA.4.X",
          "BA.4.X",
          "BA.4.X",
          "BA.4.X",
          "BA.4.X",
          "BA.4.X",
          "BA.4.X",
          "BA.4.X",
          "BA.4.X",
          "BA.4.X",
          "BA.4.X"
         ],
         "textposition": "auto",
         "type": "bar",
         "x": [
          "0adgio1o2o3o4o5",
          "0agio1o2",
          "0aio1o2o3o4o5",
          "0o5o3o4",
          "adgio1o2o3",
          "agio3o4o5",
          "o1o2",
          "o1o2o3o4o5",
          "o2-2",
          "o2-3",
          "o2o3o4o5",
          "o2o3o4o5-2",
          "o2o3o4o5-3",
          "o3",
          "o3-2",
          "o3-3",
          "o3-4",
          "o4",
          "o4-2",
          "o4-3",
          "o5",
          "o5-2",
          "o5-3"
         ],
         "xaxis": "x7",
         "y": [
          1,
          -1,
          1,
          1,
          -1,
          1,
          -1,
          1,
          -1,
          -1,
          1,
          1,
          1,
          -1,
          -1,
          -1,
          -1,
          1,
          1,
          1,
          -1,
          -1,
          -1
         ],
         "yaxis": "y7"
        },
        {
         "alignmentgroup": "True",
         "hovertemplate": "Lineages=%{text}<br>scheme=kallisto (C-WAP)<br>Sample=%{x}<br>Abundances=%{y}<extra></extra>",
         "legendgroup": "BA.4.X",
         "marker": {
          "color": "#19d3f3",
          "pattern": {
           "shape": ""
          }
         },
         "name": "BA.4.X",
         "offsetgroup": "BA.4.X",
         "orientation": "v",
         "showlegend": false,
         "text": [
          "BA.4.X",
          "BA.4.X",
          "BA.4.X",
          "BA.4.X",
          "BA.4.X",
          "BA.4.X",
          "BA.4.X",
          "BA.4.X",
          "BA.4.X",
          "BA.4.X",
          "BA.4.X",
          "BA.4.X",
          "BA.4.X",
          "BA.4.X",
          "BA.4.X",
          "BA.4.X",
          "BA.4.X",
          "BA.4.X",
          "BA.4.X",
          "BA.4.X",
          "BA.4.X",
          "BA.4.X",
          "BA.4.X",
          "BA.4.X"
         ],
         "textposition": "auto",
         "type": "bar",
         "x": [
          "0adgio1o2o3o4o5",
          "0agio1o2",
          "0aio1o2o3o4o5",
          "0o5o3o4",
          "adgio1o2o3",
          "agio3o4o5",
          "o1-2",
          "o1o2",
          "o1o2o3o4o5",
          "o2-2",
          "o2-3",
          "o2o3o4o5",
          "o2o3o4o5-2",
          "o2o3o4o5-3",
          "o3",
          "o3-2",
          "o3-3",
          "o3-4",
          "o4",
          "o4-2",
          "o4-3",
          "o5",
          "o5-2",
          "o5-3"
         ],
         "xaxis": "x6",
         "y": [
          1,
          -1,
          1,
          1,
          -1,
          1,
          -1,
          -1,
          1,
          -1,
          -1,
          1,
          1,
          1,
          -1,
          -1,
          -1,
          -1,
          1,
          1,
          1,
          -1,
          -1,
          -1
         ],
         "yaxis": "y6"
        },
        {
         "alignmentgroup": "True",
         "hovertemplate": "Lineages=%{text}<br>scheme=Kraken 2 (C-WAP)<br>Sample=%{x}<br>Abundances=%{y}<extra></extra>",
         "legendgroup": "BA.4.X",
         "marker": {
          "color": "#19d3f3",
          "pattern": {
           "shape": ""
          }
         },
         "name": "BA.4.X",
         "offsetgroup": "BA.4.X",
         "orientation": "v",
         "showlegend": false,
         "text": [
          "BA.4.X",
          "BA.4.X",
          "BA.4.X",
          "BA.4.X",
          "BA.4.X",
          "BA.4.X",
          "BA.4.X",
          "BA.4.X",
          "BA.4.X",
          "BA.4.X",
          "BA.4.X",
          "BA.4.X",
          "BA.4.X",
          "BA.4.X",
          "BA.4.X",
          "BA.4.X",
          "BA.4.X",
          "BA.4.X",
          "BA.4.X",
          "BA.4.X",
          "BA.4.X",
          "BA.4.X",
          "BA.4.X",
          "BA.4.X",
          "BA.4.X",
          "BA.4.X",
          "BA.4.X",
          "BA.4.X",
          "BA.4.X",
          "BA.4.X",
          "BA.4.X",
          "BA.4.X",
          "BA.4.X",
          "BA.4.X",
          "BA.4.X",
          "BA.4.X",
          "BA.4.X",
          "BA.4.X"
         ],
         "textposition": "auto",
         "type": "bar",
         "x": [
          "0",
          "0-2",
          "0-3",
          "0-4",
          "0adgio1",
          "0adgio1-2",
          "0adgio1o2o3o4o5",
          "0agio1o2",
          "0aio1o2o3o4o5",
          "0o5o3o4",
          "a",
          "a-2",
          "adgio1o2o3",
          "agio3o4o5",
          "d",
          "d-2",
          "g",
          "g-2",
          "i",
          "i-2",
          "o1-2",
          "o1o2",
          "o1o2o3o4o5",
          "o2-2",
          "o2-3",
          "o2o3o4o5",
          "o2o3o4o5-2",
          "o2o3o4o5-3",
          "o3",
          "o3-2",
          "o3-3",
          "o3-4",
          "o4",
          "o4-2",
          "o4-3",
          "o5",
          "o5-2",
          "o5-3"
         ],
         "xaxis": "x5",
         "y": [
          -1,
          -1,
          -1,
          -1,
          -1,
          -1,
          1,
          -1,
          1,
          1,
          -1,
          -1,
          -1,
          1,
          -1,
          -1,
          -1,
          -1,
          -1,
          -1,
          -1,
          -1,
          1,
          -1,
          -1,
          1,
          1,
          1,
          -1,
          -1,
          -1,
          -1,
          1,
          1,
          1,
          -1,
          -1,
          -1
         ],
         "yaxis": "y5"
        },
        {
         "alignmentgroup": "True",
         "hovertemplate": "Lineages=%{text}<br>scheme=LCS<br>Sample=%{x}<br>Abundances=%{y}<extra></extra>",
         "legendgroup": "BA.4.X",
         "marker": {
          "color": "#19d3f3",
          "pattern": {
           "shape": ""
          }
         },
         "name": "BA.4.X",
         "offsetgroup": "BA.4.X",
         "orientation": "v",
         "showlegend": false,
         "text": [
          "BA.4.X",
          "BA.4.X",
          "BA.4.X",
          "BA.4.X",
          "BA.4.X",
          "BA.4.X",
          "BA.4.X",
          "BA.4.X",
          "BA.4.X",
          "BA.4.X",
          "BA.4.X",
          "BA.4.X",
          "BA.4.X",
          "BA.4.X",
          "BA.4.X",
          "BA.4.X"
         ],
         "textposition": "auto",
         "type": "bar",
         "x": [
          "0adgio1o2o3o4o5",
          "0aio1o2o3o4o5",
          "0o5o3o4",
          "agio3o4o5",
          "o1o2",
          "o1o2o3o4o5",
          "o2-2",
          "o2o3o4o5",
          "o2o3o4o5-2",
          "o2o3o4o5-3",
          "o3",
          "o3-3",
          "o3-4",
          "o4",
          "o4-2",
          "o4-3"
         ],
         "xaxis": "x4",
         "y": [
          1,
          1,
          1,
          1,
          -1,
          1,
          -1,
          1,
          1,
          1,
          -1,
          -1,
          -1,
          1,
          1,
          1
         ],
         "yaxis": "y4"
        },
        {
         "alignmentgroup": "True",
         "hovertemplate": "Lineages=%{text}<br>scheme=LolliPop<br>Sample=%{x}<br>Abundances=%{y}<extra></extra>",
         "legendgroup": "BA.4.X",
         "marker": {
          "color": "#19d3f3",
          "pattern": {
           "shape": ""
          }
         },
         "name": "BA.4.X",
         "offsetgroup": "BA.4.X",
         "orientation": "v",
         "showlegend": false,
         "text": [
          "BA.4.X",
          "BA.4.X",
          "BA.4.X",
          "BA.4.X",
          "BA.4.X",
          "BA.4.X",
          "BA.4.X",
          "BA.4.X",
          "BA.4.X",
          "BA.4.X",
          "BA.4.X",
          "BA.4.X",
          "BA.4.X",
          "BA.4.X",
          "BA.4.X",
          "BA.4.X",
          "BA.4.X",
          "BA.4.X",
          "BA.4.X",
          "BA.4.X",
          "BA.4.X",
          "BA.4.X",
          "BA.4.X"
         ],
         "textposition": "auto",
         "type": "bar",
         "x": [
          "0",
          "0-2",
          "0-3",
          "0-4",
          "0adgio1",
          "0adgio1-2",
          "0adgio1o2o3o4o5",
          "0agio1o2",
          "0aio1o2o3o4o5",
          "0o5o3o4",
          "agio3o4o5",
          "i",
          "i-2",
          "o1o2o3o4o5",
          "o2o3o4o5",
          "o2o3o4o5-2",
          "o2o3o4o5-3",
          "o4",
          "o4-2",
          "o4-3",
          "o5",
          "o5-2",
          "o5-3"
         ],
         "xaxis": "x2",
         "y": [
          -1,
          -1,
          -1,
          -1,
          -1,
          -1,
          1,
          -1,
          1,
          1,
          1,
          -1,
          -1,
          1,
          1,
          1,
          1,
          1,
          1,
          1,
          -1,
          -1,
          -1
         ],
         "yaxis": "y2"
        },
        {
         "alignmentgroup": "True",
         "hovertemplate": "Lineages=%{text}<br>scheme=VaQuERo<br>Sample=%{x}<br>Abundances=%{y}<extra></extra>",
         "legendgroup": "BA.4.X",
         "marker": {
          "color": "#19d3f3",
          "pattern": {
           "shape": ""
          }
         },
         "name": "BA.4.X",
         "offsetgroup": "BA.4.X",
         "orientation": "v",
         "showlegend": false,
         "text": [
          "BA.4.X",
          "BA.4.X",
          "BA.4.X",
          "BA.4.X",
          "BA.4.X",
          "BA.4.X",
          "BA.4.X",
          "BA.4.X",
          "BA.4.X",
          "BA.4.X",
          "BA.4.X"
         ],
         "textposition": "auto",
         "type": "bar",
         "x": [
          "0adgio1o2o3o4o5",
          "0aio1o2o3o4o5",
          "0o5o3o4",
          "agio3o4o5",
          "o1o2o3o4o5",
          "o2o3o4o5",
          "o2o3o4o5-2",
          "o2o3o4o5-3",
          "o4",
          "o4-2",
          "o4-3"
         ],
         "xaxis": "x",
         "y": [
          1,
          1,
          1,
          1,
          1,
          1,
          1,
          1,
          1,
          1,
          1
         ],
         "yaxis": "y"
        },
        {
         "alignmentgroup": "True",
         "hovertemplate": "Lineages=%{text}<br>scheme=Alcov<br>Sample=%{x}<br>Abundances=%{y}<extra></extra>",
         "legendgroup": "BA.2.X",
         "marker": {
          "color": "#FF6692",
          "pattern": {
           "shape": ""
          }
         },
         "name": "BA.2.X",
         "offsetgroup": "BA.2.X",
         "orientation": "v",
         "showlegend": true,
         "text": [
          "BA.2.X",
          "BA.2.X",
          "BA.2.X",
          "BA.2.X",
          "BA.2.X",
          "BA.2.X",
          "BA.2.X",
          "BA.2.X",
          "BA.2.X",
          "BA.2.X"
         ],
         "textposition": "auto",
         "type": "bar",
         "x": [
          "0adgio1o2o3o4o5",
          "0agio1o2",
          "adgio1o2o3",
          "o1o2",
          "o1o2o3o4o5",
          "o2-2",
          "o2-3",
          "o2o3o4o5",
          "o2o3o4o5-2",
          "o2o3o4o5-3"
         ],
         "xaxis": "x9",
         "y": [
          1,
          1,
          1,
          1,
          1,
          1,
          1,
          1,
          1,
          1
         ],
         "yaxis": "y9"
        },
        {
         "alignmentgroup": "True",
         "hovertemplate": "Lineages=%{text}<br>scheme=Freyja<br>Sample=%{x}<br>Abundances=%{y}<extra></extra>",
         "legendgroup": "BA.2.X",
         "marker": {
          "color": "#FF6692",
          "pattern": {
           "shape": ""
          }
         },
         "name": "BA.2.X",
         "offsetgroup": "BA.2.X",
         "orientation": "v",
         "showlegend": false,
         "text": [
          "BA.2.X",
          "BA.2.X",
          "BA.2.X",
          "BA.2.X",
          "BA.2.X",
          "BA.2.X",
          "BA.2.X",
          "BA.2.X",
          "BA.2.X",
          "BA.2.X",
          "BA.2.X"
         ],
         "textposition": "auto",
         "type": "bar",
         "x": [
          "0adgio1o2o3o4o5",
          "0agio1o2",
          "0aio1o2o3o4o5",
          "adgio1o2o3",
          "o1o2",
          "o1o2o3o4o5",
          "o2-2",
          "o2-3",
          "o2o3o4o5",
          "o2o3o4o5-2",
          "o2o3o4o5-3"
         ],
         "xaxis": "x8",
         "y": [
          1,
          1,
          1,
          1,
          1,
          1,
          1,
          1,
          1,
          1,
          1
         ],
         "yaxis": "y8"
        },
        {
         "alignmentgroup": "True",
         "hovertemplate": "Lineages=%{text}<br>scheme=kallisto<br>Sample=%{x}<br>Abundances=%{y}<extra></extra>",
         "legendgroup": "BA.2.X",
         "marker": {
          "color": "#FF6692",
          "pattern": {
           "shape": ""
          }
         },
         "name": "BA.2.X",
         "offsetgroup": "BA.2.X",
         "orientation": "v",
         "showlegend": false,
         "text": [
          "BA.2.X",
          "BA.2.X",
          "BA.2.X",
          "BA.2.X",
          "BA.2.X",
          "BA.2.X",
          "BA.2.X",
          "BA.2.X",
          "BA.2.X",
          "BA.2.X",
          "BA.2.X",
          "BA.2.X",
          "BA.2.X",
          "BA.2.X",
          "BA.2.X",
          "BA.2.X",
          "BA.2.X",
          "BA.2.X",
          "BA.2.X",
          "BA.2.X",
          "BA.2.X",
          "BA.2.X",
          "BA.2.X",
          "BA.2.X"
         ],
         "textposition": "auto",
         "type": "bar",
         "x": [
          "0adgio1o2o3o4o5",
          "0agio1o2",
          "0aio1o2o3o4o5",
          "0o5o3o4",
          "adgio1o2o3",
          "agio3o4o5",
          "o1-2",
          "o1o2",
          "o1o2o3o4o5",
          "o2-2",
          "o2-3",
          "o2o3o4o5",
          "o2o3o4o5-2",
          "o2o3o4o5-3",
          "o3",
          "o3-2",
          "o3-3",
          "o3-4",
          "o4",
          "o4-2",
          "o4-3",
          "o5",
          "o5-2",
          "o5-3"
         ],
         "xaxis": "x7",
         "y": [
          1,
          1,
          1,
          -1,
          1,
          -1,
          -1,
          1,
          1,
          1,
          1,
          1,
          1,
          1,
          -1,
          -1,
          -1,
          -1,
          -1,
          -1,
          -1,
          -1,
          -1,
          -1
         ],
         "yaxis": "y7"
        },
        {
         "alignmentgroup": "True",
         "hovertemplate": "Lineages=%{text}<br>scheme=kallisto (C-WAP)<br>Sample=%{x}<br>Abundances=%{y}<extra></extra>",
         "legendgroup": "BA.2.X",
         "marker": {
          "color": "#FF6692",
          "pattern": {
           "shape": ""
          }
         },
         "name": "BA.2.X",
         "offsetgroup": "BA.2.X",
         "orientation": "v",
         "showlegend": false,
         "text": [
          "BA.2.X",
          "BA.2.X",
          "BA.2.X",
          "BA.2.X",
          "BA.2.X",
          "BA.2.X",
          "BA.2.X",
          "BA.2.X",
          "BA.2.X",
          "BA.2.X",
          "BA.2.X",
          "BA.2.X",
          "BA.2.X",
          "BA.2.X",
          "BA.2.X",
          "BA.2.X",
          "BA.2.X",
          "BA.2.X",
          "BA.2.X",
          "BA.2.X",
          "BA.2.X",
          "BA.2.X",
          "BA.2.X",
          "BA.2.X",
          "BA.2.X",
          "BA.2.X",
          "BA.2.X",
          "BA.2.X"
         ],
         "textposition": "auto",
         "type": "bar",
         "x": [
          "0adgio1",
          "0adgio1-2",
          "0adgio1o2o3o4o5",
          "0agio1o2",
          "0aio1o2o3o4o5",
          "0o5o3o4",
          "adgio1o2o3",
          "agio3o4o5",
          "d",
          "d-2",
          "o1-2",
          "o1o2",
          "o1o2o3o4o5",
          "o2-2",
          "o2-3",
          "o2o3o4o5",
          "o2o3o4o5-2",
          "o2o3o4o5-3",
          "o3",
          "o3-2",
          "o3-3",
          "o3-4",
          "o4",
          "o4-2",
          "o4-3",
          "o5",
          "o5-2",
          "o5-3"
         ],
         "xaxis": "x6",
         "y": [
          -1,
          -1,
          1,
          1,
          1,
          -1,
          1,
          -1,
          -1,
          -1,
          -1,
          1,
          1,
          1,
          1,
          1,
          1,
          1,
          -1,
          -1,
          -1,
          -1,
          -1,
          -1,
          -1,
          -1,
          -1,
          -1
         ],
         "yaxis": "y6"
        },
        {
         "alignmentgroup": "True",
         "hovertemplate": "Lineages=%{text}<br>scheme=Kraken 2 (C-WAP)<br>Sample=%{x}<br>Abundances=%{y}<extra></extra>",
         "legendgroup": "BA.2.X",
         "marker": {
          "color": "#FF6692",
          "pattern": {
           "shape": ""
          }
         },
         "name": "BA.2.X",
         "offsetgroup": "BA.2.X",
         "orientation": "v",
         "showlegend": false,
         "text": [
          "BA.2.X",
          "BA.2.X",
          "BA.2.X",
          "BA.2.X",
          "BA.2.X",
          "BA.2.X",
          "BA.2.X",
          "BA.2.X",
          "BA.2.X",
          "BA.2.X",
          "BA.2.X",
          "BA.2.X",
          "BA.2.X",
          "BA.2.X",
          "BA.2.X",
          "BA.2.X",
          "BA.2.X",
          "BA.2.X",
          "BA.2.X",
          "BA.2.X",
          "BA.2.X",
          "BA.2.X",
          "BA.2.X",
          "BA.2.X",
          "BA.2.X",
          "BA.2.X",
          "BA.2.X",
          "BA.2.X",
          "BA.2.X",
          "BA.2.X",
          "BA.2.X",
          "BA.2.X",
          "BA.2.X",
          "BA.2.X",
          "BA.2.X",
          "BA.2.X",
          "BA.2.X",
          "BA.2.X"
         ],
         "textposition": "auto",
         "type": "bar",
         "x": [
          "0",
          "0-2",
          "0-3",
          "0-4",
          "0adgio1",
          "0adgio1-2",
          "0adgio1o2o3o4o5",
          "0agio1o2",
          "0aio1o2o3o4o5",
          "0o5o3o4",
          "a",
          "a-2",
          "adgio1o2o3",
          "agio3o4o5",
          "d",
          "d-2",
          "g",
          "g-2",
          "i",
          "i-2",
          "o1-2",
          "o1o2",
          "o1o2o3o4o5",
          "o2-2",
          "o2-3",
          "o2o3o4o5",
          "o2o3o4o5-2",
          "o2o3o4o5-3",
          "o3",
          "o3-2",
          "o3-3",
          "o3-4",
          "o4",
          "o4-2",
          "o4-3",
          "o5",
          "o5-2",
          "o5-3"
         ],
         "xaxis": "x5",
         "y": [
          -1,
          -1,
          -1,
          -1,
          -1,
          -1,
          1,
          1,
          1,
          -1,
          -1,
          -1,
          1,
          -1,
          -1,
          -1,
          -1,
          -1,
          -1,
          -1,
          -1,
          1,
          1,
          1,
          1,
          1,
          1,
          1,
          -1,
          -1,
          -1,
          -1,
          -1,
          -1,
          -1,
          -1,
          -1,
          -1
         ],
         "yaxis": "y5"
        },
        {
         "alignmentgroup": "True",
         "hovertemplate": "Lineages=%{text}<br>scheme=LCS<br>Sample=%{x}<br>Abundances=%{y}<extra></extra>",
         "legendgroup": "BA.2.X",
         "marker": {
          "color": "#FF6692",
          "pattern": {
           "shape": ""
          }
         },
         "name": "BA.2.X",
         "offsetgroup": "BA.2.X",
         "orientation": "v",
         "showlegend": false,
         "text": [
          "BA.2.X",
          "BA.2.X",
          "BA.2.X",
          "BA.2.X",
          "BA.2.X",
          "BA.2.X",
          "BA.2.X",
          "BA.2.X",
          "BA.2.X"
         ],
         "textposition": "auto",
         "type": "bar",
         "x": [
          "0agio1o2",
          "adgio1o2o3",
          "o1o2",
          "o1o2o3o4o5",
          "o2-2",
          "o2-3",
          "o2o3o4o5",
          "o2o3o4o5-2",
          "o2o3o4o5-3"
         ],
         "xaxis": "x4",
         "y": [
          1,
          1,
          1,
          1,
          1,
          1,
          1,
          1,
          1
         ],
         "yaxis": "y4"
        },
        {
         "alignmentgroup": "True",
         "hovertemplate": "Lineages=%{text}<br>scheme=LolliPop<br>Sample=%{x}<br>Abundances=%{y}<extra></extra>",
         "legendgroup": "BA.2.X",
         "marker": {
          "color": "#FF6692",
          "pattern": {
           "shape": ""
          }
         },
         "name": "BA.2.X",
         "offsetgroup": "BA.2.X",
         "orientation": "v",
         "showlegend": false,
         "text": [
          "BA.2.X",
          "BA.2.X",
          "BA.2.X",
          "BA.2.X",
          "BA.2.X",
          "BA.2.X",
          "BA.2.X",
          "BA.2.X",
          "BA.2.X",
          "BA.2.X",
          "BA.2.X",
          "BA.2.X",
          "BA.2.X",
          "BA.2.X",
          "BA.2.X",
          "BA.2.X",
          "BA.2.X",
          "BA.2.X",
          "BA.2.X",
          "BA.2.X",
          "BA.2.X",
          "BA.2.X",
          "BA.2.X",
          "BA.2.X",
          "BA.2.X",
          "BA.2.X",
          "BA.2.X",
          "BA.2.X",
          "BA.2.X",
          "BA.2.X",
          "BA.2.X",
          "BA.2.X",
          "BA.2.X",
          "BA.2.X"
         ],
         "textposition": "auto",
         "type": "bar",
         "x": [
          "0",
          "0-2",
          "0-3",
          "0-4",
          "0adgio1",
          "0adgio1-2",
          "0adgio1o2o3o4o5",
          "0agio1o2",
          "0aio1o2o3o4o5",
          "0o5o3o4",
          "a",
          "a-2",
          "adgio1o2o3",
          "agio3o4o5",
          "i",
          "i-2",
          "o1-2",
          "o1o2",
          "o1o2o3o4o5",
          "o2-2",
          "o2-3",
          "o2o3o4o5",
          "o2o3o4o5-2",
          "o2o3o4o5-3",
          "o3",
          "o3-2",
          "o3-3",
          "o3-4",
          "o4",
          "o4-2",
          "o4-3",
          "o5",
          "o5-2",
          "o5-3"
         ],
         "xaxis": "x2",
         "y": [
          -1,
          -1,
          -1,
          -1,
          -1,
          -1,
          1,
          1,
          1,
          -1,
          -1,
          -1,
          1,
          -1,
          -1,
          -1,
          -1,
          1,
          1,
          1,
          1,
          1,
          1,
          1,
          -1,
          -1,
          -1,
          -1,
          -1,
          -1,
          -1,
          -1,
          -1,
          -1
         ],
         "yaxis": "y2"
        },
        {
         "alignmentgroup": "True",
         "hovertemplate": "Lineages=%{text}<br>scheme=VaQuERo<br>Sample=%{x}<br>Abundances=%{y}<extra></extra>",
         "legendgroup": "BA.2.X",
         "marker": {
          "color": "#FF6692",
          "pattern": {
           "shape": ""
          }
         },
         "name": "BA.2.X",
         "offsetgroup": "BA.2.X",
         "orientation": "v",
         "showlegend": false,
         "text": [
          "BA.2.X",
          "BA.2.X",
          "BA.2.X",
          "BA.2.X",
          "BA.2.X",
          "BA.2.X",
          "BA.2.X",
          "BA.2.X",
          "BA.2.X",
          "BA.2.X",
          "BA.2.X",
          "BA.2.X"
         ],
         "textposition": "auto",
         "type": "bar",
         "x": [
          "0adgio1o2o3o4o5",
          "0agio1o2",
          "0aio1o2o3o4o5",
          "adgio1o2o3",
          "o1o2",
          "o1o2o3o4o5",
          "o2-2",
          "o2-3",
          "o2o3o4o5",
          "o2o3o4o5-2",
          "o2o3o4o5-3",
          "o3-4"
         ],
         "xaxis": "x",
         "y": [
          1,
          1,
          1,
          1,
          1,
          1,
          1,
          1,
          1,
          1,
          1,
          -1
         ],
         "yaxis": "y"
        },
        {
         "alignmentgroup": "True",
         "hovertemplate": "Lineages=%{text}<br>scheme=Alcov<br>Sample=%{x}<br>Abundances=%{y}<extra></extra>",
         "legendgroup": "Omicron",
         "marker": {
          "color": "#B6E880",
          "pattern": {
           "shape": ""
          }
         },
         "name": "Omicron",
         "offsetgroup": "Omicron",
         "orientation": "v",
         "showlegend": true,
         "text": [
          "Omicron",
          "Omicron",
          "Omicron",
          "Omicron",
          "Omicron",
          "Omicron",
          "Omicron",
          "Omicron",
          "Omicron",
          "Omicron",
          "Omicron",
          "Omicron"
         ],
         "textposition": "auto",
         "type": "bar",
         "x": [
          "0adgio1o2o3o4o5",
          "0agio1o2",
          "0aio1o2o3o4o5",
          "0o5o3o4",
          "adgio1o2o3",
          "agio3o4o5",
          "o1-2",
          "o1o2",
          "o1o2o3o4o5",
          "o2o3o4o5",
          "o2o3o4o5-2",
          "o5-3"
         ],
         "xaxis": "x9",
         "y": [
          -1,
          -1,
          -1,
          -1,
          -1,
          -1,
          -1,
          -1,
          -1,
          -1,
          -1,
          -1
         ],
         "yaxis": "y9"
        },
        {
         "alignmentgroup": "True",
         "hovertemplate": "Lineages=%{text}<br>scheme=Freyja<br>Sample=%{x}<br>Abundances=%{y}<extra></extra>",
         "legendgroup": "Omicron",
         "marker": {
          "color": "#B6E880",
          "pattern": {
           "shape": ""
          }
         },
         "name": "Omicron",
         "offsetgroup": "Omicron",
         "orientation": "v",
         "showlegend": false,
         "text": [
          "Omicron",
          "Omicron",
          "Omicron",
          "Omicron",
          "Omicron",
          "Omicron",
          "Omicron",
          "Omicron"
         ],
         "textposition": "auto",
         "type": "bar",
         "x": [
          "0adgio1",
          "0adgio1-2",
          "0adgio1o2o3o4o5",
          "0agio1o2",
          "0aio1o2o3o4o5",
          "adgio1o2o3",
          "o1o2",
          "o1o2o3o4o5"
         ],
         "xaxis": "x8",
         "y": [
          -1,
          -1,
          -1,
          -1,
          -1,
          -1,
          -1,
          -1
         ],
         "yaxis": "y8"
        },
        {
         "alignmentgroup": "True",
         "hovertemplate": "Lineages=%{text}<br>scheme=kallisto<br>Sample=%{x}<br>Abundances=%{y}<extra></extra>",
         "legendgroup": "Omicron",
         "marker": {
          "color": "#B6E880",
          "pattern": {
           "shape": ""
          }
         },
         "name": "Omicron",
         "offsetgroup": "Omicron",
         "orientation": "v",
         "showlegend": false,
         "text": [
          "Omicron",
          "Omicron",
          "Omicron",
          "Omicron",
          "Omicron",
          "Omicron",
          "Omicron",
          "Omicron",
          "Omicron",
          "Omicron",
          "Omicron",
          "Omicron",
          "Omicron",
          "Omicron",
          "Omicron",
          "Omicron",
          "Omicron",
          "Omicron",
          "Omicron",
          "Omicron",
          "Omicron",
          "Omicron",
          "Omicron",
          "Omicron",
          "Omicron",
          "Omicron",
          "Omicron",
          "Omicron",
          "Omicron",
          "Omicron",
          "Omicron",
          "Omicron",
          "Omicron"
         ],
         "textposition": "auto",
         "type": "bar",
         "x": [
          "0",
          "0-2",
          "0-3",
          "0-4",
          "0adgio1",
          "0adgio1-2",
          "0adgio1o2o3o4o5",
          "0agio1o2",
          "0aio1o2o3o4o5",
          "0o5o3o4",
          "adgio1o2o3",
          "agio3o4o5",
          "g-2",
          "i",
          "i-2",
          "o1-2",
          "o1o2",
          "o1o2o3o4o5",
          "o2-2",
          "o2-3",
          "o2o3o4o5",
          "o2o3o4o5-2",
          "o2o3o4o5-3",
          "o3",
          "o3-2",
          "o3-3",
          "o3-4",
          "o4",
          "o4-2",
          "o4-3",
          "o5",
          "o5-2",
          "o5-3"
         ],
         "xaxis": "x7",
         "y": [
          -1,
          -1,
          -1,
          -1,
          -1,
          -1,
          -1,
          -1,
          -1,
          -1,
          -1,
          -1,
          -1,
          -1,
          -1,
          -1,
          -1,
          -1,
          -1,
          -1,
          -1,
          -1,
          -1,
          -1,
          -1,
          -1,
          -1,
          -1,
          -1,
          -1,
          -1,
          -1,
          -1
         ],
         "yaxis": "y7"
        },
        {
         "alignmentgroup": "True",
         "hovertemplate": "Lineages=%{text}<br>scheme=kallisto (C-WAP)<br>Sample=%{x}<br>Abundances=%{y}<extra></extra>",
         "legendgroup": "Omicron",
         "marker": {
          "color": "#B6E880",
          "pattern": {
           "shape": ""
          }
         },
         "name": "Omicron",
         "offsetgroup": "Omicron",
         "orientation": "v",
         "showlegend": false,
         "text": [
          "Omicron",
          "Omicron",
          "Omicron",
          "Omicron",
          "Omicron",
          "Omicron",
          "Omicron",
          "Omicron",
          "Omicron",
          "Omicron",
          "Omicron",
          "Omicron",
          "Omicron",
          "Omicron",
          "Omicron",
          "Omicron",
          "Omicron",
          "Omicron",
          "Omicron",
          "Omicron",
          "Omicron",
          "Omicron",
          "Omicron",
          "Omicron",
          "Omicron",
          "Omicron",
          "Omicron",
          "Omicron",
          "Omicron",
          "Omicron",
          "Omicron",
          "Omicron",
          "Omicron",
          "Omicron"
         ],
         "textposition": "auto",
         "type": "bar",
         "x": [
          "0adgio1",
          "0adgio1-2",
          "0adgio1o2o3o4o5",
          "0agio1o2",
          "0aio1o2o3o4o5",
          "0o5o3o4",
          "a",
          "a-2",
          "adgio1o2o3",
          "agio3o4o5",
          "d",
          "d-2",
          "g",
          "g-2",
          "i",
          "i-2",
          "o1-2",
          "o1o2",
          "o1o2o3o4o5",
          "o2-2",
          "o2-3",
          "o2o3o4o5",
          "o2o3o4o5-2",
          "o2o3o4o5-3",
          "o3",
          "o3-2",
          "o3-3",
          "o3-4",
          "o4",
          "o4-2",
          "o4-3",
          "o5",
          "o5-2",
          "o5-3"
         ],
         "xaxis": "x6",
         "y": [
          -1,
          -1,
          -1,
          -1,
          -1,
          -1,
          -1,
          -1,
          -1,
          -1,
          -1,
          -1,
          -1,
          -1,
          -1,
          -1,
          -1,
          -1,
          -1,
          -1,
          -1,
          -1,
          -1,
          -1,
          -1,
          -1,
          -1,
          -1,
          -1,
          -1,
          -1,
          -1,
          -1,
          -1
         ],
         "yaxis": "y6"
        },
        {
         "alignmentgroup": "True",
         "hovertemplate": "Lineages=%{text}<br>scheme=Kraken 2 (C-WAP)<br>Sample=%{x}<br>Abundances=%{y}<extra></extra>",
         "legendgroup": "Omicron",
         "marker": {
          "color": "#B6E880",
          "pattern": {
           "shape": ""
          }
         },
         "name": "Omicron",
         "offsetgroup": "Omicron",
         "orientation": "v",
         "showlegend": false,
         "text": [
          "Omicron",
          "Omicron",
          "Omicron",
          "Omicron",
          "Omicron",
          "Omicron",
          "Omicron",
          "Omicron",
          "Omicron"
         ],
         "textposition": "auto",
         "type": "bar",
         "x": [
          "0adgio1",
          "0adgio1-2",
          "0adgio1o2o3o4o5",
          "0agio1o2",
          "0aio1o2o3o4o5",
          "adgio1o2o3",
          "agio3o4o5",
          "i",
          "i-2"
         ],
         "xaxis": "x5",
         "y": [
          -1,
          -1,
          -1,
          -1,
          -1,
          -1,
          -1,
          -1,
          -1
         ],
         "yaxis": "y5"
        },
        {
         "alignmentgroup": "True",
         "hovertemplate": "Lineages=%{text}<br>scheme=LCS<br>Sample=%{x}<br>Abundances=%{y}<extra></extra>",
         "legendgroup": "Omicron",
         "marker": {
          "color": "#B6E880",
          "pattern": {
           "shape": ""
          }
         },
         "name": "Omicron",
         "offsetgroup": "Omicron",
         "orientation": "v",
         "showlegend": false,
         "text": [
          "Omicron",
          "Omicron",
          "Omicron",
          "Omicron",
          "Omicron",
          "Omicron"
         ],
         "textposition": "auto",
         "type": "bar",
         "x": [
          "0agio1o2",
          "0aio1o2o3o4o5",
          "adgio1o2o3",
          "o1-2",
          "o1o2",
          "o1o2o3o4o5"
         ],
         "xaxis": "x4",
         "y": [
          -1,
          -1,
          -1,
          -1,
          -1,
          -1
         ],
         "yaxis": "y4"
        },
        {
         "alignmentgroup": "True",
         "hovertemplate": "Lineages=%{text}<br>scheme=LolliPop<br>Sample=%{x}<br>Abundances=%{y}<extra></extra>",
         "legendgroup": "Omicron",
         "marker": {
          "color": "#B6E880",
          "pattern": {
           "shape": ""
          }
         },
         "name": "Omicron",
         "offsetgroup": "Omicron",
         "orientation": "v",
         "showlegend": false,
         "text": [
          "Omicron",
          "Omicron",
          "Omicron",
          "Omicron",
          "Omicron",
          "Omicron",
          "Omicron",
          "Omicron",
          "Omicron",
          "Omicron",
          "Omicron",
          "Omicron",
          "Omicron",
          "Omicron",
          "Omicron",
          "Omicron",
          "Omicron",
          "Omicron",
          "Omicron",
          "Omicron",
          "Omicron",
          "Omicron",
          "Omicron",
          "Omicron",
          "Omicron",
          "Omicron",
          "Omicron",
          "Omicron",
          "Omicron",
          "Omicron"
         ],
         "textposition": "auto",
         "type": "bar",
         "x": [
          "0",
          "0-2",
          "0-3",
          "0-4",
          "0adgio1",
          "0adgio1-2",
          "0adgio1o2o3o4o5",
          "0agio1o2",
          "0aio1o2o3o4o5",
          "0o5o3o4",
          "adgio1o2o3",
          "agio3o4o5",
          "i",
          "i-2",
          "o1-2",
          "o1o2",
          "o1o2o3o4o5",
          "o2-2",
          "o2-3",
          "o2o3o4o5",
          "o2o3o4o5-2",
          "o2o3o4o5-3",
          "o3",
          "o3-2",
          "o3-3",
          "o3-4",
          "o4",
          "o4-2",
          "o4-3",
          "o5-3"
         ],
         "xaxis": "x2",
         "y": [
          -1,
          -1,
          -1,
          -1,
          -1,
          -1,
          -1,
          -1,
          -1,
          -1,
          -1,
          -1,
          -1,
          -1,
          -1,
          -1,
          -1,
          -1,
          -1,
          -1,
          -1,
          -1,
          -1,
          -1,
          -1,
          -1,
          -1,
          -1,
          -1,
          -1
         ],
         "yaxis": "y2"
        },
        {
         "alignmentgroup": "True",
         "hovertemplate": "Lineages=%{text}<br>scheme=Alcov<br>Sample=%{x}<br>Abundances=%{y}<extra></extra>",
         "legendgroup": "BG.X",
         "marker": {
          "color": "#FF97FF",
          "pattern": {
           "shape": ""
          }
         },
         "name": "BG.X",
         "offsetgroup": "BG.X",
         "orientation": "v",
         "showlegend": true,
         "text": [
          "BG.X",
          "BG.X",
          "BG.X",
          "BG.X",
          "BG.X",
          "BG.X",
          "BG.X",
          "BG.X",
          "BG.X",
          "BG.X",
          "BG.X",
          "BG.X",
          "BG.X"
         ],
         "textposition": "auto",
         "type": "bar",
         "x": [
          "0adgio1o2o3o4o5",
          "0aio1o2o3o4o5",
          "0o5o3o4",
          "adgio1o2o3",
          "agio3o4o5",
          "o1o2o3o4o5",
          "o2o3o4o5",
          "o2o3o4o5-2",
          "o2o3o4o5-3",
          "o3",
          "o3-2",
          "o3-3",
          "o3-4"
         ],
         "xaxis": "x9",
         "y": [
          1,
          1,
          1,
          1,
          1,
          1,
          1,
          1,
          1,
          1,
          1,
          1,
          1
         ],
         "yaxis": "y9"
        },
        {
         "alignmentgroup": "True",
         "hovertemplate": "Lineages=%{text}<br>scheme=Freyja<br>Sample=%{x}<br>Abundances=%{y}<extra></extra>",
         "legendgroup": "BG.X",
         "marker": {
          "color": "#FF97FF",
          "pattern": {
           "shape": ""
          }
         },
         "name": "BG.X",
         "offsetgroup": "BG.X",
         "orientation": "v",
         "showlegend": false,
         "text": [
          "BG.X",
          "BG.X",
          "BG.X",
          "BG.X",
          "BG.X",
          "BG.X",
          "BG.X",
          "BG.X",
          "BG.X",
          "BG.X",
          "BG.X",
          "BG.X",
          "BG.X"
         ],
         "textposition": "auto",
         "type": "bar",
         "x": [
          "0adgio1o2o3o4o5",
          "0aio1o2o3o4o5",
          "0o5o3o4",
          "adgio1o2o3",
          "agio3o4o5",
          "o1o2o3o4o5",
          "o2o3o4o5",
          "o2o3o4o5-2",
          "o2o3o4o5-3",
          "o3",
          "o3-2",
          "o3-3",
          "o3-4"
         ],
         "xaxis": "x8",
         "y": [
          1,
          1,
          1,
          1,
          1,
          1,
          1,
          1,
          1,
          1,
          1,
          1,
          1
         ],
         "yaxis": "y8"
        },
        {
         "alignmentgroup": "True",
         "hovertemplate": "Lineages=%{text}<br>scheme=kallisto<br>Sample=%{x}<br>Abundances=%{y}<extra></extra>",
         "legendgroup": "BG.X",
         "marker": {
          "color": "#FF97FF",
          "pattern": {
           "shape": ""
          }
         },
         "name": "BG.X",
         "offsetgroup": "BG.X",
         "orientation": "v",
         "showlegend": false,
         "text": [
          "BG.X",
          "BG.X",
          "BG.X",
          "BG.X",
          "BG.X",
          "BG.X",
          "BG.X",
          "BG.X",
          "BG.X",
          "BG.X",
          "BG.X",
          "BG.X",
          "BG.X",
          "BG.X",
          "BG.X",
          "BG.X"
         ],
         "textposition": "auto",
         "type": "bar",
         "x": [
          "0adgio1o2o3o4o5",
          "0aio1o2o3o4o5",
          "0o5o3o4",
          "adgio1o2o3",
          "agio3o4o5",
          "o1o2",
          "o1o2o3o4o5",
          "o2-2",
          "o2-3",
          "o2o3o4o5",
          "o2o3o4o5-2",
          "o2o3o4o5-3",
          "o3",
          "o3-2",
          "o3-3",
          "o3-4"
         ],
         "xaxis": "x7",
         "y": [
          1,
          1,
          1,
          1,
          1,
          -1,
          1,
          -1,
          -1,
          1,
          1,
          1,
          1,
          1,
          1,
          1
         ],
         "yaxis": "y7"
        },
        {
         "alignmentgroup": "True",
         "hovertemplate": "Lineages=%{text}<br>scheme=LCS<br>Sample=%{x}<br>Abundances=%{y}<extra></extra>",
         "legendgroup": "BG.X",
         "marker": {
          "color": "#FF97FF",
          "pattern": {
           "shape": ""
          }
         },
         "name": "BG.X",
         "offsetgroup": "BG.X",
         "orientation": "v",
         "showlegend": false,
         "text": [
          "BG.X",
          "BG.X",
          "BG.X",
          "BG.X",
          "BG.X",
          "BG.X",
          "BG.X",
          "BG.X",
          "BG.X",
          "BG.X",
          "BG.X",
          "BG.X",
          "BG.X"
         ],
         "textposition": "auto",
         "type": "bar",
         "x": [
          "0adgio1o2o3o4o5",
          "0aio1o2o3o4o5",
          "0o5o3o4",
          "adgio1o2o3",
          "agio3o4o5",
          "o1o2o3o4o5",
          "o2o3o4o5",
          "o2o3o4o5-2",
          "o2o3o4o5-3",
          "o3",
          "o3-2",
          "o3-3",
          "o3-4"
         ],
         "xaxis": "x4",
         "y": [
          1,
          1,
          1,
          1,
          1,
          1,
          1,
          1,
          1,
          1,
          1,
          1,
          1
         ],
         "yaxis": "y4"
        },
        {
         "alignmentgroup": "True",
         "hovertemplate": "Lineages=%{text}<br>scheme=VaQuERo<br>Sample=%{x}<br>Abundances=%{y}<extra></extra>",
         "legendgroup": "BG.X",
         "marker": {
          "color": "#FF97FF",
          "pattern": {
           "shape": ""
          }
         },
         "name": "BG.X",
         "offsetgroup": "BG.X",
         "orientation": "v",
         "showlegend": false,
         "text": [
          "BG.X",
          "BG.X",
          "BG.X",
          "BG.X",
          "BG.X",
          "BG.X",
          "BG.X",
          "BG.X",
          "BG.X",
          "BG.X",
          "BG.X",
          "BG.X",
          "BG.X"
         ],
         "textposition": "auto",
         "type": "bar",
         "x": [
          "0adgio1o2o3o4o5",
          "0aio1o2o3o4o5",
          "0o5o3o4",
          "adgio1o2o3",
          "agio3o4o5",
          "o1o2o3o4o5",
          "o2o3o4o5",
          "o2o3o4o5-2",
          "o2o3o4o5-3",
          "o3",
          "o3-2",
          "o3-3",
          "o3-4"
         ],
         "xaxis": "x",
         "y": [
          1,
          1,
          1,
          1,
          1,
          1,
          1,
          1,
          1,
          1,
          1,
          1,
          1
         ],
         "yaxis": "y"
        },
        {
         "alignmentgroup": "True",
         "hovertemplate": "Lineages=%{text}<br>scheme=Alcov<br>Sample=%{x}<br>Abundances=%{y}<extra></extra>",
         "legendgroup": "BA.5.X",
         "marker": {
          "color": "#FECB52",
          "pattern": {
           "shape": ""
          }
         },
         "name": "BA.5.X",
         "offsetgroup": "BA.5.X",
         "orientation": "v",
         "showlegend": true,
         "text": [
          "BA.5.X",
          "BA.5.X",
          "BA.5.X",
          "BA.5.X",
          "BA.5.X",
          "BA.5.X",
          "BA.5.X",
          "BA.5.X",
          "BA.5.X",
          "BA.5.X",
          "BA.5.X",
          "BA.5.X",
          "BA.5.X",
          "BA.5.X"
         ],
         "textposition": "auto",
         "type": "bar",
         "x": [
          "0adgio1o2o3o4o5",
          "0aio1o2o3o4o5",
          "0o5o3o4",
          "agio3o4o5",
          "o1o2o3o4o5",
          "o2o3o4o5",
          "o2o3o4o5-2",
          "o2o3o4o5-3",
          "o4",
          "o4-2",
          "o4-3",
          "o5",
          "o5-2",
          "o5-3"
         ],
         "xaxis": "x9",
         "y": [
          1,
          1,
          1,
          1,
          1,
          1,
          1,
          1,
          -1,
          -1,
          -1,
          1,
          1,
          1
         ],
         "yaxis": "y9"
        },
        {
         "alignmentgroup": "True",
         "hovertemplate": "Lineages=%{text}<br>scheme=Freyja<br>Sample=%{x}<br>Abundances=%{y}<extra></extra>",
         "legendgroup": "BA.5.X",
         "marker": {
          "color": "#FECB52",
          "pattern": {
           "shape": ""
          }
         },
         "name": "BA.5.X",
         "offsetgroup": "BA.5.X",
         "orientation": "v",
         "showlegend": false,
         "text": [
          "BA.5.X",
          "BA.5.X",
          "BA.5.X",
          "BA.5.X",
          "BA.5.X",
          "BA.5.X",
          "BA.5.X",
          "BA.5.X",
          "BA.5.X",
          "BA.5.X",
          "BA.5.X"
         ],
         "textposition": "auto",
         "type": "bar",
         "x": [
          "0adgio1o2o3o4o5",
          "0aio1o2o3o4o5",
          "0o5o3o4",
          "agio3o4o5",
          "o1o2o3o4o5",
          "o2o3o4o5",
          "o2o3o4o5-2",
          "o2o3o4o5-3",
          "o5",
          "o5-2",
          "o5-3"
         ],
         "xaxis": "x8",
         "y": [
          1,
          1,
          1,
          1,
          1,
          1,
          1,
          1,
          1,
          1,
          1
         ],
         "yaxis": "y8"
        },
        {
         "alignmentgroup": "True",
         "hovertemplate": "Lineages=%{text}<br>scheme=kallisto<br>Sample=%{x}<br>Abundances=%{y}<extra></extra>",
         "legendgroup": "BA.5.X",
         "marker": {
          "color": "#FECB52",
          "pattern": {
           "shape": ""
          }
         },
         "name": "BA.5.X",
         "offsetgroup": "BA.5.X",
         "orientation": "v",
         "showlegend": false,
         "text": [
          "BA.5.X",
          "BA.5.X",
          "BA.5.X",
          "BA.5.X",
          "BA.5.X",
          "BA.5.X",
          "BA.5.X",
          "BA.5.X",
          "BA.5.X",
          "BA.5.X",
          "BA.5.X",
          "BA.5.X",
          "BA.5.X",
          "BA.5.X",
          "BA.5.X",
          "BA.5.X",
          "BA.5.X",
          "BA.5.X",
          "BA.5.X",
          "BA.5.X",
          "BA.5.X",
          "BA.5.X",
          "BA.5.X",
          "BA.5.X",
          "BA.5.X",
          "BA.5.X",
          "BA.5.X",
          "BA.5.X",
          "BA.5.X",
          "BA.5.X",
          "BA.5.X",
          "BA.5.X",
          "BA.5.X",
          "BA.5.X",
          "BA.5.X"
         ],
         "textposition": "auto",
         "type": "bar",
         "x": [
          "0",
          "0-2",
          "0-3",
          "0-4",
          "0adgio1",
          "0adgio1-2",
          "0adgio1o2o3o4o5",
          "0agio1o2",
          "0aio1o2o3o4o5",
          "0o5o3o4",
          "a",
          "a-2",
          "adgio1o2o3",
          "agio3o4o5",
          "g",
          "i",
          "i-2",
          "o1-2",
          "o1o2",
          "o1o2o3o4o5",
          "o2-2",
          "o2-3",
          "o2o3o4o5",
          "o2o3o4o5-2",
          "o2o3o4o5-3",
          "o3",
          "o3-2",
          "o3-3",
          "o3-4",
          "o4",
          "o4-2",
          "o4-3",
          "o5",
          "o5-2",
          "o5-3"
         ],
         "xaxis": "x7",
         "y": [
          -1,
          -1,
          -1,
          -1,
          -1,
          -1,
          1,
          -1,
          1,
          1,
          -1,
          -1,
          -1,
          1,
          -1,
          -1,
          -1,
          -1,
          -1,
          1,
          -1,
          -1,
          1,
          1,
          1,
          -1,
          -1,
          -1,
          -1,
          -1,
          -1,
          -1,
          1,
          1,
          1
         ],
         "yaxis": "y7"
        },
        {
         "alignmentgroup": "True",
         "hovertemplate": "Lineages=%{text}<br>scheme=kallisto (C-WAP)<br>Sample=%{x}<br>Abundances=%{y}<extra></extra>",
         "legendgroup": "BA.5.X",
         "marker": {
          "color": "#FECB52",
          "pattern": {
           "shape": ""
          }
         },
         "name": "BA.5.X",
         "offsetgroup": "BA.5.X",
         "orientation": "v",
         "showlegend": false,
         "text": [
          "BA.5.X",
          "BA.5.X",
          "BA.5.X",
          "BA.5.X",
          "BA.5.X",
          "BA.5.X",
          "BA.5.X",
          "BA.5.X",
          "BA.5.X",
          "BA.5.X",
          "BA.5.X",
          "BA.5.X",
          "BA.5.X",
          "BA.5.X",
          "BA.5.X",
          "BA.5.X",
          "BA.5.X",
          "BA.5.X",
          "BA.5.X",
          "BA.5.X",
          "BA.5.X",
          "BA.5.X",
          "BA.5.X",
          "BA.5.X",
          "BA.5.X",
          "BA.5.X",
          "BA.5.X",
          "BA.5.X",
          "BA.5.X",
          "BA.5.X",
          "BA.5.X",
          "BA.5.X"
         ],
         "textposition": "auto",
         "type": "bar",
         "x": [
          "0adgio1",
          "0adgio1-2",
          "0adgio1o2o3o4o5",
          "0agio1o2",
          "0aio1o2o3o4o5",
          "0o5o3o4",
          "a",
          "a-2",
          "adgio1o2o3",
          "agio3o4o5",
          "g",
          "g-2",
          "i",
          "i-2",
          "o1-2",
          "o1o2",
          "o1o2o3o4o5",
          "o2-2",
          "o2-3",
          "o2o3o4o5",
          "o2o3o4o5-2",
          "o2o3o4o5-3",
          "o3",
          "o3-2",
          "o3-3",
          "o3-4",
          "o4",
          "o4-2",
          "o4-3",
          "o5",
          "o5-2",
          "o5-3"
         ],
         "xaxis": "x6",
         "y": [
          -1,
          -1,
          1,
          -1,
          1,
          1,
          -1,
          -1,
          -1,
          1,
          -1,
          -1,
          -1,
          -1,
          -1,
          -1,
          1,
          -1,
          -1,
          1,
          1,
          1,
          -1,
          -1,
          -1,
          -1,
          -1,
          -1,
          -1,
          1,
          1,
          1
         ],
         "yaxis": "y6"
        },
        {
         "alignmentgroup": "True",
         "hovertemplate": "Lineages=%{text}<br>scheme=Kraken 2 (C-WAP)<br>Sample=%{x}<br>Abundances=%{y}<extra></extra>",
         "legendgroup": "BA.5.X",
         "marker": {
          "color": "#FECB52",
          "pattern": {
           "shape": ""
          }
         },
         "name": "BA.5.X",
         "offsetgroup": "BA.5.X",
         "orientation": "v",
         "showlegend": false,
         "text": [
          "BA.5.X",
          "BA.5.X",
          "BA.5.X",
          "BA.5.X",
          "BA.5.X",
          "BA.5.X",
          "BA.5.X",
          "BA.5.X",
          "BA.5.X",
          "BA.5.X",
          "BA.5.X",
          "BA.5.X",
          "BA.5.X",
          "BA.5.X",
          "BA.5.X",
          "BA.5.X",
          "BA.5.X",
          "BA.5.X",
          "BA.5.X",
          "BA.5.X"
         ],
         "textposition": "auto",
         "type": "bar",
         "x": [
          "0",
          "0-2",
          "0-3",
          "0-4",
          "0adgio1o2o3o4o5",
          "0o5o3o4",
          "a",
          "a-2",
          "g",
          "g-2",
          "o2-2",
          "o2-3",
          "o2o3o4o5-2",
          "o2o3o4o5-3",
          "o4",
          "o4-2",
          "o4-3",
          "o5",
          "o5-2",
          "o5-3"
         ],
         "xaxis": "x5",
         "y": [
          -1,
          -1,
          -1,
          -1,
          1,
          1,
          -1,
          -1,
          -1,
          -1,
          -1,
          -1,
          1,
          1,
          -1,
          -1,
          -1,
          1,
          1,
          1
         ],
         "yaxis": "y5"
        },
        {
         "alignmentgroup": "True",
         "hovertemplate": "Lineages=%{text}<br>scheme=LCS<br>Sample=%{x}<br>Abundances=%{y}<extra></extra>",
         "legendgroup": "BA.5.X",
         "marker": {
          "color": "#FECB52",
          "pattern": {
           "shape": ""
          }
         },
         "name": "BA.5.X",
         "offsetgroup": "BA.5.X",
         "orientation": "v",
         "showlegend": false,
         "text": [
          "BA.5.X",
          "BA.5.X",
          "BA.5.X",
          "BA.5.X",
          "BA.5.X",
          "BA.5.X",
          "BA.5.X",
          "BA.5.X",
          "BA.5.X",
          "BA.5.X",
          "BA.5.X",
          "BA.5.X",
          "BA.5.X"
         ],
         "textposition": "auto",
         "type": "bar",
         "x": [
          "0adgio1o2o3o4o5",
          "0aio1o2o3o4o5",
          "0o5o3o4",
          "agio3o4o5",
          "o1o2",
          "o1o2o3o4o5",
          "o2-2",
          "o2o3o4o5",
          "o2o3o4o5-2",
          "o2o3o4o5-3",
          "o5",
          "o5-2",
          "o5-3"
         ],
         "xaxis": "x4",
         "y": [
          1,
          1,
          1,
          1,
          -1,
          1,
          -1,
          1,
          1,
          1,
          1,
          1,
          1
         ],
         "yaxis": "y4"
        },
        {
         "alignmentgroup": "True",
         "hovertemplate": "Lineages=%{text}<br>scheme=LolliPop<br>Sample=%{x}<br>Abundances=%{y}<extra></extra>",
         "legendgroup": "BA.5.X",
         "marker": {
          "color": "#FECB52",
          "pattern": {
           "shape": ""
          }
         },
         "name": "BA.5.X",
         "offsetgroup": "BA.5.X",
         "orientation": "v",
         "showlegend": false,
         "text": [
          "BA.5.X",
          "BA.5.X",
          "BA.5.X",
          "BA.5.X",
          "BA.5.X",
          "BA.5.X",
          "BA.5.X",
          "BA.5.X",
          "BA.5.X",
          "BA.5.X",
          "BA.5.X",
          "BA.5.X",
          "BA.5.X",
          "BA.5.X",
          "BA.5.X",
          "BA.5.X",
          "BA.5.X",
          "BA.5.X",
          "BA.5.X",
          "BA.5.X",
          "BA.5.X",
          "BA.5.X",
          "BA.5.X",
          "BA.5.X",
          "BA.5.X",
          "BA.5.X",
          "BA.5.X"
         ],
         "textposition": "auto",
         "type": "bar",
         "x": [
          "0",
          "0-2",
          "0-3",
          "0-4",
          "0adgio1",
          "0adgio1-2",
          "0adgio1o2o3o4o5",
          "0agio1o2",
          "0aio1o2o3o4o5",
          "0o5o3o4",
          "a",
          "a-2",
          "agio3o4o5",
          "i",
          "i-2",
          "o1o2",
          "o1o2o3o4o5",
          "o2o3o4o5",
          "o2o3o4o5-2",
          "o2o3o4o5-3",
          "o3-3",
          "o4",
          "o4-2",
          "o4-3",
          "o5",
          "o5-2",
          "o5-3"
         ],
         "xaxis": "x2",
         "y": [
          -1,
          -1,
          -1,
          -1,
          -1,
          -1,
          1,
          -1,
          1,
          1,
          -1,
          -1,
          1,
          -1,
          -1,
          -1,
          1,
          1,
          1,
          1,
          -1,
          -1,
          -1,
          -1,
          1,
          1,
          1
         ],
         "yaxis": "y2"
        },
        {
         "alignmentgroup": "True",
         "hovertemplate": "Lineages=%{text}<br>scheme=VaQuERo<br>Sample=%{x}<br>Abundances=%{y}<extra></extra>",
         "legendgroup": "BA.5.X",
         "marker": {
          "color": "#FECB52",
          "pattern": {
           "shape": ""
          }
         },
         "name": "BA.5.X",
         "offsetgroup": "BA.5.X",
         "orientation": "v",
         "showlegend": false,
         "text": [
          "BA.5.X",
          "BA.5.X",
          "BA.5.X",
          "BA.5.X",
          "BA.5.X",
          "BA.5.X",
          "BA.5.X",
          "BA.5.X",
          "BA.5.X",
          "BA.5.X",
          "BA.5.X"
         ],
         "textposition": "auto",
         "type": "bar",
         "x": [
          "0adgio1o2o3o4o5",
          "0aio1o2o3o4o5",
          "0o5o3o4",
          "agio3o4o5",
          "o1o2o3o4o5",
          "o2o3o4o5",
          "o2o3o4o5-2",
          "o2o3o4o5-3",
          "o5",
          "o5-2",
          "o5-3"
         ],
         "xaxis": "x",
         "y": [
          1,
          1,
          1,
          1,
          1,
          1,
          1,
          1,
          1,
          1,
          1
         ],
         "yaxis": "y"
        },
        {
         "alignmentgroup": "True",
         "hovertemplate": "Lineages=%{text}<br>scheme=Freyja<br>Sample=%{x}<br>Abundances=%{y}<extra></extra>",
         "legendgroup": "Wuhan-hu-1",
         "marker": {
          "color": "#636efa",
          "pattern": {
           "shape": ""
          }
         },
         "name": "Wuhan-hu-1",
         "offsetgroup": "Wuhan-hu-1",
         "orientation": "v",
         "showlegend": true,
         "text": [
          "Wuhan-hu-1",
          "Wuhan-hu-1",
          "Wuhan-hu-1",
          "Wuhan-hu-1",
          "Wuhan-hu-1",
          "Wuhan-hu-1",
          "Wuhan-hu-1"
         ],
         "textposition": "auto",
         "type": "bar",
         "x": [
          "0",
          "0-2",
          "0-3",
          "0-4",
          "0adgio1-2",
          "0adgio1o2o3o4o5",
          "0o5o3o4"
         ],
         "xaxis": "x8",
         "y": [
          1,
          1,
          1,
          1,
          1,
          1,
          1
         ],
         "yaxis": "y8"
        },
        {
         "alignmentgroup": "True",
         "hovertemplate": "Lineages=%{text}<br>scheme=kallisto<br>Sample=%{x}<br>Abundances=%{y}<extra></extra>",
         "legendgroup": "Wuhan-hu-1",
         "marker": {
          "color": "#636efa",
          "pattern": {
           "shape": ""
          }
         },
         "name": "Wuhan-hu-1",
         "offsetgroup": "Wuhan-hu-1",
         "orientation": "v",
         "showlegend": false,
         "text": [
          "Wuhan-hu-1",
          "Wuhan-hu-1",
          "Wuhan-hu-1",
          "Wuhan-hu-1",
          "Wuhan-hu-1",
          "Wuhan-hu-1",
          "Wuhan-hu-1",
          "Wuhan-hu-1",
          "Wuhan-hu-1"
         ],
         "textposition": "auto",
         "type": "bar",
         "x": [
          "0",
          "0-2",
          "0-3",
          "0-4",
          "0adgio1",
          "0adgio1-2",
          "0adgio1o2o3o4o5",
          "0agio1o2",
          "0o5o3o4"
         ],
         "xaxis": "x7",
         "y": [
          1,
          1,
          1,
          1,
          1,
          1,
          1,
          1,
          1
         ],
         "yaxis": "y7"
        },
        {
         "alignmentgroup": "True",
         "hovertemplate": "Lineages=%{text}<br>scheme=kallisto (C-WAP)<br>Sample=%{x}<br>Abundances=%{y}<extra></extra>",
         "legendgroup": "Wuhan-hu-1",
         "marker": {
          "color": "#636efa",
          "pattern": {
           "shape": ""
          }
         },
         "name": "Wuhan-hu-1",
         "offsetgroup": "Wuhan-hu-1",
         "orientation": "v",
         "showlegend": false,
         "text": [
          "Wuhan-hu-1",
          "Wuhan-hu-1",
          "Wuhan-hu-1",
          "Wuhan-hu-1",
          "Wuhan-hu-1",
          "Wuhan-hu-1",
          "Wuhan-hu-1",
          "Wuhan-hu-1",
          "Wuhan-hu-1",
          "Wuhan-hu-1",
          "Wuhan-hu-1",
          "Wuhan-hu-1",
          "Wuhan-hu-1",
          "Wuhan-hu-1",
          "Wuhan-hu-1",
          "Wuhan-hu-1",
          "Wuhan-hu-1",
          "Wuhan-hu-1",
          "Wuhan-hu-1",
          "Wuhan-hu-1"
         ],
         "textposition": "auto",
         "type": "bar",
         "x": [
          "0",
          "0-2",
          "0-3",
          "0-4",
          "0adgio1",
          "0adgio1-2",
          "0adgio1o2o3o4o5",
          "0agio1o2",
          "0aio1o2o3o4o5",
          "0o5o3o4",
          "a",
          "a-2",
          "adgio1o2o3",
          "agio3o4o5",
          "d",
          "d-2",
          "g",
          "g-2",
          "i",
          "i-2"
         ],
         "xaxis": "x6",
         "y": [
          1,
          1,
          1,
          1,
          1,
          1,
          1,
          1,
          1,
          1,
          -1,
          -1,
          -1,
          -1,
          -1,
          -1,
          -1,
          -1,
          -1,
          -1
         ],
         "yaxis": "y6"
        },
        {
         "alignmentgroup": "True",
         "hovertemplate": "Lineages=%{text}<br>scheme=kallisto<br>Sample=%{x}<br>Abundances=%{y}<extra></extra>",
         "legendgroup": "Eta",
         "marker": {
          "color": "#EF553B",
          "pattern": {
           "shape": ""
          }
         },
         "name": "Eta",
         "offsetgroup": "Eta",
         "orientation": "v",
         "showlegend": true,
         "text": [
          "Eta",
          "Eta",
          "Eta",
          "Eta",
          "Eta",
          "Eta",
          "Eta",
          "Eta"
         ],
         "textposition": "auto",
         "type": "bar",
         "x": [
          "0",
          "0-2",
          "0-3",
          "0-4",
          "0adgio1",
          "0adgio1-2",
          "i",
          "i-2"
         ],
         "xaxis": "x7",
         "y": [
          -1,
          -1,
          -1,
          -1,
          -1,
          -1,
          -1,
          -1
         ],
         "yaxis": "y7"
        },
        {
         "alignmentgroup": "True",
         "hovertemplate": "Lineages=%{text}<br>scheme=kallisto (C-WAP)<br>Sample=%{x}<br>Abundances=%{y}<extra></extra>",
         "legendgroup": "Eta",
         "marker": {
          "color": "#EF553B",
          "pattern": {
           "shape": ""
          }
         },
         "name": "Eta",
         "offsetgroup": "Eta",
         "orientation": "v",
         "showlegend": false,
         "text": [
          "Eta",
          "Eta",
          "Eta",
          "Eta",
          "Eta",
          "Eta",
          "Eta",
          "Eta",
          "Eta",
          "Eta",
          "Eta",
          "Eta",
          "Eta",
          "Eta",
          "Eta",
          "Eta",
          "Eta",
          "Eta",
          "Eta"
         ],
         "textposition": "auto",
         "type": "bar",
         "x": [
          "0",
          "0-2",
          "0-3",
          "0-4",
          "0adgio1",
          "0adgio1-2",
          "0adgio1o2o3o4o5",
          "0agio1o2",
          "0aio1o2o3o4o5",
          "a",
          "a-2",
          "adgio1o2o3",
          "agio3o4o5",
          "d",
          "d-2",
          "g",
          "g-2",
          "i",
          "i-2"
         ],
         "xaxis": "x6",
         "y": [
          -1,
          -1,
          -1,
          -1,
          -1,
          -1,
          -1,
          -1,
          -1,
          -1,
          -1,
          -1,
          -1,
          -1,
          -1,
          -1,
          -1,
          -1,
          -1
         ],
         "yaxis": "y6"
        },
        {
         "alignmentgroup": "True",
         "hovertemplate": "Lineages=%{text}<br>scheme=kallisto<br>Sample=%{x}<br>Abundances=%{y}<extra></extra>",
         "legendgroup": "A",
         "marker": {
          "color": "#00cc96",
          "pattern": {
           "shape": ""
          }
         },
         "name": "A",
         "offsetgroup": "A",
         "orientation": "v",
         "showlegend": true,
         "text": [
          "A",
          "A",
          "A",
          "A",
          "A",
          "A",
          "A",
          "A",
          "A",
          "A"
         ],
         "textposition": "auto",
         "type": "bar",
         "x": [
          "0",
          "0-2",
          "0-3",
          "0-4",
          "0adgio1",
          "0adgio1-2",
          "0adgio1o2o3o4o5",
          "0agio1o2",
          "0aio1o2o3o4o5",
          "0o5o3o4"
         ],
         "xaxis": "x7",
         "y": [
          -1,
          -1,
          -1,
          -1,
          -1,
          -1,
          -1,
          -1,
          -1,
          -1
         ],
         "yaxis": "y7"
        },
        {
         "alignmentgroup": "True",
         "hovertemplate": "Lineages=%{text}<br>scheme=kallisto<br>Sample=%{x}<br>Abundances=%{y}<extra></extra>",
         "legendgroup": "Beta",
         "marker": {
          "color": "#ab63fa",
          "pattern": {
           "shape": ""
          }
         },
         "name": "Beta",
         "offsetgroup": "Beta",
         "orientation": "v",
         "showlegend": true,
         "text": [
          "Beta",
          "Beta",
          "Beta",
          "Beta",
          "Beta",
          "Beta",
          "Beta",
          "Beta",
          "Beta",
          "Beta",
          "Beta"
         ],
         "textposition": "auto",
         "type": "bar",
         "x": [
          "0-2",
          "0-3",
          "0adgio1",
          "0adgio1-2",
          "0adgio1o2o3o4o5",
          "0agio1o2",
          "0aio1o2o3o4o5",
          "0o5o3o4",
          "agio3o4o5",
          "i",
          "i-2"
         ],
         "xaxis": "x7",
         "y": [
          -1,
          -1,
          -1,
          -1,
          -1,
          -1,
          -1,
          -1,
          -1,
          -1,
          -1
         ],
         "yaxis": "y7"
        },
        {
         "alignmentgroup": "True",
         "hovertemplate": "Lineages=%{text}<br>scheme=kallisto (C-WAP)<br>Sample=%{x}<br>Abundances=%{y}<extra></extra>",
         "legendgroup": "Beta",
         "marker": {
          "color": "#ab63fa",
          "pattern": {
           "shape": ""
          }
         },
         "name": "Beta",
         "offsetgroup": "Beta",
         "orientation": "v",
         "showlegend": false,
         "text": [
          "Beta",
          "Beta"
         ],
         "textposition": "auto",
         "type": "bar",
         "x": [
          "i",
          "i-2"
         ],
         "xaxis": "x6",
         "y": [
          -1,
          -1
         ],
         "yaxis": "y6"
        },
        {
         "alignmentgroup": "True",
         "hovertemplate": "Lineages=%{text}<br>scheme=LCS<br>Sample=%{x}<br>Abundances=%{y}<extra></extra>",
         "legendgroup": "Beta",
         "marker": {
          "color": "#ab63fa",
          "pattern": {
           "shape": ""
          }
         },
         "name": "Beta",
         "offsetgroup": "Beta",
         "orientation": "v",
         "showlegend": false,
         "text": [
          "Beta",
          "Beta",
          "Beta",
          "Beta",
          "Beta",
          "Beta",
          "Beta",
          "Beta"
         ],
         "textposition": "auto",
         "type": "bar",
         "x": [
          "0",
          "0adgio1",
          "0agio1o2",
          "0o5o3o4",
          "adgio1o2o3",
          "agio3o4o5",
          "i",
          "i-2"
         ],
         "xaxis": "x4",
         "y": [
          -1,
          -1,
          -1,
          -1,
          -1,
          -1,
          -1,
          -1
         ],
         "yaxis": "y4"
        },
        {
         "alignmentgroup": "True",
         "hovertemplate": "Lineages=%{text}<br>scheme=lineagespot<br>Sample=%{x}<br>Abundances=%{y}<extra></extra>",
         "legendgroup": "Beta",
         "marker": {
          "color": "#ab63fa",
          "pattern": {
           "shape": ""
          }
         },
         "name": "Beta",
         "offsetgroup": "Beta",
         "orientation": "v",
         "showlegend": false,
         "text": [
          "Beta",
          "Beta",
          "Beta",
          "Beta"
         ],
         "textposition": "auto",
         "type": "bar",
         "x": [
          "o1o2",
          "o2o3o4o5-3",
          "o3-3",
          "o4-2"
         ],
         "xaxis": "x3",
         "y": [
          -1,
          -1,
          -1,
          -1
         ],
         "yaxis": "y3"
        },
        {
         "alignmentgroup": "True",
         "hovertemplate": "Lineages=%{text}<br>scheme=LolliPop<br>Sample=%{x}<br>Abundances=%{y}<extra></extra>",
         "legendgroup": "Beta",
         "marker": {
          "color": "#ab63fa",
          "pattern": {
           "shape": ""
          }
         },
         "name": "Beta",
         "offsetgroup": "Beta",
         "orientation": "v",
         "showlegend": false,
         "text": [
          "Beta",
          "Beta",
          "Beta",
          "Beta",
          "Beta",
          "Beta",
          "Beta",
          "Beta",
          "Beta"
         ],
         "textposition": "auto",
         "type": "bar",
         "x": [
          "0adgio1",
          "0adgio1-2",
          "0adgio1o2o3o4o5",
          "0agio1o2",
          "0aio1o2o3o4o5",
          "adgio1o2o3",
          "agio3o4o5",
          "i",
          "i-2"
         ],
         "xaxis": "x2",
         "y": [
          -1,
          -1,
          -1,
          -1,
          -1,
          -1,
          -1,
          -1,
          -1
         ],
         "yaxis": "y2"
        },
        {
         "alignmentgroup": "True",
         "hovertemplate": "Lineages=%{text}<br>scheme=kallisto<br>Sample=%{x}<br>Abundances=%{y}<extra></extra>",
         "legendgroup": "XBB.1.5.X",
         "marker": {
          "color": "#FFA15A",
          "pattern": {
           "shape": ""
          }
         },
         "name": "XBB.1.5.X",
         "offsetgroup": "XBB.1.5* [Omicron (XBB.1.5.X)]",
         "orientation": "v",
         "showlegend": true,
         "text": [
          "XBB.1.5.X",
          "XBB.1.5.X",
          "XBB.1.5.X",
          "XBB.1.5.X",
          "XBB.1.5.X",
          "XBB.1.5.X",
          "XBB.1.5.X",
          "XBB.1.5.X",
          "XBB.1.5.X",
          "XBB.1.5.X",
          "XBB.1.5.X",
          "XBB.1.5.X",
          "XBB.1.5.X",
          "XBB.1.5.X",
          "XBB.1.5.X",
          "XBB.1.5.X",
          "XBB.1.5.X",
          "XBB.1.5.X",
          "XBB.1.5.X",
          "XBB.1.5.X",
          "XBB.1.5.X",
          "XBB.1.5.X"
         ],
         "textposition": "auto",
         "type": "bar",
         "x": [
          "0adgio1o2o3o4o5",
          "0agio1o2",
          "0aio1o2o3o4o5",
          "0o5o3o4",
          "adgio1o2o3",
          "agio3o4o5",
          "o1o2",
          "o1o2o3o4o5",
          "o2-2",
          "o2-3",
          "o2o3o4o5",
          "o2o3o4o5-2",
          "o2o3o4o5-3",
          "o3",
          "o3-2",
          "o3-3",
          "o3-4",
          "o4",
          "o4-3",
          "o5",
          "o5-2",
          "o5-3"
         ],
         "xaxis": "x7",
         "y": [
          -1,
          -1,
          -1,
          -1,
          -1,
          -1,
          -1,
          -1,
          -1,
          -1,
          -1,
          -1,
          -1,
          -1,
          -1,
          -1,
          -1,
          -1,
          -1,
          -1,
          -1,
          -1
         ],
         "yaxis": "y7"
        },
        {
         "alignmentgroup": "True",
         "hovertemplate": "Lineages=%{text}<br>scheme=LolliPop<br>Sample=%{x}<br>Abundances=%{y}<extra></extra>",
         "legendgroup": "XBB.1.5.X",
         "marker": {
          "color": "#FFA15A",
          "pattern": {
           "shape": ""
          }
         },
         "name": "XBB.1.5.X",
         "offsetgroup": "XBB.1.5* [Omicron (XBB.1.5.X)]",
         "orientation": "v",
         "showlegend": false,
         "text": [
          "XBB.1.5.X",
          "XBB.1.5.X",
          "XBB.1.5.X",
          "XBB.1.5.X",
          "XBB.1.5.X",
          "XBB.1.5.X",
          "XBB.1.5.X",
          "XBB.1.5.X",
          "XBB.1.5.X"
         ],
         "textposition": "auto",
         "type": "bar",
         "x": [
          "0",
          "0-2",
          "0-3",
          "0-4",
          "0adgio1",
          "0adgio1-2",
          "0agio1o2",
          "i",
          "i-2"
         ],
         "xaxis": "x2",
         "y": [
          -1,
          -1,
          -1,
          -1,
          -1,
          -1,
          -1,
          -1,
          -1
         ],
         "yaxis": "y2"
        },
        {
         "alignmentgroup": "True",
         "hovertemplate": "Lineages=%{text}<br>scheme=kallisto<br>Sample=%{x}<br>Abundances=%{y}<extra></extra>",
         "legendgroup": "BA.2.75.X",
         "marker": {
          "color": "#19d3f3",
          "pattern": {
           "shape": ""
          }
         },
         "name": "BA.2.75.X",
         "offsetgroup": "BA.2.75* [Omicron (BA.2.75.X)]",
         "orientation": "v",
         "showlegend": true,
         "text": [
          "BA.2.75.X",
          "BA.2.75.X",
          "BA.2.75.X",
          "BA.2.75.X"
         ],
         "textposition": "auto",
         "type": "bar",
         "x": [
          "o2-3",
          "o2o3o4o5-2",
          "o3",
          "o3-3"
         ],
         "xaxis": "x7",
         "y": [
          -1,
          -1,
          -1,
          -1
         ],
         "yaxis": "y7"
        },
        {
         "alignmentgroup": "True",
         "hovertemplate": "Lineages=%{text}<br>scheme=kallisto (C-WAP)<br>Sample=%{x}<br>Abundances=%{y}<extra></extra>",
         "legendgroup": "Epsilon",
         "marker": {
          "color": "#FF6692",
          "pattern": {
           "shape": ""
          }
         },
         "name": "Epsilon",
         "offsetgroup": "Epsilon",
         "orientation": "v",
         "showlegend": true,
         "text": [
          "Epsilon",
          "Epsilon",
          "Epsilon",
          "Epsilon",
          "Epsilon",
          "Epsilon",
          "Epsilon",
          "Epsilon",
          "Epsilon",
          "Epsilon",
          "Epsilon",
          "Epsilon",
          "Epsilon",
          "Epsilon",
          "Epsilon",
          "Epsilon",
          "Epsilon",
          "Epsilon",
          "Epsilon",
          "Epsilon"
         ],
         "textposition": "auto",
         "type": "bar",
         "x": [
          "0",
          "0-2",
          "0-3",
          "0-4",
          "0adgio1",
          "0adgio1-2",
          "0adgio1o2o3o4o5",
          "0agio1o2",
          "0aio1o2o3o4o5",
          "0o5o3o4",
          "a",
          "a-2",
          "adgio1o2o3",
          "agio3o4o5",
          "d",
          "d-2",
          "g",
          "g-2",
          "i",
          "i-2"
         ],
         "xaxis": "x6",
         "y": [
          -1,
          -1,
          -1,
          -1,
          -1,
          -1,
          -1,
          -1,
          -1,
          -1,
          -1,
          -1,
          -1,
          -1,
          -1,
          -1,
          -1,
          -1,
          -1,
          -1
         ],
         "yaxis": "y6"
        },
        {
         "alignmentgroup": "True",
         "hovertemplate": "Lineages=%{text}<br>scheme=kallisto (C-WAP)<br>Sample=%{x}<br>Abundances=%{y}<extra></extra>",
         "legendgroup": "Kappa",
         "marker": {
          "color": "#B6E880",
          "pattern": {
           "shape": ""
          }
         },
         "name": "Kappa",
         "offsetgroup": "Kappa",
         "orientation": "v",
         "showlegend": true,
         "text": [
          "Kappa",
          "Kappa",
          "Kappa",
          "Kappa",
          "Kappa"
         ],
         "textposition": "auto",
         "type": "bar",
         "x": [
          "0adgio1",
          "0adgio1-2",
          "adgio1o2o3",
          "d",
          "d-2"
         ],
         "xaxis": "x6",
         "y": [
          -1,
          -1,
          -1,
          -1,
          -1
         ],
         "yaxis": "y6"
        },
        {
         "alignmentgroup": "True",
         "hovertemplate": "Lineages=%{text}<br>scheme=LolliPop<br>Sample=%{x}<br>Abundances=%{y}<extra></extra>",
         "legendgroup": "Kappa",
         "marker": {
          "color": "#B6E880",
          "pattern": {
           "shape": ""
          }
         },
         "name": "Kappa",
         "offsetgroup": "Kappa",
         "orientation": "v",
         "showlegend": false,
         "text": [
          "Kappa"
         ],
         "textposition": "auto",
         "type": "bar",
         "x": [
          "d-2"
         ],
         "xaxis": "x2",
         "y": [
          -1
         ],
         "yaxis": "y2"
        },
        {
         "alignmentgroup": "True",
         "hovertemplate": "Lineages=%{text}<br>scheme=LCS<br>Sample=%{x}<br>Abundances=%{y}<extra></extra>",
         "legendgroup": "Lambda",
         "marker": {
          "color": "#FF97FF",
          "pattern": {
           "shape": ""
          }
         },
         "name": "Lambda",
         "offsetgroup": "Lambda",
         "orientation": "v",
         "showlegend": true,
         "text": [
          "Lambda",
          "Lambda"
         ],
         "textposition": "auto",
         "type": "bar",
         "x": [
          "o1o2o3o4o5",
          "o5-3"
         ],
         "xaxis": "x4",
         "y": [
          -1,
          -1
         ],
         "yaxis": "y4"
        },
        {
         "alignmentgroup": "True",
         "hovertemplate": "Lineages=%{text}<br>scheme=LolliPop<br>Sample=%{x}<br>Abundances=%{y}<extra></extra>",
         "legendgroup": "Lambda",
         "marker": {
          "color": "#FF97FF",
          "pattern": {
           "shape": ""
          }
         },
         "name": "Lambda",
         "offsetgroup": "Lambda",
         "orientation": "v",
         "showlegend": false,
         "text": [
          "Lambda",
          "Lambda"
         ],
         "textposition": "auto",
         "type": "bar",
         "x": [
          "o3-3",
          "o3-4"
         ],
         "xaxis": "x2",
         "y": [
          -1,
          -1
         ],
         "yaxis": "y2"
        },
        {
         "alignmentgroup": "True",
         "hovertemplate": "Lineages=%{text}<br>scheme=LolliPop<br>Sample=%{x}<br>Abundances=%{y}<extra></extra>",
         "legendgroup": "EG.5.X",
         "marker": {
          "color": "#FECB52",
          "pattern": {
           "shape": ""
          }
         },
         "name": "EG.5.X",
         "offsetgroup": "EG.5* [Omicron (EG.5.X)]",
         "orientation": "v",
         "showlegend": true,
         "text": [
          "EG.5.X",
          "EG.5.X"
         ],
         "textposition": "auto",
         "type": "bar",
         "x": [
          "0",
          "i-2"
         ],
         "xaxis": "x2",
         "y": [
          -1,
          -1
         ],
         "yaxis": "y2"
        },
        {
         "alignmentgroup": "True",
         "hovertemplate": "Lineages=%{text}<br>scheme=LolliPop<br>Sample=%{x}<br>Abundances=%{y}<extra></extra>",
         "legendgroup": "CH.1.1.X",
         "marker": {
          "color": "#636efa",
          "pattern": {
           "shape": ""
          }
         },
         "name": "CH.1.1.X",
         "offsetgroup": "CH.1.1* [Omicron (CH.1.1.X)]",
         "orientation": "v",
         "showlegend": true,
         "text": [
          "CH.1.1.X",
          "CH.1.1.X",
          "CH.1.1.X",
          "CH.1.1.X",
          "CH.1.1.X",
          "CH.1.1.X",
          "CH.1.1.X",
          "CH.1.1.X",
          "CH.1.1.X",
          "CH.1.1.X",
          "CH.1.1.X",
          "CH.1.1.X"
         ],
         "textposition": "auto",
         "type": "bar",
         "x": [
          "0-2",
          "0adgio1",
          "0adgio1-2",
          "0adgio1o2o3o4o5",
          "0aio1o2o3o4o5",
          "0o5o3o4",
          "adgio1o2o3",
          "o1o2o3o4o5",
          "o2o3o4o5-2",
          "o2o3o4o5-3",
          "o5",
          "o5-3"
         ],
         "xaxis": "x2",
         "y": [
          -1,
          -1,
          -1,
          -1,
          -1,
          -1,
          -1,
          -1,
          -1,
          -1,
          -1,
          -1
         ],
         "yaxis": "y2"
        },
        {
         "alignmentgroup": "True",
         "hovertemplate": "Lineages=%{text}<br>scheme=LolliPop<br>Sample=%{x}<br>Abundances=%{y}<extra></extra>",
         "legendgroup": "Zeta",
         "marker": {
          "color": "#EF553B",
          "pattern": {
           "shape": ""
          }
         },
         "name": "Zeta",
         "offsetgroup": "Zeta",
         "orientation": "v",
         "showlegend": true,
         "text": [
          "Zeta",
          "Zeta"
         ],
         "textposition": "auto",
         "type": "bar",
         "x": [
          "i",
          "i-2"
         ],
         "xaxis": "x2",
         "y": [
          -1,
          -1
         ],
         "yaxis": "y2"
        },
        {
         "alignmentgroup": "True",
         "hovertemplate": "Lineages=%{text}<br>scheme=LolliPop<br>Sample=%{x}<br>Abundances=%{y}<extra></extra>",
         "legendgroup": "Mu",
         "marker": {
          "color": "#00cc96",
          "pattern": {
           "shape": ""
          }
         },
         "name": "Mu",
         "offsetgroup": "Mu",
         "orientation": "v",
         "showlegend": true,
         "text": [
          "Mu"
         ],
         "textposition": "auto",
         "type": "bar",
         "x": [
          "i-2"
         ],
         "xaxis": "x2",
         "y": [
          -1
         ],
         "yaxis": "y2"
        }
       ],
       "layout": {
        "annotations": [
         {
          "showarrow": false,
          "text": "VaQuERo",
          "textangle": 90,
          "x": 0.98,
          "xanchor": "left",
          "xref": "paper",
          "y": 0.042222222222222223,
          "yanchor": "middle",
          "yref": "paper"
         },
         {
          "showarrow": false,
          "text": "LolliPop",
          "textangle": 90,
          "x": 0.98,
          "xanchor": "left",
          "xref": "paper",
          "y": 0.15666666666666668,
          "yanchor": "middle",
          "yref": "paper"
         },
         {
          "showarrow": false,
          "text": "lineagespot",
          "textangle": 90,
          "x": 0.98,
          "xanchor": "left",
          "xref": "paper",
          "y": 0.27111111111111114,
          "yanchor": "middle",
          "yref": "paper"
         },
         {
          "showarrow": false,
          "text": "LCS",
          "textangle": 90,
          "x": 0.98,
          "xanchor": "left",
          "xref": "paper",
          "y": 0.3855555555555556,
          "yanchor": "middle",
          "yref": "paper"
         },
         {
          "showarrow": false,
          "text": "Kraken 2<br>(C-WAP)",
          "textangle": 90,
          "x": 0.98,
          "xanchor": "left",
          "xref": "paper",
          "y": 0.5,
          "yanchor": "middle",
          "yref": "paper"
         },
         {
          "showarrow": false,
          "text": "kallisto<br>(C-WAP)",
          "textangle": 90,
          "x": 0.98,
          "xanchor": "left",
          "xref": "paper",
          "y": 0.6144444444444443,
          "yanchor": "middle",
          "yref": "paper"
         },
         {
          "showarrow": false,
          "text": "kallisto",
          "textangle": 90,
          "x": 0.98,
          "xanchor": "left",
          "xref": "paper",
          "y": 0.7288888888888889,
          "yanchor": "middle",
          "yref": "paper"
         },
         {
          "showarrow": false,
          "text": "Freyja",
          "textangle": 90,
          "x": 0.98,
          "xanchor": "left",
          "xref": "paper",
          "y": 0.8433333333333333,
          "yanchor": "middle",
          "yref": "paper"
         },
         {
          "showarrow": false,
          "text": "Alcov",
          "textangle": 90,
          "x": 0.98,
          "xanchor": "left",
          "xref": "paper",
          "y": 0.9577777777777778,
          "yanchor": "middle",
          "yref": "paper"
         },
         {
          "showarrow": false,
          "text": "",
          "x": 1,
          "xanchor": "right",
          "xref": "x domain",
          "y": 0,
          "yanchor": "bottom",
          "yref": "y"
         },
         {
          "showarrow": false,
          "text": "",
          "x": 1,
          "xanchor": "right",
          "xref": "x2 domain",
          "y": 0,
          "yanchor": "bottom",
          "yref": "y2"
         },
         {
          "showarrow": false,
          "text": "",
          "x": 1,
          "xanchor": "right",
          "xref": "x3 domain",
          "y": 0,
          "yanchor": "bottom",
          "yref": "y3"
         },
         {
          "showarrow": false,
          "text": "",
          "x": 1,
          "xanchor": "right",
          "xref": "x4 domain",
          "y": 0,
          "yanchor": "bottom",
          "yref": "y4"
         },
         {
          "showarrow": false,
          "text": "",
          "x": 1,
          "xanchor": "right",
          "xref": "x5 domain",
          "y": 0,
          "yanchor": "bottom",
          "yref": "y5"
         },
         {
          "showarrow": false,
          "text": "",
          "x": 1,
          "xanchor": "right",
          "xref": "x6 domain",
          "y": 0,
          "yanchor": "bottom",
          "yref": "y6"
         },
         {
          "showarrow": false,
          "text": "",
          "x": 1,
          "xanchor": "right",
          "xref": "x7 domain",
          "y": 0,
          "yanchor": "bottom",
          "yref": "y7"
         },
         {
          "showarrow": false,
          "text": "",
          "x": 1,
          "xanchor": "right",
          "xref": "x8 domain",
          "y": 0,
          "yanchor": "bottom",
          "yref": "y8"
         },
         {
          "showarrow": false,
          "text": "",
          "x": 1,
          "xanchor": "right",
          "xref": "x9 domain",
          "y": 0,
          "yanchor": "bottom",
          "yref": "y9"
         }
        ],
        "barmode": "relative",
        "font": {
         "family": "Inconsolata"
        },
        "height": 6000,
        "legend": {
         "title": {
          "text": "Lineages"
         },
         "tracegroupgap": 0
        },
        "shapes": [
         {
          "line": {
           "dash": "dot"
          },
          "type": "line",
          "x0": 0,
          "x1": 1,
          "xref": "x domain",
          "y0": 0,
          "y1": 0,
          "yref": "y"
         },
         {
          "line": {
           "dash": "dot"
          },
          "type": "line",
          "x0": 0,
          "x1": 1,
          "xref": "x2 domain",
          "y0": 0,
          "y1": 0,
          "yref": "y2"
         },
         {
          "line": {
           "dash": "dot"
          },
          "type": "line",
          "x0": 0,
          "x1": 1,
          "xref": "x3 domain",
          "y0": 0,
          "y1": 0,
          "yref": "y3"
         },
         {
          "line": {
           "dash": "dot"
          },
          "type": "line",
          "x0": 0,
          "x1": 1,
          "xref": "x4 domain",
          "y0": 0,
          "y1": 0,
          "yref": "y4"
         },
         {
          "line": {
           "dash": "dot"
          },
          "type": "line",
          "x0": 0,
          "x1": 1,
          "xref": "x5 domain",
          "y0": 0,
          "y1": 0,
          "yref": "y5"
         },
         {
          "line": {
           "dash": "dot"
          },
          "type": "line",
          "x0": 0,
          "x1": 1,
          "xref": "x6 domain",
          "y0": 0,
          "y1": 0,
          "yref": "y6"
         },
         {
          "line": {
           "dash": "dot"
          },
          "type": "line",
          "x0": 0,
          "x1": 1,
          "xref": "x7 domain",
          "y0": 0,
          "y1": 0,
          "yref": "y7"
         },
         {
          "line": {
           "dash": "dot"
          },
          "type": "line",
          "x0": 0,
          "x1": 1,
          "xref": "x8 domain",
          "y0": 0,
          "y1": 0,
          "yref": "y8"
         },
         {
          "line": {
           "dash": "dot"
          },
          "type": "line",
          "x0": 0,
          "x1": 1,
          "xref": "x9 domain",
          "y0": 0,
          "y1": 0,
          "yref": "y9"
         }
        ],
        "template": {
         "data": {
          "bar": [
           {
            "error_x": {
             "color": "#2a3f5f"
            },
            "error_y": {
             "color": "#2a3f5f"
            },
            "marker": {
             "line": {
              "color": "#E5ECF6",
              "width": 0.5
             },
             "pattern": {
              "fillmode": "overlay",
              "size": 10,
              "solidity": 0.2
             }
            },
            "type": "bar"
           }
          ],
          "barpolar": [
           {
            "marker": {
             "line": {
              "color": "#E5ECF6",
              "width": 0.5
             },
             "pattern": {
              "fillmode": "overlay",
              "size": 10,
              "solidity": 0.2
             }
            },
            "type": "barpolar"
           }
          ],
          "carpet": [
           {
            "aaxis": {
             "endlinecolor": "#2a3f5f",
             "gridcolor": "white",
             "linecolor": "white",
             "minorgridcolor": "white",
             "startlinecolor": "#2a3f5f"
            },
            "baxis": {
             "endlinecolor": "#2a3f5f",
             "gridcolor": "white",
             "linecolor": "white",
             "minorgridcolor": "white",
             "startlinecolor": "#2a3f5f"
            },
            "type": "carpet"
           }
          ],
          "choropleth": [
           {
            "colorbar": {
             "outlinewidth": 0,
             "ticks": ""
            },
            "type": "choropleth"
           }
          ],
          "contour": [
           {
            "colorbar": {
             "outlinewidth": 0,
             "ticks": ""
            },
            "colorscale": [
             [
              0,
              "#0d0887"
             ],
             [
              0.1111111111111111,
              "#46039f"
             ],
             [
              0.2222222222222222,
              "#7201a8"
             ],
             [
              0.3333333333333333,
              "#9c179e"
             ],
             [
              0.4444444444444444,
              "#bd3786"
             ],
             [
              0.5555555555555556,
              "#d8576b"
             ],
             [
              0.6666666666666666,
              "#ed7953"
             ],
             [
              0.7777777777777778,
              "#fb9f3a"
             ],
             [
              0.8888888888888888,
              "#fdca26"
             ],
             [
              1,
              "#f0f921"
             ]
            ],
            "type": "contour"
           }
          ],
          "contourcarpet": [
           {
            "colorbar": {
             "outlinewidth": 0,
             "ticks": ""
            },
            "type": "contourcarpet"
           }
          ],
          "heatmap": [
           {
            "colorbar": {
             "outlinewidth": 0,
             "ticks": ""
            },
            "colorscale": [
             [
              0,
              "#0d0887"
             ],
             [
              0.1111111111111111,
              "#46039f"
             ],
             [
              0.2222222222222222,
              "#7201a8"
             ],
             [
              0.3333333333333333,
              "#9c179e"
             ],
             [
              0.4444444444444444,
              "#bd3786"
             ],
             [
              0.5555555555555556,
              "#d8576b"
             ],
             [
              0.6666666666666666,
              "#ed7953"
             ],
             [
              0.7777777777777778,
              "#fb9f3a"
             ],
             [
              0.8888888888888888,
              "#fdca26"
             ],
             [
              1,
              "#f0f921"
             ]
            ],
            "type": "heatmap"
           }
          ],
          "heatmapgl": [
           {
            "colorbar": {
             "outlinewidth": 0,
             "ticks": ""
            },
            "colorscale": [
             [
              0,
              "#0d0887"
             ],
             [
              0.1111111111111111,
              "#46039f"
             ],
             [
              0.2222222222222222,
              "#7201a8"
             ],
             [
              0.3333333333333333,
              "#9c179e"
             ],
             [
              0.4444444444444444,
              "#bd3786"
             ],
             [
              0.5555555555555556,
              "#d8576b"
             ],
             [
              0.6666666666666666,
              "#ed7953"
             ],
             [
              0.7777777777777778,
              "#fb9f3a"
             ],
             [
              0.8888888888888888,
              "#fdca26"
             ],
             [
              1,
              "#f0f921"
             ]
            ],
            "type": "heatmapgl"
           }
          ],
          "histogram": [
           {
            "marker": {
             "pattern": {
              "fillmode": "overlay",
              "size": 10,
              "solidity": 0.2
             }
            },
            "type": "histogram"
           }
          ],
          "histogram2d": [
           {
            "colorbar": {
             "outlinewidth": 0,
             "ticks": ""
            },
            "colorscale": [
             [
              0,
              "#0d0887"
             ],
             [
              0.1111111111111111,
              "#46039f"
             ],
             [
              0.2222222222222222,
              "#7201a8"
             ],
             [
              0.3333333333333333,
              "#9c179e"
             ],
             [
              0.4444444444444444,
              "#bd3786"
             ],
             [
              0.5555555555555556,
              "#d8576b"
             ],
             [
              0.6666666666666666,
              "#ed7953"
             ],
             [
              0.7777777777777778,
              "#fb9f3a"
             ],
             [
              0.8888888888888888,
              "#fdca26"
             ],
             [
              1,
              "#f0f921"
             ]
            ],
            "type": "histogram2d"
           }
          ],
          "histogram2dcontour": [
           {
            "colorbar": {
             "outlinewidth": 0,
             "ticks": ""
            },
            "colorscale": [
             [
              0,
              "#0d0887"
             ],
             [
              0.1111111111111111,
              "#46039f"
             ],
             [
              0.2222222222222222,
              "#7201a8"
             ],
             [
              0.3333333333333333,
              "#9c179e"
             ],
             [
              0.4444444444444444,
              "#bd3786"
             ],
             [
              0.5555555555555556,
              "#d8576b"
             ],
             [
              0.6666666666666666,
              "#ed7953"
             ],
             [
              0.7777777777777778,
              "#fb9f3a"
             ],
             [
              0.8888888888888888,
              "#fdca26"
             ],
             [
              1,
              "#f0f921"
             ]
            ],
            "type": "histogram2dcontour"
           }
          ],
          "mesh3d": [
           {
            "colorbar": {
             "outlinewidth": 0,
             "ticks": ""
            },
            "type": "mesh3d"
           }
          ],
          "parcoords": [
           {
            "line": {
             "colorbar": {
              "outlinewidth": 0,
              "ticks": ""
             }
            },
            "type": "parcoords"
           }
          ],
          "pie": [
           {
            "automargin": true,
            "type": "pie"
           }
          ],
          "scatter": [
           {
            "fillpattern": {
             "fillmode": "overlay",
             "size": 10,
             "solidity": 0.2
            },
            "type": "scatter"
           }
          ],
          "scatter3d": [
           {
            "line": {
             "colorbar": {
              "outlinewidth": 0,
              "ticks": ""
             }
            },
            "marker": {
             "colorbar": {
              "outlinewidth": 0,
              "ticks": ""
             }
            },
            "type": "scatter3d"
           }
          ],
          "scattercarpet": [
           {
            "marker": {
             "colorbar": {
              "outlinewidth": 0,
              "ticks": ""
             }
            },
            "type": "scattercarpet"
           }
          ],
          "scattergeo": [
           {
            "marker": {
             "colorbar": {
              "outlinewidth": 0,
              "ticks": ""
             }
            },
            "type": "scattergeo"
           }
          ],
          "scattergl": [
           {
            "marker": {
             "colorbar": {
              "outlinewidth": 0,
              "ticks": ""
             }
            },
            "type": "scattergl"
           }
          ],
          "scattermapbox": [
           {
            "marker": {
             "colorbar": {
              "outlinewidth": 0,
              "ticks": ""
             }
            },
            "type": "scattermapbox"
           }
          ],
          "scatterpolar": [
           {
            "marker": {
             "colorbar": {
              "outlinewidth": 0,
              "ticks": ""
             }
            },
            "type": "scatterpolar"
           }
          ],
          "scatterpolargl": [
           {
            "marker": {
             "colorbar": {
              "outlinewidth": 0,
              "ticks": ""
             }
            },
            "type": "scatterpolargl"
           }
          ],
          "scatterternary": [
           {
            "marker": {
             "colorbar": {
              "outlinewidth": 0,
              "ticks": ""
             }
            },
            "type": "scatterternary"
           }
          ],
          "surface": [
           {
            "colorbar": {
             "outlinewidth": 0,
             "ticks": ""
            },
            "colorscale": [
             [
              0,
              "#0d0887"
             ],
             [
              0.1111111111111111,
              "#46039f"
             ],
             [
              0.2222222222222222,
              "#7201a8"
             ],
             [
              0.3333333333333333,
              "#9c179e"
             ],
             [
              0.4444444444444444,
              "#bd3786"
             ],
             [
              0.5555555555555556,
              "#d8576b"
             ],
             [
              0.6666666666666666,
              "#ed7953"
             ],
             [
              0.7777777777777778,
              "#fb9f3a"
             ],
             [
              0.8888888888888888,
              "#fdca26"
             ],
             [
              1,
              "#f0f921"
             ]
            ],
            "type": "surface"
           }
          ],
          "table": [
           {
            "cells": {
             "fill": {
              "color": "#EBF0F8"
             },
             "line": {
              "color": "white"
             }
            },
            "header": {
             "fill": {
              "color": "#C8D4E3"
             },
             "line": {
              "color": "white"
             }
            },
            "type": "table"
           }
          ]
         },
         "layout": {
          "annotationdefaults": {
           "arrowcolor": "#2a3f5f",
           "arrowhead": 0,
           "arrowwidth": 1
          },
          "autotypenumbers": "strict",
          "coloraxis": {
           "colorbar": {
            "outlinewidth": 0,
            "ticks": ""
           }
          },
          "colorscale": {
           "diverging": [
            [
             0,
             "#8e0152"
            ],
            [
             0.1,
             "#c51b7d"
            ],
            [
             0.2,
             "#de77ae"
            ],
            [
             0.3,
             "#f1b6da"
            ],
            [
             0.4,
             "#fde0ef"
            ],
            [
             0.5,
             "#f7f7f7"
            ],
            [
             0.6,
             "#e6f5d0"
            ],
            [
             0.7,
             "#b8e186"
            ],
            [
             0.8,
             "#7fbc41"
            ],
            [
             0.9,
             "#4d9221"
            ],
            [
             1,
             "#276419"
            ]
           ],
           "sequential": [
            [
             0,
             "#0d0887"
            ],
            [
             0.1111111111111111,
             "#46039f"
            ],
            [
             0.2222222222222222,
             "#7201a8"
            ],
            [
             0.3333333333333333,
             "#9c179e"
            ],
            [
             0.4444444444444444,
             "#bd3786"
            ],
            [
             0.5555555555555556,
             "#d8576b"
            ],
            [
             0.6666666666666666,
             "#ed7953"
            ],
            [
             0.7777777777777778,
             "#fb9f3a"
            ],
            [
             0.8888888888888888,
             "#fdca26"
            ],
            [
             1,
             "#f0f921"
            ]
           ],
           "sequentialminus": [
            [
             0,
             "#0d0887"
            ],
            [
             0.1111111111111111,
             "#46039f"
            ],
            [
             0.2222222222222222,
             "#7201a8"
            ],
            [
             0.3333333333333333,
             "#9c179e"
            ],
            [
             0.4444444444444444,
             "#bd3786"
            ],
            [
             0.5555555555555556,
             "#d8576b"
            ],
            [
             0.6666666666666666,
             "#ed7953"
            ],
            [
             0.7777777777777778,
             "#fb9f3a"
            ],
            [
             0.8888888888888888,
             "#fdca26"
            ],
            [
             1,
             "#f0f921"
            ]
           ]
          },
          "colorway": [
           "#636efa",
           "#EF553B",
           "#00cc96",
           "#ab63fa",
           "#FFA15A",
           "#19d3f3",
           "#FF6692",
           "#B6E880",
           "#FF97FF",
           "#FECB52"
          ],
          "font": {
           "color": "#2a3f5f"
          },
          "geo": {
           "bgcolor": "white",
           "lakecolor": "white",
           "landcolor": "#E5ECF6",
           "showlakes": true,
           "showland": true,
           "subunitcolor": "white"
          },
          "hoverlabel": {
           "align": "left"
          },
          "hovermode": "closest",
          "mapbox": {
           "style": "light"
          },
          "paper_bgcolor": "white",
          "plot_bgcolor": "#E5ECF6",
          "polar": {
           "angularaxis": {
            "gridcolor": "white",
            "linecolor": "white",
            "ticks": ""
           },
           "bgcolor": "#E5ECF6",
           "radialaxis": {
            "gridcolor": "white",
            "linecolor": "white",
            "ticks": ""
           }
          },
          "scene": {
           "xaxis": {
            "backgroundcolor": "#E5ECF6",
            "gridcolor": "white",
            "gridwidth": 2,
            "linecolor": "white",
            "showbackground": true,
            "ticks": "",
            "zerolinecolor": "white"
           },
           "yaxis": {
            "backgroundcolor": "#E5ECF6",
            "gridcolor": "white",
            "gridwidth": 2,
            "linecolor": "white",
            "showbackground": true,
            "ticks": "",
            "zerolinecolor": "white"
           },
           "zaxis": {
            "backgroundcolor": "#E5ECF6",
            "gridcolor": "white",
            "gridwidth": 2,
            "linecolor": "white",
            "showbackground": true,
            "ticks": "",
            "zerolinecolor": "white"
           }
          },
          "shapedefaults": {
           "line": {
            "color": "#2a3f5f"
           }
          },
          "ternary": {
           "aaxis": {
            "gridcolor": "white",
            "linecolor": "white",
            "ticks": ""
           },
           "baxis": {
            "gridcolor": "white",
            "linecolor": "white",
            "ticks": ""
           },
           "bgcolor": "#E5ECF6",
           "caxis": {
            "gridcolor": "white",
            "linecolor": "white",
            "ticks": ""
           }
          },
          "title": {
           "x": 0.05
          },
          "xaxis": {
           "automargin": true,
           "gridcolor": "white",
           "linecolor": "white",
           "ticks": "",
           "title": {
            "standoff": 15
           },
           "zerolinecolor": "white",
           "zerolinewidth": 2
          },
          "yaxis": {
           "automargin": true,
           "gridcolor": "white",
           "linecolor": "white",
           "ticks": "",
           "title": {
            "standoff": 15
           },
           "zerolinecolor": "white",
           "zerolinewidth": 2
          }
         }
        },
        "title": {
         "text": "Detection of expected lineages"
        },
        "xaxis": {
         "anchor": "y",
         "categoryorder": "category ascending",
         "domain": [
          0,
          0.98
         ],
         "title": {
          "text": "Sample"
         }
        },
        "xaxis2": {
         "anchor": "y2",
         "domain": [
          0,
          0.98
         ],
         "matches": "x",
         "showticklabels": false
        },
        "xaxis3": {
         "anchor": "y3",
         "domain": [
          0,
          0.98
         ],
         "matches": "x",
         "showticklabels": false
        },
        "xaxis4": {
         "anchor": "y4",
         "domain": [
          0,
          0.98
         ],
         "matches": "x",
         "showticklabels": false
        },
        "xaxis5": {
         "anchor": "y5",
         "domain": [
          0,
          0.98
         ],
         "matches": "x",
         "showticklabels": false
        },
        "xaxis6": {
         "anchor": "y6",
         "domain": [
          0,
          0.98
         ],
         "matches": "x",
         "showticklabels": false
        },
        "xaxis7": {
         "anchor": "y7",
         "domain": [
          0,
          0.98
         ],
         "matches": "x",
         "showticklabels": false
        },
        "xaxis8": {
         "anchor": "y8",
         "domain": [
          0,
          0.98
         ],
         "matches": "x",
         "showticklabels": false
        },
        "xaxis9": {
         "anchor": "y9",
         "domain": [
          0,
          0.98
         ],
         "matches": "x",
         "showticklabels": false
        },
        "yaxis": {
         "anchor": "x",
         "domain": [
          0,
          0.08444444444444445
         ],
         "title": {
          "text": "Abundances"
         }
        },
        "yaxis2": {
         "anchor": "x2",
         "domain": [
          0.11444444444444445,
          0.1988888888888889
         ],
         "matches": "y",
         "title": {
          "text": "Abundances"
         }
        },
        "yaxis3": {
         "anchor": "x3",
         "domain": [
          0.2288888888888889,
          0.31333333333333335
         ],
         "matches": "y",
         "title": {
          "text": "Abundances"
         }
        },
        "yaxis4": {
         "anchor": "x4",
         "domain": [
          0.3433333333333334,
          0.4277777777777778
         ],
         "matches": "y",
         "title": {
          "text": "Abundances"
         }
        },
        "yaxis5": {
         "anchor": "x5",
         "domain": [
          0.4577777777777778,
          0.5422222222222223
         ],
         "matches": "y",
         "title": {
          "text": "Abundances"
         }
        },
        "yaxis6": {
         "anchor": "x6",
         "domain": [
          0.5722222222222222,
          0.6566666666666666
         ],
         "matches": "y",
         "title": {
          "text": "Abundances"
         }
        },
        "yaxis7": {
         "anchor": "x7",
         "domain": [
          0.6866666666666668,
          0.7711111111111112
         ],
         "matches": "y",
         "title": {
          "text": "Abundances"
         }
        },
        "yaxis8": {
         "anchor": "x8",
         "domain": [
          0.8011111111111111,
          0.8855555555555555
         ],
         "matches": "y",
         "title": {
          "text": "Abundances"
         }
        },
        "yaxis9": {
         "anchor": "x9",
         "domain": [
          0.9155555555555556,
          1
         ],
         "matches": "y",
         "title": {
          "text": "Abundances"
         }
        }
       }
      },
      "text/html": [
       "<div>                            <div id=\"ac12e376-bbdf-4189-a1c9-9d0478d160fd\" class=\"plotly-graph-div\" style=\"height:6000px; width:100%;\"></div>            <script type=\"text/javascript\">                require([\"plotly\"], function(Plotly) {                    window.PLOTLYENV=window.PLOTLYENV || {};                                    if (document.getElementById(\"ac12e376-bbdf-4189-a1c9-9d0478d160fd\")) {                    Plotly.newPlot(                        \"ac12e376-bbdf-4189-a1c9-9d0478d160fd\",                        [{\"alignmentgroup\":\"True\",\"hovertemplate\":\"Lineages=%{text}\\u003cbr\\u003escheme=Alcov\\u003cbr\\u003eSample=%{x}\\u003cbr\\u003eAbundances=%{y}\\u003cextra\\u003e\\u003c\\u002fextra\\u003e\",\"legendgroup\":\"Iota\",\"marker\":{\"color\":\"#636efa\",\"pattern\":{\"shape\":\"\"}},\"name\":\"Iota\",\"offsetgroup\":\"Iota\",\"orientation\":\"v\",\"showlegend\":true,\"text\":[\"Iota\",\"Iota\",\"Iota\",\"Iota\",\"Iota\",\"Iota\",\"Iota\",\"Iota\",\"Iota\"],\"textposition\":\"auto\",\"x\":[\"0adgio1\",\"0adgio1-2\",\"0adgio1o2o3o4o5\",\"0agio1o2\",\"0aio1o2o3o4o5\",\"adgio1o2o3\",\"agio3o4o5\",\"i\",\"i-2\"],\"xaxis\":\"x9\",\"y\":[1,1,1,1,1,1,1,1,1],\"yaxis\":\"y9\",\"type\":\"bar\"},{\"alignmentgroup\":\"True\",\"hovertemplate\":\"Lineages=%{text}\\u003cbr\\u003escheme=Freyja\\u003cbr\\u003eSample=%{x}\\u003cbr\\u003eAbundances=%{y}\\u003cextra\\u003e\\u003c\\u002fextra\\u003e\",\"legendgroup\":\"Iota\",\"marker\":{\"color\":\"#636efa\",\"pattern\":{\"shape\":\"\"}},\"name\":\"Iota\",\"offsetgroup\":\"Iota\",\"orientation\":\"v\",\"showlegend\":false,\"text\":[\"Iota\",\"Iota\",\"Iota\",\"Iota\",\"Iota\",\"Iota\",\"Iota\",\"Iota\",\"Iota\"],\"textposition\":\"auto\",\"x\":[\"0adgio1\",\"0adgio1-2\",\"0adgio1o2o3o4o5\",\"0agio1o2\",\"0aio1o2o3o4o5\",\"adgio1o2o3\",\"agio3o4o5\",\"i\",\"i-2\"],\"xaxis\":\"x8\",\"y\":[1,1,1,1,1,1,1,1,1],\"yaxis\":\"y8\",\"type\":\"bar\"},{\"alignmentgroup\":\"True\",\"hovertemplate\":\"Lineages=%{text}\\u003cbr\\u003escheme=kallisto\\u003cbr\\u003eSample=%{x}\\u003cbr\\u003eAbundances=%{y}\\u003cextra\\u003e\\u003c\\u002fextra\\u003e\",\"legendgroup\":\"Iota\",\"marker\":{\"color\":\"#636efa\",\"pattern\":{\"shape\":\"\"}},\"name\":\"Iota\",\"offsetgroup\":\"Iota\",\"orientation\":\"v\",\"showlegend\":false,\"text\":[\"Iota\",\"Iota\",\"Iota\",\"Iota\",\"Iota\",\"Iota\",\"Iota\",\"Iota\",\"Iota\"],\"textposition\":\"auto\",\"x\":[\"0adgio1\",\"0adgio1-2\",\"0adgio1o2o3o4o5\",\"0agio1o2\",\"0aio1o2o3o4o5\",\"adgio1o2o3\",\"agio3o4o5\",\"i\",\"i-2\"],\"xaxis\":\"x7\",\"y\":[1,1,1,1,1,1,1,1,1],\"yaxis\":\"y7\",\"type\":\"bar\"},{\"alignmentgroup\":\"True\",\"hovertemplate\":\"Lineages=%{text}\\u003cbr\\u003escheme=kallisto (C-WAP)\\u003cbr\\u003eSample=%{x}\\u003cbr\\u003eAbundances=%{y}\\u003cextra\\u003e\\u003c\\u002fextra\\u003e\",\"legendgroup\":\"Iota\",\"marker\":{\"color\":\"#636efa\",\"pattern\":{\"shape\":\"\"}},\"name\":\"Iota\",\"offsetgroup\":\"Iota\",\"orientation\":\"v\",\"showlegend\":false,\"text\":[\"Iota\",\"Iota\",\"Iota\",\"Iota\",\"Iota\",\"Iota\",\"Iota\",\"Iota\",\"Iota\",\"Iota\",\"Iota\",\"Iota\",\"Iota\"],\"textposition\":\"auto\",\"x\":[\"0adgio1\",\"0adgio1-2\",\"0adgio1o2o3o4o5\",\"0agio1o2\",\"0aio1o2o3o4o5\",\"a\",\"a-2\",\"adgio1o2o3\",\"agio3o4o5\",\"d\",\"d-2\",\"i\",\"i-2\"],\"xaxis\":\"x6\",\"y\":[1,1,1,1,1,-1,-1,1,1,-1,-1,1,1],\"yaxis\":\"y6\",\"type\":\"bar\"},{\"alignmentgroup\":\"True\",\"hovertemplate\":\"Lineages=%{text}\\u003cbr\\u003escheme=LCS\\u003cbr\\u003eSample=%{x}\\u003cbr\\u003eAbundances=%{y}\\u003cextra\\u003e\\u003c\\u002fextra\\u003e\",\"legendgroup\":\"Iota\",\"marker\":{\"color\":\"#636efa\",\"pattern\":{\"shape\":\"\"}},\"name\":\"Iota\",\"offsetgroup\":\"Iota\",\"orientation\":\"v\",\"showlegend\":false,\"text\":[\"Iota\",\"Iota\",\"Iota\",\"Iota\",\"Iota\",\"Iota\",\"Iota\",\"Iota\",\"Iota\",\"Iota\"],\"textposition\":\"auto\",\"x\":[\"0adgio1\",\"0adgio1-2\",\"0agio1o2\",\"0aio1o2o3o4o5\",\"adgio1o2o3\",\"agio3o4o5\",\"d\",\"d-2\",\"i\",\"i-2\"],\"xaxis\":\"x4\",\"y\":[1,1,1,1,1,1,-1,-1,1,1],\"yaxis\":\"y4\",\"type\":\"bar\"},{\"alignmentgroup\":\"True\",\"hovertemplate\":\"Lineages=%{text}\\u003cbr\\u003escheme=VaQuERo\\u003cbr\\u003eSample=%{x}\\u003cbr\\u003eAbundances=%{y}\\u003cextra\\u003e\\u003c\\u002fextra\\u003e\",\"legendgroup\":\"Iota\",\"marker\":{\"color\":\"#636efa\",\"pattern\":{\"shape\":\"\"}},\"name\":\"Iota\",\"offsetgroup\":\"Iota\",\"orientation\":\"v\",\"showlegend\":false,\"text\":[\"Iota\",\"Iota\",\"Iota\",\"Iota\",\"Iota\",\"Iota\",\"Iota\"],\"textposition\":\"auto\",\"x\":[\"0adgio1\",\"0adgio1-2\",\"0agio1o2\",\"0aio1o2o3o4o5\",\"agio3o4o5\",\"i\",\"i-2\"],\"xaxis\":\"x\",\"y\":[1,1,1,1,1,1,1],\"yaxis\":\"y\",\"type\":\"bar\"},{\"alignmentgroup\":\"True\",\"hovertemplate\":\"Lineages=%{text}\\u003cbr\\u003escheme=Alcov\\u003cbr\\u003eSample=%{x}\\u003cbr\\u003eAbundances=%{y}\\u003cextra\\u003e\\u003c\\u002fextra\\u003e\",\"legendgroup\":\"Alpha\",\"marker\":{\"color\":\"#EF553B\",\"pattern\":{\"shape\":\"\"}},\"name\":\"Alpha\",\"offsetgroup\":\"Alpha\",\"orientation\":\"v\",\"showlegend\":true,\"text\":[\"Alpha\",\"Alpha\",\"Alpha\",\"Alpha\",\"Alpha\",\"Alpha\",\"Alpha\",\"Alpha\",\"Alpha\"],\"textposition\":\"auto\",\"x\":[\"0adgio1\",\"0adgio1-2\",\"0adgio1o2o3o4o5\",\"0agio1o2\",\"0aio1o2o3o4o5\",\"a\",\"a-2\",\"adgio1o2o3\",\"agio3o4o5\"],\"xaxis\":\"x9\",\"y\":[1,1,1,1,1,1,1,1,1],\"yaxis\":\"y9\",\"type\":\"bar\"},{\"alignmentgroup\":\"True\",\"hovertemplate\":\"Lineages=%{text}\\u003cbr\\u003escheme=Freyja\\u003cbr\\u003eSample=%{x}\\u003cbr\\u003eAbundances=%{y}\\u003cextra\\u003e\\u003c\\u002fextra\\u003e\",\"legendgroup\":\"Alpha\",\"marker\":{\"color\":\"#EF553B\",\"pattern\":{\"shape\":\"\"}},\"name\":\"Alpha\",\"offsetgroup\":\"Alpha\",\"orientation\":\"v\",\"showlegend\":false,\"text\":[\"Alpha\",\"Alpha\",\"Alpha\",\"Alpha\",\"Alpha\",\"Alpha\",\"Alpha\",\"Alpha\",\"Alpha\"],\"textposition\":\"auto\",\"x\":[\"0adgio1\",\"0adgio1-2\",\"0adgio1o2o3o4o5\",\"0agio1o2\",\"0aio1o2o3o4o5\",\"a\",\"a-2\",\"adgio1o2o3\",\"agio3o4o5\"],\"xaxis\":\"x8\",\"y\":[1,1,1,1,1,1,1,1,1],\"yaxis\":\"y8\",\"type\":\"bar\"},{\"alignmentgroup\":\"True\",\"hovertemplate\":\"Lineages=%{text}\\u003cbr\\u003escheme=kallisto\\u003cbr\\u003eSample=%{x}\\u003cbr\\u003eAbundances=%{y}\\u003cextra\\u003e\\u003c\\u002fextra\\u003e\",\"legendgroup\":\"Alpha\",\"marker\":{\"color\":\"#EF553B\",\"pattern\":{\"shape\":\"\"}},\"name\":\"Alpha\",\"offsetgroup\":\"Alpha\",\"orientation\":\"v\",\"showlegend\":false,\"text\":[\"Alpha\",\"Alpha\",\"Alpha\",\"Alpha\",\"Alpha\",\"Alpha\",\"Alpha\",\"Alpha\",\"Alpha\"],\"textposition\":\"auto\",\"x\":[\"0adgio1\",\"0adgio1-2\",\"0adgio1o2o3o4o5\",\"0agio1o2\",\"0aio1o2o3o4o5\",\"a\",\"a-2\",\"adgio1o2o3\",\"agio3o4o5\"],\"xaxis\":\"x7\",\"y\":[1,1,1,1,1,1,1,1,1],\"yaxis\":\"y7\",\"type\":\"bar\"},{\"alignmentgroup\":\"True\",\"hovertemplate\":\"Lineages=%{text}\\u003cbr\\u003escheme=kallisto (C-WAP)\\u003cbr\\u003eSample=%{x}\\u003cbr\\u003eAbundances=%{y}\\u003cextra\\u003e\\u003c\\u002fextra\\u003e\",\"legendgroup\":\"Alpha\",\"marker\":{\"color\":\"#EF553B\",\"pattern\":{\"shape\":\"\"}},\"name\":\"Alpha\",\"offsetgroup\":\"Alpha\",\"orientation\":\"v\",\"showlegend\":false,\"text\":[\"Alpha\",\"Alpha\",\"Alpha\",\"Alpha\",\"Alpha\",\"Alpha\",\"Alpha\",\"Alpha\",\"Alpha\",\"Alpha\",\"Alpha\"],\"textposition\":\"auto\",\"x\":[\"0adgio1\",\"0adgio1-2\",\"0adgio1o2o3o4o5\",\"0agio1o2\",\"0aio1o2o3o4o5\",\"a\",\"a-2\",\"adgio1o2o3\",\"agio3o4o5\",\"o1-2\",\"o1o2o3o4o5\"],\"xaxis\":\"x6\",\"y\":[1,1,1,1,1,1,1,1,1,-1,-1],\"yaxis\":\"y6\",\"type\":\"bar\"},{\"alignmentgroup\":\"True\",\"hovertemplate\":\"Lineages=%{text}\\u003cbr\\u003escheme=LCS\\u003cbr\\u003eSample=%{x}\\u003cbr\\u003eAbundances=%{y}\\u003cextra\\u003e\\u003c\\u002fextra\\u003e\",\"legendgroup\":\"Alpha\",\"marker\":{\"color\":\"#EF553B\",\"pattern\":{\"shape\":\"\"}},\"name\":\"Alpha\",\"offsetgroup\":\"Alpha\",\"orientation\":\"v\",\"showlegend\":false,\"text\":[\"Alpha\",\"Alpha\",\"Alpha\",\"Alpha\",\"Alpha\",\"Alpha\",\"Alpha\",\"Alpha\",\"Alpha\"],\"textposition\":\"auto\",\"x\":[\"0adgio1\",\"0adgio1-2\",\"0adgio1o2o3o4o5\",\"0agio1o2\",\"0aio1o2o3o4o5\",\"a\",\"a-2\",\"adgio1o2o3\",\"agio3o4o5\"],\"xaxis\":\"x4\",\"y\":[1,1,1,1,1,1,1,1,1],\"yaxis\":\"y4\",\"type\":\"bar\"},{\"alignmentgroup\":\"True\",\"hovertemplate\":\"Lineages=%{text}\\u003cbr\\u003escheme=lineagespot\\u003cbr\\u003eSample=%{x}\\u003cbr\\u003eAbundances=%{y}\\u003cextra\\u003e\\u003c\\u002fextra\\u003e\",\"legendgroup\":\"Alpha\",\"marker\":{\"color\":\"#EF553B\",\"pattern\":{\"shape\":\"\"}},\"name\":\"Alpha\",\"offsetgroup\":\"Alpha\",\"orientation\":\"v\",\"showlegend\":false,\"text\":[\"Alpha\",\"Alpha\",\"Alpha\",\"Alpha\",\"Alpha\",\"Alpha\",\"Alpha\",\"Alpha\",\"Alpha\"],\"textposition\":\"auto\",\"x\":[\"a\",\"a-2\",\"adgio1o2o3\",\"o1o2o3o4o5\",\"o2-3\",\"o2o3o4o5\",\"o3-3\",\"o3-4\",\"o4\"],\"xaxis\":\"x3\",\"y\":[1,1,1,-1,-1,-1,-1,-1,-1],\"yaxis\":\"y3\",\"type\":\"bar\"},{\"alignmentgroup\":\"True\",\"hovertemplate\":\"Lineages=%{text}\\u003cbr\\u003escheme=LolliPop\\u003cbr\\u003eSample=%{x}\\u003cbr\\u003eAbundances=%{y}\\u003cextra\\u003e\\u003c\\u002fextra\\u003e\",\"legendgroup\":\"Alpha\",\"marker\":{\"color\":\"#EF553B\",\"pattern\":{\"shape\":\"\"}},\"name\":\"Alpha\",\"offsetgroup\":\"Alpha\",\"orientation\":\"v\",\"showlegend\":false,\"text\":[\"Alpha\",\"Alpha\",\"Alpha\",\"Alpha\",\"Alpha\",\"Alpha\",\"Alpha\",\"Alpha\",\"Alpha\",\"Alpha\"],\"textposition\":\"auto\",\"x\":[\"0adgio1\",\"0adgio1-2\",\"0adgio1o2o3o4o5\",\"0agio1o2\",\"0aio1o2o3o4o5\",\"a\",\"a-2\",\"adgio1o2o3\",\"agio3o4o5\",\"o1-2\"],\"xaxis\":\"x2\",\"y\":[1,1,1,1,1,1,1,1,1,-1],\"yaxis\":\"y2\",\"type\":\"bar\"},{\"alignmentgroup\":\"True\",\"hovertemplate\":\"Lineages=%{text}\\u003cbr\\u003escheme=VaQuERo\\u003cbr\\u003eSample=%{x}\\u003cbr\\u003eAbundances=%{y}\\u003cextra\\u003e\\u003c\\u002fextra\\u003e\",\"legendgroup\":\"Alpha\",\"marker\":{\"color\":\"#EF553B\",\"pattern\":{\"shape\":\"\"}},\"name\":\"Alpha\",\"offsetgroup\":\"Alpha\",\"orientation\":\"v\",\"showlegend\":false,\"text\":[\"Alpha\",\"Alpha\",\"Alpha\",\"Alpha\",\"Alpha\",\"Alpha\",\"Alpha\",\"Alpha\",\"Alpha\"],\"textposition\":\"auto\",\"x\":[\"0adgio1\",\"0adgio1-2\",\"0adgio1o2o3o4o5\",\"0agio1o2\",\"0aio1o2o3o4o5\",\"a\",\"a-2\",\"adgio1o2o3\",\"agio3o4o5\"],\"xaxis\":\"x\",\"y\":[1,1,1,1,1,1,1,1,1],\"yaxis\":\"y\",\"type\":\"bar\"},{\"alignmentgroup\":\"True\",\"hovertemplate\":\"Lineages=%{text}\\u003cbr\\u003escheme=Alcov\\u003cbr\\u003eSample=%{x}\\u003cbr\\u003eAbundances=%{y}\\u003cextra\\u003e\\u003c\\u002fextra\\u003e\",\"legendgroup\":\"Gamma\",\"marker\":{\"color\":\"#00cc96\",\"pattern\":{\"shape\":\"\"}},\"name\":\"Gamma\",\"offsetgroup\":\"Gamma\",\"orientation\":\"v\",\"showlegend\":true,\"text\":[\"Gamma\",\"Gamma\",\"Gamma\",\"Gamma\",\"Gamma\",\"Gamma\",\"Gamma\",\"Gamma\"],\"textposition\":\"auto\",\"x\":[\"0adgio1\",\"0adgio1-2\",\"0adgio1o2o3o4o5\",\"0agio1o2\",\"adgio1o2o3\",\"agio3o4o5\",\"g\",\"g-2\"],\"xaxis\":\"x9\",\"y\":[1,1,1,1,1,1,1,1],\"yaxis\":\"y9\",\"type\":\"bar\"},{\"alignmentgroup\":\"True\",\"hovertemplate\":\"Lineages=%{text}\\u003cbr\\u003escheme=Freyja\\u003cbr\\u003eSample=%{x}\\u003cbr\\u003eAbundances=%{y}\\u003cextra\\u003e\\u003c\\u002fextra\\u003e\",\"legendgroup\":\"Gamma\",\"marker\":{\"color\":\"#00cc96\",\"pattern\":{\"shape\":\"\"}},\"name\":\"Gamma\",\"offsetgroup\":\"Gamma\",\"orientation\":\"v\",\"showlegend\":false,\"text\":[\"Gamma\",\"Gamma\",\"Gamma\",\"Gamma\",\"Gamma\",\"Gamma\",\"Gamma\",\"Gamma\"],\"textposition\":\"auto\",\"x\":[\"0adgio1\",\"0adgio1-2\",\"0adgio1o2o3o4o5\",\"0agio1o2\",\"adgio1o2o3\",\"agio3o4o5\",\"g\",\"g-2\"],\"xaxis\":\"x8\",\"y\":[1,1,1,1,1,1,1,1],\"yaxis\":\"y8\",\"type\":\"bar\"},{\"alignmentgroup\":\"True\",\"hovertemplate\":\"Lineages=%{text}\\u003cbr\\u003escheme=kallisto\\u003cbr\\u003eSample=%{x}\\u003cbr\\u003eAbundances=%{y}\\u003cextra\\u003e\\u003c\\u002fextra\\u003e\",\"legendgroup\":\"Gamma\",\"marker\":{\"color\":\"#00cc96\",\"pattern\":{\"shape\":\"\"}},\"name\":\"Gamma\",\"offsetgroup\":\"Gamma\",\"orientation\":\"v\",\"showlegend\":false,\"text\":[\"Gamma\",\"Gamma\",\"Gamma\",\"Gamma\",\"Gamma\",\"Gamma\",\"Gamma\",\"Gamma\",\"Gamma\",\"Gamma\",\"Gamma\",\"Gamma\",\"Gamma\",\"Gamma\",\"Gamma\",\"Gamma\",\"Gamma\",\"Gamma\"],\"textposition\":\"auto\",\"x\":[\"0\",\"0-2\",\"0-3\",\"0-4\",\"0adgio1\",\"0adgio1-2\",\"0adgio1o2o3o4o5\",\"0agio1o2\",\"0aio1o2o3o4o5\",\"0o5o3o4\",\"a\",\"a-2\",\"adgio1o2o3\",\"agio3o4o5\",\"g\",\"g-2\",\"i\",\"i-2\"],\"xaxis\":\"x7\",\"y\":[-1,-1,-1,-1,1,1,1,1,-1,-1,-1,-1,1,1,1,1,-1,-1],\"yaxis\":\"y7\",\"type\":\"bar\"},{\"alignmentgroup\":\"True\",\"hovertemplate\":\"Lineages=%{text}\\u003cbr\\u003escheme=kallisto (C-WAP)\\u003cbr\\u003eSample=%{x}\\u003cbr\\u003eAbundances=%{y}\\u003cextra\\u003e\\u003c\\u002fextra\\u003e\",\"legendgroup\":\"Gamma\",\"marker\":{\"color\":\"#00cc96\",\"pattern\":{\"shape\":\"\"}},\"name\":\"Gamma\",\"offsetgroup\":\"Gamma\",\"orientation\":\"v\",\"showlegend\":false,\"text\":[\"Gamma\",\"Gamma\",\"Gamma\",\"Gamma\",\"Gamma\",\"Gamma\",\"Gamma\",\"Gamma\"],\"textposition\":\"auto\",\"x\":[\"0adgio1\",\"0adgio1-2\",\"0adgio1o2o3o4o5\",\"0agio1o2\",\"adgio1o2o3\",\"agio3o4o5\",\"g\",\"g-2\"],\"xaxis\":\"x6\",\"y\":[1,1,1,1,1,1,1,1],\"yaxis\":\"y6\",\"type\":\"bar\"},{\"alignmentgroup\":\"True\",\"hovertemplate\":\"Lineages=%{text}\\u003cbr\\u003escheme=LCS\\u003cbr\\u003eSample=%{x}\\u003cbr\\u003eAbundances=%{y}\\u003cextra\\u003e\\u003c\\u002fextra\\u003e\",\"legendgroup\":\"Gamma\",\"marker\":{\"color\":\"#00cc96\",\"pattern\":{\"shape\":\"\"}},\"name\":\"Gamma\",\"offsetgroup\":\"Gamma\",\"orientation\":\"v\",\"showlegend\":false,\"text\":[\"Gamma\",\"Gamma\",\"Gamma\",\"Gamma\",\"Gamma\",\"Gamma\",\"Gamma\",\"Gamma\"],\"textposition\":\"auto\",\"x\":[\"0adgio1\",\"0adgio1-2\",\"0adgio1o2o3o4o5\",\"0agio1o2\",\"adgio1o2o3\",\"agio3o4o5\",\"g\",\"g-2\"],\"xaxis\":\"x4\",\"y\":[1,1,1,1,1,1,1,1],\"yaxis\":\"y4\",\"type\":\"bar\"},{\"alignmentgroup\":\"True\",\"hovertemplate\":\"Lineages=%{text}\\u003cbr\\u003escheme=lineagespot\\u003cbr\\u003eSample=%{x}\\u003cbr\\u003eAbundances=%{y}\\u003cextra\\u003e\\u003c\\u002fextra\\u003e\",\"legendgroup\":\"Gamma\",\"marker\":{\"color\":\"#00cc96\",\"pattern\":{\"shape\":\"\"}},\"name\":\"Gamma\",\"offsetgroup\":\"Gamma\",\"orientation\":\"v\",\"showlegend\":false,\"text\":[\"Gamma\",\"Gamma\",\"Gamma\",\"Gamma\",\"Gamma\",\"Gamma\",\"Gamma\",\"Gamma\",\"Gamma\",\"Gamma\",\"Gamma\",\"Gamma\",\"Gamma\",\"Gamma\"],\"textposition\":\"auto\",\"x\":[\"g\",\"o1-2\",\"o1o2\",\"o1o2o3o4o5\",\"o2-2\",\"o2-3\",\"o2o3o4o5\",\"o2o3o4o5-3\",\"o3\",\"o3-3\",\"o3-4\",\"o4\",\"o5\",\"o5-2\"],\"xaxis\":\"x3\",\"y\":[1,-1,-1,-1,-1,-1,-1,-1,-1,-1,-1,-1,-1,-1],\"yaxis\":\"y3\",\"type\":\"bar\"},{\"alignmentgroup\":\"True\",\"hovertemplate\":\"Lineages=%{text}\\u003cbr\\u003escheme=LolliPop\\u003cbr\\u003eSample=%{x}\\u003cbr\\u003eAbundances=%{y}\\u003cextra\\u003e\\u003c\\u002fextra\\u003e\",\"legendgroup\":\"Gamma\",\"marker\":{\"color\":\"#00cc96\",\"pattern\":{\"shape\":\"\"}},\"name\":\"Gamma\",\"offsetgroup\":\"Gamma\",\"orientation\":\"v\",\"showlegend\":false,\"text\":[\"Gamma\",\"Gamma\",\"Gamma\",\"Gamma\",\"Gamma\",\"Gamma\",\"Gamma\",\"Gamma\"],\"textposition\":\"auto\",\"x\":[\"0adgio1\",\"0adgio1-2\",\"0adgio1o2o3o4o5\",\"0agio1o2\",\"adgio1o2o3\",\"agio3o4o5\",\"g\",\"g-2\"],\"xaxis\":\"x2\",\"y\":[1,1,1,1,1,1,1,1],\"yaxis\":\"y2\",\"type\":\"bar\"},{\"alignmentgroup\":\"True\",\"hovertemplate\":\"Lineages=%{text}\\u003cbr\\u003escheme=VaQuERo\\u003cbr\\u003eSample=%{x}\\u003cbr\\u003eAbundances=%{y}\\u003cextra\\u003e\\u003c\\u002fextra\\u003e\",\"legendgroup\":\"Gamma\",\"marker\":{\"color\":\"#00cc96\",\"pattern\":{\"shape\":\"\"}},\"name\":\"Gamma\",\"offsetgroup\":\"Gamma\",\"orientation\":\"v\",\"showlegend\":false,\"text\":[\"Gamma\",\"Gamma\",\"Gamma\",\"Gamma\",\"Gamma\"],\"textposition\":\"auto\",\"x\":[\"0adgio1-2\",\"0agio1o2\",\"agio3o4o5\",\"g\",\"g-2\"],\"xaxis\":\"x\",\"y\":[1,1,1,1,1],\"yaxis\":\"y\",\"type\":\"bar\"},{\"alignmentgroup\":\"True\",\"hovertemplate\":\"Lineages=%{text}\\u003cbr\\u003escheme=Alcov\\u003cbr\\u003eSample=%{x}\\u003cbr\\u003eAbundances=%{y}\\u003cextra\\u003e\\u003c\\u002fextra\\u003e\",\"legendgroup\":\"BA.1.X\",\"marker\":{\"color\":\"#ab63fa\",\"pattern\":{\"shape\":\"\"}},\"name\":\"BA.1.X\",\"offsetgroup\":\"BA.1.X\",\"orientation\":\"v\",\"showlegend\":true,\"text\":[\"BA.1.X\",\"BA.1.X\",\"BA.1.X\",\"BA.1.X\",\"BA.1.X\",\"BA.1.X\",\"BA.1.X\",\"BA.1.X\",\"BA.1.X\"],\"textposition\":\"auto\",\"x\":[\"0adgio1\",\"0adgio1-2\",\"0adgio1o2o3o4o5\",\"0agio1o2\",\"0aio1o2o3o4o5\",\"adgio1o2o3\",\"o1-2\",\"o1o2\",\"o1o2o3o4o5\"],\"xaxis\":\"x9\",\"y\":[1,1,1,1,1,1,1,1,1],\"yaxis\":\"y9\",\"type\":\"bar\"},{\"alignmentgroup\":\"True\",\"hovertemplate\":\"Lineages=%{text}\\u003cbr\\u003escheme=Freyja\\u003cbr\\u003eSample=%{x}\\u003cbr\\u003eAbundances=%{y}\\u003cextra\\u003e\\u003c\\u002fextra\\u003e\",\"legendgroup\":\"BA.1.X\",\"marker\":{\"color\":\"#ab63fa\",\"pattern\":{\"shape\":\"\"}},\"name\":\"BA.1.X\",\"offsetgroup\":\"BA.1.X\",\"orientation\":\"v\",\"showlegend\":false,\"text\":[\"BA.1.X\",\"BA.1.X\",\"BA.1.X\",\"BA.1.X\",\"BA.1.X\",\"BA.1.X\",\"BA.1.X\",\"BA.1.X\",\"BA.1.X\"],\"textposition\":\"auto\",\"x\":[\"0adgio1\",\"0adgio1-2\",\"0adgio1o2o3o4o5\",\"0agio1o2\",\"0aio1o2o3o4o5\",\"adgio1o2o3\",\"o1-2\",\"o1o2\",\"o1o2o3o4o5\"],\"xaxis\":\"x8\",\"y\":[1,1,1,1,1,1,1,1,1],\"yaxis\":\"y8\",\"type\":\"bar\"},{\"alignmentgroup\":\"True\",\"hovertemplate\":\"Lineages=%{text}\\u003cbr\\u003escheme=kallisto\\u003cbr\\u003eSample=%{x}\\u003cbr\\u003eAbundances=%{y}\\u003cextra\\u003e\\u003c\\u002fextra\\u003e\",\"legendgroup\":\"BA.1.X\",\"marker\":{\"color\":\"#ab63fa\",\"pattern\":{\"shape\":\"\"}},\"name\":\"BA.1.X\",\"offsetgroup\":\"BA.1.X\",\"orientation\":\"v\",\"showlegend\":false,\"text\":[\"BA.1.X\",\"BA.1.X\",\"BA.1.X\",\"BA.1.X\",\"BA.1.X\",\"BA.1.X\",\"BA.1.X\",\"BA.1.X\",\"BA.1.X\",\"BA.1.X\",\"BA.1.X\",\"BA.1.X\",\"BA.1.X\",\"BA.1.X\",\"BA.1.X\",\"BA.1.X\",\"BA.1.X\",\"BA.1.X\"],\"textposition\":\"auto\",\"x\":[\"0adgio1\",\"0adgio1-2\",\"0adgio1o2o3o4o5\",\"0agio1o2\",\"0aio1o2o3o4o5\",\"0o5o3o4\",\"adgio1o2o3\",\"agio3o4o5\",\"o1-2\",\"o1o2\",\"o1o2o3o4o5\",\"o2-2\",\"o2-3\",\"o2o3o4o5\",\"o2o3o4o5-2\",\"o2o3o4o5-3\",\"o3-4\",\"o5\"],\"xaxis\":\"x7\",\"y\":[1,1,1,1,1,-1,1,-1,1,1,1,-1,-1,-1,-1,-1,-1,-1],\"yaxis\":\"y7\",\"type\":\"bar\"},{\"alignmentgroup\":\"True\",\"hovertemplate\":\"Lineages=%{text}\\u003cbr\\u003escheme=kallisto (C-WAP)\\u003cbr\\u003eSample=%{x}\\u003cbr\\u003eAbundances=%{y}\\u003cextra\\u003e\\u003c\\u002fextra\\u003e\",\"legendgroup\":\"BA.1.X\",\"marker\":{\"color\":\"#ab63fa\",\"pattern\":{\"shape\":\"\"}},\"name\":\"BA.1.X\",\"offsetgroup\":\"BA.1.X\",\"orientation\":\"v\",\"showlegend\":false,\"text\":[\"BA.1.X\",\"BA.1.X\",\"BA.1.X\",\"BA.1.X\",\"BA.1.X\",\"BA.1.X\",\"BA.1.X\",\"BA.1.X\",\"BA.1.X\",\"BA.1.X\",\"BA.1.X\",\"BA.1.X\",\"BA.1.X\",\"BA.1.X\",\"BA.1.X\",\"BA.1.X\",\"BA.1.X\",\"BA.1.X\",\"BA.1.X\"],\"textposition\":\"auto\",\"x\":[\"0adgio1\",\"0adgio1-2\",\"0adgio1o2o3o4o5\",\"0agio1o2\",\"0aio1o2o3o4o5\",\"0o5o3o4\",\"adgio1o2o3\",\"agio3o4o5\",\"d\",\"d-2\",\"g\",\"g-2\",\"o1-2\",\"o1o2\",\"o1o2o3o4o5\",\"o2-3\",\"o2o3o4o5\",\"o2o3o4o5-2\",\"o2o3o4o5-3\"],\"xaxis\":\"x6\",\"y\":[1,1,1,1,1,-1,1,-1,-1,-1,-1,-1,1,1,1,-1,-1,-1,-1],\"yaxis\":\"y6\",\"type\":\"bar\"},{\"alignmentgroup\":\"True\",\"hovertemplate\":\"Lineages=%{text}\\u003cbr\\u003escheme=Kraken 2 (C-WAP)\\u003cbr\\u003eSample=%{x}\\u003cbr\\u003eAbundances=%{y}\\u003cextra\\u003e\\u003c\\u002fextra\\u003e\",\"legendgroup\":\"BA.1.X\",\"marker\":{\"color\":\"#ab63fa\",\"pattern\":{\"shape\":\"\"}},\"name\":\"BA.1.X\",\"offsetgroup\":\"BA.1.X\",\"orientation\":\"v\",\"showlegend\":false,\"text\":[\"BA.1.X\",\"BA.1.X\",\"BA.1.X\",\"BA.1.X\",\"BA.1.X\",\"BA.1.X\",\"BA.1.X\",\"BA.1.X\",\"BA.1.X\",\"BA.1.X\",\"BA.1.X\",\"BA.1.X\",\"BA.1.X\",\"BA.1.X\",\"BA.1.X\",\"BA.1.X\",\"BA.1.X\",\"BA.1.X\",\"BA.1.X\",\"BA.1.X\",\"BA.1.X\",\"BA.1.X\",\"BA.1.X\",\"BA.1.X\",\"BA.1.X\",\"BA.1.X\",\"BA.1.X\",\"BA.1.X\",\"BA.1.X\",\"BA.1.X\",\"BA.1.X\",\"BA.1.X\",\"BA.1.X\",\"BA.1.X\",\"BA.1.X\",\"BA.1.X\",\"BA.1.X\",\"BA.1.X\"],\"textposition\":\"auto\",\"x\":[\"0\",\"0-2\",\"0-3\",\"0-4\",\"0adgio1\",\"0adgio1-2\",\"0adgio1o2o3o4o5\",\"0agio1o2\",\"0aio1o2o3o4o5\",\"0o5o3o4\",\"a\",\"a-2\",\"adgio1o2o3\",\"agio3o4o5\",\"d\",\"d-2\",\"g\",\"g-2\",\"i\",\"i-2\",\"o1-2\",\"o1o2\",\"o1o2o3o4o5\",\"o2-2\",\"o2-3\",\"o2o3o4o5\",\"o2o3o4o5-2\",\"o2o3o4o5-3\",\"o3\",\"o3-2\",\"o3-3\",\"o3-4\",\"o4\",\"o4-2\",\"o4-3\",\"o5\",\"o5-2\",\"o5-3\"],\"xaxis\":\"x5\",\"y\":[-1,-1,-1,-1,1,1,1,1,1,-1,-1,-1,1,-1,-1,-1,-1,-1,-1,-1,1,1,1,-1,-1,-1,-1,-1,-1,-1,-1,-1,-1,-1,-1,-1,-1,-1],\"yaxis\":\"y5\",\"type\":\"bar\"},{\"alignmentgroup\":\"True\",\"hovertemplate\":\"Lineages=%{text}\\u003cbr\\u003escheme=LCS\\u003cbr\\u003eSample=%{x}\\u003cbr\\u003eAbundances=%{y}\\u003cextra\\u003e\\u003c\\u002fextra\\u003e\",\"legendgroup\":\"BA.1.X\",\"marker\":{\"color\":\"#ab63fa\",\"pattern\":{\"shape\":\"\"}},\"name\":\"BA.1.X\",\"offsetgroup\":\"BA.1.X\",\"orientation\":\"v\",\"showlegend\":false,\"text\":[\"BA.1.X\",\"BA.1.X\",\"BA.1.X\",\"BA.1.X\",\"BA.1.X\",\"BA.1.X\",\"BA.1.X\",\"BA.1.X\",\"BA.1.X\",\"BA.1.X\",\"BA.1.X\",\"BA.1.X\",\"BA.1.X\",\"BA.1.X\",\"BA.1.X\",\"BA.1.X\",\"BA.1.X\",\"BA.1.X\",\"BA.1.X\",\"BA.1.X\",\"BA.1.X\",\"BA.1.X\",\"BA.1.X\",\"BA.1.X\",\"BA.1.X\",\"BA.1.X\",\"BA.1.X\",\"BA.1.X\",\"BA.1.X\",\"BA.1.X\",\"BA.1.X\",\"BA.1.X\",\"BA.1.X\",\"BA.1.X\"],\"textposition\":\"auto\",\"x\":[\"0-2\",\"0-4\",\"0adgio1\",\"0adgio1-2\",\"0adgio1o2o3o4o5\",\"0agio1o2\",\"0aio1o2o3o4o5\",\"0o5o3o4\",\"a\",\"adgio1o2o3\",\"agio3o4o5\",\"d\",\"g\",\"g-2\",\"i\",\"i-2\",\"o1-2\",\"o1o2\",\"o1o2o3o4o5\",\"o2-2\",\"o2-3\",\"o2o3o4o5\",\"o2o3o4o5-2\",\"o2o3o4o5-3\",\"o3\",\"o3-2\",\"o3-3\",\"o3-4\",\"o4\",\"o4-2\",\"o4-3\",\"o5\",\"o5-2\",\"o5-3\"],\"xaxis\":\"x4\",\"y\":[-1,-1,1,1,1,1,1,-1,-1,1,-1,-1,-1,-1,-1,-1,1,1,1,-1,-1,-1,-1,-1,-1,-1,-1,-1,-1,-1,-1,-1,-1,-1],\"yaxis\":\"y4\",\"type\":\"bar\"},{\"alignmentgroup\":\"True\",\"hovertemplate\":\"Lineages=%{text}\\u003cbr\\u003escheme=LolliPop\\u003cbr\\u003eSample=%{x}\\u003cbr\\u003eAbundances=%{y}\\u003cextra\\u003e\\u003c\\u002fextra\\u003e\",\"legendgroup\":\"BA.1.X\",\"marker\":{\"color\":\"#ab63fa\",\"pattern\":{\"shape\":\"\"}},\"name\":\"BA.1.X\",\"offsetgroup\":\"BA.1.X\",\"orientation\":\"v\",\"showlegend\":false,\"text\":[\"BA.1.X\",\"BA.1.X\",\"BA.1.X\",\"BA.1.X\",\"BA.1.X\",\"BA.1.X\",\"BA.1.X\",\"BA.1.X\",\"BA.1.X\"],\"textposition\":\"auto\",\"x\":[\"0adgio1\",\"0adgio1-2\",\"0adgio1o2o3o4o5\",\"0agio1o2\",\"0aio1o2o3o4o5\",\"adgio1o2o3\",\"o1-2\",\"o1o2\",\"o1o2o3o4o5\"],\"xaxis\":\"x2\",\"y\":[1,1,1,1,1,1,1,1,1],\"yaxis\":\"y2\",\"type\":\"bar\"},{\"alignmentgroup\":\"True\",\"hovertemplate\":\"Lineages=%{text}\\u003cbr\\u003escheme=VaQuERo\\u003cbr\\u003eSample=%{x}\\u003cbr\\u003eAbundances=%{y}\\u003cextra\\u003e\\u003c\\u002fextra\\u003e\",\"legendgroup\":\"BA.1.X\",\"marker\":{\"color\":\"#ab63fa\",\"pattern\":{\"shape\":\"\"}},\"name\":\"BA.1.X\",\"offsetgroup\":\"BA.1.X\",\"orientation\":\"v\",\"showlegend\":false,\"text\":[\"BA.1.X\",\"BA.1.X\",\"BA.1.X\",\"BA.1.X\",\"BA.1.X\",\"BA.1.X\",\"BA.1.X\",\"BA.1.X\"],\"textposition\":\"auto\",\"x\":[\"0adgio1\",\"0adgio1-2\",\"0agio1o2\",\"0aio1o2o3o4o5\",\"adgio1o2o3\",\"o1-2\",\"o1o2\",\"o1o2o3o4o5\"],\"xaxis\":\"x\",\"y\":[1,1,1,1,1,1,1,1],\"yaxis\":\"y\",\"type\":\"bar\"},{\"alignmentgroup\":\"True\",\"hovertemplate\":\"Lineages=%{text}\\u003cbr\\u003escheme=Alcov\\u003cbr\\u003eSample=%{x}\\u003cbr\\u003eAbundances=%{y}\\u003cextra\\u003e\\u003c\\u002fextra\\u003e\",\"legendgroup\":\"Delta\",\"marker\":{\"color\":\"#FFA15A\",\"pattern\":{\"shape\":\"\"}},\"name\":\"Delta\",\"offsetgroup\":\"Delta\",\"orientation\":\"v\",\"showlegend\":true,\"text\":[\"Delta\",\"Delta\",\"Delta\",\"Delta\",\"Delta\",\"Delta\"],\"textposition\":\"auto\",\"x\":[\"0adgio1\",\"0adgio1-2\",\"0adgio1o2o3o4o5\",\"adgio1o2o3\",\"d\",\"d-2\"],\"xaxis\":\"x9\",\"y\":[1,1,1,1,1,1],\"yaxis\":\"y9\",\"type\":\"bar\"},{\"alignmentgroup\":\"True\",\"hovertemplate\":\"Lineages=%{text}\\u003cbr\\u003escheme=Freyja\\u003cbr\\u003eSample=%{x}\\u003cbr\\u003eAbundances=%{y}\\u003cextra\\u003e\\u003c\\u002fextra\\u003e\",\"legendgroup\":\"Delta\",\"marker\":{\"color\":\"#FFA15A\",\"pattern\":{\"shape\":\"\"}},\"name\":\"Delta\",\"offsetgroup\":\"Delta\",\"orientation\":\"v\",\"showlegend\":false,\"text\":[\"Delta\",\"Delta\",\"Delta\",\"Delta\",\"Delta\",\"Delta\"],\"textposition\":\"auto\",\"x\":[\"0adgio1\",\"0adgio1-2\",\"0adgio1o2o3o4o5\",\"adgio1o2o3\",\"d\",\"d-2\"],\"xaxis\":\"x8\",\"y\":[1,1,1,1,1,1],\"yaxis\":\"y8\",\"type\":\"bar\"},{\"alignmentgroup\":\"True\",\"hovertemplate\":\"Lineages=%{text}\\u003cbr\\u003escheme=kallisto\\u003cbr\\u003eSample=%{x}\\u003cbr\\u003eAbundances=%{y}\\u003cextra\\u003e\\u003c\\u002fextra\\u003e\",\"legendgroup\":\"Delta\",\"marker\":{\"color\":\"#FFA15A\",\"pattern\":{\"shape\":\"\"}},\"name\":\"Delta\",\"offsetgroup\":\"Delta\",\"orientation\":\"v\",\"showlegend\":false,\"text\":[\"Delta\",\"Delta\",\"Delta\",\"Delta\",\"Delta\",\"Delta\",\"Delta\",\"Delta\",\"Delta\",\"Delta\",\"Delta\",\"Delta\",\"Delta\",\"Delta\",\"Delta\",\"Delta\",\"Delta\",\"Delta\",\"Delta\",\"Delta\",\"Delta\",\"Delta\",\"Delta\",\"Delta\",\"Delta\",\"Delta\",\"Delta\",\"Delta\",\"Delta\",\"Delta\",\"Delta\",\"Delta\",\"Delta\",\"Delta\",\"Delta\",\"Delta\",\"Delta\",\"Delta\"],\"textposition\":\"auto\",\"x\":[\"0\",\"0-2\",\"0-3\",\"0-4\",\"0adgio1\",\"0adgio1-2\",\"0adgio1o2o3o4o5\",\"0agio1o2\",\"0aio1o2o3o4o5\",\"0o5o3o4\",\"a\",\"a-2\",\"adgio1o2o3\",\"agio3o4o5\",\"d\",\"d-2\",\"g\",\"g-2\",\"i\",\"i-2\",\"o1-2\",\"o1o2\",\"o1o2o3o4o5\",\"o2-2\",\"o2-3\",\"o2o3o4o5\",\"o2o3o4o5-2\",\"o2o3o4o5-3\",\"o3\",\"o3-2\",\"o3-3\",\"o3-4\",\"o4\",\"o4-2\",\"o4-3\",\"o5\",\"o5-2\",\"o5-3\"],\"xaxis\":\"x7\",\"y\":[-1,-1,-1,-1,1,1,1,-1,-1,-1,-1,-1,1,-1,1,1,-1,-1,-1,-1,-1,-1,-1,-1,-1,-1,-1,-1,-1,-1,-1,-1,-1,-1,-1,-1,-1,-1],\"yaxis\":\"y7\",\"type\":\"bar\"},{\"alignmentgroup\":\"True\",\"hovertemplate\":\"Lineages=%{text}\\u003cbr\\u003escheme=kallisto (C-WAP)\\u003cbr\\u003eSample=%{x}\\u003cbr\\u003eAbundances=%{y}\\u003cextra\\u003e\\u003c\\u002fextra\\u003e\",\"legendgroup\":\"Delta\",\"marker\":{\"color\":\"#FFA15A\",\"pattern\":{\"shape\":\"\"}},\"name\":\"Delta\",\"offsetgroup\":\"Delta\",\"orientation\":\"v\",\"showlegend\":false,\"text\":[\"Delta\",\"Delta\",\"Delta\",\"Delta\",\"Delta\",\"Delta\"],\"textposition\":\"auto\",\"x\":[\"0adgio1\",\"0adgio1-2\",\"0adgio1o2o3o4o5\",\"adgio1o2o3\",\"d\",\"d-2\"],\"xaxis\":\"x6\",\"y\":[1,1,1,1,1,1],\"yaxis\":\"y6\",\"type\":\"bar\"},{\"alignmentgroup\":\"True\",\"hovertemplate\":\"Lineages=%{text}\\u003cbr\\u003escheme=LCS\\u003cbr\\u003eSample=%{x}\\u003cbr\\u003eAbundances=%{y}\\u003cextra\\u003e\\u003c\\u002fextra\\u003e\",\"legendgroup\":\"Delta\",\"marker\":{\"color\":\"#FFA15A\",\"pattern\":{\"shape\":\"\"}},\"name\":\"Delta\",\"offsetgroup\":\"Delta\",\"orientation\":\"v\",\"showlegend\":false,\"text\":[\"Delta\",\"Delta\",\"Delta\",\"Delta\",\"Delta\",\"Delta\"],\"textposition\":\"auto\",\"x\":[\"0adgio1\",\"0adgio1-2\",\"0adgio1o2o3o4o5\",\"adgio1o2o3\",\"d\",\"d-2\"],\"xaxis\":\"x4\",\"y\":[1,1,1,1,1,1],\"yaxis\":\"y4\",\"type\":\"bar\"},{\"alignmentgroup\":\"True\",\"hovertemplate\":\"Lineages=%{text}\\u003cbr\\u003escheme=lineagespot\\u003cbr\\u003eSample=%{x}\\u003cbr\\u003eAbundances=%{y}\\u003cextra\\u003e\\u003c\\u002fextra\\u003e\",\"legendgroup\":\"Delta\",\"marker\":{\"color\":\"#FFA15A\",\"pattern\":{\"shape\":\"\"}},\"name\":\"Delta\",\"offsetgroup\":\"Delta\",\"orientation\":\"v\",\"showlegend\":false,\"text\":[\"Delta\",\"Delta\",\"Delta\",\"Delta\",\"Delta\",\"Delta\",\"Delta\",\"Delta\",\"Delta\",\"Delta\",\"Delta\",\"Delta\",\"Delta\"],\"textposition\":\"auto\",\"x\":[\"0adgio1o2o3o4o5\",\"0agio1o2\",\"d\",\"d-2\",\"o1-2\",\"o1o2\",\"o2o3o4o5\",\"o2o3o4o5-3\",\"o3-3\",\"o3-4\",\"o4\",\"o4-2\",\"o5\"],\"xaxis\":\"x3\",\"y\":[1,-1,1,1,-1,-1,-1,-1,-1,-1,-1,-1,-1],\"yaxis\":\"y3\",\"type\":\"bar\"},{\"alignmentgroup\":\"True\",\"hovertemplate\":\"Lineages=%{text}\\u003cbr\\u003escheme=LolliPop\\u003cbr\\u003eSample=%{x}\\u003cbr\\u003eAbundances=%{y}\\u003cextra\\u003e\\u003c\\u002fextra\\u003e\",\"legendgroup\":\"Delta\",\"marker\":{\"color\":\"#FFA15A\",\"pattern\":{\"shape\":\"\"}},\"name\":\"Delta\",\"offsetgroup\":\"Delta\",\"orientation\":\"v\",\"showlegend\":false,\"text\":[\"Delta\",\"Delta\",\"Delta\",\"Delta\",\"Delta\",\"Delta\",\"Delta\",\"Delta\",\"Delta\",\"Delta\",\"Delta\",\"Delta\",\"Delta\",\"Delta\",\"Delta\",\"Delta\",\"Delta\",\"Delta\"],\"textposition\":\"auto\",\"x\":[\"0\",\"0-2\",\"0-3\",\"0-4\",\"0adgio1\",\"0adgio1-2\",\"0adgio1o2o3o4o5\",\"0agio1o2\",\"0o5o3o4\",\"adgio1o2o3\",\"d\",\"d-2\",\"i\",\"i-2\",\"o1-2\",\"o1o2\",\"o3\",\"o5-3\"],\"xaxis\":\"x2\",\"y\":[-1,-1,-1,-1,1,1,1,-1,-1,1,1,1,-1,-1,-1,-1,-1,-1],\"yaxis\":\"y2\",\"type\":\"bar\"},{\"alignmentgroup\":\"True\",\"hovertemplate\":\"Lineages=%{text}\\u003cbr\\u003escheme=VaQuERo\\u003cbr\\u003eSample=%{x}\\u003cbr\\u003eAbundances=%{y}\\u003cextra\\u003e\\u003c\\u002fextra\\u003e\",\"legendgroup\":\"Delta\",\"marker\":{\"color\":\"#FFA15A\",\"pattern\":{\"shape\":\"\"}},\"name\":\"Delta\",\"offsetgroup\":\"Delta\",\"orientation\":\"v\",\"showlegend\":false,\"text\":[\"Delta\",\"Delta\",\"Delta\",\"Delta\",\"Delta\",\"Delta\"],\"textposition\":\"auto\",\"x\":[\"0adgio1\",\"0adgio1-2\",\"0adgio1o2o3o4o5\",\"adgio1o2o3\",\"d\",\"d-2\"],\"xaxis\":\"x\",\"y\":[1,1,1,1,1,1],\"yaxis\":\"y\",\"type\":\"bar\"},{\"alignmentgroup\":\"True\",\"hovertemplate\":\"Lineages=%{text}\\u003cbr\\u003escheme=Alcov\\u003cbr\\u003eSample=%{x}\\u003cbr\\u003eAbundances=%{y}\\u003cextra\\u003e\\u003c\\u002fextra\\u003e\",\"legendgroup\":\"BA.4.X\",\"marker\":{\"color\":\"#19d3f3\",\"pattern\":{\"shape\":\"\"}},\"name\":\"BA.4.X\",\"offsetgroup\":\"BA.4.X\",\"orientation\":\"v\",\"showlegend\":true,\"text\":[\"BA.4.X\",\"BA.4.X\",\"BA.4.X\",\"BA.4.X\",\"BA.4.X\",\"BA.4.X\",\"BA.4.X\",\"BA.4.X\",\"BA.4.X\",\"BA.4.X\",\"BA.4.X\"],\"textposition\":\"auto\",\"x\":[\"0adgio1o2o3o4o5\",\"0aio1o2o3o4o5\",\"0o5o3o4\",\"agio3o4o5\",\"o1o2o3o4o5\",\"o2o3o4o5\",\"o2o3o4o5-2\",\"o2o3o4o5-3\",\"o4\",\"o4-2\",\"o4-3\"],\"xaxis\":\"x9\",\"y\":[1,1,1,1,1,1,1,1,1,1,1],\"yaxis\":\"y9\",\"type\":\"bar\"},{\"alignmentgroup\":\"True\",\"hovertemplate\":\"Lineages=%{text}\\u003cbr\\u003escheme=Freyja\\u003cbr\\u003eSample=%{x}\\u003cbr\\u003eAbundances=%{y}\\u003cextra\\u003e\\u003c\\u002fextra\\u003e\",\"legendgroup\":\"BA.4.X\",\"marker\":{\"color\":\"#19d3f3\",\"pattern\":{\"shape\":\"\"}},\"name\":\"BA.4.X\",\"offsetgroup\":\"BA.4.X\",\"orientation\":\"v\",\"showlegend\":false,\"text\":[\"BA.4.X\",\"BA.4.X\",\"BA.4.X\",\"BA.4.X\",\"BA.4.X\",\"BA.4.X\",\"BA.4.X\",\"BA.4.X\",\"BA.4.X\",\"BA.4.X\",\"BA.4.X\"],\"textposition\":\"auto\",\"x\":[\"0adgio1o2o3o4o5\",\"0aio1o2o3o4o5\",\"0o5o3o4\",\"agio3o4o5\",\"o1o2o3o4o5\",\"o2o3o4o5\",\"o2o3o4o5-2\",\"o2o3o4o5-3\",\"o4\",\"o4-2\",\"o4-3\"],\"xaxis\":\"x8\",\"y\":[1,1,1,1,1,1,1,1,1,1,1],\"yaxis\":\"y8\",\"type\":\"bar\"},{\"alignmentgroup\":\"True\",\"hovertemplate\":\"Lineages=%{text}\\u003cbr\\u003escheme=kallisto\\u003cbr\\u003eSample=%{x}\\u003cbr\\u003eAbundances=%{y}\\u003cextra\\u003e\\u003c\\u002fextra\\u003e\",\"legendgroup\":\"BA.4.X\",\"marker\":{\"color\":\"#19d3f3\",\"pattern\":{\"shape\":\"\"}},\"name\":\"BA.4.X\",\"offsetgroup\":\"BA.4.X\",\"orientation\":\"v\",\"showlegend\":false,\"text\":[\"BA.4.X\",\"BA.4.X\",\"BA.4.X\",\"BA.4.X\",\"BA.4.X\",\"BA.4.X\",\"BA.4.X\",\"BA.4.X\",\"BA.4.X\",\"BA.4.X\",\"BA.4.X\",\"BA.4.X\",\"BA.4.X\",\"BA.4.X\",\"BA.4.X\",\"BA.4.X\",\"BA.4.X\",\"BA.4.X\",\"BA.4.X\",\"BA.4.X\",\"BA.4.X\",\"BA.4.X\",\"BA.4.X\"],\"textposition\":\"auto\",\"x\":[\"0adgio1o2o3o4o5\",\"0agio1o2\",\"0aio1o2o3o4o5\",\"0o5o3o4\",\"adgio1o2o3\",\"agio3o4o5\",\"o1o2\",\"o1o2o3o4o5\",\"o2-2\",\"o2-3\",\"o2o3o4o5\",\"o2o3o4o5-2\",\"o2o3o4o5-3\",\"o3\",\"o3-2\",\"o3-3\",\"o3-4\",\"o4\",\"o4-2\",\"o4-3\",\"o5\",\"o5-2\",\"o5-3\"],\"xaxis\":\"x7\",\"y\":[1,-1,1,1,-1,1,-1,1,-1,-1,1,1,1,-1,-1,-1,-1,1,1,1,-1,-1,-1],\"yaxis\":\"y7\",\"type\":\"bar\"},{\"alignmentgroup\":\"True\",\"hovertemplate\":\"Lineages=%{text}\\u003cbr\\u003escheme=kallisto (C-WAP)\\u003cbr\\u003eSample=%{x}\\u003cbr\\u003eAbundances=%{y}\\u003cextra\\u003e\\u003c\\u002fextra\\u003e\",\"legendgroup\":\"BA.4.X\",\"marker\":{\"color\":\"#19d3f3\",\"pattern\":{\"shape\":\"\"}},\"name\":\"BA.4.X\",\"offsetgroup\":\"BA.4.X\",\"orientation\":\"v\",\"showlegend\":false,\"text\":[\"BA.4.X\",\"BA.4.X\",\"BA.4.X\",\"BA.4.X\",\"BA.4.X\",\"BA.4.X\",\"BA.4.X\",\"BA.4.X\",\"BA.4.X\",\"BA.4.X\",\"BA.4.X\",\"BA.4.X\",\"BA.4.X\",\"BA.4.X\",\"BA.4.X\",\"BA.4.X\",\"BA.4.X\",\"BA.4.X\",\"BA.4.X\",\"BA.4.X\",\"BA.4.X\",\"BA.4.X\",\"BA.4.X\",\"BA.4.X\"],\"textposition\":\"auto\",\"x\":[\"0adgio1o2o3o4o5\",\"0agio1o2\",\"0aio1o2o3o4o5\",\"0o5o3o4\",\"adgio1o2o3\",\"agio3o4o5\",\"o1-2\",\"o1o2\",\"o1o2o3o4o5\",\"o2-2\",\"o2-3\",\"o2o3o4o5\",\"o2o3o4o5-2\",\"o2o3o4o5-3\",\"o3\",\"o3-2\",\"o3-3\",\"o3-4\",\"o4\",\"o4-2\",\"o4-3\",\"o5\",\"o5-2\",\"o5-3\"],\"xaxis\":\"x6\",\"y\":[1,-1,1,1,-1,1,-1,-1,1,-1,-1,1,1,1,-1,-1,-1,-1,1,1,1,-1,-1,-1],\"yaxis\":\"y6\",\"type\":\"bar\"},{\"alignmentgroup\":\"True\",\"hovertemplate\":\"Lineages=%{text}\\u003cbr\\u003escheme=Kraken 2 (C-WAP)\\u003cbr\\u003eSample=%{x}\\u003cbr\\u003eAbundances=%{y}\\u003cextra\\u003e\\u003c\\u002fextra\\u003e\",\"legendgroup\":\"BA.4.X\",\"marker\":{\"color\":\"#19d3f3\",\"pattern\":{\"shape\":\"\"}},\"name\":\"BA.4.X\",\"offsetgroup\":\"BA.4.X\",\"orientation\":\"v\",\"showlegend\":false,\"text\":[\"BA.4.X\",\"BA.4.X\",\"BA.4.X\",\"BA.4.X\",\"BA.4.X\",\"BA.4.X\",\"BA.4.X\",\"BA.4.X\",\"BA.4.X\",\"BA.4.X\",\"BA.4.X\",\"BA.4.X\",\"BA.4.X\",\"BA.4.X\",\"BA.4.X\",\"BA.4.X\",\"BA.4.X\",\"BA.4.X\",\"BA.4.X\",\"BA.4.X\",\"BA.4.X\",\"BA.4.X\",\"BA.4.X\",\"BA.4.X\",\"BA.4.X\",\"BA.4.X\",\"BA.4.X\",\"BA.4.X\",\"BA.4.X\",\"BA.4.X\",\"BA.4.X\",\"BA.4.X\",\"BA.4.X\",\"BA.4.X\",\"BA.4.X\",\"BA.4.X\",\"BA.4.X\",\"BA.4.X\"],\"textposition\":\"auto\",\"x\":[\"0\",\"0-2\",\"0-3\",\"0-4\",\"0adgio1\",\"0adgio1-2\",\"0adgio1o2o3o4o5\",\"0agio1o2\",\"0aio1o2o3o4o5\",\"0o5o3o4\",\"a\",\"a-2\",\"adgio1o2o3\",\"agio3o4o5\",\"d\",\"d-2\",\"g\",\"g-2\",\"i\",\"i-2\",\"o1-2\",\"o1o2\",\"o1o2o3o4o5\",\"o2-2\",\"o2-3\",\"o2o3o4o5\",\"o2o3o4o5-2\",\"o2o3o4o5-3\",\"o3\",\"o3-2\",\"o3-3\",\"o3-4\",\"o4\",\"o4-2\",\"o4-3\",\"o5\",\"o5-2\",\"o5-3\"],\"xaxis\":\"x5\",\"y\":[-1,-1,-1,-1,-1,-1,1,-1,1,1,-1,-1,-1,1,-1,-1,-1,-1,-1,-1,-1,-1,1,-1,-1,1,1,1,-1,-1,-1,-1,1,1,1,-1,-1,-1],\"yaxis\":\"y5\",\"type\":\"bar\"},{\"alignmentgroup\":\"True\",\"hovertemplate\":\"Lineages=%{text}\\u003cbr\\u003escheme=LCS\\u003cbr\\u003eSample=%{x}\\u003cbr\\u003eAbundances=%{y}\\u003cextra\\u003e\\u003c\\u002fextra\\u003e\",\"legendgroup\":\"BA.4.X\",\"marker\":{\"color\":\"#19d3f3\",\"pattern\":{\"shape\":\"\"}},\"name\":\"BA.4.X\",\"offsetgroup\":\"BA.4.X\",\"orientation\":\"v\",\"showlegend\":false,\"text\":[\"BA.4.X\",\"BA.4.X\",\"BA.4.X\",\"BA.4.X\",\"BA.4.X\",\"BA.4.X\",\"BA.4.X\",\"BA.4.X\",\"BA.4.X\",\"BA.4.X\",\"BA.4.X\",\"BA.4.X\",\"BA.4.X\",\"BA.4.X\",\"BA.4.X\",\"BA.4.X\"],\"textposition\":\"auto\",\"x\":[\"0adgio1o2o3o4o5\",\"0aio1o2o3o4o5\",\"0o5o3o4\",\"agio3o4o5\",\"o1o2\",\"o1o2o3o4o5\",\"o2-2\",\"o2o3o4o5\",\"o2o3o4o5-2\",\"o2o3o4o5-3\",\"o3\",\"o3-3\",\"o3-4\",\"o4\",\"o4-2\",\"o4-3\"],\"xaxis\":\"x4\",\"y\":[1,1,1,1,-1,1,-1,1,1,1,-1,-1,-1,1,1,1],\"yaxis\":\"y4\",\"type\":\"bar\"},{\"alignmentgroup\":\"True\",\"hovertemplate\":\"Lineages=%{text}\\u003cbr\\u003escheme=LolliPop\\u003cbr\\u003eSample=%{x}\\u003cbr\\u003eAbundances=%{y}\\u003cextra\\u003e\\u003c\\u002fextra\\u003e\",\"legendgroup\":\"BA.4.X\",\"marker\":{\"color\":\"#19d3f3\",\"pattern\":{\"shape\":\"\"}},\"name\":\"BA.4.X\",\"offsetgroup\":\"BA.4.X\",\"orientation\":\"v\",\"showlegend\":false,\"text\":[\"BA.4.X\",\"BA.4.X\",\"BA.4.X\",\"BA.4.X\",\"BA.4.X\",\"BA.4.X\",\"BA.4.X\",\"BA.4.X\",\"BA.4.X\",\"BA.4.X\",\"BA.4.X\",\"BA.4.X\",\"BA.4.X\",\"BA.4.X\",\"BA.4.X\",\"BA.4.X\",\"BA.4.X\",\"BA.4.X\",\"BA.4.X\",\"BA.4.X\",\"BA.4.X\",\"BA.4.X\",\"BA.4.X\"],\"textposition\":\"auto\",\"x\":[\"0\",\"0-2\",\"0-3\",\"0-4\",\"0adgio1\",\"0adgio1-2\",\"0adgio1o2o3o4o5\",\"0agio1o2\",\"0aio1o2o3o4o5\",\"0o5o3o4\",\"agio3o4o5\",\"i\",\"i-2\",\"o1o2o3o4o5\",\"o2o3o4o5\",\"o2o3o4o5-2\",\"o2o3o4o5-3\",\"o4\",\"o4-2\",\"o4-3\",\"o5\",\"o5-2\",\"o5-3\"],\"xaxis\":\"x2\",\"y\":[-1,-1,-1,-1,-1,-1,1,-1,1,1,1,-1,-1,1,1,1,1,1,1,1,-1,-1,-1],\"yaxis\":\"y2\",\"type\":\"bar\"},{\"alignmentgroup\":\"True\",\"hovertemplate\":\"Lineages=%{text}\\u003cbr\\u003escheme=VaQuERo\\u003cbr\\u003eSample=%{x}\\u003cbr\\u003eAbundances=%{y}\\u003cextra\\u003e\\u003c\\u002fextra\\u003e\",\"legendgroup\":\"BA.4.X\",\"marker\":{\"color\":\"#19d3f3\",\"pattern\":{\"shape\":\"\"}},\"name\":\"BA.4.X\",\"offsetgroup\":\"BA.4.X\",\"orientation\":\"v\",\"showlegend\":false,\"text\":[\"BA.4.X\",\"BA.4.X\",\"BA.4.X\",\"BA.4.X\",\"BA.4.X\",\"BA.4.X\",\"BA.4.X\",\"BA.4.X\",\"BA.4.X\",\"BA.4.X\",\"BA.4.X\"],\"textposition\":\"auto\",\"x\":[\"0adgio1o2o3o4o5\",\"0aio1o2o3o4o5\",\"0o5o3o4\",\"agio3o4o5\",\"o1o2o3o4o5\",\"o2o3o4o5\",\"o2o3o4o5-2\",\"o2o3o4o5-3\",\"o4\",\"o4-2\",\"o4-3\"],\"xaxis\":\"x\",\"y\":[1,1,1,1,1,1,1,1,1,1,1],\"yaxis\":\"y\",\"type\":\"bar\"},{\"alignmentgroup\":\"True\",\"hovertemplate\":\"Lineages=%{text}\\u003cbr\\u003escheme=Alcov\\u003cbr\\u003eSample=%{x}\\u003cbr\\u003eAbundances=%{y}\\u003cextra\\u003e\\u003c\\u002fextra\\u003e\",\"legendgroup\":\"BA.2.X\",\"marker\":{\"color\":\"#FF6692\",\"pattern\":{\"shape\":\"\"}},\"name\":\"BA.2.X\",\"offsetgroup\":\"BA.2.X\",\"orientation\":\"v\",\"showlegend\":true,\"text\":[\"BA.2.X\",\"BA.2.X\",\"BA.2.X\",\"BA.2.X\",\"BA.2.X\",\"BA.2.X\",\"BA.2.X\",\"BA.2.X\",\"BA.2.X\",\"BA.2.X\"],\"textposition\":\"auto\",\"x\":[\"0adgio1o2o3o4o5\",\"0agio1o2\",\"adgio1o2o3\",\"o1o2\",\"o1o2o3o4o5\",\"o2-2\",\"o2-3\",\"o2o3o4o5\",\"o2o3o4o5-2\",\"o2o3o4o5-3\"],\"xaxis\":\"x9\",\"y\":[1,1,1,1,1,1,1,1,1,1],\"yaxis\":\"y9\",\"type\":\"bar\"},{\"alignmentgroup\":\"True\",\"hovertemplate\":\"Lineages=%{text}\\u003cbr\\u003escheme=Freyja\\u003cbr\\u003eSample=%{x}\\u003cbr\\u003eAbundances=%{y}\\u003cextra\\u003e\\u003c\\u002fextra\\u003e\",\"legendgroup\":\"BA.2.X\",\"marker\":{\"color\":\"#FF6692\",\"pattern\":{\"shape\":\"\"}},\"name\":\"BA.2.X\",\"offsetgroup\":\"BA.2.X\",\"orientation\":\"v\",\"showlegend\":false,\"text\":[\"BA.2.X\",\"BA.2.X\",\"BA.2.X\",\"BA.2.X\",\"BA.2.X\",\"BA.2.X\",\"BA.2.X\",\"BA.2.X\",\"BA.2.X\",\"BA.2.X\",\"BA.2.X\"],\"textposition\":\"auto\",\"x\":[\"0adgio1o2o3o4o5\",\"0agio1o2\",\"0aio1o2o3o4o5\",\"adgio1o2o3\",\"o1o2\",\"o1o2o3o4o5\",\"o2-2\",\"o2-3\",\"o2o3o4o5\",\"o2o3o4o5-2\",\"o2o3o4o5-3\"],\"xaxis\":\"x8\",\"y\":[1,1,1,1,1,1,1,1,1,1,1],\"yaxis\":\"y8\",\"type\":\"bar\"},{\"alignmentgroup\":\"True\",\"hovertemplate\":\"Lineages=%{text}\\u003cbr\\u003escheme=kallisto\\u003cbr\\u003eSample=%{x}\\u003cbr\\u003eAbundances=%{y}\\u003cextra\\u003e\\u003c\\u002fextra\\u003e\",\"legendgroup\":\"BA.2.X\",\"marker\":{\"color\":\"#FF6692\",\"pattern\":{\"shape\":\"\"}},\"name\":\"BA.2.X\",\"offsetgroup\":\"BA.2.X\",\"orientation\":\"v\",\"showlegend\":false,\"text\":[\"BA.2.X\",\"BA.2.X\",\"BA.2.X\",\"BA.2.X\",\"BA.2.X\",\"BA.2.X\",\"BA.2.X\",\"BA.2.X\",\"BA.2.X\",\"BA.2.X\",\"BA.2.X\",\"BA.2.X\",\"BA.2.X\",\"BA.2.X\",\"BA.2.X\",\"BA.2.X\",\"BA.2.X\",\"BA.2.X\",\"BA.2.X\",\"BA.2.X\",\"BA.2.X\",\"BA.2.X\",\"BA.2.X\",\"BA.2.X\"],\"textposition\":\"auto\",\"x\":[\"0adgio1o2o3o4o5\",\"0agio1o2\",\"0aio1o2o3o4o5\",\"0o5o3o4\",\"adgio1o2o3\",\"agio3o4o5\",\"o1-2\",\"o1o2\",\"o1o2o3o4o5\",\"o2-2\",\"o2-3\",\"o2o3o4o5\",\"o2o3o4o5-2\",\"o2o3o4o5-3\",\"o3\",\"o3-2\",\"o3-3\",\"o3-4\",\"o4\",\"o4-2\",\"o4-3\",\"o5\",\"o5-2\",\"o5-3\"],\"xaxis\":\"x7\",\"y\":[1,1,1,-1,1,-1,-1,1,1,1,1,1,1,1,-1,-1,-1,-1,-1,-1,-1,-1,-1,-1],\"yaxis\":\"y7\",\"type\":\"bar\"},{\"alignmentgroup\":\"True\",\"hovertemplate\":\"Lineages=%{text}\\u003cbr\\u003escheme=kallisto (C-WAP)\\u003cbr\\u003eSample=%{x}\\u003cbr\\u003eAbundances=%{y}\\u003cextra\\u003e\\u003c\\u002fextra\\u003e\",\"legendgroup\":\"BA.2.X\",\"marker\":{\"color\":\"#FF6692\",\"pattern\":{\"shape\":\"\"}},\"name\":\"BA.2.X\",\"offsetgroup\":\"BA.2.X\",\"orientation\":\"v\",\"showlegend\":false,\"text\":[\"BA.2.X\",\"BA.2.X\",\"BA.2.X\",\"BA.2.X\",\"BA.2.X\",\"BA.2.X\",\"BA.2.X\",\"BA.2.X\",\"BA.2.X\",\"BA.2.X\",\"BA.2.X\",\"BA.2.X\",\"BA.2.X\",\"BA.2.X\",\"BA.2.X\",\"BA.2.X\",\"BA.2.X\",\"BA.2.X\",\"BA.2.X\",\"BA.2.X\",\"BA.2.X\",\"BA.2.X\",\"BA.2.X\",\"BA.2.X\",\"BA.2.X\",\"BA.2.X\",\"BA.2.X\",\"BA.2.X\"],\"textposition\":\"auto\",\"x\":[\"0adgio1\",\"0adgio1-2\",\"0adgio1o2o3o4o5\",\"0agio1o2\",\"0aio1o2o3o4o5\",\"0o5o3o4\",\"adgio1o2o3\",\"agio3o4o5\",\"d\",\"d-2\",\"o1-2\",\"o1o2\",\"o1o2o3o4o5\",\"o2-2\",\"o2-3\",\"o2o3o4o5\",\"o2o3o4o5-2\",\"o2o3o4o5-3\",\"o3\",\"o3-2\",\"o3-3\",\"o3-4\",\"o4\",\"o4-2\",\"o4-3\",\"o5\",\"o5-2\",\"o5-3\"],\"xaxis\":\"x6\",\"y\":[-1,-1,1,1,1,-1,1,-1,-1,-1,-1,1,1,1,1,1,1,1,-1,-1,-1,-1,-1,-1,-1,-1,-1,-1],\"yaxis\":\"y6\",\"type\":\"bar\"},{\"alignmentgroup\":\"True\",\"hovertemplate\":\"Lineages=%{text}\\u003cbr\\u003escheme=Kraken 2 (C-WAP)\\u003cbr\\u003eSample=%{x}\\u003cbr\\u003eAbundances=%{y}\\u003cextra\\u003e\\u003c\\u002fextra\\u003e\",\"legendgroup\":\"BA.2.X\",\"marker\":{\"color\":\"#FF6692\",\"pattern\":{\"shape\":\"\"}},\"name\":\"BA.2.X\",\"offsetgroup\":\"BA.2.X\",\"orientation\":\"v\",\"showlegend\":false,\"text\":[\"BA.2.X\",\"BA.2.X\",\"BA.2.X\",\"BA.2.X\",\"BA.2.X\",\"BA.2.X\",\"BA.2.X\",\"BA.2.X\",\"BA.2.X\",\"BA.2.X\",\"BA.2.X\",\"BA.2.X\",\"BA.2.X\",\"BA.2.X\",\"BA.2.X\",\"BA.2.X\",\"BA.2.X\",\"BA.2.X\",\"BA.2.X\",\"BA.2.X\",\"BA.2.X\",\"BA.2.X\",\"BA.2.X\",\"BA.2.X\",\"BA.2.X\",\"BA.2.X\",\"BA.2.X\",\"BA.2.X\",\"BA.2.X\",\"BA.2.X\",\"BA.2.X\",\"BA.2.X\",\"BA.2.X\",\"BA.2.X\",\"BA.2.X\",\"BA.2.X\",\"BA.2.X\",\"BA.2.X\"],\"textposition\":\"auto\",\"x\":[\"0\",\"0-2\",\"0-3\",\"0-4\",\"0adgio1\",\"0adgio1-2\",\"0adgio1o2o3o4o5\",\"0agio1o2\",\"0aio1o2o3o4o5\",\"0o5o3o4\",\"a\",\"a-2\",\"adgio1o2o3\",\"agio3o4o5\",\"d\",\"d-2\",\"g\",\"g-2\",\"i\",\"i-2\",\"o1-2\",\"o1o2\",\"o1o2o3o4o5\",\"o2-2\",\"o2-3\",\"o2o3o4o5\",\"o2o3o4o5-2\",\"o2o3o4o5-3\",\"o3\",\"o3-2\",\"o3-3\",\"o3-4\",\"o4\",\"o4-2\",\"o4-3\",\"o5\",\"o5-2\",\"o5-3\"],\"xaxis\":\"x5\",\"y\":[-1,-1,-1,-1,-1,-1,1,1,1,-1,-1,-1,1,-1,-1,-1,-1,-1,-1,-1,-1,1,1,1,1,1,1,1,-1,-1,-1,-1,-1,-1,-1,-1,-1,-1],\"yaxis\":\"y5\",\"type\":\"bar\"},{\"alignmentgroup\":\"True\",\"hovertemplate\":\"Lineages=%{text}\\u003cbr\\u003escheme=LCS\\u003cbr\\u003eSample=%{x}\\u003cbr\\u003eAbundances=%{y}\\u003cextra\\u003e\\u003c\\u002fextra\\u003e\",\"legendgroup\":\"BA.2.X\",\"marker\":{\"color\":\"#FF6692\",\"pattern\":{\"shape\":\"\"}},\"name\":\"BA.2.X\",\"offsetgroup\":\"BA.2.X\",\"orientation\":\"v\",\"showlegend\":false,\"text\":[\"BA.2.X\",\"BA.2.X\",\"BA.2.X\",\"BA.2.X\",\"BA.2.X\",\"BA.2.X\",\"BA.2.X\",\"BA.2.X\",\"BA.2.X\"],\"textposition\":\"auto\",\"x\":[\"0agio1o2\",\"adgio1o2o3\",\"o1o2\",\"o1o2o3o4o5\",\"o2-2\",\"o2-3\",\"o2o3o4o5\",\"o2o3o4o5-2\",\"o2o3o4o5-3\"],\"xaxis\":\"x4\",\"y\":[1,1,1,1,1,1,1,1,1],\"yaxis\":\"y4\",\"type\":\"bar\"},{\"alignmentgroup\":\"True\",\"hovertemplate\":\"Lineages=%{text}\\u003cbr\\u003escheme=LolliPop\\u003cbr\\u003eSample=%{x}\\u003cbr\\u003eAbundances=%{y}\\u003cextra\\u003e\\u003c\\u002fextra\\u003e\",\"legendgroup\":\"BA.2.X\",\"marker\":{\"color\":\"#FF6692\",\"pattern\":{\"shape\":\"\"}},\"name\":\"BA.2.X\",\"offsetgroup\":\"BA.2.X\",\"orientation\":\"v\",\"showlegend\":false,\"text\":[\"BA.2.X\",\"BA.2.X\",\"BA.2.X\",\"BA.2.X\",\"BA.2.X\",\"BA.2.X\",\"BA.2.X\",\"BA.2.X\",\"BA.2.X\",\"BA.2.X\",\"BA.2.X\",\"BA.2.X\",\"BA.2.X\",\"BA.2.X\",\"BA.2.X\",\"BA.2.X\",\"BA.2.X\",\"BA.2.X\",\"BA.2.X\",\"BA.2.X\",\"BA.2.X\",\"BA.2.X\",\"BA.2.X\",\"BA.2.X\",\"BA.2.X\",\"BA.2.X\",\"BA.2.X\",\"BA.2.X\",\"BA.2.X\",\"BA.2.X\",\"BA.2.X\",\"BA.2.X\",\"BA.2.X\",\"BA.2.X\"],\"textposition\":\"auto\",\"x\":[\"0\",\"0-2\",\"0-3\",\"0-4\",\"0adgio1\",\"0adgio1-2\",\"0adgio1o2o3o4o5\",\"0agio1o2\",\"0aio1o2o3o4o5\",\"0o5o3o4\",\"a\",\"a-2\",\"adgio1o2o3\",\"agio3o4o5\",\"i\",\"i-2\",\"o1-2\",\"o1o2\",\"o1o2o3o4o5\",\"o2-2\",\"o2-3\",\"o2o3o4o5\",\"o2o3o4o5-2\",\"o2o3o4o5-3\",\"o3\",\"o3-2\",\"o3-3\",\"o3-4\",\"o4\",\"o4-2\",\"o4-3\",\"o5\",\"o5-2\",\"o5-3\"],\"xaxis\":\"x2\",\"y\":[-1,-1,-1,-1,-1,-1,1,1,1,-1,-1,-1,1,-1,-1,-1,-1,1,1,1,1,1,1,1,-1,-1,-1,-1,-1,-1,-1,-1,-1,-1],\"yaxis\":\"y2\",\"type\":\"bar\"},{\"alignmentgroup\":\"True\",\"hovertemplate\":\"Lineages=%{text}\\u003cbr\\u003escheme=VaQuERo\\u003cbr\\u003eSample=%{x}\\u003cbr\\u003eAbundances=%{y}\\u003cextra\\u003e\\u003c\\u002fextra\\u003e\",\"legendgroup\":\"BA.2.X\",\"marker\":{\"color\":\"#FF6692\",\"pattern\":{\"shape\":\"\"}},\"name\":\"BA.2.X\",\"offsetgroup\":\"BA.2.X\",\"orientation\":\"v\",\"showlegend\":false,\"text\":[\"BA.2.X\",\"BA.2.X\",\"BA.2.X\",\"BA.2.X\",\"BA.2.X\",\"BA.2.X\",\"BA.2.X\",\"BA.2.X\",\"BA.2.X\",\"BA.2.X\",\"BA.2.X\",\"BA.2.X\"],\"textposition\":\"auto\",\"x\":[\"0adgio1o2o3o4o5\",\"0agio1o2\",\"0aio1o2o3o4o5\",\"adgio1o2o3\",\"o1o2\",\"o1o2o3o4o5\",\"o2-2\",\"o2-3\",\"o2o3o4o5\",\"o2o3o4o5-2\",\"o2o3o4o5-3\",\"o3-4\"],\"xaxis\":\"x\",\"y\":[1,1,1,1,1,1,1,1,1,1,1,-1],\"yaxis\":\"y\",\"type\":\"bar\"},{\"alignmentgroup\":\"True\",\"hovertemplate\":\"Lineages=%{text}\\u003cbr\\u003escheme=Alcov\\u003cbr\\u003eSample=%{x}\\u003cbr\\u003eAbundances=%{y}\\u003cextra\\u003e\\u003c\\u002fextra\\u003e\",\"legendgroup\":\"Omicron\",\"marker\":{\"color\":\"#B6E880\",\"pattern\":{\"shape\":\"\"}},\"name\":\"Omicron\",\"offsetgroup\":\"Omicron\",\"orientation\":\"v\",\"showlegend\":true,\"text\":[\"Omicron\",\"Omicron\",\"Omicron\",\"Omicron\",\"Omicron\",\"Omicron\",\"Omicron\",\"Omicron\",\"Omicron\",\"Omicron\",\"Omicron\",\"Omicron\"],\"textposition\":\"auto\",\"x\":[\"0adgio1o2o3o4o5\",\"0agio1o2\",\"0aio1o2o3o4o5\",\"0o5o3o4\",\"adgio1o2o3\",\"agio3o4o5\",\"o1-2\",\"o1o2\",\"o1o2o3o4o5\",\"o2o3o4o5\",\"o2o3o4o5-2\",\"o5-3\"],\"xaxis\":\"x9\",\"y\":[-1,-1,-1,-1,-1,-1,-1,-1,-1,-1,-1,-1],\"yaxis\":\"y9\",\"type\":\"bar\"},{\"alignmentgroup\":\"True\",\"hovertemplate\":\"Lineages=%{text}\\u003cbr\\u003escheme=Freyja\\u003cbr\\u003eSample=%{x}\\u003cbr\\u003eAbundances=%{y}\\u003cextra\\u003e\\u003c\\u002fextra\\u003e\",\"legendgroup\":\"Omicron\",\"marker\":{\"color\":\"#B6E880\",\"pattern\":{\"shape\":\"\"}},\"name\":\"Omicron\",\"offsetgroup\":\"Omicron\",\"orientation\":\"v\",\"showlegend\":false,\"text\":[\"Omicron\",\"Omicron\",\"Omicron\",\"Omicron\",\"Omicron\",\"Omicron\",\"Omicron\",\"Omicron\"],\"textposition\":\"auto\",\"x\":[\"0adgio1\",\"0adgio1-2\",\"0adgio1o2o3o4o5\",\"0agio1o2\",\"0aio1o2o3o4o5\",\"adgio1o2o3\",\"o1o2\",\"o1o2o3o4o5\"],\"xaxis\":\"x8\",\"y\":[-1,-1,-1,-1,-1,-1,-1,-1],\"yaxis\":\"y8\",\"type\":\"bar\"},{\"alignmentgroup\":\"True\",\"hovertemplate\":\"Lineages=%{text}\\u003cbr\\u003escheme=kallisto\\u003cbr\\u003eSample=%{x}\\u003cbr\\u003eAbundances=%{y}\\u003cextra\\u003e\\u003c\\u002fextra\\u003e\",\"legendgroup\":\"Omicron\",\"marker\":{\"color\":\"#B6E880\",\"pattern\":{\"shape\":\"\"}},\"name\":\"Omicron\",\"offsetgroup\":\"Omicron\",\"orientation\":\"v\",\"showlegend\":false,\"text\":[\"Omicron\",\"Omicron\",\"Omicron\",\"Omicron\",\"Omicron\",\"Omicron\",\"Omicron\",\"Omicron\",\"Omicron\",\"Omicron\",\"Omicron\",\"Omicron\",\"Omicron\",\"Omicron\",\"Omicron\",\"Omicron\",\"Omicron\",\"Omicron\",\"Omicron\",\"Omicron\",\"Omicron\",\"Omicron\",\"Omicron\",\"Omicron\",\"Omicron\",\"Omicron\",\"Omicron\",\"Omicron\",\"Omicron\",\"Omicron\",\"Omicron\",\"Omicron\",\"Omicron\"],\"textposition\":\"auto\",\"x\":[\"0\",\"0-2\",\"0-3\",\"0-4\",\"0adgio1\",\"0adgio1-2\",\"0adgio1o2o3o4o5\",\"0agio1o2\",\"0aio1o2o3o4o5\",\"0o5o3o4\",\"adgio1o2o3\",\"agio3o4o5\",\"g-2\",\"i\",\"i-2\",\"o1-2\",\"o1o2\",\"o1o2o3o4o5\",\"o2-2\",\"o2-3\",\"o2o3o4o5\",\"o2o3o4o5-2\",\"o2o3o4o5-3\",\"o3\",\"o3-2\",\"o3-3\",\"o3-4\",\"o4\",\"o4-2\",\"o4-3\",\"o5\",\"o5-2\",\"o5-3\"],\"xaxis\":\"x7\",\"y\":[-1,-1,-1,-1,-1,-1,-1,-1,-1,-1,-1,-1,-1,-1,-1,-1,-1,-1,-1,-1,-1,-1,-1,-1,-1,-1,-1,-1,-1,-1,-1,-1,-1],\"yaxis\":\"y7\",\"type\":\"bar\"},{\"alignmentgroup\":\"True\",\"hovertemplate\":\"Lineages=%{text}\\u003cbr\\u003escheme=kallisto (C-WAP)\\u003cbr\\u003eSample=%{x}\\u003cbr\\u003eAbundances=%{y}\\u003cextra\\u003e\\u003c\\u002fextra\\u003e\",\"legendgroup\":\"Omicron\",\"marker\":{\"color\":\"#B6E880\",\"pattern\":{\"shape\":\"\"}},\"name\":\"Omicron\",\"offsetgroup\":\"Omicron\",\"orientation\":\"v\",\"showlegend\":false,\"text\":[\"Omicron\",\"Omicron\",\"Omicron\",\"Omicron\",\"Omicron\",\"Omicron\",\"Omicron\",\"Omicron\",\"Omicron\",\"Omicron\",\"Omicron\",\"Omicron\",\"Omicron\",\"Omicron\",\"Omicron\",\"Omicron\",\"Omicron\",\"Omicron\",\"Omicron\",\"Omicron\",\"Omicron\",\"Omicron\",\"Omicron\",\"Omicron\",\"Omicron\",\"Omicron\",\"Omicron\",\"Omicron\",\"Omicron\",\"Omicron\",\"Omicron\",\"Omicron\",\"Omicron\",\"Omicron\"],\"textposition\":\"auto\",\"x\":[\"0adgio1\",\"0adgio1-2\",\"0adgio1o2o3o4o5\",\"0agio1o2\",\"0aio1o2o3o4o5\",\"0o5o3o4\",\"a\",\"a-2\",\"adgio1o2o3\",\"agio3o4o5\",\"d\",\"d-2\",\"g\",\"g-2\",\"i\",\"i-2\",\"o1-2\",\"o1o2\",\"o1o2o3o4o5\",\"o2-2\",\"o2-3\",\"o2o3o4o5\",\"o2o3o4o5-2\",\"o2o3o4o5-3\",\"o3\",\"o3-2\",\"o3-3\",\"o3-4\",\"o4\",\"o4-2\",\"o4-3\",\"o5\",\"o5-2\",\"o5-3\"],\"xaxis\":\"x6\",\"y\":[-1,-1,-1,-1,-1,-1,-1,-1,-1,-1,-1,-1,-1,-1,-1,-1,-1,-1,-1,-1,-1,-1,-1,-1,-1,-1,-1,-1,-1,-1,-1,-1,-1,-1],\"yaxis\":\"y6\",\"type\":\"bar\"},{\"alignmentgroup\":\"True\",\"hovertemplate\":\"Lineages=%{text}\\u003cbr\\u003escheme=Kraken 2 (C-WAP)\\u003cbr\\u003eSample=%{x}\\u003cbr\\u003eAbundances=%{y}\\u003cextra\\u003e\\u003c\\u002fextra\\u003e\",\"legendgroup\":\"Omicron\",\"marker\":{\"color\":\"#B6E880\",\"pattern\":{\"shape\":\"\"}},\"name\":\"Omicron\",\"offsetgroup\":\"Omicron\",\"orientation\":\"v\",\"showlegend\":false,\"text\":[\"Omicron\",\"Omicron\",\"Omicron\",\"Omicron\",\"Omicron\",\"Omicron\",\"Omicron\",\"Omicron\",\"Omicron\"],\"textposition\":\"auto\",\"x\":[\"0adgio1\",\"0adgio1-2\",\"0adgio1o2o3o4o5\",\"0agio1o2\",\"0aio1o2o3o4o5\",\"adgio1o2o3\",\"agio3o4o5\",\"i\",\"i-2\"],\"xaxis\":\"x5\",\"y\":[-1,-1,-1,-1,-1,-1,-1,-1,-1],\"yaxis\":\"y5\",\"type\":\"bar\"},{\"alignmentgroup\":\"True\",\"hovertemplate\":\"Lineages=%{text}\\u003cbr\\u003escheme=LCS\\u003cbr\\u003eSample=%{x}\\u003cbr\\u003eAbundances=%{y}\\u003cextra\\u003e\\u003c\\u002fextra\\u003e\",\"legendgroup\":\"Omicron\",\"marker\":{\"color\":\"#B6E880\",\"pattern\":{\"shape\":\"\"}},\"name\":\"Omicron\",\"offsetgroup\":\"Omicron\",\"orientation\":\"v\",\"showlegend\":false,\"text\":[\"Omicron\",\"Omicron\",\"Omicron\",\"Omicron\",\"Omicron\",\"Omicron\"],\"textposition\":\"auto\",\"x\":[\"0agio1o2\",\"0aio1o2o3o4o5\",\"adgio1o2o3\",\"o1-2\",\"o1o2\",\"o1o2o3o4o5\"],\"xaxis\":\"x4\",\"y\":[-1,-1,-1,-1,-1,-1],\"yaxis\":\"y4\",\"type\":\"bar\"},{\"alignmentgroup\":\"True\",\"hovertemplate\":\"Lineages=%{text}\\u003cbr\\u003escheme=LolliPop\\u003cbr\\u003eSample=%{x}\\u003cbr\\u003eAbundances=%{y}\\u003cextra\\u003e\\u003c\\u002fextra\\u003e\",\"legendgroup\":\"Omicron\",\"marker\":{\"color\":\"#B6E880\",\"pattern\":{\"shape\":\"\"}},\"name\":\"Omicron\",\"offsetgroup\":\"Omicron\",\"orientation\":\"v\",\"showlegend\":false,\"text\":[\"Omicron\",\"Omicron\",\"Omicron\",\"Omicron\",\"Omicron\",\"Omicron\",\"Omicron\",\"Omicron\",\"Omicron\",\"Omicron\",\"Omicron\",\"Omicron\",\"Omicron\",\"Omicron\",\"Omicron\",\"Omicron\",\"Omicron\",\"Omicron\",\"Omicron\",\"Omicron\",\"Omicron\",\"Omicron\",\"Omicron\",\"Omicron\",\"Omicron\",\"Omicron\",\"Omicron\",\"Omicron\",\"Omicron\",\"Omicron\"],\"textposition\":\"auto\",\"x\":[\"0\",\"0-2\",\"0-3\",\"0-4\",\"0adgio1\",\"0adgio1-2\",\"0adgio1o2o3o4o5\",\"0agio1o2\",\"0aio1o2o3o4o5\",\"0o5o3o4\",\"adgio1o2o3\",\"agio3o4o5\",\"i\",\"i-2\",\"o1-2\",\"o1o2\",\"o1o2o3o4o5\",\"o2-2\",\"o2-3\",\"o2o3o4o5\",\"o2o3o4o5-2\",\"o2o3o4o5-3\",\"o3\",\"o3-2\",\"o3-3\",\"o3-4\",\"o4\",\"o4-2\",\"o4-3\",\"o5-3\"],\"xaxis\":\"x2\",\"y\":[-1,-1,-1,-1,-1,-1,-1,-1,-1,-1,-1,-1,-1,-1,-1,-1,-1,-1,-1,-1,-1,-1,-1,-1,-1,-1,-1,-1,-1,-1],\"yaxis\":\"y2\",\"type\":\"bar\"},{\"alignmentgroup\":\"True\",\"hovertemplate\":\"Lineages=%{text}\\u003cbr\\u003escheme=Alcov\\u003cbr\\u003eSample=%{x}\\u003cbr\\u003eAbundances=%{y}\\u003cextra\\u003e\\u003c\\u002fextra\\u003e\",\"legendgroup\":\"BG.X\",\"marker\":{\"color\":\"#FF97FF\",\"pattern\":{\"shape\":\"\"}},\"name\":\"BG.X\",\"offsetgroup\":\"BG.X\",\"orientation\":\"v\",\"showlegend\":true,\"text\":[\"BG.X\",\"BG.X\",\"BG.X\",\"BG.X\",\"BG.X\",\"BG.X\",\"BG.X\",\"BG.X\",\"BG.X\",\"BG.X\",\"BG.X\",\"BG.X\",\"BG.X\"],\"textposition\":\"auto\",\"x\":[\"0adgio1o2o3o4o5\",\"0aio1o2o3o4o5\",\"0o5o3o4\",\"adgio1o2o3\",\"agio3o4o5\",\"o1o2o3o4o5\",\"o2o3o4o5\",\"o2o3o4o5-2\",\"o2o3o4o5-3\",\"o3\",\"o3-2\",\"o3-3\",\"o3-4\"],\"xaxis\":\"x9\",\"y\":[1,1,1,1,1,1,1,1,1,1,1,1,1],\"yaxis\":\"y9\",\"type\":\"bar\"},{\"alignmentgroup\":\"True\",\"hovertemplate\":\"Lineages=%{text}\\u003cbr\\u003escheme=Freyja\\u003cbr\\u003eSample=%{x}\\u003cbr\\u003eAbundances=%{y}\\u003cextra\\u003e\\u003c\\u002fextra\\u003e\",\"legendgroup\":\"BG.X\",\"marker\":{\"color\":\"#FF97FF\",\"pattern\":{\"shape\":\"\"}},\"name\":\"BG.X\",\"offsetgroup\":\"BG.X\",\"orientation\":\"v\",\"showlegend\":false,\"text\":[\"BG.X\",\"BG.X\",\"BG.X\",\"BG.X\",\"BG.X\",\"BG.X\",\"BG.X\",\"BG.X\",\"BG.X\",\"BG.X\",\"BG.X\",\"BG.X\",\"BG.X\"],\"textposition\":\"auto\",\"x\":[\"0adgio1o2o3o4o5\",\"0aio1o2o3o4o5\",\"0o5o3o4\",\"adgio1o2o3\",\"agio3o4o5\",\"o1o2o3o4o5\",\"o2o3o4o5\",\"o2o3o4o5-2\",\"o2o3o4o5-3\",\"o3\",\"o3-2\",\"o3-3\",\"o3-4\"],\"xaxis\":\"x8\",\"y\":[1,1,1,1,1,1,1,1,1,1,1,1,1],\"yaxis\":\"y8\",\"type\":\"bar\"},{\"alignmentgroup\":\"True\",\"hovertemplate\":\"Lineages=%{text}\\u003cbr\\u003escheme=kallisto\\u003cbr\\u003eSample=%{x}\\u003cbr\\u003eAbundances=%{y}\\u003cextra\\u003e\\u003c\\u002fextra\\u003e\",\"legendgroup\":\"BG.X\",\"marker\":{\"color\":\"#FF97FF\",\"pattern\":{\"shape\":\"\"}},\"name\":\"BG.X\",\"offsetgroup\":\"BG.X\",\"orientation\":\"v\",\"showlegend\":false,\"text\":[\"BG.X\",\"BG.X\",\"BG.X\",\"BG.X\",\"BG.X\",\"BG.X\",\"BG.X\",\"BG.X\",\"BG.X\",\"BG.X\",\"BG.X\",\"BG.X\",\"BG.X\",\"BG.X\",\"BG.X\",\"BG.X\"],\"textposition\":\"auto\",\"x\":[\"0adgio1o2o3o4o5\",\"0aio1o2o3o4o5\",\"0o5o3o4\",\"adgio1o2o3\",\"agio3o4o5\",\"o1o2\",\"o1o2o3o4o5\",\"o2-2\",\"o2-3\",\"o2o3o4o5\",\"o2o3o4o5-2\",\"o2o3o4o5-3\",\"o3\",\"o3-2\",\"o3-3\",\"o3-4\"],\"xaxis\":\"x7\",\"y\":[1,1,1,1,1,-1,1,-1,-1,1,1,1,1,1,1,1],\"yaxis\":\"y7\",\"type\":\"bar\"},{\"alignmentgroup\":\"True\",\"hovertemplate\":\"Lineages=%{text}\\u003cbr\\u003escheme=LCS\\u003cbr\\u003eSample=%{x}\\u003cbr\\u003eAbundances=%{y}\\u003cextra\\u003e\\u003c\\u002fextra\\u003e\",\"legendgroup\":\"BG.X\",\"marker\":{\"color\":\"#FF97FF\",\"pattern\":{\"shape\":\"\"}},\"name\":\"BG.X\",\"offsetgroup\":\"BG.X\",\"orientation\":\"v\",\"showlegend\":false,\"text\":[\"BG.X\",\"BG.X\",\"BG.X\",\"BG.X\",\"BG.X\",\"BG.X\",\"BG.X\",\"BG.X\",\"BG.X\",\"BG.X\",\"BG.X\",\"BG.X\",\"BG.X\"],\"textposition\":\"auto\",\"x\":[\"0adgio1o2o3o4o5\",\"0aio1o2o3o4o5\",\"0o5o3o4\",\"adgio1o2o3\",\"agio3o4o5\",\"o1o2o3o4o5\",\"o2o3o4o5\",\"o2o3o4o5-2\",\"o2o3o4o5-3\",\"o3\",\"o3-2\",\"o3-3\",\"o3-4\"],\"xaxis\":\"x4\",\"y\":[1,1,1,1,1,1,1,1,1,1,1,1,1],\"yaxis\":\"y4\",\"type\":\"bar\"},{\"alignmentgroup\":\"True\",\"hovertemplate\":\"Lineages=%{text}\\u003cbr\\u003escheme=VaQuERo\\u003cbr\\u003eSample=%{x}\\u003cbr\\u003eAbundances=%{y}\\u003cextra\\u003e\\u003c\\u002fextra\\u003e\",\"legendgroup\":\"BG.X\",\"marker\":{\"color\":\"#FF97FF\",\"pattern\":{\"shape\":\"\"}},\"name\":\"BG.X\",\"offsetgroup\":\"BG.X\",\"orientation\":\"v\",\"showlegend\":false,\"text\":[\"BG.X\",\"BG.X\",\"BG.X\",\"BG.X\",\"BG.X\",\"BG.X\",\"BG.X\",\"BG.X\",\"BG.X\",\"BG.X\",\"BG.X\",\"BG.X\",\"BG.X\"],\"textposition\":\"auto\",\"x\":[\"0adgio1o2o3o4o5\",\"0aio1o2o3o4o5\",\"0o5o3o4\",\"adgio1o2o3\",\"agio3o4o5\",\"o1o2o3o4o5\",\"o2o3o4o5\",\"o2o3o4o5-2\",\"o2o3o4o5-3\",\"o3\",\"o3-2\",\"o3-3\",\"o3-4\"],\"xaxis\":\"x\",\"y\":[1,1,1,1,1,1,1,1,1,1,1,1,1],\"yaxis\":\"y\",\"type\":\"bar\"},{\"alignmentgroup\":\"True\",\"hovertemplate\":\"Lineages=%{text}\\u003cbr\\u003escheme=Alcov\\u003cbr\\u003eSample=%{x}\\u003cbr\\u003eAbundances=%{y}\\u003cextra\\u003e\\u003c\\u002fextra\\u003e\",\"legendgroup\":\"BA.5.X\",\"marker\":{\"color\":\"#FECB52\",\"pattern\":{\"shape\":\"\"}},\"name\":\"BA.5.X\",\"offsetgroup\":\"BA.5.X\",\"orientation\":\"v\",\"showlegend\":true,\"text\":[\"BA.5.X\",\"BA.5.X\",\"BA.5.X\",\"BA.5.X\",\"BA.5.X\",\"BA.5.X\",\"BA.5.X\",\"BA.5.X\",\"BA.5.X\",\"BA.5.X\",\"BA.5.X\",\"BA.5.X\",\"BA.5.X\",\"BA.5.X\"],\"textposition\":\"auto\",\"x\":[\"0adgio1o2o3o4o5\",\"0aio1o2o3o4o5\",\"0o5o3o4\",\"agio3o4o5\",\"o1o2o3o4o5\",\"o2o3o4o5\",\"o2o3o4o5-2\",\"o2o3o4o5-3\",\"o4\",\"o4-2\",\"o4-3\",\"o5\",\"o5-2\",\"o5-3\"],\"xaxis\":\"x9\",\"y\":[1,1,1,1,1,1,1,1,-1,-1,-1,1,1,1],\"yaxis\":\"y9\",\"type\":\"bar\"},{\"alignmentgroup\":\"True\",\"hovertemplate\":\"Lineages=%{text}\\u003cbr\\u003escheme=Freyja\\u003cbr\\u003eSample=%{x}\\u003cbr\\u003eAbundances=%{y}\\u003cextra\\u003e\\u003c\\u002fextra\\u003e\",\"legendgroup\":\"BA.5.X\",\"marker\":{\"color\":\"#FECB52\",\"pattern\":{\"shape\":\"\"}},\"name\":\"BA.5.X\",\"offsetgroup\":\"BA.5.X\",\"orientation\":\"v\",\"showlegend\":false,\"text\":[\"BA.5.X\",\"BA.5.X\",\"BA.5.X\",\"BA.5.X\",\"BA.5.X\",\"BA.5.X\",\"BA.5.X\",\"BA.5.X\",\"BA.5.X\",\"BA.5.X\",\"BA.5.X\"],\"textposition\":\"auto\",\"x\":[\"0adgio1o2o3o4o5\",\"0aio1o2o3o4o5\",\"0o5o3o4\",\"agio3o4o5\",\"o1o2o3o4o5\",\"o2o3o4o5\",\"o2o3o4o5-2\",\"o2o3o4o5-3\",\"o5\",\"o5-2\",\"o5-3\"],\"xaxis\":\"x8\",\"y\":[1,1,1,1,1,1,1,1,1,1,1],\"yaxis\":\"y8\",\"type\":\"bar\"},{\"alignmentgroup\":\"True\",\"hovertemplate\":\"Lineages=%{text}\\u003cbr\\u003escheme=kallisto\\u003cbr\\u003eSample=%{x}\\u003cbr\\u003eAbundances=%{y}\\u003cextra\\u003e\\u003c\\u002fextra\\u003e\",\"legendgroup\":\"BA.5.X\",\"marker\":{\"color\":\"#FECB52\",\"pattern\":{\"shape\":\"\"}},\"name\":\"BA.5.X\",\"offsetgroup\":\"BA.5.X\",\"orientation\":\"v\",\"showlegend\":false,\"text\":[\"BA.5.X\",\"BA.5.X\",\"BA.5.X\",\"BA.5.X\",\"BA.5.X\",\"BA.5.X\",\"BA.5.X\",\"BA.5.X\",\"BA.5.X\",\"BA.5.X\",\"BA.5.X\",\"BA.5.X\",\"BA.5.X\",\"BA.5.X\",\"BA.5.X\",\"BA.5.X\",\"BA.5.X\",\"BA.5.X\",\"BA.5.X\",\"BA.5.X\",\"BA.5.X\",\"BA.5.X\",\"BA.5.X\",\"BA.5.X\",\"BA.5.X\",\"BA.5.X\",\"BA.5.X\",\"BA.5.X\",\"BA.5.X\",\"BA.5.X\",\"BA.5.X\",\"BA.5.X\",\"BA.5.X\",\"BA.5.X\",\"BA.5.X\"],\"textposition\":\"auto\",\"x\":[\"0\",\"0-2\",\"0-3\",\"0-4\",\"0adgio1\",\"0adgio1-2\",\"0adgio1o2o3o4o5\",\"0agio1o2\",\"0aio1o2o3o4o5\",\"0o5o3o4\",\"a\",\"a-2\",\"adgio1o2o3\",\"agio3o4o5\",\"g\",\"i\",\"i-2\",\"o1-2\",\"o1o2\",\"o1o2o3o4o5\",\"o2-2\",\"o2-3\",\"o2o3o4o5\",\"o2o3o4o5-2\",\"o2o3o4o5-3\",\"o3\",\"o3-2\",\"o3-3\",\"o3-4\",\"o4\",\"o4-2\",\"o4-3\",\"o5\",\"o5-2\",\"o5-3\"],\"xaxis\":\"x7\",\"y\":[-1,-1,-1,-1,-1,-1,1,-1,1,1,-1,-1,-1,1,-1,-1,-1,-1,-1,1,-1,-1,1,1,1,-1,-1,-1,-1,-1,-1,-1,1,1,1],\"yaxis\":\"y7\",\"type\":\"bar\"},{\"alignmentgroup\":\"True\",\"hovertemplate\":\"Lineages=%{text}\\u003cbr\\u003escheme=kallisto (C-WAP)\\u003cbr\\u003eSample=%{x}\\u003cbr\\u003eAbundances=%{y}\\u003cextra\\u003e\\u003c\\u002fextra\\u003e\",\"legendgroup\":\"BA.5.X\",\"marker\":{\"color\":\"#FECB52\",\"pattern\":{\"shape\":\"\"}},\"name\":\"BA.5.X\",\"offsetgroup\":\"BA.5.X\",\"orientation\":\"v\",\"showlegend\":false,\"text\":[\"BA.5.X\",\"BA.5.X\",\"BA.5.X\",\"BA.5.X\",\"BA.5.X\",\"BA.5.X\",\"BA.5.X\",\"BA.5.X\",\"BA.5.X\",\"BA.5.X\",\"BA.5.X\",\"BA.5.X\",\"BA.5.X\",\"BA.5.X\",\"BA.5.X\",\"BA.5.X\",\"BA.5.X\",\"BA.5.X\",\"BA.5.X\",\"BA.5.X\",\"BA.5.X\",\"BA.5.X\",\"BA.5.X\",\"BA.5.X\",\"BA.5.X\",\"BA.5.X\",\"BA.5.X\",\"BA.5.X\",\"BA.5.X\",\"BA.5.X\",\"BA.5.X\",\"BA.5.X\"],\"textposition\":\"auto\",\"x\":[\"0adgio1\",\"0adgio1-2\",\"0adgio1o2o3o4o5\",\"0agio1o2\",\"0aio1o2o3o4o5\",\"0o5o3o4\",\"a\",\"a-2\",\"adgio1o2o3\",\"agio3o4o5\",\"g\",\"g-2\",\"i\",\"i-2\",\"o1-2\",\"o1o2\",\"o1o2o3o4o5\",\"o2-2\",\"o2-3\",\"o2o3o4o5\",\"o2o3o4o5-2\",\"o2o3o4o5-3\",\"o3\",\"o3-2\",\"o3-3\",\"o3-4\",\"o4\",\"o4-2\",\"o4-3\",\"o5\",\"o5-2\",\"o5-3\"],\"xaxis\":\"x6\",\"y\":[-1,-1,1,-1,1,1,-1,-1,-1,1,-1,-1,-1,-1,-1,-1,1,-1,-1,1,1,1,-1,-1,-1,-1,-1,-1,-1,1,1,1],\"yaxis\":\"y6\",\"type\":\"bar\"},{\"alignmentgroup\":\"True\",\"hovertemplate\":\"Lineages=%{text}\\u003cbr\\u003escheme=Kraken 2 (C-WAP)\\u003cbr\\u003eSample=%{x}\\u003cbr\\u003eAbundances=%{y}\\u003cextra\\u003e\\u003c\\u002fextra\\u003e\",\"legendgroup\":\"BA.5.X\",\"marker\":{\"color\":\"#FECB52\",\"pattern\":{\"shape\":\"\"}},\"name\":\"BA.5.X\",\"offsetgroup\":\"BA.5.X\",\"orientation\":\"v\",\"showlegend\":false,\"text\":[\"BA.5.X\",\"BA.5.X\",\"BA.5.X\",\"BA.5.X\",\"BA.5.X\",\"BA.5.X\",\"BA.5.X\",\"BA.5.X\",\"BA.5.X\",\"BA.5.X\",\"BA.5.X\",\"BA.5.X\",\"BA.5.X\",\"BA.5.X\",\"BA.5.X\",\"BA.5.X\",\"BA.5.X\",\"BA.5.X\",\"BA.5.X\",\"BA.5.X\"],\"textposition\":\"auto\",\"x\":[\"0\",\"0-2\",\"0-3\",\"0-4\",\"0adgio1o2o3o4o5\",\"0o5o3o4\",\"a\",\"a-2\",\"g\",\"g-2\",\"o2-2\",\"o2-3\",\"o2o3o4o5-2\",\"o2o3o4o5-3\",\"o4\",\"o4-2\",\"o4-3\",\"o5\",\"o5-2\",\"o5-3\"],\"xaxis\":\"x5\",\"y\":[-1,-1,-1,-1,1,1,-1,-1,-1,-1,-1,-1,1,1,-1,-1,-1,1,1,1],\"yaxis\":\"y5\",\"type\":\"bar\"},{\"alignmentgroup\":\"True\",\"hovertemplate\":\"Lineages=%{text}\\u003cbr\\u003escheme=LCS\\u003cbr\\u003eSample=%{x}\\u003cbr\\u003eAbundances=%{y}\\u003cextra\\u003e\\u003c\\u002fextra\\u003e\",\"legendgroup\":\"BA.5.X\",\"marker\":{\"color\":\"#FECB52\",\"pattern\":{\"shape\":\"\"}},\"name\":\"BA.5.X\",\"offsetgroup\":\"BA.5.X\",\"orientation\":\"v\",\"showlegend\":false,\"text\":[\"BA.5.X\",\"BA.5.X\",\"BA.5.X\",\"BA.5.X\",\"BA.5.X\",\"BA.5.X\",\"BA.5.X\",\"BA.5.X\",\"BA.5.X\",\"BA.5.X\",\"BA.5.X\",\"BA.5.X\",\"BA.5.X\"],\"textposition\":\"auto\",\"x\":[\"0adgio1o2o3o4o5\",\"0aio1o2o3o4o5\",\"0o5o3o4\",\"agio3o4o5\",\"o1o2\",\"o1o2o3o4o5\",\"o2-2\",\"o2o3o4o5\",\"o2o3o4o5-2\",\"o2o3o4o5-3\",\"o5\",\"o5-2\",\"o5-3\"],\"xaxis\":\"x4\",\"y\":[1,1,1,1,-1,1,-1,1,1,1,1,1,1],\"yaxis\":\"y4\",\"type\":\"bar\"},{\"alignmentgroup\":\"True\",\"hovertemplate\":\"Lineages=%{text}\\u003cbr\\u003escheme=LolliPop\\u003cbr\\u003eSample=%{x}\\u003cbr\\u003eAbundances=%{y}\\u003cextra\\u003e\\u003c\\u002fextra\\u003e\",\"legendgroup\":\"BA.5.X\",\"marker\":{\"color\":\"#FECB52\",\"pattern\":{\"shape\":\"\"}},\"name\":\"BA.5.X\",\"offsetgroup\":\"BA.5.X\",\"orientation\":\"v\",\"showlegend\":false,\"text\":[\"BA.5.X\",\"BA.5.X\",\"BA.5.X\",\"BA.5.X\",\"BA.5.X\",\"BA.5.X\",\"BA.5.X\",\"BA.5.X\",\"BA.5.X\",\"BA.5.X\",\"BA.5.X\",\"BA.5.X\",\"BA.5.X\",\"BA.5.X\",\"BA.5.X\",\"BA.5.X\",\"BA.5.X\",\"BA.5.X\",\"BA.5.X\",\"BA.5.X\",\"BA.5.X\",\"BA.5.X\",\"BA.5.X\",\"BA.5.X\",\"BA.5.X\",\"BA.5.X\",\"BA.5.X\"],\"textposition\":\"auto\",\"x\":[\"0\",\"0-2\",\"0-3\",\"0-4\",\"0adgio1\",\"0adgio1-2\",\"0adgio1o2o3o4o5\",\"0agio1o2\",\"0aio1o2o3o4o5\",\"0o5o3o4\",\"a\",\"a-2\",\"agio3o4o5\",\"i\",\"i-2\",\"o1o2\",\"o1o2o3o4o5\",\"o2o3o4o5\",\"o2o3o4o5-2\",\"o2o3o4o5-3\",\"o3-3\",\"o4\",\"o4-2\",\"o4-3\",\"o5\",\"o5-2\",\"o5-3\"],\"xaxis\":\"x2\",\"y\":[-1,-1,-1,-1,-1,-1,1,-1,1,1,-1,-1,1,-1,-1,-1,1,1,1,1,-1,-1,-1,-1,1,1,1],\"yaxis\":\"y2\",\"type\":\"bar\"},{\"alignmentgroup\":\"True\",\"hovertemplate\":\"Lineages=%{text}\\u003cbr\\u003escheme=VaQuERo\\u003cbr\\u003eSample=%{x}\\u003cbr\\u003eAbundances=%{y}\\u003cextra\\u003e\\u003c\\u002fextra\\u003e\",\"legendgroup\":\"BA.5.X\",\"marker\":{\"color\":\"#FECB52\",\"pattern\":{\"shape\":\"\"}},\"name\":\"BA.5.X\",\"offsetgroup\":\"BA.5.X\",\"orientation\":\"v\",\"showlegend\":false,\"text\":[\"BA.5.X\",\"BA.5.X\",\"BA.5.X\",\"BA.5.X\",\"BA.5.X\",\"BA.5.X\",\"BA.5.X\",\"BA.5.X\",\"BA.5.X\",\"BA.5.X\",\"BA.5.X\"],\"textposition\":\"auto\",\"x\":[\"0adgio1o2o3o4o5\",\"0aio1o2o3o4o5\",\"0o5o3o4\",\"agio3o4o5\",\"o1o2o3o4o5\",\"o2o3o4o5\",\"o2o3o4o5-2\",\"o2o3o4o5-3\",\"o5\",\"o5-2\",\"o5-3\"],\"xaxis\":\"x\",\"y\":[1,1,1,1,1,1,1,1,1,1,1],\"yaxis\":\"y\",\"type\":\"bar\"},{\"alignmentgroup\":\"True\",\"hovertemplate\":\"Lineages=%{text}\\u003cbr\\u003escheme=Freyja\\u003cbr\\u003eSample=%{x}\\u003cbr\\u003eAbundances=%{y}\\u003cextra\\u003e\\u003c\\u002fextra\\u003e\",\"legendgroup\":\"Wuhan-hu-1\",\"marker\":{\"color\":\"#636efa\",\"pattern\":{\"shape\":\"\"}},\"name\":\"Wuhan-hu-1\",\"offsetgroup\":\"Wuhan-hu-1\",\"orientation\":\"v\",\"showlegend\":true,\"text\":[\"Wuhan-hu-1\",\"Wuhan-hu-1\",\"Wuhan-hu-1\",\"Wuhan-hu-1\",\"Wuhan-hu-1\",\"Wuhan-hu-1\",\"Wuhan-hu-1\"],\"textposition\":\"auto\",\"x\":[\"0\",\"0-2\",\"0-3\",\"0-4\",\"0adgio1-2\",\"0adgio1o2o3o4o5\",\"0o5o3o4\"],\"xaxis\":\"x8\",\"y\":[1,1,1,1,1,1,1],\"yaxis\":\"y8\",\"type\":\"bar\"},{\"alignmentgroup\":\"True\",\"hovertemplate\":\"Lineages=%{text}\\u003cbr\\u003escheme=kallisto\\u003cbr\\u003eSample=%{x}\\u003cbr\\u003eAbundances=%{y}\\u003cextra\\u003e\\u003c\\u002fextra\\u003e\",\"legendgroup\":\"Wuhan-hu-1\",\"marker\":{\"color\":\"#636efa\",\"pattern\":{\"shape\":\"\"}},\"name\":\"Wuhan-hu-1\",\"offsetgroup\":\"Wuhan-hu-1\",\"orientation\":\"v\",\"showlegend\":false,\"text\":[\"Wuhan-hu-1\",\"Wuhan-hu-1\",\"Wuhan-hu-1\",\"Wuhan-hu-1\",\"Wuhan-hu-1\",\"Wuhan-hu-1\",\"Wuhan-hu-1\",\"Wuhan-hu-1\",\"Wuhan-hu-1\"],\"textposition\":\"auto\",\"x\":[\"0\",\"0-2\",\"0-3\",\"0-4\",\"0adgio1\",\"0adgio1-2\",\"0adgio1o2o3o4o5\",\"0agio1o2\",\"0o5o3o4\"],\"xaxis\":\"x7\",\"y\":[1,1,1,1,1,1,1,1,1],\"yaxis\":\"y7\",\"type\":\"bar\"},{\"alignmentgroup\":\"True\",\"hovertemplate\":\"Lineages=%{text}\\u003cbr\\u003escheme=kallisto (C-WAP)\\u003cbr\\u003eSample=%{x}\\u003cbr\\u003eAbundances=%{y}\\u003cextra\\u003e\\u003c\\u002fextra\\u003e\",\"legendgroup\":\"Wuhan-hu-1\",\"marker\":{\"color\":\"#636efa\",\"pattern\":{\"shape\":\"\"}},\"name\":\"Wuhan-hu-1\",\"offsetgroup\":\"Wuhan-hu-1\",\"orientation\":\"v\",\"showlegend\":false,\"text\":[\"Wuhan-hu-1\",\"Wuhan-hu-1\",\"Wuhan-hu-1\",\"Wuhan-hu-1\",\"Wuhan-hu-1\",\"Wuhan-hu-1\",\"Wuhan-hu-1\",\"Wuhan-hu-1\",\"Wuhan-hu-1\",\"Wuhan-hu-1\",\"Wuhan-hu-1\",\"Wuhan-hu-1\",\"Wuhan-hu-1\",\"Wuhan-hu-1\",\"Wuhan-hu-1\",\"Wuhan-hu-1\",\"Wuhan-hu-1\",\"Wuhan-hu-1\",\"Wuhan-hu-1\",\"Wuhan-hu-1\"],\"textposition\":\"auto\",\"x\":[\"0\",\"0-2\",\"0-3\",\"0-4\",\"0adgio1\",\"0adgio1-2\",\"0adgio1o2o3o4o5\",\"0agio1o2\",\"0aio1o2o3o4o5\",\"0o5o3o4\",\"a\",\"a-2\",\"adgio1o2o3\",\"agio3o4o5\",\"d\",\"d-2\",\"g\",\"g-2\",\"i\",\"i-2\"],\"xaxis\":\"x6\",\"y\":[1,1,1,1,1,1,1,1,1,1,-1,-1,-1,-1,-1,-1,-1,-1,-1,-1],\"yaxis\":\"y6\",\"type\":\"bar\"},{\"alignmentgroup\":\"True\",\"hovertemplate\":\"Lineages=%{text}\\u003cbr\\u003escheme=kallisto\\u003cbr\\u003eSample=%{x}\\u003cbr\\u003eAbundances=%{y}\\u003cextra\\u003e\\u003c\\u002fextra\\u003e\",\"legendgroup\":\"Eta\",\"marker\":{\"color\":\"#EF553B\",\"pattern\":{\"shape\":\"\"}},\"name\":\"Eta\",\"offsetgroup\":\"Eta\",\"orientation\":\"v\",\"showlegend\":true,\"text\":[\"Eta\",\"Eta\",\"Eta\",\"Eta\",\"Eta\",\"Eta\",\"Eta\",\"Eta\"],\"textposition\":\"auto\",\"x\":[\"0\",\"0-2\",\"0-3\",\"0-4\",\"0adgio1\",\"0adgio1-2\",\"i\",\"i-2\"],\"xaxis\":\"x7\",\"y\":[-1,-1,-1,-1,-1,-1,-1,-1],\"yaxis\":\"y7\",\"type\":\"bar\"},{\"alignmentgroup\":\"True\",\"hovertemplate\":\"Lineages=%{text}\\u003cbr\\u003escheme=kallisto (C-WAP)\\u003cbr\\u003eSample=%{x}\\u003cbr\\u003eAbundances=%{y}\\u003cextra\\u003e\\u003c\\u002fextra\\u003e\",\"legendgroup\":\"Eta\",\"marker\":{\"color\":\"#EF553B\",\"pattern\":{\"shape\":\"\"}},\"name\":\"Eta\",\"offsetgroup\":\"Eta\",\"orientation\":\"v\",\"showlegend\":false,\"text\":[\"Eta\",\"Eta\",\"Eta\",\"Eta\",\"Eta\",\"Eta\",\"Eta\",\"Eta\",\"Eta\",\"Eta\",\"Eta\",\"Eta\",\"Eta\",\"Eta\",\"Eta\",\"Eta\",\"Eta\",\"Eta\",\"Eta\"],\"textposition\":\"auto\",\"x\":[\"0\",\"0-2\",\"0-3\",\"0-4\",\"0adgio1\",\"0adgio1-2\",\"0adgio1o2o3o4o5\",\"0agio1o2\",\"0aio1o2o3o4o5\",\"a\",\"a-2\",\"adgio1o2o3\",\"agio3o4o5\",\"d\",\"d-2\",\"g\",\"g-2\",\"i\",\"i-2\"],\"xaxis\":\"x6\",\"y\":[-1,-1,-1,-1,-1,-1,-1,-1,-1,-1,-1,-1,-1,-1,-1,-1,-1,-1,-1],\"yaxis\":\"y6\",\"type\":\"bar\"},{\"alignmentgroup\":\"True\",\"hovertemplate\":\"Lineages=%{text}\\u003cbr\\u003escheme=kallisto\\u003cbr\\u003eSample=%{x}\\u003cbr\\u003eAbundances=%{y}\\u003cextra\\u003e\\u003c\\u002fextra\\u003e\",\"legendgroup\":\"A\",\"marker\":{\"color\":\"#00cc96\",\"pattern\":{\"shape\":\"\"}},\"name\":\"A\",\"offsetgroup\":\"A\",\"orientation\":\"v\",\"showlegend\":true,\"text\":[\"A\",\"A\",\"A\",\"A\",\"A\",\"A\",\"A\",\"A\",\"A\",\"A\"],\"textposition\":\"auto\",\"x\":[\"0\",\"0-2\",\"0-3\",\"0-4\",\"0adgio1\",\"0adgio1-2\",\"0adgio1o2o3o4o5\",\"0agio1o2\",\"0aio1o2o3o4o5\",\"0o5o3o4\"],\"xaxis\":\"x7\",\"y\":[-1,-1,-1,-1,-1,-1,-1,-1,-1,-1],\"yaxis\":\"y7\",\"type\":\"bar\"},{\"alignmentgroup\":\"True\",\"hovertemplate\":\"Lineages=%{text}\\u003cbr\\u003escheme=kallisto\\u003cbr\\u003eSample=%{x}\\u003cbr\\u003eAbundances=%{y}\\u003cextra\\u003e\\u003c\\u002fextra\\u003e\",\"legendgroup\":\"Beta\",\"marker\":{\"color\":\"#ab63fa\",\"pattern\":{\"shape\":\"\"}},\"name\":\"Beta\",\"offsetgroup\":\"Beta\",\"orientation\":\"v\",\"showlegend\":true,\"text\":[\"Beta\",\"Beta\",\"Beta\",\"Beta\",\"Beta\",\"Beta\",\"Beta\",\"Beta\",\"Beta\",\"Beta\",\"Beta\"],\"textposition\":\"auto\",\"x\":[\"0-2\",\"0-3\",\"0adgio1\",\"0adgio1-2\",\"0adgio1o2o3o4o5\",\"0agio1o2\",\"0aio1o2o3o4o5\",\"0o5o3o4\",\"agio3o4o5\",\"i\",\"i-2\"],\"xaxis\":\"x7\",\"y\":[-1,-1,-1,-1,-1,-1,-1,-1,-1,-1,-1],\"yaxis\":\"y7\",\"type\":\"bar\"},{\"alignmentgroup\":\"True\",\"hovertemplate\":\"Lineages=%{text}\\u003cbr\\u003escheme=kallisto (C-WAP)\\u003cbr\\u003eSample=%{x}\\u003cbr\\u003eAbundances=%{y}\\u003cextra\\u003e\\u003c\\u002fextra\\u003e\",\"legendgroup\":\"Beta\",\"marker\":{\"color\":\"#ab63fa\",\"pattern\":{\"shape\":\"\"}},\"name\":\"Beta\",\"offsetgroup\":\"Beta\",\"orientation\":\"v\",\"showlegend\":false,\"text\":[\"Beta\",\"Beta\"],\"textposition\":\"auto\",\"x\":[\"i\",\"i-2\"],\"xaxis\":\"x6\",\"y\":[-1,-1],\"yaxis\":\"y6\",\"type\":\"bar\"},{\"alignmentgroup\":\"True\",\"hovertemplate\":\"Lineages=%{text}\\u003cbr\\u003escheme=LCS\\u003cbr\\u003eSample=%{x}\\u003cbr\\u003eAbundances=%{y}\\u003cextra\\u003e\\u003c\\u002fextra\\u003e\",\"legendgroup\":\"Beta\",\"marker\":{\"color\":\"#ab63fa\",\"pattern\":{\"shape\":\"\"}},\"name\":\"Beta\",\"offsetgroup\":\"Beta\",\"orientation\":\"v\",\"showlegend\":false,\"text\":[\"Beta\",\"Beta\",\"Beta\",\"Beta\",\"Beta\",\"Beta\",\"Beta\",\"Beta\"],\"textposition\":\"auto\",\"x\":[\"0\",\"0adgio1\",\"0agio1o2\",\"0o5o3o4\",\"adgio1o2o3\",\"agio3o4o5\",\"i\",\"i-2\"],\"xaxis\":\"x4\",\"y\":[-1,-1,-1,-1,-1,-1,-1,-1],\"yaxis\":\"y4\",\"type\":\"bar\"},{\"alignmentgroup\":\"True\",\"hovertemplate\":\"Lineages=%{text}\\u003cbr\\u003escheme=lineagespot\\u003cbr\\u003eSample=%{x}\\u003cbr\\u003eAbundances=%{y}\\u003cextra\\u003e\\u003c\\u002fextra\\u003e\",\"legendgroup\":\"Beta\",\"marker\":{\"color\":\"#ab63fa\",\"pattern\":{\"shape\":\"\"}},\"name\":\"Beta\",\"offsetgroup\":\"Beta\",\"orientation\":\"v\",\"showlegend\":false,\"text\":[\"Beta\",\"Beta\",\"Beta\",\"Beta\"],\"textposition\":\"auto\",\"x\":[\"o1o2\",\"o2o3o4o5-3\",\"o3-3\",\"o4-2\"],\"xaxis\":\"x3\",\"y\":[-1,-1,-1,-1],\"yaxis\":\"y3\",\"type\":\"bar\"},{\"alignmentgroup\":\"True\",\"hovertemplate\":\"Lineages=%{text}\\u003cbr\\u003escheme=LolliPop\\u003cbr\\u003eSample=%{x}\\u003cbr\\u003eAbundances=%{y}\\u003cextra\\u003e\\u003c\\u002fextra\\u003e\",\"legendgroup\":\"Beta\",\"marker\":{\"color\":\"#ab63fa\",\"pattern\":{\"shape\":\"\"}},\"name\":\"Beta\",\"offsetgroup\":\"Beta\",\"orientation\":\"v\",\"showlegend\":false,\"text\":[\"Beta\",\"Beta\",\"Beta\",\"Beta\",\"Beta\",\"Beta\",\"Beta\",\"Beta\",\"Beta\"],\"textposition\":\"auto\",\"x\":[\"0adgio1\",\"0adgio1-2\",\"0adgio1o2o3o4o5\",\"0agio1o2\",\"0aio1o2o3o4o5\",\"adgio1o2o3\",\"agio3o4o5\",\"i\",\"i-2\"],\"xaxis\":\"x2\",\"y\":[-1,-1,-1,-1,-1,-1,-1,-1,-1],\"yaxis\":\"y2\",\"type\":\"bar\"},{\"alignmentgroup\":\"True\",\"hovertemplate\":\"Lineages=%{text}\\u003cbr\\u003escheme=kallisto\\u003cbr\\u003eSample=%{x}\\u003cbr\\u003eAbundances=%{y}\\u003cextra\\u003e\\u003c\\u002fextra\\u003e\",\"legendgroup\":\"XBB.1.5.X\",\"marker\":{\"color\":\"#FFA15A\",\"pattern\":{\"shape\":\"\"}},\"name\":\"XBB.1.5.X\",\"offsetgroup\":\"XBB.1.5* [Omicron (XBB.1.5.X)]\",\"orientation\":\"v\",\"showlegend\":true,\"text\":[\"XBB.1.5.X\",\"XBB.1.5.X\",\"XBB.1.5.X\",\"XBB.1.5.X\",\"XBB.1.5.X\",\"XBB.1.5.X\",\"XBB.1.5.X\",\"XBB.1.5.X\",\"XBB.1.5.X\",\"XBB.1.5.X\",\"XBB.1.5.X\",\"XBB.1.5.X\",\"XBB.1.5.X\",\"XBB.1.5.X\",\"XBB.1.5.X\",\"XBB.1.5.X\",\"XBB.1.5.X\",\"XBB.1.5.X\",\"XBB.1.5.X\",\"XBB.1.5.X\",\"XBB.1.5.X\",\"XBB.1.5.X\"],\"textposition\":\"auto\",\"x\":[\"0adgio1o2o3o4o5\",\"0agio1o2\",\"0aio1o2o3o4o5\",\"0o5o3o4\",\"adgio1o2o3\",\"agio3o4o5\",\"o1o2\",\"o1o2o3o4o5\",\"o2-2\",\"o2-3\",\"o2o3o4o5\",\"o2o3o4o5-2\",\"o2o3o4o5-3\",\"o3\",\"o3-2\",\"o3-3\",\"o3-4\",\"o4\",\"o4-3\",\"o5\",\"o5-2\",\"o5-3\"],\"xaxis\":\"x7\",\"y\":[-1,-1,-1,-1,-1,-1,-1,-1,-1,-1,-1,-1,-1,-1,-1,-1,-1,-1,-1,-1,-1,-1],\"yaxis\":\"y7\",\"type\":\"bar\"},{\"alignmentgroup\":\"True\",\"hovertemplate\":\"Lineages=%{text}\\u003cbr\\u003escheme=LolliPop\\u003cbr\\u003eSample=%{x}\\u003cbr\\u003eAbundances=%{y}\\u003cextra\\u003e\\u003c\\u002fextra\\u003e\",\"legendgroup\":\"XBB.1.5.X\",\"marker\":{\"color\":\"#FFA15A\",\"pattern\":{\"shape\":\"\"}},\"name\":\"XBB.1.5.X\",\"offsetgroup\":\"XBB.1.5* [Omicron (XBB.1.5.X)]\",\"orientation\":\"v\",\"showlegend\":false,\"text\":[\"XBB.1.5.X\",\"XBB.1.5.X\",\"XBB.1.5.X\",\"XBB.1.5.X\",\"XBB.1.5.X\",\"XBB.1.5.X\",\"XBB.1.5.X\",\"XBB.1.5.X\",\"XBB.1.5.X\"],\"textposition\":\"auto\",\"x\":[\"0\",\"0-2\",\"0-3\",\"0-4\",\"0adgio1\",\"0adgio1-2\",\"0agio1o2\",\"i\",\"i-2\"],\"xaxis\":\"x2\",\"y\":[-1,-1,-1,-1,-1,-1,-1,-1,-1],\"yaxis\":\"y2\",\"type\":\"bar\"},{\"alignmentgroup\":\"True\",\"hovertemplate\":\"Lineages=%{text}\\u003cbr\\u003escheme=kallisto\\u003cbr\\u003eSample=%{x}\\u003cbr\\u003eAbundances=%{y}\\u003cextra\\u003e\\u003c\\u002fextra\\u003e\",\"legendgroup\":\"BA.2.75.X\",\"marker\":{\"color\":\"#19d3f3\",\"pattern\":{\"shape\":\"\"}},\"name\":\"BA.2.75.X\",\"offsetgroup\":\"BA.2.75* [Omicron (BA.2.75.X)]\",\"orientation\":\"v\",\"showlegend\":true,\"text\":[\"BA.2.75.X\",\"BA.2.75.X\",\"BA.2.75.X\",\"BA.2.75.X\"],\"textposition\":\"auto\",\"x\":[\"o2-3\",\"o2o3o4o5-2\",\"o3\",\"o3-3\"],\"xaxis\":\"x7\",\"y\":[-1,-1,-1,-1],\"yaxis\":\"y7\",\"type\":\"bar\"},{\"alignmentgroup\":\"True\",\"hovertemplate\":\"Lineages=%{text}\\u003cbr\\u003escheme=kallisto (C-WAP)\\u003cbr\\u003eSample=%{x}\\u003cbr\\u003eAbundances=%{y}\\u003cextra\\u003e\\u003c\\u002fextra\\u003e\",\"legendgroup\":\"Epsilon\",\"marker\":{\"color\":\"#FF6692\",\"pattern\":{\"shape\":\"\"}},\"name\":\"Epsilon\",\"offsetgroup\":\"Epsilon\",\"orientation\":\"v\",\"showlegend\":true,\"text\":[\"Epsilon\",\"Epsilon\",\"Epsilon\",\"Epsilon\",\"Epsilon\",\"Epsilon\",\"Epsilon\",\"Epsilon\",\"Epsilon\",\"Epsilon\",\"Epsilon\",\"Epsilon\",\"Epsilon\",\"Epsilon\",\"Epsilon\",\"Epsilon\",\"Epsilon\",\"Epsilon\",\"Epsilon\",\"Epsilon\"],\"textposition\":\"auto\",\"x\":[\"0\",\"0-2\",\"0-3\",\"0-4\",\"0adgio1\",\"0adgio1-2\",\"0adgio1o2o3o4o5\",\"0agio1o2\",\"0aio1o2o3o4o5\",\"0o5o3o4\",\"a\",\"a-2\",\"adgio1o2o3\",\"agio3o4o5\",\"d\",\"d-2\",\"g\",\"g-2\",\"i\",\"i-2\"],\"xaxis\":\"x6\",\"y\":[-1,-1,-1,-1,-1,-1,-1,-1,-1,-1,-1,-1,-1,-1,-1,-1,-1,-1,-1,-1],\"yaxis\":\"y6\",\"type\":\"bar\"},{\"alignmentgroup\":\"True\",\"hovertemplate\":\"Lineages=%{text}\\u003cbr\\u003escheme=kallisto (C-WAP)\\u003cbr\\u003eSample=%{x}\\u003cbr\\u003eAbundances=%{y}\\u003cextra\\u003e\\u003c\\u002fextra\\u003e\",\"legendgroup\":\"Kappa\",\"marker\":{\"color\":\"#B6E880\",\"pattern\":{\"shape\":\"\"}},\"name\":\"Kappa\",\"offsetgroup\":\"Kappa\",\"orientation\":\"v\",\"showlegend\":true,\"text\":[\"Kappa\",\"Kappa\",\"Kappa\",\"Kappa\",\"Kappa\"],\"textposition\":\"auto\",\"x\":[\"0adgio1\",\"0adgio1-2\",\"adgio1o2o3\",\"d\",\"d-2\"],\"xaxis\":\"x6\",\"y\":[-1,-1,-1,-1,-1],\"yaxis\":\"y6\",\"type\":\"bar\"},{\"alignmentgroup\":\"True\",\"hovertemplate\":\"Lineages=%{text}\\u003cbr\\u003escheme=LolliPop\\u003cbr\\u003eSample=%{x}\\u003cbr\\u003eAbundances=%{y}\\u003cextra\\u003e\\u003c\\u002fextra\\u003e\",\"legendgroup\":\"Kappa\",\"marker\":{\"color\":\"#B6E880\",\"pattern\":{\"shape\":\"\"}},\"name\":\"Kappa\",\"offsetgroup\":\"Kappa\",\"orientation\":\"v\",\"showlegend\":false,\"text\":[\"Kappa\"],\"textposition\":\"auto\",\"x\":[\"d-2\"],\"xaxis\":\"x2\",\"y\":[-1],\"yaxis\":\"y2\",\"type\":\"bar\"},{\"alignmentgroup\":\"True\",\"hovertemplate\":\"Lineages=%{text}\\u003cbr\\u003escheme=LCS\\u003cbr\\u003eSample=%{x}\\u003cbr\\u003eAbundances=%{y}\\u003cextra\\u003e\\u003c\\u002fextra\\u003e\",\"legendgroup\":\"Lambda\",\"marker\":{\"color\":\"#FF97FF\",\"pattern\":{\"shape\":\"\"}},\"name\":\"Lambda\",\"offsetgroup\":\"Lambda\",\"orientation\":\"v\",\"showlegend\":true,\"text\":[\"Lambda\",\"Lambda\"],\"textposition\":\"auto\",\"x\":[\"o1o2o3o4o5\",\"o5-3\"],\"xaxis\":\"x4\",\"y\":[-1,-1],\"yaxis\":\"y4\",\"type\":\"bar\"},{\"alignmentgroup\":\"True\",\"hovertemplate\":\"Lineages=%{text}\\u003cbr\\u003escheme=LolliPop\\u003cbr\\u003eSample=%{x}\\u003cbr\\u003eAbundances=%{y}\\u003cextra\\u003e\\u003c\\u002fextra\\u003e\",\"legendgroup\":\"Lambda\",\"marker\":{\"color\":\"#FF97FF\",\"pattern\":{\"shape\":\"\"}},\"name\":\"Lambda\",\"offsetgroup\":\"Lambda\",\"orientation\":\"v\",\"showlegend\":false,\"text\":[\"Lambda\",\"Lambda\"],\"textposition\":\"auto\",\"x\":[\"o3-3\",\"o3-4\"],\"xaxis\":\"x2\",\"y\":[-1,-1],\"yaxis\":\"y2\",\"type\":\"bar\"},{\"alignmentgroup\":\"True\",\"hovertemplate\":\"Lineages=%{text}\\u003cbr\\u003escheme=LolliPop\\u003cbr\\u003eSample=%{x}\\u003cbr\\u003eAbundances=%{y}\\u003cextra\\u003e\\u003c\\u002fextra\\u003e\",\"legendgroup\":\"EG.5.X\",\"marker\":{\"color\":\"#FECB52\",\"pattern\":{\"shape\":\"\"}},\"name\":\"EG.5.X\",\"offsetgroup\":\"EG.5* [Omicron (EG.5.X)]\",\"orientation\":\"v\",\"showlegend\":true,\"text\":[\"EG.5.X\",\"EG.5.X\"],\"textposition\":\"auto\",\"x\":[\"0\",\"i-2\"],\"xaxis\":\"x2\",\"y\":[-1,-1],\"yaxis\":\"y2\",\"type\":\"bar\"},{\"alignmentgroup\":\"True\",\"hovertemplate\":\"Lineages=%{text}\\u003cbr\\u003escheme=LolliPop\\u003cbr\\u003eSample=%{x}\\u003cbr\\u003eAbundances=%{y}\\u003cextra\\u003e\\u003c\\u002fextra\\u003e\",\"legendgroup\":\"CH.1.1.X\",\"marker\":{\"color\":\"#636efa\",\"pattern\":{\"shape\":\"\"}},\"name\":\"CH.1.1.X\",\"offsetgroup\":\"CH.1.1* [Omicron (CH.1.1.X)]\",\"orientation\":\"v\",\"showlegend\":true,\"text\":[\"CH.1.1.X\",\"CH.1.1.X\",\"CH.1.1.X\",\"CH.1.1.X\",\"CH.1.1.X\",\"CH.1.1.X\",\"CH.1.1.X\",\"CH.1.1.X\",\"CH.1.1.X\",\"CH.1.1.X\",\"CH.1.1.X\",\"CH.1.1.X\"],\"textposition\":\"auto\",\"x\":[\"0-2\",\"0adgio1\",\"0adgio1-2\",\"0adgio1o2o3o4o5\",\"0aio1o2o3o4o5\",\"0o5o3o4\",\"adgio1o2o3\",\"o1o2o3o4o5\",\"o2o3o4o5-2\",\"o2o3o4o5-3\",\"o5\",\"o5-3\"],\"xaxis\":\"x2\",\"y\":[-1,-1,-1,-1,-1,-1,-1,-1,-1,-1,-1,-1],\"yaxis\":\"y2\",\"type\":\"bar\"},{\"alignmentgroup\":\"True\",\"hovertemplate\":\"Lineages=%{text}\\u003cbr\\u003escheme=LolliPop\\u003cbr\\u003eSample=%{x}\\u003cbr\\u003eAbundances=%{y}\\u003cextra\\u003e\\u003c\\u002fextra\\u003e\",\"legendgroup\":\"Zeta\",\"marker\":{\"color\":\"#EF553B\",\"pattern\":{\"shape\":\"\"}},\"name\":\"Zeta\",\"offsetgroup\":\"Zeta\",\"orientation\":\"v\",\"showlegend\":true,\"text\":[\"Zeta\",\"Zeta\"],\"textposition\":\"auto\",\"x\":[\"i\",\"i-2\"],\"xaxis\":\"x2\",\"y\":[-1,-1],\"yaxis\":\"y2\",\"type\":\"bar\"},{\"alignmentgroup\":\"True\",\"hovertemplate\":\"Lineages=%{text}\\u003cbr\\u003escheme=LolliPop\\u003cbr\\u003eSample=%{x}\\u003cbr\\u003eAbundances=%{y}\\u003cextra\\u003e\\u003c\\u002fextra\\u003e\",\"legendgroup\":\"Mu\",\"marker\":{\"color\":\"#00cc96\",\"pattern\":{\"shape\":\"\"}},\"name\":\"Mu\",\"offsetgroup\":\"Mu\",\"orientation\":\"v\",\"showlegend\":true,\"text\":[\"Mu\"],\"textposition\":\"auto\",\"x\":[\"i-2\"],\"xaxis\":\"x2\",\"y\":[-1],\"yaxis\":\"y2\",\"type\":\"bar\"}],                        {\"template\":{\"data\":{\"histogram2dcontour\":[{\"type\":\"histogram2dcontour\",\"colorbar\":{\"outlinewidth\":0,\"ticks\":\"\"},\"colorscale\":[[0.0,\"#0d0887\"],[0.1111111111111111,\"#46039f\"],[0.2222222222222222,\"#7201a8\"],[0.3333333333333333,\"#9c179e\"],[0.4444444444444444,\"#bd3786\"],[0.5555555555555556,\"#d8576b\"],[0.6666666666666666,\"#ed7953\"],[0.7777777777777778,\"#fb9f3a\"],[0.8888888888888888,\"#fdca26\"],[1.0,\"#f0f921\"]]}],\"choropleth\":[{\"type\":\"choropleth\",\"colorbar\":{\"outlinewidth\":0,\"ticks\":\"\"}}],\"histogram2d\":[{\"type\":\"histogram2d\",\"colorbar\":{\"outlinewidth\":0,\"ticks\":\"\"},\"colorscale\":[[0.0,\"#0d0887\"],[0.1111111111111111,\"#46039f\"],[0.2222222222222222,\"#7201a8\"],[0.3333333333333333,\"#9c179e\"],[0.4444444444444444,\"#bd3786\"],[0.5555555555555556,\"#d8576b\"],[0.6666666666666666,\"#ed7953\"],[0.7777777777777778,\"#fb9f3a\"],[0.8888888888888888,\"#fdca26\"],[1.0,\"#f0f921\"]]}],\"heatmap\":[{\"type\":\"heatmap\",\"colorbar\":{\"outlinewidth\":0,\"ticks\":\"\"},\"colorscale\":[[0.0,\"#0d0887\"],[0.1111111111111111,\"#46039f\"],[0.2222222222222222,\"#7201a8\"],[0.3333333333333333,\"#9c179e\"],[0.4444444444444444,\"#bd3786\"],[0.5555555555555556,\"#d8576b\"],[0.6666666666666666,\"#ed7953\"],[0.7777777777777778,\"#fb9f3a\"],[0.8888888888888888,\"#fdca26\"],[1.0,\"#f0f921\"]]}],\"heatmapgl\":[{\"type\":\"heatmapgl\",\"colorbar\":{\"outlinewidth\":0,\"ticks\":\"\"},\"colorscale\":[[0.0,\"#0d0887\"],[0.1111111111111111,\"#46039f\"],[0.2222222222222222,\"#7201a8\"],[0.3333333333333333,\"#9c179e\"],[0.4444444444444444,\"#bd3786\"],[0.5555555555555556,\"#d8576b\"],[0.6666666666666666,\"#ed7953\"],[0.7777777777777778,\"#fb9f3a\"],[0.8888888888888888,\"#fdca26\"],[1.0,\"#f0f921\"]]}],\"contourcarpet\":[{\"type\":\"contourcarpet\",\"colorbar\":{\"outlinewidth\":0,\"ticks\":\"\"}}],\"contour\":[{\"type\":\"contour\",\"colorbar\":{\"outlinewidth\":0,\"ticks\":\"\"},\"colorscale\":[[0.0,\"#0d0887\"],[0.1111111111111111,\"#46039f\"],[0.2222222222222222,\"#7201a8\"],[0.3333333333333333,\"#9c179e\"],[0.4444444444444444,\"#bd3786\"],[0.5555555555555556,\"#d8576b\"],[0.6666666666666666,\"#ed7953\"],[0.7777777777777778,\"#fb9f3a\"],[0.8888888888888888,\"#fdca26\"],[1.0,\"#f0f921\"]]}],\"surface\":[{\"type\":\"surface\",\"colorbar\":{\"outlinewidth\":0,\"ticks\":\"\"},\"colorscale\":[[0.0,\"#0d0887\"],[0.1111111111111111,\"#46039f\"],[0.2222222222222222,\"#7201a8\"],[0.3333333333333333,\"#9c179e\"],[0.4444444444444444,\"#bd3786\"],[0.5555555555555556,\"#d8576b\"],[0.6666666666666666,\"#ed7953\"],[0.7777777777777778,\"#fb9f3a\"],[0.8888888888888888,\"#fdca26\"],[1.0,\"#f0f921\"]]}],\"mesh3d\":[{\"type\":\"mesh3d\",\"colorbar\":{\"outlinewidth\":0,\"ticks\":\"\"}}],\"scatter\":[{\"fillpattern\":{\"fillmode\":\"overlay\",\"size\":10,\"solidity\":0.2},\"type\":\"scatter\"}],\"parcoords\":[{\"type\":\"parcoords\",\"line\":{\"colorbar\":{\"outlinewidth\":0,\"ticks\":\"\"}}}],\"scatterpolargl\":[{\"type\":\"scatterpolargl\",\"marker\":{\"colorbar\":{\"outlinewidth\":0,\"ticks\":\"\"}}}],\"bar\":[{\"error_x\":{\"color\":\"#2a3f5f\"},\"error_y\":{\"color\":\"#2a3f5f\"},\"marker\":{\"line\":{\"color\":\"#E5ECF6\",\"width\":0.5},\"pattern\":{\"fillmode\":\"overlay\",\"size\":10,\"solidity\":0.2}},\"type\":\"bar\"}],\"scattergeo\":[{\"type\":\"scattergeo\",\"marker\":{\"colorbar\":{\"outlinewidth\":0,\"ticks\":\"\"}}}],\"scatterpolar\":[{\"type\":\"scatterpolar\",\"marker\":{\"colorbar\":{\"outlinewidth\":0,\"ticks\":\"\"}}}],\"histogram\":[{\"marker\":{\"pattern\":{\"fillmode\":\"overlay\",\"size\":10,\"solidity\":0.2}},\"type\":\"histogram\"}],\"scattergl\":[{\"type\":\"scattergl\",\"marker\":{\"colorbar\":{\"outlinewidth\":0,\"ticks\":\"\"}}}],\"scatter3d\":[{\"type\":\"scatter3d\",\"line\":{\"colorbar\":{\"outlinewidth\":0,\"ticks\":\"\"}},\"marker\":{\"colorbar\":{\"outlinewidth\":0,\"ticks\":\"\"}}}],\"scattermapbox\":[{\"type\":\"scattermapbox\",\"marker\":{\"colorbar\":{\"outlinewidth\":0,\"ticks\":\"\"}}}],\"scatterternary\":[{\"type\":\"scatterternary\",\"marker\":{\"colorbar\":{\"outlinewidth\":0,\"ticks\":\"\"}}}],\"scattercarpet\":[{\"type\":\"scattercarpet\",\"marker\":{\"colorbar\":{\"outlinewidth\":0,\"ticks\":\"\"}}}],\"carpet\":[{\"aaxis\":{\"endlinecolor\":\"#2a3f5f\",\"gridcolor\":\"white\",\"linecolor\":\"white\",\"minorgridcolor\":\"white\",\"startlinecolor\":\"#2a3f5f\"},\"baxis\":{\"endlinecolor\":\"#2a3f5f\",\"gridcolor\":\"white\",\"linecolor\":\"white\",\"minorgridcolor\":\"white\",\"startlinecolor\":\"#2a3f5f\"},\"type\":\"carpet\"}],\"table\":[{\"cells\":{\"fill\":{\"color\":\"#EBF0F8\"},\"line\":{\"color\":\"white\"}},\"header\":{\"fill\":{\"color\":\"#C8D4E3\"},\"line\":{\"color\":\"white\"}},\"type\":\"table\"}],\"barpolar\":[{\"marker\":{\"line\":{\"color\":\"#E5ECF6\",\"width\":0.5},\"pattern\":{\"fillmode\":\"overlay\",\"size\":10,\"solidity\":0.2}},\"type\":\"barpolar\"}],\"pie\":[{\"automargin\":true,\"type\":\"pie\"}]},\"layout\":{\"autotypenumbers\":\"strict\",\"colorway\":[\"#636efa\",\"#EF553B\",\"#00cc96\",\"#ab63fa\",\"#FFA15A\",\"#19d3f3\",\"#FF6692\",\"#B6E880\",\"#FF97FF\",\"#FECB52\"],\"font\":{\"color\":\"#2a3f5f\"},\"hovermode\":\"closest\",\"hoverlabel\":{\"align\":\"left\"},\"paper_bgcolor\":\"white\",\"plot_bgcolor\":\"#E5ECF6\",\"polar\":{\"bgcolor\":\"#E5ECF6\",\"angularaxis\":{\"gridcolor\":\"white\",\"linecolor\":\"white\",\"ticks\":\"\"},\"radialaxis\":{\"gridcolor\":\"white\",\"linecolor\":\"white\",\"ticks\":\"\"}},\"ternary\":{\"bgcolor\":\"#E5ECF6\",\"aaxis\":{\"gridcolor\":\"white\",\"linecolor\":\"white\",\"ticks\":\"\"},\"baxis\":{\"gridcolor\":\"white\",\"linecolor\":\"white\",\"ticks\":\"\"},\"caxis\":{\"gridcolor\":\"white\",\"linecolor\":\"white\",\"ticks\":\"\"}},\"coloraxis\":{\"colorbar\":{\"outlinewidth\":0,\"ticks\":\"\"}},\"colorscale\":{\"sequential\":[[0.0,\"#0d0887\"],[0.1111111111111111,\"#46039f\"],[0.2222222222222222,\"#7201a8\"],[0.3333333333333333,\"#9c179e\"],[0.4444444444444444,\"#bd3786\"],[0.5555555555555556,\"#d8576b\"],[0.6666666666666666,\"#ed7953\"],[0.7777777777777778,\"#fb9f3a\"],[0.8888888888888888,\"#fdca26\"],[1.0,\"#f0f921\"]],\"sequentialminus\":[[0.0,\"#0d0887\"],[0.1111111111111111,\"#46039f\"],[0.2222222222222222,\"#7201a8\"],[0.3333333333333333,\"#9c179e\"],[0.4444444444444444,\"#bd3786\"],[0.5555555555555556,\"#d8576b\"],[0.6666666666666666,\"#ed7953\"],[0.7777777777777778,\"#fb9f3a\"],[0.8888888888888888,\"#fdca26\"],[1.0,\"#f0f921\"]],\"diverging\":[[0,\"#8e0152\"],[0.1,\"#c51b7d\"],[0.2,\"#de77ae\"],[0.3,\"#f1b6da\"],[0.4,\"#fde0ef\"],[0.5,\"#f7f7f7\"],[0.6,\"#e6f5d0\"],[0.7,\"#b8e186\"],[0.8,\"#7fbc41\"],[0.9,\"#4d9221\"],[1,\"#276419\"]]},\"xaxis\":{\"gridcolor\":\"white\",\"linecolor\":\"white\",\"ticks\":\"\",\"title\":{\"standoff\":15},\"zerolinecolor\":\"white\",\"automargin\":true,\"zerolinewidth\":2},\"yaxis\":{\"gridcolor\":\"white\",\"linecolor\":\"white\",\"ticks\":\"\",\"title\":{\"standoff\":15},\"zerolinecolor\":\"white\",\"automargin\":true,\"zerolinewidth\":2},\"scene\":{\"xaxis\":{\"backgroundcolor\":\"#E5ECF6\",\"gridcolor\":\"white\",\"linecolor\":\"white\",\"showbackground\":true,\"ticks\":\"\",\"zerolinecolor\":\"white\",\"gridwidth\":2},\"yaxis\":{\"backgroundcolor\":\"#E5ECF6\",\"gridcolor\":\"white\",\"linecolor\":\"white\",\"showbackground\":true,\"ticks\":\"\",\"zerolinecolor\":\"white\",\"gridwidth\":2},\"zaxis\":{\"backgroundcolor\":\"#E5ECF6\",\"gridcolor\":\"white\",\"linecolor\":\"white\",\"showbackground\":true,\"ticks\":\"\",\"zerolinecolor\":\"white\",\"gridwidth\":2}},\"shapedefaults\":{\"line\":{\"color\":\"#2a3f5f\"}},\"annotationdefaults\":{\"arrowcolor\":\"#2a3f5f\",\"arrowhead\":0,\"arrowwidth\":1},\"geo\":{\"bgcolor\":\"white\",\"landcolor\":\"#E5ECF6\",\"subunitcolor\":\"white\",\"showland\":true,\"showlakes\":true,\"lakecolor\":\"white\"},\"title\":{\"x\":0.05},\"mapbox\":{\"style\":\"light\"}}},\"xaxis\":{\"anchor\":\"y\",\"domain\":[0.0,0.98],\"title\":{\"text\":\"Sample\"},\"categoryorder\":\"category ascending\"},\"yaxis\":{\"anchor\":\"x\",\"domain\":[0.0,0.08444444444444445],\"title\":{\"text\":\"Abundances\"}},\"xaxis2\":{\"anchor\":\"y2\",\"domain\":[0.0,0.98],\"matches\":\"x\",\"showticklabels\":false},\"yaxis2\":{\"anchor\":\"x2\",\"domain\":[0.11444444444444445,0.1988888888888889],\"matches\":\"y\",\"title\":{\"text\":\"Abundances\"}},\"xaxis3\":{\"anchor\":\"y3\",\"domain\":[0.0,0.98],\"matches\":\"x\",\"showticklabels\":false},\"yaxis3\":{\"anchor\":\"x3\",\"domain\":[0.2288888888888889,0.31333333333333335],\"matches\":\"y\",\"title\":{\"text\":\"Abundances\"}},\"xaxis4\":{\"anchor\":\"y4\",\"domain\":[0.0,0.98],\"matches\":\"x\",\"showticklabels\":false},\"yaxis4\":{\"anchor\":\"x4\",\"domain\":[0.3433333333333334,0.4277777777777778],\"matches\":\"y\",\"title\":{\"text\":\"Abundances\"}},\"xaxis5\":{\"anchor\":\"y5\",\"domain\":[0.0,0.98],\"matches\":\"x\",\"showticklabels\":false},\"yaxis5\":{\"anchor\":\"x5\",\"domain\":[0.4577777777777778,0.5422222222222223],\"matches\":\"y\",\"title\":{\"text\":\"Abundances\"}},\"xaxis6\":{\"anchor\":\"y6\",\"domain\":[0.0,0.98],\"matches\":\"x\",\"showticklabels\":false},\"yaxis6\":{\"anchor\":\"x6\",\"domain\":[0.5722222222222222,0.6566666666666666],\"matches\":\"y\",\"title\":{\"text\":\"Abundances\"}},\"xaxis7\":{\"anchor\":\"y7\",\"domain\":[0.0,0.98],\"matches\":\"x\",\"showticklabels\":false},\"yaxis7\":{\"anchor\":\"x7\",\"domain\":[0.6866666666666668,0.7711111111111112],\"matches\":\"y\",\"title\":{\"text\":\"Abundances\"}},\"xaxis8\":{\"anchor\":\"y8\",\"domain\":[0.0,0.98],\"matches\":\"x\",\"showticklabels\":false},\"yaxis8\":{\"anchor\":\"x8\",\"domain\":[0.8011111111111111,0.8855555555555555],\"matches\":\"y\",\"title\":{\"text\":\"Abundances\"}},\"xaxis9\":{\"anchor\":\"y9\",\"domain\":[0.0,0.98],\"matches\":\"x\",\"showticklabels\":false},\"yaxis9\":{\"anchor\":\"x9\",\"domain\":[0.9155555555555556,1.0],\"matches\":\"y\",\"title\":{\"text\":\"Abundances\"}},\"annotations\":[{\"showarrow\":false,\"text\":\"VaQuERo\",\"textangle\":90,\"x\":0.98,\"xanchor\":\"left\",\"xref\":\"paper\",\"y\":0.042222222222222223,\"yanchor\":\"middle\",\"yref\":\"paper\"},{\"showarrow\":false,\"text\":\"LolliPop\",\"textangle\":90,\"x\":0.98,\"xanchor\":\"left\",\"xref\":\"paper\",\"y\":0.15666666666666668,\"yanchor\":\"middle\",\"yref\":\"paper\"},{\"showarrow\":false,\"text\":\"lineagespot\",\"textangle\":90,\"x\":0.98,\"xanchor\":\"left\",\"xref\":\"paper\",\"y\":0.27111111111111114,\"yanchor\":\"middle\",\"yref\":\"paper\"},{\"showarrow\":false,\"text\":\"LCS\",\"textangle\":90,\"x\":0.98,\"xanchor\":\"left\",\"xref\":\"paper\",\"y\":0.3855555555555556,\"yanchor\":\"middle\",\"yref\":\"paper\"},{\"showarrow\":false,\"text\":\"Kraken 2\\u003cbr\\u003e(C-WAP)\",\"textangle\":90,\"x\":0.98,\"xanchor\":\"left\",\"xref\":\"paper\",\"y\":0.5,\"yanchor\":\"middle\",\"yref\":\"paper\"},{\"showarrow\":false,\"text\":\"kallisto\\u003cbr\\u003e(C-WAP)\",\"textangle\":90,\"x\":0.98,\"xanchor\":\"left\",\"xref\":\"paper\",\"y\":0.6144444444444443,\"yanchor\":\"middle\",\"yref\":\"paper\"},{\"showarrow\":false,\"text\":\"kallisto\",\"textangle\":90,\"x\":0.98,\"xanchor\":\"left\",\"xref\":\"paper\",\"y\":0.7288888888888889,\"yanchor\":\"middle\",\"yref\":\"paper\"},{\"showarrow\":false,\"text\":\"Freyja\",\"textangle\":90,\"x\":0.98,\"xanchor\":\"left\",\"xref\":\"paper\",\"y\":0.8433333333333333,\"yanchor\":\"middle\",\"yref\":\"paper\"},{\"showarrow\":false,\"text\":\"Alcov\",\"textangle\":90,\"x\":0.98,\"xanchor\":\"left\",\"xref\":\"paper\",\"y\":0.9577777777777778,\"yanchor\":\"middle\",\"yref\":\"paper\"},{\"showarrow\":false,\"text\":\"\",\"x\":1,\"xanchor\":\"right\",\"xref\":\"x domain\",\"y\":0,\"yanchor\":\"bottom\",\"yref\":\"y\"},{\"showarrow\":false,\"text\":\"\",\"x\":1,\"xanchor\":\"right\",\"xref\":\"x2 domain\",\"y\":0,\"yanchor\":\"bottom\",\"yref\":\"y2\"},{\"showarrow\":false,\"text\":\"\",\"x\":1,\"xanchor\":\"right\",\"xref\":\"x3 domain\",\"y\":0,\"yanchor\":\"bottom\",\"yref\":\"y3\"},{\"showarrow\":false,\"text\":\"\",\"x\":1,\"xanchor\":\"right\",\"xref\":\"x4 domain\",\"y\":0,\"yanchor\":\"bottom\",\"yref\":\"y4\"},{\"showarrow\":false,\"text\":\"\",\"x\":1,\"xanchor\":\"right\",\"xref\":\"x5 domain\",\"y\":0,\"yanchor\":\"bottom\",\"yref\":\"y5\"},{\"showarrow\":false,\"text\":\"\",\"x\":1,\"xanchor\":\"right\",\"xref\":\"x6 domain\",\"y\":0,\"yanchor\":\"bottom\",\"yref\":\"y6\"},{\"showarrow\":false,\"text\":\"\",\"x\":1,\"xanchor\":\"right\",\"xref\":\"x7 domain\",\"y\":0,\"yanchor\":\"bottom\",\"yref\":\"y7\"},{\"showarrow\":false,\"text\":\"\",\"x\":1,\"xanchor\":\"right\",\"xref\":\"x8 domain\",\"y\":0,\"yanchor\":\"bottom\",\"yref\":\"y8\"},{\"showarrow\":false,\"text\":\"\",\"x\":1,\"xanchor\":\"right\",\"xref\":\"x9 domain\",\"y\":0,\"yanchor\":\"bottom\",\"yref\":\"y9\"}],\"legend\":{\"title\":{\"text\":\"Lineages\"},\"tracegroupgap\":0},\"title\":{\"text\":\"Detection of expected lineages\"},\"barmode\":\"relative\",\"height\":6000,\"shapes\":[{\"line\":{\"dash\":\"dot\"},\"type\":\"line\",\"x0\":0,\"x1\":1,\"xref\":\"x domain\",\"y0\":0,\"y1\":0,\"yref\":\"y\"},{\"line\":{\"dash\":\"dot\"},\"type\":\"line\",\"x0\":0,\"x1\":1,\"xref\":\"x2 domain\",\"y0\":0,\"y1\":0,\"yref\":\"y2\"},{\"line\":{\"dash\":\"dot\"},\"type\":\"line\",\"x0\":0,\"x1\":1,\"xref\":\"x3 domain\",\"y0\":0,\"y1\":0,\"yref\":\"y3\"},{\"line\":{\"dash\":\"dot\"},\"type\":\"line\",\"x0\":0,\"x1\":1,\"xref\":\"x4 domain\",\"y0\":0,\"y1\":0,\"yref\":\"y4\"},{\"line\":{\"dash\":\"dot\"},\"type\":\"line\",\"x0\":0,\"x1\":1,\"xref\":\"x5 domain\",\"y0\":0,\"y1\":0,\"yref\":\"y5\"},{\"line\":{\"dash\":\"dot\"},\"type\":\"line\",\"x0\":0,\"x1\":1,\"xref\":\"x6 domain\",\"y0\":0,\"y1\":0,\"yref\":\"y6\"},{\"line\":{\"dash\":\"dot\"},\"type\":\"line\",\"x0\":0,\"x1\":1,\"xref\":\"x7 domain\",\"y0\":0,\"y1\":0,\"yref\":\"y7\"},{\"line\":{\"dash\":\"dot\"},\"type\":\"line\",\"x0\":0,\"x1\":1,\"xref\":\"x8 domain\",\"y0\":0,\"y1\":0,\"yref\":\"y8\"},{\"line\":{\"dash\":\"dot\"},\"type\":\"line\",\"x0\":0,\"x1\":1,\"xref\":\"x9 domain\",\"y0\":0,\"y1\":0,\"yref\":\"y9\"}],\"font\":{\"family\":\"Inconsolata\"}},                        {\"responsive\": true}                    ).then(function(){\n",
       "                            \n",
       "var gd = document.getElementById('ac12e376-bbdf-4189-a1c9-9d0478d160fd');\n",
       "var x = new MutationObserver(function (mutations, observer) {{\n",
       "        var display = window.getComputedStyle(gd).display;\n",
       "        if (!display || display === 'none') {{\n",
       "            console.log([gd, 'removed!']);\n",
       "            Plotly.purge(gd);\n",
       "            observer.disconnect();\n",
       "        }}\n",
       "}});\n",
       "\n",
       "// Listen for the removal of the full notebook cells\n",
       "var notebookContainer = gd.closest('#notebook-container');\n",
       "if (notebookContainer) {{\n",
       "    x.observe(notebookContainer, {childList: true});\n",
       "}}\n",
       "\n",
       "// Listen for the clearing of the current output cell\n",
       "var outputEl = gd.closest('.output');\n",
       "if (outputEl) {{\n",
       "    x.observe(outputEl, {childList: true});\n",
       "}}\n",
       "\n",
       "                        })                };                });            </script>        </div>"
      ]
     },
     "metadata": {},
     "output_type": "display_data"
    }
   ],
   "source": [
    "pio.write_image(fig3, fn3, width=1700, height=7000, scale=2)\n",
    "fig3.show()"
   ]
  }
 ],
 "metadata": {
  "kernelspec": {
   "display_name": "Python 3",
   "language": "python",
   "name": "python3"
  },
  "language_info": {
   "codemirror_mode": {
    "name": "ipython",
    "version": 3
   },
   "file_extension": ".py",
   "mimetype": "text/x-python",
   "name": "python",
   "nbconvert_exporter": "python",
   "pygments_lexer": "ipython3",
   "version": "3.10.14"
  }
 },
 "nbformat": 4,
 "nbformat_minor": 2
}
