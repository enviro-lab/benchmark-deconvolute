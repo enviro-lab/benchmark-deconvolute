{
 "cells": [
  {
   "cell_type": "code",
   "execution_count": 8,
   "metadata": {},
   "outputs": [],
   "source": [
    "from pathlib import Path # type: ignore\n",
    "from freyja_plot import FreyjaPlotter\n",
    "import pandas as pd\n",
    "import sys\n",
    "import scipy.stats as stats\n",
    "from collections import defaultdict\n",
    "import plotly.io as pio\n",
    "if (module_path:=str(Path(\".\").absolute().resolve().parent)) not in sys.path:\n",
    "    sys.path.insert(0, module_path)\n",
    "from sample_info import get_stats, summary_dict, expected, artic_runs as runs, renameSamples, plotting_dir, p_value_table"
   ]
  },
  {
   "cell_type": "code",
   "execution_count": 2,
   "metadata": {},
   "outputs": [],
   "source": [
    "outdir = plotting_dir / \"percent_of_expected/observed_vs_expected\"\n",
    "outdir.mkdir(exist_ok=True)"
   ]
  },
  {
   "cell_type": "markdown",
   "metadata": {},
   "source": [
    "## ANOVA comapring percent of expected across tools (just MB)"
   ]
  },
  {
   "cell_type": "code",
   "execution_count": 3,
   "metadata": {},
   "outputs": [
    {
     "data": {
      "text/html": [
       "<div>\n",
       "<style scoped>\n",
       "    .dataframe tbody tr th:only-of-type {\n",
       "        vertical-align: middle;\n",
       "    }\n",
       "\n",
       "    .dataframe tbody tr th {\n",
       "        vertical-align: top;\n",
       "    }\n",
       "\n",
       "    .dataframe thead th {\n",
       "        text-align: right;\n",
       "    }\n",
       "</style>\n",
       "<table border=\"1\" class=\"dataframe\">\n",
       "  <thead>\n",
       "    <tr style=\"text-align: right;\">\n",
       "      <th></th>\n",
       "      <th>Sample name</th>\n",
       "      <th>lineages</th>\n",
       "      <th>abundances</th>\n",
       "      <th>scheme</th>\n",
       "      <th>expected_abundance</th>\n",
       "      <th>percent_of_expected</th>\n",
       "    </tr>\n",
       "  </thead>\n",
       "  <tbody>\n",
       "    <tr>\n",
       "      <th>115</th>\n",
       "      <td>0adgio1</td>\n",
       "      <td>Alpha</td>\n",
       "      <td>0.262</td>\n",
       "      <td>Alcov</td>\n",
       "      <td>0.250000</td>\n",
       "      <td>104.8</td>\n",
       "    </tr>\n",
       "    <tr>\n",
       "      <th>289</th>\n",
       "      <td>0adgio1-2</td>\n",
       "      <td>Alpha</td>\n",
       "      <td>0.145</td>\n",
       "      <td>Alcov</td>\n",
       "      <td>0.142857</td>\n",
       "      <td>101.5</td>\n",
       "    </tr>\n",
       "    <tr>\n",
       "      <th>106</th>\n",
       "      <td>0adgio1o2o3o4o5</td>\n",
       "      <td>Alpha</td>\n",
       "      <td>0.065</td>\n",
       "      <td>Alcov</td>\n",
       "      <td>0.066667</td>\n",
       "      <td>97.5</td>\n",
       "    </tr>\n",
       "    <tr>\n",
       "      <th>137</th>\n",
       "      <td>0agio1o2</td>\n",
       "      <td>Alpha</td>\n",
       "      <td>0.068</td>\n",
       "      <td>Alcov</td>\n",
       "      <td>0.062500</td>\n",
       "      <td>108.8</td>\n",
       "    </tr>\n",
       "    <tr>\n",
       "      <th>300</th>\n",
       "      <td>0aio1o2o3o4o5</td>\n",
       "      <td>Alpha</td>\n",
       "      <td>0.134</td>\n",
       "      <td>Alcov</td>\n",
       "      <td>0.125000</td>\n",
       "      <td>107.2</td>\n",
       "    </tr>\n",
       "    <tr>\n",
       "      <th>...</th>\n",
       "      <td>...</td>\n",
       "      <td>...</td>\n",
       "      <td>...</td>\n",
       "      <td>...</td>\n",
       "      <td>...</td>\n",
       "      <td>...</td>\n",
       "    </tr>\n",
       "    <tr>\n",
       "      <th>1832</th>\n",
       "      <td>0adgio1-2</td>\n",
       "      <td>Wuhan-hu-1</td>\n",
       "      <td>0.508</td>\n",
       "      <td>kallisto (C-WAP)</td>\n",
       "      <td>0.285714</td>\n",
       "      <td>177.8</td>\n",
       "    </tr>\n",
       "    <tr>\n",
       "      <th>1384</th>\n",
       "      <td>0adgio1o2o3o4o5</td>\n",
       "      <td>Wuhan-hu-1</td>\n",
       "      <td>0.207</td>\n",
       "      <td>kallisto (C-WAP)</td>\n",
       "      <td>0.133333</td>\n",
       "      <td>155.25</td>\n",
       "    </tr>\n",
       "    <tr>\n",
       "      <th>1427</th>\n",
       "      <td>0agio1o2</td>\n",
       "      <td>Wuhan-hu-1</td>\n",
       "      <td>0.256</td>\n",
       "      <td>kallisto (C-WAP)</td>\n",
       "      <td>0.125000</td>\n",
       "      <td>204.8</td>\n",
       "    </tr>\n",
       "    <tr>\n",
       "      <th>1847</th>\n",
       "      <td>0aio1o2o3o4o5</td>\n",
       "      <td>Wuhan-hu-1</td>\n",
       "      <td>0.231</td>\n",
       "      <td>kallisto (C-WAP)</td>\n",
       "      <td>0.125000</td>\n",
       "      <td>184.8</td>\n",
       "    </tr>\n",
       "    <tr>\n",
       "      <th>1442</th>\n",
       "      <td>0o5o3o4</td>\n",
       "      <td>Wuhan-hu-1</td>\n",
       "      <td>0.367</td>\n",
       "      <td>kallisto (C-WAP)</td>\n",
       "      <td>0.375000</td>\n",
       "      <td>97.866667</td>\n",
       "    </tr>\n",
       "  </tbody>\n",
       "</table>\n",
       "<p>641 rows × 6 columns</p>\n",
       "</div>"
      ],
      "text/plain": [
       "          Sample name    lineages  abundances            scheme  \\\n",
       "115           0adgio1       Alpha       0.262             Alcov   \n",
       "289         0adgio1-2       Alpha       0.145             Alcov   \n",
       "106   0adgio1o2o3o4o5       Alpha       0.065             Alcov   \n",
       "137          0agio1o2       Alpha       0.068             Alcov   \n",
       "300     0aio1o2o3o4o5       Alpha       0.134             Alcov   \n",
       "...               ...         ...         ...               ...   \n",
       "1832        0adgio1-2  Wuhan-hu-1       0.508  kallisto (C-WAP)   \n",
       "1384  0adgio1o2o3o4o5  Wuhan-hu-1       0.207  kallisto (C-WAP)   \n",
       "1427         0agio1o2  Wuhan-hu-1       0.256  kallisto (C-WAP)   \n",
       "1847    0aio1o2o3o4o5  Wuhan-hu-1       0.231  kallisto (C-WAP)   \n",
       "1442          0o5o3o4  Wuhan-hu-1       0.367  kallisto (C-WAP)   \n",
       "\n",
       "      expected_abundance percent_of_expected  \n",
       "115             0.250000               104.8  \n",
       "289             0.142857               101.5  \n",
       "106             0.066667                97.5  \n",
       "137             0.062500               108.8  \n",
       "300             0.125000               107.2  \n",
       "...                  ...                 ...  \n",
       "1832            0.285714               177.8  \n",
       "1384            0.133333              155.25  \n",
       "1427            0.125000               204.8  \n",
       "1847            0.125000               184.8  \n",
       "1442            0.375000           97.866667  \n",
       "\n",
       "[641 rows x 6 columns]"
      ]
     },
     "execution_count": 3,
     "metadata": {},
     "output_type": "execute_result"
    }
   ],
   "source": [
    "file_map = {expected:\"Expected\"}\n",
    "for tool, files in runs.items():\n",
    "    for name,file in files.items():\n",
    "        if \"WB\" == name:\n",
    "        # if \"NWRB\" == name:\n",
    "        # if \"PWRB\" == name:\n",
    "            file_map[file] = tool\n",
    "plotter = FreyjaPlotter(\n",
    "    file_map=file_map,\n",
    "    # colormap=colormap,\n",
    "    summary_dict=summary_dict,\n",
    ")\n",
    "plotter = renameSamples(plotter)\n",
    "df = plotter.plotPercentExpectedBox(summarized=True,return_df=True)\n",
    "df"
   ]
  },
  {
   "cell_type": "code",
   "execution_count": 9,
   "metadata": {},
   "outputs": [
    {
     "name": "stdout",
     "output_type": "stream",
     "text": [
      "ANOVA for None samples comparing percent of expected across batches\n",
      "p-value: 2.2941383910788995e-12\tf-value: 9.438223956048526\n",
      "The percent of expected was significantly different across Alcov (mean=86.56931034482756, std. dev.=30.07212149136993), Freyja (mean=86.3622304340426, std. dev.=37.23119280846171), kallisto (mean=59.96308333333334, std. dev.=26.850927649171688), kallisto (C-WAP) (mean=92.01730158730162, std. dev.=48.26184011312391), LCS (mean=78.21779215686274, std. dev.=36.9248852257005), lineagespot (mean=56.882857142857134, std. dev.=61.489998567324136), LolliPop (mean=96.6667076923077, std. dev.=44.75210184850989), VaQuERo (mean=87.65988477366258, std. dev.=29.368641783379186), and Kraken 2 (C-WAP) (mean=127.79676190476188, std. dev.=114.53345473528887), as determined by one-way ANOVA (F=9.438223956048526, p=2.2941383910788995e-12<0.01).\n",
      "No significant difference in percent of expected (p-value=1.0>0.01) was found between Alcov and Freyja.\n",
      "\n",
      "Tukey's HSD results:\n"
     ]
    },
    {
     "data": {
      "application/vnd.plotly.v1+json": {
       "config": {
        "plotlyServerURL": "https://plot.ly"
       },
       "data": [
        {
         "cells": {
          "align": "center",
          "fill": {
           "color": [
            [
             "white",
             "white",
             "white",
             "white",
             "white",
             "white",
             "white",
             "white",
             "white"
            ],
            [
             "black",
             "lightgrey",
             "white",
             "lightgrey",
             "lightgrey",
             "lightgrey",
             "lightgrey",
             "lightgrey",
             "white"
            ],
            [
             "lightgrey",
             "black",
             "white",
             "lightgrey",
             "lightgrey",
             "lightgrey",
             "lightgrey",
             "lightgrey",
             "white"
            ],
            [
             "white",
             "white",
             "black",
             "white",
             "lightgrey",
             "lightgrey",
             "white",
             "white",
             "white"
            ],
            [
             "lightgrey",
             "lightgrey",
             "white",
             "black",
             "lightgrey",
             "lightgrey",
             "lightgrey",
             "lightgrey",
             "white"
            ],
            [
             "lightgrey",
             "lightgrey",
             "lightgrey",
             "lightgrey",
             "black",
             "lightgrey",
             "lightgrey",
             "lightgrey",
             "white"
            ],
            [
             "lightgrey",
             "lightgrey",
             "lightgrey",
             "lightgrey",
             "lightgrey",
             "black",
             "lightgrey",
             "lightgrey",
             "white"
            ],
            [
             "lightgrey",
             "lightgrey",
             "white",
             "lightgrey",
             "lightgrey",
             "lightgrey",
             "black",
             "lightgrey",
             "lightgrey"
            ],
            [
             "lightgrey",
             "lightgrey",
             "white",
             "lightgrey",
             "lightgrey",
             "lightgrey",
             "lightgrey",
             "black",
             "white"
            ],
            [
             "white",
             "white",
             "white",
             "white",
             "white",
             "white",
             "lightgrey",
             "white",
             "black"
            ]
           ]
          },
          "font": {
           "color": "black",
           "size": 14
          },
          "height": 30,
          "line": {
           "color": "black"
          },
          "values": [
           [
            "Alcov",
            "Freyja",
            "kallisto",
            "kallisto (C-WAP)",
            "LCS",
            "lineagespot",
            "LolliPop",
            "VaQuERo",
            "Kraken 2 (C-WAP)"
           ],
           [
            null,
            1,
            0.003,
            0.998,
            0.959,
            0.782,
            0.92,
            1,
            0
           ],
           [
            1,
            null,
            0.003,
            0.996,
            0.96,
            0.786,
            0.903,
            1,
            0
           ],
           [
            0.003,
            0.003,
            null,
            0,
            0.164,
            1,
            0,
            0.002,
            0
           ],
           [
            0.998,
            0.996,
            0,
            null,
            0.581,
            0.587,
            1,
            1,
            0.001
           ],
           [
            0.959,
            0.96,
            0.164,
            0.581,
            null,
            0.961,
            0.269,
            0.925,
            0
           ],
           [
            0.782,
            0.786,
            1,
            0.587,
            0.961,
            null,
            0.426,
            0.749,
            0.006
           ],
           [
            0.92,
            0.903,
            0,
            1,
            0.269,
            0.426,
            null,
            0.962,
            0.019
           ],
           [
            1,
            1,
            0.002,
            1,
            0.925,
            0.749,
            0.962,
            null,
            0
           ],
           [
            0,
            0,
            0,
            0.001,
            0,
            0.006,
            0.019,
            0,
            null
           ]
          ]
         },
         "header": {
          "align": "center",
          "fill": {
           "color": "white"
          },
          "font": {
           "color": "black",
           "size": 14
          },
          "line": {
           "color": "black"
          },
          "values": [
           "",
           "Alcov",
           "Freyja",
           "kallisto",
           "kallisto (C-WAP)",
           "LCS",
           "lineagespot",
           "LolliPop",
           "VaQuERo",
           "Kraken 2 (C-WAP)"
          ]
         },
         "type": "table"
        }
       ],
       "layout": {
        "height": 550,
        "template": {
         "data": {
          "bar": [
           {
            "error_x": {
             "color": "#2a3f5f"
            },
            "error_y": {
             "color": "#2a3f5f"
            },
            "marker": {
             "line": {
              "color": "#E5ECF6",
              "width": 0.5
             },
             "pattern": {
              "fillmode": "overlay",
              "size": 10,
              "solidity": 0.2
             }
            },
            "type": "bar"
           }
          ],
          "barpolar": [
           {
            "marker": {
             "line": {
              "color": "#E5ECF6",
              "width": 0.5
             },
             "pattern": {
              "fillmode": "overlay",
              "size": 10,
              "solidity": 0.2
             }
            },
            "type": "barpolar"
           }
          ],
          "carpet": [
           {
            "aaxis": {
             "endlinecolor": "#2a3f5f",
             "gridcolor": "white",
             "linecolor": "white",
             "minorgridcolor": "white",
             "startlinecolor": "#2a3f5f"
            },
            "baxis": {
             "endlinecolor": "#2a3f5f",
             "gridcolor": "white",
             "linecolor": "white",
             "minorgridcolor": "white",
             "startlinecolor": "#2a3f5f"
            },
            "type": "carpet"
           }
          ],
          "choropleth": [
           {
            "colorbar": {
             "outlinewidth": 0,
             "ticks": ""
            },
            "type": "choropleth"
           }
          ],
          "contour": [
           {
            "colorbar": {
             "outlinewidth": 0,
             "ticks": ""
            },
            "colorscale": [
             [
              0,
              "#0d0887"
             ],
             [
              0.1111111111111111,
              "#46039f"
             ],
             [
              0.2222222222222222,
              "#7201a8"
             ],
             [
              0.3333333333333333,
              "#9c179e"
             ],
             [
              0.4444444444444444,
              "#bd3786"
             ],
             [
              0.5555555555555556,
              "#d8576b"
             ],
             [
              0.6666666666666666,
              "#ed7953"
             ],
             [
              0.7777777777777778,
              "#fb9f3a"
             ],
             [
              0.8888888888888888,
              "#fdca26"
             ],
             [
              1,
              "#f0f921"
             ]
            ],
            "type": "contour"
           }
          ],
          "contourcarpet": [
           {
            "colorbar": {
             "outlinewidth": 0,
             "ticks": ""
            },
            "type": "contourcarpet"
           }
          ],
          "heatmap": [
           {
            "colorbar": {
             "outlinewidth": 0,
             "ticks": ""
            },
            "colorscale": [
             [
              0,
              "#0d0887"
             ],
             [
              0.1111111111111111,
              "#46039f"
             ],
             [
              0.2222222222222222,
              "#7201a8"
             ],
             [
              0.3333333333333333,
              "#9c179e"
             ],
             [
              0.4444444444444444,
              "#bd3786"
             ],
             [
              0.5555555555555556,
              "#d8576b"
             ],
             [
              0.6666666666666666,
              "#ed7953"
             ],
             [
              0.7777777777777778,
              "#fb9f3a"
             ],
             [
              0.8888888888888888,
              "#fdca26"
             ],
             [
              1,
              "#f0f921"
             ]
            ],
            "type": "heatmap"
           }
          ],
          "heatmapgl": [
           {
            "colorbar": {
             "outlinewidth": 0,
             "ticks": ""
            },
            "colorscale": [
             [
              0,
              "#0d0887"
             ],
             [
              0.1111111111111111,
              "#46039f"
             ],
             [
              0.2222222222222222,
              "#7201a8"
             ],
             [
              0.3333333333333333,
              "#9c179e"
             ],
             [
              0.4444444444444444,
              "#bd3786"
             ],
             [
              0.5555555555555556,
              "#d8576b"
             ],
             [
              0.6666666666666666,
              "#ed7953"
             ],
             [
              0.7777777777777778,
              "#fb9f3a"
             ],
             [
              0.8888888888888888,
              "#fdca26"
             ],
             [
              1,
              "#f0f921"
             ]
            ],
            "type": "heatmapgl"
           }
          ],
          "histogram": [
           {
            "marker": {
             "pattern": {
              "fillmode": "overlay",
              "size": 10,
              "solidity": 0.2
             }
            },
            "type": "histogram"
           }
          ],
          "histogram2d": [
           {
            "colorbar": {
             "outlinewidth": 0,
             "ticks": ""
            },
            "colorscale": [
             [
              0,
              "#0d0887"
             ],
             [
              0.1111111111111111,
              "#46039f"
             ],
             [
              0.2222222222222222,
              "#7201a8"
             ],
             [
              0.3333333333333333,
              "#9c179e"
             ],
             [
              0.4444444444444444,
              "#bd3786"
             ],
             [
              0.5555555555555556,
              "#d8576b"
             ],
             [
              0.6666666666666666,
              "#ed7953"
             ],
             [
              0.7777777777777778,
              "#fb9f3a"
             ],
             [
              0.8888888888888888,
              "#fdca26"
             ],
             [
              1,
              "#f0f921"
             ]
            ],
            "type": "histogram2d"
           }
          ],
          "histogram2dcontour": [
           {
            "colorbar": {
             "outlinewidth": 0,
             "ticks": ""
            },
            "colorscale": [
             [
              0,
              "#0d0887"
             ],
             [
              0.1111111111111111,
              "#46039f"
             ],
             [
              0.2222222222222222,
              "#7201a8"
             ],
             [
              0.3333333333333333,
              "#9c179e"
             ],
             [
              0.4444444444444444,
              "#bd3786"
             ],
             [
              0.5555555555555556,
              "#d8576b"
             ],
             [
              0.6666666666666666,
              "#ed7953"
             ],
             [
              0.7777777777777778,
              "#fb9f3a"
             ],
             [
              0.8888888888888888,
              "#fdca26"
             ],
             [
              1,
              "#f0f921"
             ]
            ],
            "type": "histogram2dcontour"
           }
          ],
          "mesh3d": [
           {
            "colorbar": {
             "outlinewidth": 0,
             "ticks": ""
            },
            "type": "mesh3d"
           }
          ],
          "parcoords": [
           {
            "line": {
             "colorbar": {
              "outlinewidth": 0,
              "ticks": ""
             }
            },
            "type": "parcoords"
           }
          ],
          "pie": [
           {
            "automargin": true,
            "type": "pie"
           }
          ],
          "scatter": [
           {
            "fillpattern": {
             "fillmode": "overlay",
             "size": 10,
             "solidity": 0.2
            },
            "type": "scatter"
           }
          ],
          "scatter3d": [
           {
            "line": {
             "colorbar": {
              "outlinewidth": 0,
              "ticks": ""
             }
            },
            "marker": {
             "colorbar": {
              "outlinewidth": 0,
              "ticks": ""
             }
            },
            "type": "scatter3d"
           }
          ],
          "scattercarpet": [
           {
            "marker": {
             "colorbar": {
              "outlinewidth": 0,
              "ticks": ""
             }
            },
            "type": "scattercarpet"
           }
          ],
          "scattergeo": [
           {
            "marker": {
             "colorbar": {
              "outlinewidth": 0,
              "ticks": ""
             }
            },
            "type": "scattergeo"
           }
          ],
          "scattergl": [
           {
            "marker": {
             "colorbar": {
              "outlinewidth": 0,
              "ticks": ""
             }
            },
            "type": "scattergl"
           }
          ],
          "scattermapbox": [
           {
            "marker": {
             "colorbar": {
              "outlinewidth": 0,
              "ticks": ""
             }
            },
            "type": "scattermapbox"
           }
          ],
          "scatterpolar": [
           {
            "marker": {
             "colorbar": {
              "outlinewidth": 0,
              "ticks": ""
             }
            },
            "type": "scatterpolar"
           }
          ],
          "scatterpolargl": [
           {
            "marker": {
             "colorbar": {
              "outlinewidth": 0,
              "ticks": ""
             }
            },
            "type": "scatterpolargl"
           }
          ],
          "scatterternary": [
           {
            "marker": {
             "colorbar": {
              "outlinewidth": 0,
              "ticks": ""
             }
            },
            "type": "scatterternary"
           }
          ],
          "surface": [
           {
            "colorbar": {
             "outlinewidth": 0,
             "ticks": ""
            },
            "colorscale": [
             [
              0,
              "#0d0887"
             ],
             [
              0.1111111111111111,
              "#46039f"
             ],
             [
              0.2222222222222222,
              "#7201a8"
             ],
             [
              0.3333333333333333,
              "#9c179e"
             ],
             [
              0.4444444444444444,
              "#bd3786"
             ],
             [
              0.5555555555555556,
              "#d8576b"
             ],
             [
              0.6666666666666666,
              "#ed7953"
             ],
             [
              0.7777777777777778,
              "#fb9f3a"
             ],
             [
              0.8888888888888888,
              "#fdca26"
             ],
             [
              1,
              "#f0f921"
             ]
            ],
            "type": "surface"
           }
          ],
          "table": [
           {
            "cells": {
             "fill": {
              "color": "#EBF0F8"
             },
             "line": {
              "color": "white"
             }
            },
            "header": {
             "fill": {
              "color": "#C8D4E3"
             },
             "line": {
              "color": "white"
             }
            },
            "type": "table"
           }
          ]
         },
         "layout": {
          "annotationdefaults": {
           "arrowcolor": "#2a3f5f",
           "arrowhead": 0,
           "arrowwidth": 1
          },
          "autotypenumbers": "strict",
          "coloraxis": {
           "colorbar": {
            "outlinewidth": 0,
            "ticks": ""
           }
          },
          "colorscale": {
           "diverging": [
            [
             0,
             "#8e0152"
            ],
            [
             0.1,
             "#c51b7d"
            ],
            [
             0.2,
             "#de77ae"
            ],
            [
             0.3,
             "#f1b6da"
            ],
            [
             0.4,
             "#fde0ef"
            ],
            [
             0.5,
             "#f7f7f7"
            ],
            [
             0.6,
             "#e6f5d0"
            ],
            [
             0.7,
             "#b8e186"
            ],
            [
             0.8,
             "#7fbc41"
            ],
            [
             0.9,
             "#4d9221"
            ],
            [
             1,
             "#276419"
            ]
           ],
           "sequential": [
            [
             0,
             "#0d0887"
            ],
            [
             0.1111111111111111,
             "#46039f"
            ],
            [
             0.2222222222222222,
             "#7201a8"
            ],
            [
             0.3333333333333333,
             "#9c179e"
            ],
            [
             0.4444444444444444,
             "#bd3786"
            ],
            [
             0.5555555555555556,
             "#d8576b"
            ],
            [
             0.6666666666666666,
             "#ed7953"
            ],
            [
             0.7777777777777778,
             "#fb9f3a"
            ],
            [
             0.8888888888888888,
             "#fdca26"
            ],
            [
             1,
             "#f0f921"
            ]
           ],
           "sequentialminus": [
            [
             0,
             "#0d0887"
            ],
            [
             0.1111111111111111,
             "#46039f"
            ],
            [
             0.2222222222222222,
             "#7201a8"
            ],
            [
             0.3333333333333333,
             "#9c179e"
            ],
            [
             0.4444444444444444,
             "#bd3786"
            ],
            [
             0.5555555555555556,
             "#d8576b"
            ],
            [
             0.6666666666666666,
             "#ed7953"
            ],
            [
             0.7777777777777778,
             "#fb9f3a"
            ],
            [
             0.8888888888888888,
             "#fdca26"
            ],
            [
             1,
             "#f0f921"
            ]
           ]
          },
          "colorway": [
           "#636efa",
           "#EF553B",
           "#00cc96",
           "#ab63fa",
           "#FFA15A",
           "#19d3f3",
           "#FF6692",
           "#B6E880",
           "#FF97FF",
           "#FECB52"
          ],
          "font": {
           "color": "#2a3f5f"
          },
          "geo": {
           "bgcolor": "white",
           "lakecolor": "white",
           "landcolor": "#E5ECF6",
           "showlakes": true,
           "showland": true,
           "subunitcolor": "white"
          },
          "hoverlabel": {
           "align": "left"
          },
          "hovermode": "closest",
          "mapbox": {
           "style": "light"
          },
          "paper_bgcolor": "white",
          "plot_bgcolor": "#E5ECF6",
          "polar": {
           "angularaxis": {
            "gridcolor": "white",
            "linecolor": "white",
            "ticks": ""
           },
           "bgcolor": "#E5ECF6",
           "radialaxis": {
            "gridcolor": "white",
            "linecolor": "white",
            "ticks": ""
           }
          },
          "scene": {
           "xaxis": {
            "backgroundcolor": "#E5ECF6",
            "gridcolor": "white",
            "gridwidth": 2,
            "linecolor": "white",
            "showbackground": true,
            "ticks": "",
            "zerolinecolor": "white"
           },
           "yaxis": {
            "backgroundcolor": "#E5ECF6",
            "gridcolor": "white",
            "gridwidth": 2,
            "linecolor": "white",
            "showbackground": true,
            "ticks": "",
            "zerolinecolor": "white"
           },
           "zaxis": {
            "backgroundcolor": "#E5ECF6",
            "gridcolor": "white",
            "gridwidth": 2,
            "linecolor": "white",
            "showbackground": true,
            "ticks": "",
            "zerolinecolor": "white"
           }
          },
          "shapedefaults": {
           "line": {
            "color": "#2a3f5f"
           }
          },
          "ternary": {
           "aaxis": {
            "gridcolor": "white",
            "linecolor": "white",
            "ticks": ""
           },
           "baxis": {
            "gridcolor": "white",
            "linecolor": "white",
            "ticks": ""
           },
           "bgcolor": "#E5ECF6",
           "caxis": {
            "gridcolor": "white",
            "linecolor": "white",
            "ticks": ""
           }
          },
          "title": {
           "x": 0.05
          },
          "xaxis": {
           "automargin": true,
           "gridcolor": "white",
           "linecolor": "white",
           "ticks": "",
           "title": {
            "standoff": 15
           },
           "zerolinecolor": "white",
           "zerolinewidth": 2
          },
          "yaxis": {
           "automargin": true,
           "gridcolor": "white",
           "linecolor": "white",
           "ticks": "",
           "title": {
            "standoff": 15
           },
           "zerolinecolor": "white",
           "zerolinewidth": 2
          }
         }
        },
        "width": 1200
       }
      },
      "text/html": [
       "<div>                            <div id=\"8dfe9cfe-23b0-46d7-834e-89d46d89cd5c\" class=\"plotly-graph-div\" style=\"height:550px; width:1200px;\"></div>            <script type=\"text/javascript\">                require([\"plotly\"], function(Plotly) {                    window.PLOTLYENV=window.PLOTLYENV || {};                                    if (document.getElementById(\"8dfe9cfe-23b0-46d7-834e-89d46d89cd5c\")) {                    Plotly.newPlot(                        \"8dfe9cfe-23b0-46d7-834e-89d46d89cd5c\",                        [{\"cells\":{\"align\":\"center\",\"fill\":{\"color\":[[\"white\",\"white\",\"white\",\"white\",\"white\",\"white\",\"white\",\"white\",\"white\"],[\"black\",\"lightgrey\",\"white\",\"lightgrey\",\"lightgrey\",\"lightgrey\",\"lightgrey\",\"lightgrey\",\"white\"],[\"lightgrey\",\"black\",\"white\",\"lightgrey\",\"lightgrey\",\"lightgrey\",\"lightgrey\",\"lightgrey\",\"white\"],[\"white\",\"white\",\"black\",\"white\",\"lightgrey\",\"lightgrey\",\"white\",\"white\",\"white\"],[\"lightgrey\",\"lightgrey\",\"white\",\"black\",\"lightgrey\",\"lightgrey\",\"lightgrey\",\"lightgrey\",\"white\"],[\"lightgrey\",\"lightgrey\",\"lightgrey\",\"lightgrey\",\"black\",\"lightgrey\",\"lightgrey\",\"lightgrey\",\"white\"],[\"lightgrey\",\"lightgrey\",\"lightgrey\",\"lightgrey\",\"lightgrey\",\"black\",\"lightgrey\",\"lightgrey\",\"white\"],[\"lightgrey\",\"lightgrey\",\"white\",\"lightgrey\",\"lightgrey\",\"lightgrey\",\"black\",\"lightgrey\",\"lightgrey\"],[\"lightgrey\",\"lightgrey\",\"white\",\"lightgrey\",\"lightgrey\",\"lightgrey\",\"lightgrey\",\"black\",\"white\"],[\"white\",\"white\",\"white\",\"white\",\"white\",\"white\",\"lightgrey\",\"white\",\"black\"]]},\"font\":{\"color\":\"black\",\"size\":14},\"height\":30,\"line\":{\"color\":\"black\"},\"values\":[[\"Alcov\",\"Freyja\",\"kallisto\",\"kallisto (C-WAP)\",\"LCS\",\"lineagespot\",\"LolliPop\",\"VaQuERo\",\"Kraken 2 (C-WAP)\"],[null,1.0,0.003,0.998,0.959,0.782,0.92,1.0,0.0],[1.0,null,0.003,0.996,0.96,0.786,0.903,1.0,0.0],[0.003,0.003,null,0.0,0.164,1.0,0.0,0.002,0.0],[0.998,0.996,0.0,null,0.581,0.587,1.0,1.0,0.001],[0.959,0.96,0.164,0.581,null,0.961,0.269,0.925,0.0],[0.782,0.786,1.0,0.587,0.961,null,0.426,0.749,0.006],[0.92,0.903,0.0,1.0,0.269,0.426,null,0.962,0.019],[1.0,1.0,0.002,1.0,0.925,0.749,0.962,null,0.0],[0.0,0.0,0.0,0.001,0.0,0.006,0.019,0.0,null]]},\"header\":{\"align\":\"center\",\"fill\":{\"color\":\"white\"},\"font\":{\"color\":\"black\",\"size\":14},\"line\":{\"color\":\"black\"},\"values\":[\"\",\"Alcov\",\"Freyja\",\"kallisto\",\"kallisto (C-WAP)\",\"LCS\",\"lineagespot\",\"LolliPop\",\"VaQuERo\",\"Kraken 2 (C-WAP)\"]},\"type\":\"table\"}],                        {\"template\":{\"data\":{\"histogram2dcontour\":[{\"type\":\"histogram2dcontour\",\"colorbar\":{\"outlinewidth\":0,\"ticks\":\"\"},\"colorscale\":[[0.0,\"#0d0887\"],[0.1111111111111111,\"#46039f\"],[0.2222222222222222,\"#7201a8\"],[0.3333333333333333,\"#9c179e\"],[0.4444444444444444,\"#bd3786\"],[0.5555555555555556,\"#d8576b\"],[0.6666666666666666,\"#ed7953\"],[0.7777777777777778,\"#fb9f3a\"],[0.8888888888888888,\"#fdca26\"],[1.0,\"#f0f921\"]]}],\"choropleth\":[{\"type\":\"choropleth\",\"colorbar\":{\"outlinewidth\":0,\"ticks\":\"\"}}],\"histogram2d\":[{\"type\":\"histogram2d\",\"colorbar\":{\"outlinewidth\":0,\"ticks\":\"\"},\"colorscale\":[[0.0,\"#0d0887\"],[0.1111111111111111,\"#46039f\"],[0.2222222222222222,\"#7201a8\"],[0.3333333333333333,\"#9c179e\"],[0.4444444444444444,\"#bd3786\"],[0.5555555555555556,\"#d8576b\"],[0.6666666666666666,\"#ed7953\"],[0.7777777777777778,\"#fb9f3a\"],[0.8888888888888888,\"#fdca26\"],[1.0,\"#f0f921\"]]}],\"heatmap\":[{\"type\":\"heatmap\",\"colorbar\":{\"outlinewidth\":0,\"ticks\":\"\"},\"colorscale\":[[0.0,\"#0d0887\"],[0.1111111111111111,\"#46039f\"],[0.2222222222222222,\"#7201a8\"],[0.3333333333333333,\"#9c179e\"],[0.4444444444444444,\"#bd3786\"],[0.5555555555555556,\"#d8576b\"],[0.6666666666666666,\"#ed7953\"],[0.7777777777777778,\"#fb9f3a\"],[0.8888888888888888,\"#fdca26\"],[1.0,\"#f0f921\"]]}],\"heatmapgl\":[{\"type\":\"heatmapgl\",\"colorbar\":{\"outlinewidth\":0,\"ticks\":\"\"},\"colorscale\":[[0.0,\"#0d0887\"],[0.1111111111111111,\"#46039f\"],[0.2222222222222222,\"#7201a8\"],[0.3333333333333333,\"#9c179e\"],[0.4444444444444444,\"#bd3786\"],[0.5555555555555556,\"#d8576b\"],[0.6666666666666666,\"#ed7953\"],[0.7777777777777778,\"#fb9f3a\"],[0.8888888888888888,\"#fdca26\"],[1.0,\"#f0f921\"]]}],\"contourcarpet\":[{\"type\":\"contourcarpet\",\"colorbar\":{\"outlinewidth\":0,\"ticks\":\"\"}}],\"contour\":[{\"type\":\"contour\",\"colorbar\":{\"outlinewidth\":0,\"ticks\":\"\"},\"colorscale\":[[0.0,\"#0d0887\"],[0.1111111111111111,\"#46039f\"],[0.2222222222222222,\"#7201a8\"],[0.3333333333333333,\"#9c179e\"],[0.4444444444444444,\"#bd3786\"],[0.5555555555555556,\"#d8576b\"],[0.6666666666666666,\"#ed7953\"],[0.7777777777777778,\"#fb9f3a\"],[0.8888888888888888,\"#fdca26\"],[1.0,\"#f0f921\"]]}],\"surface\":[{\"type\":\"surface\",\"colorbar\":{\"outlinewidth\":0,\"ticks\":\"\"},\"colorscale\":[[0.0,\"#0d0887\"],[0.1111111111111111,\"#46039f\"],[0.2222222222222222,\"#7201a8\"],[0.3333333333333333,\"#9c179e\"],[0.4444444444444444,\"#bd3786\"],[0.5555555555555556,\"#d8576b\"],[0.6666666666666666,\"#ed7953\"],[0.7777777777777778,\"#fb9f3a\"],[0.8888888888888888,\"#fdca26\"],[1.0,\"#f0f921\"]]}],\"mesh3d\":[{\"type\":\"mesh3d\",\"colorbar\":{\"outlinewidth\":0,\"ticks\":\"\"}}],\"scatter\":[{\"fillpattern\":{\"fillmode\":\"overlay\",\"size\":10,\"solidity\":0.2},\"type\":\"scatter\"}],\"parcoords\":[{\"type\":\"parcoords\",\"line\":{\"colorbar\":{\"outlinewidth\":0,\"ticks\":\"\"}}}],\"scatterpolargl\":[{\"type\":\"scatterpolargl\",\"marker\":{\"colorbar\":{\"outlinewidth\":0,\"ticks\":\"\"}}}],\"bar\":[{\"error_x\":{\"color\":\"#2a3f5f\"},\"error_y\":{\"color\":\"#2a3f5f\"},\"marker\":{\"line\":{\"color\":\"#E5ECF6\",\"width\":0.5},\"pattern\":{\"fillmode\":\"overlay\",\"size\":10,\"solidity\":0.2}},\"type\":\"bar\"}],\"scattergeo\":[{\"type\":\"scattergeo\",\"marker\":{\"colorbar\":{\"outlinewidth\":0,\"ticks\":\"\"}}}],\"scatterpolar\":[{\"type\":\"scatterpolar\",\"marker\":{\"colorbar\":{\"outlinewidth\":0,\"ticks\":\"\"}}}],\"histogram\":[{\"marker\":{\"pattern\":{\"fillmode\":\"overlay\",\"size\":10,\"solidity\":0.2}},\"type\":\"histogram\"}],\"scattergl\":[{\"type\":\"scattergl\",\"marker\":{\"colorbar\":{\"outlinewidth\":0,\"ticks\":\"\"}}}],\"scatter3d\":[{\"type\":\"scatter3d\",\"line\":{\"colorbar\":{\"outlinewidth\":0,\"ticks\":\"\"}},\"marker\":{\"colorbar\":{\"outlinewidth\":0,\"ticks\":\"\"}}}],\"scattermapbox\":[{\"type\":\"scattermapbox\",\"marker\":{\"colorbar\":{\"outlinewidth\":0,\"ticks\":\"\"}}}],\"scatterternary\":[{\"type\":\"scatterternary\",\"marker\":{\"colorbar\":{\"outlinewidth\":0,\"ticks\":\"\"}}}],\"scattercarpet\":[{\"type\":\"scattercarpet\",\"marker\":{\"colorbar\":{\"outlinewidth\":0,\"ticks\":\"\"}}}],\"carpet\":[{\"aaxis\":{\"endlinecolor\":\"#2a3f5f\",\"gridcolor\":\"white\",\"linecolor\":\"white\",\"minorgridcolor\":\"white\",\"startlinecolor\":\"#2a3f5f\"},\"baxis\":{\"endlinecolor\":\"#2a3f5f\",\"gridcolor\":\"white\",\"linecolor\":\"white\",\"minorgridcolor\":\"white\",\"startlinecolor\":\"#2a3f5f\"},\"type\":\"carpet\"}],\"table\":[{\"cells\":{\"fill\":{\"color\":\"#EBF0F8\"},\"line\":{\"color\":\"white\"}},\"header\":{\"fill\":{\"color\":\"#C8D4E3\"},\"line\":{\"color\":\"white\"}},\"type\":\"table\"}],\"barpolar\":[{\"marker\":{\"line\":{\"color\":\"#E5ECF6\",\"width\":0.5},\"pattern\":{\"fillmode\":\"overlay\",\"size\":10,\"solidity\":0.2}},\"type\":\"barpolar\"}],\"pie\":[{\"automargin\":true,\"type\":\"pie\"}]},\"layout\":{\"autotypenumbers\":\"strict\",\"colorway\":[\"#636efa\",\"#EF553B\",\"#00cc96\",\"#ab63fa\",\"#FFA15A\",\"#19d3f3\",\"#FF6692\",\"#B6E880\",\"#FF97FF\",\"#FECB52\"],\"font\":{\"color\":\"#2a3f5f\"},\"hovermode\":\"closest\",\"hoverlabel\":{\"align\":\"left\"},\"paper_bgcolor\":\"white\",\"plot_bgcolor\":\"#E5ECF6\",\"polar\":{\"bgcolor\":\"#E5ECF6\",\"angularaxis\":{\"gridcolor\":\"white\",\"linecolor\":\"white\",\"ticks\":\"\"},\"radialaxis\":{\"gridcolor\":\"white\",\"linecolor\":\"white\",\"ticks\":\"\"}},\"ternary\":{\"bgcolor\":\"#E5ECF6\",\"aaxis\":{\"gridcolor\":\"white\",\"linecolor\":\"white\",\"ticks\":\"\"},\"baxis\":{\"gridcolor\":\"white\",\"linecolor\":\"white\",\"ticks\":\"\"},\"caxis\":{\"gridcolor\":\"white\",\"linecolor\":\"white\",\"ticks\":\"\"}},\"coloraxis\":{\"colorbar\":{\"outlinewidth\":0,\"ticks\":\"\"}},\"colorscale\":{\"sequential\":[[0.0,\"#0d0887\"],[0.1111111111111111,\"#46039f\"],[0.2222222222222222,\"#7201a8\"],[0.3333333333333333,\"#9c179e\"],[0.4444444444444444,\"#bd3786\"],[0.5555555555555556,\"#d8576b\"],[0.6666666666666666,\"#ed7953\"],[0.7777777777777778,\"#fb9f3a\"],[0.8888888888888888,\"#fdca26\"],[1.0,\"#f0f921\"]],\"sequentialminus\":[[0.0,\"#0d0887\"],[0.1111111111111111,\"#46039f\"],[0.2222222222222222,\"#7201a8\"],[0.3333333333333333,\"#9c179e\"],[0.4444444444444444,\"#bd3786\"],[0.5555555555555556,\"#d8576b\"],[0.6666666666666666,\"#ed7953\"],[0.7777777777777778,\"#fb9f3a\"],[0.8888888888888888,\"#fdca26\"],[1.0,\"#f0f921\"]],\"diverging\":[[0,\"#8e0152\"],[0.1,\"#c51b7d\"],[0.2,\"#de77ae\"],[0.3,\"#f1b6da\"],[0.4,\"#fde0ef\"],[0.5,\"#f7f7f7\"],[0.6,\"#e6f5d0\"],[0.7,\"#b8e186\"],[0.8,\"#7fbc41\"],[0.9,\"#4d9221\"],[1,\"#276419\"]]},\"xaxis\":{\"gridcolor\":\"white\",\"linecolor\":\"white\",\"ticks\":\"\",\"title\":{\"standoff\":15},\"zerolinecolor\":\"white\",\"automargin\":true,\"zerolinewidth\":2},\"yaxis\":{\"gridcolor\":\"white\",\"linecolor\":\"white\",\"ticks\":\"\",\"title\":{\"standoff\":15},\"zerolinecolor\":\"white\",\"automargin\":true,\"zerolinewidth\":2},\"scene\":{\"xaxis\":{\"backgroundcolor\":\"#E5ECF6\",\"gridcolor\":\"white\",\"linecolor\":\"white\",\"showbackground\":true,\"ticks\":\"\",\"zerolinecolor\":\"white\",\"gridwidth\":2},\"yaxis\":{\"backgroundcolor\":\"#E5ECF6\",\"gridcolor\":\"white\",\"linecolor\":\"white\",\"showbackground\":true,\"ticks\":\"\",\"zerolinecolor\":\"white\",\"gridwidth\":2},\"zaxis\":{\"backgroundcolor\":\"#E5ECF6\",\"gridcolor\":\"white\",\"linecolor\":\"white\",\"showbackground\":true,\"ticks\":\"\",\"zerolinecolor\":\"white\",\"gridwidth\":2}},\"shapedefaults\":{\"line\":{\"color\":\"#2a3f5f\"}},\"annotationdefaults\":{\"arrowcolor\":\"#2a3f5f\",\"arrowhead\":0,\"arrowwidth\":1},\"geo\":{\"bgcolor\":\"white\",\"landcolor\":\"#E5ECF6\",\"subunitcolor\":\"white\",\"showland\":true,\"showlakes\":true,\"lakecolor\":\"white\"},\"title\":{\"x\":0.05},\"mapbox\":{\"style\":\"light\"}}},\"width\":1200,\"height\":550},                        {\"responsive\": true}                    ).then(function(){\n",
       "                            \n",
       "var gd = document.getElementById('8dfe9cfe-23b0-46d7-834e-89d46d89cd5c');\n",
       "var x = new MutationObserver(function (mutations, observer) {{\n",
       "        var display = window.getComputedStyle(gd).display;\n",
       "        if (!display || display === 'none') {{\n",
       "            console.log([gd, 'removed!']);\n",
       "            Plotly.purge(gd);\n",
       "            observer.disconnect();\n",
       "        }}\n",
       "}});\n",
       "\n",
       "// Listen for the removal of the full notebook cells\n",
       "var notebookContainer = gd.closest('#notebook-container');\n",
       "if (notebookContainer) {{\n",
       "    x.observe(notebookContainer, {childList: true});\n",
       "}}\n",
       "\n",
       "// Listen for the clearing of the current output cell\n",
       "var outputEl = gd.closest('.output');\n",
       "if (outputEl) {{\n",
       "    x.observe(outputEl, {childList: true});\n",
       "}}\n",
       "\n",
       "                        })                };                });            </script>        </div>"
      ]
     },
     "metadata": {},
     "output_type": "display_data"
    }
   ],
   "source": [
    "tukey_df = get_stats(df, value_col=\"percent_of_expected\", p_min=0.01, batch_col=\"scheme\")\n",
    "p_table = p_value_table(tukey_df)\n",
    "p_table"
   ]
  },
  {
   "cell_type": "code",
   "execution_count": 11,
   "metadata": {},
   "outputs": [],
   "source": [
    "pio.write_image(p_table, outdir / \"p_value_table.jpg\", width=1200, height=550)"
   ]
  },
  {
   "cell_type": "markdown",
   "metadata": {},
   "source": [
    "## ANOVA and Tukey's HSD results when comparing O/E for each background for each tool"
   ]
  },
  {
   "cell_type": "code",
   "execution_count": 2,
   "metadata": {},
   "outputs": [
    {
     "name": "stdout",
     "output_type": "stream",
     "text": [
      "No significant results with a p-value < 0.01.\n"
     ]
    }
   ],
   "source": [
    "p_min = 0.01\n",
    "tools = runs.keys()\n",
    "treatments = [\"WB\",\"NWRB\",\"PWRB\"]\n",
    "report = defaultdict(list)\n",
    "any_significant_p = False\n",
    "for tool, files in runs.items():\n",
    "    # print(tool)\n",
    "\n",
    "    dfs = []\n",
    "    for treatment in treatments:\n",
    "        file_map = {expected:\"Expected\"}\n",
    "        for background,file in files.items():\n",
    "            if treatment == background:\n",
    "                file_map[file] = tool\n",
    "        # print(file_map)\n",
    "        plotter = FreyjaPlotter(\n",
    "            file_map=file_map,\n",
    "            # colormap=colormap,\n",
    "            summary_dict=summary_dict,\n",
    "        )\n",
    "        plotter = renameSamples(plotter)\n",
    "        df = plotter.plotPercentExpectedBox(summarized=True,return_df=True)\n",
    "        df[\"batch\"] = treatment\n",
    "        dfs.append(df)\n",
    "    anova_df = pd.concat(dfs)\n",
    "    # print(anova_df)\n",
    "    p_value, statistic, mean_info, tukey_df = get_stats(anova_df, value_col=\"percent_of_expected\", p_min=p_min, return_tuple=True)\n",
    "    if tukey_df is not None:\n",
    "        if p_value < p_min:\n",
    "            any_significant_p = True\n",
    "        report[tool] = f\"p-value={p_value}, F={statistic}\"\n",
    "        report[tool] = tukey_df\n",
    "        # print(tukey_df)\n",
    "if any_significant_p:\n",
    "    for tool, info in report.items():\n",
    "        print(tool)\n",
    "        for line in info:\n",
    "            print(line)\n",
    "        print(\"\\n\\n\")\n",
    "else:\n",
    "    print(f\"No significant results with a p-value < {p_min}.\")\n"
   ]
  },
  {
   "cell_type": "markdown",
   "metadata": {},
   "source": [
    "## ANOVA and Tukey's HSD results when comparing O/E for each background for each lineage"
   ]
  },
  {
   "cell_type": "code",
   "execution_count": 3,
   "metadata": {},
   "outputs": [
    {
     "name": "stdout",
     "output_type": "stream",
     "text": [
      "Wuhan-hu-1\n",
      "\n",
      "\n",
      "\n",
      "Alpha\n",
      "4\n",
      "[1.7909560765796443e-06, 14.204049898015432, 'WB (mean=90.0815007020202, std. dev.=26.296234414874373), NWRB (mean=72.21485155913977, std. dev.=21.20314535929819), and PWRB (mean=71.82217631249999, std. dev.=18.56435137773008), as determined by one-way ANOVA (F=14.204049898015432, p=1.7909560765796443e-06<0.01).',         WB   NWRB   PWRB\n",
      "WB    <NA>    0.0    0.0\n",
      "NWRB   0.0   <NA>  0.995\n",
      "PWRB   0.0  0.995   <NA>]\n",
      "        WB   NWRB   PWRB\n",
      "WB    <NA>    0.0    0.0\n",
      "NWRB   0.0   <NA>  0.995\n",
      "PWRB   0.0  0.995   <NA>\n",
      "\n",
      "\n",
      "\n",
      "Gamma\n",
      "4\n",
      "[0.00010274766957374775, 9.73827666366686, 'WB (mean=75.7026555493827, std. dev.=15.496448058787792), NWRB (mean=63.51943741509434, std. dev.=19.81286819679811), and PWRB (mean=60.58794284567901, std. dev.=20.863743930494056), as determined by one-way ANOVA (F=9.73827666366686, p=0.00010274766957374775<0.01).',          WB   NWRB   PWRB\n",
      "WB     <NA>  0.003    0.0\n",
      "NWRB  0.003   <NA>  0.701\n",
      "PWRB    0.0  0.701   <NA>]\n",
      "         WB   NWRB   PWRB\n",
      "WB     <NA>  0.003    0.0\n",
      "NWRB  0.003   <NA>  0.701\n",
      "PWRB    0.0  0.701   <NA>\n",
      "\n",
      "\n",
      "\n",
      "Delta\n",
      "\n",
      "\n",
      "\n",
      "Iota\n",
      "4\n",
      "[1.2290304086379659e-09, 23.531720990407564, 'WB (mean=66.64944863461538, std. dev.=25.76799890630963), NWRB (mean=87.78868479333335, std. dev.=31.988627963938722), and PWRB (mean=109.22217541975314, std. dev.=36.88705538614857), as determined by one-way ANOVA (F=23.531720990407564, p=1.2290304086379659e-09<0.01).',          WB   NWRB   PWRB\n",
      "WB     <NA>  0.003    0.0\n",
      "NWRB  0.003   <NA>  0.002\n",
      "PWRB    0.0  0.002   <NA>]\n",
      "         WB   NWRB   PWRB\n",
      "WB     <NA>  0.003    0.0\n",
      "NWRB  0.003   <NA>  0.002\n",
      "PWRB    0.0  0.002   <NA>\n",
      "\n",
      "\n",
      "\n",
      "BA.1.X\n",
      "\n",
      "\n",
      "\n",
      "BA.2.X\n",
      "\n",
      "\n",
      "\n",
      "BG.X\n",
      "\n",
      "\n",
      "\n",
      "BA.4.X\n",
      "\n",
      "\n",
      "\n",
      "BA.5.X\n",
      "4\n",
      "[3.736958355764207e-06, 13.12012880534652, 'WB (mean=72.83170664886363, std. dev.=31.99459857052788), NWRB (mean=61.27659124712646, std. dev.=32.36275674969405), and PWRB (mean=48.23251356934865, std. dev.=30.959382034955695), as determined by one-way ANOVA (F=13.12012880534652, p=3.736958355764207e-06<0.01).',          WB   NWRB  PWRB\n",
      "WB     <NA>  0.044   0.0\n",
      "NWRB  0.044   <NA>  0.02\n",
      "PWRB    0.0   0.02  <NA>]\n",
      "         WB   NWRB  PWRB\n",
      "WB     <NA>  0.044   0.0\n",
      "NWRB  0.044   <NA>  0.02\n",
      "PWRB    0.0   0.02  <NA>\n",
      "\n",
      "\n",
      "\n"
     ]
    }
   ],
   "source": [
    "p_min = 0.01\n",
    "lineages = [\"Wuhan-hu-1\",\"Alpha\",\"Gamma\",\"Delta\",\"Iota\",\"BA.1.X\",\"BA.2.X\",\"BG.X\",\"BA.4.X\",\"BA.5.X\"]\n",
    "# treatments = {\"Control\":\"WB\",\"Neg Spike-in\":\"NWRB\",\"Pos Spike-in\":\"PWRB\"}\n",
    "treatments = [\"WB\",\"NWRB\",\"PWRB\"]\n",
    "treatment_pairs = [[\"WB\",\"NWRB\"],[\"WB\",\"PWRB\"],[\"NWRB\",\"PWRB\"]]\n",
    "anova_results = {\"Lineage\":[],\"F-statistic\":[],\"p-value\":[]}\n",
    "tukey_results = defaultdict(list)\n",
    "for lineage in lineages:\n",
    "    print(lineage)\n",
    "    anova_results[\"Lineage\"].append(lineage)\n",
    "    tukey_results[\"Lineage\"].append(lineage)\n",
    "\n",
    "    percents = {}\n",
    "    dfs = []\n",
    "    for treatment in treatments:\n",
    "        file_map = {expected:\"Expected\"}\n",
    "        for tool, files in runs.items():\n",
    "            for name,file in files.items():\n",
    "                if treatment == name:\n",
    "                    file_map[file] = tool\n",
    "        # print(file_map)\n",
    "        plotter = FreyjaPlotter(\n",
    "            file_map=file_map,\n",
    "            # colormap=colormap,\n",
    "            summary_dict=summary_dict,\n",
    "        )\n",
    "        plotter = renameSamples(plotter)\n",
    "        df = plotter.plotPercentExpectedBox(summarized=True,return_df=True)\n",
    "        percents[treatment] = list(df.loc[df[\"lineages\"]==lineage, \"percent_of_expected\"])\n",
    "        df = df[df[\"lineages\"]==lineage]\n",
    "        df[\"batch\"] = treatment\n",
    "        dfs.append(df)\n",
    "    anova_df = pd.concat(dfs)\n",
    "    p_value, statistic, mean_info, tukey_df = get_stats(anova_df, value_col=\"percent_of_expected\", p_min=p_min, return_tuple=True)\n",
    "    anova_results[\"F-statistic\"].append(statistic)\n",
    "    anova_results[\"p-value\"].append(p_value)\n",
    "\n",
    "    if tukey_df is not None:\n",
    "        print(tukey_df)\n",
    "        for treatment_pair in treatment_pairs:\n",
    "            pair_name = \" vs \".join(treatment_pair)\n",
    "            tukey_results[pair_name].append(tukey_df.loc[treatment_pair[0],treatment_pair[1]])\n",
    "    else:\n",
    "        for treatment_pair in treatment_pairs:\n",
    "            pair_name = \" vs \".join(treatment_pair)\n",
    "            tukey_results[pair_name].append(\"-\")\n",
    "    print(\"\\n\\n\")\n",
    "anova = pd.DataFrame(anova_results)\n",
    "tukey = pd.DataFrame(tukey_results)"
   ]
  },
  {
   "cell_type": "code",
   "execution_count": 13,
   "metadata": {},
   "outputs": [
    {
     "data": {
      "text/html": [
       "<div>\n",
       "<style scoped>\n",
       "    .dataframe tbody tr th:only-of-type {\n",
       "        vertical-align: middle;\n",
       "    }\n",
       "\n",
       "    .dataframe tbody tr th {\n",
       "        vertical-align: top;\n",
       "    }\n",
       "\n",
       "    .dataframe thead th {\n",
       "        text-align: right;\n",
       "    }\n",
       "</style>\n",
       "<table border=\"1\" class=\"dataframe\">\n",
       "  <thead>\n",
       "    <tr style=\"text-align: right;\">\n",
       "      <th></th>\n",
       "      <th>Lineage</th>\n",
       "      <th>F-statistic</th>\n",
       "      <th>p-value</th>\n",
       "      <th>WB vs NWRB</th>\n",
       "      <th>WB vs PWRB</th>\n",
       "      <th>NWRB vs PWRB</th>\n",
       "    </tr>\n",
       "  </thead>\n",
       "  <tbody>\n",
       "    <tr>\n",
       "      <th>0</th>\n",
       "      <td>Wuhan-hu-1</td>\n",
       "      <td>0.047882</td>\n",
       "      <td>9.532785e-01</td>\n",
       "      <td>-</td>\n",
       "      <td>-</td>\n",
       "      <td>-</td>\n",
       "    </tr>\n",
       "    <tr>\n",
       "      <th>1</th>\n",
       "      <td>Alpha</td>\n",
       "      <td>14.204050</td>\n",
       "      <td>1.790956e-06</td>\n",
       "      <td>0.0</td>\n",
       "      <td>0.0</td>\n",
       "      <td>0.995</td>\n",
       "    </tr>\n",
       "    <tr>\n",
       "      <th>2</th>\n",
       "      <td>Gamma</td>\n",
       "      <td>9.738277</td>\n",
       "      <td>1.027477e-04</td>\n",
       "      <td>0.003</td>\n",
       "      <td>0.0</td>\n",
       "      <td>0.701</td>\n",
       "    </tr>\n",
       "    <tr>\n",
       "      <th>3</th>\n",
       "      <td>Delta</td>\n",
       "      <td>2.996111</td>\n",
       "      <td>5.347146e-02</td>\n",
       "      <td>-</td>\n",
       "      <td>-</td>\n",
       "      <td>-</td>\n",
       "    </tr>\n",
       "    <tr>\n",
       "      <th>4</th>\n",
       "      <td>Iota</td>\n",
       "      <td>23.531721</td>\n",
       "      <td>1.229030e-09</td>\n",
       "      <td>0.003</td>\n",
       "      <td>0.0</td>\n",
       "      <td>0.002</td>\n",
       "    </tr>\n",
       "    <tr>\n",
       "      <th>5</th>\n",
       "      <td>BA.1.X</td>\n",
       "      <td>0.025037</td>\n",
       "      <td>9.752771e-01</td>\n",
       "      <td>-</td>\n",
       "      <td>-</td>\n",
       "      <td>-</td>\n",
       "    </tr>\n",
       "    <tr>\n",
       "      <th>6</th>\n",
       "      <td>BA.2.X</td>\n",
       "      <td>1.281574</td>\n",
       "      <td>2.793544e-01</td>\n",
       "      <td>-</td>\n",
       "      <td>-</td>\n",
       "      <td>-</td>\n",
       "    </tr>\n",
       "    <tr>\n",
       "      <th>7</th>\n",
       "      <td>BG.X</td>\n",
       "      <td>2.418755</td>\n",
       "      <td>9.176943e-02</td>\n",
       "      <td>-</td>\n",
       "      <td>-</td>\n",
       "      <td>-</td>\n",
       "    </tr>\n",
       "    <tr>\n",
       "      <th>8</th>\n",
       "      <td>BA.4.X</td>\n",
       "      <td>2.470374</td>\n",
       "      <td>8.652837e-02</td>\n",
       "      <td>-</td>\n",
       "      <td>-</td>\n",
       "      <td>-</td>\n",
       "    </tr>\n",
       "    <tr>\n",
       "      <th>9</th>\n",
       "      <td>BA.5.X</td>\n",
       "      <td>13.120129</td>\n",
       "      <td>3.736958e-06</td>\n",
       "      <td>0.044</td>\n",
       "      <td>0.0</td>\n",
       "      <td>0.02</td>\n",
       "    </tr>\n",
       "  </tbody>\n",
       "</table>\n",
       "</div>"
      ],
      "text/plain": [
       "      Lineage  F-statistic       p-value WB vs NWRB WB vs PWRB NWRB vs PWRB\n",
       "0  Wuhan-hu-1     0.047882  9.532785e-01          -          -            -\n",
       "1       Alpha    14.204050  1.790956e-06        0.0        0.0        0.995\n",
       "2       Gamma     9.738277  1.027477e-04      0.003        0.0        0.701\n",
       "3       Delta     2.996111  5.347146e-02          -          -            -\n",
       "4        Iota    23.531721  1.229030e-09      0.003        0.0        0.002\n",
       "5      BA.1.X     0.025037  9.752771e-01          -          -            -\n",
       "6      BA.2.X     1.281574  2.793544e-01          -          -            -\n",
       "7        BG.X     2.418755  9.176943e-02          -          -            -\n",
       "8      BA.4.X     2.470374  8.652837e-02          -          -            -\n",
       "9      BA.5.X    13.120129  3.736958e-06      0.044        0.0         0.02"
      ]
     },
     "execution_count": 13,
     "metadata": {},
     "output_type": "execute_result"
    }
   ],
   "source": [
    "# data for table 2 in paper\n",
    "table = anova.merge(tukey, on=\"Lineage\")\n",
    "table.to_csv(outdir/\"table2_data_lineage_anova_each_bg.csv\")\n",
    "table"
   ]
  }
 ],
 "metadata": {
  "kernelspec": {
   "display_name": "Python 3",
   "language": "python",
   "name": "python3"
  },
  "language_info": {
   "codemirror_mode": {
    "name": "ipython",
    "version": 3
   },
   "file_extension": ".py",
   "mimetype": "text/x-python",
   "name": "python",
   "nbconvert_exporter": "python",
   "pygments_lexer": "ipython3",
   "version": "3.10.14"
  }
 },
 "nbformat": 4,
 "nbformat_minor": 2
}
