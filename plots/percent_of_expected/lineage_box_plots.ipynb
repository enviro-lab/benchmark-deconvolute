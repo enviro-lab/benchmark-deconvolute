{
 "cells": [
  {
   "cell_type": "code",
   "execution_count": 10,
   "metadata": {},
   "outputs": [],
   "source": [
    "from pathlib import Path # type: ignore\n",
    "from freyja_plot import FreyjaPlotter\n",
    "import plotly.io as pio\n",
    "import sys\n",
    "if (module_path:=str(Path(\".\").absolute().resolve().parent)) not in sys.path:\n",
    "    sys.path.insert(0, module_path)\n",
    "from sample_info import colormap, summary_dict, expected, artic_runs as runs, plotting_dir"
   ]
  },
  {
   "cell_type": "code",
   "execution_count": 2,
   "metadata": {},
   "outputs": [],
   "source": [
    "outdir = plotting_dir / \"percent_of_expected/lineage_box_plots\"\n",
    "outdir.mkdir(exist_ok=True)"
   ]
  },
  {
   "cell_type": "code",
   "execution_count": 6,
   "metadata": {},
   "outputs": [],
   "source": [
    "def sort_key(series):\n",
    "    # sorted_lineages = {lin:i for i,lin in enumerate((\"Wuhan-hu-1\",\"Alpha\",\"Gamma\",\"Delta\",\"Iota\",\"BA.1.X\",\"BA.2.X\",\"BG.X\",\"BA.4.X\",\"BA.5.X\"))}\n",
    "    sorted_lineages = {lin:i for i,lin in enumerate((\n",
    "        \"Wuhan-hu-1\",\"Alpha\",\"Gamma\",\"Delta\",\"Iota\",\"BA.1.X\",\"BA.2.X\",\"BG.X\",\"BA.4.X\",\"BA.5.X\",\n",
    "        \"Freyja\",\"Alcov\",\"VaQuERo\",\"LCS\",\"kallisto (C-WAP)\",\"LolliPop\",\"kallisto\",\"Kraken 2 (C-WAP)\",\"lineagespot\",\n",
    "    ))}\n",
    "    return [sorted_lineages[lin] for lin in series]\n",
    "\n",
    "def getPercentExpectedPlot(mix_type, fn=None):\n",
    "    file_map = {expected:\"Expected\"}\n",
    "    for tool, files in runs.items():\n",
    "    # for name,file in files.items():\n",
    "        file_map[files[mix_type]] = tool\n",
    "    plotter = FreyjaPlotter(\n",
    "        file_map=file_map,\n",
    "        colormap=colormap,\n",
    "        summary_dict=summary_dict,\n",
    "    )\n",
    "    # NOTE: Figures in paper, section 3.5, Figure 4 a-c\n",
    "    print(f\"Creating {mix_type} summarized boxplot\")\n",
    "    fig = plotter.plotPercentExpectedBox(summarized=True,sort_key=sort_key,title=f\"Lineage abundance estimates as a percent of expected abundance - {mix_type} mixtures\")\n",
    "    return fig\n"
   ]
  },
  {
   "cell_type": "code",
   "execution_count": null,
   "metadata": {},
   "outputs": [],
   "source": [
    "figs = {}"
   ]
  },
  {
   "cell_type": "code",
   "execution_count": 35,
   "metadata": {},
   "outputs": [],
   "source": [
    "# create or update figs\n",
    "for mix_type in (\"WB\",\"NWRB\",\"PWRB\"):\n",
    "    fig = figs.get(mix_type,None)\n",
    "    if fig is None:\n",
    "        fig = getPercentExpectedPlot(mix_type)\n",
    "    fig.update_yaxes(range=[0,460])\n",
    "    figs[mix_type] = fig"
   ]
  },
  {
   "cell_type": "code",
   "execution_count": 39,
   "metadata": {},
   "outputs": [
    {
     "data": {
      "application/vnd.plotly.v1+json": {
       "config": {
        "plotlyServerURL": "https://plot.ly"
       },
       "data": [
        {
         "alignmentgroup": "True",
         "boxpoints": "all",
         "customdata": [
          [
           "Freyja",
           "Mixture01"
          ],
          [
           "Freyja",
           "Mixture14"
          ],
          [
           "Freyja",
           "Mixture31"
          ],
          [
           "Freyja",
           "Mixture05"
          ],
          [
           "Freyja",
           "Mixture09"
          ],
          [
           "Freyja",
           "Mixture21"
          ],
          [
           "Freyja",
           "Mixture33"
          ],
          [
           "Freyja",
           "Mixture01"
          ],
          [
           "Freyja",
           "Mixture02"
          ],
          [
           "Freyja",
           "Mixture34"
          ],
          [
           "Freyja",
           "Mixture04"
          ],
          [
           "Freyja",
           "Mixture15"
          ],
          [
           "Freyja",
           "Mixture06"
          ],
          [
           "Freyja",
           "Mixture31"
          ],
          [
           "Freyja",
           "Mixture07"
          ],
          [
           "Freyja",
           "Mixture32"
          ],
          [
           "Freyja",
           "Mixture01"
          ],
          [
           "Freyja",
           "Mixture02"
          ],
          [
           "Freyja",
           "Mixture04"
          ],
          [
           "Freyja",
           "Mixture06"
          ],
          [
           "Freyja",
           "Mixture31"
          ],
          [
           "Freyja",
           "Mixture16"
          ],
          [
           "Freyja",
           "Mixture07"
          ],
          [
           "Freyja",
           "Mixture35"
          ],
          [
           "Freyja",
           "Mixture01"
          ],
          [
           "Freyja",
           "Mixture02"
          ],
          [
           "Freyja",
           "Mixture37"
          ],
          [
           "Freyja",
           "Mixture06"
          ],
          [
           "Freyja",
           "Mixture31"
          ],
          [
           "Freyja",
           "Mixture18"
          ],
          [
           "Freyja",
           "Mixture01"
          ],
          [
           "Freyja",
           "Mixture02"
          ],
          [
           "Freyja",
           "Mixture04"
          ],
          [
           "Freyja",
           "Mixture06"
          ],
          [
           "Freyja",
           "Mixture31"
          ],
          [
           "Freyja",
           "Mixture07"
          ],
          [
           "Freyja",
           "Mixture17"
          ],
          [
           "Freyja",
           "Mixture32"
          ],
          [
           "Freyja",
           "Mixture36"
          ],
          [
           "Freyja",
           "Mixture01"
          ],
          [
           "Freyja",
           "Mixture08"
          ],
          [
           "Freyja",
           "Mixture02"
          ],
          [
           "Freyja",
           "Mixture04"
          ],
          [
           "Freyja",
           "Mixture10"
          ],
          [
           "Freyja",
           "Mixture06"
          ],
          [
           "Freyja",
           "Mixture31"
          ],
          [
           "Freyja",
           "Mixture38"
          ],
          [
           "Freyja",
           "Mixture32"
          ],
          [
           "Freyja",
           "Mixture01"
          ],
          [
           "Freyja",
           "Mixture08"
          ],
          [
           "Freyja",
           "Mixture39"
          ],
          [
           "Freyja",
           "Mixture29"
          ],
          [
           "Freyja",
           "Mixture04"
          ],
          [
           "Freyja",
           "Mixture10"
          ],
          [
           "Freyja",
           "Mixture03"
          ],
          [
           "Freyja",
           "Mixture06"
          ],
          [
           "Freyja",
           "Mixture30"
          ],
          [
           "Freyja",
           "Mixture32"
          ],
          [
           "Freyja",
           "Mixture28"
          ],
          [
           "Freyja",
           "Mixture01"
          ],
          [
           "Freyja",
           "Mixture08"
          ],
          [
           "Freyja",
           "Mixture11"
          ],
          [
           "Freyja",
           "Mixture29"
          ],
          [
           "Freyja",
           "Mixture03"
          ],
          [
           "Freyja",
           "Mixture23"
          ],
          [
           "Freyja",
           "Mixture06"
          ],
          [
           "Freyja",
           "Mixture05"
          ],
          [
           "Freyja",
           "Mixture40"
          ],
          [
           "Freyja",
           "Mixture07"
          ],
          [
           "Freyja",
           "Mixture30"
          ],
          [
           "Freyja",
           "Mixture22"
          ],
          [
           "Freyja",
           "Mixture32"
          ],
          [
           "Freyja",
           "Mixture01"
          ],
          [
           "Freyja",
           "Mixture13"
          ],
          [
           "Freyja",
           "Mixture08"
          ],
          [
           "Freyja",
           "Mixture29"
          ],
          [
           "Freyja",
           "Mixture03"
          ],
          [
           "Freyja",
           "Mixture26"
          ],
          [
           "Freyja",
           "Mixture05"
          ],
          [
           "Freyja",
           "Mixture27"
          ],
          [
           "Freyja",
           "Mixture07"
          ],
          [
           "Freyja",
           "Mixture30"
          ],
          [
           "Freyja",
           "Mixture32"
          ],
          [
           "Freyja",
           "Mixture01"
          ],
          [
           "Freyja",
           "Mixture12"
          ],
          [
           "Freyja",
           "Mixture08"
          ],
          [
           "Freyja",
           "Mixture29"
          ],
          [
           "Freyja",
           "Mixture25"
          ],
          [
           "Freyja",
           "Mixture03"
          ],
          [
           "Freyja",
           "Mixture05"
          ],
          [
           "Freyja",
           "Mixture24"
          ],
          [
           "Freyja",
           "Mixture07"
          ],
          [
           "Freyja",
           "Mixture30"
          ],
          [
           "Freyja",
           "Mixture32"
          ]
         ],
         "hovertemplate": "Scheme=%{customdata[0]}<br>Lineages=%{x}<br>Percent of expected abundance=%{y}<br>Sample name=%{customdata[1]}<extra></extra>",
         "legendgroup": "Freyja",
         "marker": {
          "color": "#636efa"
         },
         "name": "Freyja",
         "notched": false,
         "offsetgroup": "Freyja",
         "orientation": "v",
         "showlegend": true,
         "type": "box",
         "x": [
          "Wuhan-hu-1",
          "Wuhan-hu-1",
          "Wuhan-hu-1",
          "Wuhan-hu-1",
          "Wuhan-hu-1",
          "Wuhan-hu-1",
          "Wuhan-hu-1",
          "Alpha",
          "Alpha",
          "Alpha",
          "Alpha",
          "Alpha",
          "Alpha",
          "Alpha",
          "Alpha",
          "Alpha",
          "Gamma",
          "Gamma",
          "Gamma",
          "Gamma",
          "Gamma",
          "Gamma",
          "Gamma",
          "Gamma",
          "Delta",
          "Delta",
          "Delta",
          "Delta",
          "Delta",
          "Delta",
          "Iota",
          "Iota",
          "Iota",
          "Iota",
          "Iota",
          "Iota",
          "Iota",
          "Iota",
          "Iota",
          "BA.1.X",
          "BA.1.X",
          "BA.1.X",
          "BA.1.X",
          "BA.1.X",
          "BA.1.X",
          "BA.1.X",
          "BA.1.X",
          "BA.1.X",
          "BA.2.X",
          "BA.2.X",
          "BA.2.X",
          "BA.2.X",
          "BA.2.X",
          "BA.2.X",
          "BA.2.X",
          "BA.2.X",
          "BA.2.X",
          "BA.2.X",
          "BA.2.X",
          "BG.X",
          "BG.X",
          "BG.X",
          "BG.X",
          "BG.X",
          "BG.X",
          "BG.X",
          "BG.X",
          "BG.X",
          "BG.X",
          "BG.X",
          "BG.X",
          "BG.X",
          "BA.4.X",
          "BA.4.X",
          "BA.4.X",
          "BA.4.X",
          "BA.4.X",
          "BA.4.X",
          "BA.4.X",
          "BA.4.X",
          "BA.4.X",
          "BA.4.X",
          "BA.4.X",
          "BA.5.X",
          "BA.5.X",
          "BA.5.X",
          "BA.5.X",
          "BA.5.X",
          "BA.5.X",
          "BA.5.X",
          "BA.5.X",
          "BA.5.X",
          "BA.5.X",
          "BA.5.X"
         ],
         "x0": " ",
         "xaxis": "x",
         "y": [
          13.9715925,
          98.267715,
          3.5060934999999995,
          38.585709333333334,
          49.208518,
          49.281895,
          98.692177,
          98.61048000000001,
          106.786544,
          98.895272,
          105.570064,
          98.785769,
          135.890976,
          101.77798399999998,
          90.40152533333334,
          105.650432,
          70.751565,
          81.370832,
          90.89970133333334,
          102.32806400000001,
          79.24683199999998,
          99.218386,
          70.85072,
          99.123966,
          37.485659999999996,
          52.67930133333333,
          98.471052,
          63.64114666666666,
          47.284671,
          98.484931,
          68.3112,
          88.5632,
          96.4688,
          100.16416,
          83.78132,
          68.267312,
          98.556448,
          80.441648,
          98.427241,
          26.374484999999996,
          52.780567999999995,
          46.179432,
          39.80950933333333,
          58.76727466666666,
          50.780149333333334,
          42.645134,
          98.05727399999999,
          32.660432,
          50.86044,
          85.39313200000001,
          97.43117,
          69.309384,
          89.56404479999998,
          109.3924704,
          50.478092,
          117.07873066666666,
          40.857364000000004,
          46.50508800000001,
          97.455836,
          54.9579375,
          49.736792,
          98.88962,
          77.162588,
          79.58698799999999,
          98.852796,
          75.84854,
          43.066848,
          98.841121,
          54.792719999999996,
          61.5854,
          98.86309800000001,
          69.500368,
          204.40304999999998,
          98.584672,
          187.71167200000002,
          137.05219200000002,
          168.80389866666664,
          98.592435,
          156.571856,
          98.60769599999999,
          168.76666666666665,
          195.579836,
          177.839104,
          78.2201475,
          97.66654,
          114.493968,
          98.285248,
          98.725921,
          100.67516160000001,
          73.59421999999999,
          98.47971100000001,
          75.98553066666666,
          85.751468,
          70.89293599999999
         ],
         "y0": " ",
         "yaxis": "y"
        },
        {
         "alignmentgroup": "True",
         "boxpoints": "all",
         "customdata": [
          [
           "kallisto (C-WAP)",
           "Mixture01"
          ],
          [
           "kallisto (C-WAP)",
           "Mixture02"
          ],
          [
           "kallisto (C-WAP)",
           "Mixture04"
          ],
          [
           "kallisto (C-WAP)",
           "Mixture05"
          ],
          [
           "kallisto (C-WAP)",
           "Mixture09"
          ],
          [
           "kallisto (C-WAP)",
           "Mixture14"
          ],
          [
           "kallisto (C-WAP)",
           "Mixture21"
          ],
          [
           "kallisto (C-WAP)",
           "Mixture31"
          ],
          [
           "kallisto (C-WAP)",
           "Mixture32"
          ],
          [
           "kallisto (C-WAP)",
           "Mixture33"
          ],
          [
           "kallisto (C-WAP)",
           "Mixture01"
          ],
          [
           "kallisto (C-WAP)",
           "Mixture02"
          ],
          [
           "kallisto (C-WAP)",
           "Mixture04"
          ],
          [
           "kallisto (C-WAP)",
           "Mixture06"
          ],
          [
           "kallisto (C-WAP)",
           "Mixture07"
          ],
          [
           "kallisto (C-WAP)",
           "Mixture15"
          ],
          [
           "kallisto (C-WAP)",
           "Mixture31"
          ],
          [
           "kallisto (C-WAP)",
           "Mixture32"
          ],
          [
           "kallisto (C-WAP)",
           "Mixture34"
          ],
          [
           "kallisto (C-WAP)",
           "Mixture01"
          ],
          [
           "kallisto (C-WAP)",
           "Mixture02"
          ],
          [
           "kallisto (C-WAP)",
           "Mixture04"
          ],
          [
           "kallisto (C-WAP)",
           "Mixture06"
          ],
          [
           "kallisto (C-WAP)",
           "Mixture07"
          ],
          [
           "kallisto (C-WAP)",
           "Mixture16"
          ],
          [
           "kallisto (C-WAP)",
           "Mixture31"
          ],
          [
           "kallisto (C-WAP)",
           "Mixture35"
          ],
          [
           "kallisto (C-WAP)",
           "Mixture01"
          ],
          [
           "kallisto (C-WAP)",
           "Mixture02"
          ],
          [
           "kallisto (C-WAP)",
           "Mixture06"
          ],
          [
           "kallisto (C-WAP)",
           "Mixture18"
          ],
          [
           "kallisto (C-WAP)",
           "Mixture31"
          ],
          [
           "kallisto (C-WAP)",
           "Mixture37"
          ],
          [
           "kallisto (C-WAP)",
           "Mixture01"
          ],
          [
           "kallisto (C-WAP)",
           "Mixture02"
          ],
          [
           "kallisto (C-WAP)",
           "Mixture04"
          ],
          [
           "kallisto (C-WAP)",
           "Mixture06"
          ],
          [
           "kallisto (C-WAP)",
           "Mixture07"
          ],
          [
           "kallisto (C-WAP)",
           "Mixture17"
          ],
          [
           "kallisto (C-WAP)",
           "Mixture31"
          ],
          [
           "kallisto (C-WAP)",
           "Mixture32"
          ],
          [
           "kallisto (C-WAP)",
           "Mixture36"
          ],
          [
           "kallisto (C-WAP)",
           "Mixture01"
          ],
          [
           "kallisto (C-WAP)",
           "Mixture02"
          ],
          [
           "kallisto (C-WAP)",
           "Mixture04"
          ],
          [
           "kallisto (C-WAP)",
           "Mixture06"
          ],
          [
           "kallisto (C-WAP)",
           "Mixture08"
          ],
          [
           "kallisto (C-WAP)",
           "Mixture10"
          ],
          [
           "kallisto (C-WAP)",
           "Mixture19"
          ],
          [
           "kallisto (C-WAP)",
           "Mixture31"
          ],
          [
           "kallisto (C-WAP)",
           "Mixture32"
          ],
          [
           "kallisto (C-WAP)",
           "Mixture38"
          ],
          [
           "kallisto (C-WAP)",
           "Mixture01"
          ],
          [
           "kallisto (C-WAP)",
           "Mixture03"
          ],
          [
           "kallisto (C-WAP)",
           "Mixture04"
          ],
          [
           "kallisto (C-WAP)",
           "Mixture06"
          ],
          [
           "kallisto (C-WAP)",
           "Mixture08"
          ],
          [
           "kallisto (C-WAP)",
           "Mixture10"
          ],
          [
           "kallisto (C-WAP)",
           "Mixture20"
          ],
          [
           "kallisto (C-WAP)",
           "Mixture28"
          ],
          [
           "kallisto (C-WAP)",
           "Mixture29"
          ],
          [
           "kallisto (C-WAP)",
           "Mixture30"
          ],
          [
           "kallisto (C-WAP)",
           "Mixture32"
          ],
          [
           "kallisto (C-WAP)",
           "Mixture39"
          ],
          [
           "kallisto (C-WAP)",
           "Mixture01"
          ],
          [
           "kallisto (C-WAP)",
           "Mixture03"
          ],
          [
           "kallisto (C-WAP)",
           "Mixture05"
          ],
          [
           "kallisto (C-WAP)",
           "Mixture07"
          ],
          [
           "kallisto (C-WAP)",
           "Mixture08"
          ],
          [
           "kallisto (C-WAP)",
           "Mixture13"
          ],
          [
           "kallisto (C-WAP)",
           "Mixture26"
          ],
          [
           "kallisto (C-WAP)",
           "Mixture27"
          ],
          [
           "kallisto (C-WAP)",
           "Mixture29"
          ],
          [
           "kallisto (C-WAP)",
           "Mixture30"
          ],
          [
           "kallisto (C-WAP)",
           "Mixture32"
          ],
          [
           "kallisto (C-WAP)",
           "Mixture42"
          ],
          [
           "kallisto (C-WAP)",
           "Mixture01"
          ],
          [
           "kallisto (C-WAP)",
           "Mixture03"
          ],
          [
           "kallisto (C-WAP)",
           "Mixture05"
          ],
          [
           "kallisto (C-WAP)",
           "Mixture07"
          ],
          [
           "kallisto (C-WAP)",
           "Mixture08"
          ],
          [
           "kallisto (C-WAP)",
           "Mixture12"
          ],
          [
           "kallisto (C-WAP)",
           "Mixture24"
          ],
          [
           "kallisto (C-WAP)",
           "Mixture25"
          ],
          [
           "kallisto (C-WAP)",
           "Mixture29"
          ],
          [
           "kallisto (C-WAP)",
           "Mixture30"
          ],
          [
           "kallisto (C-WAP)",
           "Mixture32"
          ],
          [
           "kallisto (C-WAP)",
           "Mixture41"
          ]
         ],
         "hovertemplate": "Scheme=%{customdata[0]}<br>Lineages=%{x}<br>Percent of expected abundance=%{y}<br>Sample name=%{customdata[1]}<extra></extra>",
         "legendgroup": "kallisto (C-WAP)",
         "marker": {
          "color": "#EF553B"
         },
         "name": "kallisto (C-WAP)",
         "notched": false,
         "offsetgroup": "kallisto (C-WAP)",
         "orientation": "v",
         "showlegend": true,
         "type": "box",
         "x": [
          "Wuhan-hu-1",
          "Wuhan-hu-1",
          "Wuhan-hu-1",
          "Wuhan-hu-1",
          "Wuhan-hu-1",
          "Wuhan-hu-1",
          "Wuhan-hu-1",
          "Wuhan-hu-1",
          "Wuhan-hu-1",
          "Wuhan-hu-1",
          "Alpha",
          "Alpha",
          "Alpha",
          "Alpha",
          "Alpha",
          "Alpha",
          "Alpha",
          "Alpha",
          "Alpha",
          "Gamma",
          "Gamma",
          "Gamma",
          "Gamma",
          "Gamma",
          "Gamma",
          "Gamma",
          "Gamma",
          "Delta",
          "Delta",
          "Delta",
          "Delta",
          "Delta",
          "Delta",
          "Iota",
          "Iota",
          "Iota",
          "Iota",
          "Iota",
          "Iota",
          "Iota",
          "Iota",
          "Iota",
          "BA.1.X",
          "BA.1.X",
          "BA.1.X",
          "BA.1.X",
          "BA.1.X",
          "BA.1.X",
          "BA.1.X",
          "BA.1.X",
          "BA.1.X",
          "BA.1.X",
          "BA.2.X",
          "BA.2.X",
          "BA.2.X",
          "BA.2.X",
          "BA.2.X",
          "BA.2.X",
          "BA.2.X",
          "BA.2.X",
          "BA.2.X",
          "BA.2.X",
          "BA.2.X",
          "BA.2.X",
          "BA.4.X",
          "BA.4.X",
          "BA.4.X",
          "BA.4.X",
          "BA.4.X",
          "BA.4.X",
          "BA.4.X",
          "BA.4.X",
          "BA.4.X",
          "BA.4.X",
          "BA.4.X",
          "BA.4.X",
          "BA.5.X",
          "BA.5.X",
          "BA.5.X",
          "BA.5.X",
          "BA.5.X",
          "BA.5.X",
          "BA.5.X",
          "BA.5.X",
          "BA.5.X",
          "BA.5.X",
          "BA.5.X",
          "BA.5.X"
         ],
         "x0": " ",
         "xaxis": "x",
         "y": [
          155.25,
          184.8,
          204.8,
          97.86666666666667,
          91.10000000000001,
          91,
          91,
          177.79999999999998,
          184.8,
          90.8,
          60,
          65.2,
          67.2,
          88,
          57.06666666666666,
          65.2,
          60.899999999999984,
          59.199999999999996,
          65,
          49.50000000000001,
          59.199999999999996,
          58.666666666666664,
          76.8,
          59.199999999999996,
          81.10000000000001,
          55.99999999999999,
          81.3,
          31.5,
          33.06666666666666,
          46.4,
          57.199999999999996,
          31.499999999999993,
          57.49999999999999,
          64.49999999999999,
          80,
          73.6,
          120,
          69.86666666666666,
          87.2,
          70,
          62.4,
          87.2,
          70.5,
          61.6,
          66.13333333333333,
          78.93333333333334,
          54,
          58.93333333333334,
          1,
          57.4,
          56.8,
          89.7,
          155.25000000000003,
          175.2,
          67.19999999999999,
          192.53333333333333,
          127.20000000000002,
          89.44000000000001,
          1.0999999999999999,
          80.30000000000001,
          156,
          139.20000000000002,
          128,
          83.60000000000001,
          177,
          187.2,
          141.86666666666667,
          146.66666666666669,
          240,
          83.80000000000001,
          83.3,
          89.60000000000001,
          168,
          184.79999999999998,
          169.6,
          10.600000000000001,
          51,
          39.68,
          40.400000000000006,
          48.53333333333333,
          52,
          82.80000000000001,
          81.4,
          74.8,
          41.199999999999996,
          45.6,
          61.6,
          1.6
         ],
         "y0": " ",
         "yaxis": "y"
        },
        {
         "alignmentgroup": "True",
         "boxpoints": "all",
         "customdata": [
          [
           "kallisto",
           "Mixture01"
          ],
          [
           "kallisto",
           "Mixture02"
          ],
          [
           "kallisto",
           "Mixture04"
          ],
          [
           "kallisto",
           "Mixture05"
          ],
          [
           "kallisto",
           "Mixture09"
          ],
          [
           "kallisto",
           "Mixture14"
          ],
          [
           "kallisto",
           "Mixture21"
          ],
          [
           "kallisto",
           "Mixture31"
          ],
          [
           "kallisto",
           "Mixture33"
          ],
          [
           "kallisto",
           "Mixture01"
          ],
          [
           "kallisto",
           "Mixture02"
          ],
          [
           "kallisto",
           "Mixture04"
          ],
          [
           "kallisto",
           "Mixture06"
          ],
          [
           "kallisto",
           "Mixture07"
          ],
          [
           "kallisto",
           "Mixture15"
          ],
          [
           "kallisto",
           "Mixture31"
          ],
          [
           "kallisto",
           "Mixture32"
          ],
          [
           "kallisto",
           "Mixture34"
          ],
          [
           "kallisto",
           "Mixture01"
          ],
          [
           "kallisto",
           "Mixture02"
          ],
          [
           "kallisto",
           "Mixture04"
          ],
          [
           "kallisto",
           "Mixture06"
          ],
          [
           "kallisto",
           "Mixture07"
          ],
          [
           "kallisto",
           "Mixture16"
          ],
          [
           "kallisto",
           "Mixture31"
          ],
          [
           "kallisto",
           "Mixture35"
          ],
          [
           "kallisto",
           "Mixture01"
          ],
          [
           "kallisto",
           "Mixture02"
          ],
          [
           "kallisto",
           "Mixture06"
          ],
          [
           "kallisto",
           "Mixture18"
          ],
          [
           "kallisto",
           "Mixture31"
          ],
          [
           "kallisto",
           "Mixture37"
          ],
          [
           "kallisto",
           "Mixture01"
          ],
          [
           "kallisto",
           "Mixture02"
          ],
          [
           "kallisto",
           "Mixture04"
          ],
          [
           "kallisto",
           "Mixture06"
          ],
          [
           "kallisto",
           "Mixture07"
          ],
          [
           "kallisto",
           "Mixture17"
          ],
          [
           "kallisto",
           "Mixture31"
          ],
          [
           "kallisto",
           "Mixture32"
          ],
          [
           "kallisto",
           "Mixture36"
          ],
          [
           "kallisto",
           "Mixture01"
          ],
          [
           "kallisto",
           "Mixture02"
          ],
          [
           "kallisto",
           "Mixture04"
          ],
          [
           "kallisto",
           "Mixture06"
          ],
          [
           "kallisto",
           "Mixture08"
          ],
          [
           "kallisto",
           "Mixture10"
          ],
          [
           "kallisto",
           "Mixture19"
          ],
          [
           "kallisto",
           "Mixture31"
          ],
          [
           "kallisto",
           "Mixture32"
          ],
          [
           "kallisto",
           "Mixture38"
          ],
          [
           "kallisto",
           "Mixture01"
          ],
          [
           "kallisto",
           "Mixture03"
          ],
          [
           "kallisto",
           "Mixture04"
          ],
          [
           "kallisto",
           "Mixture06"
          ],
          [
           "kallisto",
           "Mixture08"
          ],
          [
           "kallisto",
           "Mixture10"
          ],
          [
           "kallisto",
           "Mixture20"
          ],
          [
           "kallisto",
           "Mixture28"
          ],
          [
           "kallisto",
           "Mixture29"
          ],
          [
           "kallisto",
           "Mixture30"
          ],
          [
           "kallisto",
           "Mixture32"
          ],
          [
           "kallisto",
           "Mixture39"
          ],
          [
           "kallisto",
           "Mixture01"
          ],
          [
           "kallisto",
           "Mixture03"
          ],
          [
           "kallisto",
           "Mixture05"
          ],
          [
           "kallisto",
           "Mixture06"
          ],
          [
           "kallisto",
           "Mixture07"
          ],
          [
           "kallisto",
           "Mixture08"
          ],
          [
           "kallisto",
           "Mixture11"
          ],
          [
           "kallisto",
           "Mixture22"
          ],
          [
           "kallisto",
           "Mixture23"
          ],
          [
           "kallisto",
           "Mixture29"
          ],
          [
           "kallisto",
           "Mixture30"
          ],
          [
           "kallisto",
           "Mixture32"
          ],
          [
           "kallisto",
           "Mixture40"
          ],
          [
           "kallisto",
           "Mixture01"
          ],
          [
           "kallisto",
           "Mixture03"
          ],
          [
           "kallisto",
           "Mixture05"
          ],
          [
           "kallisto",
           "Mixture07"
          ],
          [
           "kallisto",
           "Mixture08"
          ],
          [
           "kallisto",
           "Mixture13"
          ],
          [
           "kallisto",
           "Mixture26"
          ],
          [
           "kallisto",
           "Mixture27"
          ],
          [
           "kallisto",
           "Mixture29"
          ],
          [
           "kallisto",
           "Mixture30"
          ],
          [
           "kallisto",
           "Mixture32"
          ],
          [
           "kallisto",
           "Mixture42"
          ],
          [
           "kallisto",
           "Mixture01"
          ],
          [
           "kallisto",
           "Mixture03"
          ],
          [
           "kallisto",
           "Mixture05"
          ],
          [
           "kallisto",
           "Mixture07"
          ],
          [
           "kallisto",
           "Mixture08"
          ],
          [
           "kallisto",
           "Mixture12"
          ],
          [
           "kallisto",
           "Mixture24"
          ],
          [
           "kallisto",
           "Mixture25"
          ],
          [
           "kallisto",
           "Mixture29"
          ],
          [
           "kallisto",
           "Mixture30"
          ],
          [
           "kallisto",
           "Mixture32"
          ],
          [
           "kallisto",
           "Mixture41"
          ]
         ],
         "hovertemplate": "Scheme=%{customdata[0]}<br>Lineages=%{x}<br>Percent of expected abundance=%{y}<br>Sample name=%{customdata[1]}<extra></extra>",
         "legendgroup": "kallisto",
         "marker": {
          "color": "#00cc96"
         },
         "name": "kallisto",
         "notched": false,
         "offsetgroup": "kallisto",
         "orientation": "v",
         "showlegend": true,
         "type": "box",
         "x": [
          "Wuhan-hu-1",
          "Wuhan-hu-1",
          "Wuhan-hu-1",
          "Wuhan-hu-1",
          "Wuhan-hu-1",
          "Wuhan-hu-1",
          "Wuhan-hu-1",
          "Wuhan-hu-1",
          "Wuhan-hu-1",
          "Alpha",
          "Alpha",
          "Alpha",
          "Alpha",
          "Alpha",
          "Alpha",
          "Alpha",
          "Alpha",
          "Alpha",
          "Gamma",
          "Gamma",
          "Gamma",
          "Gamma",
          "Gamma",
          "Gamma",
          "Gamma",
          "Gamma",
          "Delta",
          "Delta",
          "Delta",
          "Delta",
          "Delta",
          "Delta",
          "Iota",
          "Iota",
          "Iota",
          "Iota",
          "Iota",
          "Iota",
          "Iota",
          "Iota",
          "Iota",
          "BA.1.X",
          "BA.1.X",
          "BA.1.X",
          "BA.1.X",
          "BA.1.X",
          "BA.1.X",
          "BA.1.X",
          "BA.1.X",
          "BA.1.X",
          "BA.1.X",
          "BA.2.X",
          "BA.2.X",
          "BA.2.X",
          "BA.2.X",
          "BA.2.X",
          "BA.2.X",
          "BA.2.X",
          "BA.2.X",
          "BA.2.X",
          "BA.2.X",
          "BA.2.X",
          "BA.2.X",
          "BG.X",
          "BG.X",
          "BG.X",
          "BG.X",
          "BG.X",
          "BG.X",
          "BG.X",
          "BG.X",
          "BG.X",
          "BG.X",
          "BG.X",
          "BG.X",
          "BG.X",
          "BA.4.X",
          "BA.4.X",
          "BA.4.X",
          "BA.4.X",
          "BA.4.X",
          "BA.4.X",
          "BA.4.X",
          "BA.4.X",
          "BA.4.X",
          "BA.4.X",
          "BA.4.X",
          "BA.4.X",
          "BA.5.X",
          "BA.5.X",
          "BA.5.X",
          "BA.5.X",
          "BA.5.X",
          "BA.5.X",
          "BA.5.X",
          "BA.5.X",
          "BA.5.X",
          "BA.5.X",
          "BA.5.X",
          "BA.5.X"
         ],
         "x0": " ",
         "xaxis": "x",
         "y": [
          10.500000000000002,
          40.08,
          13.200000000000001,
          20.266666666666666,
          36.38,
          35.31,
          36.17,
          42.209999999999994,
          37.62,
          54.6,
          64.24,
          62.559999999999995,
          69.92,
          48.586666666666666,
          68.46,
          59.78,
          55.84,
          69.02000000000001,
          56.25,
          72.8,
          64.42666666666666,
          70.56,
          48.08,
          74.18,
          64.74999999999999,
          74.51,
          145.19999999999996,
          92,
          88.16000000000001,
          75.46999999999997,
          111.29999999999998,
          75.83999999999996,
          32.24999999999999,
          44.64,
          39.44,
          45.28,
          26.240000000000002,
          51.459999999999994,
          41.23,
          34.160000000000004,
          51.1,
          36.6,
          25.44,
          32.480000000000004,
          45.38666666666667,
          39.64,
          43.84,
          1.07,
          23.449999999999992,
          32.720000000000006,
          68.42,
          63.525,
          60.839999999999996,
          33.34399999999999,
          60.373333333333335,
          65.87999999999998,
          59.79200000000001,
          2.9799999999999995,
          57.16999999999999,
          71.36,
          44.8,
          66.24,
          59.76000000000001,
          30,
          40.52,
          20.74666666666667,
          43.12,
          27.52,
          43.68,
          56.410000000000004,
          57.54,
          55.64999999999999,
          45.04,
          25.119999999999997,
          34.24,
          55.39999999999999,
          107.325,
          123.30666666666667,
          79.03999999999999,
          85.01333333333334,
          113.19999999999999,
          62.43,
          63.109999999999985,
          58.76,
          90.28,
          145.51999999999998,
          73.44,
          2.31,
          110.85000000000001,
          77.6,
          66.36000000000001,
          82.45333333333328,
          93.28,
          67.52000000000002,
          70.75999999999996,
          61.65000000000001,
          85.28,
          85.8,
          123.36000000000004,
          11.1
         ],
         "y0": " ",
         "yaxis": "y"
        },
        {
         "alignmentgroup": "True",
         "boxpoints": "all",
         "customdata": [
          [
           "VaQuERo",
           "Mixture01"
          ],
          [
           "VaQuERo",
           "Mixture02"
          ],
          [
           "VaQuERo",
           "Mixture04"
          ],
          [
           "VaQuERo",
           "Mixture06"
          ],
          [
           "VaQuERo",
           "Mixture07"
          ],
          [
           "VaQuERo",
           "Mixture15"
          ],
          [
           "VaQuERo",
           "Mixture31"
          ],
          [
           "VaQuERo",
           "Mixture32"
          ],
          [
           "VaQuERo",
           "Mixture34"
          ],
          [
           "VaQuERo",
           "Mixture04"
          ],
          [
           "VaQuERo",
           "Mixture07"
          ],
          [
           "VaQuERo",
           "Mixture16"
          ],
          [
           "VaQuERo",
           "Mixture31"
          ],
          [
           "VaQuERo",
           "Mixture35"
          ],
          [
           "VaQuERo",
           "Mixture01"
          ],
          [
           "VaQuERo",
           "Mixture02"
          ],
          [
           "VaQuERo",
           "Mixture06"
          ],
          [
           "VaQuERo",
           "Mixture18"
          ],
          [
           "VaQuERo",
           "Mixture31"
          ],
          [
           "VaQuERo",
           "Mixture37"
          ],
          [
           "VaQuERo",
           "Mixture02"
          ],
          [
           "VaQuERo",
           "Mixture04"
          ],
          [
           "VaQuERo",
           "Mixture07"
          ],
          [
           "VaQuERo",
           "Mixture17"
          ],
          [
           "VaQuERo",
           "Mixture31"
          ],
          [
           "VaQuERo",
           "Mixture32"
          ],
          [
           "VaQuERo",
           "Mixture36"
          ],
          [
           "VaQuERo",
           "Mixture02"
          ],
          [
           "VaQuERo",
           "Mixture04"
          ],
          [
           "VaQuERo",
           "Mixture06"
          ],
          [
           "VaQuERo",
           "Mixture08"
          ],
          [
           "VaQuERo",
           "Mixture10"
          ],
          [
           "VaQuERo",
           "Mixture31"
          ],
          [
           "VaQuERo",
           "Mixture32"
          ],
          [
           "VaQuERo",
           "Mixture38"
          ],
          [
           "VaQuERo",
           "Mixture01"
          ],
          [
           "VaQuERo",
           "Mixture03"
          ],
          [
           "VaQuERo",
           "Mixture04"
          ],
          [
           "VaQuERo",
           "Mixture06"
          ],
          [
           "VaQuERo",
           "Mixture08"
          ],
          [
           "VaQuERo",
           "Mixture10"
          ],
          [
           "VaQuERo",
           "Mixture28"
          ],
          [
           "VaQuERo",
           "Mixture29"
          ],
          [
           "VaQuERo",
           "Mixture30"
          ],
          [
           "VaQuERo",
           "Mixture32"
          ],
          [
           "VaQuERo",
           "Mixture39"
          ],
          [
           "VaQuERo",
           "Mixture01"
          ],
          [
           "VaQuERo",
           "Mixture03"
          ],
          [
           "VaQuERo",
           "Mixture05"
          ],
          [
           "VaQuERo",
           "Mixture06"
          ],
          [
           "VaQuERo",
           "Mixture07"
          ],
          [
           "VaQuERo",
           "Mixture08"
          ],
          [
           "VaQuERo",
           "Mixture11"
          ],
          [
           "VaQuERo",
           "Mixture22"
          ],
          [
           "VaQuERo",
           "Mixture23"
          ],
          [
           "VaQuERo",
           "Mixture29"
          ],
          [
           "VaQuERo",
           "Mixture30"
          ],
          [
           "VaQuERo",
           "Mixture32"
          ],
          [
           "VaQuERo",
           "Mixture40"
          ],
          [
           "VaQuERo",
           "Mixture01"
          ],
          [
           "VaQuERo",
           "Mixture03"
          ],
          [
           "VaQuERo",
           "Mixture05"
          ],
          [
           "VaQuERo",
           "Mixture07"
          ],
          [
           "VaQuERo",
           "Mixture08"
          ],
          [
           "VaQuERo",
           "Mixture13"
          ],
          [
           "VaQuERo",
           "Mixture26"
          ],
          [
           "VaQuERo",
           "Mixture27"
          ],
          [
           "VaQuERo",
           "Mixture29"
          ],
          [
           "VaQuERo",
           "Mixture30"
          ],
          [
           "VaQuERo",
           "Mixture32"
          ],
          [
           "VaQuERo",
           "Mixture01"
          ],
          [
           "VaQuERo",
           "Mixture03"
          ],
          [
           "VaQuERo",
           "Mixture05"
          ],
          [
           "VaQuERo",
           "Mixture07"
          ],
          [
           "VaQuERo",
           "Mixture08"
          ],
          [
           "VaQuERo",
           "Mixture12"
          ],
          [
           "VaQuERo",
           "Mixture24"
          ],
          [
           "VaQuERo",
           "Mixture25"
          ],
          [
           "VaQuERo",
           "Mixture29"
          ],
          [
           "VaQuERo",
           "Mixture30"
          ],
          [
           "VaQuERo",
           "Mixture32"
          ]
         ],
         "hovertemplate": "Scheme=%{customdata[0]}<br>Lineages=%{x}<br>Percent of expected abundance=%{y}<br>Sample name=%{customdata[1]}<extra></extra>",
         "legendgroup": "VaQuERo",
         "marker": {
          "color": "#ab63fa"
         },
         "name": "VaQuERo",
         "notched": false,
         "offsetgroup": "VaQuERo",
         "orientation": "v",
         "showlegend": true,
         "type": "box",
         "x": [
          "Alpha",
          "Alpha",
          "Alpha",
          "Alpha",
          "Alpha",
          "Alpha",
          "Alpha",
          "Alpha",
          "Alpha",
          "Gamma",
          "Gamma",
          "Gamma",
          "Gamma",
          "Gamma",
          "Delta",
          "Delta",
          "Delta",
          "Delta",
          "Delta",
          "Delta",
          "Iota",
          "Iota",
          "Iota",
          "Iota",
          "Iota",
          "Iota",
          "Iota",
          "BA.1.X",
          "BA.1.X",
          "BA.1.X",
          "BA.1.X",
          "BA.1.X",
          "BA.1.X",
          "BA.1.X",
          "BA.1.X",
          "BA.2.X",
          "BA.2.X",
          "BA.2.X",
          "BA.2.X",
          "BA.2.X",
          "BA.2.X",
          "BA.2.X",
          "BA.2.X",
          "BA.2.X",
          "BA.2.X",
          "BA.2.X",
          "BG.X",
          "BG.X",
          "BG.X",
          "BG.X",
          "BG.X",
          "BG.X",
          "BG.X",
          "BG.X",
          "BG.X",
          "BG.X",
          "BG.X",
          "BG.X",
          "BG.X",
          "BA.4.X",
          "BA.4.X",
          "BA.4.X",
          "BA.4.X",
          "BA.4.X",
          "BA.4.X",
          "BA.4.X",
          "BA.4.X",
          "BA.4.X",
          "BA.4.X",
          "BA.4.X",
          "BA.5.X",
          "BA.5.X",
          "BA.5.X",
          "BA.5.X",
          "BA.5.X",
          "BA.5.X",
          "BA.5.X",
          "BA.5.X",
          "BA.5.X",
          "BA.5.X",
          "BA.5.X"
         ],
         "x0": " ",
         "xaxis": "x",
         "y": [
          87.9,
          97.16,
          77.28,
          155.84,
          93.81333333333333,
          91.79,
          92.96,
          112.96,
          91.51,
          81.86666666666666,
          48.24,
          91.49000000000001,
          62.719999999999985,
          91.25,
          156.9,
          53.38666666666666,
          87.57333333333334,
          90.07,
          53.759999999999984,
          90.02,
          86.8,
          76.96,
          57.01333333333333,
          85.8,
          81.96999999999998,
          80.80000000000001,
          86.42999999999999,
          51.12,
          55.84,
          78.50666666666667,
          51.959999999999994,
          61.306666666666665,
          41.15999999999999,
          33.6,
          82.01,
          49.2,
          70.36,
          85.60000000000001,
          88.58666666666667,
          82.44,
          99.344,
          89.83,
          79.2,
          60.480000000000004,
          24.16,
          90.64,
          85.35000000000001,
          77.92,
          63.89333333333334,
          95.24000000000001,
          72.96000000000001,
          84.39999999999999,
          89.22,
          89.28,
          89.33,
          78.12,
          59.68,
          98.96000000000001,
          89.42,
          166.875,
          146.93333333333334,
          129.49333333333334,
          151.78666666666666,
          166,
          89.66,
          89.25999999999999,
          90.28,
          120.52000000000001,
          171.76,
          146.8,
          70.42500000000001,
          85.12,
          75,
          79.78666666666668,
          102.84,
          87.96,
          88.55000000000001,
          91.3,
          89.32,
          76.44,
          70.96000000000001
         ],
         "y0": " ",
         "yaxis": "y"
        },
        {
         "alignmentgroup": "True",
         "boxpoints": "all",
         "customdata": [
          [
           "LCS",
           "Mixture01"
          ],
          [
           "LCS",
           "Mixture02"
          ],
          [
           "LCS",
           "Mixture04"
          ],
          [
           "LCS",
           "Mixture06"
          ],
          [
           "LCS",
           "Mixture07"
          ],
          [
           "LCS",
           "Mixture15"
          ],
          [
           "LCS",
           "Mixture31"
          ],
          [
           "LCS",
           "Mixture32"
          ],
          [
           "LCS",
           "Mixture34"
          ],
          [
           "LCS",
           "Mixture01"
          ],
          [
           "LCS",
           "Mixture02"
          ],
          [
           "LCS",
           "Mixture04"
          ],
          [
           "LCS",
           "Mixture06"
          ],
          [
           "LCS",
           "Mixture07"
          ],
          [
           "LCS",
           "Mixture16"
          ],
          [
           "LCS",
           "Mixture31"
          ],
          [
           "LCS",
           "Mixture35"
          ],
          [
           "LCS",
           "Mixture01"
          ],
          [
           "LCS",
           "Mixture02"
          ],
          [
           "LCS",
           "Mixture06"
          ],
          [
           "LCS",
           "Mixture18"
          ],
          [
           "LCS",
           "Mixture31"
          ],
          [
           "LCS",
           "Mixture37"
          ],
          [
           "LCS",
           "Mixture01"
          ],
          [
           "LCS",
           "Mixture02"
          ],
          [
           "LCS",
           "Mixture04"
          ],
          [
           "LCS",
           "Mixture06"
          ],
          [
           "LCS",
           "Mixture07"
          ],
          [
           "LCS",
           "Mixture17"
          ],
          [
           "LCS",
           "Mixture31"
          ],
          [
           "LCS",
           "Mixture32"
          ],
          [
           "LCS",
           "Mixture36"
          ],
          [
           "LCS",
           "Mixture01"
          ],
          [
           "LCS",
           "Mixture02"
          ],
          [
           "LCS",
           "Mixture04"
          ],
          [
           "LCS",
           "Mixture06"
          ],
          [
           "LCS",
           "Mixture08"
          ],
          [
           "LCS",
           "Mixture10"
          ],
          [
           "LCS",
           "Mixture19"
          ],
          [
           "LCS",
           "Mixture31"
          ],
          [
           "LCS",
           "Mixture32"
          ],
          [
           "LCS",
           "Mixture38"
          ],
          [
           "LCS",
           "Mixture03"
          ],
          [
           "LCS",
           "Mixture04"
          ],
          [
           "LCS",
           "Mixture06"
          ],
          [
           "LCS",
           "Mixture08"
          ],
          [
           "LCS",
           "Mixture10"
          ],
          [
           "LCS",
           "Mixture20"
          ],
          [
           "LCS",
           "Mixture28"
          ],
          [
           "LCS",
           "Mixture29"
          ],
          [
           "LCS",
           "Mixture30"
          ],
          [
           "LCS",
           "Mixture39"
          ],
          [
           "LCS",
           "Mixture01"
          ],
          [
           "LCS",
           "Mixture03"
          ],
          [
           "LCS",
           "Mixture05"
          ],
          [
           "LCS",
           "Mixture06"
          ],
          [
           "LCS",
           "Mixture07"
          ],
          [
           "LCS",
           "Mixture08"
          ],
          [
           "LCS",
           "Mixture11"
          ],
          [
           "LCS",
           "Mixture22"
          ],
          [
           "LCS",
           "Mixture23"
          ],
          [
           "LCS",
           "Mixture29"
          ],
          [
           "LCS",
           "Mixture30"
          ],
          [
           "LCS",
           "Mixture32"
          ],
          [
           "LCS",
           "Mixture40"
          ],
          [
           "LCS",
           "Mixture01"
          ],
          [
           "LCS",
           "Mixture03"
          ],
          [
           "LCS",
           "Mixture05"
          ],
          [
           "LCS",
           "Mixture07"
          ],
          [
           "LCS",
           "Mixture08"
          ],
          [
           "LCS",
           "Mixture13"
          ],
          [
           "LCS",
           "Mixture26"
          ],
          [
           "LCS",
           "Mixture27"
          ],
          [
           "LCS",
           "Mixture29"
          ],
          [
           "LCS",
           "Mixture30"
          ],
          [
           "LCS",
           "Mixture32"
          ],
          [
           "LCS",
           "Mixture01"
          ],
          [
           "LCS",
           "Mixture03"
          ],
          [
           "LCS",
           "Mixture05"
          ],
          [
           "LCS",
           "Mixture07"
          ],
          [
           "LCS",
           "Mixture08"
          ],
          [
           "LCS",
           "Mixture12"
          ],
          [
           "LCS",
           "Mixture24"
          ],
          [
           "LCS",
           "Mixture25"
          ],
          [
           "LCS",
           "Mixture29"
          ],
          [
           "LCS",
           "Mixture30"
          ],
          [
           "LCS",
           "Mixture32"
          ],
          [
           "LCS",
           "Mixture41"
          ]
         ],
         "hovertemplate": "Scheme=%{customdata[0]}<br>Lineages=%{x}<br>Percent of expected abundance=%{y}<br>Sample name=%{customdata[1]}<extra></extra>",
         "legendgroup": "LCS",
         "marker": {
          "color": "#FFA15A"
         },
         "name": "LCS",
         "notched": false,
         "offsetgroup": "LCS",
         "orientation": "v",
         "showlegend": true,
         "type": "box",
         "x": [
          "Alpha",
          "Alpha",
          "Alpha",
          "Alpha",
          "Alpha",
          "Alpha",
          "Alpha",
          "Alpha",
          "Alpha",
          "Gamma",
          "Gamma",
          "Gamma",
          "Gamma",
          "Gamma",
          "Gamma",
          "Gamma",
          "Gamma",
          "Delta",
          "Delta",
          "Delta",
          "Delta",
          "Delta",
          "Delta",
          "Iota",
          "Iota",
          "Iota",
          "Iota",
          "Iota",
          "Iota",
          "Iota",
          "Iota",
          "Iota",
          "BA.1.X",
          "BA.1.X",
          "BA.1.X",
          "BA.1.X",
          "BA.1.X",
          "BA.1.X",
          "BA.1.X",
          "BA.1.X",
          "BA.1.X",
          "BA.1.X",
          "BA.2.X",
          "BA.2.X",
          "BA.2.X",
          "BA.2.X",
          "BA.2.X",
          "BA.2.X",
          "BA.2.X",
          "BA.2.X",
          "BA.2.X",
          "BA.2.X",
          "BG.X",
          "BG.X",
          "BG.X",
          "BG.X",
          "BG.X",
          "BG.X",
          "BG.X",
          "BG.X",
          "BG.X",
          "BG.X",
          "BG.X",
          "BG.X",
          "BG.X",
          "BA.4.X",
          "BA.4.X",
          "BA.4.X",
          "BA.4.X",
          "BA.4.X",
          "BA.4.X",
          "BA.4.X",
          "BA.4.X",
          "BA.4.X",
          "BA.4.X",
          "BA.4.X",
          "BA.5.X",
          "BA.5.X",
          "BA.5.X",
          "BA.5.X",
          "BA.5.X",
          "BA.5.X",
          "BA.5.X",
          "BA.5.X",
          "BA.5.X",
          "BA.5.X",
          "BA.5.X",
          "BA.5.X"
         ],
         "x0": " ",
         "xaxis": "x",
         "y": [
          99.9,
          112.08,
          116.64000000000001,
          125.12,
          97.86666666666667,
          97.88,
          97.16,
          97.52,
          94.17,
          49.95,
          56.64,
          91.30666666666666,
          69.92,
          62.32,
          97.54,
          83.16,
          96.67,
          31.05,
          30.346666666666668,
          29.06666666666667,
          45.61,
          17.779999999999994,
          66.72,
          10.500000000000002,
          30.64,
          8.48,
          56.48,
          23.626666666666665,
          90.46,
          15.469999999999997,
          38.800000000000004,
          72.76,
          103.2,
          35.120000000000005,
          66.88000000000001,
          86.24000000000001,
          61.88,
          63.46666666666666,
          1.4500000000000002,
          43.60999999999999,
          73.36,
          90.11,
          38.84,
          70.624,
          16.64,
          67.08,
          44.048,
          0.16999999999999998,
          90.39,
          91.96,
          28.28,
          92.64,
          57.975,
          72.11999999999999,
          20,
          98.88,
          62.63999999999999,
          75.52,
          56.42,
          93.21000000000001,
          90.48,
          81.44,
          48.28,
          74.32,
          81.66,
          170.4,
          138.08,
          122.56,
          137.86666666666667,
          138.88,
          95.96000000000001,
          92.99,
          96.89,
          103.2,
          208.48,
          132.8,
          89.4,
          128.032,
          65.16,
          69.70666666666668,
          133.6,
          94.26,
          97.1,
          94.19999999999999,
          111.04,
          91.12,
          45.839999999999996,
          0.35000000000000003
         ],
         "y0": " ",
         "yaxis": "y"
        },
        {
         "alignmentgroup": "True",
         "boxpoints": "all",
         "customdata": [
          [
           "LolliPop",
           "Mixture01"
          ],
          [
           "LolliPop",
           "Mixture02"
          ],
          [
           "LolliPop",
           "Mixture04"
          ],
          [
           "LolliPop",
           "Mixture06"
          ],
          [
           "LolliPop",
           "Mixture07"
          ],
          [
           "LolliPop",
           "Mixture15"
          ],
          [
           "LolliPop",
           "Mixture31"
          ],
          [
           "LolliPop",
           "Mixture32"
          ],
          [
           "LolliPop",
           "Mixture34"
          ],
          [
           "LolliPop",
           "Mixture01"
          ],
          [
           "LolliPop",
           "Mixture02"
          ],
          [
           "LolliPop",
           "Mixture04"
          ],
          [
           "LolliPop",
           "Mixture06"
          ],
          [
           "LolliPop",
           "Mixture07"
          ],
          [
           "LolliPop",
           "Mixture16"
          ],
          [
           "LolliPop",
           "Mixture31"
          ],
          [
           "LolliPop",
           "Mixture35"
          ],
          [
           "LolliPop",
           "Mixture01"
          ],
          [
           "LolliPop",
           "Mixture02"
          ],
          [
           "LolliPop",
           "Mixture06"
          ],
          [
           "LolliPop",
           "Mixture18"
          ],
          [
           "LolliPop",
           "Mixture31"
          ],
          [
           "LolliPop",
           "Mixture37"
          ],
          [
           "LolliPop",
           "Mixture01"
          ],
          [
           "LolliPop",
           "Mixture02"
          ],
          [
           "LolliPop",
           "Mixture04"
          ],
          [
           "LolliPop",
           "Mixture06"
          ],
          [
           "LolliPop",
           "Mixture08"
          ],
          [
           "LolliPop",
           "Mixture10"
          ],
          [
           "LolliPop",
           "Mixture19"
          ],
          [
           "LolliPop",
           "Mixture31"
          ],
          [
           "LolliPop",
           "Mixture32"
          ],
          [
           "LolliPop",
           "Mixture38"
          ],
          [
           "LolliPop",
           "Mixture01"
          ],
          [
           "LolliPop",
           "Mixture03"
          ],
          [
           "LolliPop",
           "Mixture04"
          ],
          [
           "LolliPop",
           "Mixture06"
          ],
          [
           "LolliPop",
           "Mixture08"
          ],
          [
           "LolliPop",
           "Mixture10"
          ],
          [
           "LolliPop",
           "Mixture20"
          ],
          [
           "LolliPop",
           "Mixture28"
          ],
          [
           "LolliPop",
           "Mixture29"
          ],
          [
           "LolliPop",
           "Mixture30"
          ],
          [
           "LolliPop",
           "Mixture32"
          ],
          [
           "LolliPop",
           "Mixture39"
          ],
          [
           "LolliPop",
           "Mixture01"
          ],
          [
           "LolliPop",
           "Mixture03"
          ],
          [
           "LolliPop",
           "Mixture05"
          ],
          [
           "LolliPop",
           "Mixture07"
          ],
          [
           "LolliPop",
           "Mixture08"
          ],
          [
           "LolliPop",
           "Mixture13"
          ],
          [
           "LolliPop",
           "Mixture26"
          ],
          [
           "LolliPop",
           "Mixture27"
          ],
          [
           "LolliPop",
           "Mixture29"
          ],
          [
           "LolliPop",
           "Mixture30"
          ],
          [
           "LolliPop",
           "Mixture32"
          ],
          [
           "LolliPop",
           "Mixture42"
          ],
          [
           "LolliPop",
           "Mixture01"
          ],
          [
           "LolliPop",
           "Mixture03"
          ],
          [
           "LolliPop",
           "Mixture05"
          ],
          [
           "LolliPop",
           "Mixture07"
          ],
          [
           "LolliPop",
           "Mixture08"
          ],
          [
           "LolliPop",
           "Mixture12"
          ],
          [
           "LolliPop",
           "Mixture24"
          ],
          [
           "LolliPop",
           "Mixture25"
          ],
          [
           "LolliPop",
           "Mixture29"
          ],
          [
           "LolliPop",
           "Mixture30"
          ],
          [
           "LolliPop",
           "Mixture32"
          ],
          [
           "LolliPop",
           "Mixture41"
          ]
         ],
         "hovertemplate": "Scheme=%{customdata[0]}<br>Lineages=%{x}<br>Percent of expected abundance=%{y}<br>Sample name=%{customdata[1]}<extra></extra>",
         "legendgroup": "LolliPop",
         "marker": {
          "color": "#19d3f3"
         },
         "name": "LolliPop",
         "notched": false,
         "offsetgroup": "LolliPop",
         "orientation": "v",
         "showlegend": true,
         "type": "box",
         "x": [
          "Alpha",
          "Alpha",
          "Alpha",
          "Alpha",
          "Alpha",
          "Alpha",
          "Alpha",
          "Alpha",
          "Alpha",
          "Gamma",
          "Gamma",
          "Gamma",
          "Gamma",
          "Gamma",
          "Gamma",
          "Gamma",
          "Gamma",
          "Delta",
          "Delta",
          "Delta",
          "Delta",
          "Delta",
          "Delta",
          "BA.1.X",
          "BA.1.X",
          "BA.1.X",
          "BA.1.X",
          "BA.1.X",
          "BA.1.X",
          "BA.1.X",
          "BA.1.X",
          "BA.1.X",
          "BA.1.X",
          "BA.2.X",
          "BA.2.X",
          "BA.2.X",
          "BA.2.X",
          "BA.2.X",
          "BA.2.X",
          "BA.2.X",
          "BA.2.X",
          "BA.2.X",
          "BA.2.X",
          "BA.2.X",
          "BA.2.X",
          "BA.4.X",
          "BA.4.X",
          "BA.4.X",
          "BA.4.X",
          "BA.4.X",
          "BA.4.X",
          "BA.4.X",
          "BA.4.X",
          "BA.4.X",
          "BA.4.X",
          "BA.4.X",
          "BA.4.X",
          "BA.5.X",
          "BA.5.X",
          "BA.5.X",
          "BA.5.X",
          "BA.5.X",
          "BA.5.X",
          "BA.5.X",
          "BA.5.X",
          "BA.5.X",
          "BA.5.X",
          "BA.5.X",
          "BA.5.X"
         ],
         "x0": " ",
         "xaxis": "x",
         "y": [
          95.25,
          102.03999999999999,
          117.44000000000001,
          135.04,
          82.29333333333332,
          90.10000000000001,
          100.58999999999997,
          94.56,
          89.83,
          71.85000000000001,
          83.04,
          83.2,
          98.72,
          65.36,
          93.37,
          75.46,
          93.16,
          51.6,
          65.44,
          69.33333333333334,
          92.91,
          60.05999999999999,
          90.64000000000001,
          39.15,
          52.239999999999995,
          49.973333333333336,
          57.70666666666667,
          46.12,
          55.70666666666667,
          0.2,
          46.68999999999999,
          39.519999999999996,
          81.06,
          239.10000000000005,
          173,
          79.904,
          192.64000000000001,
          159.56,
          81.91999999999999,
          1.8599999999999999,
          78.06,
          174.4,
          157.48,
          251.04000000000002,
          75.74000000000001,
          166.95,
          131.46666666666667,
          138.9333333333333,
          144.42666666666665,
          150.56,
          60.019999999999996,
          64.07,
          61.61,
          102.99999999999999,
          116.03999999999999,
          144.32,
          5.08,
          87.44999999999999,
          64.512,
          78.16,
          75.84,
          75.88000000000001,
          88.74,
          92.72,
          78.78,
          50.68,
          71.6,
          105.28,
          2.41
         ],
         "y0": " ",
         "yaxis": "y"
        },
        {
         "alignmentgroup": "True",
         "boxpoints": "all",
         "customdata": [
          [
           "lineagespot",
           "Mixture06"
          ],
          [
           "lineagespot",
           "Mixture15"
          ],
          [
           "lineagespot",
           "Mixture34"
          ],
          [
           "lineagespot",
           "Mixture16"
          ],
          [
           "lineagespot",
           "Mixture01"
          ],
          [
           "lineagespot",
           "Mixture18"
          ],
          [
           "lineagespot",
           "Mixture37"
          ]
         ],
         "hovertemplate": "Scheme=%{customdata[0]}<br>Lineages=%{x}<br>Percent of expected abundance=%{y}<br>Sample name=%{customdata[1]}<extra></extra>",
         "legendgroup": "lineagespot",
         "marker": {
          "color": "#FF6692"
         },
         "name": "lineagespot",
         "notched": false,
         "offsetgroup": "lineagespot",
         "orientation": "v",
         "showlegend": true,
         "type": "box",
         "x": [
          "Alpha",
          "Alpha",
          "Alpha",
          "Gamma",
          "Delta",
          "Delta",
          "Delta"
         ],
         "x0": " ",
         "xaxis": "x",
         "y": [
          142.24,
          26.68,
          8.89,
          53.83,
          145.2,
          3.45,
          17.89
         ],
         "y0": " ",
         "yaxis": "y"
        },
        {
         "alignmentgroup": "True",
         "boxpoints": "all",
         "customdata": [
          [
           "Kraken 2 (C-WAP)",
           "Mixture01"
          ],
          [
           "Kraken 2 (C-WAP)",
           "Mixture02"
          ],
          [
           "Kraken 2 (C-WAP)",
           "Mixture04"
          ],
          [
           "Kraken 2 (C-WAP)",
           "Mixture06"
          ],
          [
           "Kraken 2 (C-WAP)",
           "Mixture08"
          ],
          [
           "Kraken 2 (C-WAP)",
           "Mixture10"
          ],
          [
           "Kraken 2 (C-WAP)",
           "Mixture19"
          ],
          [
           "Kraken 2 (C-WAP)",
           "Mixture31"
          ],
          [
           "Kraken 2 (C-WAP)",
           "Mixture32"
          ],
          [
           "Kraken 2 (C-WAP)",
           "Mixture38"
          ],
          [
           "Kraken 2 (C-WAP)",
           "Mixture01"
          ],
          [
           "Kraken 2 (C-WAP)",
           "Mixture03"
          ],
          [
           "Kraken 2 (C-WAP)",
           "Mixture04"
          ],
          [
           "Kraken 2 (C-WAP)",
           "Mixture06"
          ],
          [
           "Kraken 2 (C-WAP)",
           "Mixture08"
          ],
          [
           "Kraken 2 (C-WAP)",
           "Mixture10"
          ],
          [
           "Kraken 2 (C-WAP)",
           "Mixture20"
          ],
          [
           "Kraken 2 (C-WAP)",
           "Mixture28"
          ],
          [
           "Kraken 2 (C-WAP)",
           "Mixture29"
          ],
          [
           "Kraken 2 (C-WAP)",
           "Mixture30"
          ],
          [
           "Kraken 2 (C-WAP)",
           "Mixture32"
          ],
          [
           "Kraken 2 (C-WAP)",
           "Mixture39"
          ],
          [
           "Kraken 2 (C-WAP)",
           "Mixture01"
          ],
          [
           "Kraken 2 (C-WAP)",
           "Mixture03"
          ],
          [
           "Kraken 2 (C-WAP)",
           "Mixture05"
          ],
          [
           "Kraken 2 (C-WAP)",
           "Mixture07"
          ],
          [
           "Kraken 2 (C-WAP)",
           "Mixture08"
          ],
          [
           "Kraken 2 (C-WAP)",
           "Mixture13"
          ],
          [
           "Kraken 2 (C-WAP)",
           "Mixture26"
          ],
          [
           "Kraken 2 (C-WAP)",
           "Mixture27"
          ],
          [
           "Kraken 2 (C-WAP)",
           "Mixture29"
          ],
          [
           "Kraken 2 (C-WAP)",
           "Mixture30"
          ],
          [
           "Kraken 2 (C-WAP)",
           "Mixture32"
          ],
          [
           "Kraken 2 (C-WAP)",
           "Mixture42"
          ],
          [
           "Kraken 2 (C-WAP)",
           "Mixture01"
          ],
          [
           "Kraken 2 (C-WAP)",
           "Mixture03"
          ],
          [
           "Kraken 2 (C-WAP)",
           "Mixture05"
          ],
          [
           "Kraken 2 (C-WAP)",
           "Mixture07"
          ],
          [
           "Kraken 2 (C-WAP)",
           "Mixture08"
          ],
          [
           "Kraken 2 (C-WAP)",
           "Mixture12"
          ],
          [
           "Kraken 2 (C-WAP)",
           "Mixture24"
          ],
          [
           "Kraken 2 (C-WAP)",
           "Mixture25"
          ],
          [
           "Kraken 2 (C-WAP)",
           "Mixture29"
          ],
          [
           "Kraken 2 (C-WAP)",
           "Mixture30"
          ],
          [
           "Kraken 2 (C-WAP)",
           "Mixture32"
          ],
          [
           "Kraken 2 (C-WAP)",
           "Mixture41"
          ]
         ],
         "hovertemplate": "Scheme=%{customdata[0]}<br>Lineages=%{x}<br>Percent of expected abundance=%{y}<br>Sample name=%{customdata[1]}<extra></extra>",
         "legendgroup": "Kraken 2 (C-WAP)",
         "marker": {
          "color": "#B6E880"
         },
         "name": "Kraken 2 (C-WAP)",
         "notched": false,
         "offsetgroup": "Kraken 2 (C-WAP)",
         "orientation": "v",
         "showlegend": true,
         "type": "box",
         "x": [
          "BA.1.X",
          "BA.1.X",
          "BA.1.X",
          "BA.1.X",
          "BA.1.X",
          "BA.1.X",
          "BA.1.X",
          "BA.1.X",
          "BA.1.X",
          "BA.1.X",
          "BA.2.X",
          "BA.2.X",
          "BA.2.X",
          "BA.2.X",
          "BA.2.X",
          "BA.2.X",
          "BA.2.X",
          "BA.2.X",
          "BA.2.X",
          "BA.2.X",
          "BA.2.X",
          "BA.2.X",
          "BA.4.X",
          "BA.4.X",
          "BA.4.X",
          "BA.4.X",
          "BA.4.X",
          "BA.4.X",
          "BA.4.X",
          "BA.4.X",
          "BA.4.X",
          "BA.4.X",
          "BA.4.X",
          "BA.4.X",
          "BA.5.X",
          "BA.5.X",
          "BA.5.X",
          "BA.5.X",
          "BA.5.X",
          "BA.5.X",
          "BA.5.X",
          "BA.5.X",
          "BA.5.X",
          "BA.5.X",
          "BA.5.X",
          "BA.5.X"
         ],
         "x0": " ",
         "xaxis": "x",
         "y": [
          421.34999999999997,
          359.44,
          180.85333333333332,
          254.29333333333335,
          142.32,
          128.88,
          21.18,
          281.11999999999995,
          203.35999999999999,
          69.78,
          319.20000000000005,
          224.88000000000002,
          95.03999999999999,
          189.49333333333334,
          156.92000000000002,
          39.952,
          14.75,
          36.49,
          224.51999999999995,
          211.28,
          343.68,
          35.089999999999996,
          193.425,
          149.17333333333335,
          158.13333333333335,
          143.36,
          191.44,
          43.28,
          42.199999999999996,
          40.06,
          112.12,
          124.11999999999999,
          207.04,
          38.51,
          8.025,
          3.0719999999999996,
          4.44,
          4.693333333333333,
          3.92,
          1.46,
          1.7500000000000002,
          1.77,
          4.2,
          4.16,
          7.68,
          1.39
         ],
         "y0": " ",
         "yaxis": "y"
        }
       ],
       "layout": {
        "boxmode": "group",
        "legend": {
         "title": {
          "text": "Scheme"
         },
         "tracegroupgap": 0
        },
        "template": {
         "data": {
          "bar": [
           {
            "error_x": {
             "color": "#2a3f5f"
            },
            "error_y": {
             "color": "#2a3f5f"
            },
            "marker": {
             "line": {
              "color": "#E5ECF6",
              "width": 0.5
             },
             "pattern": {
              "fillmode": "overlay",
              "size": 10,
              "solidity": 0.2
             }
            },
            "type": "bar"
           }
          ],
          "barpolar": [
           {
            "marker": {
             "line": {
              "color": "#E5ECF6",
              "width": 0.5
             },
             "pattern": {
              "fillmode": "overlay",
              "size": 10,
              "solidity": 0.2
             }
            },
            "type": "barpolar"
           }
          ],
          "carpet": [
           {
            "aaxis": {
             "endlinecolor": "#2a3f5f",
             "gridcolor": "white",
             "linecolor": "white",
             "minorgridcolor": "white",
             "startlinecolor": "#2a3f5f"
            },
            "baxis": {
             "endlinecolor": "#2a3f5f",
             "gridcolor": "white",
             "linecolor": "white",
             "minorgridcolor": "white",
             "startlinecolor": "#2a3f5f"
            },
            "type": "carpet"
           }
          ],
          "choropleth": [
           {
            "colorbar": {
             "outlinewidth": 0,
             "ticks": ""
            },
            "type": "choropleth"
           }
          ],
          "contour": [
           {
            "colorbar": {
             "outlinewidth": 0,
             "ticks": ""
            },
            "colorscale": [
             [
              0,
              "#0d0887"
             ],
             [
              0.1111111111111111,
              "#46039f"
             ],
             [
              0.2222222222222222,
              "#7201a8"
             ],
             [
              0.3333333333333333,
              "#9c179e"
             ],
             [
              0.4444444444444444,
              "#bd3786"
             ],
             [
              0.5555555555555556,
              "#d8576b"
             ],
             [
              0.6666666666666666,
              "#ed7953"
             ],
             [
              0.7777777777777778,
              "#fb9f3a"
             ],
             [
              0.8888888888888888,
              "#fdca26"
             ],
             [
              1,
              "#f0f921"
             ]
            ],
            "type": "contour"
           }
          ],
          "contourcarpet": [
           {
            "colorbar": {
             "outlinewidth": 0,
             "ticks": ""
            },
            "type": "contourcarpet"
           }
          ],
          "heatmap": [
           {
            "colorbar": {
             "outlinewidth": 0,
             "ticks": ""
            },
            "colorscale": [
             [
              0,
              "#0d0887"
             ],
             [
              0.1111111111111111,
              "#46039f"
             ],
             [
              0.2222222222222222,
              "#7201a8"
             ],
             [
              0.3333333333333333,
              "#9c179e"
             ],
             [
              0.4444444444444444,
              "#bd3786"
             ],
             [
              0.5555555555555556,
              "#d8576b"
             ],
             [
              0.6666666666666666,
              "#ed7953"
             ],
             [
              0.7777777777777778,
              "#fb9f3a"
             ],
             [
              0.8888888888888888,
              "#fdca26"
             ],
             [
              1,
              "#f0f921"
             ]
            ],
            "type": "heatmap"
           }
          ],
          "heatmapgl": [
           {
            "colorbar": {
             "outlinewidth": 0,
             "ticks": ""
            },
            "colorscale": [
             [
              0,
              "#0d0887"
             ],
             [
              0.1111111111111111,
              "#46039f"
             ],
             [
              0.2222222222222222,
              "#7201a8"
             ],
             [
              0.3333333333333333,
              "#9c179e"
             ],
             [
              0.4444444444444444,
              "#bd3786"
             ],
             [
              0.5555555555555556,
              "#d8576b"
             ],
             [
              0.6666666666666666,
              "#ed7953"
             ],
             [
              0.7777777777777778,
              "#fb9f3a"
             ],
             [
              0.8888888888888888,
              "#fdca26"
             ],
             [
              1,
              "#f0f921"
             ]
            ],
            "type": "heatmapgl"
           }
          ],
          "histogram": [
           {
            "marker": {
             "pattern": {
              "fillmode": "overlay",
              "size": 10,
              "solidity": 0.2
             }
            },
            "type": "histogram"
           }
          ],
          "histogram2d": [
           {
            "colorbar": {
             "outlinewidth": 0,
             "ticks": ""
            },
            "colorscale": [
             [
              0,
              "#0d0887"
             ],
             [
              0.1111111111111111,
              "#46039f"
             ],
             [
              0.2222222222222222,
              "#7201a8"
             ],
             [
              0.3333333333333333,
              "#9c179e"
             ],
             [
              0.4444444444444444,
              "#bd3786"
             ],
             [
              0.5555555555555556,
              "#d8576b"
             ],
             [
              0.6666666666666666,
              "#ed7953"
             ],
             [
              0.7777777777777778,
              "#fb9f3a"
             ],
             [
              0.8888888888888888,
              "#fdca26"
             ],
             [
              1,
              "#f0f921"
             ]
            ],
            "type": "histogram2d"
           }
          ],
          "histogram2dcontour": [
           {
            "colorbar": {
             "outlinewidth": 0,
             "ticks": ""
            },
            "colorscale": [
             [
              0,
              "#0d0887"
             ],
             [
              0.1111111111111111,
              "#46039f"
             ],
             [
              0.2222222222222222,
              "#7201a8"
             ],
             [
              0.3333333333333333,
              "#9c179e"
             ],
             [
              0.4444444444444444,
              "#bd3786"
             ],
             [
              0.5555555555555556,
              "#d8576b"
             ],
             [
              0.6666666666666666,
              "#ed7953"
             ],
             [
              0.7777777777777778,
              "#fb9f3a"
             ],
             [
              0.8888888888888888,
              "#fdca26"
             ],
             [
              1,
              "#f0f921"
             ]
            ],
            "type": "histogram2dcontour"
           }
          ],
          "mesh3d": [
           {
            "colorbar": {
             "outlinewidth": 0,
             "ticks": ""
            },
            "type": "mesh3d"
           }
          ],
          "parcoords": [
           {
            "line": {
             "colorbar": {
              "outlinewidth": 0,
              "ticks": ""
             }
            },
            "type": "parcoords"
           }
          ],
          "pie": [
           {
            "automargin": true,
            "type": "pie"
           }
          ],
          "scatter": [
           {
            "fillpattern": {
             "fillmode": "overlay",
             "size": 10,
             "solidity": 0.2
            },
            "type": "scatter"
           }
          ],
          "scatter3d": [
           {
            "line": {
             "colorbar": {
              "outlinewidth": 0,
              "ticks": ""
             }
            },
            "marker": {
             "colorbar": {
              "outlinewidth": 0,
              "ticks": ""
             }
            },
            "type": "scatter3d"
           }
          ],
          "scattercarpet": [
           {
            "marker": {
             "colorbar": {
              "outlinewidth": 0,
              "ticks": ""
             }
            },
            "type": "scattercarpet"
           }
          ],
          "scattergeo": [
           {
            "marker": {
             "colorbar": {
              "outlinewidth": 0,
              "ticks": ""
             }
            },
            "type": "scattergeo"
           }
          ],
          "scattergl": [
           {
            "marker": {
             "colorbar": {
              "outlinewidth": 0,
              "ticks": ""
             }
            },
            "type": "scattergl"
           }
          ],
          "scattermapbox": [
           {
            "marker": {
             "colorbar": {
              "outlinewidth": 0,
              "ticks": ""
             }
            },
            "type": "scattermapbox"
           }
          ],
          "scatterpolar": [
           {
            "marker": {
             "colorbar": {
              "outlinewidth": 0,
              "ticks": ""
             }
            },
            "type": "scatterpolar"
           }
          ],
          "scatterpolargl": [
           {
            "marker": {
             "colorbar": {
              "outlinewidth": 0,
              "ticks": ""
             }
            },
            "type": "scatterpolargl"
           }
          ],
          "scatterternary": [
           {
            "marker": {
             "colorbar": {
              "outlinewidth": 0,
              "ticks": ""
             }
            },
            "type": "scatterternary"
           }
          ],
          "surface": [
           {
            "colorbar": {
             "outlinewidth": 0,
             "ticks": ""
            },
            "colorscale": [
             [
              0,
              "#0d0887"
             ],
             [
              0.1111111111111111,
              "#46039f"
             ],
             [
              0.2222222222222222,
              "#7201a8"
             ],
             [
              0.3333333333333333,
              "#9c179e"
             ],
             [
              0.4444444444444444,
              "#bd3786"
             ],
             [
              0.5555555555555556,
              "#d8576b"
             ],
             [
              0.6666666666666666,
              "#ed7953"
             ],
             [
              0.7777777777777778,
              "#fb9f3a"
             ],
             [
              0.8888888888888888,
              "#fdca26"
             ],
             [
              1,
              "#f0f921"
             ]
            ],
            "type": "surface"
           }
          ],
          "table": [
           {
            "cells": {
             "fill": {
              "color": "#EBF0F8"
             },
             "line": {
              "color": "white"
             }
            },
            "header": {
             "fill": {
              "color": "#C8D4E3"
             },
             "line": {
              "color": "white"
             }
            },
            "type": "table"
           }
          ]
         },
         "layout": {
          "annotationdefaults": {
           "arrowcolor": "#2a3f5f",
           "arrowhead": 0,
           "arrowwidth": 1
          },
          "autotypenumbers": "strict",
          "coloraxis": {
           "colorbar": {
            "outlinewidth": 0,
            "ticks": ""
           }
          },
          "colorscale": {
           "diverging": [
            [
             0,
             "#8e0152"
            ],
            [
             0.1,
             "#c51b7d"
            ],
            [
             0.2,
             "#de77ae"
            ],
            [
             0.3,
             "#f1b6da"
            ],
            [
             0.4,
             "#fde0ef"
            ],
            [
             0.5,
             "#f7f7f7"
            ],
            [
             0.6,
             "#e6f5d0"
            ],
            [
             0.7,
             "#b8e186"
            ],
            [
             0.8,
             "#7fbc41"
            ],
            [
             0.9,
             "#4d9221"
            ],
            [
             1,
             "#276419"
            ]
           ],
           "sequential": [
            [
             0,
             "#0d0887"
            ],
            [
             0.1111111111111111,
             "#46039f"
            ],
            [
             0.2222222222222222,
             "#7201a8"
            ],
            [
             0.3333333333333333,
             "#9c179e"
            ],
            [
             0.4444444444444444,
             "#bd3786"
            ],
            [
             0.5555555555555556,
             "#d8576b"
            ],
            [
             0.6666666666666666,
             "#ed7953"
            ],
            [
             0.7777777777777778,
             "#fb9f3a"
            ],
            [
             0.8888888888888888,
             "#fdca26"
            ],
            [
             1,
             "#f0f921"
            ]
           ],
           "sequentialminus": [
            [
             0,
             "#0d0887"
            ],
            [
             0.1111111111111111,
             "#46039f"
            ],
            [
             0.2222222222222222,
             "#7201a8"
            ],
            [
             0.3333333333333333,
             "#9c179e"
            ],
            [
             0.4444444444444444,
             "#bd3786"
            ],
            [
             0.5555555555555556,
             "#d8576b"
            ],
            [
             0.6666666666666666,
             "#ed7953"
            ],
            [
             0.7777777777777778,
             "#fb9f3a"
            ],
            [
             0.8888888888888888,
             "#fdca26"
            ],
            [
             1,
             "#f0f921"
            ]
           ]
          },
          "colorway": [
           "#636efa",
           "#EF553B",
           "#00cc96",
           "#ab63fa",
           "#FFA15A",
           "#19d3f3",
           "#FF6692",
           "#B6E880",
           "#FF97FF",
           "#FECB52"
          ],
          "font": {
           "color": "#2a3f5f"
          },
          "geo": {
           "bgcolor": "white",
           "lakecolor": "white",
           "landcolor": "#E5ECF6",
           "showlakes": true,
           "showland": true,
           "subunitcolor": "white"
          },
          "hoverlabel": {
           "align": "left"
          },
          "hovermode": "closest",
          "mapbox": {
           "style": "light"
          },
          "paper_bgcolor": "white",
          "plot_bgcolor": "#E5ECF6",
          "polar": {
           "angularaxis": {
            "gridcolor": "white",
            "linecolor": "white",
            "ticks": ""
           },
           "bgcolor": "#E5ECF6",
           "radialaxis": {
            "gridcolor": "white",
            "linecolor": "white",
            "ticks": ""
           }
          },
          "scene": {
           "xaxis": {
            "backgroundcolor": "#E5ECF6",
            "gridcolor": "white",
            "gridwidth": 2,
            "linecolor": "white",
            "showbackground": true,
            "ticks": "",
            "zerolinecolor": "white"
           },
           "yaxis": {
            "backgroundcolor": "#E5ECF6",
            "gridcolor": "white",
            "gridwidth": 2,
            "linecolor": "white",
            "showbackground": true,
            "ticks": "",
            "zerolinecolor": "white"
           },
           "zaxis": {
            "backgroundcolor": "#E5ECF6",
            "gridcolor": "white",
            "gridwidth": 2,
            "linecolor": "white",
            "showbackground": true,
            "ticks": "",
            "zerolinecolor": "white"
           }
          },
          "shapedefaults": {
           "line": {
            "color": "#2a3f5f"
           }
          },
          "ternary": {
           "aaxis": {
            "gridcolor": "white",
            "linecolor": "white",
            "ticks": ""
           },
           "baxis": {
            "gridcolor": "white",
            "linecolor": "white",
            "ticks": ""
           },
           "bgcolor": "#E5ECF6",
           "caxis": {
            "gridcolor": "white",
            "linecolor": "white",
            "ticks": ""
           }
          },
          "title": {
           "x": 0.05
          },
          "xaxis": {
           "automargin": true,
           "gridcolor": "white",
           "linecolor": "white",
           "ticks": "",
           "title": {
            "standoff": 15
           },
           "zerolinecolor": "white",
           "zerolinewidth": 2
          },
          "yaxis": {
           "automargin": true,
           "gridcolor": "white",
           "linecolor": "white",
           "ticks": "",
           "title": {
            "standoff": 15
           },
           "zerolinecolor": "white",
           "zerolinewidth": 2
          }
         }
        },
        "title": {
         "text": "Lineage abundance estimates as a percent of expected abundance - WB mixtures"
        },
        "xaxis": {
         "anchor": "y",
         "domain": [
          0,
          1
         ],
         "title": {
          "text": "Lineages"
         }
        },
        "yaxis": {
         "anchor": "x",
         "domain": [
          0,
          1
         ],
         "range": [
          0,
          460
         ],
         "title": {
          "text": "Percent of expected abundance"
         }
        }
       }
      },
      "text/html": [
       "<div>                            <div id=\"76a5bdcc-49b6-431a-9545-4b2c87ef3af2\" class=\"plotly-graph-div\" style=\"height:525px; width:100%;\"></div>            <script type=\"text/javascript\">                require([\"plotly\"], function(Plotly) {                    window.PLOTLYENV=window.PLOTLYENV || {};                                    if (document.getElementById(\"76a5bdcc-49b6-431a-9545-4b2c87ef3af2\")) {                    Plotly.newPlot(                        \"76a5bdcc-49b6-431a-9545-4b2c87ef3af2\",                        [{\"alignmentgroup\":\"True\",\"boxpoints\":\"all\",\"customdata\":[[\"Freyja\",\"Mixture01\"],[\"Freyja\",\"Mixture14\"],[\"Freyja\",\"Mixture31\"],[\"Freyja\",\"Mixture05\"],[\"Freyja\",\"Mixture09\"],[\"Freyja\",\"Mixture21\"],[\"Freyja\",\"Mixture33\"],[\"Freyja\",\"Mixture01\"],[\"Freyja\",\"Mixture02\"],[\"Freyja\",\"Mixture34\"],[\"Freyja\",\"Mixture04\"],[\"Freyja\",\"Mixture15\"],[\"Freyja\",\"Mixture06\"],[\"Freyja\",\"Mixture31\"],[\"Freyja\",\"Mixture07\"],[\"Freyja\",\"Mixture32\"],[\"Freyja\",\"Mixture01\"],[\"Freyja\",\"Mixture02\"],[\"Freyja\",\"Mixture04\"],[\"Freyja\",\"Mixture06\"],[\"Freyja\",\"Mixture31\"],[\"Freyja\",\"Mixture16\"],[\"Freyja\",\"Mixture07\"],[\"Freyja\",\"Mixture35\"],[\"Freyja\",\"Mixture01\"],[\"Freyja\",\"Mixture02\"],[\"Freyja\",\"Mixture37\"],[\"Freyja\",\"Mixture06\"],[\"Freyja\",\"Mixture31\"],[\"Freyja\",\"Mixture18\"],[\"Freyja\",\"Mixture01\"],[\"Freyja\",\"Mixture02\"],[\"Freyja\",\"Mixture04\"],[\"Freyja\",\"Mixture06\"],[\"Freyja\",\"Mixture31\"],[\"Freyja\",\"Mixture07\"],[\"Freyja\",\"Mixture17\"],[\"Freyja\",\"Mixture32\"],[\"Freyja\",\"Mixture36\"],[\"Freyja\",\"Mixture01\"],[\"Freyja\",\"Mixture08\"],[\"Freyja\",\"Mixture02\"],[\"Freyja\",\"Mixture04\"],[\"Freyja\",\"Mixture10\"],[\"Freyja\",\"Mixture06\"],[\"Freyja\",\"Mixture31\"],[\"Freyja\",\"Mixture38\"],[\"Freyja\",\"Mixture32\"],[\"Freyja\",\"Mixture01\"],[\"Freyja\",\"Mixture08\"],[\"Freyja\",\"Mixture39\"],[\"Freyja\",\"Mixture29\"],[\"Freyja\",\"Mixture04\"],[\"Freyja\",\"Mixture10\"],[\"Freyja\",\"Mixture03\"],[\"Freyja\",\"Mixture06\"],[\"Freyja\",\"Mixture30\"],[\"Freyja\",\"Mixture32\"],[\"Freyja\",\"Mixture28\"],[\"Freyja\",\"Mixture01\"],[\"Freyja\",\"Mixture08\"],[\"Freyja\",\"Mixture11\"],[\"Freyja\",\"Mixture29\"],[\"Freyja\",\"Mixture03\"],[\"Freyja\",\"Mixture23\"],[\"Freyja\",\"Mixture06\"],[\"Freyja\",\"Mixture05\"],[\"Freyja\",\"Mixture40\"],[\"Freyja\",\"Mixture07\"],[\"Freyja\",\"Mixture30\"],[\"Freyja\",\"Mixture22\"],[\"Freyja\",\"Mixture32\"],[\"Freyja\",\"Mixture01\"],[\"Freyja\",\"Mixture13\"],[\"Freyja\",\"Mixture08\"],[\"Freyja\",\"Mixture29\"],[\"Freyja\",\"Mixture03\"],[\"Freyja\",\"Mixture26\"],[\"Freyja\",\"Mixture05\"],[\"Freyja\",\"Mixture27\"],[\"Freyja\",\"Mixture07\"],[\"Freyja\",\"Mixture30\"],[\"Freyja\",\"Mixture32\"],[\"Freyja\",\"Mixture01\"],[\"Freyja\",\"Mixture12\"],[\"Freyja\",\"Mixture08\"],[\"Freyja\",\"Mixture29\"],[\"Freyja\",\"Mixture25\"],[\"Freyja\",\"Mixture03\"],[\"Freyja\",\"Mixture05\"],[\"Freyja\",\"Mixture24\"],[\"Freyja\",\"Mixture07\"],[\"Freyja\",\"Mixture30\"],[\"Freyja\",\"Mixture32\"]],\"hovertemplate\":\"Scheme=%{customdata[0]}\\u003cbr\\u003eLineages=%{x}\\u003cbr\\u003ePercent of expected abundance=%{y}\\u003cbr\\u003eSample name=%{customdata[1]}\\u003cextra\\u003e\\u003c\\u002fextra\\u003e\",\"legendgroup\":\"Freyja\",\"marker\":{\"color\":\"#636efa\"},\"name\":\"Freyja\",\"notched\":false,\"offsetgroup\":\"Freyja\",\"orientation\":\"v\",\"showlegend\":true,\"x\":[\"Wuhan-hu-1\",\"Wuhan-hu-1\",\"Wuhan-hu-1\",\"Wuhan-hu-1\",\"Wuhan-hu-1\",\"Wuhan-hu-1\",\"Wuhan-hu-1\",\"Alpha\",\"Alpha\",\"Alpha\",\"Alpha\",\"Alpha\",\"Alpha\",\"Alpha\",\"Alpha\",\"Alpha\",\"Gamma\",\"Gamma\",\"Gamma\",\"Gamma\",\"Gamma\",\"Gamma\",\"Gamma\",\"Gamma\",\"Delta\",\"Delta\",\"Delta\",\"Delta\",\"Delta\",\"Delta\",\"Iota\",\"Iota\",\"Iota\",\"Iota\",\"Iota\",\"Iota\",\"Iota\",\"Iota\",\"Iota\",\"BA.1.X\",\"BA.1.X\",\"BA.1.X\",\"BA.1.X\",\"BA.1.X\",\"BA.1.X\",\"BA.1.X\",\"BA.1.X\",\"BA.1.X\",\"BA.2.X\",\"BA.2.X\",\"BA.2.X\",\"BA.2.X\",\"BA.2.X\",\"BA.2.X\",\"BA.2.X\",\"BA.2.X\",\"BA.2.X\",\"BA.2.X\",\"BA.2.X\",\"BG.X\",\"BG.X\",\"BG.X\",\"BG.X\",\"BG.X\",\"BG.X\",\"BG.X\",\"BG.X\",\"BG.X\",\"BG.X\",\"BG.X\",\"BG.X\",\"BG.X\",\"BA.4.X\",\"BA.4.X\",\"BA.4.X\",\"BA.4.X\",\"BA.4.X\",\"BA.4.X\",\"BA.4.X\",\"BA.4.X\",\"BA.4.X\",\"BA.4.X\",\"BA.4.X\",\"BA.5.X\",\"BA.5.X\",\"BA.5.X\",\"BA.5.X\",\"BA.5.X\",\"BA.5.X\",\"BA.5.X\",\"BA.5.X\",\"BA.5.X\",\"BA.5.X\",\"BA.5.X\"],\"x0\":\" \",\"xaxis\":\"x\",\"y\":[13.9715925,98.267715,3.5060934999999995,38.585709333333334,49.208518,49.281895,98.692177,98.61048000000001,106.786544,98.895272,105.570064,98.785769,135.890976,101.77798399999998,90.40152533333334,105.650432,70.751565,81.370832,90.89970133333334,102.32806400000001,79.24683199999998,99.218386,70.85072,99.123966,37.485659999999996,52.67930133333333,98.471052,63.64114666666666,47.284671,98.484931,68.3112,88.5632,96.4688,100.16416,83.78132,68.267312,98.556448,80.441648,98.427241,26.374484999999996,52.780567999999995,46.179432,39.80950933333333,58.76727466666666,50.780149333333334,42.645134,98.05727399999999,32.660432,50.86044,85.39313200000001,97.43117,69.309384,89.56404479999998,109.3924704,50.478092,117.07873066666666,40.857364000000004,46.50508800000001,97.455836,54.9579375,49.736792,98.88962,77.162588,79.58698799999999,98.852796,75.84854,43.066848,98.841121,54.792719999999996,61.5854,98.86309800000001,69.500368,204.40304999999998,98.584672,187.71167200000002,137.05219200000002,168.80389866666664,98.592435,156.571856,98.60769599999999,168.76666666666665,195.579836,177.839104,78.2201475,97.66654,114.493968,98.285248,98.725921,100.67516160000001,73.59421999999999,98.47971100000001,75.98553066666666,85.751468,70.89293599999999],\"y0\":\" \",\"yaxis\":\"y\",\"type\":\"box\"},{\"alignmentgroup\":\"True\",\"boxpoints\":\"all\",\"customdata\":[[\"kallisto (C-WAP)\",\"Mixture01\"],[\"kallisto (C-WAP)\",\"Mixture02\"],[\"kallisto (C-WAP)\",\"Mixture04\"],[\"kallisto (C-WAP)\",\"Mixture05\"],[\"kallisto (C-WAP)\",\"Mixture09\"],[\"kallisto (C-WAP)\",\"Mixture14\"],[\"kallisto (C-WAP)\",\"Mixture21\"],[\"kallisto (C-WAP)\",\"Mixture31\"],[\"kallisto (C-WAP)\",\"Mixture32\"],[\"kallisto (C-WAP)\",\"Mixture33\"],[\"kallisto (C-WAP)\",\"Mixture01\"],[\"kallisto (C-WAP)\",\"Mixture02\"],[\"kallisto (C-WAP)\",\"Mixture04\"],[\"kallisto (C-WAP)\",\"Mixture06\"],[\"kallisto (C-WAP)\",\"Mixture07\"],[\"kallisto (C-WAP)\",\"Mixture15\"],[\"kallisto (C-WAP)\",\"Mixture31\"],[\"kallisto (C-WAP)\",\"Mixture32\"],[\"kallisto (C-WAP)\",\"Mixture34\"],[\"kallisto (C-WAP)\",\"Mixture01\"],[\"kallisto (C-WAP)\",\"Mixture02\"],[\"kallisto (C-WAP)\",\"Mixture04\"],[\"kallisto (C-WAP)\",\"Mixture06\"],[\"kallisto (C-WAP)\",\"Mixture07\"],[\"kallisto (C-WAP)\",\"Mixture16\"],[\"kallisto (C-WAP)\",\"Mixture31\"],[\"kallisto (C-WAP)\",\"Mixture35\"],[\"kallisto (C-WAP)\",\"Mixture01\"],[\"kallisto (C-WAP)\",\"Mixture02\"],[\"kallisto (C-WAP)\",\"Mixture06\"],[\"kallisto (C-WAP)\",\"Mixture18\"],[\"kallisto (C-WAP)\",\"Mixture31\"],[\"kallisto (C-WAP)\",\"Mixture37\"],[\"kallisto (C-WAP)\",\"Mixture01\"],[\"kallisto (C-WAP)\",\"Mixture02\"],[\"kallisto (C-WAP)\",\"Mixture04\"],[\"kallisto (C-WAP)\",\"Mixture06\"],[\"kallisto (C-WAP)\",\"Mixture07\"],[\"kallisto (C-WAP)\",\"Mixture17\"],[\"kallisto (C-WAP)\",\"Mixture31\"],[\"kallisto (C-WAP)\",\"Mixture32\"],[\"kallisto (C-WAP)\",\"Mixture36\"],[\"kallisto (C-WAP)\",\"Mixture01\"],[\"kallisto (C-WAP)\",\"Mixture02\"],[\"kallisto (C-WAP)\",\"Mixture04\"],[\"kallisto (C-WAP)\",\"Mixture06\"],[\"kallisto (C-WAP)\",\"Mixture08\"],[\"kallisto (C-WAP)\",\"Mixture10\"],[\"kallisto (C-WAP)\",\"Mixture19\"],[\"kallisto (C-WAP)\",\"Mixture31\"],[\"kallisto (C-WAP)\",\"Mixture32\"],[\"kallisto (C-WAP)\",\"Mixture38\"],[\"kallisto (C-WAP)\",\"Mixture01\"],[\"kallisto (C-WAP)\",\"Mixture03\"],[\"kallisto (C-WAP)\",\"Mixture04\"],[\"kallisto (C-WAP)\",\"Mixture06\"],[\"kallisto (C-WAP)\",\"Mixture08\"],[\"kallisto (C-WAP)\",\"Mixture10\"],[\"kallisto (C-WAP)\",\"Mixture20\"],[\"kallisto (C-WAP)\",\"Mixture28\"],[\"kallisto (C-WAP)\",\"Mixture29\"],[\"kallisto (C-WAP)\",\"Mixture30\"],[\"kallisto (C-WAP)\",\"Mixture32\"],[\"kallisto (C-WAP)\",\"Mixture39\"],[\"kallisto (C-WAP)\",\"Mixture01\"],[\"kallisto (C-WAP)\",\"Mixture03\"],[\"kallisto (C-WAP)\",\"Mixture05\"],[\"kallisto (C-WAP)\",\"Mixture07\"],[\"kallisto (C-WAP)\",\"Mixture08\"],[\"kallisto (C-WAP)\",\"Mixture13\"],[\"kallisto (C-WAP)\",\"Mixture26\"],[\"kallisto (C-WAP)\",\"Mixture27\"],[\"kallisto (C-WAP)\",\"Mixture29\"],[\"kallisto (C-WAP)\",\"Mixture30\"],[\"kallisto (C-WAP)\",\"Mixture32\"],[\"kallisto (C-WAP)\",\"Mixture42\"],[\"kallisto (C-WAP)\",\"Mixture01\"],[\"kallisto (C-WAP)\",\"Mixture03\"],[\"kallisto (C-WAP)\",\"Mixture05\"],[\"kallisto (C-WAP)\",\"Mixture07\"],[\"kallisto (C-WAP)\",\"Mixture08\"],[\"kallisto (C-WAP)\",\"Mixture12\"],[\"kallisto (C-WAP)\",\"Mixture24\"],[\"kallisto (C-WAP)\",\"Mixture25\"],[\"kallisto (C-WAP)\",\"Mixture29\"],[\"kallisto (C-WAP)\",\"Mixture30\"],[\"kallisto (C-WAP)\",\"Mixture32\"],[\"kallisto (C-WAP)\",\"Mixture41\"]],\"hovertemplate\":\"Scheme=%{customdata[0]}\\u003cbr\\u003eLineages=%{x}\\u003cbr\\u003ePercent of expected abundance=%{y}\\u003cbr\\u003eSample name=%{customdata[1]}\\u003cextra\\u003e\\u003c\\u002fextra\\u003e\",\"legendgroup\":\"kallisto (C-WAP)\",\"marker\":{\"color\":\"#EF553B\"},\"name\":\"kallisto (C-WAP)\",\"notched\":false,\"offsetgroup\":\"kallisto (C-WAP)\",\"orientation\":\"v\",\"showlegend\":true,\"x\":[\"Wuhan-hu-1\",\"Wuhan-hu-1\",\"Wuhan-hu-1\",\"Wuhan-hu-1\",\"Wuhan-hu-1\",\"Wuhan-hu-1\",\"Wuhan-hu-1\",\"Wuhan-hu-1\",\"Wuhan-hu-1\",\"Wuhan-hu-1\",\"Alpha\",\"Alpha\",\"Alpha\",\"Alpha\",\"Alpha\",\"Alpha\",\"Alpha\",\"Alpha\",\"Alpha\",\"Gamma\",\"Gamma\",\"Gamma\",\"Gamma\",\"Gamma\",\"Gamma\",\"Gamma\",\"Gamma\",\"Delta\",\"Delta\",\"Delta\",\"Delta\",\"Delta\",\"Delta\",\"Iota\",\"Iota\",\"Iota\",\"Iota\",\"Iota\",\"Iota\",\"Iota\",\"Iota\",\"Iota\",\"BA.1.X\",\"BA.1.X\",\"BA.1.X\",\"BA.1.X\",\"BA.1.X\",\"BA.1.X\",\"BA.1.X\",\"BA.1.X\",\"BA.1.X\",\"BA.1.X\",\"BA.2.X\",\"BA.2.X\",\"BA.2.X\",\"BA.2.X\",\"BA.2.X\",\"BA.2.X\",\"BA.2.X\",\"BA.2.X\",\"BA.2.X\",\"BA.2.X\",\"BA.2.X\",\"BA.2.X\",\"BA.4.X\",\"BA.4.X\",\"BA.4.X\",\"BA.4.X\",\"BA.4.X\",\"BA.4.X\",\"BA.4.X\",\"BA.4.X\",\"BA.4.X\",\"BA.4.X\",\"BA.4.X\",\"BA.4.X\",\"BA.5.X\",\"BA.5.X\",\"BA.5.X\",\"BA.5.X\",\"BA.5.X\",\"BA.5.X\",\"BA.5.X\",\"BA.5.X\",\"BA.5.X\",\"BA.5.X\",\"BA.5.X\",\"BA.5.X\"],\"x0\":\" \",\"xaxis\":\"x\",\"y\":[155.25,184.8,204.8,97.86666666666667,91.10000000000001,91.0,91.0,177.79999999999998,184.8,90.8,60.0,65.2,67.2,88.0,57.06666666666666,65.2,60.899999999999984,59.199999999999996,65.0,49.50000000000001,59.199999999999996,58.666666666666664,76.8,59.199999999999996,81.10000000000001,55.99999999999999,81.3,31.5,33.06666666666666,46.4,57.199999999999996,31.499999999999993,57.49999999999999,64.49999999999999,80.0,73.6,120.0,69.86666666666666,87.2,70.0,62.4,87.2,70.5,61.6,66.13333333333333,78.93333333333334,54.0,58.93333333333334,1.0,57.4,56.8,89.7,155.25000000000003,175.2,67.19999999999999,192.53333333333333,127.20000000000002,89.44000000000001,1.0999999999999999,80.30000000000001,156.0,139.20000000000002,128.0,83.60000000000001,177.0,187.2,141.86666666666667,146.66666666666669,240.0,83.80000000000001,83.3,89.60000000000001,168.0,184.79999999999998,169.6,10.600000000000001,51.0,39.68,40.400000000000006,48.53333333333333,52.0,82.80000000000001,81.4,74.8,41.199999999999996,45.6,61.6,1.6],\"y0\":\" \",\"yaxis\":\"y\",\"type\":\"box\"},{\"alignmentgroup\":\"True\",\"boxpoints\":\"all\",\"customdata\":[[\"kallisto\",\"Mixture01\"],[\"kallisto\",\"Mixture02\"],[\"kallisto\",\"Mixture04\"],[\"kallisto\",\"Mixture05\"],[\"kallisto\",\"Mixture09\"],[\"kallisto\",\"Mixture14\"],[\"kallisto\",\"Mixture21\"],[\"kallisto\",\"Mixture31\"],[\"kallisto\",\"Mixture33\"],[\"kallisto\",\"Mixture01\"],[\"kallisto\",\"Mixture02\"],[\"kallisto\",\"Mixture04\"],[\"kallisto\",\"Mixture06\"],[\"kallisto\",\"Mixture07\"],[\"kallisto\",\"Mixture15\"],[\"kallisto\",\"Mixture31\"],[\"kallisto\",\"Mixture32\"],[\"kallisto\",\"Mixture34\"],[\"kallisto\",\"Mixture01\"],[\"kallisto\",\"Mixture02\"],[\"kallisto\",\"Mixture04\"],[\"kallisto\",\"Mixture06\"],[\"kallisto\",\"Mixture07\"],[\"kallisto\",\"Mixture16\"],[\"kallisto\",\"Mixture31\"],[\"kallisto\",\"Mixture35\"],[\"kallisto\",\"Mixture01\"],[\"kallisto\",\"Mixture02\"],[\"kallisto\",\"Mixture06\"],[\"kallisto\",\"Mixture18\"],[\"kallisto\",\"Mixture31\"],[\"kallisto\",\"Mixture37\"],[\"kallisto\",\"Mixture01\"],[\"kallisto\",\"Mixture02\"],[\"kallisto\",\"Mixture04\"],[\"kallisto\",\"Mixture06\"],[\"kallisto\",\"Mixture07\"],[\"kallisto\",\"Mixture17\"],[\"kallisto\",\"Mixture31\"],[\"kallisto\",\"Mixture32\"],[\"kallisto\",\"Mixture36\"],[\"kallisto\",\"Mixture01\"],[\"kallisto\",\"Mixture02\"],[\"kallisto\",\"Mixture04\"],[\"kallisto\",\"Mixture06\"],[\"kallisto\",\"Mixture08\"],[\"kallisto\",\"Mixture10\"],[\"kallisto\",\"Mixture19\"],[\"kallisto\",\"Mixture31\"],[\"kallisto\",\"Mixture32\"],[\"kallisto\",\"Mixture38\"],[\"kallisto\",\"Mixture01\"],[\"kallisto\",\"Mixture03\"],[\"kallisto\",\"Mixture04\"],[\"kallisto\",\"Mixture06\"],[\"kallisto\",\"Mixture08\"],[\"kallisto\",\"Mixture10\"],[\"kallisto\",\"Mixture20\"],[\"kallisto\",\"Mixture28\"],[\"kallisto\",\"Mixture29\"],[\"kallisto\",\"Mixture30\"],[\"kallisto\",\"Mixture32\"],[\"kallisto\",\"Mixture39\"],[\"kallisto\",\"Mixture01\"],[\"kallisto\",\"Mixture03\"],[\"kallisto\",\"Mixture05\"],[\"kallisto\",\"Mixture06\"],[\"kallisto\",\"Mixture07\"],[\"kallisto\",\"Mixture08\"],[\"kallisto\",\"Mixture11\"],[\"kallisto\",\"Mixture22\"],[\"kallisto\",\"Mixture23\"],[\"kallisto\",\"Mixture29\"],[\"kallisto\",\"Mixture30\"],[\"kallisto\",\"Mixture32\"],[\"kallisto\",\"Mixture40\"],[\"kallisto\",\"Mixture01\"],[\"kallisto\",\"Mixture03\"],[\"kallisto\",\"Mixture05\"],[\"kallisto\",\"Mixture07\"],[\"kallisto\",\"Mixture08\"],[\"kallisto\",\"Mixture13\"],[\"kallisto\",\"Mixture26\"],[\"kallisto\",\"Mixture27\"],[\"kallisto\",\"Mixture29\"],[\"kallisto\",\"Mixture30\"],[\"kallisto\",\"Mixture32\"],[\"kallisto\",\"Mixture42\"],[\"kallisto\",\"Mixture01\"],[\"kallisto\",\"Mixture03\"],[\"kallisto\",\"Mixture05\"],[\"kallisto\",\"Mixture07\"],[\"kallisto\",\"Mixture08\"],[\"kallisto\",\"Mixture12\"],[\"kallisto\",\"Mixture24\"],[\"kallisto\",\"Mixture25\"],[\"kallisto\",\"Mixture29\"],[\"kallisto\",\"Mixture30\"],[\"kallisto\",\"Mixture32\"],[\"kallisto\",\"Mixture41\"]],\"hovertemplate\":\"Scheme=%{customdata[0]}\\u003cbr\\u003eLineages=%{x}\\u003cbr\\u003ePercent of expected abundance=%{y}\\u003cbr\\u003eSample name=%{customdata[1]}\\u003cextra\\u003e\\u003c\\u002fextra\\u003e\",\"legendgroup\":\"kallisto\",\"marker\":{\"color\":\"#00cc96\"},\"name\":\"kallisto\",\"notched\":false,\"offsetgroup\":\"kallisto\",\"orientation\":\"v\",\"showlegend\":true,\"x\":[\"Wuhan-hu-1\",\"Wuhan-hu-1\",\"Wuhan-hu-1\",\"Wuhan-hu-1\",\"Wuhan-hu-1\",\"Wuhan-hu-1\",\"Wuhan-hu-1\",\"Wuhan-hu-1\",\"Wuhan-hu-1\",\"Alpha\",\"Alpha\",\"Alpha\",\"Alpha\",\"Alpha\",\"Alpha\",\"Alpha\",\"Alpha\",\"Alpha\",\"Gamma\",\"Gamma\",\"Gamma\",\"Gamma\",\"Gamma\",\"Gamma\",\"Gamma\",\"Gamma\",\"Delta\",\"Delta\",\"Delta\",\"Delta\",\"Delta\",\"Delta\",\"Iota\",\"Iota\",\"Iota\",\"Iota\",\"Iota\",\"Iota\",\"Iota\",\"Iota\",\"Iota\",\"BA.1.X\",\"BA.1.X\",\"BA.1.X\",\"BA.1.X\",\"BA.1.X\",\"BA.1.X\",\"BA.1.X\",\"BA.1.X\",\"BA.1.X\",\"BA.1.X\",\"BA.2.X\",\"BA.2.X\",\"BA.2.X\",\"BA.2.X\",\"BA.2.X\",\"BA.2.X\",\"BA.2.X\",\"BA.2.X\",\"BA.2.X\",\"BA.2.X\",\"BA.2.X\",\"BA.2.X\",\"BG.X\",\"BG.X\",\"BG.X\",\"BG.X\",\"BG.X\",\"BG.X\",\"BG.X\",\"BG.X\",\"BG.X\",\"BG.X\",\"BG.X\",\"BG.X\",\"BG.X\",\"BA.4.X\",\"BA.4.X\",\"BA.4.X\",\"BA.4.X\",\"BA.4.X\",\"BA.4.X\",\"BA.4.X\",\"BA.4.X\",\"BA.4.X\",\"BA.4.X\",\"BA.4.X\",\"BA.4.X\",\"BA.5.X\",\"BA.5.X\",\"BA.5.X\",\"BA.5.X\",\"BA.5.X\",\"BA.5.X\",\"BA.5.X\",\"BA.5.X\",\"BA.5.X\",\"BA.5.X\",\"BA.5.X\",\"BA.5.X\"],\"x0\":\" \",\"xaxis\":\"x\",\"y\":[10.500000000000002,40.08,13.200000000000001,20.266666666666666,36.38,35.31,36.17,42.209999999999994,37.62,54.6,64.24,62.559999999999995,69.92,48.586666666666666,68.46,59.78,55.84,69.02000000000001,56.25,72.8,64.42666666666666,70.56,48.08,74.18,64.74999999999999,74.51,145.19999999999996,92.0,88.16000000000001,75.46999999999997,111.29999999999998,75.83999999999996,32.24999999999999,44.64,39.44,45.28,26.240000000000002,51.459999999999994,41.23,34.160000000000004,51.1,36.6,25.44,32.480000000000004,45.38666666666667,39.64,43.84,1.07,23.449999999999992,32.720000000000006,68.42,63.525,60.839999999999996,33.34399999999999,60.373333333333335,65.87999999999998,59.79200000000001,2.9799999999999995,57.16999999999999,71.36,44.8,66.24,59.76000000000001,30.0,40.52,20.74666666666667,43.12,27.52,43.68,56.410000000000004,57.54,55.64999999999999,45.04,25.119999999999997,34.24,55.39999999999999,107.325,123.30666666666667,79.03999999999999,85.01333333333334,113.19999999999999,62.43,63.109999999999985,58.76,90.28,145.51999999999998,73.44,2.31,110.85000000000001,77.6,66.36000000000001,82.45333333333328,93.28,67.52000000000002,70.75999999999996,61.65000000000001,85.28,85.8,123.36000000000004,11.1],\"y0\":\" \",\"yaxis\":\"y\",\"type\":\"box\"},{\"alignmentgroup\":\"True\",\"boxpoints\":\"all\",\"customdata\":[[\"VaQuERo\",\"Mixture01\"],[\"VaQuERo\",\"Mixture02\"],[\"VaQuERo\",\"Mixture04\"],[\"VaQuERo\",\"Mixture06\"],[\"VaQuERo\",\"Mixture07\"],[\"VaQuERo\",\"Mixture15\"],[\"VaQuERo\",\"Mixture31\"],[\"VaQuERo\",\"Mixture32\"],[\"VaQuERo\",\"Mixture34\"],[\"VaQuERo\",\"Mixture04\"],[\"VaQuERo\",\"Mixture07\"],[\"VaQuERo\",\"Mixture16\"],[\"VaQuERo\",\"Mixture31\"],[\"VaQuERo\",\"Mixture35\"],[\"VaQuERo\",\"Mixture01\"],[\"VaQuERo\",\"Mixture02\"],[\"VaQuERo\",\"Mixture06\"],[\"VaQuERo\",\"Mixture18\"],[\"VaQuERo\",\"Mixture31\"],[\"VaQuERo\",\"Mixture37\"],[\"VaQuERo\",\"Mixture02\"],[\"VaQuERo\",\"Mixture04\"],[\"VaQuERo\",\"Mixture07\"],[\"VaQuERo\",\"Mixture17\"],[\"VaQuERo\",\"Mixture31\"],[\"VaQuERo\",\"Mixture32\"],[\"VaQuERo\",\"Mixture36\"],[\"VaQuERo\",\"Mixture02\"],[\"VaQuERo\",\"Mixture04\"],[\"VaQuERo\",\"Mixture06\"],[\"VaQuERo\",\"Mixture08\"],[\"VaQuERo\",\"Mixture10\"],[\"VaQuERo\",\"Mixture31\"],[\"VaQuERo\",\"Mixture32\"],[\"VaQuERo\",\"Mixture38\"],[\"VaQuERo\",\"Mixture01\"],[\"VaQuERo\",\"Mixture03\"],[\"VaQuERo\",\"Mixture04\"],[\"VaQuERo\",\"Mixture06\"],[\"VaQuERo\",\"Mixture08\"],[\"VaQuERo\",\"Mixture10\"],[\"VaQuERo\",\"Mixture28\"],[\"VaQuERo\",\"Mixture29\"],[\"VaQuERo\",\"Mixture30\"],[\"VaQuERo\",\"Mixture32\"],[\"VaQuERo\",\"Mixture39\"],[\"VaQuERo\",\"Mixture01\"],[\"VaQuERo\",\"Mixture03\"],[\"VaQuERo\",\"Mixture05\"],[\"VaQuERo\",\"Mixture06\"],[\"VaQuERo\",\"Mixture07\"],[\"VaQuERo\",\"Mixture08\"],[\"VaQuERo\",\"Mixture11\"],[\"VaQuERo\",\"Mixture22\"],[\"VaQuERo\",\"Mixture23\"],[\"VaQuERo\",\"Mixture29\"],[\"VaQuERo\",\"Mixture30\"],[\"VaQuERo\",\"Mixture32\"],[\"VaQuERo\",\"Mixture40\"],[\"VaQuERo\",\"Mixture01\"],[\"VaQuERo\",\"Mixture03\"],[\"VaQuERo\",\"Mixture05\"],[\"VaQuERo\",\"Mixture07\"],[\"VaQuERo\",\"Mixture08\"],[\"VaQuERo\",\"Mixture13\"],[\"VaQuERo\",\"Mixture26\"],[\"VaQuERo\",\"Mixture27\"],[\"VaQuERo\",\"Mixture29\"],[\"VaQuERo\",\"Mixture30\"],[\"VaQuERo\",\"Mixture32\"],[\"VaQuERo\",\"Mixture01\"],[\"VaQuERo\",\"Mixture03\"],[\"VaQuERo\",\"Mixture05\"],[\"VaQuERo\",\"Mixture07\"],[\"VaQuERo\",\"Mixture08\"],[\"VaQuERo\",\"Mixture12\"],[\"VaQuERo\",\"Mixture24\"],[\"VaQuERo\",\"Mixture25\"],[\"VaQuERo\",\"Mixture29\"],[\"VaQuERo\",\"Mixture30\"],[\"VaQuERo\",\"Mixture32\"]],\"hovertemplate\":\"Scheme=%{customdata[0]}\\u003cbr\\u003eLineages=%{x}\\u003cbr\\u003ePercent of expected abundance=%{y}\\u003cbr\\u003eSample name=%{customdata[1]}\\u003cextra\\u003e\\u003c\\u002fextra\\u003e\",\"legendgroup\":\"VaQuERo\",\"marker\":{\"color\":\"#ab63fa\"},\"name\":\"VaQuERo\",\"notched\":false,\"offsetgroup\":\"VaQuERo\",\"orientation\":\"v\",\"showlegend\":true,\"x\":[\"Alpha\",\"Alpha\",\"Alpha\",\"Alpha\",\"Alpha\",\"Alpha\",\"Alpha\",\"Alpha\",\"Alpha\",\"Gamma\",\"Gamma\",\"Gamma\",\"Gamma\",\"Gamma\",\"Delta\",\"Delta\",\"Delta\",\"Delta\",\"Delta\",\"Delta\",\"Iota\",\"Iota\",\"Iota\",\"Iota\",\"Iota\",\"Iota\",\"Iota\",\"BA.1.X\",\"BA.1.X\",\"BA.1.X\",\"BA.1.X\",\"BA.1.X\",\"BA.1.X\",\"BA.1.X\",\"BA.1.X\",\"BA.2.X\",\"BA.2.X\",\"BA.2.X\",\"BA.2.X\",\"BA.2.X\",\"BA.2.X\",\"BA.2.X\",\"BA.2.X\",\"BA.2.X\",\"BA.2.X\",\"BA.2.X\",\"BG.X\",\"BG.X\",\"BG.X\",\"BG.X\",\"BG.X\",\"BG.X\",\"BG.X\",\"BG.X\",\"BG.X\",\"BG.X\",\"BG.X\",\"BG.X\",\"BG.X\",\"BA.4.X\",\"BA.4.X\",\"BA.4.X\",\"BA.4.X\",\"BA.4.X\",\"BA.4.X\",\"BA.4.X\",\"BA.4.X\",\"BA.4.X\",\"BA.4.X\",\"BA.4.X\",\"BA.5.X\",\"BA.5.X\",\"BA.5.X\",\"BA.5.X\",\"BA.5.X\",\"BA.5.X\",\"BA.5.X\",\"BA.5.X\",\"BA.5.X\",\"BA.5.X\",\"BA.5.X\"],\"x0\":\" \",\"xaxis\":\"x\",\"y\":[87.9,97.16,77.28,155.84,93.81333333333333,91.79,92.96,112.96,91.51,81.86666666666666,48.24,91.49000000000001,62.719999999999985,91.25,156.9,53.38666666666666,87.57333333333334,90.07,53.759999999999984,90.02,86.8,76.96,57.01333333333333,85.8,81.96999999999998,80.80000000000001,86.42999999999999,51.12,55.84,78.50666666666667,51.959999999999994,61.306666666666665,41.15999999999999,33.6,82.01,49.2,70.36,85.60000000000001,88.58666666666667,82.44,99.344,89.83,79.2,60.480000000000004,24.16,90.64,85.35000000000001,77.92,63.89333333333334,95.24000000000001,72.96000000000001,84.39999999999999,89.22,89.28,89.33,78.12,59.68,98.96000000000001,89.42,166.875,146.93333333333334,129.49333333333334,151.78666666666666,166.0,89.66,89.25999999999999,90.28,120.52000000000001,171.76,146.8,70.42500000000001,85.12,75.0,79.78666666666668,102.84,87.96,88.55000000000001,91.3,89.32,76.44,70.96000000000001],\"y0\":\" \",\"yaxis\":\"y\",\"type\":\"box\"},{\"alignmentgroup\":\"True\",\"boxpoints\":\"all\",\"customdata\":[[\"LCS\",\"Mixture01\"],[\"LCS\",\"Mixture02\"],[\"LCS\",\"Mixture04\"],[\"LCS\",\"Mixture06\"],[\"LCS\",\"Mixture07\"],[\"LCS\",\"Mixture15\"],[\"LCS\",\"Mixture31\"],[\"LCS\",\"Mixture32\"],[\"LCS\",\"Mixture34\"],[\"LCS\",\"Mixture01\"],[\"LCS\",\"Mixture02\"],[\"LCS\",\"Mixture04\"],[\"LCS\",\"Mixture06\"],[\"LCS\",\"Mixture07\"],[\"LCS\",\"Mixture16\"],[\"LCS\",\"Mixture31\"],[\"LCS\",\"Mixture35\"],[\"LCS\",\"Mixture01\"],[\"LCS\",\"Mixture02\"],[\"LCS\",\"Mixture06\"],[\"LCS\",\"Mixture18\"],[\"LCS\",\"Mixture31\"],[\"LCS\",\"Mixture37\"],[\"LCS\",\"Mixture01\"],[\"LCS\",\"Mixture02\"],[\"LCS\",\"Mixture04\"],[\"LCS\",\"Mixture06\"],[\"LCS\",\"Mixture07\"],[\"LCS\",\"Mixture17\"],[\"LCS\",\"Mixture31\"],[\"LCS\",\"Mixture32\"],[\"LCS\",\"Mixture36\"],[\"LCS\",\"Mixture01\"],[\"LCS\",\"Mixture02\"],[\"LCS\",\"Mixture04\"],[\"LCS\",\"Mixture06\"],[\"LCS\",\"Mixture08\"],[\"LCS\",\"Mixture10\"],[\"LCS\",\"Mixture19\"],[\"LCS\",\"Mixture31\"],[\"LCS\",\"Mixture32\"],[\"LCS\",\"Mixture38\"],[\"LCS\",\"Mixture03\"],[\"LCS\",\"Mixture04\"],[\"LCS\",\"Mixture06\"],[\"LCS\",\"Mixture08\"],[\"LCS\",\"Mixture10\"],[\"LCS\",\"Mixture20\"],[\"LCS\",\"Mixture28\"],[\"LCS\",\"Mixture29\"],[\"LCS\",\"Mixture30\"],[\"LCS\",\"Mixture39\"],[\"LCS\",\"Mixture01\"],[\"LCS\",\"Mixture03\"],[\"LCS\",\"Mixture05\"],[\"LCS\",\"Mixture06\"],[\"LCS\",\"Mixture07\"],[\"LCS\",\"Mixture08\"],[\"LCS\",\"Mixture11\"],[\"LCS\",\"Mixture22\"],[\"LCS\",\"Mixture23\"],[\"LCS\",\"Mixture29\"],[\"LCS\",\"Mixture30\"],[\"LCS\",\"Mixture32\"],[\"LCS\",\"Mixture40\"],[\"LCS\",\"Mixture01\"],[\"LCS\",\"Mixture03\"],[\"LCS\",\"Mixture05\"],[\"LCS\",\"Mixture07\"],[\"LCS\",\"Mixture08\"],[\"LCS\",\"Mixture13\"],[\"LCS\",\"Mixture26\"],[\"LCS\",\"Mixture27\"],[\"LCS\",\"Mixture29\"],[\"LCS\",\"Mixture30\"],[\"LCS\",\"Mixture32\"],[\"LCS\",\"Mixture01\"],[\"LCS\",\"Mixture03\"],[\"LCS\",\"Mixture05\"],[\"LCS\",\"Mixture07\"],[\"LCS\",\"Mixture08\"],[\"LCS\",\"Mixture12\"],[\"LCS\",\"Mixture24\"],[\"LCS\",\"Mixture25\"],[\"LCS\",\"Mixture29\"],[\"LCS\",\"Mixture30\"],[\"LCS\",\"Mixture32\"],[\"LCS\",\"Mixture41\"]],\"hovertemplate\":\"Scheme=%{customdata[0]}\\u003cbr\\u003eLineages=%{x}\\u003cbr\\u003ePercent of expected abundance=%{y}\\u003cbr\\u003eSample name=%{customdata[1]}\\u003cextra\\u003e\\u003c\\u002fextra\\u003e\",\"legendgroup\":\"LCS\",\"marker\":{\"color\":\"#FFA15A\"},\"name\":\"LCS\",\"notched\":false,\"offsetgroup\":\"LCS\",\"orientation\":\"v\",\"showlegend\":true,\"x\":[\"Alpha\",\"Alpha\",\"Alpha\",\"Alpha\",\"Alpha\",\"Alpha\",\"Alpha\",\"Alpha\",\"Alpha\",\"Gamma\",\"Gamma\",\"Gamma\",\"Gamma\",\"Gamma\",\"Gamma\",\"Gamma\",\"Gamma\",\"Delta\",\"Delta\",\"Delta\",\"Delta\",\"Delta\",\"Delta\",\"Iota\",\"Iota\",\"Iota\",\"Iota\",\"Iota\",\"Iota\",\"Iota\",\"Iota\",\"Iota\",\"BA.1.X\",\"BA.1.X\",\"BA.1.X\",\"BA.1.X\",\"BA.1.X\",\"BA.1.X\",\"BA.1.X\",\"BA.1.X\",\"BA.1.X\",\"BA.1.X\",\"BA.2.X\",\"BA.2.X\",\"BA.2.X\",\"BA.2.X\",\"BA.2.X\",\"BA.2.X\",\"BA.2.X\",\"BA.2.X\",\"BA.2.X\",\"BA.2.X\",\"BG.X\",\"BG.X\",\"BG.X\",\"BG.X\",\"BG.X\",\"BG.X\",\"BG.X\",\"BG.X\",\"BG.X\",\"BG.X\",\"BG.X\",\"BG.X\",\"BG.X\",\"BA.4.X\",\"BA.4.X\",\"BA.4.X\",\"BA.4.X\",\"BA.4.X\",\"BA.4.X\",\"BA.4.X\",\"BA.4.X\",\"BA.4.X\",\"BA.4.X\",\"BA.4.X\",\"BA.5.X\",\"BA.5.X\",\"BA.5.X\",\"BA.5.X\",\"BA.5.X\",\"BA.5.X\",\"BA.5.X\",\"BA.5.X\",\"BA.5.X\",\"BA.5.X\",\"BA.5.X\",\"BA.5.X\"],\"x0\":\" \",\"xaxis\":\"x\",\"y\":[99.9,112.08,116.64000000000001,125.12,97.86666666666667,97.88,97.16,97.52,94.17,49.95,56.64,91.30666666666666,69.92,62.32,97.54,83.16,96.67,31.05,30.346666666666668,29.06666666666667,45.61,17.779999999999994,66.72,10.500000000000002,30.64,8.48,56.48,23.626666666666665,90.46,15.469999999999997,38.800000000000004,72.76,103.2,35.120000000000005,66.88000000000001,86.24000000000001,61.88,63.46666666666666,1.4500000000000002,43.60999999999999,73.36,90.11,38.84,70.624,16.64,67.08,44.048,0.16999999999999998,90.39,91.96,28.28,92.64,57.975,72.11999999999999,20.0,98.88,62.63999999999999,75.52,56.42,93.21000000000001,90.48,81.44,48.28,74.32,81.66,170.4,138.08,122.56,137.86666666666667,138.88,95.96000000000001,92.99,96.89,103.2,208.48,132.8,89.4,128.032,65.16,69.70666666666668,133.6,94.26,97.1,94.19999999999999,111.04,91.12,45.839999999999996,0.35000000000000003],\"y0\":\" \",\"yaxis\":\"y\",\"type\":\"box\"},{\"alignmentgroup\":\"True\",\"boxpoints\":\"all\",\"customdata\":[[\"LolliPop\",\"Mixture01\"],[\"LolliPop\",\"Mixture02\"],[\"LolliPop\",\"Mixture04\"],[\"LolliPop\",\"Mixture06\"],[\"LolliPop\",\"Mixture07\"],[\"LolliPop\",\"Mixture15\"],[\"LolliPop\",\"Mixture31\"],[\"LolliPop\",\"Mixture32\"],[\"LolliPop\",\"Mixture34\"],[\"LolliPop\",\"Mixture01\"],[\"LolliPop\",\"Mixture02\"],[\"LolliPop\",\"Mixture04\"],[\"LolliPop\",\"Mixture06\"],[\"LolliPop\",\"Mixture07\"],[\"LolliPop\",\"Mixture16\"],[\"LolliPop\",\"Mixture31\"],[\"LolliPop\",\"Mixture35\"],[\"LolliPop\",\"Mixture01\"],[\"LolliPop\",\"Mixture02\"],[\"LolliPop\",\"Mixture06\"],[\"LolliPop\",\"Mixture18\"],[\"LolliPop\",\"Mixture31\"],[\"LolliPop\",\"Mixture37\"],[\"LolliPop\",\"Mixture01\"],[\"LolliPop\",\"Mixture02\"],[\"LolliPop\",\"Mixture04\"],[\"LolliPop\",\"Mixture06\"],[\"LolliPop\",\"Mixture08\"],[\"LolliPop\",\"Mixture10\"],[\"LolliPop\",\"Mixture19\"],[\"LolliPop\",\"Mixture31\"],[\"LolliPop\",\"Mixture32\"],[\"LolliPop\",\"Mixture38\"],[\"LolliPop\",\"Mixture01\"],[\"LolliPop\",\"Mixture03\"],[\"LolliPop\",\"Mixture04\"],[\"LolliPop\",\"Mixture06\"],[\"LolliPop\",\"Mixture08\"],[\"LolliPop\",\"Mixture10\"],[\"LolliPop\",\"Mixture20\"],[\"LolliPop\",\"Mixture28\"],[\"LolliPop\",\"Mixture29\"],[\"LolliPop\",\"Mixture30\"],[\"LolliPop\",\"Mixture32\"],[\"LolliPop\",\"Mixture39\"],[\"LolliPop\",\"Mixture01\"],[\"LolliPop\",\"Mixture03\"],[\"LolliPop\",\"Mixture05\"],[\"LolliPop\",\"Mixture07\"],[\"LolliPop\",\"Mixture08\"],[\"LolliPop\",\"Mixture13\"],[\"LolliPop\",\"Mixture26\"],[\"LolliPop\",\"Mixture27\"],[\"LolliPop\",\"Mixture29\"],[\"LolliPop\",\"Mixture30\"],[\"LolliPop\",\"Mixture32\"],[\"LolliPop\",\"Mixture42\"],[\"LolliPop\",\"Mixture01\"],[\"LolliPop\",\"Mixture03\"],[\"LolliPop\",\"Mixture05\"],[\"LolliPop\",\"Mixture07\"],[\"LolliPop\",\"Mixture08\"],[\"LolliPop\",\"Mixture12\"],[\"LolliPop\",\"Mixture24\"],[\"LolliPop\",\"Mixture25\"],[\"LolliPop\",\"Mixture29\"],[\"LolliPop\",\"Mixture30\"],[\"LolliPop\",\"Mixture32\"],[\"LolliPop\",\"Mixture41\"]],\"hovertemplate\":\"Scheme=%{customdata[0]}\\u003cbr\\u003eLineages=%{x}\\u003cbr\\u003ePercent of expected abundance=%{y}\\u003cbr\\u003eSample name=%{customdata[1]}\\u003cextra\\u003e\\u003c\\u002fextra\\u003e\",\"legendgroup\":\"LolliPop\",\"marker\":{\"color\":\"#19d3f3\"},\"name\":\"LolliPop\",\"notched\":false,\"offsetgroup\":\"LolliPop\",\"orientation\":\"v\",\"showlegend\":true,\"x\":[\"Alpha\",\"Alpha\",\"Alpha\",\"Alpha\",\"Alpha\",\"Alpha\",\"Alpha\",\"Alpha\",\"Alpha\",\"Gamma\",\"Gamma\",\"Gamma\",\"Gamma\",\"Gamma\",\"Gamma\",\"Gamma\",\"Gamma\",\"Delta\",\"Delta\",\"Delta\",\"Delta\",\"Delta\",\"Delta\",\"BA.1.X\",\"BA.1.X\",\"BA.1.X\",\"BA.1.X\",\"BA.1.X\",\"BA.1.X\",\"BA.1.X\",\"BA.1.X\",\"BA.1.X\",\"BA.1.X\",\"BA.2.X\",\"BA.2.X\",\"BA.2.X\",\"BA.2.X\",\"BA.2.X\",\"BA.2.X\",\"BA.2.X\",\"BA.2.X\",\"BA.2.X\",\"BA.2.X\",\"BA.2.X\",\"BA.2.X\",\"BA.4.X\",\"BA.4.X\",\"BA.4.X\",\"BA.4.X\",\"BA.4.X\",\"BA.4.X\",\"BA.4.X\",\"BA.4.X\",\"BA.4.X\",\"BA.4.X\",\"BA.4.X\",\"BA.4.X\",\"BA.5.X\",\"BA.5.X\",\"BA.5.X\",\"BA.5.X\",\"BA.5.X\",\"BA.5.X\",\"BA.5.X\",\"BA.5.X\",\"BA.5.X\",\"BA.5.X\",\"BA.5.X\",\"BA.5.X\"],\"x0\":\" \",\"xaxis\":\"x\",\"y\":[95.25,102.03999999999999,117.44000000000001,135.04,82.29333333333332,90.10000000000001,100.58999999999997,94.56,89.83,71.85000000000001,83.04,83.2,98.72,65.36,93.37,75.46,93.16,51.6,65.44,69.33333333333334,92.91,60.05999999999999,90.64000000000001,39.15,52.239999999999995,49.973333333333336,57.70666666666667,46.12,55.70666666666667,0.2,46.68999999999999,39.519999999999996,81.06,239.10000000000005,173.0,79.904,192.64000000000001,159.56,81.91999999999999,1.8599999999999999,78.06,174.4,157.48,251.04000000000002,75.74000000000001,166.95,131.46666666666667,138.9333333333333,144.42666666666665,150.56,60.019999999999996,64.07,61.61,102.99999999999999,116.03999999999999,144.32,5.08,87.44999999999999,64.512,78.16,75.84,75.88000000000001,88.74,92.72,78.78,50.68,71.6,105.28,2.41],\"y0\":\" \",\"yaxis\":\"y\",\"type\":\"box\"},{\"alignmentgroup\":\"True\",\"boxpoints\":\"all\",\"customdata\":[[\"lineagespot\",\"Mixture06\"],[\"lineagespot\",\"Mixture15\"],[\"lineagespot\",\"Mixture34\"],[\"lineagespot\",\"Mixture16\"],[\"lineagespot\",\"Mixture01\"],[\"lineagespot\",\"Mixture18\"],[\"lineagespot\",\"Mixture37\"]],\"hovertemplate\":\"Scheme=%{customdata[0]}\\u003cbr\\u003eLineages=%{x}\\u003cbr\\u003ePercent of expected abundance=%{y}\\u003cbr\\u003eSample name=%{customdata[1]}\\u003cextra\\u003e\\u003c\\u002fextra\\u003e\",\"legendgroup\":\"lineagespot\",\"marker\":{\"color\":\"#FF6692\"},\"name\":\"lineagespot\",\"notched\":false,\"offsetgroup\":\"lineagespot\",\"orientation\":\"v\",\"showlegend\":true,\"x\":[\"Alpha\",\"Alpha\",\"Alpha\",\"Gamma\",\"Delta\",\"Delta\",\"Delta\"],\"x0\":\" \",\"xaxis\":\"x\",\"y\":[142.24,26.68,8.89,53.83,145.2,3.45,17.89],\"y0\":\" \",\"yaxis\":\"y\",\"type\":\"box\"},{\"alignmentgroup\":\"True\",\"boxpoints\":\"all\",\"customdata\":[[\"Kraken 2 (C-WAP)\",\"Mixture01\"],[\"Kraken 2 (C-WAP)\",\"Mixture02\"],[\"Kraken 2 (C-WAP)\",\"Mixture04\"],[\"Kraken 2 (C-WAP)\",\"Mixture06\"],[\"Kraken 2 (C-WAP)\",\"Mixture08\"],[\"Kraken 2 (C-WAP)\",\"Mixture10\"],[\"Kraken 2 (C-WAP)\",\"Mixture19\"],[\"Kraken 2 (C-WAP)\",\"Mixture31\"],[\"Kraken 2 (C-WAP)\",\"Mixture32\"],[\"Kraken 2 (C-WAP)\",\"Mixture38\"],[\"Kraken 2 (C-WAP)\",\"Mixture01\"],[\"Kraken 2 (C-WAP)\",\"Mixture03\"],[\"Kraken 2 (C-WAP)\",\"Mixture04\"],[\"Kraken 2 (C-WAP)\",\"Mixture06\"],[\"Kraken 2 (C-WAP)\",\"Mixture08\"],[\"Kraken 2 (C-WAP)\",\"Mixture10\"],[\"Kraken 2 (C-WAP)\",\"Mixture20\"],[\"Kraken 2 (C-WAP)\",\"Mixture28\"],[\"Kraken 2 (C-WAP)\",\"Mixture29\"],[\"Kraken 2 (C-WAP)\",\"Mixture30\"],[\"Kraken 2 (C-WAP)\",\"Mixture32\"],[\"Kraken 2 (C-WAP)\",\"Mixture39\"],[\"Kraken 2 (C-WAP)\",\"Mixture01\"],[\"Kraken 2 (C-WAP)\",\"Mixture03\"],[\"Kraken 2 (C-WAP)\",\"Mixture05\"],[\"Kraken 2 (C-WAP)\",\"Mixture07\"],[\"Kraken 2 (C-WAP)\",\"Mixture08\"],[\"Kraken 2 (C-WAP)\",\"Mixture13\"],[\"Kraken 2 (C-WAP)\",\"Mixture26\"],[\"Kraken 2 (C-WAP)\",\"Mixture27\"],[\"Kraken 2 (C-WAP)\",\"Mixture29\"],[\"Kraken 2 (C-WAP)\",\"Mixture30\"],[\"Kraken 2 (C-WAP)\",\"Mixture32\"],[\"Kraken 2 (C-WAP)\",\"Mixture42\"],[\"Kraken 2 (C-WAP)\",\"Mixture01\"],[\"Kraken 2 (C-WAP)\",\"Mixture03\"],[\"Kraken 2 (C-WAP)\",\"Mixture05\"],[\"Kraken 2 (C-WAP)\",\"Mixture07\"],[\"Kraken 2 (C-WAP)\",\"Mixture08\"],[\"Kraken 2 (C-WAP)\",\"Mixture12\"],[\"Kraken 2 (C-WAP)\",\"Mixture24\"],[\"Kraken 2 (C-WAP)\",\"Mixture25\"],[\"Kraken 2 (C-WAP)\",\"Mixture29\"],[\"Kraken 2 (C-WAP)\",\"Mixture30\"],[\"Kraken 2 (C-WAP)\",\"Mixture32\"],[\"Kraken 2 (C-WAP)\",\"Mixture41\"]],\"hovertemplate\":\"Scheme=%{customdata[0]}\\u003cbr\\u003eLineages=%{x}\\u003cbr\\u003ePercent of expected abundance=%{y}\\u003cbr\\u003eSample name=%{customdata[1]}\\u003cextra\\u003e\\u003c\\u002fextra\\u003e\",\"legendgroup\":\"Kraken 2 (C-WAP)\",\"marker\":{\"color\":\"#B6E880\"},\"name\":\"Kraken 2 (C-WAP)\",\"notched\":false,\"offsetgroup\":\"Kraken 2 (C-WAP)\",\"orientation\":\"v\",\"showlegend\":true,\"x\":[\"BA.1.X\",\"BA.1.X\",\"BA.1.X\",\"BA.1.X\",\"BA.1.X\",\"BA.1.X\",\"BA.1.X\",\"BA.1.X\",\"BA.1.X\",\"BA.1.X\",\"BA.2.X\",\"BA.2.X\",\"BA.2.X\",\"BA.2.X\",\"BA.2.X\",\"BA.2.X\",\"BA.2.X\",\"BA.2.X\",\"BA.2.X\",\"BA.2.X\",\"BA.2.X\",\"BA.2.X\",\"BA.4.X\",\"BA.4.X\",\"BA.4.X\",\"BA.4.X\",\"BA.4.X\",\"BA.4.X\",\"BA.4.X\",\"BA.4.X\",\"BA.4.X\",\"BA.4.X\",\"BA.4.X\",\"BA.4.X\",\"BA.5.X\",\"BA.5.X\",\"BA.5.X\",\"BA.5.X\",\"BA.5.X\",\"BA.5.X\",\"BA.5.X\",\"BA.5.X\",\"BA.5.X\",\"BA.5.X\",\"BA.5.X\",\"BA.5.X\"],\"x0\":\" \",\"xaxis\":\"x\",\"y\":[421.34999999999997,359.44,180.85333333333332,254.29333333333335,142.32,128.88,21.18,281.11999999999995,203.35999999999999,69.78,319.20000000000005,224.88000000000002,95.03999999999999,189.49333333333334,156.92000000000002,39.952,14.75,36.49,224.51999999999995,211.28,343.68,35.089999999999996,193.425,149.17333333333335,158.13333333333335,143.36,191.44,43.28,42.199999999999996,40.06,112.12,124.11999999999999,207.04,38.51,8.025,3.0719999999999996,4.44,4.693333333333333,3.92,1.46,1.7500000000000002,1.77,4.2,4.16,7.68,1.39],\"y0\":\" \",\"yaxis\":\"y\",\"type\":\"box\"}],                        {\"template\":{\"data\":{\"histogram2dcontour\":[{\"type\":\"histogram2dcontour\",\"colorbar\":{\"outlinewidth\":0,\"ticks\":\"\"},\"colorscale\":[[0.0,\"#0d0887\"],[0.1111111111111111,\"#46039f\"],[0.2222222222222222,\"#7201a8\"],[0.3333333333333333,\"#9c179e\"],[0.4444444444444444,\"#bd3786\"],[0.5555555555555556,\"#d8576b\"],[0.6666666666666666,\"#ed7953\"],[0.7777777777777778,\"#fb9f3a\"],[0.8888888888888888,\"#fdca26\"],[1.0,\"#f0f921\"]]}],\"choropleth\":[{\"type\":\"choropleth\",\"colorbar\":{\"outlinewidth\":0,\"ticks\":\"\"}}],\"histogram2d\":[{\"type\":\"histogram2d\",\"colorbar\":{\"outlinewidth\":0,\"ticks\":\"\"},\"colorscale\":[[0.0,\"#0d0887\"],[0.1111111111111111,\"#46039f\"],[0.2222222222222222,\"#7201a8\"],[0.3333333333333333,\"#9c179e\"],[0.4444444444444444,\"#bd3786\"],[0.5555555555555556,\"#d8576b\"],[0.6666666666666666,\"#ed7953\"],[0.7777777777777778,\"#fb9f3a\"],[0.8888888888888888,\"#fdca26\"],[1.0,\"#f0f921\"]]}],\"heatmap\":[{\"type\":\"heatmap\",\"colorbar\":{\"outlinewidth\":0,\"ticks\":\"\"},\"colorscale\":[[0.0,\"#0d0887\"],[0.1111111111111111,\"#46039f\"],[0.2222222222222222,\"#7201a8\"],[0.3333333333333333,\"#9c179e\"],[0.4444444444444444,\"#bd3786\"],[0.5555555555555556,\"#d8576b\"],[0.6666666666666666,\"#ed7953\"],[0.7777777777777778,\"#fb9f3a\"],[0.8888888888888888,\"#fdca26\"],[1.0,\"#f0f921\"]]}],\"heatmapgl\":[{\"type\":\"heatmapgl\",\"colorbar\":{\"outlinewidth\":0,\"ticks\":\"\"},\"colorscale\":[[0.0,\"#0d0887\"],[0.1111111111111111,\"#46039f\"],[0.2222222222222222,\"#7201a8\"],[0.3333333333333333,\"#9c179e\"],[0.4444444444444444,\"#bd3786\"],[0.5555555555555556,\"#d8576b\"],[0.6666666666666666,\"#ed7953\"],[0.7777777777777778,\"#fb9f3a\"],[0.8888888888888888,\"#fdca26\"],[1.0,\"#f0f921\"]]}],\"contourcarpet\":[{\"type\":\"contourcarpet\",\"colorbar\":{\"outlinewidth\":0,\"ticks\":\"\"}}],\"contour\":[{\"type\":\"contour\",\"colorbar\":{\"outlinewidth\":0,\"ticks\":\"\"},\"colorscale\":[[0.0,\"#0d0887\"],[0.1111111111111111,\"#46039f\"],[0.2222222222222222,\"#7201a8\"],[0.3333333333333333,\"#9c179e\"],[0.4444444444444444,\"#bd3786\"],[0.5555555555555556,\"#d8576b\"],[0.6666666666666666,\"#ed7953\"],[0.7777777777777778,\"#fb9f3a\"],[0.8888888888888888,\"#fdca26\"],[1.0,\"#f0f921\"]]}],\"surface\":[{\"type\":\"surface\",\"colorbar\":{\"outlinewidth\":0,\"ticks\":\"\"},\"colorscale\":[[0.0,\"#0d0887\"],[0.1111111111111111,\"#46039f\"],[0.2222222222222222,\"#7201a8\"],[0.3333333333333333,\"#9c179e\"],[0.4444444444444444,\"#bd3786\"],[0.5555555555555556,\"#d8576b\"],[0.6666666666666666,\"#ed7953\"],[0.7777777777777778,\"#fb9f3a\"],[0.8888888888888888,\"#fdca26\"],[1.0,\"#f0f921\"]]}],\"mesh3d\":[{\"type\":\"mesh3d\",\"colorbar\":{\"outlinewidth\":0,\"ticks\":\"\"}}],\"scatter\":[{\"fillpattern\":{\"fillmode\":\"overlay\",\"size\":10,\"solidity\":0.2},\"type\":\"scatter\"}],\"parcoords\":[{\"type\":\"parcoords\",\"line\":{\"colorbar\":{\"outlinewidth\":0,\"ticks\":\"\"}}}],\"scatterpolargl\":[{\"type\":\"scatterpolargl\",\"marker\":{\"colorbar\":{\"outlinewidth\":0,\"ticks\":\"\"}}}],\"bar\":[{\"error_x\":{\"color\":\"#2a3f5f\"},\"error_y\":{\"color\":\"#2a3f5f\"},\"marker\":{\"line\":{\"color\":\"#E5ECF6\",\"width\":0.5},\"pattern\":{\"fillmode\":\"overlay\",\"size\":10,\"solidity\":0.2}},\"type\":\"bar\"}],\"scattergeo\":[{\"type\":\"scattergeo\",\"marker\":{\"colorbar\":{\"outlinewidth\":0,\"ticks\":\"\"}}}],\"scatterpolar\":[{\"type\":\"scatterpolar\",\"marker\":{\"colorbar\":{\"outlinewidth\":0,\"ticks\":\"\"}}}],\"histogram\":[{\"marker\":{\"pattern\":{\"fillmode\":\"overlay\",\"size\":10,\"solidity\":0.2}},\"type\":\"histogram\"}],\"scattergl\":[{\"type\":\"scattergl\",\"marker\":{\"colorbar\":{\"outlinewidth\":0,\"ticks\":\"\"}}}],\"scatter3d\":[{\"type\":\"scatter3d\",\"line\":{\"colorbar\":{\"outlinewidth\":0,\"ticks\":\"\"}},\"marker\":{\"colorbar\":{\"outlinewidth\":0,\"ticks\":\"\"}}}],\"scattermapbox\":[{\"type\":\"scattermapbox\",\"marker\":{\"colorbar\":{\"outlinewidth\":0,\"ticks\":\"\"}}}],\"scatterternary\":[{\"type\":\"scatterternary\",\"marker\":{\"colorbar\":{\"outlinewidth\":0,\"ticks\":\"\"}}}],\"scattercarpet\":[{\"type\":\"scattercarpet\",\"marker\":{\"colorbar\":{\"outlinewidth\":0,\"ticks\":\"\"}}}],\"carpet\":[{\"aaxis\":{\"endlinecolor\":\"#2a3f5f\",\"gridcolor\":\"white\",\"linecolor\":\"white\",\"minorgridcolor\":\"white\",\"startlinecolor\":\"#2a3f5f\"},\"baxis\":{\"endlinecolor\":\"#2a3f5f\",\"gridcolor\":\"white\",\"linecolor\":\"white\",\"minorgridcolor\":\"white\",\"startlinecolor\":\"#2a3f5f\"},\"type\":\"carpet\"}],\"table\":[{\"cells\":{\"fill\":{\"color\":\"#EBF0F8\"},\"line\":{\"color\":\"white\"}},\"header\":{\"fill\":{\"color\":\"#C8D4E3\"},\"line\":{\"color\":\"white\"}},\"type\":\"table\"}],\"barpolar\":[{\"marker\":{\"line\":{\"color\":\"#E5ECF6\",\"width\":0.5},\"pattern\":{\"fillmode\":\"overlay\",\"size\":10,\"solidity\":0.2}},\"type\":\"barpolar\"}],\"pie\":[{\"automargin\":true,\"type\":\"pie\"}]},\"layout\":{\"autotypenumbers\":\"strict\",\"colorway\":[\"#636efa\",\"#EF553B\",\"#00cc96\",\"#ab63fa\",\"#FFA15A\",\"#19d3f3\",\"#FF6692\",\"#B6E880\",\"#FF97FF\",\"#FECB52\"],\"font\":{\"color\":\"#2a3f5f\"},\"hovermode\":\"closest\",\"hoverlabel\":{\"align\":\"left\"},\"paper_bgcolor\":\"white\",\"plot_bgcolor\":\"#E5ECF6\",\"polar\":{\"bgcolor\":\"#E5ECF6\",\"angularaxis\":{\"gridcolor\":\"white\",\"linecolor\":\"white\",\"ticks\":\"\"},\"radialaxis\":{\"gridcolor\":\"white\",\"linecolor\":\"white\",\"ticks\":\"\"}},\"ternary\":{\"bgcolor\":\"#E5ECF6\",\"aaxis\":{\"gridcolor\":\"white\",\"linecolor\":\"white\",\"ticks\":\"\"},\"baxis\":{\"gridcolor\":\"white\",\"linecolor\":\"white\",\"ticks\":\"\"},\"caxis\":{\"gridcolor\":\"white\",\"linecolor\":\"white\",\"ticks\":\"\"}},\"coloraxis\":{\"colorbar\":{\"outlinewidth\":0,\"ticks\":\"\"}},\"colorscale\":{\"sequential\":[[0.0,\"#0d0887\"],[0.1111111111111111,\"#46039f\"],[0.2222222222222222,\"#7201a8\"],[0.3333333333333333,\"#9c179e\"],[0.4444444444444444,\"#bd3786\"],[0.5555555555555556,\"#d8576b\"],[0.6666666666666666,\"#ed7953\"],[0.7777777777777778,\"#fb9f3a\"],[0.8888888888888888,\"#fdca26\"],[1.0,\"#f0f921\"]],\"sequentialminus\":[[0.0,\"#0d0887\"],[0.1111111111111111,\"#46039f\"],[0.2222222222222222,\"#7201a8\"],[0.3333333333333333,\"#9c179e\"],[0.4444444444444444,\"#bd3786\"],[0.5555555555555556,\"#d8576b\"],[0.6666666666666666,\"#ed7953\"],[0.7777777777777778,\"#fb9f3a\"],[0.8888888888888888,\"#fdca26\"],[1.0,\"#f0f921\"]],\"diverging\":[[0,\"#8e0152\"],[0.1,\"#c51b7d\"],[0.2,\"#de77ae\"],[0.3,\"#f1b6da\"],[0.4,\"#fde0ef\"],[0.5,\"#f7f7f7\"],[0.6,\"#e6f5d0\"],[0.7,\"#b8e186\"],[0.8,\"#7fbc41\"],[0.9,\"#4d9221\"],[1,\"#276419\"]]},\"xaxis\":{\"gridcolor\":\"white\",\"linecolor\":\"white\",\"ticks\":\"\",\"title\":{\"standoff\":15},\"zerolinecolor\":\"white\",\"automargin\":true,\"zerolinewidth\":2},\"yaxis\":{\"gridcolor\":\"white\",\"linecolor\":\"white\",\"ticks\":\"\",\"title\":{\"standoff\":15},\"zerolinecolor\":\"white\",\"automargin\":true,\"zerolinewidth\":2},\"scene\":{\"xaxis\":{\"backgroundcolor\":\"#E5ECF6\",\"gridcolor\":\"white\",\"linecolor\":\"white\",\"showbackground\":true,\"ticks\":\"\",\"zerolinecolor\":\"white\",\"gridwidth\":2},\"yaxis\":{\"backgroundcolor\":\"#E5ECF6\",\"gridcolor\":\"white\",\"linecolor\":\"white\",\"showbackground\":true,\"ticks\":\"\",\"zerolinecolor\":\"white\",\"gridwidth\":2},\"zaxis\":{\"backgroundcolor\":\"#E5ECF6\",\"gridcolor\":\"white\",\"linecolor\":\"white\",\"showbackground\":true,\"ticks\":\"\",\"zerolinecolor\":\"white\",\"gridwidth\":2}},\"shapedefaults\":{\"line\":{\"color\":\"#2a3f5f\"}},\"annotationdefaults\":{\"arrowcolor\":\"#2a3f5f\",\"arrowhead\":0,\"arrowwidth\":1},\"geo\":{\"bgcolor\":\"white\",\"landcolor\":\"#E5ECF6\",\"subunitcolor\":\"white\",\"showland\":true,\"showlakes\":true,\"lakecolor\":\"white\"},\"title\":{\"x\":0.05},\"mapbox\":{\"style\":\"light\"}}},\"xaxis\":{\"anchor\":\"y\",\"domain\":[0.0,1.0],\"title\":{\"text\":\"Lineages\"}},\"yaxis\":{\"anchor\":\"x\",\"domain\":[0.0,1.0],\"title\":{\"text\":\"Percent of expected abundance\"},\"range\":[0,460]},\"legend\":{\"title\":{\"text\":\"Scheme\"},\"tracegroupgap\":0},\"title\":{\"text\":\"Lineage abundance estimates as a percent of expected abundance - WB mixtures\"},\"boxmode\":\"group\"},                        {\"responsive\": true}                    ).then(function(){\n",
       "                            \n",
       "var gd = document.getElementById('76a5bdcc-49b6-431a-9545-4b2c87ef3af2');\n",
       "var x = new MutationObserver(function (mutations, observer) {{\n",
       "        var display = window.getComputedStyle(gd).display;\n",
       "        if (!display || display === 'none') {{\n",
       "            console.log([gd, 'removed!']);\n",
       "            Plotly.purge(gd);\n",
       "            observer.disconnect();\n",
       "        }}\n",
       "}});\n",
       "\n",
       "// Listen for the removal of the full notebook cells\n",
       "var notebookContainer = gd.closest('#notebook-container');\n",
       "if (notebookContainer) {{\n",
       "    x.observe(notebookContainer, {childList: true});\n",
       "}}\n",
       "\n",
       "// Listen for the clearing of the current output cell\n",
       "var outputEl = gd.closest('.output');\n",
       "if (outputEl) {{\n",
       "    x.observe(outputEl, {childList: true});\n",
       "}}\n",
       "\n",
       "                        })                };                });            </script>        </div>"
      ]
     },
     "metadata": {},
     "output_type": "display_data"
    },
    {
     "data": {
      "application/vnd.plotly.v1+json": {
       "config": {
        "plotlyServerURL": "https://plot.ly"
       },
       "data": [
        {
         "alignmentgroup": "True",
         "boxpoints": "all",
         "customdata": [
          [
           "Freyja",
           "Mixture09"
          ],
          [
           "Freyja",
           "Mixture21"
          ],
          [
           "Freyja",
           "Mixture14"
          ],
          [
           "Freyja",
           "Mixture33"
          ],
          [
           "Freyja",
           "Mixture05"
          ],
          [
           "Freyja",
           "Mixture15"
          ],
          [
           "Freyja",
           "Mixture02"
          ],
          [
           "Freyja",
           "Mixture01"
          ],
          [
           "Freyja",
           "Mixture07"
          ],
          [
           "Freyja",
           "Mixture34"
          ],
          [
           "Freyja",
           "Mixture06"
          ],
          [
           "Freyja",
           "Mixture31"
          ],
          [
           "Freyja",
           "Mixture04"
          ],
          [
           "Freyja",
           "Mixture32"
          ],
          [
           "Freyja",
           "Mixture02"
          ],
          [
           "Freyja",
           "Mixture01"
          ],
          [
           "Freyja",
           "Mixture07"
          ],
          [
           "Freyja",
           "Mixture35"
          ],
          [
           "Freyja",
           "Mixture06"
          ],
          [
           "Freyja",
           "Mixture31"
          ],
          [
           "Freyja",
           "Mixture16"
          ],
          [
           "Freyja",
           "Mixture04"
          ],
          [
           "Freyja",
           "Mixture02"
          ],
          [
           "Freyja",
           "Mixture01"
          ],
          [
           "Freyja",
           "Mixture06"
          ],
          [
           "Freyja",
           "Mixture31"
          ],
          [
           "Freyja",
           "Mixture18"
          ],
          [
           "Freyja",
           "Mixture37"
          ],
          [
           "Freyja",
           "Mixture02"
          ],
          [
           "Freyja",
           "Mixture01"
          ],
          [
           "Freyja",
           "Mixture17"
          ],
          [
           "Freyja",
           "Mixture07"
          ],
          [
           "Freyja",
           "Mixture06"
          ],
          [
           "Freyja",
           "Mixture31"
          ],
          [
           "Freyja",
           "Mixture04"
          ],
          [
           "Freyja",
           "Mixture32"
          ],
          [
           "Freyja",
           "Mixture36"
          ],
          [
           "Freyja",
           "Mixture02"
          ],
          [
           "Freyja",
           "Mixture10"
          ],
          [
           "Freyja",
           "Mixture01"
          ],
          [
           "Freyja",
           "Mixture19"
          ],
          [
           "Freyja",
           "Mixture38"
          ],
          [
           "Freyja",
           "Mixture08"
          ],
          [
           "Freyja",
           "Mixture06"
          ],
          [
           "Freyja",
           "Mixture31"
          ],
          [
           "Freyja",
           "Mixture04"
          ],
          [
           "Freyja",
           "Mixture32"
          ],
          [
           "Freyja",
           "Mixture10"
          ],
          [
           "Freyja",
           "Mixture01"
          ],
          [
           "Freyja",
           "Mixture03"
          ],
          [
           "Freyja",
           "Mixture20"
          ],
          [
           "Freyja",
           "Mixture08"
          ],
          [
           "Freyja",
           "Mixture28"
          ],
          [
           "Freyja",
           "Mixture39"
          ],
          [
           "Freyja",
           "Mixture06"
          ],
          [
           "Freyja",
           "Mixture29"
          ],
          [
           "Freyja",
           "Mixture04"
          ],
          [
           "Freyja",
           "Mixture30"
          ],
          [
           "Freyja",
           "Mixture32"
          ],
          [
           "Freyja",
           "Mixture01"
          ],
          [
           "Freyja",
           "Mixture07"
          ],
          [
           "Freyja",
           "Mixture11"
          ],
          [
           "Freyja",
           "Mixture40"
          ],
          [
           "Freyja",
           "Mixture03"
          ],
          [
           "Freyja",
           "Mixture22"
          ],
          [
           "Freyja",
           "Mixture08"
          ],
          [
           "Freyja",
           "Mixture06"
          ],
          [
           "Freyja",
           "Mixture29"
          ],
          [
           "Freyja",
           "Mixture05"
          ],
          [
           "Freyja",
           "Mixture23"
          ],
          [
           "Freyja",
           "Mixture30"
          ],
          [
           "Freyja",
           "Mixture32"
          ],
          [
           "Freyja",
           "Mixture01"
          ],
          [
           "Freyja",
           "Mixture07"
          ],
          [
           "Freyja",
           "Mixture42"
          ],
          [
           "Freyja",
           "Mixture13"
          ],
          [
           "Freyja",
           "Mixture03"
          ],
          [
           "Freyja",
           "Mixture08"
          ],
          [
           "Freyja",
           "Mixture27"
          ],
          [
           "Freyja",
           "Mixture29"
          ],
          [
           "Freyja",
           "Mixture26"
          ],
          [
           "Freyja",
           "Mixture05"
          ],
          [
           "Freyja",
           "Mixture30"
          ],
          [
           "Freyja",
           "Mixture32"
          ],
          [
           "Freyja",
           "Mixture01"
          ],
          [
           "Freyja",
           "Mixture12"
          ],
          [
           "Freyja",
           "Mixture07"
          ],
          [
           "Freyja",
           "Mixture25"
          ],
          [
           "Freyja",
           "Mixture24"
          ],
          [
           "Freyja",
           "Mixture03"
          ],
          [
           "Freyja",
           "Mixture08"
          ],
          [
           "Freyja",
           "Mixture29"
          ],
          [
           "Freyja",
           "Mixture05"
          ],
          [
           "Freyja",
           "Mixture30"
          ],
          [
           "Freyja",
           "Mixture32"
          ],
          [
           "Freyja",
           "Mixture41"
          ]
         ],
         "hovertemplate": "Scheme=%{customdata[0]}<br>Lineages=%{x}<br>Percent of expected abundance=%{y}<br>Sample name=%{customdata[1]}<extra></extra>",
         "legendgroup": "Freyja",
         "marker": {
          "color": "#636efa"
         },
         "name": "Freyja",
         "notched": false,
         "offsetgroup": "Freyja",
         "orientation": "v",
         "showlegend": true,
         "type": "box",
         "x": [
          "Wuhan-hu-1",
          "Wuhan-hu-1",
          "Wuhan-hu-1",
          "Wuhan-hu-1",
          "Wuhan-hu-1",
          "Alpha",
          "Alpha",
          "Alpha",
          "Alpha",
          "Alpha",
          "Alpha",
          "Alpha",
          "Alpha",
          "Alpha",
          "Gamma",
          "Gamma",
          "Gamma",
          "Gamma",
          "Gamma",
          "Gamma",
          "Gamma",
          "Gamma",
          "Delta",
          "Delta",
          "Delta",
          "Delta",
          "Delta",
          "Delta",
          "Iota",
          "Iota",
          "Iota",
          "Iota",
          "Iota",
          "Iota",
          "Iota",
          "Iota",
          "Iota",
          "BA.1.X",
          "BA.1.X",
          "BA.1.X",
          "BA.1.X",
          "BA.1.X",
          "BA.1.X",
          "BA.1.X",
          "BA.1.X",
          "BA.1.X",
          "BA.1.X",
          "BA.2.X",
          "BA.2.X",
          "BA.2.X",
          "BA.2.X",
          "BA.2.X",
          "BA.2.X",
          "BA.2.X",
          "BA.2.X",
          "BA.2.X",
          "BA.2.X",
          "BA.2.X",
          "BA.2.X",
          "BG.X",
          "BG.X",
          "BG.X",
          "BG.X",
          "BG.X",
          "BG.X",
          "BG.X",
          "BG.X",
          "BG.X",
          "BG.X",
          "BG.X",
          "BG.X",
          "BG.X",
          "BA.4.X",
          "BA.4.X",
          "BA.4.X",
          "BA.4.X",
          "BA.4.X",
          "BA.4.X",
          "BA.4.X",
          "BA.4.X",
          "BA.4.X",
          "BA.4.X",
          "BA.4.X",
          "BA.4.X",
          "BA.5.X",
          "BA.5.X",
          "BA.5.X",
          "BA.5.X",
          "BA.5.X",
          "BA.5.X",
          "BA.5.X",
          "BA.5.X",
          "BA.5.X",
          "BA.5.X",
          "BA.5.X",
          "BA.5.X"
         ],
         "x0": " ",
         "xaxis": "x",
         "y": [
          32.261288,
          32.734974,
          32.832595,
          97.138115,
          16.13301866666667,
          98.876539,
          80.284732,
          74.25171,
          82.47422933333333,
          98.817773,
          100.117952,
          89.609856,
          68.438448,
          63.126224,
          45.542992,
          59.06152499999999,
          62.676496,
          99.131283,
          56.325984,
          72.67325799999999,
          98.94360499999999,
          73.94837333333334,
          82.82393066666667,
          44.526915,
          85.73836266666669,
          65.254455,
          98.514272,
          98.711714,
          144.2496,
          82.579155,
          97.997977,
          98.13973333333334,
          119.39289600000001,
          120.41244599999999,
          123.25151199999999,
          96.60560000000001,
          98.131987,
          26.05852,
          43.079509333333334,
          29.614784999999998,
          98.01248299999999,
          98.128302,
          64.413736,
          48.81390933333334,
          24.69331199999999,
          51.18713066666667,
          44.072776000000005,
          111.67474400000002,
          68.00311500000001,
          48.037459999999996,
          97.19457299999999,
          90.223552,
          97.439427,
          97.25073,
          141.79390399999997,
          72.10698800000003,
          95.87906560000002,
          69.919788,
          59.327248,
          58.94886749999999,
          48.940016,
          98.866545,
          98.022306,
          67.81193599999999,
          98.386379,
          55.459512,
          40.403776,
          74.000488,
          28.655578666666663,
          98.59531299999999,
          53.738271999999995,
          65.649952,
          202.4693025,
          189.52146133333335,
          98.43438099999999,
          98.18846099999999,
          182.30930666666666,
          165.52204,
          98.320465,
          158.9479,
          98.33613799999998,
          168.50349333333335,
          167.50156800000002,
          202.96666399999998,
          61.2344625,
          97.45028599999999,
          33.86466133333334,
          98.366596,
          97.743086,
          104.56923200000001,
          104.628816,
          76.613268,
          49.094528,
          83.68197199999999,
          51.11886400000001,
          98.225526
         ],
         "y0": " ",
         "yaxis": "y"
        },
        {
         "alignmentgroup": "True",
         "boxpoints": "all",
         "customdata": [
          [
           "kallisto (C-WAP)",
           "Mixture01"
          ],
          [
           "kallisto (C-WAP)",
           "Mixture02"
          ],
          [
           "kallisto (C-WAP)",
           "Mixture04"
          ],
          [
           "kallisto (C-WAP)",
           "Mixture05"
          ],
          [
           "kallisto (C-WAP)",
           "Mixture09"
          ],
          [
           "kallisto (C-WAP)",
           "Mixture14"
          ],
          [
           "kallisto (C-WAP)",
           "Mixture21"
          ],
          [
           "kallisto (C-WAP)",
           "Mixture31"
          ],
          [
           "kallisto (C-WAP)",
           "Mixture32"
          ],
          [
           "kallisto (C-WAP)",
           "Mixture33"
          ],
          [
           "kallisto (C-WAP)",
           "Mixture01"
          ],
          [
           "kallisto (C-WAP)",
           "Mixture02"
          ],
          [
           "kallisto (C-WAP)",
           "Mixture04"
          ],
          [
           "kallisto (C-WAP)",
           "Mixture06"
          ],
          [
           "kallisto (C-WAP)",
           "Mixture07"
          ],
          [
           "kallisto (C-WAP)",
           "Mixture15"
          ],
          [
           "kallisto (C-WAP)",
           "Mixture31"
          ],
          [
           "kallisto (C-WAP)",
           "Mixture32"
          ],
          [
           "kallisto (C-WAP)",
           "Mixture34"
          ],
          [
           "kallisto (C-WAP)",
           "Mixture01"
          ],
          [
           "kallisto (C-WAP)",
           "Mixture02"
          ],
          [
           "kallisto (C-WAP)",
           "Mixture04"
          ],
          [
           "kallisto (C-WAP)",
           "Mixture06"
          ],
          [
           "kallisto (C-WAP)",
           "Mixture07"
          ],
          [
           "kallisto (C-WAP)",
           "Mixture16"
          ],
          [
           "kallisto (C-WAP)",
           "Mixture31"
          ],
          [
           "kallisto (C-WAP)",
           "Mixture35"
          ],
          [
           "kallisto (C-WAP)",
           "Mixture01"
          ],
          [
           "kallisto (C-WAP)",
           "Mixture02"
          ],
          [
           "kallisto (C-WAP)",
           "Mixture06"
          ],
          [
           "kallisto (C-WAP)",
           "Mixture18"
          ],
          [
           "kallisto (C-WAP)",
           "Mixture31"
          ],
          [
           "kallisto (C-WAP)",
           "Mixture37"
          ],
          [
           "kallisto (C-WAP)",
           "Mixture01"
          ],
          [
           "kallisto (C-WAP)",
           "Mixture02"
          ],
          [
           "kallisto (C-WAP)",
           "Mixture04"
          ],
          [
           "kallisto (C-WAP)",
           "Mixture06"
          ],
          [
           "kallisto (C-WAP)",
           "Mixture07"
          ],
          [
           "kallisto (C-WAP)",
           "Mixture17"
          ],
          [
           "kallisto (C-WAP)",
           "Mixture31"
          ],
          [
           "kallisto (C-WAP)",
           "Mixture32"
          ],
          [
           "kallisto (C-WAP)",
           "Mixture36"
          ],
          [
           "kallisto (C-WAP)",
           "Mixture01"
          ],
          [
           "kallisto (C-WAP)",
           "Mixture02"
          ],
          [
           "kallisto (C-WAP)",
           "Mixture04"
          ],
          [
           "kallisto (C-WAP)",
           "Mixture06"
          ],
          [
           "kallisto (C-WAP)",
           "Mixture08"
          ],
          [
           "kallisto (C-WAP)",
           "Mixture10"
          ],
          [
           "kallisto (C-WAP)",
           "Mixture19"
          ],
          [
           "kallisto (C-WAP)",
           "Mixture31"
          ],
          [
           "kallisto (C-WAP)",
           "Mixture32"
          ],
          [
           "kallisto (C-WAP)",
           "Mixture38"
          ],
          [
           "kallisto (C-WAP)",
           "Mixture01"
          ],
          [
           "kallisto (C-WAP)",
           "Mixture03"
          ],
          [
           "kallisto (C-WAP)",
           "Mixture04"
          ],
          [
           "kallisto (C-WAP)",
           "Mixture06"
          ],
          [
           "kallisto (C-WAP)",
           "Mixture08"
          ],
          [
           "kallisto (C-WAP)",
           "Mixture10"
          ],
          [
           "kallisto (C-WAP)",
           "Mixture20"
          ],
          [
           "kallisto (C-WAP)",
           "Mixture28"
          ],
          [
           "kallisto (C-WAP)",
           "Mixture29"
          ],
          [
           "kallisto (C-WAP)",
           "Mixture30"
          ],
          [
           "kallisto (C-WAP)",
           "Mixture32"
          ],
          [
           "kallisto (C-WAP)",
           "Mixture39"
          ],
          [
           "kallisto (C-WAP)",
           "Mixture01"
          ],
          [
           "kallisto (C-WAP)",
           "Mixture03"
          ],
          [
           "kallisto (C-WAP)",
           "Mixture05"
          ],
          [
           "kallisto (C-WAP)",
           "Mixture07"
          ],
          [
           "kallisto (C-WAP)",
           "Mixture08"
          ],
          [
           "kallisto (C-WAP)",
           "Mixture13"
          ],
          [
           "kallisto (C-WAP)",
           "Mixture26"
          ],
          [
           "kallisto (C-WAP)",
           "Mixture27"
          ],
          [
           "kallisto (C-WAP)",
           "Mixture29"
          ],
          [
           "kallisto (C-WAP)",
           "Mixture30"
          ],
          [
           "kallisto (C-WAP)",
           "Mixture32"
          ],
          [
           "kallisto (C-WAP)",
           "Mixture42"
          ],
          [
           "kallisto (C-WAP)",
           "Mixture01"
          ],
          [
           "kallisto (C-WAP)",
           "Mixture03"
          ],
          [
           "kallisto (C-WAP)",
           "Mixture05"
          ],
          [
           "kallisto (C-WAP)",
           "Mixture07"
          ],
          [
           "kallisto (C-WAP)",
           "Mixture08"
          ],
          [
           "kallisto (C-WAP)",
           "Mixture12"
          ],
          [
           "kallisto (C-WAP)",
           "Mixture24"
          ],
          [
           "kallisto (C-WAP)",
           "Mixture25"
          ],
          [
           "kallisto (C-WAP)",
           "Mixture29"
          ],
          [
           "kallisto (C-WAP)",
           "Mixture30"
          ],
          [
           "kallisto (C-WAP)",
           "Mixture32"
          ],
          [
           "kallisto (C-WAP)",
           "Mixture41"
          ]
         ],
         "hovertemplate": "Scheme=%{customdata[0]}<br>Lineages=%{x}<br>Percent of expected abundance=%{y}<br>Sample name=%{customdata[1]}<extra></extra>",
         "legendgroup": "kallisto (C-WAP)",
         "marker": {
          "color": "#EF553B"
         },
         "name": "kallisto (C-WAP)",
         "notched": false,
         "offsetgroup": "kallisto (C-WAP)",
         "orientation": "v",
         "showlegend": true,
         "type": "box",
         "x": [
          "Wuhan-hu-1",
          "Wuhan-hu-1",
          "Wuhan-hu-1",
          "Wuhan-hu-1",
          "Wuhan-hu-1",
          "Wuhan-hu-1",
          "Wuhan-hu-1",
          "Wuhan-hu-1",
          "Wuhan-hu-1",
          "Wuhan-hu-1",
          "Alpha",
          "Alpha",
          "Alpha",
          "Alpha",
          "Alpha",
          "Alpha",
          "Alpha",
          "Alpha",
          "Alpha",
          "Gamma",
          "Gamma",
          "Gamma",
          "Gamma",
          "Gamma",
          "Gamma",
          "Gamma",
          "Gamma",
          "Delta",
          "Delta",
          "Delta",
          "Delta",
          "Delta",
          "Delta",
          "Iota",
          "Iota",
          "Iota",
          "Iota",
          "Iota",
          "Iota",
          "Iota",
          "Iota",
          "Iota",
          "BA.1.X",
          "BA.1.X",
          "BA.1.X",
          "BA.1.X",
          "BA.1.X",
          "BA.1.X",
          "BA.1.X",
          "BA.1.X",
          "BA.1.X",
          "BA.1.X",
          "BA.2.X",
          "BA.2.X",
          "BA.2.X",
          "BA.2.X",
          "BA.2.X",
          "BA.2.X",
          "BA.2.X",
          "BA.2.X",
          "BA.2.X",
          "BA.2.X",
          "BA.2.X",
          "BA.2.X",
          "BA.4.X",
          "BA.4.X",
          "BA.4.X",
          "BA.4.X",
          "BA.4.X",
          "BA.4.X",
          "BA.4.X",
          "BA.4.X",
          "BA.4.X",
          "BA.4.X",
          "BA.4.X",
          "BA.4.X",
          "BA.5.X",
          "BA.5.X",
          "BA.5.X",
          "BA.5.X",
          "BA.5.X",
          "BA.5.X",
          "BA.5.X",
          "BA.5.X",
          "BA.5.X",
          "BA.5.X",
          "BA.5.X",
          "BA.5.X"
         ],
         "x0": " ",
         "xaxis": "x",
         "y": [
          138,
          170,
          156.8,
          110.93333333333332,
          89.5,
          89.3,
          89.2,
          158.2,
          144,
          89.5,
          53.99999999999999,
          47.599999999999994,
          51.2,
          72,
          54.39999999999999,
          64.2,
          56.699999999999996,
          44.800000000000004,
          64.7,
          45,
          35.199999999999996,
          51.733333333333334,
          44.800000000000004,
          59.199999999999996,
          81.10000000000001,
          46.9,
          82.19999999999999,
          48.00000000000001,
          53.333333333333336,
          70.4,
          59.4,
          46.199999999999996,
          58.5,
          82.5,
          125.6,
          96,
          145.6,
          96,
          87,
          91.69999999999999,
          85.6,
          87.4,
          84.00000000000001,
          54.400000000000006,
          78.93333333333334,
          88.53333333333335,
          62.8,
          57.86666666666667,
          90.3,
          62.999999999999986,
          63.2,
          91.60000000000001,
          156.75,
          150.8,
          77.75999999999999,
          171.73333333333332,
          137.6,
          93.76,
          79.5,
          80,
          148,
          148.79999999999998,
          140,
          79.9,
          187.5,
          211.19999999999996,
          150.93333333333334,
          156.80000000000004,
          224.8,
          87.6,
          88.6,
          91,
          188,
          171.2,
          193.6,
          91.3,
          45,
          43.52,
          30,
          35.733333333333334,
          45.599999999999994,
          79.89999999999999,
          82.1,
          74.8,
          31.6,
          47.199999999999996,
          50.4,
          75.9
         ],
         "y0": " ",
         "yaxis": "y"
        },
        {
         "alignmentgroup": "True",
         "boxpoints": "all",
         "customdata": [
          [
           "kallisto",
           "Mixture02"
          ],
          [
           "kallisto",
           "Mixture05"
          ],
          [
           "kallisto",
           "Mixture09"
          ],
          [
           "kallisto",
           "Mixture14"
          ],
          [
           "kallisto",
           "Mixture21"
          ],
          [
           "kallisto",
           "Mixture31"
          ],
          [
           "kallisto",
           "Mixture33"
          ],
          [
           "kallisto",
           "Mixture01"
          ],
          [
           "kallisto",
           "Mixture02"
          ],
          [
           "kallisto",
           "Mixture04"
          ],
          [
           "kallisto",
           "Mixture06"
          ],
          [
           "kallisto",
           "Mixture07"
          ],
          [
           "kallisto",
           "Mixture15"
          ],
          [
           "kallisto",
           "Mixture31"
          ],
          [
           "kallisto",
           "Mixture32"
          ],
          [
           "kallisto",
           "Mixture34"
          ],
          [
           "kallisto",
           "Mixture01"
          ],
          [
           "kallisto",
           "Mixture02"
          ],
          [
           "kallisto",
           "Mixture04"
          ],
          [
           "kallisto",
           "Mixture06"
          ],
          [
           "kallisto",
           "Mixture07"
          ],
          [
           "kallisto",
           "Mixture16"
          ],
          [
           "kallisto",
           "Mixture31"
          ],
          [
           "kallisto",
           "Mixture35"
          ],
          [
           "kallisto",
           "Mixture01"
          ],
          [
           "kallisto",
           "Mixture02"
          ],
          [
           "kallisto",
           "Mixture06"
          ],
          [
           "kallisto",
           "Mixture18"
          ],
          [
           "kallisto",
           "Mixture31"
          ],
          [
           "kallisto",
           "Mixture37"
          ],
          [
           "kallisto",
           "Mixture01"
          ],
          [
           "kallisto",
           "Mixture02"
          ],
          [
           "kallisto",
           "Mixture04"
          ],
          [
           "kallisto",
           "Mixture06"
          ],
          [
           "kallisto",
           "Mixture07"
          ],
          [
           "kallisto",
           "Mixture17"
          ],
          [
           "kallisto",
           "Mixture31"
          ],
          [
           "kallisto",
           "Mixture32"
          ],
          [
           "kallisto",
           "Mixture36"
          ],
          [
           "kallisto",
           "Mixture01"
          ],
          [
           "kallisto",
           "Mixture02"
          ],
          [
           "kallisto",
           "Mixture04"
          ],
          [
           "kallisto",
           "Mixture06"
          ],
          [
           "kallisto",
           "Mixture08"
          ],
          [
           "kallisto",
           "Mixture10"
          ],
          [
           "kallisto",
           "Mixture19"
          ],
          [
           "kallisto",
           "Mixture31"
          ],
          [
           "kallisto",
           "Mixture32"
          ],
          [
           "kallisto",
           "Mixture38"
          ],
          [
           "kallisto",
           "Mixture01"
          ],
          [
           "kallisto",
           "Mixture03"
          ],
          [
           "kallisto",
           "Mixture04"
          ],
          [
           "kallisto",
           "Mixture06"
          ],
          [
           "kallisto",
           "Mixture08"
          ],
          [
           "kallisto",
           "Mixture10"
          ],
          [
           "kallisto",
           "Mixture20"
          ],
          [
           "kallisto",
           "Mixture28"
          ],
          [
           "kallisto",
           "Mixture29"
          ],
          [
           "kallisto",
           "Mixture30"
          ],
          [
           "kallisto",
           "Mixture32"
          ],
          [
           "kallisto",
           "Mixture39"
          ],
          [
           "kallisto",
           "Mixture01"
          ],
          [
           "kallisto",
           "Mixture03"
          ],
          [
           "kallisto",
           "Mixture05"
          ],
          [
           "kallisto",
           "Mixture06"
          ],
          [
           "kallisto",
           "Mixture07"
          ],
          [
           "kallisto",
           "Mixture08"
          ],
          [
           "kallisto",
           "Mixture11"
          ],
          [
           "kallisto",
           "Mixture22"
          ],
          [
           "kallisto",
           "Mixture23"
          ],
          [
           "kallisto",
           "Mixture29"
          ],
          [
           "kallisto",
           "Mixture30"
          ],
          [
           "kallisto",
           "Mixture32"
          ],
          [
           "kallisto",
           "Mixture40"
          ],
          [
           "kallisto",
           "Mixture01"
          ],
          [
           "kallisto",
           "Mixture03"
          ],
          [
           "kallisto",
           "Mixture05"
          ],
          [
           "kallisto",
           "Mixture07"
          ],
          [
           "kallisto",
           "Mixture08"
          ],
          [
           "kallisto",
           "Mixture13"
          ],
          [
           "kallisto",
           "Mixture26"
          ],
          [
           "kallisto",
           "Mixture27"
          ],
          [
           "kallisto",
           "Mixture29"
          ],
          [
           "kallisto",
           "Mixture30"
          ],
          [
           "kallisto",
           "Mixture32"
          ],
          [
           "kallisto",
           "Mixture42"
          ],
          [
           "kallisto",
           "Mixture01"
          ],
          [
           "kallisto",
           "Mixture03"
          ],
          [
           "kallisto",
           "Mixture05"
          ],
          [
           "kallisto",
           "Mixture07"
          ],
          [
           "kallisto",
           "Mixture08"
          ],
          [
           "kallisto",
           "Mixture12"
          ],
          [
           "kallisto",
           "Mixture24"
          ],
          [
           "kallisto",
           "Mixture25"
          ],
          [
           "kallisto",
           "Mixture29"
          ],
          [
           "kallisto",
           "Mixture30"
          ],
          [
           "kallisto",
           "Mixture32"
          ],
          [
           "kallisto",
           "Mixture41"
          ]
         ],
         "hovertemplate": "Scheme=%{customdata[0]}<br>Lineages=%{x}<br>Percent of expected abundance=%{y}<br>Sample name=%{customdata[1]}<extra></extra>",
         "legendgroup": "kallisto",
         "marker": {
          "color": "#00cc96"
         },
         "name": "kallisto",
         "notched": false,
         "offsetgroup": "kallisto",
         "orientation": "v",
         "showlegend": true,
         "type": "box",
         "x": [
          "Wuhan-hu-1",
          "Wuhan-hu-1",
          "Wuhan-hu-1",
          "Wuhan-hu-1",
          "Wuhan-hu-1",
          "Wuhan-hu-1",
          "Wuhan-hu-1",
          "Alpha",
          "Alpha",
          "Alpha",
          "Alpha",
          "Alpha",
          "Alpha",
          "Alpha",
          "Alpha",
          "Alpha",
          "Gamma",
          "Gamma",
          "Gamma",
          "Gamma",
          "Gamma",
          "Gamma",
          "Gamma",
          "Gamma",
          "Delta",
          "Delta",
          "Delta",
          "Delta",
          "Delta",
          "Delta",
          "Iota",
          "Iota",
          "Iota",
          "Iota",
          "Iota",
          "Iota",
          "Iota",
          "Iota",
          "Iota",
          "BA.1.X",
          "BA.1.X",
          "BA.1.X",
          "BA.1.X",
          "BA.1.X",
          "BA.1.X",
          "BA.1.X",
          "BA.1.X",
          "BA.1.X",
          "BA.1.X",
          "BA.2.X",
          "BA.2.X",
          "BA.2.X",
          "BA.2.X",
          "BA.2.X",
          "BA.2.X",
          "BA.2.X",
          "BA.2.X",
          "BA.2.X",
          "BA.2.X",
          "BA.2.X",
          "BA.2.X",
          "BG.X",
          "BG.X",
          "BG.X",
          "BG.X",
          "BG.X",
          "BG.X",
          "BG.X",
          "BG.X",
          "BG.X",
          "BG.X",
          "BG.X",
          "BG.X",
          "BG.X",
          "BA.4.X",
          "BA.4.X",
          "BA.4.X",
          "BA.4.X",
          "BA.4.X",
          "BA.4.X",
          "BA.4.X",
          "BA.4.X",
          "BA.4.X",
          "BA.4.X",
          "BA.4.X",
          "BA.4.X",
          "BA.5.X",
          "BA.5.X",
          "BA.5.X",
          "BA.5.X",
          "BA.5.X",
          "BA.5.X",
          "BA.5.X",
          "BA.5.X",
          "BA.5.X",
          "BA.5.X",
          "BA.5.X",
          "BA.5.X"
         ],
         "x0": " ",
         "xaxis": "x",
         "y": [
          21.279999999999998,
          17.466666666666665,
          30.709999999999997,
          32.35,
          30.65,
          18.095,
          30.64,
          44.25,
          42.559999999999995,
          43.84,
          53.92,
          42.346666666666664,
          63.870000000000005,
          49.209999999999994,
          37.28,
          63.96999999999999,
          50.25000000000001,
          53.279999999999994,
          53.6,
          47.52,
          48.480000000000004,
          71.81,
          55.37,
          71.24999999999999,
          181.19999999999996,
          121.38666666666667,
          114.6133333333333,
          71.03,
          140.20999999999992,
          71.37,
          37.5,
          68.47999999999999,
          49.120000000000005,
          52.959999999999994,
          36.58666666666666,
          48.51,
          50.46999999999999,
          41.28,
          47.71,
          42.75000000000001,
          22.640000000000004,
          43.36,
          49.06666666666668,
          41.96,
          40.74666666666667,
          64.95,
          26.459999999999994,
          35.040000000000006,
          66.53999999999999,
          64.27500000000002,
          55.76,
          35.648,
          59.62666666666669,
          70.32000000000002,
          57.92,
          52.739999999999995,
          53.27,
          63.51999999999999,
          52.480000000000004,
          71.92000000000002,
          54.579999999999984,
          24.9,
          34.239999999999995,
          12.8,
          28.12,
          21.759999999999998,
          39.04,
          53.14,
          50.27,
          52.01,
          40.160000000000004,
          23.359999999999996,
          32.24,
          51.94,
          107.24999999999997,
          133.9733333333333,
          77.75999999999999,
          86.02666666666666,
          99.83999999999999,
          61.180000000000014,
          66.38999999999997,
          59.42000000000001,
          105.88,
          128.04000000000002,
          87.60000000000001,
          59.18,
          103.57499999999997,
          73.056,
          54.15999999999998,
          70.13333333333333,
          86.44000000000001,
          62.44999999999998,
          66.21000000000001,
          55.750000000000014,
          76.07999999999997,
          85.24,
          113.12,
          56.120000000000026
         ],
         "y0": " ",
         "yaxis": "y"
        },
        {
         "alignmentgroup": "True",
         "boxpoints": "all",
         "customdata": [
          [
           "VaQuERo",
           "Mixture02"
          ],
          [
           "VaQuERo",
           "Mixture07"
          ],
          [
           "VaQuERo",
           "Mixture15"
          ],
          [
           "VaQuERo",
           "Mixture31"
          ],
          [
           "VaQuERo",
           "Mixture32"
          ],
          [
           "VaQuERo",
           "Mixture34"
          ],
          [
           "VaQuERo",
           "Mixture04"
          ],
          [
           "VaQuERo",
           "Mixture16"
          ],
          [
           "VaQuERo",
           "Mixture31"
          ],
          [
           "VaQuERo",
           "Mixture35"
          ],
          [
           "VaQuERo",
           "Mixture01"
          ],
          [
           "VaQuERo",
           "Mixture02"
          ],
          [
           "VaQuERo",
           "Mixture06"
          ],
          [
           "VaQuERo",
           "Mixture18"
          ],
          [
           "VaQuERo",
           "Mixture31"
          ],
          [
           "VaQuERo",
           "Mixture37"
          ],
          [
           "VaQuERo",
           "Mixture04"
          ],
          [
           "VaQuERo",
           "Mixture07"
          ],
          [
           "VaQuERo",
           "Mixture17"
          ],
          [
           "VaQuERo",
           "Mixture31"
          ],
          [
           "VaQuERo",
           "Mixture36"
          ],
          [
           "VaQuERo",
           "Mixture04"
          ],
          [
           "VaQuERo",
           "Mixture06"
          ],
          [
           "VaQuERo",
           "Mixture08"
          ],
          [
           "VaQuERo",
           "Mixture10"
          ],
          [
           "VaQuERo",
           "Mixture19"
          ],
          [
           "VaQuERo",
           "Mixture38"
          ],
          [
           "VaQuERo",
           "Mixture01"
          ],
          [
           "VaQuERo",
           "Mixture03"
          ],
          [
           "VaQuERo",
           "Mixture04"
          ],
          [
           "VaQuERo",
           "Mixture06"
          ],
          [
           "VaQuERo",
           "Mixture08"
          ],
          [
           "VaQuERo",
           "Mixture10"
          ],
          [
           "VaQuERo",
           "Mixture20"
          ],
          [
           "VaQuERo",
           "Mixture28"
          ],
          [
           "VaQuERo",
           "Mixture29"
          ],
          [
           "VaQuERo",
           "Mixture30"
          ],
          [
           "VaQuERo",
           "Mixture32"
          ],
          [
           "VaQuERo",
           "Mixture39"
          ],
          [
           "VaQuERo",
           "Mixture01"
          ],
          [
           "VaQuERo",
           "Mixture03"
          ],
          [
           "VaQuERo",
           "Mixture05"
          ],
          [
           "VaQuERo",
           "Mixture06"
          ],
          [
           "VaQuERo",
           "Mixture07"
          ],
          [
           "VaQuERo",
           "Mixture08"
          ],
          [
           "VaQuERo",
           "Mixture11"
          ],
          [
           "VaQuERo",
           "Mixture22"
          ],
          [
           "VaQuERo",
           "Mixture23"
          ],
          [
           "VaQuERo",
           "Mixture29"
          ],
          [
           "VaQuERo",
           "Mixture30"
          ],
          [
           "VaQuERo",
           "Mixture32"
          ],
          [
           "VaQuERo",
           "Mixture40"
          ],
          [
           "VaQuERo",
           "Mixture01"
          ],
          [
           "VaQuERo",
           "Mixture03"
          ],
          [
           "VaQuERo",
           "Mixture05"
          ],
          [
           "VaQuERo",
           "Mixture07"
          ],
          [
           "VaQuERo",
           "Mixture08"
          ],
          [
           "VaQuERo",
           "Mixture13"
          ],
          [
           "VaQuERo",
           "Mixture26"
          ],
          [
           "VaQuERo",
           "Mixture27"
          ],
          [
           "VaQuERo",
           "Mixture29"
          ],
          [
           "VaQuERo",
           "Mixture30"
          ],
          [
           "VaQuERo",
           "Mixture32"
          ],
          [
           "VaQuERo",
           "Mixture42"
          ],
          [
           "VaQuERo",
           "Mixture01"
          ],
          [
           "VaQuERo",
           "Mixture03"
          ],
          [
           "VaQuERo",
           "Mixture05"
          ],
          [
           "VaQuERo",
           "Mixture07"
          ],
          [
           "VaQuERo",
           "Mixture08"
          ],
          [
           "VaQuERo",
           "Mixture12"
          ],
          [
           "VaQuERo",
           "Mixture24"
          ],
          [
           "VaQuERo",
           "Mixture25"
          ],
          [
           "VaQuERo",
           "Mixture29"
          ],
          [
           "VaQuERo",
           "Mixture30"
          ],
          [
           "VaQuERo",
           "Mixture32"
          ],
          [
           "VaQuERo",
           "Mixture41"
          ]
         ],
         "hovertemplate": "Scheme=%{customdata[0]}<br>Lineages=%{x}<br>Percent of expected abundance=%{y}<br>Sample name=%{customdata[1]}<extra></extra>",
         "legendgroup": "VaQuERo",
         "marker": {
          "color": "#ab63fa"
         },
         "name": "VaQuERo",
         "notched": false,
         "offsetgroup": "VaQuERo",
         "orientation": "v",
         "showlegend": true,
         "type": "box",
         "x": [
          "Alpha",
          "Alpha",
          "Alpha",
          "Alpha",
          "Alpha",
          "Alpha",
          "Gamma",
          "Gamma",
          "Gamma",
          "Gamma",
          "Delta",
          "Delta",
          "Delta",
          "Delta",
          "Delta",
          "Delta",
          "Iota",
          "Iota",
          "Iota",
          "Iota",
          "Iota",
          "BA.1.X",
          "BA.1.X",
          "BA.1.X",
          "BA.1.X",
          "BA.1.X",
          "BA.1.X",
          "BA.2.X",
          "BA.2.X",
          "BA.2.X",
          "BA.2.X",
          "BA.2.X",
          "BA.2.X",
          "BA.2.X",
          "BA.2.X",
          "BA.2.X",
          "BA.2.X",
          "BA.2.X",
          "BA.2.X",
          "BG.X",
          "BG.X",
          "BG.X",
          "BG.X",
          "BG.X",
          "BG.X",
          "BG.X",
          "BG.X",
          "BG.X",
          "BG.X",
          "BG.X",
          "BG.X",
          "BG.X",
          "BA.4.X",
          "BA.4.X",
          "BA.4.X",
          "BA.4.X",
          "BA.4.X",
          "BA.4.X",
          "BA.4.X",
          "BA.4.X",
          "BA.4.X",
          "BA.4.X",
          "BA.4.X",
          "BA.4.X",
          "BA.5.X",
          "BA.5.X",
          "BA.5.X",
          "BA.5.X",
          "BA.5.X",
          "BA.5.X",
          "BA.5.X",
          "BA.5.X",
          "BA.5.X",
          "BA.5.X",
          "BA.5.X",
          "BA.5.X"
         ],
         "x0": " ",
         "xaxis": "x",
         "y": [
          87.2,
          86.66666666666667,
          89.74,
          77.83999999999999,
          113.68,
          89.84,
          69.22666666666667,
          89.19,
          60.26999999999999,
          89.62,
          164.4,
          113.54666666666667,
          117.54666666666667,
          87.92999999999999,
          78.74999999999999,
          87.57000000000001,
          99.2,
          92.64,
          84.61,
          105.28,
          84.3,
          66.61333333333333,
          78.02666666666667,
          54.120000000000005,
          56.85333333333333,
          80.24,
          82.69,
          99.075,
          69,
          93.696,
          104.16000000000001,
          100.88,
          105.28,
          87.37,
          87.71,
          86.72,
          83.28,
          32.879999999999995,
          87.62,
          75.675,
          65.4,
          45.333333333333336,
          64.92,
          73.28,
          62.8,
          86.61999999999999,
          86.94,
          86.42999999999999,
          67.64,
          57.76,
          101.6,
          85.55,
          149.10000000000002,
          146.50666666666666,
          149.38666666666666,
          154.13333333333333,
          147.84,
          87.33999999999999,
          87.67,
          87.33999999999999,
          136.24,
          144.76,
          166.24,
          87.62,
          72.6,
          93.184,
          46.96,
          55.78666666666666,
          94.6,
          85.55,
          86.42,
          89.23,
          72.92,
          74.68,
          62.96000000000001,
          89.01
         ],
         "y0": " ",
         "yaxis": "y"
        },
        {
         "alignmentgroup": "True",
         "boxpoints": "all",
         "customdata": [
          [
           "LCS",
           "Mixture01"
          ],
          [
           "LCS",
           "Mixture02"
          ],
          [
           "LCS",
           "Mixture04"
          ],
          [
           "LCS",
           "Mixture06"
          ],
          [
           "LCS",
           "Mixture07"
          ],
          [
           "LCS",
           "Mixture15"
          ],
          [
           "LCS",
           "Mixture31"
          ],
          [
           "LCS",
           "Mixture32"
          ],
          [
           "LCS",
           "Mixture34"
          ],
          [
           "LCS",
           "Mixture01"
          ],
          [
           "LCS",
           "Mixture02"
          ],
          [
           "LCS",
           "Mixture04"
          ],
          [
           "LCS",
           "Mixture06"
          ],
          [
           "LCS",
           "Mixture07"
          ],
          [
           "LCS",
           "Mixture16"
          ],
          [
           "LCS",
           "Mixture31"
          ],
          [
           "LCS",
           "Mixture35"
          ],
          [
           "LCS",
           "Mixture01"
          ],
          [
           "LCS",
           "Mixture02"
          ],
          [
           "LCS",
           "Mixture06"
          ],
          [
           "LCS",
           "Mixture18"
          ],
          [
           "LCS",
           "Mixture31"
          ],
          [
           "LCS",
           "Mixture37"
          ],
          [
           "LCS",
           "Mixture01"
          ],
          [
           "LCS",
           "Mixture02"
          ],
          [
           "LCS",
           "Mixture04"
          ],
          [
           "LCS",
           "Mixture06"
          ],
          [
           "LCS",
           "Mixture07"
          ],
          [
           "LCS",
           "Mixture17"
          ],
          [
           "LCS",
           "Mixture31"
          ],
          [
           "LCS",
           "Mixture32"
          ],
          [
           "LCS",
           "Mixture36"
          ],
          [
           "LCS",
           "Mixture01"
          ],
          [
           "LCS",
           "Mixture02"
          ],
          [
           "LCS",
           "Mixture04"
          ],
          [
           "LCS",
           "Mixture06"
          ],
          [
           "LCS",
           "Mixture08"
          ],
          [
           "LCS",
           "Mixture10"
          ],
          [
           "LCS",
           "Mixture19"
          ],
          [
           "LCS",
           "Mixture31"
          ],
          [
           "LCS",
           "Mixture32"
          ],
          [
           "LCS",
           "Mixture38"
          ],
          [
           "LCS",
           "Mixture01"
          ],
          [
           "LCS",
           "Mixture03"
          ],
          [
           "LCS",
           "Mixture04"
          ],
          [
           "LCS",
           "Mixture06"
          ],
          [
           "LCS",
           "Mixture08"
          ],
          [
           "LCS",
           "Mixture10"
          ],
          [
           "LCS",
           "Mixture20"
          ],
          [
           "LCS",
           "Mixture28"
          ],
          [
           "LCS",
           "Mixture29"
          ],
          [
           "LCS",
           "Mixture30"
          ],
          [
           "LCS",
           "Mixture32"
          ],
          [
           "LCS",
           "Mixture39"
          ],
          [
           "LCS",
           "Mixture01"
          ],
          [
           "LCS",
           "Mixture03"
          ],
          [
           "LCS",
           "Mixture05"
          ],
          [
           "LCS",
           "Mixture06"
          ],
          [
           "LCS",
           "Mixture07"
          ],
          [
           "LCS",
           "Mixture08"
          ],
          [
           "LCS",
           "Mixture11"
          ],
          [
           "LCS",
           "Mixture22"
          ],
          [
           "LCS",
           "Mixture23"
          ],
          [
           "LCS",
           "Mixture29"
          ],
          [
           "LCS",
           "Mixture30"
          ],
          [
           "LCS",
           "Mixture32"
          ],
          [
           "LCS",
           "Mixture40"
          ],
          [
           "LCS",
           "Mixture01"
          ],
          [
           "LCS",
           "Mixture03"
          ],
          [
           "LCS",
           "Mixture05"
          ],
          [
           "LCS",
           "Mixture07"
          ],
          [
           "LCS",
           "Mixture08"
          ],
          [
           "LCS",
           "Mixture13"
          ],
          [
           "LCS",
           "Mixture26"
          ],
          [
           "LCS",
           "Mixture27"
          ],
          [
           "LCS",
           "Mixture29"
          ],
          [
           "LCS",
           "Mixture30"
          ],
          [
           "LCS",
           "Mixture32"
          ],
          [
           "LCS",
           "Mixture42"
          ],
          [
           "LCS",
           "Mixture01"
          ],
          [
           "LCS",
           "Mixture03"
          ],
          [
           "LCS",
           "Mixture05"
          ],
          [
           "LCS",
           "Mixture08"
          ],
          [
           "LCS",
           "Mixture12"
          ],
          [
           "LCS",
           "Mixture24"
          ],
          [
           "LCS",
           "Mixture25"
          ],
          [
           "LCS",
           "Mixture29"
          ],
          [
           "LCS",
           "Mixture30"
          ],
          [
           "LCS",
           "Mixture32"
          ],
          [
           "LCS",
           "Mixture41"
          ]
         ],
         "hovertemplate": "Scheme=%{customdata[0]}<br>Lineages=%{x}<br>Percent of expected abundance=%{y}<br>Sample name=%{customdata[1]}<extra></extra>",
         "legendgroup": "LCS",
         "marker": {
          "color": "#FFA15A"
         },
         "name": "LCS",
         "notched": false,
         "offsetgroup": "LCS",
         "orientation": "v",
         "showlegend": true,
         "type": "box",
         "x": [
          "Alpha",
          "Alpha",
          "Alpha",
          "Alpha",
          "Alpha",
          "Alpha",
          "Alpha",
          "Alpha",
          "Alpha",
          "Gamma",
          "Gamma",
          "Gamma",
          "Gamma",
          "Gamma",
          "Gamma",
          "Gamma",
          "Gamma",
          "Delta",
          "Delta",
          "Delta",
          "Delta",
          "Delta",
          "Delta",
          "Iota",
          "Iota",
          "Iota",
          "Iota",
          "Iota",
          "Iota",
          "Iota",
          "Iota",
          "Iota",
          "BA.1.X",
          "BA.1.X",
          "BA.1.X",
          "BA.1.X",
          "BA.1.X",
          "BA.1.X",
          "BA.1.X",
          "BA.1.X",
          "BA.1.X",
          "BA.1.X",
          "BA.2.X",
          "BA.2.X",
          "BA.2.X",
          "BA.2.X",
          "BA.2.X",
          "BA.2.X",
          "BA.2.X",
          "BA.2.X",
          "BA.2.X",
          "BA.2.X",
          "BA.2.X",
          "BA.2.X",
          "BG.X",
          "BG.X",
          "BG.X",
          "BG.X",
          "BG.X",
          "BG.X",
          "BG.X",
          "BG.X",
          "BG.X",
          "BG.X",
          "BG.X",
          "BG.X",
          "BG.X",
          "BA.4.X",
          "BA.4.X",
          "BA.4.X",
          "BA.4.X",
          "BA.4.X",
          "BA.4.X",
          "BA.4.X",
          "BA.4.X",
          "BA.4.X",
          "BA.4.X",
          "BA.4.X",
          "BA.4.X",
          "BA.5.X",
          "BA.5.X",
          "BA.5.X",
          "BA.5.X",
          "BA.5.X",
          "BA.5.X",
          "BA.5.X",
          "BA.5.X",
          "BA.5.X",
          "BA.5.X",
          "BA.5.X"
         ],
         "x0": " ",
         "xaxis": "x",
         "y": [
          83.39999999999999,
          77.96,
          69.6,
          89.28,
          72.63999999999999,
          97.74000000000001,
          93.51999999999998,
          55.04,
          96.83,
          27.3,
          47.68,
          58.720000000000006,
          31.840000000000003,
          43.04,
          98.42,
          56.83999999999999,
          97.91,
          46.2,
          57.86666666666667,
          36.10666666666666,
          58.93000000000001,
          57.68,
          68.17999999999999,
          21.750000000000004,
          137.12,
          24.240000000000002,
          126.88,
          68.80000000000001,
          54.790000000000006,
          142.44999999999996,
          110.08,
          53.849999999999994,
          49.50000000000001,
          41.44,
          80.85333333333334,
          80.96,
          62.68,
          66.61333333333333,
          94.78,
          44.589999999999996,
          55.92,
          94.19,
          31.35,
          33.44,
          57.984,
          54.82666666666667,
          82.72,
          107.31199999999998,
          91.73,
          79.67,
          85.76,
          91.24,
          3.6799999999999997,
          95.48,
          50.62500000000001,
          83.08,
          34.026666666666664,
          59.519999999999996,
          43.120000000000005,
          64.08,
          83.58,
          95.64,
          93.61,
          55.279999999999994,
          50.03999999999999,
          50.160000000000004,
          91.31,
          151.8,
          277.28000000000003,
          166.50666666666666,
          141.81333333333333,
          261.2,
          92.83,
          93,
          95.59,
          212.84,
          157.8,
          178.88,
          97.03,
          1.875,
          50.59199999999999,
          8.76,
          45.64,
          96.46000000000001,
          93.05,
          94.72,
          21.72,
          89.96,
          11.04,
          76.75999999999999
         ],
         "y0": " ",
         "yaxis": "y"
        },
        {
         "alignmentgroup": "True",
         "boxpoints": "all",
         "customdata": [
          [
           "LolliPop",
           "Mixture01"
          ],
          [
           "LolliPop",
           "Mixture02"
          ],
          [
           "LolliPop",
           "Mixture04"
          ],
          [
           "LolliPop",
           "Mixture06"
          ],
          [
           "LolliPop",
           "Mixture07"
          ],
          [
           "LolliPop",
           "Mixture15"
          ],
          [
           "LolliPop",
           "Mixture31"
          ],
          [
           "LolliPop",
           "Mixture32"
          ],
          [
           "LolliPop",
           "Mixture34"
          ],
          [
           "LolliPop",
           "Mixture01"
          ],
          [
           "LolliPop",
           "Mixture02"
          ],
          [
           "LolliPop",
           "Mixture04"
          ],
          [
           "LolliPop",
           "Mixture06"
          ],
          [
           "LolliPop",
           "Mixture07"
          ],
          [
           "LolliPop",
           "Mixture16"
          ],
          [
           "LolliPop",
           "Mixture31"
          ],
          [
           "LolliPop",
           "Mixture35"
          ],
          [
           "LolliPop",
           "Mixture01"
          ],
          [
           "LolliPop",
           "Mixture02"
          ],
          [
           "LolliPop",
           "Mixture06"
          ],
          [
           "LolliPop",
           "Mixture18"
          ],
          [
           "LolliPop",
           "Mixture31"
          ],
          [
           "LolliPop",
           "Mixture37"
          ],
          [
           "LolliPop",
           "Mixture01"
          ],
          [
           "LolliPop",
           "Mixture02"
          ],
          [
           "LolliPop",
           "Mixture04"
          ],
          [
           "LolliPop",
           "Mixture06"
          ],
          [
           "LolliPop",
           "Mixture08"
          ],
          [
           "LolliPop",
           "Mixture10"
          ],
          [
           "LolliPop",
           "Mixture19"
          ],
          [
           "LolliPop",
           "Mixture31"
          ],
          [
           "LolliPop",
           "Mixture32"
          ],
          [
           "LolliPop",
           "Mixture38"
          ],
          [
           "LolliPop",
           "Mixture01"
          ],
          [
           "LolliPop",
           "Mixture03"
          ],
          [
           "LolliPop",
           "Mixture04"
          ],
          [
           "LolliPop",
           "Mixture06"
          ],
          [
           "LolliPop",
           "Mixture08"
          ],
          [
           "LolliPop",
           "Mixture10"
          ],
          [
           "LolliPop",
           "Mixture20"
          ],
          [
           "LolliPop",
           "Mixture28"
          ],
          [
           "LolliPop",
           "Mixture29"
          ],
          [
           "LolliPop",
           "Mixture30"
          ],
          [
           "LolliPop",
           "Mixture32"
          ],
          [
           "LolliPop",
           "Mixture39"
          ],
          [
           "LolliPop",
           "Mixture01"
          ],
          [
           "LolliPop",
           "Mixture03"
          ],
          [
           "LolliPop",
           "Mixture05"
          ],
          [
           "LolliPop",
           "Mixture07"
          ],
          [
           "LolliPop",
           "Mixture08"
          ],
          [
           "LolliPop",
           "Mixture13"
          ],
          [
           "LolliPop",
           "Mixture26"
          ],
          [
           "LolliPop",
           "Mixture27"
          ],
          [
           "LolliPop",
           "Mixture29"
          ],
          [
           "LolliPop",
           "Mixture30"
          ],
          [
           "LolliPop",
           "Mixture32"
          ],
          [
           "LolliPop",
           "Mixture42"
          ],
          [
           "LolliPop",
           "Mixture01"
          ],
          [
           "LolliPop",
           "Mixture03"
          ],
          [
           "LolliPop",
           "Mixture05"
          ],
          [
           "LolliPop",
           "Mixture07"
          ],
          [
           "LolliPop",
           "Mixture08"
          ],
          [
           "LolliPop",
           "Mixture12"
          ],
          [
           "LolliPop",
           "Mixture24"
          ],
          [
           "LolliPop",
           "Mixture25"
          ],
          [
           "LolliPop",
           "Mixture29"
          ],
          [
           "LolliPop",
           "Mixture30"
          ],
          [
           "LolliPop",
           "Mixture32"
          ],
          [
           "LolliPop",
           "Mixture41"
          ]
         ],
         "hovertemplate": "Scheme=%{customdata[0]}<br>Lineages=%{x}<br>Percent of expected abundance=%{y}<br>Sample name=%{customdata[1]}<extra></extra>",
         "legendgroup": "LolliPop",
         "marker": {
          "color": "#19d3f3"
         },
         "name": "LolliPop",
         "notched": false,
         "offsetgroup": "LolliPop",
         "orientation": "v",
         "showlegend": true,
         "type": "box",
         "x": [
          "Alpha",
          "Alpha",
          "Alpha",
          "Alpha",
          "Alpha",
          "Alpha",
          "Alpha",
          "Alpha",
          "Alpha",
          "Gamma",
          "Gamma",
          "Gamma",
          "Gamma",
          "Gamma",
          "Gamma",
          "Gamma",
          "Gamma",
          "Delta",
          "Delta",
          "Delta",
          "Delta",
          "Delta",
          "Delta",
          "BA.1.X",
          "BA.1.X",
          "BA.1.X",
          "BA.1.X",
          "BA.1.X",
          "BA.1.X",
          "BA.1.X",
          "BA.1.X",
          "BA.1.X",
          "BA.1.X",
          "BA.2.X",
          "BA.2.X",
          "BA.2.X",
          "BA.2.X",
          "BA.2.X",
          "BA.2.X",
          "BA.2.X",
          "BA.2.X",
          "BA.2.X",
          "BA.2.X",
          "BA.2.X",
          "BA.2.X",
          "BA.4.X",
          "BA.4.X",
          "BA.4.X",
          "BA.4.X",
          "BA.4.X",
          "BA.4.X",
          "BA.4.X",
          "BA.4.X",
          "BA.4.X",
          "BA.4.X",
          "BA.4.X",
          "BA.4.X",
          "BA.5.X",
          "BA.5.X",
          "BA.5.X",
          "BA.5.X",
          "BA.5.X",
          "BA.5.X",
          "BA.5.X",
          "BA.5.X",
          "BA.5.X",
          "BA.5.X",
          "BA.5.X",
          "BA.5.X"
         ],
         "x0": " ",
         "xaxis": "x",
         "y": [
          72.6,
          70.6,
          67.52,
          96.96000000000001,
          72.32,
          88.48,
          89.17999999999999,
          61.68,
          87.48,
          62.4,
          52.16,
          68.58666666666666,
          61.760000000000005,
          62.32,
          91.12,
          68.80999999999999,
          91.56,
          73.2,
          97.06666666666666,
          94.18666666666667,
          90.6,
          86.1,
          90.86000000000001,
          44.55,
          39.839999999999996,
          62.08,
          58.02666666666666,
          52.64,
          51.413333333333334,
          79.16,
          46.9,
          40.64,
          82.25,
          242.85000000000002,
          159.72000000000003,
          96.99199999999999,
          186.13333333333333,
          158.6,
          88.75200000000001,
          74.2,
          79.38,
          186,
          157.16000000000003,
          282,
          79.36000000000001,
          155.25,
          126.77333333333334,
          160.00000000000003,
          144.8,
          132.88000000000002,
          52.88,
          62.93,
          59.07,
          108.72,
          102,
          157.20000000000002,
          56.31,
          82.5,
          74.656,
          52.959999999999994,
          59.94666666666667,
          68.2,
          85.66,
          90.25999999999999,
          77.06,
          50.4,
          72.52,
          78.56,
          77.71000000000001
         ],
         "y0": " ",
         "yaxis": "y"
        },
        {
         "alignmentgroup": "True",
         "boxpoints": "all",
         "customdata": [
          [
           "lineagespot",
           "Mixture15"
          ],
          [
           "lineagespot",
           "Mixture34"
          ],
          [
           "lineagespot",
           "Mixture35"
          ],
          [
           "lineagespot",
           "Mixture18"
          ],
          [
           "lineagespot",
           "Mixture37"
          ]
         ],
         "hovertemplate": "Scheme=%{customdata[0]}<br>Lineages=%{x}<br>Percent of expected abundance=%{y}<br>Sample name=%{customdata[1]}<extra></extra>",
         "legendgroup": "lineagespot",
         "marker": {
          "color": "#FF6692"
         },
         "name": "lineagespot",
         "notched": false,
         "offsetgroup": "lineagespot",
         "orientation": "v",
         "showlegend": true,
         "type": "box",
         "x": [
          "Alpha",
          "Alpha",
          "Gamma",
          "Delta",
          "Delta"
         ],
         "x0": " ",
         "xaxis": "x",
         "y": [
          17.79,
          8.89,
          13.459999999999999,
          17.89,
          3.45
         ],
         "y0": " ",
         "yaxis": "y"
        },
        {
         "alignmentgroup": "True",
         "boxpoints": "all",
         "customdata": [
          [
           "Kraken 2 (C-WAP)",
           "Mixture01"
          ],
          [
           "Kraken 2 (C-WAP)",
           "Mixture02"
          ],
          [
           "Kraken 2 (C-WAP)",
           "Mixture04"
          ],
          [
           "Kraken 2 (C-WAP)",
           "Mixture06"
          ],
          [
           "Kraken 2 (C-WAP)",
           "Mixture08"
          ],
          [
           "Kraken 2 (C-WAP)",
           "Mixture10"
          ],
          [
           "Kraken 2 (C-WAP)",
           "Mixture19"
          ],
          [
           "Kraken 2 (C-WAP)",
           "Mixture31"
          ],
          [
           "Kraken 2 (C-WAP)",
           "Mixture32"
          ],
          [
           "Kraken 2 (C-WAP)",
           "Mixture38"
          ],
          [
           "Kraken 2 (C-WAP)",
           "Mixture01"
          ],
          [
           "Kraken 2 (C-WAP)",
           "Mixture03"
          ],
          [
           "Kraken 2 (C-WAP)",
           "Mixture04"
          ],
          [
           "Kraken 2 (C-WAP)",
           "Mixture06"
          ],
          [
           "Kraken 2 (C-WAP)",
           "Mixture08"
          ],
          [
           "Kraken 2 (C-WAP)",
           "Mixture10"
          ],
          [
           "Kraken 2 (C-WAP)",
           "Mixture20"
          ],
          [
           "Kraken 2 (C-WAP)",
           "Mixture28"
          ],
          [
           "Kraken 2 (C-WAP)",
           "Mixture29"
          ],
          [
           "Kraken 2 (C-WAP)",
           "Mixture30"
          ],
          [
           "Kraken 2 (C-WAP)",
           "Mixture32"
          ],
          [
           "Kraken 2 (C-WAP)",
           "Mixture39"
          ],
          [
           "Kraken 2 (C-WAP)",
           "Mixture01"
          ],
          [
           "Kraken 2 (C-WAP)",
           "Mixture03"
          ],
          [
           "Kraken 2 (C-WAP)",
           "Mixture05"
          ],
          [
           "Kraken 2 (C-WAP)",
           "Mixture07"
          ],
          [
           "Kraken 2 (C-WAP)",
           "Mixture08"
          ],
          [
           "Kraken 2 (C-WAP)",
           "Mixture13"
          ],
          [
           "Kraken 2 (C-WAP)",
           "Mixture26"
          ],
          [
           "Kraken 2 (C-WAP)",
           "Mixture27"
          ],
          [
           "Kraken 2 (C-WAP)",
           "Mixture29"
          ],
          [
           "Kraken 2 (C-WAP)",
           "Mixture30"
          ],
          [
           "Kraken 2 (C-WAP)",
           "Mixture32"
          ],
          [
           "Kraken 2 (C-WAP)",
           "Mixture42"
          ],
          [
           "Kraken 2 (C-WAP)",
           "Mixture01"
          ],
          [
           "Kraken 2 (C-WAP)",
           "Mixture03"
          ],
          [
           "Kraken 2 (C-WAP)",
           "Mixture05"
          ],
          [
           "Kraken 2 (C-WAP)",
           "Mixture07"
          ],
          [
           "Kraken 2 (C-WAP)",
           "Mixture08"
          ],
          [
           "Kraken 2 (C-WAP)",
           "Mixture12"
          ],
          [
           "Kraken 2 (C-WAP)",
           "Mixture24"
          ],
          [
           "Kraken 2 (C-WAP)",
           "Mixture25"
          ],
          [
           "Kraken 2 (C-WAP)",
           "Mixture29"
          ],
          [
           "Kraken 2 (C-WAP)",
           "Mixture30"
          ],
          [
           "Kraken 2 (C-WAP)",
           "Mixture32"
          ],
          [
           "Kraken 2 (C-WAP)",
           "Mixture41"
          ]
         ],
         "hovertemplate": "Scheme=%{customdata[0]}<br>Lineages=%{x}<br>Percent of expected abundance=%{y}<br>Sample name=%{customdata[1]}<extra></extra>",
         "legendgroup": "Kraken 2 (C-WAP)",
         "marker": {
          "color": "#B6E880"
         },
         "name": "Kraken 2 (C-WAP)",
         "notched": false,
         "offsetgroup": "Kraken 2 (C-WAP)",
         "orientation": "v",
         "showlegend": true,
         "type": "box",
         "x": [
          "BA.1.X",
          "BA.1.X",
          "BA.1.X",
          "BA.1.X",
          "BA.1.X",
          "BA.1.X",
          "BA.1.X",
          "BA.1.X",
          "BA.1.X",
          "BA.1.X",
          "BA.2.X",
          "BA.2.X",
          "BA.2.X",
          "BA.2.X",
          "BA.2.X",
          "BA.2.X",
          "BA.2.X",
          "BA.2.X",
          "BA.2.X",
          "BA.2.X",
          "BA.2.X",
          "BA.2.X",
          "BA.4.X",
          "BA.4.X",
          "BA.4.X",
          "BA.4.X",
          "BA.4.X",
          "BA.4.X",
          "BA.4.X",
          "BA.4.X",
          "BA.4.X",
          "BA.4.X",
          "BA.4.X",
          "BA.4.X",
          "BA.5.X",
          "BA.5.X",
          "BA.5.X",
          "BA.5.X",
          "BA.5.X",
          "BA.5.X",
          "BA.5.X",
          "BA.5.X",
          "BA.5.X",
          "BA.5.X",
          "BA.5.X",
          "BA.5.X"
         ],
         "x0": " ",
         "xaxis": "x",
         "y": [
          452.85,
          367.6,
          179.84,
          262.40000000000003,
          150.2,
          116.93333333333334,
          58.5,
          260.88999999999993,
          198.4,
          61.199999999999996,
          284.55,
          181.64000000000001,
          89.24800000000002,
          154.61333333333334,
          137.04000000000002,
          40.752,
          32.25000000000001,
          33.900000000000006,
          189,
          177.24,
          319.44000000000005,
          34.67,
          216.07499999999996,
          188.8,
          173.97333333333333,
          151.78666666666666,
          218.48000000000002,
          42.27,
          44.16,
          42.44,
          130.84,
          136.36,
          220.08,
          40.4,
          3.225,
          1.568,
          2.76,
          2.3466666666666667,
          2.48,
          0.75,
          0.5700000000000001,
          0.5599999999999999,
          1.68,
          2.8400000000000003,
          4.8,
          0.72
         ],
         "y0": " ",
         "yaxis": "y"
        }
       ],
       "layout": {
        "boxmode": "group",
        "legend": {
         "title": {
          "text": "Scheme"
         },
         "tracegroupgap": 0
        },
        "template": {
         "data": {
          "bar": [
           {
            "error_x": {
             "color": "#2a3f5f"
            },
            "error_y": {
             "color": "#2a3f5f"
            },
            "marker": {
             "line": {
              "color": "#E5ECF6",
              "width": 0.5
             },
             "pattern": {
              "fillmode": "overlay",
              "size": 10,
              "solidity": 0.2
             }
            },
            "type": "bar"
           }
          ],
          "barpolar": [
           {
            "marker": {
             "line": {
              "color": "#E5ECF6",
              "width": 0.5
             },
             "pattern": {
              "fillmode": "overlay",
              "size": 10,
              "solidity": 0.2
             }
            },
            "type": "barpolar"
           }
          ],
          "carpet": [
           {
            "aaxis": {
             "endlinecolor": "#2a3f5f",
             "gridcolor": "white",
             "linecolor": "white",
             "minorgridcolor": "white",
             "startlinecolor": "#2a3f5f"
            },
            "baxis": {
             "endlinecolor": "#2a3f5f",
             "gridcolor": "white",
             "linecolor": "white",
             "minorgridcolor": "white",
             "startlinecolor": "#2a3f5f"
            },
            "type": "carpet"
           }
          ],
          "choropleth": [
           {
            "colorbar": {
             "outlinewidth": 0,
             "ticks": ""
            },
            "type": "choropleth"
           }
          ],
          "contour": [
           {
            "colorbar": {
             "outlinewidth": 0,
             "ticks": ""
            },
            "colorscale": [
             [
              0,
              "#0d0887"
             ],
             [
              0.1111111111111111,
              "#46039f"
             ],
             [
              0.2222222222222222,
              "#7201a8"
             ],
             [
              0.3333333333333333,
              "#9c179e"
             ],
             [
              0.4444444444444444,
              "#bd3786"
             ],
             [
              0.5555555555555556,
              "#d8576b"
             ],
             [
              0.6666666666666666,
              "#ed7953"
             ],
             [
              0.7777777777777778,
              "#fb9f3a"
             ],
             [
              0.8888888888888888,
              "#fdca26"
             ],
             [
              1,
              "#f0f921"
             ]
            ],
            "type": "contour"
           }
          ],
          "contourcarpet": [
           {
            "colorbar": {
             "outlinewidth": 0,
             "ticks": ""
            },
            "type": "contourcarpet"
           }
          ],
          "heatmap": [
           {
            "colorbar": {
             "outlinewidth": 0,
             "ticks": ""
            },
            "colorscale": [
             [
              0,
              "#0d0887"
             ],
             [
              0.1111111111111111,
              "#46039f"
             ],
             [
              0.2222222222222222,
              "#7201a8"
             ],
             [
              0.3333333333333333,
              "#9c179e"
             ],
             [
              0.4444444444444444,
              "#bd3786"
             ],
             [
              0.5555555555555556,
              "#d8576b"
             ],
             [
              0.6666666666666666,
              "#ed7953"
             ],
             [
              0.7777777777777778,
              "#fb9f3a"
             ],
             [
              0.8888888888888888,
              "#fdca26"
             ],
             [
              1,
              "#f0f921"
             ]
            ],
            "type": "heatmap"
           }
          ],
          "heatmapgl": [
           {
            "colorbar": {
             "outlinewidth": 0,
             "ticks": ""
            },
            "colorscale": [
             [
              0,
              "#0d0887"
             ],
             [
              0.1111111111111111,
              "#46039f"
             ],
             [
              0.2222222222222222,
              "#7201a8"
             ],
             [
              0.3333333333333333,
              "#9c179e"
             ],
             [
              0.4444444444444444,
              "#bd3786"
             ],
             [
              0.5555555555555556,
              "#d8576b"
             ],
             [
              0.6666666666666666,
              "#ed7953"
             ],
             [
              0.7777777777777778,
              "#fb9f3a"
             ],
             [
              0.8888888888888888,
              "#fdca26"
             ],
             [
              1,
              "#f0f921"
             ]
            ],
            "type": "heatmapgl"
           }
          ],
          "histogram": [
           {
            "marker": {
             "pattern": {
              "fillmode": "overlay",
              "size": 10,
              "solidity": 0.2
             }
            },
            "type": "histogram"
           }
          ],
          "histogram2d": [
           {
            "colorbar": {
             "outlinewidth": 0,
             "ticks": ""
            },
            "colorscale": [
             [
              0,
              "#0d0887"
             ],
             [
              0.1111111111111111,
              "#46039f"
             ],
             [
              0.2222222222222222,
              "#7201a8"
             ],
             [
              0.3333333333333333,
              "#9c179e"
             ],
             [
              0.4444444444444444,
              "#bd3786"
             ],
             [
              0.5555555555555556,
              "#d8576b"
             ],
             [
              0.6666666666666666,
              "#ed7953"
             ],
             [
              0.7777777777777778,
              "#fb9f3a"
             ],
             [
              0.8888888888888888,
              "#fdca26"
             ],
             [
              1,
              "#f0f921"
             ]
            ],
            "type": "histogram2d"
           }
          ],
          "histogram2dcontour": [
           {
            "colorbar": {
             "outlinewidth": 0,
             "ticks": ""
            },
            "colorscale": [
             [
              0,
              "#0d0887"
             ],
             [
              0.1111111111111111,
              "#46039f"
             ],
             [
              0.2222222222222222,
              "#7201a8"
             ],
             [
              0.3333333333333333,
              "#9c179e"
             ],
             [
              0.4444444444444444,
              "#bd3786"
             ],
             [
              0.5555555555555556,
              "#d8576b"
             ],
             [
              0.6666666666666666,
              "#ed7953"
             ],
             [
              0.7777777777777778,
              "#fb9f3a"
             ],
             [
              0.8888888888888888,
              "#fdca26"
             ],
             [
              1,
              "#f0f921"
             ]
            ],
            "type": "histogram2dcontour"
           }
          ],
          "mesh3d": [
           {
            "colorbar": {
             "outlinewidth": 0,
             "ticks": ""
            },
            "type": "mesh3d"
           }
          ],
          "parcoords": [
           {
            "line": {
             "colorbar": {
              "outlinewidth": 0,
              "ticks": ""
             }
            },
            "type": "parcoords"
           }
          ],
          "pie": [
           {
            "automargin": true,
            "type": "pie"
           }
          ],
          "scatter": [
           {
            "fillpattern": {
             "fillmode": "overlay",
             "size": 10,
             "solidity": 0.2
            },
            "type": "scatter"
           }
          ],
          "scatter3d": [
           {
            "line": {
             "colorbar": {
              "outlinewidth": 0,
              "ticks": ""
             }
            },
            "marker": {
             "colorbar": {
              "outlinewidth": 0,
              "ticks": ""
             }
            },
            "type": "scatter3d"
           }
          ],
          "scattercarpet": [
           {
            "marker": {
             "colorbar": {
              "outlinewidth": 0,
              "ticks": ""
             }
            },
            "type": "scattercarpet"
           }
          ],
          "scattergeo": [
           {
            "marker": {
             "colorbar": {
              "outlinewidth": 0,
              "ticks": ""
             }
            },
            "type": "scattergeo"
           }
          ],
          "scattergl": [
           {
            "marker": {
             "colorbar": {
              "outlinewidth": 0,
              "ticks": ""
             }
            },
            "type": "scattergl"
           }
          ],
          "scattermapbox": [
           {
            "marker": {
             "colorbar": {
              "outlinewidth": 0,
              "ticks": ""
             }
            },
            "type": "scattermapbox"
           }
          ],
          "scatterpolar": [
           {
            "marker": {
             "colorbar": {
              "outlinewidth": 0,
              "ticks": ""
             }
            },
            "type": "scatterpolar"
           }
          ],
          "scatterpolargl": [
           {
            "marker": {
             "colorbar": {
              "outlinewidth": 0,
              "ticks": ""
             }
            },
            "type": "scatterpolargl"
           }
          ],
          "scatterternary": [
           {
            "marker": {
             "colorbar": {
              "outlinewidth": 0,
              "ticks": ""
             }
            },
            "type": "scatterternary"
           }
          ],
          "surface": [
           {
            "colorbar": {
             "outlinewidth": 0,
             "ticks": ""
            },
            "colorscale": [
             [
              0,
              "#0d0887"
             ],
             [
              0.1111111111111111,
              "#46039f"
             ],
             [
              0.2222222222222222,
              "#7201a8"
             ],
             [
              0.3333333333333333,
              "#9c179e"
             ],
             [
              0.4444444444444444,
              "#bd3786"
             ],
             [
              0.5555555555555556,
              "#d8576b"
             ],
             [
              0.6666666666666666,
              "#ed7953"
             ],
             [
              0.7777777777777778,
              "#fb9f3a"
             ],
             [
              0.8888888888888888,
              "#fdca26"
             ],
             [
              1,
              "#f0f921"
             ]
            ],
            "type": "surface"
           }
          ],
          "table": [
           {
            "cells": {
             "fill": {
              "color": "#EBF0F8"
             },
             "line": {
              "color": "white"
             }
            },
            "header": {
             "fill": {
              "color": "#C8D4E3"
             },
             "line": {
              "color": "white"
             }
            },
            "type": "table"
           }
          ]
         },
         "layout": {
          "annotationdefaults": {
           "arrowcolor": "#2a3f5f",
           "arrowhead": 0,
           "arrowwidth": 1
          },
          "autotypenumbers": "strict",
          "coloraxis": {
           "colorbar": {
            "outlinewidth": 0,
            "ticks": ""
           }
          },
          "colorscale": {
           "diverging": [
            [
             0,
             "#8e0152"
            ],
            [
             0.1,
             "#c51b7d"
            ],
            [
             0.2,
             "#de77ae"
            ],
            [
             0.3,
             "#f1b6da"
            ],
            [
             0.4,
             "#fde0ef"
            ],
            [
             0.5,
             "#f7f7f7"
            ],
            [
             0.6,
             "#e6f5d0"
            ],
            [
             0.7,
             "#b8e186"
            ],
            [
             0.8,
             "#7fbc41"
            ],
            [
             0.9,
             "#4d9221"
            ],
            [
             1,
             "#276419"
            ]
           ],
           "sequential": [
            [
             0,
             "#0d0887"
            ],
            [
             0.1111111111111111,
             "#46039f"
            ],
            [
             0.2222222222222222,
             "#7201a8"
            ],
            [
             0.3333333333333333,
             "#9c179e"
            ],
            [
             0.4444444444444444,
             "#bd3786"
            ],
            [
             0.5555555555555556,
             "#d8576b"
            ],
            [
             0.6666666666666666,
             "#ed7953"
            ],
            [
             0.7777777777777778,
             "#fb9f3a"
            ],
            [
             0.8888888888888888,
             "#fdca26"
            ],
            [
             1,
             "#f0f921"
            ]
           ],
           "sequentialminus": [
            [
             0,
             "#0d0887"
            ],
            [
             0.1111111111111111,
             "#46039f"
            ],
            [
             0.2222222222222222,
             "#7201a8"
            ],
            [
             0.3333333333333333,
             "#9c179e"
            ],
            [
             0.4444444444444444,
             "#bd3786"
            ],
            [
             0.5555555555555556,
             "#d8576b"
            ],
            [
             0.6666666666666666,
             "#ed7953"
            ],
            [
             0.7777777777777778,
             "#fb9f3a"
            ],
            [
             0.8888888888888888,
             "#fdca26"
            ],
            [
             1,
             "#f0f921"
            ]
           ]
          },
          "colorway": [
           "#636efa",
           "#EF553B",
           "#00cc96",
           "#ab63fa",
           "#FFA15A",
           "#19d3f3",
           "#FF6692",
           "#B6E880",
           "#FF97FF",
           "#FECB52"
          ],
          "font": {
           "color": "#2a3f5f"
          },
          "geo": {
           "bgcolor": "white",
           "lakecolor": "white",
           "landcolor": "#E5ECF6",
           "showlakes": true,
           "showland": true,
           "subunitcolor": "white"
          },
          "hoverlabel": {
           "align": "left"
          },
          "hovermode": "closest",
          "mapbox": {
           "style": "light"
          },
          "paper_bgcolor": "white",
          "plot_bgcolor": "#E5ECF6",
          "polar": {
           "angularaxis": {
            "gridcolor": "white",
            "linecolor": "white",
            "ticks": ""
           },
           "bgcolor": "#E5ECF6",
           "radialaxis": {
            "gridcolor": "white",
            "linecolor": "white",
            "ticks": ""
           }
          },
          "scene": {
           "xaxis": {
            "backgroundcolor": "#E5ECF6",
            "gridcolor": "white",
            "gridwidth": 2,
            "linecolor": "white",
            "showbackground": true,
            "ticks": "",
            "zerolinecolor": "white"
           },
           "yaxis": {
            "backgroundcolor": "#E5ECF6",
            "gridcolor": "white",
            "gridwidth": 2,
            "linecolor": "white",
            "showbackground": true,
            "ticks": "",
            "zerolinecolor": "white"
           },
           "zaxis": {
            "backgroundcolor": "#E5ECF6",
            "gridcolor": "white",
            "gridwidth": 2,
            "linecolor": "white",
            "showbackground": true,
            "ticks": "",
            "zerolinecolor": "white"
           }
          },
          "shapedefaults": {
           "line": {
            "color": "#2a3f5f"
           }
          },
          "ternary": {
           "aaxis": {
            "gridcolor": "white",
            "linecolor": "white",
            "ticks": ""
           },
           "baxis": {
            "gridcolor": "white",
            "linecolor": "white",
            "ticks": ""
           },
           "bgcolor": "#E5ECF6",
           "caxis": {
            "gridcolor": "white",
            "linecolor": "white",
            "ticks": ""
           }
          },
          "title": {
           "x": 0.05
          },
          "xaxis": {
           "automargin": true,
           "gridcolor": "white",
           "linecolor": "white",
           "ticks": "",
           "title": {
            "standoff": 15
           },
           "zerolinecolor": "white",
           "zerolinewidth": 2
          },
          "yaxis": {
           "automargin": true,
           "gridcolor": "white",
           "linecolor": "white",
           "ticks": "",
           "title": {
            "standoff": 15
           },
           "zerolinecolor": "white",
           "zerolinewidth": 2
          }
         }
        },
        "title": {
         "text": "Lineage abundance estimates as a percent of expected abundance - NWRB mixtures"
        },
        "xaxis": {
         "anchor": "y",
         "domain": [
          0,
          1
         ],
         "title": {
          "text": "Lineages"
         }
        },
        "yaxis": {
         "anchor": "x",
         "domain": [
          0,
          1
         ],
         "range": [
          0,
          460
         ],
         "title": {
          "text": "Percent of expected abundance"
         }
        }
       }
      },
      "text/html": [
       "<div>                            <div id=\"c00c2f1c-ff82-435d-b16b-385dadbdb633\" class=\"plotly-graph-div\" style=\"height:525px; width:100%;\"></div>            <script type=\"text/javascript\">                require([\"plotly\"], function(Plotly) {                    window.PLOTLYENV=window.PLOTLYENV || {};                                    if (document.getElementById(\"c00c2f1c-ff82-435d-b16b-385dadbdb633\")) {                    Plotly.newPlot(                        \"c00c2f1c-ff82-435d-b16b-385dadbdb633\",                        [{\"alignmentgroup\":\"True\",\"boxpoints\":\"all\",\"customdata\":[[\"Freyja\",\"Mixture09\"],[\"Freyja\",\"Mixture21\"],[\"Freyja\",\"Mixture14\"],[\"Freyja\",\"Mixture33\"],[\"Freyja\",\"Mixture05\"],[\"Freyja\",\"Mixture15\"],[\"Freyja\",\"Mixture02\"],[\"Freyja\",\"Mixture01\"],[\"Freyja\",\"Mixture07\"],[\"Freyja\",\"Mixture34\"],[\"Freyja\",\"Mixture06\"],[\"Freyja\",\"Mixture31\"],[\"Freyja\",\"Mixture04\"],[\"Freyja\",\"Mixture32\"],[\"Freyja\",\"Mixture02\"],[\"Freyja\",\"Mixture01\"],[\"Freyja\",\"Mixture07\"],[\"Freyja\",\"Mixture35\"],[\"Freyja\",\"Mixture06\"],[\"Freyja\",\"Mixture31\"],[\"Freyja\",\"Mixture16\"],[\"Freyja\",\"Mixture04\"],[\"Freyja\",\"Mixture02\"],[\"Freyja\",\"Mixture01\"],[\"Freyja\",\"Mixture06\"],[\"Freyja\",\"Mixture31\"],[\"Freyja\",\"Mixture18\"],[\"Freyja\",\"Mixture37\"],[\"Freyja\",\"Mixture02\"],[\"Freyja\",\"Mixture01\"],[\"Freyja\",\"Mixture17\"],[\"Freyja\",\"Mixture07\"],[\"Freyja\",\"Mixture06\"],[\"Freyja\",\"Mixture31\"],[\"Freyja\",\"Mixture04\"],[\"Freyja\",\"Mixture32\"],[\"Freyja\",\"Mixture36\"],[\"Freyja\",\"Mixture02\"],[\"Freyja\",\"Mixture10\"],[\"Freyja\",\"Mixture01\"],[\"Freyja\",\"Mixture19\"],[\"Freyja\",\"Mixture38\"],[\"Freyja\",\"Mixture08\"],[\"Freyja\",\"Mixture06\"],[\"Freyja\",\"Mixture31\"],[\"Freyja\",\"Mixture04\"],[\"Freyja\",\"Mixture32\"],[\"Freyja\",\"Mixture10\"],[\"Freyja\",\"Mixture01\"],[\"Freyja\",\"Mixture03\"],[\"Freyja\",\"Mixture20\"],[\"Freyja\",\"Mixture08\"],[\"Freyja\",\"Mixture28\"],[\"Freyja\",\"Mixture39\"],[\"Freyja\",\"Mixture06\"],[\"Freyja\",\"Mixture29\"],[\"Freyja\",\"Mixture04\"],[\"Freyja\",\"Mixture30\"],[\"Freyja\",\"Mixture32\"],[\"Freyja\",\"Mixture01\"],[\"Freyja\",\"Mixture07\"],[\"Freyja\",\"Mixture11\"],[\"Freyja\",\"Mixture40\"],[\"Freyja\",\"Mixture03\"],[\"Freyja\",\"Mixture22\"],[\"Freyja\",\"Mixture08\"],[\"Freyja\",\"Mixture06\"],[\"Freyja\",\"Mixture29\"],[\"Freyja\",\"Mixture05\"],[\"Freyja\",\"Mixture23\"],[\"Freyja\",\"Mixture30\"],[\"Freyja\",\"Mixture32\"],[\"Freyja\",\"Mixture01\"],[\"Freyja\",\"Mixture07\"],[\"Freyja\",\"Mixture42\"],[\"Freyja\",\"Mixture13\"],[\"Freyja\",\"Mixture03\"],[\"Freyja\",\"Mixture08\"],[\"Freyja\",\"Mixture27\"],[\"Freyja\",\"Mixture29\"],[\"Freyja\",\"Mixture26\"],[\"Freyja\",\"Mixture05\"],[\"Freyja\",\"Mixture30\"],[\"Freyja\",\"Mixture32\"],[\"Freyja\",\"Mixture01\"],[\"Freyja\",\"Mixture12\"],[\"Freyja\",\"Mixture07\"],[\"Freyja\",\"Mixture25\"],[\"Freyja\",\"Mixture24\"],[\"Freyja\",\"Mixture03\"],[\"Freyja\",\"Mixture08\"],[\"Freyja\",\"Mixture29\"],[\"Freyja\",\"Mixture05\"],[\"Freyja\",\"Mixture30\"],[\"Freyja\",\"Mixture32\"],[\"Freyja\",\"Mixture41\"]],\"hovertemplate\":\"Scheme=%{customdata[0]}\\u003cbr\\u003eLineages=%{x}\\u003cbr\\u003ePercent of expected abundance=%{y}\\u003cbr\\u003eSample name=%{customdata[1]}\\u003cextra\\u003e\\u003c\\u002fextra\\u003e\",\"legendgroup\":\"Freyja\",\"marker\":{\"color\":\"#636efa\"},\"name\":\"Freyja\",\"notched\":false,\"offsetgroup\":\"Freyja\",\"orientation\":\"v\",\"showlegend\":true,\"x\":[\"Wuhan-hu-1\",\"Wuhan-hu-1\",\"Wuhan-hu-1\",\"Wuhan-hu-1\",\"Wuhan-hu-1\",\"Alpha\",\"Alpha\",\"Alpha\",\"Alpha\",\"Alpha\",\"Alpha\",\"Alpha\",\"Alpha\",\"Alpha\",\"Gamma\",\"Gamma\",\"Gamma\",\"Gamma\",\"Gamma\",\"Gamma\",\"Gamma\",\"Gamma\",\"Delta\",\"Delta\",\"Delta\",\"Delta\",\"Delta\",\"Delta\",\"Iota\",\"Iota\",\"Iota\",\"Iota\",\"Iota\",\"Iota\",\"Iota\",\"Iota\",\"Iota\",\"BA.1.X\",\"BA.1.X\",\"BA.1.X\",\"BA.1.X\",\"BA.1.X\",\"BA.1.X\",\"BA.1.X\",\"BA.1.X\",\"BA.1.X\",\"BA.1.X\",\"BA.2.X\",\"BA.2.X\",\"BA.2.X\",\"BA.2.X\",\"BA.2.X\",\"BA.2.X\",\"BA.2.X\",\"BA.2.X\",\"BA.2.X\",\"BA.2.X\",\"BA.2.X\",\"BA.2.X\",\"BG.X\",\"BG.X\",\"BG.X\",\"BG.X\",\"BG.X\",\"BG.X\",\"BG.X\",\"BG.X\",\"BG.X\",\"BG.X\",\"BG.X\",\"BG.X\",\"BG.X\",\"BA.4.X\",\"BA.4.X\",\"BA.4.X\",\"BA.4.X\",\"BA.4.X\",\"BA.4.X\",\"BA.4.X\",\"BA.4.X\",\"BA.4.X\",\"BA.4.X\",\"BA.4.X\",\"BA.4.X\",\"BA.5.X\",\"BA.5.X\",\"BA.5.X\",\"BA.5.X\",\"BA.5.X\",\"BA.5.X\",\"BA.5.X\",\"BA.5.X\",\"BA.5.X\",\"BA.5.X\",\"BA.5.X\",\"BA.5.X\"],\"x0\":\" \",\"xaxis\":\"x\",\"y\":[32.261288,32.734974,32.832595,97.138115,16.13301866666667,98.876539,80.284732,74.25171,82.47422933333333,98.817773,100.117952,89.609856,68.438448,63.126224,45.542992,59.06152499999999,62.676496,99.131283,56.325984,72.67325799999999,98.94360499999999,73.94837333333334,82.82393066666667,44.526915,85.73836266666669,65.254455,98.514272,98.711714,144.2496,82.579155,97.997977,98.13973333333334,119.39289600000001,120.41244599999999,123.25151199999999,96.60560000000001,98.131987,26.05852,43.079509333333334,29.614784999999998,98.01248299999999,98.128302,64.413736,48.81390933333334,24.69331199999999,51.18713066666667,44.072776000000005,111.67474400000002,68.00311500000001,48.037459999999996,97.19457299999999,90.223552,97.439427,97.25073,141.79390399999997,72.10698800000003,95.87906560000002,69.919788,59.327248,58.94886749999999,48.940016,98.866545,98.022306,67.81193599999999,98.386379,55.459512,40.403776,74.000488,28.655578666666663,98.59531299999999,53.738271999999995,65.649952,202.4693025,189.52146133333335,98.43438099999999,98.18846099999999,182.30930666666666,165.52204,98.320465,158.9479,98.33613799999998,168.50349333333335,167.50156800000002,202.96666399999998,61.2344625,97.45028599999999,33.86466133333334,98.366596,97.743086,104.56923200000001,104.628816,76.613268,49.094528,83.68197199999999,51.11886400000001,98.225526],\"y0\":\" \",\"yaxis\":\"y\",\"type\":\"box\"},{\"alignmentgroup\":\"True\",\"boxpoints\":\"all\",\"customdata\":[[\"kallisto (C-WAP)\",\"Mixture01\"],[\"kallisto (C-WAP)\",\"Mixture02\"],[\"kallisto (C-WAP)\",\"Mixture04\"],[\"kallisto (C-WAP)\",\"Mixture05\"],[\"kallisto (C-WAP)\",\"Mixture09\"],[\"kallisto (C-WAP)\",\"Mixture14\"],[\"kallisto (C-WAP)\",\"Mixture21\"],[\"kallisto (C-WAP)\",\"Mixture31\"],[\"kallisto (C-WAP)\",\"Mixture32\"],[\"kallisto (C-WAP)\",\"Mixture33\"],[\"kallisto (C-WAP)\",\"Mixture01\"],[\"kallisto (C-WAP)\",\"Mixture02\"],[\"kallisto (C-WAP)\",\"Mixture04\"],[\"kallisto (C-WAP)\",\"Mixture06\"],[\"kallisto (C-WAP)\",\"Mixture07\"],[\"kallisto (C-WAP)\",\"Mixture15\"],[\"kallisto (C-WAP)\",\"Mixture31\"],[\"kallisto (C-WAP)\",\"Mixture32\"],[\"kallisto (C-WAP)\",\"Mixture34\"],[\"kallisto (C-WAP)\",\"Mixture01\"],[\"kallisto (C-WAP)\",\"Mixture02\"],[\"kallisto (C-WAP)\",\"Mixture04\"],[\"kallisto (C-WAP)\",\"Mixture06\"],[\"kallisto (C-WAP)\",\"Mixture07\"],[\"kallisto (C-WAP)\",\"Mixture16\"],[\"kallisto (C-WAP)\",\"Mixture31\"],[\"kallisto (C-WAP)\",\"Mixture35\"],[\"kallisto (C-WAP)\",\"Mixture01\"],[\"kallisto (C-WAP)\",\"Mixture02\"],[\"kallisto (C-WAP)\",\"Mixture06\"],[\"kallisto (C-WAP)\",\"Mixture18\"],[\"kallisto (C-WAP)\",\"Mixture31\"],[\"kallisto (C-WAP)\",\"Mixture37\"],[\"kallisto (C-WAP)\",\"Mixture01\"],[\"kallisto (C-WAP)\",\"Mixture02\"],[\"kallisto (C-WAP)\",\"Mixture04\"],[\"kallisto (C-WAP)\",\"Mixture06\"],[\"kallisto (C-WAP)\",\"Mixture07\"],[\"kallisto (C-WAP)\",\"Mixture17\"],[\"kallisto (C-WAP)\",\"Mixture31\"],[\"kallisto (C-WAP)\",\"Mixture32\"],[\"kallisto (C-WAP)\",\"Mixture36\"],[\"kallisto (C-WAP)\",\"Mixture01\"],[\"kallisto (C-WAP)\",\"Mixture02\"],[\"kallisto (C-WAP)\",\"Mixture04\"],[\"kallisto (C-WAP)\",\"Mixture06\"],[\"kallisto (C-WAP)\",\"Mixture08\"],[\"kallisto (C-WAP)\",\"Mixture10\"],[\"kallisto (C-WAP)\",\"Mixture19\"],[\"kallisto (C-WAP)\",\"Mixture31\"],[\"kallisto (C-WAP)\",\"Mixture32\"],[\"kallisto (C-WAP)\",\"Mixture38\"],[\"kallisto (C-WAP)\",\"Mixture01\"],[\"kallisto (C-WAP)\",\"Mixture03\"],[\"kallisto (C-WAP)\",\"Mixture04\"],[\"kallisto (C-WAP)\",\"Mixture06\"],[\"kallisto (C-WAP)\",\"Mixture08\"],[\"kallisto (C-WAP)\",\"Mixture10\"],[\"kallisto (C-WAP)\",\"Mixture20\"],[\"kallisto (C-WAP)\",\"Mixture28\"],[\"kallisto (C-WAP)\",\"Mixture29\"],[\"kallisto (C-WAP)\",\"Mixture30\"],[\"kallisto (C-WAP)\",\"Mixture32\"],[\"kallisto (C-WAP)\",\"Mixture39\"],[\"kallisto (C-WAP)\",\"Mixture01\"],[\"kallisto (C-WAP)\",\"Mixture03\"],[\"kallisto (C-WAP)\",\"Mixture05\"],[\"kallisto (C-WAP)\",\"Mixture07\"],[\"kallisto (C-WAP)\",\"Mixture08\"],[\"kallisto (C-WAP)\",\"Mixture13\"],[\"kallisto (C-WAP)\",\"Mixture26\"],[\"kallisto (C-WAP)\",\"Mixture27\"],[\"kallisto (C-WAP)\",\"Mixture29\"],[\"kallisto (C-WAP)\",\"Mixture30\"],[\"kallisto (C-WAP)\",\"Mixture32\"],[\"kallisto (C-WAP)\",\"Mixture42\"],[\"kallisto (C-WAP)\",\"Mixture01\"],[\"kallisto (C-WAP)\",\"Mixture03\"],[\"kallisto (C-WAP)\",\"Mixture05\"],[\"kallisto (C-WAP)\",\"Mixture07\"],[\"kallisto (C-WAP)\",\"Mixture08\"],[\"kallisto (C-WAP)\",\"Mixture12\"],[\"kallisto (C-WAP)\",\"Mixture24\"],[\"kallisto (C-WAP)\",\"Mixture25\"],[\"kallisto (C-WAP)\",\"Mixture29\"],[\"kallisto (C-WAP)\",\"Mixture30\"],[\"kallisto (C-WAP)\",\"Mixture32\"],[\"kallisto (C-WAP)\",\"Mixture41\"]],\"hovertemplate\":\"Scheme=%{customdata[0]}\\u003cbr\\u003eLineages=%{x}\\u003cbr\\u003ePercent of expected abundance=%{y}\\u003cbr\\u003eSample name=%{customdata[1]}\\u003cextra\\u003e\\u003c\\u002fextra\\u003e\",\"legendgroup\":\"kallisto (C-WAP)\",\"marker\":{\"color\":\"#EF553B\"},\"name\":\"kallisto (C-WAP)\",\"notched\":false,\"offsetgroup\":\"kallisto (C-WAP)\",\"orientation\":\"v\",\"showlegend\":true,\"x\":[\"Wuhan-hu-1\",\"Wuhan-hu-1\",\"Wuhan-hu-1\",\"Wuhan-hu-1\",\"Wuhan-hu-1\",\"Wuhan-hu-1\",\"Wuhan-hu-1\",\"Wuhan-hu-1\",\"Wuhan-hu-1\",\"Wuhan-hu-1\",\"Alpha\",\"Alpha\",\"Alpha\",\"Alpha\",\"Alpha\",\"Alpha\",\"Alpha\",\"Alpha\",\"Alpha\",\"Gamma\",\"Gamma\",\"Gamma\",\"Gamma\",\"Gamma\",\"Gamma\",\"Gamma\",\"Gamma\",\"Delta\",\"Delta\",\"Delta\",\"Delta\",\"Delta\",\"Delta\",\"Iota\",\"Iota\",\"Iota\",\"Iota\",\"Iota\",\"Iota\",\"Iota\",\"Iota\",\"Iota\",\"BA.1.X\",\"BA.1.X\",\"BA.1.X\",\"BA.1.X\",\"BA.1.X\",\"BA.1.X\",\"BA.1.X\",\"BA.1.X\",\"BA.1.X\",\"BA.1.X\",\"BA.2.X\",\"BA.2.X\",\"BA.2.X\",\"BA.2.X\",\"BA.2.X\",\"BA.2.X\",\"BA.2.X\",\"BA.2.X\",\"BA.2.X\",\"BA.2.X\",\"BA.2.X\",\"BA.2.X\",\"BA.4.X\",\"BA.4.X\",\"BA.4.X\",\"BA.4.X\",\"BA.4.X\",\"BA.4.X\",\"BA.4.X\",\"BA.4.X\",\"BA.4.X\",\"BA.4.X\",\"BA.4.X\",\"BA.4.X\",\"BA.5.X\",\"BA.5.X\",\"BA.5.X\",\"BA.5.X\",\"BA.5.X\",\"BA.5.X\",\"BA.5.X\",\"BA.5.X\",\"BA.5.X\",\"BA.5.X\",\"BA.5.X\",\"BA.5.X\"],\"x0\":\" \",\"xaxis\":\"x\",\"y\":[138.0,170.0,156.8,110.93333333333332,89.5,89.3,89.2,158.2,144.0,89.5,53.99999999999999,47.599999999999994,51.2,72.0,54.39999999999999,64.2,56.699999999999996,44.800000000000004,64.7,45.0,35.199999999999996,51.733333333333334,44.800000000000004,59.199999999999996,81.10000000000001,46.9,82.19999999999999,48.00000000000001,53.333333333333336,70.4,59.4,46.199999999999996,58.5,82.5,125.6,96.0,145.6,96.0,87.0,91.69999999999999,85.6,87.4,84.00000000000001,54.400000000000006,78.93333333333334,88.53333333333335,62.8,57.86666666666667,90.3,62.999999999999986,63.2,91.60000000000001,156.75,150.8,77.75999999999999,171.73333333333332,137.6,93.76,79.5,80.0,148.0,148.79999999999998,140.0,79.9,187.5,211.19999999999996,150.93333333333334,156.80000000000004,224.8,87.6,88.6,91.0,188.0,171.2,193.6,91.3,45.0,43.52,30.0,35.733333333333334,45.599999999999994,79.89999999999999,82.1,74.8,31.6,47.199999999999996,50.4,75.9],\"y0\":\" \",\"yaxis\":\"y\",\"type\":\"box\"},{\"alignmentgroup\":\"True\",\"boxpoints\":\"all\",\"customdata\":[[\"kallisto\",\"Mixture02\"],[\"kallisto\",\"Mixture05\"],[\"kallisto\",\"Mixture09\"],[\"kallisto\",\"Mixture14\"],[\"kallisto\",\"Mixture21\"],[\"kallisto\",\"Mixture31\"],[\"kallisto\",\"Mixture33\"],[\"kallisto\",\"Mixture01\"],[\"kallisto\",\"Mixture02\"],[\"kallisto\",\"Mixture04\"],[\"kallisto\",\"Mixture06\"],[\"kallisto\",\"Mixture07\"],[\"kallisto\",\"Mixture15\"],[\"kallisto\",\"Mixture31\"],[\"kallisto\",\"Mixture32\"],[\"kallisto\",\"Mixture34\"],[\"kallisto\",\"Mixture01\"],[\"kallisto\",\"Mixture02\"],[\"kallisto\",\"Mixture04\"],[\"kallisto\",\"Mixture06\"],[\"kallisto\",\"Mixture07\"],[\"kallisto\",\"Mixture16\"],[\"kallisto\",\"Mixture31\"],[\"kallisto\",\"Mixture35\"],[\"kallisto\",\"Mixture01\"],[\"kallisto\",\"Mixture02\"],[\"kallisto\",\"Mixture06\"],[\"kallisto\",\"Mixture18\"],[\"kallisto\",\"Mixture31\"],[\"kallisto\",\"Mixture37\"],[\"kallisto\",\"Mixture01\"],[\"kallisto\",\"Mixture02\"],[\"kallisto\",\"Mixture04\"],[\"kallisto\",\"Mixture06\"],[\"kallisto\",\"Mixture07\"],[\"kallisto\",\"Mixture17\"],[\"kallisto\",\"Mixture31\"],[\"kallisto\",\"Mixture32\"],[\"kallisto\",\"Mixture36\"],[\"kallisto\",\"Mixture01\"],[\"kallisto\",\"Mixture02\"],[\"kallisto\",\"Mixture04\"],[\"kallisto\",\"Mixture06\"],[\"kallisto\",\"Mixture08\"],[\"kallisto\",\"Mixture10\"],[\"kallisto\",\"Mixture19\"],[\"kallisto\",\"Mixture31\"],[\"kallisto\",\"Mixture32\"],[\"kallisto\",\"Mixture38\"],[\"kallisto\",\"Mixture01\"],[\"kallisto\",\"Mixture03\"],[\"kallisto\",\"Mixture04\"],[\"kallisto\",\"Mixture06\"],[\"kallisto\",\"Mixture08\"],[\"kallisto\",\"Mixture10\"],[\"kallisto\",\"Mixture20\"],[\"kallisto\",\"Mixture28\"],[\"kallisto\",\"Mixture29\"],[\"kallisto\",\"Mixture30\"],[\"kallisto\",\"Mixture32\"],[\"kallisto\",\"Mixture39\"],[\"kallisto\",\"Mixture01\"],[\"kallisto\",\"Mixture03\"],[\"kallisto\",\"Mixture05\"],[\"kallisto\",\"Mixture06\"],[\"kallisto\",\"Mixture07\"],[\"kallisto\",\"Mixture08\"],[\"kallisto\",\"Mixture11\"],[\"kallisto\",\"Mixture22\"],[\"kallisto\",\"Mixture23\"],[\"kallisto\",\"Mixture29\"],[\"kallisto\",\"Mixture30\"],[\"kallisto\",\"Mixture32\"],[\"kallisto\",\"Mixture40\"],[\"kallisto\",\"Mixture01\"],[\"kallisto\",\"Mixture03\"],[\"kallisto\",\"Mixture05\"],[\"kallisto\",\"Mixture07\"],[\"kallisto\",\"Mixture08\"],[\"kallisto\",\"Mixture13\"],[\"kallisto\",\"Mixture26\"],[\"kallisto\",\"Mixture27\"],[\"kallisto\",\"Mixture29\"],[\"kallisto\",\"Mixture30\"],[\"kallisto\",\"Mixture32\"],[\"kallisto\",\"Mixture42\"],[\"kallisto\",\"Mixture01\"],[\"kallisto\",\"Mixture03\"],[\"kallisto\",\"Mixture05\"],[\"kallisto\",\"Mixture07\"],[\"kallisto\",\"Mixture08\"],[\"kallisto\",\"Mixture12\"],[\"kallisto\",\"Mixture24\"],[\"kallisto\",\"Mixture25\"],[\"kallisto\",\"Mixture29\"],[\"kallisto\",\"Mixture30\"],[\"kallisto\",\"Mixture32\"],[\"kallisto\",\"Mixture41\"]],\"hovertemplate\":\"Scheme=%{customdata[0]}\\u003cbr\\u003eLineages=%{x}\\u003cbr\\u003ePercent of expected abundance=%{y}\\u003cbr\\u003eSample name=%{customdata[1]}\\u003cextra\\u003e\\u003c\\u002fextra\\u003e\",\"legendgroup\":\"kallisto\",\"marker\":{\"color\":\"#00cc96\"},\"name\":\"kallisto\",\"notched\":false,\"offsetgroup\":\"kallisto\",\"orientation\":\"v\",\"showlegend\":true,\"x\":[\"Wuhan-hu-1\",\"Wuhan-hu-1\",\"Wuhan-hu-1\",\"Wuhan-hu-1\",\"Wuhan-hu-1\",\"Wuhan-hu-1\",\"Wuhan-hu-1\",\"Alpha\",\"Alpha\",\"Alpha\",\"Alpha\",\"Alpha\",\"Alpha\",\"Alpha\",\"Alpha\",\"Alpha\",\"Gamma\",\"Gamma\",\"Gamma\",\"Gamma\",\"Gamma\",\"Gamma\",\"Gamma\",\"Gamma\",\"Delta\",\"Delta\",\"Delta\",\"Delta\",\"Delta\",\"Delta\",\"Iota\",\"Iota\",\"Iota\",\"Iota\",\"Iota\",\"Iota\",\"Iota\",\"Iota\",\"Iota\",\"BA.1.X\",\"BA.1.X\",\"BA.1.X\",\"BA.1.X\",\"BA.1.X\",\"BA.1.X\",\"BA.1.X\",\"BA.1.X\",\"BA.1.X\",\"BA.1.X\",\"BA.2.X\",\"BA.2.X\",\"BA.2.X\",\"BA.2.X\",\"BA.2.X\",\"BA.2.X\",\"BA.2.X\",\"BA.2.X\",\"BA.2.X\",\"BA.2.X\",\"BA.2.X\",\"BA.2.X\",\"BG.X\",\"BG.X\",\"BG.X\",\"BG.X\",\"BG.X\",\"BG.X\",\"BG.X\",\"BG.X\",\"BG.X\",\"BG.X\",\"BG.X\",\"BG.X\",\"BG.X\",\"BA.4.X\",\"BA.4.X\",\"BA.4.X\",\"BA.4.X\",\"BA.4.X\",\"BA.4.X\",\"BA.4.X\",\"BA.4.X\",\"BA.4.X\",\"BA.4.X\",\"BA.4.X\",\"BA.4.X\",\"BA.5.X\",\"BA.5.X\",\"BA.5.X\",\"BA.5.X\",\"BA.5.X\",\"BA.5.X\",\"BA.5.X\",\"BA.5.X\",\"BA.5.X\",\"BA.5.X\",\"BA.5.X\",\"BA.5.X\"],\"x0\":\" \",\"xaxis\":\"x\",\"y\":[21.279999999999998,17.466666666666665,30.709999999999997,32.35,30.65,18.095,30.64,44.25,42.559999999999995,43.84,53.92,42.346666666666664,63.870000000000005,49.209999999999994,37.28,63.96999999999999,50.25000000000001,53.279999999999994,53.6,47.52,48.480000000000004,71.81,55.37,71.24999999999999,181.19999999999996,121.38666666666667,114.6133333333333,71.03,140.20999999999992,71.37,37.5,68.47999999999999,49.120000000000005,52.959999999999994,36.58666666666666,48.51,50.46999999999999,41.28,47.71,42.75000000000001,22.640000000000004,43.36,49.06666666666668,41.96,40.74666666666667,64.95,26.459999999999994,35.040000000000006,66.53999999999999,64.27500000000002,55.76,35.648,59.62666666666669,70.32000000000002,57.92,52.739999999999995,53.27,63.51999999999999,52.480000000000004,71.92000000000002,54.579999999999984,24.9,34.239999999999995,12.8,28.12,21.759999999999998,39.04,53.14,50.27,52.01,40.160000000000004,23.359999999999996,32.24,51.94,107.24999999999997,133.9733333333333,77.75999999999999,86.02666666666666,99.83999999999999,61.180000000000014,66.38999999999997,59.42000000000001,105.88,128.04000000000002,87.60000000000001,59.18,103.57499999999997,73.056,54.15999999999998,70.13333333333333,86.44000000000001,62.44999999999998,66.21000000000001,55.750000000000014,76.07999999999997,85.24,113.12,56.120000000000026],\"y0\":\" \",\"yaxis\":\"y\",\"type\":\"box\"},{\"alignmentgroup\":\"True\",\"boxpoints\":\"all\",\"customdata\":[[\"VaQuERo\",\"Mixture02\"],[\"VaQuERo\",\"Mixture07\"],[\"VaQuERo\",\"Mixture15\"],[\"VaQuERo\",\"Mixture31\"],[\"VaQuERo\",\"Mixture32\"],[\"VaQuERo\",\"Mixture34\"],[\"VaQuERo\",\"Mixture04\"],[\"VaQuERo\",\"Mixture16\"],[\"VaQuERo\",\"Mixture31\"],[\"VaQuERo\",\"Mixture35\"],[\"VaQuERo\",\"Mixture01\"],[\"VaQuERo\",\"Mixture02\"],[\"VaQuERo\",\"Mixture06\"],[\"VaQuERo\",\"Mixture18\"],[\"VaQuERo\",\"Mixture31\"],[\"VaQuERo\",\"Mixture37\"],[\"VaQuERo\",\"Mixture04\"],[\"VaQuERo\",\"Mixture07\"],[\"VaQuERo\",\"Mixture17\"],[\"VaQuERo\",\"Mixture31\"],[\"VaQuERo\",\"Mixture36\"],[\"VaQuERo\",\"Mixture04\"],[\"VaQuERo\",\"Mixture06\"],[\"VaQuERo\",\"Mixture08\"],[\"VaQuERo\",\"Mixture10\"],[\"VaQuERo\",\"Mixture19\"],[\"VaQuERo\",\"Mixture38\"],[\"VaQuERo\",\"Mixture01\"],[\"VaQuERo\",\"Mixture03\"],[\"VaQuERo\",\"Mixture04\"],[\"VaQuERo\",\"Mixture06\"],[\"VaQuERo\",\"Mixture08\"],[\"VaQuERo\",\"Mixture10\"],[\"VaQuERo\",\"Mixture20\"],[\"VaQuERo\",\"Mixture28\"],[\"VaQuERo\",\"Mixture29\"],[\"VaQuERo\",\"Mixture30\"],[\"VaQuERo\",\"Mixture32\"],[\"VaQuERo\",\"Mixture39\"],[\"VaQuERo\",\"Mixture01\"],[\"VaQuERo\",\"Mixture03\"],[\"VaQuERo\",\"Mixture05\"],[\"VaQuERo\",\"Mixture06\"],[\"VaQuERo\",\"Mixture07\"],[\"VaQuERo\",\"Mixture08\"],[\"VaQuERo\",\"Mixture11\"],[\"VaQuERo\",\"Mixture22\"],[\"VaQuERo\",\"Mixture23\"],[\"VaQuERo\",\"Mixture29\"],[\"VaQuERo\",\"Mixture30\"],[\"VaQuERo\",\"Mixture32\"],[\"VaQuERo\",\"Mixture40\"],[\"VaQuERo\",\"Mixture01\"],[\"VaQuERo\",\"Mixture03\"],[\"VaQuERo\",\"Mixture05\"],[\"VaQuERo\",\"Mixture07\"],[\"VaQuERo\",\"Mixture08\"],[\"VaQuERo\",\"Mixture13\"],[\"VaQuERo\",\"Mixture26\"],[\"VaQuERo\",\"Mixture27\"],[\"VaQuERo\",\"Mixture29\"],[\"VaQuERo\",\"Mixture30\"],[\"VaQuERo\",\"Mixture32\"],[\"VaQuERo\",\"Mixture42\"],[\"VaQuERo\",\"Mixture01\"],[\"VaQuERo\",\"Mixture03\"],[\"VaQuERo\",\"Mixture05\"],[\"VaQuERo\",\"Mixture07\"],[\"VaQuERo\",\"Mixture08\"],[\"VaQuERo\",\"Mixture12\"],[\"VaQuERo\",\"Mixture24\"],[\"VaQuERo\",\"Mixture25\"],[\"VaQuERo\",\"Mixture29\"],[\"VaQuERo\",\"Mixture30\"],[\"VaQuERo\",\"Mixture32\"],[\"VaQuERo\",\"Mixture41\"]],\"hovertemplate\":\"Scheme=%{customdata[0]}\\u003cbr\\u003eLineages=%{x}\\u003cbr\\u003ePercent of expected abundance=%{y}\\u003cbr\\u003eSample name=%{customdata[1]}\\u003cextra\\u003e\\u003c\\u002fextra\\u003e\",\"legendgroup\":\"VaQuERo\",\"marker\":{\"color\":\"#ab63fa\"},\"name\":\"VaQuERo\",\"notched\":false,\"offsetgroup\":\"VaQuERo\",\"orientation\":\"v\",\"showlegend\":true,\"x\":[\"Alpha\",\"Alpha\",\"Alpha\",\"Alpha\",\"Alpha\",\"Alpha\",\"Gamma\",\"Gamma\",\"Gamma\",\"Gamma\",\"Delta\",\"Delta\",\"Delta\",\"Delta\",\"Delta\",\"Delta\",\"Iota\",\"Iota\",\"Iota\",\"Iota\",\"Iota\",\"BA.1.X\",\"BA.1.X\",\"BA.1.X\",\"BA.1.X\",\"BA.1.X\",\"BA.1.X\",\"BA.2.X\",\"BA.2.X\",\"BA.2.X\",\"BA.2.X\",\"BA.2.X\",\"BA.2.X\",\"BA.2.X\",\"BA.2.X\",\"BA.2.X\",\"BA.2.X\",\"BA.2.X\",\"BA.2.X\",\"BG.X\",\"BG.X\",\"BG.X\",\"BG.X\",\"BG.X\",\"BG.X\",\"BG.X\",\"BG.X\",\"BG.X\",\"BG.X\",\"BG.X\",\"BG.X\",\"BG.X\",\"BA.4.X\",\"BA.4.X\",\"BA.4.X\",\"BA.4.X\",\"BA.4.X\",\"BA.4.X\",\"BA.4.X\",\"BA.4.X\",\"BA.4.X\",\"BA.4.X\",\"BA.4.X\",\"BA.4.X\",\"BA.5.X\",\"BA.5.X\",\"BA.5.X\",\"BA.5.X\",\"BA.5.X\",\"BA.5.X\",\"BA.5.X\",\"BA.5.X\",\"BA.5.X\",\"BA.5.X\",\"BA.5.X\",\"BA.5.X\"],\"x0\":\" \",\"xaxis\":\"x\",\"y\":[87.2,86.66666666666667,89.74,77.83999999999999,113.68,89.84,69.22666666666667,89.19,60.26999999999999,89.62,164.4,113.54666666666667,117.54666666666667,87.92999999999999,78.74999999999999,87.57000000000001,99.2,92.64,84.61,105.28,84.3,66.61333333333333,78.02666666666667,54.120000000000005,56.85333333333333,80.24,82.69,99.075,69.0,93.696,104.16000000000001,100.88,105.28,87.37,87.71,86.72,83.28,32.879999999999995,87.62,75.675,65.4,45.333333333333336,64.92,73.28,62.8,86.61999999999999,86.94,86.42999999999999,67.64,57.76,101.6,85.55,149.10000000000002,146.50666666666666,149.38666666666666,154.13333333333333,147.84,87.33999999999999,87.67,87.33999999999999,136.24,144.76,166.24,87.62,72.6,93.184,46.96,55.78666666666666,94.6,85.55,86.42,89.23,72.92,74.68,62.96000000000001,89.01],\"y0\":\" \",\"yaxis\":\"y\",\"type\":\"box\"},{\"alignmentgroup\":\"True\",\"boxpoints\":\"all\",\"customdata\":[[\"LCS\",\"Mixture01\"],[\"LCS\",\"Mixture02\"],[\"LCS\",\"Mixture04\"],[\"LCS\",\"Mixture06\"],[\"LCS\",\"Mixture07\"],[\"LCS\",\"Mixture15\"],[\"LCS\",\"Mixture31\"],[\"LCS\",\"Mixture32\"],[\"LCS\",\"Mixture34\"],[\"LCS\",\"Mixture01\"],[\"LCS\",\"Mixture02\"],[\"LCS\",\"Mixture04\"],[\"LCS\",\"Mixture06\"],[\"LCS\",\"Mixture07\"],[\"LCS\",\"Mixture16\"],[\"LCS\",\"Mixture31\"],[\"LCS\",\"Mixture35\"],[\"LCS\",\"Mixture01\"],[\"LCS\",\"Mixture02\"],[\"LCS\",\"Mixture06\"],[\"LCS\",\"Mixture18\"],[\"LCS\",\"Mixture31\"],[\"LCS\",\"Mixture37\"],[\"LCS\",\"Mixture01\"],[\"LCS\",\"Mixture02\"],[\"LCS\",\"Mixture04\"],[\"LCS\",\"Mixture06\"],[\"LCS\",\"Mixture07\"],[\"LCS\",\"Mixture17\"],[\"LCS\",\"Mixture31\"],[\"LCS\",\"Mixture32\"],[\"LCS\",\"Mixture36\"],[\"LCS\",\"Mixture01\"],[\"LCS\",\"Mixture02\"],[\"LCS\",\"Mixture04\"],[\"LCS\",\"Mixture06\"],[\"LCS\",\"Mixture08\"],[\"LCS\",\"Mixture10\"],[\"LCS\",\"Mixture19\"],[\"LCS\",\"Mixture31\"],[\"LCS\",\"Mixture32\"],[\"LCS\",\"Mixture38\"],[\"LCS\",\"Mixture01\"],[\"LCS\",\"Mixture03\"],[\"LCS\",\"Mixture04\"],[\"LCS\",\"Mixture06\"],[\"LCS\",\"Mixture08\"],[\"LCS\",\"Mixture10\"],[\"LCS\",\"Mixture20\"],[\"LCS\",\"Mixture28\"],[\"LCS\",\"Mixture29\"],[\"LCS\",\"Mixture30\"],[\"LCS\",\"Mixture32\"],[\"LCS\",\"Mixture39\"],[\"LCS\",\"Mixture01\"],[\"LCS\",\"Mixture03\"],[\"LCS\",\"Mixture05\"],[\"LCS\",\"Mixture06\"],[\"LCS\",\"Mixture07\"],[\"LCS\",\"Mixture08\"],[\"LCS\",\"Mixture11\"],[\"LCS\",\"Mixture22\"],[\"LCS\",\"Mixture23\"],[\"LCS\",\"Mixture29\"],[\"LCS\",\"Mixture30\"],[\"LCS\",\"Mixture32\"],[\"LCS\",\"Mixture40\"],[\"LCS\",\"Mixture01\"],[\"LCS\",\"Mixture03\"],[\"LCS\",\"Mixture05\"],[\"LCS\",\"Mixture07\"],[\"LCS\",\"Mixture08\"],[\"LCS\",\"Mixture13\"],[\"LCS\",\"Mixture26\"],[\"LCS\",\"Mixture27\"],[\"LCS\",\"Mixture29\"],[\"LCS\",\"Mixture30\"],[\"LCS\",\"Mixture32\"],[\"LCS\",\"Mixture42\"],[\"LCS\",\"Mixture01\"],[\"LCS\",\"Mixture03\"],[\"LCS\",\"Mixture05\"],[\"LCS\",\"Mixture08\"],[\"LCS\",\"Mixture12\"],[\"LCS\",\"Mixture24\"],[\"LCS\",\"Mixture25\"],[\"LCS\",\"Mixture29\"],[\"LCS\",\"Mixture30\"],[\"LCS\",\"Mixture32\"],[\"LCS\",\"Mixture41\"]],\"hovertemplate\":\"Scheme=%{customdata[0]}\\u003cbr\\u003eLineages=%{x}\\u003cbr\\u003ePercent of expected abundance=%{y}\\u003cbr\\u003eSample name=%{customdata[1]}\\u003cextra\\u003e\\u003c\\u002fextra\\u003e\",\"legendgroup\":\"LCS\",\"marker\":{\"color\":\"#FFA15A\"},\"name\":\"LCS\",\"notched\":false,\"offsetgroup\":\"LCS\",\"orientation\":\"v\",\"showlegend\":true,\"x\":[\"Alpha\",\"Alpha\",\"Alpha\",\"Alpha\",\"Alpha\",\"Alpha\",\"Alpha\",\"Alpha\",\"Alpha\",\"Gamma\",\"Gamma\",\"Gamma\",\"Gamma\",\"Gamma\",\"Gamma\",\"Gamma\",\"Gamma\",\"Delta\",\"Delta\",\"Delta\",\"Delta\",\"Delta\",\"Delta\",\"Iota\",\"Iota\",\"Iota\",\"Iota\",\"Iota\",\"Iota\",\"Iota\",\"Iota\",\"Iota\",\"BA.1.X\",\"BA.1.X\",\"BA.1.X\",\"BA.1.X\",\"BA.1.X\",\"BA.1.X\",\"BA.1.X\",\"BA.1.X\",\"BA.1.X\",\"BA.1.X\",\"BA.2.X\",\"BA.2.X\",\"BA.2.X\",\"BA.2.X\",\"BA.2.X\",\"BA.2.X\",\"BA.2.X\",\"BA.2.X\",\"BA.2.X\",\"BA.2.X\",\"BA.2.X\",\"BA.2.X\",\"BG.X\",\"BG.X\",\"BG.X\",\"BG.X\",\"BG.X\",\"BG.X\",\"BG.X\",\"BG.X\",\"BG.X\",\"BG.X\",\"BG.X\",\"BG.X\",\"BG.X\",\"BA.4.X\",\"BA.4.X\",\"BA.4.X\",\"BA.4.X\",\"BA.4.X\",\"BA.4.X\",\"BA.4.X\",\"BA.4.X\",\"BA.4.X\",\"BA.4.X\",\"BA.4.X\",\"BA.4.X\",\"BA.5.X\",\"BA.5.X\",\"BA.5.X\",\"BA.5.X\",\"BA.5.X\",\"BA.5.X\",\"BA.5.X\",\"BA.5.X\",\"BA.5.X\",\"BA.5.X\",\"BA.5.X\"],\"x0\":\" \",\"xaxis\":\"x\",\"y\":[83.39999999999999,77.96,69.6,89.28,72.63999999999999,97.74000000000001,93.51999999999998,55.04,96.83,27.3,47.68,58.720000000000006,31.840000000000003,43.04,98.42,56.83999999999999,97.91,46.2,57.86666666666667,36.10666666666666,58.93000000000001,57.68,68.17999999999999,21.750000000000004,137.12,24.240000000000002,126.88,68.80000000000001,54.790000000000006,142.44999999999996,110.08,53.849999999999994,49.50000000000001,41.44,80.85333333333334,80.96,62.68,66.61333333333333,94.78,44.589999999999996,55.92,94.19,31.35,33.44,57.984,54.82666666666667,82.72,107.31199999999998,91.73,79.67,85.76,91.24,3.6799999999999997,95.48,50.62500000000001,83.08,34.026666666666664,59.519999999999996,43.120000000000005,64.08,83.58,95.64,93.61,55.279999999999994,50.03999999999999,50.160000000000004,91.31,151.8,277.28000000000003,166.50666666666666,141.81333333333333,261.2,92.83,93.0,95.59,212.84,157.8,178.88,97.03,1.875,50.59199999999999,8.76,45.64,96.46000000000001,93.05,94.72,21.72,89.96,11.04,76.75999999999999],\"y0\":\" \",\"yaxis\":\"y\",\"type\":\"box\"},{\"alignmentgroup\":\"True\",\"boxpoints\":\"all\",\"customdata\":[[\"LolliPop\",\"Mixture01\"],[\"LolliPop\",\"Mixture02\"],[\"LolliPop\",\"Mixture04\"],[\"LolliPop\",\"Mixture06\"],[\"LolliPop\",\"Mixture07\"],[\"LolliPop\",\"Mixture15\"],[\"LolliPop\",\"Mixture31\"],[\"LolliPop\",\"Mixture32\"],[\"LolliPop\",\"Mixture34\"],[\"LolliPop\",\"Mixture01\"],[\"LolliPop\",\"Mixture02\"],[\"LolliPop\",\"Mixture04\"],[\"LolliPop\",\"Mixture06\"],[\"LolliPop\",\"Mixture07\"],[\"LolliPop\",\"Mixture16\"],[\"LolliPop\",\"Mixture31\"],[\"LolliPop\",\"Mixture35\"],[\"LolliPop\",\"Mixture01\"],[\"LolliPop\",\"Mixture02\"],[\"LolliPop\",\"Mixture06\"],[\"LolliPop\",\"Mixture18\"],[\"LolliPop\",\"Mixture31\"],[\"LolliPop\",\"Mixture37\"],[\"LolliPop\",\"Mixture01\"],[\"LolliPop\",\"Mixture02\"],[\"LolliPop\",\"Mixture04\"],[\"LolliPop\",\"Mixture06\"],[\"LolliPop\",\"Mixture08\"],[\"LolliPop\",\"Mixture10\"],[\"LolliPop\",\"Mixture19\"],[\"LolliPop\",\"Mixture31\"],[\"LolliPop\",\"Mixture32\"],[\"LolliPop\",\"Mixture38\"],[\"LolliPop\",\"Mixture01\"],[\"LolliPop\",\"Mixture03\"],[\"LolliPop\",\"Mixture04\"],[\"LolliPop\",\"Mixture06\"],[\"LolliPop\",\"Mixture08\"],[\"LolliPop\",\"Mixture10\"],[\"LolliPop\",\"Mixture20\"],[\"LolliPop\",\"Mixture28\"],[\"LolliPop\",\"Mixture29\"],[\"LolliPop\",\"Mixture30\"],[\"LolliPop\",\"Mixture32\"],[\"LolliPop\",\"Mixture39\"],[\"LolliPop\",\"Mixture01\"],[\"LolliPop\",\"Mixture03\"],[\"LolliPop\",\"Mixture05\"],[\"LolliPop\",\"Mixture07\"],[\"LolliPop\",\"Mixture08\"],[\"LolliPop\",\"Mixture13\"],[\"LolliPop\",\"Mixture26\"],[\"LolliPop\",\"Mixture27\"],[\"LolliPop\",\"Mixture29\"],[\"LolliPop\",\"Mixture30\"],[\"LolliPop\",\"Mixture32\"],[\"LolliPop\",\"Mixture42\"],[\"LolliPop\",\"Mixture01\"],[\"LolliPop\",\"Mixture03\"],[\"LolliPop\",\"Mixture05\"],[\"LolliPop\",\"Mixture07\"],[\"LolliPop\",\"Mixture08\"],[\"LolliPop\",\"Mixture12\"],[\"LolliPop\",\"Mixture24\"],[\"LolliPop\",\"Mixture25\"],[\"LolliPop\",\"Mixture29\"],[\"LolliPop\",\"Mixture30\"],[\"LolliPop\",\"Mixture32\"],[\"LolliPop\",\"Mixture41\"]],\"hovertemplate\":\"Scheme=%{customdata[0]}\\u003cbr\\u003eLineages=%{x}\\u003cbr\\u003ePercent of expected abundance=%{y}\\u003cbr\\u003eSample name=%{customdata[1]}\\u003cextra\\u003e\\u003c\\u002fextra\\u003e\",\"legendgroup\":\"LolliPop\",\"marker\":{\"color\":\"#19d3f3\"},\"name\":\"LolliPop\",\"notched\":false,\"offsetgroup\":\"LolliPop\",\"orientation\":\"v\",\"showlegend\":true,\"x\":[\"Alpha\",\"Alpha\",\"Alpha\",\"Alpha\",\"Alpha\",\"Alpha\",\"Alpha\",\"Alpha\",\"Alpha\",\"Gamma\",\"Gamma\",\"Gamma\",\"Gamma\",\"Gamma\",\"Gamma\",\"Gamma\",\"Gamma\",\"Delta\",\"Delta\",\"Delta\",\"Delta\",\"Delta\",\"Delta\",\"BA.1.X\",\"BA.1.X\",\"BA.1.X\",\"BA.1.X\",\"BA.1.X\",\"BA.1.X\",\"BA.1.X\",\"BA.1.X\",\"BA.1.X\",\"BA.1.X\",\"BA.2.X\",\"BA.2.X\",\"BA.2.X\",\"BA.2.X\",\"BA.2.X\",\"BA.2.X\",\"BA.2.X\",\"BA.2.X\",\"BA.2.X\",\"BA.2.X\",\"BA.2.X\",\"BA.2.X\",\"BA.4.X\",\"BA.4.X\",\"BA.4.X\",\"BA.4.X\",\"BA.4.X\",\"BA.4.X\",\"BA.4.X\",\"BA.4.X\",\"BA.4.X\",\"BA.4.X\",\"BA.4.X\",\"BA.4.X\",\"BA.5.X\",\"BA.5.X\",\"BA.5.X\",\"BA.5.X\",\"BA.5.X\",\"BA.5.X\",\"BA.5.X\",\"BA.5.X\",\"BA.5.X\",\"BA.5.X\",\"BA.5.X\",\"BA.5.X\"],\"x0\":\" \",\"xaxis\":\"x\",\"y\":[72.6,70.6,67.52,96.96000000000001,72.32,88.48,89.17999999999999,61.68,87.48,62.4,52.16,68.58666666666666,61.760000000000005,62.32,91.12,68.80999999999999,91.56,73.2,97.06666666666666,94.18666666666667,90.6,86.1,90.86000000000001,44.55,39.839999999999996,62.08,58.02666666666666,52.64,51.413333333333334,79.16,46.9,40.64,82.25,242.85000000000002,159.72000000000003,96.99199999999999,186.13333333333333,158.6,88.75200000000001,74.2,79.38,186.0,157.16000000000003,282.0,79.36000000000001,155.25,126.77333333333334,160.00000000000003,144.8,132.88000000000002,52.88,62.93,59.07,108.72,102.0,157.20000000000002,56.31,82.5,74.656,52.959999999999994,59.94666666666667,68.2,85.66,90.25999999999999,77.06,50.4,72.52,78.56,77.71000000000001],\"y0\":\" \",\"yaxis\":\"y\",\"type\":\"box\"},{\"alignmentgroup\":\"True\",\"boxpoints\":\"all\",\"customdata\":[[\"lineagespot\",\"Mixture15\"],[\"lineagespot\",\"Mixture34\"],[\"lineagespot\",\"Mixture35\"],[\"lineagespot\",\"Mixture18\"],[\"lineagespot\",\"Mixture37\"]],\"hovertemplate\":\"Scheme=%{customdata[0]}\\u003cbr\\u003eLineages=%{x}\\u003cbr\\u003ePercent of expected abundance=%{y}\\u003cbr\\u003eSample name=%{customdata[1]}\\u003cextra\\u003e\\u003c\\u002fextra\\u003e\",\"legendgroup\":\"lineagespot\",\"marker\":{\"color\":\"#FF6692\"},\"name\":\"lineagespot\",\"notched\":false,\"offsetgroup\":\"lineagespot\",\"orientation\":\"v\",\"showlegend\":true,\"x\":[\"Alpha\",\"Alpha\",\"Gamma\",\"Delta\",\"Delta\"],\"x0\":\" \",\"xaxis\":\"x\",\"y\":[17.79,8.89,13.459999999999999,17.89,3.45],\"y0\":\" \",\"yaxis\":\"y\",\"type\":\"box\"},{\"alignmentgroup\":\"True\",\"boxpoints\":\"all\",\"customdata\":[[\"Kraken 2 (C-WAP)\",\"Mixture01\"],[\"Kraken 2 (C-WAP)\",\"Mixture02\"],[\"Kraken 2 (C-WAP)\",\"Mixture04\"],[\"Kraken 2 (C-WAP)\",\"Mixture06\"],[\"Kraken 2 (C-WAP)\",\"Mixture08\"],[\"Kraken 2 (C-WAP)\",\"Mixture10\"],[\"Kraken 2 (C-WAP)\",\"Mixture19\"],[\"Kraken 2 (C-WAP)\",\"Mixture31\"],[\"Kraken 2 (C-WAP)\",\"Mixture32\"],[\"Kraken 2 (C-WAP)\",\"Mixture38\"],[\"Kraken 2 (C-WAP)\",\"Mixture01\"],[\"Kraken 2 (C-WAP)\",\"Mixture03\"],[\"Kraken 2 (C-WAP)\",\"Mixture04\"],[\"Kraken 2 (C-WAP)\",\"Mixture06\"],[\"Kraken 2 (C-WAP)\",\"Mixture08\"],[\"Kraken 2 (C-WAP)\",\"Mixture10\"],[\"Kraken 2 (C-WAP)\",\"Mixture20\"],[\"Kraken 2 (C-WAP)\",\"Mixture28\"],[\"Kraken 2 (C-WAP)\",\"Mixture29\"],[\"Kraken 2 (C-WAP)\",\"Mixture30\"],[\"Kraken 2 (C-WAP)\",\"Mixture32\"],[\"Kraken 2 (C-WAP)\",\"Mixture39\"],[\"Kraken 2 (C-WAP)\",\"Mixture01\"],[\"Kraken 2 (C-WAP)\",\"Mixture03\"],[\"Kraken 2 (C-WAP)\",\"Mixture05\"],[\"Kraken 2 (C-WAP)\",\"Mixture07\"],[\"Kraken 2 (C-WAP)\",\"Mixture08\"],[\"Kraken 2 (C-WAP)\",\"Mixture13\"],[\"Kraken 2 (C-WAP)\",\"Mixture26\"],[\"Kraken 2 (C-WAP)\",\"Mixture27\"],[\"Kraken 2 (C-WAP)\",\"Mixture29\"],[\"Kraken 2 (C-WAP)\",\"Mixture30\"],[\"Kraken 2 (C-WAP)\",\"Mixture32\"],[\"Kraken 2 (C-WAP)\",\"Mixture42\"],[\"Kraken 2 (C-WAP)\",\"Mixture01\"],[\"Kraken 2 (C-WAP)\",\"Mixture03\"],[\"Kraken 2 (C-WAP)\",\"Mixture05\"],[\"Kraken 2 (C-WAP)\",\"Mixture07\"],[\"Kraken 2 (C-WAP)\",\"Mixture08\"],[\"Kraken 2 (C-WAP)\",\"Mixture12\"],[\"Kraken 2 (C-WAP)\",\"Mixture24\"],[\"Kraken 2 (C-WAP)\",\"Mixture25\"],[\"Kraken 2 (C-WAP)\",\"Mixture29\"],[\"Kraken 2 (C-WAP)\",\"Mixture30\"],[\"Kraken 2 (C-WAP)\",\"Mixture32\"],[\"Kraken 2 (C-WAP)\",\"Mixture41\"]],\"hovertemplate\":\"Scheme=%{customdata[0]}\\u003cbr\\u003eLineages=%{x}\\u003cbr\\u003ePercent of expected abundance=%{y}\\u003cbr\\u003eSample name=%{customdata[1]}\\u003cextra\\u003e\\u003c\\u002fextra\\u003e\",\"legendgroup\":\"Kraken 2 (C-WAP)\",\"marker\":{\"color\":\"#B6E880\"},\"name\":\"Kraken 2 (C-WAP)\",\"notched\":false,\"offsetgroup\":\"Kraken 2 (C-WAP)\",\"orientation\":\"v\",\"showlegend\":true,\"x\":[\"BA.1.X\",\"BA.1.X\",\"BA.1.X\",\"BA.1.X\",\"BA.1.X\",\"BA.1.X\",\"BA.1.X\",\"BA.1.X\",\"BA.1.X\",\"BA.1.X\",\"BA.2.X\",\"BA.2.X\",\"BA.2.X\",\"BA.2.X\",\"BA.2.X\",\"BA.2.X\",\"BA.2.X\",\"BA.2.X\",\"BA.2.X\",\"BA.2.X\",\"BA.2.X\",\"BA.2.X\",\"BA.4.X\",\"BA.4.X\",\"BA.4.X\",\"BA.4.X\",\"BA.4.X\",\"BA.4.X\",\"BA.4.X\",\"BA.4.X\",\"BA.4.X\",\"BA.4.X\",\"BA.4.X\",\"BA.4.X\",\"BA.5.X\",\"BA.5.X\",\"BA.5.X\",\"BA.5.X\",\"BA.5.X\",\"BA.5.X\",\"BA.5.X\",\"BA.5.X\",\"BA.5.X\",\"BA.5.X\",\"BA.5.X\",\"BA.5.X\"],\"x0\":\" \",\"xaxis\":\"x\",\"y\":[452.85,367.6,179.84,262.40000000000003,150.2,116.93333333333334,58.5,260.88999999999993,198.4,61.199999999999996,284.55,181.64000000000001,89.24800000000002,154.61333333333334,137.04000000000002,40.752,32.25000000000001,33.900000000000006,189.0,177.24,319.44000000000005,34.67,216.07499999999996,188.8,173.97333333333333,151.78666666666666,218.48000000000002,42.27,44.16,42.44,130.84,136.36,220.08,40.4,3.225,1.568,2.76,2.3466666666666667,2.48,0.75,0.5700000000000001,0.5599999999999999,1.68,2.8400000000000003,4.8,0.72],\"y0\":\" \",\"yaxis\":\"y\",\"type\":\"box\"}],                        {\"template\":{\"data\":{\"histogram2dcontour\":[{\"type\":\"histogram2dcontour\",\"colorbar\":{\"outlinewidth\":0,\"ticks\":\"\"},\"colorscale\":[[0.0,\"#0d0887\"],[0.1111111111111111,\"#46039f\"],[0.2222222222222222,\"#7201a8\"],[0.3333333333333333,\"#9c179e\"],[0.4444444444444444,\"#bd3786\"],[0.5555555555555556,\"#d8576b\"],[0.6666666666666666,\"#ed7953\"],[0.7777777777777778,\"#fb9f3a\"],[0.8888888888888888,\"#fdca26\"],[1.0,\"#f0f921\"]]}],\"choropleth\":[{\"type\":\"choropleth\",\"colorbar\":{\"outlinewidth\":0,\"ticks\":\"\"}}],\"histogram2d\":[{\"type\":\"histogram2d\",\"colorbar\":{\"outlinewidth\":0,\"ticks\":\"\"},\"colorscale\":[[0.0,\"#0d0887\"],[0.1111111111111111,\"#46039f\"],[0.2222222222222222,\"#7201a8\"],[0.3333333333333333,\"#9c179e\"],[0.4444444444444444,\"#bd3786\"],[0.5555555555555556,\"#d8576b\"],[0.6666666666666666,\"#ed7953\"],[0.7777777777777778,\"#fb9f3a\"],[0.8888888888888888,\"#fdca26\"],[1.0,\"#f0f921\"]]}],\"heatmap\":[{\"type\":\"heatmap\",\"colorbar\":{\"outlinewidth\":0,\"ticks\":\"\"},\"colorscale\":[[0.0,\"#0d0887\"],[0.1111111111111111,\"#46039f\"],[0.2222222222222222,\"#7201a8\"],[0.3333333333333333,\"#9c179e\"],[0.4444444444444444,\"#bd3786\"],[0.5555555555555556,\"#d8576b\"],[0.6666666666666666,\"#ed7953\"],[0.7777777777777778,\"#fb9f3a\"],[0.8888888888888888,\"#fdca26\"],[1.0,\"#f0f921\"]]}],\"heatmapgl\":[{\"type\":\"heatmapgl\",\"colorbar\":{\"outlinewidth\":0,\"ticks\":\"\"},\"colorscale\":[[0.0,\"#0d0887\"],[0.1111111111111111,\"#46039f\"],[0.2222222222222222,\"#7201a8\"],[0.3333333333333333,\"#9c179e\"],[0.4444444444444444,\"#bd3786\"],[0.5555555555555556,\"#d8576b\"],[0.6666666666666666,\"#ed7953\"],[0.7777777777777778,\"#fb9f3a\"],[0.8888888888888888,\"#fdca26\"],[1.0,\"#f0f921\"]]}],\"contourcarpet\":[{\"type\":\"contourcarpet\",\"colorbar\":{\"outlinewidth\":0,\"ticks\":\"\"}}],\"contour\":[{\"type\":\"contour\",\"colorbar\":{\"outlinewidth\":0,\"ticks\":\"\"},\"colorscale\":[[0.0,\"#0d0887\"],[0.1111111111111111,\"#46039f\"],[0.2222222222222222,\"#7201a8\"],[0.3333333333333333,\"#9c179e\"],[0.4444444444444444,\"#bd3786\"],[0.5555555555555556,\"#d8576b\"],[0.6666666666666666,\"#ed7953\"],[0.7777777777777778,\"#fb9f3a\"],[0.8888888888888888,\"#fdca26\"],[1.0,\"#f0f921\"]]}],\"surface\":[{\"type\":\"surface\",\"colorbar\":{\"outlinewidth\":0,\"ticks\":\"\"},\"colorscale\":[[0.0,\"#0d0887\"],[0.1111111111111111,\"#46039f\"],[0.2222222222222222,\"#7201a8\"],[0.3333333333333333,\"#9c179e\"],[0.4444444444444444,\"#bd3786\"],[0.5555555555555556,\"#d8576b\"],[0.6666666666666666,\"#ed7953\"],[0.7777777777777778,\"#fb9f3a\"],[0.8888888888888888,\"#fdca26\"],[1.0,\"#f0f921\"]]}],\"mesh3d\":[{\"type\":\"mesh3d\",\"colorbar\":{\"outlinewidth\":0,\"ticks\":\"\"}}],\"scatter\":[{\"fillpattern\":{\"fillmode\":\"overlay\",\"size\":10,\"solidity\":0.2},\"type\":\"scatter\"}],\"parcoords\":[{\"type\":\"parcoords\",\"line\":{\"colorbar\":{\"outlinewidth\":0,\"ticks\":\"\"}}}],\"scatterpolargl\":[{\"type\":\"scatterpolargl\",\"marker\":{\"colorbar\":{\"outlinewidth\":0,\"ticks\":\"\"}}}],\"bar\":[{\"error_x\":{\"color\":\"#2a3f5f\"},\"error_y\":{\"color\":\"#2a3f5f\"},\"marker\":{\"line\":{\"color\":\"#E5ECF6\",\"width\":0.5},\"pattern\":{\"fillmode\":\"overlay\",\"size\":10,\"solidity\":0.2}},\"type\":\"bar\"}],\"scattergeo\":[{\"type\":\"scattergeo\",\"marker\":{\"colorbar\":{\"outlinewidth\":0,\"ticks\":\"\"}}}],\"scatterpolar\":[{\"type\":\"scatterpolar\",\"marker\":{\"colorbar\":{\"outlinewidth\":0,\"ticks\":\"\"}}}],\"histogram\":[{\"marker\":{\"pattern\":{\"fillmode\":\"overlay\",\"size\":10,\"solidity\":0.2}},\"type\":\"histogram\"}],\"scattergl\":[{\"type\":\"scattergl\",\"marker\":{\"colorbar\":{\"outlinewidth\":0,\"ticks\":\"\"}}}],\"scatter3d\":[{\"type\":\"scatter3d\",\"line\":{\"colorbar\":{\"outlinewidth\":0,\"ticks\":\"\"}},\"marker\":{\"colorbar\":{\"outlinewidth\":0,\"ticks\":\"\"}}}],\"scattermapbox\":[{\"type\":\"scattermapbox\",\"marker\":{\"colorbar\":{\"outlinewidth\":0,\"ticks\":\"\"}}}],\"scatterternary\":[{\"type\":\"scatterternary\",\"marker\":{\"colorbar\":{\"outlinewidth\":0,\"ticks\":\"\"}}}],\"scattercarpet\":[{\"type\":\"scattercarpet\",\"marker\":{\"colorbar\":{\"outlinewidth\":0,\"ticks\":\"\"}}}],\"carpet\":[{\"aaxis\":{\"endlinecolor\":\"#2a3f5f\",\"gridcolor\":\"white\",\"linecolor\":\"white\",\"minorgridcolor\":\"white\",\"startlinecolor\":\"#2a3f5f\"},\"baxis\":{\"endlinecolor\":\"#2a3f5f\",\"gridcolor\":\"white\",\"linecolor\":\"white\",\"minorgridcolor\":\"white\",\"startlinecolor\":\"#2a3f5f\"},\"type\":\"carpet\"}],\"table\":[{\"cells\":{\"fill\":{\"color\":\"#EBF0F8\"},\"line\":{\"color\":\"white\"}},\"header\":{\"fill\":{\"color\":\"#C8D4E3\"},\"line\":{\"color\":\"white\"}},\"type\":\"table\"}],\"barpolar\":[{\"marker\":{\"line\":{\"color\":\"#E5ECF6\",\"width\":0.5},\"pattern\":{\"fillmode\":\"overlay\",\"size\":10,\"solidity\":0.2}},\"type\":\"barpolar\"}],\"pie\":[{\"automargin\":true,\"type\":\"pie\"}]},\"layout\":{\"autotypenumbers\":\"strict\",\"colorway\":[\"#636efa\",\"#EF553B\",\"#00cc96\",\"#ab63fa\",\"#FFA15A\",\"#19d3f3\",\"#FF6692\",\"#B6E880\",\"#FF97FF\",\"#FECB52\"],\"font\":{\"color\":\"#2a3f5f\"},\"hovermode\":\"closest\",\"hoverlabel\":{\"align\":\"left\"},\"paper_bgcolor\":\"white\",\"plot_bgcolor\":\"#E5ECF6\",\"polar\":{\"bgcolor\":\"#E5ECF6\",\"angularaxis\":{\"gridcolor\":\"white\",\"linecolor\":\"white\",\"ticks\":\"\"},\"radialaxis\":{\"gridcolor\":\"white\",\"linecolor\":\"white\",\"ticks\":\"\"}},\"ternary\":{\"bgcolor\":\"#E5ECF6\",\"aaxis\":{\"gridcolor\":\"white\",\"linecolor\":\"white\",\"ticks\":\"\"},\"baxis\":{\"gridcolor\":\"white\",\"linecolor\":\"white\",\"ticks\":\"\"},\"caxis\":{\"gridcolor\":\"white\",\"linecolor\":\"white\",\"ticks\":\"\"}},\"coloraxis\":{\"colorbar\":{\"outlinewidth\":0,\"ticks\":\"\"}},\"colorscale\":{\"sequential\":[[0.0,\"#0d0887\"],[0.1111111111111111,\"#46039f\"],[0.2222222222222222,\"#7201a8\"],[0.3333333333333333,\"#9c179e\"],[0.4444444444444444,\"#bd3786\"],[0.5555555555555556,\"#d8576b\"],[0.6666666666666666,\"#ed7953\"],[0.7777777777777778,\"#fb9f3a\"],[0.8888888888888888,\"#fdca26\"],[1.0,\"#f0f921\"]],\"sequentialminus\":[[0.0,\"#0d0887\"],[0.1111111111111111,\"#46039f\"],[0.2222222222222222,\"#7201a8\"],[0.3333333333333333,\"#9c179e\"],[0.4444444444444444,\"#bd3786\"],[0.5555555555555556,\"#d8576b\"],[0.6666666666666666,\"#ed7953\"],[0.7777777777777778,\"#fb9f3a\"],[0.8888888888888888,\"#fdca26\"],[1.0,\"#f0f921\"]],\"diverging\":[[0,\"#8e0152\"],[0.1,\"#c51b7d\"],[0.2,\"#de77ae\"],[0.3,\"#f1b6da\"],[0.4,\"#fde0ef\"],[0.5,\"#f7f7f7\"],[0.6,\"#e6f5d0\"],[0.7,\"#b8e186\"],[0.8,\"#7fbc41\"],[0.9,\"#4d9221\"],[1,\"#276419\"]]},\"xaxis\":{\"gridcolor\":\"white\",\"linecolor\":\"white\",\"ticks\":\"\",\"title\":{\"standoff\":15},\"zerolinecolor\":\"white\",\"automargin\":true,\"zerolinewidth\":2},\"yaxis\":{\"gridcolor\":\"white\",\"linecolor\":\"white\",\"ticks\":\"\",\"title\":{\"standoff\":15},\"zerolinecolor\":\"white\",\"automargin\":true,\"zerolinewidth\":2},\"scene\":{\"xaxis\":{\"backgroundcolor\":\"#E5ECF6\",\"gridcolor\":\"white\",\"linecolor\":\"white\",\"showbackground\":true,\"ticks\":\"\",\"zerolinecolor\":\"white\",\"gridwidth\":2},\"yaxis\":{\"backgroundcolor\":\"#E5ECF6\",\"gridcolor\":\"white\",\"linecolor\":\"white\",\"showbackground\":true,\"ticks\":\"\",\"zerolinecolor\":\"white\",\"gridwidth\":2},\"zaxis\":{\"backgroundcolor\":\"#E5ECF6\",\"gridcolor\":\"white\",\"linecolor\":\"white\",\"showbackground\":true,\"ticks\":\"\",\"zerolinecolor\":\"white\",\"gridwidth\":2}},\"shapedefaults\":{\"line\":{\"color\":\"#2a3f5f\"}},\"annotationdefaults\":{\"arrowcolor\":\"#2a3f5f\",\"arrowhead\":0,\"arrowwidth\":1},\"geo\":{\"bgcolor\":\"white\",\"landcolor\":\"#E5ECF6\",\"subunitcolor\":\"white\",\"showland\":true,\"showlakes\":true,\"lakecolor\":\"white\"},\"title\":{\"x\":0.05},\"mapbox\":{\"style\":\"light\"}}},\"xaxis\":{\"anchor\":\"y\",\"domain\":[0.0,1.0],\"title\":{\"text\":\"Lineages\"}},\"yaxis\":{\"anchor\":\"x\",\"domain\":[0.0,1.0],\"title\":{\"text\":\"Percent of expected abundance\"},\"range\":[0,460]},\"legend\":{\"title\":{\"text\":\"Scheme\"},\"tracegroupgap\":0},\"title\":{\"text\":\"Lineage abundance estimates as a percent of expected abundance - NWRB mixtures\"},\"boxmode\":\"group\"},                        {\"responsive\": true}                    ).then(function(){\n",
       "                            \n",
       "var gd = document.getElementById('c00c2f1c-ff82-435d-b16b-385dadbdb633');\n",
       "var x = new MutationObserver(function (mutations, observer) {{\n",
       "        var display = window.getComputedStyle(gd).display;\n",
       "        if (!display || display === 'none') {{\n",
       "            console.log([gd, 'removed!']);\n",
       "            Plotly.purge(gd);\n",
       "            observer.disconnect();\n",
       "        }}\n",
       "}});\n",
       "\n",
       "// Listen for the removal of the full notebook cells\n",
       "var notebookContainer = gd.closest('#notebook-container');\n",
       "if (notebookContainer) {{\n",
       "    x.observe(notebookContainer, {childList: true});\n",
       "}}\n",
       "\n",
       "// Listen for the clearing of the current output cell\n",
       "var outputEl = gd.closest('.output');\n",
       "if (outputEl) {{\n",
       "    x.observe(outputEl, {childList: true});\n",
       "}}\n",
       "\n",
       "                        })                };                });            </script>        </div>"
      ]
     },
     "metadata": {},
     "output_type": "display_data"
    },
    {
     "data": {
      "application/vnd.plotly.v1+json": {
       "config": {
        "plotlyServerURL": "https://plot.ly"
       },
       "data": [
        {
         "alignmentgroup": "True",
         "boxpoints": "all",
         "customdata": [
          [
           "Freyja",
           "Mixture14"
          ],
          [
           "Freyja",
           "Mixture05"
          ],
          [
           "Freyja",
           "Mixture21"
          ],
          [
           "Freyja",
           "Mixture09"
          ],
          [
           "Freyja",
           "Mixture33"
          ],
          [
           "Freyja",
           "Mixture01"
          ],
          [
           "Freyja",
           "Mixture02"
          ],
          [
           "Freyja",
           "Mixture15"
          ],
          [
           "Freyja",
           "Mixture06"
          ],
          [
           "Freyja",
           "Mixture31"
          ],
          [
           "Freyja",
           "Mixture07"
          ],
          [
           "Freyja",
           "Mixture04"
          ],
          [
           "Freyja",
           "Mixture32"
          ],
          [
           "Freyja",
           "Mixture34"
          ],
          [
           "Freyja",
           "Mixture01"
          ],
          [
           "Freyja",
           "Mixture16"
          ],
          [
           "Freyja",
           "Mixture02"
          ],
          [
           "Freyja",
           "Mixture06"
          ],
          [
           "Freyja",
           "Mixture31"
          ],
          [
           "Freyja",
           "Mixture07"
          ],
          [
           "Freyja",
           "Mixture04"
          ],
          [
           "Freyja",
           "Mixture35"
          ],
          [
           "Freyja",
           "Mixture01"
          ],
          [
           "Freyja",
           "Mixture02"
          ],
          [
           "Freyja",
           "Mixture06"
          ],
          [
           "Freyja",
           "Mixture31"
          ],
          [
           "Freyja",
           "Mixture18"
          ],
          [
           "Freyja",
           "Mixture37"
          ],
          [
           "Freyja",
           "Mixture01"
          ],
          [
           "Freyja",
           "Mixture02"
          ],
          [
           "Freyja",
           "Mixture06"
          ],
          [
           "Freyja",
           "Mixture17"
          ],
          [
           "Freyja",
           "Mixture31"
          ],
          [
           "Freyja",
           "Mixture07"
          ],
          [
           "Freyja",
           "Mixture04"
          ],
          [
           "Freyja",
           "Mixture32"
          ],
          [
           "Freyja",
           "Mixture36"
          ],
          [
           "Freyja",
           "Mixture01"
          ],
          [
           "Freyja",
           "Mixture02"
          ],
          [
           "Freyja",
           "Mixture08"
          ],
          [
           "Freyja",
           "Mixture06"
          ],
          [
           "Freyja",
           "Mixture31"
          ],
          [
           "Freyja",
           "Mixture38"
          ],
          [
           "Freyja",
           "Mixture04"
          ],
          [
           "Freyja",
           "Mixture32"
          ],
          [
           "Freyja",
           "Mixture10"
          ],
          [
           "Freyja",
           "Mixture19"
          ],
          [
           "Freyja",
           "Mixture01"
          ],
          [
           "Freyja",
           "Mixture08"
          ],
          [
           "Freyja",
           "Mixture06"
          ],
          [
           "Freyja",
           "Mixture03"
          ],
          [
           "Freyja",
           "Mixture04"
          ],
          [
           "Freyja",
           "Mixture30"
          ],
          [
           "Freyja",
           "Mixture28"
          ],
          [
           "Freyja",
           "Mixture32"
          ],
          [
           "Freyja",
           "Mixture39"
          ],
          [
           "Freyja",
           "Mixture10"
          ],
          [
           "Freyja",
           "Mixture29"
          ],
          [
           "Freyja",
           "Mixture20"
          ],
          [
           "Freyja",
           "Mixture01"
          ],
          [
           "Freyja",
           "Mixture08"
          ],
          [
           "Freyja",
           "Mixture05"
          ],
          [
           "Freyja",
           "Mixture06"
          ],
          [
           "Freyja",
           "Mixture03"
          ],
          [
           "Freyja",
           "Mixture07"
          ],
          [
           "Freyja",
           "Mixture40"
          ],
          [
           "Freyja",
           "Mixture23"
          ],
          [
           "Freyja",
           "Mixture30"
          ],
          [
           "Freyja",
           "Mixture22"
          ],
          [
           "Freyja",
           "Mixture32"
          ],
          [
           "Freyja",
           "Mixture11"
          ],
          [
           "Freyja",
           "Mixture29"
          ],
          [
           "Freyja",
           "Mixture01"
          ],
          [
           "Freyja",
           "Mixture42"
          ],
          [
           "Freyja",
           "Mixture08"
          ],
          [
           "Freyja",
           "Mixture05"
          ],
          [
           "Freyja",
           "Mixture03"
          ],
          [
           "Freyja",
           "Mixture07"
          ],
          [
           "Freyja",
           "Mixture13"
          ],
          [
           "Freyja",
           "Mixture30"
          ],
          [
           "Freyja",
           "Mixture26"
          ],
          [
           "Freyja",
           "Mixture32"
          ],
          [
           "Freyja",
           "Mixture29"
          ],
          [
           "Freyja",
           "Mixture27"
          ],
          [
           "Freyja",
           "Mixture01"
          ],
          [
           "Freyja",
           "Mixture25"
          ],
          [
           "Freyja",
           "Mixture08"
          ],
          [
           "Freyja",
           "Mixture05"
          ],
          [
           "Freyja",
           "Mixture03"
          ],
          [
           "Freyja",
           "Mixture12"
          ],
          [
           "Freyja",
           "Mixture07"
          ],
          [
           "Freyja",
           "Mixture30"
          ],
          [
           "Freyja",
           "Mixture32"
          ],
          [
           "Freyja",
           "Mixture24"
          ],
          [
           "Freyja",
           "Mixture29"
          ],
          [
           "Freyja",
           "Mixture41"
          ]
         ],
         "hovertemplate": "Scheme=%{customdata[0]}<br>Lineages=%{x}<br>Percent of expected abundance=%{y}<br>Sample name=%{customdata[1]}<extra></extra>",
         "legendgroup": "Freyja",
         "marker": {
          "color": "#636efa"
         },
         "name": "Freyja",
         "notched": false,
         "offsetgroup": "Freyja",
         "orientation": "v",
         "showlegend": true,
         "type": "box",
         "x": [
          "Wuhan-hu-1",
          "Wuhan-hu-1",
          "Wuhan-hu-1",
          "Wuhan-hu-1",
          "Wuhan-hu-1",
          "Alpha",
          "Alpha",
          "Alpha",
          "Alpha",
          "Alpha",
          "Alpha",
          "Alpha",
          "Alpha",
          "Alpha",
          "Gamma",
          "Gamma",
          "Gamma",
          "Gamma",
          "Gamma",
          "Gamma",
          "Gamma",
          "Gamma",
          "Delta",
          "Delta",
          "Delta",
          "Delta",
          "Delta",
          "Delta",
          "Iota",
          "Iota",
          "Iota",
          "Iota",
          "Iota",
          "Iota",
          "Iota",
          "Iota",
          "Iota",
          "BA.1.X",
          "BA.1.X",
          "BA.1.X",
          "BA.1.X",
          "BA.1.X",
          "BA.1.X",
          "BA.1.X",
          "BA.1.X",
          "BA.1.X",
          "BA.1.X",
          "BA.2.X",
          "BA.2.X",
          "BA.2.X",
          "BA.2.X",
          "BA.2.X",
          "BA.2.X",
          "BA.2.X",
          "BA.2.X",
          "BA.2.X",
          "BA.2.X",
          "BA.2.X",
          "BA.2.X",
          "BG.X",
          "BG.X",
          "BG.X",
          "BG.X",
          "BG.X",
          "BG.X",
          "BG.X",
          "BG.X",
          "BG.X",
          "BG.X",
          "BG.X",
          "BG.X",
          "BG.X",
          "BA.4.X",
          "BA.4.X",
          "BA.4.X",
          "BA.4.X",
          "BA.4.X",
          "BA.4.X",
          "BA.4.X",
          "BA.4.X",
          "BA.4.X",
          "BA.4.X",
          "BA.4.X",
          "BA.4.X",
          "BA.5.X",
          "BA.5.X",
          "BA.5.X",
          "BA.5.X",
          "BA.5.X",
          "BA.5.X",
          "BA.5.X",
          "BA.5.X",
          "BA.5.X",
          "BA.5.X",
          "BA.5.X",
          "BA.5.X"
         ],
         "x0": " ",
         "xaxis": "x",
         "y": [
          92.124138,
          9.596429333333333,
          48.958527000000004,
          32.322431,
          49.038601,
          78.85362,
          73.727752,
          98.915601,
          82.866208,
          86.325876,
          66.264192,
          73.2264,
          67.1044,
          98.675235,
          53.41143,
          99.074617,
          53.603328,
          55.76972799999999,
          60.590564999999984,
          50.486087999999995,
          56.98369066666666,
          99.43946700000001,
          59.227125,
          79.15253866666666,
          89.66210666666666,
          68.06232999999999,
          98.523117,
          98.864393,
          126.12348,
          152.936,
          158.3184,
          97.974333,
          134.44899999999998,
          129.30513066666666,
          144.1224,
          119.86518399999999,
          98.51354500000001,
          29.455349999999996,
          47.093295999999995,
          55.603183999999985,
          50.53093333333334,
          45.099453,
          98.225133,
          42.542538666666665,
          25.7554,
          58.09465333333333,
          98.44079,
          122.26097999999999,
          106.95666800000001,
          153.81938133333338,
          93.93612800000001,
          108.07401279999999,
          141.513856,
          97.58153900000002,
          90.373272,
          97.72062700000001,
          116.19577920000002,
          105.590448,
          97.495556,
          45.014145,
          62.653527999999994,
          31.302207999999997,
          38.584448,
          86.060944,
          32.994279999999996,
          92.377707,
          98.959442,
          54.166216,
          98.344315,
          27.704943999999998,
          98.49303,
          58.456224,
          192.68721,
          98.38371199999999,
          268.854216,
          207.04875199999998,
          209.23265066666664,
          194.977696,
          98.683058,
          126.85680400000001,
          98.808481,
          199.6894,
          186.777488,
          98.63309299999999,
          28.169685,
          98.057993,
          40.539339999999996,
          26.550515999999995,
          38.398339199999995,
          98.21974800000001,
          18.388272000000004,
          63.590168000000006,
          34.75650400000001,
          98.91873799999999,
          37.318044,
          82.44269
         ],
         "y0": " ",
         "yaxis": "y"
        },
        {
         "alignmentgroup": "True",
         "boxpoints": "all",
         "customdata": [
          [
           "kallisto (C-WAP)",
           "Mixture01"
          ],
          [
           "kallisto (C-WAP)",
           "Mixture02"
          ],
          [
           "kallisto (C-WAP)",
           "Mixture04"
          ],
          [
           "kallisto (C-WAP)",
           "Mixture05"
          ],
          [
           "kallisto (C-WAP)",
           "Mixture09"
          ],
          [
           "kallisto (C-WAP)",
           "Mixture14"
          ],
          [
           "kallisto (C-WAP)",
           "Mixture21"
          ],
          [
           "kallisto (C-WAP)",
           "Mixture31"
          ],
          [
           "kallisto (C-WAP)",
           "Mixture32"
          ],
          [
           "kallisto (C-WAP)",
           "Mixture33"
          ],
          [
           "kallisto (C-WAP)",
           "Mixture01"
          ],
          [
           "kallisto (C-WAP)",
           "Mixture02"
          ],
          [
           "kallisto (C-WAP)",
           "Mixture04"
          ],
          [
           "kallisto (C-WAP)",
           "Mixture06"
          ],
          [
           "kallisto (C-WAP)",
           "Mixture07"
          ],
          [
           "kallisto (C-WAP)",
           "Mixture15"
          ],
          [
           "kallisto (C-WAP)",
           "Mixture31"
          ],
          [
           "kallisto (C-WAP)",
           "Mixture32"
          ],
          [
           "kallisto (C-WAP)",
           "Mixture34"
          ],
          [
           "kallisto (C-WAP)",
           "Mixture01"
          ],
          [
           "kallisto (C-WAP)",
           "Mixture02"
          ],
          [
           "kallisto (C-WAP)",
           "Mixture04"
          ],
          [
           "kallisto (C-WAP)",
           "Mixture06"
          ],
          [
           "kallisto (C-WAP)",
           "Mixture07"
          ],
          [
           "kallisto (C-WAP)",
           "Mixture16"
          ],
          [
           "kallisto (C-WAP)",
           "Mixture31"
          ],
          [
           "kallisto (C-WAP)",
           "Mixture35"
          ],
          [
           "kallisto (C-WAP)",
           "Mixture01"
          ],
          [
           "kallisto (C-WAP)",
           "Mixture02"
          ],
          [
           "kallisto (C-WAP)",
           "Mixture06"
          ],
          [
           "kallisto (C-WAP)",
           "Mixture18"
          ],
          [
           "kallisto (C-WAP)",
           "Mixture31"
          ],
          [
           "kallisto (C-WAP)",
           "Mixture37"
          ],
          [
           "kallisto (C-WAP)",
           "Mixture01"
          ],
          [
           "kallisto (C-WAP)",
           "Mixture02"
          ],
          [
           "kallisto (C-WAP)",
           "Mixture04"
          ],
          [
           "kallisto (C-WAP)",
           "Mixture06"
          ],
          [
           "kallisto (C-WAP)",
           "Mixture07"
          ],
          [
           "kallisto (C-WAP)",
           "Mixture17"
          ],
          [
           "kallisto (C-WAP)",
           "Mixture31"
          ],
          [
           "kallisto (C-WAP)",
           "Mixture32"
          ],
          [
           "kallisto (C-WAP)",
           "Mixture36"
          ],
          [
           "kallisto (C-WAP)",
           "Mixture01"
          ],
          [
           "kallisto (C-WAP)",
           "Mixture02"
          ],
          [
           "kallisto (C-WAP)",
           "Mixture04"
          ],
          [
           "kallisto (C-WAP)",
           "Mixture06"
          ],
          [
           "kallisto (C-WAP)",
           "Mixture08"
          ],
          [
           "kallisto (C-WAP)",
           "Mixture10"
          ],
          [
           "kallisto (C-WAP)",
           "Mixture19"
          ],
          [
           "kallisto (C-WAP)",
           "Mixture31"
          ],
          [
           "kallisto (C-WAP)",
           "Mixture32"
          ],
          [
           "kallisto (C-WAP)",
           "Mixture38"
          ],
          [
           "kallisto (C-WAP)",
           "Mixture01"
          ],
          [
           "kallisto (C-WAP)",
           "Mixture03"
          ],
          [
           "kallisto (C-WAP)",
           "Mixture04"
          ],
          [
           "kallisto (C-WAP)",
           "Mixture06"
          ],
          [
           "kallisto (C-WAP)",
           "Mixture08"
          ],
          [
           "kallisto (C-WAP)",
           "Mixture10"
          ],
          [
           "kallisto (C-WAP)",
           "Mixture20"
          ],
          [
           "kallisto (C-WAP)",
           "Mixture28"
          ],
          [
           "kallisto (C-WAP)",
           "Mixture29"
          ],
          [
           "kallisto (C-WAP)",
           "Mixture30"
          ],
          [
           "kallisto (C-WAP)",
           "Mixture32"
          ],
          [
           "kallisto (C-WAP)",
           "Mixture39"
          ],
          [
           "kallisto (C-WAP)",
           "Mixture01"
          ],
          [
           "kallisto (C-WAP)",
           "Mixture03"
          ],
          [
           "kallisto (C-WAP)",
           "Mixture05"
          ],
          [
           "kallisto (C-WAP)",
           "Mixture07"
          ],
          [
           "kallisto (C-WAP)",
           "Mixture08"
          ],
          [
           "kallisto (C-WAP)",
           "Mixture13"
          ],
          [
           "kallisto (C-WAP)",
           "Mixture26"
          ],
          [
           "kallisto (C-WAP)",
           "Mixture27"
          ],
          [
           "kallisto (C-WAP)",
           "Mixture29"
          ],
          [
           "kallisto (C-WAP)",
           "Mixture30"
          ],
          [
           "kallisto (C-WAP)",
           "Mixture32"
          ],
          [
           "kallisto (C-WAP)",
           "Mixture42"
          ],
          [
           "kallisto (C-WAP)",
           "Mixture01"
          ],
          [
           "kallisto (C-WAP)",
           "Mixture03"
          ],
          [
           "kallisto (C-WAP)",
           "Mixture05"
          ],
          [
           "kallisto (C-WAP)",
           "Mixture07"
          ],
          [
           "kallisto (C-WAP)",
           "Mixture08"
          ],
          [
           "kallisto (C-WAP)",
           "Mixture12"
          ],
          [
           "kallisto (C-WAP)",
           "Mixture24"
          ],
          [
           "kallisto (C-WAP)",
           "Mixture25"
          ],
          [
           "kallisto (C-WAP)",
           "Mixture29"
          ],
          [
           "kallisto (C-WAP)",
           "Mixture30"
          ],
          [
           "kallisto (C-WAP)",
           "Mixture32"
          ],
          [
           "kallisto (C-WAP)",
           "Mixture41"
          ]
         ],
         "hovertemplate": "Scheme=%{customdata[0]}<br>Lineages=%{x}<br>Percent of expected abundance=%{y}<br>Sample name=%{customdata[1]}<extra></extra>",
         "legendgroup": "kallisto (C-WAP)",
         "marker": {
          "color": "#EF553B"
         },
         "name": "kallisto (C-WAP)",
         "notched": false,
         "offsetgroup": "kallisto (C-WAP)",
         "orientation": "v",
         "showlegend": true,
         "type": "box",
         "x": [
          "Wuhan-hu-1",
          "Wuhan-hu-1",
          "Wuhan-hu-1",
          "Wuhan-hu-1",
          "Wuhan-hu-1",
          "Wuhan-hu-1",
          "Wuhan-hu-1",
          "Wuhan-hu-1",
          "Wuhan-hu-1",
          "Wuhan-hu-1",
          "Alpha",
          "Alpha",
          "Alpha",
          "Alpha",
          "Alpha",
          "Alpha",
          "Alpha",
          "Alpha",
          "Alpha",
          "Gamma",
          "Gamma",
          "Gamma",
          "Gamma",
          "Gamma",
          "Gamma",
          "Gamma",
          "Gamma",
          "Delta",
          "Delta",
          "Delta",
          "Delta",
          "Delta",
          "Delta",
          "Iota",
          "Iota",
          "Iota",
          "Iota",
          "Iota",
          "Iota",
          "Iota",
          "Iota",
          "Iota",
          "BA.1.X",
          "BA.1.X",
          "BA.1.X",
          "BA.1.X",
          "BA.1.X",
          "BA.1.X",
          "BA.1.X",
          "BA.1.X",
          "BA.1.X",
          "BA.1.X",
          "BA.2.X",
          "BA.2.X",
          "BA.2.X",
          "BA.2.X",
          "BA.2.X",
          "BA.2.X",
          "BA.2.X",
          "BA.2.X",
          "BA.2.X",
          "BA.2.X",
          "BA.2.X",
          "BA.2.X",
          "BA.4.X",
          "BA.4.X",
          "BA.4.X",
          "BA.4.X",
          "BA.4.X",
          "BA.4.X",
          "BA.4.X",
          "BA.4.X",
          "BA.4.X",
          "BA.4.X",
          "BA.4.X",
          "BA.4.X",
          "BA.5.X",
          "BA.5.X",
          "BA.5.X",
          "BA.5.X",
          "BA.5.X",
          "BA.5.X",
          "BA.5.X",
          "BA.5.X",
          "BA.5.X",
          "BA.5.X",
          "BA.5.X",
          "BA.5.X"
         ],
         "x0": " ",
         "xaxis": "x",
         "y": [
          120,
          159.60000000000002,
          135.20000000000002,
          105.60000000000001,
          91,
          89.9,
          90.7,
          144.89999999999995,
          176.8,
          90.10000000000001,
          53.99999999999999,
          48,
          52.800000000000004,
          68.8,
          50.66666666666667,
          63.6,
          55.3,
          44.800000000000004,
          65.9,
          40.5,
          40,
          41.6,
          41.6,
          48,
          84.6,
          46.199999999999996,
          82.89999999999999,
          53.99999999999999,
          52.800000000000004,
          67.2,
          58.099999999999994,
          49,
          61.5,
          127.50000000000001,
          134.4,
          125.6,
          188.79999999999998,
          136.53333333333333,
          88.3,
          123.89999999999996,
          101.6,
          88.3,
          76.5,
          73.6,
          67.73333333333333,
          84.8,
          58.4,
          57.06666666666666,
          92.2,
          67.19999999999999,
          59.199999999999996,
          92.60000000000001,
          183,
          186.4,
          92.16000000000001,
          182.40000000000006,
          140,
          96.8,
          81.80000000000001,
          81.30000000000001,
          146,
          184,
          122.39999999999999,
          84.1,
          184.5,
          222.93333333333334,
          187.2,
          184,
          306.4,
          91.2,
          90.99999999999999,
          93.2,
          214.4,
          154.4,
          196,
          93.30000000000001,
          32.24999999999999,
          18.240000000000002,
          25.2,
          24.53333333333333,
          17.2,
          81.69999999999999,
          84.2,
          76.8,
          16.400000000000002,
          36.4,
          35.199999999999996,
          56.800000000000004
         ],
         "y0": " ",
         "yaxis": "y"
        },
        {
         "alignmentgroup": "True",
         "boxpoints": "all",
         "customdata": [
          [
           "kallisto",
           "Mixture02"
          ],
          [
           "kallisto",
           "Mixture05"
          ],
          [
           "kallisto",
           "Mixture09"
          ],
          [
           "kallisto",
           "Mixture14"
          ],
          [
           "kallisto",
           "Mixture21"
          ],
          [
           "kallisto",
           "Mixture31"
          ],
          [
           "kallisto",
           "Mixture32"
          ],
          [
           "kallisto",
           "Mixture33"
          ],
          [
           "kallisto",
           "Mixture01"
          ],
          [
           "kallisto",
           "Mixture02"
          ],
          [
           "kallisto",
           "Mixture04"
          ],
          [
           "kallisto",
           "Mixture06"
          ],
          [
           "kallisto",
           "Mixture07"
          ],
          [
           "kallisto",
           "Mixture15"
          ],
          [
           "kallisto",
           "Mixture31"
          ],
          [
           "kallisto",
           "Mixture32"
          ],
          [
           "kallisto",
           "Mixture34"
          ],
          [
           "kallisto",
           "Mixture01"
          ],
          [
           "kallisto",
           "Mixture02"
          ],
          [
           "kallisto",
           "Mixture04"
          ],
          [
           "kallisto",
           "Mixture06"
          ],
          [
           "kallisto",
           "Mixture07"
          ],
          [
           "kallisto",
           "Mixture16"
          ],
          [
           "kallisto",
           "Mixture31"
          ],
          [
           "kallisto",
           "Mixture35"
          ],
          [
           "kallisto",
           "Mixture01"
          ],
          [
           "kallisto",
           "Mixture02"
          ],
          [
           "kallisto",
           "Mixture06"
          ],
          [
           "kallisto",
           "Mixture18"
          ],
          [
           "kallisto",
           "Mixture31"
          ],
          [
           "kallisto",
           "Mixture37"
          ],
          [
           "kallisto",
           "Mixture01"
          ],
          [
           "kallisto",
           "Mixture02"
          ],
          [
           "kallisto",
           "Mixture04"
          ],
          [
           "kallisto",
           "Mixture06"
          ],
          [
           "kallisto",
           "Mixture07"
          ],
          [
           "kallisto",
           "Mixture17"
          ],
          [
           "kallisto",
           "Mixture31"
          ],
          [
           "kallisto",
           "Mixture32"
          ],
          [
           "kallisto",
           "Mixture36"
          ],
          [
           "kallisto",
           "Mixture01"
          ],
          [
           "kallisto",
           "Mixture02"
          ],
          [
           "kallisto",
           "Mixture04"
          ],
          [
           "kallisto",
           "Mixture06"
          ],
          [
           "kallisto",
           "Mixture08"
          ],
          [
           "kallisto",
           "Mixture10"
          ],
          [
           "kallisto",
           "Mixture19"
          ],
          [
           "kallisto",
           "Mixture31"
          ],
          [
           "kallisto",
           "Mixture32"
          ],
          [
           "kallisto",
           "Mixture38"
          ],
          [
           "kallisto",
           "Mixture01"
          ],
          [
           "kallisto",
           "Mixture03"
          ],
          [
           "kallisto",
           "Mixture04"
          ],
          [
           "kallisto",
           "Mixture06"
          ],
          [
           "kallisto",
           "Mixture08"
          ],
          [
           "kallisto",
           "Mixture10"
          ],
          [
           "kallisto",
           "Mixture20"
          ],
          [
           "kallisto",
           "Mixture28"
          ],
          [
           "kallisto",
           "Mixture29"
          ],
          [
           "kallisto",
           "Mixture30"
          ],
          [
           "kallisto",
           "Mixture32"
          ],
          [
           "kallisto",
           "Mixture39"
          ],
          [
           "kallisto",
           "Mixture01"
          ],
          [
           "kallisto",
           "Mixture03"
          ],
          [
           "kallisto",
           "Mixture05"
          ],
          [
           "kallisto",
           "Mixture06"
          ],
          [
           "kallisto",
           "Mixture07"
          ],
          [
           "kallisto",
           "Mixture08"
          ],
          [
           "kallisto",
           "Mixture11"
          ],
          [
           "kallisto",
           "Mixture22"
          ],
          [
           "kallisto",
           "Mixture23"
          ],
          [
           "kallisto",
           "Mixture29"
          ],
          [
           "kallisto",
           "Mixture30"
          ],
          [
           "kallisto",
           "Mixture32"
          ],
          [
           "kallisto",
           "Mixture40"
          ],
          [
           "kallisto",
           "Mixture01"
          ],
          [
           "kallisto",
           "Mixture03"
          ],
          [
           "kallisto",
           "Mixture05"
          ],
          [
           "kallisto",
           "Mixture07"
          ],
          [
           "kallisto",
           "Mixture08"
          ],
          [
           "kallisto",
           "Mixture13"
          ],
          [
           "kallisto",
           "Mixture26"
          ],
          [
           "kallisto",
           "Mixture27"
          ],
          [
           "kallisto",
           "Mixture29"
          ],
          [
           "kallisto",
           "Mixture30"
          ],
          [
           "kallisto",
           "Mixture32"
          ],
          [
           "kallisto",
           "Mixture42"
          ],
          [
           "kallisto",
           "Mixture01"
          ],
          [
           "kallisto",
           "Mixture03"
          ],
          [
           "kallisto",
           "Mixture05"
          ],
          [
           "kallisto",
           "Mixture07"
          ],
          [
           "kallisto",
           "Mixture08"
          ],
          [
           "kallisto",
           "Mixture12"
          ],
          [
           "kallisto",
           "Mixture24"
          ],
          [
           "kallisto",
           "Mixture25"
          ],
          [
           "kallisto",
           "Mixture29"
          ],
          [
           "kallisto",
           "Mixture30"
          ],
          [
           "kallisto",
           "Mixture32"
          ],
          [
           "kallisto",
           "Mixture41"
          ]
         ],
         "hovertemplate": "Scheme=%{customdata[0]}<br>Lineages=%{x}<br>Percent of expected abundance=%{y}<br>Sample name=%{customdata[1]}<extra></extra>",
         "legendgroup": "kallisto",
         "marker": {
          "color": "#00cc96"
         },
         "name": "kallisto",
         "notched": false,
         "offsetgroup": "kallisto",
         "orientation": "v",
         "showlegend": true,
         "type": "box",
         "x": [
          "Wuhan-hu-1",
          "Wuhan-hu-1",
          "Wuhan-hu-1",
          "Wuhan-hu-1",
          "Wuhan-hu-1",
          "Wuhan-hu-1",
          "Wuhan-hu-1",
          "Wuhan-hu-1",
          "Alpha",
          "Alpha",
          "Alpha",
          "Alpha",
          "Alpha",
          "Alpha",
          "Alpha",
          "Alpha",
          "Alpha",
          "Gamma",
          "Gamma",
          "Gamma",
          "Gamma",
          "Gamma",
          "Gamma",
          "Gamma",
          "Gamma",
          "Delta",
          "Delta",
          "Delta",
          "Delta",
          "Delta",
          "Delta",
          "Iota",
          "Iota",
          "Iota",
          "Iota",
          "Iota",
          "Iota",
          "Iota",
          "Iota",
          "Iota",
          "BA.1.X",
          "BA.1.X",
          "BA.1.X",
          "BA.1.X",
          "BA.1.X",
          "BA.1.X",
          "BA.1.X",
          "BA.1.X",
          "BA.1.X",
          "BA.1.X",
          "BA.2.X",
          "BA.2.X",
          "BA.2.X",
          "BA.2.X",
          "BA.2.X",
          "BA.2.X",
          "BA.2.X",
          "BA.2.X",
          "BA.2.X",
          "BA.2.X",
          "BA.2.X",
          "BA.2.X",
          "BG.X",
          "BG.X",
          "BG.X",
          "BG.X",
          "BG.X",
          "BG.X",
          "BG.X",
          "BG.X",
          "BG.X",
          "BG.X",
          "BG.X",
          "BG.X",
          "BG.X",
          "BA.4.X",
          "BA.4.X",
          "BA.4.X",
          "BA.4.X",
          "BA.4.X",
          "BA.4.X",
          "BA.4.X",
          "BA.4.X",
          "BA.4.X",
          "BA.4.X",
          "BA.4.X",
          "BA.4.X",
          "BA.5.X",
          "BA.5.X",
          "BA.5.X",
          "BA.5.X",
          "BA.5.X",
          "BA.5.X",
          "BA.5.X",
          "BA.5.X",
          "BA.5.X",
          "BA.5.X",
          "BA.5.X",
          "BA.5.X"
         ],
         "x0": " ",
         "xaxis": "x",
         "y": [
          29.84,
          21.76,
          33.58,
          33.48,
          36.25,
          17.744999999999997,
          6.32,
          35.42,
          47.400000000000006,
          42.919999999999995,
          47.36,
          52.480000000000004,
          38.400000000000006,
          67.23,
          51.51999999999999,
          39.839999999999996,
          68.54,
          47.7,
          57.76,
          46.986666666666665,
          50.56,
          39.04,
          76.2,
          57.04999999999999,
          77.55,
          162.89999999999992,
          113.44000000000001,
          103.04000000000006,
          75.34999999999998,
          129.36000000000004,
          76.23999999999998,
          69,
          91.60000000000001,
          77.52,
          90.4,
          70.98666666666666,
          55.19,
          90.36999999999999,
          62.32,
          55.53,
          41.85,
          32.160000000000004,
          40.42666666666667,
          52.533333333333346,
          42.36,
          41.306666666666665,
          70.20999999999998,
          30.86999999999999,
          35.199999999999996,
          69.62000000000002,
          75.22500000000001,
          73.47999999999999,
          53.664,
          70.50666666666669,
          80.96,
          69.40799999999999,
          61.19,
          60.77000000000001,
          70.07999999999998,
          68.52000000000001,
          68.47999999999999,
          63.87000000000002,
          32.99999999999999,
          53.64,
          17.919999999999998,
          31.839999999999996,
          22.720000000000002,
          43.52,
          56.699999999999996,
          59.540000000000006,
          57.24,
          40.839999999999996,
          35.24,
          25.6,
          53.15,
          112.27500000000002,
          150.72,
          110.77333333333333,
          98.56000000000002,
          173.76,
          68.10000000000001,
          71.72999999999999,
          66.25999999999999,
          140.32,
          124.91999999999999,
          100.32,
          64.09000000000002,
          89.99999999999999,
          52.19200000000001,
          50.040000000000006,
          60.319999999999986,
          64.03999999999998,
          69.41,
          71.13999999999999,
          62.470000000000006,
          60.00000000000002,
          76.64000000000003,
          94.15999999999998,
          53.929999999999964
         ],
         "y0": " ",
         "yaxis": "y"
        },
        {
         "alignmentgroup": "True",
         "boxpoints": "all",
         "customdata": [
          [
           "VaQuERo",
           "Mixture02"
          ],
          [
           "VaQuERo",
           "Mixture04"
          ],
          [
           "VaQuERo",
           "Mixture06"
          ],
          [
           "VaQuERo",
           "Mixture07"
          ],
          [
           "VaQuERo",
           "Mixture15"
          ],
          [
           "VaQuERo",
           "Mixture31"
          ],
          [
           "VaQuERo",
           "Mixture32"
          ],
          [
           "VaQuERo",
           "Mixture34"
          ],
          [
           "VaQuERo",
           "Mixture04"
          ],
          [
           "VaQuERo",
           "Mixture16"
          ],
          [
           "VaQuERo",
           "Mixture31"
          ],
          [
           "VaQuERo",
           "Mixture35"
          ],
          [
           "VaQuERo",
           "Mixture01"
          ],
          [
           "VaQuERo",
           "Mixture02"
          ],
          [
           "VaQuERo",
           "Mixture06"
          ],
          [
           "VaQuERo",
           "Mixture18"
          ],
          [
           "VaQuERo",
           "Mixture31"
          ],
          [
           "VaQuERo",
           "Mixture37"
          ],
          [
           "VaQuERo",
           "Mixture01"
          ],
          [
           "VaQuERo",
           "Mixture02"
          ],
          [
           "VaQuERo",
           "Mixture04"
          ],
          [
           "VaQuERo",
           "Mixture06"
          ],
          [
           "VaQuERo",
           "Mixture07"
          ],
          [
           "VaQuERo",
           "Mixture17"
          ],
          [
           "VaQuERo",
           "Mixture31"
          ],
          [
           "VaQuERo",
           "Mixture32"
          ],
          [
           "VaQuERo",
           "Mixture36"
          ],
          [
           "VaQuERo",
           "Mixture02"
          ],
          [
           "VaQuERo",
           "Mixture04"
          ],
          [
           "VaQuERo",
           "Mixture06"
          ],
          [
           "VaQuERo",
           "Mixture08"
          ],
          [
           "VaQuERo",
           "Mixture10"
          ],
          [
           "VaQuERo",
           "Mixture19"
          ],
          [
           "VaQuERo",
           "Mixture31"
          ],
          [
           "VaQuERo",
           "Mixture32"
          ],
          [
           "VaQuERo",
           "Mixture38"
          ],
          [
           "VaQuERo",
           "Mixture01"
          ],
          [
           "VaQuERo",
           "Mixture03"
          ],
          [
           "VaQuERo",
           "Mixture04"
          ],
          [
           "VaQuERo",
           "Mixture06"
          ],
          [
           "VaQuERo",
           "Mixture08"
          ],
          [
           "VaQuERo",
           "Mixture10"
          ],
          [
           "VaQuERo",
           "Mixture20"
          ],
          [
           "VaQuERo",
           "Mixture28"
          ],
          [
           "VaQuERo",
           "Mixture29"
          ],
          [
           "VaQuERo",
           "Mixture30"
          ],
          [
           "VaQuERo",
           "Mixture32"
          ],
          [
           "VaQuERo",
           "Mixture39"
          ],
          [
           "VaQuERo",
           "Mixture01"
          ],
          [
           "VaQuERo",
           "Mixture03"
          ],
          [
           "VaQuERo",
           "Mixture05"
          ],
          [
           "VaQuERo",
           "Mixture06"
          ],
          [
           "VaQuERo",
           "Mixture07"
          ],
          [
           "VaQuERo",
           "Mixture08"
          ],
          [
           "VaQuERo",
           "Mixture11"
          ],
          [
           "VaQuERo",
           "Mixture22"
          ],
          [
           "VaQuERo",
           "Mixture23"
          ],
          [
           "VaQuERo",
           "Mixture29"
          ],
          [
           "VaQuERo",
           "Mixture30"
          ],
          [
           "VaQuERo",
           "Mixture32"
          ],
          [
           "VaQuERo",
           "Mixture40"
          ],
          [
           "VaQuERo",
           "Mixture01"
          ],
          [
           "VaQuERo",
           "Mixture03"
          ],
          [
           "VaQuERo",
           "Mixture05"
          ],
          [
           "VaQuERo",
           "Mixture07"
          ],
          [
           "VaQuERo",
           "Mixture08"
          ],
          [
           "VaQuERo",
           "Mixture13"
          ],
          [
           "VaQuERo",
           "Mixture26"
          ],
          [
           "VaQuERo",
           "Mixture27"
          ],
          [
           "VaQuERo",
           "Mixture29"
          ],
          [
           "VaQuERo",
           "Mixture30"
          ],
          [
           "VaQuERo",
           "Mixture32"
          ],
          [
           "VaQuERo",
           "Mixture42"
          ],
          [
           "VaQuERo",
           "Mixture01"
          ],
          [
           "VaQuERo",
           "Mixture03"
          ],
          [
           "VaQuERo",
           "Mixture05"
          ],
          [
           "VaQuERo",
           "Mixture07"
          ],
          [
           "VaQuERo",
           "Mixture08"
          ],
          [
           "VaQuERo",
           "Mixture12"
          ],
          [
           "VaQuERo",
           "Mixture24"
          ],
          [
           "VaQuERo",
           "Mixture25"
          ],
          [
           "VaQuERo",
           "Mixture29"
          ],
          [
           "VaQuERo",
           "Mixture30"
          ],
          [
           "VaQuERo",
           "Mixture32"
          ],
          [
           "VaQuERo",
           "Mixture41"
          ]
         ],
         "hovertemplate": "Scheme=%{customdata[0]}<br>Lineages=%{x}<br>Percent of expected abundance=%{y}<br>Sample name=%{customdata[1]}<extra></extra>",
         "legendgroup": "VaQuERo",
         "marker": {
          "color": "#ab63fa"
         },
         "name": "VaQuERo",
         "notched": false,
         "offsetgroup": "VaQuERo",
         "orientation": "v",
         "showlegend": true,
         "type": "box",
         "x": [
          "Alpha",
          "Alpha",
          "Alpha",
          "Alpha",
          "Alpha",
          "Alpha",
          "Alpha",
          "Alpha",
          "Gamma",
          "Gamma",
          "Gamma",
          "Gamma",
          "Delta",
          "Delta",
          "Delta",
          "Delta",
          "Delta",
          "Delta",
          "Iota",
          "Iota",
          "Iota",
          "Iota",
          "Iota",
          "Iota",
          "Iota",
          "Iota",
          "Iota",
          "BA.1.X",
          "BA.1.X",
          "BA.1.X",
          "BA.1.X",
          "BA.1.X",
          "BA.1.X",
          "BA.1.X",
          "BA.1.X",
          "BA.1.X",
          "BA.2.X",
          "BA.2.X",
          "BA.2.X",
          "BA.2.X",
          "BA.2.X",
          "BA.2.X",
          "BA.2.X",
          "BA.2.X",
          "BA.2.X",
          "BA.2.X",
          "BA.2.X",
          "BA.2.X",
          "BG.X",
          "BG.X",
          "BG.X",
          "BG.X",
          "BG.X",
          "BG.X",
          "BG.X",
          "BG.X",
          "BG.X",
          "BG.X",
          "BG.X",
          "BG.X",
          "BG.X",
          "BA.4.X",
          "BA.4.X",
          "BA.4.X",
          "BA.4.X",
          "BA.4.X",
          "BA.4.X",
          "BA.4.X",
          "BA.4.X",
          "BA.4.X",
          "BA.4.X",
          "BA.4.X",
          "BA.4.X",
          "BA.5.X",
          "BA.5.X",
          "BA.5.X",
          "BA.5.X",
          "BA.5.X",
          "BA.5.X",
          "BA.5.X",
          "BA.5.X",
          "BA.5.X",
          "BA.5.X",
          "BA.5.X",
          "BA.5.X"
         ],
         "x0": " ",
         "xaxis": "x",
         "y": [
          70.48,
          93.44,
          82.39999999999999,
          109.11999999999999,
          92.14,
          73.07999999999998,
          83.76,
          91.97999999999999,
          65.27999999999999,
          91.39,
          61.59999999999999,
          91.97999999999999,
          98.4,
          94.18666666666667,
          105.97333333333331,
          90.16,
          92.96,
          90.39,
          136.35,
          132.88,
          126.72000000000001,
          202.72,
          124.69333333333334,
          85.42999999999999,
          133.56,
          101.84,
          87.12,
          67.75999999999999,
          56.96,
          70.72,
          52.12,
          53.013333333333335,
          81.78999999999999,
          55.92999999999999,
          50.88,
          84.36,
          135.07500000000002,
          104.24,
          99.77600000000001,
          107.04,
          127.2,
          110.496,
          90.81,
          90.63,
          108.88,
          135.64000000000001,
          40.400000000000006,
          90.68,
          67.2,
          81.56,
          49.333333333333336,
          56.24,
          50.160000000000004,
          66.08000000000001,
          89.42,
          88.81,
          88.6,
          60.8,
          57.56,
          73.68,
          84.89,
          141.675,
          171.30666666666664,
          162.66666666666666,
          157.76000000000002,
          228.56,
          90.22,
          90,
          90.60000000000001,
          161.35999999999999,
          107.28,
          165.76,
          90.36,
          55.49999999999999,
          42.08,
          44.68,
          17.653333333333332,
          43.56,
          89.17,
          89.86,
          90.07,
          41.32,
          69.92,
          29.92,
          88.53
         ],
         "y0": " ",
         "yaxis": "y"
        },
        {
         "alignmentgroup": "True",
         "boxpoints": "all",
         "customdata": [
          [
           "LCS",
           "Mixture01"
          ],
          [
           "LCS",
           "Mixture02"
          ],
          [
           "LCS",
           "Mixture04"
          ],
          [
           "LCS",
           "Mixture06"
          ],
          [
           "LCS",
           "Mixture07"
          ],
          [
           "LCS",
           "Mixture15"
          ],
          [
           "LCS",
           "Mixture31"
          ],
          [
           "LCS",
           "Mixture32"
          ],
          [
           "LCS",
           "Mixture34"
          ],
          [
           "LCS",
           "Mixture01"
          ],
          [
           "LCS",
           "Mixture02"
          ],
          [
           "LCS",
           "Mixture04"
          ],
          [
           "LCS",
           "Mixture06"
          ],
          [
           "LCS",
           "Mixture07"
          ],
          [
           "LCS",
           "Mixture16"
          ],
          [
           "LCS",
           "Mixture31"
          ],
          [
           "LCS",
           "Mixture35"
          ],
          [
           "LCS",
           "Mixture01"
          ],
          [
           "LCS",
           "Mixture02"
          ],
          [
           "LCS",
           "Mixture06"
          ],
          [
           "LCS",
           "Mixture18"
          ],
          [
           "LCS",
           "Mixture31"
          ],
          [
           "LCS",
           "Mixture37"
          ],
          [
           "LCS",
           "Mixture01"
          ],
          [
           "LCS",
           "Mixture02"
          ],
          [
           "LCS",
           "Mixture04"
          ],
          [
           "LCS",
           "Mixture06"
          ],
          [
           "LCS",
           "Mixture07"
          ],
          [
           "LCS",
           "Mixture17"
          ],
          [
           "LCS",
           "Mixture31"
          ],
          [
           "LCS",
           "Mixture32"
          ],
          [
           "LCS",
           "Mixture36"
          ],
          [
           "LCS",
           "Mixture01"
          ],
          [
           "LCS",
           "Mixture02"
          ],
          [
           "LCS",
           "Mixture04"
          ],
          [
           "LCS",
           "Mixture06"
          ],
          [
           "LCS",
           "Mixture08"
          ],
          [
           "LCS",
           "Mixture10"
          ],
          [
           "LCS",
           "Mixture19"
          ],
          [
           "LCS",
           "Mixture31"
          ],
          [
           "LCS",
           "Mixture32"
          ],
          [
           "LCS",
           "Mixture38"
          ],
          [
           "LCS",
           "Mixture01"
          ],
          [
           "LCS",
           "Mixture03"
          ],
          [
           "LCS",
           "Mixture04"
          ],
          [
           "LCS",
           "Mixture06"
          ],
          [
           "LCS",
           "Mixture08"
          ],
          [
           "LCS",
           "Mixture10"
          ],
          [
           "LCS",
           "Mixture20"
          ],
          [
           "LCS",
           "Mixture28"
          ],
          [
           "LCS",
           "Mixture29"
          ],
          [
           "LCS",
           "Mixture30"
          ],
          [
           "LCS",
           "Mixture32"
          ],
          [
           "LCS",
           "Mixture39"
          ],
          [
           "LCS",
           "Mixture01"
          ],
          [
           "LCS",
           "Mixture03"
          ],
          [
           "LCS",
           "Mixture05"
          ],
          [
           "LCS",
           "Mixture06"
          ],
          [
           "LCS",
           "Mixture07"
          ],
          [
           "LCS",
           "Mixture08"
          ],
          [
           "LCS",
           "Mixture11"
          ],
          [
           "LCS",
           "Mixture22"
          ],
          [
           "LCS",
           "Mixture23"
          ],
          [
           "LCS",
           "Mixture29"
          ],
          [
           "LCS",
           "Mixture30"
          ],
          [
           "LCS",
           "Mixture32"
          ],
          [
           "LCS",
           "Mixture40"
          ],
          [
           "LCS",
           "Mixture01"
          ],
          [
           "LCS",
           "Mixture03"
          ],
          [
           "LCS",
           "Mixture05"
          ],
          [
           "LCS",
           "Mixture07"
          ],
          [
           "LCS",
           "Mixture08"
          ],
          [
           "LCS",
           "Mixture13"
          ],
          [
           "LCS",
           "Mixture26"
          ],
          [
           "LCS",
           "Mixture27"
          ],
          [
           "LCS",
           "Mixture29"
          ],
          [
           "LCS",
           "Mixture30"
          ],
          [
           "LCS",
           "Mixture32"
          ],
          [
           "LCS",
           "Mixture42"
          ],
          [
           "LCS",
           "Mixture01"
          ],
          [
           "LCS",
           "Mixture03"
          ],
          [
           "LCS",
           "Mixture05"
          ],
          [
           "LCS",
           "Mixture08"
          ],
          [
           "LCS",
           "Mixture12"
          ],
          [
           "LCS",
           "Mixture24"
          ],
          [
           "LCS",
           "Mixture25"
          ],
          [
           "LCS",
           "Mixture29"
          ],
          [
           "LCS",
           "Mixture30"
          ],
          [
           "LCS",
           "Mixture32"
          ],
          [
           "LCS",
           "Mixture41"
          ]
         ],
         "hovertemplate": "Scheme=%{customdata[0]}<br>Lineages=%{x}<br>Percent of expected abundance=%{y}<br>Sample name=%{customdata[1]}<extra></extra>",
         "legendgroup": "LCS",
         "marker": {
          "color": "#FFA15A"
         },
         "name": "LCS",
         "notched": false,
         "offsetgroup": "LCS",
         "orientation": "v",
         "showlegend": true,
         "type": "box",
         "x": [
          "Alpha",
          "Alpha",
          "Alpha",
          "Alpha",
          "Alpha",
          "Alpha",
          "Alpha",
          "Alpha",
          "Alpha",
          "Gamma",
          "Gamma",
          "Gamma",
          "Gamma",
          "Gamma",
          "Gamma",
          "Gamma",
          "Gamma",
          "Delta",
          "Delta",
          "Delta",
          "Delta",
          "Delta",
          "Delta",
          "Iota",
          "Iota",
          "Iota",
          "Iota",
          "Iota",
          "Iota",
          "Iota",
          "Iota",
          "Iota",
          "BA.1.X",
          "BA.1.X",
          "BA.1.X",
          "BA.1.X",
          "BA.1.X",
          "BA.1.X",
          "BA.1.X",
          "BA.1.X",
          "BA.1.X",
          "BA.1.X",
          "BA.2.X",
          "BA.2.X",
          "BA.2.X",
          "BA.2.X",
          "BA.2.X",
          "BA.2.X",
          "BA.2.X",
          "BA.2.X",
          "BA.2.X",
          "BA.2.X",
          "BA.2.X",
          "BA.2.X",
          "BG.X",
          "BG.X",
          "BG.X",
          "BG.X",
          "BG.X",
          "BG.X",
          "BG.X",
          "BG.X",
          "BG.X",
          "BG.X",
          "BG.X",
          "BG.X",
          "BG.X",
          "BA.4.X",
          "BA.4.X",
          "BA.4.X",
          "BA.4.X",
          "BA.4.X",
          "BA.4.X",
          "BA.4.X",
          "BA.4.X",
          "BA.4.X",
          "BA.4.X",
          "BA.4.X",
          "BA.4.X",
          "BA.5.X",
          "BA.5.X",
          "BA.5.X",
          "BA.5.X",
          "BA.5.X",
          "BA.5.X",
          "BA.5.X",
          "BA.5.X",
          "BA.5.X",
          "BA.5.X",
          "BA.5.X"
         ],
         "x0": " ",
         "xaxis": "x",
         "y": [
          83.39999999999999,
          77.96,
          69.6,
          89.28,
          72.63999999999999,
          97.74000000000001,
          93.51999999999998,
          55.04,
          96.83,
          27.3,
          47.68,
          58.720000000000006,
          31.840000000000003,
          43.04,
          98.42,
          56.83999999999999,
          97.91,
          46.2,
          57.86666666666667,
          36.10666666666666,
          58.93000000000001,
          57.68,
          68.17999999999999,
          21.750000000000004,
          137.12,
          24.240000000000002,
          126.88,
          68.80000000000001,
          54.790000000000006,
          142.44999999999996,
          110.08,
          53.849999999999994,
          49.50000000000001,
          41.44,
          80.85333333333334,
          80.96,
          62.68,
          66.61333333333333,
          94.78,
          44.589999999999996,
          55.92,
          94.19,
          31.35,
          33.44,
          57.984,
          54.82666666666667,
          82.72,
          107.31199999999998,
          91.73,
          79.67,
          85.76,
          91.24,
          3.6799999999999997,
          95.48,
          50.62500000000001,
          83.08,
          34.026666666666664,
          59.519999999999996,
          43.120000000000005,
          64.08,
          83.58,
          95.64,
          93.61,
          55.279999999999994,
          50.03999999999999,
          50.160000000000004,
          91.31,
          151.8,
          277.28000000000003,
          166.50666666666666,
          141.81333333333333,
          261.2,
          92.83,
          93,
          95.59,
          212.84,
          157.8,
          178.88,
          97.03,
          1.875,
          50.59199999999999,
          8.76,
          45.64,
          96.46000000000001,
          93.05,
          94.72,
          21.72,
          89.96,
          11.04,
          76.75999999999999
         ],
         "y0": " ",
         "yaxis": "y"
        },
        {
         "alignmentgroup": "True",
         "boxpoints": "all",
         "customdata": [
          [
           "LolliPop",
           "Mixture01"
          ],
          [
           "LolliPop",
           "Mixture02"
          ],
          [
           "LolliPop",
           "Mixture04"
          ],
          [
           "LolliPop",
           "Mixture06"
          ],
          [
           "LolliPop",
           "Mixture07"
          ],
          [
           "LolliPop",
           "Mixture15"
          ],
          [
           "LolliPop",
           "Mixture31"
          ],
          [
           "LolliPop",
           "Mixture32"
          ],
          [
           "LolliPop",
           "Mixture34"
          ],
          [
           "LolliPop",
           "Mixture01"
          ],
          [
           "LolliPop",
           "Mixture02"
          ],
          [
           "LolliPop",
           "Mixture04"
          ],
          [
           "LolliPop",
           "Mixture06"
          ],
          [
           "LolliPop",
           "Mixture07"
          ],
          [
           "LolliPop",
           "Mixture16"
          ],
          [
           "LolliPop",
           "Mixture31"
          ],
          [
           "LolliPop",
           "Mixture35"
          ],
          [
           "LolliPop",
           "Mixture01"
          ],
          [
           "LolliPop",
           "Mixture02"
          ],
          [
           "LolliPop",
           "Mixture06"
          ],
          [
           "LolliPop",
           "Mixture18"
          ],
          [
           "LolliPop",
           "Mixture31"
          ],
          [
           "LolliPop",
           "Mixture37"
          ],
          [
           "LolliPop",
           "Mixture01"
          ],
          [
           "LolliPop",
           "Mixture02"
          ],
          [
           "LolliPop",
           "Mixture04"
          ],
          [
           "LolliPop",
           "Mixture06"
          ],
          [
           "LolliPop",
           "Mixture08"
          ],
          [
           "LolliPop",
           "Mixture10"
          ],
          [
           "LolliPop",
           "Mixture19"
          ],
          [
           "LolliPop",
           "Mixture31"
          ],
          [
           "LolliPop",
           "Mixture32"
          ],
          [
           "LolliPop",
           "Mixture38"
          ],
          [
           "LolliPop",
           "Mixture01"
          ],
          [
           "LolliPop",
           "Mixture03"
          ],
          [
           "LolliPop",
           "Mixture04"
          ],
          [
           "LolliPop",
           "Mixture06"
          ],
          [
           "LolliPop",
           "Mixture08"
          ],
          [
           "LolliPop",
           "Mixture10"
          ],
          [
           "LolliPop",
           "Mixture20"
          ],
          [
           "LolliPop",
           "Mixture28"
          ],
          [
           "LolliPop",
           "Mixture29"
          ],
          [
           "LolliPop",
           "Mixture30"
          ],
          [
           "LolliPop",
           "Mixture32"
          ],
          [
           "LolliPop",
           "Mixture39"
          ],
          [
           "LolliPop",
           "Mixture01"
          ],
          [
           "LolliPop",
           "Mixture03"
          ],
          [
           "LolliPop",
           "Mixture05"
          ],
          [
           "LolliPop",
           "Mixture07"
          ],
          [
           "LolliPop",
           "Mixture08"
          ],
          [
           "LolliPop",
           "Mixture13"
          ],
          [
           "LolliPop",
           "Mixture26"
          ],
          [
           "LolliPop",
           "Mixture27"
          ],
          [
           "LolliPop",
           "Mixture29"
          ],
          [
           "LolliPop",
           "Mixture30"
          ],
          [
           "LolliPop",
           "Mixture32"
          ],
          [
           "LolliPop",
           "Mixture42"
          ],
          [
           "LolliPop",
           "Mixture01"
          ],
          [
           "LolliPop",
           "Mixture03"
          ],
          [
           "LolliPop",
           "Mixture05"
          ],
          [
           "LolliPop",
           "Mixture07"
          ],
          [
           "LolliPop",
           "Mixture08"
          ],
          [
           "LolliPop",
           "Mixture12"
          ],
          [
           "LolliPop",
           "Mixture24"
          ],
          [
           "LolliPop",
           "Mixture25"
          ],
          [
           "LolliPop",
           "Mixture29"
          ],
          [
           "LolliPop",
           "Mixture30"
          ],
          [
           "LolliPop",
           "Mixture32"
          ],
          [
           "LolliPop",
           "Mixture41"
          ]
         ],
         "hovertemplate": "Scheme=%{customdata[0]}<br>Lineages=%{x}<br>Percent of expected abundance=%{y}<br>Sample name=%{customdata[1]}<extra></extra>",
         "legendgroup": "LolliPop",
         "marker": {
          "color": "#19d3f3"
         },
         "name": "LolliPop",
         "notched": false,
         "offsetgroup": "LolliPop",
         "orientation": "v",
         "showlegend": true,
         "type": "box",
         "x": [
          "Alpha",
          "Alpha",
          "Alpha",
          "Alpha",
          "Alpha",
          "Alpha",
          "Alpha",
          "Alpha",
          "Alpha",
          "Gamma",
          "Gamma",
          "Gamma",
          "Gamma",
          "Gamma",
          "Gamma",
          "Gamma",
          "Gamma",
          "Delta",
          "Delta",
          "Delta",
          "Delta",
          "Delta",
          "Delta",
          "BA.1.X",
          "BA.1.X",
          "BA.1.X",
          "BA.1.X",
          "BA.1.X",
          "BA.1.X",
          "BA.1.X",
          "BA.1.X",
          "BA.1.X",
          "BA.1.X",
          "BA.2.X",
          "BA.2.X",
          "BA.2.X",
          "BA.2.X",
          "BA.2.X",
          "BA.2.X",
          "BA.2.X",
          "BA.2.X",
          "BA.2.X",
          "BA.2.X",
          "BA.2.X",
          "BA.2.X",
          "BA.4.X",
          "BA.4.X",
          "BA.4.X",
          "BA.4.X",
          "BA.4.X",
          "BA.4.X",
          "BA.4.X",
          "BA.4.X",
          "BA.4.X",
          "BA.4.X",
          "BA.4.X",
          "BA.4.X",
          "BA.5.X",
          "BA.5.X",
          "BA.5.X",
          "BA.5.X",
          "BA.5.X",
          "BA.5.X",
          "BA.5.X",
          "BA.5.X",
          "BA.5.X",
          "BA.5.X",
          "BA.5.X",
          "BA.5.X"
         ],
         "x0": " ",
         "xaxis": "x",
         "y": [
          71.4,
          72.56,
          76.32,
          86.56,
          61.33333333333334,
          90.34,
          83.78999999999999,
          64.16,
          90.47,
          54.900000000000006,
          58.879999999999995,
          54.72,
          53.44,
          48.72,
          93.11,
          66.28999999999999,
          93.42,
          84,
          86.98666666666666,
          94.93333333333332,
          91.49000000000001,
          87.28999999999999,
          90.5,
          41.4,
          61.44,
          49.01333333333333,
          54.24,
          44.24,
          47.78666666666667,
          82.91,
          45.849999999999994,
          38.879999999999995,
          83.78999999999999,
          283.65,
          191.83999999999997,
          109.75999999999999,
          192.85333333333332,
          191.76,
          98.79999999999998,
          77.69999999999999,
          81.01,
          181.56,
          207.32,
          255.92000000000002,
          76.18,
          130.50000000000003,
          121.12,
          174.61333333333332,
          158.82666666666668,
          172.00000000000003,
          56.63,
          62.19,
          61.31999999999999,
          123.15999999999998,
          65.75999999999999,
          161.6,
          64.75,
          67.95,
          38.784,
          43.08,
          41.120000000000005,
          25.840000000000003,
          86.27,
          91.5,
          77.66999999999999,
          25.64,
          69,
          58.4,
          60.209999999999994
         ],
         "y0": " ",
         "yaxis": "y"
        },
        {
         "alignmentgroup": "True",
         "boxpoints": "all",
         "customdata": [
          [
           "lineagespot",
           "Mixture15"
          ],
          [
           "lineagespot",
           "Mixture34"
          ],
          [
           "lineagespot",
           "Mixture16"
          ],
          [
           "lineagespot",
           "Mixture35"
          ],
          [
           "lineagespot",
           "Mixture18"
          ]
         ],
         "hovertemplate": "Scheme=%{customdata[0]}<br>Lineages=%{x}<br>Percent of expected abundance=%{y}<br>Sample name=%{customdata[1]}<extra></extra>",
         "legendgroup": "lineagespot",
         "marker": {
          "color": "#FF6692"
         },
         "name": "lineagespot",
         "notched": false,
         "offsetgroup": "lineagespot",
         "orientation": "v",
         "showlegend": true,
         "type": "box",
         "x": [
          "Alpha",
          "Alpha",
          "Gamma",
          "Gamma",
          "Delta"
         ],
         "x0": " ",
         "xaxis": "x",
         "y": [
          17.79,
          44.47,
          13.459999999999999,
          40.37,
          35.79
         ],
         "y0": " ",
         "yaxis": "y"
        },
        {
         "alignmentgroup": "True",
         "boxpoints": "all",
         "customdata": [
          [
           "Kraken 2 (C-WAP)",
           "Mixture01"
          ],
          [
           "Kraken 2 (C-WAP)",
           "Mixture02"
          ],
          [
           "Kraken 2 (C-WAP)",
           "Mixture04"
          ],
          [
           "Kraken 2 (C-WAP)",
           "Mixture06"
          ],
          [
           "Kraken 2 (C-WAP)",
           "Mixture08"
          ],
          [
           "Kraken 2 (C-WAP)",
           "Mixture10"
          ],
          [
           "Kraken 2 (C-WAP)",
           "Mixture19"
          ],
          [
           "Kraken 2 (C-WAP)",
           "Mixture31"
          ],
          [
           "Kraken 2 (C-WAP)",
           "Mixture32"
          ],
          [
           "Kraken 2 (C-WAP)",
           "Mixture38"
          ],
          [
           "Kraken 2 (C-WAP)",
           "Mixture01"
          ],
          [
           "Kraken 2 (C-WAP)",
           "Mixture03"
          ],
          [
           "Kraken 2 (C-WAP)",
           "Mixture04"
          ],
          [
           "Kraken 2 (C-WAP)",
           "Mixture06"
          ],
          [
           "Kraken 2 (C-WAP)",
           "Mixture08"
          ],
          [
           "Kraken 2 (C-WAP)",
           "Mixture10"
          ],
          [
           "Kraken 2 (C-WAP)",
           "Mixture20"
          ],
          [
           "Kraken 2 (C-WAP)",
           "Mixture28"
          ],
          [
           "Kraken 2 (C-WAP)",
           "Mixture29"
          ],
          [
           "Kraken 2 (C-WAP)",
           "Mixture30"
          ],
          [
           "Kraken 2 (C-WAP)",
           "Mixture32"
          ],
          [
           "Kraken 2 (C-WAP)",
           "Mixture39"
          ],
          [
           "Kraken 2 (C-WAP)",
           "Mixture01"
          ],
          [
           "Kraken 2 (C-WAP)",
           "Mixture03"
          ],
          [
           "Kraken 2 (C-WAP)",
           "Mixture05"
          ],
          [
           "Kraken 2 (C-WAP)",
           "Mixture07"
          ],
          [
           "Kraken 2 (C-WAP)",
           "Mixture08"
          ],
          [
           "Kraken 2 (C-WAP)",
           "Mixture13"
          ],
          [
           "Kraken 2 (C-WAP)",
           "Mixture26"
          ],
          [
           "Kraken 2 (C-WAP)",
           "Mixture27"
          ],
          [
           "Kraken 2 (C-WAP)",
           "Mixture29"
          ],
          [
           "Kraken 2 (C-WAP)",
           "Mixture30"
          ],
          [
           "Kraken 2 (C-WAP)",
           "Mixture32"
          ],
          [
           "Kraken 2 (C-WAP)",
           "Mixture42"
          ],
          [
           "Kraken 2 (C-WAP)",
           "Mixture01"
          ],
          [
           "Kraken 2 (C-WAP)",
           "Mixture03"
          ],
          [
           "Kraken 2 (C-WAP)",
           "Mixture05"
          ],
          [
           "Kraken 2 (C-WAP)",
           "Mixture07"
          ],
          [
           "Kraken 2 (C-WAP)",
           "Mixture08"
          ],
          [
           "Kraken 2 (C-WAP)",
           "Mixture12"
          ],
          [
           "Kraken 2 (C-WAP)",
           "Mixture24"
          ],
          [
           "Kraken 2 (C-WAP)",
           "Mixture25"
          ],
          [
           "Kraken 2 (C-WAP)",
           "Mixture29"
          ],
          [
           "Kraken 2 (C-WAP)",
           "Mixture30"
          ],
          [
           "Kraken 2 (C-WAP)",
           "Mixture32"
          ],
          [
           "Kraken 2 (C-WAP)",
           "Mixture41"
          ]
         ],
         "hovertemplate": "Scheme=%{customdata[0]}<br>Lineages=%{x}<br>Percent of expected abundance=%{y}<br>Sample name=%{customdata[1]}<extra></extra>",
         "legendgroup": "Kraken 2 (C-WAP)",
         "marker": {
          "color": "#B6E880"
         },
         "name": "Kraken 2 (C-WAP)",
         "notched": false,
         "offsetgroup": "Kraken 2 (C-WAP)",
         "orientation": "v",
         "showlegend": true,
         "type": "box",
         "x": [
          "BA.1.X",
          "BA.1.X",
          "BA.1.X",
          "BA.1.X",
          "BA.1.X",
          "BA.1.X",
          "BA.1.X",
          "BA.1.X",
          "BA.1.X",
          "BA.1.X",
          "BA.2.X",
          "BA.2.X",
          "BA.2.X",
          "BA.2.X",
          "BA.2.X",
          "BA.2.X",
          "BA.2.X",
          "BA.2.X",
          "BA.2.X",
          "BA.2.X",
          "BA.2.X",
          "BA.2.X",
          "BA.4.X",
          "BA.4.X",
          "BA.4.X",
          "BA.4.X",
          "BA.4.X",
          "BA.4.X",
          "BA.4.X",
          "BA.4.X",
          "BA.4.X",
          "BA.4.X",
          "BA.4.X",
          "BA.4.X",
          "BA.5.X",
          "BA.5.X",
          "BA.5.X",
          "BA.5.X",
          "BA.5.X",
          "BA.5.X",
          "BA.5.X",
          "BA.5.X",
          "BA.5.X",
          "BA.5.X",
          "BA.5.X",
          "BA.5.X"
         ],
         "x0": " ",
         "xaxis": "x",
         "y": [
          445.2,
          321.91999999999996,
          161.92,
          243.4133333333333,
          151.48,
          114.13333333333333,
          65.62,
          268.09999999999997,
          205.28,
          61.6,
          263.925,
          196.76,
          84.576,
          148.8533333333333,
          127.75999999999999,
          35.519999999999996,
          31.930000000000003,
          29.259999999999998,
          178.84,
          170.12,
          279.04,
          29.23,
          215.69999999999996,
          179.41333333333336,
          187.73333333333335,
          150.24,
          233.92,
          43.73,
          45.17,
          42.43,
          139.76,
          143.48000000000002,
          240.79999999999998,
          42.6,
          5.775,
          1.44,
          2.04,
          4.16,
          2.8400000000000003,
          1.22,
          0.38999999999999996,
          0.45999999999999996,
          1.52,
          2.48,
          4.24,
          1.2
         ],
         "y0": " ",
         "yaxis": "y"
        }
       ],
       "layout": {
        "boxmode": "group",
        "legend": {
         "title": {
          "text": "Scheme"
         },
         "tracegroupgap": 0
        },
        "template": {
         "data": {
          "bar": [
           {
            "error_x": {
             "color": "#2a3f5f"
            },
            "error_y": {
             "color": "#2a3f5f"
            },
            "marker": {
             "line": {
              "color": "#E5ECF6",
              "width": 0.5
             },
             "pattern": {
              "fillmode": "overlay",
              "size": 10,
              "solidity": 0.2
             }
            },
            "type": "bar"
           }
          ],
          "barpolar": [
           {
            "marker": {
             "line": {
              "color": "#E5ECF6",
              "width": 0.5
             },
             "pattern": {
              "fillmode": "overlay",
              "size": 10,
              "solidity": 0.2
             }
            },
            "type": "barpolar"
           }
          ],
          "carpet": [
           {
            "aaxis": {
             "endlinecolor": "#2a3f5f",
             "gridcolor": "white",
             "linecolor": "white",
             "minorgridcolor": "white",
             "startlinecolor": "#2a3f5f"
            },
            "baxis": {
             "endlinecolor": "#2a3f5f",
             "gridcolor": "white",
             "linecolor": "white",
             "minorgridcolor": "white",
             "startlinecolor": "#2a3f5f"
            },
            "type": "carpet"
           }
          ],
          "choropleth": [
           {
            "colorbar": {
             "outlinewidth": 0,
             "ticks": ""
            },
            "type": "choropleth"
           }
          ],
          "contour": [
           {
            "colorbar": {
             "outlinewidth": 0,
             "ticks": ""
            },
            "colorscale": [
             [
              0,
              "#0d0887"
             ],
             [
              0.1111111111111111,
              "#46039f"
             ],
             [
              0.2222222222222222,
              "#7201a8"
             ],
             [
              0.3333333333333333,
              "#9c179e"
             ],
             [
              0.4444444444444444,
              "#bd3786"
             ],
             [
              0.5555555555555556,
              "#d8576b"
             ],
             [
              0.6666666666666666,
              "#ed7953"
             ],
             [
              0.7777777777777778,
              "#fb9f3a"
             ],
             [
              0.8888888888888888,
              "#fdca26"
             ],
             [
              1,
              "#f0f921"
             ]
            ],
            "type": "contour"
           }
          ],
          "contourcarpet": [
           {
            "colorbar": {
             "outlinewidth": 0,
             "ticks": ""
            },
            "type": "contourcarpet"
           }
          ],
          "heatmap": [
           {
            "colorbar": {
             "outlinewidth": 0,
             "ticks": ""
            },
            "colorscale": [
             [
              0,
              "#0d0887"
             ],
             [
              0.1111111111111111,
              "#46039f"
             ],
             [
              0.2222222222222222,
              "#7201a8"
             ],
             [
              0.3333333333333333,
              "#9c179e"
             ],
             [
              0.4444444444444444,
              "#bd3786"
             ],
             [
              0.5555555555555556,
              "#d8576b"
             ],
             [
              0.6666666666666666,
              "#ed7953"
             ],
             [
              0.7777777777777778,
              "#fb9f3a"
             ],
             [
              0.8888888888888888,
              "#fdca26"
             ],
             [
              1,
              "#f0f921"
             ]
            ],
            "type": "heatmap"
           }
          ],
          "heatmapgl": [
           {
            "colorbar": {
             "outlinewidth": 0,
             "ticks": ""
            },
            "colorscale": [
             [
              0,
              "#0d0887"
             ],
             [
              0.1111111111111111,
              "#46039f"
             ],
             [
              0.2222222222222222,
              "#7201a8"
             ],
             [
              0.3333333333333333,
              "#9c179e"
             ],
             [
              0.4444444444444444,
              "#bd3786"
             ],
             [
              0.5555555555555556,
              "#d8576b"
             ],
             [
              0.6666666666666666,
              "#ed7953"
             ],
             [
              0.7777777777777778,
              "#fb9f3a"
             ],
             [
              0.8888888888888888,
              "#fdca26"
             ],
             [
              1,
              "#f0f921"
             ]
            ],
            "type": "heatmapgl"
           }
          ],
          "histogram": [
           {
            "marker": {
             "pattern": {
              "fillmode": "overlay",
              "size": 10,
              "solidity": 0.2
             }
            },
            "type": "histogram"
           }
          ],
          "histogram2d": [
           {
            "colorbar": {
             "outlinewidth": 0,
             "ticks": ""
            },
            "colorscale": [
             [
              0,
              "#0d0887"
             ],
             [
              0.1111111111111111,
              "#46039f"
             ],
             [
              0.2222222222222222,
              "#7201a8"
             ],
             [
              0.3333333333333333,
              "#9c179e"
             ],
             [
              0.4444444444444444,
              "#bd3786"
             ],
             [
              0.5555555555555556,
              "#d8576b"
             ],
             [
              0.6666666666666666,
              "#ed7953"
             ],
             [
              0.7777777777777778,
              "#fb9f3a"
             ],
             [
              0.8888888888888888,
              "#fdca26"
             ],
             [
              1,
              "#f0f921"
             ]
            ],
            "type": "histogram2d"
           }
          ],
          "histogram2dcontour": [
           {
            "colorbar": {
             "outlinewidth": 0,
             "ticks": ""
            },
            "colorscale": [
             [
              0,
              "#0d0887"
             ],
             [
              0.1111111111111111,
              "#46039f"
             ],
             [
              0.2222222222222222,
              "#7201a8"
             ],
             [
              0.3333333333333333,
              "#9c179e"
             ],
             [
              0.4444444444444444,
              "#bd3786"
             ],
             [
              0.5555555555555556,
              "#d8576b"
             ],
             [
              0.6666666666666666,
              "#ed7953"
             ],
             [
              0.7777777777777778,
              "#fb9f3a"
             ],
             [
              0.8888888888888888,
              "#fdca26"
             ],
             [
              1,
              "#f0f921"
             ]
            ],
            "type": "histogram2dcontour"
           }
          ],
          "mesh3d": [
           {
            "colorbar": {
             "outlinewidth": 0,
             "ticks": ""
            },
            "type": "mesh3d"
           }
          ],
          "parcoords": [
           {
            "line": {
             "colorbar": {
              "outlinewidth": 0,
              "ticks": ""
             }
            },
            "type": "parcoords"
           }
          ],
          "pie": [
           {
            "automargin": true,
            "type": "pie"
           }
          ],
          "scatter": [
           {
            "fillpattern": {
             "fillmode": "overlay",
             "size": 10,
             "solidity": 0.2
            },
            "type": "scatter"
           }
          ],
          "scatter3d": [
           {
            "line": {
             "colorbar": {
              "outlinewidth": 0,
              "ticks": ""
             }
            },
            "marker": {
             "colorbar": {
              "outlinewidth": 0,
              "ticks": ""
             }
            },
            "type": "scatter3d"
           }
          ],
          "scattercarpet": [
           {
            "marker": {
             "colorbar": {
              "outlinewidth": 0,
              "ticks": ""
             }
            },
            "type": "scattercarpet"
           }
          ],
          "scattergeo": [
           {
            "marker": {
             "colorbar": {
              "outlinewidth": 0,
              "ticks": ""
             }
            },
            "type": "scattergeo"
           }
          ],
          "scattergl": [
           {
            "marker": {
             "colorbar": {
              "outlinewidth": 0,
              "ticks": ""
             }
            },
            "type": "scattergl"
           }
          ],
          "scattermapbox": [
           {
            "marker": {
             "colorbar": {
              "outlinewidth": 0,
              "ticks": ""
             }
            },
            "type": "scattermapbox"
           }
          ],
          "scatterpolar": [
           {
            "marker": {
             "colorbar": {
              "outlinewidth": 0,
              "ticks": ""
             }
            },
            "type": "scatterpolar"
           }
          ],
          "scatterpolargl": [
           {
            "marker": {
             "colorbar": {
              "outlinewidth": 0,
              "ticks": ""
             }
            },
            "type": "scatterpolargl"
           }
          ],
          "scatterternary": [
           {
            "marker": {
             "colorbar": {
              "outlinewidth": 0,
              "ticks": ""
             }
            },
            "type": "scatterternary"
           }
          ],
          "surface": [
           {
            "colorbar": {
             "outlinewidth": 0,
             "ticks": ""
            },
            "colorscale": [
             [
              0,
              "#0d0887"
             ],
             [
              0.1111111111111111,
              "#46039f"
             ],
             [
              0.2222222222222222,
              "#7201a8"
             ],
             [
              0.3333333333333333,
              "#9c179e"
             ],
             [
              0.4444444444444444,
              "#bd3786"
             ],
             [
              0.5555555555555556,
              "#d8576b"
             ],
             [
              0.6666666666666666,
              "#ed7953"
             ],
             [
              0.7777777777777778,
              "#fb9f3a"
             ],
             [
              0.8888888888888888,
              "#fdca26"
             ],
             [
              1,
              "#f0f921"
             ]
            ],
            "type": "surface"
           }
          ],
          "table": [
           {
            "cells": {
             "fill": {
              "color": "#EBF0F8"
             },
             "line": {
              "color": "white"
             }
            },
            "header": {
             "fill": {
              "color": "#C8D4E3"
             },
             "line": {
              "color": "white"
             }
            },
            "type": "table"
           }
          ]
         },
         "layout": {
          "annotationdefaults": {
           "arrowcolor": "#2a3f5f",
           "arrowhead": 0,
           "arrowwidth": 1
          },
          "autotypenumbers": "strict",
          "coloraxis": {
           "colorbar": {
            "outlinewidth": 0,
            "ticks": ""
           }
          },
          "colorscale": {
           "diverging": [
            [
             0,
             "#8e0152"
            ],
            [
             0.1,
             "#c51b7d"
            ],
            [
             0.2,
             "#de77ae"
            ],
            [
             0.3,
             "#f1b6da"
            ],
            [
             0.4,
             "#fde0ef"
            ],
            [
             0.5,
             "#f7f7f7"
            ],
            [
             0.6,
             "#e6f5d0"
            ],
            [
             0.7,
             "#b8e186"
            ],
            [
             0.8,
             "#7fbc41"
            ],
            [
             0.9,
             "#4d9221"
            ],
            [
             1,
             "#276419"
            ]
           ],
           "sequential": [
            [
             0,
             "#0d0887"
            ],
            [
             0.1111111111111111,
             "#46039f"
            ],
            [
             0.2222222222222222,
             "#7201a8"
            ],
            [
             0.3333333333333333,
             "#9c179e"
            ],
            [
             0.4444444444444444,
             "#bd3786"
            ],
            [
             0.5555555555555556,
             "#d8576b"
            ],
            [
             0.6666666666666666,
             "#ed7953"
            ],
            [
             0.7777777777777778,
             "#fb9f3a"
            ],
            [
             0.8888888888888888,
             "#fdca26"
            ],
            [
             1,
             "#f0f921"
            ]
           ],
           "sequentialminus": [
            [
             0,
             "#0d0887"
            ],
            [
             0.1111111111111111,
             "#46039f"
            ],
            [
             0.2222222222222222,
             "#7201a8"
            ],
            [
             0.3333333333333333,
             "#9c179e"
            ],
            [
             0.4444444444444444,
             "#bd3786"
            ],
            [
             0.5555555555555556,
             "#d8576b"
            ],
            [
             0.6666666666666666,
             "#ed7953"
            ],
            [
             0.7777777777777778,
             "#fb9f3a"
            ],
            [
             0.8888888888888888,
             "#fdca26"
            ],
            [
             1,
             "#f0f921"
            ]
           ]
          },
          "colorway": [
           "#636efa",
           "#EF553B",
           "#00cc96",
           "#ab63fa",
           "#FFA15A",
           "#19d3f3",
           "#FF6692",
           "#B6E880",
           "#FF97FF",
           "#FECB52"
          ],
          "font": {
           "color": "#2a3f5f"
          },
          "geo": {
           "bgcolor": "white",
           "lakecolor": "white",
           "landcolor": "#E5ECF6",
           "showlakes": true,
           "showland": true,
           "subunitcolor": "white"
          },
          "hoverlabel": {
           "align": "left"
          },
          "hovermode": "closest",
          "mapbox": {
           "style": "light"
          },
          "paper_bgcolor": "white",
          "plot_bgcolor": "#E5ECF6",
          "polar": {
           "angularaxis": {
            "gridcolor": "white",
            "linecolor": "white",
            "ticks": ""
           },
           "bgcolor": "#E5ECF6",
           "radialaxis": {
            "gridcolor": "white",
            "linecolor": "white",
            "ticks": ""
           }
          },
          "scene": {
           "xaxis": {
            "backgroundcolor": "#E5ECF6",
            "gridcolor": "white",
            "gridwidth": 2,
            "linecolor": "white",
            "showbackground": true,
            "ticks": "",
            "zerolinecolor": "white"
           },
           "yaxis": {
            "backgroundcolor": "#E5ECF6",
            "gridcolor": "white",
            "gridwidth": 2,
            "linecolor": "white",
            "showbackground": true,
            "ticks": "",
            "zerolinecolor": "white"
           },
           "zaxis": {
            "backgroundcolor": "#E5ECF6",
            "gridcolor": "white",
            "gridwidth": 2,
            "linecolor": "white",
            "showbackground": true,
            "ticks": "",
            "zerolinecolor": "white"
           }
          },
          "shapedefaults": {
           "line": {
            "color": "#2a3f5f"
           }
          },
          "ternary": {
           "aaxis": {
            "gridcolor": "white",
            "linecolor": "white",
            "ticks": ""
           },
           "baxis": {
            "gridcolor": "white",
            "linecolor": "white",
            "ticks": ""
           },
           "bgcolor": "#E5ECF6",
           "caxis": {
            "gridcolor": "white",
            "linecolor": "white",
            "ticks": ""
           }
          },
          "title": {
           "x": 0.05
          },
          "xaxis": {
           "automargin": true,
           "gridcolor": "white",
           "linecolor": "white",
           "ticks": "",
           "title": {
            "standoff": 15
           },
           "zerolinecolor": "white",
           "zerolinewidth": 2
          },
          "yaxis": {
           "automargin": true,
           "gridcolor": "white",
           "linecolor": "white",
           "ticks": "",
           "title": {
            "standoff": 15
           },
           "zerolinecolor": "white",
           "zerolinewidth": 2
          }
         }
        },
        "title": {
         "text": "Lineage abundance estimates as a percent of expected abundance - PWRB mixtures"
        },
        "xaxis": {
         "anchor": "y",
         "domain": [
          0,
          1
         ],
         "title": {
          "text": "Lineages"
         }
        },
        "yaxis": {
         "anchor": "x",
         "domain": [
          0,
          1
         ],
         "range": [
          0,
          460
         ],
         "title": {
          "text": "Percent of expected abundance"
         }
        }
       }
      },
      "text/html": [
       "<div>                            <div id=\"b32d0087-ccf5-4a9e-a3da-d9a230e5b7ce\" class=\"plotly-graph-div\" style=\"height:525px; width:100%;\"></div>            <script type=\"text/javascript\">                require([\"plotly\"], function(Plotly) {                    window.PLOTLYENV=window.PLOTLYENV || {};                                    if (document.getElementById(\"b32d0087-ccf5-4a9e-a3da-d9a230e5b7ce\")) {                    Plotly.newPlot(                        \"b32d0087-ccf5-4a9e-a3da-d9a230e5b7ce\",                        [{\"alignmentgroup\":\"True\",\"boxpoints\":\"all\",\"customdata\":[[\"Freyja\",\"Mixture14\"],[\"Freyja\",\"Mixture05\"],[\"Freyja\",\"Mixture21\"],[\"Freyja\",\"Mixture09\"],[\"Freyja\",\"Mixture33\"],[\"Freyja\",\"Mixture01\"],[\"Freyja\",\"Mixture02\"],[\"Freyja\",\"Mixture15\"],[\"Freyja\",\"Mixture06\"],[\"Freyja\",\"Mixture31\"],[\"Freyja\",\"Mixture07\"],[\"Freyja\",\"Mixture04\"],[\"Freyja\",\"Mixture32\"],[\"Freyja\",\"Mixture34\"],[\"Freyja\",\"Mixture01\"],[\"Freyja\",\"Mixture16\"],[\"Freyja\",\"Mixture02\"],[\"Freyja\",\"Mixture06\"],[\"Freyja\",\"Mixture31\"],[\"Freyja\",\"Mixture07\"],[\"Freyja\",\"Mixture04\"],[\"Freyja\",\"Mixture35\"],[\"Freyja\",\"Mixture01\"],[\"Freyja\",\"Mixture02\"],[\"Freyja\",\"Mixture06\"],[\"Freyja\",\"Mixture31\"],[\"Freyja\",\"Mixture18\"],[\"Freyja\",\"Mixture37\"],[\"Freyja\",\"Mixture01\"],[\"Freyja\",\"Mixture02\"],[\"Freyja\",\"Mixture06\"],[\"Freyja\",\"Mixture17\"],[\"Freyja\",\"Mixture31\"],[\"Freyja\",\"Mixture07\"],[\"Freyja\",\"Mixture04\"],[\"Freyja\",\"Mixture32\"],[\"Freyja\",\"Mixture36\"],[\"Freyja\",\"Mixture01\"],[\"Freyja\",\"Mixture02\"],[\"Freyja\",\"Mixture08\"],[\"Freyja\",\"Mixture06\"],[\"Freyja\",\"Mixture31\"],[\"Freyja\",\"Mixture38\"],[\"Freyja\",\"Mixture04\"],[\"Freyja\",\"Mixture32\"],[\"Freyja\",\"Mixture10\"],[\"Freyja\",\"Mixture19\"],[\"Freyja\",\"Mixture01\"],[\"Freyja\",\"Mixture08\"],[\"Freyja\",\"Mixture06\"],[\"Freyja\",\"Mixture03\"],[\"Freyja\",\"Mixture04\"],[\"Freyja\",\"Mixture30\"],[\"Freyja\",\"Mixture28\"],[\"Freyja\",\"Mixture32\"],[\"Freyja\",\"Mixture39\"],[\"Freyja\",\"Mixture10\"],[\"Freyja\",\"Mixture29\"],[\"Freyja\",\"Mixture20\"],[\"Freyja\",\"Mixture01\"],[\"Freyja\",\"Mixture08\"],[\"Freyja\",\"Mixture05\"],[\"Freyja\",\"Mixture06\"],[\"Freyja\",\"Mixture03\"],[\"Freyja\",\"Mixture07\"],[\"Freyja\",\"Mixture40\"],[\"Freyja\",\"Mixture23\"],[\"Freyja\",\"Mixture30\"],[\"Freyja\",\"Mixture22\"],[\"Freyja\",\"Mixture32\"],[\"Freyja\",\"Mixture11\"],[\"Freyja\",\"Mixture29\"],[\"Freyja\",\"Mixture01\"],[\"Freyja\",\"Mixture42\"],[\"Freyja\",\"Mixture08\"],[\"Freyja\",\"Mixture05\"],[\"Freyja\",\"Mixture03\"],[\"Freyja\",\"Mixture07\"],[\"Freyja\",\"Mixture13\"],[\"Freyja\",\"Mixture30\"],[\"Freyja\",\"Mixture26\"],[\"Freyja\",\"Mixture32\"],[\"Freyja\",\"Mixture29\"],[\"Freyja\",\"Mixture27\"],[\"Freyja\",\"Mixture01\"],[\"Freyja\",\"Mixture25\"],[\"Freyja\",\"Mixture08\"],[\"Freyja\",\"Mixture05\"],[\"Freyja\",\"Mixture03\"],[\"Freyja\",\"Mixture12\"],[\"Freyja\",\"Mixture07\"],[\"Freyja\",\"Mixture30\"],[\"Freyja\",\"Mixture32\"],[\"Freyja\",\"Mixture24\"],[\"Freyja\",\"Mixture29\"],[\"Freyja\",\"Mixture41\"]],\"hovertemplate\":\"Scheme=%{customdata[0]}\\u003cbr\\u003eLineages=%{x}\\u003cbr\\u003ePercent of expected abundance=%{y}\\u003cbr\\u003eSample name=%{customdata[1]}\\u003cextra\\u003e\\u003c\\u002fextra\\u003e\",\"legendgroup\":\"Freyja\",\"marker\":{\"color\":\"#636efa\"},\"name\":\"Freyja\",\"notched\":false,\"offsetgroup\":\"Freyja\",\"orientation\":\"v\",\"showlegend\":true,\"x\":[\"Wuhan-hu-1\",\"Wuhan-hu-1\",\"Wuhan-hu-1\",\"Wuhan-hu-1\",\"Wuhan-hu-1\",\"Alpha\",\"Alpha\",\"Alpha\",\"Alpha\",\"Alpha\",\"Alpha\",\"Alpha\",\"Alpha\",\"Alpha\",\"Gamma\",\"Gamma\",\"Gamma\",\"Gamma\",\"Gamma\",\"Gamma\",\"Gamma\",\"Gamma\",\"Delta\",\"Delta\",\"Delta\",\"Delta\",\"Delta\",\"Delta\",\"Iota\",\"Iota\",\"Iota\",\"Iota\",\"Iota\",\"Iota\",\"Iota\",\"Iota\",\"Iota\",\"BA.1.X\",\"BA.1.X\",\"BA.1.X\",\"BA.1.X\",\"BA.1.X\",\"BA.1.X\",\"BA.1.X\",\"BA.1.X\",\"BA.1.X\",\"BA.1.X\",\"BA.2.X\",\"BA.2.X\",\"BA.2.X\",\"BA.2.X\",\"BA.2.X\",\"BA.2.X\",\"BA.2.X\",\"BA.2.X\",\"BA.2.X\",\"BA.2.X\",\"BA.2.X\",\"BA.2.X\",\"BG.X\",\"BG.X\",\"BG.X\",\"BG.X\",\"BG.X\",\"BG.X\",\"BG.X\",\"BG.X\",\"BG.X\",\"BG.X\",\"BG.X\",\"BG.X\",\"BG.X\",\"BA.4.X\",\"BA.4.X\",\"BA.4.X\",\"BA.4.X\",\"BA.4.X\",\"BA.4.X\",\"BA.4.X\",\"BA.4.X\",\"BA.4.X\",\"BA.4.X\",\"BA.4.X\",\"BA.4.X\",\"BA.5.X\",\"BA.5.X\",\"BA.5.X\",\"BA.5.X\",\"BA.5.X\",\"BA.5.X\",\"BA.5.X\",\"BA.5.X\",\"BA.5.X\",\"BA.5.X\",\"BA.5.X\",\"BA.5.X\"],\"x0\":\" \",\"xaxis\":\"x\",\"y\":[92.124138,9.596429333333333,48.958527000000004,32.322431,49.038601,78.85362,73.727752,98.915601,82.866208,86.325876,66.264192,73.2264,67.1044,98.675235,53.41143,99.074617,53.603328,55.76972799999999,60.590564999999984,50.486087999999995,56.98369066666666,99.43946700000001,59.227125,79.15253866666666,89.66210666666666,68.06232999999999,98.523117,98.864393,126.12348,152.936,158.3184,97.974333,134.44899999999998,129.30513066666666,144.1224,119.86518399999999,98.51354500000001,29.455349999999996,47.093295999999995,55.603183999999985,50.53093333333334,45.099453,98.225133,42.542538666666665,25.7554,58.09465333333333,98.44079,122.26097999999999,106.95666800000001,153.81938133333338,93.93612800000001,108.07401279999999,141.513856,97.58153900000002,90.373272,97.72062700000001,116.19577920000002,105.590448,97.495556,45.014145,62.653527999999994,31.302207999999997,38.584448,86.060944,32.994279999999996,92.377707,98.959442,54.166216,98.344315,27.704943999999998,98.49303,58.456224,192.68721,98.38371199999999,268.854216,207.04875199999998,209.23265066666664,194.977696,98.683058,126.85680400000001,98.808481,199.6894,186.777488,98.63309299999999,28.169685,98.057993,40.539339999999996,26.550515999999995,38.398339199999995,98.21974800000001,18.388272000000004,63.590168000000006,34.75650400000001,98.91873799999999,37.318044,82.44269],\"y0\":\" \",\"yaxis\":\"y\",\"type\":\"box\"},{\"alignmentgroup\":\"True\",\"boxpoints\":\"all\",\"customdata\":[[\"kallisto (C-WAP)\",\"Mixture01\"],[\"kallisto (C-WAP)\",\"Mixture02\"],[\"kallisto (C-WAP)\",\"Mixture04\"],[\"kallisto (C-WAP)\",\"Mixture05\"],[\"kallisto (C-WAP)\",\"Mixture09\"],[\"kallisto (C-WAP)\",\"Mixture14\"],[\"kallisto (C-WAP)\",\"Mixture21\"],[\"kallisto (C-WAP)\",\"Mixture31\"],[\"kallisto (C-WAP)\",\"Mixture32\"],[\"kallisto (C-WAP)\",\"Mixture33\"],[\"kallisto (C-WAP)\",\"Mixture01\"],[\"kallisto (C-WAP)\",\"Mixture02\"],[\"kallisto (C-WAP)\",\"Mixture04\"],[\"kallisto (C-WAP)\",\"Mixture06\"],[\"kallisto (C-WAP)\",\"Mixture07\"],[\"kallisto (C-WAP)\",\"Mixture15\"],[\"kallisto (C-WAP)\",\"Mixture31\"],[\"kallisto (C-WAP)\",\"Mixture32\"],[\"kallisto (C-WAP)\",\"Mixture34\"],[\"kallisto (C-WAP)\",\"Mixture01\"],[\"kallisto (C-WAP)\",\"Mixture02\"],[\"kallisto (C-WAP)\",\"Mixture04\"],[\"kallisto (C-WAP)\",\"Mixture06\"],[\"kallisto (C-WAP)\",\"Mixture07\"],[\"kallisto (C-WAP)\",\"Mixture16\"],[\"kallisto (C-WAP)\",\"Mixture31\"],[\"kallisto (C-WAP)\",\"Mixture35\"],[\"kallisto (C-WAP)\",\"Mixture01\"],[\"kallisto (C-WAP)\",\"Mixture02\"],[\"kallisto (C-WAP)\",\"Mixture06\"],[\"kallisto (C-WAP)\",\"Mixture18\"],[\"kallisto (C-WAP)\",\"Mixture31\"],[\"kallisto (C-WAP)\",\"Mixture37\"],[\"kallisto (C-WAP)\",\"Mixture01\"],[\"kallisto (C-WAP)\",\"Mixture02\"],[\"kallisto (C-WAP)\",\"Mixture04\"],[\"kallisto (C-WAP)\",\"Mixture06\"],[\"kallisto (C-WAP)\",\"Mixture07\"],[\"kallisto (C-WAP)\",\"Mixture17\"],[\"kallisto (C-WAP)\",\"Mixture31\"],[\"kallisto (C-WAP)\",\"Mixture32\"],[\"kallisto (C-WAP)\",\"Mixture36\"],[\"kallisto (C-WAP)\",\"Mixture01\"],[\"kallisto (C-WAP)\",\"Mixture02\"],[\"kallisto (C-WAP)\",\"Mixture04\"],[\"kallisto (C-WAP)\",\"Mixture06\"],[\"kallisto (C-WAP)\",\"Mixture08\"],[\"kallisto (C-WAP)\",\"Mixture10\"],[\"kallisto (C-WAP)\",\"Mixture19\"],[\"kallisto (C-WAP)\",\"Mixture31\"],[\"kallisto (C-WAP)\",\"Mixture32\"],[\"kallisto (C-WAP)\",\"Mixture38\"],[\"kallisto (C-WAP)\",\"Mixture01\"],[\"kallisto (C-WAP)\",\"Mixture03\"],[\"kallisto (C-WAP)\",\"Mixture04\"],[\"kallisto (C-WAP)\",\"Mixture06\"],[\"kallisto (C-WAP)\",\"Mixture08\"],[\"kallisto (C-WAP)\",\"Mixture10\"],[\"kallisto (C-WAP)\",\"Mixture20\"],[\"kallisto (C-WAP)\",\"Mixture28\"],[\"kallisto (C-WAP)\",\"Mixture29\"],[\"kallisto (C-WAP)\",\"Mixture30\"],[\"kallisto (C-WAP)\",\"Mixture32\"],[\"kallisto (C-WAP)\",\"Mixture39\"],[\"kallisto (C-WAP)\",\"Mixture01\"],[\"kallisto (C-WAP)\",\"Mixture03\"],[\"kallisto (C-WAP)\",\"Mixture05\"],[\"kallisto (C-WAP)\",\"Mixture07\"],[\"kallisto (C-WAP)\",\"Mixture08\"],[\"kallisto (C-WAP)\",\"Mixture13\"],[\"kallisto (C-WAP)\",\"Mixture26\"],[\"kallisto (C-WAP)\",\"Mixture27\"],[\"kallisto (C-WAP)\",\"Mixture29\"],[\"kallisto (C-WAP)\",\"Mixture30\"],[\"kallisto (C-WAP)\",\"Mixture32\"],[\"kallisto (C-WAP)\",\"Mixture42\"],[\"kallisto (C-WAP)\",\"Mixture01\"],[\"kallisto (C-WAP)\",\"Mixture03\"],[\"kallisto (C-WAP)\",\"Mixture05\"],[\"kallisto (C-WAP)\",\"Mixture07\"],[\"kallisto (C-WAP)\",\"Mixture08\"],[\"kallisto (C-WAP)\",\"Mixture12\"],[\"kallisto (C-WAP)\",\"Mixture24\"],[\"kallisto (C-WAP)\",\"Mixture25\"],[\"kallisto (C-WAP)\",\"Mixture29\"],[\"kallisto (C-WAP)\",\"Mixture30\"],[\"kallisto (C-WAP)\",\"Mixture32\"],[\"kallisto (C-WAP)\",\"Mixture41\"]],\"hovertemplate\":\"Scheme=%{customdata[0]}\\u003cbr\\u003eLineages=%{x}\\u003cbr\\u003ePercent of expected abundance=%{y}\\u003cbr\\u003eSample name=%{customdata[1]}\\u003cextra\\u003e\\u003c\\u002fextra\\u003e\",\"legendgroup\":\"kallisto (C-WAP)\",\"marker\":{\"color\":\"#EF553B\"},\"name\":\"kallisto (C-WAP)\",\"notched\":false,\"offsetgroup\":\"kallisto (C-WAP)\",\"orientation\":\"v\",\"showlegend\":true,\"x\":[\"Wuhan-hu-1\",\"Wuhan-hu-1\",\"Wuhan-hu-1\",\"Wuhan-hu-1\",\"Wuhan-hu-1\",\"Wuhan-hu-1\",\"Wuhan-hu-1\",\"Wuhan-hu-1\",\"Wuhan-hu-1\",\"Wuhan-hu-1\",\"Alpha\",\"Alpha\",\"Alpha\",\"Alpha\",\"Alpha\",\"Alpha\",\"Alpha\",\"Alpha\",\"Alpha\",\"Gamma\",\"Gamma\",\"Gamma\",\"Gamma\",\"Gamma\",\"Gamma\",\"Gamma\",\"Gamma\",\"Delta\",\"Delta\",\"Delta\",\"Delta\",\"Delta\",\"Delta\",\"Iota\",\"Iota\",\"Iota\",\"Iota\",\"Iota\",\"Iota\",\"Iota\",\"Iota\",\"Iota\",\"BA.1.X\",\"BA.1.X\",\"BA.1.X\",\"BA.1.X\",\"BA.1.X\",\"BA.1.X\",\"BA.1.X\",\"BA.1.X\",\"BA.1.X\",\"BA.1.X\",\"BA.2.X\",\"BA.2.X\",\"BA.2.X\",\"BA.2.X\",\"BA.2.X\",\"BA.2.X\",\"BA.2.X\",\"BA.2.X\",\"BA.2.X\",\"BA.2.X\",\"BA.2.X\",\"BA.2.X\",\"BA.4.X\",\"BA.4.X\",\"BA.4.X\",\"BA.4.X\",\"BA.4.X\",\"BA.4.X\",\"BA.4.X\",\"BA.4.X\",\"BA.4.X\",\"BA.4.X\",\"BA.4.X\",\"BA.4.X\",\"BA.5.X\",\"BA.5.X\",\"BA.5.X\",\"BA.5.X\",\"BA.5.X\",\"BA.5.X\",\"BA.5.X\",\"BA.5.X\",\"BA.5.X\",\"BA.5.X\",\"BA.5.X\",\"BA.5.X\"],\"x0\":\" \",\"xaxis\":\"x\",\"y\":[120.0,159.60000000000002,135.20000000000002,105.60000000000001,91.0,89.9,90.7,144.89999999999995,176.8,90.10000000000001,53.99999999999999,48.0,52.800000000000004,68.8,50.66666666666667,63.6,55.3,44.800000000000004,65.9,40.5,40.0,41.6,41.6,48.0,84.6,46.199999999999996,82.89999999999999,53.99999999999999,52.800000000000004,67.2,58.099999999999994,49.0,61.5,127.50000000000001,134.4,125.6,188.79999999999998,136.53333333333333,88.3,123.89999999999996,101.6,88.3,76.5,73.6,67.73333333333333,84.8,58.4,57.06666666666666,92.2,67.19999999999999,59.199999999999996,92.60000000000001,183.0,186.4,92.16000000000001,182.40000000000006,140.0,96.8,81.80000000000001,81.30000000000001,146.0,184.0,122.39999999999999,84.1,184.5,222.93333333333334,187.2,184.0,306.4,91.2,90.99999999999999,93.2,214.4,154.4,196.0,93.30000000000001,32.24999999999999,18.240000000000002,25.2,24.53333333333333,17.2,81.69999999999999,84.2,76.8,16.400000000000002,36.4,35.199999999999996,56.800000000000004],\"y0\":\" \",\"yaxis\":\"y\",\"type\":\"box\"},{\"alignmentgroup\":\"True\",\"boxpoints\":\"all\",\"customdata\":[[\"kallisto\",\"Mixture02\"],[\"kallisto\",\"Mixture05\"],[\"kallisto\",\"Mixture09\"],[\"kallisto\",\"Mixture14\"],[\"kallisto\",\"Mixture21\"],[\"kallisto\",\"Mixture31\"],[\"kallisto\",\"Mixture32\"],[\"kallisto\",\"Mixture33\"],[\"kallisto\",\"Mixture01\"],[\"kallisto\",\"Mixture02\"],[\"kallisto\",\"Mixture04\"],[\"kallisto\",\"Mixture06\"],[\"kallisto\",\"Mixture07\"],[\"kallisto\",\"Mixture15\"],[\"kallisto\",\"Mixture31\"],[\"kallisto\",\"Mixture32\"],[\"kallisto\",\"Mixture34\"],[\"kallisto\",\"Mixture01\"],[\"kallisto\",\"Mixture02\"],[\"kallisto\",\"Mixture04\"],[\"kallisto\",\"Mixture06\"],[\"kallisto\",\"Mixture07\"],[\"kallisto\",\"Mixture16\"],[\"kallisto\",\"Mixture31\"],[\"kallisto\",\"Mixture35\"],[\"kallisto\",\"Mixture01\"],[\"kallisto\",\"Mixture02\"],[\"kallisto\",\"Mixture06\"],[\"kallisto\",\"Mixture18\"],[\"kallisto\",\"Mixture31\"],[\"kallisto\",\"Mixture37\"],[\"kallisto\",\"Mixture01\"],[\"kallisto\",\"Mixture02\"],[\"kallisto\",\"Mixture04\"],[\"kallisto\",\"Mixture06\"],[\"kallisto\",\"Mixture07\"],[\"kallisto\",\"Mixture17\"],[\"kallisto\",\"Mixture31\"],[\"kallisto\",\"Mixture32\"],[\"kallisto\",\"Mixture36\"],[\"kallisto\",\"Mixture01\"],[\"kallisto\",\"Mixture02\"],[\"kallisto\",\"Mixture04\"],[\"kallisto\",\"Mixture06\"],[\"kallisto\",\"Mixture08\"],[\"kallisto\",\"Mixture10\"],[\"kallisto\",\"Mixture19\"],[\"kallisto\",\"Mixture31\"],[\"kallisto\",\"Mixture32\"],[\"kallisto\",\"Mixture38\"],[\"kallisto\",\"Mixture01\"],[\"kallisto\",\"Mixture03\"],[\"kallisto\",\"Mixture04\"],[\"kallisto\",\"Mixture06\"],[\"kallisto\",\"Mixture08\"],[\"kallisto\",\"Mixture10\"],[\"kallisto\",\"Mixture20\"],[\"kallisto\",\"Mixture28\"],[\"kallisto\",\"Mixture29\"],[\"kallisto\",\"Mixture30\"],[\"kallisto\",\"Mixture32\"],[\"kallisto\",\"Mixture39\"],[\"kallisto\",\"Mixture01\"],[\"kallisto\",\"Mixture03\"],[\"kallisto\",\"Mixture05\"],[\"kallisto\",\"Mixture06\"],[\"kallisto\",\"Mixture07\"],[\"kallisto\",\"Mixture08\"],[\"kallisto\",\"Mixture11\"],[\"kallisto\",\"Mixture22\"],[\"kallisto\",\"Mixture23\"],[\"kallisto\",\"Mixture29\"],[\"kallisto\",\"Mixture30\"],[\"kallisto\",\"Mixture32\"],[\"kallisto\",\"Mixture40\"],[\"kallisto\",\"Mixture01\"],[\"kallisto\",\"Mixture03\"],[\"kallisto\",\"Mixture05\"],[\"kallisto\",\"Mixture07\"],[\"kallisto\",\"Mixture08\"],[\"kallisto\",\"Mixture13\"],[\"kallisto\",\"Mixture26\"],[\"kallisto\",\"Mixture27\"],[\"kallisto\",\"Mixture29\"],[\"kallisto\",\"Mixture30\"],[\"kallisto\",\"Mixture32\"],[\"kallisto\",\"Mixture42\"],[\"kallisto\",\"Mixture01\"],[\"kallisto\",\"Mixture03\"],[\"kallisto\",\"Mixture05\"],[\"kallisto\",\"Mixture07\"],[\"kallisto\",\"Mixture08\"],[\"kallisto\",\"Mixture12\"],[\"kallisto\",\"Mixture24\"],[\"kallisto\",\"Mixture25\"],[\"kallisto\",\"Mixture29\"],[\"kallisto\",\"Mixture30\"],[\"kallisto\",\"Mixture32\"],[\"kallisto\",\"Mixture41\"]],\"hovertemplate\":\"Scheme=%{customdata[0]}\\u003cbr\\u003eLineages=%{x}\\u003cbr\\u003ePercent of expected abundance=%{y}\\u003cbr\\u003eSample name=%{customdata[1]}\\u003cextra\\u003e\\u003c\\u002fextra\\u003e\",\"legendgroup\":\"kallisto\",\"marker\":{\"color\":\"#00cc96\"},\"name\":\"kallisto\",\"notched\":false,\"offsetgroup\":\"kallisto\",\"orientation\":\"v\",\"showlegend\":true,\"x\":[\"Wuhan-hu-1\",\"Wuhan-hu-1\",\"Wuhan-hu-1\",\"Wuhan-hu-1\",\"Wuhan-hu-1\",\"Wuhan-hu-1\",\"Wuhan-hu-1\",\"Wuhan-hu-1\",\"Alpha\",\"Alpha\",\"Alpha\",\"Alpha\",\"Alpha\",\"Alpha\",\"Alpha\",\"Alpha\",\"Alpha\",\"Gamma\",\"Gamma\",\"Gamma\",\"Gamma\",\"Gamma\",\"Gamma\",\"Gamma\",\"Gamma\",\"Delta\",\"Delta\",\"Delta\",\"Delta\",\"Delta\",\"Delta\",\"Iota\",\"Iota\",\"Iota\",\"Iota\",\"Iota\",\"Iota\",\"Iota\",\"Iota\",\"Iota\",\"BA.1.X\",\"BA.1.X\",\"BA.1.X\",\"BA.1.X\",\"BA.1.X\",\"BA.1.X\",\"BA.1.X\",\"BA.1.X\",\"BA.1.X\",\"BA.1.X\",\"BA.2.X\",\"BA.2.X\",\"BA.2.X\",\"BA.2.X\",\"BA.2.X\",\"BA.2.X\",\"BA.2.X\",\"BA.2.X\",\"BA.2.X\",\"BA.2.X\",\"BA.2.X\",\"BA.2.X\",\"BG.X\",\"BG.X\",\"BG.X\",\"BG.X\",\"BG.X\",\"BG.X\",\"BG.X\",\"BG.X\",\"BG.X\",\"BG.X\",\"BG.X\",\"BG.X\",\"BG.X\",\"BA.4.X\",\"BA.4.X\",\"BA.4.X\",\"BA.4.X\",\"BA.4.X\",\"BA.4.X\",\"BA.4.X\",\"BA.4.X\",\"BA.4.X\",\"BA.4.X\",\"BA.4.X\",\"BA.4.X\",\"BA.5.X\",\"BA.5.X\",\"BA.5.X\",\"BA.5.X\",\"BA.5.X\",\"BA.5.X\",\"BA.5.X\",\"BA.5.X\",\"BA.5.X\",\"BA.5.X\",\"BA.5.X\",\"BA.5.X\"],\"x0\":\" \",\"xaxis\":\"x\",\"y\":[29.84,21.76,33.58,33.48,36.25,17.744999999999997,6.32,35.42,47.400000000000006,42.919999999999995,47.36,52.480000000000004,38.400000000000006,67.23,51.51999999999999,39.839999999999996,68.54,47.7,57.76,46.986666666666665,50.56,39.04,76.2,57.04999999999999,77.55,162.89999999999992,113.44000000000001,103.04000000000006,75.34999999999998,129.36000000000004,76.23999999999998,69.0,91.60000000000001,77.52,90.4,70.98666666666666,55.19,90.36999999999999,62.32,55.53,41.85,32.160000000000004,40.42666666666667,52.533333333333346,42.36,41.306666666666665,70.20999999999998,30.86999999999999,35.199999999999996,69.62000000000002,75.22500000000001,73.47999999999999,53.664,70.50666666666669,80.96,69.40799999999999,61.19,60.77000000000001,70.07999999999998,68.52000000000001,68.47999999999999,63.87000000000002,32.99999999999999,53.64,17.919999999999998,31.839999999999996,22.720000000000002,43.52,56.699999999999996,59.540000000000006,57.24,40.839999999999996,35.24,25.6,53.15,112.27500000000002,150.72,110.77333333333333,98.56000000000002,173.76,68.10000000000001,71.72999999999999,66.25999999999999,140.32,124.91999999999999,100.32,64.09000000000002,89.99999999999999,52.19200000000001,50.040000000000006,60.319999999999986,64.03999999999998,69.41,71.13999999999999,62.470000000000006,60.00000000000002,76.64000000000003,94.15999999999998,53.929999999999964],\"y0\":\" \",\"yaxis\":\"y\",\"type\":\"box\"},{\"alignmentgroup\":\"True\",\"boxpoints\":\"all\",\"customdata\":[[\"VaQuERo\",\"Mixture02\"],[\"VaQuERo\",\"Mixture04\"],[\"VaQuERo\",\"Mixture06\"],[\"VaQuERo\",\"Mixture07\"],[\"VaQuERo\",\"Mixture15\"],[\"VaQuERo\",\"Mixture31\"],[\"VaQuERo\",\"Mixture32\"],[\"VaQuERo\",\"Mixture34\"],[\"VaQuERo\",\"Mixture04\"],[\"VaQuERo\",\"Mixture16\"],[\"VaQuERo\",\"Mixture31\"],[\"VaQuERo\",\"Mixture35\"],[\"VaQuERo\",\"Mixture01\"],[\"VaQuERo\",\"Mixture02\"],[\"VaQuERo\",\"Mixture06\"],[\"VaQuERo\",\"Mixture18\"],[\"VaQuERo\",\"Mixture31\"],[\"VaQuERo\",\"Mixture37\"],[\"VaQuERo\",\"Mixture01\"],[\"VaQuERo\",\"Mixture02\"],[\"VaQuERo\",\"Mixture04\"],[\"VaQuERo\",\"Mixture06\"],[\"VaQuERo\",\"Mixture07\"],[\"VaQuERo\",\"Mixture17\"],[\"VaQuERo\",\"Mixture31\"],[\"VaQuERo\",\"Mixture32\"],[\"VaQuERo\",\"Mixture36\"],[\"VaQuERo\",\"Mixture02\"],[\"VaQuERo\",\"Mixture04\"],[\"VaQuERo\",\"Mixture06\"],[\"VaQuERo\",\"Mixture08\"],[\"VaQuERo\",\"Mixture10\"],[\"VaQuERo\",\"Mixture19\"],[\"VaQuERo\",\"Mixture31\"],[\"VaQuERo\",\"Mixture32\"],[\"VaQuERo\",\"Mixture38\"],[\"VaQuERo\",\"Mixture01\"],[\"VaQuERo\",\"Mixture03\"],[\"VaQuERo\",\"Mixture04\"],[\"VaQuERo\",\"Mixture06\"],[\"VaQuERo\",\"Mixture08\"],[\"VaQuERo\",\"Mixture10\"],[\"VaQuERo\",\"Mixture20\"],[\"VaQuERo\",\"Mixture28\"],[\"VaQuERo\",\"Mixture29\"],[\"VaQuERo\",\"Mixture30\"],[\"VaQuERo\",\"Mixture32\"],[\"VaQuERo\",\"Mixture39\"],[\"VaQuERo\",\"Mixture01\"],[\"VaQuERo\",\"Mixture03\"],[\"VaQuERo\",\"Mixture05\"],[\"VaQuERo\",\"Mixture06\"],[\"VaQuERo\",\"Mixture07\"],[\"VaQuERo\",\"Mixture08\"],[\"VaQuERo\",\"Mixture11\"],[\"VaQuERo\",\"Mixture22\"],[\"VaQuERo\",\"Mixture23\"],[\"VaQuERo\",\"Mixture29\"],[\"VaQuERo\",\"Mixture30\"],[\"VaQuERo\",\"Mixture32\"],[\"VaQuERo\",\"Mixture40\"],[\"VaQuERo\",\"Mixture01\"],[\"VaQuERo\",\"Mixture03\"],[\"VaQuERo\",\"Mixture05\"],[\"VaQuERo\",\"Mixture07\"],[\"VaQuERo\",\"Mixture08\"],[\"VaQuERo\",\"Mixture13\"],[\"VaQuERo\",\"Mixture26\"],[\"VaQuERo\",\"Mixture27\"],[\"VaQuERo\",\"Mixture29\"],[\"VaQuERo\",\"Mixture30\"],[\"VaQuERo\",\"Mixture32\"],[\"VaQuERo\",\"Mixture42\"],[\"VaQuERo\",\"Mixture01\"],[\"VaQuERo\",\"Mixture03\"],[\"VaQuERo\",\"Mixture05\"],[\"VaQuERo\",\"Mixture07\"],[\"VaQuERo\",\"Mixture08\"],[\"VaQuERo\",\"Mixture12\"],[\"VaQuERo\",\"Mixture24\"],[\"VaQuERo\",\"Mixture25\"],[\"VaQuERo\",\"Mixture29\"],[\"VaQuERo\",\"Mixture30\"],[\"VaQuERo\",\"Mixture32\"],[\"VaQuERo\",\"Mixture41\"]],\"hovertemplate\":\"Scheme=%{customdata[0]}\\u003cbr\\u003eLineages=%{x}\\u003cbr\\u003ePercent of expected abundance=%{y}\\u003cbr\\u003eSample name=%{customdata[1]}\\u003cextra\\u003e\\u003c\\u002fextra\\u003e\",\"legendgroup\":\"VaQuERo\",\"marker\":{\"color\":\"#ab63fa\"},\"name\":\"VaQuERo\",\"notched\":false,\"offsetgroup\":\"VaQuERo\",\"orientation\":\"v\",\"showlegend\":true,\"x\":[\"Alpha\",\"Alpha\",\"Alpha\",\"Alpha\",\"Alpha\",\"Alpha\",\"Alpha\",\"Alpha\",\"Gamma\",\"Gamma\",\"Gamma\",\"Gamma\",\"Delta\",\"Delta\",\"Delta\",\"Delta\",\"Delta\",\"Delta\",\"Iota\",\"Iota\",\"Iota\",\"Iota\",\"Iota\",\"Iota\",\"Iota\",\"Iota\",\"Iota\",\"BA.1.X\",\"BA.1.X\",\"BA.1.X\",\"BA.1.X\",\"BA.1.X\",\"BA.1.X\",\"BA.1.X\",\"BA.1.X\",\"BA.1.X\",\"BA.2.X\",\"BA.2.X\",\"BA.2.X\",\"BA.2.X\",\"BA.2.X\",\"BA.2.X\",\"BA.2.X\",\"BA.2.X\",\"BA.2.X\",\"BA.2.X\",\"BA.2.X\",\"BA.2.X\",\"BG.X\",\"BG.X\",\"BG.X\",\"BG.X\",\"BG.X\",\"BG.X\",\"BG.X\",\"BG.X\",\"BG.X\",\"BG.X\",\"BG.X\",\"BG.X\",\"BG.X\",\"BA.4.X\",\"BA.4.X\",\"BA.4.X\",\"BA.4.X\",\"BA.4.X\",\"BA.4.X\",\"BA.4.X\",\"BA.4.X\",\"BA.4.X\",\"BA.4.X\",\"BA.4.X\",\"BA.4.X\",\"BA.5.X\",\"BA.5.X\",\"BA.5.X\",\"BA.5.X\",\"BA.5.X\",\"BA.5.X\",\"BA.5.X\",\"BA.5.X\",\"BA.5.X\",\"BA.5.X\",\"BA.5.X\",\"BA.5.X\"],\"x0\":\" \",\"xaxis\":\"x\",\"y\":[70.48,93.44,82.39999999999999,109.11999999999999,92.14,73.07999999999998,83.76,91.97999999999999,65.27999999999999,91.39,61.59999999999999,91.97999999999999,98.4,94.18666666666667,105.97333333333331,90.16,92.96,90.39,136.35,132.88,126.72000000000001,202.72,124.69333333333334,85.42999999999999,133.56,101.84,87.12,67.75999999999999,56.96,70.72,52.12,53.013333333333335,81.78999999999999,55.92999999999999,50.88,84.36,135.07500000000002,104.24,99.77600000000001,107.04,127.2,110.496,90.81,90.63,108.88,135.64000000000001,40.400000000000006,90.68,67.2,81.56,49.333333333333336,56.24,50.160000000000004,66.08000000000001,89.42,88.81,88.6,60.8,57.56,73.68,84.89,141.675,171.30666666666664,162.66666666666666,157.76000000000002,228.56,90.22,90.0,90.60000000000001,161.35999999999999,107.28,165.76,90.36,55.49999999999999,42.08,44.68,17.653333333333332,43.56,89.17,89.86,90.07,41.32,69.92,29.92,88.53],\"y0\":\" \",\"yaxis\":\"y\",\"type\":\"box\"},{\"alignmentgroup\":\"True\",\"boxpoints\":\"all\",\"customdata\":[[\"LCS\",\"Mixture01\"],[\"LCS\",\"Mixture02\"],[\"LCS\",\"Mixture04\"],[\"LCS\",\"Mixture06\"],[\"LCS\",\"Mixture07\"],[\"LCS\",\"Mixture15\"],[\"LCS\",\"Mixture31\"],[\"LCS\",\"Mixture32\"],[\"LCS\",\"Mixture34\"],[\"LCS\",\"Mixture01\"],[\"LCS\",\"Mixture02\"],[\"LCS\",\"Mixture04\"],[\"LCS\",\"Mixture06\"],[\"LCS\",\"Mixture07\"],[\"LCS\",\"Mixture16\"],[\"LCS\",\"Mixture31\"],[\"LCS\",\"Mixture35\"],[\"LCS\",\"Mixture01\"],[\"LCS\",\"Mixture02\"],[\"LCS\",\"Mixture06\"],[\"LCS\",\"Mixture18\"],[\"LCS\",\"Mixture31\"],[\"LCS\",\"Mixture37\"],[\"LCS\",\"Mixture01\"],[\"LCS\",\"Mixture02\"],[\"LCS\",\"Mixture04\"],[\"LCS\",\"Mixture06\"],[\"LCS\",\"Mixture07\"],[\"LCS\",\"Mixture17\"],[\"LCS\",\"Mixture31\"],[\"LCS\",\"Mixture32\"],[\"LCS\",\"Mixture36\"],[\"LCS\",\"Mixture01\"],[\"LCS\",\"Mixture02\"],[\"LCS\",\"Mixture04\"],[\"LCS\",\"Mixture06\"],[\"LCS\",\"Mixture08\"],[\"LCS\",\"Mixture10\"],[\"LCS\",\"Mixture19\"],[\"LCS\",\"Mixture31\"],[\"LCS\",\"Mixture32\"],[\"LCS\",\"Mixture38\"],[\"LCS\",\"Mixture01\"],[\"LCS\",\"Mixture03\"],[\"LCS\",\"Mixture04\"],[\"LCS\",\"Mixture06\"],[\"LCS\",\"Mixture08\"],[\"LCS\",\"Mixture10\"],[\"LCS\",\"Mixture20\"],[\"LCS\",\"Mixture28\"],[\"LCS\",\"Mixture29\"],[\"LCS\",\"Mixture30\"],[\"LCS\",\"Mixture32\"],[\"LCS\",\"Mixture39\"],[\"LCS\",\"Mixture01\"],[\"LCS\",\"Mixture03\"],[\"LCS\",\"Mixture05\"],[\"LCS\",\"Mixture06\"],[\"LCS\",\"Mixture07\"],[\"LCS\",\"Mixture08\"],[\"LCS\",\"Mixture11\"],[\"LCS\",\"Mixture22\"],[\"LCS\",\"Mixture23\"],[\"LCS\",\"Mixture29\"],[\"LCS\",\"Mixture30\"],[\"LCS\",\"Mixture32\"],[\"LCS\",\"Mixture40\"],[\"LCS\",\"Mixture01\"],[\"LCS\",\"Mixture03\"],[\"LCS\",\"Mixture05\"],[\"LCS\",\"Mixture07\"],[\"LCS\",\"Mixture08\"],[\"LCS\",\"Mixture13\"],[\"LCS\",\"Mixture26\"],[\"LCS\",\"Mixture27\"],[\"LCS\",\"Mixture29\"],[\"LCS\",\"Mixture30\"],[\"LCS\",\"Mixture32\"],[\"LCS\",\"Mixture42\"],[\"LCS\",\"Mixture01\"],[\"LCS\",\"Mixture03\"],[\"LCS\",\"Mixture05\"],[\"LCS\",\"Mixture08\"],[\"LCS\",\"Mixture12\"],[\"LCS\",\"Mixture24\"],[\"LCS\",\"Mixture25\"],[\"LCS\",\"Mixture29\"],[\"LCS\",\"Mixture30\"],[\"LCS\",\"Mixture32\"],[\"LCS\",\"Mixture41\"]],\"hovertemplate\":\"Scheme=%{customdata[0]}\\u003cbr\\u003eLineages=%{x}\\u003cbr\\u003ePercent of expected abundance=%{y}\\u003cbr\\u003eSample name=%{customdata[1]}\\u003cextra\\u003e\\u003c\\u002fextra\\u003e\",\"legendgroup\":\"LCS\",\"marker\":{\"color\":\"#FFA15A\"},\"name\":\"LCS\",\"notched\":false,\"offsetgroup\":\"LCS\",\"orientation\":\"v\",\"showlegend\":true,\"x\":[\"Alpha\",\"Alpha\",\"Alpha\",\"Alpha\",\"Alpha\",\"Alpha\",\"Alpha\",\"Alpha\",\"Alpha\",\"Gamma\",\"Gamma\",\"Gamma\",\"Gamma\",\"Gamma\",\"Gamma\",\"Gamma\",\"Gamma\",\"Delta\",\"Delta\",\"Delta\",\"Delta\",\"Delta\",\"Delta\",\"Iota\",\"Iota\",\"Iota\",\"Iota\",\"Iota\",\"Iota\",\"Iota\",\"Iota\",\"Iota\",\"BA.1.X\",\"BA.1.X\",\"BA.1.X\",\"BA.1.X\",\"BA.1.X\",\"BA.1.X\",\"BA.1.X\",\"BA.1.X\",\"BA.1.X\",\"BA.1.X\",\"BA.2.X\",\"BA.2.X\",\"BA.2.X\",\"BA.2.X\",\"BA.2.X\",\"BA.2.X\",\"BA.2.X\",\"BA.2.X\",\"BA.2.X\",\"BA.2.X\",\"BA.2.X\",\"BA.2.X\",\"BG.X\",\"BG.X\",\"BG.X\",\"BG.X\",\"BG.X\",\"BG.X\",\"BG.X\",\"BG.X\",\"BG.X\",\"BG.X\",\"BG.X\",\"BG.X\",\"BG.X\",\"BA.4.X\",\"BA.4.X\",\"BA.4.X\",\"BA.4.X\",\"BA.4.X\",\"BA.4.X\",\"BA.4.X\",\"BA.4.X\",\"BA.4.X\",\"BA.4.X\",\"BA.4.X\",\"BA.4.X\",\"BA.5.X\",\"BA.5.X\",\"BA.5.X\",\"BA.5.X\",\"BA.5.X\",\"BA.5.X\",\"BA.5.X\",\"BA.5.X\",\"BA.5.X\",\"BA.5.X\",\"BA.5.X\"],\"x0\":\" \",\"xaxis\":\"x\",\"y\":[83.39999999999999,77.96,69.6,89.28,72.63999999999999,97.74000000000001,93.51999999999998,55.04,96.83,27.3,47.68,58.720000000000006,31.840000000000003,43.04,98.42,56.83999999999999,97.91,46.2,57.86666666666667,36.10666666666666,58.93000000000001,57.68,68.17999999999999,21.750000000000004,137.12,24.240000000000002,126.88,68.80000000000001,54.790000000000006,142.44999999999996,110.08,53.849999999999994,49.50000000000001,41.44,80.85333333333334,80.96,62.68,66.61333333333333,94.78,44.589999999999996,55.92,94.19,31.35,33.44,57.984,54.82666666666667,82.72,107.31199999999998,91.73,79.67,85.76,91.24,3.6799999999999997,95.48,50.62500000000001,83.08,34.026666666666664,59.519999999999996,43.120000000000005,64.08,83.58,95.64,93.61,55.279999999999994,50.03999999999999,50.160000000000004,91.31,151.8,277.28000000000003,166.50666666666666,141.81333333333333,261.2,92.83,93.0,95.59,212.84,157.8,178.88,97.03,1.875,50.59199999999999,8.76,45.64,96.46000000000001,93.05,94.72,21.72,89.96,11.04,76.75999999999999],\"y0\":\" \",\"yaxis\":\"y\",\"type\":\"box\"},{\"alignmentgroup\":\"True\",\"boxpoints\":\"all\",\"customdata\":[[\"LolliPop\",\"Mixture01\"],[\"LolliPop\",\"Mixture02\"],[\"LolliPop\",\"Mixture04\"],[\"LolliPop\",\"Mixture06\"],[\"LolliPop\",\"Mixture07\"],[\"LolliPop\",\"Mixture15\"],[\"LolliPop\",\"Mixture31\"],[\"LolliPop\",\"Mixture32\"],[\"LolliPop\",\"Mixture34\"],[\"LolliPop\",\"Mixture01\"],[\"LolliPop\",\"Mixture02\"],[\"LolliPop\",\"Mixture04\"],[\"LolliPop\",\"Mixture06\"],[\"LolliPop\",\"Mixture07\"],[\"LolliPop\",\"Mixture16\"],[\"LolliPop\",\"Mixture31\"],[\"LolliPop\",\"Mixture35\"],[\"LolliPop\",\"Mixture01\"],[\"LolliPop\",\"Mixture02\"],[\"LolliPop\",\"Mixture06\"],[\"LolliPop\",\"Mixture18\"],[\"LolliPop\",\"Mixture31\"],[\"LolliPop\",\"Mixture37\"],[\"LolliPop\",\"Mixture01\"],[\"LolliPop\",\"Mixture02\"],[\"LolliPop\",\"Mixture04\"],[\"LolliPop\",\"Mixture06\"],[\"LolliPop\",\"Mixture08\"],[\"LolliPop\",\"Mixture10\"],[\"LolliPop\",\"Mixture19\"],[\"LolliPop\",\"Mixture31\"],[\"LolliPop\",\"Mixture32\"],[\"LolliPop\",\"Mixture38\"],[\"LolliPop\",\"Mixture01\"],[\"LolliPop\",\"Mixture03\"],[\"LolliPop\",\"Mixture04\"],[\"LolliPop\",\"Mixture06\"],[\"LolliPop\",\"Mixture08\"],[\"LolliPop\",\"Mixture10\"],[\"LolliPop\",\"Mixture20\"],[\"LolliPop\",\"Mixture28\"],[\"LolliPop\",\"Mixture29\"],[\"LolliPop\",\"Mixture30\"],[\"LolliPop\",\"Mixture32\"],[\"LolliPop\",\"Mixture39\"],[\"LolliPop\",\"Mixture01\"],[\"LolliPop\",\"Mixture03\"],[\"LolliPop\",\"Mixture05\"],[\"LolliPop\",\"Mixture07\"],[\"LolliPop\",\"Mixture08\"],[\"LolliPop\",\"Mixture13\"],[\"LolliPop\",\"Mixture26\"],[\"LolliPop\",\"Mixture27\"],[\"LolliPop\",\"Mixture29\"],[\"LolliPop\",\"Mixture30\"],[\"LolliPop\",\"Mixture32\"],[\"LolliPop\",\"Mixture42\"],[\"LolliPop\",\"Mixture01\"],[\"LolliPop\",\"Mixture03\"],[\"LolliPop\",\"Mixture05\"],[\"LolliPop\",\"Mixture07\"],[\"LolliPop\",\"Mixture08\"],[\"LolliPop\",\"Mixture12\"],[\"LolliPop\",\"Mixture24\"],[\"LolliPop\",\"Mixture25\"],[\"LolliPop\",\"Mixture29\"],[\"LolliPop\",\"Mixture30\"],[\"LolliPop\",\"Mixture32\"],[\"LolliPop\",\"Mixture41\"]],\"hovertemplate\":\"Scheme=%{customdata[0]}\\u003cbr\\u003eLineages=%{x}\\u003cbr\\u003ePercent of expected abundance=%{y}\\u003cbr\\u003eSample name=%{customdata[1]}\\u003cextra\\u003e\\u003c\\u002fextra\\u003e\",\"legendgroup\":\"LolliPop\",\"marker\":{\"color\":\"#19d3f3\"},\"name\":\"LolliPop\",\"notched\":false,\"offsetgroup\":\"LolliPop\",\"orientation\":\"v\",\"showlegend\":true,\"x\":[\"Alpha\",\"Alpha\",\"Alpha\",\"Alpha\",\"Alpha\",\"Alpha\",\"Alpha\",\"Alpha\",\"Alpha\",\"Gamma\",\"Gamma\",\"Gamma\",\"Gamma\",\"Gamma\",\"Gamma\",\"Gamma\",\"Gamma\",\"Delta\",\"Delta\",\"Delta\",\"Delta\",\"Delta\",\"Delta\",\"BA.1.X\",\"BA.1.X\",\"BA.1.X\",\"BA.1.X\",\"BA.1.X\",\"BA.1.X\",\"BA.1.X\",\"BA.1.X\",\"BA.1.X\",\"BA.1.X\",\"BA.2.X\",\"BA.2.X\",\"BA.2.X\",\"BA.2.X\",\"BA.2.X\",\"BA.2.X\",\"BA.2.X\",\"BA.2.X\",\"BA.2.X\",\"BA.2.X\",\"BA.2.X\",\"BA.2.X\",\"BA.4.X\",\"BA.4.X\",\"BA.4.X\",\"BA.4.X\",\"BA.4.X\",\"BA.4.X\",\"BA.4.X\",\"BA.4.X\",\"BA.4.X\",\"BA.4.X\",\"BA.4.X\",\"BA.4.X\",\"BA.5.X\",\"BA.5.X\",\"BA.5.X\",\"BA.5.X\",\"BA.5.X\",\"BA.5.X\",\"BA.5.X\",\"BA.5.X\",\"BA.5.X\",\"BA.5.X\",\"BA.5.X\",\"BA.5.X\"],\"x0\":\" \",\"xaxis\":\"x\",\"y\":[71.4,72.56,76.32,86.56,61.33333333333334,90.34,83.78999999999999,64.16,90.47,54.900000000000006,58.879999999999995,54.72,53.44,48.72,93.11,66.28999999999999,93.42,84.0,86.98666666666666,94.93333333333332,91.49000000000001,87.28999999999999,90.5,41.4,61.44,49.01333333333333,54.24,44.24,47.78666666666667,82.91,45.849999999999994,38.879999999999995,83.78999999999999,283.65,191.83999999999997,109.75999999999999,192.85333333333332,191.76,98.79999999999998,77.69999999999999,81.01,181.56,207.32,255.92000000000002,76.18,130.50000000000003,121.12,174.61333333333332,158.82666666666668,172.00000000000003,56.63,62.19,61.31999999999999,123.15999999999998,65.75999999999999,161.6,64.75,67.95,38.784,43.08,41.120000000000005,25.840000000000003,86.27,91.5,77.66999999999999,25.64,69.0,58.4,60.209999999999994],\"y0\":\" \",\"yaxis\":\"y\",\"type\":\"box\"},{\"alignmentgroup\":\"True\",\"boxpoints\":\"all\",\"customdata\":[[\"lineagespot\",\"Mixture15\"],[\"lineagespot\",\"Mixture34\"],[\"lineagespot\",\"Mixture16\"],[\"lineagespot\",\"Mixture35\"],[\"lineagespot\",\"Mixture18\"]],\"hovertemplate\":\"Scheme=%{customdata[0]}\\u003cbr\\u003eLineages=%{x}\\u003cbr\\u003ePercent of expected abundance=%{y}\\u003cbr\\u003eSample name=%{customdata[1]}\\u003cextra\\u003e\\u003c\\u002fextra\\u003e\",\"legendgroup\":\"lineagespot\",\"marker\":{\"color\":\"#FF6692\"},\"name\":\"lineagespot\",\"notched\":false,\"offsetgroup\":\"lineagespot\",\"orientation\":\"v\",\"showlegend\":true,\"x\":[\"Alpha\",\"Alpha\",\"Gamma\",\"Gamma\",\"Delta\"],\"x0\":\" \",\"xaxis\":\"x\",\"y\":[17.79,44.47,13.459999999999999,40.37,35.79],\"y0\":\" \",\"yaxis\":\"y\",\"type\":\"box\"},{\"alignmentgroup\":\"True\",\"boxpoints\":\"all\",\"customdata\":[[\"Kraken 2 (C-WAP)\",\"Mixture01\"],[\"Kraken 2 (C-WAP)\",\"Mixture02\"],[\"Kraken 2 (C-WAP)\",\"Mixture04\"],[\"Kraken 2 (C-WAP)\",\"Mixture06\"],[\"Kraken 2 (C-WAP)\",\"Mixture08\"],[\"Kraken 2 (C-WAP)\",\"Mixture10\"],[\"Kraken 2 (C-WAP)\",\"Mixture19\"],[\"Kraken 2 (C-WAP)\",\"Mixture31\"],[\"Kraken 2 (C-WAP)\",\"Mixture32\"],[\"Kraken 2 (C-WAP)\",\"Mixture38\"],[\"Kraken 2 (C-WAP)\",\"Mixture01\"],[\"Kraken 2 (C-WAP)\",\"Mixture03\"],[\"Kraken 2 (C-WAP)\",\"Mixture04\"],[\"Kraken 2 (C-WAP)\",\"Mixture06\"],[\"Kraken 2 (C-WAP)\",\"Mixture08\"],[\"Kraken 2 (C-WAP)\",\"Mixture10\"],[\"Kraken 2 (C-WAP)\",\"Mixture20\"],[\"Kraken 2 (C-WAP)\",\"Mixture28\"],[\"Kraken 2 (C-WAP)\",\"Mixture29\"],[\"Kraken 2 (C-WAP)\",\"Mixture30\"],[\"Kraken 2 (C-WAP)\",\"Mixture32\"],[\"Kraken 2 (C-WAP)\",\"Mixture39\"],[\"Kraken 2 (C-WAP)\",\"Mixture01\"],[\"Kraken 2 (C-WAP)\",\"Mixture03\"],[\"Kraken 2 (C-WAP)\",\"Mixture05\"],[\"Kraken 2 (C-WAP)\",\"Mixture07\"],[\"Kraken 2 (C-WAP)\",\"Mixture08\"],[\"Kraken 2 (C-WAP)\",\"Mixture13\"],[\"Kraken 2 (C-WAP)\",\"Mixture26\"],[\"Kraken 2 (C-WAP)\",\"Mixture27\"],[\"Kraken 2 (C-WAP)\",\"Mixture29\"],[\"Kraken 2 (C-WAP)\",\"Mixture30\"],[\"Kraken 2 (C-WAP)\",\"Mixture32\"],[\"Kraken 2 (C-WAP)\",\"Mixture42\"],[\"Kraken 2 (C-WAP)\",\"Mixture01\"],[\"Kraken 2 (C-WAP)\",\"Mixture03\"],[\"Kraken 2 (C-WAP)\",\"Mixture05\"],[\"Kraken 2 (C-WAP)\",\"Mixture07\"],[\"Kraken 2 (C-WAP)\",\"Mixture08\"],[\"Kraken 2 (C-WAP)\",\"Mixture12\"],[\"Kraken 2 (C-WAP)\",\"Mixture24\"],[\"Kraken 2 (C-WAP)\",\"Mixture25\"],[\"Kraken 2 (C-WAP)\",\"Mixture29\"],[\"Kraken 2 (C-WAP)\",\"Mixture30\"],[\"Kraken 2 (C-WAP)\",\"Mixture32\"],[\"Kraken 2 (C-WAP)\",\"Mixture41\"]],\"hovertemplate\":\"Scheme=%{customdata[0]}\\u003cbr\\u003eLineages=%{x}\\u003cbr\\u003ePercent of expected abundance=%{y}\\u003cbr\\u003eSample name=%{customdata[1]}\\u003cextra\\u003e\\u003c\\u002fextra\\u003e\",\"legendgroup\":\"Kraken 2 (C-WAP)\",\"marker\":{\"color\":\"#B6E880\"},\"name\":\"Kraken 2 (C-WAP)\",\"notched\":false,\"offsetgroup\":\"Kraken 2 (C-WAP)\",\"orientation\":\"v\",\"showlegend\":true,\"x\":[\"BA.1.X\",\"BA.1.X\",\"BA.1.X\",\"BA.1.X\",\"BA.1.X\",\"BA.1.X\",\"BA.1.X\",\"BA.1.X\",\"BA.1.X\",\"BA.1.X\",\"BA.2.X\",\"BA.2.X\",\"BA.2.X\",\"BA.2.X\",\"BA.2.X\",\"BA.2.X\",\"BA.2.X\",\"BA.2.X\",\"BA.2.X\",\"BA.2.X\",\"BA.2.X\",\"BA.2.X\",\"BA.4.X\",\"BA.4.X\",\"BA.4.X\",\"BA.4.X\",\"BA.4.X\",\"BA.4.X\",\"BA.4.X\",\"BA.4.X\",\"BA.4.X\",\"BA.4.X\",\"BA.4.X\",\"BA.4.X\",\"BA.5.X\",\"BA.5.X\",\"BA.5.X\",\"BA.5.X\",\"BA.5.X\",\"BA.5.X\",\"BA.5.X\",\"BA.5.X\",\"BA.5.X\",\"BA.5.X\",\"BA.5.X\",\"BA.5.X\"],\"x0\":\" \",\"xaxis\":\"x\",\"y\":[445.2,321.91999999999996,161.92,243.4133333333333,151.48,114.13333333333333,65.62,268.09999999999997,205.28,61.6,263.925,196.76,84.576,148.8533333333333,127.75999999999999,35.519999999999996,31.930000000000003,29.259999999999998,178.84,170.12,279.04,29.23,215.69999999999996,179.41333333333336,187.73333333333335,150.24,233.92,43.73,45.17,42.43,139.76,143.48000000000002,240.79999999999998,42.6,5.775,1.44,2.04,4.16,2.8400000000000003,1.22,0.38999999999999996,0.45999999999999996,1.52,2.48,4.24,1.2],\"y0\":\" \",\"yaxis\":\"y\",\"type\":\"box\"}],                        {\"template\":{\"data\":{\"histogram2dcontour\":[{\"type\":\"histogram2dcontour\",\"colorbar\":{\"outlinewidth\":0,\"ticks\":\"\"},\"colorscale\":[[0.0,\"#0d0887\"],[0.1111111111111111,\"#46039f\"],[0.2222222222222222,\"#7201a8\"],[0.3333333333333333,\"#9c179e\"],[0.4444444444444444,\"#bd3786\"],[0.5555555555555556,\"#d8576b\"],[0.6666666666666666,\"#ed7953\"],[0.7777777777777778,\"#fb9f3a\"],[0.8888888888888888,\"#fdca26\"],[1.0,\"#f0f921\"]]}],\"choropleth\":[{\"type\":\"choropleth\",\"colorbar\":{\"outlinewidth\":0,\"ticks\":\"\"}}],\"histogram2d\":[{\"type\":\"histogram2d\",\"colorbar\":{\"outlinewidth\":0,\"ticks\":\"\"},\"colorscale\":[[0.0,\"#0d0887\"],[0.1111111111111111,\"#46039f\"],[0.2222222222222222,\"#7201a8\"],[0.3333333333333333,\"#9c179e\"],[0.4444444444444444,\"#bd3786\"],[0.5555555555555556,\"#d8576b\"],[0.6666666666666666,\"#ed7953\"],[0.7777777777777778,\"#fb9f3a\"],[0.8888888888888888,\"#fdca26\"],[1.0,\"#f0f921\"]]}],\"heatmap\":[{\"type\":\"heatmap\",\"colorbar\":{\"outlinewidth\":0,\"ticks\":\"\"},\"colorscale\":[[0.0,\"#0d0887\"],[0.1111111111111111,\"#46039f\"],[0.2222222222222222,\"#7201a8\"],[0.3333333333333333,\"#9c179e\"],[0.4444444444444444,\"#bd3786\"],[0.5555555555555556,\"#d8576b\"],[0.6666666666666666,\"#ed7953\"],[0.7777777777777778,\"#fb9f3a\"],[0.8888888888888888,\"#fdca26\"],[1.0,\"#f0f921\"]]}],\"heatmapgl\":[{\"type\":\"heatmapgl\",\"colorbar\":{\"outlinewidth\":0,\"ticks\":\"\"},\"colorscale\":[[0.0,\"#0d0887\"],[0.1111111111111111,\"#46039f\"],[0.2222222222222222,\"#7201a8\"],[0.3333333333333333,\"#9c179e\"],[0.4444444444444444,\"#bd3786\"],[0.5555555555555556,\"#d8576b\"],[0.6666666666666666,\"#ed7953\"],[0.7777777777777778,\"#fb9f3a\"],[0.8888888888888888,\"#fdca26\"],[1.0,\"#f0f921\"]]}],\"contourcarpet\":[{\"type\":\"contourcarpet\",\"colorbar\":{\"outlinewidth\":0,\"ticks\":\"\"}}],\"contour\":[{\"type\":\"contour\",\"colorbar\":{\"outlinewidth\":0,\"ticks\":\"\"},\"colorscale\":[[0.0,\"#0d0887\"],[0.1111111111111111,\"#46039f\"],[0.2222222222222222,\"#7201a8\"],[0.3333333333333333,\"#9c179e\"],[0.4444444444444444,\"#bd3786\"],[0.5555555555555556,\"#d8576b\"],[0.6666666666666666,\"#ed7953\"],[0.7777777777777778,\"#fb9f3a\"],[0.8888888888888888,\"#fdca26\"],[1.0,\"#f0f921\"]]}],\"surface\":[{\"type\":\"surface\",\"colorbar\":{\"outlinewidth\":0,\"ticks\":\"\"},\"colorscale\":[[0.0,\"#0d0887\"],[0.1111111111111111,\"#46039f\"],[0.2222222222222222,\"#7201a8\"],[0.3333333333333333,\"#9c179e\"],[0.4444444444444444,\"#bd3786\"],[0.5555555555555556,\"#d8576b\"],[0.6666666666666666,\"#ed7953\"],[0.7777777777777778,\"#fb9f3a\"],[0.8888888888888888,\"#fdca26\"],[1.0,\"#f0f921\"]]}],\"mesh3d\":[{\"type\":\"mesh3d\",\"colorbar\":{\"outlinewidth\":0,\"ticks\":\"\"}}],\"scatter\":[{\"fillpattern\":{\"fillmode\":\"overlay\",\"size\":10,\"solidity\":0.2},\"type\":\"scatter\"}],\"parcoords\":[{\"type\":\"parcoords\",\"line\":{\"colorbar\":{\"outlinewidth\":0,\"ticks\":\"\"}}}],\"scatterpolargl\":[{\"type\":\"scatterpolargl\",\"marker\":{\"colorbar\":{\"outlinewidth\":0,\"ticks\":\"\"}}}],\"bar\":[{\"error_x\":{\"color\":\"#2a3f5f\"},\"error_y\":{\"color\":\"#2a3f5f\"},\"marker\":{\"line\":{\"color\":\"#E5ECF6\",\"width\":0.5},\"pattern\":{\"fillmode\":\"overlay\",\"size\":10,\"solidity\":0.2}},\"type\":\"bar\"}],\"scattergeo\":[{\"type\":\"scattergeo\",\"marker\":{\"colorbar\":{\"outlinewidth\":0,\"ticks\":\"\"}}}],\"scatterpolar\":[{\"type\":\"scatterpolar\",\"marker\":{\"colorbar\":{\"outlinewidth\":0,\"ticks\":\"\"}}}],\"histogram\":[{\"marker\":{\"pattern\":{\"fillmode\":\"overlay\",\"size\":10,\"solidity\":0.2}},\"type\":\"histogram\"}],\"scattergl\":[{\"type\":\"scattergl\",\"marker\":{\"colorbar\":{\"outlinewidth\":0,\"ticks\":\"\"}}}],\"scatter3d\":[{\"type\":\"scatter3d\",\"line\":{\"colorbar\":{\"outlinewidth\":0,\"ticks\":\"\"}},\"marker\":{\"colorbar\":{\"outlinewidth\":0,\"ticks\":\"\"}}}],\"scattermapbox\":[{\"type\":\"scattermapbox\",\"marker\":{\"colorbar\":{\"outlinewidth\":0,\"ticks\":\"\"}}}],\"scatterternary\":[{\"type\":\"scatterternary\",\"marker\":{\"colorbar\":{\"outlinewidth\":0,\"ticks\":\"\"}}}],\"scattercarpet\":[{\"type\":\"scattercarpet\",\"marker\":{\"colorbar\":{\"outlinewidth\":0,\"ticks\":\"\"}}}],\"carpet\":[{\"aaxis\":{\"endlinecolor\":\"#2a3f5f\",\"gridcolor\":\"white\",\"linecolor\":\"white\",\"minorgridcolor\":\"white\",\"startlinecolor\":\"#2a3f5f\"},\"baxis\":{\"endlinecolor\":\"#2a3f5f\",\"gridcolor\":\"white\",\"linecolor\":\"white\",\"minorgridcolor\":\"white\",\"startlinecolor\":\"#2a3f5f\"},\"type\":\"carpet\"}],\"table\":[{\"cells\":{\"fill\":{\"color\":\"#EBF0F8\"},\"line\":{\"color\":\"white\"}},\"header\":{\"fill\":{\"color\":\"#C8D4E3\"},\"line\":{\"color\":\"white\"}},\"type\":\"table\"}],\"barpolar\":[{\"marker\":{\"line\":{\"color\":\"#E5ECF6\",\"width\":0.5},\"pattern\":{\"fillmode\":\"overlay\",\"size\":10,\"solidity\":0.2}},\"type\":\"barpolar\"}],\"pie\":[{\"automargin\":true,\"type\":\"pie\"}]},\"layout\":{\"autotypenumbers\":\"strict\",\"colorway\":[\"#636efa\",\"#EF553B\",\"#00cc96\",\"#ab63fa\",\"#FFA15A\",\"#19d3f3\",\"#FF6692\",\"#B6E880\",\"#FF97FF\",\"#FECB52\"],\"font\":{\"color\":\"#2a3f5f\"},\"hovermode\":\"closest\",\"hoverlabel\":{\"align\":\"left\"},\"paper_bgcolor\":\"white\",\"plot_bgcolor\":\"#E5ECF6\",\"polar\":{\"bgcolor\":\"#E5ECF6\",\"angularaxis\":{\"gridcolor\":\"white\",\"linecolor\":\"white\",\"ticks\":\"\"},\"radialaxis\":{\"gridcolor\":\"white\",\"linecolor\":\"white\",\"ticks\":\"\"}},\"ternary\":{\"bgcolor\":\"#E5ECF6\",\"aaxis\":{\"gridcolor\":\"white\",\"linecolor\":\"white\",\"ticks\":\"\"},\"baxis\":{\"gridcolor\":\"white\",\"linecolor\":\"white\",\"ticks\":\"\"},\"caxis\":{\"gridcolor\":\"white\",\"linecolor\":\"white\",\"ticks\":\"\"}},\"coloraxis\":{\"colorbar\":{\"outlinewidth\":0,\"ticks\":\"\"}},\"colorscale\":{\"sequential\":[[0.0,\"#0d0887\"],[0.1111111111111111,\"#46039f\"],[0.2222222222222222,\"#7201a8\"],[0.3333333333333333,\"#9c179e\"],[0.4444444444444444,\"#bd3786\"],[0.5555555555555556,\"#d8576b\"],[0.6666666666666666,\"#ed7953\"],[0.7777777777777778,\"#fb9f3a\"],[0.8888888888888888,\"#fdca26\"],[1.0,\"#f0f921\"]],\"sequentialminus\":[[0.0,\"#0d0887\"],[0.1111111111111111,\"#46039f\"],[0.2222222222222222,\"#7201a8\"],[0.3333333333333333,\"#9c179e\"],[0.4444444444444444,\"#bd3786\"],[0.5555555555555556,\"#d8576b\"],[0.6666666666666666,\"#ed7953\"],[0.7777777777777778,\"#fb9f3a\"],[0.8888888888888888,\"#fdca26\"],[1.0,\"#f0f921\"]],\"diverging\":[[0,\"#8e0152\"],[0.1,\"#c51b7d\"],[0.2,\"#de77ae\"],[0.3,\"#f1b6da\"],[0.4,\"#fde0ef\"],[0.5,\"#f7f7f7\"],[0.6,\"#e6f5d0\"],[0.7,\"#b8e186\"],[0.8,\"#7fbc41\"],[0.9,\"#4d9221\"],[1,\"#276419\"]]},\"xaxis\":{\"gridcolor\":\"white\",\"linecolor\":\"white\",\"ticks\":\"\",\"title\":{\"standoff\":15},\"zerolinecolor\":\"white\",\"automargin\":true,\"zerolinewidth\":2},\"yaxis\":{\"gridcolor\":\"white\",\"linecolor\":\"white\",\"ticks\":\"\",\"title\":{\"standoff\":15},\"zerolinecolor\":\"white\",\"automargin\":true,\"zerolinewidth\":2},\"scene\":{\"xaxis\":{\"backgroundcolor\":\"#E5ECF6\",\"gridcolor\":\"white\",\"linecolor\":\"white\",\"showbackground\":true,\"ticks\":\"\",\"zerolinecolor\":\"white\",\"gridwidth\":2},\"yaxis\":{\"backgroundcolor\":\"#E5ECF6\",\"gridcolor\":\"white\",\"linecolor\":\"white\",\"showbackground\":true,\"ticks\":\"\",\"zerolinecolor\":\"white\",\"gridwidth\":2},\"zaxis\":{\"backgroundcolor\":\"#E5ECF6\",\"gridcolor\":\"white\",\"linecolor\":\"white\",\"showbackground\":true,\"ticks\":\"\",\"zerolinecolor\":\"white\",\"gridwidth\":2}},\"shapedefaults\":{\"line\":{\"color\":\"#2a3f5f\"}},\"annotationdefaults\":{\"arrowcolor\":\"#2a3f5f\",\"arrowhead\":0,\"arrowwidth\":1},\"geo\":{\"bgcolor\":\"white\",\"landcolor\":\"#E5ECF6\",\"subunitcolor\":\"white\",\"showland\":true,\"showlakes\":true,\"lakecolor\":\"white\"},\"title\":{\"x\":0.05},\"mapbox\":{\"style\":\"light\"}}},\"xaxis\":{\"anchor\":\"y\",\"domain\":[0.0,1.0],\"title\":{\"text\":\"Lineages\"}},\"yaxis\":{\"anchor\":\"x\",\"domain\":[0.0,1.0],\"title\":{\"text\":\"Percent of expected abundance\"},\"range\":[0,460]},\"legend\":{\"title\":{\"text\":\"Scheme\"},\"tracegroupgap\":0},\"title\":{\"text\":\"Lineage abundance estimates as a percent of expected abundance - PWRB mixtures\"},\"boxmode\":\"group\"},                        {\"responsive\": true}                    ).then(function(){\n",
       "                            \n",
       "var gd = document.getElementById('b32d0087-ccf5-4a9e-a3da-d9a230e5b7ce');\n",
       "var x = new MutationObserver(function (mutations, observer) {{\n",
       "        var display = window.getComputedStyle(gd).display;\n",
       "        if (!display || display === 'none') {{\n",
       "            console.log([gd, 'removed!']);\n",
       "            Plotly.purge(gd);\n",
       "            observer.disconnect();\n",
       "        }}\n",
       "}});\n",
       "\n",
       "// Listen for the removal of the full notebook cells\n",
       "var notebookContainer = gd.closest('#notebook-container');\n",
       "if (notebookContainer) {{\n",
       "    x.observe(notebookContainer, {childList: true});\n",
       "}}\n",
       "\n",
       "// Listen for the clearing of the current output cell\n",
       "var outputEl = gd.closest('.output');\n",
       "if (outputEl) {{\n",
       "    x.observe(outputEl, {childList: true});\n",
       "}}\n",
       "\n",
       "                        })                };                });            </script>        </div>"
      ]
     },
     "metadata": {},
     "output_type": "display_data"
    }
   ],
   "source": [
    "# write out and display figs (Figure 4a-c in paper)\n",
    "for mix_type in (\"WB\",\"NWRB\",\"PWRB\"):\n",
    "    fn=outdir/f\"{mix_type}-percent-expected-box-summary.png\"\n",
    "    fig = figs[mix_type]\n",
    "    pio.write_image(fig, fn, width=1200, height=700, scale=2)\n",
    "    fig.show()"
   ]
  }
 ],
 "metadata": {
  "kernelspec": {
   "display_name": "Python 3",
   "language": "python",
   "name": "python3"
  },
  "language_info": {
   "codemirror_mode": {
    "name": "ipython",
    "version": 3
   },
   "file_extension": ".py",
   "mimetype": "text/x-python",
   "name": "python",
   "nbconvert_exporter": "python",
   "pygments_lexer": "ipython3",
   "version": "3.10.14"
  }
 },
 "nbformat": 4,
 "nbformat_minor": 2
}
