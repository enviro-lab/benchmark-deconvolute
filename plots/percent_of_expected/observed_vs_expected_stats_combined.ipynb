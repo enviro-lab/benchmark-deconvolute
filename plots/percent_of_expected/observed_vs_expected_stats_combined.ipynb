{
 "cells": [
  {
   "cell_type": "code",
   "execution_count": 53,
   "metadata": {},
   "outputs": [],
   "source": [
    "from pathlib import Path # type: ignore\n",
    "from freyja_plot import FreyjaPlotter\n",
    "import pandas as pd\n",
    "import sys\n",
    "import scipy.stats as stats\n",
    "from collections import defaultdict\n",
    "import plotly.io as pio\n",
    "if (module_path:=str(Path(\".\").absolute().resolve().parent)) not in sys.path:\n",
    "    sys.path.insert(0, module_path)\n",
    "from sample_info import get_stats, summary_dict, expected, artic_runs as runs, renameSamples, plotting_dir, p_value_table"
   ]
  },
  {
   "cell_type": "code",
   "execution_count": 54,
   "metadata": {},
   "outputs": [],
   "source": [
    "outdir = plotting_dir / \"percent_of_expected/observed_vs_expected_combined\"\n",
    "outdir.mkdir(exist_ok=True)"
   ]
  },
  {
   "cell_type": "markdown",
   "metadata": {},
   "source": [
    "## ANOVA comparing percent of expected across tools (all backgrounds combined)"
   ]
  },
  {
   "cell_type": "code",
   "execution_count": 55,
   "metadata": {},
   "outputs": [
    {
     "data": {
      "text/html": [
       "<div>\n",
       "<style scoped>\n",
       "    .dataframe tbody tr th:only-of-type {\n",
       "        vertical-align: middle;\n",
       "    }\n",
       "\n",
       "    .dataframe tbody tr th {\n",
       "        vertical-align: top;\n",
       "    }\n",
       "\n",
       "    .dataframe thead th {\n",
       "        text-align: right;\n",
       "    }\n",
       "</style>\n",
       "<table border=\"1\" class=\"dataframe\">\n",
       "  <thead>\n",
       "    <tr style=\"text-align: right;\">\n",
       "      <th></th>\n",
       "      <th>Sample name</th>\n",
       "      <th>lineages</th>\n",
       "      <th>abundances</th>\n",
       "      <th>scheme</th>\n",
       "      <th>tool</th>\n",
       "      <th>Background</th>\n",
       "      <th>expected_abundance</th>\n",
       "      <th>percent_of_expected</th>\n",
       "    </tr>\n",
       "  </thead>\n",
       "  <tbody>\n",
       "    <tr>\n",
       "      <th>375</th>\n",
       "      <td>0adgio1</td>\n",
       "      <td>Alpha</td>\n",
       "      <td>0.1840</td>\n",
       "      <td>Alcov: NWRB</td>\n",
       "      <td>Alcov</td>\n",
       "      <td>NWRB</td>\n",
       "      <td>0.250000</td>\n",
       "      <td>73.6</td>\n",
       "    </tr>\n",
       "    <tr>\n",
       "      <th>581</th>\n",
       "      <td>0adgio1-2</td>\n",
       "      <td>Alpha</td>\n",
       "      <td>0.1320</td>\n",
       "      <td>Alcov: NWRB</td>\n",
       "      <td>Alcov</td>\n",
       "      <td>NWRB</td>\n",
       "      <td>0.142857</td>\n",
       "      <td>92.4</td>\n",
       "    </tr>\n",
       "    <tr>\n",
       "      <th>364</th>\n",
       "      <td>0adgio1o2o3o4o5</td>\n",
       "      <td>Alpha</td>\n",
       "      <td>0.0500</td>\n",
       "      <td>Alcov: NWRB</td>\n",
       "      <td>Alcov</td>\n",
       "      <td>NWRB</td>\n",
       "      <td>0.066667</td>\n",
       "      <td>75.0</td>\n",
       "    </tr>\n",
       "    <tr>\n",
       "      <th>399</th>\n",
       "      <td>0agio1o2</td>\n",
       "      <td>Alpha</td>\n",
       "      <td>0.0430</td>\n",
       "      <td>Alcov: NWRB</td>\n",
       "      <td>Alcov</td>\n",
       "      <td>NWRB</td>\n",
       "      <td>0.062500</td>\n",
       "      <td>68.8</td>\n",
       "    </tr>\n",
       "    <tr>\n",
       "      <th>596</th>\n",
       "      <td>0aio1o2o3o4o5</td>\n",
       "      <td>Alpha</td>\n",
       "      <td>0.0880</td>\n",
       "      <td>Alcov: NWRB</td>\n",
       "      <td>Alcov</td>\n",
       "      <td>NWRB</td>\n",
       "      <td>0.125000</td>\n",
       "      <td>70.4</td>\n",
       "    </tr>\n",
       "    <tr>\n",
       "      <th>...</th>\n",
       "      <td>...</td>\n",
       "      <td>...</td>\n",
       "      <td>...</td>\n",
       "      <td>...</td>\n",
       "      <td>...</td>\n",
       "      <td>...</td>\n",
       "      <td>...</td>\n",
       "      <td>...</td>\n",
       "    </tr>\n",
       "    <tr>\n",
       "      <th>1397</th>\n",
       "      <td>0adgio1</td>\n",
       "      <td>Wuhan-hu-1</td>\n",
       "      <td>0.1002</td>\n",
       "      <td>kallisto: WB</td>\n",
       "      <td>kallisto</td>\n",
       "      <td>WB</td>\n",
       "      <td>0.250000</td>\n",
       "      <td>40.08</td>\n",
       "    </tr>\n",
       "    <tr>\n",
       "      <th>2008</th>\n",
       "      <td>0adgio1-2</td>\n",
       "      <td>Wuhan-hu-1</td>\n",
       "      <td>0.1206</td>\n",
       "      <td>kallisto: WB</td>\n",
       "      <td>kallisto</td>\n",
       "      <td>WB</td>\n",
       "      <td>0.285714</td>\n",
       "      <td>42.21</td>\n",
       "    </tr>\n",
       "    <tr>\n",
       "      <th>1382</th>\n",
       "      <td>0adgio1o2o3o4o5</td>\n",
       "      <td>Wuhan-hu-1</td>\n",
       "      <td>0.0140</td>\n",
       "      <td>kallisto: WB</td>\n",
       "      <td>kallisto</td>\n",
       "      <td>WB</td>\n",
       "      <td>0.133333</td>\n",
       "      <td>10.5</td>\n",
       "    </tr>\n",
       "    <tr>\n",
       "      <th>1447</th>\n",
       "      <td>0agio1o2</td>\n",
       "      <td>Wuhan-hu-1</td>\n",
       "      <td>0.0165</td>\n",
       "      <td>kallisto: WB</td>\n",
       "      <td>kallisto</td>\n",
       "      <td>WB</td>\n",
       "      <td>0.125000</td>\n",
       "      <td>13.2</td>\n",
       "    </tr>\n",
       "    <tr>\n",
       "      <th>1465</th>\n",
       "      <td>0o5o3o4</td>\n",
       "      <td>Wuhan-hu-1</td>\n",
       "      <td>0.0760</td>\n",
       "      <td>kallisto: WB</td>\n",
       "      <td>kallisto</td>\n",
       "      <td>WB</td>\n",
       "      <td>0.375000</td>\n",
       "      <td>20.266667</td>\n",
       "    </tr>\n",
       "  </tbody>\n",
       "</table>\n",
       "<p>1903 rows × 8 columns</p>\n",
       "</div>"
      ],
      "text/plain": [
       "          Sample name    lineages  abundances        scheme      tool  \\\n",
       "375           0adgio1       Alpha      0.1840   Alcov: NWRB     Alcov   \n",
       "581         0adgio1-2       Alpha      0.1320   Alcov: NWRB     Alcov   \n",
       "364   0adgio1o2o3o4o5       Alpha      0.0500   Alcov: NWRB     Alcov   \n",
       "399          0agio1o2       Alpha      0.0430   Alcov: NWRB     Alcov   \n",
       "596     0aio1o2o3o4o5       Alpha      0.0880   Alcov: NWRB     Alcov   \n",
       "...               ...         ...         ...           ...       ...   \n",
       "1397          0adgio1  Wuhan-hu-1      0.1002  kallisto: WB  kallisto   \n",
       "2008        0adgio1-2  Wuhan-hu-1      0.1206  kallisto: WB  kallisto   \n",
       "1382  0adgio1o2o3o4o5  Wuhan-hu-1      0.0140  kallisto: WB  kallisto   \n",
       "1447         0agio1o2  Wuhan-hu-1      0.0165  kallisto: WB  kallisto   \n",
       "1465          0o5o3o4  Wuhan-hu-1      0.0760  kallisto: WB  kallisto   \n",
       "\n",
       "     Background  expected_abundance percent_of_expected  \n",
       "375        NWRB            0.250000                73.6  \n",
       "581        NWRB            0.142857                92.4  \n",
       "364        NWRB            0.066667                75.0  \n",
       "399        NWRB            0.062500                68.8  \n",
       "596        NWRB            0.125000                70.4  \n",
       "...         ...                 ...                 ...  \n",
       "1397         WB            0.250000               40.08  \n",
       "2008         WB            0.285714               42.21  \n",
       "1382         WB            0.133333                10.5  \n",
       "1447         WB            0.125000                13.2  \n",
       "1465         WB            0.375000           20.266667  \n",
       "\n",
       "[1903 rows x 8 columns]"
      ]
     },
     "execution_count": 55,
     "metadata": {},
     "output_type": "execute_result"
    }
   ],
   "source": [
    "file_map = {expected:\"Expected\"}\n",
    "for tool, files in runs.items():\n",
    "    for name,file in files.items():\n",
    "        # file_map[file] = tool\n",
    "        file_map[file] = f\"{tool}: {name}\"\n",
    "plotter = FreyjaPlotter(\n",
    "    file_map=file_map,\n",
    "    # colormap=colormap,\n",
    "    summary_dict=summary_dict,\n",
    ")\n",
    "plotter = renameSamples(plotter)\n",
    "plotter.summarized_freyja_df[[\"tool\",\"Background\"]] = plotter.summarized_freyja_df.apply(lambda row: row[\"scheme\"].split(\": \") if \": \" in row[\"scheme\"] else (row[\"scheme\"],row[\"scheme\"]), axis=1, result_type=\"expand\")\n",
    "df = plotter.plotPercentExpectedBox(summarized=True,return_df=True)\n",
    "df"
   ]
  },
  {
   "cell_type": "code",
   "execution_count": 56,
   "metadata": {},
   "outputs": [
    {
     "name": "stdout",
     "output_type": "stream",
     "text": [
      "ANOVA for None samples comparing percent of expected across batches\n",
      "p-value: 9.557988709222302e-27\tf-value: 7.611186352020541\n",
      "The percent of expected was significantly different across Alcov: NWRB (mean=84.79118773946358, std. dev.=32.54083849198575), Alcov: PWRB (mean=88.41556862745102, std. dev.=40.42879399265568), Alcov: WB (mean=86.56931034482756, std. dev.=30.07212149136993), Freyja: NWRB (mean=85.34653305181159, std. dev.=39.90623760283772), Freyja: PWRB (mean=88.2516050710145, std. dev.=48.77037578727342), Freyja: WB (mean=86.3622304340426, std. dev.=37.23119280846171), kallisto (C-WAP): NWRB (mean=92.51099206349207, std. dev.=47.014832481900235), kallisto (C-WAP): PWRB (mean=96.42400793650793, std. dev.=56.73532511470629), kallisto (C-WAP): WB (mean=92.01730158730162, std. dev.=48.26184011312391), kallisto: NWRB (mean=58.913429078014175, std. dev.=29.503945641956797), kallisto: PWRB (mean=64.06914736842101, std. dev.=31.07885803596488), kallisto: WB (mean=59.96308333333334, std. dev.=26.850927649171688), LCS: NWRB (mean=78.60838759689926, std. dev.=48.925142077319606), LCS: PWRB (mean=78.60838759689926, std. dev.=48.925142077319606), LCS: WB (mean=78.21779215686274, std. dev.=36.9248852257005), lineagespot: NWRB (mean=12.296000000000001, std. dev.=6.178274840115159), lineagespot: PWRB (mean=30.375999999999998, std. dev.=13.895959124867918), lineagespot: WB (mean=56.882857142857134, std. dev.=61.489998567324136), LolliPop: NWRB (mean=93.04712820512822, std. dev.=47.1220021908148), LolliPop: PWRB (mean=92.39816410256408, std. dev.=54.67324134485904), LolliPop: WB (mean=96.6667076923077, std. dev.=44.75210184850989), VaQuERo: NWRB (mean=90.40342592592594, std. dev.=28.189979034845805), VaQuERo: PWRB (mean=91.93936625514407, std. dev.=38.28895664413076), VaQuERo: WB (mean=87.65988477366258, std. dev.=29.368641783379186), Kraken 2 (C-WAP): NWRB (mean=125.74407936507937, std. dev.=114.30020818095805), Kraken 2 (C-WAP): PWRB (mean=122.99696825396826, std. dev.=110.06272453656092), and Kraken 2 (C-WAP): WB (mean=127.79676190476188, std. dev.=114.53345473528887), as determined by one-way ANOVA (F=7.611186352020541, p=9.557988709222302e-27<0.01).\n",
      "No significant difference in percent of expected (p-value=1.0>0.01) was found between Alcov: NWRB and Alcov: PWRB.\n",
      "\n",
      "Tukey's HSD results:\n"
     ]
    },
    {
     "data": {
      "application/vnd.plotly.v1+json": {
       "config": {
        "plotlyServerURL": "https://plot.ly"
       },
       "data": [
        {
         "cells": {
          "align": "center",
          "fill": {
           "color": [
            [
             "white",
             "white",
             "white",
             "white",
             "white",
             "white",
             "white",
             "white",
             "white",
             "white",
             "white",
             "white",
             "white",
             "white",
             "white",
             "white",
             "white",
             "white",
             "white",
             "white",
             "white",
             "white",
             "white",
             "white",
             "white",
             "white",
             "white"
            ],
            [
             "black",
             "lightgrey",
             "lightgrey",
             "lightgrey",
             "lightgrey",
             "lightgrey",
             "lightgrey",
             "lightgrey",
             "lightgrey",
             "lightgrey",
             "lightgrey",
             "lightgrey",
             "lightgrey",
             "lightgrey",
             "lightgrey",
             "lightgrey",
             "lightgrey",
             "lightgrey",
             "lightgrey",
             "lightgrey",
             "lightgrey",
             "lightgrey",
             "lightgrey",
             "lightgrey",
             "white",
             "white",
             "white"
            ],
            [
             "lightgrey",
             "black",
             "lightgrey",
             "lightgrey",
             "lightgrey",
             "lightgrey",
             "lightgrey",
             "lightgrey",
             "lightgrey",
             "lightgrey",
             "lightgrey",
             "lightgrey",
             "lightgrey",
             "lightgrey",
             "lightgrey",
             "lightgrey",
             "lightgrey",
             "lightgrey",
             "lightgrey",
             "lightgrey",
             "lightgrey",
             "lightgrey",
             "lightgrey",
             "lightgrey",
             "lightgrey",
             "lightgrey",
             "white"
            ],
            [
             "lightgrey",
             "lightgrey",
             "black",
             "lightgrey",
             "lightgrey",
             "lightgrey",
             "lightgrey",
             "lightgrey",
             "lightgrey",
             "lightgrey",
             "lightgrey",
             "lightgrey",
             "lightgrey",
             "lightgrey",
             "lightgrey",
             "lightgrey",
             "lightgrey",
             "lightgrey",
             "lightgrey",
             "lightgrey",
             "lightgrey",
             "lightgrey",
             "lightgrey",
             "lightgrey",
             "white",
             "lightgrey",
             "white"
            ],
            [
             "lightgrey",
             "lightgrey",
             "lightgrey",
             "black",
             "lightgrey",
             "lightgrey",
             "lightgrey",
             "lightgrey",
             "lightgrey",
             "lightgrey",
             "lightgrey",
             "lightgrey",
             "lightgrey",
             "lightgrey",
             "lightgrey",
             "lightgrey",
             "lightgrey",
             "lightgrey",
             "lightgrey",
             "lightgrey",
             "lightgrey",
             "lightgrey",
             "lightgrey",
             "lightgrey",
             "white",
             "lightgrey",
             "white"
            ],
            [
             "lightgrey",
             "lightgrey",
             "lightgrey",
             "lightgrey",
             "black",
             "lightgrey",
             "lightgrey",
             "lightgrey",
             "lightgrey",
             "lightgrey",
             "lightgrey",
             "lightgrey",
             "lightgrey",
             "lightgrey",
             "lightgrey",
             "lightgrey",
             "lightgrey",
             "lightgrey",
             "lightgrey",
             "lightgrey",
             "lightgrey",
             "lightgrey",
             "lightgrey",
             "lightgrey",
             "lightgrey",
             "lightgrey",
             "white"
            ],
            [
             "lightgrey",
             "lightgrey",
             "lightgrey",
             "lightgrey",
             "lightgrey",
             "black",
             "lightgrey",
             "lightgrey",
             "lightgrey",
             "lightgrey",
             "lightgrey",
             "lightgrey",
             "lightgrey",
             "lightgrey",
             "lightgrey",
             "lightgrey",
             "lightgrey",
             "lightgrey",
             "lightgrey",
             "lightgrey",
             "lightgrey",
             "lightgrey",
             "lightgrey",
             "lightgrey",
             "white",
             "lightgrey",
             "white"
            ],
            [
             "lightgrey",
             "lightgrey",
             "lightgrey",
             "lightgrey",
             "lightgrey",
             "lightgrey",
             "black",
             "lightgrey",
             "lightgrey",
             "white",
             "lightgrey",
             "white",
             "lightgrey",
             "lightgrey",
             "lightgrey",
             "lightgrey",
             "lightgrey",
             "lightgrey",
             "lightgrey",
             "lightgrey",
             "lightgrey",
             "lightgrey",
             "lightgrey",
             "lightgrey",
             "lightgrey",
             "lightgrey",
             "lightgrey"
            ],
            [
             "lightgrey",
             "lightgrey",
             "lightgrey",
             "lightgrey",
             "lightgrey",
             "lightgrey",
             "lightgrey",
             "black",
             "lightgrey",
             "white",
             "white",
             "white",
             "lightgrey",
             "lightgrey",
             "lightgrey",
             "lightgrey",
             "lightgrey",
             "lightgrey",
             "lightgrey",
             "lightgrey",
             "lightgrey",
             "lightgrey",
             "lightgrey",
             "lightgrey",
             "lightgrey",
             "lightgrey",
             "lightgrey"
            ],
            [
             "lightgrey",
             "lightgrey",
             "lightgrey",
             "lightgrey",
             "lightgrey",
             "lightgrey",
             "lightgrey",
             "lightgrey",
             "black",
             "white",
             "lightgrey",
             "white",
             "lightgrey",
             "lightgrey",
             "lightgrey",
             "lightgrey",
             "lightgrey",
             "lightgrey",
             "lightgrey",
             "lightgrey",
             "lightgrey",
             "lightgrey",
             "lightgrey",
             "lightgrey",
             "lightgrey",
             "lightgrey",
             "lightgrey"
            ],
            [
             "lightgrey",
             "lightgrey",
             "lightgrey",
             "lightgrey",
             "lightgrey",
             "lightgrey",
             "white",
             "white",
             "white",
             "black",
             "lightgrey",
             "lightgrey",
             "lightgrey",
             "lightgrey",
             "lightgrey",
             "lightgrey",
             "lightgrey",
             "lightgrey",
             "white",
             "white",
             "white",
             "lightgrey",
             "white",
             "lightgrey",
             "white",
             "white",
             "white"
            ],
            [
             "lightgrey",
             "lightgrey",
             "lightgrey",
             "lightgrey",
             "lightgrey",
             "lightgrey",
             "lightgrey",
             "white",
             "lightgrey",
             "lightgrey",
             "black",
             "lightgrey",
             "lightgrey",
             "lightgrey",
             "lightgrey",
             "lightgrey",
             "lightgrey",
             "lightgrey",
             "lightgrey",
             "lightgrey",
             "white",
             "lightgrey",
             "lightgrey",
             "lightgrey",
             "white",
             "white",
             "white"
            ],
            [
             "lightgrey",
             "lightgrey",
             "lightgrey",
             "lightgrey",
             "lightgrey",
             "lightgrey",
             "white",
             "white",
             "white",
             "lightgrey",
             "lightgrey",
             "black",
             "lightgrey",
             "lightgrey",
             "lightgrey",
             "lightgrey",
             "lightgrey",
             "lightgrey",
             "white",
             "lightgrey",
             "white",
             "lightgrey",
             "white",
             "lightgrey",
             "white",
             "white",
             "white"
            ],
            [
             "lightgrey",
             "lightgrey",
             "lightgrey",
             "lightgrey",
             "lightgrey",
             "lightgrey",
             "lightgrey",
             "lightgrey",
             "lightgrey",
             "lightgrey",
             "lightgrey",
             "lightgrey",
             "black",
             "lightgrey",
             "lightgrey",
             "lightgrey",
             "lightgrey",
             "lightgrey",
             "lightgrey",
             "lightgrey",
             "lightgrey",
             "lightgrey",
             "lightgrey",
             "lightgrey",
             "white",
             "white",
             "white"
            ],
            [
             "lightgrey",
             "lightgrey",
             "lightgrey",
             "lightgrey",
             "lightgrey",
             "lightgrey",
             "lightgrey",
             "lightgrey",
             "lightgrey",
             "lightgrey",
             "lightgrey",
             "lightgrey",
             "lightgrey",
             "black",
             "lightgrey",
             "lightgrey",
             "lightgrey",
             "lightgrey",
             "lightgrey",
             "lightgrey",
             "lightgrey",
             "lightgrey",
             "lightgrey",
             "lightgrey",
             "white",
             "white",
             "white"
            ],
            [
             "lightgrey",
             "lightgrey",
             "lightgrey",
             "lightgrey",
             "lightgrey",
             "lightgrey",
             "lightgrey",
             "lightgrey",
             "lightgrey",
             "lightgrey",
             "lightgrey",
             "lightgrey",
             "lightgrey",
             "lightgrey",
             "black",
             "lightgrey",
             "lightgrey",
             "lightgrey",
             "lightgrey",
             "lightgrey",
             "lightgrey",
             "lightgrey",
             "lightgrey",
             "lightgrey",
             "white",
             "white",
             "white"
            ],
            [
             "lightgrey",
             "lightgrey",
             "lightgrey",
             "lightgrey",
             "lightgrey",
             "lightgrey",
             "lightgrey",
             "lightgrey",
             "lightgrey",
             "lightgrey",
             "lightgrey",
             "lightgrey",
             "lightgrey",
             "lightgrey",
             "lightgrey",
             "black",
             "lightgrey",
             "lightgrey",
             "lightgrey",
             "lightgrey",
             "lightgrey",
             "lightgrey",
             "lightgrey",
             "lightgrey",
             "white",
             "white",
             "white"
            ],
            [
             "lightgrey",
             "lightgrey",
             "lightgrey",
             "lightgrey",
             "lightgrey",
             "lightgrey",
             "lightgrey",
             "lightgrey",
             "lightgrey",
             "lightgrey",
             "lightgrey",
             "lightgrey",
             "lightgrey",
             "lightgrey",
             "lightgrey",
             "lightgrey",
             "black",
             "lightgrey",
             "lightgrey",
             "lightgrey",
             "lightgrey",
             "lightgrey",
             "lightgrey",
             "lightgrey",
             "lightgrey",
             "lightgrey",
             "white"
            ],
            [
             "lightgrey",
             "lightgrey",
             "lightgrey",
             "lightgrey",
             "lightgrey",
             "lightgrey",
             "lightgrey",
             "lightgrey",
             "lightgrey",
             "lightgrey",
             "lightgrey",
             "lightgrey",
             "lightgrey",
             "lightgrey",
             "lightgrey",
             "lightgrey",
             "lightgrey",
             "black",
             "lightgrey",
             "lightgrey",
             "lightgrey",
             "lightgrey",
             "lightgrey",
             "lightgrey",
             "lightgrey",
             "lightgrey",
             "lightgrey"
            ],
            [
             "lightgrey",
             "lightgrey",
             "lightgrey",
             "lightgrey",
             "lightgrey",
             "lightgrey",
             "lightgrey",
             "lightgrey",
             "lightgrey",
             "white",
             "lightgrey",
             "white",
             "lightgrey",
             "lightgrey",
             "lightgrey",
             "lightgrey",
             "lightgrey",
             "lightgrey",
             "black",
             "lightgrey",
             "lightgrey",
             "lightgrey",
             "lightgrey",
             "lightgrey",
             "lightgrey",
             "lightgrey",
             "lightgrey"
            ],
            [
             "lightgrey",
             "lightgrey",
             "lightgrey",
             "lightgrey",
             "lightgrey",
             "lightgrey",
             "lightgrey",
             "lightgrey",
             "lightgrey",
             "white",
             "lightgrey",
             "lightgrey",
             "lightgrey",
             "lightgrey",
             "lightgrey",
             "lightgrey",
             "lightgrey",
             "lightgrey",
             "lightgrey",
             "black",
             "lightgrey",
             "lightgrey",
             "lightgrey",
             "lightgrey",
             "lightgrey",
             "lightgrey",
             "lightgrey"
            ],
            [
             "lightgrey",
             "lightgrey",
             "lightgrey",
             "lightgrey",
             "lightgrey",
             "lightgrey",
             "lightgrey",
             "lightgrey",
             "lightgrey",
             "white",
             "white",
             "white",
             "lightgrey",
             "lightgrey",
             "lightgrey",
             "lightgrey",
             "lightgrey",
             "lightgrey",
             "lightgrey",
             "lightgrey",
             "black",
             "lightgrey",
             "lightgrey",
             "lightgrey",
             "lightgrey",
             "lightgrey",
             "lightgrey"
            ],
            [
             "lightgrey",
             "lightgrey",
             "lightgrey",
             "lightgrey",
             "lightgrey",
             "lightgrey",
             "lightgrey",
             "lightgrey",
             "lightgrey",
             "lightgrey",
             "lightgrey",
             "lightgrey",
             "lightgrey",
             "lightgrey",
             "lightgrey",
             "lightgrey",
             "lightgrey",
             "lightgrey",
             "lightgrey",
             "lightgrey",
             "lightgrey",
             "black",
             "lightgrey",
             "lightgrey",
             "lightgrey",
             "lightgrey",
             "lightgrey"
            ],
            [
             "lightgrey",
             "lightgrey",
             "lightgrey",
             "lightgrey",
             "lightgrey",
             "lightgrey",
             "lightgrey",
             "lightgrey",
             "lightgrey",
             "white",
             "lightgrey",
             "white",
             "lightgrey",
             "lightgrey",
             "lightgrey",
             "lightgrey",
             "lightgrey",
             "lightgrey",
             "lightgrey",
             "lightgrey",
             "lightgrey",
             "lightgrey",
             "black",
             "lightgrey",
             "lightgrey",
             "lightgrey",
             "lightgrey"
            ],
            [
             "lightgrey",
             "lightgrey",
             "lightgrey",
             "lightgrey",
             "lightgrey",
             "lightgrey",
             "lightgrey",
             "lightgrey",
             "lightgrey",
             "lightgrey",
             "lightgrey",
             "lightgrey",
             "lightgrey",
             "lightgrey",
             "lightgrey",
             "lightgrey",
             "lightgrey",
             "lightgrey",
             "lightgrey",
             "lightgrey",
             "lightgrey",
             "lightgrey",
             "lightgrey",
             "black",
             "lightgrey",
             "lightgrey",
             "white"
            ],
            [
             "white",
             "lightgrey",
             "white",
             "white",
             "lightgrey",
             "white",
             "lightgrey",
             "lightgrey",
             "lightgrey",
             "white",
             "white",
             "white",
             "white",
             "white",
             "white",
             "white",
             "lightgrey",
             "lightgrey",
             "lightgrey",
             "lightgrey",
             "lightgrey",
             "lightgrey",
             "lightgrey",
             "lightgrey",
             "black",
             "lightgrey",
             "lightgrey"
            ],
            [
             "white",
             "lightgrey",
             "lightgrey",
             "lightgrey",
             "lightgrey",
             "lightgrey",
             "lightgrey",
             "lightgrey",
             "lightgrey",
             "white",
             "white",
             "white",
             "white",
             "white",
             "white",
             "white",
             "lightgrey",
             "lightgrey",
             "lightgrey",
             "lightgrey",
             "lightgrey",
             "lightgrey",
             "lightgrey",
             "lightgrey",
             "lightgrey",
             "black",
             "lightgrey"
            ],
            [
             "white",
             "white",
             "white",
             "white",
             "white",
             "white",
             "lightgrey",
             "lightgrey",
             "lightgrey",
             "white",
             "white",
             "white",
             "white",
             "white",
             "white",
             "white",
             "white",
             "lightgrey",
             "lightgrey",
             "lightgrey",
             "lightgrey",
             "lightgrey",
             "lightgrey",
             "white",
             "lightgrey",
             "lightgrey",
             "black"
            ]
           ]
          },
          "font": {
           "color": "black",
           "size": 14
          },
          "height": 30,
          "line": {
           "color": "black"
          },
          "values": [
           [
            "Alcov: NWRB",
            "Alcov: PWRB",
            "Alcov: WB",
            "Freyja: NWRB",
            "Freyja: PWRB",
            "Freyja: WB",
            "kallisto (C-WAP): NWRB",
            "kallisto (C-WAP): PWRB",
            "kallisto (C-WAP): WB",
            "kallisto: NWRB",
            "kallisto: PWRB",
            "kallisto: WB",
            "LCS: NWRB",
            "LCS: PWRB",
            "LCS: WB",
            "lineagespot: NWRB",
            "lineagespot: PWRB",
            "lineagespot: WB",
            "LolliPop: NWRB",
            "LolliPop: PWRB",
            "LolliPop: WB",
            "VaQuERo: NWRB",
            "VaQuERo: PWRB",
            "VaQuERo: WB",
            "Kraken 2 (C-WAP): NWRB",
            "Kraken 2 (C-WAP): PWRB",
            "Kraken 2 (C-WAP): WB"
           ],
           [
            null,
            1,
            1,
            1,
            1,
            1,
            1,
            0.999,
            1,
            0.081,
            0.453,
            0.119,
            1,
            1,
            1,
            0.207,
            0.791,
            1,
            1,
            1,
            1,
            1,
            1,
            1,
            0.003,
            0.01,
            0.001
           ],
           [
            1,
            null,
            1,
            1,
            1,
            1,
            1,
            1,
            1,
            0.016,
            0.155,
            0.025,
            1,
            1,
            1,
            0.136,
            0.676,
            0.998,
            1,
            1,
            1,
            1,
            1,
            1,
            0.015,
            0.043,
            0.006
           ],
           [
            1,
            1,
            null,
            1,
            1,
            1,
            1,
            1,
            1,
            0.036,
            0.277,
            0.056,
            1,
            1,
            1,
            0.169,
            0.737,
            0.999,
            1,
            1,
            1,
            1,
            1,
            1,
            0.006,
            0.02,
            0.002
           ],
           [
            1,
            1,
            1,
            null,
            1,
            1,
            1,
            0.999,
            1,
            0.054,
            0.362,
            0.081,
            1,
            1,
            1,
            0.192,
            0.772,
            1,
            1,
            1,
            1,
            1,
            1,
            1,
            0.003,
            0.011,
            0.001
           ],
           [
            1,
            1,
            1,
            1,
            null,
            1,
            1,
            1,
            1,
            0.012,
            0.137,
            0.02,
            1,
            1,
            1,
            0.136,
            0.677,
            0.998,
            1,
            1,
            1,
            1,
            1,
            1,
            0.011,
            0.035,
            0.004
           ],
           [
            1,
            1,
            1,
            1,
            1,
            null,
            1,
            1,
            1,
            0.031,
            0.257,
            0.048,
            1,
            1,
            1,
            0.17,
            0.74,
            0.999,
            1,
            1,
            1,
            1,
            1,
            1,
            0.005,
            0.015,
            0.002
           ],
           [
            1,
            1,
            1,
            1,
            1,
            1,
            null,
            1,
            1,
            0.002,
            0.027,
            0.003,
            0.987,
            0.987,
            0.982,
            0.08,
            0.53,
            0.987,
            1,
            1,
            1,
            1,
            1,
            1,
            0.072,
            0.171,
            0.034
           ],
           [
            0.999,
            1,
            1,
            0.999,
            1,
            1,
            1,
            null,
            1,
            0,
            0.003,
            0,
            0.819,
            0.819,
            0.791,
            0.045,
            0.392,
            0.955,
            1,
            1,
            1,
            1,
            1,
            1,
            0.234,
            0.437,
            0.131
           ],
           [
            1,
            1,
            1,
            1,
            1,
            1,
            1,
            1,
            null,
            0.002,
            0.035,
            0.004,
            0.992,
            0.992,
            0.989,
            0.085,
            0.548,
            0.989,
            1,
            1,
            1,
            1,
            1,
            1,
            0.061,
            0.148,
            0.028
           ],
           [
            0.081,
            0.016,
            0.036,
            0.054,
            0.012,
            0.031,
            0.002,
            0,
            0.002,
            null,
            1,
            1,
            0.58,
            0.58,
            0.63,
            0.949,
            1,
            1,
            0.005,
            0.007,
            0.001,
            0.011,
            0.003,
            0.028,
            0,
            0,
            0
           ],
           [
            0.453,
            0.155,
            0.277,
            0.362,
            0.137,
            0.257,
            0.027,
            0.003,
            0.035,
            1,
            null,
            1,
            0.967,
            0.967,
            0.977,
            0.858,
            0.999,
            1,
            0.055,
            0.071,
            0.01,
            0.113,
            0.041,
            0.225,
            0,
            0,
            0
           ],
           [
            0.119,
            0.025,
            0.056,
            0.081,
            0.02,
            0.048,
            0.003,
            0,
            0.004,
            1,
            1,
            null,
            0.685,
            0.685,
            0.731,
            0.935,
            1,
            1,
            0.008,
            0.011,
            0.001,
            0.018,
            0.005,
            0.043,
            0,
            0,
            0
           ],
           [
            1,
            1,
            1,
            1,
            1,
            1,
            0.987,
            0.819,
            0.992,
            0.58,
            0.967,
            0.685,
            null,
            1,
            1,
            0.382,
            0.929,
            1,
            0.992,
            0.996,
            0.888,
            0.999,
            0.994,
            1,
            0,
            0.001,
            0
           ],
           [
            1,
            1,
            1,
            1,
            1,
            1,
            0.987,
            0.819,
            0.992,
            0.58,
            0.967,
            0.685,
            1,
            null,
            1,
            0.382,
            0.929,
            1,
            0.992,
            0.996,
            0.888,
            0.999,
            0.994,
            1,
            0,
            0.001,
            0
           ],
           [
            1,
            1,
            1,
            1,
            1,
            1,
            0.982,
            0.791,
            0.989,
            0.63,
            0.977,
            0.731,
            1,
            1,
            null,
            0.396,
            0.935,
            1,
            0.988,
            0.994,
            0.867,
            0.999,
            0.991,
            1,
            0,
            0,
            0
           ],
           [
            0.207,
            0.136,
            0.169,
            0.192,
            0.136,
            0.17,
            0.08,
            0.045,
            0.085,
            0.949,
            0.858,
            0.935,
            0.382,
            0.382,
            0.396,
            null,
            1,
            0.999,
            0.081,
            0.088,
            0.048,
            0.111,
            0.087,
            0.151,
            0,
            0.001,
            0
           ],
           [
            0.791,
            0.676,
            0.737,
            0.772,
            0.677,
            0.74,
            0.53,
            0.392,
            0.548,
            1,
            0.999,
            1,
            0.929,
            0.929,
            0.935,
            1,
            null,
            1,
            0.529,
            0.552,
            0.402,
            0.616,
            0.553,
            0.704,
            0.011,
            0.017,
            0.008
           ],
           [
            1,
            0.998,
            0.999,
            1,
            0.998,
            0.999,
            0.987,
            0.955,
            0.989,
            1,
            1,
            1,
            1,
            1,
            1,
            0.999,
            1,
            null,
            0.987,
            0.989,
            0.957,
            0.995,
            0.99,
            0.999,
            0.112,
            0.165,
            0.083
           ],
           [
            1,
            1,
            1,
            1,
            1,
            1,
            1,
            1,
            1,
            0.005,
            0.055,
            0.008,
            0.992,
            0.992,
            0.988,
            0.081,
            0.529,
            0.987,
            null,
            1,
            1,
            1,
            1,
            1,
            0.138,
            0.282,
            0.073
           ],
           [
            1,
            1,
            1,
            1,
            1,
            1,
            1,
            1,
            1,
            0.007,
            0.071,
            0.011,
            0.996,
            0.996,
            0.994,
            0.088,
            0.552,
            0.989,
            1,
            null,
            1,
            1,
            1,
            1,
            0.114,
            0.241,
            0.059
           ],
           [
            1,
            1,
            1,
            1,
            1,
            1,
            1,
            1,
            1,
            0.001,
            0.01,
            0.001,
            0.888,
            0.888,
            0.867,
            0.048,
            0.402,
            0.957,
            1,
            1,
            null,
            1,
            1,
            1,
            0.342,
            0.563,
            0.211
           ],
           [
            1,
            1,
            1,
            1,
            1,
            1,
            1,
            1,
            1,
            0.011,
            0.113,
            0.018,
            0.999,
            0.999,
            0.999,
            0.111,
            0.616,
            0.995,
            1,
            1,
            1,
            null,
            1,
            1,
            0.048,
            0.118,
            0.022
           ],
           [
            1,
            1,
            1,
            1,
            1,
            1,
            1,
            1,
            1,
            0.003,
            0.041,
            0.005,
            0.994,
            0.994,
            0.991,
            0.087,
            0.553,
            0.99,
            1,
            1,
            1,
            1,
            null,
            1,
            0.063,
            0.153,
            0.03
           ],
           [
            1,
            1,
            1,
            1,
            1,
            1,
            1,
            1,
            1,
            0.028,
            0.225,
            0.043,
            1,
            1,
            1,
            0.151,
            0.704,
            0.999,
            1,
            1,
            1,
            1,
            1,
            null,
            0.012,
            0.036,
            0.005
           ],
           [
            0.003,
            0.015,
            0.006,
            0.003,
            0.011,
            0.005,
            0.072,
            0.234,
            0.061,
            0,
            0,
            0,
            0,
            0,
            0,
            0,
            0.011,
            0.112,
            0.138,
            0.114,
            0.342,
            0.048,
            0.063,
            0.012,
            null,
            1,
            1
           ],
           [
            0.01,
            0.043,
            0.02,
            0.011,
            0.035,
            0.015,
            0.171,
            0.437,
            0.148,
            0,
            0,
            0,
            0.001,
            0.001,
            0,
            0.001,
            0.017,
            0.165,
            0.282,
            0.241,
            0.563,
            0.118,
            0.153,
            0.036,
            1,
            null,
            1
           ],
           [
            0.001,
            0.006,
            0.002,
            0.001,
            0.004,
            0.002,
            0.034,
            0.131,
            0.028,
            0,
            0,
            0,
            0,
            0,
            0,
            0,
            0.008,
            0.083,
            0.073,
            0.059,
            0.211,
            0.022,
            0.03,
            0.005,
            1,
            1,
            null
           ]
          ]
         },
         "header": {
          "align": "center",
          "fill": {
           "color": "white"
          },
          "font": {
           "color": "black",
           "size": 14
          },
          "line": {
           "color": "black"
          },
          "values": [
           "",
           "Alcov: NWRB",
           "Alcov: PWRB",
           "Alcov: WB",
           "Freyja: NWRB",
           "Freyja: PWRB",
           "Freyja: WB",
           "kallisto (C-WAP): NWRB",
           "kallisto (C-WAP): PWRB",
           "kallisto (C-WAP): WB",
           "kallisto: NWRB",
           "kallisto: PWRB",
           "kallisto: WB",
           "LCS: NWRB",
           "LCS: PWRB",
           "LCS: WB",
           "lineagespot: NWRB",
           "lineagespot: PWRB",
           "lineagespot: WB",
           "LolliPop: NWRB",
           "LolliPop: PWRB",
           "LolliPop: WB",
           "VaQuERo: NWRB",
           "VaQuERo: PWRB",
           "VaQuERo: WB",
           "Kraken 2 (C-WAP): NWRB",
           "Kraken 2 (C-WAP): PWRB",
           "Kraken 2 (C-WAP): WB"
          ]
         },
         "type": "table"
        }
       ],
       "layout": {
        "height": 550,
        "template": {
         "data": {
          "bar": [
           {
            "error_x": {
             "color": "#2a3f5f"
            },
            "error_y": {
             "color": "#2a3f5f"
            },
            "marker": {
             "line": {
              "color": "#E5ECF6",
              "width": 0.5
             },
             "pattern": {
              "fillmode": "overlay",
              "size": 10,
              "solidity": 0.2
             }
            },
            "type": "bar"
           }
          ],
          "barpolar": [
           {
            "marker": {
             "line": {
              "color": "#E5ECF6",
              "width": 0.5
             },
             "pattern": {
              "fillmode": "overlay",
              "size": 10,
              "solidity": 0.2
             }
            },
            "type": "barpolar"
           }
          ],
          "carpet": [
           {
            "aaxis": {
             "endlinecolor": "#2a3f5f",
             "gridcolor": "white",
             "linecolor": "white",
             "minorgridcolor": "white",
             "startlinecolor": "#2a3f5f"
            },
            "baxis": {
             "endlinecolor": "#2a3f5f",
             "gridcolor": "white",
             "linecolor": "white",
             "minorgridcolor": "white",
             "startlinecolor": "#2a3f5f"
            },
            "type": "carpet"
           }
          ],
          "choropleth": [
           {
            "colorbar": {
             "outlinewidth": 0,
             "ticks": ""
            },
            "type": "choropleth"
           }
          ],
          "contour": [
           {
            "colorbar": {
             "outlinewidth": 0,
             "ticks": ""
            },
            "colorscale": [
             [
              0,
              "#0d0887"
             ],
             [
              0.1111111111111111,
              "#46039f"
             ],
             [
              0.2222222222222222,
              "#7201a8"
             ],
             [
              0.3333333333333333,
              "#9c179e"
             ],
             [
              0.4444444444444444,
              "#bd3786"
             ],
             [
              0.5555555555555556,
              "#d8576b"
             ],
             [
              0.6666666666666666,
              "#ed7953"
             ],
             [
              0.7777777777777778,
              "#fb9f3a"
             ],
             [
              0.8888888888888888,
              "#fdca26"
             ],
             [
              1,
              "#f0f921"
             ]
            ],
            "type": "contour"
           }
          ],
          "contourcarpet": [
           {
            "colorbar": {
             "outlinewidth": 0,
             "ticks": ""
            },
            "type": "contourcarpet"
           }
          ],
          "heatmap": [
           {
            "colorbar": {
             "outlinewidth": 0,
             "ticks": ""
            },
            "colorscale": [
             [
              0,
              "#0d0887"
             ],
             [
              0.1111111111111111,
              "#46039f"
             ],
             [
              0.2222222222222222,
              "#7201a8"
             ],
             [
              0.3333333333333333,
              "#9c179e"
             ],
             [
              0.4444444444444444,
              "#bd3786"
             ],
             [
              0.5555555555555556,
              "#d8576b"
             ],
             [
              0.6666666666666666,
              "#ed7953"
             ],
             [
              0.7777777777777778,
              "#fb9f3a"
             ],
             [
              0.8888888888888888,
              "#fdca26"
             ],
             [
              1,
              "#f0f921"
             ]
            ],
            "type": "heatmap"
           }
          ],
          "heatmapgl": [
           {
            "colorbar": {
             "outlinewidth": 0,
             "ticks": ""
            },
            "colorscale": [
             [
              0,
              "#0d0887"
             ],
             [
              0.1111111111111111,
              "#46039f"
             ],
             [
              0.2222222222222222,
              "#7201a8"
             ],
             [
              0.3333333333333333,
              "#9c179e"
             ],
             [
              0.4444444444444444,
              "#bd3786"
             ],
             [
              0.5555555555555556,
              "#d8576b"
             ],
             [
              0.6666666666666666,
              "#ed7953"
             ],
             [
              0.7777777777777778,
              "#fb9f3a"
             ],
             [
              0.8888888888888888,
              "#fdca26"
             ],
             [
              1,
              "#f0f921"
             ]
            ],
            "type": "heatmapgl"
           }
          ],
          "histogram": [
           {
            "marker": {
             "pattern": {
              "fillmode": "overlay",
              "size": 10,
              "solidity": 0.2
             }
            },
            "type": "histogram"
           }
          ],
          "histogram2d": [
           {
            "colorbar": {
             "outlinewidth": 0,
             "ticks": ""
            },
            "colorscale": [
             [
              0,
              "#0d0887"
             ],
             [
              0.1111111111111111,
              "#46039f"
             ],
             [
              0.2222222222222222,
              "#7201a8"
             ],
             [
              0.3333333333333333,
              "#9c179e"
             ],
             [
              0.4444444444444444,
              "#bd3786"
             ],
             [
              0.5555555555555556,
              "#d8576b"
             ],
             [
              0.6666666666666666,
              "#ed7953"
             ],
             [
              0.7777777777777778,
              "#fb9f3a"
             ],
             [
              0.8888888888888888,
              "#fdca26"
             ],
             [
              1,
              "#f0f921"
             ]
            ],
            "type": "histogram2d"
           }
          ],
          "histogram2dcontour": [
           {
            "colorbar": {
             "outlinewidth": 0,
             "ticks": ""
            },
            "colorscale": [
             [
              0,
              "#0d0887"
             ],
             [
              0.1111111111111111,
              "#46039f"
             ],
             [
              0.2222222222222222,
              "#7201a8"
             ],
             [
              0.3333333333333333,
              "#9c179e"
             ],
             [
              0.4444444444444444,
              "#bd3786"
             ],
             [
              0.5555555555555556,
              "#d8576b"
             ],
             [
              0.6666666666666666,
              "#ed7953"
             ],
             [
              0.7777777777777778,
              "#fb9f3a"
             ],
             [
              0.8888888888888888,
              "#fdca26"
             ],
             [
              1,
              "#f0f921"
             ]
            ],
            "type": "histogram2dcontour"
           }
          ],
          "mesh3d": [
           {
            "colorbar": {
             "outlinewidth": 0,
             "ticks": ""
            },
            "type": "mesh3d"
           }
          ],
          "parcoords": [
           {
            "line": {
             "colorbar": {
              "outlinewidth": 0,
              "ticks": ""
             }
            },
            "type": "parcoords"
           }
          ],
          "pie": [
           {
            "automargin": true,
            "type": "pie"
           }
          ],
          "scatter": [
           {
            "fillpattern": {
             "fillmode": "overlay",
             "size": 10,
             "solidity": 0.2
            },
            "type": "scatter"
           }
          ],
          "scatter3d": [
           {
            "line": {
             "colorbar": {
              "outlinewidth": 0,
              "ticks": ""
             }
            },
            "marker": {
             "colorbar": {
              "outlinewidth": 0,
              "ticks": ""
             }
            },
            "type": "scatter3d"
           }
          ],
          "scattercarpet": [
           {
            "marker": {
             "colorbar": {
              "outlinewidth": 0,
              "ticks": ""
             }
            },
            "type": "scattercarpet"
           }
          ],
          "scattergeo": [
           {
            "marker": {
             "colorbar": {
              "outlinewidth": 0,
              "ticks": ""
             }
            },
            "type": "scattergeo"
           }
          ],
          "scattergl": [
           {
            "marker": {
             "colorbar": {
              "outlinewidth": 0,
              "ticks": ""
             }
            },
            "type": "scattergl"
           }
          ],
          "scattermapbox": [
           {
            "marker": {
             "colorbar": {
              "outlinewidth": 0,
              "ticks": ""
             }
            },
            "type": "scattermapbox"
           }
          ],
          "scatterpolar": [
           {
            "marker": {
             "colorbar": {
              "outlinewidth": 0,
              "ticks": ""
             }
            },
            "type": "scatterpolar"
           }
          ],
          "scatterpolargl": [
           {
            "marker": {
             "colorbar": {
              "outlinewidth": 0,
              "ticks": ""
             }
            },
            "type": "scatterpolargl"
           }
          ],
          "scatterternary": [
           {
            "marker": {
             "colorbar": {
              "outlinewidth": 0,
              "ticks": ""
             }
            },
            "type": "scatterternary"
           }
          ],
          "surface": [
           {
            "colorbar": {
             "outlinewidth": 0,
             "ticks": ""
            },
            "colorscale": [
             [
              0,
              "#0d0887"
             ],
             [
              0.1111111111111111,
              "#46039f"
             ],
             [
              0.2222222222222222,
              "#7201a8"
             ],
             [
              0.3333333333333333,
              "#9c179e"
             ],
             [
              0.4444444444444444,
              "#bd3786"
             ],
             [
              0.5555555555555556,
              "#d8576b"
             ],
             [
              0.6666666666666666,
              "#ed7953"
             ],
             [
              0.7777777777777778,
              "#fb9f3a"
             ],
             [
              0.8888888888888888,
              "#fdca26"
             ],
             [
              1,
              "#f0f921"
             ]
            ],
            "type": "surface"
           }
          ],
          "table": [
           {
            "cells": {
             "fill": {
              "color": "#EBF0F8"
             },
             "line": {
              "color": "white"
             }
            },
            "header": {
             "fill": {
              "color": "#C8D4E3"
             },
             "line": {
              "color": "white"
             }
            },
            "type": "table"
           }
          ]
         },
         "layout": {
          "annotationdefaults": {
           "arrowcolor": "#2a3f5f",
           "arrowhead": 0,
           "arrowwidth": 1
          },
          "autotypenumbers": "strict",
          "coloraxis": {
           "colorbar": {
            "outlinewidth": 0,
            "ticks": ""
           }
          },
          "colorscale": {
           "diverging": [
            [
             0,
             "#8e0152"
            ],
            [
             0.1,
             "#c51b7d"
            ],
            [
             0.2,
             "#de77ae"
            ],
            [
             0.3,
             "#f1b6da"
            ],
            [
             0.4,
             "#fde0ef"
            ],
            [
             0.5,
             "#f7f7f7"
            ],
            [
             0.6,
             "#e6f5d0"
            ],
            [
             0.7,
             "#b8e186"
            ],
            [
             0.8,
             "#7fbc41"
            ],
            [
             0.9,
             "#4d9221"
            ],
            [
             1,
             "#276419"
            ]
           ],
           "sequential": [
            [
             0,
             "#0d0887"
            ],
            [
             0.1111111111111111,
             "#46039f"
            ],
            [
             0.2222222222222222,
             "#7201a8"
            ],
            [
             0.3333333333333333,
             "#9c179e"
            ],
            [
             0.4444444444444444,
             "#bd3786"
            ],
            [
             0.5555555555555556,
             "#d8576b"
            ],
            [
             0.6666666666666666,
             "#ed7953"
            ],
            [
             0.7777777777777778,
             "#fb9f3a"
            ],
            [
             0.8888888888888888,
             "#fdca26"
            ],
            [
             1,
             "#f0f921"
            ]
           ],
           "sequentialminus": [
            [
             0,
             "#0d0887"
            ],
            [
             0.1111111111111111,
             "#46039f"
            ],
            [
             0.2222222222222222,
             "#7201a8"
            ],
            [
             0.3333333333333333,
             "#9c179e"
            ],
            [
             0.4444444444444444,
             "#bd3786"
            ],
            [
             0.5555555555555556,
             "#d8576b"
            ],
            [
             0.6666666666666666,
             "#ed7953"
            ],
            [
             0.7777777777777778,
             "#fb9f3a"
            ],
            [
             0.8888888888888888,
             "#fdca26"
            ],
            [
             1,
             "#f0f921"
            ]
           ]
          },
          "colorway": [
           "#636efa",
           "#EF553B",
           "#00cc96",
           "#ab63fa",
           "#FFA15A",
           "#19d3f3",
           "#FF6692",
           "#B6E880",
           "#FF97FF",
           "#FECB52"
          ],
          "font": {
           "color": "#2a3f5f"
          },
          "geo": {
           "bgcolor": "white",
           "lakecolor": "white",
           "landcolor": "#E5ECF6",
           "showlakes": true,
           "showland": true,
           "subunitcolor": "white"
          },
          "hoverlabel": {
           "align": "left"
          },
          "hovermode": "closest",
          "mapbox": {
           "style": "light"
          },
          "paper_bgcolor": "white",
          "plot_bgcolor": "#E5ECF6",
          "polar": {
           "angularaxis": {
            "gridcolor": "white",
            "linecolor": "white",
            "ticks": ""
           },
           "bgcolor": "#E5ECF6",
           "radialaxis": {
            "gridcolor": "white",
            "linecolor": "white",
            "ticks": ""
           }
          },
          "scene": {
           "xaxis": {
            "backgroundcolor": "#E5ECF6",
            "gridcolor": "white",
            "gridwidth": 2,
            "linecolor": "white",
            "showbackground": true,
            "ticks": "",
            "zerolinecolor": "white"
           },
           "yaxis": {
            "backgroundcolor": "#E5ECF6",
            "gridcolor": "white",
            "gridwidth": 2,
            "linecolor": "white",
            "showbackground": true,
            "ticks": "",
            "zerolinecolor": "white"
           },
           "zaxis": {
            "backgroundcolor": "#E5ECF6",
            "gridcolor": "white",
            "gridwidth": 2,
            "linecolor": "white",
            "showbackground": true,
            "ticks": "",
            "zerolinecolor": "white"
           }
          },
          "shapedefaults": {
           "line": {
            "color": "#2a3f5f"
           }
          },
          "ternary": {
           "aaxis": {
            "gridcolor": "white",
            "linecolor": "white",
            "ticks": ""
           },
           "baxis": {
            "gridcolor": "white",
            "linecolor": "white",
            "ticks": ""
           },
           "bgcolor": "#E5ECF6",
           "caxis": {
            "gridcolor": "white",
            "linecolor": "white",
            "ticks": ""
           }
          },
          "title": {
           "x": 0.05
          },
          "xaxis": {
           "automargin": true,
           "gridcolor": "white",
           "linecolor": "white",
           "ticks": "",
           "title": {
            "standoff": 15
           },
           "zerolinecolor": "white",
           "zerolinewidth": 2
          },
          "yaxis": {
           "automargin": true,
           "gridcolor": "white",
           "linecolor": "white",
           "ticks": "",
           "title": {
            "standoff": 15
           },
           "zerolinecolor": "white",
           "zerolinewidth": 2
          }
         }
        },
        "width": 1200
       }
      },
      "text/html": [
       "<div>                            <div id=\"6f4d5eaf-5db3-48af-8142-68353ed44697\" class=\"plotly-graph-div\" style=\"height:550px; width:1200px;\"></div>            <script type=\"text/javascript\">                require([\"plotly\"], function(Plotly) {                    window.PLOTLYENV=window.PLOTLYENV || {};                                    if (document.getElementById(\"6f4d5eaf-5db3-48af-8142-68353ed44697\")) {                    Plotly.newPlot(                        \"6f4d5eaf-5db3-48af-8142-68353ed44697\",                        [{\"cells\":{\"align\":\"center\",\"fill\":{\"color\":[[\"white\",\"white\",\"white\",\"white\",\"white\",\"white\",\"white\",\"white\",\"white\",\"white\",\"white\",\"white\",\"white\",\"white\",\"white\",\"white\",\"white\",\"white\",\"white\",\"white\",\"white\",\"white\",\"white\",\"white\",\"white\",\"white\",\"white\"],[\"black\",\"lightgrey\",\"lightgrey\",\"lightgrey\",\"lightgrey\",\"lightgrey\",\"lightgrey\",\"lightgrey\",\"lightgrey\",\"lightgrey\",\"lightgrey\",\"lightgrey\",\"lightgrey\",\"lightgrey\",\"lightgrey\",\"lightgrey\",\"lightgrey\",\"lightgrey\",\"lightgrey\",\"lightgrey\",\"lightgrey\",\"lightgrey\",\"lightgrey\",\"lightgrey\",\"white\",\"white\",\"white\"],[\"lightgrey\",\"black\",\"lightgrey\",\"lightgrey\",\"lightgrey\",\"lightgrey\",\"lightgrey\",\"lightgrey\",\"lightgrey\",\"lightgrey\",\"lightgrey\",\"lightgrey\",\"lightgrey\",\"lightgrey\",\"lightgrey\",\"lightgrey\",\"lightgrey\",\"lightgrey\",\"lightgrey\",\"lightgrey\",\"lightgrey\",\"lightgrey\",\"lightgrey\",\"lightgrey\",\"lightgrey\",\"lightgrey\",\"white\"],[\"lightgrey\",\"lightgrey\",\"black\",\"lightgrey\",\"lightgrey\",\"lightgrey\",\"lightgrey\",\"lightgrey\",\"lightgrey\",\"lightgrey\",\"lightgrey\",\"lightgrey\",\"lightgrey\",\"lightgrey\",\"lightgrey\",\"lightgrey\",\"lightgrey\",\"lightgrey\",\"lightgrey\",\"lightgrey\",\"lightgrey\",\"lightgrey\",\"lightgrey\",\"lightgrey\",\"white\",\"lightgrey\",\"white\"],[\"lightgrey\",\"lightgrey\",\"lightgrey\",\"black\",\"lightgrey\",\"lightgrey\",\"lightgrey\",\"lightgrey\",\"lightgrey\",\"lightgrey\",\"lightgrey\",\"lightgrey\",\"lightgrey\",\"lightgrey\",\"lightgrey\",\"lightgrey\",\"lightgrey\",\"lightgrey\",\"lightgrey\",\"lightgrey\",\"lightgrey\",\"lightgrey\",\"lightgrey\",\"lightgrey\",\"white\",\"lightgrey\",\"white\"],[\"lightgrey\",\"lightgrey\",\"lightgrey\",\"lightgrey\",\"black\",\"lightgrey\",\"lightgrey\",\"lightgrey\",\"lightgrey\",\"lightgrey\",\"lightgrey\",\"lightgrey\",\"lightgrey\",\"lightgrey\",\"lightgrey\",\"lightgrey\",\"lightgrey\",\"lightgrey\",\"lightgrey\",\"lightgrey\",\"lightgrey\",\"lightgrey\",\"lightgrey\",\"lightgrey\",\"lightgrey\",\"lightgrey\",\"white\"],[\"lightgrey\",\"lightgrey\",\"lightgrey\",\"lightgrey\",\"lightgrey\",\"black\",\"lightgrey\",\"lightgrey\",\"lightgrey\",\"lightgrey\",\"lightgrey\",\"lightgrey\",\"lightgrey\",\"lightgrey\",\"lightgrey\",\"lightgrey\",\"lightgrey\",\"lightgrey\",\"lightgrey\",\"lightgrey\",\"lightgrey\",\"lightgrey\",\"lightgrey\",\"lightgrey\",\"white\",\"lightgrey\",\"white\"],[\"lightgrey\",\"lightgrey\",\"lightgrey\",\"lightgrey\",\"lightgrey\",\"lightgrey\",\"black\",\"lightgrey\",\"lightgrey\",\"white\",\"lightgrey\",\"white\",\"lightgrey\",\"lightgrey\",\"lightgrey\",\"lightgrey\",\"lightgrey\",\"lightgrey\",\"lightgrey\",\"lightgrey\",\"lightgrey\",\"lightgrey\",\"lightgrey\",\"lightgrey\",\"lightgrey\",\"lightgrey\",\"lightgrey\"],[\"lightgrey\",\"lightgrey\",\"lightgrey\",\"lightgrey\",\"lightgrey\",\"lightgrey\",\"lightgrey\",\"black\",\"lightgrey\",\"white\",\"white\",\"white\",\"lightgrey\",\"lightgrey\",\"lightgrey\",\"lightgrey\",\"lightgrey\",\"lightgrey\",\"lightgrey\",\"lightgrey\",\"lightgrey\",\"lightgrey\",\"lightgrey\",\"lightgrey\",\"lightgrey\",\"lightgrey\",\"lightgrey\"],[\"lightgrey\",\"lightgrey\",\"lightgrey\",\"lightgrey\",\"lightgrey\",\"lightgrey\",\"lightgrey\",\"lightgrey\",\"black\",\"white\",\"lightgrey\",\"white\",\"lightgrey\",\"lightgrey\",\"lightgrey\",\"lightgrey\",\"lightgrey\",\"lightgrey\",\"lightgrey\",\"lightgrey\",\"lightgrey\",\"lightgrey\",\"lightgrey\",\"lightgrey\",\"lightgrey\",\"lightgrey\",\"lightgrey\"],[\"lightgrey\",\"lightgrey\",\"lightgrey\",\"lightgrey\",\"lightgrey\",\"lightgrey\",\"white\",\"white\",\"white\",\"black\",\"lightgrey\",\"lightgrey\",\"lightgrey\",\"lightgrey\",\"lightgrey\",\"lightgrey\",\"lightgrey\",\"lightgrey\",\"white\",\"white\",\"white\",\"lightgrey\",\"white\",\"lightgrey\",\"white\",\"white\",\"white\"],[\"lightgrey\",\"lightgrey\",\"lightgrey\",\"lightgrey\",\"lightgrey\",\"lightgrey\",\"lightgrey\",\"white\",\"lightgrey\",\"lightgrey\",\"black\",\"lightgrey\",\"lightgrey\",\"lightgrey\",\"lightgrey\",\"lightgrey\",\"lightgrey\",\"lightgrey\",\"lightgrey\",\"lightgrey\",\"white\",\"lightgrey\",\"lightgrey\",\"lightgrey\",\"white\",\"white\",\"white\"],[\"lightgrey\",\"lightgrey\",\"lightgrey\",\"lightgrey\",\"lightgrey\",\"lightgrey\",\"white\",\"white\",\"white\",\"lightgrey\",\"lightgrey\",\"black\",\"lightgrey\",\"lightgrey\",\"lightgrey\",\"lightgrey\",\"lightgrey\",\"lightgrey\",\"white\",\"lightgrey\",\"white\",\"lightgrey\",\"white\",\"lightgrey\",\"white\",\"white\",\"white\"],[\"lightgrey\",\"lightgrey\",\"lightgrey\",\"lightgrey\",\"lightgrey\",\"lightgrey\",\"lightgrey\",\"lightgrey\",\"lightgrey\",\"lightgrey\",\"lightgrey\",\"lightgrey\",\"black\",\"lightgrey\",\"lightgrey\",\"lightgrey\",\"lightgrey\",\"lightgrey\",\"lightgrey\",\"lightgrey\",\"lightgrey\",\"lightgrey\",\"lightgrey\",\"lightgrey\",\"white\",\"white\",\"white\"],[\"lightgrey\",\"lightgrey\",\"lightgrey\",\"lightgrey\",\"lightgrey\",\"lightgrey\",\"lightgrey\",\"lightgrey\",\"lightgrey\",\"lightgrey\",\"lightgrey\",\"lightgrey\",\"lightgrey\",\"black\",\"lightgrey\",\"lightgrey\",\"lightgrey\",\"lightgrey\",\"lightgrey\",\"lightgrey\",\"lightgrey\",\"lightgrey\",\"lightgrey\",\"lightgrey\",\"white\",\"white\",\"white\"],[\"lightgrey\",\"lightgrey\",\"lightgrey\",\"lightgrey\",\"lightgrey\",\"lightgrey\",\"lightgrey\",\"lightgrey\",\"lightgrey\",\"lightgrey\",\"lightgrey\",\"lightgrey\",\"lightgrey\",\"lightgrey\",\"black\",\"lightgrey\",\"lightgrey\",\"lightgrey\",\"lightgrey\",\"lightgrey\",\"lightgrey\",\"lightgrey\",\"lightgrey\",\"lightgrey\",\"white\",\"white\",\"white\"],[\"lightgrey\",\"lightgrey\",\"lightgrey\",\"lightgrey\",\"lightgrey\",\"lightgrey\",\"lightgrey\",\"lightgrey\",\"lightgrey\",\"lightgrey\",\"lightgrey\",\"lightgrey\",\"lightgrey\",\"lightgrey\",\"lightgrey\",\"black\",\"lightgrey\",\"lightgrey\",\"lightgrey\",\"lightgrey\",\"lightgrey\",\"lightgrey\",\"lightgrey\",\"lightgrey\",\"white\",\"white\",\"white\"],[\"lightgrey\",\"lightgrey\",\"lightgrey\",\"lightgrey\",\"lightgrey\",\"lightgrey\",\"lightgrey\",\"lightgrey\",\"lightgrey\",\"lightgrey\",\"lightgrey\",\"lightgrey\",\"lightgrey\",\"lightgrey\",\"lightgrey\",\"lightgrey\",\"black\",\"lightgrey\",\"lightgrey\",\"lightgrey\",\"lightgrey\",\"lightgrey\",\"lightgrey\",\"lightgrey\",\"lightgrey\",\"lightgrey\",\"white\"],[\"lightgrey\",\"lightgrey\",\"lightgrey\",\"lightgrey\",\"lightgrey\",\"lightgrey\",\"lightgrey\",\"lightgrey\",\"lightgrey\",\"lightgrey\",\"lightgrey\",\"lightgrey\",\"lightgrey\",\"lightgrey\",\"lightgrey\",\"lightgrey\",\"lightgrey\",\"black\",\"lightgrey\",\"lightgrey\",\"lightgrey\",\"lightgrey\",\"lightgrey\",\"lightgrey\",\"lightgrey\",\"lightgrey\",\"lightgrey\"],[\"lightgrey\",\"lightgrey\",\"lightgrey\",\"lightgrey\",\"lightgrey\",\"lightgrey\",\"lightgrey\",\"lightgrey\",\"lightgrey\",\"white\",\"lightgrey\",\"white\",\"lightgrey\",\"lightgrey\",\"lightgrey\",\"lightgrey\",\"lightgrey\",\"lightgrey\",\"black\",\"lightgrey\",\"lightgrey\",\"lightgrey\",\"lightgrey\",\"lightgrey\",\"lightgrey\",\"lightgrey\",\"lightgrey\"],[\"lightgrey\",\"lightgrey\",\"lightgrey\",\"lightgrey\",\"lightgrey\",\"lightgrey\",\"lightgrey\",\"lightgrey\",\"lightgrey\",\"white\",\"lightgrey\",\"lightgrey\",\"lightgrey\",\"lightgrey\",\"lightgrey\",\"lightgrey\",\"lightgrey\",\"lightgrey\",\"lightgrey\",\"black\",\"lightgrey\",\"lightgrey\",\"lightgrey\",\"lightgrey\",\"lightgrey\",\"lightgrey\",\"lightgrey\"],[\"lightgrey\",\"lightgrey\",\"lightgrey\",\"lightgrey\",\"lightgrey\",\"lightgrey\",\"lightgrey\",\"lightgrey\",\"lightgrey\",\"white\",\"white\",\"white\",\"lightgrey\",\"lightgrey\",\"lightgrey\",\"lightgrey\",\"lightgrey\",\"lightgrey\",\"lightgrey\",\"lightgrey\",\"black\",\"lightgrey\",\"lightgrey\",\"lightgrey\",\"lightgrey\",\"lightgrey\",\"lightgrey\"],[\"lightgrey\",\"lightgrey\",\"lightgrey\",\"lightgrey\",\"lightgrey\",\"lightgrey\",\"lightgrey\",\"lightgrey\",\"lightgrey\",\"lightgrey\",\"lightgrey\",\"lightgrey\",\"lightgrey\",\"lightgrey\",\"lightgrey\",\"lightgrey\",\"lightgrey\",\"lightgrey\",\"lightgrey\",\"lightgrey\",\"lightgrey\",\"black\",\"lightgrey\",\"lightgrey\",\"lightgrey\",\"lightgrey\",\"lightgrey\"],[\"lightgrey\",\"lightgrey\",\"lightgrey\",\"lightgrey\",\"lightgrey\",\"lightgrey\",\"lightgrey\",\"lightgrey\",\"lightgrey\",\"white\",\"lightgrey\",\"white\",\"lightgrey\",\"lightgrey\",\"lightgrey\",\"lightgrey\",\"lightgrey\",\"lightgrey\",\"lightgrey\",\"lightgrey\",\"lightgrey\",\"lightgrey\",\"black\",\"lightgrey\",\"lightgrey\",\"lightgrey\",\"lightgrey\"],[\"lightgrey\",\"lightgrey\",\"lightgrey\",\"lightgrey\",\"lightgrey\",\"lightgrey\",\"lightgrey\",\"lightgrey\",\"lightgrey\",\"lightgrey\",\"lightgrey\",\"lightgrey\",\"lightgrey\",\"lightgrey\",\"lightgrey\",\"lightgrey\",\"lightgrey\",\"lightgrey\",\"lightgrey\",\"lightgrey\",\"lightgrey\",\"lightgrey\",\"lightgrey\",\"black\",\"lightgrey\",\"lightgrey\",\"white\"],[\"white\",\"lightgrey\",\"white\",\"white\",\"lightgrey\",\"white\",\"lightgrey\",\"lightgrey\",\"lightgrey\",\"white\",\"white\",\"white\",\"white\",\"white\",\"white\",\"white\",\"lightgrey\",\"lightgrey\",\"lightgrey\",\"lightgrey\",\"lightgrey\",\"lightgrey\",\"lightgrey\",\"lightgrey\",\"black\",\"lightgrey\",\"lightgrey\"],[\"white\",\"lightgrey\",\"lightgrey\",\"lightgrey\",\"lightgrey\",\"lightgrey\",\"lightgrey\",\"lightgrey\",\"lightgrey\",\"white\",\"white\",\"white\",\"white\",\"white\",\"white\",\"white\",\"lightgrey\",\"lightgrey\",\"lightgrey\",\"lightgrey\",\"lightgrey\",\"lightgrey\",\"lightgrey\",\"lightgrey\",\"lightgrey\",\"black\",\"lightgrey\"],[\"white\",\"white\",\"white\",\"white\",\"white\",\"white\",\"lightgrey\",\"lightgrey\",\"lightgrey\",\"white\",\"white\",\"white\",\"white\",\"white\",\"white\",\"white\",\"white\",\"lightgrey\",\"lightgrey\",\"lightgrey\",\"lightgrey\",\"lightgrey\",\"lightgrey\",\"white\",\"lightgrey\",\"lightgrey\",\"black\"]]},\"font\":{\"color\":\"black\",\"size\":14},\"height\":30,\"line\":{\"color\":\"black\"},\"values\":[[\"Alcov: NWRB\",\"Alcov: PWRB\",\"Alcov: WB\",\"Freyja: NWRB\",\"Freyja: PWRB\",\"Freyja: WB\",\"kallisto (C-WAP): NWRB\",\"kallisto (C-WAP): PWRB\",\"kallisto (C-WAP): WB\",\"kallisto: NWRB\",\"kallisto: PWRB\",\"kallisto: WB\",\"LCS: NWRB\",\"LCS: PWRB\",\"LCS: WB\",\"lineagespot: NWRB\",\"lineagespot: PWRB\",\"lineagespot: WB\",\"LolliPop: NWRB\",\"LolliPop: PWRB\",\"LolliPop: WB\",\"VaQuERo: NWRB\",\"VaQuERo: PWRB\",\"VaQuERo: WB\",\"Kraken 2 (C-WAP): NWRB\",\"Kraken 2 (C-WAP): PWRB\",\"Kraken 2 (C-WAP): WB\"],[null,1.0,1.0,1.0,1.0,1.0,1.0,0.999,1.0,0.081,0.453,0.119,1.0,1.0,1.0,0.207,0.791,1.0,1.0,1.0,1.0,1.0,1.0,1.0,0.003,0.01,0.001],[1.0,null,1.0,1.0,1.0,1.0,1.0,1.0,1.0,0.016,0.155,0.025,1.0,1.0,1.0,0.136,0.676,0.998,1.0,1.0,1.0,1.0,1.0,1.0,0.015,0.043,0.006],[1.0,1.0,null,1.0,1.0,1.0,1.0,1.0,1.0,0.036,0.277,0.056,1.0,1.0,1.0,0.169,0.737,0.999,1.0,1.0,1.0,1.0,1.0,1.0,0.006,0.02,0.002],[1.0,1.0,1.0,null,1.0,1.0,1.0,0.999,1.0,0.054,0.362,0.081,1.0,1.0,1.0,0.192,0.772,1.0,1.0,1.0,1.0,1.0,1.0,1.0,0.003,0.011,0.001],[1.0,1.0,1.0,1.0,null,1.0,1.0,1.0,1.0,0.012,0.137,0.02,1.0,1.0,1.0,0.136,0.677,0.998,1.0,1.0,1.0,1.0,1.0,1.0,0.011,0.035,0.004],[1.0,1.0,1.0,1.0,1.0,null,1.0,1.0,1.0,0.031,0.257,0.048,1.0,1.0,1.0,0.17,0.74,0.999,1.0,1.0,1.0,1.0,1.0,1.0,0.005,0.015,0.002],[1.0,1.0,1.0,1.0,1.0,1.0,null,1.0,1.0,0.002,0.027,0.003,0.987,0.987,0.982,0.08,0.53,0.987,1.0,1.0,1.0,1.0,1.0,1.0,0.072,0.171,0.034],[0.999,1.0,1.0,0.999,1.0,1.0,1.0,null,1.0,0.0,0.003,0.0,0.819,0.819,0.791,0.045,0.392,0.955,1.0,1.0,1.0,1.0,1.0,1.0,0.234,0.437,0.131],[1.0,1.0,1.0,1.0,1.0,1.0,1.0,1.0,null,0.002,0.035,0.004,0.992,0.992,0.989,0.085,0.548,0.989,1.0,1.0,1.0,1.0,1.0,1.0,0.061,0.148,0.028],[0.081,0.016,0.036,0.054,0.012,0.031,0.002,0.0,0.002,null,1.0,1.0,0.58,0.58,0.63,0.949,1.0,1.0,0.005,0.007,0.001,0.011,0.003,0.028,0.0,0.0,0.0],[0.453,0.155,0.277,0.362,0.137,0.257,0.027,0.003,0.035,1.0,null,1.0,0.967,0.967,0.977,0.858,0.999,1.0,0.055,0.071,0.01,0.113,0.041,0.225,0.0,0.0,0.0],[0.119,0.025,0.056,0.081,0.02,0.048,0.003,0.0,0.004,1.0,1.0,null,0.685,0.685,0.731,0.935,1.0,1.0,0.008,0.011,0.001,0.018,0.005,0.043,0.0,0.0,0.0],[1.0,1.0,1.0,1.0,1.0,1.0,0.987,0.819,0.992,0.58,0.967,0.685,null,1.0,1.0,0.382,0.929,1.0,0.992,0.996,0.888,0.999,0.994,1.0,0.0,0.001,0.0],[1.0,1.0,1.0,1.0,1.0,1.0,0.987,0.819,0.992,0.58,0.967,0.685,1.0,null,1.0,0.382,0.929,1.0,0.992,0.996,0.888,0.999,0.994,1.0,0.0,0.001,0.0],[1.0,1.0,1.0,1.0,1.0,1.0,0.982,0.791,0.989,0.63,0.977,0.731,1.0,1.0,null,0.396,0.935,1.0,0.988,0.994,0.867,0.999,0.991,1.0,0.0,0.0,0.0],[0.207,0.136,0.169,0.192,0.136,0.17,0.08,0.045,0.085,0.949,0.858,0.935,0.382,0.382,0.396,null,1.0,0.999,0.081,0.088,0.048,0.111,0.087,0.151,0.0,0.001,0.0],[0.791,0.676,0.737,0.772,0.677,0.74,0.53,0.392,0.548,1.0,0.999,1.0,0.929,0.929,0.935,1.0,null,1.0,0.529,0.552,0.402,0.616,0.553,0.704,0.011,0.017,0.008],[1.0,0.998,0.999,1.0,0.998,0.999,0.987,0.955,0.989,1.0,1.0,1.0,1.0,1.0,1.0,0.999,1.0,null,0.987,0.989,0.957,0.995,0.99,0.999,0.112,0.165,0.083],[1.0,1.0,1.0,1.0,1.0,1.0,1.0,1.0,1.0,0.005,0.055,0.008,0.992,0.992,0.988,0.081,0.529,0.987,null,1.0,1.0,1.0,1.0,1.0,0.138,0.282,0.073],[1.0,1.0,1.0,1.0,1.0,1.0,1.0,1.0,1.0,0.007,0.071,0.011,0.996,0.996,0.994,0.088,0.552,0.989,1.0,null,1.0,1.0,1.0,1.0,0.114,0.241,0.059],[1.0,1.0,1.0,1.0,1.0,1.0,1.0,1.0,1.0,0.001,0.01,0.001,0.888,0.888,0.867,0.048,0.402,0.957,1.0,1.0,null,1.0,1.0,1.0,0.342,0.563,0.211],[1.0,1.0,1.0,1.0,1.0,1.0,1.0,1.0,1.0,0.011,0.113,0.018,0.999,0.999,0.999,0.111,0.616,0.995,1.0,1.0,1.0,null,1.0,1.0,0.048,0.118,0.022],[1.0,1.0,1.0,1.0,1.0,1.0,1.0,1.0,1.0,0.003,0.041,0.005,0.994,0.994,0.991,0.087,0.553,0.99,1.0,1.0,1.0,1.0,null,1.0,0.063,0.153,0.03],[1.0,1.0,1.0,1.0,1.0,1.0,1.0,1.0,1.0,0.028,0.225,0.043,1.0,1.0,1.0,0.151,0.704,0.999,1.0,1.0,1.0,1.0,1.0,null,0.012,0.036,0.005],[0.003,0.015,0.006,0.003,0.011,0.005,0.072,0.234,0.061,0.0,0.0,0.0,0.0,0.0,0.0,0.0,0.011,0.112,0.138,0.114,0.342,0.048,0.063,0.012,null,1.0,1.0],[0.01,0.043,0.02,0.011,0.035,0.015,0.171,0.437,0.148,0.0,0.0,0.0,0.001,0.001,0.0,0.001,0.017,0.165,0.282,0.241,0.563,0.118,0.153,0.036,1.0,null,1.0],[0.001,0.006,0.002,0.001,0.004,0.002,0.034,0.131,0.028,0.0,0.0,0.0,0.0,0.0,0.0,0.0,0.008,0.083,0.073,0.059,0.211,0.022,0.03,0.005,1.0,1.0,null]]},\"header\":{\"align\":\"center\",\"fill\":{\"color\":\"white\"},\"font\":{\"color\":\"black\",\"size\":14},\"line\":{\"color\":\"black\"},\"values\":[\"\",\"Alcov: NWRB\",\"Alcov: PWRB\",\"Alcov: WB\",\"Freyja: NWRB\",\"Freyja: PWRB\",\"Freyja: WB\",\"kallisto (C-WAP): NWRB\",\"kallisto (C-WAP): PWRB\",\"kallisto (C-WAP): WB\",\"kallisto: NWRB\",\"kallisto: PWRB\",\"kallisto: WB\",\"LCS: NWRB\",\"LCS: PWRB\",\"LCS: WB\",\"lineagespot: NWRB\",\"lineagespot: PWRB\",\"lineagespot: WB\",\"LolliPop: NWRB\",\"LolliPop: PWRB\",\"LolliPop: WB\",\"VaQuERo: NWRB\",\"VaQuERo: PWRB\",\"VaQuERo: WB\",\"Kraken 2 (C-WAP): NWRB\",\"Kraken 2 (C-WAP): PWRB\",\"Kraken 2 (C-WAP): WB\"]},\"type\":\"table\"}],                        {\"template\":{\"data\":{\"histogram2dcontour\":[{\"type\":\"histogram2dcontour\",\"colorbar\":{\"outlinewidth\":0,\"ticks\":\"\"},\"colorscale\":[[0.0,\"#0d0887\"],[0.1111111111111111,\"#46039f\"],[0.2222222222222222,\"#7201a8\"],[0.3333333333333333,\"#9c179e\"],[0.4444444444444444,\"#bd3786\"],[0.5555555555555556,\"#d8576b\"],[0.6666666666666666,\"#ed7953\"],[0.7777777777777778,\"#fb9f3a\"],[0.8888888888888888,\"#fdca26\"],[1.0,\"#f0f921\"]]}],\"choropleth\":[{\"type\":\"choropleth\",\"colorbar\":{\"outlinewidth\":0,\"ticks\":\"\"}}],\"histogram2d\":[{\"type\":\"histogram2d\",\"colorbar\":{\"outlinewidth\":0,\"ticks\":\"\"},\"colorscale\":[[0.0,\"#0d0887\"],[0.1111111111111111,\"#46039f\"],[0.2222222222222222,\"#7201a8\"],[0.3333333333333333,\"#9c179e\"],[0.4444444444444444,\"#bd3786\"],[0.5555555555555556,\"#d8576b\"],[0.6666666666666666,\"#ed7953\"],[0.7777777777777778,\"#fb9f3a\"],[0.8888888888888888,\"#fdca26\"],[1.0,\"#f0f921\"]]}],\"heatmap\":[{\"type\":\"heatmap\",\"colorbar\":{\"outlinewidth\":0,\"ticks\":\"\"},\"colorscale\":[[0.0,\"#0d0887\"],[0.1111111111111111,\"#46039f\"],[0.2222222222222222,\"#7201a8\"],[0.3333333333333333,\"#9c179e\"],[0.4444444444444444,\"#bd3786\"],[0.5555555555555556,\"#d8576b\"],[0.6666666666666666,\"#ed7953\"],[0.7777777777777778,\"#fb9f3a\"],[0.8888888888888888,\"#fdca26\"],[1.0,\"#f0f921\"]]}],\"heatmapgl\":[{\"type\":\"heatmapgl\",\"colorbar\":{\"outlinewidth\":0,\"ticks\":\"\"},\"colorscale\":[[0.0,\"#0d0887\"],[0.1111111111111111,\"#46039f\"],[0.2222222222222222,\"#7201a8\"],[0.3333333333333333,\"#9c179e\"],[0.4444444444444444,\"#bd3786\"],[0.5555555555555556,\"#d8576b\"],[0.6666666666666666,\"#ed7953\"],[0.7777777777777778,\"#fb9f3a\"],[0.8888888888888888,\"#fdca26\"],[1.0,\"#f0f921\"]]}],\"contourcarpet\":[{\"type\":\"contourcarpet\",\"colorbar\":{\"outlinewidth\":0,\"ticks\":\"\"}}],\"contour\":[{\"type\":\"contour\",\"colorbar\":{\"outlinewidth\":0,\"ticks\":\"\"},\"colorscale\":[[0.0,\"#0d0887\"],[0.1111111111111111,\"#46039f\"],[0.2222222222222222,\"#7201a8\"],[0.3333333333333333,\"#9c179e\"],[0.4444444444444444,\"#bd3786\"],[0.5555555555555556,\"#d8576b\"],[0.6666666666666666,\"#ed7953\"],[0.7777777777777778,\"#fb9f3a\"],[0.8888888888888888,\"#fdca26\"],[1.0,\"#f0f921\"]]}],\"surface\":[{\"type\":\"surface\",\"colorbar\":{\"outlinewidth\":0,\"ticks\":\"\"},\"colorscale\":[[0.0,\"#0d0887\"],[0.1111111111111111,\"#46039f\"],[0.2222222222222222,\"#7201a8\"],[0.3333333333333333,\"#9c179e\"],[0.4444444444444444,\"#bd3786\"],[0.5555555555555556,\"#d8576b\"],[0.6666666666666666,\"#ed7953\"],[0.7777777777777778,\"#fb9f3a\"],[0.8888888888888888,\"#fdca26\"],[1.0,\"#f0f921\"]]}],\"mesh3d\":[{\"type\":\"mesh3d\",\"colorbar\":{\"outlinewidth\":0,\"ticks\":\"\"}}],\"scatter\":[{\"fillpattern\":{\"fillmode\":\"overlay\",\"size\":10,\"solidity\":0.2},\"type\":\"scatter\"}],\"parcoords\":[{\"type\":\"parcoords\",\"line\":{\"colorbar\":{\"outlinewidth\":0,\"ticks\":\"\"}}}],\"scatterpolargl\":[{\"type\":\"scatterpolargl\",\"marker\":{\"colorbar\":{\"outlinewidth\":0,\"ticks\":\"\"}}}],\"bar\":[{\"error_x\":{\"color\":\"#2a3f5f\"},\"error_y\":{\"color\":\"#2a3f5f\"},\"marker\":{\"line\":{\"color\":\"#E5ECF6\",\"width\":0.5},\"pattern\":{\"fillmode\":\"overlay\",\"size\":10,\"solidity\":0.2}},\"type\":\"bar\"}],\"scattergeo\":[{\"type\":\"scattergeo\",\"marker\":{\"colorbar\":{\"outlinewidth\":0,\"ticks\":\"\"}}}],\"scatterpolar\":[{\"type\":\"scatterpolar\",\"marker\":{\"colorbar\":{\"outlinewidth\":0,\"ticks\":\"\"}}}],\"histogram\":[{\"marker\":{\"pattern\":{\"fillmode\":\"overlay\",\"size\":10,\"solidity\":0.2}},\"type\":\"histogram\"}],\"scattergl\":[{\"type\":\"scattergl\",\"marker\":{\"colorbar\":{\"outlinewidth\":0,\"ticks\":\"\"}}}],\"scatter3d\":[{\"type\":\"scatter3d\",\"line\":{\"colorbar\":{\"outlinewidth\":0,\"ticks\":\"\"}},\"marker\":{\"colorbar\":{\"outlinewidth\":0,\"ticks\":\"\"}}}],\"scattermapbox\":[{\"type\":\"scattermapbox\",\"marker\":{\"colorbar\":{\"outlinewidth\":0,\"ticks\":\"\"}}}],\"scatterternary\":[{\"type\":\"scatterternary\",\"marker\":{\"colorbar\":{\"outlinewidth\":0,\"ticks\":\"\"}}}],\"scattercarpet\":[{\"type\":\"scattercarpet\",\"marker\":{\"colorbar\":{\"outlinewidth\":0,\"ticks\":\"\"}}}],\"carpet\":[{\"aaxis\":{\"endlinecolor\":\"#2a3f5f\",\"gridcolor\":\"white\",\"linecolor\":\"white\",\"minorgridcolor\":\"white\",\"startlinecolor\":\"#2a3f5f\"},\"baxis\":{\"endlinecolor\":\"#2a3f5f\",\"gridcolor\":\"white\",\"linecolor\":\"white\",\"minorgridcolor\":\"white\",\"startlinecolor\":\"#2a3f5f\"},\"type\":\"carpet\"}],\"table\":[{\"cells\":{\"fill\":{\"color\":\"#EBF0F8\"},\"line\":{\"color\":\"white\"}},\"header\":{\"fill\":{\"color\":\"#C8D4E3\"},\"line\":{\"color\":\"white\"}},\"type\":\"table\"}],\"barpolar\":[{\"marker\":{\"line\":{\"color\":\"#E5ECF6\",\"width\":0.5},\"pattern\":{\"fillmode\":\"overlay\",\"size\":10,\"solidity\":0.2}},\"type\":\"barpolar\"}],\"pie\":[{\"automargin\":true,\"type\":\"pie\"}]},\"layout\":{\"autotypenumbers\":\"strict\",\"colorway\":[\"#636efa\",\"#EF553B\",\"#00cc96\",\"#ab63fa\",\"#FFA15A\",\"#19d3f3\",\"#FF6692\",\"#B6E880\",\"#FF97FF\",\"#FECB52\"],\"font\":{\"color\":\"#2a3f5f\"},\"hovermode\":\"closest\",\"hoverlabel\":{\"align\":\"left\"},\"paper_bgcolor\":\"white\",\"plot_bgcolor\":\"#E5ECF6\",\"polar\":{\"bgcolor\":\"#E5ECF6\",\"angularaxis\":{\"gridcolor\":\"white\",\"linecolor\":\"white\",\"ticks\":\"\"},\"radialaxis\":{\"gridcolor\":\"white\",\"linecolor\":\"white\",\"ticks\":\"\"}},\"ternary\":{\"bgcolor\":\"#E5ECF6\",\"aaxis\":{\"gridcolor\":\"white\",\"linecolor\":\"white\",\"ticks\":\"\"},\"baxis\":{\"gridcolor\":\"white\",\"linecolor\":\"white\",\"ticks\":\"\"},\"caxis\":{\"gridcolor\":\"white\",\"linecolor\":\"white\",\"ticks\":\"\"}},\"coloraxis\":{\"colorbar\":{\"outlinewidth\":0,\"ticks\":\"\"}},\"colorscale\":{\"sequential\":[[0.0,\"#0d0887\"],[0.1111111111111111,\"#46039f\"],[0.2222222222222222,\"#7201a8\"],[0.3333333333333333,\"#9c179e\"],[0.4444444444444444,\"#bd3786\"],[0.5555555555555556,\"#d8576b\"],[0.6666666666666666,\"#ed7953\"],[0.7777777777777778,\"#fb9f3a\"],[0.8888888888888888,\"#fdca26\"],[1.0,\"#f0f921\"]],\"sequentialminus\":[[0.0,\"#0d0887\"],[0.1111111111111111,\"#46039f\"],[0.2222222222222222,\"#7201a8\"],[0.3333333333333333,\"#9c179e\"],[0.4444444444444444,\"#bd3786\"],[0.5555555555555556,\"#d8576b\"],[0.6666666666666666,\"#ed7953\"],[0.7777777777777778,\"#fb9f3a\"],[0.8888888888888888,\"#fdca26\"],[1.0,\"#f0f921\"]],\"diverging\":[[0,\"#8e0152\"],[0.1,\"#c51b7d\"],[0.2,\"#de77ae\"],[0.3,\"#f1b6da\"],[0.4,\"#fde0ef\"],[0.5,\"#f7f7f7\"],[0.6,\"#e6f5d0\"],[0.7,\"#b8e186\"],[0.8,\"#7fbc41\"],[0.9,\"#4d9221\"],[1,\"#276419\"]]},\"xaxis\":{\"gridcolor\":\"white\",\"linecolor\":\"white\",\"ticks\":\"\",\"title\":{\"standoff\":15},\"zerolinecolor\":\"white\",\"automargin\":true,\"zerolinewidth\":2},\"yaxis\":{\"gridcolor\":\"white\",\"linecolor\":\"white\",\"ticks\":\"\",\"title\":{\"standoff\":15},\"zerolinecolor\":\"white\",\"automargin\":true,\"zerolinewidth\":2},\"scene\":{\"xaxis\":{\"backgroundcolor\":\"#E5ECF6\",\"gridcolor\":\"white\",\"linecolor\":\"white\",\"showbackground\":true,\"ticks\":\"\",\"zerolinecolor\":\"white\",\"gridwidth\":2},\"yaxis\":{\"backgroundcolor\":\"#E5ECF6\",\"gridcolor\":\"white\",\"linecolor\":\"white\",\"showbackground\":true,\"ticks\":\"\",\"zerolinecolor\":\"white\",\"gridwidth\":2},\"zaxis\":{\"backgroundcolor\":\"#E5ECF6\",\"gridcolor\":\"white\",\"linecolor\":\"white\",\"showbackground\":true,\"ticks\":\"\",\"zerolinecolor\":\"white\",\"gridwidth\":2}},\"shapedefaults\":{\"line\":{\"color\":\"#2a3f5f\"}},\"annotationdefaults\":{\"arrowcolor\":\"#2a3f5f\",\"arrowhead\":0,\"arrowwidth\":1},\"geo\":{\"bgcolor\":\"white\",\"landcolor\":\"#E5ECF6\",\"subunitcolor\":\"white\",\"showland\":true,\"showlakes\":true,\"lakecolor\":\"white\"},\"title\":{\"x\":0.05},\"mapbox\":{\"style\":\"light\"}}},\"width\":1200,\"height\":550},                        {\"responsive\": true}                    ).then(function(){\n",
       "                            \n",
       "var gd = document.getElementById('6f4d5eaf-5db3-48af-8142-68353ed44697');\n",
       "var x = new MutationObserver(function (mutations, observer) {{\n",
       "        var display = window.getComputedStyle(gd).display;\n",
       "        if (!display || display === 'none') {{\n",
       "            console.log([gd, 'removed!']);\n",
       "            Plotly.purge(gd);\n",
       "            observer.disconnect();\n",
       "        }}\n",
       "}});\n",
       "\n",
       "// Listen for the removal of the full notebook cells\n",
       "var notebookContainer = gd.closest('#notebook-container');\n",
       "if (notebookContainer) {{\n",
       "    x.observe(notebookContainer, {childList: true});\n",
       "}}\n",
       "\n",
       "// Listen for the clearing of the current output cell\n",
       "var outputEl = gd.closest('.output');\n",
       "if (outputEl) {{\n",
       "    x.observe(outputEl, {childList: true});\n",
       "}}\n",
       "\n",
       "                        })                };                });            </script>        </div>"
      ]
     },
     "metadata": {},
     "output_type": "display_data"
    }
   ],
   "source": [
    "tukey_df = get_stats(df, value_col=\"percent_of_expected\", p_min=0.01, batch_col=\"scheme\")\n",
    "p_table = p_value_table(tukey_df)\n",
    "p_table"
   ]
  },
  {
   "cell_type": "code",
   "execution_count": 57,
   "metadata": {},
   "outputs": [],
   "source": [
    "pio.write_image(p_table, outdir / \"p_value_table.jpg\", width=1200, height=550)"
   ]
  },
  {
   "cell_type": "markdown",
   "metadata": {},
   "source": [
    "## ANOVA and Tukey's HSD results when comparing O/E for each background for each tool"
   ]
  },
  {
   "cell_type": "code",
   "execution_count": 58,
   "metadata": {},
   "outputs": [
    {
     "name": "stdout",
     "output_type": "stream",
     "text": [
      "No significant results with a p-value < 0.01.\n"
     ]
    }
   ],
   "source": [
    "p_min = 0.01\n",
    "tools = runs.keys()\n",
    "treatments = [\"WB\",\"NWRB\",\"PWRB\"]\n",
    "report = defaultdict(list)\n",
    "any_significant_p = False\n",
    "for tool, files in runs.items():\n",
    "    # print(tool)\n",
    "\n",
    "    dfs = []\n",
    "    for treatment in treatments:\n",
    "        file_map = {expected:\"Expected\"}\n",
    "        for background,file in files.items():\n",
    "            if treatment == background:\n",
    "                file_map[file] = tool\n",
    "        # print(file_map)\n",
    "        plotter = FreyjaPlotter(\n",
    "            file_map=file_map,\n",
    "            # colormap=colormap,\n",
    "            summary_dict=summary_dict,\n",
    "        )\n",
    "        plotter = renameSamples(plotter)\n",
    "        df = plotter.plotPercentExpectedBox(summarized=True,return_df=True)\n",
    "        df[\"batch\"] = treatment\n",
    "        dfs.append(df)\n",
    "    anova_df = pd.concat(dfs)\n",
    "    # print(anova_df)\n",
    "    p_value, statistic, mean_info, tukey_df = get_stats(anova_df, value_col=\"percent_of_expected\", p_min=p_min, return_tuple=True)\n",
    "    if tukey_df is not None:\n",
    "        if p_value < p_min:\n",
    "            any_significant_p = True\n",
    "        report[tool] = f\"p-value={p_value}, F={statistic}\"\n",
    "        report[tool] = tukey_df\n",
    "        # print(tukey_df)\n",
    "if any_significant_p:\n",
    "    for tool, info in report.items():\n",
    "        print(tool)\n",
    "        for line in info:\n",
    "            print(line)\n",
    "        print(\"\\n\\n\")\n",
    "else:\n",
    "    print(f\"No significant results with a p-value < {p_min}.\")\n"
   ]
  },
  {
   "cell_type": "markdown",
   "metadata": {},
   "source": [
    "## ANOVA and Tukey's HSD results when comparing O/E for each background for each lineage"
   ]
  },
  {
   "cell_type": "code",
   "execution_count": 59,
   "metadata": {},
   "outputs": [
    {
     "name": "stdout",
     "output_type": "stream",
     "text": [
      "Wuhan-hu-1\n",
      "\n",
      "\n",
      "\n",
      "Alpha\n",
      "4\n",
      "[1.7909560765796443e-06, 14.204049898015432, 'WB (mean=90.0815007020202, std. dev.=26.296234414874373), NWRB (mean=72.21485155913977, std. dev.=21.20314535929819), and PWRB (mean=71.82217631249999, std. dev.=18.56435137773008), as determined by one-way ANOVA (F=14.204049898015432, p=1.7909560765796443e-06<0.01).',         WB   NWRB   PWRB\n",
      "WB    <NA>    0.0    0.0\n",
      "NWRB   0.0   <NA>  0.995\n",
      "PWRB   0.0  0.995   <NA>]\n",
      "        WB   NWRB   PWRB\n",
      "WB    <NA>    0.0    0.0\n",
      "NWRB   0.0   <NA>  0.995\n",
      "PWRB   0.0  0.995   <NA>\n",
      "\n",
      "\n",
      "\n",
      "Gamma\n",
      "4\n",
      "[0.00010274766957374775, 9.73827666366686, 'WB (mean=75.7026555493827, std. dev.=15.496448058787792), NWRB (mean=63.51943741509434, std. dev.=19.81286819679811), and PWRB (mean=60.58794284567901, std. dev.=20.863743930494056), as determined by one-way ANOVA (F=9.73827666366686, p=0.00010274766957374775<0.01).',          WB   NWRB   PWRB\n",
      "WB     <NA>  0.003    0.0\n",
      "NWRB  0.003   <NA>  0.701\n",
      "PWRB    0.0  0.701   <NA>]\n",
      "         WB   NWRB   PWRB\n",
      "WB     <NA>  0.003    0.0\n",
      "NWRB  0.003   <NA>  0.701\n",
      "PWRB    0.0  0.701   <NA>\n",
      "\n",
      "\n",
      "\n",
      "Delta\n",
      "\n",
      "\n",
      "\n",
      "Iota\n",
      "4\n",
      "[1.2290304086379659e-09, 23.531720990407564, 'WB (mean=66.64944863461538, std. dev.=25.76799890630963), NWRB (mean=87.78868479333335, std. dev.=31.988627963938722), and PWRB (mean=109.22217541975314, std. dev.=36.88705538614857), as determined by one-way ANOVA (F=23.531720990407564, p=1.2290304086379659e-09<0.01).',          WB   NWRB   PWRB\n",
      "WB     <NA>  0.003    0.0\n",
      "NWRB  0.003   <NA>  0.002\n",
      "PWRB    0.0  0.002   <NA>]\n",
      "         WB   NWRB   PWRB\n",
      "WB     <NA>  0.003    0.0\n",
      "NWRB  0.003   <NA>  0.002\n",
      "PWRB    0.0  0.002   <NA>\n",
      "\n",
      "\n",
      "\n",
      "BA.1.X\n",
      "\n",
      "\n",
      "\n",
      "BA.2.X\n",
      "\n",
      "\n",
      "\n",
      "BG.X\n",
      "\n",
      "\n",
      "\n",
      "BA.4.X\n",
      "\n",
      "\n",
      "\n",
      "BA.5.X\n",
      "4\n",
      "[3.736958355764207e-06, 13.12012880534652, 'WB (mean=72.83170664886363, std. dev.=31.99459857052788), NWRB (mean=61.27659124712646, std. dev.=32.36275674969405), and PWRB (mean=48.23251356934865, std. dev.=30.959382034955695), as determined by one-way ANOVA (F=13.12012880534652, p=3.736958355764207e-06<0.01).',          WB   NWRB  PWRB\n",
      "WB     <NA>  0.044   0.0\n",
      "NWRB  0.044   <NA>  0.02\n",
      "PWRB    0.0   0.02  <NA>]\n",
      "         WB   NWRB  PWRB\n",
      "WB     <NA>  0.044   0.0\n",
      "NWRB  0.044   <NA>  0.02\n",
      "PWRB    0.0   0.02  <NA>\n",
      "\n",
      "\n",
      "\n"
     ]
    }
   ],
   "source": [
    "p_min = 0.01\n",
    "lineages = [\"Wuhan-hu-1\",\"Alpha\",\"Gamma\",\"Delta\",\"Iota\",\"BA.1.X\",\"BA.2.X\",\"BG.X\",\"BA.4.X\",\"BA.5.X\"]\n",
    "# treatments = {\"Control\":\"WB\",\"Neg Spike-in\":\"NWRB\",\"Pos Spike-in\":\"PWRB\"}\n",
    "treatments = [\"WB\",\"NWRB\",\"PWRB\"]\n",
    "treatment_pairs = [[\"WB\",\"NWRB\"],[\"WB\",\"PWRB\"],[\"NWRB\",\"PWRB\"]]\n",
    "anova_results = {\"Lineage\":[],\"F-statistic\":[],\"p-value\":[]}\n",
    "tukey_results = defaultdict(list)\n",
    "for lineage in lineages:\n",
    "    print(lineage)\n",
    "    anova_results[\"Lineage\"].append(lineage)\n",
    "    tukey_results[\"Lineage\"].append(lineage)\n",
    "\n",
    "    dfs = []\n",
    "    for treatment in treatments:\n",
    "        file_map = {expected:\"Expected\"}\n",
    "        for tool, files in runs.items():\n",
    "            for name,file in files.items():\n",
    "                if treatment == name:\n",
    "                    file_map[file] = tool\n",
    "        # print(file_map)\n",
    "        plotter = FreyjaPlotter(\n",
    "            file_map=file_map,\n",
    "            # colormap=colormap,\n",
    "            summary_dict=summary_dict,\n",
    "        )\n",
    "        plotter = renameSamples(plotter)\n",
    "        df = plotter.plotPercentExpectedBox(summarized=True,return_df=True)\n",
    "        df = df[df[\"lineages\"]==lineage]\n",
    "        df[\"batch\"] = treatment\n",
    "        dfs.append(df)\n",
    "    anova_df = pd.concat(dfs)\n",
    "    p_value, statistic, mean_info, tukey_df = get_stats(anova_df, value_col=\"percent_of_expected\", p_min=p_min, return_tuple=True)\n",
    "    anova_results[\"F-statistic\"].append(statistic)\n",
    "    anova_results[\"p-value\"].append(p_value)\n",
    "\n",
    "    if tukey_df is not None:\n",
    "        print(tukey_df)\n",
    "        for treatment_pair in treatment_pairs:\n",
    "            pair_name = \" vs \".join(treatment_pair)\n",
    "            tukey_results[pair_name].append(tukey_df.loc[treatment_pair[0],treatment_pair[1]])\n",
    "    else:\n",
    "        for treatment_pair in treatment_pairs:\n",
    "            pair_name = \" vs \".join(treatment_pair)\n",
    "            tukey_results[pair_name].append(\"-\")\n",
    "    print(\"\\n\\n\")\n",
    "anova = pd.DataFrame(anova_results)\n",
    "tukey = pd.DataFrame(tukey_results)"
   ]
  },
  {
   "cell_type": "code",
   "execution_count": 60,
   "metadata": {},
   "outputs": [
    {
     "data": {
      "text/html": [
       "<div>\n",
       "<style scoped>\n",
       "    .dataframe tbody tr th:only-of-type {\n",
       "        vertical-align: middle;\n",
       "    }\n",
       "\n",
       "    .dataframe tbody tr th {\n",
       "        vertical-align: top;\n",
       "    }\n",
       "\n",
       "    .dataframe thead th {\n",
       "        text-align: right;\n",
       "    }\n",
       "</style>\n",
       "<table border=\"1\" class=\"dataframe\">\n",
       "  <thead>\n",
       "    <tr style=\"text-align: right;\">\n",
       "      <th></th>\n",
       "      <th>Lineage</th>\n",
       "      <th>F-statistic</th>\n",
       "      <th>p-value</th>\n",
       "      <th>WB vs NWRB</th>\n",
       "      <th>WB vs PWRB</th>\n",
       "      <th>NWRB vs PWRB</th>\n",
       "    </tr>\n",
       "  </thead>\n",
       "  <tbody>\n",
       "    <tr>\n",
       "      <th>0</th>\n",
       "      <td>Wuhan-hu-1</td>\n",
       "      <td>0.047882</td>\n",
       "      <td>9.532785e-01</td>\n",
       "      <td>-</td>\n",
       "      <td>-</td>\n",
       "      <td>-</td>\n",
       "    </tr>\n",
       "    <tr>\n",
       "      <th>1</th>\n",
       "      <td>Alpha</td>\n",
       "      <td>14.204050</td>\n",
       "      <td>1.790956e-06</td>\n",
       "      <td>0.0</td>\n",
       "      <td>0.0</td>\n",
       "      <td>0.995</td>\n",
       "    </tr>\n",
       "    <tr>\n",
       "      <th>2</th>\n",
       "      <td>Gamma</td>\n",
       "      <td>9.738277</td>\n",
       "      <td>1.027477e-04</td>\n",
       "      <td>0.003</td>\n",
       "      <td>0.0</td>\n",
       "      <td>0.701</td>\n",
       "    </tr>\n",
       "    <tr>\n",
       "      <th>3</th>\n",
       "      <td>Delta</td>\n",
       "      <td>2.996111</td>\n",
       "      <td>5.347146e-02</td>\n",
       "      <td>-</td>\n",
       "      <td>-</td>\n",
       "      <td>-</td>\n",
       "    </tr>\n",
       "    <tr>\n",
       "      <th>4</th>\n",
       "      <td>Iota</td>\n",
       "      <td>23.531721</td>\n",
       "      <td>1.229030e-09</td>\n",
       "      <td>0.003</td>\n",
       "      <td>0.0</td>\n",
       "      <td>0.002</td>\n",
       "    </tr>\n",
       "    <tr>\n",
       "      <th>5</th>\n",
       "      <td>BA.1.X</td>\n",
       "      <td>0.025037</td>\n",
       "      <td>9.752771e-01</td>\n",
       "      <td>-</td>\n",
       "      <td>-</td>\n",
       "      <td>-</td>\n",
       "    </tr>\n",
       "    <tr>\n",
       "      <th>6</th>\n",
       "      <td>BA.2.X</td>\n",
       "      <td>1.281574</td>\n",
       "      <td>2.793544e-01</td>\n",
       "      <td>-</td>\n",
       "      <td>-</td>\n",
       "      <td>-</td>\n",
       "    </tr>\n",
       "    <tr>\n",
       "      <th>7</th>\n",
       "      <td>BG.X</td>\n",
       "      <td>2.418755</td>\n",
       "      <td>9.176943e-02</td>\n",
       "      <td>-</td>\n",
       "      <td>-</td>\n",
       "      <td>-</td>\n",
       "    </tr>\n",
       "    <tr>\n",
       "      <th>8</th>\n",
       "      <td>BA.4.X</td>\n",
       "      <td>2.470374</td>\n",
       "      <td>8.652837e-02</td>\n",
       "      <td>-</td>\n",
       "      <td>-</td>\n",
       "      <td>-</td>\n",
       "    </tr>\n",
       "    <tr>\n",
       "      <th>9</th>\n",
       "      <td>BA.5.X</td>\n",
       "      <td>13.120129</td>\n",
       "      <td>3.736958e-06</td>\n",
       "      <td>0.044</td>\n",
       "      <td>0.0</td>\n",
       "      <td>0.02</td>\n",
       "    </tr>\n",
       "  </tbody>\n",
       "</table>\n",
       "</div>"
      ],
      "text/plain": [
       "      Lineage  F-statistic       p-value WB vs NWRB WB vs PWRB NWRB vs PWRB\n",
       "0  Wuhan-hu-1     0.047882  9.532785e-01          -          -            -\n",
       "1       Alpha    14.204050  1.790956e-06        0.0        0.0        0.995\n",
       "2       Gamma     9.738277  1.027477e-04      0.003        0.0        0.701\n",
       "3       Delta     2.996111  5.347146e-02          -          -            -\n",
       "4        Iota    23.531721  1.229030e-09      0.003        0.0        0.002\n",
       "5      BA.1.X     0.025037  9.752771e-01          -          -            -\n",
       "6      BA.2.X     1.281574  2.793544e-01          -          -            -\n",
       "7        BG.X     2.418755  9.176943e-02          -          -            -\n",
       "8      BA.4.X     2.470374  8.652837e-02          -          -            -\n",
       "9      BA.5.X    13.120129  3.736958e-06      0.044        0.0         0.02"
      ]
     },
     "execution_count": 60,
     "metadata": {},
     "output_type": "execute_result"
    }
   ],
   "source": [
    "# data for table 2 in paper\n",
    "table = anova.merge(tukey, on=\"Lineage\")\n",
    "table.to_csv(outdir/\"table2_data_lineage_anova_each_bg.csv\")\n",
    "table"
   ]
  }
 ],
 "metadata": {
  "kernelspec": {
   "display_name": "Python 3",
   "language": "python",
   "name": "python3"
  },
  "language_info": {
   "codemirror_mode": {
    "name": "ipython",
    "version": 3
   },
   "file_extension": ".py",
   "mimetype": "text/x-python",
   "name": "python",
   "nbconvert_exporter": "python",
   "pygments_lexer": "ipython3",
   "version": "3.10.14"
  }
 },
 "nbformat": 4,
 "nbformat_minor": 2
}
