{
 "cells": [
  {
   "cell_type": "code",
   "execution_count": 18,
   "metadata": {},
   "outputs": [],
   "source": [
    "from pathlib import Path # type: ignore\n",
    "from freyja_plot import FreyjaPlotter\n",
    "import plotly.express as px\n",
    "import plotly.graph_objects as go\n",
    "import plotly.io as pio\n",
    "import pandas as pd\n",
    "import numpy as np\n",
    "import sys\n",
    "\n",
    "if (module_path:=str(Path(\".\").absolute().resolve().parent)) not in sys.path:\n",
    "    sys.path.insert(0, module_path)\n",
    "from sample_info import colormap, summary_dict, expected, artic_runs as runs, plotting_dir, renameSamples, p_value_table"
   ]
  },
  {
   "cell_type": "code",
   "execution_count": 19,
   "metadata": {},
   "outputs": [],
   "source": [
    "outdir = plotting_dir / \"percent_of_expected/observed_vs_expected\"\n",
    "outdir.mkdir(exist_ok=True)"
   ]
  },
  {
   "cell_type": "code",
   "execution_count": 20,
   "metadata": {},
   "outputs": [],
   "source": [
    "file_map_freyja = {runs[\"Freyja\"][\"WB\"]: \"Freyja\", expected:\"Expected\"}\n",
    "freyja_plotter = FreyjaPlotter(file_map=file_map_freyja,summary_dict=summary_dict,colormap=colormap)\n",
    "freyja_plotter = renameSamples(freyja_plotter)"
   ]
  },
  {
   "cell_type": "markdown",
   "metadata": {},
   "source": [
    "### Plot O/E ratio (y-xis) as function of Expected relative abundance (x-axis) (freyja only)"
   ]
  },
  {
   "cell_type": "code",
   "execution_count": 21,
   "metadata": {},
   "outputs": [
    {
     "name": "stdout",
     "output_type": "stream",
     "text": [
      "percent_of_expected    3.506093\n",
      "dtype: object\n"
     ]
    },
    {
     "data": {
      "text/html": [
       "<div>\n",
       "<style scoped>\n",
       "    .dataframe tbody tr th:only-of-type {\n",
       "        vertical-align: middle;\n",
       "    }\n",
       "\n",
       "    .dataframe tbody tr th {\n",
       "        vertical-align: top;\n",
       "    }\n",
       "\n",
       "    .dataframe thead th {\n",
       "        text-align: right;\n",
       "    }\n",
       "</style>\n",
       "<table border=\"1\" class=\"dataframe\">\n",
       "  <thead>\n",
       "    <tr style=\"text-align: right;\">\n",
       "      <th></th>\n",
       "      <th>Sample name</th>\n",
       "      <th>lineages</th>\n",
       "      <th>abundances</th>\n",
       "      <th>scheme</th>\n",
       "      <th>expected_abundance</th>\n",
       "      <th>percent_of_expected</th>\n",
       "      <th>log2OE</th>\n",
       "    </tr>\n",
       "  </thead>\n",
       "  <tbody>\n",
       "    <tr>\n",
       "      <th>29</th>\n",
       "      <td>0adgio1</td>\n",
       "      <td>Alpha</td>\n",
       "      <td>0.266966</td>\n",
       "      <td>Freyja</td>\n",
       "      <td>0.250000</td>\n",
       "      <td>106.786544</td>\n",
       "      <td>6.738586</td>\n",
       "    </tr>\n",
       "    <tr>\n",
       "      <th>72</th>\n",
       "      <td>0adgio1-2</td>\n",
       "      <td>Alpha</td>\n",
       "      <td>0.145397</td>\n",
       "      <td>Freyja</td>\n",
       "      <td>0.142857</td>\n",
       "      <td>101.777984</td>\n",
       "      <td>6.669282</td>\n",
       "    </tr>\n",
       "    <tr>\n",
       "      <th>11</th>\n",
       "      <td>0adgio1o2o3o4o5</td>\n",
       "      <td>Alpha</td>\n",
       "      <td>0.065740</td>\n",
       "      <td>Freyja</td>\n",
       "      <td>0.066667</td>\n",
       "      <td>98.61048</td>\n",
       "      <td>6.623669</td>\n",
       "    </tr>\n",
       "    <tr>\n",
       "      <th>47</th>\n",
       "      <td>0agio1o2</td>\n",
       "      <td>Alpha</td>\n",
       "      <td>0.065981</td>\n",
       "      <td>Freyja</td>\n",
       "      <td>0.062500</td>\n",
       "      <td>105.570064</td>\n",
       "      <td>6.722057</td>\n",
       "    </tr>\n",
       "    <tr>\n",
       "      <th>113</th>\n",
       "      <td>0aio1o2o3o4o5</td>\n",
       "      <td>Alpha</td>\n",
       "      <td>0.132063</td>\n",
       "      <td>Freyja</td>\n",
       "      <td>0.125000</td>\n",
       "      <td>105.650432</td>\n",
       "      <td>6.723155</td>\n",
       "    </tr>\n",
       "    <tr>\n",
       "      <th>...</th>\n",
       "      <td>...</td>\n",
       "      <td>...</td>\n",
       "      <td>...</td>\n",
       "      <td>...</td>\n",
       "      <td>...</td>\n",
       "      <td>...</td>\n",
       "      <td>...</td>\n",
       "    </tr>\n",
       "    <tr>\n",
       "      <th>124</th>\n",
       "      <td>0-3</td>\n",
       "      <td>Wuhan-hu-1</td>\n",
       "      <td>0.492819</td>\n",
       "      <td>Freyja</td>\n",
       "      <td>1.000000</td>\n",
       "      <td>49.281895</td>\n",
       "      <td>5.622986</td>\n",
       "    </tr>\n",
       "    <tr>\n",
       "      <th>127</th>\n",
       "      <td>0-4</td>\n",
       "      <td>Wuhan-hu-1</td>\n",
       "      <td>0.986922</td>\n",
       "      <td>Freyja</td>\n",
       "      <td>1.000000</td>\n",
       "      <td>98.692177</td>\n",
       "      <td>6.624864</td>\n",
       "    </tr>\n",
       "    <tr>\n",
       "      <th>78</th>\n",
       "      <td>0adgio1-2</td>\n",
       "      <td>Wuhan-hu-1</td>\n",
       "      <td>0.010017</td>\n",
       "      <td>Freyja</td>\n",
       "      <td>0.285714</td>\n",
       "      <td>3.506093</td>\n",
       "      <td>1.809864</td>\n",
       "    </tr>\n",
       "    <tr>\n",
       "      <th>16</th>\n",
       "      <td>0adgio1o2o3o4o5</td>\n",
       "      <td>Wuhan-hu-1</td>\n",
       "      <td>0.018629</td>\n",
       "      <td>Freyja</td>\n",
       "      <td>0.133333</td>\n",
       "      <td>13.971592</td>\n",
       "      <td>3.804425</td>\n",
       "    </tr>\n",
       "    <tr>\n",
       "      <th>85</th>\n",
       "      <td>0o5o3o4</td>\n",
       "      <td>Wuhan-hu-1</td>\n",
       "      <td>0.144696</td>\n",
       "      <td>Freyja</td>\n",
       "      <td>0.375000</td>\n",
       "      <td>38.585709</td>\n",
       "      <td>5.269995</td>\n",
       "    </tr>\n",
       "  </tbody>\n",
       "</table>\n",
       "<p>94 rows × 7 columns</p>\n",
       "</div>"
      ],
      "text/plain": [
       "         Sample name    lineages  abundances  scheme  expected_abundance  \\\n",
       "29           0adgio1       Alpha    0.266966  Freyja            0.250000   \n",
       "72         0adgio1-2       Alpha    0.145397  Freyja            0.142857   \n",
       "11   0adgio1o2o3o4o5       Alpha    0.065740  Freyja            0.066667   \n",
       "47          0agio1o2       Alpha    0.065981  Freyja            0.062500   \n",
       "113    0aio1o2o3o4o5       Alpha    0.132063  Freyja            0.125000   \n",
       "..               ...         ...         ...     ...                 ...   \n",
       "124              0-3  Wuhan-hu-1    0.492819  Freyja            1.000000   \n",
       "127              0-4  Wuhan-hu-1    0.986922  Freyja            1.000000   \n",
       "78         0adgio1-2  Wuhan-hu-1    0.010017  Freyja            0.285714   \n",
       "16   0adgio1o2o3o4o5  Wuhan-hu-1    0.018629  Freyja            0.133333   \n",
       "85           0o5o3o4  Wuhan-hu-1    0.144696  Freyja            0.375000   \n",
       "\n",
       "    percent_of_expected    log2OE  \n",
       "29           106.786544  6.738586  \n",
       "72           101.777984  6.669282  \n",
       "11             98.61048  6.623669  \n",
       "47           105.570064  6.722057  \n",
       "113          105.650432  6.723155  \n",
       "..                  ...       ...  \n",
       "124           49.281895  5.622986  \n",
       "127           98.692177  6.624864  \n",
       "78             3.506093  1.809864  \n",
       "16            13.971592  3.804425  \n",
       "85            38.585709  5.269995  \n",
       "\n",
       "[94 rows x 7 columns]"
      ]
     },
     "execution_count": 21,
     "metadata": {},
     "output_type": "execute_result"
    }
   ],
   "source": [
    "df = freyja_plotter.plotPercentExpectedBox(summarized=True,return_df=True)\n",
    "print(df[[\"percent_of_expected\"]].min())\n",
    "df[\"log2OE\"] = np.log2(list(df[\"percent_of_expected\"]))\n",
    "df"
   ]
  },
  {
   "cell_type": "code",
   "execution_count": 22,
   "metadata": {},
   "outputs": [
    {
     "data": {
      "application/vnd.plotly.v1+json": {
       "config": {
        "plotlyServerURL": "https://plot.ly"
       },
       "data": [
        {
         "hovertemplate": "<b>%{hovertext}</b><br><br>expected_abundance=%{x}<br>log2OE=%{y}<extra></extra>",
         "hovertext": [
          "0adgio1",
          "0adgio1-2",
          "0adgio1o2o3o4o5",
          "0agio1o2",
          "0aio1o2o3o4o5",
          "a",
          "a-2",
          "adgio1o2o3",
          "agio3o4o5",
          "0adgio1",
          "0adgio1-2",
          "0adgio1o2o3o4o5",
          "0agio1o2",
          "0aio1o2o3o4o5",
          "adgio1o2o3",
          "o1-2",
          "o1o2",
          "o1o2o3o4o5",
          "0adgio1o2o3o4o5",
          "0agio1o2",
          "0aio1o2o3o4o5",
          "adgio1o2o3",
          "o1o2",
          "o1o2o3o4o5",
          "o2-2",
          "o2-3",
          "o2o3o4o5",
          "o2o3o4o5-2",
          "o2o3o4o5-3",
          "0adgio1o2o3o4o5",
          "0aio1o2o3o4o5",
          "0o5o3o4",
          "agio3o4o5",
          "o1o2o3o4o5",
          "o2o3o4o5",
          "o2o3o4o5-2",
          "o2o3o4o5-3",
          "o4",
          "o4-2",
          "o4-3",
          "0adgio1o2o3o4o5",
          "0aio1o2o3o4o5",
          "0o5o3o4",
          "agio3o4o5",
          "o1o2o3o4o5",
          "o2o3o4o5",
          "o2o3o4o5-2",
          "o2o3o4o5-3",
          "o5",
          "o5-2",
          "o5-3",
          "0adgio1o2o3o4o5",
          "0aio1o2o3o4o5",
          "0o5o3o4",
          "adgio1o2o3",
          "agio3o4o5",
          "o1o2o3o4o5",
          "o2o3o4o5",
          "o2o3o4o5-2",
          "o2o3o4o5-3",
          "o3",
          "o3-2",
          "o3-3",
          "o3-4",
          "0adgio1",
          "0adgio1-2",
          "0adgio1o2o3o4o5",
          "adgio1o2o3",
          "d",
          "d-2",
          "0adgio1",
          "0adgio1-2",
          "0adgio1o2o3o4o5",
          "0agio1o2",
          "adgio1o2o3",
          "agio3o4o5",
          "g",
          "g-2",
          "0adgio1",
          "0adgio1-2",
          "0adgio1o2o3o4o5",
          "0agio1o2",
          "0aio1o2o3o4o5",
          "adgio1o2o3",
          "agio3o4o5",
          "i",
          "i-2",
          "0",
          "0-2",
          "0-3",
          "0-4",
          "0adgio1-2",
          "0adgio1o2o3o4o5",
          "0o5o3o4"
         ],
         "legendgroup": "",
         "marker": {
          "color": "#636efa",
          "symbol": "circle"
         },
         "mode": "markers",
         "name": "",
         "orientation": "v",
         "showlegend": false,
         "type": "scatter",
         "x": [
          0.25,
          0.14285714285714288,
          0.06666666666666667,
          0.0625,
          0.125,
          1,
          1,
          0.0625,
          0.1875,
          0.125,
          0.14285714285714288,
          0.06666666666666667,
          0.1875,
          0.125,
          0.1875,
          1,
          0.375,
          0.25,
          0.13333333333333333,
          0.3125,
          0.125,
          0.1875,
          0.625,
          0.25,
          1,
          1,
          0.25,
          0.25,
          0.25,
          0.13333333333333333,
          0.125,
          0.1875,
          0.1875,
          0.125,
          0.1875,
          0.25,
          0.25,
          1,
          1,
          1,
          0.13333333333333333,
          0.125,
          0.25,
          0.1875,
          0.25,
          0.3125,
          0.25,
          0.25,
          1,
          1,
          1,
          0.13333333333333333,
          0.125,
          0.1875,
          0.25,
          0.125,
          0.125,
          0.25,
          0.25,
          0.25,
          1,
          1,
          1,
          1,
          0.1875,
          0.14285714285714288,
          0.06666666666666667,
          0.1875,
          1,
          1,
          0.0625,
          0.14285714285714288,
          0.06666666666666667,
          0.1875,
          0.0625,
          0.125,
          1,
          1,
          0.125,
          0.14285714285714288,
          0.06666666666666667,
          0.125,
          0.125,
          0.0625,
          0.1875,
          1,
          1,
          1,
          1,
          1,
          1,
          0.28571428571428575,
          0.13333333333333333,
          0.375
         ],
         "xaxis": "x",
         "y": [
          6.73858605658003,
          6.669281709841622,
          6.623669074559286,
          6.72205698430493,
          6.723154856176622,
          6.626231318155866,
          6.6278296449394745,
          7.086305845200806,
          6.498275210141436,
          5.529178523178629,
          5.414309227882999,
          4.721071018273063,
          5.315041184685649,
          5.029471968461062,
          5.666192732530178,
          6.615552750031796,
          5.87694108975898,
          5.721934971250178,
          5.668472037903824,
          6.484847778070424,
          5.539316661232863,
          6.871335199441404,
          6.773369629089615,
          6.416048136302358,
          6.606676676636888,
          6.606311485372483,
          5.657585474420172,
          6.1149787911709295,
          5.352524223412671,
          7.675272913384141,
          7.474428774594972,
          7.290681099349702,
          7.3988861733012925,
          7.552374550188444,
          7.399204414448456,
          7.098581592453116,
          7.61161382794653,
          6.623291447894024,
          6.623405047710743,
          6.623628343394689,
          6.289468351455764,
          6.1475699747429315,
          6.201520558115487,
          6.247652818406282,
          6.839127783156162,
          6.653563977820314,
          6.618902988214575,
          6.422089464227526,
          6.609792482627812,
          6.621754622961981,
          6.625357016331506,
          5.78025595758858,
          6.118948711721629,
          5.428505833578053,
          6.245049505352659,
          5.775912318044113,
          5.6362415522824465,
          6.314460672862666,
          6.269829626456751,
          5.944516467818335,
          6.627747190589288,
          6.627360210744046,
          6.6272098672989745,
          6.6270394678767,
          5.719164306662137,
          5.563300653577059,
          5.228266898402871,
          5.991887924827382,
          6.62183109220071,
          6.621627765912261,
          6.346439836920701,
          6.308281357593748,
          6.144690155097151,
          6.506203649090829,
          6.677058055690094,
          6.146710609077254,
          6.632535583777548,
          6.63116200647873,
          6.468635445967137,
          6.388556709366948,
          6.094050230646851,
          6.5919905153674625,
          6.329870733182452,
          6.6462225761548925,
          6.09312304230358,
          6.622878356752894,
          6.620985750052028,
          5.620836162742405,
          6.618645604435335,
          5.622985826864563,
          6.624863826472755,
          1.8098644701954734,
          3.804424565234746,
          5.26999472239765
         ],
         "yaxis": "y"
        },
        {
         "alignmentgroup": "True",
         "hovertemplate": "<b>%{hovertext}</b><br><br>expected_abundance=%{x}<extra></extra>",
         "hovertext": [
          "0adgio1",
          "0adgio1-2",
          "0adgio1o2o3o4o5",
          "0agio1o2",
          "0aio1o2o3o4o5",
          "a",
          "a-2",
          "adgio1o2o3",
          "agio3o4o5",
          "0adgio1",
          "0adgio1-2",
          "0adgio1o2o3o4o5",
          "0agio1o2",
          "0aio1o2o3o4o5",
          "adgio1o2o3",
          "o1-2",
          "o1o2",
          "o1o2o3o4o5",
          "0adgio1o2o3o4o5",
          "0agio1o2",
          "0aio1o2o3o4o5",
          "adgio1o2o3",
          "o1o2",
          "o1o2o3o4o5",
          "o2-2",
          "o2-3",
          "o2o3o4o5",
          "o2o3o4o5-2",
          "o2o3o4o5-3",
          "0adgio1o2o3o4o5",
          "0aio1o2o3o4o5",
          "0o5o3o4",
          "agio3o4o5",
          "o1o2o3o4o5",
          "o2o3o4o5",
          "o2o3o4o5-2",
          "o2o3o4o5-3",
          "o4",
          "o4-2",
          "o4-3",
          "0adgio1o2o3o4o5",
          "0aio1o2o3o4o5",
          "0o5o3o4",
          "agio3o4o5",
          "o1o2o3o4o5",
          "o2o3o4o5",
          "o2o3o4o5-2",
          "o2o3o4o5-3",
          "o5",
          "o5-2",
          "o5-3",
          "0adgio1o2o3o4o5",
          "0aio1o2o3o4o5",
          "0o5o3o4",
          "adgio1o2o3",
          "agio3o4o5",
          "o1o2o3o4o5",
          "o2o3o4o5",
          "o2o3o4o5-2",
          "o2o3o4o5-3",
          "o3",
          "o3-2",
          "o3-3",
          "o3-4",
          "0adgio1",
          "0adgio1-2",
          "0adgio1o2o3o4o5",
          "adgio1o2o3",
          "d",
          "d-2",
          "0adgio1",
          "0adgio1-2",
          "0adgio1o2o3o4o5",
          "0agio1o2",
          "adgio1o2o3",
          "agio3o4o5",
          "g",
          "g-2",
          "0adgio1",
          "0adgio1-2",
          "0adgio1o2o3o4o5",
          "0agio1o2",
          "0aio1o2o3o4o5",
          "adgio1o2o3",
          "agio3o4o5",
          "i",
          "i-2",
          "0",
          "0-2",
          "0-3",
          "0-4",
          "0adgio1-2",
          "0adgio1o2o3o4o5",
          "0o5o3o4"
         ],
         "legendgroup": "",
         "marker": {
          "color": "#636efa",
          "symbol": "circle"
         },
         "name": "",
         "offsetgroup": "",
         "scalegroup": "x",
         "showlegend": false,
         "type": "violin",
         "x": [
          0.25,
          0.14285714285714288,
          0.06666666666666667,
          0.0625,
          0.125,
          1,
          1,
          0.0625,
          0.1875,
          0.125,
          0.14285714285714288,
          0.06666666666666667,
          0.1875,
          0.125,
          0.1875,
          1,
          0.375,
          0.25,
          0.13333333333333333,
          0.3125,
          0.125,
          0.1875,
          0.625,
          0.25,
          1,
          1,
          0.25,
          0.25,
          0.25,
          0.13333333333333333,
          0.125,
          0.1875,
          0.1875,
          0.125,
          0.1875,
          0.25,
          0.25,
          1,
          1,
          1,
          0.13333333333333333,
          0.125,
          0.25,
          0.1875,
          0.25,
          0.3125,
          0.25,
          0.25,
          1,
          1,
          1,
          0.13333333333333333,
          0.125,
          0.1875,
          0.25,
          0.125,
          0.125,
          0.25,
          0.25,
          0.25,
          1,
          1,
          1,
          1,
          0.1875,
          0.14285714285714288,
          0.06666666666666667,
          0.1875,
          1,
          1,
          0.0625,
          0.14285714285714288,
          0.06666666666666667,
          0.1875,
          0.0625,
          0.125,
          1,
          1,
          0.125,
          0.14285714285714288,
          0.06666666666666667,
          0.125,
          0.125,
          0.0625,
          0.1875,
          1,
          1,
          1,
          1,
          1,
          1,
          0.28571428571428575,
          0.13333333333333333,
          0.375
         ],
         "xaxis": "x3",
         "yaxis": "y3"
        },
        {
         "alignmentgroup": "True",
         "hovertemplate": "<b>%{hovertext}</b><br><br>log2OE=%{y}<extra></extra>",
         "hovertext": [
          "0adgio1",
          "0adgio1-2",
          "0adgio1o2o3o4o5",
          "0agio1o2",
          "0aio1o2o3o4o5",
          "a",
          "a-2",
          "adgio1o2o3",
          "agio3o4o5",
          "0adgio1",
          "0adgio1-2",
          "0adgio1o2o3o4o5",
          "0agio1o2",
          "0aio1o2o3o4o5",
          "adgio1o2o3",
          "o1-2",
          "o1o2",
          "o1o2o3o4o5",
          "0adgio1o2o3o4o5",
          "0agio1o2",
          "0aio1o2o3o4o5",
          "adgio1o2o3",
          "o1o2",
          "o1o2o3o4o5",
          "o2-2",
          "o2-3",
          "o2o3o4o5",
          "o2o3o4o5-2",
          "o2o3o4o5-3",
          "0adgio1o2o3o4o5",
          "0aio1o2o3o4o5",
          "0o5o3o4",
          "agio3o4o5",
          "o1o2o3o4o5",
          "o2o3o4o5",
          "o2o3o4o5-2",
          "o2o3o4o5-3",
          "o4",
          "o4-2",
          "o4-3",
          "0adgio1o2o3o4o5",
          "0aio1o2o3o4o5",
          "0o5o3o4",
          "agio3o4o5",
          "o1o2o3o4o5",
          "o2o3o4o5",
          "o2o3o4o5-2",
          "o2o3o4o5-3",
          "o5",
          "o5-2",
          "o5-3",
          "0adgio1o2o3o4o5",
          "0aio1o2o3o4o5",
          "0o5o3o4",
          "adgio1o2o3",
          "agio3o4o5",
          "o1o2o3o4o5",
          "o2o3o4o5",
          "o2o3o4o5-2",
          "o2o3o4o5-3",
          "o3",
          "o3-2",
          "o3-3",
          "o3-4",
          "0adgio1",
          "0adgio1-2",
          "0adgio1o2o3o4o5",
          "adgio1o2o3",
          "d",
          "d-2",
          "0adgio1",
          "0adgio1-2",
          "0adgio1o2o3o4o5",
          "0agio1o2",
          "adgio1o2o3",
          "agio3o4o5",
          "g",
          "g-2",
          "0adgio1",
          "0adgio1-2",
          "0adgio1o2o3o4o5",
          "0agio1o2",
          "0aio1o2o3o4o5",
          "adgio1o2o3",
          "agio3o4o5",
          "i",
          "i-2",
          "0",
          "0-2",
          "0-3",
          "0-4",
          "0adgio1-2",
          "0adgio1o2o3o4o5",
          "0o5o3o4"
         ],
         "legendgroup": "",
         "marker": {
          "color": "#636efa",
          "symbol": "circle"
         },
         "name": "",
         "offsetgroup": "",
         "scalegroup": "y",
         "showlegend": false,
         "type": "violin",
         "xaxis": "x2",
         "y": [
          6.73858605658003,
          6.669281709841622,
          6.623669074559286,
          6.72205698430493,
          6.723154856176622,
          6.626231318155866,
          6.6278296449394745,
          7.086305845200806,
          6.498275210141436,
          5.529178523178629,
          5.414309227882999,
          4.721071018273063,
          5.315041184685649,
          5.029471968461062,
          5.666192732530178,
          6.615552750031796,
          5.87694108975898,
          5.721934971250178,
          5.668472037903824,
          6.484847778070424,
          5.539316661232863,
          6.871335199441404,
          6.773369629089615,
          6.416048136302358,
          6.606676676636888,
          6.606311485372483,
          5.657585474420172,
          6.1149787911709295,
          5.352524223412671,
          7.675272913384141,
          7.474428774594972,
          7.290681099349702,
          7.3988861733012925,
          7.552374550188444,
          7.399204414448456,
          7.098581592453116,
          7.61161382794653,
          6.623291447894024,
          6.623405047710743,
          6.623628343394689,
          6.289468351455764,
          6.1475699747429315,
          6.201520558115487,
          6.247652818406282,
          6.839127783156162,
          6.653563977820314,
          6.618902988214575,
          6.422089464227526,
          6.609792482627812,
          6.621754622961981,
          6.625357016331506,
          5.78025595758858,
          6.118948711721629,
          5.428505833578053,
          6.245049505352659,
          5.775912318044113,
          5.6362415522824465,
          6.314460672862666,
          6.269829626456751,
          5.944516467818335,
          6.627747190589288,
          6.627360210744046,
          6.6272098672989745,
          6.6270394678767,
          5.719164306662137,
          5.563300653577059,
          5.228266898402871,
          5.991887924827382,
          6.62183109220071,
          6.621627765912261,
          6.346439836920701,
          6.308281357593748,
          6.144690155097151,
          6.506203649090829,
          6.677058055690094,
          6.146710609077254,
          6.632535583777548,
          6.63116200647873,
          6.468635445967137,
          6.388556709366948,
          6.094050230646851,
          6.5919905153674625,
          6.329870733182452,
          6.6462225761548925,
          6.09312304230358,
          6.622878356752894,
          6.620985750052028,
          5.620836162742405,
          6.618645604435335,
          5.622985826864563,
          6.624863826472755,
          1.8098644701954734,
          3.804424565234746,
          5.26999472239765
         ],
         "yaxis": "y2"
        }
       ],
       "layout": {
        "legend": {
         "tracegroupgap": 0
        },
        "margin": {
         "t": 60
        },
        "template": {
         "data": {
          "bar": [
           {
            "error_x": {
             "color": "#2a3f5f"
            },
            "error_y": {
             "color": "#2a3f5f"
            },
            "marker": {
             "line": {
              "color": "#E5ECF6",
              "width": 0.5
             },
             "pattern": {
              "fillmode": "overlay",
              "size": 10,
              "solidity": 0.2
             }
            },
            "type": "bar"
           }
          ],
          "barpolar": [
           {
            "marker": {
             "line": {
              "color": "#E5ECF6",
              "width": 0.5
             },
             "pattern": {
              "fillmode": "overlay",
              "size": 10,
              "solidity": 0.2
             }
            },
            "type": "barpolar"
           }
          ],
          "carpet": [
           {
            "aaxis": {
             "endlinecolor": "#2a3f5f",
             "gridcolor": "white",
             "linecolor": "white",
             "minorgridcolor": "white",
             "startlinecolor": "#2a3f5f"
            },
            "baxis": {
             "endlinecolor": "#2a3f5f",
             "gridcolor": "white",
             "linecolor": "white",
             "minorgridcolor": "white",
             "startlinecolor": "#2a3f5f"
            },
            "type": "carpet"
           }
          ],
          "choropleth": [
           {
            "colorbar": {
             "outlinewidth": 0,
             "ticks": ""
            },
            "type": "choropleth"
           }
          ],
          "contour": [
           {
            "colorbar": {
             "outlinewidth": 0,
             "ticks": ""
            },
            "colorscale": [
             [
              0,
              "#0d0887"
             ],
             [
              0.1111111111111111,
              "#46039f"
             ],
             [
              0.2222222222222222,
              "#7201a8"
             ],
             [
              0.3333333333333333,
              "#9c179e"
             ],
             [
              0.4444444444444444,
              "#bd3786"
             ],
             [
              0.5555555555555556,
              "#d8576b"
             ],
             [
              0.6666666666666666,
              "#ed7953"
             ],
             [
              0.7777777777777778,
              "#fb9f3a"
             ],
             [
              0.8888888888888888,
              "#fdca26"
             ],
             [
              1,
              "#f0f921"
             ]
            ],
            "type": "contour"
           }
          ],
          "contourcarpet": [
           {
            "colorbar": {
             "outlinewidth": 0,
             "ticks": ""
            },
            "type": "contourcarpet"
           }
          ],
          "heatmap": [
           {
            "colorbar": {
             "outlinewidth": 0,
             "ticks": ""
            },
            "colorscale": [
             [
              0,
              "#0d0887"
             ],
             [
              0.1111111111111111,
              "#46039f"
             ],
             [
              0.2222222222222222,
              "#7201a8"
             ],
             [
              0.3333333333333333,
              "#9c179e"
             ],
             [
              0.4444444444444444,
              "#bd3786"
             ],
             [
              0.5555555555555556,
              "#d8576b"
             ],
             [
              0.6666666666666666,
              "#ed7953"
             ],
             [
              0.7777777777777778,
              "#fb9f3a"
             ],
             [
              0.8888888888888888,
              "#fdca26"
             ],
             [
              1,
              "#f0f921"
             ]
            ],
            "type": "heatmap"
           }
          ],
          "heatmapgl": [
           {
            "colorbar": {
             "outlinewidth": 0,
             "ticks": ""
            },
            "colorscale": [
             [
              0,
              "#0d0887"
             ],
             [
              0.1111111111111111,
              "#46039f"
             ],
             [
              0.2222222222222222,
              "#7201a8"
             ],
             [
              0.3333333333333333,
              "#9c179e"
             ],
             [
              0.4444444444444444,
              "#bd3786"
             ],
             [
              0.5555555555555556,
              "#d8576b"
             ],
             [
              0.6666666666666666,
              "#ed7953"
             ],
             [
              0.7777777777777778,
              "#fb9f3a"
             ],
             [
              0.8888888888888888,
              "#fdca26"
             ],
             [
              1,
              "#f0f921"
             ]
            ],
            "type": "heatmapgl"
           }
          ],
          "histogram": [
           {
            "marker": {
             "pattern": {
              "fillmode": "overlay",
              "size": 10,
              "solidity": 0.2
             }
            },
            "type": "histogram"
           }
          ],
          "histogram2d": [
           {
            "colorbar": {
             "outlinewidth": 0,
             "ticks": ""
            },
            "colorscale": [
             [
              0,
              "#0d0887"
             ],
             [
              0.1111111111111111,
              "#46039f"
             ],
             [
              0.2222222222222222,
              "#7201a8"
             ],
             [
              0.3333333333333333,
              "#9c179e"
             ],
             [
              0.4444444444444444,
              "#bd3786"
             ],
             [
              0.5555555555555556,
              "#d8576b"
             ],
             [
              0.6666666666666666,
              "#ed7953"
             ],
             [
              0.7777777777777778,
              "#fb9f3a"
             ],
             [
              0.8888888888888888,
              "#fdca26"
             ],
             [
              1,
              "#f0f921"
             ]
            ],
            "type": "histogram2d"
           }
          ],
          "histogram2dcontour": [
           {
            "colorbar": {
             "outlinewidth": 0,
             "ticks": ""
            },
            "colorscale": [
             [
              0,
              "#0d0887"
             ],
             [
              0.1111111111111111,
              "#46039f"
             ],
             [
              0.2222222222222222,
              "#7201a8"
             ],
             [
              0.3333333333333333,
              "#9c179e"
             ],
             [
              0.4444444444444444,
              "#bd3786"
             ],
             [
              0.5555555555555556,
              "#d8576b"
             ],
             [
              0.6666666666666666,
              "#ed7953"
             ],
             [
              0.7777777777777778,
              "#fb9f3a"
             ],
             [
              0.8888888888888888,
              "#fdca26"
             ],
             [
              1,
              "#f0f921"
             ]
            ],
            "type": "histogram2dcontour"
           }
          ],
          "mesh3d": [
           {
            "colorbar": {
             "outlinewidth": 0,
             "ticks": ""
            },
            "type": "mesh3d"
           }
          ],
          "parcoords": [
           {
            "line": {
             "colorbar": {
              "outlinewidth": 0,
              "ticks": ""
             }
            },
            "type": "parcoords"
           }
          ],
          "pie": [
           {
            "automargin": true,
            "type": "pie"
           }
          ],
          "scatter": [
           {
            "fillpattern": {
             "fillmode": "overlay",
             "size": 10,
             "solidity": 0.2
            },
            "type": "scatter"
           }
          ],
          "scatter3d": [
           {
            "line": {
             "colorbar": {
              "outlinewidth": 0,
              "ticks": ""
             }
            },
            "marker": {
             "colorbar": {
              "outlinewidth": 0,
              "ticks": ""
             }
            },
            "type": "scatter3d"
           }
          ],
          "scattercarpet": [
           {
            "marker": {
             "colorbar": {
              "outlinewidth": 0,
              "ticks": ""
             }
            },
            "type": "scattercarpet"
           }
          ],
          "scattergeo": [
           {
            "marker": {
             "colorbar": {
              "outlinewidth": 0,
              "ticks": ""
             }
            },
            "type": "scattergeo"
           }
          ],
          "scattergl": [
           {
            "marker": {
             "colorbar": {
              "outlinewidth": 0,
              "ticks": ""
             }
            },
            "type": "scattergl"
           }
          ],
          "scattermapbox": [
           {
            "marker": {
             "colorbar": {
              "outlinewidth": 0,
              "ticks": ""
             }
            },
            "type": "scattermapbox"
           }
          ],
          "scatterpolar": [
           {
            "marker": {
             "colorbar": {
              "outlinewidth": 0,
              "ticks": ""
             }
            },
            "type": "scatterpolar"
           }
          ],
          "scatterpolargl": [
           {
            "marker": {
             "colorbar": {
              "outlinewidth": 0,
              "ticks": ""
             }
            },
            "type": "scatterpolargl"
           }
          ],
          "scatterternary": [
           {
            "marker": {
             "colorbar": {
              "outlinewidth": 0,
              "ticks": ""
             }
            },
            "type": "scatterternary"
           }
          ],
          "surface": [
           {
            "colorbar": {
             "outlinewidth": 0,
             "ticks": ""
            },
            "colorscale": [
             [
              0,
              "#0d0887"
             ],
             [
              0.1111111111111111,
              "#46039f"
             ],
             [
              0.2222222222222222,
              "#7201a8"
             ],
             [
              0.3333333333333333,
              "#9c179e"
             ],
             [
              0.4444444444444444,
              "#bd3786"
             ],
             [
              0.5555555555555556,
              "#d8576b"
             ],
             [
              0.6666666666666666,
              "#ed7953"
             ],
             [
              0.7777777777777778,
              "#fb9f3a"
             ],
             [
              0.8888888888888888,
              "#fdca26"
             ],
             [
              1,
              "#f0f921"
             ]
            ],
            "type": "surface"
           }
          ],
          "table": [
           {
            "cells": {
             "fill": {
              "color": "#EBF0F8"
             },
             "line": {
              "color": "white"
             }
            },
            "header": {
             "fill": {
              "color": "#C8D4E3"
             },
             "line": {
              "color": "white"
             }
            },
            "type": "table"
           }
          ]
         },
         "layout": {
          "annotationdefaults": {
           "arrowcolor": "#2a3f5f",
           "arrowhead": 0,
           "arrowwidth": 1
          },
          "autotypenumbers": "strict",
          "coloraxis": {
           "colorbar": {
            "outlinewidth": 0,
            "ticks": ""
           }
          },
          "colorscale": {
           "diverging": [
            [
             0,
             "#8e0152"
            ],
            [
             0.1,
             "#c51b7d"
            ],
            [
             0.2,
             "#de77ae"
            ],
            [
             0.3,
             "#f1b6da"
            ],
            [
             0.4,
             "#fde0ef"
            ],
            [
             0.5,
             "#f7f7f7"
            ],
            [
             0.6,
             "#e6f5d0"
            ],
            [
             0.7,
             "#b8e186"
            ],
            [
             0.8,
             "#7fbc41"
            ],
            [
             0.9,
             "#4d9221"
            ],
            [
             1,
             "#276419"
            ]
           ],
           "sequential": [
            [
             0,
             "#0d0887"
            ],
            [
             0.1111111111111111,
             "#46039f"
            ],
            [
             0.2222222222222222,
             "#7201a8"
            ],
            [
             0.3333333333333333,
             "#9c179e"
            ],
            [
             0.4444444444444444,
             "#bd3786"
            ],
            [
             0.5555555555555556,
             "#d8576b"
            ],
            [
             0.6666666666666666,
             "#ed7953"
            ],
            [
             0.7777777777777778,
             "#fb9f3a"
            ],
            [
             0.8888888888888888,
             "#fdca26"
            ],
            [
             1,
             "#f0f921"
            ]
           ],
           "sequentialminus": [
            [
             0,
             "#0d0887"
            ],
            [
             0.1111111111111111,
             "#46039f"
            ],
            [
             0.2222222222222222,
             "#7201a8"
            ],
            [
             0.3333333333333333,
             "#9c179e"
            ],
            [
             0.4444444444444444,
             "#bd3786"
            ],
            [
             0.5555555555555556,
             "#d8576b"
            ],
            [
             0.6666666666666666,
             "#ed7953"
            ],
            [
             0.7777777777777778,
             "#fb9f3a"
            ],
            [
             0.8888888888888888,
             "#fdca26"
            ],
            [
             1,
             "#f0f921"
            ]
           ]
          },
          "colorway": [
           "#636efa",
           "#EF553B",
           "#00cc96",
           "#ab63fa",
           "#FFA15A",
           "#19d3f3",
           "#FF6692",
           "#B6E880",
           "#FF97FF",
           "#FECB52"
          ],
          "font": {
           "color": "#2a3f5f"
          },
          "geo": {
           "bgcolor": "white",
           "lakecolor": "white",
           "landcolor": "#E5ECF6",
           "showlakes": true,
           "showland": true,
           "subunitcolor": "white"
          },
          "hoverlabel": {
           "align": "left"
          },
          "hovermode": "closest",
          "mapbox": {
           "style": "light"
          },
          "paper_bgcolor": "white",
          "plot_bgcolor": "#E5ECF6",
          "polar": {
           "angularaxis": {
            "gridcolor": "white",
            "linecolor": "white",
            "ticks": ""
           },
           "bgcolor": "#E5ECF6",
           "radialaxis": {
            "gridcolor": "white",
            "linecolor": "white",
            "ticks": ""
           }
          },
          "scene": {
           "xaxis": {
            "backgroundcolor": "#E5ECF6",
            "gridcolor": "white",
            "gridwidth": 2,
            "linecolor": "white",
            "showbackground": true,
            "ticks": "",
            "zerolinecolor": "white"
           },
           "yaxis": {
            "backgroundcolor": "#E5ECF6",
            "gridcolor": "white",
            "gridwidth": 2,
            "linecolor": "white",
            "showbackground": true,
            "ticks": "",
            "zerolinecolor": "white"
           },
           "zaxis": {
            "backgroundcolor": "#E5ECF6",
            "gridcolor": "white",
            "gridwidth": 2,
            "linecolor": "white",
            "showbackground": true,
            "ticks": "",
            "zerolinecolor": "white"
           }
          },
          "shapedefaults": {
           "line": {
            "color": "#2a3f5f"
           }
          },
          "ternary": {
           "aaxis": {
            "gridcolor": "white",
            "linecolor": "white",
            "ticks": ""
           },
           "baxis": {
            "gridcolor": "white",
            "linecolor": "white",
            "ticks": ""
           },
           "bgcolor": "#E5ECF6",
           "caxis": {
            "gridcolor": "white",
            "linecolor": "white",
            "ticks": ""
           }
          },
          "title": {
           "x": 0.05
          },
          "xaxis": {
           "automargin": true,
           "gridcolor": "white",
           "linecolor": "white",
           "ticks": "",
           "title": {
            "standoff": 15
           },
           "zerolinecolor": "white",
           "zerolinewidth": 2
          },
          "yaxis": {
           "automargin": true,
           "gridcolor": "white",
           "linecolor": "white",
           "ticks": "",
           "title": {
            "standoff": 15
           },
           "zerolinecolor": "white",
           "zerolinewidth": 2
          }
         }
        },
        "xaxis": {
         "anchor": "y",
         "domain": [
          0,
          0.8358
         ],
         "title": {
          "text": "expected_abundance"
         }
        },
        "xaxis2": {
         "anchor": "y2",
         "domain": [
          0.8408,
          1
         ],
         "matches": "x2",
         "showgrid": false,
         "showline": false,
         "showticklabels": false,
         "ticks": ""
        },
        "xaxis3": {
         "anchor": "y3",
         "domain": [
          0,
          0.8358
         ],
         "matches": "x",
         "showgrid": true,
         "showticklabels": false
        },
        "xaxis4": {
         "anchor": "y4",
         "domain": [
          0.8408,
          1
         ],
         "matches": "x2",
         "showgrid": false,
         "showline": false,
         "showticklabels": false,
         "ticks": ""
        },
        "yaxis": {
         "anchor": "x",
         "domain": [
          0,
          0.8316
         ],
         "title": {
          "text": "log2OE"
         }
        },
        "yaxis2": {
         "anchor": "x2",
         "domain": [
          0,
          0.8316
         ],
         "matches": "y",
         "showgrid": true,
         "showticklabels": false
        },
        "yaxis3": {
         "anchor": "x3",
         "domain": [
          0.8416,
          1
         ],
         "matches": "y3",
         "showgrid": false,
         "showline": false,
         "showticklabels": false,
         "ticks": ""
        },
        "yaxis4": {
         "anchor": "x4",
         "domain": [
          0.8416,
          1
         ],
         "matches": "y3",
         "showgrid": true,
         "showline": false,
         "showticklabels": false,
         "ticks": ""
        }
       }
      },
      "text/html": [
       "<div>                            <div id=\"d3cfb54b-ce88-4111-ad62-1d67aeeeb237\" class=\"plotly-graph-div\" style=\"height:525px; width:100%;\"></div>            <script type=\"text/javascript\">                require([\"plotly\"], function(Plotly) {                    window.PLOTLYENV=window.PLOTLYENV || {};                                    if (document.getElementById(\"d3cfb54b-ce88-4111-ad62-1d67aeeeb237\")) {                    Plotly.newPlot(                        \"d3cfb54b-ce88-4111-ad62-1d67aeeeb237\",                        [{\"hovertemplate\":\"\\u003cb\\u003e%{hovertext}\\u003c\\u002fb\\u003e\\u003cbr\\u003e\\u003cbr\\u003eexpected_abundance=%{x}\\u003cbr\\u003elog2OE=%{y}\\u003cextra\\u003e\\u003c\\u002fextra\\u003e\",\"hovertext\":[\"0adgio1\",\"0adgio1-2\",\"0adgio1o2o3o4o5\",\"0agio1o2\",\"0aio1o2o3o4o5\",\"a\",\"a-2\",\"adgio1o2o3\",\"agio3o4o5\",\"0adgio1\",\"0adgio1-2\",\"0adgio1o2o3o4o5\",\"0agio1o2\",\"0aio1o2o3o4o5\",\"adgio1o2o3\",\"o1-2\",\"o1o2\",\"o1o2o3o4o5\",\"0adgio1o2o3o4o5\",\"0agio1o2\",\"0aio1o2o3o4o5\",\"adgio1o2o3\",\"o1o2\",\"o1o2o3o4o5\",\"o2-2\",\"o2-3\",\"o2o3o4o5\",\"o2o3o4o5-2\",\"o2o3o4o5-3\",\"0adgio1o2o3o4o5\",\"0aio1o2o3o4o5\",\"0o5o3o4\",\"agio3o4o5\",\"o1o2o3o4o5\",\"o2o3o4o5\",\"o2o3o4o5-2\",\"o2o3o4o5-3\",\"o4\",\"o4-2\",\"o4-3\",\"0adgio1o2o3o4o5\",\"0aio1o2o3o4o5\",\"0o5o3o4\",\"agio3o4o5\",\"o1o2o3o4o5\",\"o2o3o4o5\",\"o2o3o4o5-2\",\"o2o3o4o5-3\",\"o5\",\"o5-2\",\"o5-3\",\"0adgio1o2o3o4o5\",\"0aio1o2o3o4o5\",\"0o5o3o4\",\"adgio1o2o3\",\"agio3o4o5\",\"o1o2o3o4o5\",\"o2o3o4o5\",\"o2o3o4o5-2\",\"o2o3o4o5-3\",\"o3\",\"o3-2\",\"o3-3\",\"o3-4\",\"0adgio1\",\"0adgio1-2\",\"0adgio1o2o3o4o5\",\"adgio1o2o3\",\"d\",\"d-2\",\"0adgio1\",\"0adgio1-2\",\"0adgio1o2o3o4o5\",\"0agio1o2\",\"adgio1o2o3\",\"agio3o4o5\",\"g\",\"g-2\",\"0adgio1\",\"0adgio1-2\",\"0adgio1o2o3o4o5\",\"0agio1o2\",\"0aio1o2o3o4o5\",\"adgio1o2o3\",\"agio3o4o5\",\"i\",\"i-2\",\"0\",\"0-2\",\"0-3\",\"0-4\",\"0adgio1-2\",\"0adgio1o2o3o4o5\",\"0o5o3o4\"],\"legendgroup\":\"\",\"marker\":{\"color\":\"#636efa\",\"symbol\":\"circle\"},\"mode\":\"markers\",\"name\":\"\",\"orientation\":\"v\",\"showlegend\":false,\"x\":[0.25,0.14285714285714288,0.06666666666666667,0.0625,0.125,1.0,1.0,0.0625,0.1875,0.125,0.14285714285714288,0.06666666666666667,0.1875,0.125,0.1875,1.0,0.375,0.25,0.13333333333333333,0.3125,0.125,0.1875,0.625,0.25,1.0,1.0,0.25,0.25,0.25,0.13333333333333333,0.125,0.1875,0.1875,0.125,0.1875,0.25,0.25,1.0,1.0,1.0,0.13333333333333333,0.125,0.25,0.1875,0.25,0.3125,0.25,0.25,1.0,1.0,1.0,0.13333333333333333,0.125,0.1875,0.25,0.125,0.125,0.25,0.25,0.25,1.0,1.0,1.0,1.0,0.1875,0.14285714285714288,0.06666666666666667,0.1875,1.0,1.0,0.0625,0.14285714285714288,0.06666666666666667,0.1875,0.0625,0.125,1.0,1.0,0.125,0.14285714285714288,0.06666666666666667,0.125,0.125,0.0625,0.1875,1.0,1.0,1.0,1.0,1.0,1.0,0.28571428571428575,0.13333333333333333,0.375],\"xaxis\":\"x\",\"y\":[6.73858605658003,6.669281709841622,6.623669074559286,6.72205698430493,6.723154856176622,6.626231318155866,6.6278296449394745,7.086305845200806,6.498275210141436,5.529178523178629,5.414309227882999,4.721071018273063,5.315041184685649,5.029471968461062,5.666192732530178,6.615552750031796,5.87694108975898,5.721934971250178,5.668472037903824,6.484847778070424,5.539316661232863,6.871335199441404,6.773369629089615,6.416048136302358,6.606676676636888,6.606311485372483,5.657585474420172,6.1149787911709295,5.352524223412671,7.675272913384141,7.474428774594972,7.290681099349702,7.3988861733012925,7.552374550188444,7.399204414448456,7.098581592453116,7.61161382794653,6.623291447894024,6.623405047710743,6.623628343394689,6.289468351455764,6.1475699747429315,6.201520558115487,6.247652818406282,6.839127783156162,6.653563977820314,6.618902988214575,6.422089464227526,6.609792482627812,6.621754622961981,6.625357016331506,5.78025595758858,6.118948711721629,5.428505833578053,6.245049505352659,5.775912318044113,5.6362415522824465,6.314460672862666,6.269829626456751,5.944516467818335,6.627747190589288,6.627360210744046,6.6272098672989745,6.6270394678767,5.719164306662137,5.563300653577059,5.228266898402871,5.991887924827382,6.62183109220071,6.621627765912261,6.346439836920701,6.308281357593748,6.144690155097151,6.506203649090829,6.677058055690094,6.146710609077254,6.632535583777548,6.63116200647873,6.468635445967137,6.388556709366948,6.094050230646851,6.5919905153674625,6.329870733182452,6.6462225761548925,6.09312304230358,6.622878356752894,6.620985750052028,5.620836162742405,6.618645604435335,5.622985826864563,6.624863826472755,1.8098644701954734,3.804424565234746,5.26999472239765],\"yaxis\":\"y\",\"type\":\"scatter\"},{\"alignmentgroup\":\"True\",\"hovertemplate\":\"\\u003cb\\u003e%{hovertext}\\u003c\\u002fb\\u003e\\u003cbr\\u003e\\u003cbr\\u003eexpected_abundance=%{x}\\u003cextra\\u003e\\u003c\\u002fextra\\u003e\",\"hovertext\":[\"0adgio1\",\"0adgio1-2\",\"0adgio1o2o3o4o5\",\"0agio1o2\",\"0aio1o2o3o4o5\",\"a\",\"a-2\",\"adgio1o2o3\",\"agio3o4o5\",\"0adgio1\",\"0adgio1-2\",\"0adgio1o2o3o4o5\",\"0agio1o2\",\"0aio1o2o3o4o5\",\"adgio1o2o3\",\"o1-2\",\"o1o2\",\"o1o2o3o4o5\",\"0adgio1o2o3o4o5\",\"0agio1o2\",\"0aio1o2o3o4o5\",\"adgio1o2o3\",\"o1o2\",\"o1o2o3o4o5\",\"o2-2\",\"o2-3\",\"o2o3o4o5\",\"o2o3o4o5-2\",\"o2o3o4o5-3\",\"0adgio1o2o3o4o5\",\"0aio1o2o3o4o5\",\"0o5o3o4\",\"agio3o4o5\",\"o1o2o3o4o5\",\"o2o3o4o5\",\"o2o3o4o5-2\",\"o2o3o4o5-3\",\"o4\",\"o4-2\",\"o4-3\",\"0adgio1o2o3o4o5\",\"0aio1o2o3o4o5\",\"0o5o3o4\",\"agio3o4o5\",\"o1o2o3o4o5\",\"o2o3o4o5\",\"o2o3o4o5-2\",\"o2o3o4o5-3\",\"o5\",\"o5-2\",\"o5-3\",\"0adgio1o2o3o4o5\",\"0aio1o2o3o4o5\",\"0o5o3o4\",\"adgio1o2o3\",\"agio3o4o5\",\"o1o2o3o4o5\",\"o2o3o4o5\",\"o2o3o4o5-2\",\"o2o3o4o5-3\",\"o3\",\"o3-2\",\"o3-3\",\"o3-4\",\"0adgio1\",\"0adgio1-2\",\"0adgio1o2o3o4o5\",\"adgio1o2o3\",\"d\",\"d-2\",\"0adgio1\",\"0adgio1-2\",\"0adgio1o2o3o4o5\",\"0agio1o2\",\"adgio1o2o3\",\"agio3o4o5\",\"g\",\"g-2\",\"0adgio1\",\"0adgio1-2\",\"0adgio1o2o3o4o5\",\"0agio1o2\",\"0aio1o2o3o4o5\",\"adgio1o2o3\",\"agio3o4o5\",\"i\",\"i-2\",\"0\",\"0-2\",\"0-3\",\"0-4\",\"0adgio1-2\",\"0adgio1o2o3o4o5\",\"0o5o3o4\"],\"legendgroup\":\"\",\"marker\":{\"color\":\"#636efa\",\"symbol\":\"circle\"},\"name\":\"\",\"offsetgroup\":\"\",\"scalegroup\":\"x\",\"showlegend\":false,\"x\":[0.25,0.14285714285714288,0.06666666666666667,0.0625,0.125,1.0,1.0,0.0625,0.1875,0.125,0.14285714285714288,0.06666666666666667,0.1875,0.125,0.1875,1.0,0.375,0.25,0.13333333333333333,0.3125,0.125,0.1875,0.625,0.25,1.0,1.0,0.25,0.25,0.25,0.13333333333333333,0.125,0.1875,0.1875,0.125,0.1875,0.25,0.25,1.0,1.0,1.0,0.13333333333333333,0.125,0.25,0.1875,0.25,0.3125,0.25,0.25,1.0,1.0,1.0,0.13333333333333333,0.125,0.1875,0.25,0.125,0.125,0.25,0.25,0.25,1.0,1.0,1.0,1.0,0.1875,0.14285714285714288,0.06666666666666667,0.1875,1.0,1.0,0.0625,0.14285714285714288,0.06666666666666667,0.1875,0.0625,0.125,1.0,1.0,0.125,0.14285714285714288,0.06666666666666667,0.125,0.125,0.0625,0.1875,1.0,1.0,1.0,1.0,1.0,1.0,0.28571428571428575,0.13333333333333333,0.375],\"xaxis\":\"x3\",\"yaxis\":\"y3\",\"type\":\"violin\"},{\"alignmentgroup\":\"True\",\"hovertemplate\":\"\\u003cb\\u003e%{hovertext}\\u003c\\u002fb\\u003e\\u003cbr\\u003e\\u003cbr\\u003elog2OE=%{y}\\u003cextra\\u003e\\u003c\\u002fextra\\u003e\",\"hovertext\":[\"0adgio1\",\"0adgio1-2\",\"0adgio1o2o3o4o5\",\"0agio1o2\",\"0aio1o2o3o4o5\",\"a\",\"a-2\",\"adgio1o2o3\",\"agio3o4o5\",\"0adgio1\",\"0adgio1-2\",\"0adgio1o2o3o4o5\",\"0agio1o2\",\"0aio1o2o3o4o5\",\"adgio1o2o3\",\"o1-2\",\"o1o2\",\"o1o2o3o4o5\",\"0adgio1o2o3o4o5\",\"0agio1o2\",\"0aio1o2o3o4o5\",\"adgio1o2o3\",\"o1o2\",\"o1o2o3o4o5\",\"o2-2\",\"o2-3\",\"o2o3o4o5\",\"o2o3o4o5-2\",\"o2o3o4o5-3\",\"0adgio1o2o3o4o5\",\"0aio1o2o3o4o5\",\"0o5o3o4\",\"agio3o4o5\",\"o1o2o3o4o5\",\"o2o3o4o5\",\"o2o3o4o5-2\",\"o2o3o4o5-3\",\"o4\",\"o4-2\",\"o4-3\",\"0adgio1o2o3o4o5\",\"0aio1o2o3o4o5\",\"0o5o3o4\",\"agio3o4o5\",\"o1o2o3o4o5\",\"o2o3o4o5\",\"o2o3o4o5-2\",\"o2o3o4o5-3\",\"o5\",\"o5-2\",\"o5-3\",\"0adgio1o2o3o4o5\",\"0aio1o2o3o4o5\",\"0o5o3o4\",\"adgio1o2o3\",\"agio3o4o5\",\"o1o2o3o4o5\",\"o2o3o4o5\",\"o2o3o4o5-2\",\"o2o3o4o5-3\",\"o3\",\"o3-2\",\"o3-3\",\"o3-4\",\"0adgio1\",\"0adgio1-2\",\"0adgio1o2o3o4o5\",\"adgio1o2o3\",\"d\",\"d-2\",\"0adgio1\",\"0adgio1-2\",\"0adgio1o2o3o4o5\",\"0agio1o2\",\"adgio1o2o3\",\"agio3o4o5\",\"g\",\"g-2\",\"0adgio1\",\"0adgio1-2\",\"0adgio1o2o3o4o5\",\"0agio1o2\",\"0aio1o2o3o4o5\",\"adgio1o2o3\",\"agio3o4o5\",\"i\",\"i-2\",\"0\",\"0-2\",\"0-3\",\"0-4\",\"0adgio1-2\",\"0adgio1o2o3o4o5\",\"0o5o3o4\"],\"legendgroup\":\"\",\"marker\":{\"color\":\"#636efa\",\"symbol\":\"circle\"},\"name\":\"\",\"offsetgroup\":\"\",\"scalegroup\":\"y\",\"showlegend\":false,\"xaxis\":\"x2\",\"y\":[6.73858605658003,6.669281709841622,6.623669074559286,6.72205698430493,6.723154856176622,6.626231318155866,6.6278296449394745,7.086305845200806,6.498275210141436,5.529178523178629,5.414309227882999,4.721071018273063,5.315041184685649,5.029471968461062,5.666192732530178,6.615552750031796,5.87694108975898,5.721934971250178,5.668472037903824,6.484847778070424,5.539316661232863,6.871335199441404,6.773369629089615,6.416048136302358,6.606676676636888,6.606311485372483,5.657585474420172,6.1149787911709295,5.352524223412671,7.675272913384141,7.474428774594972,7.290681099349702,7.3988861733012925,7.552374550188444,7.399204414448456,7.098581592453116,7.61161382794653,6.623291447894024,6.623405047710743,6.623628343394689,6.289468351455764,6.1475699747429315,6.201520558115487,6.247652818406282,6.839127783156162,6.653563977820314,6.618902988214575,6.422089464227526,6.609792482627812,6.621754622961981,6.625357016331506,5.78025595758858,6.118948711721629,5.428505833578053,6.245049505352659,5.775912318044113,5.6362415522824465,6.314460672862666,6.269829626456751,5.944516467818335,6.627747190589288,6.627360210744046,6.6272098672989745,6.6270394678767,5.719164306662137,5.563300653577059,5.228266898402871,5.991887924827382,6.62183109220071,6.621627765912261,6.346439836920701,6.308281357593748,6.144690155097151,6.506203649090829,6.677058055690094,6.146710609077254,6.632535583777548,6.63116200647873,6.468635445967137,6.388556709366948,6.094050230646851,6.5919905153674625,6.329870733182452,6.6462225761548925,6.09312304230358,6.622878356752894,6.620985750052028,5.620836162742405,6.618645604435335,5.622985826864563,6.624863826472755,1.8098644701954734,3.804424565234746,5.26999472239765],\"yaxis\":\"y2\",\"type\":\"violin\"}],                        {\"template\":{\"data\":{\"histogram2dcontour\":[{\"type\":\"histogram2dcontour\",\"colorbar\":{\"outlinewidth\":0,\"ticks\":\"\"},\"colorscale\":[[0.0,\"#0d0887\"],[0.1111111111111111,\"#46039f\"],[0.2222222222222222,\"#7201a8\"],[0.3333333333333333,\"#9c179e\"],[0.4444444444444444,\"#bd3786\"],[0.5555555555555556,\"#d8576b\"],[0.6666666666666666,\"#ed7953\"],[0.7777777777777778,\"#fb9f3a\"],[0.8888888888888888,\"#fdca26\"],[1.0,\"#f0f921\"]]}],\"choropleth\":[{\"type\":\"choropleth\",\"colorbar\":{\"outlinewidth\":0,\"ticks\":\"\"}}],\"histogram2d\":[{\"type\":\"histogram2d\",\"colorbar\":{\"outlinewidth\":0,\"ticks\":\"\"},\"colorscale\":[[0.0,\"#0d0887\"],[0.1111111111111111,\"#46039f\"],[0.2222222222222222,\"#7201a8\"],[0.3333333333333333,\"#9c179e\"],[0.4444444444444444,\"#bd3786\"],[0.5555555555555556,\"#d8576b\"],[0.6666666666666666,\"#ed7953\"],[0.7777777777777778,\"#fb9f3a\"],[0.8888888888888888,\"#fdca26\"],[1.0,\"#f0f921\"]]}],\"heatmap\":[{\"type\":\"heatmap\",\"colorbar\":{\"outlinewidth\":0,\"ticks\":\"\"},\"colorscale\":[[0.0,\"#0d0887\"],[0.1111111111111111,\"#46039f\"],[0.2222222222222222,\"#7201a8\"],[0.3333333333333333,\"#9c179e\"],[0.4444444444444444,\"#bd3786\"],[0.5555555555555556,\"#d8576b\"],[0.6666666666666666,\"#ed7953\"],[0.7777777777777778,\"#fb9f3a\"],[0.8888888888888888,\"#fdca26\"],[1.0,\"#f0f921\"]]}],\"heatmapgl\":[{\"type\":\"heatmapgl\",\"colorbar\":{\"outlinewidth\":0,\"ticks\":\"\"},\"colorscale\":[[0.0,\"#0d0887\"],[0.1111111111111111,\"#46039f\"],[0.2222222222222222,\"#7201a8\"],[0.3333333333333333,\"#9c179e\"],[0.4444444444444444,\"#bd3786\"],[0.5555555555555556,\"#d8576b\"],[0.6666666666666666,\"#ed7953\"],[0.7777777777777778,\"#fb9f3a\"],[0.8888888888888888,\"#fdca26\"],[1.0,\"#f0f921\"]]}],\"contourcarpet\":[{\"type\":\"contourcarpet\",\"colorbar\":{\"outlinewidth\":0,\"ticks\":\"\"}}],\"contour\":[{\"type\":\"contour\",\"colorbar\":{\"outlinewidth\":0,\"ticks\":\"\"},\"colorscale\":[[0.0,\"#0d0887\"],[0.1111111111111111,\"#46039f\"],[0.2222222222222222,\"#7201a8\"],[0.3333333333333333,\"#9c179e\"],[0.4444444444444444,\"#bd3786\"],[0.5555555555555556,\"#d8576b\"],[0.6666666666666666,\"#ed7953\"],[0.7777777777777778,\"#fb9f3a\"],[0.8888888888888888,\"#fdca26\"],[1.0,\"#f0f921\"]]}],\"surface\":[{\"type\":\"surface\",\"colorbar\":{\"outlinewidth\":0,\"ticks\":\"\"},\"colorscale\":[[0.0,\"#0d0887\"],[0.1111111111111111,\"#46039f\"],[0.2222222222222222,\"#7201a8\"],[0.3333333333333333,\"#9c179e\"],[0.4444444444444444,\"#bd3786\"],[0.5555555555555556,\"#d8576b\"],[0.6666666666666666,\"#ed7953\"],[0.7777777777777778,\"#fb9f3a\"],[0.8888888888888888,\"#fdca26\"],[1.0,\"#f0f921\"]]}],\"mesh3d\":[{\"type\":\"mesh3d\",\"colorbar\":{\"outlinewidth\":0,\"ticks\":\"\"}}],\"scatter\":[{\"fillpattern\":{\"fillmode\":\"overlay\",\"size\":10,\"solidity\":0.2},\"type\":\"scatter\"}],\"parcoords\":[{\"type\":\"parcoords\",\"line\":{\"colorbar\":{\"outlinewidth\":0,\"ticks\":\"\"}}}],\"scatterpolargl\":[{\"type\":\"scatterpolargl\",\"marker\":{\"colorbar\":{\"outlinewidth\":0,\"ticks\":\"\"}}}],\"bar\":[{\"error_x\":{\"color\":\"#2a3f5f\"},\"error_y\":{\"color\":\"#2a3f5f\"},\"marker\":{\"line\":{\"color\":\"#E5ECF6\",\"width\":0.5},\"pattern\":{\"fillmode\":\"overlay\",\"size\":10,\"solidity\":0.2}},\"type\":\"bar\"}],\"scattergeo\":[{\"type\":\"scattergeo\",\"marker\":{\"colorbar\":{\"outlinewidth\":0,\"ticks\":\"\"}}}],\"scatterpolar\":[{\"type\":\"scatterpolar\",\"marker\":{\"colorbar\":{\"outlinewidth\":0,\"ticks\":\"\"}}}],\"histogram\":[{\"marker\":{\"pattern\":{\"fillmode\":\"overlay\",\"size\":10,\"solidity\":0.2}},\"type\":\"histogram\"}],\"scattergl\":[{\"type\":\"scattergl\",\"marker\":{\"colorbar\":{\"outlinewidth\":0,\"ticks\":\"\"}}}],\"scatter3d\":[{\"type\":\"scatter3d\",\"line\":{\"colorbar\":{\"outlinewidth\":0,\"ticks\":\"\"}},\"marker\":{\"colorbar\":{\"outlinewidth\":0,\"ticks\":\"\"}}}],\"scattermapbox\":[{\"type\":\"scattermapbox\",\"marker\":{\"colorbar\":{\"outlinewidth\":0,\"ticks\":\"\"}}}],\"scatterternary\":[{\"type\":\"scatterternary\",\"marker\":{\"colorbar\":{\"outlinewidth\":0,\"ticks\":\"\"}}}],\"scattercarpet\":[{\"type\":\"scattercarpet\",\"marker\":{\"colorbar\":{\"outlinewidth\":0,\"ticks\":\"\"}}}],\"carpet\":[{\"aaxis\":{\"endlinecolor\":\"#2a3f5f\",\"gridcolor\":\"white\",\"linecolor\":\"white\",\"minorgridcolor\":\"white\",\"startlinecolor\":\"#2a3f5f\"},\"baxis\":{\"endlinecolor\":\"#2a3f5f\",\"gridcolor\":\"white\",\"linecolor\":\"white\",\"minorgridcolor\":\"white\",\"startlinecolor\":\"#2a3f5f\"},\"type\":\"carpet\"}],\"table\":[{\"cells\":{\"fill\":{\"color\":\"#EBF0F8\"},\"line\":{\"color\":\"white\"}},\"header\":{\"fill\":{\"color\":\"#C8D4E3\"},\"line\":{\"color\":\"white\"}},\"type\":\"table\"}],\"barpolar\":[{\"marker\":{\"line\":{\"color\":\"#E5ECF6\",\"width\":0.5},\"pattern\":{\"fillmode\":\"overlay\",\"size\":10,\"solidity\":0.2}},\"type\":\"barpolar\"}],\"pie\":[{\"automargin\":true,\"type\":\"pie\"}]},\"layout\":{\"autotypenumbers\":\"strict\",\"colorway\":[\"#636efa\",\"#EF553B\",\"#00cc96\",\"#ab63fa\",\"#FFA15A\",\"#19d3f3\",\"#FF6692\",\"#B6E880\",\"#FF97FF\",\"#FECB52\"],\"font\":{\"color\":\"#2a3f5f\"},\"hovermode\":\"closest\",\"hoverlabel\":{\"align\":\"left\"},\"paper_bgcolor\":\"white\",\"plot_bgcolor\":\"#E5ECF6\",\"polar\":{\"bgcolor\":\"#E5ECF6\",\"angularaxis\":{\"gridcolor\":\"white\",\"linecolor\":\"white\",\"ticks\":\"\"},\"radialaxis\":{\"gridcolor\":\"white\",\"linecolor\":\"white\",\"ticks\":\"\"}},\"ternary\":{\"bgcolor\":\"#E5ECF6\",\"aaxis\":{\"gridcolor\":\"white\",\"linecolor\":\"white\",\"ticks\":\"\"},\"baxis\":{\"gridcolor\":\"white\",\"linecolor\":\"white\",\"ticks\":\"\"},\"caxis\":{\"gridcolor\":\"white\",\"linecolor\":\"white\",\"ticks\":\"\"}},\"coloraxis\":{\"colorbar\":{\"outlinewidth\":0,\"ticks\":\"\"}},\"colorscale\":{\"sequential\":[[0.0,\"#0d0887\"],[0.1111111111111111,\"#46039f\"],[0.2222222222222222,\"#7201a8\"],[0.3333333333333333,\"#9c179e\"],[0.4444444444444444,\"#bd3786\"],[0.5555555555555556,\"#d8576b\"],[0.6666666666666666,\"#ed7953\"],[0.7777777777777778,\"#fb9f3a\"],[0.8888888888888888,\"#fdca26\"],[1.0,\"#f0f921\"]],\"sequentialminus\":[[0.0,\"#0d0887\"],[0.1111111111111111,\"#46039f\"],[0.2222222222222222,\"#7201a8\"],[0.3333333333333333,\"#9c179e\"],[0.4444444444444444,\"#bd3786\"],[0.5555555555555556,\"#d8576b\"],[0.6666666666666666,\"#ed7953\"],[0.7777777777777778,\"#fb9f3a\"],[0.8888888888888888,\"#fdca26\"],[1.0,\"#f0f921\"]],\"diverging\":[[0,\"#8e0152\"],[0.1,\"#c51b7d\"],[0.2,\"#de77ae\"],[0.3,\"#f1b6da\"],[0.4,\"#fde0ef\"],[0.5,\"#f7f7f7\"],[0.6,\"#e6f5d0\"],[0.7,\"#b8e186\"],[0.8,\"#7fbc41\"],[0.9,\"#4d9221\"],[1,\"#276419\"]]},\"xaxis\":{\"gridcolor\":\"white\",\"linecolor\":\"white\",\"ticks\":\"\",\"title\":{\"standoff\":15},\"zerolinecolor\":\"white\",\"automargin\":true,\"zerolinewidth\":2},\"yaxis\":{\"gridcolor\":\"white\",\"linecolor\":\"white\",\"ticks\":\"\",\"title\":{\"standoff\":15},\"zerolinecolor\":\"white\",\"automargin\":true,\"zerolinewidth\":2},\"scene\":{\"xaxis\":{\"backgroundcolor\":\"#E5ECF6\",\"gridcolor\":\"white\",\"linecolor\":\"white\",\"showbackground\":true,\"ticks\":\"\",\"zerolinecolor\":\"white\",\"gridwidth\":2},\"yaxis\":{\"backgroundcolor\":\"#E5ECF6\",\"gridcolor\":\"white\",\"linecolor\":\"white\",\"showbackground\":true,\"ticks\":\"\",\"zerolinecolor\":\"white\",\"gridwidth\":2},\"zaxis\":{\"backgroundcolor\":\"#E5ECF6\",\"gridcolor\":\"white\",\"linecolor\":\"white\",\"showbackground\":true,\"ticks\":\"\",\"zerolinecolor\":\"white\",\"gridwidth\":2}},\"shapedefaults\":{\"line\":{\"color\":\"#2a3f5f\"}},\"annotationdefaults\":{\"arrowcolor\":\"#2a3f5f\",\"arrowhead\":0,\"arrowwidth\":1},\"geo\":{\"bgcolor\":\"white\",\"landcolor\":\"#E5ECF6\",\"subunitcolor\":\"white\",\"showland\":true,\"showlakes\":true,\"lakecolor\":\"white\"},\"title\":{\"x\":0.05},\"mapbox\":{\"style\":\"light\"}}},\"xaxis\":{\"anchor\":\"y\",\"domain\":[0.0,0.8358],\"title\":{\"text\":\"expected_abundance\"}},\"yaxis\":{\"anchor\":\"x\",\"domain\":[0.0,0.8316],\"title\":{\"text\":\"log2OE\"}},\"xaxis2\":{\"anchor\":\"y2\",\"domain\":[0.8408,1.0],\"matches\":\"x2\",\"showticklabels\":false,\"showline\":false,\"ticks\":\"\",\"showgrid\":false},\"yaxis2\":{\"anchor\":\"x2\",\"domain\":[0.0,0.8316],\"matches\":\"y\",\"showticklabels\":false,\"showgrid\":true},\"xaxis3\":{\"anchor\":\"y3\",\"domain\":[0.0,0.8358],\"matches\":\"x\",\"showticklabels\":false,\"showgrid\":true},\"yaxis3\":{\"anchor\":\"x3\",\"domain\":[0.8416,1.0],\"matches\":\"y3\",\"showticklabels\":false,\"showline\":false,\"ticks\":\"\",\"showgrid\":false},\"xaxis4\":{\"anchor\":\"y4\",\"domain\":[0.8408,1.0],\"matches\":\"x2\",\"showticklabels\":false,\"showgrid\":false,\"showline\":false,\"ticks\":\"\"},\"yaxis4\":{\"anchor\":\"x4\",\"domain\":[0.8416,1.0],\"matches\":\"y3\",\"showticklabels\":false,\"showline\":false,\"ticks\":\"\",\"showgrid\":true},\"legend\":{\"tracegroupgap\":0},\"margin\":{\"t\":60}},                        {\"responsive\": true}                    ).then(function(){\n",
       "                            \n",
       "var gd = document.getElementById('d3cfb54b-ce88-4111-ad62-1d67aeeeb237');\n",
       "var x = new MutationObserver(function (mutations, observer) {{\n",
       "        var display = window.getComputedStyle(gd).display;\n",
       "        if (!display || display === 'none') {{\n",
       "            console.log([gd, 'removed!']);\n",
       "            Plotly.purge(gd);\n",
       "            observer.disconnect();\n",
       "        }}\n",
       "}});\n",
       "\n",
       "// Listen for the removal of the full notebook cells\n",
       "var notebookContainer = gd.closest('#notebook-container');\n",
       "if (notebookContainer) {{\n",
       "    x.observe(notebookContainer, {childList: true});\n",
       "}}\n",
       "\n",
       "// Listen for the clearing of the current output cell\n",
       "var outputEl = gd.closest('.output');\n",
       "if (outputEl) {{\n",
       "    x.observe(outputEl, {childList: true});\n",
       "}}\n",
       "\n",
       "                        })                };                });            </script>        </div>"
      ]
     },
     "metadata": {},
     "output_type": "display_data"
    }
   ],
   "source": [
    "px.scatter(df, x=\"expected_abundance\", y=\"log2OE\", color=None, hover_name=\"Sample name\",\n",
    "           marginal_y='violin',\n",
    "           marginal_x='violin',\n",
    "           )"
   ]
  },
  {
   "cell_type": "code",
   "execution_count": 23,
   "metadata": {},
   "outputs": [
    {
     "data": {
      "application/vnd.plotly.v1+json": {
       "config": {
        "plotlyServerURL": "https://plot.ly"
       },
       "data": [
        {
         "hovertemplate": "<b>%{hovertext}</b><br><br>expected_abundance=%{x}<br>percent_of_expected=%{y}<extra></extra>",
         "hovertext": [
          "0adgio1",
          "0adgio1-2",
          "0adgio1o2o3o4o5",
          "0agio1o2",
          "0aio1o2o3o4o5",
          "a",
          "a-2",
          "adgio1o2o3",
          "agio3o4o5",
          "0adgio1",
          "0adgio1-2",
          "0adgio1o2o3o4o5",
          "0agio1o2",
          "0aio1o2o3o4o5",
          "adgio1o2o3",
          "o1-2",
          "o1o2",
          "o1o2o3o4o5",
          "0adgio1o2o3o4o5",
          "0agio1o2",
          "0aio1o2o3o4o5",
          "adgio1o2o3",
          "o1o2",
          "o1o2o3o4o5",
          "o2-2",
          "o2-3",
          "o2o3o4o5",
          "o2o3o4o5-2",
          "o2o3o4o5-3",
          "0adgio1o2o3o4o5",
          "0aio1o2o3o4o5",
          "0o5o3o4",
          "agio3o4o5",
          "o1o2o3o4o5",
          "o2o3o4o5",
          "o2o3o4o5-2",
          "o2o3o4o5-3",
          "o4",
          "o4-2",
          "o4-3",
          "0adgio1o2o3o4o5",
          "0aio1o2o3o4o5",
          "0o5o3o4",
          "agio3o4o5",
          "o1o2o3o4o5",
          "o2o3o4o5",
          "o2o3o4o5-2",
          "o2o3o4o5-3",
          "o5",
          "o5-2",
          "o5-3",
          "0adgio1o2o3o4o5",
          "0aio1o2o3o4o5",
          "0o5o3o4",
          "adgio1o2o3",
          "agio3o4o5",
          "o1o2o3o4o5",
          "o2o3o4o5",
          "o2o3o4o5-2",
          "o2o3o4o5-3",
          "o3",
          "o3-2",
          "o3-3",
          "o3-4",
          "0adgio1",
          "0adgio1-2",
          "0adgio1o2o3o4o5",
          "adgio1o2o3",
          "d",
          "d-2",
          "0adgio1",
          "0adgio1-2",
          "0adgio1o2o3o4o5",
          "0agio1o2",
          "adgio1o2o3",
          "agio3o4o5",
          "g",
          "g-2",
          "0adgio1",
          "0adgio1-2",
          "0adgio1o2o3o4o5",
          "0agio1o2",
          "0aio1o2o3o4o5",
          "adgio1o2o3",
          "agio3o4o5",
          "i",
          "i-2",
          "0",
          "0-2",
          "0-3",
          "0-4",
          "0adgio1-2",
          "0adgio1o2o3o4o5",
          "0o5o3o4"
         ],
         "legendgroup": "",
         "marker": {
          "color": "#636efa",
          "symbol": "circle"
         },
         "mode": "markers",
         "name": "",
         "orientation": "h",
         "showlegend": false,
         "type": "scatter",
         "x": [
          0.25,
          0.14285714285714288,
          0.06666666666666667,
          0.0625,
          0.125,
          1,
          1,
          0.0625,
          0.1875,
          0.125,
          0.14285714285714288,
          0.06666666666666667,
          0.1875,
          0.125,
          0.1875,
          1,
          0.375,
          0.25,
          0.13333333333333333,
          0.3125,
          0.125,
          0.1875,
          0.625,
          0.25,
          1,
          1,
          0.25,
          0.25,
          0.25,
          0.13333333333333333,
          0.125,
          0.1875,
          0.1875,
          0.125,
          0.1875,
          0.25,
          0.25,
          1,
          1,
          1,
          0.13333333333333333,
          0.125,
          0.25,
          0.1875,
          0.25,
          0.3125,
          0.25,
          0.25,
          1,
          1,
          1,
          0.13333333333333333,
          0.125,
          0.1875,
          0.25,
          0.125,
          0.125,
          0.25,
          0.25,
          0.25,
          1,
          1,
          1,
          1,
          0.1875,
          0.14285714285714288,
          0.06666666666666667,
          0.1875,
          1,
          1,
          0.0625,
          0.14285714285714288,
          0.06666666666666667,
          0.1875,
          0.0625,
          0.125,
          1,
          1,
          0.125,
          0.14285714285714288,
          0.06666666666666667,
          0.125,
          0.125,
          0.0625,
          0.1875,
          1,
          1,
          1,
          1,
          1,
          1,
          0.28571428571428575,
          0.13333333333333333,
          0.375
         ],
         "xaxis": "x",
         "y": [
          106.786544,
          101.77798399999998,
          98.61048000000001,
          105.570064,
          105.650432,
          98.785769,
          98.895272,
          135.890976,
          90.40152533333334,
          46.179432,
          42.645134,
          26.374484999999996,
          39.80950933333333,
          32.660432,
          50.780149333333334,
          98.05727399999999,
          58.76727466666666,
          52.780567999999995,
          50.86044,
          89.56404479999998,
          46.50508800000001,
          117.07873066666666,
          109.3924704,
          85.39313200000001,
          97.455836,
          97.43117,
          50.478092,
          69.309384,
          40.857364000000004,
          204.40304999999998,
          177.839104,
          156.571856,
          168.76666666666665,
          187.71167200000002,
          168.80389866666664,
          137.05219200000002,
          195.579836,
          98.584672,
          98.592435,
          98.60769599999999,
          78.2201475,
          70.89293599999999,
          73.59421999999999,
          75.98553066666666,
          114.493968,
          100.67516160000001,
          98.285248,
          85.751468,
          97.66654,
          98.47971100000001,
          98.725921,
          54.9579375,
          69.500368,
          43.066848,
          75.84854,
          54.792719999999996,
          49.736792,
          79.58698799999999,
          77.162588,
          61.5854,
          98.88962,
          98.86309800000001,
          98.852796,
          98.841121,
          52.67930133333333,
          47.284671,
          37.485659999999996,
          63.64114666666666,
          98.484931,
          98.471052,
          81.370832,
          79.24683199999998,
          70.751565,
          90.89970133333334,
          102.32806400000001,
          70.85072,
          99.218386,
          99.123966,
          88.5632,
          83.78132,
          68.3112,
          96.4688,
          80.441648,
          100.16416,
          68.267312,
          98.556448,
          98.427241,
          49.208518,
          98.267715,
          49.281895,
          98.692177,
          3.5060934999999995,
          13.9715925,
          38.585709333333334
         ],
         "yaxis": "y"
        },
        {
         "alignmentgroup": "True",
         "hovertemplate": "<b>%{hovertext}</b><br><br>expected_abundance=%{x}<extra></extra>",
         "hovertext": [
          "0adgio1",
          "0adgio1-2",
          "0adgio1o2o3o4o5",
          "0agio1o2",
          "0aio1o2o3o4o5",
          "a",
          "a-2",
          "adgio1o2o3",
          "agio3o4o5",
          "0adgio1",
          "0adgio1-2",
          "0adgio1o2o3o4o5",
          "0agio1o2",
          "0aio1o2o3o4o5",
          "adgio1o2o3",
          "o1-2",
          "o1o2",
          "o1o2o3o4o5",
          "0adgio1o2o3o4o5",
          "0agio1o2",
          "0aio1o2o3o4o5",
          "adgio1o2o3",
          "o1o2",
          "o1o2o3o4o5",
          "o2-2",
          "o2-3",
          "o2o3o4o5",
          "o2o3o4o5-2",
          "o2o3o4o5-3",
          "0adgio1o2o3o4o5",
          "0aio1o2o3o4o5",
          "0o5o3o4",
          "agio3o4o5",
          "o1o2o3o4o5",
          "o2o3o4o5",
          "o2o3o4o5-2",
          "o2o3o4o5-3",
          "o4",
          "o4-2",
          "o4-3",
          "0adgio1o2o3o4o5",
          "0aio1o2o3o4o5",
          "0o5o3o4",
          "agio3o4o5",
          "o1o2o3o4o5",
          "o2o3o4o5",
          "o2o3o4o5-2",
          "o2o3o4o5-3",
          "o5",
          "o5-2",
          "o5-3",
          "0adgio1o2o3o4o5",
          "0aio1o2o3o4o5",
          "0o5o3o4",
          "adgio1o2o3",
          "agio3o4o5",
          "o1o2o3o4o5",
          "o2o3o4o5",
          "o2o3o4o5-2",
          "o2o3o4o5-3",
          "o3",
          "o3-2",
          "o3-3",
          "o3-4",
          "0adgio1",
          "0adgio1-2",
          "0adgio1o2o3o4o5",
          "adgio1o2o3",
          "d",
          "d-2",
          "0adgio1",
          "0adgio1-2",
          "0adgio1o2o3o4o5",
          "0agio1o2",
          "adgio1o2o3",
          "agio3o4o5",
          "g",
          "g-2",
          "0adgio1",
          "0adgio1-2",
          "0adgio1o2o3o4o5",
          "0agio1o2",
          "0aio1o2o3o4o5",
          "adgio1o2o3",
          "agio3o4o5",
          "i",
          "i-2",
          "0",
          "0-2",
          "0-3",
          "0-4",
          "0adgio1-2",
          "0adgio1o2o3o4o5",
          "0o5o3o4"
         ],
         "legendgroup": "",
         "marker": {
          "color": "#636efa",
          "symbol": "circle"
         },
         "name": "",
         "offsetgroup": "",
         "scalegroup": "x",
         "showlegend": false,
         "type": "violin",
         "x": [
          0.25,
          0.14285714285714288,
          0.06666666666666667,
          0.0625,
          0.125,
          1,
          1,
          0.0625,
          0.1875,
          0.125,
          0.14285714285714288,
          0.06666666666666667,
          0.1875,
          0.125,
          0.1875,
          1,
          0.375,
          0.25,
          0.13333333333333333,
          0.3125,
          0.125,
          0.1875,
          0.625,
          0.25,
          1,
          1,
          0.25,
          0.25,
          0.25,
          0.13333333333333333,
          0.125,
          0.1875,
          0.1875,
          0.125,
          0.1875,
          0.25,
          0.25,
          1,
          1,
          1,
          0.13333333333333333,
          0.125,
          0.25,
          0.1875,
          0.25,
          0.3125,
          0.25,
          0.25,
          1,
          1,
          1,
          0.13333333333333333,
          0.125,
          0.1875,
          0.25,
          0.125,
          0.125,
          0.25,
          0.25,
          0.25,
          1,
          1,
          1,
          1,
          0.1875,
          0.14285714285714288,
          0.06666666666666667,
          0.1875,
          1,
          1,
          0.0625,
          0.14285714285714288,
          0.06666666666666667,
          0.1875,
          0.0625,
          0.125,
          1,
          1,
          0.125,
          0.14285714285714288,
          0.06666666666666667,
          0.125,
          0.125,
          0.0625,
          0.1875,
          1,
          1,
          1,
          1,
          1,
          1,
          0.28571428571428575,
          0.13333333333333333,
          0.375
         ],
         "xaxis": "x3",
         "yaxis": "y3"
        },
        {
         "alignmentgroup": "True",
         "hovertemplate": "<b>%{hovertext}</b><br><br>percent_of_expected=%{y}<extra></extra>",
         "hovertext": [
          "0adgio1",
          "0adgio1-2",
          "0adgio1o2o3o4o5",
          "0agio1o2",
          "0aio1o2o3o4o5",
          "a",
          "a-2",
          "adgio1o2o3",
          "agio3o4o5",
          "0adgio1",
          "0adgio1-2",
          "0adgio1o2o3o4o5",
          "0agio1o2",
          "0aio1o2o3o4o5",
          "adgio1o2o3",
          "o1-2",
          "o1o2",
          "o1o2o3o4o5",
          "0adgio1o2o3o4o5",
          "0agio1o2",
          "0aio1o2o3o4o5",
          "adgio1o2o3",
          "o1o2",
          "o1o2o3o4o5",
          "o2-2",
          "o2-3",
          "o2o3o4o5",
          "o2o3o4o5-2",
          "o2o3o4o5-3",
          "0adgio1o2o3o4o5",
          "0aio1o2o3o4o5",
          "0o5o3o4",
          "agio3o4o5",
          "o1o2o3o4o5",
          "o2o3o4o5",
          "o2o3o4o5-2",
          "o2o3o4o5-3",
          "o4",
          "o4-2",
          "o4-3",
          "0adgio1o2o3o4o5",
          "0aio1o2o3o4o5",
          "0o5o3o4",
          "agio3o4o5",
          "o1o2o3o4o5",
          "o2o3o4o5",
          "o2o3o4o5-2",
          "o2o3o4o5-3",
          "o5",
          "o5-2",
          "o5-3",
          "0adgio1o2o3o4o5",
          "0aio1o2o3o4o5",
          "0o5o3o4",
          "adgio1o2o3",
          "agio3o4o5",
          "o1o2o3o4o5",
          "o2o3o4o5",
          "o2o3o4o5-2",
          "o2o3o4o5-3",
          "o3",
          "o3-2",
          "o3-3",
          "o3-4",
          "0adgio1",
          "0adgio1-2",
          "0adgio1o2o3o4o5",
          "adgio1o2o3",
          "d",
          "d-2",
          "0adgio1",
          "0adgio1-2",
          "0adgio1o2o3o4o5",
          "0agio1o2",
          "adgio1o2o3",
          "agio3o4o5",
          "g",
          "g-2",
          "0adgio1",
          "0adgio1-2",
          "0adgio1o2o3o4o5",
          "0agio1o2",
          "0aio1o2o3o4o5",
          "adgio1o2o3",
          "agio3o4o5",
          "i",
          "i-2",
          "0",
          "0-2",
          "0-3",
          "0-4",
          "0adgio1-2",
          "0adgio1o2o3o4o5",
          "0o5o3o4"
         ],
         "legendgroup": "",
         "marker": {
          "color": "#636efa",
          "symbol": "circle"
         },
         "name": "",
         "offsetgroup": "",
         "scalegroup": "y",
         "showlegend": false,
         "type": "violin",
         "xaxis": "x2",
         "y": [
          106.786544,
          101.77798399999998,
          98.61048000000001,
          105.570064,
          105.650432,
          98.785769,
          98.895272,
          135.890976,
          90.40152533333334,
          46.179432,
          42.645134,
          26.374484999999996,
          39.80950933333333,
          32.660432,
          50.780149333333334,
          98.05727399999999,
          58.76727466666666,
          52.780567999999995,
          50.86044,
          89.56404479999998,
          46.50508800000001,
          117.07873066666666,
          109.3924704,
          85.39313200000001,
          97.455836,
          97.43117,
          50.478092,
          69.309384,
          40.857364000000004,
          204.40304999999998,
          177.839104,
          156.571856,
          168.76666666666665,
          187.71167200000002,
          168.80389866666664,
          137.05219200000002,
          195.579836,
          98.584672,
          98.592435,
          98.60769599999999,
          78.2201475,
          70.89293599999999,
          73.59421999999999,
          75.98553066666666,
          114.493968,
          100.67516160000001,
          98.285248,
          85.751468,
          97.66654,
          98.47971100000001,
          98.725921,
          54.9579375,
          69.500368,
          43.066848,
          75.84854,
          54.792719999999996,
          49.736792,
          79.58698799999999,
          77.162588,
          61.5854,
          98.88962,
          98.86309800000001,
          98.852796,
          98.841121,
          52.67930133333333,
          47.284671,
          37.485659999999996,
          63.64114666666666,
          98.484931,
          98.471052,
          81.370832,
          79.24683199999998,
          70.751565,
          90.89970133333334,
          102.32806400000001,
          70.85072,
          99.218386,
          99.123966,
          88.5632,
          83.78132,
          68.3112,
          96.4688,
          80.441648,
          100.16416,
          68.267312,
          98.556448,
          98.427241,
          49.208518,
          98.267715,
          49.281895,
          98.692177,
          3.5060934999999995,
          13.9715925,
          38.585709333333334
         ],
         "yaxis": "y2"
        }
       ],
       "layout": {
        "legend": {
         "tracegroupgap": 0
        },
        "margin": {
         "t": 60
        },
        "template": {
         "data": {
          "bar": [
           {
            "error_x": {
             "color": "#2a3f5f"
            },
            "error_y": {
             "color": "#2a3f5f"
            },
            "marker": {
             "line": {
              "color": "#E5ECF6",
              "width": 0.5
             },
             "pattern": {
              "fillmode": "overlay",
              "size": 10,
              "solidity": 0.2
             }
            },
            "type": "bar"
           }
          ],
          "barpolar": [
           {
            "marker": {
             "line": {
              "color": "#E5ECF6",
              "width": 0.5
             },
             "pattern": {
              "fillmode": "overlay",
              "size": 10,
              "solidity": 0.2
             }
            },
            "type": "barpolar"
           }
          ],
          "carpet": [
           {
            "aaxis": {
             "endlinecolor": "#2a3f5f",
             "gridcolor": "white",
             "linecolor": "white",
             "minorgridcolor": "white",
             "startlinecolor": "#2a3f5f"
            },
            "baxis": {
             "endlinecolor": "#2a3f5f",
             "gridcolor": "white",
             "linecolor": "white",
             "minorgridcolor": "white",
             "startlinecolor": "#2a3f5f"
            },
            "type": "carpet"
           }
          ],
          "choropleth": [
           {
            "colorbar": {
             "outlinewidth": 0,
             "ticks": ""
            },
            "type": "choropleth"
           }
          ],
          "contour": [
           {
            "colorbar": {
             "outlinewidth": 0,
             "ticks": ""
            },
            "colorscale": [
             [
              0,
              "#0d0887"
             ],
             [
              0.1111111111111111,
              "#46039f"
             ],
             [
              0.2222222222222222,
              "#7201a8"
             ],
             [
              0.3333333333333333,
              "#9c179e"
             ],
             [
              0.4444444444444444,
              "#bd3786"
             ],
             [
              0.5555555555555556,
              "#d8576b"
             ],
             [
              0.6666666666666666,
              "#ed7953"
             ],
             [
              0.7777777777777778,
              "#fb9f3a"
             ],
             [
              0.8888888888888888,
              "#fdca26"
             ],
             [
              1,
              "#f0f921"
             ]
            ],
            "type": "contour"
           }
          ],
          "contourcarpet": [
           {
            "colorbar": {
             "outlinewidth": 0,
             "ticks": ""
            },
            "type": "contourcarpet"
           }
          ],
          "heatmap": [
           {
            "colorbar": {
             "outlinewidth": 0,
             "ticks": ""
            },
            "colorscale": [
             [
              0,
              "#0d0887"
             ],
             [
              0.1111111111111111,
              "#46039f"
             ],
             [
              0.2222222222222222,
              "#7201a8"
             ],
             [
              0.3333333333333333,
              "#9c179e"
             ],
             [
              0.4444444444444444,
              "#bd3786"
             ],
             [
              0.5555555555555556,
              "#d8576b"
             ],
             [
              0.6666666666666666,
              "#ed7953"
             ],
             [
              0.7777777777777778,
              "#fb9f3a"
             ],
             [
              0.8888888888888888,
              "#fdca26"
             ],
             [
              1,
              "#f0f921"
             ]
            ],
            "type": "heatmap"
           }
          ],
          "heatmapgl": [
           {
            "colorbar": {
             "outlinewidth": 0,
             "ticks": ""
            },
            "colorscale": [
             [
              0,
              "#0d0887"
             ],
             [
              0.1111111111111111,
              "#46039f"
             ],
             [
              0.2222222222222222,
              "#7201a8"
             ],
             [
              0.3333333333333333,
              "#9c179e"
             ],
             [
              0.4444444444444444,
              "#bd3786"
             ],
             [
              0.5555555555555556,
              "#d8576b"
             ],
             [
              0.6666666666666666,
              "#ed7953"
             ],
             [
              0.7777777777777778,
              "#fb9f3a"
             ],
             [
              0.8888888888888888,
              "#fdca26"
             ],
             [
              1,
              "#f0f921"
             ]
            ],
            "type": "heatmapgl"
           }
          ],
          "histogram": [
           {
            "marker": {
             "pattern": {
              "fillmode": "overlay",
              "size": 10,
              "solidity": 0.2
             }
            },
            "type": "histogram"
           }
          ],
          "histogram2d": [
           {
            "colorbar": {
             "outlinewidth": 0,
             "ticks": ""
            },
            "colorscale": [
             [
              0,
              "#0d0887"
             ],
             [
              0.1111111111111111,
              "#46039f"
             ],
             [
              0.2222222222222222,
              "#7201a8"
             ],
             [
              0.3333333333333333,
              "#9c179e"
             ],
             [
              0.4444444444444444,
              "#bd3786"
             ],
             [
              0.5555555555555556,
              "#d8576b"
             ],
             [
              0.6666666666666666,
              "#ed7953"
             ],
             [
              0.7777777777777778,
              "#fb9f3a"
             ],
             [
              0.8888888888888888,
              "#fdca26"
             ],
             [
              1,
              "#f0f921"
             ]
            ],
            "type": "histogram2d"
           }
          ],
          "histogram2dcontour": [
           {
            "colorbar": {
             "outlinewidth": 0,
             "ticks": ""
            },
            "colorscale": [
             [
              0,
              "#0d0887"
             ],
             [
              0.1111111111111111,
              "#46039f"
             ],
             [
              0.2222222222222222,
              "#7201a8"
             ],
             [
              0.3333333333333333,
              "#9c179e"
             ],
             [
              0.4444444444444444,
              "#bd3786"
             ],
             [
              0.5555555555555556,
              "#d8576b"
             ],
             [
              0.6666666666666666,
              "#ed7953"
             ],
             [
              0.7777777777777778,
              "#fb9f3a"
             ],
             [
              0.8888888888888888,
              "#fdca26"
             ],
             [
              1,
              "#f0f921"
             ]
            ],
            "type": "histogram2dcontour"
           }
          ],
          "mesh3d": [
           {
            "colorbar": {
             "outlinewidth": 0,
             "ticks": ""
            },
            "type": "mesh3d"
           }
          ],
          "parcoords": [
           {
            "line": {
             "colorbar": {
              "outlinewidth": 0,
              "ticks": ""
             }
            },
            "type": "parcoords"
           }
          ],
          "pie": [
           {
            "automargin": true,
            "type": "pie"
           }
          ],
          "scatter": [
           {
            "fillpattern": {
             "fillmode": "overlay",
             "size": 10,
             "solidity": 0.2
            },
            "type": "scatter"
           }
          ],
          "scatter3d": [
           {
            "line": {
             "colorbar": {
              "outlinewidth": 0,
              "ticks": ""
             }
            },
            "marker": {
             "colorbar": {
              "outlinewidth": 0,
              "ticks": ""
             }
            },
            "type": "scatter3d"
           }
          ],
          "scattercarpet": [
           {
            "marker": {
             "colorbar": {
              "outlinewidth": 0,
              "ticks": ""
             }
            },
            "type": "scattercarpet"
           }
          ],
          "scattergeo": [
           {
            "marker": {
             "colorbar": {
              "outlinewidth": 0,
              "ticks": ""
             }
            },
            "type": "scattergeo"
           }
          ],
          "scattergl": [
           {
            "marker": {
             "colorbar": {
              "outlinewidth": 0,
              "ticks": ""
             }
            },
            "type": "scattergl"
           }
          ],
          "scattermapbox": [
           {
            "marker": {
             "colorbar": {
              "outlinewidth": 0,
              "ticks": ""
             }
            },
            "type": "scattermapbox"
           }
          ],
          "scatterpolar": [
           {
            "marker": {
             "colorbar": {
              "outlinewidth": 0,
              "ticks": ""
             }
            },
            "type": "scatterpolar"
           }
          ],
          "scatterpolargl": [
           {
            "marker": {
             "colorbar": {
              "outlinewidth": 0,
              "ticks": ""
             }
            },
            "type": "scatterpolargl"
           }
          ],
          "scatterternary": [
           {
            "marker": {
             "colorbar": {
              "outlinewidth": 0,
              "ticks": ""
             }
            },
            "type": "scatterternary"
           }
          ],
          "surface": [
           {
            "colorbar": {
             "outlinewidth": 0,
             "ticks": ""
            },
            "colorscale": [
             [
              0,
              "#0d0887"
             ],
             [
              0.1111111111111111,
              "#46039f"
             ],
             [
              0.2222222222222222,
              "#7201a8"
             ],
             [
              0.3333333333333333,
              "#9c179e"
             ],
             [
              0.4444444444444444,
              "#bd3786"
             ],
             [
              0.5555555555555556,
              "#d8576b"
             ],
             [
              0.6666666666666666,
              "#ed7953"
             ],
             [
              0.7777777777777778,
              "#fb9f3a"
             ],
             [
              0.8888888888888888,
              "#fdca26"
             ],
             [
              1,
              "#f0f921"
             ]
            ],
            "type": "surface"
           }
          ],
          "table": [
           {
            "cells": {
             "fill": {
              "color": "#EBF0F8"
             },
             "line": {
              "color": "white"
             }
            },
            "header": {
             "fill": {
              "color": "#C8D4E3"
             },
             "line": {
              "color": "white"
             }
            },
            "type": "table"
           }
          ]
         },
         "layout": {
          "annotationdefaults": {
           "arrowcolor": "#2a3f5f",
           "arrowhead": 0,
           "arrowwidth": 1
          },
          "autotypenumbers": "strict",
          "coloraxis": {
           "colorbar": {
            "outlinewidth": 0,
            "ticks": ""
           }
          },
          "colorscale": {
           "diverging": [
            [
             0,
             "#8e0152"
            ],
            [
             0.1,
             "#c51b7d"
            ],
            [
             0.2,
             "#de77ae"
            ],
            [
             0.3,
             "#f1b6da"
            ],
            [
             0.4,
             "#fde0ef"
            ],
            [
             0.5,
             "#f7f7f7"
            ],
            [
             0.6,
             "#e6f5d0"
            ],
            [
             0.7,
             "#b8e186"
            ],
            [
             0.8,
             "#7fbc41"
            ],
            [
             0.9,
             "#4d9221"
            ],
            [
             1,
             "#276419"
            ]
           ],
           "sequential": [
            [
             0,
             "#0d0887"
            ],
            [
             0.1111111111111111,
             "#46039f"
            ],
            [
             0.2222222222222222,
             "#7201a8"
            ],
            [
             0.3333333333333333,
             "#9c179e"
            ],
            [
             0.4444444444444444,
             "#bd3786"
            ],
            [
             0.5555555555555556,
             "#d8576b"
            ],
            [
             0.6666666666666666,
             "#ed7953"
            ],
            [
             0.7777777777777778,
             "#fb9f3a"
            ],
            [
             0.8888888888888888,
             "#fdca26"
            ],
            [
             1,
             "#f0f921"
            ]
           ],
           "sequentialminus": [
            [
             0,
             "#0d0887"
            ],
            [
             0.1111111111111111,
             "#46039f"
            ],
            [
             0.2222222222222222,
             "#7201a8"
            ],
            [
             0.3333333333333333,
             "#9c179e"
            ],
            [
             0.4444444444444444,
             "#bd3786"
            ],
            [
             0.5555555555555556,
             "#d8576b"
            ],
            [
             0.6666666666666666,
             "#ed7953"
            ],
            [
             0.7777777777777778,
             "#fb9f3a"
            ],
            [
             0.8888888888888888,
             "#fdca26"
            ],
            [
             1,
             "#f0f921"
            ]
           ]
          },
          "colorway": [
           "#636efa",
           "#EF553B",
           "#00cc96",
           "#ab63fa",
           "#FFA15A",
           "#19d3f3",
           "#FF6692",
           "#B6E880",
           "#FF97FF",
           "#FECB52"
          ],
          "font": {
           "color": "#2a3f5f"
          },
          "geo": {
           "bgcolor": "white",
           "lakecolor": "white",
           "landcolor": "#E5ECF6",
           "showlakes": true,
           "showland": true,
           "subunitcolor": "white"
          },
          "hoverlabel": {
           "align": "left"
          },
          "hovermode": "closest",
          "mapbox": {
           "style": "light"
          },
          "paper_bgcolor": "white",
          "plot_bgcolor": "#E5ECF6",
          "polar": {
           "angularaxis": {
            "gridcolor": "white",
            "linecolor": "white",
            "ticks": ""
           },
           "bgcolor": "#E5ECF6",
           "radialaxis": {
            "gridcolor": "white",
            "linecolor": "white",
            "ticks": ""
           }
          },
          "scene": {
           "xaxis": {
            "backgroundcolor": "#E5ECF6",
            "gridcolor": "white",
            "gridwidth": 2,
            "linecolor": "white",
            "showbackground": true,
            "ticks": "",
            "zerolinecolor": "white"
           },
           "yaxis": {
            "backgroundcolor": "#E5ECF6",
            "gridcolor": "white",
            "gridwidth": 2,
            "linecolor": "white",
            "showbackground": true,
            "ticks": "",
            "zerolinecolor": "white"
           },
           "zaxis": {
            "backgroundcolor": "#E5ECF6",
            "gridcolor": "white",
            "gridwidth": 2,
            "linecolor": "white",
            "showbackground": true,
            "ticks": "",
            "zerolinecolor": "white"
           }
          },
          "shapedefaults": {
           "line": {
            "color": "#2a3f5f"
           }
          },
          "ternary": {
           "aaxis": {
            "gridcolor": "white",
            "linecolor": "white",
            "ticks": ""
           },
           "baxis": {
            "gridcolor": "white",
            "linecolor": "white",
            "ticks": ""
           },
           "bgcolor": "#E5ECF6",
           "caxis": {
            "gridcolor": "white",
            "linecolor": "white",
            "ticks": ""
           }
          },
          "title": {
           "x": 0.05
          },
          "xaxis": {
           "automargin": true,
           "gridcolor": "white",
           "linecolor": "white",
           "ticks": "",
           "title": {
            "standoff": 15
           },
           "zerolinecolor": "white",
           "zerolinewidth": 2
          },
          "yaxis": {
           "automargin": true,
           "gridcolor": "white",
           "linecolor": "white",
           "ticks": "",
           "title": {
            "standoff": 15
           },
           "zerolinecolor": "white",
           "zerolinewidth": 2
          }
         }
        },
        "xaxis": {
         "anchor": "y",
         "domain": [
          0,
          0.8358
         ],
         "title": {
          "text": "expected_abundance"
         }
        },
        "xaxis2": {
         "anchor": "y2",
         "domain": [
          0.8408,
          1
         ],
         "matches": "x2",
         "showgrid": false,
         "showline": false,
         "showticklabels": false,
         "ticks": ""
        },
        "xaxis3": {
         "anchor": "y3",
         "domain": [
          0,
          0.8358
         ],
         "matches": "x",
         "showgrid": true,
         "showticklabels": false
        },
        "xaxis4": {
         "anchor": "y4",
         "domain": [
          0.8408,
          1
         ],
         "matches": "x2",
         "showgrid": false,
         "showline": false,
         "showticklabels": false,
         "ticks": ""
        },
        "yaxis": {
         "anchor": "x",
         "domain": [
          0,
          0.8316
         ],
         "title": {
          "text": "percent_of_expected"
         }
        },
        "yaxis2": {
         "anchor": "x2",
         "domain": [
          0,
          0.8316
         ],
         "matches": "y",
         "showgrid": true,
         "showticklabels": false
        },
        "yaxis3": {
         "anchor": "x3",
         "domain": [
          0.8416,
          1
         ],
         "matches": "y3",
         "showgrid": false,
         "showline": false,
         "showticklabels": false,
         "ticks": ""
        },
        "yaxis4": {
         "anchor": "x4",
         "domain": [
          0.8416,
          1
         ],
         "matches": "y3",
         "showgrid": true,
         "showline": false,
         "showticklabels": false,
         "ticks": ""
        }
       }
      },
      "text/html": [
       "<div>                            <div id=\"0f1671c9-8317-4af2-ae06-b1ffca1d0e4a\" class=\"plotly-graph-div\" style=\"height:525px; width:100%;\"></div>            <script type=\"text/javascript\">                require([\"plotly\"], function(Plotly) {                    window.PLOTLYENV=window.PLOTLYENV || {};                                    if (document.getElementById(\"0f1671c9-8317-4af2-ae06-b1ffca1d0e4a\")) {                    Plotly.newPlot(                        \"0f1671c9-8317-4af2-ae06-b1ffca1d0e4a\",                        [{\"hovertemplate\":\"\\u003cb\\u003e%{hovertext}\\u003c\\u002fb\\u003e\\u003cbr\\u003e\\u003cbr\\u003eexpected_abundance=%{x}\\u003cbr\\u003epercent_of_expected=%{y}\\u003cextra\\u003e\\u003c\\u002fextra\\u003e\",\"hovertext\":[\"0adgio1\",\"0adgio1-2\",\"0adgio1o2o3o4o5\",\"0agio1o2\",\"0aio1o2o3o4o5\",\"a\",\"a-2\",\"adgio1o2o3\",\"agio3o4o5\",\"0adgio1\",\"0adgio1-2\",\"0adgio1o2o3o4o5\",\"0agio1o2\",\"0aio1o2o3o4o5\",\"adgio1o2o3\",\"o1-2\",\"o1o2\",\"o1o2o3o4o5\",\"0adgio1o2o3o4o5\",\"0agio1o2\",\"0aio1o2o3o4o5\",\"adgio1o2o3\",\"o1o2\",\"o1o2o3o4o5\",\"o2-2\",\"o2-3\",\"o2o3o4o5\",\"o2o3o4o5-2\",\"o2o3o4o5-3\",\"0adgio1o2o3o4o5\",\"0aio1o2o3o4o5\",\"0o5o3o4\",\"agio3o4o5\",\"o1o2o3o4o5\",\"o2o3o4o5\",\"o2o3o4o5-2\",\"o2o3o4o5-3\",\"o4\",\"o4-2\",\"o4-3\",\"0adgio1o2o3o4o5\",\"0aio1o2o3o4o5\",\"0o5o3o4\",\"agio3o4o5\",\"o1o2o3o4o5\",\"o2o3o4o5\",\"o2o3o4o5-2\",\"o2o3o4o5-3\",\"o5\",\"o5-2\",\"o5-3\",\"0adgio1o2o3o4o5\",\"0aio1o2o3o4o5\",\"0o5o3o4\",\"adgio1o2o3\",\"agio3o4o5\",\"o1o2o3o4o5\",\"o2o3o4o5\",\"o2o3o4o5-2\",\"o2o3o4o5-3\",\"o3\",\"o3-2\",\"o3-3\",\"o3-4\",\"0adgio1\",\"0adgio1-2\",\"0adgio1o2o3o4o5\",\"adgio1o2o3\",\"d\",\"d-2\",\"0adgio1\",\"0adgio1-2\",\"0adgio1o2o3o4o5\",\"0agio1o2\",\"adgio1o2o3\",\"agio3o4o5\",\"g\",\"g-2\",\"0adgio1\",\"0adgio1-2\",\"0adgio1o2o3o4o5\",\"0agio1o2\",\"0aio1o2o3o4o5\",\"adgio1o2o3\",\"agio3o4o5\",\"i\",\"i-2\",\"0\",\"0-2\",\"0-3\",\"0-4\",\"0adgio1-2\",\"0adgio1o2o3o4o5\",\"0o5o3o4\"],\"legendgroup\":\"\",\"marker\":{\"color\":\"#636efa\",\"symbol\":\"circle\"},\"mode\":\"markers\",\"name\":\"\",\"orientation\":\"h\",\"showlegend\":false,\"x\":[0.25,0.14285714285714288,0.06666666666666667,0.0625,0.125,1.0,1.0,0.0625,0.1875,0.125,0.14285714285714288,0.06666666666666667,0.1875,0.125,0.1875,1.0,0.375,0.25,0.13333333333333333,0.3125,0.125,0.1875,0.625,0.25,1.0,1.0,0.25,0.25,0.25,0.13333333333333333,0.125,0.1875,0.1875,0.125,0.1875,0.25,0.25,1.0,1.0,1.0,0.13333333333333333,0.125,0.25,0.1875,0.25,0.3125,0.25,0.25,1.0,1.0,1.0,0.13333333333333333,0.125,0.1875,0.25,0.125,0.125,0.25,0.25,0.25,1.0,1.0,1.0,1.0,0.1875,0.14285714285714288,0.06666666666666667,0.1875,1.0,1.0,0.0625,0.14285714285714288,0.06666666666666667,0.1875,0.0625,0.125,1.0,1.0,0.125,0.14285714285714288,0.06666666666666667,0.125,0.125,0.0625,0.1875,1.0,1.0,1.0,1.0,1.0,1.0,0.28571428571428575,0.13333333333333333,0.375],\"xaxis\":\"x\",\"y\":[106.786544,101.77798399999998,98.61048000000001,105.570064,105.650432,98.785769,98.895272,135.890976,90.40152533333334,46.179432,42.645134,26.374484999999996,39.80950933333333,32.660432,50.780149333333334,98.05727399999999,58.76727466666666,52.780567999999995,50.86044,89.56404479999998,46.50508800000001,117.07873066666666,109.3924704,85.39313200000001,97.455836,97.43117,50.478092,69.309384,40.857364000000004,204.40304999999998,177.839104,156.571856,168.76666666666665,187.71167200000002,168.80389866666664,137.05219200000002,195.579836,98.584672,98.592435,98.60769599999999,78.2201475,70.89293599999999,73.59421999999999,75.98553066666666,114.493968,100.67516160000001,98.285248,85.751468,97.66654,98.47971100000001,98.725921,54.9579375,69.500368,43.066848,75.84854,54.792719999999996,49.736792,79.58698799999999,77.162588,61.5854,98.88962,98.86309800000001,98.852796,98.841121,52.67930133333333,47.284671,37.485659999999996,63.64114666666666,98.484931,98.471052,81.370832,79.24683199999998,70.751565,90.89970133333334,102.32806400000001,70.85072,99.218386,99.123966,88.5632,83.78132,68.3112,96.4688,80.441648,100.16416,68.267312,98.556448,98.427241,49.208518,98.267715,49.281895,98.692177,3.5060934999999995,13.9715925,38.585709333333334],\"yaxis\":\"y\",\"type\":\"scatter\"},{\"alignmentgroup\":\"True\",\"hovertemplate\":\"\\u003cb\\u003e%{hovertext}\\u003c\\u002fb\\u003e\\u003cbr\\u003e\\u003cbr\\u003eexpected_abundance=%{x}\\u003cextra\\u003e\\u003c\\u002fextra\\u003e\",\"hovertext\":[\"0adgio1\",\"0adgio1-2\",\"0adgio1o2o3o4o5\",\"0agio1o2\",\"0aio1o2o3o4o5\",\"a\",\"a-2\",\"adgio1o2o3\",\"agio3o4o5\",\"0adgio1\",\"0adgio1-2\",\"0adgio1o2o3o4o5\",\"0agio1o2\",\"0aio1o2o3o4o5\",\"adgio1o2o3\",\"o1-2\",\"o1o2\",\"o1o2o3o4o5\",\"0adgio1o2o3o4o5\",\"0agio1o2\",\"0aio1o2o3o4o5\",\"adgio1o2o3\",\"o1o2\",\"o1o2o3o4o5\",\"o2-2\",\"o2-3\",\"o2o3o4o5\",\"o2o3o4o5-2\",\"o2o3o4o5-3\",\"0adgio1o2o3o4o5\",\"0aio1o2o3o4o5\",\"0o5o3o4\",\"agio3o4o5\",\"o1o2o3o4o5\",\"o2o3o4o5\",\"o2o3o4o5-2\",\"o2o3o4o5-3\",\"o4\",\"o4-2\",\"o4-3\",\"0adgio1o2o3o4o5\",\"0aio1o2o3o4o5\",\"0o5o3o4\",\"agio3o4o5\",\"o1o2o3o4o5\",\"o2o3o4o5\",\"o2o3o4o5-2\",\"o2o3o4o5-3\",\"o5\",\"o5-2\",\"o5-3\",\"0adgio1o2o3o4o5\",\"0aio1o2o3o4o5\",\"0o5o3o4\",\"adgio1o2o3\",\"agio3o4o5\",\"o1o2o3o4o5\",\"o2o3o4o5\",\"o2o3o4o5-2\",\"o2o3o4o5-3\",\"o3\",\"o3-2\",\"o3-3\",\"o3-4\",\"0adgio1\",\"0adgio1-2\",\"0adgio1o2o3o4o5\",\"adgio1o2o3\",\"d\",\"d-2\",\"0adgio1\",\"0adgio1-2\",\"0adgio1o2o3o4o5\",\"0agio1o2\",\"adgio1o2o3\",\"agio3o4o5\",\"g\",\"g-2\",\"0adgio1\",\"0adgio1-2\",\"0adgio1o2o3o4o5\",\"0agio1o2\",\"0aio1o2o3o4o5\",\"adgio1o2o3\",\"agio3o4o5\",\"i\",\"i-2\",\"0\",\"0-2\",\"0-3\",\"0-4\",\"0adgio1-2\",\"0adgio1o2o3o4o5\",\"0o5o3o4\"],\"legendgroup\":\"\",\"marker\":{\"color\":\"#636efa\",\"symbol\":\"circle\"},\"name\":\"\",\"offsetgroup\":\"\",\"scalegroup\":\"x\",\"showlegend\":false,\"x\":[0.25,0.14285714285714288,0.06666666666666667,0.0625,0.125,1.0,1.0,0.0625,0.1875,0.125,0.14285714285714288,0.06666666666666667,0.1875,0.125,0.1875,1.0,0.375,0.25,0.13333333333333333,0.3125,0.125,0.1875,0.625,0.25,1.0,1.0,0.25,0.25,0.25,0.13333333333333333,0.125,0.1875,0.1875,0.125,0.1875,0.25,0.25,1.0,1.0,1.0,0.13333333333333333,0.125,0.25,0.1875,0.25,0.3125,0.25,0.25,1.0,1.0,1.0,0.13333333333333333,0.125,0.1875,0.25,0.125,0.125,0.25,0.25,0.25,1.0,1.0,1.0,1.0,0.1875,0.14285714285714288,0.06666666666666667,0.1875,1.0,1.0,0.0625,0.14285714285714288,0.06666666666666667,0.1875,0.0625,0.125,1.0,1.0,0.125,0.14285714285714288,0.06666666666666667,0.125,0.125,0.0625,0.1875,1.0,1.0,1.0,1.0,1.0,1.0,0.28571428571428575,0.13333333333333333,0.375],\"xaxis\":\"x3\",\"yaxis\":\"y3\",\"type\":\"violin\"},{\"alignmentgroup\":\"True\",\"hovertemplate\":\"\\u003cb\\u003e%{hovertext}\\u003c\\u002fb\\u003e\\u003cbr\\u003e\\u003cbr\\u003epercent_of_expected=%{y}\\u003cextra\\u003e\\u003c\\u002fextra\\u003e\",\"hovertext\":[\"0adgio1\",\"0adgio1-2\",\"0adgio1o2o3o4o5\",\"0agio1o2\",\"0aio1o2o3o4o5\",\"a\",\"a-2\",\"adgio1o2o3\",\"agio3o4o5\",\"0adgio1\",\"0adgio1-2\",\"0adgio1o2o3o4o5\",\"0agio1o2\",\"0aio1o2o3o4o5\",\"adgio1o2o3\",\"o1-2\",\"o1o2\",\"o1o2o3o4o5\",\"0adgio1o2o3o4o5\",\"0agio1o2\",\"0aio1o2o3o4o5\",\"adgio1o2o3\",\"o1o2\",\"o1o2o3o4o5\",\"o2-2\",\"o2-3\",\"o2o3o4o5\",\"o2o3o4o5-2\",\"o2o3o4o5-3\",\"0adgio1o2o3o4o5\",\"0aio1o2o3o4o5\",\"0o5o3o4\",\"agio3o4o5\",\"o1o2o3o4o5\",\"o2o3o4o5\",\"o2o3o4o5-2\",\"o2o3o4o5-3\",\"o4\",\"o4-2\",\"o4-3\",\"0adgio1o2o3o4o5\",\"0aio1o2o3o4o5\",\"0o5o3o4\",\"agio3o4o5\",\"o1o2o3o4o5\",\"o2o3o4o5\",\"o2o3o4o5-2\",\"o2o3o4o5-3\",\"o5\",\"o5-2\",\"o5-3\",\"0adgio1o2o3o4o5\",\"0aio1o2o3o4o5\",\"0o5o3o4\",\"adgio1o2o3\",\"agio3o4o5\",\"o1o2o3o4o5\",\"o2o3o4o5\",\"o2o3o4o5-2\",\"o2o3o4o5-3\",\"o3\",\"o3-2\",\"o3-3\",\"o3-4\",\"0adgio1\",\"0adgio1-2\",\"0adgio1o2o3o4o5\",\"adgio1o2o3\",\"d\",\"d-2\",\"0adgio1\",\"0adgio1-2\",\"0adgio1o2o3o4o5\",\"0agio1o2\",\"adgio1o2o3\",\"agio3o4o5\",\"g\",\"g-2\",\"0adgio1\",\"0adgio1-2\",\"0adgio1o2o3o4o5\",\"0agio1o2\",\"0aio1o2o3o4o5\",\"adgio1o2o3\",\"agio3o4o5\",\"i\",\"i-2\",\"0\",\"0-2\",\"0-3\",\"0-4\",\"0adgio1-2\",\"0adgio1o2o3o4o5\",\"0o5o3o4\"],\"legendgroup\":\"\",\"marker\":{\"color\":\"#636efa\",\"symbol\":\"circle\"},\"name\":\"\",\"offsetgroup\":\"\",\"scalegroup\":\"y\",\"showlegend\":false,\"xaxis\":\"x2\",\"y\":[106.786544,101.77798399999998,98.61048000000001,105.570064,105.650432,98.785769,98.895272,135.890976,90.40152533333334,46.179432,42.645134,26.374484999999996,39.80950933333333,32.660432,50.780149333333334,98.05727399999999,58.76727466666666,52.780567999999995,50.86044,89.56404479999998,46.50508800000001,117.07873066666666,109.3924704,85.39313200000001,97.455836,97.43117,50.478092,69.309384,40.857364000000004,204.40304999999998,177.839104,156.571856,168.76666666666665,187.71167200000002,168.80389866666664,137.05219200000002,195.579836,98.584672,98.592435,98.60769599999999,78.2201475,70.89293599999999,73.59421999999999,75.98553066666666,114.493968,100.67516160000001,98.285248,85.751468,97.66654,98.47971100000001,98.725921,54.9579375,69.500368,43.066848,75.84854,54.792719999999996,49.736792,79.58698799999999,77.162588,61.5854,98.88962,98.86309800000001,98.852796,98.841121,52.67930133333333,47.284671,37.485659999999996,63.64114666666666,98.484931,98.471052,81.370832,79.24683199999998,70.751565,90.89970133333334,102.32806400000001,70.85072,99.218386,99.123966,88.5632,83.78132,68.3112,96.4688,80.441648,100.16416,68.267312,98.556448,98.427241,49.208518,98.267715,49.281895,98.692177,3.5060934999999995,13.9715925,38.585709333333334],\"yaxis\":\"y2\",\"type\":\"violin\"}],                        {\"template\":{\"data\":{\"histogram2dcontour\":[{\"type\":\"histogram2dcontour\",\"colorbar\":{\"outlinewidth\":0,\"ticks\":\"\"},\"colorscale\":[[0.0,\"#0d0887\"],[0.1111111111111111,\"#46039f\"],[0.2222222222222222,\"#7201a8\"],[0.3333333333333333,\"#9c179e\"],[0.4444444444444444,\"#bd3786\"],[0.5555555555555556,\"#d8576b\"],[0.6666666666666666,\"#ed7953\"],[0.7777777777777778,\"#fb9f3a\"],[0.8888888888888888,\"#fdca26\"],[1.0,\"#f0f921\"]]}],\"choropleth\":[{\"type\":\"choropleth\",\"colorbar\":{\"outlinewidth\":0,\"ticks\":\"\"}}],\"histogram2d\":[{\"type\":\"histogram2d\",\"colorbar\":{\"outlinewidth\":0,\"ticks\":\"\"},\"colorscale\":[[0.0,\"#0d0887\"],[0.1111111111111111,\"#46039f\"],[0.2222222222222222,\"#7201a8\"],[0.3333333333333333,\"#9c179e\"],[0.4444444444444444,\"#bd3786\"],[0.5555555555555556,\"#d8576b\"],[0.6666666666666666,\"#ed7953\"],[0.7777777777777778,\"#fb9f3a\"],[0.8888888888888888,\"#fdca26\"],[1.0,\"#f0f921\"]]}],\"heatmap\":[{\"type\":\"heatmap\",\"colorbar\":{\"outlinewidth\":0,\"ticks\":\"\"},\"colorscale\":[[0.0,\"#0d0887\"],[0.1111111111111111,\"#46039f\"],[0.2222222222222222,\"#7201a8\"],[0.3333333333333333,\"#9c179e\"],[0.4444444444444444,\"#bd3786\"],[0.5555555555555556,\"#d8576b\"],[0.6666666666666666,\"#ed7953\"],[0.7777777777777778,\"#fb9f3a\"],[0.8888888888888888,\"#fdca26\"],[1.0,\"#f0f921\"]]}],\"heatmapgl\":[{\"type\":\"heatmapgl\",\"colorbar\":{\"outlinewidth\":0,\"ticks\":\"\"},\"colorscale\":[[0.0,\"#0d0887\"],[0.1111111111111111,\"#46039f\"],[0.2222222222222222,\"#7201a8\"],[0.3333333333333333,\"#9c179e\"],[0.4444444444444444,\"#bd3786\"],[0.5555555555555556,\"#d8576b\"],[0.6666666666666666,\"#ed7953\"],[0.7777777777777778,\"#fb9f3a\"],[0.8888888888888888,\"#fdca26\"],[1.0,\"#f0f921\"]]}],\"contourcarpet\":[{\"type\":\"contourcarpet\",\"colorbar\":{\"outlinewidth\":0,\"ticks\":\"\"}}],\"contour\":[{\"type\":\"contour\",\"colorbar\":{\"outlinewidth\":0,\"ticks\":\"\"},\"colorscale\":[[0.0,\"#0d0887\"],[0.1111111111111111,\"#46039f\"],[0.2222222222222222,\"#7201a8\"],[0.3333333333333333,\"#9c179e\"],[0.4444444444444444,\"#bd3786\"],[0.5555555555555556,\"#d8576b\"],[0.6666666666666666,\"#ed7953\"],[0.7777777777777778,\"#fb9f3a\"],[0.8888888888888888,\"#fdca26\"],[1.0,\"#f0f921\"]]}],\"surface\":[{\"type\":\"surface\",\"colorbar\":{\"outlinewidth\":0,\"ticks\":\"\"},\"colorscale\":[[0.0,\"#0d0887\"],[0.1111111111111111,\"#46039f\"],[0.2222222222222222,\"#7201a8\"],[0.3333333333333333,\"#9c179e\"],[0.4444444444444444,\"#bd3786\"],[0.5555555555555556,\"#d8576b\"],[0.6666666666666666,\"#ed7953\"],[0.7777777777777778,\"#fb9f3a\"],[0.8888888888888888,\"#fdca26\"],[1.0,\"#f0f921\"]]}],\"mesh3d\":[{\"type\":\"mesh3d\",\"colorbar\":{\"outlinewidth\":0,\"ticks\":\"\"}}],\"scatter\":[{\"fillpattern\":{\"fillmode\":\"overlay\",\"size\":10,\"solidity\":0.2},\"type\":\"scatter\"}],\"parcoords\":[{\"type\":\"parcoords\",\"line\":{\"colorbar\":{\"outlinewidth\":0,\"ticks\":\"\"}}}],\"scatterpolargl\":[{\"type\":\"scatterpolargl\",\"marker\":{\"colorbar\":{\"outlinewidth\":0,\"ticks\":\"\"}}}],\"bar\":[{\"error_x\":{\"color\":\"#2a3f5f\"},\"error_y\":{\"color\":\"#2a3f5f\"},\"marker\":{\"line\":{\"color\":\"#E5ECF6\",\"width\":0.5},\"pattern\":{\"fillmode\":\"overlay\",\"size\":10,\"solidity\":0.2}},\"type\":\"bar\"}],\"scattergeo\":[{\"type\":\"scattergeo\",\"marker\":{\"colorbar\":{\"outlinewidth\":0,\"ticks\":\"\"}}}],\"scatterpolar\":[{\"type\":\"scatterpolar\",\"marker\":{\"colorbar\":{\"outlinewidth\":0,\"ticks\":\"\"}}}],\"histogram\":[{\"marker\":{\"pattern\":{\"fillmode\":\"overlay\",\"size\":10,\"solidity\":0.2}},\"type\":\"histogram\"}],\"scattergl\":[{\"type\":\"scattergl\",\"marker\":{\"colorbar\":{\"outlinewidth\":0,\"ticks\":\"\"}}}],\"scatter3d\":[{\"type\":\"scatter3d\",\"line\":{\"colorbar\":{\"outlinewidth\":0,\"ticks\":\"\"}},\"marker\":{\"colorbar\":{\"outlinewidth\":0,\"ticks\":\"\"}}}],\"scattermapbox\":[{\"type\":\"scattermapbox\",\"marker\":{\"colorbar\":{\"outlinewidth\":0,\"ticks\":\"\"}}}],\"scatterternary\":[{\"type\":\"scatterternary\",\"marker\":{\"colorbar\":{\"outlinewidth\":0,\"ticks\":\"\"}}}],\"scattercarpet\":[{\"type\":\"scattercarpet\",\"marker\":{\"colorbar\":{\"outlinewidth\":0,\"ticks\":\"\"}}}],\"carpet\":[{\"aaxis\":{\"endlinecolor\":\"#2a3f5f\",\"gridcolor\":\"white\",\"linecolor\":\"white\",\"minorgridcolor\":\"white\",\"startlinecolor\":\"#2a3f5f\"},\"baxis\":{\"endlinecolor\":\"#2a3f5f\",\"gridcolor\":\"white\",\"linecolor\":\"white\",\"minorgridcolor\":\"white\",\"startlinecolor\":\"#2a3f5f\"},\"type\":\"carpet\"}],\"table\":[{\"cells\":{\"fill\":{\"color\":\"#EBF0F8\"},\"line\":{\"color\":\"white\"}},\"header\":{\"fill\":{\"color\":\"#C8D4E3\"},\"line\":{\"color\":\"white\"}},\"type\":\"table\"}],\"barpolar\":[{\"marker\":{\"line\":{\"color\":\"#E5ECF6\",\"width\":0.5},\"pattern\":{\"fillmode\":\"overlay\",\"size\":10,\"solidity\":0.2}},\"type\":\"barpolar\"}],\"pie\":[{\"automargin\":true,\"type\":\"pie\"}]},\"layout\":{\"autotypenumbers\":\"strict\",\"colorway\":[\"#636efa\",\"#EF553B\",\"#00cc96\",\"#ab63fa\",\"#FFA15A\",\"#19d3f3\",\"#FF6692\",\"#B6E880\",\"#FF97FF\",\"#FECB52\"],\"font\":{\"color\":\"#2a3f5f\"},\"hovermode\":\"closest\",\"hoverlabel\":{\"align\":\"left\"},\"paper_bgcolor\":\"white\",\"plot_bgcolor\":\"#E5ECF6\",\"polar\":{\"bgcolor\":\"#E5ECF6\",\"angularaxis\":{\"gridcolor\":\"white\",\"linecolor\":\"white\",\"ticks\":\"\"},\"radialaxis\":{\"gridcolor\":\"white\",\"linecolor\":\"white\",\"ticks\":\"\"}},\"ternary\":{\"bgcolor\":\"#E5ECF6\",\"aaxis\":{\"gridcolor\":\"white\",\"linecolor\":\"white\",\"ticks\":\"\"},\"baxis\":{\"gridcolor\":\"white\",\"linecolor\":\"white\",\"ticks\":\"\"},\"caxis\":{\"gridcolor\":\"white\",\"linecolor\":\"white\",\"ticks\":\"\"}},\"coloraxis\":{\"colorbar\":{\"outlinewidth\":0,\"ticks\":\"\"}},\"colorscale\":{\"sequential\":[[0.0,\"#0d0887\"],[0.1111111111111111,\"#46039f\"],[0.2222222222222222,\"#7201a8\"],[0.3333333333333333,\"#9c179e\"],[0.4444444444444444,\"#bd3786\"],[0.5555555555555556,\"#d8576b\"],[0.6666666666666666,\"#ed7953\"],[0.7777777777777778,\"#fb9f3a\"],[0.8888888888888888,\"#fdca26\"],[1.0,\"#f0f921\"]],\"sequentialminus\":[[0.0,\"#0d0887\"],[0.1111111111111111,\"#46039f\"],[0.2222222222222222,\"#7201a8\"],[0.3333333333333333,\"#9c179e\"],[0.4444444444444444,\"#bd3786\"],[0.5555555555555556,\"#d8576b\"],[0.6666666666666666,\"#ed7953\"],[0.7777777777777778,\"#fb9f3a\"],[0.8888888888888888,\"#fdca26\"],[1.0,\"#f0f921\"]],\"diverging\":[[0,\"#8e0152\"],[0.1,\"#c51b7d\"],[0.2,\"#de77ae\"],[0.3,\"#f1b6da\"],[0.4,\"#fde0ef\"],[0.5,\"#f7f7f7\"],[0.6,\"#e6f5d0\"],[0.7,\"#b8e186\"],[0.8,\"#7fbc41\"],[0.9,\"#4d9221\"],[1,\"#276419\"]]},\"xaxis\":{\"gridcolor\":\"white\",\"linecolor\":\"white\",\"ticks\":\"\",\"title\":{\"standoff\":15},\"zerolinecolor\":\"white\",\"automargin\":true,\"zerolinewidth\":2},\"yaxis\":{\"gridcolor\":\"white\",\"linecolor\":\"white\",\"ticks\":\"\",\"title\":{\"standoff\":15},\"zerolinecolor\":\"white\",\"automargin\":true,\"zerolinewidth\":2},\"scene\":{\"xaxis\":{\"backgroundcolor\":\"#E5ECF6\",\"gridcolor\":\"white\",\"linecolor\":\"white\",\"showbackground\":true,\"ticks\":\"\",\"zerolinecolor\":\"white\",\"gridwidth\":2},\"yaxis\":{\"backgroundcolor\":\"#E5ECF6\",\"gridcolor\":\"white\",\"linecolor\":\"white\",\"showbackground\":true,\"ticks\":\"\",\"zerolinecolor\":\"white\",\"gridwidth\":2},\"zaxis\":{\"backgroundcolor\":\"#E5ECF6\",\"gridcolor\":\"white\",\"linecolor\":\"white\",\"showbackground\":true,\"ticks\":\"\",\"zerolinecolor\":\"white\",\"gridwidth\":2}},\"shapedefaults\":{\"line\":{\"color\":\"#2a3f5f\"}},\"annotationdefaults\":{\"arrowcolor\":\"#2a3f5f\",\"arrowhead\":0,\"arrowwidth\":1},\"geo\":{\"bgcolor\":\"white\",\"landcolor\":\"#E5ECF6\",\"subunitcolor\":\"white\",\"showland\":true,\"showlakes\":true,\"lakecolor\":\"white\"},\"title\":{\"x\":0.05},\"mapbox\":{\"style\":\"light\"}}},\"xaxis\":{\"anchor\":\"y\",\"domain\":[0.0,0.8358],\"title\":{\"text\":\"expected_abundance\"}},\"yaxis\":{\"anchor\":\"x\",\"domain\":[0.0,0.8316],\"title\":{\"text\":\"percent_of_expected\"}},\"xaxis2\":{\"anchor\":\"y2\",\"domain\":[0.8408,1.0],\"matches\":\"x2\",\"showticklabels\":false,\"showline\":false,\"ticks\":\"\",\"showgrid\":false},\"yaxis2\":{\"anchor\":\"x2\",\"domain\":[0.0,0.8316],\"matches\":\"y\",\"showticklabels\":false,\"showgrid\":true},\"xaxis3\":{\"anchor\":\"y3\",\"domain\":[0.0,0.8358],\"matches\":\"x\",\"showticklabels\":false,\"showgrid\":true},\"yaxis3\":{\"anchor\":\"x3\",\"domain\":[0.8416,1.0],\"matches\":\"y3\",\"showticklabels\":false,\"showline\":false,\"ticks\":\"\",\"showgrid\":false},\"xaxis4\":{\"anchor\":\"y4\",\"domain\":[0.8408,1.0],\"matches\":\"x2\",\"showticklabels\":false,\"showgrid\":false,\"showline\":false,\"ticks\":\"\"},\"yaxis4\":{\"anchor\":\"x4\",\"domain\":[0.8416,1.0],\"matches\":\"y3\",\"showticklabels\":false,\"showline\":false,\"ticks\":\"\",\"showgrid\":true},\"legend\":{\"tracegroupgap\":0},\"margin\":{\"t\":60}},                        {\"responsive\": true}                    ).then(function(){\n",
       "                            \n",
       "var gd = document.getElementById('0f1671c9-8317-4af2-ae06-b1ffca1d0e4a');\n",
       "var x = new MutationObserver(function (mutations, observer) {{\n",
       "        var display = window.getComputedStyle(gd).display;\n",
       "        if (!display || display === 'none') {{\n",
       "            console.log([gd, 'removed!']);\n",
       "            Plotly.purge(gd);\n",
       "            observer.disconnect();\n",
       "        }}\n",
       "}});\n",
       "\n",
       "// Listen for the removal of the full notebook cells\n",
       "var notebookContainer = gd.closest('#notebook-container');\n",
       "if (notebookContainer) {{\n",
       "    x.observe(notebookContainer, {childList: true});\n",
       "}}\n",
       "\n",
       "// Listen for the clearing of the current output cell\n",
       "var outputEl = gd.closest('.output');\n",
       "if (outputEl) {{\n",
       "    x.observe(outputEl, {childList: true});\n",
       "}}\n",
       "\n",
       "                        })                };                });            </script>        </div>"
      ]
     },
     "metadata": {},
     "output_type": "display_data"
    }
   ],
   "source": [
    "px.scatter(df, x=\"expected_abundance\", y=\"percent_of_expected\", color=None, hover_name=\"Sample name\",\n",
    "           marginal_y='violin',\n",
    "           marginal_x='violin',\n",
    "           )"
   ]
  },
  {
   "cell_type": "code",
   "execution_count": 24,
   "metadata": {},
   "outputs": [
    {
     "data": {
      "application/vnd.plotly.v1+json": {
       "config": {
        "plotlyServerURL": "https://plot.ly"
       },
       "data": [
        {
         "hovertemplate": "<b>%{hovertext}</b><br><br>lineages=Alpha<br>expected_abundance=%{x}<br>abundances=%{y}<extra></extra>",
         "hovertext": [
          "0adgio1",
          "0adgio1-2",
          "0adgio1o2o3o4o5",
          "0agio1o2",
          "0aio1o2o3o4o5",
          "a",
          "a-2",
          "adgio1o2o3",
          "agio3o4o5"
         ],
         "legendgroup": "Alpha",
         "marker": {
          "color": "#636efa",
          "symbol": "circle"
         },
         "mode": "markers",
         "name": "Alpha",
         "orientation": "v",
         "showlegend": true,
         "type": "scatter",
         "x": [
          0.25,
          0.14285714285714288,
          0.06666666666666667,
          0.0625,
          0.125,
          1,
          1,
          0.0625,
          0.1875
         ],
         "xaxis": "x",
         "y": [
          0.26696636,
          0.14539712,
          0.06574032,
          0.06598129,
          0.13206304,
          0.98785769,
          0.98895272,
          0.08493186,
          0.16950286
         ],
         "yaxis": "y"
        },
        {
         "alignmentgroup": "True",
         "hovertemplate": "<b>%{hovertext}</b><br><br>lineages=Alpha<br>expected_abundance=%{x}<extra></extra>",
         "hovertext": [
          "0adgio1",
          "0adgio1-2",
          "0adgio1o2o3o4o5",
          "0agio1o2",
          "0aio1o2o3o4o5",
          "a",
          "a-2",
          "adgio1o2o3",
          "agio3o4o5"
         ],
         "legendgroup": "Alpha",
         "marker": {
          "color": "#636efa",
          "symbol": "circle"
         },
         "name": "Alpha",
         "offsetgroup": "Alpha",
         "scalegroup": "x",
         "showlegend": false,
         "type": "violin",
         "x": [
          0.25,
          0.14285714285714288,
          0.06666666666666667,
          0.0625,
          0.125,
          1,
          1,
          0.0625,
          0.1875
         ],
         "xaxis": "x3",
         "yaxis": "y3"
        },
        {
         "alignmentgroup": "True",
         "hovertemplate": "<b>%{hovertext}</b><br><br>lineages=Alpha<br>abundances=%{y}<extra></extra>",
         "hovertext": [
          "0adgio1",
          "0adgio1-2",
          "0adgio1o2o3o4o5",
          "0agio1o2",
          "0aio1o2o3o4o5",
          "a",
          "a-2",
          "adgio1o2o3",
          "agio3o4o5"
         ],
         "legendgroup": "Alpha",
         "marker": {
          "color": "#636efa",
          "symbol": "circle"
         },
         "name": "Alpha",
         "offsetgroup": "Alpha",
         "scalegroup": "y",
         "showlegend": false,
         "type": "violin",
         "xaxis": "x2",
         "y": [
          0.26696636,
          0.14539712,
          0.06574032,
          0.06598129,
          0.13206304,
          0.98785769,
          0.98895272,
          0.08493186,
          0.16950286
         ],
         "yaxis": "y2"
        },
        {
         "hovertemplate": "<b>%{hovertext}</b><br><br>lineages=BA.1.X<br>expected_abundance=%{x}<br>abundances=%{y}<extra></extra>",
         "hovertext": [
          "0adgio1",
          "0adgio1-2",
          "0adgio1o2o3o4o5",
          "0agio1o2",
          "0aio1o2o3o4o5",
          "adgio1o2o3",
          "o1-2",
          "o1o2",
          "o1o2o3o4o5"
         ],
         "legendgroup": "BA.1.X",
         "marker": {
          "color": "#EF553B",
          "symbol": "circle"
         },
         "mode": "markers",
         "name": "BA.1.X",
         "orientation": "v",
         "showlegend": true,
         "type": "scatter",
         "x": [
          0.125,
          0.14285714285714288,
          0.06666666666666667,
          0.1875,
          0.125,
          0.1875,
          1,
          0.375,
          0.25
         ],
         "xaxis": "x",
         "y": [
          0.05772429,
          0.06092162,
          0.01758299,
          0.07464283,
          0.04082554,
          0.09521278,
          0.9805727399999999,
          0.22037727999999998,
          0.13195141999999999
         ],
         "yaxis": "y"
        },
        {
         "alignmentgroup": "True",
         "hovertemplate": "<b>%{hovertext}</b><br><br>lineages=BA.1.X<br>expected_abundance=%{x}<extra></extra>",
         "hovertext": [
          "0adgio1",
          "0adgio1-2",
          "0adgio1o2o3o4o5",
          "0agio1o2",
          "0aio1o2o3o4o5",
          "adgio1o2o3",
          "o1-2",
          "o1o2",
          "o1o2o3o4o5"
         ],
         "legendgroup": "BA.1.X",
         "marker": {
          "color": "#EF553B",
          "symbol": "circle"
         },
         "name": "BA.1.X",
         "offsetgroup": "BA.1.X",
         "scalegroup": "x",
         "showlegend": false,
         "type": "violin",
         "x": [
          0.125,
          0.14285714285714288,
          0.06666666666666667,
          0.1875,
          0.125,
          0.1875,
          1,
          0.375,
          0.25
         ],
         "xaxis": "x3",
         "yaxis": "y3"
        },
        {
         "alignmentgroup": "True",
         "hovertemplate": "<b>%{hovertext}</b><br><br>lineages=BA.1.X<br>abundances=%{y}<extra></extra>",
         "hovertext": [
          "0adgio1",
          "0adgio1-2",
          "0adgio1o2o3o4o5",
          "0agio1o2",
          "0aio1o2o3o4o5",
          "adgio1o2o3",
          "o1-2",
          "o1o2",
          "o1o2o3o4o5"
         ],
         "legendgroup": "BA.1.X",
         "marker": {
          "color": "#EF553B",
          "symbol": "circle"
         },
         "name": "BA.1.X",
         "offsetgroup": "BA.1.X",
         "scalegroup": "y",
         "showlegend": false,
         "type": "violin",
         "xaxis": "x2",
         "y": [
          0.05772429,
          0.06092162,
          0.01758299,
          0.07464283,
          0.04082554,
          0.09521278,
          0.9805727399999999,
          0.22037727999999998,
          0.13195141999999999
         ],
         "yaxis": "y2"
        },
        {
         "hovertemplate": "<b>%{hovertext}</b><br><br>lineages=BA.2.X<br>expected_abundance=%{x}<br>abundances=%{y}<extra></extra>",
         "hovertext": [
          "0adgio1o2o3o4o5",
          "0agio1o2",
          "0aio1o2o3o4o5",
          "adgio1o2o3",
          "o1o2",
          "o1o2o3o4o5",
          "o2-2",
          "o2-3",
          "o2o3o4o5",
          "o2o3o4o5-2",
          "o2o3o4o5-3"
         ],
         "legendgroup": "BA.2.X",
         "marker": {
          "color": "#00cc96",
          "symbol": "circle"
         },
         "mode": "markers",
         "name": "BA.2.X",
         "orientation": "v",
         "showlegend": true,
         "type": "scatter",
         "x": [
          0.13333333333333333,
          0.3125,
          0.125,
          0.1875,
          0.625,
          0.25,
          1,
          1,
          0.25,
          0.25,
          0.25
         ],
         "xaxis": "x",
         "y": [
          0.06781392,
          0.27988763999999994,
          0.05813136000000001,
          0.21952261999999997,
          0.68370294,
          0.21348283,
          0.9745583600000001,
          0.9743116999999999,
          0.12619523,
          0.17327346,
          0.10214341
         ],
         "yaxis": "y"
        },
        {
         "alignmentgroup": "True",
         "hovertemplate": "<b>%{hovertext}</b><br><br>lineages=BA.2.X<br>expected_abundance=%{x}<extra></extra>",
         "hovertext": [
          "0adgio1o2o3o4o5",
          "0agio1o2",
          "0aio1o2o3o4o5",
          "adgio1o2o3",
          "o1o2",
          "o1o2o3o4o5",
          "o2-2",
          "o2-3",
          "o2o3o4o5",
          "o2o3o4o5-2",
          "o2o3o4o5-3"
         ],
         "legendgroup": "BA.2.X",
         "marker": {
          "color": "#00cc96",
          "symbol": "circle"
         },
         "name": "BA.2.X",
         "offsetgroup": "BA.2.X",
         "scalegroup": "x",
         "showlegend": false,
         "type": "violin",
         "x": [
          0.13333333333333333,
          0.3125,
          0.125,
          0.1875,
          0.625,
          0.25,
          1,
          1,
          0.25,
          0.25,
          0.25
         ],
         "xaxis": "x3",
         "yaxis": "y3"
        },
        {
         "alignmentgroup": "True",
         "hovertemplate": "<b>%{hovertext}</b><br><br>lineages=BA.2.X<br>abundances=%{y}<extra></extra>",
         "hovertext": [
          "0adgio1o2o3o4o5",
          "0agio1o2",
          "0aio1o2o3o4o5",
          "adgio1o2o3",
          "o1o2",
          "o1o2o3o4o5",
          "o2-2",
          "o2-3",
          "o2o3o4o5",
          "o2o3o4o5-2",
          "o2o3o4o5-3"
         ],
         "legendgroup": "BA.2.X",
         "marker": {
          "color": "#00cc96",
          "symbol": "circle"
         },
         "name": "BA.2.X",
         "offsetgroup": "BA.2.X",
         "scalegroup": "y",
         "showlegend": false,
         "type": "violin",
         "xaxis": "x2",
         "y": [
          0.06781392,
          0.27988763999999994,
          0.05813136000000001,
          0.21952261999999997,
          0.68370294,
          0.21348283,
          0.9745583600000001,
          0.9743116999999999,
          0.12619523,
          0.17327346,
          0.10214341
         ],
         "yaxis": "y2"
        },
        {
         "hovertemplate": "<b>%{hovertext}</b><br><br>lineages=BA.4.X<br>expected_abundance=%{x}<br>abundances=%{y}<extra></extra>",
         "hovertext": [
          "0adgio1o2o3o4o5",
          "0aio1o2o3o4o5",
          "0o5o3o4",
          "agio3o4o5",
          "o1o2o3o4o5",
          "o2o3o4o5",
          "o2o3o4o5-2",
          "o2o3o4o5-3",
          "o4",
          "o4-2",
          "o4-3"
         ],
         "legendgroup": "BA.4.X",
         "marker": {
          "color": "#ab63fa",
          "symbol": "circle"
         },
         "mode": "markers",
         "name": "BA.4.X",
         "orientation": "v",
         "showlegend": true,
         "type": "scatter",
         "x": [
          0.13333333333333333,
          0.125,
          0.1875,
          0.1875,
          0.125,
          0.1875,
          0.25,
          0.25,
          1,
          1,
          1
         ],
         "xaxis": "x",
         "y": [
          0.2725374,
          0.22229888,
          0.29357223,
          0.3164375,
          0.23463959,
          0.31650731,
          0.34263048,
          0.48894959,
          0.98584672,
          0.98592435,
          0.9860769599999999
         ],
         "yaxis": "y"
        },
        {
         "alignmentgroup": "True",
         "hovertemplate": "<b>%{hovertext}</b><br><br>lineages=BA.4.X<br>expected_abundance=%{x}<extra></extra>",
         "hovertext": [
          "0adgio1o2o3o4o5",
          "0aio1o2o3o4o5",
          "0o5o3o4",
          "agio3o4o5",
          "o1o2o3o4o5",
          "o2o3o4o5",
          "o2o3o4o5-2",
          "o2o3o4o5-3",
          "o4",
          "o4-2",
          "o4-3"
         ],
         "legendgroup": "BA.4.X",
         "marker": {
          "color": "#ab63fa",
          "symbol": "circle"
         },
         "name": "BA.4.X",
         "offsetgroup": "BA.4.X",
         "scalegroup": "x",
         "showlegend": false,
         "type": "violin",
         "x": [
          0.13333333333333333,
          0.125,
          0.1875,
          0.1875,
          0.125,
          0.1875,
          0.25,
          0.25,
          1,
          1,
          1
         ],
         "xaxis": "x3",
         "yaxis": "y3"
        },
        {
         "alignmentgroup": "True",
         "hovertemplate": "<b>%{hovertext}</b><br><br>lineages=BA.4.X<br>abundances=%{y}<extra></extra>",
         "hovertext": [
          "0adgio1o2o3o4o5",
          "0aio1o2o3o4o5",
          "0o5o3o4",
          "agio3o4o5",
          "o1o2o3o4o5",
          "o2o3o4o5",
          "o2o3o4o5-2",
          "o2o3o4o5-3",
          "o4",
          "o4-2",
          "o4-3"
         ],
         "legendgroup": "BA.4.X",
         "marker": {
          "color": "#ab63fa",
          "symbol": "circle"
         },
         "name": "BA.4.X",
         "offsetgroup": "BA.4.X",
         "scalegroup": "y",
         "showlegend": false,
         "type": "violin",
         "xaxis": "x2",
         "y": [
          0.2725374,
          0.22229888,
          0.29357223,
          0.3164375,
          0.23463959,
          0.31650731,
          0.34263048,
          0.48894959,
          0.98584672,
          0.98592435,
          0.9860769599999999
         ],
         "yaxis": "y2"
        },
        {
         "hovertemplate": "<b>%{hovertext}</b><br><br>lineages=BA.5.X<br>expected_abundance=%{x}<br>abundances=%{y}<extra></extra>",
         "hovertext": [
          "0adgio1o2o3o4o5",
          "0aio1o2o3o4o5",
          "0o5o3o4",
          "agio3o4o5",
          "o1o2o3o4o5",
          "o2o3o4o5",
          "o2o3o4o5-2",
          "o2o3o4o5-3",
          "o5",
          "o5-2",
          "o5-3"
         ],
         "legendgroup": "BA.5.X",
         "marker": {
          "color": "#FFA15A",
          "symbol": "circle"
         },
         "mode": "markers",
         "name": "BA.5.X",
         "orientation": "v",
         "showlegend": true,
         "type": "scatter",
         "x": [
          0.13333333333333333,
          0.125,
          0.25,
          0.1875,
          0.25,
          0.3125,
          0.25,
          0.25,
          1,
          1,
          1
         ],
         "xaxis": "x",
         "y": [
          0.10429353,
          0.08861617,
          0.18398555,
          0.14247287,
          0.28623492,
          0.31460988,
          0.24571312,
          0.21437867000000002,
          0.9766654,
          0.98479711,
          0.98725921
         ],
         "yaxis": "y"
        },
        {
         "alignmentgroup": "True",
         "hovertemplate": "<b>%{hovertext}</b><br><br>lineages=BA.5.X<br>expected_abundance=%{x}<extra></extra>",
         "hovertext": [
          "0adgio1o2o3o4o5",
          "0aio1o2o3o4o5",
          "0o5o3o4",
          "agio3o4o5",
          "o1o2o3o4o5",
          "o2o3o4o5",
          "o2o3o4o5-2",
          "o2o3o4o5-3",
          "o5",
          "o5-2",
          "o5-3"
         ],
         "legendgroup": "BA.5.X",
         "marker": {
          "color": "#FFA15A",
          "symbol": "circle"
         },
         "name": "BA.5.X",
         "offsetgroup": "BA.5.X",
         "scalegroup": "x",
         "showlegend": false,
         "type": "violin",
         "x": [
          0.13333333333333333,
          0.125,
          0.25,
          0.1875,
          0.25,
          0.3125,
          0.25,
          0.25,
          1,
          1,
          1
         ],
         "xaxis": "x3",
         "yaxis": "y3"
        },
        {
         "alignmentgroup": "True",
         "hovertemplate": "<b>%{hovertext}</b><br><br>lineages=BA.5.X<br>abundances=%{y}<extra></extra>",
         "hovertext": [
          "0adgio1o2o3o4o5",
          "0aio1o2o3o4o5",
          "0o5o3o4",
          "agio3o4o5",
          "o1o2o3o4o5",
          "o2o3o4o5",
          "o2o3o4o5-2",
          "o2o3o4o5-3",
          "o5",
          "o5-2",
          "o5-3"
         ],
         "legendgroup": "BA.5.X",
         "marker": {
          "color": "#FFA15A",
          "symbol": "circle"
         },
         "name": "BA.5.X",
         "offsetgroup": "BA.5.X",
         "scalegroup": "y",
         "showlegend": false,
         "type": "violin",
         "xaxis": "x2",
         "y": [
          0.10429353,
          0.08861617,
          0.18398555,
          0.14247287,
          0.28623492,
          0.31460988,
          0.24571312,
          0.21437867000000002,
          0.9766654,
          0.98479711,
          0.98725921
         ],
         "yaxis": "y2"
        },
        {
         "hovertemplate": "<b>%{hovertext}</b><br><br>lineages=BG.X<br>expected_abundance=%{x}<br>abundances=%{y}<extra></extra>",
         "hovertext": [
          "0adgio1o2o3o4o5",
          "0aio1o2o3o4o5",
          "0o5o3o4",
          "adgio1o2o3",
          "agio3o4o5",
          "o1o2o3o4o5",
          "o2o3o4o5",
          "o2o3o4o5-2",
          "o2o3o4o5-3",
          "o3",
          "o3-2",
          "o3-3",
          "o3-4"
         ],
         "legendgroup": "BG.X",
         "marker": {
          "color": "#19d3f3",
          "symbol": "circle"
         },
         "mode": "markers",
         "name": "BG.X",
         "orientation": "v",
         "showlegend": true,
         "type": "scatter",
         "x": [
          0.13333333333333333,
          0.125,
          0.1875,
          0.25,
          0.125,
          0.125,
          0.25,
          0.25,
          0.25,
          1,
          1,
          1,
          1
         ],
         "xaxis": "x",
         "y": [
          0.07327725,
          0.08687546,
          0.08075034,
          0.18962135,
          0.0684909,
          0.06217099,
          0.19896746999999998,
          0.19290647,
          0.1539635,
          0.9888962,
          0.98863098,
          0.98852796,
          0.98841121
         ],
         "yaxis": "y"
        },
        {
         "alignmentgroup": "True",
         "hovertemplate": "<b>%{hovertext}</b><br><br>lineages=BG.X<br>expected_abundance=%{x}<extra></extra>",
         "hovertext": [
          "0adgio1o2o3o4o5",
          "0aio1o2o3o4o5",
          "0o5o3o4",
          "adgio1o2o3",
          "agio3o4o5",
          "o1o2o3o4o5",
          "o2o3o4o5",
          "o2o3o4o5-2",
          "o2o3o4o5-3",
          "o3",
          "o3-2",
          "o3-3",
          "o3-4"
         ],
         "legendgroup": "BG.X",
         "marker": {
          "color": "#19d3f3",
          "symbol": "circle"
         },
         "name": "BG.X",
         "offsetgroup": "BG.X",
         "scalegroup": "x",
         "showlegend": false,
         "type": "violin",
         "x": [
          0.13333333333333333,
          0.125,
          0.1875,
          0.25,
          0.125,
          0.125,
          0.25,
          0.25,
          0.25,
          1,
          1,
          1,
          1
         ],
         "xaxis": "x3",
         "yaxis": "y3"
        },
        {
         "alignmentgroup": "True",
         "hovertemplate": "<b>%{hovertext}</b><br><br>lineages=BG.X<br>abundances=%{y}<extra></extra>",
         "hovertext": [
          "0adgio1o2o3o4o5",
          "0aio1o2o3o4o5",
          "0o5o3o4",
          "adgio1o2o3",
          "agio3o4o5",
          "o1o2o3o4o5",
          "o2o3o4o5",
          "o2o3o4o5-2",
          "o2o3o4o5-3",
          "o3",
          "o3-2",
          "o3-3",
          "o3-4"
         ],
         "legendgroup": "BG.X",
         "marker": {
          "color": "#19d3f3",
          "symbol": "circle"
         },
         "name": "BG.X",
         "offsetgroup": "BG.X",
         "scalegroup": "y",
         "showlegend": false,
         "type": "violin",
         "xaxis": "x2",
         "y": [
          0.07327725,
          0.08687546,
          0.08075034,
          0.18962135,
          0.0684909,
          0.06217099,
          0.19896746999999998,
          0.19290647,
          0.1539635,
          0.9888962,
          0.98863098,
          0.98852796,
          0.98841121
         ],
         "yaxis": "y2"
        },
        {
         "hovertemplate": "<b>%{hovertext}</b><br><br>lineages=Delta<br>expected_abundance=%{x}<br>abundances=%{y}<extra></extra>",
         "hovertext": [
          "0adgio1",
          "0adgio1-2",
          "0adgio1o2o3o4o5",
          "adgio1o2o3",
          "d",
          "d-2"
         ],
         "legendgroup": "Delta",
         "marker": {
          "color": "#FF6692",
          "symbol": "circle"
         },
         "mode": "markers",
         "name": "Delta",
         "orientation": "v",
         "showlegend": true,
         "type": "scatter",
         "x": [
          0.1875,
          0.14285714285714288,
          0.06666666666666667,
          0.1875,
          1,
          1
         ],
         "xaxis": "x",
         "y": [
          0.09877369,
          0.06754953000000001,
          0.02499044,
          0.11932714999999999,
          0.9848493100000001,
          0.98471052
         ],
         "yaxis": "y"
        },
        {
         "alignmentgroup": "True",
         "hovertemplate": "<b>%{hovertext}</b><br><br>lineages=Delta<br>expected_abundance=%{x}<extra></extra>",
         "hovertext": [
          "0adgio1",
          "0adgio1-2",
          "0adgio1o2o3o4o5",
          "adgio1o2o3",
          "d",
          "d-2"
         ],
         "legendgroup": "Delta",
         "marker": {
          "color": "#FF6692",
          "symbol": "circle"
         },
         "name": "Delta",
         "offsetgroup": "Delta",
         "scalegroup": "x",
         "showlegend": false,
         "type": "violin",
         "x": [
          0.1875,
          0.14285714285714288,
          0.06666666666666667,
          0.1875,
          1,
          1
         ],
         "xaxis": "x3",
         "yaxis": "y3"
        },
        {
         "alignmentgroup": "True",
         "hovertemplate": "<b>%{hovertext}</b><br><br>lineages=Delta<br>abundances=%{y}<extra></extra>",
         "hovertext": [
          "0adgio1",
          "0adgio1-2",
          "0adgio1o2o3o4o5",
          "adgio1o2o3",
          "d",
          "d-2"
         ],
         "legendgroup": "Delta",
         "marker": {
          "color": "#FF6692",
          "symbol": "circle"
         },
         "name": "Delta",
         "offsetgroup": "Delta",
         "scalegroup": "y",
         "showlegend": false,
         "type": "violin",
         "xaxis": "x2",
         "y": [
          0.09877369,
          0.06754953000000001,
          0.02499044,
          0.11932714999999999,
          0.9848493100000001,
          0.98471052
         ],
         "yaxis": "y2"
        },
        {
         "hovertemplate": "<b>%{hovertext}</b><br><br>lineages=Gamma<br>expected_abundance=%{x}<br>abundances=%{y}<extra></extra>",
         "hovertext": [
          "0adgio1",
          "0adgio1-2",
          "0adgio1o2o3o4o5",
          "0agio1o2",
          "adgio1o2o3",
          "agio3o4o5",
          "g",
          "g-2"
         ],
         "legendgroup": "Gamma",
         "marker": {
          "color": "#B6E880",
          "symbol": "circle"
         },
         "mode": "markers",
         "name": "Gamma",
         "orientation": "v",
         "showlegend": true,
         "type": "scatter",
         "x": [
          0.0625,
          0.14285714285714288,
          0.06666666666666667,
          0.1875,
          0.0625,
          0.125,
          1,
          1
         ],
         "xaxis": "x",
         "y": [
          0.050856769999999996,
          0.11320975999999999,
          0.04716771,
          0.17043694,
          0.06395504,
          0.08856339999999999,
          0.9921838599999999,
          0.99123966
         ],
         "yaxis": "y"
        },
        {
         "alignmentgroup": "True",
         "hovertemplate": "<b>%{hovertext}</b><br><br>lineages=Gamma<br>expected_abundance=%{x}<extra></extra>",
         "hovertext": [
          "0adgio1",
          "0adgio1-2",
          "0adgio1o2o3o4o5",
          "0agio1o2",
          "adgio1o2o3",
          "agio3o4o5",
          "g",
          "g-2"
         ],
         "legendgroup": "Gamma",
         "marker": {
          "color": "#B6E880",
          "symbol": "circle"
         },
         "name": "Gamma",
         "offsetgroup": "Gamma",
         "scalegroup": "x",
         "showlegend": false,
         "type": "violin",
         "x": [
          0.0625,
          0.14285714285714288,
          0.06666666666666667,
          0.1875,
          0.0625,
          0.125,
          1,
          1
         ],
         "xaxis": "x3",
         "yaxis": "y3"
        },
        {
         "alignmentgroup": "True",
         "hovertemplate": "<b>%{hovertext}</b><br><br>lineages=Gamma<br>abundances=%{y}<extra></extra>",
         "hovertext": [
          "0adgio1",
          "0adgio1-2",
          "0adgio1o2o3o4o5",
          "0agio1o2",
          "adgio1o2o3",
          "agio3o4o5",
          "g",
          "g-2"
         ],
         "legendgroup": "Gamma",
         "marker": {
          "color": "#B6E880",
          "symbol": "circle"
         },
         "name": "Gamma",
         "offsetgroup": "Gamma",
         "scalegroup": "y",
         "showlegend": false,
         "type": "violin",
         "xaxis": "x2",
         "y": [
          0.050856769999999996,
          0.11320975999999999,
          0.04716771,
          0.17043694,
          0.06395504,
          0.08856339999999999,
          0.9921838599999999,
          0.99123966
         ],
         "yaxis": "y2"
        },
        {
         "hovertemplate": "<b>%{hovertext}</b><br><br>lineages=Iota<br>expected_abundance=%{x}<br>abundances=%{y}<extra></extra>",
         "hovertext": [
          "0adgio1",
          "0adgio1-2",
          "0adgio1o2o3o4o5",
          "0agio1o2",
          "0aio1o2o3o4o5",
          "adgio1o2o3",
          "agio3o4o5",
          "i",
          "i-2"
         ],
         "legendgroup": "Iota",
         "marker": {
          "color": "#FF97FF",
          "symbol": "circle"
         },
         "mode": "markers",
         "name": "Iota",
         "orientation": "v",
         "showlegend": true,
         "type": "scatter",
         "x": [
          0.125,
          0.14285714285714288,
          0.06666666666666667,
          0.125,
          0.125,
          0.0625,
          0.1875,
          1,
          1
         ],
         "xaxis": "x",
         "y": [
          0.110704,
          0.1196876,
          0.0455408,
          0.120586,
          0.10055206,
          0.0626026,
          0.12800121,
          0.98556448,
          0.98427241
         ],
         "yaxis": "y"
        },
        {
         "alignmentgroup": "True",
         "hovertemplate": "<b>%{hovertext}</b><br><br>lineages=Iota<br>expected_abundance=%{x}<extra></extra>",
         "hovertext": [
          "0adgio1",
          "0adgio1-2",
          "0adgio1o2o3o4o5",
          "0agio1o2",
          "0aio1o2o3o4o5",
          "adgio1o2o3",
          "agio3o4o5",
          "i",
          "i-2"
         ],
         "legendgroup": "Iota",
         "marker": {
          "color": "#FF97FF",
          "symbol": "circle"
         },
         "name": "Iota",
         "offsetgroup": "Iota",
         "scalegroup": "x",
         "showlegend": false,
         "type": "violin",
         "x": [
          0.125,
          0.14285714285714288,
          0.06666666666666667,
          0.125,
          0.125,
          0.0625,
          0.1875,
          1,
          1
         ],
         "xaxis": "x3",
         "yaxis": "y3"
        },
        {
         "alignmentgroup": "True",
         "hovertemplate": "<b>%{hovertext}</b><br><br>lineages=Iota<br>abundances=%{y}<extra></extra>",
         "hovertext": [
          "0adgio1",
          "0adgio1-2",
          "0adgio1o2o3o4o5",
          "0agio1o2",
          "0aio1o2o3o4o5",
          "adgio1o2o3",
          "agio3o4o5",
          "i",
          "i-2"
         ],
         "legendgroup": "Iota",
         "marker": {
          "color": "#FF97FF",
          "symbol": "circle"
         },
         "name": "Iota",
         "offsetgroup": "Iota",
         "scalegroup": "y",
         "showlegend": false,
         "type": "violin",
         "xaxis": "x2",
         "y": [
          0.110704,
          0.1196876,
          0.0455408,
          0.120586,
          0.10055206,
          0.0626026,
          0.12800121,
          0.98556448,
          0.98427241
         ],
         "yaxis": "y2"
        },
        {
         "hovertemplate": "<b>%{hovertext}</b><br><br>lineages=Wuhan-hu-1<br>expected_abundance=%{x}<br>abundances=%{y}<extra></extra>",
         "hovertext": [
          "0",
          "0-2",
          "0-3",
          "0-4",
          "0adgio1-2",
          "0adgio1o2o3o4o5",
          "0o5o3o4"
         ],
         "legendgroup": "Wuhan-hu-1",
         "marker": {
          "color": "#FECB52",
          "symbol": "circle"
         },
         "mode": "markers",
         "name": "Wuhan-hu-1",
         "orientation": "v",
         "showlegend": true,
         "type": "scatter",
         "x": [
          1,
          1,
          1,
          1,
          0.28571428571428575,
          0.13333333333333333,
          0.375
         ],
         "xaxis": "x",
         "y": [
          0.49208518,
          0.98267715,
          0.49281895,
          0.98692177,
          0.01001741,
          0.01862879,
          0.14469641
         ],
         "yaxis": "y"
        },
        {
         "alignmentgroup": "True",
         "hovertemplate": "<b>%{hovertext}</b><br><br>lineages=Wuhan-hu-1<br>expected_abundance=%{x}<extra></extra>",
         "hovertext": [
          "0",
          "0-2",
          "0-3",
          "0-4",
          "0adgio1-2",
          "0adgio1o2o3o4o5",
          "0o5o3o4"
         ],
         "legendgroup": "Wuhan-hu-1",
         "marker": {
          "color": "#FECB52",
          "symbol": "circle"
         },
         "name": "Wuhan-hu-1",
         "offsetgroup": "Wuhan-hu-1",
         "scalegroup": "x",
         "showlegend": false,
         "type": "violin",
         "x": [
          1,
          1,
          1,
          1,
          0.28571428571428575,
          0.13333333333333333,
          0.375
         ],
         "xaxis": "x3",
         "yaxis": "y3"
        },
        {
         "alignmentgroup": "True",
         "hovertemplate": "<b>%{hovertext}</b><br><br>lineages=Wuhan-hu-1<br>abundances=%{y}<extra></extra>",
         "hovertext": [
          "0",
          "0-2",
          "0-3",
          "0-4",
          "0adgio1-2",
          "0adgio1o2o3o4o5",
          "0o5o3o4"
         ],
         "legendgroup": "Wuhan-hu-1",
         "marker": {
          "color": "#FECB52",
          "symbol": "circle"
         },
         "name": "Wuhan-hu-1",
         "offsetgroup": "Wuhan-hu-1",
         "scalegroup": "y",
         "showlegend": false,
         "type": "violin",
         "xaxis": "x2",
         "y": [
          0.49208518,
          0.98267715,
          0.49281895,
          0.98692177,
          0.01001741,
          0.01862879,
          0.14469641
         ],
         "yaxis": "y2"
        }
       ],
       "layout": {
        "legend": {
         "title": {
          "text": "lineages"
         },
         "tracegroupgap": 0
        },
        "margin": {
         "t": 60
        },
        "template": {
         "data": {
          "bar": [
           {
            "error_x": {
             "color": "#2a3f5f"
            },
            "error_y": {
             "color": "#2a3f5f"
            },
            "marker": {
             "line": {
              "color": "#E5ECF6",
              "width": 0.5
             },
             "pattern": {
              "fillmode": "overlay",
              "size": 10,
              "solidity": 0.2
             }
            },
            "type": "bar"
           }
          ],
          "barpolar": [
           {
            "marker": {
             "line": {
              "color": "#E5ECF6",
              "width": 0.5
             },
             "pattern": {
              "fillmode": "overlay",
              "size": 10,
              "solidity": 0.2
             }
            },
            "type": "barpolar"
           }
          ],
          "carpet": [
           {
            "aaxis": {
             "endlinecolor": "#2a3f5f",
             "gridcolor": "white",
             "linecolor": "white",
             "minorgridcolor": "white",
             "startlinecolor": "#2a3f5f"
            },
            "baxis": {
             "endlinecolor": "#2a3f5f",
             "gridcolor": "white",
             "linecolor": "white",
             "minorgridcolor": "white",
             "startlinecolor": "#2a3f5f"
            },
            "type": "carpet"
           }
          ],
          "choropleth": [
           {
            "colorbar": {
             "outlinewidth": 0,
             "ticks": ""
            },
            "type": "choropleth"
           }
          ],
          "contour": [
           {
            "colorbar": {
             "outlinewidth": 0,
             "ticks": ""
            },
            "colorscale": [
             [
              0,
              "#0d0887"
             ],
             [
              0.1111111111111111,
              "#46039f"
             ],
             [
              0.2222222222222222,
              "#7201a8"
             ],
             [
              0.3333333333333333,
              "#9c179e"
             ],
             [
              0.4444444444444444,
              "#bd3786"
             ],
             [
              0.5555555555555556,
              "#d8576b"
             ],
             [
              0.6666666666666666,
              "#ed7953"
             ],
             [
              0.7777777777777778,
              "#fb9f3a"
             ],
             [
              0.8888888888888888,
              "#fdca26"
             ],
             [
              1,
              "#f0f921"
             ]
            ],
            "type": "contour"
           }
          ],
          "contourcarpet": [
           {
            "colorbar": {
             "outlinewidth": 0,
             "ticks": ""
            },
            "type": "contourcarpet"
           }
          ],
          "heatmap": [
           {
            "colorbar": {
             "outlinewidth": 0,
             "ticks": ""
            },
            "colorscale": [
             [
              0,
              "#0d0887"
             ],
             [
              0.1111111111111111,
              "#46039f"
             ],
             [
              0.2222222222222222,
              "#7201a8"
             ],
             [
              0.3333333333333333,
              "#9c179e"
             ],
             [
              0.4444444444444444,
              "#bd3786"
             ],
             [
              0.5555555555555556,
              "#d8576b"
             ],
             [
              0.6666666666666666,
              "#ed7953"
             ],
             [
              0.7777777777777778,
              "#fb9f3a"
             ],
             [
              0.8888888888888888,
              "#fdca26"
             ],
             [
              1,
              "#f0f921"
             ]
            ],
            "type": "heatmap"
           }
          ],
          "heatmapgl": [
           {
            "colorbar": {
             "outlinewidth": 0,
             "ticks": ""
            },
            "colorscale": [
             [
              0,
              "#0d0887"
             ],
             [
              0.1111111111111111,
              "#46039f"
             ],
             [
              0.2222222222222222,
              "#7201a8"
             ],
             [
              0.3333333333333333,
              "#9c179e"
             ],
             [
              0.4444444444444444,
              "#bd3786"
             ],
             [
              0.5555555555555556,
              "#d8576b"
             ],
             [
              0.6666666666666666,
              "#ed7953"
             ],
             [
              0.7777777777777778,
              "#fb9f3a"
             ],
             [
              0.8888888888888888,
              "#fdca26"
             ],
             [
              1,
              "#f0f921"
             ]
            ],
            "type": "heatmapgl"
           }
          ],
          "histogram": [
           {
            "marker": {
             "pattern": {
              "fillmode": "overlay",
              "size": 10,
              "solidity": 0.2
             }
            },
            "type": "histogram"
           }
          ],
          "histogram2d": [
           {
            "colorbar": {
             "outlinewidth": 0,
             "ticks": ""
            },
            "colorscale": [
             [
              0,
              "#0d0887"
             ],
             [
              0.1111111111111111,
              "#46039f"
             ],
             [
              0.2222222222222222,
              "#7201a8"
             ],
             [
              0.3333333333333333,
              "#9c179e"
             ],
             [
              0.4444444444444444,
              "#bd3786"
             ],
             [
              0.5555555555555556,
              "#d8576b"
             ],
             [
              0.6666666666666666,
              "#ed7953"
             ],
             [
              0.7777777777777778,
              "#fb9f3a"
             ],
             [
              0.8888888888888888,
              "#fdca26"
             ],
             [
              1,
              "#f0f921"
             ]
            ],
            "type": "histogram2d"
           }
          ],
          "histogram2dcontour": [
           {
            "colorbar": {
             "outlinewidth": 0,
             "ticks": ""
            },
            "colorscale": [
             [
              0,
              "#0d0887"
             ],
             [
              0.1111111111111111,
              "#46039f"
             ],
             [
              0.2222222222222222,
              "#7201a8"
             ],
             [
              0.3333333333333333,
              "#9c179e"
             ],
             [
              0.4444444444444444,
              "#bd3786"
             ],
             [
              0.5555555555555556,
              "#d8576b"
             ],
             [
              0.6666666666666666,
              "#ed7953"
             ],
             [
              0.7777777777777778,
              "#fb9f3a"
             ],
             [
              0.8888888888888888,
              "#fdca26"
             ],
             [
              1,
              "#f0f921"
             ]
            ],
            "type": "histogram2dcontour"
           }
          ],
          "mesh3d": [
           {
            "colorbar": {
             "outlinewidth": 0,
             "ticks": ""
            },
            "type": "mesh3d"
           }
          ],
          "parcoords": [
           {
            "line": {
             "colorbar": {
              "outlinewidth": 0,
              "ticks": ""
             }
            },
            "type": "parcoords"
           }
          ],
          "pie": [
           {
            "automargin": true,
            "type": "pie"
           }
          ],
          "scatter": [
           {
            "fillpattern": {
             "fillmode": "overlay",
             "size": 10,
             "solidity": 0.2
            },
            "type": "scatter"
           }
          ],
          "scatter3d": [
           {
            "line": {
             "colorbar": {
              "outlinewidth": 0,
              "ticks": ""
             }
            },
            "marker": {
             "colorbar": {
              "outlinewidth": 0,
              "ticks": ""
             }
            },
            "type": "scatter3d"
           }
          ],
          "scattercarpet": [
           {
            "marker": {
             "colorbar": {
              "outlinewidth": 0,
              "ticks": ""
             }
            },
            "type": "scattercarpet"
           }
          ],
          "scattergeo": [
           {
            "marker": {
             "colorbar": {
              "outlinewidth": 0,
              "ticks": ""
             }
            },
            "type": "scattergeo"
           }
          ],
          "scattergl": [
           {
            "marker": {
             "colorbar": {
              "outlinewidth": 0,
              "ticks": ""
             }
            },
            "type": "scattergl"
           }
          ],
          "scattermapbox": [
           {
            "marker": {
             "colorbar": {
              "outlinewidth": 0,
              "ticks": ""
             }
            },
            "type": "scattermapbox"
           }
          ],
          "scatterpolar": [
           {
            "marker": {
             "colorbar": {
              "outlinewidth": 0,
              "ticks": ""
             }
            },
            "type": "scatterpolar"
           }
          ],
          "scatterpolargl": [
           {
            "marker": {
             "colorbar": {
              "outlinewidth": 0,
              "ticks": ""
             }
            },
            "type": "scatterpolargl"
           }
          ],
          "scatterternary": [
           {
            "marker": {
             "colorbar": {
              "outlinewidth": 0,
              "ticks": ""
             }
            },
            "type": "scatterternary"
           }
          ],
          "surface": [
           {
            "colorbar": {
             "outlinewidth": 0,
             "ticks": ""
            },
            "colorscale": [
             [
              0,
              "#0d0887"
             ],
             [
              0.1111111111111111,
              "#46039f"
             ],
             [
              0.2222222222222222,
              "#7201a8"
             ],
             [
              0.3333333333333333,
              "#9c179e"
             ],
             [
              0.4444444444444444,
              "#bd3786"
             ],
             [
              0.5555555555555556,
              "#d8576b"
             ],
             [
              0.6666666666666666,
              "#ed7953"
             ],
             [
              0.7777777777777778,
              "#fb9f3a"
             ],
             [
              0.8888888888888888,
              "#fdca26"
             ],
             [
              1,
              "#f0f921"
             ]
            ],
            "type": "surface"
           }
          ],
          "table": [
           {
            "cells": {
             "fill": {
              "color": "#EBF0F8"
             },
             "line": {
              "color": "white"
             }
            },
            "header": {
             "fill": {
              "color": "#C8D4E3"
             },
             "line": {
              "color": "white"
             }
            },
            "type": "table"
           }
          ]
         },
         "layout": {
          "annotationdefaults": {
           "arrowcolor": "#2a3f5f",
           "arrowhead": 0,
           "arrowwidth": 1
          },
          "autotypenumbers": "strict",
          "coloraxis": {
           "colorbar": {
            "outlinewidth": 0,
            "ticks": ""
           }
          },
          "colorscale": {
           "diverging": [
            [
             0,
             "#8e0152"
            ],
            [
             0.1,
             "#c51b7d"
            ],
            [
             0.2,
             "#de77ae"
            ],
            [
             0.3,
             "#f1b6da"
            ],
            [
             0.4,
             "#fde0ef"
            ],
            [
             0.5,
             "#f7f7f7"
            ],
            [
             0.6,
             "#e6f5d0"
            ],
            [
             0.7,
             "#b8e186"
            ],
            [
             0.8,
             "#7fbc41"
            ],
            [
             0.9,
             "#4d9221"
            ],
            [
             1,
             "#276419"
            ]
           ],
           "sequential": [
            [
             0,
             "#0d0887"
            ],
            [
             0.1111111111111111,
             "#46039f"
            ],
            [
             0.2222222222222222,
             "#7201a8"
            ],
            [
             0.3333333333333333,
             "#9c179e"
            ],
            [
             0.4444444444444444,
             "#bd3786"
            ],
            [
             0.5555555555555556,
             "#d8576b"
            ],
            [
             0.6666666666666666,
             "#ed7953"
            ],
            [
             0.7777777777777778,
             "#fb9f3a"
            ],
            [
             0.8888888888888888,
             "#fdca26"
            ],
            [
             1,
             "#f0f921"
            ]
           ],
           "sequentialminus": [
            [
             0,
             "#0d0887"
            ],
            [
             0.1111111111111111,
             "#46039f"
            ],
            [
             0.2222222222222222,
             "#7201a8"
            ],
            [
             0.3333333333333333,
             "#9c179e"
            ],
            [
             0.4444444444444444,
             "#bd3786"
            ],
            [
             0.5555555555555556,
             "#d8576b"
            ],
            [
             0.6666666666666666,
             "#ed7953"
            ],
            [
             0.7777777777777778,
             "#fb9f3a"
            ],
            [
             0.8888888888888888,
             "#fdca26"
            ],
            [
             1,
             "#f0f921"
            ]
           ]
          },
          "colorway": [
           "#636efa",
           "#EF553B",
           "#00cc96",
           "#ab63fa",
           "#FFA15A",
           "#19d3f3",
           "#FF6692",
           "#B6E880",
           "#FF97FF",
           "#FECB52"
          ],
          "font": {
           "color": "#2a3f5f"
          },
          "geo": {
           "bgcolor": "white",
           "lakecolor": "white",
           "landcolor": "#E5ECF6",
           "showlakes": true,
           "showland": true,
           "subunitcolor": "white"
          },
          "hoverlabel": {
           "align": "left"
          },
          "hovermode": "closest",
          "mapbox": {
           "style": "light"
          },
          "paper_bgcolor": "white",
          "plot_bgcolor": "#E5ECF6",
          "polar": {
           "angularaxis": {
            "gridcolor": "white",
            "linecolor": "white",
            "ticks": ""
           },
           "bgcolor": "#E5ECF6",
           "radialaxis": {
            "gridcolor": "white",
            "linecolor": "white",
            "ticks": ""
           }
          },
          "scene": {
           "xaxis": {
            "backgroundcolor": "#E5ECF6",
            "gridcolor": "white",
            "gridwidth": 2,
            "linecolor": "white",
            "showbackground": true,
            "ticks": "",
            "zerolinecolor": "white"
           },
           "yaxis": {
            "backgroundcolor": "#E5ECF6",
            "gridcolor": "white",
            "gridwidth": 2,
            "linecolor": "white",
            "showbackground": true,
            "ticks": "",
            "zerolinecolor": "white"
           },
           "zaxis": {
            "backgroundcolor": "#E5ECF6",
            "gridcolor": "white",
            "gridwidth": 2,
            "linecolor": "white",
            "showbackground": true,
            "ticks": "",
            "zerolinecolor": "white"
           }
          },
          "shapedefaults": {
           "line": {
            "color": "#2a3f5f"
           }
          },
          "ternary": {
           "aaxis": {
            "gridcolor": "white",
            "linecolor": "white",
            "ticks": ""
           },
           "baxis": {
            "gridcolor": "white",
            "linecolor": "white",
            "ticks": ""
           },
           "bgcolor": "#E5ECF6",
           "caxis": {
            "gridcolor": "white",
            "linecolor": "white",
            "ticks": ""
           }
          },
          "title": {
           "x": 0.05
          },
          "xaxis": {
           "automargin": true,
           "gridcolor": "white",
           "linecolor": "white",
           "ticks": "",
           "title": {
            "standoff": 15
           },
           "zerolinecolor": "white",
           "zerolinewidth": 2
          },
          "yaxis": {
           "automargin": true,
           "gridcolor": "white",
           "linecolor": "white",
           "ticks": "",
           "title": {
            "standoff": 15
           },
           "zerolinecolor": "white",
           "zerolinewidth": 2
          }
         }
        },
        "xaxis": {
         "anchor": "y",
         "domain": [
          0,
          0.7363
         ],
         "title": {
          "text": "expected_abundance"
         },
         "type": "log"
        },
        "xaxis2": {
         "anchor": "y2",
         "domain": [
          0.7413,
          1
         ],
         "matches": "x2",
         "showgrid": false,
         "showline": false,
         "showticklabels": false,
         "ticks": ""
        },
        "xaxis3": {
         "anchor": "y3",
         "domain": [
          0,
          0.7363
         ],
         "matches": "x",
         "showgrid": true,
         "showticklabels": false,
         "type": "log"
        },
        "xaxis4": {
         "anchor": "y4",
         "domain": [
          0.7413,
          1
         ],
         "matches": "x2",
         "showgrid": false,
         "showline": false,
         "showticklabels": false,
         "ticks": ""
        },
        "yaxis": {
         "anchor": "x",
         "domain": [
          0,
          0.7326
         ],
         "title": {
          "text": "abundances"
         },
         "type": "log"
        },
        "yaxis2": {
         "anchor": "x2",
         "domain": [
          0,
          0.7326
         ],
         "matches": "y",
         "showgrid": true,
         "showticklabels": false,
         "type": "log"
        },
        "yaxis3": {
         "anchor": "x3",
         "domain": [
          0.7426,
          1
         ],
         "matches": "y3",
         "showgrid": false,
         "showline": false,
         "showticklabels": false,
         "ticks": ""
        },
        "yaxis4": {
         "anchor": "x4",
         "domain": [
          0.7426,
          1
         ],
         "matches": "y3",
         "showgrid": true,
         "showline": false,
         "showticklabels": false,
         "ticks": ""
        }
       }
      },
      "text/html": [
       "<div>                            <div id=\"66239c48-f5af-4c4e-a887-bc4d74084017\" class=\"plotly-graph-div\" style=\"height:525px; width:100%;\"></div>            <script type=\"text/javascript\">                require([\"plotly\"], function(Plotly) {                    window.PLOTLYENV=window.PLOTLYENV || {};                                    if (document.getElementById(\"66239c48-f5af-4c4e-a887-bc4d74084017\")) {                    Plotly.newPlot(                        \"66239c48-f5af-4c4e-a887-bc4d74084017\",                        [{\"hovertemplate\":\"\\u003cb\\u003e%{hovertext}\\u003c\\u002fb\\u003e\\u003cbr\\u003e\\u003cbr\\u003elineages=Alpha\\u003cbr\\u003eexpected_abundance=%{x}\\u003cbr\\u003eabundances=%{y}\\u003cextra\\u003e\\u003c\\u002fextra\\u003e\",\"hovertext\":[\"0adgio1\",\"0adgio1-2\",\"0adgio1o2o3o4o5\",\"0agio1o2\",\"0aio1o2o3o4o5\",\"a\",\"a-2\",\"adgio1o2o3\",\"agio3o4o5\"],\"legendgroup\":\"Alpha\",\"marker\":{\"color\":\"#636efa\",\"symbol\":\"circle\"},\"mode\":\"markers\",\"name\":\"Alpha\",\"orientation\":\"v\",\"showlegend\":true,\"x\":[0.25,0.14285714285714288,0.06666666666666667,0.0625,0.125,1.0,1.0,0.0625,0.1875],\"xaxis\":\"x\",\"y\":[0.26696636,0.14539712,0.06574032,0.06598129,0.13206304,0.98785769,0.98895272,0.08493186,0.16950286],\"yaxis\":\"y\",\"type\":\"scatter\"},{\"alignmentgroup\":\"True\",\"hovertemplate\":\"\\u003cb\\u003e%{hovertext}\\u003c\\u002fb\\u003e\\u003cbr\\u003e\\u003cbr\\u003elineages=Alpha\\u003cbr\\u003eexpected_abundance=%{x}\\u003cextra\\u003e\\u003c\\u002fextra\\u003e\",\"hovertext\":[\"0adgio1\",\"0adgio1-2\",\"0adgio1o2o3o4o5\",\"0agio1o2\",\"0aio1o2o3o4o5\",\"a\",\"a-2\",\"adgio1o2o3\",\"agio3o4o5\"],\"legendgroup\":\"Alpha\",\"marker\":{\"color\":\"#636efa\",\"symbol\":\"circle\"},\"name\":\"Alpha\",\"offsetgroup\":\"Alpha\",\"scalegroup\":\"x\",\"showlegend\":false,\"x\":[0.25,0.14285714285714288,0.06666666666666667,0.0625,0.125,1.0,1.0,0.0625,0.1875],\"xaxis\":\"x3\",\"yaxis\":\"y3\",\"type\":\"violin\"},{\"alignmentgroup\":\"True\",\"hovertemplate\":\"\\u003cb\\u003e%{hovertext}\\u003c\\u002fb\\u003e\\u003cbr\\u003e\\u003cbr\\u003elineages=Alpha\\u003cbr\\u003eabundances=%{y}\\u003cextra\\u003e\\u003c\\u002fextra\\u003e\",\"hovertext\":[\"0adgio1\",\"0adgio1-2\",\"0adgio1o2o3o4o5\",\"0agio1o2\",\"0aio1o2o3o4o5\",\"a\",\"a-2\",\"adgio1o2o3\",\"agio3o4o5\"],\"legendgroup\":\"Alpha\",\"marker\":{\"color\":\"#636efa\",\"symbol\":\"circle\"},\"name\":\"Alpha\",\"offsetgroup\":\"Alpha\",\"scalegroup\":\"y\",\"showlegend\":false,\"xaxis\":\"x2\",\"y\":[0.26696636,0.14539712,0.06574032,0.06598129,0.13206304,0.98785769,0.98895272,0.08493186,0.16950286],\"yaxis\":\"y2\",\"type\":\"violin\"},{\"hovertemplate\":\"\\u003cb\\u003e%{hovertext}\\u003c\\u002fb\\u003e\\u003cbr\\u003e\\u003cbr\\u003elineages=BA.1.X\\u003cbr\\u003eexpected_abundance=%{x}\\u003cbr\\u003eabundances=%{y}\\u003cextra\\u003e\\u003c\\u002fextra\\u003e\",\"hovertext\":[\"0adgio1\",\"0adgio1-2\",\"0adgio1o2o3o4o5\",\"0agio1o2\",\"0aio1o2o3o4o5\",\"adgio1o2o3\",\"o1-2\",\"o1o2\",\"o1o2o3o4o5\"],\"legendgroup\":\"BA.1.X\",\"marker\":{\"color\":\"#EF553B\",\"symbol\":\"circle\"},\"mode\":\"markers\",\"name\":\"BA.1.X\",\"orientation\":\"v\",\"showlegend\":true,\"x\":[0.125,0.14285714285714288,0.06666666666666667,0.1875,0.125,0.1875,1.0,0.375,0.25],\"xaxis\":\"x\",\"y\":[0.05772429,0.06092162,0.01758299,0.07464283,0.04082554,0.09521278,0.9805727399999999,0.22037727999999998,0.13195141999999999],\"yaxis\":\"y\",\"type\":\"scatter\"},{\"alignmentgroup\":\"True\",\"hovertemplate\":\"\\u003cb\\u003e%{hovertext}\\u003c\\u002fb\\u003e\\u003cbr\\u003e\\u003cbr\\u003elineages=BA.1.X\\u003cbr\\u003eexpected_abundance=%{x}\\u003cextra\\u003e\\u003c\\u002fextra\\u003e\",\"hovertext\":[\"0adgio1\",\"0adgio1-2\",\"0adgio1o2o3o4o5\",\"0agio1o2\",\"0aio1o2o3o4o5\",\"adgio1o2o3\",\"o1-2\",\"o1o2\",\"o1o2o3o4o5\"],\"legendgroup\":\"BA.1.X\",\"marker\":{\"color\":\"#EF553B\",\"symbol\":\"circle\"},\"name\":\"BA.1.X\",\"offsetgroup\":\"BA.1.X\",\"scalegroup\":\"x\",\"showlegend\":false,\"x\":[0.125,0.14285714285714288,0.06666666666666667,0.1875,0.125,0.1875,1.0,0.375,0.25],\"xaxis\":\"x3\",\"yaxis\":\"y3\",\"type\":\"violin\"},{\"alignmentgroup\":\"True\",\"hovertemplate\":\"\\u003cb\\u003e%{hovertext}\\u003c\\u002fb\\u003e\\u003cbr\\u003e\\u003cbr\\u003elineages=BA.1.X\\u003cbr\\u003eabundances=%{y}\\u003cextra\\u003e\\u003c\\u002fextra\\u003e\",\"hovertext\":[\"0adgio1\",\"0adgio1-2\",\"0adgio1o2o3o4o5\",\"0agio1o2\",\"0aio1o2o3o4o5\",\"adgio1o2o3\",\"o1-2\",\"o1o2\",\"o1o2o3o4o5\"],\"legendgroup\":\"BA.1.X\",\"marker\":{\"color\":\"#EF553B\",\"symbol\":\"circle\"},\"name\":\"BA.1.X\",\"offsetgroup\":\"BA.1.X\",\"scalegroup\":\"y\",\"showlegend\":false,\"xaxis\":\"x2\",\"y\":[0.05772429,0.06092162,0.01758299,0.07464283,0.04082554,0.09521278,0.9805727399999999,0.22037727999999998,0.13195141999999999],\"yaxis\":\"y2\",\"type\":\"violin\"},{\"hovertemplate\":\"\\u003cb\\u003e%{hovertext}\\u003c\\u002fb\\u003e\\u003cbr\\u003e\\u003cbr\\u003elineages=BA.2.X\\u003cbr\\u003eexpected_abundance=%{x}\\u003cbr\\u003eabundances=%{y}\\u003cextra\\u003e\\u003c\\u002fextra\\u003e\",\"hovertext\":[\"0adgio1o2o3o4o5\",\"0agio1o2\",\"0aio1o2o3o4o5\",\"adgio1o2o3\",\"o1o2\",\"o1o2o3o4o5\",\"o2-2\",\"o2-3\",\"o2o3o4o5\",\"o2o3o4o5-2\",\"o2o3o4o5-3\"],\"legendgroup\":\"BA.2.X\",\"marker\":{\"color\":\"#00cc96\",\"symbol\":\"circle\"},\"mode\":\"markers\",\"name\":\"BA.2.X\",\"orientation\":\"v\",\"showlegend\":true,\"x\":[0.13333333333333333,0.3125,0.125,0.1875,0.625,0.25,1.0,1.0,0.25,0.25,0.25],\"xaxis\":\"x\",\"y\":[0.06781392,0.27988763999999994,0.05813136000000001,0.21952261999999997,0.68370294,0.21348283,0.9745583600000001,0.9743116999999999,0.12619523,0.17327346,0.10214341],\"yaxis\":\"y\",\"type\":\"scatter\"},{\"alignmentgroup\":\"True\",\"hovertemplate\":\"\\u003cb\\u003e%{hovertext}\\u003c\\u002fb\\u003e\\u003cbr\\u003e\\u003cbr\\u003elineages=BA.2.X\\u003cbr\\u003eexpected_abundance=%{x}\\u003cextra\\u003e\\u003c\\u002fextra\\u003e\",\"hovertext\":[\"0adgio1o2o3o4o5\",\"0agio1o2\",\"0aio1o2o3o4o5\",\"adgio1o2o3\",\"o1o2\",\"o1o2o3o4o5\",\"o2-2\",\"o2-3\",\"o2o3o4o5\",\"o2o3o4o5-2\",\"o2o3o4o5-3\"],\"legendgroup\":\"BA.2.X\",\"marker\":{\"color\":\"#00cc96\",\"symbol\":\"circle\"},\"name\":\"BA.2.X\",\"offsetgroup\":\"BA.2.X\",\"scalegroup\":\"x\",\"showlegend\":false,\"x\":[0.13333333333333333,0.3125,0.125,0.1875,0.625,0.25,1.0,1.0,0.25,0.25,0.25],\"xaxis\":\"x3\",\"yaxis\":\"y3\",\"type\":\"violin\"},{\"alignmentgroup\":\"True\",\"hovertemplate\":\"\\u003cb\\u003e%{hovertext}\\u003c\\u002fb\\u003e\\u003cbr\\u003e\\u003cbr\\u003elineages=BA.2.X\\u003cbr\\u003eabundances=%{y}\\u003cextra\\u003e\\u003c\\u002fextra\\u003e\",\"hovertext\":[\"0adgio1o2o3o4o5\",\"0agio1o2\",\"0aio1o2o3o4o5\",\"adgio1o2o3\",\"o1o2\",\"o1o2o3o4o5\",\"o2-2\",\"o2-3\",\"o2o3o4o5\",\"o2o3o4o5-2\",\"o2o3o4o5-3\"],\"legendgroup\":\"BA.2.X\",\"marker\":{\"color\":\"#00cc96\",\"symbol\":\"circle\"},\"name\":\"BA.2.X\",\"offsetgroup\":\"BA.2.X\",\"scalegroup\":\"y\",\"showlegend\":false,\"xaxis\":\"x2\",\"y\":[0.06781392,0.27988763999999994,0.05813136000000001,0.21952261999999997,0.68370294,0.21348283,0.9745583600000001,0.9743116999999999,0.12619523,0.17327346,0.10214341],\"yaxis\":\"y2\",\"type\":\"violin\"},{\"hovertemplate\":\"\\u003cb\\u003e%{hovertext}\\u003c\\u002fb\\u003e\\u003cbr\\u003e\\u003cbr\\u003elineages=BA.4.X\\u003cbr\\u003eexpected_abundance=%{x}\\u003cbr\\u003eabundances=%{y}\\u003cextra\\u003e\\u003c\\u002fextra\\u003e\",\"hovertext\":[\"0adgio1o2o3o4o5\",\"0aio1o2o3o4o5\",\"0o5o3o4\",\"agio3o4o5\",\"o1o2o3o4o5\",\"o2o3o4o5\",\"o2o3o4o5-2\",\"o2o3o4o5-3\",\"o4\",\"o4-2\",\"o4-3\"],\"legendgroup\":\"BA.4.X\",\"marker\":{\"color\":\"#ab63fa\",\"symbol\":\"circle\"},\"mode\":\"markers\",\"name\":\"BA.4.X\",\"orientation\":\"v\",\"showlegend\":true,\"x\":[0.13333333333333333,0.125,0.1875,0.1875,0.125,0.1875,0.25,0.25,1.0,1.0,1.0],\"xaxis\":\"x\",\"y\":[0.2725374,0.22229888,0.29357223,0.3164375,0.23463959,0.31650731,0.34263048,0.48894959,0.98584672,0.98592435,0.9860769599999999],\"yaxis\":\"y\",\"type\":\"scatter\"},{\"alignmentgroup\":\"True\",\"hovertemplate\":\"\\u003cb\\u003e%{hovertext}\\u003c\\u002fb\\u003e\\u003cbr\\u003e\\u003cbr\\u003elineages=BA.4.X\\u003cbr\\u003eexpected_abundance=%{x}\\u003cextra\\u003e\\u003c\\u002fextra\\u003e\",\"hovertext\":[\"0adgio1o2o3o4o5\",\"0aio1o2o3o4o5\",\"0o5o3o4\",\"agio3o4o5\",\"o1o2o3o4o5\",\"o2o3o4o5\",\"o2o3o4o5-2\",\"o2o3o4o5-3\",\"o4\",\"o4-2\",\"o4-3\"],\"legendgroup\":\"BA.4.X\",\"marker\":{\"color\":\"#ab63fa\",\"symbol\":\"circle\"},\"name\":\"BA.4.X\",\"offsetgroup\":\"BA.4.X\",\"scalegroup\":\"x\",\"showlegend\":false,\"x\":[0.13333333333333333,0.125,0.1875,0.1875,0.125,0.1875,0.25,0.25,1.0,1.0,1.0],\"xaxis\":\"x3\",\"yaxis\":\"y3\",\"type\":\"violin\"},{\"alignmentgroup\":\"True\",\"hovertemplate\":\"\\u003cb\\u003e%{hovertext}\\u003c\\u002fb\\u003e\\u003cbr\\u003e\\u003cbr\\u003elineages=BA.4.X\\u003cbr\\u003eabundances=%{y}\\u003cextra\\u003e\\u003c\\u002fextra\\u003e\",\"hovertext\":[\"0adgio1o2o3o4o5\",\"0aio1o2o3o4o5\",\"0o5o3o4\",\"agio3o4o5\",\"o1o2o3o4o5\",\"o2o3o4o5\",\"o2o3o4o5-2\",\"o2o3o4o5-3\",\"o4\",\"o4-2\",\"o4-3\"],\"legendgroup\":\"BA.4.X\",\"marker\":{\"color\":\"#ab63fa\",\"symbol\":\"circle\"},\"name\":\"BA.4.X\",\"offsetgroup\":\"BA.4.X\",\"scalegroup\":\"y\",\"showlegend\":false,\"xaxis\":\"x2\",\"y\":[0.2725374,0.22229888,0.29357223,0.3164375,0.23463959,0.31650731,0.34263048,0.48894959,0.98584672,0.98592435,0.9860769599999999],\"yaxis\":\"y2\",\"type\":\"violin\"},{\"hovertemplate\":\"\\u003cb\\u003e%{hovertext}\\u003c\\u002fb\\u003e\\u003cbr\\u003e\\u003cbr\\u003elineages=BA.5.X\\u003cbr\\u003eexpected_abundance=%{x}\\u003cbr\\u003eabundances=%{y}\\u003cextra\\u003e\\u003c\\u002fextra\\u003e\",\"hovertext\":[\"0adgio1o2o3o4o5\",\"0aio1o2o3o4o5\",\"0o5o3o4\",\"agio3o4o5\",\"o1o2o3o4o5\",\"o2o3o4o5\",\"o2o3o4o5-2\",\"o2o3o4o5-3\",\"o5\",\"o5-2\",\"o5-3\"],\"legendgroup\":\"BA.5.X\",\"marker\":{\"color\":\"#FFA15A\",\"symbol\":\"circle\"},\"mode\":\"markers\",\"name\":\"BA.5.X\",\"orientation\":\"v\",\"showlegend\":true,\"x\":[0.13333333333333333,0.125,0.25,0.1875,0.25,0.3125,0.25,0.25,1.0,1.0,1.0],\"xaxis\":\"x\",\"y\":[0.10429353,0.08861617,0.18398555,0.14247287,0.28623492,0.31460988,0.24571312,0.21437867000000002,0.9766654,0.98479711,0.98725921],\"yaxis\":\"y\",\"type\":\"scatter\"},{\"alignmentgroup\":\"True\",\"hovertemplate\":\"\\u003cb\\u003e%{hovertext}\\u003c\\u002fb\\u003e\\u003cbr\\u003e\\u003cbr\\u003elineages=BA.5.X\\u003cbr\\u003eexpected_abundance=%{x}\\u003cextra\\u003e\\u003c\\u002fextra\\u003e\",\"hovertext\":[\"0adgio1o2o3o4o5\",\"0aio1o2o3o4o5\",\"0o5o3o4\",\"agio3o4o5\",\"o1o2o3o4o5\",\"o2o3o4o5\",\"o2o3o4o5-2\",\"o2o3o4o5-3\",\"o5\",\"o5-2\",\"o5-3\"],\"legendgroup\":\"BA.5.X\",\"marker\":{\"color\":\"#FFA15A\",\"symbol\":\"circle\"},\"name\":\"BA.5.X\",\"offsetgroup\":\"BA.5.X\",\"scalegroup\":\"x\",\"showlegend\":false,\"x\":[0.13333333333333333,0.125,0.25,0.1875,0.25,0.3125,0.25,0.25,1.0,1.0,1.0],\"xaxis\":\"x3\",\"yaxis\":\"y3\",\"type\":\"violin\"},{\"alignmentgroup\":\"True\",\"hovertemplate\":\"\\u003cb\\u003e%{hovertext}\\u003c\\u002fb\\u003e\\u003cbr\\u003e\\u003cbr\\u003elineages=BA.5.X\\u003cbr\\u003eabundances=%{y}\\u003cextra\\u003e\\u003c\\u002fextra\\u003e\",\"hovertext\":[\"0adgio1o2o3o4o5\",\"0aio1o2o3o4o5\",\"0o5o3o4\",\"agio3o4o5\",\"o1o2o3o4o5\",\"o2o3o4o5\",\"o2o3o4o5-2\",\"o2o3o4o5-3\",\"o5\",\"o5-2\",\"o5-3\"],\"legendgroup\":\"BA.5.X\",\"marker\":{\"color\":\"#FFA15A\",\"symbol\":\"circle\"},\"name\":\"BA.5.X\",\"offsetgroup\":\"BA.5.X\",\"scalegroup\":\"y\",\"showlegend\":false,\"xaxis\":\"x2\",\"y\":[0.10429353,0.08861617,0.18398555,0.14247287,0.28623492,0.31460988,0.24571312,0.21437867000000002,0.9766654,0.98479711,0.98725921],\"yaxis\":\"y2\",\"type\":\"violin\"},{\"hovertemplate\":\"\\u003cb\\u003e%{hovertext}\\u003c\\u002fb\\u003e\\u003cbr\\u003e\\u003cbr\\u003elineages=BG.X\\u003cbr\\u003eexpected_abundance=%{x}\\u003cbr\\u003eabundances=%{y}\\u003cextra\\u003e\\u003c\\u002fextra\\u003e\",\"hovertext\":[\"0adgio1o2o3o4o5\",\"0aio1o2o3o4o5\",\"0o5o3o4\",\"adgio1o2o3\",\"agio3o4o5\",\"o1o2o3o4o5\",\"o2o3o4o5\",\"o2o3o4o5-2\",\"o2o3o4o5-3\",\"o3\",\"o3-2\",\"o3-3\",\"o3-4\"],\"legendgroup\":\"BG.X\",\"marker\":{\"color\":\"#19d3f3\",\"symbol\":\"circle\"},\"mode\":\"markers\",\"name\":\"BG.X\",\"orientation\":\"v\",\"showlegend\":true,\"x\":[0.13333333333333333,0.125,0.1875,0.25,0.125,0.125,0.25,0.25,0.25,1.0,1.0,1.0,1.0],\"xaxis\":\"x\",\"y\":[0.07327725,0.08687546,0.08075034,0.18962135,0.0684909,0.06217099,0.19896746999999998,0.19290647,0.1539635,0.9888962,0.98863098,0.98852796,0.98841121],\"yaxis\":\"y\",\"type\":\"scatter\"},{\"alignmentgroup\":\"True\",\"hovertemplate\":\"\\u003cb\\u003e%{hovertext}\\u003c\\u002fb\\u003e\\u003cbr\\u003e\\u003cbr\\u003elineages=BG.X\\u003cbr\\u003eexpected_abundance=%{x}\\u003cextra\\u003e\\u003c\\u002fextra\\u003e\",\"hovertext\":[\"0adgio1o2o3o4o5\",\"0aio1o2o3o4o5\",\"0o5o3o4\",\"adgio1o2o3\",\"agio3o4o5\",\"o1o2o3o4o5\",\"o2o3o4o5\",\"o2o3o4o5-2\",\"o2o3o4o5-3\",\"o3\",\"o3-2\",\"o3-3\",\"o3-4\"],\"legendgroup\":\"BG.X\",\"marker\":{\"color\":\"#19d3f3\",\"symbol\":\"circle\"},\"name\":\"BG.X\",\"offsetgroup\":\"BG.X\",\"scalegroup\":\"x\",\"showlegend\":false,\"x\":[0.13333333333333333,0.125,0.1875,0.25,0.125,0.125,0.25,0.25,0.25,1.0,1.0,1.0,1.0],\"xaxis\":\"x3\",\"yaxis\":\"y3\",\"type\":\"violin\"},{\"alignmentgroup\":\"True\",\"hovertemplate\":\"\\u003cb\\u003e%{hovertext}\\u003c\\u002fb\\u003e\\u003cbr\\u003e\\u003cbr\\u003elineages=BG.X\\u003cbr\\u003eabundances=%{y}\\u003cextra\\u003e\\u003c\\u002fextra\\u003e\",\"hovertext\":[\"0adgio1o2o3o4o5\",\"0aio1o2o3o4o5\",\"0o5o3o4\",\"adgio1o2o3\",\"agio3o4o5\",\"o1o2o3o4o5\",\"o2o3o4o5\",\"o2o3o4o5-2\",\"o2o3o4o5-3\",\"o3\",\"o3-2\",\"o3-3\",\"o3-4\"],\"legendgroup\":\"BG.X\",\"marker\":{\"color\":\"#19d3f3\",\"symbol\":\"circle\"},\"name\":\"BG.X\",\"offsetgroup\":\"BG.X\",\"scalegroup\":\"y\",\"showlegend\":false,\"xaxis\":\"x2\",\"y\":[0.07327725,0.08687546,0.08075034,0.18962135,0.0684909,0.06217099,0.19896746999999998,0.19290647,0.1539635,0.9888962,0.98863098,0.98852796,0.98841121],\"yaxis\":\"y2\",\"type\":\"violin\"},{\"hovertemplate\":\"\\u003cb\\u003e%{hovertext}\\u003c\\u002fb\\u003e\\u003cbr\\u003e\\u003cbr\\u003elineages=Delta\\u003cbr\\u003eexpected_abundance=%{x}\\u003cbr\\u003eabundances=%{y}\\u003cextra\\u003e\\u003c\\u002fextra\\u003e\",\"hovertext\":[\"0adgio1\",\"0adgio1-2\",\"0adgio1o2o3o4o5\",\"adgio1o2o3\",\"d\",\"d-2\"],\"legendgroup\":\"Delta\",\"marker\":{\"color\":\"#FF6692\",\"symbol\":\"circle\"},\"mode\":\"markers\",\"name\":\"Delta\",\"orientation\":\"v\",\"showlegend\":true,\"x\":[0.1875,0.14285714285714288,0.06666666666666667,0.1875,1.0,1.0],\"xaxis\":\"x\",\"y\":[0.09877369,0.06754953000000001,0.02499044,0.11932714999999999,0.9848493100000001,0.98471052],\"yaxis\":\"y\",\"type\":\"scatter\"},{\"alignmentgroup\":\"True\",\"hovertemplate\":\"\\u003cb\\u003e%{hovertext}\\u003c\\u002fb\\u003e\\u003cbr\\u003e\\u003cbr\\u003elineages=Delta\\u003cbr\\u003eexpected_abundance=%{x}\\u003cextra\\u003e\\u003c\\u002fextra\\u003e\",\"hovertext\":[\"0adgio1\",\"0adgio1-2\",\"0adgio1o2o3o4o5\",\"adgio1o2o3\",\"d\",\"d-2\"],\"legendgroup\":\"Delta\",\"marker\":{\"color\":\"#FF6692\",\"symbol\":\"circle\"},\"name\":\"Delta\",\"offsetgroup\":\"Delta\",\"scalegroup\":\"x\",\"showlegend\":false,\"x\":[0.1875,0.14285714285714288,0.06666666666666667,0.1875,1.0,1.0],\"xaxis\":\"x3\",\"yaxis\":\"y3\",\"type\":\"violin\"},{\"alignmentgroup\":\"True\",\"hovertemplate\":\"\\u003cb\\u003e%{hovertext}\\u003c\\u002fb\\u003e\\u003cbr\\u003e\\u003cbr\\u003elineages=Delta\\u003cbr\\u003eabundances=%{y}\\u003cextra\\u003e\\u003c\\u002fextra\\u003e\",\"hovertext\":[\"0adgio1\",\"0adgio1-2\",\"0adgio1o2o3o4o5\",\"adgio1o2o3\",\"d\",\"d-2\"],\"legendgroup\":\"Delta\",\"marker\":{\"color\":\"#FF6692\",\"symbol\":\"circle\"},\"name\":\"Delta\",\"offsetgroup\":\"Delta\",\"scalegroup\":\"y\",\"showlegend\":false,\"xaxis\":\"x2\",\"y\":[0.09877369,0.06754953000000001,0.02499044,0.11932714999999999,0.9848493100000001,0.98471052],\"yaxis\":\"y2\",\"type\":\"violin\"},{\"hovertemplate\":\"\\u003cb\\u003e%{hovertext}\\u003c\\u002fb\\u003e\\u003cbr\\u003e\\u003cbr\\u003elineages=Gamma\\u003cbr\\u003eexpected_abundance=%{x}\\u003cbr\\u003eabundances=%{y}\\u003cextra\\u003e\\u003c\\u002fextra\\u003e\",\"hovertext\":[\"0adgio1\",\"0adgio1-2\",\"0adgio1o2o3o4o5\",\"0agio1o2\",\"adgio1o2o3\",\"agio3o4o5\",\"g\",\"g-2\"],\"legendgroup\":\"Gamma\",\"marker\":{\"color\":\"#B6E880\",\"symbol\":\"circle\"},\"mode\":\"markers\",\"name\":\"Gamma\",\"orientation\":\"v\",\"showlegend\":true,\"x\":[0.0625,0.14285714285714288,0.06666666666666667,0.1875,0.0625,0.125,1.0,1.0],\"xaxis\":\"x\",\"y\":[0.050856769999999996,0.11320975999999999,0.04716771,0.17043694,0.06395504,0.08856339999999999,0.9921838599999999,0.99123966],\"yaxis\":\"y\",\"type\":\"scatter\"},{\"alignmentgroup\":\"True\",\"hovertemplate\":\"\\u003cb\\u003e%{hovertext}\\u003c\\u002fb\\u003e\\u003cbr\\u003e\\u003cbr\\u003elineages=Gamma\\u003cbr\\u003eexpected_abundance=%{x}\\u003cextra\\u003e\\u003c\\u002fextra\\u003e\",\"hovertext\":[\"0adgio1\",\"0adgio1-2\",\"0adgio1o2o3o4o5\",\"0agio1o2\",\"adgio1o2o3\",\"agio3o4o5\",\"g\",\"g-2\"],\"legendgroup\":\"Gamma\",\"marker\":{\"color\":\"#B6E880\",\"symbol\":\"circle\"},\"name\":\"Gamma\",\"offsetgroup\":\"Gamma\",\"scalegroup\":\"x\",\"showlegend\":false,\"x\":[0.0625,0.14285714285714288,0.06666666666666667,0.1875,0.0625,0.125,1.0,1.0],\"xaxis\":\"x3\",\"yaxis\":\"y3\",\"type\":\"violin\"},{\"alignmentgroup\":\"True\",\"hovertemplate\":\"\\u003cb\\u003e%{hovertext}\\u003c\\u002fb\\u003e\\u003cbr\\u003e\\u003cbr\\u003elineages=Gamma\\u003cbr\\u003eabundances=%{y}\\u003cextra\\u003e\\u003c\\u002fextra\\u003e\",\"hovertext\":[\"0adgio1\",\"0adgio1-2\",\"0adgio1o2o3o4o5\",\"0agio1o2\",\"adgio1o2o3\",\"agio3o4o5\",\"g\",\"g-2\"],\"legendgroup\":\"Gamma\",\"marker\":{\"color\":\"#B6E880\",\"symbol\":\"circle\"},\"name\":\"Gamma\",\"offsetgroup\":\"Gamma\",\"scalegroup\":\"y\",\"showlegend\":false,\"xaxis\":\"x2\",\"y\":[0.050856769999999996,0.11320975999999999,0.04716771,0.17043694,0.06395504,0.08856339999999999,0.9921838599999999,0.99123966],\"yaxis\":\"y2\",\"type\":\"violin\"},{\"hovertemplate\":\"\\u003cb\\u003e%{hovertext}\\u003c\\u002fb\\u003e\\u003cbr\\u003e\\u003cbr\\u003elineages=Iota\\u003cbr\\u003eexpected_abundance=%{x}\\u003cbr\\u003eabundances=%{y}\\u003cextra\\u003e\\u003c\\u002fextra\\u003e\",\"hovertext\":[\"0adgio1\",\"0adgio1-2\",\"0adgio1o2o3o4o5\",\"0agio1o2\",\"0aio1o2o3o4o5\",\"adgio1o2o3\",\"agio3o4o5\",\"i\",\"i-2\"],\"legendgroup\":\"Iota\",\"marker\":{\"color\":\"#FF97FF\",\"symbol\":\"circle\"},\"mode\":\"markers\",\"name\":\"Iota\",\"orientation\":\"v\",\"showlegend\":true,\"x\":[0.125,0.14285714285714288,0.06666666666666667,0.125,0.125,0.0625,0.1875,1.0,1.0],\"xaxis\":\"x\",\"y\":[0.110704,0.1196876,0.0455408,0.120586,0.10055206,0.0626026,0.12800121,0.98556448,0.98427241],\"yaxis\":\"y\",\"type\":\"scatter\"},{\"alignmentgroup\":\"True\",\"hovertemplate\":\"\\u003cb\\u003e%{hovertext}\\u003c\\u002fb\\u003e\\u003cbr\\u003e\\u003cbr\\u003elineages=Iota\\u003cbr\\u003eexpected_abundance=%{x}\\u003cextra\\u003e\\u003c\\u002fextra\\u003e\",\"hovertext\":[\"0adgio1\",\"0adgio1-2\",\"0adgio1o2o3o4o5\",\"0agio1o2\",\"0aio1o2o3o4o5\",\"adgio1o2o3\",\"agio3o4o5\",\"i\",\"i-2\"],\"legendgroup\":\"Iota\",\"marker\":{\"color\":\"#FF97FF\",\"symbol\":\"circle\"},\"name\":\"Iota\",\"offsetgroup\":\"Iota\",\"scalegroup\":\"x\",\"showlegend\":false,\"x\":[0.125,0.14285714285714288,0.06666666666666667,0.125,0.125,0.0625,0.1875,1.0,1.0],\"xaxis\":\"x3\",\"yaxis\":\"y3\",\"type\":\"violin\"},{\"alignmentgroup\":\"True\",\"hovertemplate\":\"\\u003cb\\u003e%{hovertext}\\u003c\\u002fb\\u003e\\u003cbr\\u003e\\u003cbr\\u003elineages=Iota\\u003cbr\\u003eabundances=%{y}\\u003cextra\\u003e\\u003c\\u002fextra\\u003e\",\"hovertext\":[\"0adgio1\",\"0adgio1-2\",\"0adgio1o2o3o4o5\",\"0agio1o2\",\"0aio1o2o3o4o5\",\"adgio1o2o3\",\"agio3o4o5\",\"i\",\"i-2\"],\"legendgroup\":\"Iota\",\"marker\":{\"color\":\"#FF97FF\",\"symbol\":\"circle\"},\"name\":\"Iota\",\"offsetgroup\":\"Iota\",\"scalegroup\":\"y\",\"showlegend\":false,\"xaxis\":\"x2\",\"y\":[0.110704,0.1196876,0.0455408,0.120586,0.10055206,0.0626026,0.12800121,0.98556448,0.98427241],\"yaxis\":\"y2\",\"type\":\"violin\"},{\"hovertemplate\":\"\\u003cb\\u003e%{hovertext}\\u003c\\u002fb\\u003e\\u003cbr\\u003e\\u003cbr\\u003elineages=Wuhan-hu-1\\u003cbr\\u003eexpected_abundance=%{x}\\u003cbr\\u003eabundances=%{y}\\u003cextra\\u003e\\u003c\\u002fextra\\u003e\",\"hovertext\":[\"0\",\"0-2\",\"0-3\",\"0-4\",\"0adgio1-2\",\"0adgio1o2o3o4o5\",\"0o5o3o4\"],\"legendgroup\":\"Wuhan-hu-1\",\"marker\":{\"color\":\"#FECB52\",\"symbol\":\"circle\"},\"mode\":\"markers\",\"name\":\"Wuhan-hu-1\",\"orientation\":\"v\",\"showlegend\":true,\"x\":[1.0,1.0,1.0,1.0,0.28571428571428575,0.13333333333333333,0.375],\"xaxis\":\"x\",\"y\":[0.49208518,0.98267715,0.49281895,0.98692177,0.01001741,0.01862879,0.14469641],\"yaxis\":\"y\",\"type\":\"scatter\"},{\"alignmentgroup\":\"True\",\"hovertemplate\":\"\\u003cb\\u003e%{hovertext}\\u003c\\u002fb\\u003e\\u003cbr\\u003e\\u003cbr\\u003elineages=Wuhan-hu-1\\u003cbr\\u003eexpected_abundance=%{x}\\u003cextra\\u003e\\u003c\\u002fextra\\u003e\",\"hovertext\":[\"0\",\"0-2\",\"0-3\",\"0-4\",\"0adgio1-2\",\"0adgio1o2o3o4o5\",\"0o5o3o4\"],\"legendgroup\":\"Wuhan-hu-1\",\"marker\":{\"color\":\"#FECB52\",\"symbol\":\"circle\"},\"name\":\"Wuhan-hu-1\",\"offsetgroup\":\"Wuhan-hu-1\",\"scalegroup\":\"x\",\"showlegend\":false,\"x\":[1.0,1.0,1.0,1.0,0.28571428571428575,0.13333333333333333,0.375],\"xaxis\":\"x3\",\"yaxis\":\"y3\",\"type\":\"violin\"},{\"alignmentgroup\":\"True\",\"hovertemplate\":\"\\u003cb\\u003e%{hovertext}\\u003c\\u002fb\\u003e\\u003cbr\\u003e\\u003cbr\\u003elineages=Wuhan-hu-1\\u003cbr\\u003eabundances=%{y}\\u003cextra\\u003e\\u003c\\u002fextra\\u003e\",\"hovertext\":[\"0\",\"0-2\",\"0-3\",\"0-4\",\"0adgio1-2\",\"0adgio1o2o3o4o5\",\"0o5o3o4\"],\"legendgroup\":\"Wuhan-hu-1\",\"marker\":{\"color\":\"#FECB52\",\"symbol\":\"circle\"},\"name\":\"Wuhan-hu-1\",\"offsetgroup\":\"Wuhan-hu-1\",\"scalegroup\":\"y\",\"showlegend\":false,\"xaxis\":\"x2\",\"y\":[0.49208518,0.98267715,0.49281895,0.98692177,0.01001741,0.01862879,0.14469641],\"yaxis\":\"y2\",\"type\":\"violin\"}],                        {\"template\":{\"data\":{\"histogram2dcontour\":[{\"type\":\"histogram2dcontour\",\"colorbar\":{\"outlinewidth\":0,\"ticks\":\"\"},\"colorscale\":[[0.0,\"#0d0887\"],[0.1111111111111111,\"#46039f\"],[0.2222222222222222,\"#7201a8\"],[0.3333333333333333,\"#9c179e\"],[0.4444444444444444,\"#bd3786\"],[0.5555555555555556,\"#d8576b\"],[0.6666666666666666,\"#ed7953\"],[0.7777777777777778,\"#fb9f3a\"],[0.8888888888888888,\"#fdca26\"],[1.0,\"#f0f921\"]]}],\"choropleth\":[{\"type\":\"choropleth\",\"colorbar\":{\"outlinewidth\":0,\"ticks\":\"\"}}],\"histogram2d\":[{\"type\":\"histogram2d\",\"colorbar\":{\"outlinewidth\":0,\"ticks\":\"\"},\"colorscale\":[[0.0,\"#0d0887\"],[0.1111111111111111,\"#46039f\"],[0.2222222222222222,\"#7201a8\"],[0.3333333333333333,\"#9c179e\"],[0.4444444444444444,\"#bd3786\"],[0.5555555555555556,\"#d8576b\"],[0.6666666666666666,\"#ed7953\"],[0.7777777777777778,\"#fb9f3a\"],[0.8888888888888888,\"#fdca26\"],[1.0,\"#f0f921\"]]}],\"heatmap\":[{\"type\":\"heatmap\",\"colorbar\":{\"outlinewidth\":0,\"ticks\":\"\"},\"colorscale\":[[0.0,\"#0d0887\"],[0.1111111111111111,\"#46039f\"],[0.2222222222222222,\"#7201a8\"],[0.3333333333333333,\"#9c179e\"],[0.4444444444444444,\"#bd3786\"],[0.5555555555555556,\"#d8576b\"],[0.6666666666666666,\"#ed7953\"],[0.7777777777777778,\"#fb9f3a\"],[0.8888888888888888,\"#fdca26\"],[1.0,\"#f0f921\"]]}],\"heatmapgl\":[{\"type\":\"heatmapgl\",\"colorbar\":{\"outlinewidth\":0,\"ticks\":\"\"},\"colorscale\":[[0.0,\"#0d0887\"],[0.1111111111111111,\"#46039f\"],[0.2222222222222222,\"#7201a8\"],[0.3333333333333333,\"#9c179e\"],[0.4444444444444444,\"#bd3786\"],[0.5555555555555556,\"#d8576b\"],[0.6666666666666666,\"#ed7953\"],[0.7777777777777778,\"#fb9f3a\"],[0.8888888888888888,\"#fdca26\"],[1.0,\"#f0f921\"]]}],\"contourcarpet\":[{\"type\":\"contourcarpet\",\"colorbar\":{\"outlinewidth\":0,\"ticks\":\"\"}}],\"contour\":[{\"type\":\"contour\",\"colorbar\":{\"outlinewidth\":0,\"ticks\":\"\"},\"colorscale\":[[0.0,\"#0d0887\"],[0.1111111111111111,\"#46039f\"],[0.2222222222222222,\"#7201a8\"],[0.3333333333333333,\"#9c179e\"],[0.4444444444444444,\"#bd3786\"],[0.5555555555555556,\"#d8576b\"],[0.6666666666666666,\"#ed7953\"],[0.7777777777777778,\"#fb9f3a\"],[0.8888888888888888,\"#fdca26\"],[1.0,\"#f0f921\"]]}],\"surface\":[{\"type\":\"surface\",\"colorbar\":{\"outlinewidth\":0,\"ticks\":\"\"},\"colorscale\":[[0.0,\"#0d0887\"],[0.1111111111111111,\"#46039f\"],[0.2222222222222222,\"#7201a8\"],[0.3333333333333333,\"#9c179e\"],[0.4444444444444444,\"#bd3786\"],[0.5555555555555556,\"#d8576b\"],[0.6666666666666666,\"#ed7953\"],[0.7777777777777778,\"#fb9f3a\"],[0.8888888888888888,\"#fdca26\"],[1.0,\"#f0f921\"]]}],\"mesh3d\":[{\"type\":\"mesh3d\",\"colorbar\":{\"outlinewidth\":0,\"ticks\":\"\"}}],\"scatter\":[{\"fillpattern\":{\"fillmode\":\"overlay\",\"size\":10,\"solidity\":0.2},\"type\":\"scatter\"}],\"parcoords\":[{\"type\":\"parcoords\",\"line\":{\"colorbar\":{\"outlinewidth\":0,\"ticks\":\"\"}}}],\"scatterpolargl\":[{\"type\":\"scatterpolargl\",\"marker\":{\"colorbar\":{\"outlinewidth\":0,\"ticks\":\"\"}}}],\"bar\":[{\"error_x\":{\"color\":\"#2a3f5f\"},\"error_y\":{\"color\":\"#2a3f5f\"},\"marker\":{\"line\":{\"color\":\"#E5ECF6\",\"width\":0.5},\"pattern\":{\"fillmode\":\"overlay\",\"size\":10,\"solidity\":0.2}},\"type\":\"bar\"}],\"scattergeo\":[{\"type\":\"scattergeo\",\"marker\":{\"colorbar\":{\"outlinewidth\":0,\"ticks\":\"\"}}}],\"scatterpolar\":[{\"type\":\"scatterpolar\",\"marker\":{\"colorbar\":{\"outlinewidth\":0,\"ticks\":\"\"}}}],\"histogram\":[{\"marker\":{\"pattern\":{\"fillmode\":\"overlay\",\"size\":10,\"solidity\":0.2}},\"type\":\"histogram\"}],\"scattergl\":[{\"type\":\"scattergl\",\"marker\":{\"colorbar\":{\"outlinewidth\":0,\"ticks\":\"\"}}}],\"scatter3d\":[{\"type\":\"scatter3d\",\"line\":{\"colorbar\":{\"outlinewidth\":0,\"ticks\":\"\"}},\"marker\":{\"colorbar\":{\"outlinewidth\":0,\"ticks\":\"\"}}}],\"scattermapbox\":[{\"type\":\"scattermapbox\",\"marker\":{\"colorbar\":{\"outlinewidth\":0,\"ticks\":\"\"}}}],\"scatterternary\":[{\"type\":\"scatterternary\",\"marker\":{\"colorbar\":{\"outlinewidth\":0,\"ticks\":\"\"}}}],\"scattercarpet\":[{\"type\":\"scattercarpet\",\"marker\":{\"colorbar\":{\"outlinewidth\":0,\"ticks\":\"\"}}}],\"carpet\":[{\"aaxis\":{\"endlinecolor\":\"#2a3f5f\",\"gridcolor\":\"white\",\"linecolor\":\"white\",\"minorgridcolor\":\"white\",\"startlinecolor\":\"#2a3f5f\"},\"baxis\":{\"endlinecolor\":\"#2a3f5f\",\"gridcolor\":\"white\",\"linecolor\":\"white\",\"minorgridcolor\":\"white\",\"startlinecolor\":\"#2a3f5f\"},\"type\":\"carpet\"}],\"table\":[{\"cells\":{\"fill\":{\"color\":\"#EBF0F8\"},\"line\":{\"color\":\"white\"}},\"header\":{\"fill\":{\"color\":\"#C8D4E3\"},\"line\":{\"color\":\"white\"}},\"type\":\"table\"}],\"barpolar\":[{\"marker\":{\"line\":{\"color\":\"#E5ECF6\",\"width\":0.5},\"pattern\":{\"fillmode\":\"overlay\",\"size\":10,\"solidity\":0.2}},\"type\":\"barpolar\"}],\"pie\":[{\"automargin\":true,\"type\":\"pie\"}]},\"layout\":{\"autotypenumbers\":\"strict\",\"colorway\":[\"#636efa\",\"#EF553B\",\"#00cc96\",\"#ab63fa\",\"#FFA15A\",\"#19d3f3\",\"#FF6692\",\"#B6E880\",\"#FF97FF\",\"#FECB52\"],\"font\":{\"color\":\"#2a3f5f\"},\"hovermode\":\"closest\",\"hoverlabel\":{\"align\":\"left\"},\"paper_bgcolor\":\"white\",\"plot_bgcolor\":\"#E5ECF6\",\"polar\":{\"bgcolor\":\"#E5ECF6\",\"angularaxis\":{\"gridcolor\":\"white\",\"linecolor\":\"white\",\"ticks\":\"\"},\"radialaxis\":{\"gridcolor\":\"white\",\"linecolor\":\"white\",\"ticks\":\"\"}},\"ternary\":{\"bgcolor\":\"#E5ECF6\",\"aaxis\":{\"gridcolor\":\"white\",\"linecolor\":\"white\",\"ticks\":\"\"},\"baxis\":{\"gridcolor\":\"white\",\"linecolor\":\"white\",\"ticks\":\"\"},\"caxis\":{\"gridcolor\":\"white\",\"linecolor\":\"white\",\"ticks\":\"\"}},\"coloraxis\":{\"colorbar\":{\"outlinewidth\":0,\"ticks\":\"\"}},\"colorscale\":{\"sequential\":[[0.0,\"#0d0887\"],[0.1111111111111111,\"#46039f\"],[0.2222222222222222,\"#7201a8\"],[0.3333333333333333,\"#9c179e\"],[0.4444444444444444,\"#bd3786\"],[0.5555555555555556,\"#d8576b\"],[0.6666666666666666,\"#ed7953\"],[0.7777777777777778,\"#fb9f3a\"],[0.8888888888888888,\"#fdca26\"],[1.0,\"#f0f921\"]],\"sequentialminus\":[[0.0,\"#0d0887\"],[0.1111111111111111,\"#46039f\"],[0.2222222222222222,\"#7201a8\"],[0.3333333333333333,\"#9c179e\"],[0.4444444444444444,\"#bd3786\"],[0.5555555555555556,\"#d8576b\"],[0.6666666666666666,\"#ed7953\"],[0.7777777777777778,\"#fb9f3a\"],[0.8888888888888888,\"#fdca26\"],[1.0,\"#f0f921\"]],\"diverging\":[[0,\"#8e0152\"],[0.1,\"#c51b7d\"],[0.2,\"#de77ae\"],[0.3,\"#f1b6da\"],[0.4,\"#fde0ef\"],[0.5,\"#f7f7f7\"],[0.6,\"#e6f5d0\"],[0.7,\"#b8e186\"],[0.8,\"#7fbc41\"],[0.9,\"#4d9221\"],[1,\"#276419\"]]},\"xaxis\":{\"gridcolor\":\"white\",\"linecolor\":\"white\",\"ticks\":\"\",\"title\":{\"standoff\":15},\"zerolinecolor\":\"white\",\"automargin\":true,\"zerolinewidth\":2},\"yaxis\":{\"gridcolor\":\"white\",\"linecolor\":\"white\",\"ticks\":\"\",\"title\":{\"standoff\":15},\"zerolinecolor\":\"white\",\"automargin\":true,\"zerolinewidth\":2},\"scene\":{\"xaxis\":{\"backgroundcolor\":\"#E5ECF6\",\"gridcolor\":\"white\",\"linecolor\":\"white\",\"showbackground\":true,\"ticks\":\"\",\"zerolinecolor\":\"white\",\"gridwidth\":2},\"yaxis\":{\"backgroundcolor\":\"#E5ECF6\",\"gridcolor\":\"white\",\"linecolor\":\"white\",\"showbackground\":true,\"ticks\":\"\",\"zerolinecolor\":\"white\",\"gridwidth\":2},\"zaxis\":{\"backgroundcolor\":\"#E5ECF6\",\"gridcolor\":\"white\",\"linecolor\":\"white\",\"showbackground\":true,\"ticks\":\"\",\"zerolinecolor\":\"white\",\"gridwidth\":2}},\"shapedefaults\":{\"line\":{\"color\":\"#2a3f5f\"}},\"annotationdefaults\":{\"arrowcolor\":\"#2a3f5f\",\"arrowhead\":0,\"arrowwidth\":1},\"geo\":{\"bgcolor\":\"white\",\"landcolor\":\"#E5ECF6\",\"subunitcolor\":\"white\",\"showland\":true,\"showlakes\":true,\"lakecolor\":\"white\"},\"title\":{\"x\":0.05},\"mapbox\":{\"style\":\"light\"}}},\"xaxis\":{\"anchor\":\"y\",\"domain\":[0.0,0.7363],\"type\":\"log\",\"title\":{\"text\":\"expected_abundance\"}},\"yaxis\":{\"anchor\":\"x\",\"domain\":[0.0,0.7326],\"type\":\"log\",\"title\":{\"text\":\"abundances\"}},\"xaxis2\":{\"anchor\":\"y2\",\"domain\":[0.7413,1.0],\"matches\":\"x2\",\"showticklabels\":false,\"showline\":false,\"ticks\":\"\",\"showgrid\":false},\"yaxis2\":{\"anchor\":\"x2\",\"domain\":[0.0,0.7326],\"matches\":\"y\",\"showticklabels\":false,\"showgrid\":true,\"type\":\"log\"},\"xaxis3\":{\"anchor\":\"y3\",\"domain\":[0.0,0.7363],\"matches\":\"x\",\"showticklabels\":false,\"showgrid\":true,\"type\":\"log\"},\"yaxis3\":{\"anchor\":\"x3\",\"domain\":[0.7426,1.0],\"matches\":\"y3\",\"showticklabels\":false,\"showline\":false,\"ticks\":\"\",\"showgrid\":false},\"xaxis4\":{\"anchor\":\"y4\",\"domain\":[0.7413,1.0],\"matches\":\"x2\",\"showticklabels\":false,\"showgrid\":false,\"showline\":false,\"ticks\":\"\"},\"yaxis4\":{\"anchor\":\"x4\",\"domain\":[0.7426,1.0],\"matches\":\"y3\",\"showticklabels\":false,\"showline\":false,\"ticks\":\"\",\"showgrid\":true},\"legend\":{\"title\":{\"text\":\"lineages\"},\"tracegroupgap\":0},\"margin\":{\"t\":60}},                        {\"responsive\": true}                    ).then(function(){\n",
       "                            \n",
       "var gd = document.getElementById('66239c48-f5af-4c4e-a887-bc4d74084017');\n",
       "var x = new MutationObserver(function (mutations, observer) {{\n",
       "        var display = window.getComputedStyle(gd).display;\n",
       "        if (!display || display === 'none') {{\n",
       "            console.log([gd, 'removed!']);\n",
       "            Plotly.purge(gd);\n",
       "            observer.disconnect();\n",
       "        }}\n",
       "}});\n",
       "\n",
       "// Listen for the removal of the full notebook cells\n",
       "var notebookContainer = gd.closest('#notebook-container');\n",
       "if (notebookContainer) {{\n",
       "    x.observe(notebookContainer, {childList: true});\n",
       "}}\n",
       "\n",
       "// Listen for the clearing of the current output cell\n",
       "var outputEl = gd.closest('.output');\n",
       "if (outputEl) {{\n",
       "    x.observe(outputEl, {childList: true});\n",
       "}}\n",
       "\n",
       "                        })                };                });            </script>        </div>"
      ]
     },
     "metadata": {},
     "output_type": "display_data"
    }
   ],
   "source": [
    "px.scatter(df, x=\"expected_abundance\", \n",
    "           y=\"abundances\", \n",
    "        #    y=\"percent_of_expected\", \n",
    "           color=\"lineages\", \n",
    "         #   color=None, \n",
    "           hover_name=\"Sample name\",\n",
    "           marginal_y='violin',\n",
    "           marginal_x='violin',\n",
    "           log_x=True,\n",
    "           log_y=True,\n",
    "           )"
   ]
  },
  {
   "cell_type": "code",
   "execution_count": 25,
   "metadata": {},
   "outputs": [
    {
     "data": {
      "application/vnd.plotly.v1+json": {
       "config": {
        "plotlyServerURL": "https://plot.ly"
       },
       "data": [
        {
         "hovertemplate": "<b>%{hovertext}</b><br><br>expected_abundance=%{x}<br>abundances=%{y}<extra></extra>",
         "hovertext": [
          "0adgio1",
          "0adgio1-2",
          "0adgio1o2o3o4o5",
          "0agio1o2",
          "0aio1o2o3o4o5",
          "a",
          "a-2",
          "adgio1o2o3",
          "agio3o4o5",
          "0adgio1",
          "0adgio1-2",
          "0adgio1o2o3o4o5",
          "0agio1o2",
          "0aio1o2o3o4o5",
          "adgio1o2o3",
          "o1-2",
          "o1o2",
          "o1o2o3o4o5",
          "0adgio1o2o3o4o5",
          "0agio1o2",
          "0aio1o2o3o4o5",
          "adgio1o2o3",
          "o1o2",
          "o1o2o3o4o5",
          "o2-2",
          "o2-3",
          "o2o3o4o5",
          "o2o3o4o5-2",
          "o2o3o4o5-3",
          "0adgio1o2o3o4o5",
          "0aio1o2o3o4o5",
          "0o5o3o4",
          "agio3o4o5",
          "o1o2o3o4o5",
          "o2o3o4o5",
          "o2o3o4o5-2",
          "o2o3o4o5-3",
          "o4",
          "o4-2",
          "o4-3",
          "0adgio1o2o3o4o5",
          "0aio1o2o3o4o5",
          "0o5o3o4",
          "agio3o4o5",
          "o1o2o3o4o5",
          "o2o3o4o5",
          "o2o3o4o5-2",
          "o2o3o4o5-3",
          "o5",
          "o5-2",
          "o5-3",
          "0adgio1o2o3o4o5",
          "0aio1o2o3o4o5",
          "0o5o3o4",
          "adgio1o2o3",
          "agio3o4o5",
          "o1o2o3o4o5",
          "o2o3o4o5",
          "o2o3o4o5-2",
          "o2o3o4o5-3",
          "o3",
          "o3-2",
          "o3-3",
          "o3-4",
          "0adgio1",
          "0adgio1-2",
          "0adgio1o2o3o4o5",
          "adgio1o2o3",
          "d",
          "d-2",
          "0adgio1",
          "0adgio1-2",
          "0adgio1o2o3o4o5",
          "0agio1o2",
          "adgio1o2o3",
          "agio3o4o5",
          "g",
          "g-2",
          "0adgio1",
          "0adgio1-2",
          "0adgio1o2o3o4o5",
          "0agio1o2",
          "0aio1o2o3o4o5",
          "adgio1o2o3",
          "agio3o4o5",
          "i",
          "i-2",
          "0",
          "0-2",
          "0-3",
          "0-4",
          "0adgio1-2",
          "0adgio1o2o3o4o5",
          "0o5o3o4"
         ],
         "legendgroup": "",
         "marker": {
          "color": "#636efa",
          "symbol": "circle"
         },
         "mode": "markers",
         "name": "",
         "orientation": "v",
         "showlegend": false,
         "type": "scatter",
         "x": [
          0.25,
          0.14285714285714288,
          0.06666666666666667,
          0.0625,
          0.125,
          1,
          1,
          0.0625,
          0.1875,
          0.125,
          0.14285714285714288,
          0.06666666666666667,
          0.1875,
          0.125,
          0.1875,
          1,
          0.375,
          0.25,
          0.13333333333333333,
          0.3125,
          0.125,
          0.1875,
          0.625,
          0.25,
          1,
          1,
          0.25,
          0.25,
          0.25,
          0.13333333333333333,
          0.125,
          0.1875,
          0.1875,
          0.125,
          0.1875,
          0.25,
          0.25,
          1,
          1,
          1,
          0.13333333333333333,
          0.125,
          0.25,
          0.1875,
          0.25,
          0.3125,
          0.25,
          0.25,
          1,
          1,
          1,
          0.13333333333333333,
          0.125,
          0.1875,
          0.25,
          0.125,
          0.125,
          0.25,
          0.25,
          0.25,
          1,
          1,
          1,
          1,
          0.1875,
          0.14285714285714288,
          0.06666666666666667,
          0.1875,
          1,
          1,
          0.0625,
          0.14285714285714288,
          0.06666666666666667,
          0.1875,
          0.0625,
          0.125,
          1,
          1,
          0.125,
          0.14285714285714288,
          0.06666666666666667,
          0.125,
          0.125,
          0.0625,
          0.1875,
          1,
          1,
          1,
          1,
          1,
          1,
          0.28571428571428575,
          0.13333333333333333,
          0.375
         ],
         "xaxis": "x",
         "y": [
          0.26696636,
          0.14539712,
          0.06574032,
          0.06598129,
          0.13206304,
          0.98785769,
          0.98895272,
          0.08493186,
          0.16950286,
          0.05772429,
          0.06092162,
          0.01758299,
          0.07464283,
          0.04082554,
          0.09521278,
          0.9805727399999999,
          0.22037727999999998,
          0.13195141999999999,
          0.06781392,
          0.27988763999999994,
          0.05813136000000001,
          0.21952261999999997,
          0.68370294,
          0.21348283,
          0.9745583600000001,
          0.9743116999999999,
          0.12619523,
          0.17327346,
          0.10214341,
          0.2725374,
          0.22229888,
          0.29357223,
          0.3164375,
          0.23463959,
          0.31650731,
          0.34263048,
          0.48894959,
          0.98584672,
          0.98592435,
          0.9860769599999999,
          0.10429353,
          0.08861617,
          0.18398555,
          0.14247287,
          0.28623492,
          0.31460988,
          0.24571312,
          0.21437867000000002,
          0.9766654,
          0.98479711,
          0.98725921,
          0.07327725,
          0.08687546,
          0.08075034,
          0.18962135,
          0.0684909,
          0.06217099,
          0.19896746999999998,
          0.19290647,
          0.1539635,
          0.9888962,
          0.98863098,
          0.98852796,
          0.98841121,
          0.09877369,
          0.06754953000000001,
          0.02499044,
          0.11932714999999999,
          0.9848493100000001,
          0.98471052,
          0.050856769999999996,
          0.11320975999999999,
          0.04716771,
          0.17043694,
          0.06395504,
          0.08856339999999999,
          0.9921838599999999,
          0.99123966,
          0.110704,
          0.1196876,
          0.0455408,
          0.120586,
          0.10055206,
          0.0626026,
          0.12800121,
          0.98556448,
          0.98427241,
          0.49208518,
          0.98267715,
          0.49281895,
          0.98692177,
          0.01001741,
          0.01862879,
          0.14469641
         ],
         "yaxis": "y"
        },
        {
         "alignmentgroup": "True",
         "hovertemplate": "<b>%{hovertext}</b><br><br>expected_abundance=%{x}<extra></extra>",
         "hovertext": [
          "0adgio1",
          "0adgio1-2",
          "0adgio1o2o3o4o5",
          "0agio1o2",
          "0aio1o2o3o4o5",
          "a",
          "a-2",
          "adgio1o2o3",
          "agio3o4o5",
          "0adgio1",
          "0adgio1-2",
          "0adgio1o2o3o4o5",
          "0agio1o2",
          "0aio1o2o3o4o5",
          "adgio1o2o3",
          "o1-2",
          "o1o2",
          "o1o2o3o4o5",
          "0adgio1o2o3o4o5",
          "0agio1o2",
          "0aio1o2o3o4o5",
          "adgio1o2o3",
          "o1o2",
          "o1o2o3o4o5",
          "o2-2",
          "o2-3",
          "o2o3o4o5",
          "o2o3o4o5-2",
          "o2o3o4o5-3",
          "0adgio1o2o3o4o5",
          "0aio1o2o3o4o5",
          "0o5o3o4",
          "agio3o4o5",
          "o1o2o3o4o5",
          "o2o3o4o5",
          "o2o3o4o5-2",
          "o2o3o4o5-3",
          "o4",
          "o4-2",
          "o4-3",
          "0adgio1o2o3o4o5",
          "0aio1o2o3o4o5",
          "0o5o3o4",
          "agio3o4o5",
          "o1o2o3o4o5",
          "o2o3o4o5",
          "o2o3o4o5-2",
          "o2o3o4o5-3",
          "o5",
          "o5-2",
          "o5-3",
          "0adgio1o2o3o4o5",
          "0aio1o2o3o4o5",
          "0o5o3o4",
          "adgio1o2o3",
          "agio3o4o5",
          "o1o2o3o4o5",
          "o2o3o4o5",
          "o2o3o4o5-2",
          "o2o3o4o5-3",
          "o3",
          "o3-2",
          "o3-3",
          "o3-4",
          "0adgio1",
          "0adgio1-2",
          "0adgio1o2o3o4o5",
          "adgio1o2o3",
          "d",
          "d-2",
          "0adgio1",
          "0adgio1-2",
          "0adgio1o2o3o4o5",
          "0agio1o2",
          "adgio1o2o3",
          "agio3o4o5",
          "g",
          "g-2",
          "0adgio1",
          "0adgio1-2",
          "0adgio1o2o3o4o5",
          "0agio1o2",
          "0aio1o2o3o4o5",
          "adgio1o2o3",
          "agio3o4o5",
          "i",
          "i-2",
          "0",
          "0-2",
          "0-3",
          "0-4",
          "0adgio1-2",
          "0adgio1o2o3o4o5",
          "0o5o3o4"
         ],
         "legendgroup": "",
         "marker": {
          "color": "#636efa",
          "symbol": "circle"
         },
         "name": "",
         "offsetgroup": "",
         "scalegroup": "x",
         "showlegend": false,
         "type": "violin",
         "x": [
          0.25,
          0.14285714285714288,
          0.06666666666666667,
          0.0625,
          0.125,
          1,
          1,
          0.0625,
          0.1875,
          0.125,
          0.14285714285714288,
          0.06666666666666667,
          0.1875,
          0.125,
          0.1875,
          1,
          0.375,
          0.25,
          0.13333333333333333,
          0.3125,
          0.125,
          0.1875,
          0.625,
          0.25,
          1,
          1,
          0.25,
          0.25,
          0.25,
          0.13333333333333333,
          0.125,
          0.1875,
          0.1875,
          0.125,
          0.1875,
          0.25,
          0.25,
          1,
          1,
          1,
          0.13333333333333333,
          0.125,
          0.25,
          0.1875,
          0.25,
          0.3125,
          0.25,
          0.25,
          1,
          1,
          1,
          0.13333333333333333,
          0.125,
          0.1875,
          0.25,
          0.125,
          0.125,
          0.25,
          0.25,
          0.25,
          1,
          1,
          1,
          1,
          0.1875,
          0.14285714285714288,
          0.06666666666666667,
          0.1875,
          1,
          1,
          0.0625,
          0.14285714285714288,
          0.06666666666666667,
          0.1875,
          0.0625,
          0.125,
          1,
          1,
          0.125,
          0.14285714285714288,
          0.06666666666666667,
          0.125,
          0.125,
          0.0625,
          0.1875,
          1,
          1,
          1,
          1,
          1,
          1,
          0.28571428571428575,
          0.13333333333333333,
          0.375
         ],
         "xaxis": "x3",
         "yaxis": "y3"
        },
        {
         "alignmentgroup": "True",
         "hovertemplate": "<b>%{hovertext}</b><br><br>abundances=%{y}<extra></extra>",
         "hovertext": [
          "0adgio1",
          "0adgio1-2",
          "0adgio1o2o3o4o5",
          "0agio1o2",
          "0aio1o2o3o4o5",
          "a",
          "a-2",
          "adgio1o2o3",
          "agio3o4o5",
          "0adgio1",
          "0adgio1-2",
          "0adgio1o2o3o4o5",
          "0agio1o2",
          "0aio1o2o3o4o5",
          "adgio1o2o3",
          "o1-2",
          "o1o2",
          "o1o2o3o4o5",
          "0adgio1o2o3o4o5",
          "0agio1o2",
          "0aio1o2o3o4o5",
          "adgio1o2o3",
          "o1o2",
          "o1o2o3o4o5",
          "o2-2",
          "o2-3",
          "o2o3o4o5",
          "o2o3o4o5-2",
          "o2o3o4o5-3",
          "0adgio1o2o3o4o5",
          "0aio1o2o3o4o5",
          "0o5o3o4",
          "agio3o4o5",
          "o1o2o3o4o5",
          "o2o3o4o5",
          "o2o3o4o5-2",
          "o2o3o4o5-3",
          "o4",
          "o4-2",
          "o4-3",
          "0adgio1o2o3o4o5",
          "0aio1o2o3o4o5",
          "0o5o3o4",
          "agio3o4o5",
          "o1o2o3o4o5",
          "o2o3o4o5",
          "o2o3o4o5-2",
          "o2o3o4o5-3",
          "o5",
          "o5-2",
          "o5-3",
          "0adgio1o2o3o4o5",
          "0aio1o2o3o4o5",
          "0o5o3o4",
          "adgio1o2o3",
          "agio3o4o5",
          "o1o2o3o4o5",
          "o2o3o4o5",
          "o2o3o4o5-2",
          "o2o3o4o5-3",
          "o3",
          "o3-2",
          "o3-3",
          "o3-4",
          "0adgio1",
          "0adgio1-2",
          "0adgio1o2o3o4o5",
          "adgio1o2o3",
          "d",
          "d-2",
          "0adgio1",
          "0adgio1-2",
          "0adgio1o2o3o4o5",
          "0agio1o2",
          "adgio1o2o3",
          "agio3o4o5",
          "g",
          "g-2",
          "0adgio1",
          "0adgio1-2",
          "0adgio1o2o3o4o5",
          "0agio1o2",
          "0aio1o2o3o4o5",
          "adgio1o2o3",
          "agio3o4o5",
          "i",
          "i-2",
          "0",
          "0-2",
          "0-3",
          "0-4",
          "0adgio1-2",
          "0adgio1o2o3o4o5",
          "0o5o3o4"
         ],
         "legendgroup": "",
         "marker": {
          "color": "#636efa",
          "symbol": "circle"
         },
         "name": "",
         "offsetgroup": "",
         "scalegroup": "y",
         "showlegend": false,
         "type": "violin",
         "xaxis": "x2",
         "y": [
          0.26696636,
          0.14539712,
          0.06574032,
          0.06598129,
          0.13206304,
          0.98785769,
          0.98895272,
          0.08493186,
          0.16950286,
          0.05772429,
          0.06092162,
          0.01758299,
          0.07464283,
          0.04082554,
          0.09521278,
          0.9805727399999999,
          0.22037727999999998,
          0.13195141999999999,
          0.06781392,
          0.27988763999999994,
          0.05813136000000001,
          0.21952261999999997,
          0.68370294,
          0.21348283,
          0.9745583600000001,
          0.9743116999999999,
          0.12619523,
          0.17327346,
          0.10214341,
          0.2725374,
          0.22229888,
          0.29357223,
          0.3164375,
          0.23463959,
          0.31650731,
          0.34263048,
          0.48894959,
          0.98584672,
          0.98592435,
          0.9860769599999999,
          0.10429353,
          0.08861617,
          0.18398555,
          0.14247287,
          0.28623492,
          0.31460988,
          0.24571312,
          0.21437867000000002,
          0.9766654,
          0.98479711,
          0.98725921,
          0.07327725,
          0.08687546,
          0.08075034,
          0.18962135,
          0.0684909,
          0.06217099,
          0.19896746999999998,
          0.19290647,
          0.1539635,
          0.9888962,
          0.98863098,
          0.98852796,
          0.98841121,
          0.09877369,
          0.06754953000000001,
          0.02499044,
          0.11932714999999999,
          0.9848493100000001,
          0.98471052,
          0.050856769999999996,
          0.11320975999999999,
          0.04716771,
          0.17043694,
          0.06395504,
          0.08856339999999999,
          0.9921838599999999,
          0.99123966,
          0.110704,
          0.1196876,
          0.0455408,
          0.120586,
          0.10055206,
          0.0626026,
          0.12800121,
          0.98556448,
          0.98427241,
          0.49208518,
          0.98267715,
          0.49281895,
          0.98692177,
          0.01001741,
          0.01862879,
          0.14469641
         ],
         "yaxis": "y2"
        }
       ],
       "layout": {
        "legend": {
         "tracegroupgap": 0
        },
        "margin": {
         "t": 60
        },
        "template": {
         "data": {
          "bar": [
           {
            "error_x": {
             "color": "#2a3f5f"
            },
            "error_y": {
             "color": "#2a3f5f"
            },
            "marker": {
             "line": {
              "color": "#E5ECF6",
              "width": 0.5
             },
             "pattern": {
              "fillmode": "overlay",
              "size": 10,
              "solidity": 0.2
             }
            },
            "type": "bar"
           }
          ],
          "barpolar": [
           {
            "marker": {
             "line": {
              "color": "#E5ECF6",
              "width": 0.5
             },
             "pattern": {
              "fillmode": "overlay",
              "size": 10,
              "solidity": 0.2
             }
            },
            "type": "barpolar"
           }
          ],
          "carpet": [
           {
            "aaxis": {
             "endlinecolor": "#2a3f5f",
             "gridcolor": "white",
             "linecolor": "white",
             "minorgridcolor": "white",
             "startlinecolor": "#2a3f5f"
            },
            "baxis": {
             "endlinecolor": "#2a3f5f",
             "gridcolor": "white",
             "linecolor": "white",
             "minorgridcolor": "white",
             "startlinecolor": "#2a3f5f"
            },
            "type": "carpet"
           }
          ],
          "choropleth": [
           {
            "colorbar": {
             "outlinewidth": 0,
             "ticks": ""
            },
            "type": "choropleth"
           }
          ],
          "contour": [
           {
            "colorbar": {
             "outlinewidth": 0,
             "ticks": ""
            },
            "colorscale": [
             [
              0,
              "#0d0887"
             ],
             [
              0.1111111111111111,
              "#46039f"
             ],
             [
              0.2222222222222222,
              "#7201a8"
             ],
             [
              0.3333333333333333,
              "#9c179e"
             ],
             [
              0.4444444444444444,
              "#bd3786"
             ],
             [
              0.5555555555555556,
              "#d8576b"
             ],
             [
              0.6666666666666666,
              "#ed7953"
             ],
             [
              0.7777777777777778,
              "#fb9f3a"
             ],
             [
              0.8888888888888888,
              "#fdca26"
             ],
             [
              1,
              "#f0f921"
             ]
            ],
            "type": "contour"
           }
          ],
          "contourcarpet": [
           {
            "colorbar": {
             "outlinewidth": 0,
             "ticks": ""
            },
            "type": "contourcarpet"
           }
          ],
          "heatmap": [
           {
            "colorbar": {
             "outlinewidth": 0,
             "ticks": ""
            },
            "colorscale": [
             [
              0,
              "#0d0887"
             ],
             [
              0.1111111111111111,
              "#46039f"
             ],
             [
              0.2222222222222222,
              "#7201a8"
             ],
             [
              0.3333333333333333,
              "#9c179e"
             ],
             [
              0.4444444444444444,
              "#bd3786"
             ],
             [
              0.5555555555555556,
              "#d8576b"
             ],
             [
              0.6666666666666666,
              "#ed7953"
             ],
             [
              0.7777777777777778,
              "#fb9f3a"
             ],
             [
              0.8888888888888888,
              "#fdca26"
             ],
             [
              1,
              "#f0f921"
             ]
            ],
            "type": "heatmap"
           }
          ],
          "heatmapgl": [
           {
            "colorbar": {
             "outlinewidth": 0,
             "ticks": ""
            },
            "colorscale": [
             [
              0,
              "#0d0887"
             ],
             [
              0.1111111111111111,
              "#46039f"
             ],
             [
              0.2222222222222222,
              "#7201a8"
             ],
             [
              0.3333333333333333,
              "#9c179e"
             ],
             [
              0.4444444444444444,
              "#bd3786"
             ],
             [
              0.5555555555555556,
              "#d8576b"
             ],
             [
              0.6666666666666666,
              "#ed7953"
             ],
             [
              0.7777777777777778,
              "#fb9f3a"
             ],
             [
              0.8888888888888888,
              "#fdca26"
             ],
             [
              1,
              "#f0f921"
             ]
            ],
            "type": "heatmapgl"
           }
          ],
          "histogram": [
           {
            "marker": {
             "pattern": {
              "fillmode": "overlay",
              "size": 10,
              "solidity": 0.2
             }
            },
            "type": "histogram"
           }
          ],
          "histogram2d": [
           {
            "colorbar": {
             "outlinewidth": 0,
             "ticks": ""
            },
            "colorscale": [
             [
              0,
              "#0d0887"
             ],
             [
              0.1111111111111111,
              "#46039f"
             ],
             [
              0.2222222222222222,
              "#7201a8"
             ],
             [
              0.3333333333333333,
              "#9c179e"
             ],
             [
              0.4444444444444444,
              "#bd3786"
             ],
             [
              0.5555555555555556,
              "#d8576b"
             ],
             [
              0.6666666666666666,
              "#ed7953"
             ],
             [
              0.7777777777777778,
              "#fb9f3a"
             ],
             [
              0.8888888888888888,
              "#fdca26"
             ],
             [
              1,
              "#f0f921"
             ]
            ],
            "type": "histogram2d"
           }
          ],
          "histogram2dcontour": [
           {
            "colorbar": {
             "outlinewidth": 0,
             "ticks": ""
            },
            "colorscale": [
             [
              0,
              "#0d0887"
             ],
             [
              0.1111111111111111,
              "#46039f"
             ],
             [
              0.2222222222222222,
              "#7201a8"
             ],
             [
              0.3333333333333333,
              "#9c179e"
             ],
             [
              0.4444444444444444,
              "#bd3786"
             ],
             [
              0.5555555555555556,
              "#d8576b"
             ],
             [
              0.6666666666666666,
              "#ed7953"
             ],
             [
              0.7777777777777778,
              "#fb9f3a"
             ],
             [
              0.8888888888888888,
              "#fdca26"
             ],
             [
              1,
              "#f0f921"
             ]
            ],
            "type": "histogram2dcontour"
           }
          ],
          "mesh3d": [
           {
            "colorbar": {
             "outlinewidth": 0,
             "ticks": ""
            },
            "type": "mesh3d"
           }
          ],
          "parcoords": [
           {
            "line": {
             "colorbar": {
              "outlinewidth": 0,
              "ticks": ""
             }
            },
            "type": "parcoords"
           }
          ],
          "pie": [
           {
            "automargin": true,
            "type": "pie"
           }
          ],
          "scatter": [
           {
            "fillpattern": {
             "fillmode": "overlay",
             "size": 10,
             "solidity": 0.2
            },
            "type": "scatter"
           }
          ],
          "scatter3d": [
           {
            "line": {
             "colorbar": {
              "outlinewidth": 0,
              "ticks": ""
             }
            },
            "marker": {
             "colorbar": {
              "outlinewidth": 0,
              "ticks": ""
             }
            },
            "type": "scatter3d"
           }
          ],
          "scattercarpet": [
           {
            "marker": {
             "colorbar": {
              "outlinewidth": 0,
              "ticks": ""
             }
            },
            "type": "scattercarpet"
           }
          ],
          "scattergeo": [
           {
            "marker": {
             "colorbar": {
              "outlinewidth": 0,
              "ticks": ""
             }
            },
            "type": "scattergeo"
           }
          ],
          "scattergl": [
           {
            "marker": {
             "colorbar": {
              "outlinewidth": 0,
              "ticks": ""
             }
            },
            "type": "scattergl"
           }
          ],
          "scattermapbox": [
           {
            "marker": {
             "colorbar": {
              "outlinewidth": 0,
              "ticks": ""
             }
            },
            "type": "scattermapbox"
           }
          ],
          "scatterpolar": [
           {
            "marker": {
             "colorbar": {
              "outlinewidth": 0,
              "ticks": ""
             }
            },
            "type": "scatterpolar"
           }
          ],
          "scatterpolargl": [
           {
            "marker": {
             "colorbar": {
              "outlinewidth": 0,
              "ticks": ""
             }
            },
            "type": "scatterpolargl"
           }
          ],
          "scatterternary": [
           {
            "marker": {
             "colorbar": {
              "outlinewidth": 0,
              "ticks": ""
             }
            },
            "type": "scatterternary"
           }
          ],
          "surface": [
           {
            "colorbar": {
             "outlinewidth": 0,
             "ticks": ""
            },
            "colorscale": [
             [
              0,
              "#0d0887"
             ],
             [
              0.1111111111111111,
              "#46039f"
             ],
             [
              0.2222222222222222,
              "#7201a8"
             ],
             [
              0.3333333333333333,
              "#9c179e"
             ],
             [
              0.4444444444444444,
              "#bd3786"
             ],
             [
              0.5555555555555556,
              "#d8576b"
             ],
             [
              0.6666666666666666,
              "#ed7953"
             ],
             [
              0.7777777777777778,
              "#fb9f3a"
             ],
             [
              0.8888888888888888,
              "#fdca26"
             ],
             [
              1,
              "#f0f921"
             ]
            ],
            "type": "surface"
           }
          ],
          "table": [
           {
            "cells": {
             "fill": {
              "color": "#EBF0F8"
             },
             "line": {
              "color": "white"
             }
            },
            "header": {
             "fill": {
              "color": "#C8D4E3"
             },
             "line": {
              "color": "white"
             }
            },
            "type": "table"
           }
          ]
         },
         "layout": {
          "annotationdefaults": {
           "arrowcolor": "#2a3f5f",
           "arrowhead": 0,
           "arrowwidth": 1
          },
          "autotypenumbers": "strict",
          "coloraxis": {
           "colorbar": {
            "outlinewidth": 0,
            "ticks": ""
           }
          },
          "colorscale": {
           "diverging": [
            [
             0,
             "#8e0152"
            ],
            [
             0.1,
             "#c51b7d"
            ],
            [
             0.2,
             "#de77ae"
            ],
            [
             0.3,
             "#f1b6da"
            ],
            [
             0.4,
             "#fde0ef"
            ],
            [
             0.5,
             "#f7f7f7"
            ],
            [
             0.6,
             "#e6f5d0"
            ],
            [
             0.7,
             "#b8e186"
            ],
            [
             0.8,
             "#7fbc41"
            ],
            [
             0.9,
             "#4d9221"
            ],
            [
             1,
             "#276419"
            ]
           ],
           "sequential": [
            [
             0,
             "#0d0887"
            ],
            [
             0.1111111111111111,
             "#46039f"
            ],
            [
             0.2222222222222222,
             "#7201a8"
            ],
            [
             0.3333333333333333,
             "#9c179e"
            ],
            [
             0.4444444444444444,
             "#bd3786"
            ],
            [
             0.5555555555555556,
             "#d8576b"
            ],
            [
             0.6666666666666666,
             "#ed7953"
            ],
            [
             0.7777777777777778,
             "#fb9f3a"
            ],
            [
             0.8888888888888888,
             "#fdca26"
            ],
            [
             1,
             "#f0f921"
            ]
           ],
           "sequentialminus": [
            [
             0,
             "#0d0887"
            ],
            [
             0.1111111111111111,
             "#46039f"
            ],
            [
             0.2222222222222222,
             "#7201a8"
            ],
            [
             0.3333333333333333,
             "#9c179e"
            ],
            [
             0.4444444444444444,
             "#bd3786"
            ],
            [
             0.5555555555555556,
             "#d8576b"
            ],
            [
             0.6666666666666666,
             "#ed7953"
            ],
            [
             0.7777777777777778,
             "#fb9f3a"
            ],
            [
             0.8888888888888888,
             "#fdca26"
            ],
            [
             1,
             "#f0f921"
            ]
           ]
          },
          "colorway": [
           "#636efa",
           "#EF553B",
           "#00cc96",
           "#ab63fa",
           "#FFA15A",
           "#19d3f3",
           "#FF6692",
           "#B6E880",
           "#FF97FF",
           "#FECB52"
          ],
          "font": {
           "color": "#2a3f5f"
          },
          "geo": {
           "bgcolor": "white",
           "lakecolor": "white",
           "landcolor": "#E5ECF6",
           "showlakes": true,
           "showland": true,
           "subunitcolor": "white"
          },
          "hoverlabel": {
           "align": "left"
          },
          "hovermode": "closest",
          "mapbox": {
           "style": "light"
          },
          "paper_bgcolor": "white",
          "plot_bgcolor": "#E5ECF6",
          "polar": {
           "angularaxis": {
            "gridcolor": "white",
            "linecolor": "white",
            "ticks": ""
           },
           "bgcolor": "#E5ECF6",
           "radialaxis": {
            "gridcolor": "white",
            "linecolor": "white",
            "ticks": ""
           }
          },
          "scene": {
           "xaxis": {
            "backgroundcolor": "#E5ECF6",
            "gridcolor": "white",
            "gridwidth": 2,
            "linecolor": "white",
            "showbackground": true,
            "ticks": "",
            "zerolinecolor": "white"
           },
           "yaxis": {
            "backgroundcolor": "#E5ECF6",
            "gridcolor": "white",
            "gridwidth": 2,
            "linecolor": "white",
            "showbackground": true,
            "ticks": "",
            "zerolinecolor": "white"
           },
           "zaxis": {
            "backgroundcolor": "#E5ECF6",
            "gridcolor": "white",
            "gridwidth": 2,
            "linecolor": "white",
            "showbackground": true,
            "ticks": "",
            "zerolinecolor": "white"
           }
          },
          "shapedefaults": {
           "line": {
            "color": "#2a3f5f"
           }
          },
          "ternary": {
           "aaxis": {
            "gridcolor": "white",
            "linecolor": "white",
            "ticks": ""
           },
           "baxis": {
            "gridcolor": "white",
            "linecolor": "white",
            "ticks": ""
           },
           "bgcolor": "#E5ECF6",
           "caxis": {
            "gridcolor": "white",
            "linecolor": "white",
            "ticks": ""
           }
          },
          "title": {
           "x": 0.05
          },
          "xaxis": {
           "automargin": true,
           "gridcolor": "white",
           "linecolor": "white",
           "ticks": "",
           "title": {
            "standoff": 15
           },
           "zerolinecolor": "white",
           "zerolinewidth": 2
          },
          "yaxis": {
           "automargin": true,
           "gridcolor": "white",
           "linecolor": "white",
           "ticks": "",
           "title": {
            "standoff": 15
           },
           "zerolinecolor": "white",
           "zerolinewidth": 2
          }
         }
        },
        "xaxis": {
         "anchor": "y",
         "domain": [
          0,
          0.8358
         ],
         "title": {
          "text": "expected_abundance"
         }
        },
        "xaxis2": {
         "anchor": "y2",
         "domain": [
          0.8408,
          1
         ],
         "matches": "x2",
         "showgrid": false,
         "showline": false,
         "showticklabels": false,
         "ticks": ""
        },
        "xaxis3": {
         "anchor": "y3",
         "domain": [
          0,
          0.8358
         ],
         "matches": "x",
         "showgrid": true,
         "showticklabels": false
        },
        "xaxis4": {
         "anchor": "y4",
         "domain": [
          0.8408,
          1
         ],
         "matches": "x2",
         "showgrid": false,
         "showline": false,
         "showticklabels": false,
         "ticks": ""
        },
        "yaxis": {
         "anchor": "x",
         "domain": [
          0,
          0.8316
         ],
         "title": {
          "text": "abundances"
         }
        },
        "yaxis2": {
         "anchor": "x2",
         "domain": [
          0,
          0.8316
         ],
         "matches": "y",
         "showgrid": true,
         "showticklabels": false
        },
        "yaxis3": {
         "anchor": "x3",
         "domain": [
          0.8416,
          1
         ],
         "matches": "y3",
         "showgrid": false,
         "showline": false,
         "showticklabels": false,
         "ticks": ""
        },
        "yaxis4": {
         "anchor": "x4",
         "domain": [
          0.8416,
          1
         ],
         "matches": "y3",
         "showgrid": true,
         "showline": false,
         "showticklabels": false,
         "ticks": ""
        }
       }
      },
      "text/html": [
       "<div>                            <div id=\"05ad81b7-fe64-438e-a591-deabaf8e92c9\" class=\"plotly-graph-div\" style=\"height:525px; width:100%;\"></div>            <script type=\"text/javascript\">                require([\"plotly\"], function(Plotly) {                    window.PLOTLYENV=window.PLOTLYENV || {};                                    if (document.getElementById(\"05ad81b7-fe64-438e-a591-deabaf8e92c9\")) {                    Plotly.newPlot(                        \"05ad81b7-fe64-438e-a591-deabaf8e92c9\",                        [{\"hovertemplate\":\"\\u003cb\\u003e%{hovertext}\\u003c\\u002fb\\u003e\\u003cbr\\u003e\\u003cbr\\u003eexpected_abundance=%{x}\\u003cbr\\u003eabundances=%{y}\\u003cextra\\u003e\\u003c\\u002fextra\\u003e\",\"hovertext\":[\"0adgio1\",\"0adgio1-2\",\"0adgio1o2o3o4o5\",\"0agio1o2\",\"0aio1o2o3o4o5\",\"a\",\"a-2\",\"adgio1o2o3\",\"agio3o4o5\",\"0adgio1\",\"0adgio1-2\",\"0adgio1o2o3o4o5\",\"0agio1o2\",\"0aio1o2o3o4o5\",\"adgio1o2o3\",\"o1-2\",\"o1o2\",\"o1o2o3o4o5\",\"0adgio1o2o3o4o5\",\"0agio1o2\",\"0aio1o2o3o4o5\",\"adgio1o2o3\",\"o1o2\",\"o1o2o3o4o5\",\"o2-2\",\"o2-3\",\"o2o3o4o5\",\"o2o3o4o5-2\",\"o2o3o4o5-3\",\"0adgio1o2o3o4o5\",\"0aio1o2o3o4o5\",\"0o5o3o4\",\"agio3o4o5\",\"o1o2o3o4o5\",\"o2o3o4o5\",\"o2o3o4o5-2\",\"o2o3o4o5-3\",\"o4\",\"o4-2\",\"o4-3\",\"0adgio1o2o3o4o5\",\"0aio1o2o3o4o5\",\"0o5o3o4\",\"agio3o4o5\",\"o1o2o3o4o5\",\"o2o3o4o5\",\"o2o3o4o5-2\",\"o2o3o4o5-3\",\"o5\",\"o5-2\",\"o5-3\",\"0adgio1o2o3o4o5\",\"0aio1o2o3o4o5\",\"0o5o3o4\",\"adgio1o2o3\",\"agio3o4o5\",\"o1o2o3o4o5\",\"o2o3o4o5\",\"o2o3o4o5-2\",\"o2o3o4o5-3\",\"o3\",\"o3-2\",\"o3-3\",\"o3-4\",\"0adgio1\",\"0adgio1-2\",\"0adgio1o2o3o4o5\",\"adgio1o2o3\",\"d\",\"d-2\",\"0adgio1\",\"0adgio1-2\",\"0adgio1o2o3o4o5\",\"0agio1o2\",\"adgio1o2o3\",\"agio3o4o5\",\"g\",\"g-2\",\"0adgio1\",\"0adgio1-2\",\"0adgio1o2o3o4o5\",\"0agio1o2\",\"0aio1o2o3o4o5\",\"adgio1o2o3\",\"agio3o4o5\",\"i\",\"i-2\",\"0\",\"0-2\",\"0-3\",\"0-4\",\"0adgio1-2\",\"0adgio1o2o3o4o5\",\"0o5o3o4\"],\"legendgroup\":\"\",\"marker\":{\"color\":\"#636efa\",\"symbol\":\"circle\"},\"mode\":\"markers\",\"name\":\"\",\"orientation\":\"v\",\"showlegend\":false,\"x\":[0.25,0.14285714285714288,0.06666666666666667,0.0625,0.125,1.0,1.0,0.0625,0.1875,0.125,0.14285714285714288,0.06666666666666667,0.1875,0.125,0.1875,1.0,0.375,0.25,0.13333333333333333,0.3125,0.125,0.1875,0.625,0.25,1.0,1.0,0.25,0.25,0.25,0.13333333333333333,0.125,0.1875,0.1875,0.125,0.1875,0.25,0.25,1.0,1.0,1.0,0.13333333333333333,0.125,0.25,0.1875,0.25,0.3125,0.25,0.25,1.0,1.0,1.0,0.13333333333333333,0.125,0.1875,0.25,0.125,0.125,0.25,0.25,0.25,1.0,1.0,1.0,1.0,0.1875,0.14285714285714288,0.06666666666666667,0.1875,1.0,1.0,0.0625,0.14285714285714288,0.06666666666666667,0.1875,0.0625,0.125,1.0,1.0,0.125,0.14285714285714288,0.06666666666666667,0.125,0.125,0.0625,0.1875,1.0,1.0,1.0,1.0,1.0,1.0,0.28571428571428575,0.13333333333333333,0.375],\"xaxis\":\"x\",\"y\":[0.26696636,0.14539712,0.06574032,0.06598129,0.13206304,0.98785769,0.98895272,0.08493186,0.16950286,0.05772429,0.06092162,0.01758299,0.07464283,0.04082554,0.09521278,0.9805727399999999,0.22037727999999998,0.13195141999999999,0.06781392,0.27988763999999994,0.05813136000000001,0.21952261999999997,0.68370294,0.21348283,0.9745583600000001,0.9743116999999999,0.12619523,0.17327346,0.10214341,0.2725374,0.22229888,0.29357223,0.3164375,0.23463959,0.31650731,0.34263048,0.48894959,0.98584672,0.98592435,0.9860769599999999,0.10429353,0.08861617,0.18398555,0.14247287,0.28623492,0.31460988,0.24571312,0.21437867000000002,0.9766654,0.98479711,0.98725921,0.07327725,0.08687546,0.08075034,0.18962135,0.0684909,0.06217099,0.19896746999999998,0.19290647,0.1539635,0.9888962,0.98863098,0.98852796,0.98841121,0.09877369,0.06754953000000001,0.02499044,0.11932714999999999,0.9848493100000001,0.98471052,0.050856769999999996,0.11320975999999999,0.04716771,0.17043694,0.06395504,0.08856339999999999,0.9921838599999999,0.99123966,0.110704,0.1196876,0.0455408,0.120586,0.10055206,0.0626026,0.12800121,0.98556448,0.98427241,0.49208518,0.98267715,0.49281895,0.98692177,0.01001741,0.01862879,0.14469641],\"yaxis\":\"y\",\"type\":\"scatter\"},{\"alignmentgroup\":\"True\",\"hovertemplate\":\"\\u003cb\\u003e%{hovertext}\\u003c\\u002fb\\u003e\\u003cbr\\u003e\\u003cbr\\u003eexpected_abundance=%{x}\\u003cextra\\u003e\\u003c\\u002fextra\\u003e\",\"hovertext\":[\"0adgio1\",\"0adgio1-2\",\"0adgio1o2o3o4o5\",\"0agio1o2\",\"0aio1o2o3o4o5\",\"a\",\"a-2\",\"adgio1o2o3\",\"agio3o4o5\",\"0adgio1\",\"0adgio1-2\",\"0adgio1o2o3o4o5\",\"0agio1o2\",\"0aio1o2o3o4o5\",\"adgio1o2o3\",\"o1-2\",\"o1o2\",\"o1o2o3o4o5\",\"0adgio1o2o3o4o5\",\"0agio1o2\",\"0aio1o2o3o4o5\",\"adgio1o2o3\",\"o1o2\",\"o1o2o3o4o5\",\"o2-2\",\"o2-3\",\"o2o3o4o5\",\"o2o3o4o5-2\",\"o2o3o4o5-3\",\"0adgio1o2o3o4o5\",\"0aio1o2o3o4o5\",\"0o5o3o4\",\"agio3o4o5\",\"o1o2o3o4o5\",\"o2o3o4o5\",\"o2o3o4o5-2\",\"o2o3o4o5-3\",\"o4\",\"o4-2\",\"o4-3\",\"0adgio1o2o3o4o5\",\"0aio1o2o3o4o5\",\"0o5o3o4\",\"agio3o4o5\",\"o1o2o3o4o5\",\"o2o3o4o5\",\"o2o3o4o5-2\",\"o2o3o4o5-3\",\"o5\",\"o5-2\",\"o5-3\",\"0adgio1o2o3o4o5\",\"0aio1o2o3o4o5\",\"0o5o3o4\",\"adgio1o2o3\",\"agio3o4o5\",\"o1o2o3o4o5\",\"o2o3o4o5\",\"o2o3o4o5-2\",\"o2o3o4o5-3\",\"o3\",\"o3-2\",\"o3-3\",\"o3-4\",\"0adgio1\",\"0adgio1-2\",\"0adgio1o2o3o4o5\",\"adgio1o2o3\",\"d\",\"d-2\",\"0adgio1\",\"0adgio1-2\",\"0adgio1o2o3o4o5\",\"0agio1o2\",\"adgio1o2o3\",\"agio3o4o5\",\"g\",\"g-2\",\"0adgio1\",\"0adgio1-2\",\"0adgio1o2o3o4o5\",\"0agio1o2\",\"0aio1o2o3o4o5\",\"adgio1o2o3\",\"agio3o4o5\",\"i\",\"i-2\",\"0\",\"0-2\",\"0-3\",\"0-4\",\"0adgio1-2\",\"0adgio1o2o3o4o5\",\"0o5o3o4\"],\"legendgroup\":\"\",\"marker\":{\"color\":\"#636efa\",\"symbol\":\"circle\"},\"name\":\"\",\"offsetgroup\":\"\",\"scalegroup\":\"x\",\"showlegend\":false,\"x\":[0.25,0.14285714285714288,0.06666666666666667,0.0625,0.125,1.0,1.0,0.0625,0.1875,0.125,0.14285714285714288,0.06666666666666667,0.1875,0.125,0.1875,1.0,0.375,0.25,0.13333333333333333,0.3125,0.125,0.1875,0.625,0.25,1.0,1.0,0.25,0.25,0.25,0.13333333333333333,0.125,0.1875,0.1875,0.125,0.1875,0.25,0.25,1.0,1.0,1.0,0.13333333333333333,0.125,0.25,0.1875,0.25,0.3125,0.25,0.25,1.0,1.0,1.0,0.13333333333333333,0.125,0.1875,0.25,0.125,0.125,0.25,0.25,0.25,1.0,1.0,1.0,1.0,0.1875,0.14285714285714288,0.06666666666666667,0.1875,1.0,1.0,0.0625,0.14285714285714288,0.06666666666666667,0.1875,0.0625,0.125,1.0,1.0,0.125,0.14285714285714288,0.06666666666666667,0.125,0.125,0.0625,0.1875,1.0,1.0,1.0,1.0,1.0,1.0,0.28571428571428575,0.13333333333333333,0.375],\"xaxis\":\"x3\",\"yaxis\":\"y3\",\"type\":\"violin\"},{\"alignmentgroup\":\"True\",\"hovertemplate\":\"\\u003cb\\u003e%{hovertext}\\u003c\\u002fb\\u003e\\u003cbr\\u003e\\u003cbr\\u003eabundances=%{y}\\u003cextra\\u003e\\u003c\\u002fextra\\u003e\",\"hovertext\":[\"0adgio1\",\"0adgio1-2\",\"0adgio1o2o3o4o5\",\"0agio1o2\",\"0aio1o2o3o4o5\",\"a\",\"a-2\",\"adgio1o2o3\",\"agio3o4o5\",\"0adgio1\",\"0adgio1-2\",\"0adgio1o2o3o4o5\",\"0agio1o2\",\"0aio1o2o3o4o5\",\"adgio1o2o3\",\"o1-2\",\"o1o2\",\"o1o2o3o4o5\",\"0adgio1o2o3o4o5\",\"0agio1o2\",\"0aio1o2o3o4o5\",\"adgio1o2o3\",\"o1o2\",\"o1o2o3o4o5\",\"o2-2\",\"o2-3\",\"o2o3o4o5\",\"o2o3o4o5-2\",\"o2o3o4o5-3\",\"0adgio1o2o3o4o5\",\"0aio1o2o3o4o5\",\"0o5o3o4\",\"agio3o4o5\",\"o1o2o3o4o5\",\"o2o3o4o5\",\"o2o3o4o5-2\",\"o2o3o4o5-3\",\"o4\",\"o4-2\",\"o4-3\",\"0adgio1o2o3o4o5\",\"0aio1o2o3o4o5\",\"0o5o3o4\",\"agio3o4o5\",\"o1o2o3o4o5\",\"o2o3o4o5\",\"o2o3o4o5-2\",\"o2o3o4o5-3\",\"o5\",\"o5-2\",\"o5-3\",\"0adgio1o2o3o4o5\",\"0aio1o2o3o4o5\",\"0o5o3o4\",\"adgio1o2o3\",\"agio3o4o5\",\"o1o2o3o4o5\",\"o2o3o4o5\",\"o2o3o4o5-2\",\"o2o3o4o5-3\",\"o3\",\"o3-2\",\"o3-3\",\"o3-4\",\"0adgio1\",\"0adgio1-2\",\"0adgio1o2o3o4o5\",\"adgio1o2o3\",\"d\",\"d-2\",\"0adgio1\",\"0adgio1-2\",\"0adgio1o2o3o4o5\",\"0agio1o2\",\"adgio1o2o3\",\"agio3o4o5\",\"g\",\"g-2\",\"0adgio1\",\"0adgio1-2\",\"0adgio1o2o3o4o5\",\"0agio1o2\",\"0aio1o2o3o4o5\",\"adgio1o2o3\",\"agio3o4o5\",\"i\",\"i-2\",\"0\",\"0-2\",\"0-3\",\"0-4\",\"0adgio1-2\",\"0adgio1o2o3o4o5\",\"0o5o3o4\"],\"legendgroup\":\"\",\"marker\":{\"color\":\"#636efa\",\"symbol\":\"circle\"},\"name\":\"\",\"offsetgroup\":\"\",\"scalegroup\":\"y\",\"showlegend\":false,\"xaxis\":\"x2\",\"y\":[0.26696636,0.14539712,0.06574032,0.06598129,0.13206304,0.98785769,0.98895272,0.08493186,0.16950286,0.05772429,0.06092162,0.01758299,0.07464283,0.04082554,0.09521278,0.9805727399999999,0.22037727999999998,0.13195141999999999,0.06781392,0.27988763999999994,0.05813136000000001,0.21952261999999997,0.68370294,0.21348283,0.9745583600000001,0.9743116999999999,0.12619523,0.17327346,0.10214341,0.2725374,0.22229888,0.29357223,0.3164375,0.23463959,0.31650731,0.34263048,0.48894959,0.98584672,0.98592435,0.9860769599999999,0.10429353,0.08861617,0.18398555,0.14247287,0.28623492,0.31460988,0.24571312,0.21437867000000002,0.9766654,0.98479711,0.98725921,0.07327725,0.08687546,0.08075034,0.18962135,0.0684909,0.06217099,0.19896746999999998,0.19290647,0.1539635,0.9888962,0.98863098,0.98852796,0.98841121,0.09877369,0.06754953000000001,0.02499044,0.11932714999999999,0.9848493100000001,0.98471052,0.050856769999999996,0.11320975999999999,0.04716771,0.17043694,0.06395504,0.08856339999999999,0.9921838599999999,0.99123966,0.110704,0.1196876,0.0455408,0.120586,0.10055206,0.0626026,0.12800121,0.98556448,0.98427241,0.49208518,0.98267715,0.49281895,0.98692177,0.01001741,0.01862879,0.14469641],\"yaxis\":\"y2\",\"type\":\"violin\"}],                        {\"template\":{\"data\":{\"histogram2dcontour\":[{\"type\":\"histogram2dcontour\",\"colorbar\":{\"outlinewidth\":0,\"ticks\":\"\"},\"colorscale\":[[0.0,\"#0d0887\"],[0.1111111111111111,\"#46039f\"],[0.2222222222222222,\"#7201a8\"],[0.3333333333333333,\"#9c179e\"],[0.4444444444444444,\"#bd3786\"],[0.5555555555555556,\"#d8576b\"],[0.6666666666666666,\"#ed7953\"],[0.7777777777777778,\"#fb9f3a\"],[0.8888888888888888,\"#fdca26\"],[1.0,\"#f0f921\"]]}],\"choropleth\":[{\"type\":\"choropleth\",\"colorbar\":{\"outlinewidth\":0,\"ticks\":\"\"}}],\"histogram2d\":[{\"type\":\"histogram2d\",\"colorbar\":{\"outlinewidth\":0,\"ticks\":\"\"},\"colorscale\":[[0.0,\"#0d0887\"],[0.1111111111111111,\"#46039f\"],[0.2222222222222222,\"#7201a8\"],[0.3333333333333333,\"#9c179e\"],[0.4444444444444444,\"#bd3786\"],[0.5555555555555556,\"#d8576b\"],[0.6666666666666666,\"#ed7953\"],[0.7777777777777778,\"#fb9f3a\"],[0.8888888888888888,\"#fdca26\"],[1.0,\"#f0f921\"]]}],\"heatmap\":[{\"type\":\"heatmap\",\"colorbar\":{\"outlinewidth\":0,\"ticks\":\"\"},\"colorscale\":[[0.0,\"#0d0887\"],[0.1111111111111111,\"#46039f\"],[0.2222222222222222,\"#7201a8\"],[0.3333333333333333,\"#9c179e\"],[0.4444444444444444,\"#bd3786\"],[0.5555555555555556,\"#d8576b\"],[0.6666666666666666,\"#ed7953\"],[0.7777777777777778,\"#fb9f3a\"],[0.8888888888888888,\"#fdca26\"],[1.0,\"#f0f921\"]]}],\"heatmapgl\":[{\"type\":\"heatmapgl\",\"colorbar\":{\"outlinewidth\":0,\"ticks\":\"\"},\"colorscale\":[[0.0,\"#0d0887\"],[0.1111111111111111,\"#46039f\"],[0.2222222222222222,\"#7201a8\"],[0.3333333333333333,\"#9c179e\"],[0.4444444444444444,\"#bd3786\"],[0.5555555555555556,\"#d8576b\"],[0.6666666666666666,\"#ed7953\"],[0.7777777777777778,\"#fb9f3a\"],[0.8888888888888888,\"#fdca26\"],[1.0,\"#f0f921\"]]}],\"contourcarpet\":[{\"type\":\"contourcarpet\",\"colorbar\":{\"outlinewidth\":0,\"ticks\":\"\"}}],\"contour\":[{\"type\":\"contour\",\"colorbar\":{\"outlinewidth\":0,\"ticks\":\"\"},\"colorscale\":[[0.0,\"#0d0887\"],[0.1111111111111111,\"#46039f\"],[0.2222222222222222,\"#7201a8\"],[0.3333333333333333,\"#9c179e\"],[0.4444444444444444,\"#bd3786\"],[0.5555555555555556,\"#d8576b\"],[0.6666666666666666,\"#ed7953\"],[0.7777777777777778,\"#fb9f3a\"],[0.8888888888888888,\"#fdca26\"],[1.0,\"#f0f921\"]]}],\"surface\":[{\"type\":\"surface\",\"colorbar\":{\"outlinewidth\":0,\"ticks\":\"\"},\"colorscale\":[[0.0,\"#0d0887\"],[0.1111111111111111,\"#46039f\"],[0.2222222222222222,\"#7201a8\"],[0.3333333333333333,\"#9c179e\"],[0.4444444444444444,\"#bd3786\"],[0.5555555555555556,\"#d8576b\"],[0.6666666666666666,\"#ed7953\"],[0.7777777777777778,\"#fb9f3a\"],[0.8888888888888888,\"#fdca26\"],[1.0,\"#f0f921\"]]}],\"mesh3d\":[{\"type\":\"mesh3d\",\"colorbar\":{\"outlinewidth\":0,\"ticks\":\"\"}}],\"scatter\":[{\"fillpattern\":{\"fillmode\":\"overlay\",\"size\":10,\"solidity\":0.2},\"type\":\"scatter\"}],\"parcoords\":[{\"type\":\"parcoords\",\"line\":{\"colorbar\":{\"outlinewidth\":0,\"ticks\":\"\"}}}],\"scatterpolargl\":[{\"type\":\"scatterpolargl\",\"marker\":{\"colorbar\":{\"outlinewidth\":0,\"ticks\":\"\"}}}],\"bar\":[{\"error_x\":{\"color\":\"#2a3f5f\"},\"error_y\":{\"color\":\"#2a3f5f\"},\"marker\":{\"line\":{\"color\":\"#E5ECF6\",\"width\":0.5},\"pattern\":{\"fillmode\":\"overlay\",\"size\":10,\"solidity\":0.2}},\"type\":\"bar\"}],\"scattergeo\":[{\"type\":\"scattergeo\",\"marker\":{\"colorbar\":{\"outlinewidth\":0,\"ticks\":\"\"}}}],\"scatterpolar\":[{\"type\":\"scatterpolar\",\"marker\":{\"colorbar\":{\"outlinewidth\":0,\"ticks\":\"\"}}}],\"histogram\":[{\"marker\":{\"pattern\":{\"fillmode\":\"overlay\",\"size\":10,\"solidity\":0.2}},\"type\":\"histogram\"}],\"scattergl\":[{\"type\":\"scattergl\",\"marker\":{\"colorbar\":{\"outlinewidth\":0,\"ticks\":\"\"}}}],\"scatter3d\":[{\"type\":\"scatter3d\",\"line\":{\"colorbar\":{\"outlinewidth\":0,\"ticks\":\"\"}},\"marker\":{\"colorbar\":{\"outlinewidth\":0,\"ticks\":\"\"}}}],\"scattermapbox\":[{\"type\":\"scattermapbox\",\"marker\":{\"colorbar\":{\"outlinewidth\":0,\"ticks\":\"\"}}}],\"scatterternary\":[{\"type\":\"scatterternary\",\"marker\":{\"colorbar\":{\"outlinewidth\":0,\"ticks\":\"\"}}}],\"scattercarpet\":[{\"type\":\"scattercarpet\",\"marker\":{\"colorbar\":{\"outlinewidth\":0,\"ticks\":\"\"}}}],\"carpet\":[{\"aaxis\":{\"endlinecolor\":\"#2a3f5f\",\"gridcolor\":\"white\",\"linecolor\":\"white\",\"minorgridcolor\":\"white\",\"startlinecolor\":\"#2a3f5f\"},\"baxis\":{\"endlinecolor\":\"#2a3f5f\",\"gridcolor\":\"white\",\"linecolor\":\"white\",\"minorgridcolor\":\"white\",\"startlinecolor\":\"#2a3f5f\"},\"type\":\"carpet\"}],\"table\":[{\"cells\":{\"fill\":{\"color\":\"#EBF0F8\"},\"line\":{\"color\":\"white\"}},\"header\":{\"fill\":{\"color\":\"#C8D4E3\"},\"line\":{\"color\":\"white\"}},\"type\":\"table\"}],\"barpolar\":[{\"marker\":{\"line\":{\"color\":\"#E5ECF6\",\"width\":0.5},\"pattern\":{\"fillmode\":\"overlay\",\"size\":10,\"solidity\":0.2}},\"type\":\"barpolar\"}],\"pie\":[{\"automargin\":true,\"type\":\"pie\"}]},\"layout\":{\"autotypenumbers\":\"strict\",\"colorway\":[\"#636efa\",\"#EF553B\",\"#00cc96\",\"#ab63fa\",\"#FFA15A\",\"#19d3f3\",\"#FF6692\",\"#B6E880\",\"#FF97FF\",\"#FECB52\"],\"font\":{\"color\":\"#2a3f5f\"},\"hovermode\":\"closest\",\"hoverlabel\":{\"align\":\"left\"},\"paper_bgcolor\":\"white\",\"plot_bgcolor\":\"#E5ECF6\",\"polar\":{\"bgcolor\":\"#E5ECF6\",\"angularaxis\":{\"gridcolor\":\"white\",\"linecolor\":\"white\",\"ticks\":\"\"},\"radialaxis\":{\"gridcolor\":\"white\",\"linecolor\":\"white\",\"ticks\":\"\"}},\"ternary\":{\"bgcolor\":\"#E5ECF6\",\"aaxis\":{\"gridcolor\":\"white\",\"linecolor\":\"white\",\"ticks\":\"\"},\"baxis\":{\"gridcolor\":\"white\",\"linecolor\":\"white\",\"ticks\":\"\"},\"caxis\":{\"gridcolor\":\"white\",\"linecolor\":\"white\",\"ticks\":\"\"}},\"coloraxis\":{\"colorbar\":{\"outlinewidth\":0,\"ticks\":\"\"}},\"colorscale\":{\"sequential\":[[0.0,\"#0d0887\"],[0.1111111111111111,\"#46039f\"],[0.2222222222222222,\"#7201a8\"],[0.3333333333333333,\"#9c179e\"],[0.4444444444444444,\"#bd3786\"],[0.5555555555555556,\"#d8576b\"],[0.6666666666666666,\"#ed7953\"],[0.7777777777777778,\"#fb9f3a\"],[0.8888888888888888,\"#fdca26\"],[1.0,\"#f0f921\"]],\"sequentialminus\":[[0.0,\"#0d0887\"],[0.1111111111111111,\"#46039f\"],[0.2222222222222222,\"#7201a8\"],[0.3333333333333333,\"#9c179e\"],[0.4444444444444444,\"#bd3786\"],[0.5555555555555556,\"#d8576b\"],[0.6666666666666666,\"#ed7953\"],[0.7777777777777778,\"#fb9f3a\"],[0.8888888888888888,\"#fdca26\"],[1.0,\"#f0f921\"]],\"diverging\":[[0,\"#8e0152\"],[0.1,\"#c51b7d\"],[0.2,\"#de77ae\"],[0.3,\"#f1b6da\"],[0.4,\"#fde0ef\"],[0.5,\"#f7f7f7\"],[0.6,\"#e6f5d0\"],[0.7,\"#b8e186\"],[0.8,\"#7fbc41\"],[0.9,\"#4d9221\"],[1,\"#276419\"]]},\"xaxis\":{\"gridcolor\":\"white\",\"linecolor\":\"white\",\"ticks\":\"\",\"title\":{\"standoff\":15},\"zerolinecolor\":\"white\",\"automargin\":true,\"zerolinewidth\":2},\"yaxis\":{\"gridcolor\":\"white\",\"linecolor\":\"white\",\"ticks\":\"\",\"title\":{\"standoff\":15},\"zerolinecolor\":\"white\",\"automargin\":true,\"zerolinewidth\":2},\"scene\":{\"xaxis\":{\"backgroundcolor\":\"#E5ECF6\",\"gridcolor\":\"white\",\"linecolor\":\"white\",\"showbackground\":true,\"ticks\":\"\",\"zerolinecolor\":\"white\",\"gridwidth\":2},\"yaxis\":{\"backgroundcolor\":\"#E5ECF6\",\"gridcolor\":\"white\",\"linecolor\":\"white\",\"showbackground\":true,\"ticks\":\"\",\"zerolinecolor\":\"white\",\"gridwidth\":2},\"zaxis\":{\"backgroundcolor\":\"#E5ECF6\",\"gridcolor\":\"white\",\"linecolor\":\"white\",\"showbackground\":true,\"ticks\":\"\",\"zerolinecolor\":\"white\",\"gridwidth\":2}},\"shapedefaults\":{\"line\":{\"color\":\"#2a3f5f\"}},\"annotationdefaults\":{\"arrowcolor\":\"#2a3f5f\",\"arrowhead\":0,\"arrowwidth\":1},\"geo\":{\"bgcolor\":\"white\",\"landcolor\":\"#E5ECF6\",\"subunitcolor\":\"white\",\"showland\":true,\"showlakes\":true,\"lakecolor\":\"white\"},\"title\":{\"x\":0.05},\"mapbox\":{\"style\":\"light\"}}},\"xaxis\":{\"anchor\":\"y\",\"domain\":[0.0,0.8358],\"title\":{\"text\":\"expected_abundance\"}},\"yaxis\":{\"anchor\":\"x\",\"domain\":[0.0,0.8316],\"title\":{\"text\":\"abundances\"}},\"xaxis2\":{\"anchor\":\"y2\",\"domain\":[0.8408,1.0],\"matches\":\"x2\",\"showticklabels\":false,\"showline\":false,\"ticks\":\"\",\"showgrid\":false},\"yaxis2\":{\"anchor\":\"x2\",\"domain\":[0.0,0.8316],\"matches\":\"y\",\"showticklabels\":false,\"showgrid\":true},\"xaxis3\":{\"anchor\":\"y3\",\"domain\":[0.0,0.8358],\"matches\":\"x\",\"showticklabels\":false,\"showgrid\":true},\"yaxis3\":{\"anchor\":\"x3\",\"domain\":[0.8416,1.0],\"matches\":\"y3\",\"showticklabels\":false,\"showline\":false,\"ticks\":\"\",\"showgrid\":false},\"xaxis4\":{\"anchor\":\"y4\",\"domain\":[0.8408,1.0],\"matches\":\"x2\",\"showticklabels\":false,\"showgrid\":false,\"showline\":false,\"ticks\":\"\"},\"yaxis4\":{\"anchor\":\"x4\",\"domain\":[0.8416,1.0],\"matches\":\"y3\",\"showticklabels\":false,\"showline\":false,\"ticks\":\"\",\"showgrid\":true},\"legend\":{\"tracegroupgap\":0},\"margin\":{\"t\":60}},                        {\"responsive\": true}                    ).then(function(){\n",
       "                            \n",
       "var gd = document.getElementById('05ad81b7-fe64-438e-a591-deabaf8e92c9');\n",
       "var x = new MutationObserver(function (mutations, observer) {{\n",
       "        var display = window.getComputedStyle(gd).display;\n",
       "        if (!display || display === 'none') {{\n",
       "            console.log([gd, 'removed!']);\n",
       "            Plotly.purge(gd);\n",
       "            observer.disconnect();\n",
       "        }}\n",
       "}});\n",
       "\n",
       "// Listen for the removal of the full notebook cells\n",
       "var notebookContainer = gd.closest('#notebook-container');\n",
       "if (notebookContainer) {{\n",
       "    x.observe(notebookContainer, {childList: true});\n",
       "}}\n",
       "\n",
       "// Listen for the clearing of the current output cell\n",
       "var outputEl = gd.closest('.output');\n",
       "if (outputEl) {{\n",
       "    x.observe(outputEl, {childList: true});\n",
       "}}\n",
       "\n",
       "                        })                };                });            </script>        </div>"
      ]
     },
     "metadata": {},
     "output_type": "display_data"
    }
   ],
   "source": [
    "px.scatter(df, x=\"expected_abundance\", y=\"abundances\", color=None, hover_name=\"Sample name\",\n",
    "           marginal_y='violin',\n",
    "           marginal_x='violin',\n",
    "           )"
   ]
  },
  {
   "cell_type": "code",
   "execution_count": 26,
   "metadata": {},
   "outputs": [
    {
     "data": {
      "application/vnd.plotly.v1+json": {
       "config": {
        "plotlyServerURL": "https://plot.ly"
       },
       "data": [
        {
         "boxpoints": "all",
         "line": {
          "color": "rgb(7,40,89)"
         },
         "marker": {
          "color": "rgb(7,40,89)"
         },
         "name": "Wuhan-hu-1",
         "showlegend": false,
         "type": "box",
         "y": [
          0.49208517999999996,
          0.98267715,
          0.49281895,
          0.98692177,
          0.035060934999999994,
          0.139715925,
          0.38585709333333335
         ]
        },
        {
         "boxpoints": "all",
         "line": {
          "color": "rgb(7,40,89)"
         },
         "marker": {
          "color": "rgb(7,40,89)"
         },
         "name": "Alpha",
         "showlegend": false,
         "type": "box",
         "y": [
          1.06786544,
          1.0177798399999998,
          0.9861048000000001,
          1.05570064,
          1.05650432,
          0.98785769,
          0.98895272,
          1.35890976,
          0.9040152533333334
         ]
        },
        {
         "boxpoints": "all",
         "line": {
          "color": "rgb(7,40,89)"
         },
         "marker": {
          "color": "rgb(7,40,89)"
         },
         "name": "Gamma",
         "showlegend": false,
         "type": "box",
         "y": [
          0.8137083199999999,
          0.7924683199999998,
          0.7075156499999999,
          0.9089970133333334,
          1.02328064,
          0.7085072,
          0.9921838599999999,
          0.99123966
         ]
        },
        {
         "boxpoints": "all",
         "line": {
          "color": "rgb(7,40,89)"
         },
         "marker": {
          "color": "rgb(7,40,89)"
         },
         "name": "Delta",
         "showlegend": false,
         "type": "box",
         "y": [
          0.5267930133333333,
          0.47284671,
          0.3748566,
          0.6364114666666666,
          0.98484931,
          0.98471052
         ]
        },
        {
         "boxpoints": "all",
         "line": {
          "color": "rgb(7,40,89)"
         },
         "marker": {
          "color": "rgb(7,40,89)"
         },
         "name": "Iota",
         "showlegend": false,
         "type": "box",
         "y": [
          0.885632,
          0.8378131999999999,
          0.6831119999999999,
          0.964688,
          0.80441648,
          1.0016416,
          0.68267312,
          0.9855644800000001,
          0.98427241
         ]
        },
        {
         "boxpoints": "all",
         "line": {
          "color": "rgb(7,40,89)"
         },
         "marker": {
          "color": "rgb(7,40,89)"
         },
         "name": "BA.1.X",
         "showlegend": false,
         "type": "box",
         "y": [
          0.46179432,
          0.42645134,
          0.26374485,
          0.3980950933333333,
          0.32660432,
          0.5078014933333334,
          0.9805727399999999,
          0.5876727466666666,
          0.5278056799999999
         ]
        },
        {
         "boxpoints": "all",
         "line": {
          "color": "rgb(7,40,89)"
         },
         "marker": {
          "color": "rgb(7,40,89)"
         },
         "name": "BA.2.X",
         "showlegend": false,
         "type": "box",
         "y": [
          0.5086044,
          0.8956404479999998,
          0.46505088000000006,
          1.1707873066666665,
          1.093924704,
          0.85393132,
          0.9745583600000001,
          0.9743116999999999,
          0.50478092,
          0.69309384,
          0.40857364
         ]
        },
        {
         "boxpoints": "all",
         "line": {
          "color": "rgb(7,40,89)"
         },
         "marker": {
          "color": "rgb(7,40,89)"
         },
         "name": "BG.X",
         "showlegend": false,
         "type": "box",
         "y": [
          0.549579375,
          0.6950036799999999,
          0.43066848,
          0.7584854,
          0.5479272,
          0.49736792,
          0.7958698799999999,
          0.77162588,
          0.615854,
          0.9888961999999999,
          0.98863098,
          0.98852796,
          0.98841121
         ]
        },
        {
         "boxpoints": "all",
         "line": {
          "color": "rgb(7,40,89)"
         },
         "marker": {
          "color": "rgb(7,40,89)"
         },
         "name": "BA.4.X",
         "showlegend": false,
         "type": "box",
         "y": [
          2.0440305,
          1.7783910399999998,
          1.5657185599999999,
          1.6876666666666664,
          1.8771167200000003,
          1.6880389866666663,
          1.3705219200000003,
          1.95579836,
          0.98584672,
          0.9859243499999999,
          0.9860769599999999
         ]
        },
        {
         "boxpoints": "all",
         "line": {
          "color": "rgb(7,40,89)"
         },
         "marker": {
          "color": "rgb(7,40,89)"
         },
         "name": "BA.5.X",
         "showlegend": false,
         "type": "box",
         "y": [
          0.7822014749999999,
          0.70892936,
          0.7359421999999999,
          0.7598553066666667,
          1.14493968,
          1.006751616,
          0.9828524799999999,
          0.85751468,
          0.9766654,
          0.9847971100000001,
          0.9872592099999999
         ]
        }
       ],
       "layout": {
        "shapes": [
         {
          "line": {
           "color": "grey",
           "dash": "dash",
           "width": 3
          },
          "opacity": 0.5,
          "type": "line",
          "x0": 0,
          "x1": 1,
          "xref": "x domain",
          "y0": 1,
          "y1": 1,
          "yref": "y"
         }
        ],
        "template": {
         "data": {
          "bar": [
           {
            "error_x": {
             "color": "#2a3f5f"
            },
            "error_y": {
             "color": "#2a3f5f"
            },
            "marker": {
             "line": {
              "color": "#E5ECF6",
              "width": 0.5
             },
             "pattern": {
              "fillmode": "overlay",
              "size": 10,
              "solidity": 0.2
             }
            },
            "type": "bar"
           }
          ],
          "barpolar": [
           {
            "marker": {
             "line": {
              "color": "#E5ECF6",
              "width": 0.5
             },
             "pattern": {
              "fillmode": "overlay",
              "size": 10,
              "solidity": 0.2
             }
            },
            "type": "barpolar"
           }
          ],
          "carpet": [
           {
            "aaxis": {
             "endlinecolor": "#2a3f5f",
             "gridcolor": "white",
             "linecolor": "white",
             "minorgridcolor": "white",
             "startlinecolor": "#2a3f5f"
            },
            "baxis": {
             "endlinecolor": "#2a3f5f",
             "gridcolor": "white",
             "linecolor": "white",
             "minorgridcolor": "white",
             "startlinecolor": "#2a3f5f"
            },
            "type": "carpet"
           }
          ],
          "choropleth": [
           {
            "colorbar": {
             "outlinewidth": 0,
             "ticks": ""
            },
            "type": "choropleth"
           }
          ],
          "contour": [
           {
            "colorbar": {
             "outlinewidth": 0,
             "ticks": ""
            },
            "colorscale": [
             [
              0,
              "#0d0887"
             ],
             [
              0.1111111111111111,
              "#46039f"
             ],
             [
              0.2222222222222222,
              "#7201a8"
             ],
             [
              0.3333333333333333,
              "#9c179e"
             ],
             [
              0.4444444444444444,
              "#bd3786"
             ],
             [
              0.5555555555555556,
              "#d8576b"
             ],
             [
              0.6666666666666666,
              "#ed7953"
             ],
             [
              0.7777777777777778,
              "#fb9f3a"
             ],
             [
              0.8888888888888888,
              "#fdca26"
             ],
             [
              1,
              "#f0f921"
             ]
            ],
            "type": "contour"
           }
          ],
          "contourcarpet": [
           {
            "colorbar": {
             "outlinewidth": 0,
             "ticks": ""
            },
            "type": "contourcarpet"
           }
          ],
          "heatmap": [
           {
            "colorbar": {
             "outlinewidth": 0,
             "ticks": ""
            },
            "colorscale": [
             [
              0,
              "#0d0887"
             ],
             [
              0.1111111111111111,
              "#46039f"
             ],
             [
              0.2222222222222222,
              "#7201a8"
             ],
             [
              0.3333333333333333,
              "#9c179e"
             ],
             [
              0.4444444444444444,
              "#bd3786"
             ],
             [
              0.5555555555555556,
              "#d8576b"
             ],
             [
              0.6666666666666666,
              "#ed7953"
             ],
             [
              0.7777777777777778,
              "#fb9f3a"
             ],
             [
              0.8888888888888888,
              "#fdca26"
             ],
             [
              1,
              "#f0f921"
             ]
            ],
            "type": "heatmap"
           }
          ],
          "heatmapgl": [
           {
            "colorbar": {
             "outlinewidth": 0,
             "ticks": ""
            },
            "colorscale": [
             [
              0,
              "#0d0887"
             ],
             [
              0.1111111111111111,
              "#46039f"
             ],
             [
              0.2222222222222222,
              "#7201a8"
             ],
             [
              0.3333333333333333,
              "#9c179e"
             ],
             [
              0.4444444444444444,
              "#bd3786"
             ],
             [
              0.5555555555555556,
              "#d8576b"
             ],
             [
              0.6666666666666666,
              "#ed7953"
             ],
             [
              0.7777777777777778,
              "#fb9f3a"
             ],
             [
              0.8888888888888888,
              "#fdca26"
             ],
             [
              1,
              "#f0f921"
             ]
            ],
            "type": "heatmapgl"
           }
          ],
          "histogram": [
           {
            "marker": {
             "pattern": {
              "fillmode": "overlay",
              "size": 10,
              "solidity": 0.2
             }
            },
            "type": "histogram"
           }
          ],
          "histogram2d": [
           {
            "colorbar": {
             "outlinewidth": 0,
             "ticks": ""
            },
            "colorscale": [
             [
              0,
              "#0d0887"
             ],
             [
              0.1111111111111111,
              "#46039f"
             ],
             [
              0.2222222222222222,
              "#7201a8"
             ],
             [
              0.3333333333333333,
              "#9c179e"
             ],
             [
              0.4444444444444444,
              "#bd3786"
             ],
             [
              0.5555555555555556,
              "#d8576b"
             ],
             [
              0.6666666666666666,
              "#ed7953"
             ],
             [
              0.7777777777777778,
              "#fb9f3a"
             ],
             [
              0.8888888888888888,
              "#fdca26"
             ],
             [
              1,
              "#f0f921"
             ]
            ],
            "type": "histogram2d"
           }
          ],
          "histogram2dcontour": [
           {
            "colorbar": {
             "outlinewidth": 0,
             "ticks": ""
            },
            "colorscale": [
             [
              0,
              "#0d0887"
             ],
             [
              0.1111111111111111,
              "#46039f"
             ],
             [
              0.2222222222222222,
              "#7201a8"
             ],
             [
              0.3333333333333333,
              "#9c179e"
             ],
             [
              0.4444444444444444,
              "#bd3786"
             ],
             [
              0.5555555555555556,
              "#d8576b"
             ],
             [
              0.6666666666666666,
              "#ed7953"
             ],
             [
              0.7777777777777778,
              "#fb9f3a"
             ],
             [
              0.8888888888888888,
              "#fdca26"
             ],
             [
              1,
              "#f0f921"
             ]
            ],
            "type": "histogram2dcontour"
           }
          ],
          "mesh3d": [
           {
            "colorbar": {
             "outlinewidth": 0,
             "ticks": ""
            },
            "type": "mesh3d"
           }
          ],
          "parcoords": [
           {
            "line": {
             "colorbar": {
              "outlinewidth": 0,
              "ticks": ""
             }
            },
            "type": "parcoords"
           }
          ],
          "pie": [
           {
            "automargin": true,
            "type": "pie"
           }
          ],
          "scatter": [
           {
            "fillpattern": {
             "fillmode": "overlay",
             "size": 10,
             "solidity": 0.2
            },
            "type": "scatter"
           }
          ],
          "scatter3d": [
           {
            "line": {
             "colorbar": {
              "outlinewidth": 0,
              "ticks": ""
             }
            },
            "marker": {
             "colorbar": {
              "outlinewidth": 0,
              "ticks": ""
             }
            },
            "type": "scatter3d"
           }
          ],
          "scattercarpet": [
           {
            "marker": {
             "colorbar": {
              "outlinewidth": 0,
              "ticks": ""
             }
            },
            "type": "scattercarpet"
           }
          ],
          "scattergeo": [
           {
            "marker": {
             "colorbar": {
              "outlinewidth": 0,
              "ticks": ""
             }
            },
            "type": "scattergeo"
           }
          ],
          "scattergl": [
           {
            "marker": {
             "colorbar": {
              "outlinewidth": 0,
              "ticks": ""
             }
            },
            "type": "scattergl"
           }
          ],
          "scattermapbox": [
           {
            "marker": {
             "colorbar": {
              "outlinewidth": 0,
              "ticks": ""
             }
            },
            "type": "scattermapbox"
           }
          ],
          "scatterpolar": [
           {
            "marker": {
             "colorbar": {
              "outlinewidth": 0,
              "ticks": ""
             }
            },
            "type": "scatterpolar"
           }
          ],
          "scatterpolargl": [
           {
            "marker": {
             "colorbar": {
              "outlinewidth": 0,
              "ticks": ""
             }
            },
            "type": "scatterpolargl"
           }
          ],
          "scatterternary": [
           {
            "marker": {
             "colorbar": {
              "outlinewidth": 0,
              "ticks": ""
             }
            },
            "type": "scatterternary"
           }
          ],
          "surface": [
           {
            "colorbar": {
             "outlinewidth": 0,
             "ticks": ""
            },
            "colorscale": [
             [
              0,
              "#0d0887"
             ],
             [
              0.1111111111111111,
              "#46039f"
             ],
             [
              0.2222222222222222,
              "#7201a8"
             ],
             [
              0.3333333333333333,
              "#9c179e"
             ],
             [
              0.4444444444444444,
              "#bd3786"
             ],
             [
              0.5555555555555556,
              "#d8576b"
             ],
             [
              0.6666666666666666,
              "#ed7953"
             ],
             [
              0.7777777777777778,
              "#fb9f3a"
             ],
             [
              0.8888888888888888,
              "#fdca26"
             ],
             [
              1,
              "#f0f921"
             ]
            ],
            "type": "surface"
           }
          ],
          "table": [
           {
            "cells": {
             "fill": {
              "color": "#EBF0F8"
             },
             "line": {
              "color": "white"
             }
            },
            "header": {
             "fill": {
              "color": "#C8D4E3"
             },
             "line": {
              "color": "white"
             }
            },
            "type": "table"
           }
          ]
         },
         "layout": {
          "annotationdefaults": {
           "arrowcolor": "#2a3f5f",
           "arrowhead": 0,
           "arrowwidth": 1
          },
          "autotypenumbers": "strict",
          "coloraxis": {
           "colorbar": {
            "outlinewidth": 0,
            "ticks": ""
           }
          },
          "colorscale": {
           "diverging": [
            [
             0,
             "#8e0152"
            ],
            [
             0.1,
             "#c51b7d"
            ],
            [
             0.2,
             "#de77ae"
            ],
            [
             0.3,
             "#f1b6da"
            ],
            [
             0.4,
             "#fde0ef"
            ],
            [
             0.5,
             "#f7f7f7"
            ],
            [
             0.6,
             "#e6f5d0"
            ],
            [
             0.7,
             "#b8e186"
            ],
            [
             0.8,
             "#7fbc41"
            ],
            [
             0.9,
             "#4d9221"
            ],
            [
             1,
             "#276419"
            ]
           ],
           "sequential": [
            [
             0,
             "#0d0887"
            ],
            [
             0.1111111111111111,
             "#46039f"
            ],
            [
             0.2222222222222222,
             "#7201a8"
            ],
            [
             0.3333333333333333,
             "#9c179e"
            ],
            [
             0.4444444444444444,
             "#bd3786"
            ],
            [
             0.5555555555555556,
             "#d8576b"
            ],
            [
             0.6666666666666666,
             "#ed7953"
            ],
            [
             0.7777777777777778,
             "#fb9f3a"
            ],
            [
             0.8888888888888888,
             "#fdca26"
            ],
            [
             1,
             "#f0f921"
            ]
           ],
           "sequentialminus": [
            [
             0,
             "#0d0887"
            ],
            [
             0.1111111111111111,
             "#46039f"
            ],
            [
             0.2222222222222222,
             "#7201a8"
            ],
            [
             0.3333333333333333,
             "#9c179e"
            ],
            [
             0.4444444444444444,
             "#bd3786"
            ],
            [
             0.5555555555555556,
             "#d8576b"
            ],
            [
             0.6666666666666666,
             "#ed7953"
            ],
            [
             0.7777777777777778,
             "#fb9f3a"
            ],
            [
             0.8888888888888888,
             "#fdca26"
            ],
            [
             1,
             "#f0f921"
            ]
           ]
          },
          "colorway": [
           "#636efa",
           "#EF553B",
           "#00cc96",
           "#ab63fa",
           "#FFA15A",
           "#19d3f3",
           "#FF6692",
           "#B6E880",
           "#FF97FF",
           "#FECB52"
          ],
          "font": {
           "color": "#2a3f5f"
          },
          "geo": {
           "bgcolor": "white",
           "lakecolor": "white",
           "landcolor": "#E5ECF6",
           "showlakes": true,
           "showland": true,
           "subunitcolor": "white"
          },
          "hoverlabel": {
           "align": "left"
          },
          "hovermode": "closest",
          "mapbox": {
           "style": "light"
          },
          "paper_bgcolor": "white",
          "plot_bgcolor": "#E5ECF6",
          "polar": {
           "angularaxis": {
            "gridcolor": "white",
            "linecolor": "white",
            "ticks": ""
           },
           "bgcolor": "#E5ECF6",
           "radialaxis": {
            "gridcolor": "white",
            "linecolor": "white",
            "ticks": ""
           }
          },
          "scene": {
           "xaxis": {
            "backgroundcolor": "#E5ECF6",
            "gridcolor": "white",
            "gridwidth": 2,
            "linecolor": "white",
            "showbackground": true,
            "ticks": "",
            "zerolinecolor": "white"
           },
           "yaxis": {
            "backgroundcolor": "#E5ECF6",
            "gridcolor": "white",
            "gridwidth": 2,
            "linecolor": "white",
            "showbackground": true,
            "ticks": "",
            "zerolinecolor": "white"
           },
           "zaxis": {
            "backgroundcolor": "#E5ECF6",
            "gridcolor": "white",
            "gridwidth": 2,
            "linecolor": "white",
            "showbackground": true,
            "ticks": "",
            "zerolinecolor": "white"
           }
          },
          "shapedefaults": {
           "line": {
            "color": "#2a3f5f"
           }
          },
          "ternary": {
           "aaxis": {
            "gridcolor": "white",
            "linecolor": "white",
            "ticks": ""
           },
           "baxis": {
            "gridcolor": "white",
            "linecolor": "white",
            "ticks": ""
           },
           "bgcolor": "#E5ECF6",
           "caxis": {
            "gridcolor": "white",
            "linecolor": "white",
            "ticks": ""
           }
          },
          "title": {
           "x": 0.05
          },
          "xaxis": {
           "automargin": true,
           "gridcolor": "white",
           "linecolor": "white",
           "ticks": "",
           "title": {
            "standoff": 15
           },
           "zerolinecolor": "white",
           "zerolinewidth": 2
          },
          "yaxis": {
           "automargin": true,
           "gridcolor": "white",
           "linecolor": "white",
           "ticks": "",
           "title": {
            "standoff": 15
           },
           "zerolinecolor": "white",
           "zerolinewidth": 2
          }
         }
        },
        "title": {
         "text": "O/E distribution by lineage"
        },
        "xaxis": {
         "title": {
          "text": "Lineage"
         }
        },
        "yaxis": {
         "title": {
          "text": "O/E ratio"
         }
        }
       }
      },
      "text/html": [
       "<div>                            <div id=\"fe58f96b-acfb-49ec-b031-97c6ca725c97\" class=\"plotly-graph-div\" style=\"height:525px; width:100%;\"></div>            <script type=\"text/javascript\">                require([\"plotly\"], function(Plotly) {                    window.PLOTLYENV=window.PLOTLYENV || {};                                    if (document.getElementById(\"fe58f96b-acfb-49ec-b031-97c6ca725c97\")) {                    Plotly.newPlot(                        \"fe58f96b-acfb-49ec-b031-97c6ca725c97\",                        [{\"boxpoints\":\"all\",\"line\":{\"color\":\"rgb(7,40,89)\"},\"marker\":{\"color\":\"rgb(7,40,89)\"},\"name\":\"Wuhan-hu-1\",\"showlegend\":false,\"y\":[0.49208517999999996,0.98267715,0.49281895,0.98692177,0.035060934999999994,0.139715925,0.38585709333333335],\"type\":\"box\"},{\"boxpoints\":\"all\",\"line\":{\"color\":\"rgb(7,40,89)\"},\"marker\":{\"color\":\"rgb(7,40,89)\"},\"name\":\"Alpha\",\"showlegend\":false,\"y\":[1.06786544,1.0177798399999998,0.9861048000000001,1.05570064,1.05650432,0.98785769,0.98895272,1.35890976,0.9040152533333334],\"type\":\"box\"},{\"boxpoints\":\"all\",\"line\":{\"color\":\"rgb(7,40,89)\"},\"marker\":{\"color\":\"rgb(7,40,89)\"},\"name\":\"Gamma\",\"showlegend\":false,\"y\":[0.8137083199999999,0.7924683199999998,0.7075156499999999,0.9089970133333334,1.02328064,0.7085072,0.9921838599999999,0.99123966],\"type\":\"box\"},{\"boxpoints\":\"all\",\"line\":{\"color\":\"rgb(7,40,89)\"},\"marker\":{\"color\":\"rgb(7,40,89)\"},\"name\":\"Delta\",\"showlegend\":false,\"y\":[0.5267930133333333,0.47284671,0.3748566,0.6364114666666666,0.98484931,0.98471052],\"type\":\"box\"},{\"boxpoints\":\"all\",\"line\":{\"color\":\"rgb(7,40,89)\"},\"marker\":{\"color\":\"rgb(7,40,89)\"},\"name\":\"Iota\",\"showlegend\":false,\"y\":[0.885632,0.8378131999999999,0.6831119999999999,0.964688,0.80441648,1.0016416,0.68267312,0.9855644800000001,0.98427241],\"type\":\"box\"},{\"boxpoints\":\"all\",\"line\":{\"color\":\"rgb(7,40,89)\"},\"marker\":{\"color\":\"rgb(7,40,89)\"},\"name\":\"BA.1.X\",\"showlegend\":false,\"y\":[0.46179432,0.42645134,0.26374485,0.3980950933333333,0.32660432,0.5078014933333334,0.9805727399999999,0.5876727466666666,0.5278056799999999],\"type\":\"box\"},{\"boxpoints\":\"all\",\"line\":{\"color\":\"rgb(7,40,89)\"},\"marker\":{\"color\":\"rgb(7,40,89)\"},\"name\":\"BA.2.X\",\"showlegend\":false,\"y\":[0.5086044,0.8956404479999998,0.46505088000000006,1.1707873066666665,1.093924704,0.85393132,0.9745583600000001,0.9743116999999999,0.50478092,0.69309384,0.40857364],\"type\":\"box\"},{\"boxpoints\":\"all\",\"line\":{\"color\":\"rgb(7,40,89)\"},\"marker\":{\"color\":\"rgb(7,40,89)\"},\"name\":\"BG.X\",\"showlegend\":false,\"y\":[0.549579375,0.6950036799999999,0.43066848,0.7584854,0.5479272,0.49736792,0.7958698799999999,0.77162588,0.615854,0.9888961999999999,0.98863098,0.98852796,0.98841121],\"type\":\"box\"},{\"boxpoints\":\"all\",\"line\":{\"color\":\"rgb(7,40,89)\"},\"marker\":{\"color\":\"rgb(7,40,89)\"},\"name\":\"BA.4.X\",\"showlegend\":false,\"y\":[2.0440305,1.7783910399999998,1.5657185599999999,1.6876666666666664,1.8771167200000003,1.6880389866666663,1.3705219200000003,1.95579836,0.98584672,0.9859243499999999,0.9860769599999999],\"type\":\"box\"},{\"boxpoints\":\"all\",\"line\":{\"color\":\"rgb(7,40,89)\"},\"marker\":{\"color\":\"rgb(7,40,89)\"},\"name\":\"BA.5.X\",\"showlegend\":false,\"y\":[0.7822014749999999,0.70892936,0.7359421999999999,0.7598553066666667,1.14493968,1.006751616,0.9828524799999999,0.85751468,0.9766654,0.9847971100000001,0.9872592099999999],\"type\":\"box\"}],                        {\"template\":{\"data\":{\"histogram2dcontour\":[{\"type\":\"histogram2dcontour\",\"colorbar\":{\"outlinewidth\":0,\"ticks\":\"\"},\"colorscale\":[[0.0,\"#0d0887\"],[0.1111111111111111,\"#46039f\"],[0.2222222222222222,\"#7201a8\"],[0.3333333333333333,\"#9c179e\"],[0.4444444444444444,\"#bd3786\"],[0.5555555555555556,\"#d8576b\"],[0.6666666666666666,\"#ed7953\"],[0.7777777777777778,\"#fb9f3a\"],[0.8888888888888888,\"#fdca26\"],[1.0,\"#f0f921\"]]}],\"choropleth\":[{\"type\":\"choropleth\",\"colorbar\":{\"outlinewidth\":0,\"ticks\":\"\"}}],\"histogram2d\":[{\"type\":\"histogram2d\",\"colorbar\":{\"outlinewidth\":0,\"ticks\":\"\"},\"colorscale\":[[0.0,\"#0d0887\"],[0.1111111111111111,\"#46039f\"],[0.2222222222222222,\"#7201a8\"],[0.3333333333333333,\"#9c179e\"],[0.4444444444444444,\"#bd3786\"],[0.5555555555555556,\"#d8576b\"],[0.6666666666666666,\"#ed7953\"],[0.7777777777777778,\"#fb9f3a\"],[0.8888888888888888,\"#fdca26\"],[1.0,\"#f0f921\"]]}],\"heatmap\":[{\"type\":\"heatmap\",\"colorbar\":{\"outlinewidth\":0,\"ticks\":\"\"},\"colorscale\":[[0.0,\"#0d0887\"],[0.1111111111111111,\"#46039f\"],[0.2222222222222222,\"#7201a8\"],[0.3333333333333333,\"#9c179e\"],[0.4444444444444444,\"#bd3786\"],[0.5555555555555556,\"#d8576b\"],[0.6666666666666666,\"#ed7953\"],[0.7777777777777778,\"#fb9f3a\"],[0.8888888888888888,\"#fdca26\"],[1.0,\"#f0f921\"]]}],\"heatmapgl\":[{\"type\":\"heatmapgl\",\"colorbar\":{\"outlinewidth\":0,\"ticks\":\"\"},\"colorscale\":[[0.0,\"#0d0887\"],[0.1111111111111111,\"#46039f\"],[0.2222222222222222,\"#7201a8\"],[0.3333333333333333,\"#9c179e\"],[0.4444444444444444,\"#bd3786\"],[0.5555555555555556,\"#d8576b\"],[0.6666666666666666,\"#ed7953\"],[0.7777777777777778,\"#fb9f3a\"],[0.8888888888888888,\"#fdca26\"],[1.0,\"#f0f921\"]]}],\"contourcarpet\":[{\"type\":\"contourcarpet\",\"colorbar\":{\"outlinewidth\":0,\"ticks\":\"\"}}],\"contour\":[{\"type\":\"contour\",\"colorbar\":{\"outlinewidth\":0,\"ticks\":\"\"},\"colorscale\":[[0.0,\"#0d0887\"],[0.1111111111111111,\"#46039f\"],[0.2222222222222222,\"#7201a8\"],[0.3333333333333333,\"#9c179e\"],[0.4444444444444444,\"#bd3786\"],[0.5555555555555556,\"#d8576b\"],[0.6666666666666666,\"#ed7953\"],[0.7777777777777778,\"#fb9f3a\"],[0.8888888888888888,\"#fdca26\"],[1.0,\"#f0f921\"]]}],\"surface\":[{\"type\":\"surface\",\"colorbar\":{\"outlinewidth\":0,\"ticks\":\"\"},\"colorscale\":[[0.0,\"#0d0887\"],[0.1111111111111111,\"#46039f\"],[0.2222222222222222,\"#7201a8\"],[0.3333333333333333,\"#9c179e\"],[0.4444444444444444,\"#bd3786\"],[0.5555555555555556,\"#d8576b\"],[0.6666666666666666,\"#ed7953\"],[0.7777777777777778,\"#fb9f3a\"],[0.8888888888888888,\"#fdca26\"],[1.0,\"#f0f921\"]]}],\"mesh3d\":[{\"type\":\"mesh3d\",\"colorbar\":{\"outlinewidth\":0,\"ticks\":\"\"}}],\"scatter\":[{\"fillpattern\":{\"fillmode\":\"overlay\",\"size\":10,\"solidity\":0.2},\"type\":\"scatter\"}],\"parcoords\":[{\"type\":\"parcoords\",\"line\":{\"colorbar\":{\"outlinewidth\":0,\"ticks\":\"\"}}}],\"scatterpolargl\":[{\"type\":\"scatterpolargl\",\"marker\":{\"colorbar\":{\"outlinewidth\":0,\"ticks\":\"\"}}}],\"bar\":[{\"error_x\":{\"color\":\"#2a3f5f\"},\"error_y\":{\"color\":\"#2a3f5f\"},\"marker\":{\"line\":{\"color\":\"#E5ECF6\",\"width\":0.5},\"pattern\":{\"fillmode\":\"overlay\",\"size\":10,\"solidity\":0.2}},\"type\":\"bar\"}],\"scattergeo\":[{\"type\":\"scattergeo\",\"marker\":{\"colorbar\":{\"outlinewidth\":0,\"ticks\":\"\"}}}],\"scatterpolar\":[{\"type\":\"scatterpolar\",\"marker\":{\"colorbar\":{\"outlinewidth\":0,\"ticks\":\"\"}}}],\"histogram\":[{\"marker\":{\"pattern\":{\"fillmode\":\"overlay\",\"size\":10,\"solidity\":0.2}},\"type\":\"histogram\"}],\"scattergl\":[{\"type\":\"scattergl\",\"marker\":{\"colorbar\":{\"outlinewidth\":0,\"ticks\":\"\"}}}],\"scatter3d\":[{\"type\":\"scatter3d\",\"line\":{\"colorbar\":{\"outlinewidth\":0,\"ticks\":\"\"}},\"marker\":{\"colorbar\":{\"outlinewidth\":0,\"ticks\":\"\"}}}],\"scattermapbox\":[{\"type\":\"scattermapbox\",\"marker\":{\"colorbar\":{\"outlinewidth\":0,\"ticks\":\"\"}}}],\"scatterternary\":[{\"type\":\"scatterternary\",\"marker\":{\"colorbar\":{\"outlinewidth\":0,\"ticks\":\"\"}}}],\"scattercarpet\":[{\"type\":\"scattercarpet\",\"marker\":{\"colorbar\":{\"outlinewidth\":0,\"ticks\":\"\"}}}],\"carpet\":[{\"aaxis\":{\"endlinecolor\":\"#2a3f5f\",\"gridcolor\":\"white\",\"linecolor\":\"white\",\"minorgridcolor\":\"white\",\"startlinecolor\":\"#2a3f5f\"},\"baxis\":{\"endlinecolor\":\"#2a3f5f\",\"gridcolor\":\"white\",\"linecolor\":\"white\",\"minorgridcolor\":\"white\",\"startlinecolor\":\"#2a3f5f\"},\"type\":\"carpet\"}],\"table\":[{\"cells\":{\"fill\":{\"color\":\"#EBF0F8\"},\"line\":{\"color\":\"white\"}},\"header\":{\"fill\":{\"color\":\"#C8D4E3\"},\"line\":{\"color\":\"white\"}},\"type\":\"table\"}],\"barpolar\":[{\"marker\":{\"line\":{\"color\":\"#E5ECF6\",\"width\":0.5},\"pattern\":{\"fillmode\":\"overlay\",\"size\":10,\"solidity\":0.2}},\"type\":\"barpolar\"}],\"pie\":[{\"automargin\":true,\"type\":\"pie\"}]},\"layout\":{\"autotypenumbers\":\"strict\",\"colorway\":[\"#636efa\",\"#EF553B\",\"#00cc96\",\"#ab63fa\",\"#FFA15A\",\"#19d3f3\",\"#FF6692\",\"#B6E880\",\"#FF97FF\",\"#FECB52\"],\"font\":{\"color\":\"#2a3f5f\"},\"hovermode\":\"closest\",\"hoverlabel\":{\"align\":\"left\"},\"paper_bgcolor\":\"white\",\"plot_bgcolor\":\"#E5ECF6\",\"polar\":{\"bgcolor\":\"#E5ECF6\",\"angularaxis\":{\"gridcolor\":\"white\",\"linecolor\":\"white\",\"ticks\":\"\"},\"radialaxis\":{\"gridcolor\":\"white\",\"linecolor\":\"white\",\"ticks\":\"\"}},\"ternary\":{\"bgcolor\":\"#E5ECF6\",\"aaxis\":{\"gridcolor\":\"white\",\"linecolor\":\"white\",\"ticks\":\"\"},\"baxis\":{\"gridcolor\":\"white\",\"linecolor\":\"white\",\"ticks\":\"\"},\"caxis\":{\"gridcolor\":\"white\",\"linecolor\":\"white\",\"ticks\":\"\"}},\"coloraxis\":{\"colorbar\":{\"outlinewidth\":0,\"ticks\":\"\"}},\"colorscale\":{\"sequential\":[[0.0,\"#0d0887\"],[0.1111111111111111,\"#46039f\"],[0.2222222222222222,\"#7201a8\"],[0.3333333333333333,\"#9c179e\"],[0.4444444444444444,\"#bd3786\"],[0.5555555555555556,\"#d8576b\"],[0.6666666666666666,\"#ed7953\"],[0.7777777777777778,\"#fb9f3a\"],[0.8888888888888888,\"#fdca26\"],[1.0,\"#f0f921\"]],\"sequentialminus\":[[0.0,\"#0d0887\"],[0.1111111111111111,\"#46039f\"],[0.2222222222222222,\"#7201a8\"],[0.3333333333333333,\"#9c179e\"],[0.4444444444444444,\"#bd3786\"],[0.5555555555555556,\"#d8576b\"],[0.6666666666666666,\"#ed7953\"],[0.7777777777777778,\"#fb9f3a\"],[0.8888888888888888,\"#fdca26\"],[1.0,\"#f0f921\"]],\"diverging\":[[0,\"#8e0152\"],[0.1,\"#c51b7d\"],[0.2,\"#de77ae\"],[0.3,\"#f1b6da\"],[0.4,\"#fde0ef\"],[0.5,\"#f7f7f7\"],[0.6,\"#e6f5d0\"],[0.7,\"#b8e186\"],[0.8,\"#7fbc41\"],[0.9,\"#4d9221\"],[1,\"#276419\"]]},\"xaxis\":{\"gridcolor\":\"white\",\"linecolor\":\"white\",\"ticks\":\"\",\"title\":{\"standoff\":15},\"zerolinecolor\":\"white\",\"automargin\":true,\"zerolinewidth\":2},\"yaxis\":{\"gridcolor\":\"white\",\"linecolor\":\"white\",\"ticks\":\"\",\"title\":{\"standoff\":15},\"zerolinecolor\":\"white\",\"automargin\":true,\"zerolinewidth\":2},\"scene\":{\"xaxis\":{\"backgroundcolor\":\"#E5ECF6\",\"gridcolor\":\"white\",\"linecolor\":\"white\",\"showbackground\":true,\"ticks\":\"\",\"zerolinecolor\":\"white\",\"gridwidth\":2},\"yaxis\":{\"backgroundcolor\":\"#E5ECF6\",\"gridcolor\":\"white\",\"linecolor\":\"white\",\"showbackground\":true,\"ticks\":\"\",\"zerolinecolor\":\"white\",\"gridwidth\":2},\"zaxis\":{\"backgroundcolor\":\"#E5ECF6\",\"gridcolor\":\"white\",\"linecolor\":\"white\",\"showbackground\":true,\"ticks\":\"\",\"zerolinecolor\":\"white\",\"gridwidth\":2}},\"shapedefaults\":{\"line\":{\"color\":\"#2a3f5f\"}},\"annotationdefaults\":{\"arrowcolor\":\"#2a3f5f\",\"arrowhead\":0,\"arrowwidth\":1},\"geo\":{\"bgcolor\":\"white\",\"landcolor\":\"#E5ECF6\",\"subunitcolor\":\"white\",\"showland\":true,\"showlakes\":true,\"lakecolor\":\"white\"},\"title\":{\"x\":0.05},\"mapbox\":{\"style\":\"light\"}}},\"title\":{\"text\":\"O\\u002fE distribution by lineage\"},\"yaxis\":{\"title\":{\"text\":\"O\\u002fE ratio\"}},\"xaxis\":{\"title\":{\"text\":\"Lineage\"}},\"shapes\":[{\"line\":{\"color\":\"grey\",\"dash\":\"dash\",\"width\":3},\"opacity\":0.5,\"type\":\"line\",\"x0\":0,\"x1\":1,\"xref\":\"x domain\",\"y0\":1,\"y1\":1,\"yref\":\"y\"}]},                        {\"responsive\": true}                    ).then(function(){\n",
       "                            \n",
       "var gd = document.getElementById('fe58f96b-acfb-49ec-b031-97c6ca725c97');\n",
       "var x = new MutationObserver(function (mutations, observer) {{\n",
       "        var display = window.getComputedStyle(gd).display;\n",
       "        if (!display || display === 'none') {{\n",
       "            console.log([gd, 'removed!']);\n",
       "            Plotly.purge(gd);\n",
       "            observer.disconnect();\n",
       "        }}\n",
       "}});\n",
       "\n",
       "// Listen for the removal of the full notebook cells\n",
       "var notebookContainer = gd.closest('#notebook-container');\n",
       "if (notebookContainer) {{\n",
       "    x.observe(notebookContainer, {childList: true});\n",
       "}}\n",
       "\n",
       "// Listen for the clearing of the current output cell\n",
       "var outputEl = gd.closest('.output');\n",
       "if (outputEl) {{\n",
       "    x.observe(outputEl, {childList: true});\n",
       "}}\n",
       "\n",
       "                        })                };                });            </script>        </div>"
      ]
     },
     "metadata": {},
     "output_type": "display_data"
    }
   ],
   "source": [
    "fig = go.Figure()\n",
    "lineages = [\"Wuhan-hu-1\", \"Alpha\", \"Gamma\", \"Delta\", \"Iota\", \"BA.1.X\", \"BA.2.X\", \"BG.X\", \"BA.4.X\", \"BA.5.X\"]\n",
    "df[\"O/E\"] = df[\"percent_of_expected\"] / 100\n",
    "for lineage in lineages:\n",
    "    fig.add_trace(\n",
    "        go.Box(\n",
    "            y=df.loc[df[\"lineages\"]==lineage, \"O/E\"], \n",
    "            name=lineage,\n",
    "            showlegend=False,\n",
    "            marker_color='rgb(7,40,89)',\n",
    "            line_color='rgb(7,40,89)',\n",
    "            boxpoints=\"all\",\n",
    "        ),\n",
    "    )\n",
    "fig.update_layout(title_text=\"O/E distribution by lineage\", yaxis_title=\"O/E ratio\", xaxis_title=\"Lineage\")\n",
    "fig.add_hline(y=1, line_width=3, line_dash=\"dash\", line_color=\"grey\", opacity=0.5)\n",
    "fig"
   ]
  },
  {
   "cell_type": "code",
   "execution_count": 27,
   "metadata": {},
   "outputs": [
    {
     "name": "stdout",
     "output_type": "stream",
     "text": [
      "ANOVA for None samples comparing O/E across batches\n",
      "p-value: 2.5467540136388177e-14\tf-value: 15.135982156137947\n",
      "The O/E was significantly different across Alpha (mean=1.0470767181481484, std. dev.=0.12735924863058914), BA.1.X (mean=0.49783806481481485, std. dev.=0.20693141059387227), BA.2.X (mean=0.7766597744242424, std. dev.=0.27197307579680513), BA.4.X (mean=1.5386482530303027, std. dev.=0.3989253765296749), BA.5.X (mean=0.9025189561515151, std. dev.=0.14057502466569102), BG.X (mean=0.7397575511538462, std. dev.=0.20347987880509336), Delta (mean=0.66341127, std. dev.=0.2628793670682751), Gamma (mean=0.8672375829166665, std. dev.=0.12886517203851586), Iota (mean=0.8699792544444443, std. dev.=0.1266435396962675), and Wuhan-hu-1 (mean=0.5021624290476191, std. dev.=0.3717420863078513), as determined by one-way ANOVA (F=15.135982156137947, p=2.5467540136388177e-14<0.01).\n"
     ]
    },
    {
     "name": "stdout",
     "output_type": "stream",
     "text": [
      "The O/E for Alpha differed significantly from BA.1.X with p-value 0.0.\n",
      "\n",
      "Tukey's HSD results:\n"
     ]
    },
    {
     "data": {
      "application/vnd.plotly.v1+json": {
       "config": {
        "plotlyServerURL": "https://plot.ly"
       },
       "data": [
        {
         "cells": {
          "align": "center",
          "fill": {
           "color": [
            [
             "white",
             "white",
             "white",
             "white",
             "white",
             "white",
             "white",
             "white",
             "white",
             "white"
            ],
            [
             "black",
             "white",
             "lightgrey",
             "white",
             "lightgrey",
             "lightgrey",
             "lightgrey",
             "lightgrey",
             "lightgrey",
             "white"
            ],
            [
             "white",
             "black",
             "lightgrey",
             "white",
             "lightgrey",
             "lightgrey",
             "lightgrey",
             "lightgrey",
             "lightgrey",
             "lightgrey"
            ],
            [
             "lightgrey",
             "lightgrey",
             "black",
             "white",
             "lightgrey",
             "lightgrey",
             "lightgrey",
             "lightgrey",
             "lightgrey",
             "lightgrey"
            ],
            [
             "white",
             "white",
             "white",
             "black",
             "white",
             "white",
             "white",
             "white",
             "white",
             "white"
            ],
            [
             "lightgrey",
             "lightgrey",
             "lightgrey",
             "white",
             "black",
             "lightgrey",
             "lightgrey",
             "lightgrey",
             "lightgrey",
             "lightgrey"
            ],
            [
             "lightgrey",
             "lightgrey",
             "lightgrey",
             "white",
             "lightgrey",
             "black",
             "lightgrey",
             "lightgrey",
             "lightgrey",
             "lightgrey"
            ],
            [
             "lightgrey",
             "lightgrey",
             "lightgrey",
             "white",
             "lightgrey",
             "lightgrey",
             "black",
             "lightgrey",
             "lightgrey",
             "lightgrey"
            ],
            [
             "lightgrey",
             "lightgrey",
             "lightgrey",
             "white",
             "lightgrey",
             "lightgrey",
             "lightgrey",
             "black",
             "lightgrey",
             "lightgrey"
            ],
            [
             "lightgrey",
             "lightgrey",
             "lightgrey",
             "white",
             "lightgrey",
             "lightgrey",
             "lightgrey",
             "lightgrey",
             "black",
             "lightgrey"
            ],
            [
             "white",
             "lightgrey",
             "lightgrey",
             "white",
             "lightgrey",
             "lightgrey",
             "lightgrey",
             "lightgrey",
             "lightgrey",
             "black"
            ]
           ]
          },
          "font": {
           "color": "black",
           "size": 14
          },
          "height": 30,
          "line": {
           "color": "black"
          },
          "values": [
           [
            "Alpha",
            "BA.1.X",
            "BA.2.X",
            "BA.4.X",
            "BA.5.X",
            "BG.X",
            "Delta",
            "Gamma",
            "Iota",
            "Wuhan-hu-1"
           ],
           [
            null,
            0,
            0.291,
            0.001,
            0.944,
            0.114,
            0.094,
            0.876,
            0.866,
            0.001
           ],
           [
            0,
            null,
            0.251,
            0,
            0.012,
            0.396,
            0.951,
            0.067,
            0.048,
            1
           ],
           [
            0.291,
            0.251,
            null,
            0,
            0.967,
            1,
            0.995,
            0.998,
            0.997,
            0.371
           ],
           [
            0.001,
            0,
            0,
            null,
            0,
            0,
            0,
            0,
            0,
            0
           ],
           [
            0.944,
            0.012,
            0.967,
            0,
            null,
            0.823,
            0.637,
            1,
            1,
            0.031
           ],
           [
            0.114,
            0.396,
            1,
            0,
            0.823,
            null,
            1,
            0.975,
            0.963,
            0.536
           ],
           [
            0.094,
            0.951,
            0.995,
            0,
            0.637,
            1,
            null,
            0.863,
            0.835,
            0.971
           ],
           [
            0.876,
            0.067,
            0.998,
            0,
            1,
            0.975,
            0.863,
            null,
            1,
            0.118
           ],
           [
            0.866,
            0.048,
            0.997,
            0,
            1,
            0.963,
            0.835,
            1,
            null,
            0.092
           ],
           [
            0.001,
            1,
            0.371,
            0,
            0.031,
            0.536,
            0.971,
            0.118,
            0.092,
            null
           ]
          ]
         },
         "header": {
          "align": "center",
          "fill": {
           "color": "white"
          },
          "font": {
           "color": "black",
           "size": 14
          },
          "line": {
           "color": "black"
          },
          "values": [
           "",
           "Alpha",
           "BA.1.X",
           "BA.2.X",
           "BA.4.X",
           "BA.5.X",
           "BG.X",
           "Delta",
           "Gamma",
           "Iota",
           "Wuhan-hu-1"
          ]
         },
         "type": "table"
        }
       ],
       "layout": {
        "height": 550,
        "template": {
         "data": {
          "bar": [
           {
            "error_x": {
             "color": "#2a3f5f"
            },
            "error_y": {
             "color": "#2a3f5f"
            },
            "marker": {
             "line": {
              "color": "#E5ECF6",
              "width": 0.5
             },
             "pattern": {
              "fillmode": "overlay",
              "size": 10,
              "solidity": 0.2
             }
            },
            "type": "bar"
           }
          ],
          "barpolar": [
           {
            "marker": {
             "line": {
              "color": "#E5ECF6",
              "width": 0.5
             },
             "pattern": {
              "fillmode": "overlay",
              "size": 10,
              "solidity": 0.2
             }
            },
            "type": "barpolar"
           }
          ],
          "carpet": [
           {
            "aaxis": {
             "endlinecolor": "#2a3f5f",
             "gridcolor": "white",
             "linecolor": "white",
             "minorgridcolor": "white",
             "startlinecolor": "#2a3f5f"
            },
            "baxis": {
             "endlinecolor": "#2a3f5f",
             "gridcolor": "white",
             "linecolor": "white",
             "minorgridcolor": "white",
             "startlinecolor": "#2a3f5f"
            },
            "type": "carpet"
           }
          ],
          "choropleth": [
           {
            "colorbar": {
             "outlinewidth": 0,
             "ticks": ""
            },
            "type": "choropleth"
           }
          ],
          "contour": [
           {
            "colorbar": {
             "outlinewidth": 0,
             "ticks": ""
            },
            "colorscale": [
             [
              0,
              "#0d0887"
             ],
             [
              0.1111111111111111,
              "#46039f"
             ],
             [
              0.2222222222222222,
              "#7201a8"
             ],
             [
              0.3333333333333333,
              "#9c179e"
             ],
             [
              0.4444444444444444,
              "#bd3786"
             ],
             [
              0.5555555555555556,
              "#d8576b"
             ],
             [
              0.6666666666666666,
              "#ed7953"
             ],
             [
              0.7777777777777778,
              "#fb9f3a"
             ],
             [
              0.8888888888888888,
              "#fdca26"
             ],
             [
              1,
              "#f0f921"
             ]
            ],
            "type": "contour"
           }
          ],
          "contourcarpet": [
           {
            "colorbar": {
             "outlinewidth": 0,
             "ticks": ""
            },
            "type": "contourcarpet"
           }
          ],
          "heatmap": [
           {
            "colorbar": {
             "outlinewidth": 0,
             "ticks": ""
            },
            "colorscale": [
             [
              0,
              "#0d0887"
             ],
             [
              0.1111111111111111,
              "#46039f"
             ],
             [
              0.2222222222222222,
              "#7201a8"
             ],
             [
              0.3333333333333333,
              "#9c179e"
             ],
             [
              0.4444444444444444,
              "#bd3786"
             ],
             [
              0.5555555555555556,
              "#d8576b"
             ],
             [
              0.6666666666666666,
              "#ed7953"
             ],
             [
              0.7777777777777778,
              "#fb9f3a"
             ],
             [
              0.8888888888888888,
              "#fdca26"
             ],
             [
              1,
              "#f0f921"
             ]
            ],
            "type": "heatmap"
           }
          ],
          "heatmapgl": [
           {
            "colorbar": {
             "outlinewidth": 0,
             "ticks": ""
            },
            "colorscale": [
             [
              0,
              "#0d0887"
             ],
             [
              0.1111111111111111,
              "#46039f"
             ],
             [
              0.2222222222222222,
              "#7201a8"
             ],
             [
              0.3333333333333333,
              "#9c179e"
             ],
             [
              0.4444444444444444,
              "#bd3786"
             ],
             [
              0.5555555555555556,
              "#d8576b"
             ],
             [
              0.6666666666666666,
              "#ed7953"
             ],
             [
              0.7777777777777778,
              "#fb9f3a"
             ],
             [
              0.8888888888888888,
              "#fdca26"
             ],
             [
              1,
              "#f0f921"
             ]
            ],
            "type": "heatmapgl"
           }
          ],
          "histogram": [
           {
            "marker": {
             "pattern": {
              "fillmode": "overlay",
              "size": 10,
              "solidity": 0.2
             }
            },
            "type": "histogram"
           }
          ],
          "histogram2d": [
           {
            "colorbar": {
             "outlinewidth": 0,
             "ticks": ""
            },
            "colorscale": [
             [
              0,
              "#0d0887"
             ],
             [
              0.1111111111111111,
              "#46039f"
             ],
             [
              0.2222222222222222,
              "#7201a8"
             ],
             [
              0.3333333333333333,
              "#9c179e"
             ],
             [
              0.4444444444444444,
              "#bd3786"
             ],
             [
              0.5555555555555556,
              "#d8576b"
             ],
             [
              0.6666666666666666,
              "#ed7953"
             ],
             [
              0.7777777777777778,
              "#fb9f3a"
             ],
             [
              0.8888888888888888,
              "#fdca26"
             ],
             [
              1,
              "#f0f921"
             ]
            ],
            "type": "histogram2d"
           }
          ],
          "histogram2dcontour": [
           {
            "colorbar": {
             "outlinewidth": 0,
             "ticks": ""
            },
            "colorscale": [
             [
              0,
              "#0d0887"
             ],
             [
              0.1111111111111111,
              "#46039f"
             ],
             [
              0.2222222222222222,
              "#7201a8"
             ],
             [
              0.3333333333333333,
              "#9c179e"
             ],
             [
              0.4444444444444444,
              "#bd3786"
             ],
             [
              0.5555555555555556,
              "#d8576b"
             ],
             [
              0.6666666666666666,
              "#ed7953"
             ],
             [
              0.7777777777777778,
              "#fb9f3a"
             ],
             [
              0.8888888888888888,
              "#fdca26"
             ],
             [
              1,
              "#f0f921"
             ]
            ],
            "type": "histogram2dcontour"
           }
          ],
          "mesh3d": [
           {
            "colorbar": {
             "outlinewidth": 0,
             "ticks": ""
            },
            "type": "mesh3d"
           }
          ],
          "parcoords": [
           {
            "line": {
             "colorbar": {
              "outlinewidth": 0,
              "ticks": ""
             }
            },
            "type": "parcoords"
           }
          ],
          "pie": [
           {
            "automargin": true,
            "type": "pie"
           }
          ],
          "scatter": [
           {
            "fillpattern": {
             "fillmode": "overlay",
             "size": 10,
             "solidity": 0.2
            },
            "type": "scatter"
           }
          ],
          "scatter3d": [
           {
            "line": {
             "colorbar": {
              "outlinewidth": 0,
              "ticks": ""
             }
            },
            "marker": {
             "colorbar": {
              "outlinewidth": 0,
              "ticks": ""
             }
            },
            "type": "scatter3d"
           }
          ],
          "scattercarpet": [
           {
            "marker": {
             "colorbar": {
              "outlinewidth": 0,
              "ticks": ""
             }
            },
            "type": "scattercarpet"
           }
          ],
          "scattergeo": [
           {
            "marker": {
             "colorbar": {
              "outlinewidth": 0,
              "ticks": ""
             }
            },
            "type": "scattergeo"
           }
          ],
          "scattergl": [
           {
            "marker": {
             "colorbar": {
              "outlinewidth": 0,
              "ticks": ""
             }
            },
            "type": "scattergl"
           }
          ],
          "scattermapbox": [
           {
            "marker": {
             "colorbar": {
              "outlinewidth": 0,
              "ticks": ""
             }
            },
            "type": "scattermapbox"
           }
          ],
          "scatterpolar": [
           {
            "marker": {
             "colorbar": {
              "outlinewidth": 0,
              "ticks": ""
             }
            },
            "type": "scatterpolar"
           }
          ],
          "scatterpolargl": [
           {
            "marker": {
             "colorbar": {
              "outlinewidth": 0,
              "ticks": ""
             }
            },
            "type": "scatterpolargl"
           }
          ],
          "scatterternary": [
           {
            "marker": {
             "colorbar": {
              "outlinewidth": 0,
              "ticks": ""
             }
            },
            "type": "scatterternary"
           }
          ],
          "surface": [
           {
            "colorbar": {
             "outlinewidth": 0,
             "ticks": ""
            },
            "colorscale": [
             [
              0,
              "#0d0887"
             ],
             [
              0.1111111111111111,
              "#46039f"
             ],
             [
              0.2222222222222222,
              "#7201a8"
             ],
             [
              0.3333333333333333,
              "#9c179e"
             ],
             [
              0.4444444444444444,
              "#bd3786"
             ],
             [
              0.5555555555555556,
              "#d8576b"
             ],
             [
              0.6666666666666666,
              "#ed7953"
             ],
             [
              0.7777777777777778,
              "#fb9f3a"
             ],
             [
              0.8888888888888888,
              "#fdca26"
             ],
             [
              1,
              "#f0f921"
             ]
            ],
            "type": "surface"
           }
          ],
          "table": [
           {
            "cells": {
             "fill": {
              "color": "#EBF0F8"
             },
             "line": {
              "color": "white"
             }
            },
            "header": {
             "fill": {
              "color": "#C8D4E3"
             },
             "line": {
              "color": "white"
             }
            },
            "type": "table"
           }
          ]
         },
         "layout": {
          "annotationdefaults": {
           "arrowcolor": "#2a3f5f",
           "arrowhead": 0,
           "arrowwidth": 1
          },
          "autotypenumbers": "strict",
          "coloraxis": {
           "colorbar": {
            "outlinewidth": 0,
            "ticks": ""
           }
          },
          "colorscale": {
           "diverging": [
            [
             0,
             "#8e0152"
            ],
            [
             0.1,
             "#c51b7d"
            ],
            [
             0.2,
             "#de77ae"
            ],
            [
             0.3,
             "#f1b6da"
            ],
            [
             0.4,
             "#fde0ef"
            ],
            [
             0.5,
             "#f7f7f7"
            ],
            [
             0.6,
             "#e6f5d0"
            ],
            [
             0.7,
             "#b8e186"
            ],
            [
             0.8,
             "#7fbc41"
            ],
            [
             0.9,
             "#4d9221"
            ],
            [
             1,
             "#276419"
            ]
           ],
           "sequential": [
            [
             0,
             "#0d0887"
            ],
            [
             0.1111111111111111,
             "#46039f"
            ],
            [
             0.2222222222222222,
             "#7201a8"
            ],
            [
             0.3333333333333333,
             "#9c179e"
            ],
            [
             0.4444444444444444,
             "#bd3786"
            ],
            [
             0.5555555555555556,
             "#d8576b"
            ],
            [
             0.6666666666666666,
             "#ed7953"
            ],
            [
             0.7777777777777778,
             "#fb9f3a"
            ],
            [
             0.8888888888888888,
             "#fdca26"
            ],
            [
             1,
             "#f0f921"
            ]
           ],
           "sequentialminus": [
            [
             0,
             "#0d0887"
            ],
            [
             0.1111111111111111,
             "#46039f"
            ],
            [
             0.2222222222222222,
             "#7201a8"
            ],
            [
             0.3333333333333333,
             "#9c179e"
            ],
            [
             0.4444444444444444,
             "#bd3786"
            ],
            [
             0.5555555555555556,
             "#d8576b"
            ],
            [
             0.6666666666666666,
             "#ed7953"
            ],
            [
             0.7777777777777778,
             "#fb9f3a"
            ],
            [
             0.8888888888888888,
             "#fdca26"
            ],
            [
             1,
             "#f0f921"
            ]
           ]
          },
          "colorway": [
           "#636efa",
           "#EF553B",
           "#00cc96",
           "#ab63fa",
           "#FFA15A",
           "#19d3f3",
           "#FF6692",
           "#B6E880",
           "#FF97FF",
           "#FECB52"
          ],
          "font": {
           "color": "#2a3f5f"
          },
          "geo": {
           "bgcolor": "white",
           "lakecolor": "white",
           "landcolor": "#E5ECF6",
           "showlakes": true,
           "showland": true,
           "subunitcolor": "white"
          },
          "hoverlabel": {
           "align": "left"
          },
          "hovermode": "closest",
          "mapbox": {
           "style": "light"
          },
          "paper_bgcolor": "white",
          "plot_bgcolor": "#E5ECF6",
          "polar": {
           "angularaxis": {
            "gridcolor": "white",
            "linecolor": "white",
            "ticks": ""
           },
           "bgcolor": "#E5ECF6",
           "radialaxis": {
            "gridcolor": "white",
            "linecolor": "white",
            "ticks": ""
           }
          },
          "scene": {
           "xaxis": {
            "backgroundcolor": "#E5ECF6",
            "gridcolor": "white",
            "gridwidth": 2,
            "linecolor": "white",
            "showbackground": true,
            "ticks": "",
            "zerolinecolor": "white"
           },
           "yaxis": {
            "backgroundcolor": "#E5ECF6",
            "gridcolor": "white",
            "gridwidth": 2,
            "linecolor": "white",
            "showbackground": true,
            "ticks": "",
            "zerolinecolor": "white"
           },
           "zaxis": {
            "backgroundcolor": "#E5ECF6",
            "gridcolor": "white",
            "gridwidth": 2,
            "linecolor": "white",
            "showbackground": true,
            "ticks": "",
            "zerolinecolor": "white"
           }
          },
          "shapedefaults": {
           "line": {
            "color": "#2a3f5f"
           }
          },
          "ternary": {
           "aaxis": {
            "gridcolor": "white",
            "linecolor": "white",
            "ticks": ""
           },
           "baxis": {
            "gridcolor": "white",
            "linecolor": "white",
            "ticks": ""
           },
           "bgcolor": "#E5ECF6",
           "caxis": {
            "gridcolor": "white",
            "linecolor": "white",
            "ticks": ""
           }
          },
          "title": {
           "x": 0.05
          },
          "xaxis": {
           "automargin": true,
           "gridcolor": "white",
           "linecolor": "white",
           "ticks": "",
           "title": {
            "standoff": 15
           },
           "zerolinecolor": "white",
           "zerolinewidth": 2
          },
          "yaxis": {
           "automargin": true,
           "gridcolor": "white",
           "linecolor": "white",
           "ticks": "",
           "title": {
            "standoff": 15
           },
           "zerolinecolor": "white",
           "zerolinewidth": 2
          }
         }
        },
        "width": 1200
       }
      },
      "text/html": [
       "<div>                            <div id=\"97178b3a-416e-4c16-9c11-3451578ad75d\" class=\"plotly-graph-div\" style=\"height:550px; width:1200px;\"></div>            <script type=\"text/javascript\">                require([\"plotly\"], function(Plotly) {                    window.PLOTLYENV=window.PLOTLYENV || {};                                    if (document.getElementById(\"97178b3a-416e-4c16-9c11-3451578ad75d\")) {                    Plotly.newPlot(                        \"97178b3a-416e-4c16-9c11-3451578ad75d\",                        [{\"cells\":{\"align\":\"center\",\"fill\":{\"color\":[[\"white\",\"white\",\"white\",\"white\",\"white\",\"white\",\"white\",\"white\",\"white\",\"white\"],[\"black\",\"white\",\"lightgrey\",\"white\",\"lightgrey\",\"lightgrey\",\"lightgrey\",\"lightgrey\",\"lightgrey\",\"white\"],[\"white\",\"black\",\"lightgrey\",\"white\",\"lightgrey\",\"lightgrey\",\"lightgrey\",\"lightgrey\",\"lightgrey\",\"lightgrey\"],[\"lightgrey\",\"lightgrey\",\"black\",\"white\",\"lightgrey\",\"lightgrey\",\"lightgrey\",\"lightgrey\",\"lightgrey\",\"lightgrey\"],[\"white\",\"white\",\"white\",\"black\",\"white\",\"white\",\"white\",\"white\",\"white\",\"white\"],[\"lightgrey\",\"lightgrey\",\"lightgrey\",\"white\",\"black\",\"lightgrey\",\"lightgrey\",\"lightgrey\",\"lightgrey\",\"lightgrey\"],[\"lightgrey\",\"lightgrey\",\"lightgrey\",\"white\",\"lightgrey\",\"black\",\"lightgrey\",\"lightgrey\",\"lightgrey\",\"lightgrey\"],[\"lightgrey\",\"lightgrey\",\"lightgrey\",\"white\",\"lightgrey\",\"lightgrey\",\"black\",\"lightgrey\",\"lightgrey\",\"lightgrey\"],[\"lightgrey\",\"lightgrey\",\"lightgrey\",\"white\",\"lightgrey\",\"lightgrey\",\"lightgrey\",\"black\",\"lightgrey\",\"lightgrey\"],[\"lightgrey\",\"lightgrey\",\"lightgrey\",\"white\",\"lightgrey\",\"lightgrey\",\"lightgrey\",\"lightgrey\",\"black\",\"lightgrey\"],[\"white\",\"lightgrey\",\"lightgrey\",\"white\",\"lightgrey\",\"lightgrey\",\"lightgrey\",\"lightgrey\",\"lightgrey\",\"black\"]]},\"font\":{\"color\":\"black\",\"size\":14},\"height\":30,\"line\":{\"color\":\"black\"},\"values\":[[\"Alpha\",\"BA.1.X\",\"BA.2.X\",\"BA.4.X\",\"BA.5.X\",\"BG.X\",\"Delta\",\"Gamma\",\"Iota\",\"Wuhan-hu-1\"],[null,0.0,0.291,0.001,0.944,0.114,0.094,0.876,0.866,0.001],[0.0,null,0.251,0.0,0.012,0.396,0.951,0.067,0.048,1.0],[0.291,0.251,null,0.0,0.967,1.0,0.995,0.998,0.997,0.371],[0.001,0.0,0.0,null,0.0,0.0,0.0,0.0,0.0,0.0],[0.944,0.012,0.967,0.0,null,0.823,0.637,1.0,1.0,0.031],[0.114,0.396,1.0,0.0,0.823,null,1.0,0.975,0.963,0.536],[0.094,0.951,0.995,0.0,0.637,1.0,null,0.863,0.835,0.971],[0.876,0.067,0.998,0.0,1.0,0.975,0.863,null,1.0,0.118],[0.866,0.048,0.997,0.0,1.0,0.963,0.835,1.0,null,0.092],[0.001,1.0,0.371,0.0,0.031,0.536,0.971,0.118,0.092,null]]},\"header\":{\"align\":\"center\",\"fill\":{\"color\":\"white\"},\"font\":{\"color\":\"black\",\"size\":14},\"line\":{\"color\":\"black\"},\"values\":[\"\",\"Alpha\",\"BA.1.X\",\"BA.2.X\",\"BA.4.X\",\"BA.5.X\",\"BG.X\",\"Delta\",\"Gamma\",\"Iota\",\"Wuhan-hu-1\"]},\"type\":\"table\"}],                        {\"template\":{\"data\":{\"histogram2dcontour\":[{\"type\":\"histogram2dcontour\",\"colorbar\":{\"outlinewidth\":0,\"ticks\":\"\"},\"colorscale\":[[0.0,\"#0d0887\"],[0.1111111111111111,\"#46039f\"],[0.2222222222222222,\"#7201a8\"],[0.3333333333333333,\"#9c179e\"],[0.4444444444444444,\"#bd3786\"],[0.5555555555555556,\"#d8576b\"],[0.6666666666666666,\"#ed7953\"],[0.7777777777777778,\"#fb9f3a\"],[0.8888888888888888,\"#fdca26\"],[1.0,\"#f0f921\"]]}],\"choropleth\":[{\"type\":\"choropleth\",\"colorbar\":{\"outlinewidth\":0,\"ticks\":\"\"}}],\"histogram2d\":[{\"type\":\"histogram2d\",\"colorbar\":{\"outlinewidth\":0,\"ticks\":\"\"},\"colorscale\":[[0.0,\"#0d0887\"],[0.1111111111111111,\"#46039f\"],[0.2222222222222222,\"#7201a8\"],[0.3333333333333333,\"#9c179e\"],[0.4444444444444444,\"#bd3786\"],[0.5555555555555556,\"#d8576b\"],[0.6666666666666666,\"#ed7953\"],[0.7777777777777778,\"#fb9f3a\"],[0.8888888888888888,\"#fdca26\"],[1.0,\"#f0f921\"]]}],\"heatmap\":[{\"type\":\"heatmap\",\"colorbar\":{\"outlinewidth\":0,\"ticks\":\"\"},\"colorscale\":[[0.0,\"#0d0887\"],[0.1111111111111111,\"#46039f\"],[0.2222222222222222,\"#7201a8\"],[0.3333333333333333,\"#9c179e\"],[0.4444444444444444,\"#bd3786\"],[0.5555555555555556,\"#d8576b\"],[0.6666666666666666,\"#ed7953\"],[0.7777777777777778,\"#fb9f3a\"],[0.8888888888888888,\"#fdca26\"],[1.0,\"#f0f921\"]]}],\"heatmapgl\":[{\"type\":\"heatmapgl\",\"colorbar\":{\"outlinewidth\":0,\"ticks\":\"\"},\"colorscale\":[[0.0,\"#0d0887\"],[0.1111111111111111,\"#46039f\"],[0.2222222222222222,\"#7201a8\"],[0.3333333333333333,\"#9c179e\"],[0.4444444444444444,\"#bd3786\"],[0.5555555555555556,\"#d8576b\"],[0.6666666666666666,\"#ed7953\"],[0.7777777777777778,\"#fb9f3a\"],[0.8888888888888888,\"#fdca26\"],[1.0,\"#f0f921\"]]}],\"contourcarpet\":[{\"type\":\"contourcarpet\",\"colorbar\":{\"outlinewidth\":0,\"ticks\":\"\"}}],\"contour\":[{\"type\":\"contour\",\"colorbar\":{\"outlinewidth\":0,\"ticks\":\"\"},\"colorscale\":[[0.0,\"#0d0887\"],[0.1111111111111111,\"#46039f\"],[0.2222222222222222,\"#7201a8\"],[0.3333333333333333,\"#9c179e\"],[0.4444444444444444,\"#bd3786\"],[0.5555555555555556,\"#d8576b\"],[0.6666666666666666,\"#ed7953\"],[0.7777777777777778,\"#fb9f3a\"],[0.8888888888888888,\"#fdca26\"],[1.0,\"#f0f921\"]]}],\"surface\":[{\"type\":\"surface\",\"colorbar\":{\"outlinewidth\":0,\"ticks\":\"\"},\"colorscale\":[[0.0,\"#0d0887\"],[0.1111111111111111,\"#46039f\"],[0.2222222222222222,\"#7201a8\"],[0.3333333333333333,\"#9c179e\"],[0.4444444444444444,\"#bd3786\"],[0.5555555555555556,\"#d8576b\"],[0.6666666666666666,\"#ed7953\"],[0.7777777777777778,\"#fb9f3a\"],[0.8888888888888888,\"#fdca26\"],[1.0,\"#f0f921\"]]}],\"mesh3d\":[{\"type\":\"mesh3d\",\"colorbar\":{\"outlinewidth\":0,\"ticks\":\"\"}}],\"scatter\":[{\"fillpattern\":{\"fillmode\":\"overlay\",\"size\":10,\"solidity\":0.2},\"type\":\"scatter\"}],\"parcoords\":[{\"type\":\"parcoords\",\"line\":{\"colorbar\":{\"outlinewidth\":0,\"ticks\":\"\"}}}],\"scatterpolargl\":[{\"type\":\"scatterpolargl\",\"marker\":{\"colorbar\":{\"outlinewidth\":0,\"ticks\":\"\"}}}],\"bar\":[{\"error_x\":{\"color\":\"#2a3f5f\"},\"error_y\":{\"color\":\"#2a3f5f\"},\"marker\":{\"line\":{\"color\":\"#E5ECF6\",\"width\":0.5},\"pattern\":{\"fillmode\":\"overlay\",\"size\":10,\"solidity\":0.2}},\"type\":\"bar\"}],\"scattergeo\":[{\"type\":\"scattergeo\",\"marker\":{\"colorbar\":{\"outlinewidth\":0,\"ticks\":\"\"}}}],\"scatterpolar\":[{\"type\":\"scatterpolar\",\"marker\":{\"colorbar\":{\"outlinewidth\":0,\"ticks\":\"\"}}}],\"histogram\":[{\"marker\":{\"pattern\":{\"fillmode\":\"overlay\",\"size\":10,\"solidity\":0.2}},\"type\":\"histogram\"}],\"scattergl\":[{\"type\":\"scattergl\",\"marker\":{\"colorbar\":{\"outlinewidth\":0,\"ticks\":\"\"}}}],\"scatter3d\":[{\"type\":\"scatter3d\",\"line\":{\"colorbar\":{\"outlinewidth\":0,\"ticks\":\"\"}},\"marker\":{\"colorbar\":{\"outlinewidth\":0,\"ticks\":\"\"}}}],\"scattermapbox\":[{\"type\":\"scattermapbox\",\"marker\":{\"colorbar\":{\"outlinewidth\":0,\"ticks\":\"\"}}}],\"scatterternary\":[{\"type\":\"scatterternary\",\"marker\":{\"colorbar\":{\"outlinewidth\":0,\"ticks\":\"\"}}}],\"scattercarpet\":[{\"type\":\"scattercarpet\",\"marker\":{\"colorbar\":{\"outlinewidth\":0,\"ticks\":\"\"}}}],\"carpet\":[{\"aaxis\":{\"endlinecolor\":\"#2a3f5f\",\"gridcolor\":\"white\",\"linecolor\":\"white\",\"minorgridcolor\":\"white\",\"startlinecolor\":\"#2a3f5f\"},\"baxis\":{\"endlinecolor\":\"#2a3f5f\",\"gridcolor\":\"white\",\"linecolor\":\"white\",\"minorgridcolor\":\"white\",\"startlinecolor\":\"#2a3f5f\"},\"type\":\"carpet\"}],\"table\":[{\"cells\":{\"fill\":{\"color\":\"#EBF0F8\"},\"line\":{\"color\":\"white\"}},\"header\":{\"fill\":{\"color\":\"#C8D4E3\"},\"line\":{\"color\":\"white\"}},\"type\":\"table\"}],\"barpolar\":[{\"marker\":{\"line\":{\"color\":\"#E5ECF6\",\"width\":0.5},\"pattern\":{\"fillmode\":\"overlay\",\"size\":10,\"solidity\":0.2}},\"type\":\"barpolar\"}],\"pie\":[{\"automargin\":true,\"type\":\"pie\"}]},\"layout\":{\"autotypenumbers\":\"strict\",\"colorway\":[\"#636efa\",\"#EF553B\",\"#00cc96\",\"#ab63fa\",\"#FFA15A\",\"#19d3f3\",\"#FF6692\",\"#B6E880\",\"#FF97FF\",\"#FECB52\"],\"font\":{\"color\":\"#2a3f5f\"},\"hovermode\":\"closest\",\"hoverlabel\":{\"align\":\"left\"},\"paper_bgcolor\":\"white\",\"plot_bgcolor\":\"#E5ECF6\",\"polar\":{\"bgcolor\":\"#E5ECF6\",\"angularaxis\":{\"gridcolor\":\"white\",\"linecolor\":\"white\",\"ticks\":\"\"},\"radialaxis\":{\"gridcolor\":\"white\",\"linecolor\":\"white\",\"ticks\":\"\"}},\"ternary\":{\"bgcolor\":\"#E5ECF6\",\"aaxis\":{\"gridcolor\":\"white\",\"linecolor\":\"white\",\"ticks\":\"\"},\"baxis\":{\"gridcolor\":\"white\",\"linecolor\":\"white\",\"ticks\":\"\"},\"caxis\":{\"gridcolor\":\"white\",\"linecolor\":\"white\",\"ticks\":\"\"}},\"coloraxis\":{\"colorbar\":{\"outlinewidth\":0,\"ticks\":\"\"}},\"colorscale\":{\"sequential\":[[0.0,\"#0d0887\"],[0.1111111111111111,\"#46039f\"],[0.2222222222222222,\"#7201a8\"],[0.3333333333333333,\"#9c179e\"],[0.4444444444444444,\"#bd3786\"],[0.5555555555555556,\"#d8576b\"],[0.6666666666666666,\"#ed7953\"],[0.7777777777777778,\"#fb9f3a\"],[0.8888888888888888,\"#fdca26\"],[1.0,\"#f0f921\"]],\"sequentialminus\":[[0.0,\"#0d0887\"],[0.1111111111111111,\"#46039f\"],[0.2222222222222222,\"#7201a8\"],[0.3333333333333333,\"#9c179e\"],[0.4444444444444444,\"#bd3786\"],[0.5555555555555556,\"#d8576b\"],[0.6666666666666666,\"#ed7953\"],[0.7777777777777778,\"#fb9f3a\"],[0.8888888888888888,\"#fdca26\"],[1.0,\"#f0f921\"]],\"diverging\":[[0,\"#8e0152\"],[0.1,\"#c51b7d\"],[0.2,\"#de77ae\"],[0.3,\"#f1b6da\"],[0.4,\"#fde0ef\"],[0.5,\"#f7f7f7\"],[0.6,\"#e6f5d0\"],[0.7,\"#b8e186\"],[0.8,\"#7fbc41\"],[0.9,\"#4d9221\"],[1,\"#276419\"]]},\"xaxis\":{\"gridcolor\":\"white\",\"linecolor\":\"white\",\"ticks\":\"\",\"title\":{\"standoff\":15},\"zerolinecolor\":\"white\",\"automargin\":true,\"zerolinewidth\":2},\"yaxis\":{\"gridcolor\":\"white\",\"linecolor\":\"white\",\"ticks\":\"\",\"title\":{\"standoff\":15},\"zerolinecolor\":\"white\",\"automargin\":true,\"zerolinewidth\":2},\"scene\":{\"xaxis\":{\"backgroundcolor\":\"#E5ECF6\",\"gridcolor\":\"white\",\"linecolor\":\"white\",\"showbackground\":true,\"ticks\":\"\",\"zerolinecolor\":\"white\",\"gridwidth\":2},\"yaxis\":{\"backgroundcolor\":\"#E5ECF6\",\"gridcolor\":\"white\",\"linecolor\":\"white\",\"showbackground\":true,\"ticks\":\"\",\"zerolinecolor\":\"white\",\"gridwidth\":2},\"zaxis\":{\"backgroundcolor\":\"#E5ECF6\",\"gridcolor\":\"white\",\"linecolor\":\"white\",\"showbackground\":true,\"ticks\":\"\",\"zerolinecolor\":\"white\",\"gridwidth\":2}},\"shapedefaults\":{\"line\":{\"color\":\"#2a3f5f\"}},\"annotationdefaults\":{\"arrowcolor\":\"#2a3f5f\",\"arrowhead\":0,\"arrowwidth\":1},\"geo\":{\"bgcolor\":\"white\",\"landcolor\":\"#E5ECF6\",\"subunitcolor\":\"white\",\"showland\":true,\"showlakes\":true,\"lakecolor\":\"white\"},\"title\":{\"x\":0.05},\"mapbox\":{\"style\":\"light\"}}},\"width\":1200,\"height\":550},                        {\"responsive\": true}                    ).then(function(){\n",
       "                            \n",
       "var gd = document.getElementById('97178b3a-416e-4c16-9c11-3451578ad75d');\n",
       "var x = new MutationObserver(function (mutations, observer) {{\n",
       "        var display = window.getComputedStyle(gd).display;\n",
       "        if (!display || display === 'none') {{\n",
       "            console.log([gd, 'removed!']);\n",
       "            Plotly.purge(gd);\n",
       "            observer.disconnect();\n",
       "        }}\n",
       "}});\n",
       "\n",
       "// Listen for the removal of the full notebook cells\n",
       "var notebookContainer = gd.closest('#notebook-container');\n",
       "if (notebookContainer) {{\n",
       "    x.observe(notebookContainer, {childList: true});\n",
       "}}\n",
       "\n",
       "// Listen for the clearing of the current output cell\n",
       "var outputEl = gd.closest('.output');\n",
       "if (outputEl) {{\n",
       "    x.observe(outputEl, {childList: true});\n",
       "}}\n",
       "\n",
       "                        })                };                });            </script>        </div>"
      ]
     },
     "metadata": {},
     "output_type": "display_data"
    }
   ],
   "source": [
    "# anova for the above content\n",
    "from sample_info import get_stats\n",
    "p_table = p_value_table(get_stats(df,batch_col=\"lineages\",value_col=\"O/E\",p_min=0.01))\n",
    "p_table"
   ]
  },
  {
   "cell_type": "code",
   "execution_count": 28,
   "metadata": {},
   "outputs": [
    {
     "data": {
      "application/vnd.plotly.v1+json": {
       "config": {
        "plotlyServerURL": "https://plot.ly"
       },
       "data": [
        {
         "alignmentgroup": "True",
         "hovertemplate": "<b>%{hovertext}</b><br><br>lineages=%{x}<br>percent_of_expected=%{y}<extra></extra>",
         "hovertext": [
          "0adgio1",
          "0adgio1-2",
          "0adgio1o2o3o4o5",
          "0agio1o2",
          "0aio1o2o3o4o5",
          "a",
          "a-2",
          "adgio1o2o3",
          "agio3o4o5",
          "0adgio1",
          "0adgio1-2",
          "0adgio1o2o3o4o5",
          "0agio1o2",
          "0aio1o2o3o4o5",
          "adgio1o2o3",
          "o1-2",
          "o1o2",
          "o1o2o3o4o5",
          "0adgio1o2o3o4o5",
          "0agio1o2",
          "0aio1o2o3o4o5",
          "adgio1o2o3",
          "o1o2",
          "o1o2o3o4o5",
          "o2-2",
          "o2-3",
          "o2o3o4o5",
          "o2o3o4o5-2",
          "o2o3o4o5-3",
          "0adgio1o2o3o4o5",
          "0aio1o2o3o4o5",
          "0o5o3o4",
          "agio3o4o5",
          "o1o2o3o4o5",
          "o2o3o4o5",
          "o2o3o4o5-2",
          "o2o3o4o5-3",
          "o4",
          "o4-2",
          "o4-3",
          "0adgio1o2o3o4o5",
          "0aio1o2o3o4o5",
          "0o5o3o4",
          "agio3o4o5",
          "o1o2o3o4o5",
          "o2o3o4o5",
          "o2o3o4o5-2",
          "o2o3o4o5-3",
          "o5",
          "o5-2",
          "o5-3",
          "0adgio1o2o3o4o5",
          "0aio1o2o3o4o5",
          "0o5o3o4",
          "adgio1o2o3",
          "agio3o4o5",
          "o1o2o3o4o5",
          "o2o3o4o5",
          "o2o3o4o5-2",
          "o2o3o4o5-3",
          "o3",
          "o3-2",
          "o3-3",
          "o3-4",
          "0adgio1",
          "0adgio1-2",
          "0adgio1o2o3o4o5",
          "adgio1o2o3",
          "d",
          "d-2",
          "0adgio1",
          "0adgio1-2",
          "0adgio1o2o3o4o5",
          "0agio1o2",
          "adgio1o2o3",
          "agio3o4o5",
          "g",
          "g-2",
          "0adgio1",
          "0adgio1-2",
          "0adgio1o2o3o4o5",
          "0agio1o2",
          "0aio1o2o3o4o5",
          "adgio1o2o3",
          "agio3o4o5",
          "i",
          "i-2",
          "0",
          "0-2",
          "0-3",
          "0-4",
          "0adgio1-2",
          "0adgio1o2o3o4o5",
          "0o5o3o4"
         ],
         "legendgroup": "",
         "marker": {
          "color": "#636efa"
         },
         "name": "",
         "notched": false,
         "offsetgroup": "",
         "orientation": "v",
         "showlegend": false,
         "type": "box",
         "x": [
          "Alpha",
          "Alpha",
          "Alpha",
          "Alpha",
          "Alpha",
          "Alpha",
          "Alpha",
          "Alpha",
          "Alpha",
          "BA.1.X",
          "BA.1.X",
          "BA.1.X",
          "BA.1.X",
          "BA.1.X",
          "BA.1.X",
          "BA.1.X",
          "BA.1.X",
          "BA.1.X",
          "BA.2.X",
          "BA.2.X",
          "BA.2.X",
          "BA.2.X",
          "BA.2.X",
          "BA.2.X",
          "BA.2.X",
          "BA.2.X",
          "BA.2.X",
          "BA.2.X",
          "BA.2.X",
          "BA.4.X",
          "BA.4.X",
          "BA.4.X",
          "BA.4.X",
          "BA.4.X",
          "BA.4.X",
          "BA.4.X",
          "BA.4.X",
          "BA.4.X",
          "BA.4.X",
          "BA.4.X",
          "BA.5.X",
          "BA.5.X",
          "BA.5.X",
          "BA.5.X",
          "BA.5.X",
          "BA.5.X",
          "BA.5.X",
          "BA.5.X",
          "BA.5.X",
          "BA.5.X",
          "BA.5.X",
          "BG.X",
          "BG.X",
          "BG.X",
          "BG.X",
          "BG.X",
          "BG.X",
          "BG.X",
          "BG.X",
          "BG.X",
          "BG.X",
          "BG.X",
          "BG.X",
          "BG.X",
          "Delta",
          "Delta",
          "Delta",
          "Delta",
          "Delta",
          "Delta",
          "Gamma",
          "Gamma",
          "Gamma",
          "Gamma",
          "Gamma",
          "Gamma",
          "Gamma",
          "Gamma",
          "Iota",
          "Iota",
          "Iota",
          "Iota",
          "Iota",
          "Iota",
          "Iota",
          "Iota",
          "Iota",
          "Wuhan-hu-1",
          "Wuhan-hu-1",
          "Wuhan-hu-1",
          "Wuhan-hu-1",
          "Wuhan-hu-1",
          "Wuhan-hu-1",
          "Wuhan-hu-1"
         ],
         "x0": " ",
         "xaxis": "x",
         "y": [
          106.786544,
          101.77798399999998,
          98.61048000000001,
          105.570064,
          105.650432,
          98.785769,
          98.895272,
          135.890976,
          90.40152533333334,
          46.179432,
          42.645134,
          26.374484999999996,
          39.80950933333333,
          32.660432,
          50.780149333333334,
          98.05727399999999,
          58.76727466666666,
          52.780567999999995,
          50.86044,
          89.56404479999998,
          46.50508800000001,
          117.07873066666666,
          109.3924704,
          85.39313200000001,
          97.455836,
          97.43117,
          50.478092,
          69.309384,
          40.857364000000004,
          204.40304999999998,
          177.839104,
          156.571856,
          168.76666666666665,
          187.71167200000002,
          168.80389866666664,
          137.05219200000002,
          195.579836,
          98.584672,
          98.592435,
          98.60769599999999,
          78.2201475,
          70.89293599999999,
          73.59421999999999,
          75.98553066666666,
          114.493968,
          100.67516160000001,
          98.285248,
          85.751468,
          97.66654,
          98.47971100000001,
          98.725921,
          54.9579375,
          69.500368,
          43.066848,
          75.84854,
          54.792719999999996,
          49.736792,
          79.58698799999999,
          77.162588,
          61.5854,
          98.88962,
          98.86309800000001,
          98.852796,
          98.841121,
          52.67930133333333,
          47.284671,
          37.485659999999996,
          63.64114666666666,
          98.484931,
          98.471052,
          81.370832,
          79.24683199999998,
          70.751565,
          90.89970133333334,
          102.32806400000001,
          70.85072,
          99.218386,
          99.123966,
          88.5632,
          83.78132,
          68.3112,
          96.4688,
          80.441648,
          100.16416,
          68.267312,
          98.556448,
          98.427241,
          49.208518,
          98.267715,
          49.281895,
          98.692177,
          3.5060934999999995,
          13.9715925,
          38.585709333333334
         ],
         "y0": " ",
         "yaxis": "y"
        }
       ],
       "layout": {
        "boxmode": "group",
        "legend": {
         "tracegroupgap": 0
        },
        "margin": {
         "t": 60
        },
        "template": {
         "data": {
          "bar": [
           {
            "error_x": {
             "color": "#2a3f5f"
            },
            "error_y": {
             "color": "#2a3f5f"
            },
            "marker": {
             "line": {
              "color": "#E5ECF6",
              "width": 0.5
             },
             "pattern": {
              "fillmode": "overlay",
              "size": 10,
              "solidity": 0.2
             }
            },
            "type": "bar"
           }
          ],
          "barpolar": [
           {
            "marker": {
             "line": {
              "color": "#E5ECF6",
              "width": 0.5
             },
             "pattern": {
              "fillmode": "overlay",
              "size": 10,
              "solidity": 0.2
             }
            },
            "type": "barpolar"
           }
          ],
          "carpet": [
           {
            "aaxis": {
             "endlinecolor": "#2a3f5f",
             "gridcolor": "white",
             "linecolor": "white",
             "minorgridcolor": "white",
             "startlinecolor": "#2a3f5f"
            },
            "baxis": {
             "endlinecolor": "#2a3f5f",
             "gridcolor": "white",
             "linecolor": "white",
             "minorgridcolor": "white",
             "startlinecolor": "#2a3f5f"
            },
            "type": "carpet"
           }
          ],
          "choropleth": [
           {
            "colorbar": {
             "outlinewidth": 0,
             "ticks": ""
            },
            "type": "choropleth"
           }
          ],
          "contour": [
           {
            "colorbar": {
             "outlinewidth": 0,
             "ticks": ""
            },
            "colorscale": [
             [
              0,
              "#0d0887"
             ],
             [
              0.1111111111111111,
              "#46039f"
             ],
             [
              0.2222222222222222,
              "#7201a8"
             ],
             [
              0.3333333333333333,
              "#9c179e"
             ],
             [
              0.4444444444444444,
              "#bd3786"
             ],
             [
              0.5555555555555556,
              "#d8576b"
             ],
             [
              0.6666666666666666,
              "#ed7953"
             ],
             [
              0.7777777777777778,
              "#fb9f3a"
             ],
             [
              0.8888888888888888,
              "#fdca26"
             ],
             [
              1,
              "#f0f921"
             ]
            ],
            "type": "contour"
           }
          ],
          "contourcarpet": [
           {
            "colorbar": {
             "outlinewidth": 0,
             "ticks": ""
            },
            "type": "contourcarpet"
           }
          ],
          "heatmap": [
           {
            "colorbar": {
             "outlinewidth": 0,
             "ticks": ""
            },
            "colorscale": [
             [
              0,
              "#0d0887"
             ],
             [
              0.1111111111111111,
              "#46039f"
             ],
             [
              0.2222222222222222,
              "#7201a8"
             ],
             [
              0.3333333333333333,
              "#9c179e"
             ],
             [
              0.4444444444444444,
              "#bd3786"
             ],
             [
              0.5555555555555556,
              "#d8576b"
             ],
             [
              0.6666666666666666,
              "#ed7953"
             ],
             [
              0.7777777777777778,
              "#fb9f3a"
             ],
             [
              0.8888888888888888,
              "#fdca26"
             ],
             [
              1,
              "#f0f921"
             ]
            ],
            "type": "heatmap"
           }
          ],
          "heatmapgl": [
           {
            "colorbar": {
             "outlinewidth": 0,
             "ticks": ""
            },
            "colorscale": [
             [
              0,
              "#0d0887"
             ],
             [
              0.1111111111111111,
              "#46039f"
             ],
             [
              0.2222222222222222,
              "#7201a8"
             ],
             [
              0.3333333333333333,
              "#9c179e"
             ],
             [
              0.4444444444444444,
              "#bd3786"
             ],
             [
              0.5555555555555556,
              "#d8576b"
             ],
             [
              0.6666666666666666,
              "#ed7953"
             ],
             [
              0.7777777777777778,
              "#fb9f3a"
             ],
             [
              0.8888888888888888,
              "#fdca26"
             ],
             [
              1,
              "#f0f921"
             ]
            ],
            "type": "heatmapgl"
           }
          ],
          "histogram": [
           {
            "marker": {
             "pattern": {
              "fillmode": "overlay",
              "size": 10,
              "solidity": 0.2
             }
            },
            "type": "histogram"
           }
          ],
          "histogram2d": [
           {
            "colorbar": {
             "outlinewidth": 0,
             "ticks": ""
            },
            "colorscale": [
             [
              0,
              "#0d0887"
             ],
             [
              0.1111111111111111,
              "#46039f"
             ],
             [
              0.2222222222222222,
              "#7201a8"
             ],
             [
              0.3333333333333333,
              "#9c179e"
             ],
             [
              0.4444444444444444,
              "#bd3786"
             ],
             [
              0.5555555555555556,
              "#d8576b"
             ],
             [
              0.6666666666666666,
              "#ed7953"
             ],
             [
              0.7777777777777778,
              "#fb9f3a"
             ],
             [
              0.8888888888888888,
              "#fdca26"
             ],
             [
              1,
              "#f0f921"
             ]
            ],
            "type": "histogram2d"
           }
          ],
          "histogram2dcontour": [
           {
            "colorbar": {
             "outlinewidth": 0,
             "ticks": ""
            },
            "colorscale": [
             [
              0,
              "#0d0887"
             ],
             [
              0.1111111111111111,
              "#46039f"
             ],
             [
              0.2222222222222222,
              "#7201a8"
             ],
             [
              0.3333333333333333,
              "#9c179e"
             ],
             [
              0.4444444444444444,
              "#bd3786"
             ],
             [
              0.5555555555555556,
              "#d8576b"
             ],
             [
              0.6666666666666666,
              "#ed7953"
             ],
             [
              0.7777777777777778,
              "#fb9f3a"
             ],
             [
              0.8888888888888888,
              "#fdca26"
             ],
             [
              1,
              "#f0f921"
             ]
            ],
            "type": "histogram2dcontour"
           }
          ],
          "mesh3d": [
           {
            "colorbar": {
             "outlinewidth": 0,
             "ticks": ""
            },
            "type": "mesh3d"
           }
          ],
          "parcoords": [
           {
            "line": {
             "colorbar": {
              "outlinewidth": 0,
              "ticks": ""
             }
            },
            "type": "parcoords"
           }
          ],
          "pie": [
           {
            "automargin": true,
            "type": "pie"
           }
          ],
          "scatter": [
           {
            "fillpattern": {
             "fillmode": "overlay",
             "size": 10,
             "solidity": 0.2
            },
            "type": "scatter"
           }
          ],
          "scatter3d": [
           {
            "line": {
             "colorbar": {
              "outlinewidth": 0,
              "ticks": ""
             }
            },
            "marker": {
             "colorbar": {
              "outlinewidth": 0,
              "ticks": ""
             }
            },
            "type": "scatter3d"
           }
          ],
          "scattercarpet": [
           {
            "marker": {
             "colorbar": {
              "outlinewidth": 0,
              "ticks": ""
             }
            },
            "type": "scattercarpet"
           }
          ],
          "scattergeo": [
           {
            "marker": {
             "colorbar": {
              "outlinewidth": 0,
              "ticks": ""
             }
            },
            "type": "scattergeo"
           }
          ],
          "scattergl": [
           {
            "marker": {
             "colorbar": {
              "outlinewidth": 0,
              "ticks": ""
             }
            },
            "type": "scattergl"
           }
          ],
          "scattermapbox": [
           {
            "marker": {
             "colorbar": {
              "outlinewidth": 0,
              "ticks": ""
             }
            },
            "type": "scattermapbox"
           }
          ],
          "scatterpolar": [
           {
            "marker": {
             "colorbar": {
              "outlinewidth": 0,
              "ticks": ""
             }
            },
            "type": "scatterpolar"
           }
          ],
          "scatterpolargl": [
           {
            "marker": {
             "colorbar": {
              "outlinewidth": 0,
              "ticks": ""
             }
            },
            "type": "scatterpolargl"
           }
          ],
          "scatterternary": [
           {
            "marker": {
             "colorbar": {
              "outlinewidth": 0,
              "ticks": ""
             }
            },
            "type": "scatterternary"
           }
          ],
          "surface": [
           {
            "colorbar": {
             "outlinewidth": 0,
             "ticks": ""
            },
            "colorscale": [
             [
              0,
              "#0d0887"
             ],
             [
              0.1111111111111111,
              "#46039f"
             ],
             [
              0.2222222222222222,
              "#7201a8"
             ],
             [
              0.3333333333333333,
              "#9c179e"
             ],
             [
              0.4444444444444444,
              "#bd3786"
             ],
             [
              0.5555555555555556,
              "#d8576b"
             ],
             [
              0.6666666666666666,
              "#ed7953"
             ],
             [
              0.7777777777777778,
              "#fb9f3a"
             ],
             [
              0.8888888888888888,
              "#fdca26"
             ],
             [
              1,
              "#f0f921"
             ]
            ],
            "type": "surface"
           }
          ],
          "table": [
           {
            "cells": {
             "fill": {
              "color": "#EBF0F8"
             },
             "line": {
              "color": "white"
             }
            },
            "header": {
             "fill": {
              "color": "#C8D4E3"
             },
             "line": {
              "color": "white"
             }
            },
            "type": "table"
           }
          ]
         },
         "layout": {
          "annotationdefaults": {
           "arrowcolor": "#2a3f5f",
           "arrowhead": 0,
           "arrowwidth": 1
          },
          "autotypenumbers": "strict",
          "coloraxis": {
           "colorbar": {
            "outlinewidth": 0,
            "ticks": ""
           }
          },
          "colorscale": {
           "diverging": [
            [
             0,
             "#8e0152"
            ],
            [
             0.1,
             "#c51b7d"
            ],
            [
             0.2,
             "#de77ae"
            ],
            [
             0.3,
             "#f1b6da"
            ],
            [
             0.4,
             "#fde0ef"
            ],
            [
             0.5,
             "#f7f7f7"
            ],
            [
             0.6,
             "#e6f5d0"
            ],
            [
             0.7,
             "#b8e186"
            ],
            [
             0.8,
             "#7fbc41"
            ],
            [
             0.9,
             "#4d9221"
            ],
            [
             1,
             "#276419"
            ]
           ],
           "sequential": [
            [
             0,
             "#0d0887"
            ],
            [
             0.1111111111111111,
             "#46039f"
            ],
            [
             0.2222222222222222,
             "#7201a8"
            ],
            [
             0.3333333333333333,
             "#9c179e"
            ],
            [
             0.4444444444444444,
             "#bd3786"
            ],
            [
             0.5555555555555556,
             "#d8576b"
            ],
            [
             0.6666666666666666,
             "#ed7953"
            ],
            [
             0.7777777777777778,
             "#fb9f3a"
            ],
            [
             0.8888888888888888,
             "#fdca26"
            ],
            [
             1,
             "#f0f921"
            ]
           ],
           "sequentialminus": [
            [
             0,
             "#0d0887"
            ],
            [
             0.1111111111111111,
             "#46039f"
            ],
            [
             0.2222222222222222,
             "#7201a8"
            ],
            [
             0.3333333333333333,
             "#9c179e"
            ],
            [
             0.4444444444444444,
             "#bd3786"
            ],
            [
             0.5555555555555556,
             "#d8576b"
            ],
            [
             0.6666666666666666,
             "#ed7953"
            ],
            [
             0.7777777777777778,
             "#fb9f3a"
            ],
            [
             0.8888888888888888,
             "#fdca26"
            ],
            [
             1,
             "#f0f921"
            ]
           ]
          },
          "colorway": [
           "#636efa",
           "#EF553B",
           "#00cc96",
           "#ab63fa",
           "#FFA15A",
           "#19d3f3",
           "#FF6692",
           "#B6E880",
           "#FF97FF",
           "#FECB52"
          ],
          "font": {
           "color": "#2a3f5f"
          },
          "geo": {
           "bgcolor": "white",
           "lakecolor": "white",
           "landcolor": "#E5ECF6",
           "showlakes": true,
           "showland": true,
           "subunitcolor": "white"
          },
          "hoverlabel": {
           "align": "left"
          },
          "hovermode": "closest",
          "mapbox": {
           "style": "light"
          },
          "paper_bgcolor": "white",
          "plot_bgcolor": "#E5ECF6",
          "polar": {
           "angularaxis": {
            "gridcolor": "white",
            "linecolor": "white",
            "ticks": ""
           },
           "bgcolor": "#E5ECF6",
           "radialaxis": {
            "gridcolor": "white",
            "linecolor": "white",
            "ticks": ""
           }
          },
          "scene": {
           "xaxis": {
            "backgroundcolor": "#E5ECF6",
            "gridcolor": "white",
            "gridwidth": 2,
            "linecolor": "white",
            "showbackground": true,
            "ticks": "",
            "zerolinecolor": "white"
           },
           "yaxis": {
            "backgroundcolor": "#E5ECF6",
            "gridcolor": "white",
            "gridwidth": 2,
            "linecolor": "white",
            "showbackground": true,
            "ticks": "",
            "zerolinecolor": "white"
           },
           "zaxis": {
            "backgroundcolor": "#E5ECF6",
            "gridcolor": "white",
            "gridwidth": 2,
            "linecolor": "white",
            "showbackground": true,
            "ticks": "",
            "zerolinecolor": "white"
           }
          },
          "shapedefaults": {
           "line": {
            "color": "#2a3f5f"
           }
          },
          "ternary": {
           "aaxis": {
            "gridcolor": "white",
            "linecolor": "white",
            "ticks": ""
           },
           "baxis": {
            "gridcolor": "white",
            "linecolor": "white",
            "ticks": ""
           },
           "bgcolor": "#E5ECF6",
           "caxis": {
            "gridcolor": "white",
            "linecolor": "white",
            "ticks": ""
           }
          },
          "title": {
           "x": 0.05
          },
          "xaxis": {
           "automargin": true,
           "gridcolor": "white",
           "linecolor": "white",
           "ticks": "",
           "title": {
            "standoff": 15
           },
           "zerolinecolor": "white",
           "zerolinewidth": 2
          },
          "yaxis": {
           "automargin": true,
           "gridcolor": "white",
           "linecolor": "white",
           "ticks": "",
           "title": {
            "standoff": 15
           },
           "zerolinecolor": "white",
           "zerolinewidth": 2
          }
         }
        },
        "xaxis": {
         "anchor": "y",
         "domain": [
          0,
          1
         ],
         "title": {
          "text": "lineages"
         }
        },
        "yaxis": {
         "anchor": "x",
         "domain": [
          0,
          1
         ],
         "title": {
          "text": "percent_of_expected"
         }
        }
       }
      },
      "text/html": [
       "<div>                            <div id=\"31fdcff0-3125-4b00-b2e2-c28849e497ed\" class=\"plotly-graph-div\" style=\"height:525px; width:100%;\"></div>            <script type=\"text/javascript\">                require([\"plotly\"], function(Plotly) {                    window.PLOTLYENV=window.PLOTLYENV || {};                                    if (document.getElementById(\"31fdcff0-3125-4b00-b2e2-c28849e497ed\")) {                    Plotly.newPlot(                        \"31fdcff0-3125-4b00-b2e2-c28849e497ed\",                        [{\"alignmentgroup\":\"True\",\"hovertemplate\":\"\\u003cb\\u003e%{hovertext}\\u003c\\u002fb\\u003e\\u003cbr\\u003e\\u003cbr\\u003elineages=%{x}\\u003cbr\\u003epercent_of_expected=%{y}\\u003cextra\\u003e\\u003c\\u002fextra\\u003e\",\"hovertext\":[\"0adgio1\",\"0adgio1-2\",\"0adgio1o2o3o4o5\",\"0agio1o2\",\"0aio1o2o3o4o5\",\"a\",\"a-2\",\"adgio1o2o3\",\"agio3o4o5\",\"0adgio1\",\"0adgio1-2\",\"0adgio1o2o3o4o5\",\"0agio1o2\",\"0aio1o2o3o4o5\",\"adgio1o2o3\",\"o1-2\",\"o1o2\",\"o1o2o3o4o5\",\"0adgio1o2o3o4o5\",\"0agio1o2\",\"0aio1o2o3o4o5\",\"adgio1o2o3\",\"o1o2\",\"o1o2o3o4o5\",\"o2-2\",\"o2-3\",\"o2o3o4o5\",\"o2o3o4o5-2\",\"o2o3o4o5-3\",\"0adgio1o2o3o4o5\",\"0aio1o2o3o4o5\",\"0o5o3o4\",\"agio3o4o5\",\"o1o2o3o4o5\",\"o2o3o4o5\",\"o2o3o4o5-2\",\"o2o3o4o5-3\",\"o4\",\"o4-2\",\"o4-3\",\"0adgio1o2o3o4o5\",\"0aio1o2o3o4o5\",\"0o5o3o4\",\"agio3o4o5\",\"o1o2o3o4o5\",\"o2o3o4o5\",\"o2o3o4o5-2\",\"o2o3o4o5-3\",\"o5\",\"o5-2\",\"o5-3\",\"0adgio1o2o3o4o5\",\"0aio1o2o3o4o5\",\"0o5o3o4\",\"adgio1o2o3\",\"agio3o4o5\",\"o1o2o3o4o5\",\"o2o3o4o5\",\"o2o3o4o5-2\",\"o2o3o4o5-3\",\"o3\",\"o3-2\",\"o3-3\",\"o3-4\",\"0adgio1\",\"0adgio1-2\",\"0adgio1o2o3o4o5\",\"adgio1o2o3\",\"d\",\"d-2\",\"0adgio1\",\"0adgio1-2\",\"0adgio1o2o3o4o5\",\"0agio1o2\",\"adgio1o2o3\",\"agio3o4o5\",\"g\",\"g-2\",\"0adgio1\",\"0adgio1-2\",\"0adgio1o2o3o4o5\",\"0agio1o2\",\"0aio1o2o3o4o5\",\"adgio1o2o3\",\"agio3o4o5\",\"i\",\"i-2\",\"0\",\"0-2\",\"0-3\",\"0-4\",\"0adgio1-2\",\"0adgio1o2o3o4o5\",\"0o5o3o4\"],\"legendgroup\":\"\",\"marker\":{\"color\":\"#636efa\"},\"name\":\"\",\"notched\":false,\"offsetgroup\":\"\",\"orientation\":\"v\",\"showlegend\":false,\"x\":[\"Alpha\",\"Alpha\",\"Alpha\",\"Alpha\",\"Alpha\",\"Alpha\",\"Alpha\",\"Alpha\",\"Alpha\",\"BA.1.X\",\"BA.1.X\",\"BA.1.X\",\"BA.1.X\",\"BA.1.X\",\"BA.1.X\",\"BA.1.X\",\"BA.1.X\",\"BA.1.X\",\"BA.2.X\",\"BA.2.X\",\"BA.2.X\",\"BA.2.X\",\"BA.2.X\",\"BA.2.X\",\"BA.2.X\",\"BA.2.X\",\"BA.2.X\",\"BA.2.X\",\"BA.2.X\",\"BA.4.X\",\"BA.4.X\",\"BA.4.X\",\"BA.4.X\",\"BA.4.X\",\"BA.4.X\",\"BA.4.X\",\"BA.4.X\",\"BA.4.X\",\"BA.4.X\",\"BA.4.X\",\"BA.5.X\",\"BA.5.X\",\"BA.5.X\",\"BA.5.X\",\"BA.5.X\",\"BA.5.X\",\"BA.5.X\",\"BA.5.X\",\"BA.5.X\",\"BA.5.X\",\"BA.5.X\",\"BG.X\",\"BG.X\",\"BG.X\",\"BG.X\",\"BG.X\",\"BG.X\",\"BG.X\",\"BG.X\",\"BG.X\",\"BG.X\",\"BG.X\",\"BG.X\",\"BG.X\",\"Delta\",\"Delta\",\"Delta\",\"Delta\",\"Delta\",\"Delta\",\"Gamma\",\"Gamma\",\"Gamma\",\"Gamma\",\"Gamma\",\"Gamma\",\"Gamma\",\"Gamma\",\"Iota\",\"Iota\",\"Iota\",\"Iota\",\"Iota\",\"Iota\",\"Iota\",\"Iota\",\"Iota\",\"Wuhan-hu-1\",\"Wuhan-hu-1\",\"Wuhan-hu-1\",\"Wuhan-hu-1\",\"Wuhan-hu-1\",\"Wuhan-hu-1\",\"Wuhan-hu-1\"],\"x0\":\" \",\"xaxis\":\"x\",\"y\":[106.786544,101.77798399999998,98.61048000000001,105.570064,105.650432,98.785769,98.895272,135.890976,90.40152533333334,46.179432,42.645134,26.374484999999996,39.80950933333333,32.660432,50.780149333333334,98.05727399999999,58.76727466666666,52.780567999999995,50.86044,89.56404479999998,46.50508800000001,117.07873066666666,109.3924704,85.39313200000001,97.455836,97.43117,50.478092,69.309384,40.857364000000004,204.40304999999998,177.839104,156.571856,168.76666666666665,187.71167200000002,168.80389866666664,137.05219200000002,195.579836,98.584672,98.592435,98.60769599999999,78.2201475,70.89293599999999,73.59421999999999,75.98553066666666,114.493968,100.67516160000001,98.285248,85.751468,97.66654,98.47971100000001,98.725921,54.9579375,69.500368,43.066848,75.84854,54.792719999999996,49.736792,79.58698799999999,77.162588,61.5854,98.88962,98.86309800000001,98.852796,98.841121,52.67930133333333,47.284671,37.485659999999996,63.64114666666666,98.484931,98.471052,81.370832,79.24683199999998,70.751565,90.89970133333334,102.32806400000001,70.85072,99.218386,99.123966,88.5632,83.78132,68.3112,96.4688,80.441648,100.16416,68.267312,98.556448,98.427241,49.208518,98.267715,49.281895,98.692177,3.5060934999999995,13.9715925,38.585709333333334],\"y0\":\" \",\"yaxis\":\"y\",\"type\":\"box\"}],                        {\"template\":{\"data\":{\"histogram2dcontour\":[{\"type\":\"histogram2dcontour\",\"colorbar\":{\"outlinewidth\":0,\"ticks\":\"\"},\"colorscale\":[[0.0,\"#0d0887\"],[0.1111111111111111,\"#46039f\"],[0.2222222222222222,\"#7201a8\"],[0.3333333333333333,\"#9c179e\"],[0.4444444444444444,\"#bd3786\"],[0.5555555555555556,\"#d8576b\"],[0.6666666666666666,\"#ed7953\"],[0.7777777777777778,\"#fb9f3a\"],[0.8888888888888888,\"#fdca26\"],[1.0,\"#f0f921\"]]}],\"choropleth\":[{\"type\":\"choropleth\",\"colorbar\":{\"outlinewidth\":0,\"ticks\":\"\"}}],\"histogram2d\":[{\"type\":\"histogram2d\",\"colorbar\":{\"outlinewidth\":0,\"ticks\":\"\"},\"colorscale\":[[0.0,\"#0d0887\"],[0.1111111111111111,\"#46039f\"],[0.2222222222222222,\"#7201a8\"],[0.3333333333333333,\"#9c179e\"],[0.4444444444444444,\"#bd3786\"],[0.5555555555555556,\"#d8576b\"],[0.6666666666666666,\"#ed7953\"],[0.7777777777777778,\"#fb9f3a\"],[0.8888888888888888,\"#fdca26\"],[1.0,\"#f0f921\"]]}],\"heatmap\":[{\"type\":\"heatmap\",\"colorbar\":{\"outlinewidth\":0,\"ticks\":\"\"},\"colorscale\":[[0.0,\"#0d0887\"],[0.1111111111111111,\"#46039f\"],[0.2222222222222222,\"#7201a8\"],[0.3333333333333333,\"#9c179e\"],[0.4444444444444444,\"#bd3786\"],[0.5555555555555556,\"#d8576b\"],[0.6666666666666666,\"#ed7953\"],[0.7777777777777778,\"#fb9f3a\"],[0.8888888888888888,\"#fdca26\"],[1.0,\"#f0f921\"]]}],\"heatmapgl\":[{\"type\":\"heatmapgl\",\"colorbar\":{\"outlinewidth\":0,\"ticks\":\"\"},\"colorscale\":[[0.0,\"#0d0887\"],[0.1111111111111111,\"#46039f\"],[0.2222222222222222,\"#7201a8\"],[0.3333333333333333,\"#9c179e\"],[0.4444444444444444,\"#bd3786\"],[0.5555555555555556,\"#d8576b\"],[0.6666666666666666,\"#ed7953\"],[0.7777777777777778,\"#fb9f3a\"],[0.8888888888888888,\"#fdca26\"],[1.0,\"#f0f921\"]]}],\"contourcarpet\":[{\"type\":\"contourcarpet\",\"colorbar\":{\"outlinewidth\":0,\"ticks\":\"\"}}],\"contour\":[{\"type\":\"contour\",\"colorbar\":{\"outlinewidth\":0,\"ticks\":\"\"},\"colorscale\":[[0.0,\"#0d0887\"],[0.1111111111111111,\"#46039f\"],[0.2222222222222222,\"#7201a8\"],[0.3333333333333333,\"#9c179e\"],[0.4444444444444444,\"#bd3786\"],[0.5555555555555556,\"#d8576b\"],[0.6666666666666666,\"#ed7953\"],[0.7777777777777778,\"#fb9f3a\"],[0.8888888888888888,\"#fdca26\"],[1.0,\"#f0f921\"]]}],\"surface\":[{\"type\":\"surface\",\"colorbar\":{\"outlinewidth\":0,\"ticks\":\"\"},\"colorscale\":[[0.0,\"#0d0887\"],[0.1111111111111111,\"#46039f\"],[0.2222222222222222,\"#7201a8\"],[0.3333333333333333,\"#9c179e\"],[0.4444444444444444,\"#bd3786\"],[0.5555555555555556,\"#d8576b\"],[0.6666666666666666,\"#ed7953\"],[0.7777777777777778,\"#fb9f3a\"],[0.8888888888888888,\"#fdca26\"],[1.0,\"#f0f921\"]]}],\"mesh3d\":[{\"type\":\"mesh3d\",\"colorbar\":{\"outlinewidth\":0,\"ticks\":\"\"}}],\"scatter\":[{\"fillpattern\":{\"fillmode\":\"overlay\",\"size\":10,\"solidity\":0.2},\"type\":\"scatter\"}],\"parcoords\":[{\"type\":\"parcoords\",\"line\":{\"colorbar\":{\"outlinewidth\":0,\"ticks\":\"\"}}}],\"scatterpolargl\":[{\"type\":\"scatterpolargl\",\"marker\":{\"colorbar\":{\"outlinewidth\":0,\"ticks\":\"\"}}}],\"bar\":[{\"error_x\":{\"color\":\"#2a3f5f\"},\"error_y\":{\"color\":\"#2a3f5f\"},\"marker\":{\"line\":{\"color\":\"#E5ECF6\",\"width\":0.5},\"pattern\":{\"fillmode\":\"overlay\",\"size\":10,\"solidity\":0.2}},\"type\":\"bar\"}],\"scattergeo\":[{\"type\":\"scattergeo\",\"marker\":{\"colorbar\":{\"outlinewidth\":0,\"ticks\":\"\"}}}],\"scatterpolar\":[{\"type\":\"scatterpolar\",\"marker\":{\"colorbar\":{\"outlinewidth\":0,\"ticks\":\"\"}}}],\"histogram\":[{\"marker\":{\"pattern\":{\"fillmode\":\"overlay\",\"size\":10,\"solidity\":0.2}},\"type\":\"histogram\"}],\"scattergl\":[{\"type\":\"scattergl\",\"marker\":{\"colorbar\":{\"outlinewidth\":0,\"ticks\":\"\"}}}],\"scatter3d\":[{\"type\":\"scatter3d\",\"line\":{\"colorbar\":{\"outlinewidth\":0,\"ticks\":\"\"}},\"marker\":{\"colorbar\":{\"outlinewidth\":0,\"ticks\":\"\"}}}],\"scattermapbox\":[{\"type\":\"scattermapbox\",\"marker\":{\"colorbar\":{\"outlinewidth\":0,\"ticks\":\"\"}}}],\"scatterternary\":[{\"type\":\"scatterternary\",\"marker\":{\"colorbar\":{\"outlinewidth\":0,\"ticks\":\"\"}}}],\"scattercarpet\":[{\"type\":\"scattercarpet\",\"marker\":{\"colorbar\":{\"outlinewidth\":0,\"ticks\":\"\"}}}],\"carpet\":[{\"aaxis\":{\"endlinecolor\":\"#2a3f5f\",\"gridcolor\":\"white\",\"linecolor\":\"white\",\"minorgridcolor\":\"white\",\"startlinecolor\":\"#2a3f5f\"},\"baxis\":{\"endlinecolor\":\"#2a3f5f\",\"gridcolor\":\"white\",\"linecolor\":\"white\",\"minorgridcolor\":\"white\",\"startlinecolor\":\"#2a3f5f\"},\"type\":\"carpet\"}],\"table\":[{\"cells\":{\"fill\":{\"color\":\"#EBF0F8\"},\"line\":{\"color\":\"white\"}},\"header\":{\"fill\":{\"color\":\"#C8D4E3\"},\"line\":{\"color\":\"white\"}},\"type\":\"table\"}],\"barpolar\":[{\"marker\":{\"line\":{\"color\":\"#E5ECF6\",\"width\":0.5},\"pattern\":{\"fillmode\":\"overlay\",\"size\":10,\"solidity\":0.2}},\"type\":\"barpolar\"}],\"pie\":[{\"automargin\":true,\"type\":\"pie\"}]},\"layout\":{\"autotypenumbers\":\"strict\",\"colorway\":[\"#636efa\",\"#EF553B\",\"#00cc96\",\"#ab63fa\",\"#FFA15A\",\"#19d3f3\",\"#FF6692\",\"#B6E880\",\"#FF97FF\",\"#FECB52\"],\"font\":{\"color\":\"#2a3f5f\"},\"hovermode\":\"closest\",\"hoverlabel\":{\"align\":\"left\"},\"paper_bgcolor\":\"white\",\"plot_bgcolor\":\"#E5ECF6\",\"polar\":{\"bgcolor\":\"#E5ECF6\",\"angularaxis\":{\"gridcolor\":\"white\",\"linecolor\":\"white\",\"ticks\":\"\"},\"radialaxis\":{\"gridcolor\":\"white\",\"linecolor\":\"white\",\"ticks\":\"\"}},\"ternary\":{\"bgcolor\":\"#E5ECF6\",\"aaxis\":{\"gridcolor\":\"white\",\"linecolor\":\"white\",\"ticks\":\"\"},\"baxis\":{\"gridcolor\":\"white\",\"linecolor\":\"white\",\"ticks\":\"\"},\"caxis\":{\"gridcolor\":\"white\",\"linecolor\":\"white\",\"ticks\":\"\"}},\"coloraxis\":{\"colorbar\":{\"outlinewidth\":0,\"ticks\":\"\"}},\"colorscale\":{\"sequential\":[[0.0,\"#0d0887\"],[0.1111111111111111,\"#46039f\"],[0.2222222222222222,\"#7201a8\"],[0.3333333333333333,\"#9c179e\"],[0.4444444444444444,\"#bd3786\"],[0.5555555555555556,\"#d8576b\"],[0.6666666666666666,\"#ed7953\"],[0.7777777777777778,\"#fb9f3a\"],[0.8888888888888888,\"#fdca26\"],[1.0,\"#f0f921\"]],\"sequentialminus\":[[0.0,\"#0d0887\"],[0.1111111111111111,\"#46039f\"],[0.2222222222222222,\"#7201a8\"],[0.3333333333333333,\"#9c179e\"],[0.4444444444444444,\"#bd3786\"],[0.5555555555555556,\"#d8576b\"],[0.6666666666666666,\"#ed7953\"],[0.7777777777777778,\"#fb9f3a\"],[0.8888888888888888,\"#fdca26\"],[1.0,\"#f0f921\"]],\"diverging\":[[0,\"#8e0152\"],[0.1,\"#c51b7d\"],[0.2,\"#de77ae\"],[0.3,\"#f1b6da\"],[0.4,\"#fde0ef\"],[0.5,\"#f7f7f7\"],[0.6,\"#e6f5d0\"],[0.7,\"#b8e186\"],[0.8,\"#7fbc41\"],[0.9,\"#4d9221\"],[1,\"#276419\"]]},\"xaxis\":{\"gridcolor\":\"white\",\"linecolor\":\"white\",\"ticks\":\"\",\"title\":{\"standoff\":15},\"zerolinecolor\":\"white\",\"automargin\":true,\"zerolinewidth\":2},\"yaxis\":{\"gridcolor\":\"white\",\"linecolor\":\"white\",\"ticks\":\"\",\"title\":{\"standoff\":15},\"zerolinecolor\":\"white\",\"automargin\":true,\"zerolinewidth\":2},\"scene\":{\"xaxis\":{\"backgroundcolor\":\"#E5ECF6\",\"gridcolor\":\"white\",\"linecolor\":\"white\",\"showbackground\":true,\"ticks\":\"\",\"zerolinecolor\":\"white\",\"gridwidth\":2},\"yaxis\":{\"backgroundcolor\":\"#E5ECF6\",\"gridcolor\":\"white\",\"linecolor\":\"white\",\"showbackground\":true,\"ticks\":\"\",\"zerolinecolor\":\"white\",\"gridwidth\":2},\"zaxis\":{\"backgroundcolor\":\"#E5ECF6\",\"gridcolor\":\"white\",\"linecolor\":\"white\",\"showbackground\":true,\"ticks\":\"\",\"zerolinecolor\":\"white\",\"gridwidth\":2}},\"shapedefaults\":{\"line\":{\"color\":\"#2a3f5f\"}},\"annotationdefaults\":{\"arrowcolor\":\"#2a3f5f\",\"arrowhead\":0,\"arrowwidth\":1},\"geo\":{\"bgcolor\":\"white\",\"landcolor\":\"#E5ECF6\",\"subunitcolor\":\"white\",\"showland\":true,\"showlakes\":true,\"lakecolor\":\"white\"},\"title\":{\"x\":0.05},\"mapbox\":{\"style\":\"light\"}}},\"xaxis\":{\"anchor\":\"y\",\"domain\":[0.0,1.0],\"title\":{\"text\":\"lineages\"}},\"yaxis\":{\"anchor\":\"x\",\"domain\":[0.0,1.0],\"title\":{\"text\":\"percent_of_expected\"}},\"legend\":{\"tracegroupgap\":0},\"margin\":{\"t\":60},\"boxmode\":\"group\"},                        {\"responsive\": true}                    ).then(function(){\n",
       "                            \n",
       "var gd = document.getElementById('31fdcff0-3125-4b00-b2e2-c28849e497ed');\n",
       "var x = new MutationObserver(function (mutations, observer) {{\n",
       "        var display = window.getComputedStyle(gd).display;\n",
       "        if (!display || display === 'none') {{\n",
       "            console.log([gd, 'removed!']);\n",
       "            Plotly.purge(gd);\n",
       "            observer.disconnect();\n",
       "        }}\n",
       "}});\n",
       "\n",
       "// Listen for the removal of the full notebook cells\n",
       "var notebookContainer = gd.closest('#notebook-container');\n",
       "if (notebookContainer) {{\n",
       "    x.observe(notebookContainer, {childList: true});\n",
       "}}\n",
       "\n",
       "// Listen for the clearing of the current output cell\n",
       "var outputEl = gd.closest('.output');\n",
       "if (outputEl) {{\n",
       "    x.observe(outputEl, {childList: true});\n",
       "}}\n",
       "\n",
       "                        })                };                });            </script>        </div>"
      ]
     },
     "metadata": {},
     "output_type": "display_data"
    }
   ],
   "source": [
    "px.box(df, x=\"lineages\", y=\"percent_of_expected\", color=None, hover_name=\"Sample name\")\n",
    "# sort by time\n"
   ]
  },
  {
   "cell_type": "code",
   "execution_count": 29,
   "metadata": {},
   "outputs": [
    {
     "data": {
      "text/html": [
       "<div>\n",
       "<style scoped>\n",
       "    .dataframe tbody tr th:only-of-type {\n",
       "        vertical-align: middle;\n",
       "    }\n",
       "\n",
       "    .dataframe tbody tr th {\n",
       "        vertical-align: top;\n",
       "    }\n",
       "\n",
       "    .dataframe thead th {\n",
       "        text-align: right;\n",
       "    }\n",
       "</style>\n",
       "<table border=\"1\" class=\"dataframe\">\n",
       "  <thead>\n",
       "    <tr style=\"text-align: right;\">\n",
       "      <th></th>\n",
       "      <th>Sample name</th>\n",
       "      <th>lineages</th>\n",
       "      <th>abundances</th>\n",
       "      <th>scheme</th>\n",
       "      <th>expected_abundance</th>\n",
       "      <th>percent_of_expected</th>\n",
       "      <th>log2OE</th>\n",
       "      <th>O/E</th>\n",
       "    </tr>\n",
       "  </thead>\n",
       "  <tbody>\n",
       "    <tr>\n",
       "      <th>92</th>\n",
       "      <td>o3-4</td>\n",
       "      <td>BG.X</td>\n",
       "      <td>0.988411</td>\n",
       "      <td>Freyja</td>\n",
       "      <td>1.000000</td>\n",
       "      <td>98.841121</td>\n",
       "      <td>6.627039</td>\n",
       "      <td>0.988411</td>\n",
       "    </tr>\n",
       "    <tr>\n",
       "      <th>60</th>\n",
       "      <td>o3-3</td>\n",
       "      <td>BG.X</td>\n",
       "      <td>0.988528</td>\n",
       "      <td>Freyja</td>\n",
       "      <td>1.000000</td>\n",
       "      <td>98.852796</td>\n",
       "      <td>6.627210</td>\n",
       "      <td>0.988528</td>\n",
       "    </tr>\n",
       "    <tr>\n",
       "      <th>110</th>\n",
       "      <td>o3-2</td>\n",
       "      <td>BG.X</td>\n",
       "      <td>0.988631</td>\n",
       "      <td>Freyja</td>\n",
       "      <td>1.000000</td>\n",
       "      <td>98.863098</td>\n",
       "      <td>6.627360</td>\n",
       "      <td>0.988631</td>\n",
       "    </tr>\n",
       "    <tr>\n",
       "      <th>27</th>\n",
       "      <td>o3</td>\n",
       "      <td>BG.X</td>\n",
       "      <td>0.988896</td>\n",
       "      <td>Freyja</td>\n",
       "      <td>1.000000</td>\n",
       "      <td>98.88962</td>\n",
       "      <td>6.627747</td>\n",
       "      <td>0.988896</td>\n",
       "    </tr>\n",
       "    <tr>\n",
       "      <th>108</th>\n",
       "      <td>o2o3o4o5-3</td>\n",
       "      <td>BG.X</td>\n",
       "      <td>0.153964</td>\n",
       "      <td>Freyja</td>\n",
       "      <td>0.250000</td>\n",
       "      <td>61.5854</td>\n",
       "      <td>5.944516</td>\n",
       "      <td>0.615854</td>\n",
       "    </tr>\n",
       "    <tr>\n",
       "      <th>37</th>\n",
       "      <td>o2o3o4o5-2</td>\n",
       "      <td>BG.X</td>\n",
       "      <td>0.192906</td>\n",
       "      <td>Freyja</td>\n",
       "      <td>0.250000</td>\n",
       "      <td>77.162588</td>\n",
       "      <td>6.269830</td>\n",
       "      <td>0.771626</td>\n",
       "    </tr>\n",
       "    <tr>\n",
       "      <th>57</th>\n",
       "      <td>o2o3o4o5</td>\n",
       "      <td>BG.X</td>\n",
       "      <td>0.198967</td>\n",
       "      <td>Freyja</td>\n",
       "      <td>0.250000</td>\n",
       "      <td>79.586988</td>\n",
       "      <td>6.314461</td>\n",
       "      <td>0.79587</td>\n",
       "    </tr>\n",
       "    <tr>\n",
       "      <th>24</th>\n",
       "      <td>o1o2o3o4o5</td>\n",
       "      <td>BG.X</td>\n",
       "      <td>0.062171</td>\n",
       "      <td>Freyja</td>\n",
       "      <td>0.125000</td>\n",
       "      <td>49.736792</td>\n",
       "      <td>5.636242</td>\n",
       "      <td>0.497368</td>\n",
       "    </tr>\n",
       "    <tr>\n",
       "      <th>101</th>\n",
       "      <td>agio3o4o5</td>\n",
       "      <td>BG.X</td>\n",
       "      <td>0.068491</td>\n",
       "      <td>Freyja</td>\n",
       "      <td>0.125000</td>\n",
       "      <td>54.79272</td>\n",
       "      <td>5.775912</td>\n",
       "      <td>0.547927</td>\n",
       "    </tr>\n",
       "    <tr>\n",
       "      <th>63</th>\n",
       "      <td>adgio1o2o3</td>\n",
       "      <td>BG.X</td>\n",
       "      <td>0.189621</td>\n",
       "      <td>Freyja</td>\n",
       "      <td>0.250000</td>\n",
       "      <td>75.84854</td>\n",
       "      <td>6.245050</td>\n",
       "      <td>0.758485</td>\n",
       "    </tr>\n",
       "    <tr>\n",
       "      <th>86</th>\n",
       "      <td>0o5o3o4</td>\n",
       "      <td>BG.X</td>\n",
       "      <td>0.080750</td>\n",
       "      <td>Freyja</td>\n",
       "      <td>0.187500</td>\n",
       "      <td>43.066848</td>\n",
       "      <td>5.428506</td>\n",
       "      <td>0.430668</td>\n",
       "    </tr>\n",
       "    <tr>\n",
       "      <th>116</th>\n",
       "      <td>0aio1o2o3o4o5</td>\n",
       "      <td>BG.X</td>\n",
       "      <td>0.086875</td>\n",
       "      <td>Freyja</td>\n",
       "      <td>0.125000</td>\n",
       "      <td>69.500368</td>\n",
       "      <td>6.118949</td>\n",
       "      <td>0.695004</td>\n",
       "    </tr>\n",
       "    <tr>\n",
       "      <th>9</th>\n",
       "      <td>0adgio1o2o3o4o5</td>\n",
       "      <td>BG.X</td>\n",
       "      <td>0.073277</td>\n",
       "      <td>Freyja</td>\n",
       "      <td>0.133333</td>\n",
       "      <td>54.957937</td>\n",
       "      <td>5.780256</td>\n",
       "      <td>0.549579</td>\n",
       "    </tr>\n",
       "  </tbody>\n",
       "</table>\n",
       "</div>"
      ],
      "text/plain": [
       "         Sample name lineages  abundances  scheme  expected_abundance  \\\n",
       "92              o3-4     BG.X    0.988411  Freyja            1.000000   \n",
       "60              o3-3     BG.X    0.988528  Freyja            1.000000   \n",
       "110             o3-2     BG.X    0.988631  Freyja            1.000000   \n",
       "27                o3     BG.X    0.988896  Freyja            1.000000   \n",
       "108       o2o3o4o5-3     BG.X    0.153964  Freyja            0.250000   \n",
       "37        o2o3o4o5-2     BG.X    0.192906  Freyja            0.250000   \n",
       "57          o2o3o4o5     BG.X    0.198967  Freyja            0.250000   \n",
       "24        o1o2o3o4o5     BG.X    0.062171  Freyja            0.125000   \n",
       "101        agio3o4o5     BG.X    0.068491  Freyja            0.125000   \n",
       "63        adgio1o2o3     BG.X    0.189621  Freyja            0.250000   \n",
       "86           0o5o3o4     BG.X    0.080750  Freyja            0.187500   \n",
       "116    0aio1o2o3o4o5     BG.X    0.086875  Freyja            0.125000   \n",
       "9    0adgio1o2o3o4o5     BG.X    0.073277  Freyja            0.133333   \n",
       "\n",
       "    percent_of_expected    log2OE       O/E  \n",
       "92            98.841121  6.627039  0.988411  \n",
       "60            98.852796  6.627210  0.988528  \n",
       "110           98.863098  6.627360  0.988631  \n",
       "27             98.88962  6.627747  0.988896  \n",
       "108             61.5854  5.944516  0.615854  \n",
       "37            77.162588  6.269830  0.771626  \n",
       "57            79.586988  6.314461   0.79587  \n",
       "24            49.736792  5.636242  0.497368  \n",
       "101            54.79272  5.775912  0.547927  \n",
       "63             75.84854  6.245050  0.758485  \n",
       "86            43.066848  5.428506  0.430668  \n",
       "116           69.500368  6.118949  0.695004  \n",
       "9             54.957937  5.780256  0.549579  "
      ]
     },
     "execution_count": 29,
     "metadata": {},
     "output_type": "execute_result"
    }
   ],
   "source": [
    "# d = df.sort_values(by=[\"lineages\", \"percent_of_expected\"])\n",
    "d = df.sort_values(by=[\"Sample name\"], ascending=False)\n",
    "d[d[\"lineages\"] == \"BG.X\"]"
   ]
  },
  {
   "cell_type": "code",
   "execution_count": 30,
   "metadata": {},
   "outputs": [
    {
     "data": {
      "application/vnd.plotly.v1+json": {
       "config": {
        "plotlyServerURL": "https://plot.ly"
       },
       "data": [
        {
         "hovertemplate": "lineages=Wuhan-hu-1<br>Sample name=%{x}<br>percent_of_expected=%{y}<extra></extra>",
         "legendgroup": "Wuhan-hu-1",
         "line": {
          "color": "#636efa",
          "dash": "solid"
         },
         "marker": {
          "symbol": "circle"
         },
         "mode": "lines+markers",
         "name": "Wuhan-hu-1",
         "orientation": "v",
         "showlegend": true,
         "type": "scatter",
         "x": [
          "0",
          "0-2",
          "0-3",
          "0-4",
          "0adgio1-2",
          "0adgio1o2o3o4o5",
          "0o5o3o4"
         ],
         "xaxis": "x",
         "y": [
          49.208518,
          98.267715,
          49.281895,
          98.692177,
          3.5060934999999995,
          13.9715925,
          38.585709333333334
         ],
         "yaxis": "y"
        },
        {
         "hovertemplate": "lineages=Alpha<br>Sample name=%{x}<br>percent_of_expected=%{y}<extra></extra>",
         "legendgroup": "Alpha",
         "line": {
          "color": "#EF553B",
          "dash": "solid"
         },
         "marker": {
          "symbol": "circle"
         },
         "mode": "lines+markers",
         "name": "Alpha",
         "orientation": "v",
         "showlegend": true,
         "type": "scatter",
         "x": [
          "0adgio1",
          "0adgio1-2",
          "0adgio1o2o3o4o5",
          "0agio1o2",
          "0aio1o2o3o4o5",
          "a",
          "a-2",
          "adgio1o2o3",
          "agio3o4o5"
         ],
         "xaxis": "x",
         "y": [
          106.786544,
          101.77798399999998,
          98.61048000000001,
          105.570064,
          105.650432,
          98.785769,
          98.895272,
          135.890976,
          90.40152533333334
         ],
         "yaxis": "y"
        },
        {
         "hovertemplate": "lineages=Gamma<br>Sample name=%{x}<br>percent_of_expected=%{y}<extra></extra>",
         "legendgroup": "Gamma",
         "line": {
          "color": "#00cc96",
          "dash": "solid"
         },
         "marker": {
          "symbol": "circle"
         },
         "mode": "lines+markers",
         "name": "Gamma",
         "orientation": "v",
         "showlegend": true,
         "type": "scatter",
         "x": [
          "0adgio1",
          "0adgio1-2",
          "0adgio1o2o3o4o5",
          "0agio1o2",
          "adgio1o2o3",
          "agio3o4o5",
          "g",
          "g-2"
         ],
         "xaxis": "x",
         "y": [
          81.370832,
          79.24683199999998,
          70.751565,
          90.89970133333334,
          102.32806400000001,
          70.85072,
          99.218386,
          99.123966
         ],
         "yaxis": "y"
        },
        {
         "hovertemplate": "lineages=Iota<br>Sample name=%{x}<br>percent_of_expected=%{y}<extra></extra>",
         "legendgroup": "Iota",
         "line": {
          "color": "#ab63fa",
          "dash": "solid"
         },
         "marker": {
          "symbol": "circle"
         },
         "mode": "lines+markers",
         "name": "Iota",
         "orientation": "v",
         "showlegend": true,
         "type": "scatter",
         "x": [
          "0adgio1",
          "0adgio1-2",
          "0adgio1o2o3o4o5",
          "0agio1o2",
          "0aio1o2o3o4o5",
          "adgio1o2o3",
          "agio3o4o5",
          "i",
          "i-2"
         ],
         "xaxis": "x",
         "y": [
          88.5632,
          83.78132,
          68.3112,
          96.4688,
          80.441648,
          100.16416,
          68.267312,
          98.556448,
          98.427241
         ],
         "yaxis": "y"
        },
        {
         "hovertemplate": "lineages=BA.1.X<br>Sample name=%{x}<br>percent_of_expected=%{y}<extra></extra>",
         "legendgroup": "BA.1.X",
         "line": {
          "color": "#FFA15A",
          "dash": "solid"
         },
         "marker": {
          "symbol": "circle"
         },
         "mode": "lines+markers",
         "name": "BA.1.X",
         "orientation": "v",
         "showlegend": true,
         "type": "scatter",
         "x": [
          "0adgio1",
          "0adgio1-2",
          "0adgio1o2o3o4o5",
          "0agio1o2",
          "0aio1o2o3o4o5",
          "adgio1o2o3",
          "o1-2",
          "o1o2",
          "o1o2o3o4o5"
         ],
         "xaxis": "x",
         "y": [
          46.179432,
          42.645134,
          26.374484999999996,
          39.80950933333333,
          32.660432,
          50.780149333333334,
          98.05727399999999,
          58.76727466666666,
          52.780567999999995
         ],
         "yaxis": "y"
        },
        {
         "hovertemplate": "lineages=Delta<br>Sample name=%{x}<br>percent_of_expected=%{y}<extra></extra>",
         "legendgroup": "Delta",
         "line": {
          "color": "#19d3f3",
          "dash": "solid"
         },
         "marker": {
          "symbol": "circle"
         },
         "mode": "lines+markers",
         "name": "Delta",
         "orientation": "v",
         "showlegend": true,
         "type": "scatter",
         "x": [
          "0adgio1",
          "0adgio1-2",
          "0adgio1o2o3o4o5",
          "adgio1o2o3",
          "d",
          "d-2"
         ],
         "xaxis": "x",
         "y": [
          52.67930133333333,
          47.284671,
          37.485659999999996,
          63.64114666666666,
          98.484931,
          98.471052
         ],
         "yaxis": "y"
        },
        {
         "hovertemplate": "lineages=BG.X<br>Sample name=%{x}<br>percent_of_expected=%{y}<extra></extra>",
         "legendgroup": "BG.X",
         "line": {
          "color": "#FF6692",
          "dash": "solid"
         },
         "marker": {
          "symbol": "circle"
         },
         "mode": "lines+markers",
         "name": "BG.X",
         "orientation": "v",
         "showlegend": true,
         "type": "scatter",
         "x": [
          "0adgio1o2o3o4o5",
          "0aio1o2o3o4o5",
          "0o5o3o4",
          "adgio1o2o3",
          "agio3o4o5",
          "o1o2o3o4o5",
          "o2o3o4o5",
          "o2o3o4o5-2",
          "o2o3o4o5-3",
          "o3",
          "o3-2",
          "o3-3",
          "o3-4"
         ],
         "xaxis": "x",
         "y": [
          54.9579375,
          69.500368,
          43.066848,
          75.84854,
          54.792719999999996,
          49.736792,
          79.58698799999999,
          77.162588,
          61.5854,
          98.88962,
          98.86309800000001,
          98.852796,
          98.841121
         ],
         "yaxis": "y"
        },
        {
         "hovertemplate": "lineages=BA.4.X<br>Sample name=%{x}<br>percent_of_expected=%{y}<extra></extra>",
         "legendgroup": "BA.4.X",
         "line": {
          "color": "#B6E880",
          "dash": "solid"
         },
         "marker": {
          "symbol": "circle"
         },
         "mode": "lines+markers",
         "name": "BA.4.X",
         "orientation": "v",
         "showlegend": true,
         "type": "scatter",
         "x": [
          "0adgio1o2o3o4o5",
          "0aio1o2o3o4o5",
          "0o5o3o4",
          "agio3o4o5",
          "o1o2o3o4o5",
          "o2o3o4o5",
          "o2o3o4o5-2",
          "o2o3o4o5-3",
          "o4",
          "o4-2",
          "o4-3"
         ],
         "xaxis": "x",
         "y": [
          204.40304999999998,
          177.839104,
          156.571856,
          168.76666666666665,
          187.71167200000002,
          168.80389866666664,
          137.05219200000002,
          195.579836,
          98.584672,
          98.592435,
          98.60769599999999
         ],
         "yaxis": "y"
        },
        {
         "hovertemplate": "lineages=BA.5.X<br>Sample name=%{x}<br>percent_of_expected=%{y}<extra></extra>",
         "legendgroup": "BA.5.X",
         "line": {
          "color": "#FF97FF",
          "dash": "solid"
         },
         "marker": {
          "symbol": "circle"
         },
         "mode": "lines+markers",
         "name": "BA.5.X",
         "orientation": "v",
         "showlegend": true,
         "type": "scatter",
         "x": [
          "0adgio1o2o3o4o5",
          "0aio1o2o3o4o5",
          "0o5o3o4",
          "agio3o4o5",
          "o1o2o3o4o5",
          "o2o3o4o5",
          "o2o3o4o5-2",
          "o2o3o4o5-3",
          "o5",
          "o5-2",
          "o5-3"
         ],
         "xaxis": "x",
         "y": [
          78.2201475,
          70.89293599999999,
          73.59421999999999,
          75.98553066666666,
          114.493968,
          100.67516160000001,
          98.285248,
          85.751468,
          97.66654,
          98.47971100000001,
          98.725921
         ],
         "yaxis": "y"
        },
        {
         "hovertemplate": "lineages=BA.2.X<br>Sample name=%{x}<br>percent_of_expected=%{y}<extra></extra>",
         "legendgroup": "BA.2.X",
         "line": {
          "color": "#FECB52",
          "dash": "solid"
         },
         "marker": {
          "symbol": "circle"
         },
         "mode": "lines+markers",
         "name": "BA.2.X",
         "orientation": "v",
         "showlegend": true,
         "type": "scatter",
         "x": [
          "0adgio1o2o3o4o5",
          "0agio1o2",
          "0aio1o2o3o4o5",
          "adgio1o2o3",
          "o1o2",
          "o1o2o3o4o5",
          "o2-2",
          "o2-3",
          "o2o3o4o5",
          "o2o3o4o5-2",
          "o2o3o4o5-3"
         ],
         "xaxis": "x",
         "y": [
          50.86044,
          89.56404479999998,
          46.50508800000001,
          117.07873066666666,
          109.3924704,
          85.39313200000001,
          97.455836,
          97.43117,
          50.478092,
          69.309384,
          40.857364000000004
         ],
         "yaxis": "y"
        }
       ],
       "layout": {
        "legend": {
         "title": {
          "text": "lineages"
         },
         "tracegroupgap": 0
        },
        "margin": {
         "t": 60
        },
        "template": {
         "data": {
          "bar": [
           {
            "error_x": {
             "color": "#2a3f5f"
            },
            "error_y": {
             "color": "#2a3f5f"
            },
            "marker": {
             "line": {
              "color": "#E5ECF6",
              "width": 0.5
             },
             "pattern": {
              "fillmode": "overlay",
              "size": 10,
              "solidity": 0.2
             }
            },
            "type": "bar"
           }
          ],
          "barpolar": [
           {
            "marker": {
             "line": {
              "color": "#E5ECF6",
              "width": 0.5
             },
             "pattern": {
              "fillmode": "overlay",
              "size": 10,
              "solidity": 0.2
             }
            },
            "type": "barpolar"
           }
          ],
          "carpet": [
           {
            "aaxis": {
             "endlinecolor": "#2a3f5f",
             "gridcolor": "white",
             "linecolor": "white",
             "minorgridcolor": "white",
             "startlinecolor": "#2a3f5f"
            },
            "baxis": {
             "endlinecolor": "#2a3f5f",
             "gridcolor": "white",
             "linecolor": "white",
             "minorgridcolor": "white",
             "startlinecolor": "#2a3f5f"
            },
            "type": "carpet"
           }
          ],
          "choropleth": [
           {
            "colorbar": {
             "outlinewidth": 0,
             "ticks": ""
            },
            "type": "choropleth"
           }
          ],
          "contour": [
           {
            "colorbar": {
             "outlinewidth": 0,
             "ticks": ""
            },
            "colorscale": [
             [
              0,
              "#0d0887"
             ],
             [
              0.1111111111111111,
              "#46039f"
             ],
             [
              0.2222222222222222,
              "#7201a8"
             ],
             [
              0.3333333333333333,
              "#9c179e"
             ],
             [
              0.4444444444444444,
              "#bd3786"
             ],
             [
              0.5555555555555556,
              "#d8576b"
             ],
             [
              0.6666666666666666,
              "#ed7953"
             ],
             [
              0.7777777777777778,
              "#fb9f3a"
             ],
             [
              0.8888888888888888,
              "#fdca26"
             ],
             [
              1,
              "#f0f921"
             ]
            ],
            "type": "contour"
           }
          ],
          "contourcarpet": [
           {
            "colorbar": {
             "outlinewidth": 0,
             "ticks": ""
            },
            "type": "contourcarpet"
           }
          ],
          "heatmap": [
           {
            "colorbar": {
             "outlinewidth": 0,
             "ticks": ""
            },
            "colorscale": [
             [
              0,
              "#0d0887"
             ],
             [
              0.1111111111111111,
              "#46039f"
             ],
             [
              0.2222222222222222,
              "#7201a8"
             ],
             [
              0.3333333333333333,
              "#9c179e"
             ],
             [
              0.4444444444444444,
              "#bd3786"
             ],
             [
              0.5555555555555556,
              "#d8576b"
             ],
             [
              0.6666666666666666,
              "#ed7953"
             ],
             [
              0.7777777777777778,
              "#fb9f3a"
             ],
             [
              0.8888888888888888,
              "#fdca26"
             ],
             [
              1,
              "#f0f921"
             ]
            ],
            "type": "heatmap"
           }
          ],
          "heatmapgl": [
           {
            "colorbar": {
             "outlinewidth": 0,
             "ticks": ""
            },
            "colorscale": [
             [
              0,
              "#0d0887"
             ],
             [
              0.1111111111111111,
              "#46039f"
             ],
             [
              0.2222222222222222,
              "#7201a8"
             ],
             [
              0.3333333333333333,
              "#9c179e"
             ],
             [
              0.4444444444444444,
              "#bd3786"
             ],
             [
              0.5555555555555556,
              "#d8576b"
             ],
             [
              0.6666666666666666,
              "#ed7953"
             ],
             [
              0.7777777777777778,
              "#fb9f3a"
             ],
             [
              0.8888888888888888,
              "#fdca26"
             ],
             [
              1,
              "#f0f921"
             ]
            ],
            "type": "heatmapgl"
           }
          ],
          "histogram": [
           {
            "marker": {
             "pattern": {
              "fillmode": "overlay",
              "size": 10,
              "solidity": 0.2
             }
            },
            "type": "histogram"
           }
          ],
          "histogram2d": [
           {
            "colorbar": {
             "outlinewidth": 0,
             "ticks": ""
            },
            "colorscale": [
             [
              0,
              "#0d0887"
             ],
             [
              0.1111111111111111,
              "#46039f"
             ],
             [
              0.2222222222222222,
              "#7201a8"
             ],
             [
              0.3333333333333333,
              "#9c179e"
             ],
             [
              0.4444444444444444,
              "#bd3786"
             ],
             [
              0.5555555555555556,
              "#d8576b"
             ],
             [
              0.6666666666666666,
              "#ed7953"
             ],
             [
              0.7777777777777778,
              "#fb9f3a"
             ],
             [
              0.8888888888888888,
              "#fdca26"
             ],
             [
              1,
              "#f0f921"
             ]
            ],
            "type": "histogram2d"
           }
          ],
          "histogram2dcontour": [
           {
            "colorbar": {
             "outlinewidth": 0,
             "ticks": ""
            },
            "colorscale": [
             [
              0,
              "#0d0887"
             ],
             [
              0.1111111111111111,
              "#46039f"
             ],
             [
              0.2222222222222222,
              "#7201a8"
             ],
             [
              0.3333333333333333,
              "#9c179e"
             ],
             [
              0.4444444444444444,
              "#bd3786"
             ],
             [
              0.5555555555555556,
              "#d8576b"
             ],
             [
              0.6666666666666666,
              "#ed7953"
             ],
             [
              0.7777777777777778,
              "#fb9f3a"
             ],
             [
              0.8888888888888888,
              "#fdca26"
             ],
             [
              1,
              "#f0f921"
             ]
            ],
            "type": "histogram2dcontour"
           }
          ],
          "mesh3d": [
           {
            "colorbar": {
             "outlinewidth": 0,
             "ticks": ""
            },
            "type": "mesh3d"
           }
          ],
          "parcoords": [
           {
            "line": {
             "colorbar": {
              "outlinewidth": 0,
              "ticks": ""
             }
            },
            "type": "parcoords"
           }
          ],
          "pie": [
           {
            "automargin": true,
            "type": "pie"
           }
          ],
          "scatter": [
           {
            "fillpattern": {
             "fillmode": "overlay",
             "size": 10,
             "solidity": 0.2
            },
            "type": "scatter"
           }
          ],
          "scatter3d": [
           {
            "line": {
             "colorbar": {
              "outlinewidth": 0,
              "ticks": ""
             }
            },
            "marker": {
             "colorbar": {
              "outlinewidth": 0,
              "ticks": ""
             }
            },
            "type": "scatter3d"
           }
          ],
          "scattercarpet": [
           {
            "marker": {
             "colorbar": {
              "outlinewidth": 0,
              "ticks": ""
             }
            },
            "type": "scattercarpet"
           }
          ],
          "scattergeo": [
           {
            "marker": {
             "colorbar": {
              "outlinewidth": 0,
              "ticks": ""
             }
            },
            "type": "scattergeo"
           }
          ],
          "scattergl": [
           {
            "marker": {
             "colorbar": {
              "outlinewidth": 0,
              "ticks": ""
             }
            },
            "type": "scattergl"
           }
          ],
          "scattermapbox": [
           {
            "marker": {
             "colorbar": {
              "outlinewidth": 0,
              "ticks": ""
             }
            },
            "type": "scattermapbox"
           }
          ],
          "scatterpolar": [
           {
            "marker": {
             "colorbar": {
              "outlinewidth": 0,
              "ticks": ""
             }
            },
            "type": "scatterpolar"
           }
          ],
          "scatterpolargl": [
           {
            "marker": {
             "colorbar": {
              "outlinewidth": 0,
              "ticks": ""
             }
            },
            "type": "scatterpolargl"
           }
          ],
          "scatterternary": [
           {
            "marker": {
             "colorbar": {
              "outlinewidth": 0,
              "ticks": ""
             }
            },
            "type": "scatterternary"
           }
          ],
          "surface": [
           {
            "colorbar": {
             "outlinewidth": 0,
             "ticks": ""
            },
            "colorscale": [
             [
              0,
              "#0d0887"
             ],
             [
              0.1111111111111111,
              "#46039f"
             ],
             [
              0.2222222222222222,
              "#7201a8"
             ],
             [
              0.3333333333333333,
              "#9c179e"
             ],
             [
              0.4444444444444444,
              "#bd3786"
             ],
             [
              0.5555555555555556,
              "#d8576b"
             ],
             [
              0.6666666666666666,
              "#ed7953"
             ],
             [
              0.7777777777777778,
              "#fb9f3a"
             ],
             [
              0.8888888888888888,
              "#fdca26"
             ],
             [
              1,
              "#f0f921"
             ]
            ],
            "type": "surface"
           }
          ],
          "table": [
           {
            "cells": {
             "fill": {
              "color": "#EBF0F8"
             },
             "line": {
              "color": "white"
             }
            },
            "header": {
             "fill": {
              "color": "#C8D4E3"
             },
             "line": {
              "color": "white"
             }
            },
            "type": "table"
           }
          ]
         },
         "layout": {
          "annotationdefaults": {
           "arrowcolor": "#2a3f5f",
           "arrowhead": 0,
           "arrowwidth": 1
          },
          "autotypenumbers": "strict",
          "coloraxis": {
           "colorbar": {
            "outlinewidth": 0,
            "ticks": ""
           }
          },
          "colorscale": {
           "diverging": [
            [
             0,
             "#8e0152"
            ],
            [
             0.1,
             "#c51b7d"
            ],
            [
             0.2,
             "#de77ae"
            ],
            [
             0.3,
             "#f1b6da"
            ],
            [
             0.4,
             "#fde0ef"
            ],
            [
             0.5,
             "#f7f7f7"
            ],
            [
             0.6,
             "#e6f5d0"
            ],
            [
             0.7,
             "#b8e186"
            ],
            [
             0.8,
             "#7fbc41"
            ],
            [
             0.9,
             "#4d9221"
            ],
            [
             1,
             "#276419"
            ]
           ],
           "sequential": [
            [
             0,
             "#0d0887"
            ],
            [
             0.1111111111111111,
             "#46039f"
            ],
            [
             0.2222222222222222,
             "#7201a8"
            ],
            [
             0.3333333333333333,
             "#9c179e"
            ],
            [
             0.4444444444444444,
             "#bd3786"
            ],
            [
             0.5555555555555556,
             "#d8576b"
            ],
            [
             0.6666666666666666,
             "#ed7953"
            ],
            [
             0.7777777777777778,
             "#fb9f3a"
            ],
            [
             0.8888888888888888,
             "#fdca26"
            ],
            [
             1,
             "#f0f921"
            ]
           ],
           "sequentialminus": [
            [
             0,
             "#0d0887"
            ],
            [
             0.1111111111111111,
             "#46039f"
            ],
            [
             0.2222222222222222,
             "#7201a8"
            ],
            [
             0.3333333333333333,
             "#9c179e"
            ],
            [
             0.4444444444444444,
             "#bd3786"
            ],
            [
             0.5555555555555556,
             "#d8576b"
            ],
            [
             0.6666666666666666,
             "#ed7953"
            ],
            [
             0.7777777777777778,
             "#fb9f3a"
            ],
            [
             0.8888888888888888,
             "#fdca26"
            ],
            [
             1,
             "#f0f921"
            ]
           ]
          },
          "colorway": [
           "#636efa",
           "#EF553B",
           "#00cc96",
           "#ab63fa",
           "#FFA15A",
           "#19d3f3",
           "#FF6692",
           "#B6E880",
           "#FF97FF",
           "#FECB52"
          ],
          "font": {
           "color": "#2a3f5f"
          },
          "geo": {
           "bgcolor": "white",
           "lakecolor": "white",
           "landcolor": "#E5ECF6",
           "showlakes": true,
           "showland": true,
           "subunitcolor": "white"
          },
          "hoverlabel": {
           "align": "left"
          },
          "hovermode": "closest",
          "mapbox": {
           "style": "light"
          },
          "paper_bgcolor": "white",
          "plot_bgcolor": "#E5ECF6",
          "polar": {
           "angularaxis": {
            "gridcolor": "white",
            "linecolor": "white",
            "ticks": ""
           },
           "bgcolor": "#E5ECF6",
           "radialaxis": {
            "gridcolor": "white",
            "linecolor": "white",
            "ticks": ""
           }
          },
          "scene": {
           "xaxis": {
            "backgroundcolor": "#E5ECF6",
            "gridcolor": "white",
            "gridwidth": 2,
            "linecolor": "white",
            "showbackground": true,
            "ticks": "",
            "zerolinecolor": "white"
           },
           "yaxis": {
            "backgroundcolor": "#E5ECF6",
            "gridcolor": "white",
            "gridwidth": 2,
            "linecolor": "white",
            "showbackground": true,
            "ticks": "",
            "zerolinecolor": "white"
           },
           "zaxis": {
            "backgroundcolor": "#E5ECF6",
            "gridcolor": "white",
            "gridwidth": 2,
            "linecolor": "white",
            "showbackground": true,
            "ticks": "",
            "zerolinecolor": "white"
           }
          },
          "shapedefaults": {
           "line": {
            "color": "#2a3f5f"
           }
          },
          "ternary": {
           "aaxis": {
            "gridcolor": "white",
            "linecolor": "white",
            "ticks": ""
           },
           "baxis": {
            "gridcolor": "white",
            "linecolor": "white",
            "ticks": ""
           },
           "bgcolor": "#E5ECF6",
           "caxis": {
            "gridcolor": "white",
            "linecolor": "white",
            "ticks": ""
           }
          },
          "title": {
           "x": 0.05
          },
          "xaxis": {
           "automargin": true,
           "gridcolor": "white",
           "linecolor": "white",
           "ticks": "",
           "title": {
            "standoff": 15
           },
           "zerolinecolor": "white",
           "zerolinewidth": 2
          },
          "yaxis": {
           "automargin": true,
           "gridcolor": "white",
           "linecolor": "white",
           "ticks": "",
           "title": {
            "standoff": 15
           },
           "zerolinecolor": "white",
           "zerolinewidth": 2
          }
         }
        },
        "xaxis": {
         "anchor": "y",
         "categoryorder": "category ascending",
         "domain": [
          0,
          1
         ],
         "title": {
          "text": "Sample name"
         }
        },
        "yaxis": {
         "anchor": "x",
         "domain": [
          0,
          1
         ],
         "title": {
          "text": "percent_of_expected"
         }
        }
       }
      },
      "text/html": [
       "<div>                            <div id=\"8c770750-bc60-4e78-8224-ec47868ed941\" class=\"plotly-graph-div\" style=\"height:525px; width:100%;\"></div>            <script type=\"text/javascript\">                require([\"plotly\"], function(Plotly) {                    window.PLOTLYENV=window.PLOTLYENV || {};                                    if (document.getElementById(\"8c770750-bc60-4e78-8224-ec47868ed941\")) {                    Plotly.newPlot(                        \"8c770750-bc60-4e78-8224-ec47868ed941\",                        [{\"hovertemplate\":\"lineages=Wuhan-hu-1\\u003cbr\\u003eSample name=%{x}\\u003cbr\\u003epercent_of_expected=%{y}\\u003cextra\\u003e\\u003c\\u002fextra\\u003e\",\"legendgroup\":\"Wuhan-hu-1\",\"line\":{\"color\":\"#636efa\",\"dash\":\"solid\"},\"marker\":{\"symbol\":\"circle\"},\"mode\":\"lines+markers\",\"name\":\"Wuhan-hu-1\",\"orientation\":\"v\",\"showlegend\":true,\"x\":[\"0\",\"0-2\",\"0-3\",\"0-4\",\"0adgio1-2\",\"0adgio1o2o3o4o5\",\"0o5o3o4\"],\"xaxis\":\"x\",\"y\":[49.208518,98.267715,49.281895,98.692177,3.5060934999999995,13.9715925,38.585709333333334],\"yaxis\":\"y\",\"type\":\"scatter\"},{\"hovertemplate\":\"lineages=Alpha\\u003cbr\\u003eSample name=%{x}\\u003cbr\\u003epercent_of_expected=%{y}\\u003cextra\\u003e\\u003c\\u002fextra\\u003e\",\"legendgroup\":\"Alpha\",\"line\":{\"color\":\"#EF553B\",\"dash\":\"solid\"},\"marker\":{\"symbol\":\"circle\"},\"mode\":\"lines+markers\",\"name\":\"Alpha\",\"orientation\":\"v\",\"showlegend\":true,\"x\":[\"0adgio1\",\"0adgio1-2\",\"0adgio1o2o3o4o5\",\"0agio1o2\",\"0aio1o2o3o4o5\",\"a\",\"a-2\",\"adgio1o2o3\",\"agio3o4o5\"],\"xaxis\":\"x\",\"y\":[106.786544,101.77798399999998,98.61048000000001,105.570064,105.650432,98.785769,98.895272,135.890976,90.40152533333334],\"yaxis\":\"y\",\"type\":\"scatter\"},{\"hovertemplate\":\"lineages=Gamma\\u003cbr\\u003eSample name=%{x}\\u003cbr\\u003epercent_of_expected=%{y}\\u003cextra\\u003e\\u003c\\u002fextra\\u003e\",\"legendgroup\":\"Gamma\",\"line\":{\"color\":\"#00cc96\",\"dash\":\"solid\"},\"marker\":{\"symbol\":\"circle\"},\"mode\":\"lines+markers\",\"name\":\"Gamma\",\"orientation\":\"v\",\"showlegend\":true,\"x\":[\"0adgio1\",\"0adgio1-2\",\"0adgio1o2o3o4o5\",\"0agio1o2\",\"adgio1o2o3\",\"agio3o4o5\",\"g\",\"g-2\"],\"xaxis\":\"x\",\"y\":[81.370832,79.24683199999998,70.751565,90.89970133333334,102.32806400000001,70.85072,99.218386,99.123966],\"yaxis\":\"y\",\"type\":\"scatter\"},{\"hovertemplate\":\"lineages=Iota\\u003cbr\\u003eSample name=%{x}\\u003cbr\\u003epercent_of_expected=%{y}\\u003cextra\\u003e\\u003c\\u002fextra\\u003e\",\"legendgroup\":\"Iota\",\"line\":{\"color\":\"#ab63fa\",\"dash\":\"solid\"},\"marker\":{\"symbol\":\"circle\"},\"mode\":\"lines+markers\",\"name\":\"Iota\",\"orientation\":\"v\",\"showlegend\":true,\"x\":[\"0adgio1\",\"0adgio1-2\",\"0adgio1o2o3o4o5\",\"0agio1o2\",\"0aio1o2o3o4o5\",\"adgio1o2o3\",\"agio3o4o5\",\"i\",\"i-2\"],\"xaxis\":\"x\",\"y\":[88.5632,83.78132,68.3112,96.4688,80.441648,100.16416,68.267312,98.556448,98.427241],\"yaxis\":\"y\",\"type\":\"scatter\"},{\"hovertemplate\":\"lineages=BA.1.X\\u003cbr\\u003eSample name=%{x}\\u003cbr\\u003epercent_of_expected=%{y}\\u003cextra\\u003e\\u003c\\u002fextra\\u003e\",\"legendgroup\":\"BA.1.X\",\"line\":{\"color\":\"#FFA15A\",\"dash\":\"solid\"},\"marker\":{\"symbol\":\"circle\"},\"mode\":\"lines+markers\",\"name\":\"BA.1.X\",\"orientation\":\"v\",\"showlegend\":true,\"x\":[\"0adgio1\",\"0adgio1-2\",\"0adgio1o2o3o4o5\",\"0agio1o2\",\"0aio1o2o3o4o5\",\"adgio1o2o3\",\"o1-2\",\"o1o2\",\"o1o2o3o4o5\"],\"xaxis\":\"x\",\"y\":[46.179432,42.645134,26.374484999999996,39.80950933333333,32.660432,50.780149333333334,98.05727399999999,58.76727466666666,52.780567999999995],\"yaxis\":\"y\",\"type\":\"scatter\"},{\"hovertemplate\":\"lineages=Delta\\u003cbr\\u003eSample name=%{x}\\u003cbr\\u003epercent_of_expected=%{y}\\u003cextra\\u003e\\u003c\\u002fextra\\u003e\",\"legendgroup\":\"Delta\",\"line\":{\"color\":\"#19d3f3\",\"dash\":\"solid\"},\"marker\":{\"symbol\":\"circle\"},\"mode\":\"lines+markers\",\"name\":\"Delta\",\"orientation\":\"v\",\"showlegend\":true,\"x\":[\"0adgio1\",\"0adgio1-2\",\"0adgio1o2o3o4o5\",\"adgio1o2o3\",\"d\",\"d-2\"],\"xaxis\":\"x\",\"y\":[52.67930133333333,47.284671,37.485659999999996,63.64114666666666,98.484931,98.471052],\"yaxis\":\"y\",\"type\":\"scatter\"},{\"hovertemplate\":\"lineages=BG.X\\u003cbr\\u003eSample name=%{x}\\u003cbr\\u003epercent_of_expected=%{y}\\u003cextra\\u003e\\u003c\\u002fextra\\u003e\",\"legendgroup\":\"BG.X\",\"line\":{\"color\":\"#FF6692\",\"dash\":\"solid\"},\"marker\":{\"symbol\":\"circle\"},\"mode\":\"lines+markers\",\"name\":\"BG.X\",\"orientation\":\"v\",\"showlegend\":true,\"x\":[\"0adgio1o2o3o4o5\",\"0aio1o2o3o4o5\",\"0o5o3o4\",\"adgio1o2o3\",\"agio3o4o5\",\"o1o2o3o4o5\",\"o2o3o4o5\",\"o2o3o4o5-2\",\"o2o3o4o5-3\",\"o3\",\"o3-2\",\"o3-3\",\"o3-4\"],\"xaxis\":\"x\",\"y\":[54.9579375,69.500368,43.066848,75.84854,54.792719999999996,49.736792,79.58698799999999,77.162588,61.5854,98.88962,98.86309800000001,98.852796,98.841121],\"yaxis\":\"y\",\"type\":\"scatter\"},{\"hovertemplate\":\"lineages=BA.4.X\\u003cbr\\u003eSample name=%{x}\\u003cbr\\u003epercent_of_expected=%{y}\\u003cextra\\u003e\\u003c\\u002fextra\\u003e\",\"legendgroup\":\"BA.4.X\",\"line\":{\"color\":\"#B6E880\",\"dash\":\"solid\"},\"marker\":{\"symbol\":\"circle\"},\"mode\":\"lines+markers\",\"name\":\"BA.4.X\",\"orientation\":\"v\",\"showlegend\":true,\"x\":[\"0adgio1o2o3o4o5\",\"0aio1o2o3o4o5\",\"0o5o3o4\",\"agio3o4o5\",\"o1o2o3o4o5\",\"o2o3o4o5\",\"o2o3o4o5-2\",\"o2o3o4o5-3\",\"o4\",\"o4-2\",\"o4-3\"],\"xaxis\":\"x\",\"y\":[204.40304999999998,177.839104,156.571856,168.76666666666665,187.71167200000002,168.80389866666664,137.05219200000002,195.579836,98.584672,98.592435,98.60769599999999],\"yaxis\":\"y\",\"type\":\"scatter\"},{\"hovertemplate\":\"lineages=BA.5.X\\u003cbr\\u003eSample name=%{x}\\u003cbr\\u003epercent_of_expected=%{y}\\u003cextra\\u003e\\u003c\\u002fextra\\u003e\",\"legendgroup\":\"BA.5.X\",\"line\":{\"color\":\"#FF97FF\",\"dash\":\"solid\"},\"marker\":{\"symbol\":\"circle\"},\"mode\":\"lines+markers\",\"name\":\"BA.5.X\",\"orientation\":\"v\",\"showlegend\":true,\"x\":[\"0adgio1o2o3o4o5\",\"0aio1o2o3o4o5\",\"0o5o3o4\",\"agio3o4o5\",\"o1o2o3o4o5\",\"o2o3o4o5\",\"o2o3o4o5-2\",\"o2o3o4o5-3\",\"o5\",\"o5-2\",\"o5-3\"],\"xaxis\":\"x\",\"y\":[78.2201475,70.89293599999999,73.59421999999999,75.98553066666666,114.493968,100.67516160000001,98.285248,85.751468,97.66654,98.47971100000001,98.725921],\"yaxis\":\"y\",\"type\":\"scatter\"},{\"hovertemplate\":\"lineages=BA.2.X\\u003cbr\\u003eSample name=%{x}\\u003cbr\\u003epercent_of_expected=%{y}\\u003cextra\\u003e\\u003c\\u002fextra\\u003e\",\"legendgroup\":\"BA.2.X\",\"line\":{\"color\":\"#FECB52\",\"dash\":\"solid\"},\"marker\":{\"symbol\":\"circle\"},\"mode\":\"lines+markers\",\"name\":\"BA.2.X\",\"orientation\":\"v\",\"showlegend\":true,\"x\":[\"0adgio1o2o3o4o5\",\"0agio1o2\",\"0aio1o2o3o4o5\",\"adgio1o2o3\",\"o1o2\",\"o1o2o3o4o5\",\"o2-2\",\"o2-3\",\"o2o3o4o5\",\"o2o3o4o5-2\",\"o2o3o4o5-3\"],\"xaxis\":\"x\",\"y\":[50.86044,89.56404479999998,46.50508800000001,117.07873066666666,109.3924704,85.39313200000001,97.455836,97.43117,50.478092,69.309384,40.857364000000004],\"yaxis\":\"y\",\"type\":\"scatter\"}],                        {\"template\":{\"data\":{\"histogram2dcontour\":[{\"type\":\"histogram2dcontour\",\"colorbar\":{\"outlinewidth\":0,\"ticks\":\"\"},\"colorscale\":[[0.0,\"#0d0887\"],[0.1111111111111111,\"#46039f\"],[0.2222222222222222,\"#7201a8\"],[0.3333333333333333,\"#9c179e\"],[0.4444444444444444,\"#bd3786\"],[0.5555555555555556,\"#d8576b\"],[0.6666666666666666,\"#ed7953\"],[0.7777777777777778,\"#fb9f3a\"],[0.8888888888888888,\"#fdca26\"],[1.0,\"#f0f921\"]]}],\"choropleth\":[{\"type\":\"choropleth\",\"colorbar\":{\"outlinewidth\":0,\"ticks\":\"\"}}],\"histogram2d\":[{\"type\":\"histogram2d\",\"colorbar\":{\"outlinewidth\":0,\"ticks\":\"\"},\"colorscale\":[[0.0,\"#0d0887\"],[0.1111111111111111,\"#46039f\"],[0.2222222222222222,\"#7201a8\"],[0.3333333333333333,\"#9c179e\"],[0.4444444444444444,\"#bd3786\"],[0.5555555555555556,\"#d8576b\"],[0.6666666666666666,\"#ed7953\"],[0.7777777777777778,\"#fb9f3a\"],[0.8888888888888888,\"#fdca26\"],[1.0,\"#f0f921\"]]}],\"heatmap\":[{\"type\":\"heatmap\",\"colorbar\":{\"outlinewidth\":0,\"ticks\":\"\"},\"colorscale\":[[0.0,\"#0d0887\"],[0.1111111111111111,\"#46039f\"],[0.2222222222222222,\"#7201a8\"],[0.3333333333333333,\"#9c179e\"],[0.4444444444444444,\"#bd3786\"],[0.5555555555555556,\"#d8576b\"],[0.6666666666666666,\"#ed7953\"],[0.7777777777777778,\"#fb9f3a\"],[0.8888888888888888,\"#fdca26\"],[1.0,\"#f0f921\"]]}],\"heatmapgl\":[{\"type\":\"heatmapgl\",\"colorbar\":{\"outlinewidth\":0,\"ticks\":\"\"},\"colorscale\":[[0.0,\"#0d0887\"],[0.1111111111111111,\"#46039f\"],[0.2222222222222222,\"#7201a8\"],[0.3333333333333333,\"#9c179e\"],[0.4444444444444444,\"#bd3786\"],[0.5555555555555556,\"#d8576b\"],[0.6666666666666666,\"#ed7953\"],[0.7777777777777778,\"#fb9f3a\"],[0.8888888888888888,\"#fdca26\"],[1.0,\"#f0f921\"]]}],\"contourcarpet\":[{\"type\":\"contourcarpet\",\"colorbar\":{\"outlinewidth\":0,\"ticks\":\"\"}}],\"contour\":[{\"type\":\"contour\",\"colorbar\":{\"outlinewidth\":0,\"ticks\":\"\"},\"colorscale\":[[0.0,\"#0d0887\"],[0.1111111111111111,\"#46039f\"],[0.2222222222222222,\"#7201a8\"],[0.3333333333333333,\"#9c179e\"],[0.4444444444444444,\"#bd3786\"],[0.5555555555555556,\"#d8576b\"],[0.6666666666666666,\"#ed7953\"],[0.7777777777777778,\"#fb9f3a\"],[0.8888888888888888,\"#fdca26\"],[1.0,\"#f0f921\"]]}],\"surface\":[{\"type\":\"surface\",\"colorbar\":{\"outlinewidth\":0,\"ticks\":\"\"},\"colorscale\":[[0.0,\"#0d0887\"],[0.1111111111111111,\"#46039f\"],[0.2222222222222222,\"#7201a8\"],[0.3333333333333333,\"#9c179e\"],[0.4444444444444444,\"#bd3786\"],[0.5555555555555556,\"#d8576b\"],[0.6666666666666666,\"#ed7953\"],[0.7777777777777778,\"#fb9f3a\"],[0.8888888888888888,\"#fdca26\"],[1.0,\"#f0f921\"]]}],\"mesh3d\":[{\"type\":\"mesh3d\",\"colorbar\":{\"outlinewidth\":0,\"ticks\":\"\"}}],\"scatter\":[{\"fillpattern\":{\"fillmode\":\"overlay\",\"size\":10,\"solidity\":0.2},\"type\":\"scatter\"}],\"parcoords\":[{\"type\":\"parcoords\",\"line\":{\"colorbar\":{\"outlinewidth\":0,\"ticks\":\"\"}}}],\"scatterpolargl\":[{\"type\":\"scatterpolargl\",\"marker\":{\"colorbar\":{\"outlinewidth\":0,\"ticks\":\"\"}}}],\"bar\":[{\"error_x\":{\"color\":\"#2a3f5f\"},\"error_y\":{\"color\":\"#2a3f5f\"},\"marker\":{\"line\":{\"color\":\"#E5ECF6\",\"width\":0.5},\"pattern\":{\"fillmode\":\"overlay\",\"size\":10,\"solidity\":0.2}},\"type\":\"bar\"}],\"scattergeo\":[{\"type\":\"scattergeo\",\"marker\":{\"colorbar\":{\"outlinewidth\":0,\"ticks\":\"\"}}}],\"scatterpolar\":[{\"type\":\"scatterpolar\",\"marker\":{\"colorbar\":{\"outlinewidth\":0,\"ticks\":\"\"}}}],\"histogram\":[{\"marker\":{\"pattern\":{\"fillmode\":\"overlay\",\"size\":10,\"solidity\":0.2}},\"type\":\"histogram\"}],\"scattergl\":[{\"type\":\"scattergl\",\"marker\":{\"colorbar\":{\"outlinewidth\":0,\"ticks\":\"\"}}}],\"scatter3d\":[{\"type\":\"scatter3d\",\"line\":{\"colorbar\":{\"outlinewidth\":0,\"ticks\":\"\"}},\"marker\":{\"colorbar\":{\"outlinewidth\":0,\"ticks\":\"\"}}}],\"scattermapbox\":[{\"type\":\"scattermapbox\",\"marker\":{\"colorbar\":{\"outlinewidth\":0,\"ticks\":\"\"}}}],\"scatterternary\":[{\"type\":\"scatterternary\",\"marker\":{\"colorbar\":{\"outlinewidth\":0,\"ticks\":\"\"}}}],\"scattercarpet\":[{\"type\":\"scattercarpet\",\"marker\":{\"colorbar\":{\"outlinewidth\":0,\"ticks\":\"\"}}}],\"carpet\":[{\"aaxis\":{\"endlinecolor\":\"#2a3f5f\",\"gridcolor\":\"white\",\"linecolor\":\"white\",\"minorgridcolor\":\"white\",\"startlinecolor\":\"#2a3f5f\"},\"baxis\":{\"endlinecolor\":\"#2a3f5f\",\"gridcolor\":\"white\",\"linecolor\":\"white\",\"minorgridcolor\":\"white\",\"startlinecolor\":\"#2a3f5f\"},\"type\":\"carpet\"}],\"table\":[{\"cells\":{\"fill\":{\"color\":\"#EBF0F8\"},\"line\":{\"color\":\"white\"}},\"header\":{\"fill\":{\"color\":\"#C8D4E3\"},\"line\":{\"color\":\"white\"}},\"type\":\"table\"}],\"barpolar\":[{\"marker\":{\"line\":{\"color\":\"#E5ECF6\",\"width\":0.5},\"pattern\":{\"fillmode\":\"overlay\",\"size\":10,\"solidity\":0.2}},\"type\":\"barpolar\"}],\"pie\":[{\"automargin\":true,\"type\":\"pie\"}]},\"layout\":{\"autotypenumbers\":\"strict\",\"colorway\":[\"#636efa\",\"#EF553B\",\"#00cc96\",\"#ab63fa\",\"#FFA15A\",\"#19d3f3\",\"#FF6692\",\"#B6E880\",\"#FF97FF\",\"#FECB52\"],\"font\":{\"color\":\"#2a3f5f\"},\"hovermode\":\"closest\",\"hoverlabel\":{\"align\":\"left\"},\"paper_bgcolor\":\"white\",\"plot_bgcolor\":\"#E5ECF6\",\"polar\":{\"bgcolor\":\"#E5ECF6\",\"angularaxis\":{\"gridcolor\":\"white\",\"linecolor\":\"white\",\"ticks\":\"\"},\"radialaxis\":{\"gridcolor\":\"white\",\"linecolor\":\"white\",\"ticks\":\"\"}},\"ternary\":{\"bgcolor\":\"#E5ECF6\",\"aaxis\":{\"gridcolor\":\"white\",\"linecolor\":\"white\",\"ticks\":\"\"},\"baxis\":{\"gridcolor\":\"white\",\"linecolor\":\"white\",\"ticks\":\"\"},\"caxis\":{\"gridcolor\":\"white\",\"linecolor\":\"white\",\"ticks\":\"\"}},\"coloraxis\":{\"colorbar\":{\"outlinewidth\":0,\"ticks\":\"\"}},\"colorscale\":{\"sequential\":[[0.0,\"#0d0887\"],[0.1111111111111111,\"#46039f\"],[0.2222222222222222,\"#7201a8\"],[0.3333333333333333,\"#9c179e\"],[0.4444444444444444,\"#bd3786\"],[0.5555555555555556,\"#d8576b\"],[0.6666666666666666,\"#ed7953\"],[0.7777777777777778,\"#fb9f3a\"],[0.8888888888888888,\"#fdca26\"],[1.0,\"#f0f921\"]],\"sequentialminus\":[[0.0,\"#0d0887\"],[0.1111111111111111,\"#46039f\"],[0.2222222222222222,\"#7201a8\"],[0.3333333333333333,\"#9c179e\"],[0.4444444444444444,\"#bd3786\"],[0.5555555555555556,\"#d8576b\"],[0.6666666666666666,\"#ed7953\"],[0.7777777777777778,\"#fb9f3a\"],[0.8888888888888888,\"#fdca26\"],[1.0,\"#f0f921\"]],\"diverging\":[[0,\"#8e0152\"],[0.1,\"#c51b7d\"],[0.2,\"#de77ae\"],[0.3,\"#f1b6da\"],[0.4,\"#fde0ef\"],[0.5,\"#f7f7f7\"],[0.6,\"#e6f5d0\"],[0.7,\"#b8e186\"],[0.8,\"#7fbc41\"],[0.9,\"#4d9221\"],[1,\"#276419\"]]},\"xaxis\":{\"gridcolor\":\"white\",\"linecolor\":\"white\",\"ticks\":\"\",\"title\":{\"standoff\":15},\"zerolinecolor\":\"white\",\"automargin\":true,\"zerolinewidth\":2},\"yaxis\":{\"gridcolor\":\"white\",\"linecolor\":\"white\",\"ticks\":\"\",\"title\":{\"standoff\":15},\"zerolinecolor\":\"white\",\"automargin\":true,\"zerolinewidth\":2},\"scene\":{\"xaxis\":{\"backgroundcolor\":\"#E5ECF6\",\"gridcolor\":\"white\",\"linecolor\":\"white\",\"showbackground\":true,\"ticks\":\"\",\"zerolinecolor\":\"white\",\"gridwidth\":2},\"yaxis\":{\"backgroundcolor\":\"#E5ECF6\",\"gridcolor\":\"white\",\"linecolor\":\"white\",\"showbackground\":true,\"ticks\":\"\",\"zerolinecolor\":\"white\",\"gridwidth\":2},\"zaxis\":{\"backgroundcolor\":\"#E5ECF6\",\"gridcolor\":\"white\",\"linecolor\":\"white\",\"showbackground\":true,\"ticks\":\"\",\"zerolinecolor\":\"white\",\"gridwidth\":2}},\"shapedefaults\":{\"line\":{\"color\":\"#2a3f5f\"}},\"annotationdefaults\":{\"arrowcolor\":\"#2a3f5f\",\"arrowhead\":0,\"arrowwidth\":1},\"geo\":{\"bgcolor\":\"white\",\"landcolor\":\"#E5ECF6\",\"subunitcolor\":\"white\",\"showland\":true,\"showlakes\":true,\"lakecolor\":\"white\"},\"title\":{\"x\":0.05},\"mapbox\":{\"style\":\"light\"}}},\"xaxis\":{\"anchor\":\"y\",\"domain\":[0.0,1.0],\"title\":{\"text\":\"Sample name\"},\"categoryorder\":\"category ascending\"},\"yaxis\":{\"anchor\":\"x\",\"domain\":[0.0,1.0],\"title\":{\"text\":\"percent_of_expected\"}},\"legend\":{\"title\":{\"text\":\"lineages\"},\"tracegroupgap\":0},\"margin\":{\"t\":60}},                        {\"responsive\": true}                    ).then(function(){\n",
       "                            \n",
       "var gd = document.getElementById('8c770750-bc60-4e78-8224-ec47868ed941');\n",
       "var x = new MutationObserver(function (mutations, observer) {{\n",
       "        var display = window.getComputedStyle(gd).display;\n",
       "        if (!display || display === 'none') {{\n",
       "            console.log([gd, 'removed!']);\n",
       "            Plotly.purge(gd);\n",
       "            observer.disconnect();\n",
       "        }}\n",
       "}});\n",
       "\n",
       "// Listen for the removal of the full notebook cells\n",
       "var notebookContainer = gd.closest('#notebook-container');\n",
       "if (notebookContainer) {{\n",
       "    x.observe(notebookContainer, {childList: true});\n",
       "}}\n",
       "\n",
       "// Listen for the clearing of the current output cell\n",
       "var outputEl = gd.closest('.output');\n",
       "if (outputEl) {{\n",
       "    x.observe(outputEl, {childList: true});\n",
       "}}\n",
       "\n",
       "                        })                };                });            </script>        </div>"
      ]
     },
     "metadata": {},
     "output_type": "display_data"
    }
   ],
   "source": [
    "fig = px.line(\n",
    "    df.sort_values(by=\"Sample name\"),\n",
    "    x=\"Sample name\", \n",
    "    y=\"percent_of_expected\", \n",
    "    color=\"lineages\", \n",
    "    markers=True,\n",
    ")\n",
    "fig.update_xaxes(categoryorder='category ascending')\n",
    "\n",
    "fig"
   ]
  }
 ],
 "metadata": {
  "kernelspec": {
   "display_name": "Python 3",
   "language": "python",
   "name": "python3"
  },
  "language_info": {
   "codemirror_mode": {
    "name": "ipython",
    "version": 3
   },
   "file_extension": ".py",
   "mimetype": "text/x-python",
   "name": "python",
   "nbconvert_exporter": "python",
   "pygments_lexer": "ipython3",
   "version": "3.10.14"
  }
 },
 "nbformat": 4,
 "nbformat_minor": 2
}
