{
 "cells": [
  {
   "cell_type": "code",
   "execution_count": 1,
   "metadata": {},
   "outputs": [],
   "source": [
    "import pandas as pd\n",
    "from pathlib import Path # type: ignore\n",
    "import sys\n",
    "if (module_path:=str(Path(\".\").absolute().resolve().parent)) not in sys.path:\n",
    "    sys.path.insert(0, module_path)\n",
    "from sample_info import get_stats, p_value_table\n",
    "\n",
    "heatmap_dir = Path(\".\").resolve()\n",
    "outdir = heatmap_dir / \"depth_heatmap_out\""
   ]
  },
  {
   "cell_type": "code",
   "execution_count": 2,
   "metadata": {},
   "outputs": [
    {
     "data": {
      "text/html": [
       "<div>\n",
       "<style scoped>\n",
       "    .dataframe tbody tr th:only-of-type {\n",
       "        vertical-align: middle;\n",
       "    }\n",
       "\n",
       "    .dataframe tbody tr th {\n",
       "        vertical-align: top;\n",
       "    }\n",
       "\n",
       "    .dataframe thead th {\n",
       "        text-align: right;\n",
       "    }\n",
       "</style>\n",
       "<table border=\"1\" class=\"dataframe\">\n",
       "  <thead>\n",
       "    <tr style=\"text-align: right;\">\n",
       "      <th></th>\n",
       "      <th>chrom</th>\n",
       "      <th>start</th>\n",
       "      <th>end</th>\n",
       "      <th>gene</th>\n",
       "      <th>mean_coverage</th>\n",
       "      <th>plate</th>\n",
       "      <th>batch</th>\n",
       "      <th>mixture</th>\n",
       "      <th>read_counts</th>\n",
       "      <th>normalized_mean_coverage</th>\n",
       "      <th>normalized_read_counts</th>\n",
       "    </tr>\n",
       "  </thead>\n",
       "  <tbody>\n",
       "    <tr>\n",
       "      <th>0</th>\n",
       "      <td>MN908947.3</td>\n",
       "      <td>21563</td>\n",
       "      <td>25384</td>\n",
       "      <td>S</td>\n",
       "      <td>8537.23</td>\n",
       "      <td>05-05-23-A41</td>\n",
       "      <td>WB: artic</td>\n",
       "      <td>0adgio1o2o3o4o5</td>\n",
       "      <td>769584.0</td>\n",
       "      <td>11093.304954</td>\n",
       "      <td>7773.575758</td>\n",
       "    </tr>\n",
       "    <tr>\n",
       "      <th>1</th>\n",
       "      <td>MN908947.3</td>\n",
       "      <td>21563</td>\n",
       "      <td>25384</td>\n",
       "      <td>S</td>\n",
       "      <td>8198.01</td>\n",
       "      <td>05-05-23-A41</td>\n",
       "      <td>WB: artic</td>\n",
       "      <td>0adgio1</td>\n",
       "      <td>728720.0</td>\n",
       "      <td>11249.876496</td>\n",
       "      <td>7360.808081</td>\n",
       "    </tr>\n",
       "    <tr>\n",
       "      <th>2</th>\n",
       "      <td>MN908947.3</td>\n",
       "      <td>21563</td>\n",
       "      <td>25384</td>\n",
       "      <td>S</td>\n",
       "      <td>7887.96</td>\n",
       "      <td>05-05-23-A41</td>\n",
       "      <td>WB: artic</td>\n",
       "      <td>o2o3o4o5</td>\n",
       "      <td>754486.0</td>\n",
       "      <td>10454.746675</td>\n",
       "      <td>7621.070707</td>\n",
       "    </tr>\n",
       "    <tr>\n",
       "      <th>3</th>\n",
       "      <td>MN908947.3</td>\n",
       "      <td>21563</td>\n",
       "      <td>25384</td>\n",
       "      <td>S</td>\n",
       "      <td>8681.83</td>\n",
       "      <td>05-05-23-A41</td>\n",
       "      <td>WB: artic</td>\n",
       "      <td>0agio1o2</td>\n",
       "      <td>797075.0</td>\n",
       "      <td>10892.111784</td>\n",
       "      <td>8051.262626</td>\n",
       "    </tr>\n",
       "    <tr>\n",
       "      <th>4</th>\n",
       "      <td>MN908947.3</td>\n",
       "      <td>21563</td>\n",
       "      <td>25384</td>\n",
       "      <td>S</td>\n",
       "      <td>11412.52</td>\n",
       "      <td>05-05-23-A41</td>\n",
       "      <td>WB: artic</td>\n",
       "      <td>0o5o3o4</td>\n",
       "      <td>1028126.0</td>\n",
       "      <td>11100.312608</td>\n",
       "      <td>10385.111111</td>\n",
       "    </tr>\n",
       "  </tbody>\n",
       "</table>\n",
       "</div>"
      ],
      "text/plain": [
       "        chrom  start    end gene  mean_coverage         plate      batch  \\\n",
       "0  MN908947.3  21563  25384    S        8537.23  05-05-23-A41  WB: artic   \n",
       "1  MN908947.3  21563  25384    S        8198.01  05-05-23-A41  WB: artic   \n",
       "2  MN908947.3  21563  25384    S        7887.96  05-05-23-A41  WB: artic   \n",
       "3  MN908947.3  21563  25384    S        8681.83  05-05-23-A41  WB: artic   \n",
       "4  MN908947.3  21563  25384    S       11412.52  05-05-23-A41  WB: artic   \n",
       "\n",
       "           mixture  read_counts  normalized_mean_coverage  \\\n",
       "0  0adgio1o2o3o4o5     769584.0              11093.304954   \n",
       "1          0adgio1     728720.0              11249.876496   \n",
       "2         o2o3o4o5     754486.0              10454.746675   \n",
       "3         0agio1o2     797075.0              10892.111784   \n",
       "4          0o5o3o4    1028126.0              11100.312608   \n",
       "\n",
       "   normalized_read_counts  \n",
       "0             7773.575758  \n",
       "1             7360.808081  \n",
       "2             7621.070707  \n",
       "3             8051.262626  \n",
       "4            10385.111111  "
      ]
     },
     "execution_count": 2,
     "metadata": {},
     "output_type": "execute_result"
    }
   ],
   "source": [
    "s_gene_df = pd.read_csv(outdir / \"S-depth-of-coverage.csv\")\n",
    "s_gene_df = s_gene_df[~s_gene_df[\"mixture\"].isin([\"NFWC\", \"NFWA\"])]\n",
    "s_gene_df.head()"
   ]
  },
  {
   "cell_type": "code",
   "execution_count": 3,
   "metadata": {},
   "outputs": [
    {
     "name": "stdout",
     "output_type": "stream",
     "text": [
      "ANOVA for artic samples comparing mean coverage across batches\n",
      "p-value: 1.6871658192864803e-27\tf-value: 113.03361517999129\n",
      "The mean coverage was significantly different across WB (mean=9133.470789473684, std. dev.=1518.0989388605835), NWRB (mean=5036.284736842107, std. dev.=595.2729261745535), and PWRB (mean=9579.869736842104, std. dev.=1914.7779205891225), as determined by one-way ANOVA (F=113.03361517999129, p=1.6871658192864803e-27<0.01).\n",
      "The mean coverage for NWRB differed significantly from WB with p-value 0.0.\n",
      "The mean coverage for NWRB differed significantly from PWRB with p-value 0.0.\n",
      "No significant difference in mean coverage (p-value=0.376>0.01) was found between PWRB and WB.\n",
      "\n",
      "Tukey's HSD results:\n"
     ]
    },
    {
     "data": {
      "text/html": [
       "<div>\n",
       "<style scoped>\n",
       "    .dataframe tbody tr th:only-of-type {\n",
       "        vertical-align: middle;\n",
       "    }\n",
       "\n",
       "    .dataframe tbody tr th {\n",
       "        vertical-align: top;\n",
       "    }\n",
       "\n",
       "    .dataframe thead th {\n",
       "        text-align: right;\n",
       "    }\n",
       "</style>\n",
       "<table border=\"1\" class=\"dataframe\">\n",
       "  <thead>\n",
       "    <tr style=\"text-align: right;\">\n",
       "      <th></th>\n",
       "      <th>WB: artic</th>\n",
       "      <th>NWRB: artic</th>\n",
       "      <th>PWRB: artic</th>\n",
       "    </tr>\n",
       "  </thead>\n",
       "  <tbody>\n",
       "    <tr>\n",
       "      <th>WB: artic</th>\n",
       "      <td>&lt;NA&gt;</td>\n",
       "      <td>0.0</td>\n",
       "      <td>0.376</td>\n",
       "    </tr>\n",
       "    <tr>\n",
       "      <th>NWRB: artic</th>\n",
       "      <td>0.0</td>\n",
       "      <td>&lt;NA&gt;</td>\n",
       "      <td>0.0</td>\n",
       "    </tr>\n",
       "    <tr>\n",
       "      <th>PWRB: artic</th>\n",
       "      <td>0.376</td>\n",
       "      <td>0.0</td>\n",
       "      <td>&lt;NA&gt;</td>\n",
       "    </tr>\n",
       "  </tbody>\n",
       "</table>\n",
       "</div>"
      ],
      "text/plain": [
       "            WB: artic NWRB: artic PWRB: artic\n",
       "WB: artic        <NA>         0.0       0.376\n",
       "NWRB: artic       0.0        <NA>         0.0\n",
       "PWRB: artic     0.376         0.0        <NA>"
      ]
     },
     "execution_count": 3,
     "metadata": {},
     "output_type": "execute_result"
    }
   ],
   "source": [
    "get_stats(s_gene_df, scheme=\"artic\", value_col=\"mean_coverage\", replace_str=\": artic\")"
   ]
  },
  {
   "cell_type": "code",
   "execution_count": 4,
   "metadata": {},
   "outputs": [
    {
     "name": "stdout",
     "output_type": "stream",
     "text": [
      "ANOVA for varskip samples comparing mean coverage across batches\n",
      "p-value: 2.0683465697617048e-22\tf-value: 80.95909070268559\n",
      "The mean coverage was significantly different across WB: varskip (mean=9994.73552631579, std. dev.=1444.9227643320078), NWRB: varskip (mean=8144.81105263158, std. dev.=1756.8793992109518), and PWRB: varskip (mean=12964.560263157895, std. dev.=1774.9322758811936), as determined by one-way ANOVA (F=80.95909070268559, p=2.0683465697617048e-22<0.01).\n",
      "The mean coverage for NWRB: varskip differed significantly from WB: varskip with p-value 0.0.\n",
      "The mean coverage for NWRB: varskip differed significantly from PWRB: varskip with p-value 0.0.\n",
      "The mean coverage for PWRB: varskip differed significantly from WB: varskip with p-value 0.0.\n",
      "\n",
      "Tukey's HSD results:\n"
     ]
    },
    {
     "data": {
      "text/html": [
       "<div>\n",
       "<style scoped>\n",
       "    .dataframe tbody tr th:only-of-type {\n",
       "        vertical-align: middle;\n",
       "    }\n",
       "\n",
       "    .dataframe tbody tr th {\n",
       "        vertical-align: top;\n",
       "    }\n",
       "\n",
       "    .dataframe thead th {\n",
       "        text-align: right;\n",
       "    }\n",
       "</style>\n",
       "<table border=\"1\" class=\"dataframe\">\n",
       "  <thead>\n",
       "    <tr style=\"text-align: right;\">\n",
       "      <th></th>\n",
       "      <th>WB: varskip</th>\n",
       "      <th>NWRB: varskip</th>\n",
       "      <th>PWRB: varskip</th>\n",
       "    </tr>\n",
       "  </thead>\n",
       "  <tbody>\n",
       "    <tr>\n",
       "      <th>WB: varskip</th>\n",
       "      <td>&lt;NA&gt;</td>\n",
       "      <td>0.0</td>\n",
       "      <td>0.0</td>\n",
       "    </tr>\n",
       "    <tr>\n",
       "      <th>NWRB: varskip</th>\n",
       "      <td>0.0</td>\n",
       "      <td>&lt;NA&gt;</td>\n",
       "      <td>0.0</td>\n",
       "    </tr>\n",
       "    <tr>\n",
       "      <th>PWRB: varskip</th>\n",
       "      <td>0.0</td>\n",
       "      <td>0.0</td>\n",
       "      <td>&lt;NA&gt;</td>\n",
       "    </tr>\n",
       "  </tbody>\n",
       "</table>\n",
       "</div>"
      ],
      "text/plain": [
       "              WB: varskip NWRB: varskip PWRB: varskip\n",
       "WB: varskip          <NA>           0.0           0.0\n",
       "NWRB: varskip         0.0          <NA>           0.0\n",
       "PWRB: varskip         0.0           0.0          <NA>"
      ]
     },
     "execution_count": 4,
     "metadata": {},
     "output_type": "execute_result"
    }
   ],
   "source": [
    "get_stats(s_gene_df, scheme=\"varskip\", value_col=\"mean_coverage\")"
   ]
  },
  {
   "cell_type": "code",
   "execution_count": 5,
   "metadata": {},
   "outputs": [
    {
     "name": "stdout",
     "output_type": "stream",
     "text": [
      "ANOVA for varskip|artic samples comparing mean coverage across batches\n",
      "p-value: 3.832439865748823e-56\tf-value: 103.90526585195887\n",
      "The mean coverage was significantly different across WB: artic (mean=9133.470789473684, std. dev.=1518.0989388605835), WB: varskip (mean=9994.73552631579, std. dev.=1444.9227643320078), NWRB: artic (mean=5036.284736842107, std. dev.=595.2729261745535), NWRB: varskip (mean=8144.81105263158, std. dev.=1756.8793992109518), PWRB: artic (mean=9579.869736842104, std. dev.=1914.7779205891225), and PWRB: varskip (mean=12964.560263157895, std. dev.=1774.9322758811936), as determined by one-way ANOVA (F=103.90526585195887, p=3.832439865748823e-56<0.01).\n",
      "No significant difference in mean coverage (p-value=0.16>0.01) was found between WB: artic and WB: varskip.\n",
      "The mean coverage for NWRB: artic differed significantly from WB: artic with p-value 0.0.\n",
      "The mean coverage for NWRB: artic differed significantly from WB: varskip with p-value 0.0.\n",
      "The mean coverage for NWRB: artic differed significantly from NWRB: varskip with p-value 0.0.\n",
      "The mean coverage for NWRB: artic differed significantly from PWRB: artic with p-value 0.0.\n",
      "The mean coverage for NWRB: artic differed significantly from PWRB: varskip with p-value 0.0.\n",
      "No significant difference in mean coverage (p-value=0.068>0.01) was found between NWRB: varskip and WB: artic.\n",
      "The mean coverage for NWRB: varskip differed significantly from WB: varskip with p-value 0.0.\n",
      "The mean coverage for NWRB: varskip differed significantly from PWRB: artic with p-value 0.001.\n",
      "The mean coverage for NWRB: varskip differed significantly from PWRB: varskip with p-value 0.0.\n",
      "No significant difference in mean coverage (p-value=0.814>0.01) was found between PWRB: artic and WB: artic.\n",
      "No significant difference in mean coverage (p-value=0.856>0.01) was found between PWRB: artic and WB: varskip.\n",
      "The mean coverage for PWRB: artic differed significantly from PWRB: varskip with p-value 0.0.\n",
      "The mean coverage for PWRB: varskip differed significantly from WB: artic with p-value 0.0.\n",
      "The mean coverage for PWRB: varskip differed significantly from WB: varskip with p-value 0.0.\n",
      "\n",
      "Tukey's HSD results:\n"
     ]
    },
    {
     "data": {
      "text/html": [
       "<div>\n",
       "<style scoped>\n",
       "    .dataframe tbody tr th:only-of-type {\n",
       "        vertical-align: middle;\n",
       "    }\n",
       "\n",
       "    .dataframe tbody tr th {\n",
       "        vertical-align: top;\n",
       "    }\n",
       "\n",
       "    .dataframe thead th {\n",
       "        text-align: right;\n",
       "    }\n",
       "</style>\n",
       "<table border=\"1\" class=\"dataframe\">\n",
       "  <thead>\n",
       "    <tr style=\"text-align: right;\">\n",
       "      <th></th>\n",
       "      <th>WB: artic</th>\n",
       "      <th>WB: varskip</th>\n",
       "      <th>NWRB: artic</th>\n",
       "      <th>NWRB: varskip</th>\n",
       "      <th>PWRB: artic</th>\n",
       "      <th>PWRB: varskip</th>\n",
       "    </tr>\n",
       "  </thead>\n",
       "  <tbody>\n",
       "    <tr>\n",
       "      <th>WB: artic</th>\n",
       "      <td>&lt;NA&gt;</td>\n",
       "      <td>0.16</td>\n",
       "      <td>0.0</td>\n",
       "      <td>0.068</td>\n",
       "      <td>0.814</td>\n",
       "      <td>0.0</td>\n",
       "    </tr>\n",
       "    <tr>\n",
       "      <th>WB: varskip</th>\n",
       "      <td>0.16</td>\n",
       "      <td>&lt;NA&gt;</td>\n",
       "      <td>0.0</td>\n",
       "      <td>0.0</td>\n",
       "      <td>0.856</td>\n",
       "      <td>0.0</td>\n",
       "    </tr>\n",
       "    <tr>\n",
       "      <th>NWRB: artic</th>\n",
       "      <td>0.0</td>\n",
       "      <td>0.0</td>\n",
       "      <td>&lt;NA&gt;</td>\n",
       "      <td>0.0</td>\n",
       "      <td>0.0</td>\n",
       "      <td>0.0</td>\n",
       "    </tr>\n",
       "    <tr>\n",
       "      <th>NWRB: varskip</th>\n",
       "      <td>0.068</td>\n",
       "      <td>0.0</td>\n",
       "      <td>0.0</td>\n",
       "      <td>&lt;NA&gt;</td>\n",
       "      <td>0.001</td>\n",
       "      <td>0.0</td>\n",
       "    </tr>\n",
       "    <tr>\n",
       "      <th>PWRB: artic</th>\n",
       "      <td>0.814</td>\n",
       "      <td>0.856</td>\n",
       "      <td>0.0</td>\n",
       "      <td>0.001</td>\n",
       "      <td>&lt;NA&gt;</td>\n",
       "      <td>0.0</td>\n",
       "    </tr>\n",
       "    <tr>\n",
       "      <th>PWRB: varskip</th>\n",
       "      <td>0.0</td>\n",
       "      <td>0.0</td>\n",
       "      <td>0.0</td>\n",
       "      <td>0.0</td>\n",
       "      <td>0.0</td>\n",
       "      <td>&lt;NA&gt;</td>\n",
       "    </tr>\n",
       "  </tbody>\n",
       "</table>\n",
       "</div>"
      ],
      "text/plain": [
       "              WB: artic WB: varskip NWRB: artic NWRB: varskip PWRB: artic  \\\n",
       "WB: artic          <NA>        0.16         0.0         0.068       0.814   \n",
       "WB: varskip        0.16        <NA>         0.0           0.0       0.856   \n",
       "NWRB: artic         0.0         0.0        <NA>           0.0         0.0   \n",
       "NWRB: varskip     0.068         0.0         0.0          <NA>       0.001   \n",
       "PWRB: artic       0.814       0.856         0.0         0.001        <NA>   \n",
       "PWRB: varskip       0.0         0.0         0.0           0.0         0.0   \n",
       "\n",
       "              PWRB: varskip  \n",
       "WB: artic               0.0  \n",
       "WB: varskip             0.0  \n",
       "NWRB: artic             0.0  \n",
       "NWRB: varskip           0.0  \n",
       "PWRB: artic             0.0  \n",
       "PWRB: varskip          <NA>  "
      ]
     },
     "execution_count": 5,
     "metadata": {},
     "output_type": "execute_result"
    }
   ],
   "source": [
    "get_stats(s_gene_df, scheme=\"varskip|artic\", value_col=\"mean_coverage\")"
   ]
  },
  {
   "cell_type": "code",
   "execution_count": 6,
   "metadata": {},
   "outputs": [
    {
     "data": {
      "text/html": [
       "<div>\n",
       "<style scoped>\n",
       "    .dataframe tbody tr th:only-of-type {\n",
       "        vertical-align: middle;\n",
       "    }\n",
       "\n",
       "    .dataframe tbody tr th {\n",
       "        vertical-align: top;\n",
       "    }\n",
       "\n",
       "    .dataframe thead th {\n",
       "        text-align: right;\n",
       "    }\n",
       "</style>\n",
       "<table border=\"1\" class=\"dataframe\">\n",
       "  <thead>\n",
       "    <tr style=\"text-align: right;\">\n",
       "      <th></th>\n",
       "      <th>chrom</th>\n",
       "      <th>start</th>\n",
       "      <th>end</th>\n",
       "      <th>gene</th>\n",
       "      <th>mean_coverage</th>\n",
       "      <th>plate</th>\n",
       "      <th>batch</th>\n",
       "      <th>mixture</th>\n",
       "      <th>read_counts</th>\n",
       "      <th>normalized_mean_coverage</th>\n",
       "      <th>normalized_read_counts</th>\n",
       "    </tr>\n",
       "  </thead>\n",
       "  <tbody>\n",
       "    <tr>\n",
       "      <th>0</th>\n",
       "      <td>MN908947.3</td>\n",
       "      <td>1</td>\n",
       "      <td>29903</td>\n",
       "      <td>whole genome</td>\n",
       "      <td>10277.24</td>\n",
       "      <td>05-05-23-A41</td>\n",
       "      <td>WB: artic</td>\n",
       "      <td>0adgio1o2o3o4o5</td>\n",
       "      <td>769584.0</td>\n",
       "      <td>13354.279715</td>\n",
       "      <td>7773.575758</td>\n",
       "    </tr>\n",
       "    <tr>\n",
       "      <th>1</th>\n",
       "      <td>MN908947.3</td>\n",
       "      <td>1</td>\n",
       "      <td>29903</td>\n",
       "      <td>whole genome</td>\n",
       "      <td>9727.73</td>\n",
       "      <td>05-05-23-A41</td>\n",
       "      <td>WB: artic</td>\n",
       "      <td>0adgio1</td>\n",
       "      <td>728720.0</td>\n",
       "      <td>13349.064112</td>\n",
       "      <td>7360.808081</td>\n",
       "    </tr>\n",
       "    <tr>\n",
       "      <th>2</th>\n",
       "      <td>MN908947.3</td>\n",
       "      <td>1</td>\n",
       "      <td>29903</td>\n",
       "      <td>whole genome</td>\n",
       "      <td>10067.49</td>\n",
       "      <td>05-05-23-A41</td>\n",
       "      <td>WB: artic</td>\n",
       "      <td>o2o3o4o5</td>\n",
       "      <td>754486.0</td>\n",
       "      <td>13343.508031</td>\n",
       "      <td>7621.070707</td>\n",
       "    </tr>\n",
       "    <tr>\n",
       "      <th>3</th>\n",
       "      <td>MN908947.3</td>\n",
       "      <td>1</td>\n",
       "      <td>29903</td>\n",
       "      <td>whole genome</td>\n",
       "      <td>10632.67</td>\n",
       "      <td>05-05-23-A41</td>\n",
       "      <td>WB: artic</td>\n",
       "      <td>0agio1o2</td>\n",
       "      <td>797075.0</td>\n",
       "      <td>13339.610451</td>\n",
       "      <td>8051.262626</td>\n",
       "    </tr>\n",
       "    <tr>\n",
       "      <th>4</th>\n",
       "      <td>MN908947.3</td>\n",
       "      <td>1</td>\n",
       "      <td>29903</td>\n",
       "      <td>whole genome</td>\n",
       "      <td>13735.90</td>\n",
       "      <td>05-05-23-A41</td>\n",
       "      <td>WB: artic</td>\n",
       "      <td>0o5o3o4</td>\n",
       "      <td>1028126.0</td>\n",
       "      <td>13360.132902</td>\n",
       "      <td>10385.111111</td>\n",
       "    </tr>\n",
       "  </tbody>\n",
       "</table>\n",
       "</div>"
      ],
      "text/plain": [
       "        chrom  start    end          gene  mean_coverage         plate  \\\n",
       "0  MN908947.3      1  29903  whole genome       10277.24  05-05-23-A41   \n",
       "1  MN908947.3      1  29903  whole genome        9727.73  05-05-23-A41   \n",
       "2  MN908947.3      1  29903  whole genome       10067.49  05-05-23-A41   \n",
       "3  MN908947.3      1  29903  whole genome       10632.67  05-05-23-A41   \n",
       "4  MN908947.3      1  29903  whole genome       13735.90  05-05-23-A41   \n",
       "\n",
       "       batch          mixture  read_counts  normalized_mean_coverage  \\\n",
       "0  WB: artic  0adgio1o2o3o4o5     769584.0              13354.279715   \n",
       "1  WB: artic          0adgio1     728720.0              13349.064112   \n",
       "2  WB: artic         o2o3o4o5     754486.0              13343.508031   \n",
       "3  WB: artic         0agio1o2     797075.0              13339.610451   \n",
       "4  WB: artic          0o5o3o4    1028126.0              13360.132902   \n",
       "\n",
       "   normalized_read_counts  \n",
       "0             7773.575758  \n",
       "1             7360.808081  \n",
       "2             7621.070707  \n",
       "3             8051.262626  \n",
       "4            10385.111111  "
      ]
     },
     "execution_count": 6,
     "metadata": {},
     "output_type": "execute_result"
    }
   ],
   "source": [
    "whole_genome_df = pd.read_csv(outdir / \"whole-genome-depth-of-coverage.csv\")\n",
    "whole_genome_df = whole_genome_df[~whole_genome_df[\"mixture\"].isin([\"NFWC\", \"NFWA\"])]\n",
    "whole_genome_df.head()"
   ]
  },
  {
   "cell_type": "code",
   "execution_count": 7,
   "metadata": {},
   "outputs": [
    {
     "name": "stdout",
     "output_type": "stream",
     "text": [
      "ANOVA for artic samples comparing mean coverage across batches\n",
      "p-value: 5.320378360222447e-35\tf-value: 174.56129939670765\n",
      "The mean coverage was significantly different across WB: artic (mean=11085.813684210527, std. dev.=1673.6694894193079), NWRB: artic (mean=5985.2063157894745, std. dev.=539.6182620045049), and PWRB: artic (mean=11752.876315789472, std. dev.=1846.2408869689211), as determined by one-way ANOVA (F=174.56129939670765, p=5.320378360222447e-35<0.01).\n",
      "The mean coverage for NWRB: artic differed significantly from WB: artic with p-value 0.0.\n",
      "The mean coverage for NWRB: artic differed significantly from PWRB: artic with p-value 0.0.\n",
      "No significant difference in mean coverage (p-value=0.123>0.01) was found between PWRB: artic and WB: artic.\n",
      "\n",
      "Tukey's HSD results:\n"
     ]
    },
    {
     "data": {
      "text/html": [
       "<div>\n",
       "<style scoped>\n",
       "    .dataframe tbody tr th:only-of-type {\n",
       "        vertical-align: middle;\n",
       "    }\n",
       "\n",
       "    .dataframe tbody tr th {\n",
       "        vertical-align: top;\n",
       "    }\n",
       "\n",
       "    .dataframe thead th {\n",
       "        text-align: right;\n",
       "    }\n",
       "</style>\n",
       "<table border=\"1\" class=\"dataframe\">\n",
       "  <thead>\n",
       "    <tr style=\"text-align: right;\">\n",
       "      <th></th>\n",
       "      <th>WB: artic</th>\n",
       "      <th>NWRB: artic</th>\n",
       "      <th>PWRB: artic</th>\n",
       "    </tr>\n",
       "  </thead>\n",
       "  <tbody>\n",
       "    <tr>\n",
       "      <th>WB: artic</th>\n",
       "      <td>&lt;NA&gt;</td>\n",
       "      <td>0.0</td>\n",
       "      <td>0.123</td>\n",
       "    </tr>\n",
       "    <tr>\n",
       "      <th>NWRB: artic</th>\n",
       "      <td>0.0</td>\n",
       "      <td>&lt;NA&gt;</td>\n",
       "      <td>0.0</td>\n",
       "    </tr>\n",
       "    <tr>\n",
       "      <th>PWRB: artic</th>\n",
       "      <td>0.123</td>\n",
       "      <td>0.0</td>\n",
       "      <td>&lt;NA&gt;</td>\n",
       "    </tr>\n",
       "  </tbody>\n",
       "</table>\n",
       "</div>"
      ],
      "text/plain": [
       "            WB: artic NWRB: artic PWRB: artic\n",
       "WB: artic        <NA>         0.0       0.123\n",
       "NWRB: artic       0.0        <NA>         0.0\n",
       "PWRB: artic     0.123         0.0        <NA>"
      ]
     },
     "execution_count": 7,
     "metadata": {},
     "output_type": "execute_result"
    }
   ],
   "source": [
    "get_stats(whole_genome_df, scheme=\"artic\", value_col=\"mean_coverage\")"
   ]
  },
  {
   "cell_type": "code",
   "execution_count": 8,
   "metadata": {},
   "outputs": [
    {
     "name": "stdout",
     "output_type": "stream",
     "text": [
      "ANOVA for varskip samples comparing mean coverage across batches\n",
      "p-value: 1.874145781625117e-24\tf-value: 93.02858359211771\n",
      "The mean coverage was significantly different across WB: varskip (mean=11814.909736842106, std. dev.=1329.6259730699046), NWRB: varskip (mean=9485.827105263157, std. dev.=1355.1473030951245), and PWRB: varskip (mean=13330.339473684211, std. dev.=995.6526145494597), as determined by one-way ANOVA (F=93.02858359211771, p=1.874145781625117e-24<0.01).\n",
      "The mean coverage for NWRB: varskip differed significantly from WB: varskip with p-value 0.0.\n",
      "The mean coverage for NWRB: varskip differed significantly from PWRB: varskip with p-value 0.0.\n",
      "The mean coverage for PWRB: varskip differed significantly from WB: varskip with p-value 0.0.\n",
      "\n",
      "Tukey's HSD results:\n"
     ]
    },
    {
     "data": {
      "text/html": [
       "<div>\n",
       "<style scoped>\n",
       "    .dataframe tbody tr th:only-of-type {\n",
       "        vertical-align: middle;\n",
       "    }\n",
       "\n",
       "    .dataframe tbody tr th {\n",
       "        vertical-align: top;\n",
       "    }\n",
       "\n",
       "    .dataframe thead th {\n",
       "        text-align: right;\n",
       "    }\n",
       "</style>\n",
       "<table border=\"1\" class=\"dataframe\">\n",
       "  <thead>\n",
       "    <tr style=\"text-align: right;\">\n",
       "      <th></th>\n",
       "      <th>WB: varskip</th>\n",
       "      <th>NWRB: varskip</th>\n",
       "      <th>PWRB: varskip</th>\n",
       "    </tr>\n",
       "  </thead>\n",
       "  <tbody>\n",
       "    <tr>\n",
       "      <th>WB: varskip</th>\n",
       "      <td>&lt;NA&gt;</td>\n",
       "      <td>0.0</td>\n",
       "      <td>0.0</td>\n",
       "    </tr>\n",
       "    <tr>\n",
       "      <th>NWRB: varskip</th>\n",
       "      <td>0.0</td>\n",
       "      <td>&lt;NA&gt;</td>\n",
       "      <td>0.0</td>\n",
       "    </tr>\n",
       "    <tr>\n",
       "      <th>PWRB: varskip</th>\n",
       "      <td>0.0</td>\n",
       "      <td>0.0</td>\n",
       "      <td>&lt;NA&gt;</td>\n",
       "    </tr>\n",
       "  </tbody>\n",
       "</table>\n",
       "</div>"
      ],
      "text/plain": [
       "              WB: varskip NWRB: varskip PWRB: varskip\n",
       "WB: varskip          <NA>           0.0           0.0\n",
       "NWRB: varskip         0.0          <NA>           0.0\n",
       "PWRB: varskip         0.0           0.0          <NA>"
      ]
     },
     "execution_count": 8,
     "metadata": {},
     "output_type": "execute_result"
    }
   ],
   "source": [
    "get_stats(whole_genome_df, scheme=\"varskip\", value_col=\"mean_coverage\")"
   ]
  },
  {
   "cell_type": "code",
   "execution_count": 9,
   "metadata": {},
   "outputs": [],
   "source": [
    "# # not used (but also giving oddly formatted output)\n",
    "# get_stats(whole_genome_df, scheme=\"artic\", value_col=\"read_counts\", simple_tukey=True)"
   ]
  },
  {
   "cell_type": "code",
   "execution_count": 10,
   "metadata": {},
   "outputs": [],
   "source": [
    "# # not used (but also giving oddly formatted output)\n",
    "# get_stats(whole_genome_df, scheme=\"artic|varskip\", value_col=\"read_counts\")"
   ]
  },
  {
   "cell_type": "code",
   "execution_count": 11,
   "metadata": {},
   "outputs": [
    {
     "name": "stdout",
     "output_type": "stream",
     "text": [
      "ANOVA for artic|varskip samples comparing normalized read counts across batches\n",
      "p-value: 8.634622570607919e-63\tf-value: 125.95448239905728\n",
      "The normalized read counts was significantly different across WB: artic (mean=8385.254120148857, std. dev.=1263.1823730738286), WB: varskip (mean=8423.191678520623, std. dev.=948.0581391438403), NWRB: artic (mean=4538.391812865497, std. dev.=405.66544370474986), NWRB: varskip (mean=6777.298008534851, std. dev.=965.708306398919), PWRB: artic (mean=8880.789739500266, std. dev.=1393.9937630553034), and PWRB: varskip (mean=9557.355263157895, std. dev.=705.2477925638851), as determined by one-way ANOVA (F=125.95448239905728, p=8.634622570607919e-63<0.01).\n",
      "No significant difference in normalized read counts (p-value=1.0>0.01) was found between WB: artic and WB: varskip.\n",
      "The normalized read counts for NWRB: artic differed significantly from WB: artic with p-value 0.0.\n",
      "The normalized read counts for NWRB: artic differed significantly from WB: varskip with p-value 0.0.\n",
      "The normalized read counts for NWRB: artic differed significantly from NWRB: varskip with p-value 0.0.\n",
      "The normalized read counts for NWRB: artic differed significantly from PWRB: artic with p-value 0.0.\n",
      "The normalized read counts for NWRB: artic differed significantly from PWRB: varskip with p-value 0.0.\n",
      "The normalized read counts for NWRB: varskip differed significantly from WB: artic with p-value 0.0.\n",
      "The normalized read counts for NWRB: varskip differed significantly from WB: varskip with p-value 0.0.\n",
      "The normalized read counts for NWRB: varskip differed significantly from PWRB: artic with p-value 0.0.\n",
      "The normalized read counts for NWRB: varskip differed significantly from PWRB: varskip with p-value 0.0.\n",
      "No significant difference in normalized read counts (p-value=0.264>0.01) was found between PWRB: artic and WB: artic.\n",
      "No significant difference in normalized read counts (p-value=0.352>0.01) was found between PWRB: artic and WB: varskip.\n",
      "No significant difference in normalized read counts (p-value=0.042>0.01) was found between PWRB: artic and PWRB: varskip.\n",
      "The normalized read counts for PWRB: varskip differed significantly from WB: artic with p-value 0.0.\n",
      "The normalized read counts for PWRB: varskip differed significantly from WB: varskip with p-value 0.0.\n",
      "\n",
      "Tukey's HSD results:\n"
     ]
    },
    {
     "data": {
      "text/html": [
       "<div>\n",
       "<style scoped>\n",
       "    .dataframe tbody tr th:only-of-type {\n",
       "        vertical-align: middle;\n",
       "    }\n",
       "\n",
       "    .dataframe tbody tr th {\n",
       "        vertical-align: top;\n",
       "    }\n",
       "\n",
       "    .dataframe thead th {\n",
       "        text-align: right;\n",
       "    }\n",
       "</style>\n",
       "<table border=\"1\" class=\"dataframe\">\n",
       "  <thead>\n",
       "    <tr style=\"text-align: right;\">\n",
       "      <th></th>\n",
       "      <th>WB: artic</th>\n",
       "      <th>WB: varskip</th>\n",
       "      <th>NWRB: artic</th>\n",
       "      <th>NWRB: varskip</th>\n",
       "      <th>PWRB: artic</th>\n",
       "      <th>PWRB: varskip</th>\n",
       "    </tr>\n",
       "  </thead>\n",
       "  <tbody>\n",
       "    <tr>\n",
       "      <th>WB: artic</th>\n",
       "      <td>&lt;NA&gt;</td>\n",
       "      <td>1.0</td>\n",
       "      <td>0.0</td>\n",
       "      <td>0.0</td>\n",
       "      <td>0.264</td>\n",
       "      <td>0.0</td>\n",
       "    </tr>\n",
       "    <tr>\n",
       "      <th>WB: varskip</th>\n",
       "      <td>1.0</td>\n",
       "      <td>&lt;NA&gt;</td>\n",
       "      <td>0.0</td>\n",
       "      <td>0.0</td>\n",
       "      <td>0.352</td>\n",
       "      <td>0.0</td>\n",
       "    </tr>\n",
       "    <tr>\n",
       "      <th>NWRB: artic</th>\n",
       "      <td>0.0</td>\n",
       "      <td>0.0</td>\n",
       "      <td>&lt;NA&gt;</td>\n",
       "      <td>0.0</td>\n",
       "      <td>0.0</td>\n",
       "      <td>0.0</td>\n",
       "    </tr>\n",
       "    <tr>\n",
       "      <th>NWRB: varskip</th>\n",
       "      <td>0.0</td>\n",
       "      <td>0.0</td>\n",
       "      <td>0.0</td>\n",
       "      <td>&lt;NA&gt;</td>\n",
       "      <td>0.0</td>\n",
       "      <td>0.0</td>\n",
       "    </tr>\n",
       "    <tr>\n",
       "      <th>PWRB: artic</th>\n",
       "      <td>0.264</td>\n",
       "      <td>0.352</td>\n",
       "      <td>0.0</td>\n",
       "      <td>0.0</td>\n",
       "      <td>&lt;NA&gt;</td>\n",
       "      <td>0.042</td>\n",
       "    </tr>\n",
       "    <tr>\n",
       "      <th>PWRB: varskip</th>\n",
       "      <td>0.0</td>\n",
       "      <td>0.0</td>\n",
       "      <td>0.0</td>\n",
       "      <td>0.0</td>\n",
       "      <td>0.042</td>\n",
       "      <td>&lt;NA&gt;</td>\n",
       "    </tr>\n",
       "  </tbody>\n",
       "</table>\n",
       "</div>"
      ],
      "text/plain": [
       "              WB: artic WB: varskip NWRB: artic NWRB: varskip PWRB: artic  \\\n",
       "WB: artic          <NA>         1.0         0.0           0.0       0.264   \n",
       "WB: varskip         1.0        <NA>         0.0           0.0       0.352   \n",
       "NWRB: artic         0.0         0.0        <NA>           0.0         0.0   \n",
       "NWRB: varskip       0.0         0.0         0.0          <NA>         0.0   \n",
       "PWRB: artic       0.264       0.352         0.0           0.0        <NA>   \n",
       "PWRB: varskip       0.0         0.0         0.0           0.0       0.042   \n",
       "\n",
       "              PWRB: varskip  \n",
       "WB: artic               0.0  \n",
       "WB: varskip             0.0  \n",
       "NWRB: artic             0.0  \n",
       "NWRB: varskip           0.0  \n",
       "PWRB: artic           0.042  \n",
       "PWRB: varskip          <NA>  "
      ]
     },
     "execution_count": 11,
     "metadata": {},
     "output_type": "execute_result"
    }
   ],
   "source": [
    "# not used in paper\n",
    "get_stats(whole_genome_df, scheme=\"artic|varskip\", value_col=\"normalized_read_counts\")"
   ]
  },
  {
   "cell_type": "markdown",
   "metadata": {},
   "source": [
    "## Varskip vs Artic comparisons"
   ]
  },
  {
   "cell_type": "code",
   "execution_count": 12,
   "metadata": {},
   "outputs": [
    {
     "data": {
      "text/html": [
       "<div>\n",
       "<style scoped>\n",
       "    .dataframe tbody tr th:only-of-type {\n",
       "        vertical-align: middle;\n",
       "    }\n",
       "\n",
       "    .dataframe tbody tr th {\n",
       "        vertical-align: top;\n",
       "    }\n",
       "\n",
       "    .dataframe thead th {\n",
       "        text-align: right;\n",
       "    }\n",
       "</style>\n",
       "<table border=\"1\" class=\"dataframe\">\n",
       "  <thead>\n",
       "    <tr style=\"text-align: right;\">\n",
       "      <th></th>\n",
       "      <th>chrom</th>\n",
       "      <th>start</th>\n",
       "      <th>end</th>\n",
       "      <th>gene</th>\n",
       "      <th>mean_coverage</th>\n",
       "      <th>plate</th>\n",
       "      <th>batch</th>\n",
       "      <th>mixture</th>\n",
       "      <th>read_counts</th>\n",
       "      <th>normalized_mean_coverage</th>\n",
       "      <th>normalized_read_counts</th>\n",
       "      <th>primer</th>\n",
       "    </tr>\n",
       "  </thead>\n",
       "  <tbody>\n",
       "    <tr>\n",
       "      <th>0</th>\n",
       "      <td>MN908947.3</td>\n",
       "      <td>1</td>\n",
       "      <td>29903</td>\n",
       "      <td>whole genome</td>\n",
       "      <td>10277.24</td>\n",
       "      <td>05-05-23-A41</td>\n",
       "      <td>WB: artic</td>\n",
       "      <td>0adgio1o2o3o4o5</td>\n",
       "      <td>769584.0</td>\n",
       "      <td>13354.279715</td>\n",
       "      <td>7773.575758</td>\n",
       "      <td>artic</td>\n",
       "    </tr>\n",
       "    <tr>\n",
       "      <th>1</th>\n",
       "      <td>MN908947.3</td>\n",
       "      <td>1</td>\n",
       "      <td>29903</td>\n",
       "      <td>whole genome</td>\n",
       "      <td>9727.73</td>\n",
       "      <td>05-05-23-A41</td>\n",
       "      <td>WB: artic</td>\n",
       "      <td>0adgio1</td>\n",
       "      <td>728720.0</td>\n",
       "      <td>13349.064112</td>\n",
       "      <td>7360.808081</td>\n",
       "      <td>artic</td>\n",
       "    </tr>\n",
       "    <tr>\n",
       "      <th>2</th>\n",
       "      <td>MN908947.3</td>\n",
       "      <td>1</td>\n",
       "      <td>29903</td>\n",
       "      <td>whole genome</td>\n",
       "      <td>10067.49</td>\n",
       "      <td>05-05-23-A41</td>\n",
       "      <td>WB: artic</td>\n",
       "      <td>o2o3o4o5</td>\n",
       "      <td>754486.0</td>\n",
       "      <td>13343.508031</td>\n",
       "      <td>7621.070707</td>\n",
       "      <td>artic</td>\n",
       "    </tr>\n",
       "    <tr>\n",
       "      <th>3</th>\n",
       "      <td>MN908947.3</td>\n",
       "      <td>1</td>\n",
       "      <td>29903</td>\n",
       "      <td>whole genome</td>\n",
       "      <td>10632.67</td>\n",
       "      <td>05-05-23-A41</td>\n",
       "      <td>WB: artic</td>\n",
       "      <td>0agio1o2</td>\n",
       "      <td>797075.0</td>\n",
       "      <td>13339.610451</td>\n",
       "      <td>8051.262626</td>\n",
       "      <td>artic</td>\n",
       "    </tr>\n",
       "    <tr>\n",
       "      <th>4</th>\n",
       "      <td>MN908947.3</td>\n",
       "      <td>1</td>\n",
       "      <td>29903</td>\n",
       "      <td>whole genome</td>\n",
       "      <td>13735.90</td>\n",
       "      <td>05-05-23-A41</td>\n",
       "      <td>WB: artic</td>\n",
       "      <td>0o5o3o4</td>\n",
       "      <td>1028126.0</td>\n",
       "      <td>13360.132902</td>\n",
       "      <td>10385.111111</td>\n",
       "      <td>artic</td>\n",
       "    </tr>\n",
       "    <tr>\n",
       "      <th>...</th>\n",
       "      <td>...</td>\n",
       "      <td>...</td>\n",
       "      <td>...</td>\n",
       "      <td>...</td>\n",
       "      <td>...</td>\n",
       "      <td>...</td>\n",
       "      <td>...</td>\n",
       "      <td>...</td>\n",
       "      <td>...</td>\n",
       "      <td>...</td>\n",
       "      <td>...</td>\n",
       "      <td>...</td>\n",
       "    </tr>\n",
       "    <tr>\n",
       "      <th>223</th>\n",
       "      <td>MN908947.3</td>\n",
       "      <td>1</td>\n",
       "      <td>29903</td>\n",
       "      <td>whole genome</td>\n",
       "      <td>12103.44</td>\n",
       "      <td>07-12-23-V2A</td>\n",
       "      <td>PWRB: varskip</td>\n",
       "      <td>i-2</td>\n",
       "      <td>642371.0</td>\n",
       "      <td>18841.821938</td>\n",
       "      <td>8680.689189</td>\n",
       "      <td>varskip</td>\n",
       "    </tr>\n",
       "    <tr>\n",
       "      <th>224</th>\n",
       "      <td>MN908947.3</td>\n",
       "      <td>1</td>\n",
       "      <td>29903</td>\n",
       "      <td>whole genome</td>\n",
       "      <td>13919.07</td>\n",
       "      <td>07-12-23-V2A</td>\n",
       "      <td>PWRB: varskip</td>\n",
       "      <td>d-2</td>\n",
       "      <td>741515.0</td>\n",
       "      <td>18771.123983</td>\n",
       "      <td>10020.472973</td>\n",
       "      <td>varskip</td>\n",
       "    </tr>\n",
       "    <tr>\n",
       "      <th>225</th>\n",
       "      <td>MN908947.3</td>\n",
       "      <td>1</td>\n",
       "      <td>29903</td>\n",
       "      <td>whole genome</td>\n",
       "      <td>13623.84</td>\n",
       "      <td>07-12-23-V2A</td>\n",
       "      <td>PWRB: varskip</td>\n",
       "      <td>o1-2</td>\n",
       "      <td>720699.0</td>\n",
       "      <td>18903.647709</td>\n",
       "      <td>9739.175676</td>\n",
       "      <td>varskip</td>\n",
       "    </tr>\n",
       "    <tr>\n",
       "      <th>226</th>\n",
       "      <td>MN908947.3</td>\n",
       "      <td>1</td>\n",
       "      <td>29903</td>\n",
       "      <td>whole genome</td>\n",
       "      <td>13115.62</td>\n",
       "      <td>07-12-23-V2A</td>\n",
       "      <td>PWRB: varskip</td>\n",
       "      <td>o2-3</td>\n",
       "      <td>695223.0</td>\n",
       "      <td>18865.342487</td>\n",
       "      <td>9394.905405</td>\n",
       "      <td>varskip</td>\n",
       "    </tr>\n",
       "    <tr>\n",
       "      <th>227</th>\n",
       "      <td>MN908947.3</td>\n",
       "      <td>1</td>\n",
       "      <td>29903</td>\n",
       "      <td>whole genome</td>\n",
       "      <td>11692.39</td>\n",
       "      <td>07-12-23-V2A</td>\n",
       "      <td>PWRB: varskip</td>\n",
       "      <td>o3-4</td>\n",
       "      <td>622205.0</td>\n",
       "      <td>18791.861203</td>\n",
       "      <td>8408.175676</td>\n",
       "      <td>varskip</td>\n",
       "    </tr>\n",
       "  </tbody>\n",
       "</table>\n",
       "<p>228 rows × 12 columns</p>\n",
       "</div>"
      ],
      "text/plain": [
       "          chrom  start    end          gene  mean_coverage         plate  \\\n",
       "0    MN908947.3      1  29903  whole genome       10277.24  05-05-23-A41   \n",
       "1    MN908947.3      1  29903  whole genome        9727.73  05-05-23-A41   \n",
       "2    MN908947.3      1  29903  whole genome       10067.49  05-05-23-A41   \n",
       "3    MN908947.3      1  29903  whole genome       10632.67  05-05-23-A41   \n",
       "4    MN908947.3      1  29903  whole genome       13735.90  05-05-23-A41   \n",
       "..          ...    ...    ...           ...            ...           ...   \n",
       "223  MN908947.3      1  29903  whole genome       12103.44  07-12-23-V2A   \n",
       "224  MN908947.3      1  29903  whole genome       13919.07  07-12-23-V2A   \n",
       "225  MN908947.3      1  29903  whole genome       13623.84  07-12-23-V2A   \n",
       "226  MN908947.3      1  29903  whole genome       13115.62  07-12-23-V2A   \n",
       "227  MN908947.3      1  29903  whole genome       11692.39  07-12-23-V2A   \n",
       "\n",
       "             batch          mixture  read_counts  normalized_mean_coverage  \\\n",
       "0        WB: artic  0adgio1o2o3o4o5     769584.0              13354.279715   \n",
       "1        WB: artic          0adgio1     728720.0              13349.064112   \n",
       "2        WB: artic         o2o3o4o5     754486.0              13343.508031   \n",
       "3        WB: artic         0agio1o2     797075.0              13339.610451   \n",
       "4        WB: artic          0o5o3o4    1028126.0              13360.132902   \n",
       "..             ...              ...          ...                       ...   \n",
       "223  PWRB: varskip              i-2     642371.0              18841.821938   \n",
       "224  PWRB: varskip              d-2     741515.0              18771.123983   \n",
       "225  PWRB: varskip             o1-2     720699.0              18903.647709   \n",
       "226  PWRB: varskip             o2-3     695223.0              18865.342487   \n",
       "227  PWRB: varskip             o3-4     622205.0              18791.861203   \n",
       "\n",
       "     normalized_read_counts   primer  \n",
       "0               7773.575758    artic  \n",
       "1               7360.808081    artic  \n",
       "2               7621.070707    artic  \n",
       "3               8051.262626    artic  \n",
       "4              10385.111111    artic  \n",
       "..                      ...      ...  \n",
       "223             8680.689189  varskip  \n",
       "224            10020.472973  varskip  \n",
       "225             9739.175676  varskip  \n",
       "226             9394.905405  varskip  \n",
       "227             8408.175676  varskip  \n",
       "\n",
       "[228 rows x 12 columns]"
      ]
     },
     "execution_count": 12,
     "metadata": {},
     "output_type": "execute_result"
    }
   ],
   "source": [
    "whole_genome_df[\"primer\"] = whole_genome_df[\"batch\"].apply(lambda x: x.split(\": \")[1])\n",
    "s_gene_df[\"primer\"] = s_gene_df[\"batch\"].apply(lambda x: x.split(\": \")[1])\n",
    "whole_genome_df"
   ]
  },
  {
   "cell_type": "code",
   "execution_count": 13,
   "metadata": {},
   "outputs": [
    {
     "name": "stdout",
     "output_type": "stream",
     "text": [
      "Shapiro-Wilk test for normality of mean coverage for WB: artic batch\n",
      "p-value: 0.43959220531377474\tW = 0.9717077671519408\n",
      "The mean coverage was not normally distributed across Shapiro-Wilk test for normality of mean coverage for WB: varskip batch\n",
      "p-value: 0.637574659571028\tW = 0.9777497001828147\n",
      "The mean coverage was not normally distributed across T-test for WB samples comparing mean coverage across two batches\n",
      "p-value: 0.038899771401127034\tt(74): -2.1026278469623394\n",
      "The mean coverage was not significantly different across WB: artic (mean=11085.813684210527, std. dev.=1673.6694894193079), and WB: varskip (mean=11814.909736842106, std. dev.=1329.6259730699046), as determined by t-test (t(74)=-2.1026278469623394, p=0.038899771401127034<0.01).\n",
      "\n",
      "Shapiro-Wilk test for normality of mean coverage for NWRB: artic batch\n",
      "p-value: 0.9900843842323952\tW = 0.9913311678373944\n",
      "The mean coverage was not normally distributed across Shapiro-Wilk test for normality of mean coverage for NWRB: varskip batch\n",
      "p-value: 0.06816934613943643\tW = 0.9464747469760496\n",
      "The mean coverage was not normally distributed across T-test for NWRB samples comparing mean coverage across two batches\n",
      "p-value: 8.354685625263744e-24\tt(74): -14.79417126601802\n",
      "The mean coverage was significantly different across NWRB: artic (mean=5985.2063157894745, std. dev.=539.6182620045049), and NWRB: varskip (mean=9485.827105263157, std. dev.=1355.1473030951245), as determined by t-test (t(74)=-14.79417126601802, p=8.354685625263744e-24<0.01).\n",
      "\n",
      "Shapiro-Wilk test for normality of mean coverage for PWRB: varskip batch\n",
      "p-value: 0.6831415673546473\tW = 0.9790319020220954\n",
      "The mean coverage was not normally distributed across T-test for PWRB samples comparing mean coverage across two batches\n",
      "p-value: 1.4955597502398023e-05\tt(74): -4.635837052310932\n",
      "The mean coverage was significantly different across PWRB: artic (mean=11752.876315789472, std. dev.=1846.2408869689211), and PWRB: varskip (mean=13330.339473684211, std. dev.=995.6526145494597), as determined by t-test (t(74)=-4.635837052310932, p=1.4955597502398023e-05<0.01).\n",
      "\n",
      "Shapiro-Wilk test for normality of mean coverage for varskip batch\n",
      "p-value: 0.0773017901113756\tW = 0.9794793812376846\n",
      "The mean coverage was not normally distributed across T-test for None samples comparing mean coverage across two batches\n",
      "p-value: 2.6558388311566644e-08\tt(226): -5.765431909861195\n",
      "The mean coverage was significantly different across artic (mean=9607.965438596491, std. dev.=2970.4741321538113), and varskip (mean=11543.692105263159, std. dev.=2006.7524880896337), as determined by t-test (t(226)=-5.765431909861195, p=2.6558388311566644e-08<0.01).\n"
     ]
    }
   ],
   "source": [
    "get_stats(whole_genome_df, \"WB\", \"mean_coverage\", replace_str=None)\n",
    "print()\n",
    "get_stats(whole_genome_df, \"NWRB\", \"mean_coverage\", replace_str=None)\n",
    "print()\n",
    "get_stats(whole_genome_df, \"PWRB\", \"mean_coverage\", replace_str=None)\n",
    "print()\n",
    "# same as above but all 3 backgrounds\n",
    "get_stats(whole_genome_df, scheme=None, value_col=\"mean_coverage\", replace_str=\"None\", batch_col=\"primer\")"
   ]
  },
  {
   "cell_type": "code",
   "execution_count": 14,
   "metadata": {},
   "outputs": [
    {
     "name": "stdout",
     "output_type": "stream",
     "text": [
      "Shapiro-Wilk test for normality of mean coverage for WB: artic batch\n",
      "p-value: 0.2671330373316919\tW = 0.9646116578617553\n",
      "The mean coverage was not normally distributed across Shapiro-Wilk test for normality of mean coverage for WB: varskip batch\n",
      "p-value: 0.639837052640521\tW = 0.9778136659252941\n",
      "The mean coverage was not normally distributed across T-test for WB samples comparing mean coverage across two batches\n",
      "p-value: 0.01341909934457707\tt(74): -2.5332393675958067\n",
      "The mean coverage was not significantly different across WB: artic (mean=9133.470789473684, std. dev.=1518.0989388605835), and WB: varskip (mean=9994.73552631579, std. dev.=1444.9227643320078), as determined by t-test (t(74)=-2.5332393675958067, p=0.01341909934457707<0.01).\n",
      "\n",
      "Shapiro-Wilk test for normality of mean coverage for NWRB: artic batch\n",
      "p-value: 0.9211525296979172\tW = 0.9865809997599354\n",
      "The mean coverage was not normally distributed across T-test for NWRB samples comparing mean coverage across two batches\n",
      "p-value: 5.36372348032105e-16\tt(74): -10.330125146843544\n",
      "The mean coverage was significantly different across NWRB: artic (mean=5036.284736842107, std. dev.=595.2729261745535), and NWRB: varskip (mean=8144.81105263158, std. dev.=1756.8793992109518), as determined by t-test (t(74)=-10.330125146843544, p=5.36372348032105e-16<0.01).\n",
      "\n",
      "Shapiro-Wilk test for normality of mean coverage for PWRB: varskip batch\n",
      "p-value: 0.5154881166726897\tW = 0.9741677715683142\n",
      "The mean coverage was not normally distributed across T-test for PWRB samples comparing mean coverage across two batches\n",
      "p-value: 1.3448414819442171e-11\tt(74): -7.991380173565308\n",
      "The mean coverage was significantly different across PWRB: artic (mean=9579.869736842104, std. dev.=1914.7779205891225), and PWRB: varskip (mean=12964.560263157895, std. dev.=1774.9322758811936), as determined by t-test (t(74)=-7.991380173565308, p=1.3448414819442171e-11<0.01).\n",
      "\n",
      "Shapiro-Wilk test for normality of mean coverage for varskip batch\n",
      "p-value: 0.01684482067718984\tW = 0.9719251165590556\n",
      "The mean coverage was not normally distributed across T-test for None samples comparing mean coverage across two batches\n",
      "p-value: 6.101644722099893e-12\tt(226): -7.262003604653458\n",
      "The mean coverage was significantly different across artic (mean=7916.541754385965, std. dev.=2507.8447877171507), and varskip (mean=10368.035614035087, std. dev.=2588.8303545772546), as determined by t-test (t(226)=-7.262003604653458, p=6.101644722099893e-12<0.01).\n"
     ]
    }
   ],
   "source": [
    "get_stats(s_gene_df, \"WB\", \"mean_coverage\", replace_str=None)\n",
    "print()\n",
    "get_stats(s_gene_df, \"NWRB\", \"mean_coverage\", replace_str=None)\n",
    "print()\n",
    "get_stats(s_gene_df, \"PWRB\", \"mean_coverage\", replace_str=None)\n",
    "print()\n",
    "# same as above but all 3 backgrounds\n",
    "get_stats(s_gene_df, scheme=None, value_col=\"mean_coverage\", replace_str=\"None\", batch_col=\"primer\")"
   ]
  },
  {
   "cell_type": "code",
   "execution_count": 15,
   "metadata": {},
   "outputs": [
    {
     "data": {
      "text/html": [
       "<div>\n",
       "<style scoped>\n",
       "    .dataframe tbody tr th:only-of-type {\n",
       "        vertical-align: middle;\n",
       "    }\n",
       "\n",
       "    .dataframe tbody tr th {\n",
       "        vertical-align: top;\n",
       "    }\n",
       "\n",
       "    .dataframe thead th {\n",
       "        text-align: right;\n",
       "    }\n",
       "</style>\n",
       "<table border=\"1\" class=\"dataframe\">\n",
       "  <thead>\n",
       "    <tr style=\"text-align: right;\">\n",
       "      <th></th>\n",
       "      <th>chrom</th>\n",
       "      <th>start</th>\n",
       "      <th>end</th>\n",
       "      <th>gene</th>\n",
       "      <th>mean_coverage</th>\n",
       "      <th>plate</th>\n",
       "      <th>batch</th>\n",
       "      <th>mixture</th>\n",
       "      <th>read_counts</th>\n",
       "      <th>normalized_mean_coverage</th>\n",
       "      <th>normalized_read_counts</th>\n",
       "      <th>primer</th>\n",
       "    </tr>\n",
       "  </thead>\n",
       "  <tbody>\n",
       "    <tr>\n",
       "      <th>0</th>\n",
       "      <td>MN908947.3</td>\n",
       "      <td>1</td>\n",
       "      <td>29903</td>\n",
       "      <td>whole genome</td>\n",
       "      <td>10277.24</td>\n",
       "      <td>05-05-23-A41</td>\n",
       "      <td>WB: artic</td>\n",
       "      <td>0adgio1o2o3o4o5</td>\n",
       "      <td>769584.0</td>\n",
       "      <td>13354.279715</td>\n",
       "      <td>7773.575758</td>\n",
       "      <td>artic</td>\n",
       "    </tr>\n",
       "    <tr>\n",
       "      <th>1</th>\n",
       "      <td>MN908947.3</td>\n",
       "      <td>1</td>\n",
       "      <td>29903</td>\n",
       "      <td>whole genome</td>\n",
       "      <td>9727.73</td>\n",
       "      <td>05-05-23-A41</td>\n",
       "      <td>WB: artic</td>\n",
       "      <td>0adgio1</td>\n",
       "      <td>728720.0</td>\n",
       "      <td>13349.064112</td>\n",
       "      <td>7360.808081</td>\n",
       "      <td>artic</td>\n",
       "    </tr>\n",
       "    <tr>\n",
       "      <th>2</th>\n",
       "      <td>MN908947.3</td>\n",
       "      <td>1</td>\n",
       "      <td>29903</td>\n",
       "      <td>whole genome</td>\n",
       "      <td>10067.49</td>\n",
       "      <td>05-05-23-A41</td>\n",
       "      <td>WB: artic</td>\n",
       "      <td>o2o3o4o5</td>\n",
       "      <td>754486.0</td>\n",
       "      <td>13343.508031</td>\n",
       "      <td>7621.070707</td>\n",
       "      <td>artic</td>\n",
       "    </tr>\n",
       "    <tr>\n",
       "      <th>3</th>\n",
       "      <td>MN908947.3</td>\n",
       "      <td>1</td>\n",
       "      <td>29903</td>\n",
       "      <td>whole genome</td>\n",
       "      <td>10632.67</td>\n",
       "      <td>05-05-23-A41</td>\n",
       "      <td>WB: artic</td>\n",
       "      <td>0agio1o2</td>\n",
       "      <td>797075.0</td>\n",
       "      <td>13339.610451</td>\n",
       "      <td>8051.262626</td>\n",
       "      <td>artic</td>\n",
       "    </tr>\n",
       "    <tr>\n",
       "      <th>4</th>\n",
       "      <td>MN908947.3</td>\n",
       "      <td>1</td>\n",
       "      <td>29903</td>\n",
       "      <td>whole genome</td>\n",
       "      <td>13735.90</td>\n",
       "      <td>05-05-23-A41</td>\n",
       "      <td>WB: artic</td>\n",
       "      <td>0o5o3o4</td>\n",
       "      <td>1028126.0</td>\n",
       "      <td>13360.132902</td>\n",
       "      <td>10385.111111</td>\n",
       "      <td>artic</td>\n",
       "    </tr>\n",
       "    <tr>\n",
       "      <th>...</th>\n",
       "      <td>...</td>\n",
       "      <td>...</td>\n",
       "      <td>...</td>\n",
       "      <td>...</td>\n",
       "      <td>...</td>\n",
       "      <td>...</td>\n",
       "      <td>...</td>\n",
       "      <td>...</td>\n",
       "      <td>...</td>\n",
       "      <td>...</td>\n",
       "      <td>...</td>\n",
       "      <td>...</td>\n",
       "    </tr>\n",
       "    <tr>\n",
       "      <th>223</th>\n",
       "      <td>MN908947.3</td>\n",
       "      <td>1</td>\n",
       "      <td>29903</td>\n",
       "      <td>whole genome</td>\n",
       "      <td>12103.44</td>\n",
       "      <td>07-12-23-V2A</td>\n",
       "      <td>PWRB: varskip</td>\n",
       "      <td>i-2</td>\n",
       "      <td>642371.0</td>\n",
       "      <td>18841.821938</td>\n",
       "      <td>8680.689189</td>\n",
       "      <td>varskip</td>\n",
       "    </tr>\n",
       "    <tr>\n",
       "      <th>224</th>\n",
       "      <td>MN908947.3</td>\n",
       "      <td>1</td>\n",
       "      <td>29903</td>\n",
       "      <td>whole genome</td>\n",
       "      <td>13919.07</td>\n",
       "      <td>07-12-23-V2A</td>\n",
       "      <td>PWRB: varskip</td>\n",
       "      <td>d-2</td>\n",
       "      <td>741515.0</td>\n",
       "      <td>18771.123983</td>\n",
       "      <td>10020.472973</td>\n",
       "      <td>varskip</td>\n",
       "    </tr>\n",
       "    <tr>\n",
       "      <th>225</th>\n",
       "      <td>MN908947.3</td>\n",
       "      <td>1</td>\n",
       "      <td>29903</td>\n",
       "      <td>whole genome</td>\n",
       "      <td>13623.84</td>\n",
       "      <td>07-12-23-V2A</td>\n",
       "      <td>PWRB: varskip</td>\n",
       "      <td>o1-2</td>\n",
       "      <td>720699.0</td>\n",
       "      <td>18903.647709</td>\n",
       "      <td>9739.175676</td>\n",
       "      <td>varskip</td>\n",
       "    </tr>\n",
       "    <tr>\n",
       "      <th>226</th>\n",
       "      <td>MN908947.3</td>\n",
       "      <td>1</td>\n",
       "      <td>29903</td>\n",
       "      <td>whole genome</td>\n",
       "      <td>13115.62</td>\n",
       "      <td>07-12-23-V2A</td>\n",
       "      <td>PWRB: varskip</td>\n",
       "      <td>o2-3</td>\n",
       "      <td>695223.0</td>\n",
       "      <td>18865.342487</td>\n",
       "      <td>9394.905405</td>\n",
       "      <td>varskip</td>\n",
       "    </tr>\n",
       "    <tr>\n",
       "      <th>227</th>\n",
       "      <td>MN908947.3</td>\n",
       "      <td>1</td>\n",
       "      <td>29903</td>\n",
       "      <td>whole genome</td>\n",
       "      <td>11692.39</td>\n",
       "      <td>07-12-23-V2A</td>\n",
       "      <td>PWRB: varskip</td>\n",
       "      <td>o3-4</td>\n",
       "      <td>622205.0</td>\n",
       "      <td>18791.861203</td>\n",
       "      <td>8408.175676</td>\n",
       "      <td>varskip</td>\n",
       "    </tr>\n",
       "  </tbody>\n",
       "</table>\n",
       "<p>228 rows × 12 columns</p>\n",
       "</div>"
      ],
      "text/plain": [
       "          chrom  start    end          gene  mean_coverage         plate  \\\n",
       "0    MN908947.3      1  29903  whole genome       10277.24  05-05-23-A41   \n",
       "1    MN908947.3      1  29903  whole genome        9727.73  05-05-23-A41   \n",
       "2    MN908947.3      1  29903  whole genome       10067.49  05-05-23-A41   \n",
       "3    MN908947.3      1  29903  whole genome       10632.67  05-05-23-A41   \n",
       "4    MN908947.3      1  29903  whole genome       13735.90  05-05-23-A41   \n",
       "..          ...    ...    ...           ...            ...           ...   \n",
       "223  MN908947.3      1  29903  whole genome       12103.44  07-12-23-V2A   \n",
       "224  MN908947.3      1  29903  whole genome       13919.07  07-12-23-V2A   \n",
       "225  MN908947.3      1  29903  whole genome       13623.84  07-12-23-V2A   \n",
       "226  MN908947.3      1  29903  whole genome       13115.62  07-12-23-V2A   \n",
       "227  MN908947.3      1  29903  whole genome       11692.39  07-12-23-V2A   \n",
       "\n",
       "             batch          mixture  read_counts  normalized_mean_coverage  \\\n",
       "0        WB: artic  0adgio1o2o3o4o5     769584.0              13354.279715   \n",
       "1        WB: artic          0adgio1     728720.0              13349.064112   \n",
       "2        WB: artic         o2o3o4o5     754486.0              13343.508031   \n",
       "3        WB: artic         0agio1o2     797075.0              13339.610451   \n",
       "4        WB: artic          0o5o3o4    1028126.0              13360.132902   \n",
       "..             ...              ...          ...                       ...   \n",
       "223  PWRB: varskip              i-2     642371.0              18841.821938   \n",
       "224  PWRB: varskip              d-2     741515.0              18771.123983   \n",
       "225  PWRB: varskip             o1-2     720699.0              18903.647709   \n",
       "226  PWRB: varskip             o2-3     695223.0              18865.342487   \n",
       "227  PWRB: varskip             o3-4     622205.0              18791.861203   \n",
       "\n",
       "     normalized_read_counts   primer  \n",
       "0               7773.575758    artic  \n",
       "1               7360.808081    artic  \n",
       "2               7621.070707    artic  \n",
       "3               8051.262626    artic  \n",
       "4              10385.111111    artic  \n",
       "..                      ...      ...  \n",
       "223             8680.689189  varskip  \n",
       "224            10020.472973  varskip  \n",
       "225             9739.175676  varskip  \n",
       "226             9394.905405  varskip  \n",
       "227             8408.175676  varskip  \n",
       "\n",
       "[228 rows x 12 columns]"
      ]
     },
     "execution_count": 15,
     "metadata": {},
     "output_type": "execute_result"
    }
   ],
   "source": [
    "whole_genome_df"
   ]
  },
  {
   "cell_type": "code",
   "execution_count": 16,
   "metadata": {},
   "outputs": [
    {
     "data": {
      "text/html": [
       "<div>\n",
       "<style scoped>\n",
       "    .dataframe tbody tr th:only-of-type {\n",
       "        vertical-align: middle;\n",
       "    }\n",
       "\n",
       "    .dataframe tbody tr th {\n",
       "        vertical-align: top;\n",
       "    }\n",
       "\n",
       "    .dataframe thead th {\n",
       "        text-align: right;\n",
       "    }\n",
       "</style>\n",
       "<table border=\"1\" class=\"dataframe\">\n",
       "  <thead>\n",
       "    <tr style=\"text-align: right;\">\n",
       "      <th></th>\n",
       "      <th>chrom</th>\n",
       "      <th>start</th>\n",
       "      <th>end</th>\n",
       "      <th>gene</th>\n",
       "      <th>mean_coverage</th>\n",
       "      <th>plate</th>\n",
       "      <th>batch</th>\n",
       "      <th>mixture</th>\n",
       "      <th>read_counts</th>\n",
       "      <th>normalized_mean_coverage</th>\n",
       "      <th>normalized_read_counts</th>\n",
       "    </tr>\n",
       "  </thead>\n",
       "  <tbody>\n",
       "    <tr>\n",
       "      <th>0</th>\n",
       "      <td>MN908947.3</td>\n",
       "      <td>1</td>\n",
       "      <td>265</td>\n",
       "      <td>5'UTR</td>\n",
       "      <td>11450.99</td>\n",
       "      <td>05-05-23-A41</td>\n",
       "      <td>WB: artic</td>\n",
       "      <td>0adgio1o2o3o4o5</td>\n",
       "      <td>769584.0</td>\n",
       "      <td>14879.454355</td>\n",
       "      <td>7773.575758</td>\n",
       "    </tr>\n",
       "    <tr>\n",
       "      <th>2</th>\n",
       "      <td>MN908947.3</td>\n",
       "      <td>266</td>\n",
       "      <td>13468</td>\n",
       "      <td>ORF1a</td>\n",
       "      <td>9907.51</td>\n",
       "      <td>05-05-23-A41</td>\n",
       "      <td>WB: artic</td>\n",
       "      <td>0adgio1o2o3o4o5</td>\n",
       "      <td>769584.0</td>\n",
       "      <td>12873.851327</td>\n",
       "      <td>7773.575758</td>\n",
       "    </tr>\n",
       "    <tr>\n",
       "      <th>3</th>\n",
       "      <td>MN908947.3</td>\n",
       "      <td>13468</td>\n",
       "      <td>21555</td>\n",
       "      <td>ORF1b</td>\n",
       "      <td>11301.66</td>\n",
       "      <td>05-05-23-A41</td>\n",
       "      <td>WB: artic</td>\n",
       "      <td>0adgio1o2o3o4o5</td>\n",
       "      <td>769584.0</td>\n",
       "      <td>14685.414458</td>\n",
       "      <td>7773.575758</td>\n",
       "    </tr>\n",
       "    <tr>\n",
       "      <th>4</th>\n",
       "      <td>MN908947.3</td>\n",
       "      <td>21563</td>\n",
       "      <td>25384</td>\n",
       "      <td>S</td>\n",
       "      <td>8537.23</td>\n",
       "      <td>05-05-23-A41</td>\n",
       "      <td>WB: artic</td>\n",
       "      <td>0adgio1o2o3o4o5</td>\n",
       "      <td>769584.0</td>\n",
       "      <td>11093.304954</td>\n",
       "      <td>7773.575758</td>\n",
       "    </tr>\n",
       "    <tr>\n",
       "      <th>5</th>\n",
       "      <td>MN908947.3</td>\n",
       "      <td>25393</td>\n",
       "      <td>26220</td>\n",
       "      <td>ORF3a</td>\n",
       "      <td>10165.79</td>\n",
       "      <td>05-05-23-A41</td>\n",
       "      <td>WB: artic</td>\n",
       "      <td>0adgio1o2o3o4o5</td>\n",
       "      <td>769584.0</td>\n",
       "      <td>13209.461215</td>\n",
       "      <td>7773.575758</td>\n",
       "    </tr>\n",
       "    <tr>\n",
       "      <th>...</th>\n",
       "      <td>...</td>\n",
       "      <td>...</td>\n",
       "      <td>...</td>\n",
       "      <td>...</td>\n",
       "      <td>...</td>\n",
       "      <td>...</td>\n",
       "      <td>...</td>\n",
       "      <td>...</td>\n",
       "      <td>...</td>\n",
       "      <td>...</td>\n",
       "      <td>...</td>\n",
       "    </tr>\n",
       "    <tr>\n",
       "      <th>3187</th>\n",
       "      <td>MN908947.3</td>\n",
       "      <td>27394</td>\n",
       "      <td>27759</td>\n",
       "      <td>ORF7a</td>\n",
       "      <td>17715.32</td>\n",
       "      <td>07-12-23-V2A</td>\n",
       "      <td>PWRB: varskip</td>\n",
       "      <td>o3-4</td>\n",
       "      <td>622205.0</td>\n",
       "      <td>28471.838060</td>\n",
       "      <td>8408.175676</td>\n",
       "    </tr>\n",
       "    <tr>\n",
       "      <th>3188</th>\n",
       "      <td>MN908947.3</td>\n",
       "      <td>27894</td>\n",
       "      <td>28259</td>\n",
       "      <td>ORF8</td>\n",
       "      <td>27890.75</td>\n",
       "      <td>07-12-23-V2A</td>\n",
       "      <td>PWRB: varskip</td>\n",
       "      <td>o3-4</td>\n",
       "      <td>622205.0</td>\n",
       "      <td>44825.660353</td>\n",
       "      <td>8408.175676</td>\n",
       "    </tr>\n",
       "    <tr>\n",
       "      <th>3189</th>\n",
       "      <td>MN908947.3</td>\n",
       "      <td>28274</td>\n",
       "      <td>29533</td>\n",
       "      <td>N</td>\n",
       "      <td>30552.43</td>\n",
       "      <td>07-12-23-V2A</td>\n",
       "      <td>PWRB: varskip</td>\n",
       "      <td>o3-4</td>\n",
       "      <td>622205.0</td>\n",
       "      <td>49103.478757</td>\n",
       "      <td>8408.175676</td>\n",
       "    </tr>\n",
       "    <tr>\n",
       "      <th>3190</th>\n",
       "      <td>MN908947.3</td>\n",
       "      <td>29558</td>\n",
       "      <td>29674</td>\n",
       "      <td>ORF10</td>\n",
       "      <td>37202.25</td>\n",
       "      <td>07-12-23-V2A</td>\n",
       "      <td>PWRB: varskip</td>\n",
       "      <td>o3-4</td>\n",
       "      <td>622205.0</td>\n",
       "      <td>59790.985286</td>\n",
       "      <td>8408.175676</td>\n",
       "    </tr>\n",
       "    <tr>\n",
       "      <th>3191</th>\n",
       "      <td>MN908947.3</td>\n",
       "      <td>29675</td>\n",
       "      <td>29903</td>\n",
       "      <td>3'UTR</td>\n",
       "      <td>20142.21</td>\n",
       "      <td>07-12-23-V2A</td>\n",
       "      <td>PWRB: varskip</td>\n",
       "      <td>o3-4</td>\n",
       "      <td>622205.0</td>\n",
       "      <td>32372.304948</td>\n",
       "      <td>8408.175676</td>\n",
       "    </tr>\n",
       "  </tbody>\n",
       "</table>\n",
       "<p>2964 rows × 11 columns</p>\n",
       "</div>"
      ],
      "text/plain": [
       "           chrom  start    end   gene  mean_coverage         plate  \\\n",
       "0     MN908947.3      1    265  5'UTR       11450.99  05-05-23-A41   \n",
       "2     MN908947.3    266  13468  ORF1a        9907.51  05-05-23-A41   \n",
       "3     MN908947.3  13468  21555  ORF1b       11301.66  05-05-23-A41   \n",
       "4     MN908947.3  21563  25384      S        8537.23  05-05-23-A41   \n",
       "5     MN908947.3  25393  26220  ORF3a       10165.79  05-05-23-A41   \n",
       "...          ...    ...    ...    ...            ...           ...   \n",
       "3187  MN908947.3  27394  27759  ORF7a       17715.32  07-12-23-V2A   \n",
       "3188  MN908947.3  27894  28259   ORF8       27890.75  07-12-23-V2A   \n",
       "3189  MN908947.3  28274  29533      N       30552.43  07-12-23-V2A   \n",
       "3190  MN908947.3  29558  29674  ORF10       37202.25  07-12-23-V2A   \n",
       "3191  MN908947.3  29675  29903  3'UTR       20142.21  07-12-23-V2A   \n",
       "\n",
       "              batch          mixture  read_counts  normalized_mean_coverage  \\\n",
       "0         WB: artic  0adgio1o2o3o4o5     769584.0              14879.454355   \n",
       "2         WB: artic  0adgio1o2o3o4o5     769584.0              12873.851327   \n",
       "3         WB: artic  0adgio1o2o3o4o5     769584.0              14685.414458   \n",
       "4         WB: artic  0adgio1o2o3o4o5     769584.0              11093.304954   \n",
       "5         WB: artic  0adgio1o2o3o4o5     769584.0              13209.461215   \n",
       "...             ...              ...          ...                       ...   \n",
       "3187  PWRB: varskip             o3-4     622205.0              28471.838060   \n",
       "3188  PWRB: varskip             o3-4     622205.0              44825.660353   \n",
       "3189  PWRB: varskip             o3-4     622205.0              49103.478757   \n",
       "3190  PWRB: varskip             o3-4     622205.0              59790.985286   \n",
       "3191  PWRB: varskip             o3-4     622205.0              32372.304948   \n",
       "\n",
       "      normalized_read_counts  \n",
       "0                7773.575758  \n",
       "2                7773.575758  \n",
       "3                7773.575758  \n",
       "4                7773.575758  \n",
       "5                7773.575758  \n",
       "...                      ...  \n",
       "3187             8408.175676  \n",
       "3188             8408.175676  \n",
       "3189             8408.175676  \n",
       "3190             8408.175676  \n",
       "3191             8408.175676  \n",
       "\n",
       "[2964 rows x 11 columns]"
      ]
     },
     "execution_count": 16,
     "metadata": {},
     "output_type": "execute_result"
    }
   ],
   "source": [
    "gene_df = pd.read_csv(outdir / \"gene_depth_df.tsv\", sep=\"\\t\")\n",
    "gene_df = gene_df[gene_df[\"gene\"]!=\"whole genome\"]\n",
    "gene_df"
   ]
  },
  {
   "cell_type": "code",
   "execution_count": 17,
   "metadata": {},
   "outputs": [
    {
     "name": "stdout",
     "output_type": "stream",
     "text": [
      "ANOVA for None samples comparing mean coverage across batches\n",
      "p-value: 0.0\tf-value: 230.82551947733344\n",
      "The mean coverage was significantly different across 5'UTR (mean=4352.6708771929825, std. dev.=5523.024196585334), ORF1a (mean=9931.37850877193, std. dev.=2579.2415278927597), ORF1b (mean=10884.631271929826, std. dev.=2675.4746167042535), S (mean=9142.288684210525, std. dev.=2824.203084900613), ORF3a (mean=11073.771578947368, std. dev.=3767.8419883043416), E (mean=11504.392807017543, std. dev.=4145.521194360869), M (mean=15523.410087719298, std. dev.=6337.568922249558), ORF6 (mean=17142.26802631579, std. dev.=5752.015296692167), ORF7a (mean=11462.758859649122, std. dev.=3677.395899317324), ORF8 (mean=16545.281315789474, std. dev.=6879.637048087659), N (mean=16507.94065789474, std. dev.=4988.400734424781), ORF10 (mean=6189.460438596491, std. dev.=6209.545392126046), and 3'UTR (mean=2205.926052631579, std. dev.=2574.84115199797), as determined by one-way ANOVA (F=230.82551947733344, p=0.0<0.01).\n",
      "i\tbatch\tmean\tstdev\n",
      "0\t5'UTR\t4352.6708771929825\t5523.024196585334\n",
      "1\tORF1a\t9931.37850877193\t2579.2415278927597\n",
      "2\tORF1b\t10884.631271929824\t2675.4746167042535\n",
      "3\tS\t9142.288684210527\t2824.203084900613\n",
      "4\tORF3a\t11073.771578947368\t3767.8419883043416\n",
      "5\tE\t11504.392807017544\t4145.521194360869\n",
      "6\tM\t15523.410087719298\t6337.568922249558\n",
      "7\tORF6\t17142.26802631579\t5752.015296692166\n",
      "8\tORF7a\t11462.758859649122\t3677.3958993173246\n",
      "9\tORF8\t16545.281315789474\t6879.637048087659\n",
      "10\tN\t16507.94065789474\t4988.400734424781\n",
      "11\tORF10\t6189.460438596491\t6209.545392126046\n",
      "12\t3'UTR\t2205.926052631579\t2574.8411519979704\n",
      "\n",
      "Tukey's HSD Pairwise Group Comparisons (95.0% Confidence Interval)\n",
      "Comparison  Statistic  p-value  Lower CI  Upper CI\n",
      " (0 - 1)  -5578.708     0.000 -7039.889 -4117.526\n",
      " (0 - 2)  -6531.960     0.000 -7993.142 -5070.779\n",
      " (0 - 3)  -4789.618     0.000 -6250.799 -3328.436\n",
      " (0 - 4)  -6721.101     0.000 -8182.282 -5259.919\n",
      " (0 - 5)  -7151.722     0.000 -8612.903 -5690.540\n",
      " (0 - 6) -11170.739     0.000 -12631.921 -9709.558\n",
      " (0 - 7) -12789.597     0.000 -14250.779-11328.416\n",
      " (0 - 8)  -7110.088     0.000 -8571.269 -5648.906\n",
      " (0 - 9) -12192.610     0.000 -13653.792-10731.429\n",
      " (0 - 10) -12155.270     0.000 -13616.451-10694.088\n",
      " (0 - 11)  -1836.790     0.002 -3297.971  -375.608\n",
      " (0 - 12)   2146.745     0.000   685.563  3607.926\n",
      " (1 - 0)   5578.708     0.000  4117.526  7039.889\n",
      " (1 - 2)   -953.253     0.619 -2414.434   507.929\n",
      " (1 - 3)    789.090     0.855  -672.092  2250.271\n",
      " (1 - 4)  -1142.393     0.315 -2603.575   318.788\n",
      " (1 - 5)  -1573.014     0.022 -3034.196  -111.833\n",
      " (1 - 6)  -5592.032     0.000 -7053.213 -4130.850\n",
      " (1 - 7)  -7210.890     0.000 -8672.071 -5749.708\n",
      " (1 - 8)  -1531.380     0.030 -2992.562   -70.199\n",
      " (1 - 9)  -6613.903     0.000 -8075.084 -5152.721\n",
      " (1 - 10)  -6576.562     0.000 -8037.744 -5115.381\n",
      " (1 - 11)   3741.918     0.000  2280.737  5203.100\n",
      " (1 - 12)   7725.452     0.000  6264.271  9186.634\n",
      " (2 - 0)   6531.960     0.000  5070.779  7993.142\n",
      " (2 - 1)    953.253     0.619  -507.929  2414.434\n",
      " (2 - 3)   1742.343     0.005   281.161  3203.524\n",
      " (2 - 4)   -189.140     1.000 -1650.322  1272.041\n",
      " (2 - 5)   -619.762     0.974 -2080.943   841.420\n",
      " (2 - 6)  -4638.779     0.000 -6099.960 -3177.597\n",
      " (2 - 7)  -6257.637     0.000 -7718.818 -4796.455\n",
      " (2 - 8)   -578.128     0.985 -2039.309   883.054\n",
      " (2 - 9)  -5660.650     0.000 -7121.832 -4199.469\n",
      " (2 - 10)  -5623.309     0.000 -7084.491 -4162.128\n",
      " (2 - 11)   4695.171     0.000  3233.989  6156.352\n",
      " (2 - 12)   8678.705     0.000  7217.524 10139.887\n",
      " (3 - 0)   4789.618     0.000  3328.436  6250.799\n",
      " (3 - 1)   -789.090     0.855 -2250.271   672.092\n",
      " (3 - 2)  -1742.343     0.005 -3203.524  -281.161\n",
      " (3 - 4)  -1931.483     0.001 -3392.664  -470.301\n",
      " (3 - 5)  -2362.104     0.000 -3823.286  -900.923\n",
      " (3 - 6)  -6381.121     0.000 -7842.303 -4919.940\n",
      " (3 - 7)  -7999.979     0.000 -9461.161 -6538.798\n",
      " (3 - 8)  -2320.470     0.000 -3781.652  -859.289\n",
      " (3 - 9)  -7402.993     0.000 -8864.174 -5941.811\n",
      " (3 - 10)  -7365.652     0.000 -8826.833 -5904.470\n",
      " (3 - 11)   2952.828     0.000  1491.647  4414.010\n",
      " (3 - 12)   6936.363     0.000  5475.181  8397.544\n",
      " (4 - 0)   6721.101     0.000  5259.919  8182.282\n",
      " (4 - 1)   1142.393     0.315  -318.788  2603.575\n",
      " (4 - 2)    189.140     1.000 -1272.041  1650.322\n",
      " (4 - 3)   1931.483     0.001   470.301  3392.664\n",
      " (4 - 5)   -430.621     0.999 -1891.803  1030.560\n",
      " (4 - 6)  -4449.639     0.000 -5910.820 -2988.457\n",
      " (4 - 7)  -6068.496     0.000 -7529.678 -4607.315\n",
      " (4 - 8)   -388.987     1.000 -1850.169  1072.194\n",
      " (4 - 9)  -5471.510     0.000 -6932.691 -4010.328\n",
      " (4 - 10)  -5434.169     0.000 -6895.351 -3972.988\n",
      " (4 - 11)   4884.311     0.000  3423.130  6345.493\n",
      " (4 - 12)   8867.846     0.000  7406.664 10329.027\n",
      " (5 - 0)   7151.722     0.000  5690.540  8612.903\n",
      " (5 - 1)   1573.014     0.022   111.833  3034.196\n",
      " (5 - 2)    619.762     0.974  -841.420  2080.943\n",
      " (5 - 3)   2362.104     0.000   900.923  3823.286\n",
      " (5 - 4)    430.621     0.999 -1030.560  1891.803\n",
      " (5 - 6)  -4019.017     0.000 -5480.199 -2557.836\n",
      " (5 - 7)  -5637.875     0.000 -7099.057 -4176.694\n",
      " (5 - 8)     41.634     1.000 -1419.548  1502.815\n",
      " (5 - 9)  -5040.889     0.000 -6502.070 -3579.707\n",
      " (5 - 10)  -5003.548     0.000 -6464.729 -3542.366\n",
      " (5 - 11)   5314.932     0.000  3853.751  6776.114\n",
      " (5 - 12)   9298.467     0.000  7837.285 10759.648\n",
      " (6 - 0)  11170.739     0.000  9709.558 12631.921\n",
      " (6 - 1)   5592.032     0.000  4130.850  7053.213\n",
      " (6 - 2)   4638.779     0.000  3177.597  6099.960\n",
      " (6 - 3)   6381.121     0.000  4919.940  7842.303\n",
      " (6 - 4)   4449.639     0.000  2988.457  5910.820\n",
      " (6 - 5)   4019.017     0.000  2557.836  5480.199\n",
      " (6 - 7)  -1618.858     0.015 -3080.039  -157.676\n",
      " (6 - 8)   4060.651     0.000  2599.470  5521.833\n",
      " (6 - 9)  -1021.871     0.503 -2483.053   439.310\n",
      " (6 - 10)   -984.531     0.566 -2445.712   476.651\n",
      " (6 - 11)   9333.950     0.000  7872.768 10795.131\n",
      " (6 - 12)  13317.484     0.000 11856.303 14778.666\n",
      " (7 - 0)  12789.597     0.000 11328.416 14250.779\n",
      " (7 - 1)   7210.890     0.000  5749.708  8672.071\n",
      " (7 - 2)   6257.637     0.000  4796.455  7718.818\n",
      " (7 - 3)   7999.979     0.000  6538.798  9461.161\n",
      " (7 - 4)   6068.496     0.000  4607.315  7529.678\n",
      " (7 - 5)   5637.875     0.000  4176.694  7099.057\n",
      " (7 - 6)   1618.858     0.015   157.676  3080.039\n",
      " (7 - 8)   5679.509     0.000  4218.328  7140.691\n",
      " (7 - 9)    596.987     0.980  -864.195  2058.168\n",
      " (7 - 10)    634.327     0.968  -826.854  2095.509\n",
      " (7 - 11)  10952.808     0.000  9491.626 12413.989\n",
      " (7 - 12)  14936.342     0.000 13475.160 16397.523\n",
      " (8 - 0)   7110.088     0.000  5648.906  8571.269\n",
      " (8 - 1)   1531.380     0.030    70.199  2992.562\n",
      " (8 - 2)    578.128     0.985  -883.054  2039.309\n",
      " (8 - 3)   2320.470     0.000   859.289  3781.652\n",
      " (8 - 4)    388.987     1.000 -1072.194  1850.169\n",
      " (8 - 5)    -41.634     1.000 -1502.815  1419.548\n",
      " (8 - 6)  -4060.651     0.000 -5521.833 -2599.470\n",
      " (8 - 7)  -5679.509     0.000 -7140.691 -4218.328\n",
      " (8 - 9)  -5082.522     0.000 -6543.704 -3621.341\n",
      " (8 - 10)  -5045.182     0.000 -6506.363 -3584.000\n",
      " (8 - 11)   5273.298     0.000  3812.117  6734.480\n",
      " (8 - 12)   9256.833     0.000  7795.651 10718.014\n",
      " (9 - 0)  12192.610     0.000 10731.429 13653.792\n",
      " (9 - 1)   6613.903     0.000  5152.721  8075.084\n",
      " (9 - 2)   5660.650     0.000  4199.469  7121.832\n",
      " (9 - 3)   7402.993     0.000  5941.811  8864.174\n",
      " (9 - 4)   5471.510     0.000  4010.328  6932.691\n",
      " (9 - 5)   5040.889     0.000  3579.707  6502.070\n",
      " (9 - 6)   1021.871     0.503  -439.310  2483.053\n",
      " (9 - 7)   -596.987     0.980 -2058.168   864.195\n",
      " (9 - 8)   5082.522     0.000  3621.341  6543.704\n",
      " (9 - 10)     37.341     1.000 -1423.841  1498.522\n",
      " (9 - 11)  10355.821     0.000  8894.639 11817.002\n",
      " (9 - 12)  14339.355     0.000 12878.174 15800.537\n",
      " (10 - 0)  12155.270     0.000 10694.088 13616.451\n",
      " (10 - 1)   6576.562     0.000  5115.381  8037.744\n",
      " (10 - 2)   5623.309     0.000  4162.128  7084.491\n",
      " (10 - 3)   7365.652     0.000  5904.470  8826.833\n",
      " (10 - 4)   5434.169     0.000  3972.988  6895.351\n",
      " (10 - 5)   5003.548     0.000  3542.366  6464.729\n",
      " (10 - 6)    984.531     0.566  -476.651  2445.712\n",
      " (10 - 7)   -634.327     0.968 -2095.509   826.854\n",
      " (10 - 8)   5045.182     0.000  3584.000  6506.363\n",
      " (10 - 9)    -37.341     1.000 -1498.522  1423.841\n",
      " (10 - 11)  10318.480     0.000  8857.299 11779.662\n",
      " (10 - 12)  14302.015     0.000 12840.833 15763.196\n",
      " (11 - 0)   1836.790     0.002   375.608  3297.971\n",
      " (11 - 1)  -3741.918     0.000 -5203.100 -2280.737\n",
      " (11 - 2)  -4695.171     0.000 -6156.352 -3233.989\n",
      " (11 - 3)  -2952.828     0.000 -4414.010 -1491.647\n",
      " (11 - 4)  -4884.311     0.000 -6345.493 -3423.130\n",
      " (11 - 5)  -5314.932     0.000 -6776.114 -3853.751\n",
      " (11 - 6)  -9333.950     0.000 -10795.131 -7872.768\n",
      " (11 - 7) -10952.808     0.000 -12413.989 -9491.626\n",
      " (11 - 8)  -5273.298     0.000 -6734.480 -3812.117\n",
      " (11 - 9) -10355.821     0.000 -11817.002 -8894.639\n",
      " (11 - 10) -10318.480     0.000 -11779.662 -8857.299\n",
      " (11 - 12)   3983.534     0.000  2522.353  5444.716\n",
      " (12 - 0)  -2146.745     0.000 -3607.926  -685.563\n",
      " (12 - 1)  -7725.452     0.000 -9186.634 -6264.271\n",
      " (12 - 2)  -8678.705     0.000 -10139.887 -7217.524\n",
      " (12 - 3)  -6936.363     0.000 -8397.544 -5475.181\n",
      " (12 - 4)  -8867.846     0.000 -10329.027 -7406.664\n",
      " (12 - 5)  -9298.467     0.000 -10759.648 -7837.285\n",
      " (12 - 6) -13317.484     0.000 -14778.666-11856.303\n",
      " (12 - 7) -14936.342     0.000 -16397.523-13475.160\n",
      " (12 - 8)  -9256.833     0.000 -10718.014 -7795.651\n",
      " (12 - 9) -14339.355     0.000 -15800.537-12878.174\n",
      " (12 - 10) -14302.015     0.000 -15763.196-12840.833\n",
      " (12 - 11)  -3983.534     0.000 -5444.716 -2522.353\n",
      "\n"
     ]
    }
   ],
   "source": [
    "get_stats(gene_df, scheme=None, value_col=\"mean_coverage\", batch_col=\"gene\", replace_str=None, simple_tukey=True)"
   ]
  },
  {
   "cell_type": "code",
   "execution_count": 21,
   "metadata": {},
   "outputs": [
    {
     "data": {
      "application/vnd.plotly.v1+json": {
       "config": {
        "plotlyServerURL": "https://plot.ly"
       },
       "data": [
        {
         "cells": {
          "align": "center",
          "fill": {
           "color": [
            [
             "white",
             "white",
             "white",
             "white",
             "white",
             "white",
             "white",
             "white",
             "white",
             "white",
             "white",
             "white",
             "white"
            ],
            [
             "black",
             "white",
             "white",
             "white",
             "white",
             "white",
             "white",
             "white",
             "white",
             "white",
             "white",
             "white",
             "white"
            ],
            [
             "white",
             "black",
             "lightgrey",
             "lightgrey",
             "lightgrey",
             "lightgrey",
             "white",
             "white",
             "lightgrey",
             "white",
             "white",
             "white",
             "white"
            ],
            [
             "white",
             "lightgrey",
             "black",
             "white",
             "lightgrey",
             "lightgrey",
             "white",
             "white",
             "lightgrey",
             "white",
             "white",
             "white",
             "white"
            ],
            [
             "white",
             "lightgrey",
             "white",
             "black",
             "white",
             "white",
             "white",
             "white",
             "white",
             "white",
             "white",
             "white",
             "white"
            ],
            [
             "white",
             "lightgrey",
             "lightgrey",
             "white",
             "black",
             "lightgrey",
             "white",
             "white",
             "lightgrey",
             "white",
             "white",
             "white",
             "white"
            ],
            [
             "white",
             "lightgrey",
             "lightgrey",
             "white",
             "lightgrey",
             "black",
             "white",
             "white",
             "lightgrey",
             "white",
             "white",
             "white",
             "white"
            ],
            [
             "white",
             "white",
             "white",
             "white",
             "white",
             "white",
             "black",
             "lightgrey",
             "white",
             "lightgrey",
             "lightgrey",
             "white",
             "white"
            ],
            [
             "white",
             "white",
             "white",
             "white",
             "white",
             "white",
             "lightgrey",
             "black",
             "white",
             "lightgrey",
             "lightgrey",
             "white",
             "white"
            ],
            [
             "white",
             "lightgrey",
             "lightgrey",
             "white",
             "lightgrey",
             "lightgrey",
             "white",
             "white",
             "black",
             "white",
             "white",
             "white",
             "white"
            ],
            [
             "white",
             "white",
             "white",
             "white",
             "white",
             "white",
             "lightgrey",
             "lightgrey",
             "white",
             "black",
             "lightgrey",
             "white",
             "white"
            ],
            [
             "white",
             "white",
             "white",
             "white",
             "white",
             "white",
             "lightgrey",
             "lightgrey",
             "white",
             "lightgrey",
             "black",
             "white",
             "white"
            ],
            [
             "white",
             "white",
             "white",
             "white",
             "white",
             "white",
             "white",
             "white",
             "white",
             "white",
             "white",
             "black",
             "white"
            ],
            [
             "white",
             "white",
             "white",
             "white",
             "white",
             "white",
             "white",
             "white",
             "white",
             "white",
             "white",
             "white",
             "black"
            ]
           ]
          },
          "font": {
           "color": "black",
           "size": 14
          },
          "height": 30,
          "line": {
           "color": "black"
          },
          "values": [
           [
            "5'UTR",
            "ORF1a",
            "ORF1b",
            "S",
            "ORF3a",
            "E",
            "M",
            "ORF6",
            "ORF7a",
            "ORF8",
            "N",
            "ORF10",
            "3'UTR"
           ],
           [
            null,
            0,
            0,
            0,
            0,
            0,
            0,
            0,
            0,
            0,
            0,
            0.002,
            0
           ],
           [
            0,
            null,
            0.619,
            0.855,
            0.315,
            0.022,
            0,
            0,
            0.03,
            0,
            0,
            0,
            0
           ],
           [
            0,
            0.619,
            null,
            0.005,
            1,
            0.974,
            0,
            0,
            0.985,
            0,
            0,
            0,
            0
           ],
           [
            0,
            0.855,
            0.005,
            null,
            0.001,
            0,
            0,
            0,
            0,
            0,
            0,
            0,
            0
           ],
           [
            0,
            0.315,
            1,
            0.001,
            null,
            0.999,
            0,
            0,
            1,
            0,
            0,
            0,
            0
           ],
           [
            0,
            0.022,
            0.974,
            0,
            0.999,
            null,
            0,
            0,
            1,
            0,
            0,
            0,
            0
           ],
           [
            0,
            0,
            0,
            0,
            0,
            0,
            null,
            0.015,
            0,
            0.503,
            0.566,
            0,
            0
           ],
           [
            0,
            0,
            0,
            0,
            0,
            0,
            0.015,
            null,
            0,
            0.98,
            0.968,
            0,
            0
           ],
           [
            0,
            0.03,
            0.985,
            0,
            1,
            1,
            0,
            0,
            null,
            0,
            0,
            0,
            0
           ],
           [
            0,
            0,
            0,
            0,
            0,
            0,
            0.503,
            0.98,
            0,
            null,
            1,
            0,
            0
           ],
           [
            0,
            0,
            0,
            0,
            0,
            0,
            0.566,
            0.968,
            0,
            1,
            null,
            0,
            0
           ],
           [
            0.002,
            0,
            0,
            0,
            0,
            0,
            0,
            0,
            0,
            0,
            0,
            null,
            0
           ],
           [
            0,
            0,
            0,
            0,
            0,
            0,
            0,
            0,
            0,
            0,
            0,
            0,
            null
           ]
          ]
         },
         "header": {
          "align": "center",
          "fill": {
           "color": "white"
          },
          "font": {
           "color": "black",
           "size": 14
          },
          "line": {
           "color": "black"
          },
          "values": [
           "",
           "5'UTR",
           "ORF1a",
           "ORF1b",
           "S",
           "ORF3a",
           "E",
           "M",
           "ORF6",
           "ORF7a",
           "ORF8",
           "N",
           "ORF10",
           "3'UTR"
          ]
         },
         "type": "table"
        }
       ],
       "layout": {
        "height": 600,
        "template": {
         "data": {
          "bar": [
           {
            "error_x": {
             "color": "#2a3f5f"
            },
            "error_y": {
             "color": "#2a3f5f"
            },
            "marker": {
             "line": {
              "color": "#E5ECF6",
              "width": 0.5
             },
             "pattern": {
              "fillmode": "overlay",
              "size": 10,
              "solidity": 0.2
             }
            },
            "type": "bar"
           }
          ],
          "barpolar": [
           {
            "marker": {
             "line": {
              "color": "#E5ECF6",
              "width": 0.5
             },
             "pattern": {
              "fillmode": "overlay",
              "size": 10,
              "solidity": 0.2
             }
            },
            "type": "barpolar"
           }
          ],
          "carpet": [
           {
            "aaxis": {
             "endlinecolor": "#2a3f5f",
             "gridcolor": "white",
             "linecolor": "white",
             "minorgridcolor": "white",
             "startlinecolor": "#2a3f5f"
            },
            "baxis": {
             "endlinecolor": "#2a3f5f",
             "gridcolor": "white",
             "linecolor": "white",
             "minorgridcolor": "white",
             "startlinecolor": "#2a3f5f"
            },
            "type": "carpet"
           }
          ],
          "choropleth": [
           {
            "colorbar": {
             "outlinewidth": 0,
             "ticks": ""
            },
            "type": "choropleth"
           }
          ],
          "contour": [
           {
            "colorbar": {
             "outlinewidth": 0,
             "ticks": ""
            },
            "colorscale": [
             [
              0,
              "#0d0887"
             ],
             [
              0.1111111111111111,
              "#46039f"
             ],
             [
              0.2222222222222222,
              "#7201a8"
             ],
             [
              0.3333333333333333,
              "#9c179e"
             ],
             [
              0.4444444444444444,
              "#bd3786"
             ],
             [
              0.5555555555555556,
              "#d8576b"
             ],
             [
              0.6666666666666666,
              "#ed7953"
             ],
             [
              0.7777777777777778,
              "#fb9f3a"
             ],
             [
              0.8888888888888888,
              "#fdca26"
             ],
             [
              1,
              "#f0f921"
             ]
            ],
            "type": "contour"
           }
          ],
          "contourcarpet": [
           {
            "colorbar": {
             "outlinewidth": 0,
             "ticks": ""
            },
            "type": "contourcarpet"
           }
          ],
          "heatmap": [
           {
            "colorbar": {
             "outlinewidth": 0,
             "ticks": ""
            },
            "colorscale": [
             [
              0,
              "#0d0887"
             ],
             [
              0.1111111111111111,
              "#46039f"
             ],
             [
              0.2222222222222222,
              "#7201a8"
             ],
             [
              0.3333333333333333,
              "#9c179e"
             ],
             [
              0.4444444444444444,
              "#bd3786"
             ],
             [
              0.5555555555555556,
              "#d8576b"
             ],
             [
              0.6666666666666666,
              "#ed7953"
             ],
             [
              0.7777777777777778,
              "#fb9f3a"
             ],
             [
              0.8888888888888888,
              "#fdca26"
             ],
             [
              1,
              "#f0f921"
             ]
            ],
            "type": "heatmap"
           }
          ],
          "heatmapgl": [
           {
            "colorbar": {
             "outlinewidth": 0,
             "ticks": ""
            },
            "colorscale": [
             [
              0,
              "#0d0887"
             ],
             [
              0.1111111111111111,
              "#46039f"
             ],
             [
              0.2222222222222222,
              "#7201a8"
             ],
             [
              0.3333333333333333,
              "#9c179e"
             ],
             [
              0.4444444444444444,
              "#bd3786"
             ],
             [
              0.5555555555555556,
              "#d8576b"
             ],
             [
              0.6666666666666666,
              "#ed7953"
             ],
             [
              0.7777777777777778,
              "#fb9f3a"
             ],
             [
              0.8888888888888888,
              "#fdca26"
             ],
             [
              1,
              "#f0f921"
             ]
            ],
            "type": "heatmapgl"
           }
          ],
          "histogram": [
           {
            "marker": {
             "pattern": {
              "fillmode": "overlay",
              "size": 10,
              "solidity": 0.2
             }
            },
            "type": "histogram"
           }
          ],
          "histogram2d": [
           {
            "colorbar": {
             "outlinewidth": 0,
             "ticks": ""
            },
            "colorscale": [
             [
              0,
              "#0d0887"
             ],
             [
              0.1111111111111111,
              "#46039f"
             ],
             [
              0.2222222222222222,
              "#7201a8"
             ],
             [
              0.3333333333333333,
              "#9c179e"
             ],
             [
              0.4444444444444444,
              "#bd3786"
             ],
             [
              0.5555555555555556,
              "#d8576b"
             ],
             [
              0.6666666666666666,
              "#ed7953"
             ],
             [
              0.7777777777777778,
              "#fb9f3a"
             ],
             [
              0.8888888888888888,
              "#fdca26"
             ],
             [
              1,
              "#f0f921"
             ]
            ],
            "type": "histogram2d"
           }
          ],
          "histogram2dcontour": [
           {
            "colorbar": {
             "outlinewidth": 0,
             "ticks": ""
            },
            "colorscale": [
             [
              0,
              "#0d0887"
             ],
             [
              0.1111111111111111,
              "#46039f"
             ],
             [
              0.2222222222222222,
              "#7201a8"
             ],
             [
              0.3333333333333333,
              "#9c179e"
             ],
             [
              0.4444444444444444,
              "#bd3786"
             ],
             [
              0.5555555555555556,
              "#d8576b"
             ],
             [
              0.6666666666666666,
              "#ed7953"
             ],
             [
              0.7777777777777778,
              "#fb9f3a"
             ],
             [
              0.8888888888888888,
              "#fdca26"
             ],
             [
              1,
              "#f0f921"
             ]
            ],
            "type": "histogram2dcontour"
           }
          ],
          "mesh3d": [
           {
            "colorbar": {
             "outlinewidth": 0,
             "ticks": ""
            },
            "type": "mesh3d"
           }
          ],
          "parcoords": [
           {
            "line": {
             "colorbar": {
              "outlinewidth": 0,
              "ticks": ""
             }
            },
            "type": "parcoords"
           }
          ],
          "pie": [
           {
            "automargin": true,
            "type": "pie"
           }
          ],
          "scatter": [
           {
            "fillpattern": {
             "fillmode": "overlay",
             "size": 10,
             "solidity": 0.2
            },
            "type": "scatter"
           }
          ],
          "scatter3d": [
           {
            "line": {
             "colorbar": {
              "outlinewidth": 0,
              "ticks": ""
             }
            },
            "marker": {
             "colorbar": {
              "outlinewidth": 0,
              "ticks": ""
             }
            },
            "type": "scatter3d"
           }
          ],
          "scattercarpet": [
           {
            "marker": {
             "colorbar": {
              "outlinewidth": 0,
              "ticks": ""
             }
            },
            "type": "scattercarpet"
           }
          ],
          "scattergeo": [
           {
            "marker": {
             "colorbar": {
              "outlinewidth": 0,
              "ticks": ""
             }
            },
            "type": "scattergeo"
           }
          ],
          "scattergl": [
           {
            "marker": {
             "colorbar": {
              "outlinewidth": 0,
              "ticks": ""
             }
            },
            "type": "scattergl"
           }
          ],
          "scattermapbox": [
           {
            "marker": {
             "colorbar": {
              "outlinewidth": 0,
              "ticks": ""
             }
            },
            "type": "scattermapbox"
           }
          ],
          "scatterpolar": [
           {
            "marker": {
             "colorbar": {
              "outlinewidth": 0,
              "ticks": ""
             }
            },
            "type": "scatterpolar"
           }
          ],
          "scatterpolargl": [
           {
            "marker": {
             "colorbar": {
              "outlinewidth": 0,
              "ticks": ""
             }
            },
            "type": "scatterpolargl"
           }
          ],
          "scatterternary": [
           {
            "marker": {
             "colorbar": {
              "outlinewidth": 0,
              "ticks": ""
             }
            },
            "type": "scatterternary"
           }
          ],
          "surface": [
           {
            "colorbar": {
             "outlinewidth": 0,
             "ticks": ""
            },
            "colorscale": [
             [
              0,
              "#0d0887"
             ],
             [
              0.1111111111111111,
              "#46039f"
             ],
             [
              0.2222222222222222,
              "#7201a8"
             ],
             [
              0.3333333333333333,
              "#9c179e"
             ],
             [
              0.4444444444444444,
              "#bd3786"
             ],
             [
              0.5555555555555556,
              "#d8576b"
             ],
             [
              0.6666666666666666,
              "#ed7953"
             ],
             [
              0.7777777777777778,
              "#fb9f3a"
             ],
             [
              0.8888888888888888,
              "#fdca26"
             ],
             [
              1,
              "#f0f921"
             ]
            ],
            "type": "surface"
           }
          ],
          "table": [
           {
            "cells": {
             "fill": {
              "color": "#EBF0F8"
             },
             "line": {
              "color": "white"
             }
            },
            "header": {
             "fill": {
              "color": "#C8D4E3"
             },
             "line": {
              "color": "white"
             }
            },
            "type": "table"
           }
          ]
         },
         "layout": {
          "annotationdefaults": {
           "arrowcolor": "#2a3f5f",
           "arrowhead": 0,
           "arrowwidth": 1
          },
          "autotypenumbers": "strict",
          "coloraxis": {
           "colorbar": {
            "outlinewidth": 0,
            "ticks": ""
           }
          },
          "colorscale": {
           "diverging": [
            [
             0,
             "#8e0152"
            ],
            [
             0.1,
             "#c51b7d"
            ],
            [
             0.2,
             "#de77ae"
            ],
            [
             0.3,
             "#f1b6da"
            ],
            [
             0.4,
             "#fde0ef"
            ],
            [
             0.5,
             "#f7f7f7"
            ],
            [
             0.6,
             "#e6f5d0"
            ],
            [
             0.7,
             "#b8e186"
            ],
            [
             0.8,
             "#7fbc41"
            ],
            [
             0.9,
             "#4d9221"
            ],
            [
             1,
             "#276419"
            ]
           ],
           "sequential": [
            [
             0,
             "#0d0887"
            ],
            [
             0.1111111111111111,
             "#46039f"
            ],
            [
             0.2222222222222222,
             "#7201a8"
            ],
            [
             0.3333333333333333,
             "#9c179e"
            ],
            [
             0.4444444444444444,
             "#bd3786"
            ],
            [
             0.5555555555555556,
             "#d8576b"
            ],
            [
             0.6666666666666666,
             "#ed7953"
            ],
            [
             0.7777777777777778,
             "#fb9f3a"
            ],
            [
             0.8888888888888888,
             "#fdca26"
            ],
            [
             1,
             "#f0f921"
            ]
           ],
           "sequentialminus": [
            [
             0,
             "#0d0887"
            ],
            [
             0.1111111111111111,
             "#46039f"
            ],
            [
             0.2222222222222222,
             "#7201a8"
            ],
            [
             0.3333333333333333,
             "#9c179e"
            ],
            [
             0.4444444444444444,
             "#bd3786"
            ],
            [
             0.5555555555555556,
             "#d8576b"
            ],
            [
             0.6666666666666666,
             "#ed7953"
            ],
            [
             0.7777777777777778,
             "#fb9f3a"
            ],
            [
             0.8888888888888888,
             "#fdca26"
            ],
            [
             1,
             "#f0f921"
            ]
           ]
          },
          "colorway": [
           "#636efa",
           "#EF553B",
           "#00cc96",
           "#ab63fa",
           "#FFA15A",
           "#19d3f3",
           "#FF6692",
           "#B6E880",
           "#FF97FF",
           "#FECB52"
          ],
          "font": {
           "color": "#2a3f5f"
          },
          "geo": {
           "bgcolor": "white",
           "lakecolor": "white",
           "landcolor": "#E5ECF6",
           "showlakes": true,
           "showland": true,
           "subunitcolor": "white"
          },
          "hoverlabel": {
           "align": "left"
          },
          "hovermode": "closest",
          "mapbox": {
           "style": "light"
          },
          "paper_bgcolor": "white",
          "plot_bgcolor": "#E5ECF6",
          "polar": {
           "angularaxis": {
            "gridcolor": "white",
            "linecolor": "white",
            "ticks": ""
           },
           "bgcolor": "#E5ECF6",
           "radialaxis": {
            "gridcolor": "white",
            "linecolor": "white",
            "ticks": ""
           }
          },
          "scene": {
           "xaxis": {
            "backgroundcolor": "#E5ECF6",
            "gridcolor": "white",
            "gridwidth": 2,
            "linecolor": "white",
            "showbackground": true,
            "ticks": "",
            "zerolinecolor": "white"
           },
           "yaxis": {
            "backgroundcolor": "#E5ECF6",
            "gridcolor": "white",
            "gridwidth": 2,
            "linecolor": "white",
            "showbackground": true,
            "ticks": "",
            "zerolinecolor": "white"
           },
           "zaxis": {
            "backgroundcolor": "#E5ECF6",
            "gridcolor": "white",
            "gridwidth": 2,
            "linecolor": "white",
            "showbackground": true,
            "ticks": "",
            "zerolinecolor": "white"
           }
          },
          "shapedefaults": {
           "line": {
            "color": "#2a3f5f"
           }
          },
          "ternary": {
           "aaxis": {
            "gridcolor": "white",
            "linecolor": "white",
            "ticks": ""
           },
           "baxis": {
            "gridcolor": "white",
            "linecolor": "white",
            "ticks": ""
           },
           "bgcolor": "#E5ECF6",
           "caxis": {
            "gridcolor": "white",
            "linecolor": "white",
            "ticks": ""
           }
          },
          "title": {
           "x": 0.05
          },
          "xaxis": {
           "automargin": true,
           "gridcolor": "white",
           "linecolor": "white",
           "ticks": "",
           "title": {
            "standoff": 15
           },
           "zerolinecolor": "white",
           "zerolinewidth": 2
          },
          "yaxis": {
           "automargin": true,
           "gridcolor": "white",
           "linecolor": "white",
           "ticks": "",
           "title": {
            "standoff": 15
           },
           "zerolinecolor": "white",
           "zerolinewidth": 2
          }
         }
        },
        "width": 1000
       }
      },
      "text/html": [
       "<div>                            <div id=\"71ace4ec-49af-40a7-9ef8-4d8c6af3c84d\" class=\"plotly-graph-div\" style=\"height:600px; width:1000px;\"></div>            <script type=\"text/javascript\">                require([\"plotly\"], function(Plotly) {                    window.PLOTLYENV=window.PLOTLYENV || {};                                    if (document.getElementById(\"71ace4ec-49af-40a7-9ef8-4d8c6af3c84d\")) {                    Plotly.newPlot(                        \"71ace4ec-49af-40a7-9ef8-4d8c6af3c84d\",                        [{\"cells\":{\"align\":\"center\",\"fill\":{\"color\":[[\"white\",\"white\",\"white\",\"white\",\"white\",\"white\",\"white\",\"white\",\"white\",\"white\",\"white\",\"white\",\"white\"],[\"black\",\"white\",\"white\",\"white\",\"white\",\"white\",\"white\",\"white\",\"white\",\"white\",\"white\",\"white\",\"white\"],[\"white\",\"black\",\"lightgrey\",\"lightgrey\",\"lightgrey\",\"lightgrey\",\"white\",\"white\",\"lightgrey\",\"white\",\"white\",\"white\",\"white\"],[\"white\",\"lightgrey\",\"black\",\"white\",\"lightgrey\",\"lightgrey\",\"white\",\"white\",\"lightgrey\",\"white\",\"white\",\"white\",\"white\"],[\"white\",\"lightgrey\",\"white\",\"black\",\"white\",\"white\",\"white\",\"white\",\"white\",\"white\",\"white\",\"white\",\"white\"],[\"white\",\"lightgrey\",\"lightgrey\",\"white\",\"black\",\"lightgrey\",\"white\",\"white\",\"lightgrey\",\"white\",\"white\",\"white\",\"white\"],[\"white\",\"lightgrey\",\"lightgrey\",\"white\",\"lightgrey\",\"black\",\"white\",\"white\",\"lightgrey\",\"white\",\"white\",\"white\",\"white\"],[\"white\",\"white\",\"white\",\"white\",\"white\",\"white\",\"black\",\"lightgrey\",\"white\",\"lightgrey\",\"lightgrey\",\"white\",\"white\"],[\"white\",\"white\",\"white\",\"white\",\"white\",\"white\",\"lightgrey\",\"black\",\"white\",\"lightgrey\",\"lightgrey\",\"white\",\"white\"],[\"white\",\"lightgrey\",\"lightgrey\",\"white\",\"lightgrey\",\"lightgrey\",\"white\",\"white\",\"black\",\"white\",\"white\",\"white\",\"white\"],[\"white\",\"white\",\"white\",\"white\",\"white\",\"white\",\"lightgrey\",\"lightgrey\",\"white\",\"black\",\"lightgrey\",\"white\",\"white\"],[\"white\",\"white\",\"white\",\"white\",\"white\",\"white\",\"lightgrey\",\"lightgrey\",\"white\",\"lightgrey\",\"black\",\"white\",\"white\"],[\"white\",\"white\",\"white\",\"white\",\"white\",\"white\",\"white\",\"white\",\"white\",\"white\",\"white\",\"black\",\"white\"],[\"white\",\"white\",\"white\",\"white\",\"white\",\"white\",\"white\",\"white\",\"white\",\"white\",\"white\",\"white\",\"black\"]]},\"font\":{\"color\":\"black\",\"size\":14},\"height\":30,\"line\":{\"color\":\"black\"},\"values\":[[\"5'UTR\",\"ORF1a\",\"ORF1b\",\"S\",\"ORF3a\",\"E\",\"M\",\"ORF6\",\"ORF7a\",\"ORF8\",\"N\",\"ORF10\",\"3'UTR\"],[null,0.0,0.0,0.0,0.0,0.0,0.0,0.0,0.0,0.0,0.0,0.002,0.0],[0.0,null,0.619,0.855,0.315,0.022,0.0,0.0,0.03,0.0,0.0,0.0,0.0],[0.0,0.619,null,0.005,1.0,0.974,0.0,0.0,0.985,0.0,0.0,0.0,0.0],[0.0,0.855,0.005,null,0.001,0.0,0.0,0.0,0.0,0.0,0.0,0.0,0.0],[0.0,0.315,1.0,0.001,null,0.999,0.0,0.0,1.0,0.0,0.0,0.0,0.0],[0.0,0.022,0.974,0.0,0.999,null,0.0,0.0,1.0,0.0,0.0,0.0,0.0],[0.0,0.0,0.0,0.0,0.0,0.0,null,0.015,0.0,0.503,0.566,0.0,0.0],[0.0,0.0,0.0,0.0,0.0,0.0,0.015,null,0.0,0.98,0.968,0.0,0.0],[0.0,0.03,0.985,0.0,1.0,1.0,0.0,0.0,null,0.0,0.0,0.0,0.0],[0.0,0.0,0.0,0.0,0.0,0.0,0.503,0.98,0.0,null,1.0,0.0,0.0],[0.0,0.0,0.0,0.0,0.0,0.0,0.566,0.968,0.0,1.0,null,0.0,0.0],[0.002,0.0,0.0,0.0,0.0,0.0,0.0,0.0,0.0,0.0,0.0,null,0.0],[0.0,0.0,0.0,0.0,0.0,0.0,0.0,0.0,0.0,0.0,0.0,0.0,null]]},\"header\":{\"align\":\"center\",\"fill\":{\"color\":\"white\"},\"font\":{\"color\":\"black\",\"size\":14},\"line\":{\"color\":\"black\"},\"values\":[\"\",\"5'UTR\",\"ORF1a\",\"ORF1b\",\"S\",\"ORF3a\",\"E\",\"M\",\"ORF6\",\"ORF7a\",\"ORF8\",\"N\",\"ORF10\",\"3'UTR\"]},\"type\":\"table\"}],                        {\"template\":{\"data\":{\"histogram2dcontour\":[{\"type\":\"histogram2dcontour\",\"colorbar\":{\"outlinewidth\":0,\"ticks\":\"\"},\"colorscale\":[[0.0,\"#0d0887\"],[0.1111111111111111,\"#46039f\"],[0.2222222222222222,\"#7201a8\"],[0.3333333333333333,\"#9c179e\"],[0.4444444444444444,\"#bd3786\"],[0.5555555555555556,\"#d8576b\"],[0.6666666666666666,\"#ed7953\"],[0.7777777777777778,\"#fb9f3a\"],[0.8888888888888888,\"#fdca26\"],[1.0,\"#f0f921\"]]}],\"choropleth\":[{\"type\":\"choropleth\",\"colorbar\":{\"outlinewidth\":0,\"ticks\":\"\"}}],\"histogram2d\":[{\"type\":\"histogram2d\",\"colorbar\":{\"outlinewidth\":0,\"ticks\":\"\"},\"colorscale\":[[0.0,\"#0d0887\"],[0.1111111111111111,\"#46039f\"],[0.2222222222222222,\"#7201a8\"],[0.3333333333333333,\"#9c179e\"],[0.4444444444444444,\"#bd3786\"],[0.5555555555555556,\"#d8576b\"],[0.6666666666666666,\"#ed7953\"],[0.7777777777777778,\"#fb9f3a\"],[0.8888888888888888,\"#fdca26\"],[1.0,\"#f0f921\"]]}],\"heatmap\":[{\"type\":\"heatmap\",\"colorbar\":{\"outlinewidth\":0,\"ticks\":\"\"},\"colorscale\":[[0.0,\"#0d0887\"],[0.1111111111111111,\"#46039f\"],[0.2222222222222222,\"#7201a8\"],[0.3333333333333333,\"#9c179e\"],[0.4444444444444444,\"#bd3786\"],[0.5555555555555556,\"#d8576b\"],[0.6666666666666666,\"#ed7953\"],[0.7777777777777778,\"#fb9f3a\"],[0.8888888888888888,\"#fdca26\"],[1.0,\"#f0f921\"]]}],\"heatmapgl\":[{\"type\":\"heatmapgl\",\"colorbar\":{\"outlinewidth\":0,\"ticks\":\"\"},\"colorscale\":[[0.0,\"#0d0887\"],[0.1111111111111111,\"#46039f\"],[0.2222222222222222,\"#7201a8\"],[0.3333333333333333,\"#9c179e\"],[0.4444444444444444,\"#bd3786\"],[0.5555555555555556,\"#d8576b\"],[0.6666666666666666,\"#ed7953\"],[0.7777777777777778,\"#fb9f3a\"],[0.8888888888888888,\"#fdca26\"],[1.0,\"#f0f921\"]]}],\"contourcarpet\":[{\"type\":\"contourcarpet\",\"colorbar\":{\"outlinewidth\":0,\"ticks\":\"\"}}],\"contour\":[{\"type\":\"contour\",\"colorbar\":{\"outlinewidth\":0,\"ticks\":\"\"},\"colorscale\":[[0.0,\"#0d0887\"],[0.1111111111111111,\"#46039f\"],[0.2222222222222222,\"#7201a8\"],[0.3333333333333333,\"#9c179e\"],[0.4444444444444444,\"#bd3786\"],[0.5555555555555556,\"#d8576b\"],[0.6666666666666666,\"#ed7953\"],[0.7777777777777778,\"#fb9f3a\"],[0.8888888888888888,\"#fdca26\"],[1.0,\"#f0f921\"]]}],\"surface\":[{\"type\":\"surface\",\"colorbar\":{\"outlinewidth\":0,\"ticks\":\"\"},\"colorscale\":[[0.0,\"#0d0887\"],[0.1111111111111111,\"#46039f\"],[0.2222222222222222,\"#7201a8\"],[0.3333333333333333,\"#9c179e\"],[0.4444444444444444,\"#bd3786\"],[0.5555555555555556,\"#d8576b\"],[0.6666666666666666,\"#ed7953\"],[0.7777777777777778,\"#fb9f3a\"],[0.8888888888888888,\"#fdca26\"],[1.0,\"#f0f921\"]]}],\"mesh3d\":[{\"type\":\"mesh3d\",\"colorbar\":{\"outlinewidth\":0,\"ticks\":\"\"}}],\"scatter\":[{\"fillpattern\":{\"fillmode\":\"overlay\",\"size\":10,\"solidity\":0.2},\"type\":\"scatter\"}],\"parcoords\":[{\"type\":\"parcoords\",\"line\":{\"colorbar\":{\"outlinewidth\":0,\"ticks\":\"\"}}}],\"scatterpolargl\":[{\"type\":\"scatterpolargl\",\"marker\":{\"colorbar\":{\"outlinewidth\":0,\"ticks\":\"\"}}}],\"bar\":[{\"error_x\":{\"color\":\"#2a3f5f\"},\"error_y\":{\"color\":\"#2a3f5f\"},\"marker\":{\"line\":{\"color\":\"#E5ECF6\",\"width\":0.5},\"pattern\":{\"fillmode\":\"overlay\",\"size\":10,\"solidity\":0.2}},\"type\":\"bar\"}],\"scattergeo\":[{\"type\":\"scattergeo\",\"marker\":{\"colorbar\":{\"outlinewidth\":0,\"ticks\":\"\"}}}],\"scatterpolar\":[{\"type\":\"scatterpolar\",\"marker\":{\"colorbar\":{\"outlinewidth\":0,\"ticks\":\"\"}}}],\"histogram\":[{\"marker\":{\"pattern\":{\"fillmode\":\"overlay\",\"size\":10,\"solidity\":0.2}},\"type\":\"histogram\"}],\"scattergl\":[{\"type\":\"scattergl\",\"marker\":{\"colorbar\":{\"outlinewidth\":0,\"ticks\":\"\"}}}],\"scatter3d\":[{\"type\":\"scatter3d\",\"line\":{\"colorbar\":{\"outlinewidth\":0,\"ticks\":\"\"}},\"marker\":{\"colorbar\":{\"outlinewidth\":0,\"ticks\":\"\"}}}],\"scattermapbox\":[{\"type\":\"scattermapbox\",\"marker\":{\"colorbar\":{\"outlinewidth\":0,\"ticks\":\"\"}}}],\"scatterternary\":[{\"type\":\"scatterternary\",\"marker\":{\"colorbar\":{\"outlinewidth\":0,\"ticks\":\"\"}}}],\"scattercarpet\":[{\"type\":\"scattercarpet\",\"marker\":{\"colorbar\":{\"outlinewidth\":0,\"ticks\":\"\"}}}],\"carpet\":[{\"aaxis\":{\"endlinecolor\":\"#2a3f5f\",\"gridcolor\":\"white\",\"linecolor\":\"white\",\"minorgridcolor\":\"white\",\"startlinecolor\":\"#2a3f5f\"},\"baxis\":{\"endlinecolor\":\"#2a3f5f\",\"gridcolor\":\"white\",\"linecolor\":\"white\",\"minorgridcolor\":\"white\",\"startlinecolor\":\"#2a3f5f\"},\"type\":\"carpet\"}],\"table\":[{\"cells\":{\"fill\":{\"color\":\"#EBF0F8\"},\"line\":{\"color\":\"white\"}},\"header\":{\"fill\":{\"color\":\"#C8D4E3\"},\"line\":{\"color\":\"white\"}},\"type\":\"table\"}],\"barpolar\":[{\"marker\":{\"line\":{\"color\":\"#E5ECF6\",\"width\":0.5},\"pattern\":{\"fillmode\":\"overlay\",\"size\":10,\"solidity\":0.2}},\"type\":\"barpolar\"}],\"pie\":[{\"automargin\":true,\"type\":\"pie\"}]},\"layout\":{\"autotypenumbers\":\"strict\",\"colorway\":[\"#636efa\",\"#EF553B\",\"#00cc96\",\"#ab63fa\",\"#FFA15A\",\"#19d3f3\",\"#FF6692\",\"#B6E880\",\"#FF97FF\",\"#FECB52\"],\"font\":{\"color\":\"#2a3f5f\"},\"hovermode\":\"closest\",\"hoverlabel\":{\"align\":\"left\"},\"paper_bgcolor\":\"white\",\"plot_bgcolor\":\"#E5ECF6\",\"polar\":{\"bgcolor\":\"#E5ECF6\",\"angularaxis\":{\"gridcolor\":\"white\",\"linecolor\":\"white\",\"ticks\":\"\"},\"radialaxis\":{\"gridcolor\":\"white\",\"linecolor\":\"white\",\"ticks\":\"\"}},\"ternary\":{\"bgcolor\":\"#E5ECF6\",\"aaxis\":{\"gridcolor\":\"white\",\"linecolor\":\"white\",\"ticks\":\"\"},\"baxis\":{\"gridcolor\":\"white\",\"linecolor\":\"white\",\"ticks\":\"\"},\"caxis\":{\"gridcolor\":\"white\",\"linecolor\":\"white\",\"ticks\":\"\"}},\"coloraxis\":{\"colorbar\":{\"outlinewidth\":0,\"ticks\":\"\"}},\"colorscale\":{\"sequential\":[[0.0,\"#0d0887\"],[0.1111111111111111,\"#46039f\"],[0.2222222222222222,\"#7201a8\"],[0.3333333333333333,\"#9c179e\"],[0.4444444444444444,\"#bd3786\"],[0.5555555555555556,\"#d8576b\"],[0.6666666666666666,\"#ed7953\"],[0.7777777777777778,\"#fb9f3a\"],[0.8888888888888888,\"#fdca26\"],[1.0,\"#f0f921\"]],\"sequentialminus\":[[0.0,\"#0d0887\"],[0.1111111111111111,\"#46039f\"],[0.2222222222222222,\"#7201a8\"],[0.3333333333333333,\"#9c179e\"],[0.4444444444444444,\"#bd3786\"],[0.5555555555555556,\"#d8576b\"],[0.6666666666666666,\"#ed7953\"],[0.7777777777777778,\"#fb9f3a\"],[0.8888888888888888,\"#fdca26\"],[1.0,\"#f0f921\"]],\"diverging\":[[0,\"#8e0152\"],[0.1,\"#c51b7d\"],[0.2,\"#de77ae\"],[0.3,\"#f1b6da\"],[0.4,\"#fde0ef\"],[0.5,\"#f7f7f7\"],[0.6,\"#e6f5d0\"],[0.7,\"#b8e186\"],[0.8,\"#7fbc41\"],[0.9,\"#4d9221\"],[1,\"#276419\"]]},\"xaxis\":{\"gridcolor\":\"white\",\"linecolor\":\"white\",\"ticks\":\"\",\"title\":{\"standoff\":15},\"zerolinecolor\":\"white\",\"automargin\":true,\"zerolinewidth\":2},\"yaxis\":{\"gridcolor\":\"white\",\"linecolor\":\"white\",\"ticks\":\"\",\"title\":{\"standoff\":15},\"zerolinecolor\":\"white\",\"automargin\":true,\"zerolinewidth\":2},\"scene\":{\"xaxis\":{\"backgroundcolor\":\"#E5ECF6\",\"gridcolor\":\"white\",\"linecolor\":\"white\",\"showbackground\":true,\"ticks\":\"\",\"zerolinecolor\":\"white\",\"gridwidth\":2},\"yaxis\":{\"backgroundcolor\":\"#E5ECF6\",\"gridcolor\":\"white\",\"linecolor\":\"white\",\"showbackground\":true,\"ticks\":\"\",\"zerolinecolor\":\"white\",\"gridwidth\":2},\"zaxis\":{\"backgroundcolor\":\"#E5ECF6\",\"gridcolor\":\"white\",\"linecolor\":\"white\",\"showbackground\":true,\"ticks\":\"\",\"zerolinecolor\":\"white\",\"gridwidth\":2}},\"shapedefaults\":{\"line\":{\"color\":\"#2a3f5f\"}},\"annotationdefaults\":{\"arrowcolor\":\"#2a3f5f\",\"arrowhead\":0,\"arrowwidth\":1},\"geo\":{\"bgcolor\":\"white\",\"landcolor\":\"#E5ECF6\",\"subunitcolor\":\"white\",\"showland\":true,\"showlakes\":true,\"lakecolor\":\"white\"},\"title\":{\"x\":0.05},\"mapbox\":{\"style\":\"light\"}}},\"width\":1000,\"height\":600},                        {\"responsive\": true}                    ).then(function(){\n",
       "                            \n",
       "var gd = document.getElementById('71ace4ec-49af-40a7-9ef8-4d8c6af3c84d');\n",
       "var x = new MutationObserver(function (mutations, observer) {{\n",
       "        var display = window.getComputedStyle(gd).display;\n",
       "        if (!display || display === 'none') {{\n",
       "            console.log([gd, 'removed!']);\n",
       "            Plotly.purge(gd);\n",
       "            observer.disconnect();\n",
       "        }}\n",
       "}});\n",
       "\n",
       "// Listen for the removal of the full notebook cells\n",
       "var notebookContainer = gd.closest('#notebook-container');\n",
       "if (notebookContainer) {{\n",
       "    x.observe(notebookContainer, {childList: true});\n",
       "}}\n",
       "\n",
       "// Listen for the clearing of the current output cell\n",
       "var outputEl = gd.closest('.output');\n",
       "if (outputEl) {{\n",
       "    x.observe(outputEl, {childList: true});\n",
       "}}\n",
       "\n",
       "                        })                };                });            </script>        </div>"
      ]
     },
     "metadata": {},
     "output_type": "display_data"
    }
   ],
   "source": [
    "p_table = p_value_table(get_stats(gene_df, scheme=None, value_col=\"mean_coverage\", batch_col=\"gene\", replace_str=None))\n",
    "p_table.update_layout(width=1000, height=600)"
   ]
  }
 ],
 "metadata": {
  "kernelspec": {
   "display_name": "Python 3",
   "language": "python",
   "name": "python3"
  },
  "language_info": {
   "codemirror_mode": {
    "name": "ipython",
    "version": 3
   },
   "file_extension": ".py",
   "mimetype": "text/x-python",
   "name": "python",
   "nbconvert_exporter": "python",
   "pygments_lexer": "ipython3",
   "version": "3.10.14"
  }
 },
 "nbformat": 4,
 "nbformat_minor": 2
}
