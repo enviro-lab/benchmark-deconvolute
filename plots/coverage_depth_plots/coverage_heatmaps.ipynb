{
 "cells": [
  {
   "cell_type": "code",
   "execution_count": 6,
   "metadata": {},
   "outputs": [],
   "source": [
    "import pandas as pd\n",
    "import plotly.express as px\n",
    "from pathlib import Path # type: ignore\n",
    "import plotly.io as pio\n",
    "import sys\n",
    "if (module_path:=str(Path(\".\").absolute().resolve().parent)) not in sys.path:\n",
    "    sys.path.insert(0, module_path)\n",
    "from sample_info import mixture_renames, ont_dir, plotting_dir, num_amps, mixtures2drop as mixes2drop, plate_dict\n",
    "heatmap_dir = plotting_dir / \"coverage_depth_heatmaps\"\n",
    "outdir = heatmap_dir / \"decon_heatmap_out\""
   ]
  },
  {
   "cell_type": "code",
   "execution_count": 2,
   "metadata": {},
   "outputs": [
    {
     "data": {
      "text/html": [
       "<div>\n",
       "<style scoped>\n",
       "    .dataframe tbody tr th:only-of-type {\n",
       "        vertical-align: middle;\n",
       "    }\n",
       "\n",
       "    .dataframe tbody tr th {\n",
       "        vertical-align: top;\n",
       "    }\n",
       "\n",
       "    .dataframe thead th {\n",
       "        text-align: right;\n",
       "    }\n",
       "</style>\n",
       "<table border=\"1\" class=\"dataframe\">\n",
       "  <thead>\n",
       "    <tr style=\"text-align: right;\">\n",
       "      <th></th>\n",
       "      <th>batch</th>\n",
       "      <th>mixture</th>\n",
       "      <th>read_counts</th>\n",
       "      <th>coverage</th>\n",
       "      <th>normalized_read_counts</th>\n",
       "    </tr>\n",
       "  </thead>\n",
       "  <tbody>\n",
       "    <tr>\n",
       "      <th>0</th>\n",
       "      <td>WB: Artic</td>\n",
       "      <td>0adgio1o2o3o4o5</td>\n",
       "      <td>769584</td>\n",
       "      <td>99.4649</td>\n",
       "      <td>7773.575758</td>\n",
       "    </tr>\n",
       "    <tr>\n",
       "      <th>0</th>\n",
       "      <td>WB: Artic</td>\n",
       "      <td>0adgio1</td>\n",
       "      <td>728720</td>\n",
       "      <td>98.9065</td>\n",
       "      <td>7360.808081</td>\n",
       "    </tr>\n",
       "    <tr>\n",
       "      <th>0</th>\n",
       "      <td>WB: Artic</td>\n",
       "      <td>o2o3o4o5</td>\n",
       "      <td>754486</td>\n",
       "      <td>98.5486</td>\n",
       "      <td>7621.070707</td>\n",
       "    </tr>\n",
       "    <tr>\n",
       "      <th>0</th>\n",
       "      <td>WB: Artic</td>\n",
       "      <td>0agio1o2</td>\n",
       "      <td>797075</td>\n",
       "      <td>98.8262</td>\n",
       "      <td>8051.262626</td>\n",
       "    </tr>\n",
       "    <tr>\n",
       "      <th>0</th>\n",
       "      <td>WB: Artic</td>\n",
       "      <td>0o5o3o4</td>\n",
       "      <td>1028126</td>\n",
       "      <td>99.6154</td>\n",
       "      <td>10385.111111</td>\n",
       "    </tr>\n",
       "    <tr>\n",
       "      <th>...</th>\n",
       "      <td>...</td>\n",
       "      <td>...</td>\n",
       "      <td>...</td>\n",
       "      <td>...</td>\n",
       "      <td>...</td>\n",
       "    </tr>\n",
       "    <tr>\n",
       "      <th>0</th>\n",
       "      <td>PWRB: Varskip</td>\n",
       "      <td>i-2</td>\n",
       "      <td>642371</td>\n",
       "      <td>94.3517</td>\n",
       "      <td>8680.689189</td>\n",
       "    </tr>\n",
       "    <tr>\n",
       "      <th>0</th>\n",
       "      <td>PWRB: Varskip</td>\n",
       "      <td>d-2</td>\n",
       "      <td>741515</td>\n",
       "      <td>94.4186</td>\n",
       "      <td>10020.472973</td>\n",
       "    </tr>\n",
       "    <tr>\n",
       "      <th>0</th>\n",
       "      <td>PWRB: Varskip</td>\n",
       "      <td>o1-2</td>\n",
       "      <td>720699</td>\n",
       "      <td>93.4655</td>\n",
       "      <td>9739.175676</td>\n",
       "    </tr>\n",
       "    <tr>\n",
       "      <th>0</th>\n",
       "      <td>PWRB: Varskip</td>\n",
       "      <td>o2-3</td>\n",
       "      <td>695223</td>\n",
       "      <td>93.6428</td>\n",
       "      <td>9394.905405</td>\n",
       "    </tr>\n",
       "    <tr>\n",
       "      <th>0</th>\n",
       "      <td>PWRB: Varskip</td>\n",
       "      <td>o3-4</td>\n",
       "      <td>622205</td>\n",
       "      <td>98.4048</td>\n",
       "      <td>8408.175676</td>\n",
       "    </tr>\n",
       "  </tbody>\n",
       "</table>\n",
       "<p>228 rows × 5 columns</p>\n",
       "</div>"
      ],
      "text/plain": [
       "            batch          mixture  read_counts  coverage  \\\n",
       "0       WB: Artic  0adgio1o2o3o4o5       769584   99.4649   \n",
       "0       WB: Artic          0adgio1       728720   98.9065   \n",
       "0       WB: Artic         o2o3o4o5       754486   98.5486   \n",
       "0       WB: Artic         0agio1o2       797075   98.8262   \n",
       "0       WB: Artic          0o5o3o4      1028126   99.6154   \n",
       "..            ...              ...          ...       ...   \n",
       "0   PWRB: Varskip              i-2       642371   94.3517   \n",
       "0   PWRB: Varskip              d-2       741515   94.4186   \n",
       "0   PWRB: Varskip             o1-2       720699   93.4655   \n",
       "0   PWRB: Varskip             o2-3       695223   93.6428   \n",
       "0   PWRB: Varskip             o3-4       622205   98.4048   \n",
       "\n",
       "    normalized_read_counts  \n",
       "0              7773.575758  \n",
       "0              7360.808081  \n",
       "0              7621.070707  \n",
       "0              8051.262626  \n",
       "0             10385.111111  \n",
       "..                     ...  \n",
       "0              8680.689189  \n",
       "0             10020.472973  \n",
       "0              9739.175676  \n",
       "0              9394.905405  \n",
       "0              8408.175676  \n",
       "\n",
       "[228 rows x 5 columns]"
      ]
     },
     "execution_count": 2,
     "metadata": {},
     "output_type": "execute_result"
    }
   ],
   "source": [
    "def get_coverage_data():\n",
    "    for plate, (background, scheme) in plate_dict.items():\n",
    "        scheme = scheme.title()\n",
    "        for mixture, new_name in mixture_renames.items():\n",
    "            if mixture in mixes2drop:\n",
    "                # print(\"dropping\",mixture)\n",
    "                continue\n",
    "            df = pd.read_csv(ont_dir / f\"MixedControl-{plate}-fastqs/output/coverage_stats/{mixture}_samtools_coverage.tsv\", sep=\"\\t\")\n",
    "            df[\"batch\"] = f\"{background}: {scheme}\"\n",
    "            df[\"mixture\"] = new_name\n",
    "            df = df.rename(columns={\"numreads\":\"read_counts\"})\n",
    "            df[\"normalized_read_counts\"] = df[\"read_counts\"].apply(lambda x: x/num_amps[scheme])\n",
    "            yield df\n",
    "def get_coverage_df():\n",
    "    df = pd.concat(d for d in get_coverage_data())\n",
    "    df = df[[\"batch\",\"mixture\",\"read_counts\",\"coverage\",\"normalized_read_counts\"]]\n",
    "    return df\n",
    "df = get_coverage_df()\n",
    "# df.to_csv(outdir / \"coverage_info.csv\")\n",
    "df"
   ]
  },
  {
   "cell_type": "code",
   "execution_count": 3,
   "metadata": {},
   "outputs": [],
   "source": [
    "def sort_by_name(cols):\n",
    "    sample_cols = []\n",
    "    nfw_cols = []\n",
    "    for col in cols:\n",
    "        if col.startswith(\"NFW\"):\n",
    "            nfw_cols.append(col)\n",
    "        else:\n",
    "            sample_cols.append(col)\n",
    "    return sorted(sample_cols) + nfw_cols\n",
    "def getHeatmap(df,field,title=None,labels=None,title_y=0.78):\n",
    "    fig_df = df[[\"batch\",\"mixture\",field]].pivot(index=\"batch\",columns=\"mixture\",values=field)\n",
    "    fig_df = fig_df[sort_by_name(fig_df.columns)]\n",
    "    fig = px.imshow(fig_df, title=title, labels=labels)\n",
    "    fig.update_layout(title_y=title_y)\n",
    "    return fig\n",
    "# def getHeatmap(df,field):\n",
    "#     return df[[\"batch\",\"mixture\",field]].pivot(index=\"batch\",columns=\"mixture\",values=field)"
   ]
  },
  {
   "cell_type": "code",
   "execution_count": 9,
   "metadata": {},
   "outputs": [
    {
     "data": {
      "application/vnd.plotly.v1+json": {
       "config": {
        "plotlyServerURL": "https://plot.ly"
       },
       "data": [
        {
         "coloraxis": "coloraxis",
         "hovertemplate": "Mixture: %{x}<br>Batch: %{y}<br>color: %{z}<extra></extra>",
         "name": "0",
         "type": "heatmap",
         "x": [
          "0",
          "0-2",
          "0-3",
          "0-4",
          "0adgio1",
          "0adgio1-2",
          "0adgio1o2o3o4o5",
          "0agio1o2",
          "0aio1o2o3o4o5",
          "0o5o3o4",
          "a",
          "a-2",
          "adgio1o2o3",
          "agio3o4o5",
          "d",
          "d-2",
          "g",
          "g-2",
          "i",
          "i-2",
          "o1-2",
          "o1o2",
          "o1o2o3o4o5",
          "o2-2",
          "o2-3",
          "o2o3o4o5",
          "o2o3o4o5-2",
          "o2o3o4o5-3",
          "o3",
          "o3-2",
          "o3-3",
          "o3-4",
          "o4",
          "o4-2",
          "o4-3",
          "o5",
          "o5-2",
          "o5-3"
         ],
         "xaxis": "x",
         "y": [
          "NWRB: Artic",
          "NWRB: Varskip",
          "PWRB: Artic",
          "PWRB: Varskip",
          "WB: Artic",
          "WB: Varskip"
         ],
         "yaxis": "y",
         "z": [
          [
           98.3012,
           97.0638,
           96.0472,
           97.1274,
           96.8933,
           97.2344,
           97.1408,
           97.4986,
           97.007,
           98.134,
           95.5389,
           97.7293,
           97.1374,
           97.5855,
           95.783,
           95.5322,
           95.4653,
           95.579,
           95.763,
           95.3449,
           97.8196,
           97.3581,
           97.0438,
           95.5423,
           94.8634,
           96.4786,
           99.7191,
           97.3147,
           95.763,
           96.8833,
           95.5523,
           94.5089,
           98.7259,
           95.0874,
           96.5054,
           96.4753,
           94.5189,
           95.9971
          ],
          [
           96.793,
           94.636,
           93.295,
           96.7194,
           94.7129,
           95.4787,
           96.2077,
           95.4352,
           95.4954,
           95.5924,
           95.3015,
           94.2146,
           95.4185,
           95.161,
           95.5924,
           94.5992,
           94.8868,
           93.4455,
           89.9642,
           93.3418,
           93.8735,
           93.3652,
           96.191,
           92.1446,
           92.8034,
           94.636,
           95.4553,
           95.3483,
           94.5925,
           91.6028,
           95.4653,
           93.5525,
           96.9802,
           95.472,
           95.4453,
           93.3886,
           94.6092,
           94.5892
          ],
          [
           97.6424,
           99.2375,
           98.1039,
           97.0973,
           97.8096,
           96.502,
           99.7659,
           97.7962,
           99.7659,
           96.9635,
           95.4921,
           95.4185,
           96.5355,
           96.6926,
           95.6994,
           95.5222,
           97.1541,
           94.4454,
           97.5387,
           93.6662,
           94.6594,
           96.8063,
           94.5357,
           95.1242,
           95.355,
           96.3816,
           94.2614,
           99.1539,
           94.5323,
           96.4686,
           94.3317,
           99.7325,
           96.0439,
           96.7796,
           96.7495,
           96.8866,
           95.1242,
           93.412
          ],
          [
           96.696,
           98.4216,
           95.7362,
           93.5993,
           95.5389,
           98.3814,
           99.7024,
           95.87,
           97.6223,
           96.2111,
           92.78,
           93.8769,
           95.3851,
           94.5022,
           94.7162,
           94.4186,
           93.2783,
           95.2613,
           95.1911,
           94.3517,
           93.4655,
           94.325,
           96.4886,
           93.4589,
           93.6428,
           94.7798,
           94.7865,
           97.629,
           94.2481,
           94.5357,
           93.5692,
           98.4048,
           94.9269,
           94.7363,
           94.2079,
           97.5421,
           96.0104,
           95.4553
          ],
          [
           97.9868,
           97.8263,
           97.4484,
           99.1105,
           98.9065,
           98.6757,
           99.4649,
           98.8262,
           98.9232,
           99.6154,
           97.7795,
           97.7594,
           99.2543,
           98.8295,
           98.338,
           96.813,
           97.5421,
           98.3647,
           97.2979,
           96.686,
           98.3079,
           98.4884,
           98.8195,
           98.027,
           96.2144,
           98.5486,
           97.9534,
           98.1708,
           98.5553,
           96.7361,
           97.231,
           96.298,
           98.9901,
           98.4918,
           98.0637,
           97.9668,
           97.6658,
           97.1709
          ],
          [
           97.2511,
           95.044,
           98.0002,
           97.017,
           98.0136,
           98.0805,
           98.4416,
           98.3346,
           98.154,
           98.0571,
           97.833,
           96.2345,
           98.1942,
           97.5956,
           97.0137,
           97.1575,
           96.716,
           95.7396,
           95.7262,
           93.3719,
           97.8196,
           96.7729,
           97.7895,
           96.1843,
           96.8465,
           97.7728,
           97.0304,
           96.9401,
           97.0438,
           97.7494,
           95.5724,
           96.6391,
           97.0538,
           96.8532,
           99.1339,
           98.251,
           97.3682,
           97.9701
          ]
         ]
        }
       ],
       "layout": {
        "coloraxis": {
         "colorscale": [
          [
           0,
           "#0d0887"
          ],
          [
           0.1111111111111111,
           "#46039f"
          ],
          [
           0.2222222222222222,
           "#7201a8"
          ],
          [
           0.3333333333333333,
           "#9c179e"
          ],
          [
           0.4444444444444444,
           "#bd3786"
          ],
          [
           0.5555555555555556,
           "#d8576b"
          ],
          [
           0.6666666666666666,
           "#ed7953"
          ],
          [
           0.7777777777777778,
           "#fb9f3a"
          ],
          [
           0.8888888888888888,
           "#fdca26"
          ],
          [
           1,
           "#f0f921"
          ]
         ]
        },
        "template": {
         "data": {
          "bar": [
           {
            "error_x": {
             "color": "#2a3f5f"
            },
            "error_y": {
             "color": "#2a3f5f"
            },
            "marker": {
             "line": {
              "color": "#E5ECF6",
              "width": 0.5
             },
             "pattern": {
              "fillmode": "overlay",
              "size": 10,
              "solidity": 0.2
             }
            },
            "type": "bar"
           }
          ],
          "barpolar": [
           {
            "marker": {
             "line": {
              "color": "#E5ECF6",
              "width": 0.5
             },
             "pattern": {
              "fillmode": "overlay",
              "size": 10,
              "solidity": 0.2
             }
            },
            "type": "barpolar"
           }
          ],
          "carpet": [
           {
            "aaxis": {
             "endlinecolor": "#2a3f5f",
             "gridcolor": "white",
             "linecolor": "white",
             "minorgridcolor": "white",
             "startlinecolor": "#2a3f5f"
            },
            "baxis": {
             "endlinecolor": "#2a3f5f",
             "gridcolor": "white",
             "linecolor": "white",
             "minorgridcolor": "white",
             "startlinecolor": "#2a3f5f"
            },
            "type": "carpet"
           }
          ],
          "choropleth": [
           {
            "colorbar": {
             "outlinewidth": 0,
             "ticks": ""
            },
            "type": "choropleth"
           }
          ],
          "contour": [
           {
            "colorbar": {
             "outlinewidth": 0,
             "ticks": ""
            },
            "colorscale": [
             [
              0,
              "#0d0887"
             ],
             [
              0.1111111111111111,
              "#46039f"
             ],
             [
              0.2222222222222222,
              "#7201a8"
             ],
             [
              0.3333333333333333,
              "#9c179e"
             ],
             [
              0.4444444444444444,
              "#bd3786"
             ],
             [
              0.5555555555555556,
              "#d8576b"
             ],
             [
              0.6666666666666666,
              "#ed7953"
             ],
             [
              0.7777777777777778,
              "#fb9f3a"
             ],
             [
              0.8888888888888888,
              "#fdca26"
             ],
             [
              1,
              "#f0f921"
             ]
            ],
            "type": "contour"
           }
          ],
          "contourcarpet": [
           {
            "colorbar": {
             "outlinewidth": 0,
             "ticks": ""
            },
            "type": "contourcarpet"
           }
          ],
          "heatmap": [
           {
            "colorbar": {
             "outlinewidth": 0,
             "ticks": ""
            },
            "colorscale": [
             [
              0,
              "#0d0887"
             ],
             [
              0.1111111111111111,
              "#46039f"
             ],
             [
              0.2222222222222222,
              "#7201a8"
             ],
             [
              0.3333333333333333,
              "#9c179e"
             ],
             [
              0.4444444444444444,
              "#bd3786"
             ],
             [
              0.5555555555555556,
              "#d8576b"
             ],
             [
              0.6666666666666666,
              "#ed7953"
             ],
             [
              0.7777777777777778,
              "#fb9f3a"
             ],
             [
              0.8888888888888888,
              "#fdca26"
             ],
             [
              1,
              "#f0f921"
             ]
            ],
            "type": "heatmap"
           }
          ],
          "heatmapgl": [
           {
            "colorbar": {
             "outlinewidth": 0,
             "ticks": ""
            },
            "colorscale": [
             [
              0,
              "#0d0887"
             ],
             [
              0.1111111111111111,
              "#46039f"
             ],
             [
              0.2222222222222222,
              "#7201a8"
             ],
             [
              0.3333333333333333,
              "#9c179e"
             ],
             [
              0.4444444444444444,
              "#bd3786"
             ],
             [
              0.5555555555555556,
              "#d8576b"
             ],
             [
              0.6666666666666666,
              "#ed7953"
             ],
             [
              0.7777777777777778,
              "#fb9f3a"
             ],
             [
              0.8888888888888888,
              "#fdca26"
             ],
             [
              1,
              "#f0f921"
             ]
            ],
            "type": "heatmapgl"
           }
          ],
          "histogram": [
           {
            "marker": {
             "pattern": {
              "fillmode": "overlay",
              "size": 10,
              "solidity": 0.2
             }
            },
            "type": "histogram"
           }
          ],
          "histogram2d": [
           {
            "colorbar": {
             "outlinewidth": 0,
             "ticks": ""
            },
            "colorscale": [
             [
              0,
              "#0d0887"
             ],
             [
              0.1111111111111111,
              "#46039f"
             ],
             [
              0.2222222222222222,
              "#7201a8"
             ],
             [
              0.3333333333333333,
              "#9c179e"
             ],
             [
              0.4444444444444444,
              "#bd3786"
             ],
             [
              0.5555555555555556,
              "#d8576b"
             ],
             [
              0.6666666666666666,
              "#ed7953"
             ],
             [
              0.7777777777777778,
              "#fb9f3a"
             ],
             [
              0.8888888888888888,
              "#fdca26"
             ],
             [
              1,
              "#f0f921"
             ]
            ],
            "type": "histogram2d"
           }
          ],
          "histogram2dcontour": [
           {
            "colorbar": {
             "outlinewidth": 0,
             "ticks": ""
            },
            "colorscale": [
             [
              0,
              "#0d0887"
             ],
             [
              0.1111111111111111,
              "#46039f"
             ],
             [
              0.2222222222222222,
              "#7201a8"
             ],
             [
              0.3333333333333333,
              "#9c179e"
             ],
             [
              0.4444444444444444,
              "#bd3786"
             ],
             [
              0.5555555555555556,
              "#d8576b"
             ],
             [
              0.6666666666666666,
              "#ed7953"
             ],
             [
              0.7777777777777778,
              "#fb9f3a"
             ],
             [
              0.8888888888888888,
              "#fdca26"
             ],
             [
              1,
              "#f0f921"
             ]
            ],
            "type": "histogram2dcontour"
           }
          ],
          "mesh3d": [
           {
            "colorbar": {
             "outlinewidth": 0,
             "ticks": ""
            },
            "type": "mesh3d"
           }
          ],
          "parcoords": [
           {
            "line": {
             "colorbar": {
              "outlinewidth": 0,
              "ticks": ""
             }
            },
            "type": "parcoords"
           }
          ],
          "pie": [
           {
            "automargin": true,
            "type": "pie"
           }
          ],
          "scatter": [
           {
            "fillpattern": {
             "fillmode": "overlay",
             "size": 10,
             "solidity": 0.2
            },
            "type": "scatter"
           }
          ],
          "scatter3d": [
           {
            "line": {
             "colorbar": {
              "outlinewidth": 0,
              "ticks": ""
             }
            },
            "marker": {
             "colorbar": {
              "outlinewidth": 0,
              "ticks": ""
             }
            },
            "type": "scatter3d"
           }
          ],
          "scattercarpet": [
           {
            "marker": {
             "colorbar": {
              "outlinewidth": 0,
              "ticks": ""
             }
            },
            "type": "scattercarpet"
           }
          ],
          "scattergeo": [
           {
            "marker": {
             "colorbar": {
              "outlinewidth": 0,
              "ticks": ""
             }
            },
            "type": "scattergeo"
           }
          ],
          "scattergl": [
           {
            "marker": {
             "colorbar": {
              "outlinewidth": 0,
              "ticks": ""
             }
            },
            "type": "scattergl"
           }
          ],
          "scattermapbox": [
           {
            "marker": {
             "colorbar": {
              "outlinewidth": 0,
              "ticks": ""
             }
            },
            "type": "scattermapbox"
           }
          ],
          "scatterpolar": [
           {
            "marker": {
             "colorbar": {
              "outlinewidth": 0,
              "ticks": ""
             }
            },
            "type": "scatterpolar"
           }
          ],
          "scatterpolargl": [
           {
            "marker": {
             "colorbar": {
              "outlinewidth": 0,
              "ticks": ""
             }
            },
            "type": "scatterpolargl"
           }
          ],
          "scatterternary": [
           {
            "marker": {
             "colorbar": {
              "outlinewidth": 0,
              "ticks": ""
             }
            },
            "type": "scatterternary"
           }
          ],
          "surface": [
           {
            "colorbar": {
             "outlinewidth": 0,
             "ticks": ""
            },
            "colorscale": [
             [
              0,
              "#0d0887"
             ],
             [
              0.1111111111111111,
              "#46039f"
             ],
             [
              0.2222222222222222,
              "#7201a8"
             ],
             [
              0.3333333333333333,
              "#9c179e"
             ],
             [
              0.4444444444444444,
              "#bd3786"
             ],
             [
              0.5555555555555556,
              "#d8576b"
             ],
             [
              0.6666666666666666,
              "#ed7953"
             ],
             [
              0.7777777777777778,
              "#fb9f3a"
             ],
             [
              0.8888888888888888,
              "#fdca26"
             ],
             [
              1,
              "#f0f921"
             ]
            ],
            "type": "surface"
           }
          ],
          "table": [
           {
            "cells": {
             "fill": {
              "color": "#EBF0F8"
             },
             "line": {
              "color": "white"
             }
            },
            "header": {
             "fill": {
              "color": "#C8D4E3"
             },
             "line": {
              "color": "white"
             }
            },
            "type": "table"
           }
          ]
         },
         "layout": {
          "annotationdefaults": {
           "arrowcolor": "#2a3f5f",
           "arrowhead": 0,
           "arrowwidth": 1
          },
          "autotypenumbers": "strict",
          "coloraxis": {
           "colorbar": {
            "outlinewidth": 0,
            "ticks": ""
           }
          },
          "colorscale": {
           "diverging": [
            [
             0,
             "#8e0152"
            ],
            [
             0.1,
             "#c51b7d"
            ],
            [
             0.2,
             "#de77ae"
            ],
            [
             0.3,
             "#f1b6da"
            ],
            [
             0.4,
             "#fde0ef"
            ],
            [
             0.5,
             "#f7f7f7"
            ],
            [
             0.6,
             "#e6f5d0"
            ],
            [
             0.7,
             "#b8e186"
            ],
            [
             0.8,
             "#7fbc41"
            ],
            [
             0.9,
             "#4d9221"
            ],
            [
             1,
             "#276419"
            ]
           ],
           "sequential": [
            [
             0,
             "#0d0887"
            ],
            [
             0.1111111111111111,
             "#46039f"
            ],
            [
             0.2222222222222222,
             "#7201a8"
            ],
            [
             0.3333333333333333,
             "#9c179e"
            ],
            [
             0.4444444444444444,
             "#bd3786"
            ],
            [
             0.5555555555555556,
             "#d8576b"
            ],
            [
             0.6666666666666666,
             "#ed7953"
            ],
            [
             0.7777777777777778,
             "#fb9f3a"
            ],
            [
             0.8888888888888888,
             "#fdca26"
            ],
            [
             1,
             "#f0f921"
            ]
           ],
           "sequentialminus": [
            [
             0,
             "#0d0887"
            ],
            [
             0.1111111111111111,
             "#46039f"
            ],
            [
             0.2222222222222222,
             "#7201a8"
            ],
            [
             0.3333333333333333,
             "#9c179e"
            ],
            [
             0.4444444444444444,
             "#bd3786"
            ],
            [
             0.5555555555555556,
             "#d8576b"
            ],
            [
             0.6666666666666666,
             "#ed7953"
            ],
            [
             0.7777777777777778,
             "#fb9f3a"
            ],
            [
             0.8888888888888888,
             "#fdca26"
            ],
            [
             1,
             "#f0f921"
            ]
           ]
          },
          "colorway": [
           "#636efa",
           "#EF553B",
           "#00cc96",
           "#ab63fa",
           "#FFA15A",
           "#19d3f3",
           "#FF6692",
           "#B6E880",
           "#FF97FF",
           "#FECB52"
          ],
          "font": {
           "color": "#2a3f5f"
          },
          "geo": {
           "bgcolor": "white",
           "lakecolor": "white",
           "landcolor": "#E5ECF6",
           "showlakes": true,
           "showland": true,
           "subunitcolor": "white"
          },
          "hoverlabel": {
           "align": "left"
          },
          "hovermode": "closest",
          "mapbox": {
           "style": "light"
          },
          "paper_bgcolor": "white",
          "plot_bgcolor": "#E5ECF6",
          "polar": {
           "angularaxis": {
            "gridcolor": "white",
            "linecolor": "white",
            "ticks": ""
           },
           "bgcolor": "#E5ECF6",
           "radialaxis": {
            "gridcolor": "white",
            "linecolor": "white",
            "ticks": ""
           }
          },
          "scene": {
           "xaxis": {
            "backgroundcolor": "#E5ECF6",
            "gridcolor": "white",
            "gridwidth": 2,
            "linecolor": "white",
            "showbackground": true,
            "ticks": "",
            "zerolinecolor": "white"
           },
           "yaxis": {
            "backgroundcolor": "#E5ECF6",
            "gridcolor": "white",
            "gridwidth": 2,
            "linecolor": "white",
            "showbackground": true,
            "ticks": "",
            "zerolinecolor": "white"
           },
           "zaxis": {
            "backgroundcolor": "#E5ECF6",
            "gridcolor": "white",
            "gridwidth": 2,
            "linecolor": "white",
            "showbackground": true,
            "ticks": "",
            "zerolinecolor": "white"
           }
          },
          "shapedefaults": {
           "line": {
            "color": "#2a3f5f"
           }
          },
          "ternary": {
           "aaxis": {
            "gridcolor": "white",
            "linecolor": "white",
            "ticks": ""
           },
           "baxis": {
            "gridcolor": "white",
            "linecolor": "white",
            "ticks": ""
           },
           "bgcolor": "#E5ECF6",
           "caxis": {
            "gridcolor": "white",
            "linecolor": "white",
            "ticks": ""
           }
          },
          "title": {
           "x": 0.05
          },
          "xaxis": {
           "automargin": true,
           "gridcolor": "white",
           "linecolor": "white",
           "ticks": "",
           "title": {
            "standoff": 15
           },
           "zerolinecolor": "white",
           "zerolinewidth": 2
          },
          "yaxis": {
           "automargin": true,
           "gridcolor": "white",
           "linecolor": "white",
           "ticks": "",
           "title": {
            "standoff": 15
           },
           "zerolinecolor": "white",
           "zerolinewidth": 2
          }
         }
        },
        "title": {
         "text": "Percent coverage heatmap",
         "y": 0.78
        },
        "xaxis": {
         "anchor": "y",
         "constrain": "domain",
         "domain": [
          0,
          1
         ],
         "scaleanchor": "y",
         "title": {
          "text": "Mixture"
         }
        },
        "yaxis": {
         "anchor": "x",
         "autorange": "reversed",
         "constrain": "domain",
         "domain": [
          0,
          1
         ],
         "title": {
          "text": "Batch"
         }
        }
       }
      },
      "text/html": [
       "<div>                            <div id=\"b136d5ab-d1cf-4e4e-93f8-01d911532bbd\" class=\"plotly-graph-div\" style=\"height:525px; width:100%;\"></div>            <script type=\"text/javascript\">                require([\"plotly\"], function(Plotly) {                    window.PLOTLYENV=window.PLOTLYENV || {};                                    if (document.getElementById(\"b136d5ab-d1cf-4e4e-93f8-01d911532bbd\")) {                    Plotly.newPlot(                        \"b136d5ab-d1cf-4e4e-93f8-01d911532bbd\",                        [{\"coloraxis\":\"coloraxis\",\"name\":\"0\",\"x\":[\"0\",\"0-2\",\"0-3\",\"0-4\",\"0adgio1\",\"0adgio1-2\",\"0adgio1o2o3o4o5\",\"0agio1o2\",\"0aio1o2o3o4o5\",\"0o5o3o4\",\"a\",\"a-2\",\"adgio1o2o3\",\"agio3o4o5\",\"d\",\"d-2\",\"g\",\"g-2\",\"i\",\"i-2\",\"o1-2\",\"o1o2\",\"o1o2o3o4o5\",\"o2-2\",\"o2-3\",\"o2o3o4o5\",\"o2o3o4o5-2\",\"o2o3o4o5-3\",\"o3\",\"o3-2\",\"o3-3\",\"o3-4\",\"o4\",\"o4-2\",\"o4-3\",\"o5\",\"o5-2\",\"o5-3\"],\"y\":[\"NWRB: Artic\",\"NWRB: Varskip\",\"PWRB: Artic\",\"PWRB: Varskip\",\"WB: Artic\",\"WB: Varskip\"],\"z\":[[98.3012,97.0638,96.0472,97.1274,96.8933,97.2344,97.1408,97.4986,97.007,98.134,95.5389,97.7293,97.1374,97.5855,95.783,95.5322,95.4653,95.579,95.763,95.3449,97.8196,97.3581,97.0438,95.5423,94.8634,96.4786,99.7191,97.3147,95.763,96.8833,95.5523,94.5089,98.7259,95.0874,96.5054,96.4753,94.5189,95.9971],[96.793,94.636,93.295,96.7194,94.7129,95.4787,96.2077,95.4352,95.4954,95.5924,95.3015,94.2146,95.4185,95.161,95.5924,94.5992,94.8868,93.4455,89.9642,93.3418,93.8735,93.3652,96.191,92.1446,92.8034,94.636,95.4553,95.3483,94.5925,91.6028,95.4653,93.5525,96.9802,95.472,95.4453,93.3886,94.6092,94.5892],[97.6424,99.2375,98.1039,97.0973,97.8096,96.502,99.7659,97.7962,99.7659,96.9635,95.4921,95.4185,96.5355,96.6926,95.6994,95.5222,97.1541,94.4454,97.5387,93.6662,94.6594,96.8063,94.5357,95.1242,95.355,96.3816,94.2614,99.1539,94.5323,96.4686,94.3317,99.7325,96.0439,96.7796,96.7495,96.8866,95.1242,93.412],[96.696,98.4216,95.7362,93.5993,95.5389,98.3814,99.7024,95.87,97.6223,96.2111,92.78,93.8769,95.3851,94.5022,94.7162,94.4186,93.2783,95.2613,95.1911,94.3517,93.4655,94.325,96.4886,93.4589,93.6428,94.7798,94.7865,97.629,94.2481,94.5357,93.5692,98.4048,94.9269,94.7363,94.2079,97.5421,96.0104,95.4553],[97.9868,97.8263,97.4484,99.1105,98.9065,98.6757,99.4649,98.8262,98.9232,99.6154,97.7795,97.7594,99.2543,98.8295,98.338,96.813,97.5421,98.3647,97.2979,96.686,98.3079,98.4884,98.8195,98.027,96.2144,98.5486,97.9534,98.1708,98.5553,96.7361,97.231,96.298,98.9901,98.4918,98.0637,97.9668,97.6658,97.1709],[97.2511,95.044,98.0002,97.017,98.0136,98.0805,98.4416,98.3346,98.154,98.0571,97.833,96.2345,98.1942,97.5956,97.0137,97.1575,96.716,95.7396,95.7262,93.3719,97.8196,96.7729,97.7895,96.1843,96.8465,97.7728,97.0304,96.9401,97.0438,97.7494,95.5724,96.6391,97.0538,96.8532,99.1339,98.251,97.3682,97.9701]],\"type\":\"heatmap\",\"xaxis\":\"x\",\"yaxis\":\"y\",\"hovertemplate\":\"Mixture: %{x}\\u003cbr\\u003eBatch: %{y}\\u003cbr\\u003ecolor: %{z}\\u003cextra\\u003e\\u003c\\u002fextra\\u003e\"}],                        {\"template\":{\"data\":{\"histogram2dcontour\":[{\"type\":\"histogram2dcontour\",\"colorbar\":{\"outlinewidth\":0,\"ticks\":\"\"},\"colorscale\":[[0.0,\"#0d0887\"],[0.1111111111111111,\"#46039f\"],[0.2222222222222222,\"#7201a8\"],[0.3333333333333333,\"#9c179e\"],[0.4444444444444444,\"#bd3786\"],[0.5555555555555556,\"#d8576b\"],[0.6666666666666666,\"#ed7953\"],[0.7777777777777778,\"#fb9f3a\"],[0.8888888888888888,\"#fdca26\"],[1.0,\"#f0f921\"]]}],\"choropleth\":[{\"type\":\"choropleth\",\"colorbar\":{\"outlinewidth\":0,\"ticks\":\"\"}}],\"histogram2d\":[{\"type\":\"histogram2d\",\"colorbar\":{\"outlinewidth\":0,\"ticks\":\"\"},\"colorscale\":[[0.0,\"#0d0887\"],[0.1111111111111111,\"#46039f\"],[0.2222222222222222,\"#7201a8\"],[0.3333333333333333,\"#9c179e\"],[0.4444444444444444,\"#bd3786\"],[0.5555555555555556,\"#d8576b\"],[0.6666666666666666,\"#ed7953\"],[0.7777777777777778,\"#fb9f3a\"],[0.8888888888888888,\"#fdca26\"],[1.0,\"#f0f921\"]]}],\"heatmap\":[{\"type\":\"heatmap\",\"colorbar\":{\"outlinewidth\":0,\"ticks\":\"\"},\"colorscale\":[[0.0,\"#0d0887\"],[0.1111111111111111,\"#46039f\"],[0.2222222222222222,\"#7201a8\"],[0.3333333333333333,\"#9c179e\"],[0.4444444444444444,\"#bd3786\"],[0.5555555555555556,\"#d8576b\"],[0.6666666666666666,\"#ed7953\"],[0.7777777777777778,\"#fb9f3a\"],[0.8888888888888888,\"#fdca26\"],[1.0,\"#f0f921\"]]}],\"heatmapgl\":[{\"type\":\"heatmapgl\",\"colorbar\":{\"outlinewidth\":0,\"ticks\":\"\"},\"colorscale\":[[0.0,\"#0d0887\"],[0.1111111111111111,\"#46039f\"],[0.2222222222222222,\"#7201a8\"],[0.3333333333333333,\"#9c179e\"],[0.4444444444444444,\"#bd3786\"],[0.5555555555555556,\"#d8576b\"],[0.6666666666666666,\"#ed7953\"],[0.7777777777777778,\"#fb9f3a\"],[0.8888888888888888,\"#fdca26\"],[1.0,\"#f0f921\"]]}],\"contourcarpet\":[{\"type\":\"contourcarpet\",\"colorbar\":{\"outlinewidth\":0,\"ticks\":\"\"}}],\"contour\":[{\"type\":\"contour\",\"colorbar\":{\"outlinewidth\":0,\"ticks\":\"\"},\"colorscale\":[[0.0,\"#0d0887\"],[0.1111111111111111,\"#46039f\"],[0.2222222222222222,\"#7201a8\"],[0.3333333333333333,\"#9c179e\"],[0.4444444444444444,\"#bd3786\"],[0.5555555555555556,\"#d8576b\"],[0.6666666666666666,\"#ed7953\"],[0.7777777777777778,\"#fb9f3a\"],[0.8888888888888888,\"#fdca26\"],[1.0,\"#f0f921\"]]}],\"surface\":[{\"type\":\"surface\",\"colorbar\":{\"outlinewidth\":0,\"ticks\":\"\"},\"colorscale\":[[0.0,\"#0d0887\"],[0.1111111111111111,\"#46039f\"],[0.2222222222222222,\"#7201a8\"],[0.3333333333333333,\"#9c179e\"],[0.4444444444444444,\"#bd3786\"],[0.5555555555555556,\"#d8576b\"],[0.6666666666666666,\"#ed7953\"],[0.7777777777777778,\"#fb9f3a\"],[0.8888888888888888,\"#fdca26\"],[1.0,\"#f0f921\"]]}],\"mesh3d\":[{\"type\":\"mesh3d\",\"colorbar\":{\"outlinewidth\":0,\"ticks\":\"\"}}],\"scatter\":[{\"fillpattern\":{\"fillmode\":\"overlay\",\"size\":10,\"solidity\":0.2},\"type\":\"scatter\"}],\"parcoords\":[{\"type\":\"parcoords\",\"line\":{\"colorbar\":{\"outlinewidth\":0,\"ticks\":\"\"}}}],\"scatterpolargl\":[{\"type\":\"scatterpolargl\",\"marker\":{\"colorbar\":{\"outlinewidth\":0,\"ticks\":\"\"}}}],\"bar\":[{\"error_x\":{\"color\":\"#2a3f5f\"},\"error_y\":{\"color\":\"#2a3f5f\"},\"marker\":{\"line\":{\"color\":\"#E5ECF6\",\"width\":0.5},\"pattern\":{\"fillmode\":\"overlay\",\"size\":10,\"solidity\":0.2}},\"type\":\"bar\"}],\"scattergeo\":[{\"type\":\"scattergeo\",\"marker\":{\"colorbar\":{\"outlinewidth\":0,\"ticks\":\"\"}}}],\"scatterpolar\":[{\"type\":\"scatterpolar\",\"marker\":{\"colorbar\":{\"outlinewidth\":0,\"ticks\":\"\"}}}],\"histogram\":[{\"marker\":{\"pattern\":{\"fillmode\":\"overlay\",\"size\":10,\"solidity\":0.2}},\"type\":\"histogram\"}],\"scattergl\":[{\"type\":\"scattergl\",\"marker\":{\"colorbar\":{\"outlinewidth\":0,\"ticks\":\"\"}}}],\"scatter3d\":[{\"type\":\"scatter3d\",\"line\":{\"colorbar\":{\"outlinewidth\":0,\"ticks\":\"\"}},\"marker\":{\"colorbar\":{\"outlinewidth\":0,\"ticks\":\"\"}}}],\"scattermapbox\":[{\"type\":\"scattermapbox\",\"marker\":{\"colorbar\":{\"outlinewidth\":0,\"ticks\":\"\"}}}],\"scatterternary\":[{\"type\":\"scatterternary\",\"marker\":{\"colorbar\":{\"outlinewidth\":0,\"ticks\":\"\"}}}],\"scattercarpet\":[{\"type\":\"scattercarpet\",\"marker\":{\"colorbar\":{\"outlinewidth\":0,\"ticks\":\"\"}}}],\"carpet\":[{\"aaxis\":{\"endlinecolor\":\"#2a3f5f\",\"gridcolor\":\"white\",\"linecolor\":\"white\",\"minorgridcolor\":\"white\",\"startlinecolor\":\"#2a3f5f\"},\"baxis\":{\"endlinecolor\":\"#2a3f5f\",\"gridcolor\":\"white\",\"linecolor\":\"white\",\"minorgridcolor\":\"white\",\"startlinecolor\":\"#2a3f5f\"},\"type\":\"carpet\"}],\"table\":[{\"cells\":{\"fill\":{\"color\":\"#EBF0F8\"},\"line\":{\"color\":\"white\"}},\"header\":{\"fill\":{\"color\":\"#C8D4E3\"},\"line\":{\"color\":\"white\"}},\"type\":\"table\"}],\"barpolar\":[{\"marker\":{\"line\":{\"color\":\"#E5ECF6\",\"width\":0.5},\"pattern\":{\"fillmode\":\"overlay\",\"size\":10,\"solidity\":0.2}},\"type\":\"barpolar\"}],\"pie\":[{\"automargin\":true,\"type\":\"pie\"}]},\"layout\":{\"autotypenumbers\":\"strict\",\"colorway\":[\"#636efa\",\"#EF553B\",\"#00cc96\",\"#ab63fa\",\"#FFA15A\",\"#19d3f3\",\"#FF6692\",\"#B6E880\",\"#FF97FF\",\"#FECB52\"],\"font\":{\"color\":\"#2a3f5f\"},\"hovermode\":\"closest\",\"hoverlabel\":{\"align\":\"left\"},\"paper_bgcolor\":\"white\",\"plot_bgcolor\":\"#E5ECF6\",\"polar\":{\"bgcolor\":\"#E5ECF6\",\"angularaxis\":{\"gridcolor\":\"white\",\"linecolor\":\"white\",\"ticks\":\"\"},\"radialaxis\":{\"gridcolor\":\"white\",\"linecolor\":\"white\",\"ticks\":\"\"}},\"ternary\":{\"bgcolor\":\"#E5ECF6\",\"aaxis\":{\"gridcolor\":\"white\",\"linecolor\":\"white\",\"ticks\":\"\"},\"baxis\":{\"gridcolor\":\"white\",\"linecolor\":\"white\",\"ticks\":\"\"},\"caxis\":{\"gridcolor\":\"white\",\"linecolor\":\"white\",\"ticks\":\"\"}},\"coloraxis\":{\"colorbar\":{\"outlinewidth\":0,\"ticks\":\"\"}},\"colorscale\":{\"sequential\":[[0.0,\"#0d0887\"],[0.1111111111111111,\"#46039f\"],[0.2222222222222222,\"#7201a8\"],[0.3333333333333333,\"#9c179e\"],[0.4444444444444444,\"#bd3786\"],[0.5555555555555556,\"#d8576b\"],[0.6666666666666666,\"#ed7953\"],[0.7777777777777778,\"#fb9f3a\"],[0.8888888888888888,\"#fdca26\"],[1.0,\"#f0f921\"]],\"sequentialminus\":[[0.0,\"#0d0887\"],[0.1111111111111111,\"#46039f\"],[0.2222222222222222,\"#7201a8\"],[0.3333333333333333,\"#9c179e\"],[0.4444444444444444,\"#bd3786\"],[0.5555555555555556,\"#d8576b\"],[0.6666666666666666,\"#ed7953\"],[0.7777777777777778,\"#fb9f3a\"],[0.8888888888888888,\"#fdca26\"],[1.0,\"#f0f921\"]],\"diverging\":[[0,\"#8e0152\"],[0.1,\"#c51b7d\"],[0.2,\"#de77ae\"],[0.3,\"#f1b6da\"],[0.4,\"#fde0ef\"],[0.5,\"#f7f7f7\"],[0.6,\"#e6f5d0\"],[0.7,\"#b8e186\"],[0.8,\"#7fbc41\"],[0.9,\"#4d9221\"],[1,\"#276419\"]]},\"xaxis\":{\"gridcolor\":\"white\",\"linecolor\":\"white\",\"ticks\":\"\",\"title\":{\"standoff\":15},\"zerolinecolor\":\"white\",\"automargin\":true,\"zerolinewidth\":2},\"yaxis\":{\"gridcolor\":\"white\",\"linecolor\":\"white\",\"ticks\":\"\",\"title\":{\"standoff\":15},\"zerolinecolor\":\"white\",\"automargin\":true,\"zerolinewidth\":2},\"scene\":{\"xaxis\":{\"backgroundcolor\":\"#E5ECF6\",\"gridcolor\":\"white\",\"linecolor\":\"white\",\"showbackground\":true,\"ticks\":\"\",\"zerolinecolor\":\"white\",\"gridwidth\":2},\"yaxis\":{\"backgroundcolor\":\"#E5ECF6\",\"gridcolor\":\"white\",\"linecolor\":\"white\",\"showbackground\":true,\"ticks\":\"\",\"zerolinecolor\":\"white\",\"gridwidth\":2},\"zaxis\":{\"backgroundcolor\":\"#E5ECF6\",\"gridcolor\":\"white\",\"linecolor\":\"white\",\"showbackground\":true,\"ticks\":\"\",\"zerolinecolor\":\"white\",\"gridwidth\":2}},\"shapedefaults\":{\"line\":{\"color\":\"#2a3f5f\"}},\"annotationdefaults\":{\"arrowcolor\":\"#2a3f5f\",\"arrowhead\":0,\"arrowwidth\":1},\"geo\":{\"bgcolor\":\"white\",\"landcolor\":\"#E5ECF6\",\"subunitcolor\":\"white\",\"showland\":true,\"showlakes\":true,\"lakecolor\":\"white\"},\"title\":{\"x\":0.05},\"mapbox\":{\"style\":\"light\"}}},\"xaxis\":{\"anchor\":\"y\",\"domain\":[0.0,1.0],\"scaleanchor\":\"y\",\"constrain\":\"domain\",\"title\":{\"text\":\"Mixture\"}},\"yaxis\":{\"anchor\":\"x\",\"domain\":[0.0,1.0],\"autorange\":\"reversed\",\"constrain\":\"domain\",\"title\":{\"text\":\"Batch\"}},\"coloraxis\":{\"colorscale\":[[0.0,\"#0d0887\"],[0.1111111111111111,\"#46039f\"],[0.2222222222222222,\"#7201a8\"],[0.3333333333333333,\"#9c179e\"],[0.4444444444444444,\"#bd3786\"],[0.5555555555555556,\"#d8576b\"],[0.6666666666666666,\"#ed7953\"],[0.7777777777777778,\"#fb9f3a\"],[0.8888888888888888,\"#fdca26\"],[1.0,\"#f0f921\"]]},\"title\":{\"text\":\"Percent coverage heatmap\",\"y\":0.78}},                        {\"responsive\": true}                    ).then(function(){\n",
       "                            \n",
       "var gd = document.getElementById('b136d5ab-d1cf-4e4e-93f8-01d911532bbd');\n",
       "var x = new MutationObserver(function (mutations, observer) {{\n",
       "        var display = window.getComputedStyle(gd).display;\n",
       "        if (!display || display === 'none') {{\n",
       "            console.log([gd, 'removed!']);\n",
       "            Plotly.purge(gd);\n",
       "            observer.disconnect();\n",
       "        }}\n",
       "}});\n",
       "\n",
       "// Listen for the removal of the full notebook cells\n",
       "var notebookContainer = gd.closest('#notebook-container');\n",
       "if (notebookContainer) {{\n",
       "    x.observe(notebookContainer, {childList: true});\n",
       "}}\n",
       "\n",
       "// Listen for the clearing of the current output cell\n",
       "var outputEl = gd.closest('.output');\n",
       "if (outputEl) {{\n",
       "    x.observe(outputEl, {childList: true});\n",
       "}}\n",
       "\n",
       "                        })                };                });            </script>        </div>"
      ]
     },
     "metadata": {},
     "output_type": "display_data"
    }
   ],
   "source": [
    "fig1 = getHeatmap(df,\"coverage\", title=\"Percent coverage heatmap\", labels={\"y\":\"Batch\",\"x\":\"Mixture\"})\n",
    "pio.write_image(fig1, outdir / \"percent_coverage_heatmap.jpg\", width=1400, height=500, scale=2)\n",
    "fig1"
   ]
  },
  {
   "cell_type": "code",
   "execution_count": 10,
   "metadata": {},
   "outputs": [
    {
     "data": {
      "application/vnd.plotly.v1+json": {
       "config": {
        "plotlyServerURL": "https://plot.ly"
       },
       "data": [
        {
         "coloraxis": "coloraxis",
         "hovertemplate": "Mixture: %{x}<br>Batch: %{y}<br>color: %{z}<extra></extra>",
         "name": "0",
         "type": "heatmap",
         "x": [
          "0",
          "0-2",
          "0-3",
          "0-4",
          "0adgio1",
          "0adgio1-2",
          "0adgio1o2o3o4o5",
          "0agio1o2",
          "0aio1o2o3o4o5",
          "0o5o3o4",
          "a",
          "a-2",
          "adgio1o2o3",
          "agio3o4o5",
          "d",
          "d-2",
          "g",
          "g-2",
          "i",
          "i-2",
          "o1-2",
          "o1o2",
          "o1o2o3o4o5",
          "o2-2",
          "o2-3",
          "o2o3o4o5",
          "o2o3o4o5-2",
          "o2o3o4o5-3",
          "o3",
          "o3-2",
          "o3-3",
          "o3-4",
          "o4",
          "o4-2",
          "o4-3",
          "o5",
          "o5-2",
          "o5-3"
         ],
         "xaxis": "x",
         "y": [
          "NWRB: Artic",
          "NWRB: Varskip",
          "PWRB: Artic",
          "PWRB: Varskip",
          "WB: Artic",
          "WB: Varskip"
         ],
         "yaxis": "y",
         "z": [
          [
           4591.080808080808,
           4433.939393939394,
           4910.929292929293,
           4315.49494949495,
           3994.747474747475,
           4694.373737373738,
           4061.8282828282827,
           5021.464646464647,
           4688.717171717171,
           5221.818181818182,
           4172.212121212121,
           4591.373737373738,
           5523.575757575758,
           4281.474747474747,
           4375.323232323232,
           4919.313131313132,
           3571.2626262626263,
           4436.858585858586,
           4453.636363636364,
           4614.686868686868,
           4706.909090909091,
           4390.979797979798,
           4728.909090909091,
           4672.939393939394,
           4342.131313131313,
           3723.7070707070707,
           4903.272727272727,
           4821.89898989899,
           4347.080808080808,
           4543.515151515152,
           4979.969696969697,
           4201.19191919192,
           4871.979797979798,
           5231.737373737374,
           4476.747474747474,
           4087.5656565656564,
           4200.616161616162,
           4353.626262626262
          ],
          [
           6538.405405405405,
           7913.013513513513,
           6992.040540540541,
           6798.7027027027025,
           7681.635135135135,
           6281.7972972972975,
           6648.472972972973,
           7995.945945945946,
           6428.148648648648,
           8587.486486486487,
           5717.608108108108,
           5920.040540540541,
           8453.648648648648,
           7711.864864864865,
           6423.0675675675675,
           7177.959459459459,
           5711.891891891892,
           6182.22972972973,
           5919.878378378378,
           6558.1621621621625,
           7465.5,
           6484.283783783784,
           7526.648648648648,
           6706,
           5642.9324324324325,
           3508.7297297297296,
           6783.324324324324,
           6813.5675675675675,
           7311.554054054054,
           7833.864864864865,
           7002.743243243243,
           5537.5,
           8218.432432432432,
           6704.256756756757,
           6808,
           7121.2027027027025,
           5964.3378378378375,
           6462.445945945946
          ],
          [
           14232.838383838383,
           7707.525252525253,
           7982.858585858586,
           9748.40404040404,
           7707.686868686868,
           7266.30303030303,
           8059.818181818182,
           9076.858585858587,
           8189.676767676768,
           9142.29292929293,
           8845.151515151516,
           8814.131313131313,
           8382.818181818182,
           7623.515151515152,
           8228.38383838384,
           10117.535353535353,
           7242.353535353535,
           9504.888888888889,
           8211.232323232323,
           11365.353535353535,
           8353.232323232323,
           10718.656565656565,
           9412.767676767677,
           9666.545454545454,
           8522.080808080807,
           7973.454545454545,
           10102.89898989899,
           8287.676767676769,
           10996.444444444445,
           8326.69696969697,
           8069.686868686868,
           7184.393939393939,
           8874.262626262625,
           8057.171717171717,
           10729.949494949495,
           8465.30303030303,
           8664.626262626263,
           7614.535353535353
          ],
          [
           10305.837837837838,
           9635.445945945947,
           9395.364864864865,
           9163.54054054054,
           9897.148648648648,
           8915.716216216217,
           9688.54054054054,
           9928.162162162162,
           9611.567567567568,
           10383.135135135135,
           8687.202702702703,
           9385.486486486487,
           10642.905405405405,
           10367.783783783783,
           9041.878378378378,
           10020.472972972973,
           9097.756756756757,
           9019.027027027027,
           9790.013513513513,
           8680.68918918919,
           9739.175675675675,
           10842.878378378378,
           11159.054054054053,
           9767.27027027027,
           9394.905405405405,
           8595.175675675675,
           10401.891891891892,
           10318.81081081081,
           8271.554054054053,
           9804.202702702703,
           8789.756756756757,
           8408.175675675675,
           9919.675675675675,
           8707.405405405405,
           9881.945945945947,
           8813.716216216217,
           9579.81081081081,
           9126.418918918918
          ],
          [
           8767.040404040405,
           10373.050505050505,
           10723.69696969697,
           8926.343434343435,
           7360.80808080808,
           7066.131313131313,
           7773.575757575758,
           8051.262626262626,
           9969.59595959596,
           10385.111111111111,
           7679.212121212121,
           6790.848484848485,
           9315.282828282829,
           8964.070707070707,
           9316.424242424242,
           7720.979797979798,
           9056.09090909091,
           7713.313131313132,
           8489.818181818182,
           9251.515151515152,
           7889.242424242424,
           7021.515151515152,
           8823.080808080807,
           11427.40404040404,
           6612.949494949495,
           7621.070707070707,
           7131.939393939394,
           9733.474747474747,
           6964.747474747474,
           9342.505050505051,
           7894.141414141414,
           7695.69696969697,
           8050.111111111111,
           7419.535353535353,
           9308.878787878788,
           5917.535353535353,
           8953.79797979798,
           7137.858585858586
          ],
          [
           7075.27027027027,
           8843.513513513513,
           7838.364864864865,
           8930.027027027027,
           8823.243243243243,
           9335.527027027027,
           8511.716216216217,
           8247.648648648648,
           9297.364864864865,
           10141.986486486487,
           7860.256756756757,
           8602.18918918919,
           9096.081081081082,
           7243.756756756757,
           8891.662162162162,
           8117.486486486487,
           8531.891891891892,
           9032.081081081082,
           8080.310810810811,
           6644.013513513513,
           8821.68918918919,
           8875.837837837838,
           8827.635135135135,
           7469.675675675676,
           8912.513513513513,
           6571.554054054054,
           7255.283783783784,
           7694.027027027027,
           10093.256756756757,
           9291.864864864865,
           8272.662162162162,
           7824.972972972973,
           7349.635135135135,
           8164.878378378378,
           9156.108108108108,
           7254.4324324324325,
           8294.5,
           10806.364864864865
          ]
         ]
        }
       ],
       "layout": {
        "coloraxis": {
         "colorscale": [
          [
           0,
           "#0d0887"
          ],
          [
           0.1111111111111111,
           "#46039f"
          ],
          [
           0.2222222222222222,
           "#7201a8"
          ],
          [
           0.3333333333333333,
           "#9c179e"
          ],
          [
           0.4444444444444444,
           "#bd3786"
          ],
          [
           0.5555555555555556,
           "#d8576b"
          ],
          [
           0.6666666666666666,
           "#ed7953"
          ],
          [
           0.7777777777777778,
           "#fb9f3a"
          ],
          [
           0.8888888888888888,
           "#fdca26"
          ],
          [
           1,
           "#f0f921"
          ]
         ]
        },
        "template": {
         "data": {
          "bar": [
           {
            "error_x": {
             "color": "#2a3f5f"
            },
            "error_y": {
             "color": "#2a3f5f"
            },
            "marker": {
             "line": {
              "color": "#E5ECF6",
              "width": 0.5
             },
             "pattern": {
              "fillmode": "overlay",
              "size": 10,
              "solidity": 0.2
             }
            },
            "type": "bar"
           }
          ],
          "barpolar": [
           {
            "marker": {
             "line": {
              "color": "#E5ECF6",
              "width": 0.5
             },
             "pattern": {
              "fillmode": "overlay",
              "size": 10,
              "solidity": 0.2
             }
            },
            "type": "barpolar"
           }
          ],
          "carpet": [
           {
            "aaxis": {
             "endlinecolor": "#2a3f5f",
             "gridcolor": "white",
             "linecolor": "white",
             "minorgridcolor": "white",
             "startlinecolor": "#2a3f5f"
            },
            "baxis": {
             "endlinecolor": "#2a3f5f",
             "gridcolor": "white",
             "linecolor": "white",
             "minorgridcolor": "white",
             "startlinecolor": "#2a3f5f"
            },
            "type": "carpet"
           }
          ],
          "choropleth": [
           {
            "colorbar": {
             "outlinewidth": 0,
             "ticks": ""
            },
            "type": "choropleth"
           }
          ],
          "contour": [
           {
            "colorbar": {
             "outlinewidth": 0,
             "ticks": ""
            },
            "colorscale": [
             [
              0,
              "#0d0887"
             ],
             [
              0.1111111111111111,
              "#46039f"
             ],
             [
              0.2222222222222222,
              "#7201a8"
             ],
             [
              0.3333333333333333,
              "#9c179e"
             ],
             [
              0.4444444444444444,
              "#bd3786"
             ],
             [
              0.5555555555555556,
              "#d8576b"
             ],
             [
              0.6666666666666666,
              "#ed7953"
             ],
             [
              0.7777777777777778,
              "#fb9f3a"
             ],
             [
              0.8888888888888888,
              "#fdca26"
             ],
             [
              1,
              "#f0f921"
             ]
            ],
            "type": "contour"
           }
          ],
          "contourcarpet": [
           {
            "colorbar": {
             "outlinewidth": 0,
             "ticks": ""
            },
            "type": "contourcarpet"
           }
          ],
          "heatmap": [
           {
            "colorbar": {
             "outlinewidth": 0,
             "ticks": ""
            },
            "colorscale": [
             [
              0,
              "#0d0887"
             ],
             [
              0.1111111111111111,
              "#46039f"
             ],
             [
              0.2222222222222222,
              "#7201a8"
             ],
             [
              0.3333333333333333,
              "#9c179e"
             ],
             [
              0.4444444444444444,
              "#bd3786"
             ],
             [
              0.5555555555555556,
              "#d8576b"
             ],
             [
              0.6666666666666666,
              "#ed7953"
             ],
             [
              0.7777777777777778,
              "#fb9f3a"
             ],
             [
              0.8888888888888888,
              "#fdca26"
             ],
             [
              1,
              "#f0f921"
             ]
            ],
            "type": "heatmap"
           }
          ],
          "heatmapgl": [
           {
            "colorbar": {
             "outlinewidth": 0,
             "ticks": ""
            },
            "colorscale": [
             [
              0,
              "#0d0887"
             ],
             [
              0.1111111111111111,
              "#46039f"
             ],
             [
              0.2222222222222222,
              "#7201a8"
             ],
             [
              0.3333333333333333,
              "#9c179e"
             ],
             [
              0.4444444444444444,
              "#bd3786"
             ],
             [
              0.5555555555555556,
              "#d8576b"
             ],
             [
              0.6666666666666666,
              "#ed7953"
             ],
             [
              0.7777777777777778,
              "#fb9f3a"
             ],
             [
              0.8888888888888888,
              "#fdca26"
             ],
             [
              1,
              "#f0f921"
             ]
            ],
            "type": "heatmapgl"
           }
          ],
          "histogram": [
           {
            "marker": {
             "pattern": {
              "fillmode": "overlay",
              "size": 10,
              "solidity": 0.2
             }
            },
            "type": "histogram"
           }
          ],
          "histogram2d": [
           {
            "colorbar": {
             "outlinewidth": 0,
             "ticks": ""
            },
            "colorscale": [
             [
              0,
              "#0d0887"
             ],
             [
              0.1111111111111111,
              "#46039f"
             ],
             [
              0.2222222222222222,
              "#7201a8"
             ],
             [
              0.3333333333333333,
              "#9c179e"
             ],
             [
              0.4444444444444444,
              "#bd3786"
             ],
             [
              0.5555555555555556,
              "#d8576b"
             ],
             [
              0.6666666666666666,
              "#ed7953"
             ],
             [
              0.7777777777777778,
              "#fb9f3a"
             ],
             [
              0.8888888888888888,
              "#fdca26"
             ],
             [
              1,
              "#f0f921"
             ]
            ],
            "type": "histogram2d"
           }
          ],
          "histogram2dcontour": [
           {
            "colorbar": {
             "outlinewidth": 0,
             "ticks": ""
            },
            "colorscale": [
             [
              0,
              "#0d0887"
             ],
             [
              0.1111111111111111,
              "#46039f"
             ],
             [
              0.2222222222222222,
              "#7201a8"
             ],
             [
              0.3333333333333333,
              "#9c179e"
             ],
             [
              0.4444444444444444,
              "#bd3786"
             ],
             [
              0.5555555555555556,
              "#d8576b"
             ],
             [
              0.6666666666666666,
              "#ed7953"
             ],
             [
              0.7777777777777778,
              "#fb9f3a"
             ],
             [
              0.8888888888888888,
              "#fdca26"
             ],
             [
              1,
              "#f0f921"
             ]
            ],
            "type": "histogram2dcontour"
           }
          ],
          "mesh3d": [
           {
            "colorbar": {
             "outlinewidth": 0,
             "ticks": ""
            },
            "type": "mesh3d"
           }
          ],
          "parcoords": [
           {
            "line": {
             "colorbar": {
              "outlinewidth": 0,
              "ticks": ""
             }
            },
            "type": "parcoords"
           }
          ],
          "pie": [
           {
            "automargin": true,
            "type": "pie"
           }
          ],
          "scatter": [
           {
            "fillpattern": {
             "fillmode": "overlay",
             "size": 10,
             "solidity": 0.2
            },
            "type": "scatter"
           }
          ],
          "scatter3d": [
           {
            "line": {
             "colorbar": {
              "outlinewidth": 0,
              "ticks": ""
             }
            },
            "marker": {
             "colorbar": {
              "outlinewidth": 0,
              "ticks": ""
             }
            },
            "type": "scatter3d"
           }
          ],
          "scattercarpet": [
           {
            "marker": {
             "colorbar": {
              "outlinewidth": 0,
              "ticks": ""
             }
            },
            "type": "scattercarpet"
           }
          ],
          "scattergeo": [
           {
            "marker": {
             "colorbar": {
              "outlinewidth": 0,
              "ticks": ""
             }
            },
            "type": "scattergeo"
           }
          ],
          "scattergl": [
           {
            "marker": {
             "colorbar": {
              "outlinewidth": 0,
              "ticks": ""
             }
            },
            "type": "scattergl"
           }
          ],
          "scattermapbox": [
           {
            "marker": {
             "colorbar": {
              "outlinewidth": 0,
              "ticks": ""
             }
            },
            "type": "scattermapbox"
           }
          ],
          "scatterpolar": [
           {
            "marker": {
             "colorbar": {
              "outlinewidth": 0,
              "ticks": ""
             }
            },
            "type": "scatterpolar"
           }
          ],
          "scatterpolargl": [
           {
            "marker": {
             "colorbar": {
              "outlinewidth": 0,
              "ticks": ""
             }
            },
            "type": "scatterpolargl"
           }
          ],
          "scatterternary": [
           {
            "marker": {
             "colorbar": {
              "outlinewidth": 0,
              "ticks": ""
             }
            },
            "type": "scatterternary"
           }
          ],
          "surface": [
           {
            "colorbar": {
             "outlinewidth": 0,
             "ticks": ""
            },
            "colorscale": [
             [
              0,
              "#0d0887"
             ],
             [
              0.1111111111111111,
              "#46039f"
             ],
             [
              0.2222222222222222,
              "#7201a8"
             ],
             [
              0.3333333333333333,
              "#9c179e"
             ],
             [
              0.4444444444444444,
              "#bd3786"
             ],
             [
              0.5555555555555556,
              "#d8576b"
             ],
             [
              0.6666666666666666,
              "#ed7953"
             ],
             [
              0.7777777777777778,
              "#fb9f3a"
             ],
             [
              0.8888888888888888,
              "#fdca26"
             ],
             [
              1,
              "#f0f921"
             ]
            ],
            "type": "surface"
           }
          ],
          "table": [
           {
            "cells": {
             "fill": {
              "color": "#EBF0F8"
             },
             "line": {
              "color": "white"
             }
            },
            "header": {
             "fill": {
              "color": "#C8D4E3"
             },
             "line": {
              "color": "white"
             }
            },
            "type": "table"
           }
          ]
         },
         "layout": {
          "annotationdefaults": {
           "arrowcolor": "#2a3f5f",
           "arrowhead": 0,
           "arrowwidth": 1
          },
          "autotypenumbers": "strict",
          "coloraxis": {
           "colorbar": {
            "outlinewidth": 0,
            "ticks": ""
           }
          },
          "colorscale": {
           "diverging": [
            [
             0,
             "#8e0152"
            ],
            [
             0.1,
             "#c51b7d"
            ],
            [
             0.2,
             "#de77ae"
            ],
            [
             0.3,
             "#f1b6da"
            ],
            [
             0.4,
             "#fde0ef"
            ],
            [
             0.5,
             "#f7f7f7"
            ],
            [
             0.6,
             "#e6f5d0"
            ],
            [
             0.7,
             "#b8e186"
            ],
            [
             0.8,
             "#7fbc41"
            ],
            [
             0.9,
             "#4d9221"
            ],
            [
             1,
             "#276419"
            ]
           ],
           "sequential": [
            [
             0,
             "#0d0887"
            ],
            [
             0.1111111111111111,
             "#46039f"
            ],
            [
             0.2222222222222222,
             "#7201a8"
            ],
            [
             0.3333333333333333,
             "#9c179e"
            ],
            [
             0.4444444444444444,
             "#bd3786"
            ],
            [
             0.5555555555555556,
             "#d8576b"
            ],
            [
             0.6666666666666666,
             "#ed7953"
            ],
            [
             0.7777777777777778,
             "#fb9f3a"
            ],
            [
             0.8888888888888888,
             "#fdca26"
            ],
            [
             1,
             "#f0f921"
            ]
           ],
           "sequentialminus": [
            [
             0,
             "#0d0887"
            ],
            [
             0.1111111111111111,
             "#46039f"
            ],
            [
             0.2222222222222222,
             "#7201a8"
            ],
            [
             0.3333333333333333,
             "#9c179e"
            ],
            [
             0.4444444444444444,
             "#bd3786"
            ],
            [
             0.5555555555555556,
             "#d8576b"
            ],
            [
             0.6666666666666666,
             "#ed7953"
            ],
            [
             0.7777777777777778,
             "#fb9f3a"
            ],
            [
             0.8888888888888888,
             "#fdca26"
            ],
            [
             1,
             "#f0f921"
            ]
           ]
          },
          "colorway": [
           "#636efa",
           "#EF553B",
           "#00cc96",
           "#ab63fa",
           "#FFA15A",
           "#19d3f3",
           "#FF6692",
           "#B6E880",
           "#FF97FF",
           "#FECB52"
          ],
          "font": {
           "color": "#2a3f5f"
          },
          "geo": {
           "bgcolor": "white",
           "lakecolor": "white",
           "landcolor": "#E5ECF6",
           "showlakes": true,
           "showland": true,
           "subunitcolor": "white"
          },
          "hoverlabel": {
           "align": "left"
          },
          "hovermode": "closest",
          "mapbox": {
           "style": "light"
          },
          "paper_bgcolor": "white",
          "plot_bgcolor": "#E5ECF6",
          "polar": {
           "angularaxis": {
            "gridcolor": "white",
            "linecolor": "white",
            "ticks": ""
           },
           "bgcolor": "#E5ECF6",
           "radialaxis": {
            "gridcolor": "white",
            "linecolor": "white",
            "ticks": ""
           }
          },
          "scene": {
           "xaxis": {
            "backgroundcolor": "#E5ECF6",
            "gridcolor": "white",
            "gridwidth": 2,
            "linecolor": "white",
            "showbackground": true,
            "ticks": "",
            "zerolinecolor": "white"
           },
           "yaxis": {
            "backgroundcolor": "#E5ECF6",
            "gridcolor": "white",
            "gridwidth": 2,
            "linecolor": "white",
            "showbackground": true,
            "ticks": "",
            "zerolinecolor": "white"
           },
           "zaxis": {
            "backgroundcolor": "#E5ECF6",
            "gridcolor": "white",
            "gridwidth": 2,
            "linecolor": "white",
            "showbackground": true,
            "ticks": "",
            "zerolinecolor": "white"
           }
          },
          "shapedefaults": {
           "line": {
            "color": "#2a3f5f"
           }
          },
          "ternary": {
           "aaxis": {
            "gridcolor": "white",
            "linecolor": "white",
            "ticks": ""
           },
           "baxis": {
            "gridcolor": "white",
            "linecolor": "white",
            "ticks": ""
           },
           "bgcolor": "#E5ECF6",
           "caxis": {
            "gridcolor": "white",
            "linecolor": "white",
            "ticks": ""
           }
          },
          "title": {
           "x": 0.05
          },
          "xaxis": {
           "automargin": true,
           "gridcolor": "white",
           "linecolor": "white",
           "ticks": "",
           "title": {
            "standoff": 15
           },
           "zerolinecolor": "white",
           "zerolinewidth": 2
          },
          "yaxis": {
           "automargin": true,
           "gridcolor": "white",
           "linecolor": "white",
           "ticks": "",
           "title": {
            "standoff": 15
           },
           "zerolinecolor": "white",
           "zerolinewidth": 2
          }
         }
        },
        "title": {
         "text": "Normalized read counts heatmap",
         "y": 0.78
        },
        "xaxis": {
         "anchor": "y",
         "constrain": "domain",
         "domain": [
          0,
          1
         ],
         "scaleanchor": "y",
         "title": {
          "text": "Mixture"
         }
        },
        "yaxis": {
         "anchor": "x",
         "autorange": "reversed",
         "constrain": "domain",
         "domain": [
          0,
          1
         ],
         "title": {
          "text": "Batch"
         }
        }
       }
      },
      "text/html": [
       "<div>                            <div id=\"98b6e2f6-5c17-4fd7-826e-5ff3891085f1\" class=\"plotly-graph-div\" style=\"height:525px; width:100%;\"></div>            <script type=\"text/javascript\">                require([\"plotly\"], function(Plotly) {                    window.PLOTLYENV=window.PLOTLYENV || {};                                    if (document.getElementById(\"98b6e2f6-5c17-4fd7-826e-5ff3891085f1\")) {                    Plotly.newPlot(                        \"98b6e2f6-5c17-4fd7-826e-5ff3891085f1\",                        [{\"coloraxis\":\"coloraxis\",\"name\":\"0\",\"x\":[\"0\",\"0-2\",\"0-3\",\"0-4\",\"0adgio1\",\"0adgio1-2\",\"0adgio1o2o3o4o5\",\"0agio1o2\",\"0aio1o2o3o4o5\",\"0o5o3o4\",\"a\",\"a-2\",\"adgio1o2o3\",\"agio3o4o5\",\"d\",\"d-2\",\"g\",\"g-2\",\"i\",\"i-2\",\"o1-2\",\"o1o2\",\"o1o2o3o4o5\",\"o2-2\",\"o2-3\",\"o2o3o4o5\",\"o2o3o4o5-2\",\"o2o3o4o5-3\",\"o3\",\"o3-2\",\"o3-3\",\"o3-4\",\"o4\",\"o4-2\",\"o4-3\",\"o5\",\"o5-2\",\"o5-3\"],\"y\":[\"NWRB: Artic\",\"NWRB: Varskip\",\"PWRB: Artic\",\"PWRB: Varskip\",\"WB: Artic\",\"WB: Varskip\"],\"z\":[[4591.080808080808,4433.939393939394,4910.929292929293,4315.49494949495,3994.747474747475,4694.373737373738,4061.8282828282827,5021.464646464647,4688.717171717171,5221.818181818182,4172.212121212121,4591.373737373738,5523.575757575758,4281.474747474747,4375.323232323232,4919.313131313132,3571.2626262626263,4436.858585858586,4453.636363636364,4614.686868686868,4706.909090909091,4390.979797979798,4728.909090909091,4672.939393939394,4342.131313131313,3723.7070707070707,4903.272727272727,4821.89898989899,4347.080808080808,4543.515151515152,4979.969696969697,4201.19191919192,4871.979797979798,5231.737373737374,4476.747474747474,4087.5656565656564,4200.616161616162,4353.626262626262],[6538.405405405405,7913.013513513513,6992.040540540541,6798.7027027027025,7681.635135135135,6281.7972972972975,6648.472972972973,7995.945945945946,6428.148648648648,8587.486486486487,5717.608108108108,5920.040540540541,8453.648648648648,7711.864864864865,6423.0675675675675,7177.959459459459,5711.891891891892,6182.22972972973,5919.878378378378,6558.1621621621625,7465.5,6484.283783783784,7526.648648648648,6706.0,5642.9324324324325,3508.7297297297296,6783.324324324324,6813.5675675675675,7311.554054054054,7833.864864864865,7002.743243243243,5537.5,8218.432432432432,6704.256756756757,6808.0,7121.2027027027025,5964.3378378378375,6462.445945945946],[14232.838383838383,7707.525252525253,7982.858585858586,9748.40404040404,7707.686868686868,7266.30303030303,8059.818181818182,9076.858585858587,8189.676767676768,9142.29292929293,8845.151515151516,8814.131313131313,8382.818181818182,7623.515151515152,8228.38383838384,10117.535353535353,7242.353535353535,9504.888888888889,8211.232323232323,11365.353535353535,8353.232323232323,10718.656565656565,9412.767676767677,9666.545454545454,8522.080808080807,7973.454545454545,10102.89898989899,8287.676767676769,10996.444444444445,8326.69696969697,8069.686868686868,7184.393939393939,8874.262626262625,8057.171717171717,10729.949494949495,8465.30303030303,8664.626262626263,7614.535353535353],[10305.837837837838,9635.445945945947,9395.364864864865,9163.54054054054,9897.148648648648,8915.716216216217,9688.54054054054,9928.162162162162,9611.567567567568,10383.135135135135,8687.202702702703,9385.486486486487,10642.905405405405,10367.783783783783,9041.878378378378,10020.472972972973,9097.756756756757,9019.027027027027,9790.013513513513,8680.68918918919,9739.175675675675,10842.878378378378,11159.054054054053,9767.27027027027,9394.905405405405,8595.175675675675,10401.891891891892,10318.81081081081,8271.554054054053,9804.202702702703,8789.756756756757,8408.175675675675,9919.675675675675,8707.405405405405,9881.945945945947,8813.716216216217,9579.81081081081,9126.418918918918],[8767.040404040405,10373.050505050505,10723.69696969697,8926.343434343435,7360.80808080808,7066.131313131313,7773.575757575758,8051.262626262626,9969.59595959596,10385.111111111111,7679.212121212121,6790.848484848485,9315.282828282829,8964.070707070707,9316.424242424242,7720.979797979798,9056.09090909091,7713.313131313132,8489.818181818182,9251.515151515152,7889.242424242424,7021.515151515152,8823.080808080807,11427.40404040404,6612.949494949495,7621.070707070707,7131.939393939394,9733.474747474747,6964.747474747474,9342.505050505051,7894.141414141414,7695.69696969697,8050.111111111111,7419.535353535353,9308.878787878788,5917.535353535353,8953.79797979798,7137.858585858586],[7075.27027027027,8843.513513513513,7838.364864864865,8930.027027027027,8823.243243243243,9335.527027027027,8511.716216216217,8247.648648648648,9297.364864864865,10141.986486486487,7860.256756756757,8602.18918918919,9096.081081081082,7243.756756756757,8891.662162162162,8117.486486486487,8531.891891891892,9032.081081081082,8080.310810810811,6644.013513513513,8821.68918918919,8875.837837837838,8827.635135135135,7469.675675675676,8912.513513513513,6571.554054054054,7255.283783783784,7694.027027027027,10093.256756756757,9291.864864864865,8272.662162162162,7824.972972972973,7349.635135135135,8164.878378378378,9156.108108108108,7254.4324324324325,8294.5,10806.364864864865]],\"type\":\"heatmap\",\"xaxis\":\"x\",\"yaxis\":\"y\",\"hovertemplate\":\"Mixture: %{x}\\u003cbr\\u003eBatch: %{y}\\u003cbr\\u003ecolor: %{z}\\u003cextra\\u003e\\u003c\\u002fextra\\u003e\"}],                        {\"template\":{\"data\":{\"histogram2dcontour\":[{\"type\":\"histogram2dcontour\",\"colorbar\":{\"outlinewidth\":0,\"ticks\":\"\"},\"colorscale\":[[0.0,\"#0d0887\"],[0.1111111111111111,\"#46039f\"],[0.2222222222222222,\"#7201a8\"],[0.3333333333333333,\"#9c179e\"],[0.4444444444444444,\"#bd3786\"],[0.5555555555555556,\"#d8576b\"],[0.6666666666666666,\"#ed7953\"],[0.7777777777777778,\"#fb9f3a\"],[0.8888888888888888,\"#fdca26\"],[1.0,\"#f0f921\"]]}],\"choropleth\":[{\"type\":\"choropleth\",\"colorbar\":{\"outlinewidth\":0,\"ticks\":\"\"}}],\"histogram2d\":[{\"type\":\"histogram2d\",\"colorbar\":{\"outlinewidth\":0,\"ticks\":\"\"},\"colorscale\":[[0.0,\"#0d0887\"],[0.1111111111111111,\"#46039f\"],[0.2222222222222222,\"#7201a8\"],[0.3333333333333333,\"#9c179e\"],[0.4444444444444444,\"#bd3786\"],[0.5555555555555556,\"#d8576b\"],[0.6666666666666666,\"#ed7953\"],[0.7777777777777778,\"#fb9f3a\"],[0.8888888888888888,\"#fdca26\"],[1.0,\"#f0f921\"]]}],\"heatmap\":[{\"type\":\"heatmap\",\"colorbar\":{\"outlinewidth\":0,\"ticks\":\"\"},\"colorscale\":[[0.0,\"#0d0887\"],[0.1111111111111111,\"#46039f\"],[0.2222222222222222,\"#7201a8\"],[0.3333333333333333,\"#9c179e\"],[0.4444444444444444,\"#bd3786\"],[0.5555555555555556,\"#d8576b\"],[0.6666666666666666,\"#ed7953\"],[0.7777777777777778,\"#fb9f3a\"],[0.8888888888888888,\"#fdca26\"],[1.0,\"#f0f921\"]]}],\"heatmapgl\":[{\"type\":\"heatmapgl\",\"colorbar\":{\"outlinewidth\":0,\"ticks\":\"\"},\"colorscale\":[[0.0,\"#0d0887\"],[0.1111111111111111,\"#46039f\"],[0.2222222222222222,\"#7201a8\"],[0.3333333333333333,\"#9c179e\"],[0.4444444444444444,\"#bd3786\"],[0.5555555555555556,\"#d8576b\"],[0.6666666666666666,\"#ed7953\"],[0.7777777777777778,\"#fb9f3a\"],[0.8888888888888888,\"#fdca26\"],[1.0,\"#f0f921\"]]}],\"contourcarpet\":[{\"type\":\"contourcarpet\",\"colorbar\":{\"outlinewidth\":0,\"ticks\":\"\"}}],\"contour\":[{\"type\":\"contour\",\"colorbar\":{\"outlinewidth\":0,\"ticks\":\"\"},\"colorscale\":[[0.0,\"#0d0887\"],[0.1111111111111111,\"#46039f\"],[0.2222222222222222,\"#7201a8\"],[0.3333333333333333,\"#9c179e\"],[0.4444444444444444,\"#bd3786\"],[0.5555555555555556,\"#d8576b\"],[0.6666666666666666,\"#ed7953\"],[0.7777777777777778,\"#fb9f3a\"],[0.8888888888888888,\"#fdca26\"],[1.0,\"#f0f921\"]]}],\"surface\":[{\"type\":\"surface\",\"colorbar\":{\"outlinewidth\":0,\"ticks\":\"\"},\"colorscale\":[[0.0,\"#0d0887\"],[0.1111111111111111,\"#46039f\"],[0.2222222222222222,\"#7201a8\"],[0.3333333333333333,\"#9c179e\"],[0.4444444444444444,\"#bd3786\"],[0.5555555555555556,\"#d8576b\"],[0.6666666666666666,\"#ed7953\"],[0.7777777777777778,\"#fb9f3a\"],[0.8888888888888888,\"#fdca26\"],[1.0,\"#f0f921\"]]}],\"mesh3d\":[{\"type\":\"mesh3d\",\"colorbar\":{\"outlinewidth\":0,\"ticks\":\"\"}}],\"scatter\":[{\"fillpattern\":{\"fillmode\":\"overlay\",\"size\":10,\"solidity\":0.2},\"type\":\"scatter\"}],\"parcoords\":[{\"type\":\"parcoords\",\"line\":{\"colorbar\":{\"outlinewidth\":0,\"ticks\":\"\"}}}],\"scatterpolargl\":[{\"type\":\"scatterpolargl\",\"marker\":{\"colorbar\":{\"outlinewidth\":0,\"ticks\":\"\"}}}],\"bar\":[{\"error_x\":{\"color\":\"#2a3f5f\"},\"error_y\":{\"color\":\"#2a3f5f\"},\"marker\":{\"line\":{\"color\":\"#E5ECF6\",\"width\":0.5},\"pattern\":{\"fillmode\":\"overlay\",\"size\":10,\"solidity\":0.2}},\"type\":\"bar\"}],\"scattergeo\":[{\"type\":\"scattergeo\",\"marker\":{\"colorbar\":{\"outlinewidth\":0,\"ticks\":\"\"}}}],\"scatterpolar\":[{\"type\":\"scatterpolar\",\"marker\":{\"colorbar\":{\"outlinewidth\":0,\"ticks\":\"\"}}}],\"histogram\":[{\"marker\":{\"pattern\":{\"fillmode\":\"overlay\",\"size\":10,\"solidity\":0.2}},\"type\":\"histogram\"}],\"scattergl\":[{\"type\":\"scattergl\",\"marker\":{\"colorbar\":{\"outlinewidth\":0,\"ticks\":\"\"}}}],\"scatter3d\":[{\"type\":\"scatter3d\",\"line\":{\"colorbar\":{\"outlinewidth\":0,\"ticks\":\"\"}},\"marker\":{\"colorbar\":{\"outlinewidth\":0,\"ticks\":\"\"}}}],\"scattermapbox\":[{\"type\":\"scattermapbox\",\"marker\":{\"colorbar\":{\"outlinewidth\":0,\"ticks\":\"\"}}}],\"scatterternary\":[{\"type\":\"scatterternary\",\"marker\":{\"colorbar\":{\"outlinewidth\":0,\"ticks\":\"\"}}}],\"scattercarpet\":[{\"type\":\"scattercarpet\",\"marker\":{\"colorbar\":{\"outlinewidth\":0,\"ticks\":\"\"}}}],\"carpet\":[{\"aaxis\":{\"endlinecolor\":\"#2a3f5f\",\"gridcolor\":\"white\",\"linecolor\":\"white\",\"minorgridcolor\":\"white\",\"startlinecolor\":\"#2a3f5f\"},\"baxis\":{\"endlinecolor\":\"#2a3f5f\",\"gridcolor\":\"white\",\"linecolor\":\"white\",\"minorgridcolor\":\"white\",\"startlinecolor\":\"#2a3f5f\"},\"type\":\"carpet\"}],\"table\":[{\"cells\":{\"fill\":{\"color\":\"#EBF0F8\"},\"line\":{\"color\":\"white\"}},\"header\":{\"fill\":{\"color\":\"#C8D4E3\"},\"line\":{\"color\":\"white\"}},\"type\":\"table\"}],\"barpolar\":[{\"marker\":{\"line\":{\"color\":\"#E5ECF6\",\"width\":0.5},\"pattern\":{\"fillmode\":\"overlay\",\"size\":10,\"solidity\":0.2}},\"type\":\"barpolar\"}],\"pie\":[{\"automargin\":true,\"type\":\"pie\"}]},\"layout\":{\"autotypenumbers\":\"strict\",\"colorway\":[\"#636efa\",\"#EF553B\",\"#00cc96\",\"#ab63fa\",\"#FFA15A\",\"#19d3f3\",\"#FF6692\",\"#B6E880\",\"#FF97FF\",\"#FECB52\"],\"font\":{\"color\":\"#2a3f5f\"},\"hovermode\":\"closest\",\"hoverlabel\":{\"align\":\"left\"},\"paper_bgcolor\":\"white\",\"plot_bgcolor\":\"#E5ECF6\",\"polar\":{\"bgcolor\":\"#E5ECF6\",\"angularaxis\":{\"gridcolor\":\"white\",\"linecolor\":\"white\",\"ticks\":\"\"},\"radialaxis\":{\"gridcolor\":\"white\",\"linecolor\":\"white\",\"ticks\":\"\"}},\"ternary\":{\"bgcolor\":\"#E5ECF6\",\"aaxis\":{\"gridcolor\":\"white\",\"linecolor\":\"white\",\"ticks\":\"\"},\"baxis\":{\"gridcolor\":\"white\",\"linecolor\":\"white\",\"ticks\":\"\"},\"caxis\":{\"gridcolor\":\"white\",\"linecolor\":\"white\",\"ticks\":\"\"}},\"coloraxis\":{\"colorbar\":{\"outlinewidth\":0,\"ticks\":\"\"}},\"colorscale\":{\"sequential\":[[0.0,\"#0d0887\"],[0.1111111111111111,\"#46039f\"],[0.2222222222222222,\"#7201a8\"],[0.3333333333333333,\"#9c179e\"],[0.4444444444444444,\"#bd3786\"],[0.5555555555555556,\"#d8576b\"],[0.6666666666666666,\"#ed7953\"],[0.7777777777777778,\"#fb9f3a\"],[0.8888888888888888,\"#fdca26\"],[1.0,\"#f0f921\"]],\"sequentialminus\":[[0.0,\"#0d0887\"],[0.1111111111111111,\"#46039f\"],[0.2222222222222222,\"#7201a8\"],[0.3333333333333333,\"#9c179e\"],[0.4444444444444444,\"#bd3786\"],[0.5555555555555556,\"#d8576b\"],[0.6666666666666666,\"#ed7953\"],[0.7777777777777778,\"#fb9f3a\"],[0.8888888888888888,\"#fdca26\"],[1.0,\"#f0f921\"]],\"diverging\":[[0,\"#8e0152\"],[0.1,\"#c51b7d\"],[0.2,\"#de77ae\"],[0.3,\"#f1b6da\"],[0.4,\"#fde0ef\"],[0.5,\"#f7f7f7\"],[0.6,\"#e6f5d0\"],[0.7,\"#b8e186\"],[0.8,\"#7fbc41\"],[0.9,\"#4d9221\"],[1,\"#276419\"]]},\"xaxis\":{\"gridcolor\":\"white\",\"linecolor\":\"white\",\"ticks\":\"\",\"title\":{\"standoff\":15},\"zerolinecolor\":\"white\",\"automargin\":true,\"zerolinewidth\":2},\"yaxis\":{\"gridcolor\":\"white\",\"linecolor\":\"white\",\"ticks\":\"\",\"title\":{\"standoff\":15},\"zerolinecolor\":\"white\",\"automargin\":true,\"zerolinewidth\":2},\"scene\":{\"xaxis\":{\"backgroundcolor\":\"#E5ECF6\",\"gridcolor\":\"white\",\"linecolor\":\"white\",\"showbackground\":true,\"ticks\":\"\",\"zerolinecolor\":\"white\",\"gridwidth\":2},\"yaxis\":{\"backgroundcolor\":\"#E5ECF6\",\"gridcolor\":\"white\",\"linecolor\":\"white\",\"showbackground\":true,\"ticks\":\"\",\"zerolinecolor\":\"white\",\"gridwidth\":2},\"zaxis\":{\"backgroundcolor\":\"#E5ECF6\",\"gridcolor\":\"white\",\"linecolor\":\"white\",\"showbackground\":true,\"ticks\":\"\",\"zerolinecolor\":\"white\",\"gridwidth\":2}},\"shapedefaults\":{\"line\":{\"color\":\"#2a3f5f\"}},\"annotationdefaults\":{\"arrowcolor\":\"#2a3f5f\",\"arrowhead\":0,\"arrowwidth\":1},\"geo\":{\"bgcolor\":\"white\",\"landcolor\":\"#E5ECF6\",\"subunitcolor\":\"white\",\"showland\":true,\"showlakes\":true,\"lakecolor\":\"white\"},\"title\":{\"x\":0.05},\"mapbox\":{\"style\":\"light\"}}},\"xaxis\":{\"anchor\":\"y\",\"domain\":[0.0,1.0],\"scaleanchor\":\"y\",\"constrain\":\"domain\",\"title\":{\"text\":\"Mixture\"}},\"yaxis\":{\"anchor\":\"x\",\"domain\":[0.0,1.0],\"autorange\":\"reversed\",\"constrain\":\"domain\",\"title\":{\"text\":\"Batch\"}},\"coloraxis\":{\"colorscale\":[[0.0,\"#0d0887\"],[0.1111111111111111,\"#46039f\"],[0.2222222222222222,\"#7201a8\"],[0.3333333333333333,\"#9c179e\"],[0.4444444444444444,\"#bd3786\"],[0.5555555555555556,\"#d8576b\"],[0.6666666666666666,\"#ed7953\"],[0.7777777777777778,\"#fb9f3a\"],[0.8888888888888888,\"#fdca26\"],[1.0,\"#f0f921\"]]},\"title\":{\"text\":\"Normalized read counts heatmap\",\"y\":0.78}},                        {\"responsive\": true}                    ).then(function(){\n",
       "                            \n",
       "var gd = document.getElementById('98b6e2f6-5c17-4fd7-826e-5ff3891085f1');\n",
       "var x = new MutationObserver(function (mutations, observer) {{\n",
       "        var display = window.getComputedStyle(gd).display;\n",
       "        if (!display || display === 'none') {{\n",
       "            console.log([gd, 'removed!']);\n",
       "            Plotly.purge(gd);\n",
       "            observer.disconnect();\n",
       "        }}\n",
       "}});\n",
       "\n",
       "// Listen for the removal of the full notebook cells\n",
       "var notebookContainer = gd.closest('#notebook-container');\n",
       "if (notebookContainer) {{\n",
       "    x.observe(notebookContainer, {childList: true});\n",
       "}}\n",
       "\n",
       "// Listen for the clearing of the current output cell\n",
       "var outputEl = gd.closest('.output');\n",
       "if (outputEl) {{\n",
       "    x.observe(outputEl, {childList: true});\n",
       "}}\n",
       "\n",
       "                        })                };                });            </script>        </div>"
      ]
     },
     "metadata": {},
     "output_type": "display_data"
    }
   ],
   "source": [
    "fig2 = getHeatmap(df,\"normalized_read_counts\", title=\"Normalized read counts heatmap\", labels={\"y\":\"Batch\",\"x\":\"Mixture\"})\n",
    "pio.write_image(fig2, outdir / \"normalized_read_counts_heatmap.jpg\", width=1400, height=500, scale=2)\n",
    "fig2"
   ]
  }
 ],
 "metadata": {
  "kernelspec": {
   "display_name": "Python 3",
   "language": "python",
   "name": "python3"
  },
  "language_info": {
   "codemirror_mode": {
    "name": "ipython",
    "version": 3
   },
   "file_extension": ".py",
   "mimetype": "text/x-python",
   "name": "python",
   "nbconvert_exporter": "python",
   "pygments_lexer": "ipython3",
   "version": "3.10.14"
  }
 },
 "nbformat": 4,
 "nbformat_minor": 2
}
